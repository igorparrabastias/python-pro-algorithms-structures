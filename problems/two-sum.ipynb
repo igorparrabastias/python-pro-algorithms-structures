{
 "cells": [
  {
   "attachments": {},
   "cell_type": "markdown",
   "id": "62be7523",
   "metadata": {},
   "source": [
    "# Comprobar si el par con la suma dada existe en un array"
   ]
  },
  {
   "attachments": {},
   "cell_type": "markdown",
   "id": "46193f99",
   "metadata": {},
   "source": [
    "> Más conocido como: Two Sum  \n",
    "Algoritmo: Hashing  \n",
    "Complejidad del tiempo: O(N)  \n",
    "Complejidad del espacio: O(N)"
   ]
  },
  {
   "attachments": {},
   "cell_type": "markdown",
   "id": "27610e1d",
   "metadata": {},
   "source": [
    "## Problema\n",
    "Dado un array de números enteros y un número objetivo, el reto es encontrar los índices de dos números tal que sumen al objetivo. Se asume que habrá exactamente una solución para cada entrada y no se puede usar el mismo elemento más de una vez. Este problema pone a prueba nuestra habilidad para optimizar la búsqueda de pares que satisfagan una condición específica, haciendo uso eficiente del almacenamiento para acelerar la consulta.\n",
    "\n",
    "## Ejemplo"
   ]
  },
  {
   "attachments": {},
   "cell_type": "markdown",
   "id": "da0c63e9",
   "metadata": {},
   "source": [
    "```\n",
    "Array de entrada: [3, 8, 18, 22]\n",
    "Objetivo: 30\n",
    "\n",
    "      +---+---+----+----+\n",
    "      | 3 | 8 | 18 | 22 |\n",
    "      +---+---+----+----+\n",
    "        0   1    2    3\n",
    "\n",
    "Para el objetivo de 30, el par que suma el objetivo está en las posiciones 1 y 3 (8 + 22 = 30).\n",
    "\n",
    "Solución: [1, 3]\n",
    "```"
   ]
  },
  {
   "attachments": {},
   "cell_type": "markdown",
   "id": "3d3e5efb",
   "metadata": {},
   "source": [
    "## Solución\n",
    "La solución al problema de encontrar un par que sume un objetivo dado en un array se puede lograr eficientemente mediante el uso de una **tabla hash**. La idea es recorrer el array, y para cada elemento, comprobar si el complemento (objetivo - elemento actual) ya existe en la tabla hash. Si el complemento se encuentra, hemos encontrado un par cuya suma es igual al objetivo. Si no, insertamos el elemento actual en la tabla hash para futuras referencias.\n",
    "\n",
    "### Pseudocódigo"
   ]
  },
  {
   "attachments": {},
   "cell_type": "markdown",
   "id": "ca559cb8",
   "metadata": {},
   "source": [
    "```\n",
    "Inicio\n",
    "  Crear una tabla hash para almacenar los índices de los elementos\n",
    "  Para cada elemento en el array:\n",
    "    Si el complemento (objetivo - elemento actual) existe en la tabla:\n",
    "      Devolver el índice actual y el índice del complemento desde la tabla\n",
    "    Insertar el elemento actual en la tabla con su índice\n",
    "  Si no se encuentra ningún par, devolver un mensaje indicando que no hay solución\n",
    "Fin\n",
    "```"
   ]
  },
  {
   "attachments": {},
   "cell_type": "markdown",
   "id": "2869899b",
   "metadata": {},
   "source": [
    "### Implementación del Algoritmo"
   ]
  },
  {
   "cell_type": "code",
   "execution_count": 1,
   "id": "3f078730",
   "metadata": {},
   "outputs": [
    {
     "name": "stdout",
     "output_type": "stream",
     "text": [
      "Índices del par con suma dada: [1, 3]\n"
     ]
    }
   ],
   "source": [
    "def twoSum(nums, target):\n",
    "    \"\"\"\n",
    "    Encuentra dos números en nums que sumen target.\n",
    "    \"\"\"\n",
    "    # Diccionario para mapear el valor del número a su índice\n",
    "    hash_table = {}\n",
    "    for i, num in enumerate(nums):\n",
    "        complement = target - num\n",
    "        if complement in hash_table:\n",
    "            # Se ha encontrado un par, devolver sus índices\n",
    "            return [hash_table[complement], i]\n",
    "        # Guardar el índice del número actual en la tabla hash\n",
    "        hash_table[num] = i\n",
    "    # Si no se encuentra ningún par, lanzar una excepción o devolver None\n",
    "    return None\n",
    "\n",
    "# Ejemplo de uso\n",
    "array = [3, 8, 18, 22]\n",
    "target = 30\n",
    "print(\"Índices del par con suma dada:\", twoSum(array, target))"
   ]
  },
  {
   "attachments": {},
   "cell_type": "markdown",
   "id": "4842b320",
   "metadata": {},
   "source": [
    "### Explicación Paso a Paso\n",
    "- **Inicialización**: Se crea un diccionario `hash_table` para almacenar los valores de los elementos del array como claves y sus índices como valores.\n",
    "- **Iteración**: Recorremos el array `nums`. Para cada elemento, calculamos su complemento (`target - num`) y verificamos si este complemento ya existe en `hash_table`.\n",
    "    - Si el complemento existe, significa que hemos encontrado un par cuya suma es igual al objetivo. Devolvemos los índices de estos dos números.\n",
    "    - Si el complemento no existe, añadimos el elemento actual al `hash_table` con su índice como valor.\n",
    "- **Resultado**: La función devuelve los índices del par que suman el objetivo o None si tal par no existe.\n",
    "\n",
    "Continuando con la explicación:\n",
    "\n",
    "## Puntos clave\n",
    "- La solución utiliza una tabla hash para lograr una búsqueda rápida de complementos, permitiendo que la complejidad temporal sea O(N), donde N es el número de elementos en el array.\n",
    "- Al almacenar el índice de cada elemento junto con su valor, podemos devolver rápidamente los índices de los dos números requeridos sin necesidad de una segunda pasada por el array.\n",
    "- Es esencial comprender que la solución asume que hay exactamente una solución. Por lo tanto, no se contempla el caso de múltiples pares posibles.\n",
    "\n",
    "## Tracing\n",
    "\n",
    "Para el array `[3, 8, 18, 22]` y el objetivo `30`, el proceso de búsqueda es el siguiente:\n",
    "\n",
    "| Índice | Elemento | Complemento | Acción                                       |\n",
    "| ------ | -------- | ----------- | -------------------------------------------- |\n",
    "| 0      | 3        | 27          | 3 insertado en la tabla hash                 |\n",
    "| 1      | 8        | 22          | 8 insertado en la tabla hash                 |\n",
    "| 2      | 18       | 12          | 18 insertado en la tabla hash                |\n",
    "| 3      | 22       | 8           | 22 encontrado, complemento 8 existe en tabla |\n",
    "\n",
    "### Explicación de la Tabla:\n",
    "- Al llegar al índice 3 (elemento 22), calculamos su complemento como `30 - 22 = 8`.\n",
    "- Notamos que el complemento `8` ya existe en nuestra tabla hash (insertado cuando el índice era 1).\n",
    "- Por lo tanto, devolvemos los índices `[1, 3]` como la solución.\n",
    "\n",
    "## Complejidad\n",
    "- **Complejidad del tiempo**: O(N), ya que recorremos el array una sola vez y cada operación de inserción y búsqueda en la tabla hash se realiza en tiempo constante.\n",
    "- **Complejidad del espacio**: O(N), debido al uso de una tabla hash para almacenar hasta N elementos del array.\n",
    "\n",
    "## Nemotécnicos\n",
    "- **Parejas en una fiesta**: Imagina que estás en una fiesta donde cada persona lleva un número y debes encontrar a dos personas cuya suma de números sea igual a un número objetivo. La tabla hash es como tener una lista de invitados con sus números, lo que te permite encontrar rápidamente la pareja adecuada.\n",
    "\n",
    "## Ideas\n",
    "- Este enfoque puede extenderse para resolver problemas similares, como encontrar un trío de números que sumen a un objetivo, aumentando la complejidad del espacio pero manteniendo una eficiencia razonable.\n",
    "- También es útil en aplicaciones de la vida real donde se necesitan emparejamientos rápidos basados en sumas específicas, como en sistemas de pago, coincidencia de recursos, o en juegos donde se deben encontrar pares o combinaciones específicas bajo ciertas restricciones.\n",
    "\n",
    "## Anécdotas\n",
    "- El problema de \"Two Sum\" es uno de los ejercicios de codificación más populares y a menudo sirve como una introducción a técnicas de hashing y la importancia de la complejidad del tiempo de ejecución.\n",
    "\n",
    "## Resumen\n",
    "El problema de encontrar un par con una suma dada en un array se soluciona eficientemente utilizando una tabla hash, lo que permite realizar la búsqueda en tiempo lineal. Esta solución no solo es óptima en términos de complejidad de tiempo, sino que también es intuitiva, utilizando el concepto de buscar el complemento de cada elemento. La clave del éxito de este algoritmo radica en su capacidad para reducir el problema de búsqueda a una simple operación de inserción y búsqueda en una tabla hash, demostrando la potencia de las estructuras de datos adecuadas en la resolución de problemas computacionales."
   ]
  }
 ],
 "metadata": {
  "kernelspec": {
   "display_name": "Python 3",
   "language": "python",
   "name": "python3"
  },
  "language_info": {
   "codemirror_mode": {
    "name": "ipython",
    "version": 3
   },
   "file_extension": ".py",
   "mimetype": "text/x-python",
   "name": "python",
   "nbconvert_exporter": "python",
   "pygments_lexer": "ipython3",
   "version": "3.8.10"
  }
 },
 "nbformat": 4,
 "nbformat_minor": 5
}
