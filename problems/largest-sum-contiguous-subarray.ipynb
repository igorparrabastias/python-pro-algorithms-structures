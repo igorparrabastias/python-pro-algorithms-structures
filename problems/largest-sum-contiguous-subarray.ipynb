{
 "cells": [
  {
   "attachments": {},
   "cell_type": "markdown",
   "id": "189a2fc4",
   "metadata": {},
   "source": [
    "# Subconjunto contiguo de suma más grande"
   ]
  },
  {
   "attachments": {},
   "cell_type": "markdown",
   "id": "eb332f91",
   "metadata": {},
   "source": [
    "> Más conocido como: Largest Sum Contiguous Subarray  \n",
    "Algoritmo: Kadane’s Algorithm  \n",
    "Complejidad del tiempo: O(N)  \n",
    "Complejidad del espacio: O(1)"
   ]
  },
  {
   "attachments": {},
   "cell_type": "markdown",
   "id": "a71bda8c",
   "metadata": {},
   "source": [
    "## Problema\n",
    "Dada una matriz arr[] de tamaño N. La tarea es encontrar la suma de la submatriz contigua con la suma más grande.\n",
    "\n",
    "## Ejemplo"
   ]
  },
  {
   "attachments": {},
   "cell_type": "markdown",
   "id": "b78269a9",
   "metadata": {},
   "source": [
    "```\n",
    "Problema de la Subsecuencia Contigua de Suma Máxima\n",
    "\n",
    "      +---+----+---+----+---+----+---+\n",
    "      | 2 | -3 | 3 | -1 | 2 | -4 | 2 |\n",
    "      +---+----+---+----+---+----+---+\n",
    "        0   1    2    3   4    5   6\n",
    "\n",
    "La subsecuencia que proporciona la suma máxima está indicada por corchetes y es la siguiente:\n",
    "\n",
    "      +---+----+---+----+---+----+---+\n",
    "      |   |    |[3]|[ -1]|[ 2]|    |   |\n",
    "      +---+----+---+----+---+----+---+\n",
    "\n",
    "El cálculo de la suma de esta subsecuencia es el siguiente:\n",
    "\n",
    "3 + (-1) + 2 = 4\n",
    "\n",
    "Por lo tanto, la Suma Máxima de una Subsecuencia Contigua es 4.\n",
    "```"
   ]
  },
  {
   "attachments": {},
   "cell_type": "markdown",
   "id": "6bb3b6fa",
   "metadata": {},
   "source": [
    "## Solución\n",
    "\n",
    "Para resolver el problema del subconjunto contiguo de suma más grande, también conocido como el problema de la subsecuencia contigua de suma máxima, se puede utilizar el **algoritmo de Kadane**. Este algoritmo es eficiente y permite encontrar la máxima suma de una subsecuencia contigua en un arreglo en tiempo lineal.\n",
    "\n",
    "Aquí te dejo una explicación del algoritmo seguido de un ejemplo de código en Python:\n",
    "\n",
    "### Pseudocódigo"
   ]
  },
  {
   "attachments": {},
   "cell_type": "markdown",
   "id": "c23dc8c4",
   "metadata": {},
   "source": [
    "```\n",
    "Inicio\n",
    "    Si el arreglo está vacío:\n",
    "        Devolver 0\n",
    "\n",
    "    Definir max_hasta_ahora como el primer elemento del arreglo\n",
    "    Definir max_termina_aqui como el primer elemento del arreglo\n",
    "\n",
    "    Para cada elemento X en el arreglo empezando desde el segundo elemento:\n",
    "        max_termina_aqui = max(X, max_termina_aqui + X)\n",
    "        max_hasta_ahora = max(max_hasta_ahora, max_termina_aqui)\n",
    "\n",
    "    Devolver max_hasta_ahora\n",
    "Fin\n",
    "```"
   ]
  },
  {
   "attachments": {},
   "cell_type": "markdown",
   "id": "6de6adf1",
   "metadata": {},
   "source": [
    "### Implementación del Algoritmo de Kadane"
   ]
  },
  {
   "cell_type": "code",
   "execution_count": 1,
   "id": "0deaaf56",
   "metadata": {},
   "outputs": [
    {
     "name": "stdout",
     "output_type": "stream",
     "text": [
      "La suma máxima de subsecuencia contigua es 4\n"
     ]
    }
   ],
   "source": [
    "def maxSubArraySum(a):\n",
    "    if not a:  # Si el arreglo está vacío\n",
    "        return 0\n",
    "\n",
    "    max_hasta_ahora = a[0]\n",
    "    max_termina_aqui = a[0]\n",
    "    \n",
    "    for i in range(1, len(a)):\n",
    "        max_termina_aqui = max(a[i], max_termina_aqui + a[i])\n",
    "        max_hasta_ahora = max(max_hasta_ahora, max_termina_aqui)\n",
    "        \n",
    "    return max_hasta_ahora\n",
    "\n",
    "# Ejemplo de uso\n",
    "arr = [2, -3, 3, -1, 2, -4, 2]\n",
    "print(\"La suma máxima de subsecuencia contigua es\", maxSubArraySum(arr))"
   ]
  },
  {
   "attachments": {},
   "cell_type": "markdown",
   "id": "1dfa76bb",
   "metadata": {},
   "source": [
    "### Explicación Paso a Paso\n",
    "- Inicio con el Primer Elemento: Tanto el pseudocódigo como la implementación de Python comienzan explícitamente con el primer elemento del arreglo para inicializar max_hasta_ahora y max_termina_aqui. Esto refleja un enfoque práctico para manejar arreglos que comienzan con valores negativos o positivos.\n",
    "\n",
    "- Comparaciones Directas: La primera función `max` se utiliza para decidir si es mejor tomar el elemento actual por sí solo o agregarlo a la suma `max_termina_aqui` acumulada. Esta decisión se toma en cada paso del bucle.\n",
    "\n",
    "- Actualización de Máximos: Continuamente actualizamos `max_hasta_ahora` con el máximo entre el valor actual de `max_hasta_ahora` y `max_termina_aqui`. Esto asegura que siempre tengamos la suma máxima encontrada hasta el momento.\n",
    "\n",
    "## Tracing\n",
    "\n",
    "Para complementar la explicación y hacer el concepto aún más claro, aquí tienes un diagrama ASCII que muestra la evolución de las sumas para el arreglo dado \\([2, -3, 3, -1, 2, -4, 2]\\), utilizando el algoritmo de Kadane. Este diagrama se presenta en forma de tabla para ilustrar cómo cambian `max_termina_aqui` y `max_hasta_ahora` a medida que avanzamos a través del arreglo.\n",
    "\n",
    "| Índice | Elemento | max_termina_aqui | max_hasta_ahora |\n",
    "|--------|----------|------------------|-----------------|\n",
    "|   0    |    2     |        2         |        2        |\n",
    "|   1    |   -3     |        2         |        2        |\n",
    "|   2    |    3     |        3         |        3        |\n",
    "|   3    |   -1     |        2         |        3        |\n",
    "|   4    |    2     |        4         |        4        |\n",
    "|   5    |   -4     |        0         |        4        |\n",
    "|   6    |    2     |        2         |        4        |\n",
    "\n",
    "### Explicación de la Tabla:\n",
    "- **Índice**: La posición del elemento actual en el arreglo.\n",
    "- **Elemento**: El valor del elemento en el arreglo en la posición actual.\n",
    "- **max_termina_aqui**: La suma máxima de la subsecuencia contigua que termina en el elemento actual. Se calcula tomando el máximo entre el elemento actual y la suma de `max_termina_aqui` más el elemento actual. Si esta suma es menor que el elemento actual, se \"reinicia\" tomando el valor del elemento actual.\n",
    "- **max_hasta_ahora**: La suma máxima encontrada en cualquier subsecuencia contigua hasta el momento. Se actualiza si `max_termina_aqui` es mayor que `max_hasta_ahora`.\n",
    "\n",
    "Este diagrama ilustra cómo el algoritmo evalúa cada elemento del arreglo para determinar si contribuye a aumentar la suma de la subsecuencia contigua más grande encontrada hasta el momento, o si es más ventajoso \"reiniciar\" en el elemento actual debido a una suma negativa previa. La clave para entender este algoritmo es observar cómo se toman decisiones en cada paso para optimizar el resultado final, manteniendo la flexibilidad para adaptarse a los valores del arreglo.\n",
    "\n",
    "## Complejidad\n",
    "\n",
    "- `Complejidad del tiempo: O(N)`\n",
    "  La complejidad del tiempo del algoritmo de Kadane es O(n), donde (n) es el número de elementos en el array de entrada. Esto se debe a que el algoritmo recorre el array una sola vez, calculando la suma máxima de subarrays contiguos en un paso lineal.\n",
    "\n",
    "- `Complejidad del espacio: O(1)`\n",
    "  En cuanto a la complejidad del espacio, el algoritmo de Kadane necesita un espacio constante O(1), ya que solo requiere un número fijo de variables para almacenar la suma máxima actual, la suma máxima final y posiblemente el inicio y el final de la subsecuencia.\n",
    "\n",
    "En resumen, Kadane's es muy eficiente tanto en tiempo como en espacio, lo que lo hace ideal para problemas de suma de subarrays contiguos en la práctica.\n",
    "\n",
    "## Nemotécnicos y Didácticos\n",
    "- **Imagínate como un \"recolector de tesoros\"**: Al recorrer el arreglo, piensa en ti mismo como un explorador que recoge tesoros (valores positivos) y evita trampas (valores negativos). `max_termina_aqui` representa tu bolsa actual de tesoros, mientras que `max_hasta_ahora` es la mejor bolsa de tesoros que has logrado recoger en tu viaje.\n",
    "\n",
    "- **El \"reset\" esencial**: La idea de resetear `max_termina_aqui` a 0 cuando se vuelve negativo es como tener la habilidad de \"teletransportarte\" fuera de una situación peligrosa (secuencia de números negativos) y empezar de nuevo desde una posición más favorable. Este \"reset\" asegura que solo conservamos la colección de tesoros que nos beneficia.\n",
    "\n",
    "- **Visualización con \"termómetros\"**: Puedes visualizar `max_hasta_ahora` y `max_termina_aqui` como dos termómetros. `max_termina_aqui` sube o baja con cada elemento del arreglo, mientras que `max_hasta_ahora` solo registra la temperatura máxima alcanzada. Este enfoque ayuda a entender cómo seguimos la \"temperatura\" (suma de valores) más alta a lo largo del arreglo.\n",
    "\n",
    "## Ideas\n",
    "- **Aplicaciones en la vida real**: Imagina que estás invirtiendo en el mercado de valores, donde los números positivos representan ganancias y los negativos, pérdidas. Este algoritmo te ayudaría a identificar el período continuo en el que deberías haber invertido para maximizar tu retorno. Aquí, \"comprar\" al inicio de la subsecuencia máxima y \"vender\" al final.\n",
    "\n",
    "- **Optimización de recursos**: En términos de optimización y gestión de recursos, el algoritmo de Kadane es un excelente ejemplo de cómo hacer más con menos. No necesitamos memorizar todo el arreglo ni recurrir a soluciones complejas; con un seguimiento sencillo y eficiente de los \"picos\" y \"valles\" en nuestros datos, podemos alcanzar una solución óptima.\n",
    "\n",
    "## Anécdotas\n",
    "- **Historia de Kadane**: Aunque el algoritmo lleva el nombre de Joseph Kadane, quien lo popularizó en la década de 1980, su concepto básico fue descrito por primera vez por Ulf Grenander de la Universidad de Brown en un seminario. Esto nos enseña cómo la colaboración y la comunicación en la comunidad científica pueden llevar a la evolución y mejora de las ideas.\n",
    "\n",
    "- **Lección de humildad**: Este algoritmo también es un recordatorio de que, en la ciencia de la computación, las soluciones más poderosas a menudo provienen de ideas simples y elegantes. A veces, tendemos a complicar los problemas buscando soluciones sofisticadas cuando, de hecho, una aproximación más directa y sencilla podría ser suficiente."
   ]
  }
 ],
 "metadata": {
  "kernelspec": {
   "display_name": "Python 3",
   "language": "python",
   "name": "python3"
  },
  "language_info": {
   "codemirror_mode": {
    "name": "ipython",
    "version": 3
   },
   "file_extension": ".py",
   "mimetype": "text/x-python",
   "name": "python",
   "nbconvert_exporter": "python",
   "pygments_lexer": "ipython3",
   "version": "3.8.10"
  }
 },
 "nbformat": 4,
 "nbformat_minor": 5
}
