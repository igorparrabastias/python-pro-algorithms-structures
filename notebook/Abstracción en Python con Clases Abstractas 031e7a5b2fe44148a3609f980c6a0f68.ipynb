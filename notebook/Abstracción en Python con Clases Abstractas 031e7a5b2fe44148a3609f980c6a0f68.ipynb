{
 "cells": [
  {
   "cell_type": "markdown",
   "id": "4528a910",
   "metadata": {},
   "source": [
    "# Abstracción en Python con Clases Abstractas\n",
    "\n",
    "### Introducción:\n",
    "\n",
    "La abstracción es un principio fundamental de la programación orientada a objetos. En Python, se puede lograr utilizando clases abstractas, que definen una especie de \"contrato\" para otras clases. Vamos a profundizar en cómo implementar y utilizar clases abstractas para crear una jerarquía de clases que sigan un patrón común.\n",
    "\n",
    "### Creación de una Clase Abstracta `Vehicle`:\n",
    "\n",
    "En el código proporcionado, `Vehicle` es una clase abstracta que define un método abstracto `display_info`. Este método deberá ser implementado por cualquier subclase que herede de `Vehicle`."
   ]
  },
  {
   "cell_type": "code",
   "execution_count": null,
   "id": "f0bd25d7",
   "metadata": {},
   "outputs": [],
   "source": [
    "from abc import ABC, abstractmethod\n",
    "\n",
    "class Vehicle(ABC):\n",
    "    @abstractmethod\n",
    "    def display_info(self):\n",
    "        pass\n"
   ]
  },
  {
   "cell_type": "markdown",
   "id": "c2dd8a9f",
   "metadata": {},
   "source": [
    "### Implementación de Subclases:\n",
    "\n",
    "Vamos a crear subclases de `Vehicle`, como `Car` y `Motorcycle`, que implementen el método `display_info`."
   ]
  },
  {
   "cell_type": "code",
   "execution_count": null,
   "id": "e81d9dde",
   "metadata": {},
   "outputs": [],
   "source": [
    "class Car(Vehicle):\n",
    "    def __init__(self, make, model):\n",
    "        self.make = make\n",
    "        self.model = model\n",
    "\n",
    "    def display_info(self):\n",
    "        print(f\"Carro: Marca {self.make}, Modelo {self.model}\")\n",
    "\n",
    "class Motorcycle(Vehicle):\n",
    "    def __init__(self, make, model):\n",
    "        self.make = make\n",
    "        self.model = model\n",
    "\n",
    "    def display_info(self):\n",
    "        print(f\"Motocicleta: Marca {self.make}, Modelo {self.model}\")\n"
   ]
  },
  {
   "cell_type": "markdown",
   "id": "d7757ebe",
   "metadata": {},
   "source": [
    "### Uso de las Subclases:\n",
    "\n",
    "Ahora podemos crear instancias de `Car` y `Motorcycle` y llamar al método `display_info` en cada una de ellas."
   ]
  },
  {
   "cell_type": "code",
   "execution_count": null,
   "id": "b8540f25",
   "metadata": {},
   "outputs": [],
   "source": [
    "mi_auto = Car(\"Toyota\", \"Corolla\")\n",
    "mi_moto = Motorcycle(\"Harley Davidson\", \"Street 750\")\n",
    "\n",
    "mi_auto.display_info()  # Muestra la información del carro\n",
    "mi_moto.display_info()  # Muestra la información de la motocicleta\n"
   ]
  },
  {
   "cell_type": "markdown",
   "id": "8ee67c6a",
   "metadata": {},
   "source": [
    "### Conclusión:\n",
    "\n",
    "La abstracción en Python, a través de clases abstractas, obliga a las subclases a implementar métodos definidos en la clase base abstracta, asegurando así una interfaz consistente. Este enfoque es útil en situaciones donde se requiere que diferentes tipos de objetos implementen un conjunto común de métodos, promoviendo la consistencia y la reutilización del código.\n",
    "\n",
    "### Ejercicios:\n",
    "\n",
    "1. **Clase Abstracta `Shape`**: Define una clase abstracta `Shape` con un método abstracto `calculate_area`. Implementa subclases como `Circle` y `Square` que calculen sus respectivas áreas.\n",
    "2. **Abstracción en Sistema de Gestión**: Crea una clase abstracta `Employee` con métodos abstractos para `calculate_salary` y `display_details`. Implementa subclases para diferentes tipos de empleados.\n",
    "3. **Interfaz para Dispositivos Electrónicos**: Diseña una clase abstracta `ElectronicDevice` con métodos abstractos `turn_on` y `turn_off`. Implementa subclases como `Television` y `Smartphone`."
   ]
  }
 ],
 "metadata": {},
 "nbformat": 4,
 "nbformat_minor": 5
}
