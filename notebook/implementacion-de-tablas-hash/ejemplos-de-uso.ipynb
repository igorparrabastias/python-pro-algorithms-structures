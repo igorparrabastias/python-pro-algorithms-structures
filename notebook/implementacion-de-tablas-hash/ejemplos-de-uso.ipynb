{
  "cells": [
    {
      "cell_type": "markdown",
      "id": "4f0ea80a",
      "metadata": {},
      "source": [
        "# Ejemplos de uso\n",
        "\n",
        "1. **Almacenamiento de preferencias de usuario**:\n",
        "Guarda configuraciones espec\u00edficas para cada usuario por medio de su identificador \u00fanico."
      ]
    },
    {
      "cell_type": "code",
      "execution_count": null,
      "id": "e0db29bf",
      "metadata": {},
      "outputs": [],
      "source": [
        "preferencias_usuario = {'usuario1': {'tema': 'oscuro', 'idioma': 'es'}, 'usuario2': {'tema': 'claro', 'idioma': 'en'}}"
      ]
    },
    {
      "cell_type": "markdown",
      "id": "764b6fa7",
      "metadata": {},
      "source": [
        "2. **Cach\u00e9 de resultados de funciones (Memoizaci\u00f3n)**:\n",
        "Almacena los resultados de funciones costosas para evitar c\u00e1lculos repetidos."
      ]
    },
    {
      "cell_type": "code",
      "execution_count": null,
      "id": "a0225b96",
      "metadata": {},
      "outputs": [],
      "source": [
        "def factorial(n, cache={}):\n",
        "    if n in cache:\n",
        "        return cache[n]\n",
        "    else:\n",
        "        cache[n] = 1 if n == 0 else n * factorial(n - 1)\n",
        "        return cache[n]"
      ]
    },
    {
      "cell_type": "markdown",
      "id": "7f22fa8d",
      "metadata": {},
      "source": [
        "3. **Conteo de elementos**:\n",
        "Cuenta la frecuencia de cada elemento en una colecci\u00f3n."
      ]
    },
    {
      "cell_type": "code",
      "execution_count": null,
      "id": "8b886042",
      "metadata": {},
      "outputs": [],
      "source": [
        "elementos = ['manzana', 'banana', 'manzana', 'naranja', 'banana', 'manzana']\n",
        "conteo = {x: elementos.count(x) for x in elementos}"
      ]
    },
    {
      "cell_type": "markdown",
      "id": "51d012f6",
      "metadata": {},
      "source": [
        "4. **Implementar tablas de s\u00edmbolos en compiladores**:\n",
        "Mantiene un seguimiento de identificadores y atributos en un compilador."
      ]
    },
    {
      "cell_type": "code",
      "execution_count": null,
      "id": "6a9d25a8",
      "metadata": {},
      "outputs": [],
      "source": [
        "tabla_simbolos = {'variable1': {'tipo': 'entero', 'valor': 10}, 'funcion1': {'tipo_retorno': 'void', 'parametros': None}}"
      ]
    },
    {
      "cell_type": "markdown",
      "id": "0cf8d4fa",
      "metadata": {},
      "source": [
        "5. **Conjuntos de datos \u00fanicos**:\n",
        "Mantiene un registro de elementos sin duplicados y permite la verificaci\u00f3n r\u00e1pida de su existencia."
      ]
    },
    {
      "cell_type": "code",
      "execution_count": null,
      "id": "73aa89b7",
      "metadata": {},
      "outputs": [],
      "source": [
        "datos_unicos = set(['manzana', 'banana', 'naranja'])"
      ]
    },
    {
      "cell_type": "markdown",
      "id": "fbab7dfa",
      "metadata": {},
      "source": [
        "Cada uno de estos c\u00f3digos ilustra c\u00f3mo se pueden utilizar los diccionarios y conjuntos de Python, que son implementaciones de tablas hash, para realizar diferentes tareas relacionadas con la gesti\u00f3n de datos."
      ]
    }
  ],
  "metadata": {},
  "nbformat": 4,
  "nbformat_minor": 5
}