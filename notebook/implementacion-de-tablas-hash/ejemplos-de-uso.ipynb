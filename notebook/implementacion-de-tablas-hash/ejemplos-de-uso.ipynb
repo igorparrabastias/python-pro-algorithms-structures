{
  "cells": [
    {
      "cell_type": "markdown",
      "id": "9d3705dc",
      "metadata": {},
      "source": [
        "# Ejemplos de uso\n",
        "\n",
        "1. **Almacenamiento de preferencias de usuario**:\n",
        "Guarda configuraciones espec\u00edficas para cada usuario por medio de su identificador \u00fanico."
      ]
    },
    {
      "cell_type": "code",
      "execution_count": null,
      "id": "5c5c48f5",
      "metadata": {},
      "outputs": [],
      "source": [
        "preferencias_usuario = {'usuario1': {'tema': 'oscuro', 'idioma': 'es'}, 'usuario2': {'tema': 'claro', 'idioma': 'en'}}"
      ]
    },
    {
      "cell_type": "markdown",
      "id": "0dc36804",
      "metadata": {},
      "source": [
        "2. **Cach\u00e9 de resultados de funciones (Memoizaci\u00f3n)**:\n",
        "Almacena los resultados de funciones costosas para evitar c\u00e1lculos repetidos."
      ]
    },
    {
      "cell_type": "code",
      "execution_count": null,
      "id": "f79eac30",
      "metadata": {},
      "outputs": [],
      "source": [
        "def factorial(n, cache={}):\n",
        "    if n in cache:\n",
        "        return cache[n]\n",
        "    else:\n",
        "        cache[n] = 1 if n == 0 else n * factorial(n - 1)\n",
        "        return cache[n]"
      ]
    },
    {
      "cell_type": "markdown",
      "id": "29e13af4",
      "metadata": {},
      "source": [
        "3. **Conteo de elementos**:\n",
        "Cuenta la frecuencia de cada elemento en una colecci\u00f3n."
      ]
    },
    {
      "cell_type": "code",
      "execution_count": null,
      "id": "be2437e9",
      "metadata": {},
      "outputs": [],
      "source": [
        "elementos = ['manzana', 'banana', 'manzana', 'naranja', 'banana', 'manzana']\n",
        "conteo = {x: elementos.count(x) for x in elementos}"
      ]
    },
    {
      "cell_type": "markdown",
      "id": "87c7ba90",
      "metadata": {},
      "source": [
        "4. **Implementar tablas de s\u00edmbolos en compiladores**:\n",
        "Mantiene un seguimiento de identificadores y atributos en un compilador."
      ]
    },
    {
      "cell_type": "code",
      "execution_count": null,
      "id": "a505e595",
      "metadata": {},
      "outputs": [],
      "source": [
        "tabla_simbolos = {'variable1': {'tipo': 'entero', 'valor': 10}, 'funcion1': {'tipo_retorno': 'void', 'parametros': None}}"
      ]
    },
    {
      "cell_type": "markdown",
      "id": "dea13b90",
      "metadata": {},
      "source": [
        "5. **Conjuntos de datos \u00fanicos**:\n",
        "Mantiene un registro de elementos sin duplicados y permite la verificaci\u00f3n r\u00e1pida de su existencia."
      ]
    },
    {
      "cell_type": "code",
      "execution_count": null,
      "id": "13bbf679",
      "metadata": {},
      "outputs": [],
      "source": [
        "datos_unicos = set(['manzana', 'banana', 'naranja'])"
      ]
    },
    {
      "cell_type": "markdown",
      "id": "5054cdda",
      "metadata": {},
      "source": [
        "Cada uno de estos c\u00f3digos ilustra c\u00f3mo se pueden utilizar los diccionarios y conjuntos de Python, que son implementaciones de tablas hash, para realizar diferentes tareas relacionadas con la gesti\u00f3n de datos."
      ]
    }
  ],
  "metadata": {},
  "nbformat": 4,
  "nbformat_minor": 5
}