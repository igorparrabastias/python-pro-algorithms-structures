{
 "cells": [
  {
   "cell_type": "markdown",
   "id": "1785219d",
   "metadata": {},
   "source": [
    "# Caso de uso: Implementar Linear Probing\n",
    "\n",
    "### Objetivo:\n",
    "\n",
    "Crear e implementar una tabla hash que use linear probing para manejar colisiones.\n",
    "\n",
    "### Solución:\n",
    "\n",
    "```python\n",
    "class LinearProbingHashTable:\n",
    "    def __init__(self, size):\n",
    "        self.size = size\n",
    "        self.table = [None] * size"
   ]
  },
  {
   "cell_type": "code",
   "execution_count": null,
   "id": "6e88718c",
   "metadata": {},
   "outputs": [],
   "source": [
    "def hash_function(self, key):\n",
    "    return hash(key) % self.size\n",
    "\n",
    "def insert(self, key, value):\n",
    "    index = self.hash_function(key)\n",
    "    original_index = index\n",
    "\n",
    "    while self.table[index] is not None:\n",
    "        if self.table[index][0] == key:\n",
    "            self.table[index] = (key, value)  # Actualizar valor existente\n",
    "            return\n",
    "        index = (index + 1) % self.size\n",
    "        if index == original_index:\n",
    "            raise Exception(\"Tabla hash llena\")\n",
    "\n",
    "    self.table[index] = (key, value)\n",
    "\n",
    "def get(self, key):\n",
    "    index = self.hash_function(key)\n",
    "    original_index = index\n",
    "\n",
    "    while self.table[index] is not None:\n",
    "        if self.table[index][0] == key:\n",
    "            return self.table[index][1]\n",
    "        index = (index + 1) % self.size\n",
    "        if index == original_index:\n",
    "            break\n",
    "\n",
    "    return None"
   ]
  },
  {
   "cell_type": "markdown",
   "id": "b03db4c0",
   "metadata": {},
   "source": [
    "# Prueba de la tabla hash con linear probing\n",
    "hash_table = LinearProbingHashTable(10)\n",
    "hash_table.insert(\"clave1\", \"valor1\")\n",
    "hash_table.insert(\"clave2\", \"valor2\")\n",
    "print(hash_table.get(\"clave1\"))  # Salida: valor1\n",
    "print(hash_table.get(\"clave2\"))  # Salida: valor2\n",
    "\n",
    "```"
   ]
  }
 ],
 "metadata": {},
 "nbformat": 4,
 "nbformat_minor": 5
}
