{
  "cells": [
    {
      "cell_type": "markdown",
      "id": "5cc479ee",
      "metadata": {},
      "source": [
        "# Ejercicios avanzados 1 a 5\n",
        "\n",
        "### Ejercicio 1: Rotar una Lista\n",
        "\n",
        "Rotar los elementos de una lista `n` posiciones hacia la derecha."
      ]
    },
    {
      "cell_type": "code",
      "execution_count": null,
      "id": "606901c8",
      "metadata": {},
      "outputs": [],
      "source": [
        "# Ejercicio\n",
        "def rotar_lista(lista, n):\n",
        "    n = n % len(lista)\n",
        "    return lista[-n:] + lista[:-n]\n",
        "\n",
        "# Soluci\u00f3n\n",
        "rotar_lista([1, 2, 3, 4, 5], 2)  # [4, 5, 1, 2, 3]"
      ]
    },
    {
      "cell_type": "markdown",
      "id": "2cfc817b",
      "metadata": {},
      "source": [
        "### Ejercicio 2: Listas Entrelazadas\n",
        "\n",
        "Crear una nueva lista entrelazando dos listas dadas de igual longitud."
      ]
    },
    {
      "cell_type": "code",
      "execution_count": null,
      "id": "3a2a03d6",
      "metadata": {},
      "outputs": [],
      "source": [
        "# Ejercicio\n",
        "def entrelazar_listas(lista1, lista2):\n",
        "    return [val for par in zip(lista1, lista2) for val in par]\n",
        "\n",
        "# Soluci\u00f3n\n",
        "entrelazar_listas([1, 3, 5], [2, 4, 6])  # [1, 2, 3, 4, 5, 6]"
      ]
    },
    {
      "cell_type": "markdown",
      "id": "660672a9",
      "metadata": {},
      "source": [
        "### Ejercicio 3: Encontrar Subconjuntos\n",
        "\n",
        "Encontrar todos los subconjuntos posibles de una lista."
      ]
    },
    {
      "cell_type": "code",
      "execution_count": null,
      "id": "55922cb9",
      "metadata": {},
      "outputs": [],
      "source": [
        "# Ejercicio\n",
        "def subconjuntos(lista):\n",
        "    subconj = [[]]\n",
        "    for elem in lista:\n",
        "        subconj += [s + [elem] for s in subconj]\n",
        "    return subconj\n",
        "\n",
        "# Soluci\u00f3n\n",
        "subconjuntos([1, 2, 3])  # [[], [1], [2], [1, 2], [3], [1, 3], [2, 3], [1, 2, 3]]"
      ]
    },
    {
      "cell_type": "markdown",
      "id": "44d9b3d0",
      "metadata": {},
      "source": [
        "### Ejercicio 4: Combinar Listas Ordenadas\n",
        "\n",
        "Combinar dos listas ordenadas en una sola lista ordenada."
      ]
    },
    {
      "cell_type": "code",
      "execution_count": null,
      "id": "a1a20a41",
      "metadata": {},
      "outputs": [],
      "source": [
        "# Ejercicio\n",
        "def combinar_ordenadas(lista1, lista2):\n",
        "    i, j = 0, 0\n",
        "    resultado = []\n",
        "    while i < len(lista1) and j < len(lista2):\n",
        "        if lista1[i] < lista2[j]:\n",
        "            resultado.append(lista1[i])\n",
        "            i += 1\n",
        "        else:\n",
        "            resultado.append(lista2[j])\n",
        "            j += 1\n",
        "    resultado += lista1[i:] + lista2[j:]\n",
        "    return resultado\n",
        "\n",
        "# Soluci\u00f3n\n",
        "combinar_ordenadas([1, 3, 5], [2, 4, 6])  # [1, 2, 3, 4, 5, 6]"
      ]
    },
    {
      "cell_type": "markdown",
      "id": "14b00209",
      "metadata": {},
      "source": [
        "### Ejercicio 5: Diferencia de Listas\n",
        "\n",
        "Crear una funci\u00f3n que devuelva los elementos de la primera lista que no est\u00e1n en la segunda."
      ]
    },
    {
      "cell_type": "code",
      "execution_count": null,
      "id": "313e3c9f",
      "metadata": {},
      "outputs": [],
      "source": [
        "# Ejercicio\n",
        "def diferencia_listas(lista1, lista2):\n",
        "    return [x for x in lista1 if x not in lista2]\n",
        "\n",
        "# Soluci\u00f3n\n",
        "diferencia_listas([1, 2, 3, 4], [2, 4])  # [1, 3]"
      ]
    },
    {
      "cell_type": "markdown",
      "id": "47afb39e",
      "metadata": {},
      "source": [
        "Estos ejercicios representan desaf\u00edos m\u00e1s avanzados en el trabajo con listas, ayudando a desarrollar una comprensi\u00f3n m\u00e1s profunda de las estructuras de datos y algoritmos en Python. Practicar con estos ejercicios puede mejorar significativamente tus habilidades de programaci\u00f3n y tu capacidad para resolver problemas complejos."
      ]
    }
  ],
  "metadata": {},
  "nbformat": 4,
  "nbformat_minor": 5
}