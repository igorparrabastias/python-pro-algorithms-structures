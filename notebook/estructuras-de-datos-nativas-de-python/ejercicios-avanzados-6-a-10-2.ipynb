{
  "cells": [
    {
      "cell_type": "markdown",
      "id": "3fc4bfca",
      "metadata": {},
      "source": [
        "# Ejercicios avanzados 6 a 10\n",
        "\n",
        "### Ejercicio 6: Tupla de Objetos \u00danicos\n",
        "\n",
        "Dada una lista con elementos duplicados, crea una tupla que contenga solo elementos \u00fanicos de esa lista."
      ]
    },
    {
      "cell_type": "code",
      "execution_count": null,
      "id": "e573ff02",
      "metadata": {},
      "outputs": [],
      "source": [
        "# Ejercicio\n",
        "lista = [1, 2, 2, 3, 4, 4, 5]\n",
        "tupla_unicos = tuple(set(lista))\n",
        "\n",
        "# Soluci\u00f3n\n",
        "# tupla_unicos = (1, 2, 3, 4, 5)"
      ]
    },
    {
      "cell_type": "markdown",
      "id": "4372ce2e",
      "metadata": {},
      "source": [
        "### Ejercicio 7: Concatenaci\u00f3n de Tuplas con Condicionales\n",
        "\n",
        "Dada dos tuplas, concatena solo los elementos mayores que 5 de ambas tuplas en una nueva tupla."
      ]
    },
    {
      "cell_type": "code",
      "execution_count": null,
      "id": "0dfd69f3",
      "metadata": {},
      "outputs": [],
      "source": [
        "# Ejercicio\n",
        "tupla1 = (6, 7, 3, 4)\n",
        "tupla2 = (5, 8, 2)\n",
        "tupla_concatenada = tuple(x for x in tupla1 + tupla2 if x > 5)\n",
        "\n",
        "# Soluci\u00f3n\n",
        "# tupla_concatenada = (6, 7, 8)"
      ]
    },
    {
      "cell_type": "markdown",
      "id": "4cb5635b",
      "metadata": {},
      "source": [
        "### Ejercicio 8: Tupla de Tuplas con Elementos Alternos\n",
        "\n",
        "Crea una tupla de tuplas, donde cada tupla interna contiene elementos alternos de dos tuplas dadas."
      ]
    },
    {
      "cell_type": "code",
      "execution_count": null,
      "id": "7b74a88c",
      "metadata": {},
      "outputs": [],
      "source": [
        "# Ejercicio\n",
        "tupla1 = (1, 2, 3)\n",
        "tupla2 = (4, 5, 6)\n",
        "tupla_alternada = tuple((tupla1[i], tupla2[i]) for i in range(len(tupla1)))\n",
        "\n",
        "# Soluci\u00f3n\n",
        "# tupla_alternada = ((1, 4), (2, 5), (3, 6))"
      ]
    },
    {
      "cell_type": "markdown",
      "id": "001fcc68",
      "metadata": {},
      "source": [
        "### Ejercicio 9: Inversi\u00f3n de Tupla\n",
        "\n",
        "Dada una tupla, invierte su orden."
      ]
    },
    {
      "cell_type": "code",
      "execution_count": null,
      "id": "b4e8b9c8",
      "metadata": {},
      "outputs": [],
      "source": [
        "# Ejercicio\n",
        "tupla = (1, 2, 3, 4, 5)\n",
        "tupla_invertida = tupla[::-1]\n",
        "\n",
        "# Soluci\u00f3n\n",
        "# tupla_invertida = (5, 4, 3, 2, 1)"
      ]
    },
    {
      "cell_type": "markdown",
      "id": "efe0aac0",
      "metadata": {},
      "source": [
        "### Ejercicio 10: Tuplas a Diccionario Anidado\n",
        "\n",
        "Dada una lista de tuplas, donde cada tupla contiene un par clave-valor, convierte esta lista en un diccionario anidado. El primer elemento de cada tupla ser\u00e1 la clave del diccionario principal, y el segundo elemento ser\u00e1 otro diccionario con un par clave-valor predeterminado."
      ]
    },
    {
      "cell_type": "code",
      "execution_count": null,
      "id": "e72ca80e",
      "metadata": {},
      "outputs": [],
      "source": [
        "# Ejercicio\n",
        "lista_tuplas = [(\"a\", 1), (\"b\", 2), (\"c\", 3)]\n",
        "diccionario_anidado = {k: {'valor': v} for k, v in lista_tuplas}\n",
        "\n",
        "# Soluci\u00f3n\n",
        "# diccionario_anidado = {'a': {'valor': 1}, 'b': {'valor': 2}, 'c': {'valor': 3}}"
      ]
    },
    {
      "cell_type": "markdown",
      "id": "545c92f9",
      "metadata": {},
      "source": [
        "Estos ejercicios avanzados desaf\u00edan tu comprensi\u00f3n y habilidad para manipular tuplas en Python, abordando desde operaciones b\u00e1sicas hasta la creaci\u00f3n de estructuras de datos m\u00e1s complejas. Practicar con estos problemas te ayudar\u00e1 a ganar confianza en el manejo de tuplas en diferentes contextos de programaci\u00f3n."
      ]
    }
  ],
  "metadata": {},
  "nbformat": 4,
  "nbformat_minor": 5
}