{
  "cells": [
    {
      "attachments": {},
      "cell_type": "markdown",
      "id": "3fc4bfca",
      "metadata": {},
      "source": [
        "# Ejercicios avanzados 6 a 10\n",
        "\n",
        "### Ejercicio 6: Tupla de Objetos Únicos\n",
        "\n",
        "Dada una lista con elementos duplicados, crea una tupla que contenga solo elementos únicos de esa lista."
      ]
    },
    {
      "cell_type": "code",
      "execution_count": 1,
      "id": "e573ff02",
      "metadata": {},
      "outputs": [],
      "source": [
        "# Ejercicio\n",
        "lista = [1, 2, 2, 3, 4, 4, 5]\n",
        "tupla_unicos = tuple(set(lista))\n",
        "\n",
        "# Solución\n",
        "# tupla_unicos = (1, 2, 3, 4, 5)"
      ]
    },
    {
      "attachments": {},
      "cell_type": "markdown",
      "id": "4372ce2e",
      "metadata": {},
      "source": [
        "### Ejercicio 7: Concatenación de Tuplas con Condicionales\n",
        "\n",
        "Dada dos tuplas, concatena solo los elementos mayores que 5 de ambas tuplas en una nueva tupla."
      ]
    },
    {
      "cell_type": "code",
      "execution_count": 2,
      "id": "0dfd69f3",
      "metadata": {},
      "outputs": [],
      "source": [
        "# Ejercicio\n",
        "tupla1 = (6, 7, 3, 4)\n",
        "tupla2 = (5, 8, 2)\n",
        "tupla_concatenada = tuple(x for x in tupla1 + tupla2 if x > 5)\n",
        "\n",
        "# Solución\n",
        "# tupla_concatenada = (6, 7, 8)"
      ]
    },
    {
      "attachments": {},
      "cell_type": "markdown",
      "id": "4cb5635b",
      "metadata": {},
      "source": [
        "### Ejercicio 8: Tupla de Tuplas con Elementos Alternos\n",
        "\n",
        "Crea una tupla de tuplas, donde cada tupla interna contiene elementos alternos de dos tuplas dadas."
      ]
    },
    {
      "cell_type": "code",
      "execution_count": 3,
      "id": "7b74a88c",
      "metadata": {},
      "outputs": [],
      "source": [
        "# Ejercicio\n",
        "tupla1 = (1, 2, 3)\n",
        "tupla2 = (4, 5, 6)\n",
        "tupla_alternada = tuple((tupla1[i], tupla2[i]) for i in range(len(tupla1)))\n",
        "\n",
        "# Solución\n",
        "# tupla_alternada = ((1, 4), (2, 5), (3, 6))"
      ]
    },
    {
      "attachments": {},
      "cell_type": "markdown",
      "id": "001fcc68",
      "metadata": {},
      "source": [
        "### Ejercicio 9: Inversión de Tupla\n",
        "\n",
        "Dada una tupla, invierte su orden."
      ]
    },
    {
      "cell_type": "code",
      "execution_count": 4,
      "id": "b4e8b9c8",
      "metadata": {},
      "outputs": [],
      "source": [
        "# Ejercicio\n",
        "tupla = (1, 2, 3, 4, 5)\n",
        "tupla_invertida = tupla[::-1]\n",
        "\n",
        "# Solución\n",
        "# tupla_invertida = (5, 4, 3, 2, 1)"
      ]
    },
    {
      "attachments": {},
      "cell_type": "markdown",
      "id": "efe0aac0",
      "metadata": {},
      "source": [
        "### Ejercicio 10: Tuplas a Diccionario Anidado\n",
        "\n",
        "Dada una lista de tuplas, donde cada tupla contiene un par clave-valor, convierte esta lista en un diccionario anidado. El primer elemento de cada tupla será la clave del diccionario principal, y el segundo elemento será otro diccionario con un par clave-valor predeterminado."
      ]
    },
    {
      "cell_type": "code",
      "execution_count": 5,
      "id": "e72ca80e",
      "metadata": {},
      "outputs": [],
      "source": [
        "# Ejercicio\n",
        "lista_tuplas = [(\"a\", 1), (\"b\", 2), (\"c\", 3)]\n",
        "diccionario_anidado = {k: {'valor': v} for k, v in lista_tuplas}\n",
        "\n",
        "# Solución\n",
        "# diccionario_anidado = {'a': {'valor': 1}, 'b': {'valor': 2}, 'c': {'valor': 3}}"
      ]
    },
    {
      "attachments": {},
      "cell_type": "markdown",
      "id": "545c92f9",
      "metadata": {},
      "source": [
        "Estos ejercicios avanzados desafían tu comprensión y habilidad para manipular tuplas en Python, abordando desde operaciones básicas hasta la creación de estructuras de datos más complejas. Practicar con estos problemas te ayudará a ganar confianza en el manejo de tuplas en diferentes contextos de programación."
      ]
    }
  ],
  "metadata": {
    "kernelspec": {
      "display_name": "Python 3",
      "language": "python",
      "name": "python3"
    },
    "language_info": {
      "codemirror_mode": {
        "name": "ipython",
        "version": 3
      },
      "file_extension": ".py",
      "mimetype": "text/x-python",
      "name": "python",
      "nbconvert_exporter": "python",
      "pygments_lexer": "ipython3",
      "version": "3.8.10"
    }
  },
  "nbformat": 4,
  "nbformat_minor": 5
}
