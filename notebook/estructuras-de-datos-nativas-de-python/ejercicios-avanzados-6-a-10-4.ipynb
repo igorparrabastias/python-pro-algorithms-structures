{
 "cells": [
  {
   "cell_type": "markdown",
   "id": "bd1997f9",
   "metadata": {},
   "source": [
    "## Ejercicio Avanzado 6: Diccionarios Como Matrices Dispersas\n",
    "\n",
    "**Objetivo:** Usar diccionarios para simular una matriz dispersa donde la mayoría de los valores son cero o no existen.\n",
    "\n",
    "**Descripción:**\n",
    "1. Crea un diccionario para representar una matriz dispersa, donde las claves son tuplas que representan las coordenadas (i, j) y los valores son los elementos de la matriz.\n",
    "2. Implementa una función para agregar un valor en una coordenada específica y otra para obtener un valor de una coordenada específica.\n",
    "\n",
    "**Código de Ejemplo:**"
   ]
  },
  {
   "cell_type": "code",
   "execution_count": 5,
   "id": "48e09bbd",
   "metadata": {},
   "outputs": [
    {
     "name": "stdout",
     "output_type": "stream",
     "text": [
      "5\n",
      "0\n"
     ]
    }
   ],
   "source": [
    "def agregar(matriz, i, j, valor):\n",
    "    if valor != 0:\n",
    "        matriz[(i, j)] = valor\n",
    "\n",
    "def obtener(matriz, i, j):\n",
    "    return matriz.get((i, j), 0)\n",
    "\n",
    "matriz_dispersa = {}\n",
    "agregar(matriz_dispersa, 1, 2, 5)\n",
    "agregar(matriz_dispersa, 3, 1, 10)\n",
    "print(obtener(matriz_dispersa, 1, 2))  # Debería imprimir 5\n",
    "print(obtener(matriz_dispersa, 2, 2))  # Debería imprimir 0"
   ]
  },
  {
   "cell_type": "markdown",
   "id": "e193cfdd",
   "metadata": {},
   "source": [
    "## Ejercicio Avanzado 7: Construcción de un Índice Invertido\n",
    "\n",
    "**Objetivo:** Crear un índice invertido a partir de documentos de texto para facilitar búsquedas rápidas.\n",
    "\n",
    "**Descripción:**\n",
    "1. Dado una lista de cadenas (documentos), crea un diccionario donde cada palabra clave apunta a un conjunto de números de documento en los que aparece esa palabra.\n",
    "\n",
    "**Código de Ejemplo:**"
   ]
  },
  {
   "cell_type": "code",
   "execution_count": 6,
   "id": "95dc4f8d",
   "metadata": {},
   "outputs": [
    {
     "name": "stdout",
     "output_type": "stream",
     "text": [
      "{'y': {0}, 'programación': {0, 1}, 'python': {0, 1}, 'avanzada': {1}, 'en': {1}, 'explorando': {2}, 'datos': {2}, 'de': {2}, 'estructuras': {2}}\n"
     ]
    }
   ],
   "source": [
    "documentos = [\n",
    "    \"python y programación\",\n",
    "    \"programación avanzada en python\",\n",
    "    \"explorando estructuras de datos\"\n",
    "]\n",
    "\n",
    "indice_invertido = {}\n",
    "for i, doc in enumerate(documentos):\n",
    "    palabras = set(doc.split())\n",
    "    for palabra in palabras:\n",
    "        if palabra not in indice_invertido:\n",
    "            indice_invertido[palabra] = set()\n",
    "        indice_invertido[palabra].add(i)\n",
    "\n",
    "print(indice_invertido)"
   ]
  },
  {
   "cell_type": "markdown",
   "id": "d21e7aaf",
   "metadata": {},
   "source": [
    "## Ejercicio Avanzado 8: Agregación de Datos de Diccionarios Anidados\n",
    "\n",
    "**Objetivo:** Agregar datos numéricos contenidos en una lista de diccionarios anidados.\n",
    "\n",
    "**Descripción:**\n",
    "1. Dado una lista de diccionarios que contienen otros diccionarios con datos numéricos, calcula la suma total de un campo específico en todos los sub-diccionarios.\n",
    "\n",
    "**Código de Ejemplo:**"
   ]
  },
  {
   "cell_type": "code",
   "execution_count": 7,
   "id": "36eb60e5",
   "metadata": {},
   "outputs": [
    {
     "name": "stdout",
     "output_type": "stream",
     "text": [
      "22\n"
     ]
    }
   ],
   "source": [
    "datos = [\n",
    "    {'id': 1, 'atributos': {'a': 10, 'b': 20}},\n",
    "    {'id': 2, 'atributos': {'a': 5, 'b': 15}},\n",
    "    {'id': 3, 'atributos': {'a': 7, 'b': 17}}\n",
    "]\n",
    "\n",
    "total_a = sum(item['atributos']['a'] for item in datos)\n",
    "print(total_a)  # Debería imprimir 22"
   ]
  },
  {
   "cell_type": "markdown",
   "id": "1a5d4d81",
   "metadata": {},
   "source": [
    "## Ejercicio Avanzado 9: Diccionarios de Diccionarios\n",
    "\n",
    "**Objetivo:** Trabajar con diccionarios de diccionarios para representar y manipular estructuras de datos complejas.\n",
    "\n",
    "**Descripción:**\n",
    "1. Crea un diccionario de usuarios, donde cada clave es un ID de usuario y cada valor es otro diccionario con información sobre el usuario (nombre, email, etc.).\n",
    "2. Implementa una función para añadir un nuevo usuario y otra para modificar la información de un usuario existente.\n",
    "\n",
    "**Código de Ejemplo:**"
   ]
  },
  {
   "cell_type": "code",
   "execution_count": 8,
   "id": "ba65b16e",
   "metadata": {},
   "outputs": [
    {
     "name": "stdout",
     "output_type": "stream",
     "text": [
      "{1: {'nombre': 'Ana', 'email': 'nuevo_ana@example.com'}, 2: {'nombre': 'Luis', 'email': 'luis@example.com'}, 3: {'nombre': 'Carlos', 'email': 'carlos@example.com'}}\n"
     ]
    }
   ],
   "source": [
    "usuarios = {\n",
    "    1: {'nombre': 'Ana', 'email': 'ana@example.com'},\n",
    "    2: {'nombre': 'Luis', 'email': 'luis@example.com'}\n",
    "}\n",
    "\n",
    "def añadir_usuario(usuarios, id, info):\n",
    "    usuarios[id] = info\n",
    "\n",
    "def modificar_usuario(usuarios, id, clave, valor):\n",
    "    if id in usuarios:\n",
    "        usuarios[id][clave] = valor\n",
    "\n",
    "añadir_usuario(usuarios, 3, {'nombre': 'Carlos', 'email': 'carlos@example.com'})\n",
    "modificar_usuario(usuarios, 1, 'email', 'nuevo_ana@example.com')\n",
    "print(usuarios)"
   ]
  },
  {
   "cell_type": "markdown",
   "id": "94f5fb8d",
   "metadata": {},
   "source": [
    "## Ejercicio Avanzado 10: Filtrado y Transformación de Diccionarios\n",
    "\n",
    "**Objetivo:** Realizar operaciones complejas de filtrado y transformación sobre un diccionario grande para obtener datos específicos en un formato deseado.\n",
    "\n",
    "**Descripción:**\n",
    "1. Dado un diccionario grande con varios niveles de anidamiento, filtra y transforma este diccionario para obtener un resumen específico basado en ciertos criterios.\n",
    "\n",
    "**Código de Ejemplo:**"
   ]
  },
  {
   "cell_type": "code",
   "execution_count": 9,
   "id": "fdcfcc54",
   "metadata": {},
   "outputs": [
    {
     "name": "stdout",
     "output_type": "stream",
     "text": [
      "{'item1': 10, 'item2': 20, 'item3': 30, 'item4': 40, 'item5': 50, 'item6': 60}\n"
     ]
    }
   ],
   "source": [
    "datos_grandes = {\n",
    "    'categoria': {\n",
    "        'subcat1': {'item1': 10, 'item2': 20},\n",
    "        'subcat2': {'item3': 30, 'item4': 40},\n",
    "        'subcat3': {'item5': 50, 'item6': 60}\n",
    "    }\n",
    "}\n",
    "\n",
    "def resumen_datos(datos, categoria):\n",
    "    resumen = {}\n",
    "    if categoria in datos:\n",
    "        for subcat, items in datos[categoria].items():\n",
    "            for item, valor in items.items():\n",
    "                resumen[item] = valor\n",
    "    return resumen\n",
    "\n",
    "print(resumen_datos(datos_grandes, 'categoria'))"
   ]
  }
 ],
 "metadata": {
  "kernelspec": {
   "display_name": "Python 3",
   "language": "python",
   "name": "python3"
  },
  "language_info": {
   "codemirror_mode": {
    "name": "ipython",
    "version": 3
   },
   "file_extension": ".py",
   "mimetype": "text/x-python",
   "name": "python",
   "nbconvert_exporter": "python",
   "pygments_lexer": "ipython3",
   "version": "3.8.10"
  }
 },
 "nbformat": 4,
 "nbformat_minor": 5
}
