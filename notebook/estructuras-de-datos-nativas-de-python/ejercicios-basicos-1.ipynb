{
  "cells": [
    {
      "cell_type": "markdown",
      "id": "30b049e5",
      "metadata": {},
      "source": [
        "# Ejercicios b\u00e1sicos\n",
        "\n",
        "### Ejercicio 1: Sumar Todos los Elementos"
      ]
    },
    {
      "cell_type": "code",
      "execution_count": null,
      "id": "d44d1b85",
      "metadata": {},
      "outputs": [],
      "source": [
        "# Ejercicio\n",
        "def sumar_elementos(lista):\n",
        "    return sum(lista)\n",
        "\n",
        "# Soluci\u00f3n\n",
        "sumar_elementos([1, 2, 3, 4])  # 10"
      ]
    },
    {
      "cell_type": "markdown",
      "id": "63b1ddb3",
      "metadata": {},
      "source": [
        "### Ejercicio 2: Encontrar el M\u00e1ximo"
      ]
    },
    {
      "cell_type": "code",
      "execution_count": null,
      "id": "427a8dd9",
      "metadata": {},
      "outputs": [],
      "source": [
        "# Ejercicio\n",
        "def maximo(lista):\n",
        "    return max(lista)\n",
        "\n",
        "# Soluci\u00f3n\n",
        "maximo([1, 3, 5, 7, 9])  # 9"
      ]
    },
    {
      "cell_type": "markdown",
      "id": "aeb41515",
      "metadata": {},
      "source": [
        "### Ejercicio 3: Contar Ocurrencias de un Elemento"
      ]
    },
    {
      "cell_type": "code",
      "execution_count": null,
      "id": "bebbe9a8",
      "metadata": {},
      "outputs": [],
      "source": [
        "# Ejercicio\n",
        "def contar_ocurrencias(lista, elemento):\n",
        "    return lista.count(elemento)\n",
        "\n",
        "# Soluci\u00f3n\n",
        "contar_ocurrencias([1, 3, 7, 8, 7], 7)  # 2"
      ]
    },
    {
      "cell_type": "markdown",
      "id": "7c61a040",
      "metadata": {},
      "source": [
        "### Ejercicio 4: Eliminar Elementos Duplicados"
      ]
    },
    {
      "cell_type": "code",
      "execution_count": null,
      "id": "d943cc65",
      "metadata": {},
      "outputs": [],
      "source": [
        "# Ejercicio\n",
        "def eliminar_duplicados(lista):\n",
        "    return list(set(lista))\n",
        "\n",
        "# Soluci\u00f3n\n",
        "eliminar_duplicados([1, 2, 2, 3, 3, 3, 4])  # [1, 2, 3, 4]"
      ]
    },
    {
      "cell_type": "markdown",
      "id": "f304e8df",
      "metadata": {},
      "source": [
        "### Ejercicio 5: Comprobar si una Lista Est\u00e1 Vac\u00eda"
      ]
    },
    {
      "cell_type": "code",
      "execution_count": null,
      "id": "8ffcdf43",
      "metadata": {},
      "outputs": [],
      "source": [
        "# Ejercicio\n",
        "def esta_vacia(lista):\n",
        "    return len(lista) == 0\n",
        "\n",
        "# Soluci\u00f3n\n",
        "esta_vacia([])  # True"
      ]
    },
    {
      "cell_type": "markdown",
      "id": "f1a2d95b",
      "metadata": {},
      "source": [
        "### Ejercicio 6: Concatenar Dos Listas"
      ]
    },
    {
      "cell_type": "code",
      "execution_count": null,
      "id": "ef7c8199",
      "metadata": {},
      "outputs": [],
      "source": [
        "# Ejercicio\n",
        "def concatenar_listas(lista1, lista2):\n",
        "    return lista1 + lista2\n",
        "\n",
        "# Soluci\u00f3n\n",
        "concatenar_listas([1, 2, 3], [4, 5, 6])  # [1, 2, 3, 4, 5, 6]"
      ]
    },
    {
      "cell_type": "markdown",
      "id": "3768d390",
      "metadata": {},
      "source": [
        "### Ejercicio 7: Encontrar el Menor N\u00famero"
      ]
    },
    {
      "cell_type": "code",
      "execution_count": null,
      "id": "5f23353e",
      "metadata": {},
      "outputs": [],
      "source": [
        "# Ejercicio\n",
        "def minimo(lista):\n",
        "    return min(lista)\n",
        "\n",
        "# Soluci\u00f3n\n",
        "minimo([5, 4, 3, 2, 1])  # 1"
      ]
    },
    {
      "cell_type": "markdown",
      "id": "447db716",
      "metadata": {},
      "source": [
        "### Ejercicio 8: Copiar una Lista"
      ]
    },
    {
      "cell_type": "code",
      "execution_count": null,
      "id": "52e6502e",
      "metadata": {},
      "outputs": [],
      "source": [
        "# Ejercicio\n",
        "def copiar_lista(lista):\n",
        "    return lista.copy()\n",
        "\n",
        "# Soluci\u00f3n\n",
        "copiar_lista([1, 2, 3])  # [1, 2, 3]"
      ]
    },
    {
      "cell_type": "markdown",
      "id": "633dd332",
      "metadata": {},
      "source": [
        "### Ejercicio 9: Insertar un Elemento en una Posici\u00f3n Espec\u00edfica"
      ]
    },
    {
      "cell_type": "code",
      "execution_count": null,
      "id": "87b8b620",
      "metadata": {},
      "outputs": [],
      "source": [
        "# Ejercicio\n",
        "def insertar_elemento(lista, indice, valor):\n",
        "    lista.insert(indice, valor)\n",
        "    return lista\n",
        "\n",
        "# Soluci\u00f3n\n",
        "insertar_elemento([1, 2, 4, 5], 2, 3)  # [1, 2, 3, 4, 5]"
      ]
    },
    {
      "cell_type": "markdown",
      "id": "d49e5a22",
      "metadata": {},
      "source": [
        "### Ejercicio 10: Invertir una Lista"
      ]
    },
    {
      "cell_type": "code",
      "execution_count": null,
      "id": "7efe5781",
      "metadata": {},
      "outputs": [],
      "source": [
        "# Ejercicio\n",
        "def invertir_lista(lista):\n",
        "    return lista[::-1]\n",
        "\n",
        "# Soluci\u00f3n\n",
        "invertir_lista([1, 2, 3, 4, 5])  # [5, 4, 3, 2, 1]"
      ]
    },
    {
      "cell_type": "markdown",
      "id": "18dbd9ed",
      "metadata": {},
      "source": [
        "### Ejercicio 11: Encontrar la Suma de los N\u00fameros Pares"
      ]
    },
    {
      "cell_type": "code",
      "execution_count": null,
      "id": "963796c5",
      "metadata": {},
      "outputs": [],
      "source": [
        "# Ejercicio\n",
        "def suma_pares(lista):\n",
        "    return sum(x for x in lista if x % 2 == 0)\n",
        "\n",
        "# Soluci\u00f3n\n",
        "suma_pares([1, 2, 3, 4, 5, 6])  # 12"
      ]
    },
    {
      "cell_type": "markdown",
      "id": "54455d14",
      "metadata": {},
      "source": [
        "### Ejercicio 12: Filtrar N\u00fameros Mayores que un Valor Dado"
      ]
    },
    {
      "cell_type": "code",
      "execution_count": null,
      "id": "3ba10b03",
      "metadata": {},
      "outputs": [],
      "source": [
        "# Ejercicio\n",
        "def filtrar_mayores(lista, valor):\n",
        "    return [x for x in lista if x > valor]\n",
        "\n",
        "# Soluci\u00f3n\n",
        "filtrar_mayores([1, 2, 3, 4, 5], 3)  # [4, 5]"
      ]
    },
    {
      "cell_type": "markdown",
      "id": "9bb8b7de",
      "metadata": {},
      "source": [
        "### Ejercicio 13: Contar el N\u00famero de Elementos en una Lista"
      ]
    },
    {
      "cell_type": "code",
      "execution_count": null,
      "id": "c26ddc22",
      "metadata": {},
      "outputs": [],
      "source": [
        "# Ejercicio\n",
        "def contar_elementos(lista):\n",
        "    return len(lista)\n",
        "\n",
        "# Soluci\u00f3n\n",
        "contar_elementos([1, 2, 3, 4, 5])  # 5"
      ]
    },
    {
      "cell_type": "markdown",
      "id": "58013200",
      "metadata": {},
      "source": [
        "### Ejercicio 14: Multiplicar Todos los Elementos"
      ]
    },
    {
      "cell_type": "code",
      "execution_count": null,
      "id": "21d09621",
      "metadata": {},
      "outputs": [],
      "source": [
        "# Ejercicio\n",
        "def multiplicar_elementos(lista):\n",
        "    resultado = 1\n",
        "    for x in lista:\n",
        "        resultado *= x\n",
        "    return resultado\n",
        "\n",
        "# Soluci\u00f3n\n",
        "multiplicar_elementos([1, 2, 3, 4])  # 24"
      ]
    },
    {
      "cell_type": "markdown",
      "id": "92ad953d",
      "metadata": {},
      "source": [
        "### Ejercicio 15: Encontrar la Media de los Elementos"
      ]
    },
    {
      "cell_type": "code",
      "execution_count": null,
      "id": "bb287de1",
      "metadata": {},
      "outputs": [],
      "source": [
        "# Ejercicio\n",
        "def media(lista):\n",
        "    return sum(lista) / len(lista)\n",
        "\n",
        "# Soluci\u00f3n\n",
        "media([1, 2, 3, 4, 5])  # 3.0"
      ]
    },
    {
      "cell_type": "markdown",
      "id": "6fab6972",
      "metadata": {},
      "source": [
        "### Ejercicio 16: Eliminar el \u00daltimo Elemento"
      ]
    },
    {
      "cell_type": "code",
      "execution_count": null,
      "id": "2a519873",
      "metadata": {},
      "outputs": [],
      "source": [
        "# Ejercicio\n",
        "def eliminar_ultimo(lista):\n",
        "    lista.pop()\n",
        "    return lista\n",
        "\n",
        "# Soluci\u00f3n\n",
        "eliminar_ultimo([1, 2, 3, 4, 5])  # [1, 2, 3, 4]"
      ]
    },
    {
      "cell_type": "markdown",
      "id": "ed246dca",
      "metadata": {},
      "source": [
        "### Ejercicio 17: Verificar si un Elemento Existe"
      ]
    },
    {
      "cell_type": "code",
      "execution_count": null,
      "id": "69f83960",
      "metadata": {},
      "outputs": [],
      "source": [
        "# Ejercicio\n",
        "def existe_elemento(lista, valor):\n",
        "    return valor in lista\n",
        "\n",
        "# Soluci\u00f3n\n",
        "existe_elemento([1, 2, 3, 4, 5], 3)  # True"
      ]
    },
    {
      "cell_type": "markdown",
      "id": "6aaa074b",
      "metadata": {},
      "source": [
        "### Ejercicio 18: Concatenar una Lista a S\u00ed Misma"
      ]
    },
    {
      "cell_type": "code",
      "execution_count": null,
      "id": "ab8e4071",
      "metadata": {},
      "outputs": [],
      "source": [
        "# Ejercicio\n",
        "def duplicar_lista(lista):\n",
        "    return lista * 2\n",
        "\n",
        "# Soluci\u00f3n\n",
        "duplicar_lista([1, 2, 3])  # [1, 2, 3, 1, 2, 3]"
      ]
    },
    {
      "cell_type": "markdown",
      "id": "82e560a5",
      "metadata": {},
      "source": [
        "### Ejercicio 19: Encontrar el Segundo Mayor N\u00famero"
      ]
    },
    {
      "cell_type": "code",
      "execution_count": null,
      "id": "e52f6771",
      "metadata": {},
      "outputs": [],
      "source": [
        "# Ejercicio\n",
        "def segundo_mayor(lista):\n",
        "    lista.sort()\n",
        "    return lista[-2]\n",
        "\n",
        "# Soluci\u00f3n\n",
        "segundo_mayor([1, 3, 5, 7, 9])  # 7"
      ]
    },
    {
      "cell_type": "markdown",
      "id": "12e021fe",
      "metadata": {},
      "source": [
        "### Ejercicio 20: Convertir una Lista en un String"
      ]
    },
    {
      "cell_type": "code",
      "execution_count": null,
      "id": "4b55af51",
      "metadata": {},
      "outputs": [],
      "source": [
        "# Ejercicio\n",
        "def lista_a_string(lista):\n",
        "    return ''.join(map(str, lista))\n",
        "\n",
        "# Soluci\u00f3n\n",
        "lista_a_string([1, 2, 3, 4, 5])  # \"12345\""
      ]
    },
    {
      "cell_type": "markdown",
      "id": "521e6fdd",
      "metadata": {},
      "source": [
        "[Exploraci\u00f3n Profunda de las Listas en Python](Ejercicios%20ba%CC%81sicos%20f1c5f7b005bd4863addc9915f60ed830/Exploracio%CC%81n%20Profunda%20de%20las%20Listas%20en%20Python%20ccdd0b984f204216b958fbc25125c3b9.md)"
      ]
    }
  ],
  "metadata": {},
  "nbformat": 4,
  "nbformat_minor": 5
}