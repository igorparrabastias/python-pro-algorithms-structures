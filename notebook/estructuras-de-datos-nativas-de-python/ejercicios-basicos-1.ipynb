{
  "cells": [
    {
      "attachments": {},
      "cell_type": "markdown",
      "id": "30b049e5",
      "metadata": {},
      "source": [
        "# Ejercicios básicos\n",
        "\n",
        "### Ejercicio 1: Sumar Todos los Elementos"
      ]
    },
    {
      "cell_type": "code",
      "execution_count": 1,
      "id": "d44d1b85",
      "metadata": {},
      "outputs": [
        {
          "data": {
            "text/plain": [
              "10"
            ]
          },
          "execution_count": 1,
          "metadata": {},
          "output_type": "execute_result"
        }
      ],
      "source": [
        "# Ejercicio\n",
        "def sumar_elementos(lista):\n",
        "    return sum(lista)\n",
        "\n",
        "# Solución\n",
        "sumar_elementos([1, 2, 3, 4])  # 10"
      ]
    },
    {
      "attachments": {},
      "cell_type": "markdown",
      "id": "63b1ddb3",
      "metadata": {},
      "source": [
        "### Ejercicio 2: Encontrar el Máximo"
      ]
    },
    {
      "cell_type": "code",
      "execution_count": 2,
      "id": "427a8dd9",
      "metadata": {},
      "outputs": [
        {
          "data": {
            "text/plain": [
              "9"
            ]
          },
          "execution_count": 2,
          "metadata": {},
          "output_type": "execute_result"
        }
      ],
      "source": [
        "# Ejercicio\n",
        "def maximo(lista):\n",
        "    return max(lista)\n",
        "\n",
        "# Solución\n",
        "maximo([1, 3, 5, 7, 9])  # 9"
      ]
    },
    {
      "attachments": {},
      "cell_type": "markdown",
      "id": "aeb41515",
      "metadata": {},
      "source": [
        "### Ejercicio 3: Contar Ocurrencias de un Elemento"
      ]
    },
    {
      "cell_type": "code",
      "execution_count": 3,
      "id": "bebbe9a8",
      "metadata": {},
      "outputs": [
        {
          "data": {
            "text/plain": [
              "2"
            ]
          },
          "execution_count": 3,
          "metadata": {},
          "output_type": "execute_result"
        }
      ],
      "source": [
        "# Ejercicio\n",
        "def contar_ocurrencias(lista, elemento):\n",
        "    return lista.count(elemento)\n",
        "\n",
        "# Solución\n",
        "contar_ocurrencias([1, 3, 7, 8, 7], 7)  # 2"
      ]
    },
    {
      "attachments": {},
      "cell_type": "markdown",
      "id": "7c61a040",
      "metadata": {},
      "source": [
        "### Ejercicio 4: Eliminar Elementos Duplicados"
      ]
    },
    {
      "cell_type": "code",
      "execution_count": 4,
      "id": "d943cc65",
      "metadata": {},
      "outputs": [
        {
          "data": {
            "text/plain": [
              "[1, 2, 3, 4]"
            ]
          },
          "execution_count": 4,
          "metadata": {},
          "output_type": "execute_result"
        }
      ],
      "source": [
        "# Ejercicio\n",
        "def eliminar_duplicados(lista):\n",
        "    return list(set(lista))\n",
        "\n",
        "# Solución\n",
        "eliminar_duplicados([1, 2, 2, 3, 3, 3, 4])  # [1, 2, 3, 4]"
      ]
    },
    {
      "attachments": {},
      "cell_type": "markdown",
      "id": "f304e8df",
      "metadata": {},
      "source": [
        "### Ejercicio 5: Comprobar si una Lista Está Vacía"
      ]
    },
    {
      "cell_type": "code",
      "execution_count": 5,
      "id": "8ffcdf43",
      "metadata": {},
      "outputs": [
        {
          "data": {
            "text/plain": [
              "True"
            ]
          },
          "execution_count": 5,
          "metadata": {},
          "output_type": "execute_result"
        }
      ],
      "source": [
        "# Ejercicio\n",
        "def esta_vacia(lista):\n",
        "    return len(lista) == 0\n",
        "\n",
        "# Solución\n",
        "esta_vacia([])  # True"
      ]
    },
    {
      "attachments": {},
      "cell_type": "markdown",
      "id": "f1a2d95b",
      "metadata": {},
      "source": [
        "### Ejercicio 6: Concatenar Dos Listas"
      ]
    },
    {
      "cell_type": "code",
      "execution_count": 6,
      "id": "ef7c8199",
      "metadata": {},
      "outputs": [
        {
          "data": {
            "text/plain": [
              "[1, 2, 3, 4, 5, 6]"
            ]
          },
          "execution_count": 6,
          "metadata": {},
          "output_type": "execute_result"
        }
      ],
      "source": [
        "# Ejercicio\n",
        "def concatenar_listas(lista1, lista2):\n",
        "    return lista1 + lista2\n",
        "\n",
        "# Solución\n",
        "concatenar_listas([1, 2, 3], [4, 5, 6])  # [1, 2, 3, 4, 5, 6]"
      ]
    },
    {
      "attachments": {},
      "cell_type": "markdown",
      "id": "3768d390",
      "metadata": {},
      "source": [
        "### Ejercicio 7: Encontrar el Menor Número"
      ]
    },
    {
      "cell_type": "code",
      "execution_count": 7,
      "id": "5f23353e",
      "metadata": {},
      "outputs": [
        {
          "data": {
            "text/plain": [
              "1"
            ]
          },
          "execution_count": 7,
          "metadata": {},
          "output_type": "execute_result"
        }
      ],
      "source": [
        "# Ejercicio\n",
        "def minimo(lista):\n",
        "    return min(lista)\n",
        "\n",
        "# Solución\n",
        "minimo([5, 4, 3, 2, 1])  # 1"
      ]
    },
    {
      "attachments": {},
      "cell_type": "markdown",
      "id": "447db716",
      "metadata": {},
      "source": [
        "### Ejercicio 8: Copiar una Lista"
      ]
    },
    {
      "cell_type": "code",
      "execution_count": 8,
      "id": "52e6502e",
      "metadata": {},
      "outputs": [
        {
          "data": {
            "text/plain": [
              "[1, 2, 3]"
            ]
          },
          "execution_count": 8,
          "metadata": {},
          "output_type": "execute_result"
        }
      ],
      "source": [
        "# Ejercicio\n",
        "def copiar_lista(lista):\n",
        "    return lista.copy()\n",
        "\n",
        "# Solución\n",
        "copiar_lista([1, 2, 3])  # [1, 2, 3]"
      ]
    },
    {
      "attachments": {},
      "cell_type": "markdown",
      "id": "633dd332",
      "metadata": {},
      "source": [
        "### Ejercicio 9: Insertar un Elemento en una Posición Específica"
      ]
    },
    {
      "cell_type": "code",
      "execution_count": 9,
      "id": "87b8b620",
      "metadata": {},
      "outputs": [
        {
          "data": {
            "text/plain": [
              "[1, 2, 3, 4, 5]"
            ]
          },
          "execution_count": 9,
          "metadata": {},
          "output_type": "execute_result"
        }
      ],
      "source": [
        "# Ejercicio\n",
        "def insertar_elemento(lista, indice, valor):\n",
        "    lista.insert(indice, valor)\n",
        "    return lista\n",
        "\n",
        "# Solución\n",
        "insertar_elemento([1, 2, 4, 5], 2, 3)  # [1, 2, 3, 4, 5]"
      ]
    },
    {
      "attachments": {},
      "cell_type": "markdown",
      "id": "d49e5a22",
      "metadata": {},
      "source": [
        "### Ejercicio 10: Invertir una Lista"
      ]
    },
    {
      "cell_type": "code",
      "execution_count": 10,
      "id": "7efe5781",
      "metadata": {},
      "outputs": [
        {
          "data": {
            "text/plain": [
              "[5, 4, 3, 2, 1]"
            ]
          },
          "execution_count": 10,
          "metadata": {},
          "output_type": "execute_result"
        }
      ],
      "source": [
        "# Ejercicio\n",
        "def invertir_lista(lista):\n",
        "    return lista[::-1]\n",
        "\n",
        "# Solución\n",
        "invertir_lista([1, 2, 3, 4, 5])  # [5, 4, 3, 2, 1]"
      ]
    },
    {
      "attachments": {},
      "cell_type": "markdown",
      "id": "18dbd9ed",
      "metadata": {},
      "source": [
        "### Ejercicio 11: Encontrar la Suma de los Números Pares"
      ]
    },
    {
      "cell_type": "code",
      "execution_count": 11,
      "id": "963796c5",
      "metadata": {},
      "outputs": [
        {
          "data": {
            "text/plain": [
              "12"
            ]
          },
          "execution_count": 11,
          "metadata": {},
          "output_type": "execute_result"
        }
      ],
      "source": [
        "# Ejercicio\n",
        "def suma_pares(lista):\n",
        "    return sum(x for x in lista if x % 2 == 0)\n",
        "\n",
        "# Solución\n",
        "suma_pares([1, 2, 3, 4, 5, 6])  # 12"
      ]
    },
    {
      "attachments": {},
      "cell_type": "markdown",
      "id": "54455d14",
      "metadata": {},
      "source": [
        "### Ejercicio 12: Filtrar Números Mayores que un Valor Dado"
      ]
    },
    {
      "cell_type": "code",
      "execution_count": 12,
      "id": "3ba10b03",
      "metadata": {},
      "outputs": [
        {
          "data": {
            "text/plain": [
              "[4, 5]"
            ]
          },
          "execution_count": 12,
          "metadata": {},
          "output_type": "execute_result"
        }
      ],
      "source": [
        "# Ejercicio\n",
        "def filtrar_mayores(lista, valor):\n",
        "    return [x for x in lista if x > valor]\n",
        "\n",
        "# Solución\n",
        "filtrar_mayores([1, 2, 3, 4, 5], 3)  # [4, 5]"
      ]
    },
    {
      "attachments": {},
      "cell_type": "markdown",
      "id": "9bb8b7de",
      "metadata": {},
      "source": [
        "### Ejercicio 13: Contar el Número de Elementos en una Lista"
      ]
    },
    {
      "cell_type": "code",
      "execution_count": 13,
      "id": "c26ddc22",
      "metadata": {},
      "outputs": [
        {
          "data": {
            "text/plain": [
              "5"
            ]
          },
          "execution_count": 13,
          "metadata": {},
          "output_type": "execute_result"
        }
      ],
      "source": [
        "# Ejercicio\n",
        "def contar_elementos(lista):\n",
        "    return len(lista)\n",
        "\n",
        "# Solución\n",
        "contar_elementos([1, 2, 3, 4, 5])  # 5"
      ]
    },
    {
      "attachments": {},
      "cell_type": "markdown",
      "id": "58013200",
      "metadata": {},
      "source": [
        "### Ejercicio 14: Multiplicar Todos los Elementos"
      ]
    },
    {
      "cell_type": "code",
      "execution_count": 14,
      "id": "21d09621",
      "metadata": {},
      "outputs": [
        {
          "data": {
            "text/plain": [
              "24"
            ]
          },
          "execution_count": 14,
          "metadata": {},
          "output_type": "execute_result"
        }
      ],
      "source": [
        "# Ejercicio\n",
        "def multiplicar_elementos(lista):\n",
        "    resultado = 1\n",
        "    for x in lista:\n",
        "        resultado *= x\n",
        "    return resultado\n",
        "\n",
        "# Solución\n",
        "multiplicar_elementos([1, 2, 3, 4])  # 24"
      ]
    },
    {
      "attachments": {},
      "cell_type": "markdown",
      "id": "92ad953d",
      "metadata": {},
      "source": [
        "### Ejercicio 15: Encontrar la Media de los Elementos"
      ]
    },
    {
      "cell_type": "code",
      "execution_count": 15,
      "id": "bb287de1",
      "metadata": {},
      "outputs": [
        {
          "data": {
            "text/plain": [
              "3.0"
            ]
          },
          "execution_count": 15,
          "metadata": {},
          "output_type": "execute_result"
        }
      ],
      "source": [
        "# Ejercicio\n",
        "def media(lista):\n",
        "    return sum(lista) / len(lista)\n",
        "\n",
        "# Solución\n",
        "media([1, 2, 3, 4, 5])  # 3.0"
      ]
    },
    {
      "attachments": {},
      "cell_type": "markdown",
      "id": "6fab6972",
      "metadata": {},
      "source": [
        "### Ejercicio 16: Eliminar el Último Elemento"
      ]
    },
    {
      "cell_type": "code",
      "execution_count": 16,
      "id": "2a519873",
      "metadata": {},
      "outputs": [
        {
          "data": {
            "text/plain": [
              "[1, 2, 3, 4]"
            ]
          },
          "execution_count": 16,
          "metadata": {},
          "output_type": "execute_result"
        }
      ],
      "source": [
        "# Ejercicio\n",
        "def eliminar_ultimo(lista):\n",
        "    lista.pop()\n",
        "    return lista\n",
        "\n",
        "# Solución\n",
        "eliminar_ultimo([1, 2, 3, 4, 5])  # [1, 2, 3, 4]"
      ]
    },
    {
      "attachments": {},
      "cell_type": "markdown",
      "id": "ed246dca",
      "metadata": {},
      "source": [
        "### Ejercicio 17: Verificar si un Elemento Existe"
      ]
    },
    {
      "cell_type": "code",
      "execution_count": 17,
      "id": "69f83960",
      "metadata": {},
      "outputs": [
        {
          "data": {
            "text/plain": [
              "True"
            ]
          },
          "execution_count": 17,
          "metadata": {},
          "output_type": "execute_result"
        }
      ],
      "source": [
        "# Ejercicio\n",
        "def existe_elemento(lista, valor):\n",
        "    return valor in lista\n",
        "\n",
        "# Solución\n",
        "existe_elemento([1, 2, 3, 4, 5], 3)  # True"
      ]
    },
    {
      "attachments": {},
      "cell_type": "markdown",
      "id": "6aaa074b",
      "metadata": {},
      "source": [
        "### Ejercicio 18: Concatenar una Lista a Sí Misma"
      ]
    },
    {
      "cell_type": "code",
      "execution_count": 18,
      "id": "ab8e4071",
      "metadata": {},
      "outputs": [
        {
          "data": {
            "text/plain": [
              "[1, 2, 3, 1, 2, 3]"
            ]
          },
          "execution_count": 18,
          "metadata": {},
          "output_type": "execute_result"
        }
      ],
      "source": [
        "# Ejercicio\n",
        "def duplicar_lista(lista):\n",
        "    return lista * 2\n",
        "\n",
        "# Solución\n",
        "duplicar_lista([1, 2, 3])  # [1, 2, 3, 1, 2, 3]"
      ]
    },
    {
      "attachments": {},
      "cell_type": "markdown",
      "id": "82e560a5",
      "metadata": {},
      "source": [
        "### Ejercicio 19: Encontrar el Segundo Mayor Número"
      ]
    },
    {
      "cell_type": "code",
      "execution_count": 19,
      "id": "e52f6771",
      "metadata": {},
      "outputs": [
        {
          "data": {
            "text/plain": [
              "7"
            ]
          },
          "execution_count": 19,
          "metadata": {},
          "output_type": "execute_result"
        }
      ],
      "source": [
        "# Ejercicio\n",
        "def segundo_mayor(lista):\n",
        "    lista.sort()\n",
        "    return lista[-2]\n",
        "\n",
        "# Solución\n",
        "segundo_mayor([1, 3, 5, 7, 9])  # 7"
      ]
    },
    {
      "attachments": {},
      "cell_type": "markdown",
      "id": "12e021fe",
      "metadata": {},
      "source": [
        "### Ejercicio 20: Convertir una Lista en un String"
      ]
    },
    {
      "cell_type": "code",
      "execution_count": 20,
      "id": "4b55af51",
      "metadata": {},
      "outputs": [
        {
          "data": {
            "text/plain": [
              "'12345'"
            ]
          },
          "execution_count": 20,
          "metadata": {},
          "output_type": "execute_result"
        }
      ],
      "source": [
        "# Ejercicio\n",
        "def lista_a_string(lista):\n",
        "    return ''.join(map(str, lista))\n",
        "\n",
        "# Solución\n",
        "lista_a_string([1, 2, 3, 4, 5])  # \"12345\""
      ]
    }
  ],
  "metadata": {
    "kernelspec": {
      "display_name": "Python 3",
      "language": "python",
      "name": "python3"
    },
    "language_info": {
      "codemirror_mode": {
        "name": "ipython",
        "version": 3
      },
      "file_extension": ".py",
      "mimetype": "text/x-python",
      "name": "python",
      "nbconvert_exporter": "python",
      "pygments_lexer": "ipython3",
      "version": "3.8.10"
    }
  },
  "nbformat": 4,
  "nbformat_minor": 5
}
