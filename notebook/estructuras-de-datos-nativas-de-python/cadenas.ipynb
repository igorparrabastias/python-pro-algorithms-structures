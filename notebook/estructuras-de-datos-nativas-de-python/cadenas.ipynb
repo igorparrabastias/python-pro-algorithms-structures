{
 "cells": [
  {
   "cell_type": "markdown",
   "id": "3a14ad94",
   "metadata": {},
   "source": [
    "# Cadenas\n",
    "\n",
    "## Introducción\n",
    "\n",
    "En esta clase, exploraremos los fundamentos de los strings en Python, una herramienta poderosa y versátil para cualquier programador. Los strings son secuencias de caracteres y juegan un papel crucial en el almacenamiento y manejo de texto en la programación. Vamos a entender cómo se crean, su naturaleza inmutable, y las operaciones básicas que se pueden realizar con ellos. Además, veremos algunos métodos comunes que hacen a los strings una parte indispensable del arsenal de un programador.\n",
    "\n",
    "### Fundamentos de Strings\n",
    "\n",
    "Los strings en Python se definen como secuencias de caracteres encerrados entre comillas simples, dobles, triples simples o triples dobles. Por ejemplo, `str1 = \"Hola\"` y `str2 = 'Mundo'` son strings válidos.\n",
    "\n",
    "### Creación\n",
    "\n",
    "- Crear un string es tan simple como asignar una secuencia de caracteres a una variable. Ejemplo: `mi_string = \"¡Hola Python!\"`.\n",
    "\n",
    "### Inmutabilidad\n",
    "\n",
    "- Los strings en Python son inmutables. Esto significa que una vez que un string es creado, no puedes cambiar sus caracteres individuales. Por ejemplo, si intentas `mi_string[0] = \"h\"`, obtendrás un error.\n",
    "\n",
    "### Operaciones Básicas\n",
    "\n",
    "- **Concatenación**: Podemos unir dos strings usando el operador `+`. Ejemplo: `saludo = str1 + \" \" + str2`.\n",
    "- **Acceso**: Accedemos a caracteres individuales usando índices, como `mi_string[1]`, que devuelve `'¡'`.\n",
    "\n",
    "### Métodos Comunes en Strings\n",
    "\n",
    "Los strings en Python vienen con una variedad de métodos integrados que facilitan su manipulación.\n",
    "\n",
    "### Búsqueda\n",
    "\n",
    "- `find()`: Devuelve el índice más bajo en el string donde se encuentra el substring. Si no se encuentra, devuelve -1.\n",
    "- `count()`: Cuenta cuántas veces un substring aparece en el string.\n",
    "\n",
    "### Reemplazo\n",
    "\n",
    "- `replace(old, new)`: Reemplaza todas las ocurrencias del substring `old` por `new`.\n",
    "\n",
    "### Métodos de Transformación\n",
    "\n",
    "- `upper()`: Convierte todos los caracteres del string a mayúsculas.\n",
    "- `lower()`: Convierte todos los caracteres a minúsculas.\n",
    "- `strip()`: Elimina espacios al principio y al final del string.\n",
    "\n",
    "### Ejercicios\n",
    "\n",
    "1. Crea un string y luego cambia un carácter para entender la inmutabilidad de los strings en Python.\n",
    "2. Concatena dos strings y luego encuentra la posición de un carácter específico en el resultado.\n",
    "3. Utiliza al menos tres métodos de transformación en un string y muestra los resultados.\n",
    "\n",
    "### Conclusión\n",
    "\n",
    "Hoy hemos explorado los fundamentos de los strings en Python, su inmutabilidad, operaciones básicas como la concatenación y el acceso, así como métodos comunes para su manipulación. Estas herramientas son esenciales para el manejo eficiente de texto en cualquier programa. En la próxima clase, nos adentraremos en el slicing y rebinding de variables en Python.\n",
    "\n",
    "### Soluciones\n",
    "\n",
    "### Ejercicio 1"
   ]
  },
  {
   "cell_type": "code",
   "execution_count": null,
   "id": "63c3a54a",
   "metadata": {},
   "outputs": [],
   "source": [
    "mi_string = \"Hola\"\n",
    "try:\n",
    "    mi_string[0] = \"h\"\n",
    "except TypeError:\n",
    "    print(\"Los strings son inmutables en Python.\")"
   ]
  },
  {
   "cell_type": "markdown",
   "id": "e641da4e",
   "metadata": {},
   "source": [
    "### Ejercicio 2"
   ]
  },
  {
   "cell_type": "code",
   "execution_count": null,
   "id": "8dda5998",
   "metadata": {},
   "outputs": [],
   "source": [
    "str1 = \"Hola\"\n",
    "str2 = \"Mundo\"\n",
    "concatenado = str1 + \" \" + str2\n",
    "print(concatenado.find('M'))"
   ]
  },
  {
   "cell_type": "markdown",
   "id": "6b173dce",
   "metadata": {},
   "source": [
    "### Ejercicio 3\n",
    "\n",
    "```python\n",
    "mi_string = \" Python Pro \"\n",
    "print(mi_string.upper())\n",
    "print(mi_string.lower())\n",
    "print(mi_string.strip())\n",
    "```"
   ]
  }
 ],
 "metadata": {},
 "nbformat": 4,
 "nbformat_minor": 5
}
