{
 "cells": [
  {
   "attachments": {},
   "cell_type": "markdown",
   "id": "bfc59c31",
   "metadata": {},
   "source": [
    "# Secuencias\n",
    "\n",
    "### Introducción\n",
    "\n",
    "Las secuencias son una parte integral de Python y proporcionan una manera flexible de trabajar con grupos de elementos. En esta clase, nos centraremos en dos tipos principales de secuencias: las listas y las tuplas. Exploraremos las operaciones comunes que se pueden realizar con ellas y profundizaremos en las comprensiones de listas, una herramienta poderosa para la creación de listas de manera concisa y eficiente.\n",
    "\n",
    "### Concepto Genérico de Secuencia en Python\n",
    "\n",
    "El término \"secuencia\" en Python se refiere a una colección ordenada de elementos. Es un concepto abstracto que define un conjunto de comportamientos y operaciones comunes que comparten ciertos tipos de estructuras de datos en Python. Estas operaciones y comportamientos incluyen:\n",
    "\n",
    "1. **Ordenamiento**: Los elementos en una secuencia tienen un orden específico, es decir, cada elemento tiene una posición fija dentro de la secuencia.\n",
    "2. **Indexación**: Cada elemento en una secuencia puede ser accedido usando un índice, que es un número que representa la posición del elemento en la secuencia. La indexación comienza desde cero.\n",
    "3. **Slicing**: Las secuencias permiten obtener subsecuencias extrayendo elementos desde un índice inicial hasta uno final.\n",
    "4. **Iterabilidad**: Las secuencias pueden ser recorridas, es decir, puedes iterar sobre cada elemento en la secuencia en un bucle, como un bucle `for`.\n",
    "5. **Funciones comunes**: Operaciones como obtener la longitud (`len`), encontrar el máximo (`max`) y mínimo (`min`), y verificar si un elemento está en la secuencia (`in`).\n",
    "\n",
    "### Tipos de Secuencias en Python\n",
    "\n",
    "Dentro del concepto genérico de secuencia, Python implementa varios tipos específicos de secuencias, cada una con características y usos particulares. Los más comunes son:\n",
    "\n",
    "1. **Listas (`list`)**: Son secuencias mutables, lo que significa que puedes cambiar, añadir o eliminar elementos después de que la lista ha sido creada. Son ideales para colecciones de elementos que pueden cambiar durante la ejecución del programa.\n",
    "2. **Tuplas (`tuple`)**: Son secuencias inmutables. Una vez creada una tupla, no puedes modificar sus elementos. Son útiles para asegurar que los datos permanezcan constantes y para mejorar la eficiencia en ciertos contextos.\n",
    "3. **Cadenas de Texto (`str`)**: Aunque a menudo se piensa en ellas como una entidad aparte, las cadenas son secuencias inmutables de caracteres. Permiten todas las operaciones de secuencias, como indexación y slicing, pero no puedes modificar los caracteres individuales.\n",
    "4. **Rangos (`range`)**: Son secuencias inmutables de números enteros, generalmente utilizadas para bucles `for`. Son muy eficientes en términos de memoria, ya que no almacenan todos los números en la secuencia, sino que generan los números sobre la marcha.\n",
    "\n",
    "Cada tipo de secuencia se utiliza en diferentes contextos en función de sus características específicas, como la necesidad de mutabilidad, eficiencia en el uso de la memoria, o el tipo de datos que se están manejando.\n",
    "\n",
    "### Listas y Tuplas\n",
    "\n",
    "Las listas y las tuplas son estructuras de datos que permiten almacenar colecciones de items. Mientras que las listas son mutables, las tuplas son inmutables.\n",
    "\n",
    "### Listas\n",
    "\n",
    "- **Creación**: `mi_lista = [1, 2, 3]`.\n",
    "- **Operaciones Comunes**:\n",
    "    - Añadir elementos: `mi_lista.append(4)`.\n",
    "    - Eliminar elementos: `del mi_lista[0]`.\n",
    "    - Acceder a elementos: `mi_lista[1]`.\n",
    "    - Slicing: `mi_lista[1:3]`.\n",
    "\n",
    "### Tuplas\n",
    "\n",
    "- **Creación**: `mi_tupla = (1, 2, 3)`.\n",
    "- **Operaciones Comunes**:\n",
    "    - Acceder a elementos: `mi_tupla[1]`.\n",
    "    - Slicing: `mi_tupla[1:3]`.\n",
    "    - No se pueden modificar los elementos de una tupla una vez creada.\n",
    "\n",
    "### Cadenas\n",
    "\n",
    "- **Creación**: `mi_cadena = \"Hola, mundo\"`.\n",
    "- **Operaciones Comunes**:\n",
    "    - Concatenar: `mi_cadena += \"!\"` (Añadir \"!\" al final).\n",
    "    - Acceder a caracteres: `mi_cadena[4]` (Acceder al quinto carácter, que es \"a\").\n",
    "    - Slicing: `mi_cadena[0:4]` (Obtener \"Hola\").\n",
    "\n",
    "### Rangos\n",
    "\n",
    "- **Creación**: `mi_rango = range(1, 4)` (Esto creará un rango que va desde 1 hasta 3, similar a `[1, 2, 3]`).\n",
    "- **Operaciones Comunes**:\n",
    "    - Acceder a elementos: `mi_rango[1]` (Acceder al segundo elemento, que es 2).\n",
    "    - Conversión a lista: `lista_del_rango = list(mi_rango)` (Convertir el rango a una lista).\n",
    "\n",
    "### Comprensiones de Listas\n",
    "\n",
    "Las comprensiones de listas son una característica distintiva de Python que permite crear listas de manera más legible y eficiente.\n",
    "\n",
    "### Sintaxis\n",
    "\n",
    "La sintaxis básica de una comprensión de lista es: `[expresión for item in iterable]`.\n",
    "\n",
    "### Ejemplos\n",
    "\n",
    "- Crear una lista de los cuadrados de los primeros 10 números: `[x**2 for x in range(10)]`.\n",
    "- Filtrar números pares en un rango: `[x for x in range(20) if x % 2 == 0]`.\n",
    "\n",
    "### Ejercicios\n",
    "\n",
    "1. Crea una lista usando una comprensión de lista que contenga los primeros 10 números pares.\n",
    "2. Dada una lista de strings, usa una comprensión de lista para crear otra lista que contenga la longitud de cada string.\n",
    "3. Convierte una lista de números en una lista de tuplas, donde cada tupla contiene el número y su cuadrado.\n",
    "\n",
    "### Conclusión\n",
    "\n",
    "Las listas y las tuplas son herramientas fundamentales en Python, cada una con sus propias características y usos. Las comprensiones de listas ofrecen una forma elegante y eficiente de crear y manipular listas. Estas estructuras de datos y técnicas son esenciales para cualquier programador de Python. En la próxima clase, abordaremos más a fondo las listas, así como las estructuras de datos Stacks y Queues.\n",
    "\n",
    "### Soluciones\n",
    "\n",
    "### Ejercicio 1"
   ]
  },
  {
   "cell_type": "code",
   "execution_count": 3,
   "id": "1b0cbabb",
   "metadata": {},
   "outputs": [
    {
     "name": "stdout",
     "output_type": "stream",
     "text": [
      "[2, 4, 6, 8, 10, 12, 14, 16, 18, 20]\n"
     ]
    }
   ],
   "source": [
    "numeros_pares = [x for x in range(2, 21, 2)]\n",
    "print(numeros_pares)"
   ]
  },
  {
   "attachments": {},
   "cell_type": "markdown",
   "id": "0cb7f674",
   "metadata": {},
   "source": [
    "### Ejercicio 2"
   ]
  },
  {
   "cell_type": "code",
   "execution_count": 4,
   "id": "65f0ce78",
   "metadata": {},
   "outputs": [
    {
     "name": "stdout",
     "output_type": "stream",
     "text": [
      "[4, 5, 6]\n"
     ]
    }
   ],
   "source": [
    "strings = [\"Hola\", \"Mundo\", \"Python\"]\n",
    "longitudes = [len(string) for string in strings]\n",
    "print(longitudes)"
   ]
  },
  {
   "attachments": {},
   "cell_type": "markdown",
   "id": "fdf3df68",
   "metadata": {},
   "source": [
    "### Ejercicio 3"
   ]
  },
  {
   "cell_type": "code",
   "execution_count": 5,
   "id": "13b2d76b",
   "metadata": {},
   "outputs": [
    {
     "name": "stdout",
     "output_type": "stream",
     "text": [
      "[(1, 1), (2, 4), (3, 9), (4, 16), (5, 25)]\n"
     ]
    }
   ],
   "source": [
    "numeros = [1, 2, 3, 4, 5]\n",
    "tuplas = [(x, x**2) for x in numeros]\n",
    "print(tuplas)"
   ]
  }
 ],
 "metadata": {
  "kernelspec": {
   "display_name": "Python 3",
   "language": "python",
   "name": "python3"
  },
  "language_info": {
   "codemirror_mode": {
    "name": "ipython",
    "version": 3
   },
   "file_extension": ".py",
   "mimetype": "text/x-python",
   "name": "python",
   "nbconvert_exporter": "python",
   "pygments_lexer": "ipython3",
   "version": "3.8.10"
  }
 },
 "nbformat": 4,
 "nbformat_minor": 5
}
