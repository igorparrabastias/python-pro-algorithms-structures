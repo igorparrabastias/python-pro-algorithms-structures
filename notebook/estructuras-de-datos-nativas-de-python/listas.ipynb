{
  "cells": [
    {
      "cell_type": "markdown",
      "id": "bc096d02",
      "metadata": {},
      "source": [
        "# Listas\n",
        "\n",
        "### Introducci\u00f3n:\n",
        "\n",
        "Las listas son una de las estructuras de datos m\u00e1s vers\u00e1tiles y com\u00fanmente usadas en Python. Ofrecen una forma eficiente de almacenar y manipular colecciones de elementos, y vienen con una amplia gama de operaciones y m\u00e9todos incorporados. En esta clase, exploraremos los fundamentos de las listas, su mutabilidad y las operaciones b\u00e1sicas y comunes que podemos realizar con ellas.\n",
        "\n",
        "### Fundamentos de Listas en Python:\n",
        "\n",
        "### Creaci\u00f3n de Listas:\n",
        "\n",
        "Las listas en Python se pueden crear colocando una secuencia de elementos entre corchetes `[]`, separados por comas. Por ejemplo:"
      ]
    },
    {
      "cell_type": "code",
      "execution_count": null,
      "id": "21884565",
      "metadata": {},
      "outputs": [],
      "source": [
        "mi_lista = [1, 2, 3, 4, 5]"
      ]
    },
    {
      "cell_type": "markdown",
      "id": "992487a8",
      "metadata": {},
      "source": [
        "### Mutabilidad:\n",
        "\n",
        "Las listas son mutables, lo que significa que podemos cambiar, a\u00f1adir o eliminar elementos despu\u00e9s de que la lista ha sido creada.\n",
        "\n",
        "### Operaciones B\u00e1sicas:\n",
        "\n",
        "- **A\u00f1adir Elementos**:\n",
        "    - `append(x)`: A\u00f1ade un elemento al final de la lista.\n",
        "    - `insert(i, x)`: Inserta un elemento en la posici\u00f3n `i`."
      ]
    },
    {
      "cell_type": "code",
      "execution_count": null,
      "id": "04e7f7ec",
      "metadata": {},
      "outputs": [],
      "source": [
        "mi_lista.append(6)  # A\u00f1ade 6 al final\n",
        "mi_lista.insert(0, 0)  # Inserta 0 al principio"
      ]
    },
    {
      "cell_type": "markdown",
      "id": "53bd930e",
      "metadata": {},
      "source": [
        "- **Eliminar Elementos**:\n",
        "    - `remove(x)`: Elimina el primer elemento con el valor `x`.\n",
        "    - `pop(i)`: Elimina el elemento en la posici\u00f3n `i`."
      ]
    },
    {
      "cell_type": "code",
      "execution_count": null,
      "id": "1ae1fcdd",
      "metadata": {},
      "outputs": [],
      "source": [
        "mi_lista.remove(3)  # Elimina el primer 3 encontrado\n",
        "mi_lista.pop(2)  # Elimina el elemento en la posici\u00f3n 2"
      ]
    },
    {
      "cell_type": "markdown",
      "id": "6601d132",
      "metadata": {},
      "source": [
        "- **Acceso a Elementos**: Se accede a los elementos de la lista mediante su \u00edndice, empezando por 0."
      ]
    },
    {
      "cell_type": "code",
      "execution_count": null,
      "id": "99b293fc",
      "metadata": {},
      "outputs": [],
      "source": [
        "primer_elemento = mi_lista[0]  # Accede al primer elemento"
      ]
    },
    {
      "cell_type": "markdown",
      "id": "b6517397",
      "metadata": {},
      "source": [
        "### M\u00e9todos Comunes en Listas:\n",
        "\n",
        "### Ordenamiento y Inversi\u00f3n:\n",
        "\n",
        "- **Ordenar**: `sort()`: Ordena los elementos de la lista in situ."
      ]
    },
    {
      "cell_type": "code",
      "execution_count": null,
      "id": "94fb4978",
      "metadata": {},
      "outputs": [],
      "source": [
        "mi_lista.sort()  # Ordena la lista"
      ]
    },
    {
      "cell_type": "markdown",
      "id": "b30d7212",
      "metadata": {},
      "source": [
        "- **Invertir**: `reverse()`: Invierte el orden de los elementos de la lista in situ."
      ]
    },
    {
      "cell_type": "code",
      "execution_count": null,
      "id": "e2e0e9c6",
      "metadata": {},
      "outputs": [],
      "source": [
        "mi_lista.reverse()  # Invierte la lista"
      ]
    },
    {
      "cell_type": "markdown",
      "id": "e8c2db37",
      "metadata": {},
      "source": [
        "### B\u00fasqueda:\n",
        "\n",
        "- **Encontrar un Elemento**: `index(x)`: Devuelve el \u00edndice del primer elemento con el valor `x`."
      ]
    },
    {
      "cell_type": "code",
      "execution_count": null,
      "id": "6968b977",
      "metadata": {},
      "outputs": [],
      "source": [
        "indice = mi_lista.index(5)  # Encuentra el \u00edndice de 5"
      ]
    },
    {
      "cell_type": "markdown",
      "id": "705aec27",
      "metadata": {},
      "source": [
        "### Slicing:\n",
        "\n",
        "El slicing se utiliza para acceder a subconjuntos de la lista. Se hace especificando un rango `[inicio:fin]`."
      ]
    },
    {
      "cell_type": "code",
      "execution_count": null,
      "id": "22dc39d8",
      "metadata": {},
      "outputs": [],
      "source": [
        "sub_lista = mi_lista[1:4]  # Obtiene los elementos desde el \u00edndice 1 al 3"
      ]
    },
    {
      "cell_type": "markdown",
      "id": "273bb922",
      "metadata": {},
      "source": [
        "### Conclusi\u00f3n:\n",
        "\n",
        "Las listas son herramientas fundamentales en Python, proporcionando una forma flexible y potente de trabajar con colecciones de datos. Su mutabilidad, junto con una amplia gama de operaciones y m\u00e9todos, las hace adecuadas para una variedad de tareas en programaci\u00f3n, desde la manipulaci\u00f3n de datos hasta la implementaci\u00f3n de algoritmos complejos. En la pr\u00f3xima clase, exploraremos las listas en mayor profundidad, enfoc\u00e1ndonos en conceptos avanzados como comprensiones de listas y operaciones de orden superior.\n",
        "\n",
        "### Ejercicios:\n",
        "\n",
        "1. Crea una lista con n\u00fameros del 1 al 10 y utiliza `slice` para obtener solo los n\u00fameros impares.\n",
        "2. Escribe una funci\u00f3n que tome una lista y devuelva una nueva lista con los elementos en orden inverso sin usar el m\u00e9todo `reverse`.\n",
        "3. Implementa una funci\u00f3n que tome una lista de n\u00fameros y devuelva la lista ordenada, pero con todos los m\u00faltiplos de 3 al principio.\n",
        "\n",
        "### Soluciones:"
      ]
    },
    {
      "cell_type": "code",
      "execution_count": null,
      "id": "9466278f",
      "metadata": {},
      "outputs": [],
      "source": [
        "# Ejercicio 1\n",
        "numeros = list(range(1, 11))\n",
        "numeros_impares = numeros[::2]\n",
        "\n",
        "# Ejercicio 2\n",
        "def invertir_lista(lista):\n",
        "    return lista[::-1]\n",
        "\n",
        "# Ejercicio 3\n",
        "def ordenar_con_multiplos_de_tres_primero(lista):\n",
        "    lista.sort(key=lambda x: (x % 3 != 0, x))\n",
        "    return lista"
      ]
    },
    {
      "cell_type": "markdown",
      "id": "4306d93c",
      "metadata": {},
      "source": [
        "Practica estos ejercicios para reforzar tu comprensi\u00f3n de las operaciones b\u00e1sicas y comunes en listas en Python."
      ]
    }
  ],
  "metadata": {},
  "nbformat": 4,
  "nbformat_minor": 5
}