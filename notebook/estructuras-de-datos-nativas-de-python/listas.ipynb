{
 "cells": [
  {
   "cell_type": "markdown",
   "id": "bc096d02",
   "metadata": {},
   "source": [
    "# Listas\n",
    "\n",
    "### Introducción:\n",
    "\n",
    "Las listas son una de las estructuras de datos más versátiles y comúnmente usadas en Python. Ofrecen una forma eficiente de almacenar y manipular colecciones de elementos, y vienen con una amplia gama de operaciones y métodos incorporados. En esta clase, exploraremos los fundamentos de las listas, su mutabilidad y las operaciones básicas y comunes que podemos realizar con ellas.\n",
    "\n",
    "### Fundamentos de Listas en Python:\n",
    "\n",
    "### Creación de Listas:\n",
    "\n",
    "Las listas en Python se pueden crear colocando una secuencia de elementos entre corchetes `[]`, separados por comas. Por ejemplo:"
   ]
  },
  {
   "cell_type": "code",
   "execution_count": null,
   "id": "21884565",
   "metadata": {},
   "outputs": [],
   "source": [
    "mi_lista = [1, 2, 3, 4, 5]"
   ]
  },
  {
   "cell_type": "markdown",
   "id": "992487a8",
   "metadata": {},
   "source": [
    "### Mutabilidad:\n",
    "\n",
    "Las listas son mutables, lo que significa que podemos cambiar, añadir o eliminar elementos después de que la lista ha sido creada.\n",
    "\n",
    "### Operaciones Básicas:\n",
    "\n",
    "- **Añadir Elementos**:\n",
    "    - `append(x)`: Añade un elemento al final de la lista.\n",
    "    - `insert(i, x)`: Inserta un elemento en la posición `i`."
   ]
  },
  {
   "cell_type": "code",
   "execution_count": null,
   "id": "04e7f7ec",
   "metadata": {},
   "outputs": [],
   "source": [
    "```python\n",
    "mi_lista.append(6)  # Añade 6 al final\n",
    "mi_lista.insert(0, 0)  # Inserta 0 al principio\n",
    "```"
   ]
  },
  {
   "cell_type": "markdown",
   "id": "53bd930e",
   "metadata": {},
   "source": [
    "- **Eliminar Elementos**:\n",
    "    - `remove(x)`: Elimina el primer elemento con el valor `x`.\n",
    "    - `pop(i)`: Elimina el elemento en la posición `i`."
   ]
  },
  {
   "cell_type": "code",
   "execution_count": null,
   "id": "1ae1fcdd",
   "metadata": {},
   "outputs": [],
   "source": [
    "```python\n",
    "mi_lista.remove(3)  # Elimina el primer 3 encontrado\n",
    "mi_lista.pop(2)  # Elimina el elemento en la posición 2\n",
    "```"
   ]
  },
  {
   "cell_type": "markdown",
   "id": "6601d132",
   "metadata": {},
   "source": [
    "- **Acceso a Elementos**: Se accede a los elementos de la lista mediante su índice, empezando por 0."
   ]
  },
  {
   "cell_type": "code",
   "execution_count": null,
   "id": "99b293fc",
   "metadata": {},
   "outputs": [],
   "source": [
    "```python\n",
    "primer_elemento = mi_lista[0]  # Accede al primer elemento\n",
    "```\n"
   ]
  },
  {
   "cell_type": "markdown",
   "id": "b6517397",
   "metadata": {},
   "source": [
    "### Métodos Comunes en Listas:\n",
    "\n",
    "### Ordenamiento y Inversión:\n",
    "\n",
    "- **Ordenar**: `sort()`: Ordena los elementos de la lista in situ."
   ]
  },
  {
   "cell_type": "code",
   "execution_count": null,
   "id": "94fb4978",
   "metadata": {},
   "outputs": [],
   "source": [
    "```python\n",
    "mi_lista.sort()  # Ordena la lista\n",
    "```"
   ]
  },
  {
   "cell_type": "markdown",
   "id": "b30d7212",
   "metadata": {},
   "source": [
    "- **Invertir**: `reverse()`: Invierte el orden de los elementos de la lista in situ."
   ]
  },
  {
   "cell_type": "code",
   "execution_count": null,
   "id": "e2e0e9c6",
   "metadata": {},
   "outputs": [],
   "source": [
    "```python\n",
    "mi_lista.reverse()  # Invierte la lista\n",
    "```\n"
   ]
  },
  {
   "cell_type": "markdown",
   "id": "e8c2db37",
   "metadata": {},
   "source": [
    "### Búsqueda:\n",
    "\n",
    "- **Encontrar un Elemento**: `index(x)`: Devuelve el índice del primer elemento con el valor `x`."
   ]
  },
  {
   "cell_type": "code",
   "execution_count": null,
   "id": "6968b977",
   "metadata": {},
   "outputs": [],
   "source": [
    "```python\n",
    "indice = mi_lista.index(5)  # Encuentra el índice de 5\n",
    "```\n"
   ]
  },
  {
   "cell_type": "markdown",
   "id": "705aec27",
   "metadata": {},
   "source": [
    "### Slicing:\n",
    "\n",
    "El slicing se utiliza para acceder a subconjuntos de la lista. Se hace especificando un rango `[inicio:fin]`."
   ]
  },
  {
   "cell_type": "code",
   "execution_count": null,
   "id": "22dc39d8",
   "metadata": {},
   "outputs": [],
   "source": [
    "sub_lista = mi_lista[1:4]  # Obtiene los elementos desde el índice 1 al 3"
   ]
  },
  {
   "cell_type": "markdown",
   "id": "273bb922",
   "metadata": {},
   "source": [
    "### Conclusión:\n",
    "\n",
    "Las listas son herramientas fundamentales en Python, proporcionando una forma flexible y potente de trabajar con colecciones de datos. Su mutabilidad, junto con una amplia gama de operaciones y métodos, las hace adecuadas para una variedad de tareas en programación, desde la manipulación de datos hasta la implementación de algoritmos complejos. En la próxima clase, exploraremos las listas en mayor profundidad, enfocándonos en conceptos avanzados como comprensiones de listas y operaciones de orden superior.\n",
    "\n",
    "### Ejercicios:\n",
    "\n",
    "1. Crea una lista con números del 1 al 10 y utiliza `slice` para obtener solo los números impares.\n",
    "2. Escribe una función que tome una lista y devuelva una nueva lista con los elementos en orden inverso sin usar el método `reverse`.\n",
    "3. Implementa una función que tome una lista de números y devuelva la lista ordenada, pero con todos los múltiplos de 3 al principio.\n",
    "\n",
    "### Soluciones:"
   ]
  },
  {
   "cell_type": "code",
   "execution_count": null,
   "id": "9466278f",
   "metadata": {},
   "outputs": [],
   "source": [
    "# Ejercicio 1\n",
    "numeros = list(range(1, 11))\n",
    "numeros_impares = numeros[::2]\n",
    "\n",
    "# Ejercicio 2\n",
    "def invertir_lista(lista):\n",
    "    return lista[::-1]\n",
    "\n",
    "# Ejercicio 3\n",
    "def ordenar_con_multiplos_de_tres_primero(lista):\n",
    "    lista.sort(key=lambda x: (x % 3 != 0, x))\n",
    "    return lista"
   ]
  },
  {
   "cell_type": "markdown",
   "id": "4306d93c",
   "metadata": {},
   "source": [
    "Practica estos ejercicios para reforzar tu comprensión de las operaciones básicas y comunes en listas en Python."
   ]
  }
 ],
 "metadata": {},
 "nbformat": 4,
 "nbformat_minor": 5
}
