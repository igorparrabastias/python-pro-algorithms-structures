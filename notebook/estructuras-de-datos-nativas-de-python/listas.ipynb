{
  "cells": [
    {
      "attachments": {},
      "cell_type": "markdown",
      "id": "f654ebb7",
      "metadata": {},
      "source": [
        "# Listas\n",
        "\n",
        "### Introducción:\n",
        "\n",
        "Las listas son una de las estructuras de datos más versátiles y comúnmente usadas en Python. Ofrecen una forma eficiente de almacenar y manipular colecciones de elementos, y vienen con una amplia gama de operaciones y métodos incorporados. En esta clase, exploraremos los fundamentos de las listas, su mutabilidad y las operaciones básicas y comunes que podemos realizar con ellas.\n",
        "\n",
        "### Fundamentos de Listas en Python:\n",
        "\n",
        "### Creación de Listas:\n",
        "\n",
        "Las listas en Python se pueden crear colocando una secuencia de elementos entre corchetes `[]`, separados por comas. Por ejemplo:"
      ]
    },
    {
      "cell_type": "code",
      "execution_count": 32,
      "id": "34e850d0",
      "metadata": {},
      "outputs": [],
      "source": [
        "mi_lista = [1, 2, 3, 4, 5]"
      ]
    },
    {
      "attachments": {},
      "cell_type": "markdown",
      "id": "73c51b12",
      "metadata": {},
      "source": [
        "### Mutabilidad:\n",
        "\n",
        "Las listas son mutables, lo que significa que podemos cambiar, añadir o eliminar elementos después de que la lista ha sido creada.\n",
        "\n",
        "### Operaciones Básicas:\n",
        "\n",
        "- **Añadir Elementos**:\n",
        "    - `append(x)`: Añade un elemento al final de la lista.\n",
        "    - `insert(i, x)`: Inserta un elemento en la posición `i`."
      ]
    },
    {
      "cell_type": "code",
      "execution_count": 33,
      "id": "d4cfdf71",
      "metadata": {},
      "outputs": [],
      "source": [
        "mi_lista.append(6)  # Añade 6 al final\n",
        "mi_lista.insert(0, 0)  # Inserta 0 al principio"
      ]
    },
    {
      "attachments": {},
      "cell_type": "markdown",
      "id": "9a2139be",
      "metadata": {},
      "source": [
        "- **Eliminar Elementos**:\n",
        "    - `remove(x)`: Elimina el primer elemento con el valor `x`.\n",
        "    - `pop(i)`: Elimina el elemento en la posición `i`."
      ]
    },
    {
      "cell_type": "code",
      "execution_count": 34,
      "id": "b4b5d78d",
      "metadata": {},
      "outputs": [
        {
          "data": {
            "text/plain": [
              "2"
            ]
          },
          "execution_count": 34,
          "metadata": {},
          "output_type": "execute_result"
        }
      ],
      "source": [
        "mi_lista.remove(3)  # Elimina el primer 3 encontrado\n",
        "mi_lista.pop(2)  # Elimina el elemento en la posición 2"
      ]
    },
    {
      "attachments": {},
      "cell_type": "markdown",
      "id": "e44921a2",
      "metadata": {},
      "source": [
        "- **Acceso a Elementos**: Se accede a los elementos de la lista mediante su índice, empezando por 0."
      ]
    },
    {
      "cell_type": "code",
      "execution_count": 35,
      "id": "21a68eb6",
      "metadata": {},
      "outputs": [],
      "source": [
        "primer_elemento = mi_lista[0]  # Accede al primer elemento"
      ]
    },
    {
      "attachments": {},
      "cell_type": "markdown",
      "id": "01872af3",
      "metadata": {},
      "source": [
        "### Métodos Comunes en Listas:\n",
        "\n",
        "### Ordenamiento y Inversión:\n",
        "\n",
        "- **Ordenar**: `sort()`: Ordena los elementos de la lista in situ."
      ]
    },
    {
      "cell_type": "code",
      "execution_count": 36,
      "id": "9cf9ba11",
      "metadata": {},
      "outputs": [],
      "source": [
        "mi_lista.sort()  # Ordena la lista"
      ]
    },
    {
      "attachments": {},
      "cell_type": "markdown",
      "id": "1fef14a6",
      "metadata": {},
      "source": [
        "- **Invertir**: `reverse()`: Invierte el orden de los elementos de la lista in situ."
      ]
    },
    {
      "cell_type": "code",
      "execution_count": 37,
      "id": "5094965f",
      "metadata": {},
      "outputs": [],
      "source": [
        "mi_lista.reverse()  # Invierte la lista"
      ]
    },
    {
      "attachments": {},
      "cell_type": "markdown",
      "id": "a88d7591",
      "metadata": {},
      "source": [
        "### Búsqueda:\n",
        "\n",
        "- **Encontrar un Elemento**: `index(x)`: Devuelve el índice del primer elemento con el valor `x`."
      ]
    },
    {
      "cell_type": "code",
      "execution_count": 38,
      "id": "02fee316",
      "metadata": {},
      "outputs": [],
      "source": [
        "indice = mi_lista.index(5)  # Encuentra el índice de 5"
      ]
    },
    {
      "attachments": {},
      "cell_type": "markdown",
      "id": "b739417f",
      "metadata": {},
      "source": [
        "### Slicing:\n",
        "\n",
        "El slicing se utiliza para acceder a subconjuntos de la lista. Se hace especificando un rango `[inicio:fin]`."
      ]
    },
    {
      "cell_type": "code",
      "execution_count": 39,
      "id": "a20e37eb",
      "metadata": {},
      "outputs": [],
      "source": [
        "sub_lista = mi_lista[1:4]  # Obtiene los elementos desde el índice 1 al 3"
      ]
    },
    {
      "attachments": {},
      "cell_type": "markdown",
      "id": "37609d6c",
      "metadata": {},
      "source": [
        "## Conclusión:\n",
        "\n",
        "Las listas son herramientas fundamentales en Python, proporcionando una forma flexible y potente de trabajar con colecciones de datos. Su mutabilidad, junto con una amplia gama de operaciones y métodos, las hace adecuadas para una variedad de tareas en programación, desde la manipulación de datos hasta la implementación de algoritmos complejos. En la próxima clase, exploraremos las listas en mayor profundidad, enfocándonos en conceptos avanzados como comprensiones de listas y operaciones de orden superior.\n",
        "\n",
        "## Ejercicios:\n",
        "\n",
        "1. Crea una lista con números del 1 al 10 y utiliza `slice` para obtener solo los números impares.\n",
        "2. Escribe una función que tome una lista y devuelva una nueva lista con los elementos en orden inverso sin usar el método `reverse`.\n",
        "3. Implementa una función que tome una lista de números y devuelva la lista ordenada, pero con todos los múltiplos de 3 al principio.\n",
        "\n",
        "## Soluciones:"
      ]
    },
    {
      "attachments": {},
      "cell_type": "markdown",
      "id": "7c525b60",
      "metadata": {},
      "source": [
        "#### Ejercicio 1: Crea una lista con números del 1 al 10 y utiliza `slice` para obtener solo los números impares.\n"
      ]
    },
    {
      "cell_type": "code",
      "execution_count": 40,
      "id": "d908e5d4",
      "metadata": {},
      "outputs": [
        {
          "name": "stdout",
          "output_type": "stream",
          "text": [
            "[1, 3, 5, 7, 9]\n"
          ]
        }
      ],
      "source": [
        "numeros = list(range(1, 11))  # Crea una lista del 1 al 10\n",
        "numeros_impares = numeros[::2]  # Utiliza slice para obtener los números impares\n",
        "\n",
        "print(numeros_impares)"
      ]
    },
    {
      "attachments": {},
      "cell_type": "markdown",
      "id": "c82d6d90",
      "metadata": {},
      "source": [
        "#### Ejercicio 2: Escribe una función que tome una lista y devuelva una nueva lista con los elementos en orden inverso sin usar el método `reverse`."
      ]
    },
    {
      "cell_type": "code",
      "execution_count": 41,
      "id": "1f14b0c9",
      "metadata": {},
      "outputs": [
        {
          "name": "stdout",
          "output_type": "stream",
          "text": [
            "[5, 4, 3, 2, 1]\n"
          ]
        }
      ],
      "source": [
        "# Solución\n",
        "def invertir_lista(lista):\n",
        "    return lista[::-1]  # Retorna la lista en orden inverso usando slicing\n",
        "\n",
        "# Ejemplo de uso\n",
        "lista_original = [1, 2, 3, 4, 5]\n",
        "lista_invertida = invertir_lista(lista_original)\n",
        "\n",
        "print(lista_invertida)"
      ]
    },
    {
      "attachments": {},
      "cell_type": "markdown",
      "id": "489c4190",
      "metadata": {},
      "source": [
        "#### Ejercicio 3: Implementa una función que tome una lista de números y devuelva la lista ordenada, pero con todos los múltiplos de 3 al principio."
      ]
    },
    {
      "cell_type": "code",
      "execution_count": 42,
      "id": "8062dbb0",
      "metadata": {},
      "outputs": [
        {
          "name": "stdout",
          "output_type": "stream",
          "text": [
            "[3, 6, 9, 1, 2, 4, 5, 7, 8]\n"
          ]
        }
      ],
      "source": [
        "def ordenar_con_multiplos_de_tres_primero(lista):\n",
        "    multiplos_de_tres = [x for x in lista if x % 3 == 0]  # Selecciona múltiplos de 3\n",
        "    no_multiplos = [x for x in lista if x % 3 != 0]  # Selecciona no múltiplos de 3\n",
        "    return sorted(multiplos_de_tres) + sorted(no_multiplos)  # Ordena y combina las listas\n",
        "\n",
        "# Ejemplo de uso\n",
        "lista_numeros = [3, 1, 4, 2, 9, 7, 6, 5, 8]\n",
        "lista_ordenada = ordenar_con_multiplos_de_tres_primero(lista_numeros)\n",
        "\n",
        "print(lista_ordenada)"
      ]
    }
  ],
  "metadata": {
    "kernelspec": {
      "display_name": "Python 3",
      "language": "python",
      "name": "python3"
    },
    "language_info": {
      "codemirror_mode": {
        "name": "ipython",
        "version": 3
      },
      "file_extension": ".py",
      "mimetype": "text/x-python",
      "name": "python",
      "nbconvert_exporter": "python",
      "pygments_lexer": "ipython3",
      "version": "3.8.10"
    }
  },
  "nbformat": 4,
  "nbformat_minor": 5
}
