{
  "cells": [
    {
      "cell_type": "markdown",
      "id": "b4fac957",
      "metadata": {},
      "source": [
        "# Profundizando en Tuplas en Python\n",
        "\n",
        "Las tuplas, aunque similares a las listas, tienen caracter\u00edsticas y usos que las distinguen notablemente en Python. Profundicemos en algunos aspectos y pr\u00e1cticas avanzadas relacionadas con las tuplas.\n",
        "\n",
        "### Creaci\u00f3n y Caracter\u00edsticas Especiales:\n",
        "\n",
        "1. **Tuplas Unitarias**: Para crear una tupla con un solo elemento, es necesario incluir una coma al final, de lo contrario, Python no lo interpreta como una tupla."
      ]
    },
    {
      "cell_type": "code",
      "execution_count": null,
      "id": "b647ace7",
      "metadata": {},
      "outputs": [],
      "source": [
        "tupla_unitaria = (5,)  # Correcto\n",
        "no_es_tupla = (5)     # Incorrecto, es un entero"
      ]
    },
    {
      "cell_type": "markdown",
      "id": "e815167d",
      "metadata": {},
      "source": [
        "2. **Tuplas Vac\u00edas**: Se pueden crear simplemente con `()`."
      ]
    },
    {
      "cell_type": "code",
      "execution_count": null,
      "id": "2ebfe86a",
      "metadata": {},
      "outputs": [],
      "source": [
        "tupla_vacia = ()"
      ]
    },
    {
      "cell_type": "markdown",
      "id": "a4194ed0",
      "metadata": {},
      "source": [
        "3. **Tuplas \"Empaquetadas\"**: Se pueden crear sin par\u00e9ntesis, utilizando solo comas para separar los elementos."
      ]
    },
    {
      "cell_type": "code",
      "execution_count": null,
      "id": "5d2b3cd0",
      "metadata": {},
      "outputs": [],
      "source": [
        "tupla_empaquetada = 1, 2, 3"
      ]
    },
    {
      "cell_type": "markdown",
      "id": "d918cbd5",
      "metadata": {},
      "source": [
        "### Desempaquetado de Tuplas:\n",
        "\n",
        "El desempaquetado de tuplas permite asignar directamente los elementos de una tupla a variables separadas en una sola l\u00ednea."
      ]
    },
    {
      "cell_type": "code",
      "execution_count": null,
      "id": "8530ae5f",
      "metadata": {},
      "outputs": [],
      "source": [
        "a, b, c = tupla_empaquetada"
      ]
    },
    {
      "cell_type": "markdown",
      "id": "ad7234f7",
      "metadata": {},
      "source": [
        "### Inmutabilidad y sus Implicaciones:\n",
        "\n",
        "Aunque las tuplas son inmutables, esto se aplica a la tupla misma, no a los elementos dentro de ella. Si un elemento de una tupla es mutable, como una lista, ese elemento puede modificarse."
      ]
    },
    {
      "cell_type": "code",
      "execution_count": null,
      "id": "6b42fb1d",
      "metadata": {},
      "outputs": [],
      "source": [
        "tupla_con_lista = (1, 2, [3, 4])\n",
        "tupla_con_lista[2][0] = 5  # Modifica el primer elemento de la lista dentro de la tupla"
      ]
    },
    {
      "cell_type": "markdown",
      "id": "eda726ab",
      "metadata": {},
      "source": [
        "### Uso de Tuplas en Funciones:\n",
        "\n",
        "1. **Retorno de M\u00faltiples Valores**: Las funciones en Python pueden retornar m\u00e1s de un valor en forma de tupla."
      ]
    },
    {
      "cell_type": "code",
      "execution_count": null,
      "id": "9be3568d",
      "metadata": {},
      "outputs": [],
      "source": [
        "def min_max(lista):\n",
        "    return min(lista), max(lista)"
      ]
    },
    {
      "cell_type": "markdown",
      "id": "c3985cd2",
      "metadata": {},
      "source": [
        "2. **Par\u00e1metros de Longitud Variable**: Se pueden utilizar tuplas para aceptar un n\u00famero variable de argumentos en una funci\u00f3n."
      ]
    },
    {
      "cell_type": "code",
      "execution_count": null,
      "id": "35360f67",
      "metadata": {},
      "outputs": [],
      "source": [
        "def sumar(*args):\n",
        "    return sum(args)"
      ]
    },
    {
      "cell_type": "markdown",
      "id": "08d3ab2b",
      "metadata": {},
      "source": [
        "### Ventajas sobre Listas:\n",
        "\n",
        "1. **Mayor Eficiencia**: Las tuplas son m\u00e1s r\u00e1pidas que las listas para ciertas operaciones debido a su simplicidad y al hecho de ser inmutables.\n",
        "2. **Menor Riesgo de Errores**: Su inmutabilidad las hace seguras contra modificaciones no deseadas.\n",
        "3. **Uso como Claves en Diccionarios**: Las tuplas pueden usarse como claves en diccionarios, mientras que las listas no.\n",
        "\n",
        "### Conclusi\u00f3n:\n",
        "\n",
        "Las tuplas en Python son m\u00e1s que una versi\u00f3n inmutable de las listas. Ofrecen caracter\u00edsticas \u00fanicas y ventajas en t\u00e9rminos de eficiencia, seguridad de datos y flexibilidad en su uso dentro de funciones. Su inmutabilidad las convierte en una herramienta fundamental para asegurar la integridad de datos que no deben ser alterados y para optimizar el rendimiento en ciertas operaciones. En nuestra pr\u00f3xima clase, exploraremos c\u00f3mo las tuplas interact\u00faan con otras estructuras de datos en Python y su uso en aplicaciones m\u00e1s avanzadas."
      ]
    }
  ],
  "metadata": {},
  "nbformat": 4,
  "nbformat_minor": 5
}