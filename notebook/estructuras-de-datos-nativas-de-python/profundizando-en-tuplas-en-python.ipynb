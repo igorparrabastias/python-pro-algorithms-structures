{
  "cells": [
    {
      "cell_type": "markdown",
      "id": "8b52da90",
      "metadata": {},
      "source": [
        "# Profundizando en Tuplas en Python\n",
        "\n",
        "Las tuplas, aunque similares a las listas, tienen caracter\u00edsticas y usos que las distinguen notablemente en Python. Profundicemos en algunos aspectos y pr\u00e1cticas avanzadas relacionadas con las tuplas.\n",
        "\n",
        "### Creaci\u00f3n y Caracter\u00edsticas Especiales:\n",
        "\n",
        "1. **Tuplas Unitarias**: Para crear una tupla con un solo elemento, es necesario incluir una coma al final, de lo contrario, Python no lo interpreta como una tupla."
      ]
    },
    {
      "cell_type": "code",
      "execution_count": null,
      "id": "4c0f1136",
      "metadata": {},
      "outputs": [],
      "source": [
        "tupla_unitaria = (5,)  # Correcto\n",
        "no_es_tupla = (5)     # Incorrecto, es un entero"
      ]
    },
    {
      "cell_type": "markdown",
      "id": "9f0190a5",
      "metadata": {},
      "source": [
        "2. **Tuplas Vac\u00edas**: Se pueden crear simplemente con `()`."
      ]
    },
    {
      "cell_type": "code",
      "execution_count": null,
      "id": "10ddeb3d",
      "metadata": {},
      "outputs": [],
      "source": [
        "tupla_vacia = ()"
      ]
    },
    {
      "cell_type": "markdown",
      "id": "37c3afc5",
      "metadata": {},
      "source": [
        "3. **Tuplas \"Empaquetadas\"**: Se pueden crear sin par\u00e9ntesis, utilizando solo comas para separar los elementos."
      ]
    },
    {
      "cell_type": "code",
      "execution_count": null,
      "id": "95c5026b",
      "metadata": {},
      "outputs": [],
      "source": [
        "tupla_empaquetada = 1, 2, 3"
      ]
    },
    {
      "cell_type": "markdown",
      "id": "c34a08a1",
      "metadata": {},
      "source": [
        "### Desempaquetado de Tuplas:\n",
        "\n",
        "El desempaquetado de tuplas permite asignar directamente los elementos de una tupla a variables separadas en una sola l\u00ednea."
      ]
    },
    {
      "cell_type": "code",
      "execution_count": null,
      "id": "b5992265",
      "metadata": {},
      "outputs": [],
      "source": [
        "a, b, c = tupla_empaquetada"
      ]
    },
    {
      "cell_type": "markdown",
      "id": "63b74c5c",
      "metadata": {},
      "source": [
        "### Inmutabilidad y sus Implicaciones:\n",
        "\n",
        "Aunque las tuplas son inmutables, esto se aplica a la tupla misma, no a los elementos dentro de ella. Si un elemento de una tupla es mutable, como una lista, ese elemento puede modificarse."
      ]
    },
    {
      "cell_type": "code",
      "execution_count": null,
      "id": "06f5a981",
      "metadata": {},
      "outputs": [],
      "source": [
        "tupla_con_lista = (1, 2, [3, 4])\n",
        "tupla_con_lista[2][0] = 5  # Modifica el primer elemento de la lista dentro de la tupla"
      ]
    },
    {
      "cell_type": "markdown",
      "id": "a5a65184",
      "metadata": {},
      "source": [
        "### Uso de Tuplas en Funciones:\n",
        "\n",
        "1. **Retorno de M\u00faltiples Valores**: Las funciones en Python pueden retornar m\u00e1s de un valor en forma de tupla."
      ]
    },
    {
      "cell_type": "code",
      "execution_count": null,
      "id": "6b6e52a6",
      "metadata": {},
      "outputs": [],
      "source": [
        "def min_max(lista):\n",
        "    return min(lista), max(lista)"
      ]
    },
    {
      "cell_type": "markdown",
      "id": "80d1ff52",
      "metadata": {},
      "source": [
        "2. **Par\u00e1metros de Longitud Variable**: Se pueden utilizar tuplas para aceptar un n\u00famero variable de argumentos en una funci\u00f3n."
      ]
    },
    {
      "cell_type": "code",
      "execution_count": null,
      "id": "56aae16d",
      "metadata": {},
      "outputs": [],
      "source": [
        "def sumar(*args):\n",
        "    return sum(args)"
      ]
    },
    {
      "cell_type": "markdown",
      "id": "9d7cdcd6",
      "metadata": {},
      "source": [
        "### Ventajas sobre Listas:\n",
        "\n",
        "1. **Mayor Eficiencia**: Las tuplas son m\u00e1s r\u00e1pidas que las listas para ciertas operaciones debido a su simplicidad y al hecho de ser inmutables.\n",
        "2. **Menor Riesgo de Errores**: Su inmutabilidad las hace seguras contra modificaciones no deseadas.\n",
        "3. **Uso como Claves en Diccionarios**: Las tuplas pueden usarse como claves en diccionarios, mientras que las listas no.\n",
        "\n",
        "### Conclusi\u00f3n:\n",
        "\n",
        "Las tuplas en Python son m\u00e1s que una versi\u00f3n inmutable de las listas. Ofrecen caracter\u00edsticas \u00fanicas y ventajas en t\u00e9rminos de eficiencia, seguridad de datos y flexibilidad en su uso dentro de funciones. Su inmutabilidad las convierte en una herramienta fundamental para asegurar la integridad de datos que no deben ser alterados y para optimizar el rendimiento en ciertas operaciones. En nuestra pr\u00f3xima clase, exploraremos c\u00f3mo las tuplas interact\u00faan con otras estructuras de datos en Python y su uso en aplicaciones m\u00e1s avanzadas."
      ]
    }
  ],
  "metadata": {},
  "nbformat": 4,
  "nbformat_minor": 5
}