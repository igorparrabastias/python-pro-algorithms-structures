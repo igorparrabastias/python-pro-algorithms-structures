{
  "cells": [
    {
      "attachments": {},
      "cell_type": "markdown",
      "id": "8b52da90",
      "metadata": {},
      "source": [
        "# Profundizando en Tuplas en Python\n",
        "\n",
        "Las tuplas, aunque similares a las listas, tienen características y usos que las distinguen notablemente en Python. Profundicemos en algunos aspectos y prácticas avanzadas relacionadas con las tuplas.\n",
        "\n",
        "### Creación y Características Especiales:\n",
        "\n",
        "1. **Tuplas Unitarias**: Para crear una tupla con un solo elemento, es necesario incluir una coma al final, de lo contrario, Python no lo interpreta como una tupla."
      ]
    },
    {
      "cell_type": "code",
      "execution_count": 10,
      "id": "4c0f1136",
      "metadata": {},
      "outputs": [],
      "source": [
        "tupla_unitaria = (5,)  # Correcto\n",
        "no_es_tupla = (5)     # Incorrecto, es un entero"
      ]
    },
    {
      "attachments": {},
      "cell_type": "markdown",
      "id": "9f0190a5",
      "metadata": {},
      "source": [
        "2. **Tuplas Vacías**: Se pueden crear simplemente con `()`."
      ]
    },
    {
      "cell_type": "code",
      "execution_count": 11,
      "id": "10ddeb3d",
      "metadata": {},
      "outputs": [],
      "source": [
        "tupla_vacia = ()"
      ]
    },
    {
      "attachments": {},
      "cell_type": "markdown",
      "id": "37c3afc5",
      "metadata": {},
      "source": [
        "3. **Tuplas \"Empaquetadas\"**: Se pueden crear sin paréntesis, utilizando solo comas para separar los elementos."
      ]
    },
    {
      "cell_type": "code",
      "execution_count": 12,
      "id": "95c5026b",
      "metadata": {},
      "outputs": [],
      "source": [
        "tupla_empaquetada = 1, 2, 3"
      ]
    },
    {
      "attachments": {},
      "cell_type": "markdown",
      "id": "c34a08a1",
      "metadata": {},
      "source": [
        "### Desempaquetado de Tuplas:\n",
        "\n",
        "El desempaquetado de tuplas permite asignar directamente los elementos de una tupla a variables separadas en una sola línea."
      ]
    },
    {
      "cell_type": "code",
      "execution_count": 13,
      "id": "b5992265",
      "metadata": {},
      "outputs": [],
      "source": [
        "a, b, c = tupla_empaquetada"
      ]
    },
    {
      "attachments": {},
      "cell_type": "markdown",
      "id": "63b74c5c",
      "metadata": {},
      "source": [
        "### Inmutabilidad y sus Implicaciones:\n",
        "\n",
        "Aunque las tuplas son inmutables, esto se aplica a la tupla misma, no a los elementos dentro de ella. Si un elemento de una tupla es mutable, como una lista, ese elemento puede modificarse."
      ]
    },
    {
      "cell_type": "code",
      "execution_count": 14,
      "id": "06f5a981",
      "metadata": {},
      "outputs": [],
      "source": [
        "tupla_con_lista = (1, 2, [3, 4])\n",
        "tupla_con_lista[2][0] = 5  # Modifica el primer elemento de la lista dentro de la tupla"
      ]
    },
    {
      "attachments": {},
      "cell_type": "markdown",
      "id": "a5a65184",
      "metadata": {},
      "source": [
        "### Uso de Tuplas en Funciones:\n",
        "\n",
        "1. **Retorno de Múltiples Valores**: Las funciones en Python pueden retornar más de un valor en forma de tupla.  \n",
        "Aquí tienes un ejemplo de una función min_max que toma una lista como argumento y devuelve una tupla con el valor mínimo y máximo de esa lista:"
      ]
    },
    {
      "cell_type": "code",
      "execution_count": 15,
      "id": "6b6e52a6",
      "metadata": {},
      "outputs": [
        {
          "name": "stdout",
          "output_type": "stream",
          "text": [
            "Mínimo: 1, Máximo: 8\n"
          ]
        }
      ],
      "source": [
        "def min_max(lista):\n",
        "    return min(lista), max(lista)\n",
        "\n",
        "# Ejemplo de uso\n",
        "resultado = min_max([4, 1, 8, 3, 2])\n",
        "print(f\"Mínimo: {resultado[0]}, Máximo: {resultado[1]}\")"
      ]
    },
    {
      "attachments": {},
      "cell_type": "markdown",
      "id": "80d1ff52",
      "metadata": {},
      "source": [
        "2. **Parámetros de Longitud Variable**: Se pueden utilizar tuplas para aceptar un número variable de argumentos en una función.  \n",
        "La función sumar utiliza el concepto de argumentos variables (*args) para aceptar una cantidad arbitraria de argumentos numéricos y devolver su suma"
      ]
    },
    {
      "cell_type": "code",
      "execution_count": 16,
      "id": "56aae16d",
      "metadata": {},
      "outputs": [
        {
          "name": "stdout",
          "output_type": "stream",
          "text": [
            "La suma es: 15\n"
          ]
        }
      ],
      "source": [
        "def sumar(*args):\n",
        "    return sum(args)\n",
        "\n",
        "# Ejemplo de uso\n",
        "resultado = sumar(1, 2, 3, 4, 5)\n",
        "print(f\"La suma es: {resultado}\")\n"
      ]
    },
    {
      "attachments": {},
      "cell_type": "markdown",
      "id": "9d7cdcd6",
      "metadata": {},
      "source": [
        "### Ventajas sobre Listas:\n",
        "\n",
        "1. **Mayor Eficiencia**: Las tuplas son más rápidas que las listas para ciertas operaciones debido a su simplicidad y al hecho de ser inmutables.\n",
        "2. **Menor Riesgo de Errores**: Su inmutabilidad las hace seguras contra modificaciones no deseadas.\n",
        "3. **Uso como Claves en Diccionarios**: Las tuplas pueden usarse como claves en diccionarios, mientras que las listas no.\n",
        "\n",
        "### Conclusión:\n",
        "\n",
        "Las tuplas en Python son más que una versión inmutable de las listas. Ofrecen características únicas y ventajas en términos de eficiencia, seguridad de datos y flexibilidad en su uso dentro de funciones. Su inmutabilidad las convierte en una herramienta fundamental para asegurar la integridad de datos que no deben ser alterados y para optimizar el rendimiento en ciertas operaciones. En nuestra próxima clase, exploraremos cómo las tuplas interactúan con otras estructuras de datos en Python y su uso en aplicaciones más avanzadas."
      ]
    }
  ],
  "metadata": {
    "kernelspec": {
      "display_name": "Python 3",
      "language": "python",
      "name": "python3"
    },
    "language_info": {
      "codemirror_mode": {
        "name": "ipython",
        "version": 3
      },
      "file_extension": ".py",
      "mimetype": "text/x-python",
      "name": "python",
      "nbconvert_exporter": "python",
      "pygments_lexer": "ipython3",
      "version": "3.8.10"
    }
  },
  "nbformat": 4,
  "nbformat_minor": 5
}
