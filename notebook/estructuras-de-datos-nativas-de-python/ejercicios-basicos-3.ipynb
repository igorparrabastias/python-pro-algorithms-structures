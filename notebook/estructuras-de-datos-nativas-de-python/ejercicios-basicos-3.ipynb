{
  "cells": [
    {
      "attachments": {},
      "cell_type": "markdown",
      "id": "59e4d1e3",
      "metadata": {},
      "source": [
        "# Ejercicios básicos\n",
        "\n",
        "### Ejercicio 1: Crear un Conjunto\n",
        "\n",
        "Crea un conjunto con los números del 1 al 5."
      ]
    },
    {
      "cell_type": "code",
      "execution_count": 22,
      "id": "0d4c6072",
      "metadata": {},
      "outputs": [],
      "source": [
        "# Ejercicio\n",
        "mi_conjunto = {1, 2, 3, 4, 5}"
      ]
    },
    {
      "attachments": {},
      "cell_type": "markdown",
      "id": "ef338c27",
      "metadata": {},
      "source": [
        "### Ejercicio 2: Añadir un Elemento\n",
        "\n",
        "Añade el número 6 al conjunto anterior."
      ]
    },
    {
      "cell_type": "code",
      "execution_count": 23,
      "id": "b6a6d188",
      "metadata": {},
      "outputs": [],
      "source": [
        "# Ejercicio\n",
        "mi_conjunto.add(6)"
      ]
    },
    {
      "attachments": {},
      "cell_type": "markdown",
      "id": "d7dbd46b",
      "metadata": {},
      "source": [
        "### Ejercicio 3: Eliminar un Elemento\n",
        "\n",
        "Elimina el número 3 del conjunto."
      ]
    },
    {
      "cell_type": "code",
      "execution_count": 24,
      "id": "0614d5f1",
      "metadata": {},
      "outputs": [],
      "source": [
        "# Ejercicio\n",
        "mi_conjunto.discard(3)"
      ]
    },
    {
      "attachments": {},
      "cell_type": "markdown",
      "id": "f1333dd8",
      "metadata": {},
      "source": [
        "### Ejercicio 4: Verificar Pertenencia\n",
        "\n",
        "Comprueba si el número 4 está en el conjunto."
      ]
    },
    {
      "cell_type": "code",
      "execution_count": 25,
      "id": "5275c00d",
      "metadata": {},
      "outputs": [
        {
          "data": {
            "text/plain": [
              "True"
            ]
          },
          "execution_count": 25,
          "metadata": {},
          "output_type": "execute_result"
        }
      ],
      "source": [
        "# Ejercicio\n",
        "4 in mi_conjunto  # True o False"
      ]
    },
    {
      "attachments": {},
      "cell_type": "markdown",
      "id": "b5bf5613",
      "metadata": {},
      "source": [
        "### Ejercicio 5: Crear Conjunto desde Lista\n",
        "\n",
        "Crea un conjunto a partir de la siguiente lista: `[1, 2, 2, 3, 4, 4, 5]`."
      ]
    },
    {
      "cell_type": "code",
      "execution_count": 26,
      "id": "1b10ba6a",
      "metadata": {},
      "outputs": [
        {
          "name": "stdout",
          "output_type": "stream",
          "text": [
            "{1, 2, 3, 4, 5}\n"
          ]
        }
      ],
      "source": [
        "# Ejercicio\n",
        "lista = [1, 2, 2, 3, 4, 4, 5]\n",
        "conjunto_desde_lista = set(lista)\n",
        "print(conjunto_desde_lista)\n"
      ]
    },
    {
      "attachments": {},
      "cell_type": "markdown",
      "id": "4620a4ec",
      "metadata": {},
      "source": [
        "### Ejercicio 6: Unión de Conjuntos\n",
        "\n",
        "Dados dos conjuntos, `{1, 2, 3}` y `{4, 5, 6}`, encuentra su unión."
      ]
    },
    {
      "cell_type": "code",
      "execution_count": 42,
      "id": "e059af79",
      "metadata": {},
      "outputs": [
        {
          "name": "stdout",
          "output_type": "stream",
          "text": [
            "{1, 2, 3, 4, 5, 6}\n"
          ]
        }
      ],
      "source": [
        "# Ejercicio\n",
        "conjunto_a = {1, 2, 3}\n",
        "conjunto_b = {4, 5, 6}\n",
        "union = conjunto_a.union(conjunto_b)\n",
        "print(union)\n"
      ]
    },
    {
      "attachments": {},
      "cell_type": "markdown",
      "id": "a2b32334",
      "metadata": {},
      "source": [
        "### Ejercicio 7: Intersección de Conjuntos\n",
        "\n",
        "Encuentra la intersección de los conjuntos `{1, 2, 3}` y `{2, 3, 4}`."
      ]
    },
    {
      "cell_type": "code",
      "execution_count": 43,
      "id": "38317854",
      "metadata": {},
      "outputs": [
        {
          "name": "stdout",
          "output_type": "stream",
          "text": [
            "{2, 3}\n"
          ]
        }
      ],
      "source": [
        "# Ejercicio\n",
        "conjunto_a = {1, 2, 3}\n",
        "conjunto_b = {2, 3, 4}\n",
        "interseccion = conjunto_a.intersection(conjunto_b)\n",
        "print(interseccion)\n"
      ]
    },
    {
      "attachments": {},
      "cell_type": "markdown",
      "id": "37c45dea",
      "metadata": {},
      "source": [
        "### Ejercicio 8: Diferencia de Conjuntos\n",
        "\n",
        "Encuentra la diferencia entre `{1, 2, 3}` y `{2, 3, 4}`."
      ]
    },
    {
      "cell_type": "code",
      "execution_count": 44,
      "id": "0dbdb3fd",
      "metadata": {},
      "outputs": [
        {
          "name": "stdout",
          "output_type": "stream",
          "text": [
            "{1}\n"
          ]
        }
      ],
      "source": [
        "# Ejercicio\n",
        "conjunto_a = {1, 2, 3}\n",
        "conjunto_b = {2, 3, 4}\n",
        "diferencia = conjunto_a - conjunto_b\n",
        "print(diferencia)\n"
      ]
    },
    {
      "attachments": {},
      "cell_type": "markdown",
      "id": "009ab960",
      "metadata": {},
      "source": [
        "### Ejercicio 9: Diferencia Simétrica\n",
        "\n",
        "Encuentra la diferencia simétrica entre `{1, 2, 3}` y `{2, 3, 4}`."
      ]
    },
    {
      "cell_type": "code",
      "execution_count": 45,
      "id": "f1f81ada",
      "metadata": {},
      "outputs": [
        {
          "name": "stdout",
          "output_type": "stream",
          "text": [
            "{1, 4}\n"
          ]
        }
      ],
      "source": [
        "# Ejercicio\n",
        "conjunto_a = {1, 2, 3}\n",
        "conjunto_b = {2, 3, 4}\n",
        "diferencia_simetrica = conjunto_a.symmetric_difference(conjunto_b)\n",
        "print(diferencia_simetrica)\n"
      ]
    },
    {
      "attachments": {},
      "cell_type": "markdown",
      "id": "d5ed8f4d",
      "metadata": {},
      "source": [
        "### Ejercicio 10: Subconjuntos\n",
        "\n",
        "Comprueba si `{1, 2}` es un subconjunto de `{1, 2, 3}`."
      ]
    },
    {
      "cell_type": "code",
      "execution_count": 46,
      "id": "d7fef105",
      "metadata": {},
      "outputs": [
        {
          "name": "stdout",
          "output_type": "stream",
          "text": [
            "True\n"
          ]
        }
      ],
      "source": [
        "# Ejercicio\n",
        "subconjunto = {1, 2}\n",
        "conjunto = {1, 2, 3}\n",
        "es_subconjunto = subconjunto.issubset(conjunto)\n",
        "print(es_subconjunto)\n"
      ]
    },
    {
      "attachments": {},
      "cell_type": "markdown",
      "id": "611290ee",
      "metadata": {},
      "source": [
        "### Ejercicio 11: Superconjuntos\n",
        "\n",
        "Comprueba si `{1, 2, 3}` es un superconjunto de `{1, 2}`."
      ]
    },
    {
      "cell_type": "code",
      "execution_count": 47,
      "id": "02a85333",
      "metadata": {},
      "outputs": [
        {
          "name": "stdout",
          "output_type": "stream",
          "text": [
            "True\n"
          ]
        }
      ],
      "source": [
        "# Ejercicio\n",
        "superconjunto = {1, 2, 3}\n",
        "conjunto = {1, 2}\n",
        "es_superconjunto = superconjunto.issuperset(conjunto)\n",
        "print(es_superconjunto)\n"
      ]
    },
    {
      "attachments": {},
      "cell_type": "markdown",
      "id": "7b445712",
      "metadata": {},
      "source": [
        "### Ejercicio 12: Conjuntos Disjuntos\n",
        "\n",
        "Comprueba si los conjuntos `{1, 2, 3}` y `{4, 5, 6}` son disjuntos."
      ]
    },
    {
      "cell_type": "code",
      "execution_count": 48,
      "id": "2db515c3",
      "metadata": {},
      "outputs": [
        {
          "name": "stdout",
          "output_type": "stream",
          "text": [
            "True\n"
          ]
        }
      ],
      "source": [
        "# Ejercicio\n",
        "conjunto_a = {1, 2, 3}\n",
        "conjunto_b = {4, 5, 6}\n",
        "son_disjuntos = conjunto_a.isdisjoint(conjunto_b)\n",
        "print(son_disjuntos)\n"
      ]
    },
    {
      "attachments": {},
      "cell_type": "markdown",
      "id": "8193f528",
      "metadata": {},
      "source": [
        "### Ejercicio 13: Tamaño del Conjunto\n",
        "\n",
        "Obtén el número de elementos en el conjunto `{1, 2, 3, 4, 5}`."
      ]
    },
    {
      "cell_type": "code",
      "execution_count": 49,
      "id": "3ef44540",
      "metadata": {},
      "outputs": [
        {
          "name": "stdout",
          "output_type": "stream",
          "text": [
            "5\n"
          ]
        }
      ],
      "source": [
        "# Ejercicio\n",
        "conjunto = {1, 2, 3, 4, 5}\n",
        "tamaño = len(conjunto)\n",
        "print(tamaño)\n"
      ]
    },
    {
      "attachments": {},
      "cell_type": "markdown",
      "id": "0d6e4428",
      "metadata": {},
      "source": [
        "### Ejercicio 14: Eliminar Elementos\n",
        "\n",
        "Elimina todos los elementos del conjunto `{1, 2, 3, 4, 5}`."
      ]
    },
    {
      "cell_type": "code",
      "execution_count": 50,
      "id": "1fab6924",
      "metadata": {},
      "outputs": [
        {
          "name": "stdout",
          "output_type": "stream",
          "text": [
            "set()\n"
          ]
        }
      ],
      "source": [
        "# Ejercicio\n",
        "conjunto = {1, 2, 3, 4, 5}\n",
        "conjunto.clear()\n",
        "print(conjunto)\n"
      ]
    },
    {
      "attachments": {},
      "cell_type": "markdown",
      "id": "f91a4a24",
      "metadata": {},
      "source": [
        "### Ejercicio 15: Copiar un Conjunto\n",
        "\n",
        "Crea una copia del conjunto `{1, 2, 3}`."
      ]
    },
    {
      "cell_type": "code",
      "execution_count": 51,
      "id": "38d87a75",
      "metadata": {},
      "outputs": [
        {
          "name": "stdout",
          "output_type": "stream",
          "text": [
            "{1, 2, 3}\n"
          ]
        }
      ],
      "source": [
        "# Ejercicio\n",
        "conjunto_original = {1, 2, 3}\n",
        "conjunto_copia = conjunto_original.copy()\n",
        "print(conjunto_copia)\n"
      ]
    },
    {
      "attachments": {},
      "cell_type": "markdown",
      "id": "71439fae",
      "metadata": {},
      "source": [
        "### Ejercicio 16: Crear un Frozenset\n",
        "\n",
        "Crea un `frozenset` a partir de la lista `[1, 2, 3, 4, 5]`."
      ]
    },
    {
      "cell_type": "code",
      "execution_count": 52,
      "id": "7d2d4896",
      "metadata": {},
      "outputs": [
        {
          "name": "stdout",
          "output_type": "stream",
          "text": [
            "frozenset({1, 2, 3, 4, 5})\n"
          ]
        }
      ],
      "source": [
        "# Ejercicio\n",
        "lista = [1, 2, 3, 4, 5]\n",
        "conjunto_inmutable = frozenset(lista)\n",
        "print(conjunto_inmutable)\n"
      ]
    },
    {
      "attachments": {},
      "cell_type": "markdown",
      "id": "eb632519",
      "metadata": {},
      "source": [
        "### Ejercicio 17: Pop en Conjuntos\n",
        "\n",
        "Utiliza `pop()` para eliminar y retornar un elemento del conjunto `{1, 2, 3}`."
      ]
    },
    {
      "cell_type": "code",
      "execution_count": 53,
      "id": "dde4a244",
      "metadata": {},
      "outputs": [
        {
          "name": "stdout",
          "output_type": "stream",
          "text": [
            "1\n"
          ]
        }
      ],
      "source": [
        "# Ejercicio\n",
        "conjunto = {1, 2, 3}\n",
        "elemento = conjunto.pop()\n",
        "print(elemento)\n"
      ]
    },
    {
      "attachments": {},
      "cell_type": "markdown",
      "id": "47c18662",
      "metadata": {},
      "source": [
        "### Ejercicio 18: Convertir Conjunto en Lista\n",
        "\n",
        "Convierte el conjunto `{1, 2, 3, 4, 5}` en una lista."
      ]
    },
    {
      "cell_type": "code",
      "execution_count": 54,
      "id": "d700b867",
      "metadata": {},
      "outputs": [
        {
          "name": "stdout",
          "output_type": "stream",
          "text": [
            "[1, 2, 3, 4, 5]\n"
          ]
        }
      ],
      "source": [
        "# Ejercicio\n",
        "conjunto = {1, 2, 3, 4, 5}\n",
        "lista = list(conjunto)\n",
        "print(lista)\n"
      ]
    },
    {
      "attachments": {},
      "cell_type": "markdown",
      "id": "493379c4",
      "metadata": {},
      "source": [
        "### Ejercicio 19: Intersección de Múltiples Conjuntos\n",
        "\n",
        "Encuentra la intersección de los conjuntos `{1, 2, 3}`, `{2, 3, 4}` y `{3, 4, 5}`."
      ]
    },
    {
      "cell_type": "code",
      "execution_count": 55,
      "id": "47dc4f2d",
      "metadata": {},
      "outputs": [
        {
          "name": "stdout",
          "output_type": "stream",
          "text": [
            "{3}\n"
          ]
        }
      ],
      "source": [
        "# Ejercicio\n",
        "conjunto_a = {1, 2, 3}\n",
        "conjunto_b = {2, 3, 4}\n",
        "conjunto_c = {3, 4, 5}\n",
        "interseccion = conjunto_a.intersection(conjunto_b, conjunto_c)\n",
        "print(interseccion)\n"
      ]
    },
    {
      "attachments": {},
      "cell_type": "markdown",
      "id": "56a57f0d",
      "metadata": {},
      "source": [
        "### Ejercicio 20: Unión de Conjuntos con Comprensión\n",
        "\n",
        "Crea la unión de los conjuntos `{1, 2, 3}` y `{4, 5, 6}` utilizando una comprensión de conjunto."
      ]
    },
    {
      "cell_type": "code",
      "execution_count": 56,
      "id": "78a6fa40",
      "metadata": {},
      "outputs": [
        {
          "name": "stdout",
          "output_type": "stream",
          "text": [
            "{1, 2, 3, 4, 5, 6}\n"
          ]
        }
      ],
      "source": [
        "# Ejercicio\n",
        "conjunto_a = {1, 2, 3}\n",
        "conjunto_b = {4, 5, 6}\n",
        "union = {x for x in conjunto_a}.union(conjunto_b)\n",
        "print(union)\n"
      ]
    },
    {
      "attachments": {},
      "cell_type": "markdown",
      "id": "08ceba70",
      "metadata": {},
      "source": [
        "Estos ejercicios cubren una gama de operaciones y aplicaciones prácticas de los conjuntos en Python, ofreciendo una comprensión profunda de cómo y cuándo utilizar esta estructura de datos eficiente."
      ]
    }
  ],
  "metadata": {
    "kernelspec": {
      "display_name": "Python 3",
      "language": "python",
      "name": "python3"
    },
    "language_info": {
      "codemirror_mode": {
        "name": "ipython",
        "version": 3
      },
      "file_extension": ".py",
      "mimetype": "text/x-python",
      "name": "python",
      "nbconvert_exporter": "python",
      "pygments_lexer": "ipython3",
      "version": "3.8.10"
    }
  },
  "nbformat": 4,
  "nbformat_minor": 5
}
