{
  "cells": [
    {
      "cell_type": "markdown",
      "id": "59e4d1e3",
      "metadata": {},
      "source": [
        "# Ejercicios b\u00e1sicos\n",
        "\n",
        "### Ejercicio 1: Crear un Conjunto\n",
        "\n",
        "Crea un conjunto con los n\u00fameros del 1 al 5."
      ]
    },
    {
      "cell_type": "code",
      "execution_count": null,
      "id": "0d4c6072",
      "metadata": {},
      "outputs": [],
      "source": [
        "# Ejercicio\n",
        "mi_conjunto = {1, 2, 3, 4, 5}"
      ]
    },
    {
      "cell_type": "markdown",
      "id": "ef338c27",
      "metadata": {},
      "source": [
        "### Ejercicio 2: A\u00f1adir un Elemento\n",
        "\n",
        "A\u00f1ade el n\u00famero 6 al conjunto anterior."
      ]
    },
    {
      "cell_type": "code",
      "execution_count": null,
      "id": "b6a6d188",
      "metadata": {},
      "outputs": [],
      "source": [
        "# Ejercicio\n",
        "mi_conjunto.add(6)"
      ]
    },
    {
      "cell_type": "markdown",
      "id": "d7dbd46b",
      "metadata": {},
      "source": [
        "### Ejercicio 3: Eliminar un Elemento\n",
        "\n",
        "Elimina el n\u00famero 3 del conjunto."
      ]
    },
    {
      "cell_type": "code",
      "execution_count": null,
      "id": "0614d5f1",
      "metadata": {},
      "outputs": [],
      "source": [
        "# Ejercicio\n",
        "mi_conjunto.discard(3)"
      ]
    },
    {
      "cell_type": "markdown",
      "id": "f1333dd8",
      "metadata": {},
      "source": [
        "### Ejercicio 4: Verificar Pertenencia\n",
        "\n",
        "Comprueba si el n\u00famero 4 est\u00e1 en el conjunto."
      ]
    },
    {
      "cell_type": "code",
      "execution_count": null,
      "id": "5275c00d",
      "metadata": {},
      "outputs": [],
      "source": [
        "# Ejercicio\n",
        "4 in mi_conjunto  # True o False"
      ]
    },
    {
      "cell_type": "markdown",
      "id": "b5bf5613",
      "metadata": {},
      "source": [
        "### Ejercicio 5: Crear Conjunto desde Lista\n",
        "\n",
        "Crea un conjunto a partir de la siguiente lista: `[1, 2, 2, 3, 4, 4, 5]`."
      ]
    },
    {
      "cell_type": "code",
      "execution_count": null,
      "id": "1b10ba6a",
      "metadata": {},
      "outputs": [],
      "source": [
        "# Ejercicio\n",
        "lista = [1, 2, 2, 3, 4, 4, 5]\n",
        "conjunto_desde_lista = set(lista)"
      ]
    },
    {
      "cell_type": "markdown",
      "id": "4620a4ec",
      "metadata": {},
      "source": [
        "### Ejercicio 6: Uni\u00f3n de Conjuntos\n",
        "\n",
        "Dados dos conjuntos, `{1, 2, 3}` y `{4, 5, 6}`, encuentra su uni\u00f3n."
      ]
    },
    {
      "cell_type": "code",
      "execution_count": null,
      "id": "e059af79",
      "metadata": {},
      "outputs": [],
      "source": [
        "# Ejercicio\n",
        "conjunto_a = {1, 2, 3}\n",
        "conjunto_b = {4, 5, 6}\n",
        "union = conjunto_a.union(conjunto_b)"
      ]
    },
    {
      "cell_type": "markdown",
      "id": "a2b32334",
      "metadata": {},
      "source": [
        "### Ejercicio 7: Intersecci\u00f3n de Conjuntos\n",
        "\n",
        "Encuentra la intersecci\u00f3n de los conjuntos `{1, 2, 3}` y `{2, 3, 4}`."
      ]
    },
    {
      "cell_type": "code",
      "execution_count": null,
      "id": "38317854",
      "metadata": {},
      "outputs": [],
      "source": [
        "# Ejercicio\n",
        "conjunto_a = {1, 2, 3}\n",
        "conjunto_b = {2, 3, 4}\n",
        "interseccion = conjunto_a.intersection(conjunto_b)"
      ]
    },
    {
      "cell_type": "markdown",
      "id": "37c45dea",
      "metadata": {},
      "source": [
        "### Ejercicio 8: Diferencia de Conjuntos\n",
        "\n",
        "Encuentra la diferencia entre `{1, 2, 3}` y `{2, 3, 4}`."
      ]
    },
    {
      "cell_type": "code",
      "execution_count": null,
      "id": "0dbdb3fd",
      "metadata": {},
      "outputs": [],
      "source": [
        "# Ejercicio\n",
        "conjunto_a = {1, 2, 3}\n",
        "conjunto_b = {2, 3, 4}\n",
        "diferencia = conjunto_a - conjunto_b"
      ]
    },
    {
      "cell_type": "markdown",
      "id": "009ab960",
      "metadata": {},
      "source": [
        "### Ejercicio 9: Diferencia Sim\u00e9trica\n",
        "\n",
        "Encuentra la diferencia sim\u00e9trica entre `{1, 2, 3}` y `{2, 3, 4}`."
      ]
    },
    {
      "cell_type": "code",
      "execution_count": null,
      "id": "f1f81ada",
      "metadata": {},
      "outputs": [],
      "source": [
        "# Ejercicio\n",
        "conjunto_a = {1, 2, 3}\n",
        "conjunto_b = {2, 3, 4}\n",
        "diferencia_simetrica = conjunto_a.symmetric_difference(conjunto_b)"
      ]
    },
    {
      "cell_type": "markdown",
      "id": "d5ed8f4d",
      "metadata": {},
      "source": [
        "### Ejercicio 10: Subconjuntos\n",
        "\n",
        "Comprueba si `{1, 2}` es un subconjunto de `{1, 2, 3}`."
      ]
    },
    {
      "cell_type": "code",
      "execution_count": null,
      "id": "d7fef105",
      "metadata": {},
      "outputs": [],
      "source": [
        "# Ejercicio\n",
        "subconjunto = {1, 2}\n",
        "conjunto = {1, 2, 3}\n",
        "es_subconjunto = subconjunto.issubset(conjunto)"
      ]
    },
    {
      "cell_type": "markdown",
      "id": "611290ee",
      "metadata": {},
      "source": [
        "### Ejercicio 11: Superconjuntos\n",
        "\n",
        "Comprueba si `{1, 2, 3}` es un superconjunto de `{1, 2}`."
      ]
    },
    {
      "cell_type": "code",
      "execution_count": null,
      "id": "02a85333",
      "metadata": {},
      "outputs": [],
      "source": [
        "# Ejercicio\n",
        "superconjunto = {1, 2, 3}\n",
        "conjunto = {1, 2}\n",
        "es_superconjunto = superconjunto.issuperset(conjunto)"
      ]
    },
    {
      "cell_type": "markdown",
      "id": "7b445712",
      "metadata": {},
      "source": [
        "### Ejercicio 12: Conjuntos Disjuntos\n",
        "\n",
        "Comprueba si los conjuntos `{1, 2, 3}` y `{4, 5, 6}` son disjuntos."
      ]
    },
    {
      "cell_type": "code",
      "execution_count": null,
      "id": "2db515c3",
      "metadata": {},
      "outputs": [],
      "source": [
        "# Ejercicio\n",
        "conjunto_a = {1, 2, 3}\n",
        "conjunto_b = {4, 5, 6}\n",
        "son_disjuntos = conjunto_a.isdisjoint(conjunto_b)"
      ]
    },
    {
      "cell_type": "markdown",
      "id": "8193f528",
      "metadata": {},
      "source": [
        "### Ejercicio 13: Tama\u00f1o del Conjunto\n",
        "\n",
        "Obt\u00e9n el n\u00famero de elementos en el conjunto `{1, 2, 3, 4, 5}`."
      ]
    },
    {
      "cell_type": "code",
      "execution_count": null,
      "id": "3ef44540",
      "metadata": {},
      "outputs": [],
      "source": [
        "# Ejercicio\n",
        "conjunto = {1, 2, 3, 4, 5}\n",
        "tama\u00f1o = len(conjunto)"
      ]
    },
    {
      "cell_type": "markdown",
      "id": "0d6e4428",
      "metadata": {},
      "source": [
        "### Ejercicio 14: Eliminar Elementos\n",
        "\n",
        "Elimina todos los elementos del conjunto `{1, 2, 3, 4, 5}`."
      ]
    },
    {
      "cell_type": "code",
      "execution_count": null,
      "id": "1fab6924",
      "metadata": {},
      "outputs": [],
      "source": [
        "# Ejercicio\n",
        "conjunto = {1, 2, 3, 4, 5}\n",
        "conjunto.clear()"
      ]
    },
    {
      "cell_type": "markdown",
      "id": "f91a4a24",
      "metadata": {},
      "source": [
        "### Ejercicio 15: Copiar un Conjunto\n",
        "\n",
        "Crea una copia del conjunto `{1, 2, 3}`."
      ]
    },
    {
      "cell_type": "code",
      "execution_count": null,
      "id": "38d87a75",
      "metadata": {},
      "outputs": [],
      "source": [
        "# Ejercicio\n",
        "conjunto_original = {1, 2, 3}\n",
        "conjunto_copia = conjunto_original.copy()"
      ]
    },
    {
      "cell_type": "markdown",
      "id": "71439fae",
      "metadata": {},
      "source": [
        "### Ejercicio 16: Crear un Frozenset\n",
        "\n",
        "Crea un `frozenset` a partir de la lista `[1, 2, 3, 4, 5]`."
      ]
    },
    {
      "cell_type": "code",
      "execution_count": null,
      "id": "7d2d4896",
      "metadata": {},
      "outputs": [],
      "source": [
        "# Ejercicio\n",
        "lista = [1, 2, 3, 4, 5]\n",
        "conjunto_inmutable = frozenset(lista)"
      ]
    },
    {
      "cell_type": "markdown",
      "id": "eb632519",
      "metadata": {},
      "source": [
        "### Ejercicio 17: Pop en Conjuntos\n",
        "\n",
        "Utiliza `pop()` para eliminar y retornar un elemento del conjunto `{1, 2, 3}`."
      ]
    },
    {
      "cell_type": "code",
      "execution_count": null,
      "id": "dde4a244",
      "metadata": {},
      "outputs": [],
      "source": [
        "# Ejercicio\n",
        "conjunto = {1, 2, 3}\n",
        "elemento = conjunto.pop()"
      ]
    },
    {
      "cell_type": "markdown",
      "id": "47c18662",
      "metadata": {},
      "source": [
        "### Ejercicio 18: Convertir Conjunto en Lista\n",
        "\n",
        "Convierte el conjunto `{1, 2, 3, 4, 5}` en una lista."
      ]
    },
    {
      "cell_type": "code",
      "execution_count": null,
      "id": "d700b867",
      "metadata": {},
      "outputs": [],
      "source": [
        "# Ejercicio\n",
        "conjunto = {1, 2, 3, 4, 5}\n",
        "lista = list(conjunto)"
      ]
    },
    {
      "cell_type": "markdown",
      "id": "493379c4",
      "metadata": {},
      "source": [
        "### Ejercicio 19: Intersecci\u00f3n de M\u00faltiples Conjuntos\n",
        "\n",
        "Encuentra la intersecci\u00f3n de los conjuntos `{1, 2, 3}`, `{2, 3, 4}` y `{3, 4, 5}`."
      ]
    },
    {
      "cell_type": "code",
      "execution_count": null,
      "id": "47dc4f2d",
      "metadata": {},
      "outputs": [],
      "source": [
        "# Ejercicio\n",
        "conjunto_a = {1, 2, 3}\n",
        "conjunto_b = {2, 3, 4}\n",
        "conjunto_c = {3, 4, 5}\n",
        "interseccion = conjunto_a.intersection(conjunto_b, conjunto_c)"
      ]
    },
    {
      "cell_type": "markdown",
      "id": "56a57f0d",
      "metadata": {},
      "source": [
        "### Ejercicio 20: Uni\u00f3n de Conjuntos con Comprensi\u00f3n\n",
        "\n",
        "Crea la uni\u00f3n de los conjuntos `{1, 2, 3}` y `{4, 5, 6}` utilizando una comprensi\u00f3n de conjunto."
      ]
    },
    {
      "cell_type": "code",
      "execution_count": null,
      "id": "78a6fa40",
      "metadata": {},
      "outputs": [],
      "source": [
        "# Ejercicio\n",
        "conjunto_a = {1, 2, 3}\n",
        "conjunto_b = {4, 5, 6}\n",
        "union = {x for x in conjunto_a}.union(conjunto_b)"
      ]
    },
    {
      "cell_type": "markdown",
      "id": "08ceba70",
      "metadata": {},
      "source": [
        "Estos ej\n",
        "\n",
        "ercicios cubren una gama de operaciones y aplicaciones pr\u00e1cticas de los conjuntos en Python, ofreciendo una comprensi\u00f3n profunda de c\u00f3mo y cu\u00e1ndo utilizar esta estructura de datos eficiente."
      ]
    }
  ],
  "metadata": {},
  "nbformat": 4,
  "nbformat_minor": 5
}