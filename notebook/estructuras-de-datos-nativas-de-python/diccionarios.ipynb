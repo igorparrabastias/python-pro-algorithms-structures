{
 "cells": [
  {
   "cell_type": "markdown",
   "id": "93520a14",
   "metadata": {},
   "source": [
    "# Diccionarios en Python\n",
    "\n",
    "## ¿Qué es un Diccionario?\n",
    "\n",
    "Los diccionarios en Python son estructuras de datos que funcionan como mapas de clave-valor. Son colecciones desordenadas, lo que significa que no tienen un orden establecido ni están indexados. En Python, los diccionarios son mutables, lo que permite modificar los datos después de haber sido creados.\n",
    "\n",
    "## Creación de Diccionarios\n",
    "\n",
    "Para comenzar con diccionarios, veamos cómo podemos crearlos y qué sintaxis utilizar.\n",
    "\n",
    "### Creando un Diccionario Vacío"
   ]
  },
  {
   "cell_type": "code",
   "execution_count": null,
   "id": "f9a8ff1c",
   "metadata": {},
   "outputs": [],
   "source": [
    "diccionario_vacio = {}\n",
    "print(diccionario_vacio)"
   ]
  },
  {
   "cell_type": "markdown",
   "id": "495436e0",
   "metadata": {},
   "source": [
    "### Creando un Diccionario con Elementos Iniciales"
   ]
  },
  {
   "cell_type": "code",
   "execution_count": null,
   "id": "8d052d36",
   "metadata": {},
   "outputs": [],
   "source": [
    "diccionario_con_datos = {'nombre': 'Ana', 'edad': 28, 'ciudad': 'Santiago'}\n",
    "print(diccionario_con_datos)"
   ]
  },
  {
   "cell_type": "markdown",
   "id": "74e8b99b",
   "metadata": {},
   "source": [
    "## Acceso a los Elementos\n",
    "\n",
    "Los elementos de los diccionarios se pueden acceder utilizando sus claves.\n",
    "\n",
    "### Accediendo a un Elemento por su Clave"
   ]
  },
  {
   "cell_type": "code",
   "execution_count": null,
   "id": "d0f3f455",
   "metadata": {},
   "outputs": [],
   "source": [
    "nombre = diccionario_con_datos['nombre']\n",
    "print(\"Nombre:\", nombre)"
   ]
  },
  {
   "cell_type": "markdown",
   "id": "0b3ada9d",
   "metadata": {},
   "source": [
    "### Utilizando el Método `get`\n",
    "\n",
    "El método `get` es una forma segura de acceder a los elementos, ya que permite especificar un valor predeterminado si la clave no existe."
   ]
  },
  {
   "cell_type": "code",
   "execution_count": null,
   "id": "c393cd25",
   "metadata": {},
   "outputs": [],
   "source": [
    "profesion = diccionario_con_datos.get('profesion', 'No especificado')\n",
    "print(\"Profesión:\", profesion)"
   ]
  },
  {
   "cell_type": "markdown",
   "id": "3e9ddf84",
   "metadata": {},
   "source": [
    "## Modificación de Elementos\n",
    "\n",
    "Una vez que tienes un diccionario, puedes modificarlo agregando nuevos elementos o cambiando el valor de los existentes.\n",
    "\n",
    "### Agregando un Nuevo Elemento"
   ]
  },
  {
   "cell_type": "code",
   "execution_count": null,
   "id": "b8e51332",
   "metadata": {},
   "outputs": [],
   "source": [
    "diccionario_con_datos['profesion'] = 'Ingeniero'\n",
    "print(diccionario_con_datos)"
   ]
  },
  {
   "cell_type": "markdown",
   "id": "96dfc988",
   "metadata": {},
   "source": [
    "### Modificando un Elemento Existente"
   ]
  },
  {
   "cell_type": "code",
   "execution_count": null,
   "id": "ed1f61fe",
   "metadata": {},
   "outputs": [],
   "source": [
    "diccionario_con_datos['edad'] = 29\n",
    "print(diccionario_con_datos)"
   ]
  },
  {
   "cell_type": "markdown",
   "id": "b011686d",
   "metadata": {},
   "source": [
    "## Eliminación de Elementos\n",
    "\n",
    "Podemos eliminar elementos de un diccionario utilizando diversas funciones.\n",
    "\n",
    "### Eliminar un Elemento Específico"
   ]
  },
  {
   "cell_type": "code",
   "execution_count": null,
   "id": "edb99e47",
   "metadata": {},
   "outputs": [],
   "source": [
    "del diccionario_con_datos['ciudad']\n",
    "print(diccionario_con_datos)"
   ]
  },
  {
   "cell_type": "markdown",
   "id": "9b2cb610",
   "metadata": {},
   "source": [
    "### Utilizando el Método `pop`\n",
    "\n",
    "El método `pop` elimina el elemento con la clave dada y devuelve el valor del elemento eliminado."
   ]
  },
  {
   "cell_type": "code",
   "execution_count": null,
   "id": "3f5ba566",
   "metadata": {},
   "outputs": [],
   "source": [
    "edad = diccionario_con_datos.pop('edad')\n",
    "print(\"Edad eliminada:\", edad)\n",
    "print(diccionario_con_datos)"
   ]
  },
  {
   "cell_type": "markdown",
   "id": "4da08933",
   "metadata": {},
   "source": [
    "## Métodos Útiles para Diccionarios\n",
    "\n",
    "Python proporciona varios métodos útiles que facilitan la manipulación de diccionarios.\n",
    "\n",
    "### Claves, Valores y Elementos"
   ]
  },
  {
   "cell_type": "code",
   "execution_count": null,
   "id": "c4c6a82f",
   "metadata": {},
   "outputs": [],
   "source": [
    "# Claves\n",
    "claves = diccionario_con_datos.keys()\n",
    "print(\"Claves:\", list(claves))\n",
    "\n",
    "# Valores\n",
    "valores = diccionario_con_datos.values()\n",
    "print(\"Valores:\", list(valores))\n",
    "\n",
    "# Elementos (clave-valor)\n",
    "elementos = diccionario_con_datos.items()\n",
    "print(\"Elementos:\", list(elementos))"
   ]
  },
  {
   "cell_type": "markdown",
   "id": "9a27d98a",
   "metadata": {},
   "source": [
    "### Limpiar un Diccionario\n",
    "\n",
    "Para eliminar todos los elementos de un diccionario, utilizamos el método `clear`."
   ]
  },
  {
   "cell_type": "code",
   "execution_count": null,
   "id": "b91a69f4",
   "metadata": {},
   "outputs": [],
   "source": [
    "diccionario_con_datos.clear()\n",
    "print(\"Diccionario después de limpiar:\", diccionario_con_datos)"
   ]
  },
  {
   "cell_type": "markdown",
   "id": "48545916",
   "metadata": {},
   "source": [
    "## Conclusión\n",
    "\n",
    "En este cuaderno hemos aprendido cómo trabajar con diccionarios en Python, incluyendo cómo crearlos, acceder a sus elementos, modificarlos y eliminarlos. Los diccionarios son herramientas poderosas y flexibles en Python, ideales para manejar datos de forma dinámica."
   ]
  }
 ],
 "metadata": {},
 "nbformat": 4,
 "nbformat_minor": 5
}
