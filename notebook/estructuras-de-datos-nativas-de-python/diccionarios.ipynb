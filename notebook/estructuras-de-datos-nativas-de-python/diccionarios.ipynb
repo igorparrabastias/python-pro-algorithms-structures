{
 "cells": [
  {
   "cell_type": "markdown",
   "id": "93520a14",
   "metadata": {},
   "source": [
    "# Diccionarios en Python\n",
    "\n",
    "## ¿Qué es un Diccionario?\n",
    "\n",
    "Los diccionarios en Python son estructuras de datos que funcionan como mapas de clave-valor. Son colecciones desordenadas, lo que significa que no tienen un orden establecido ni están indexados. En Python, los diccionarios son mutables, lo que permite modificar los datos después de haber sido creados.\n",
    "\n",
    "## Creación de Diccionarios\n",
    "\n",
    "Para comenzar con diccionarios, veamos cómo podemos crearlos y qué sintaxis utilizar.\n",
    "\n",
    "### Creando un Diccionario Vacío"
   ]
  },
  {
   "cell_type": "code",
   "execution_count": 1,
   "id": "f9a8ff1c",
   "metadata": {},
   "outputs": [
    {
     "name": "stdout",
     "output_type": "stream",
     "text": [
      "{}\n"
     ]
    }
   ],
   "source": [
    "diccionario_vacio = {}\n",
    "print(diccionario_vacio)"
   ]
  },
  {
   "cell_type": "markdown",
   "id": "495436e0",
   "metadata": {},
   "source": [
    "### Creando un Diccionario con Elementos Iniciales"
   ]
  },
  {
   "cell_type": "code",
   "execution_count": 2,
   "id": "8d052d36",
   "metadata": {},
   "outputs": [
    {
     "name": "stdout",
     "output_type": "stream",
     "text": [
      "{'nombre': 'Ana', 'edad': 28, 'ciudad': 'Santiago'}\n"
     ]
    }
   ],
   "source": [
    "diccionario_con_datos = {'nombre': 'Ana', 'edad': 28, 'ciudad': 'Santiago'}\n",
    "print(diccionario_con_datos)"
   ]
  },
  {
   "cell_type": "markdown",
   "id": "74e8b99b",
   "metadata": {},
   "source": [
    "## Acceso a los Elementos\n",
    "\n",
    "Los elementos de los diccionarios se pueden acceder utilizando sus claves.\n",
    "\n",
    "### Accediendo a un Elemento por su Clave"
   ]
  },
  {
   "cell_type": "code",
   "execution_count": 3,
   "id": "d0f3f455",
   "metadata": {},
   "outputs": [
    {
     "name": "stdout",
     "output_type": "stream",
     "text": [
      "Nombre: Ana\n"
     ]
    }
   ],
   "source": [
    "nombre = diccionario_con_datos['nombre']\n",
    "print(\"Nombre:\", nombre)"
   ]
  },
  {
   "cell_type": "markdown",
   "id": "0b3ada9d",
   "metadata": {},
   "source": [
    "### Utilizando el Método `get`\n",
    "\n",
    "El método `get` es una forma segura de acceder a los elementos, ya que permite especificar un valor predeterminado si la clave no existe."
   ]
  },
  {
   "cell_type": "code",
   "execution_count": 4,
   "id": "c393cd25",
   "metadata": {},
   "outputs": [
    {
     "name": "stdout",
     "output_type": "stream",
     "text": [
      "Profesión: No especificado\n"
     ]
    }
   ],
   "source": [
    "profesion = diccionario_con_datos.get('profesion', 'No especificado')\n",
    "print(\"Profesión:\", profesion)"
   ]
  },
  {
   "cell_type": "markdown",
   "id": "3e9ddf84",
   "metadata": {},
   "source": [
    "## Modificación de Elementos\n",
    "\n",
    "Una vez que tienes un diccionario, puedes modificarlo agregando nuevos elementos o cambiando el valor de los existentes.\n",
    "\n",
    "### Agregando un Nuevo Elemento"
   ]
  },
  {
   "cell_type": "code",
   "execution_count": 5,
   "id": "b8e51332",
   "metadata": {},
   "outputs": [
    {
     "name": "stdout",
     "output_type": "stream",
     "text": [
      "{'nombre': 'Ana', 'edad': 28, 'ciudad': 'Santiago', 'profesion': 'Ingeniero'}\n"
     ]
    }
   ],
   "source": [
    "diccionario_con_datos['profesion'] = 'Ingeniero'\n",
    "print(diccionario_con_datos)"
   ]
  },
  {
   "cell_type": "markdown",
   "id": "96dfc988",
   "metadata": {},
   "source": [
    "### Modificando un Elemento Existente"
   ]
  },
  {
   "cell_type": "code",
   "execution_count": 6,
   "id": "ed1f61fe",
   "metadata": {},
   "outputs": [
    {
     "name": "stdout",
     "output_type": "stream",
     "text": [
      "{'nombre': 'Ana', 'edad': 29, 'ciudad': 'Santiago', 'profesion': 'Ingeniero'}\n"
     ]
    }
   ],
   "source": [
    "diccionario_con_datos['edad'] = 29\n",
    "print(diccionario_con_datos)"
   ]
  },
  {
   "cell_type": "markdown",
   "id": "b011686d",
   "metadata": {},
   "source": [
    "## Eliminación de Elementos\n",
    "\n",
    "Podemos eliminar elementos de un diccionario utilizando diversas funciones.\n",
    "\n",
    "### Eliminar un Elemento Específico"
   ]
  },
  {
   "cell_type": "code",
   "execution_count": 7,
   "id": "edb99e47",
   "metadata": {},
   "outputs": [
    {
     "name": "stdout",
     "output_type": "stream",
     "text": [
      "{'nombre': 'Ana', 'edad': 29, 'profesion': 'Ingeniero'}\n"
     ]
    }
   ],
   "source": [
    "del diccionario_con_datos['ciudad']\n",
    "print(diccionario_con_datos)"
   ]
  },
  {
   "cell_type": "markdown",
   "id": "9b2cb610",
   "metadata": {},
   "source": [
    "### Utilizando el Método `pop`\n",
    "\n",
    "El método `pop` elimina el elemento con la clave dada y devuelve el valor del elemento eliminado."
   ]
  },
  {
   "cell_type": "code",
   "execution_count": 8,
   "id": "3f5ba566",
   "metadata": {},
   "outputs": [
    {
     "name": "stdout",
     "output_type": "stream",
     "text": [
      "Edad eliminada: 29\n",
      "{'nombre': 'Ana', 'profesion': 'Ingeniero'}\n"
     ]
    }
   ],
   "source": [
    "edad = diccionario_con_datos.pop('edad')\n",
    "print(\"Edad eliminada:\", edad)\n",
    "print(diccionario_con_datos)"
   ]
  },
  {
   "cell_type": "markdown",
   "id": "4da08933",
   "metadata": {},
   "source": [
    "## Métodos Útiles para Diccionarios\n",
    "\n",
    "Python proporciona varios métodos útiles que facilitan la manipulación de diccionarios.\n",
    "\n",
    "### Claves, Valores y Elementos"
   ]
  },
  {
   "cell_type": "code",
   "execution_count": 9,
   "id": "c4c6a82f",
   "metadata": {},
   "outputs": [
    {
     "name": "stdout",
     "output_type": "stream",
     "text": [
      "Claves: ['nombre', 'profesion']\n",
      "Valores: ['Ana', 'Ingeniero']\n",
      "Elementos: [('nombre', 'Ana'), ('profesion', 'Ingeniero')]\n"
     ]
    }
   ],
   "source": [
    "# Claves\n",
    "claves = diccionario_con_datos.keys()\n",
    "print(\"Claves:\", list(claves))\n",
    "\n",
    "# Valores\n",
    "valores = diccionario_con_datos.values()\n",
    "print(\"Valores:\", list(valores))\n",
    "\n",
    "# Elementos (clave-valor)\n",
    "elementos = diccionario_con_datos.items()\n",
    "print(\"Elementos:\", list(elementos))"
   ]
  },
  {
   "cell_type": "markdown",
   "id": "9a27d98a",
   "metadata": {},
   "source": [
    "### Limpiar un Diccionario\n",
    "\n",
    "Para eliminar todos los elementos de un diccionario, utilizamos el método `clear`."
   ]
  },
  {
   "cell_type": "code",
   "execution_count": 10,
   "id": "b91a69f4",
   "metadata": {},
   "outputs": [
    {
     "name": "stdout",
     "output_type": "stream",
     "text": [
      "Diccionario después de limpiar: {}\n"
     ]
    }
   ],
   "source": [
    "diccionario_con_datos.clear()\n",
    "print(\"Diccionario después de limpiar:\", diccionario_con_datos)"
   ]
  },
  {
   "cell_type": "markdown",
   "id": "48545916",
   "metadata": {},
   "source": [
    "## Conclusión\n",
    "\n",
    "En este cuaderno hemos aprendido cómo trabajar con diccionarios en Python, incluyendo cómo crearlos, acceder a sus elementos, modificarlos y eliminarlos. Los diccionarios son herramientas poderosas y flexibles en Python, ideales para manejar datos de forma dinámica."
   ]
  }
 ],
 "metadata": {
  "kernelspec": {
   "display_name": "Python 3",
   "language": "python",
   "name": "python3"
  },
  "language_info": {
   "codemirror_mode": {
    "name": "ipython",
    "version": 3
   },
   "file_extension": ".py",
   "mimetype": "text/x-python",
   "name": "python",
   "nbconvert_exporter": "python",
   "pygments_lexer": "ipython3",
   "version": "3.8.10"
  }
 },
 "nbformat": 4,
 "nbformat_minor": 5
}
