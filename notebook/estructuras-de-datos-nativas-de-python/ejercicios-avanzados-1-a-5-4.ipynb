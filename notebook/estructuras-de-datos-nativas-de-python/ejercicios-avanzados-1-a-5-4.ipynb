{
 "cells": [
  {
   "cell_type": "markdown",
   "id": "0a11a086",
   "metadata": {},
   "source": [
    "## Ejercicio Avanzado 1: Diccionario de Contadores con Clases\n",
    "\n",
    "**Objetivo:** Utilizar clases para crear un contador personalizado que maneje un diccionario interno para contar ocurrencias de objetos.\n",
    "\n",
    "**Descripción:**\n",
    "1. Define una clase `Contador` que inicialice un diccionario vacío.\n",
    "2. Añade un método `agregar` que incremente en uno la cuenta de un objeto dado.\n",
    "3. Añade un método `obtener_cuenta` que devuelva la cuenta actual de un objeto.\n",
    "\n",
    "**Código de Ejemplo:**"
   ]
  },
  {
   "cell_type": "code",
   "execution_count": null,
   "id": "322548c2",
   "metadata": {},
   "outputs": [],
   "source": [
    "class Contador:\n",
    "    def __init__(self):\n",
    "        self.items = {}\n",
    "    \n",
    "    def agregar(self, item):\n",
    "        if item in self.items:\n",
    "            self.items[item] += 1\n",
    "        else:\n",
    "            self.items[item] = 1\n",
    "    \n",
    "    def obtener_cuenta(self, item):\n",
    "        return self.items.get(item, 0)\n",
    "\n",
    "# Uso de la clase\n",
    "contador = Contador()\n",
    "contador.agregar('manzana')\n",
    "contador.agregar('manzana')\n",
    "print(contador.obtener_cuenta('manzana'))  # Debería imprimir 2\n",
    "print(contador.obtener_cuenta('banana'))  # Debería imprimir 0"
   ]
  },
  {
   "cell_type": "markdown",
   "id": "5772b0e0",
   "metadata": {},
   "source": [
    "## Ejercicio Avanzado 2: Fusionar Listas en Diccionarios Anidados\n",
    "\n",
    "**Objetivo:** Fusionar múltiples diccionarios que contienen listas como valores, combinando listas con la misma clave.\n",
    "\n",
    "**Descripción:**\n",
    "1. Dado una lista de diccionarios, fusiona estos diccionarios para que las listas de valores con la misma clave se combinen en una sola lista.\n",
    "\n",
    "**Código de Ejemplo:**"
   ]
  },
  {
   "cell_type": "code",
   "execution_count": null,
   "id": "518f14f9",
   "metadata": {},
   "outputs": [],
   "source": [
    "diccs = [{'a': [1, 2]}, {'b': [3, 4]}, {'a': [5]}]\n",
    "resultado = {}\n",
    "for dicc in diccs:\n",
    "    for clave, valor in dicc.items():\n",
    "        if clave in resultado:\n",
    "            resultado[clave].extend(valor)\n",
    "        else:\n",
    "            resultado[clave] = valor.copy()\n",
    "print(resultado)  # Debería imprimir {'a': [1, 2, 5], 'b': [3, 4]}"
   ]
  },
  {
   "cell_type": "markdown",
   "id": "e20cb518",
   "metadata": {},
   "source": [
    "## Ejercicio Avanzado 3: Diccionario con Valores Predeterminados\n",
    "\n",
    "**Objetivo:** Crear un diccionario que automáticamente asigna una lista vacía a nuevas claves accedidas.\n",
    "\n",
    "**Descripción:**\n",
    "1. Usa `collections.defaultdict` para crear un diccionario que no requiera chequear si una clave existe antes de agregar un elemento a la lista de esa clave.\n",
    "\n",
    "**Código de Ejemplo:**"
   ]
  },
  {
   "cell_type": "code",
   "execution_count": null,
   "id": "10c39579",
   "metadata": {},
   "outputs": [],
   "source": [
    "from collections import defaultdict\n",
    "\n",
    "dicc = defaultdict(list)\n",
    "dicc['frutas'].append('manzana')\n",
    "dicc['frutas'].append('banana')\n",
    "print(dicc['frutas'])  # Debería imprimir ['manzana', 'banana']"
   ]
  },
  {
   "cell_type": "markdown",
   "id": "2ab08776",
   "metadata": {},
   "source": [
    "## Ejercicio Avanzado 4: Serialización Personalizada de Diccionarios\n",
    "\n",
    "**Objetivo:** Implementar una función que serialize un diccionario a JSON, excluyendo aquellos pares clave-valor donde el valor sea `None`.\n",
    "\n",
    "**Descripción:**\n",
    "1. Define una función que tome un diccionario y devuelva una versión serializada en JSON excluyendo pares con valores `None`.\n",
    "\n",
    "**Código de Ejemplo:**"
   ]
  },
  {
   "cell_type": "code",
   "execution_count": null,
   "id": "203b5638",
   "metadata": {},
   "outputs": [],
   "source": [
    "import json\n",
    "\n",
    "def serialize(dicc):\n",
    "    return json.dumps({clave: valor for clave, valor in dicc.items() if valor is not None})\n",
    "\n",
    "dicc = {'nombre': 'Juan', 'edad': None}\n",
    "print(serialize(dicc))  # Debería imprimir '{\"nombre\": \"Juan\"}'"
   ]
  },
  {
   "cell_type": "markdown",
   "id": "4bb18340",
   "metadata": {},
   "source": [
    "## Ejercicio Avanzado 5: Aplicar Funciones a Claves Específicas\n",
    "\n",
    "**Objetivo:** Aplicar una función específica a valores de claves específicas en un diccionario.\n",
    "\n",
    "**Descripción:**\n",
    "1. Define un diccionario que mapea nombres de claves a funciones.\n",
    "2. Aplica estas funciones a un diccionario de entrada, modificando los valores de las claves especificadas.\n",
    "\n",
    "**Código de Ejemplo:**\n",
    "```python\n",
    "def incrementar(x):\n",
    "    return x + 1\n",
    "\n",
    "def capitalizar(texto):\n",
    "    return texto.capitalize()\n",
    "\n",
    "\n",
    "\n",
    "transformaciones = {'edad': incrementar, 'nombre': capitalizar}\n",
    "persona = {'nombre': 'juan', 'edad': 29}\n",
    "\n",
    "for clave, func in transformaciones.items():\n",
    "    if clave in persona:\n",
    "        persona[clave] = func(persona[clave])\n",
    "\n",
    "print(persona)  # Debería imprimir {'nombre': 'Juan', 'edad': 30}\n",
    "```"
   ]
  }
 ],
 "metadata": {},
 "nbformat": 4,
 "nbformat_minor": 5
}
