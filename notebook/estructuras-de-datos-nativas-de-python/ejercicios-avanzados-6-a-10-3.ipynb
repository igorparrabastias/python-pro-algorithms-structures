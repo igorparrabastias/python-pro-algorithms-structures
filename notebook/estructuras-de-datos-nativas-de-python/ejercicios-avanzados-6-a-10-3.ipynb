{
  "cells": [
    {
      "attachments": {},
      "cell_type": "markdown",
      "id": "f7112143",
      "metadata": {},
      "source": [
        "# Ejercicios Avanzados 6 a 10\n",
        "\n",
        "### Ejercicio 6: Conjunto de Elementos Comunes en Listas Anidadas\n",
        "\n",
        "Dada una lista de listas, encuentra los elementos comunes a todas las sublistas."
      ]
    },
    {
      "cell_type": "code",
      "execution_count": 6,
      "id": "2c2dd68c",
      "metadata": {},
      "outputs": [
        {
          "name": "stdout",
          "output_type": "stream",
          "text": [
            "{3}\n"
          ]
        }
      ],
      "source": [
        "# Ejercicio\n",
        "listas_anidadas = [[1, 2, 3], [2, 3, 4], [3, 4, 5]]\n",
        "elementos_comunes = set(listas_anidadas[0]).intersection(*listas_anidadas[1:])\n",
        "print(elementos_comunes)\n"
      ]
    },
    {
      "attachments": {},
      "cell_type": "markdown",
      "id": "64db6c75",
      "metadata": {},
      "source": [
        "El ejercicio busca encontrar los elementos comunes a todas las sublistas dentro de una lista de listas llamada `listas_anidadas`. Se realiza en dos pasos principales:\n",
        "\n",
        "1. **Inicialización de `elementos_comunes`**: Se convierte la primera sublista (`[1, 2, 3]`) en un conjunto para poder aplicar operaciones de conjuntos sobre ella. Este conjunto inicial sirve como base para la comparación con los elementos de las sublistas subsiguientes.\n",
        "\n",
        "2. **Aplicación del Método `intersection`**: Se utiliza el método `intersection` sobre el conjunto inicializado con la primera sublista, pasando como argumentos los conjuntos convertidos de las sublistas restantes (`[2, 3, 4]` y `[3, 4, 5]`). El operador `*` antes de `listas_anidadas[1:]` desempaqueta los elementos de la lista de sublistas subsiguientes, permitiendo que `intersection` reciba cada sublista como un argumento separado. Esto calcula la intersección de todos los conjuntos involucrados, es decir, los elementos comunes a todas las sublistas.\n",
        "\n",
        "**Resultado**: `elementos_comunes` resulta ser `{3}` después de aplicar `intersection`, lo que indica que el número 3 es el único elemento presente en todas las sublistas de `listas_anidadas`.\n",
        "\n",
        "Este proceso es útil para identificar elementos compartidos por múltiples colecciones, aplicando eficientemente operaciones de conjuntos en Python para encontrar intersecciones entre múltiples grupos de elementos."
      ]
    },
    {
      "attachments": {},
      "cell_type": "markdown",
      "id": "c62b45e4",
      "metadata": {},
      "source": [
        "### Ejercicio 7: Eliminar Subconjuntos de un Conjunto de Conjuntos\n",
        "\n",
        "Dado un conjunto de conjuntos, elimina todos los subconjuntos que estén contenidos en otro conjunto del mismo conjunto de conjuntos."
      ]
    },
    {
      "cell_type": "code",
      "execution_count": 8,
      "id": "2a09bdaf",
      "metadata": {},
      "outputs": [
        {
          "name": "stdout",
          "output_type": "stream",
          "text": [
            "{frozenset({1, 2, 3})}\n"
          ]
        }
      ],
      "source": [
        "# Ejercicio\n",
        "conjunto_conjuntos = {frozenset({1, 2}), frozenset({1, 2, 3}), frozenset({2, 3})}\n",
        "conjunto_sin_subconjuntos = {s for s in conjunto_conjuntos if not any(s < otro for otro in conjunto_conjuntos if s != otro)}\n",
        "print(conjunto_sin_subconjuntos)\n"
      ]
    },
    {
      "attachments": {},
      "cell_type": "markdown",
      "id": "8a10409e",
      "metadata": {},
      "source": [
        "Este ejercicio filtra `conjunto_conjuntos`, una colección de `frozenset`s, para eliminar aquellos conjuntos que son subconjuntos de otros conjuntos dentro de la misma colección. Se realiza en varios pasos:\n",
        "\n",
        "1. **Creación de `conjunto_conjuntos`**: Se define un conjunto de `frozenset`s, cada uno representando un conjunto inmutable de números. Usar `frozenset` permite que los conjuntos sean hashables y, por lo tanto, puedan ser almacenados en un conjunto (`set`).\n",
        "\n",
        "2. **Filtrado para Eliminar Subconjuntos**: La comprensión de conjunto crea un nuevo conjunto, `conjunto_sin_subconjuntos`, que incluye solo aquellos `frozenset`s en `conjunto_conjuntos` que no son subconjuntos de ningún otro `frozenset` en la colección. Esto se logra mediante la condición `not any(s < otro for otro in conjunto_conjuntos if s != otro)`, que verifica para cada `frozenset s` si hay algún `otro` `frozenset` del que `s` sea subconjunto (`s < otro`). Si no hay tal `otro`, entonces `s` se incluye en `conjunto_sin_subconjuntos`.\n",
        "\n",
        "3. **Resultado**: Al imprimir `conjunto_sin_subconjuntos`, se muestra el conjunto de `frozenset`s que no son subconjuntos de ningún otro conjunto dentro de `conjunto_conjuntos`. En este caso, `{frozenset({1, 2, 3}), frozenset({2, 3})}` son considerados no subconjuntos porque `{1, 2, 3}` es el conjunto más grande y `{2, 3}` no es subconjunto de `{1, 2}`.\n",
        "\n",
        "Este ejercicio demuestra cómo identificar y excluir subconjuntos dentro de una colección de conjuntos, usando operaciones de conjunto y comprensión de conjunto en Python para trabajar con datos de manera eficiente."
      ]
    },
    {
      "attachments": {},
      "cell_type": "markdown",
      "id": "8a8497a2",
      "metadata": {},
      "source": [
        "### Ejercicio 8: Crear un Conjunto de Pares Ordenados\n",
        "\n",
        "Dadas dos listas, crea un conjunto que contenga todos los pares ordenados posibles (como tuplas) tomando un elemento de cada lista."
      ]
    },
    {
      "cell_type": "code",
      "execution_count": 9,
      "id": "dcc334be",
      "metadata": {},
      "outputs": [
        {
          "name": "stdout",
          "output_type": "stream",
          "text": [
            "{(2, 3), (2, 4), (1, 3), (1, 4)}\n"
          ]
        }
      ],
      "source": [
        "# Ejercicio\n",
        "lista1 = [1, 2]\n",
        "lista2 = [3, 4]\n",
        "pares_ordenados = {(x, y) for x in lista1 for y in lista2}\n",
        "print(pares_ordenados)\n"
      ]
    },
    {
      "attachments": {},
      "cell_type": "markdown",
      "id": "85c75ef7",
      "metadata": {},
      "source": [
        "Este ejercicio genera todos los pares ordenados posibles tomando un elemento de `lista1` y combinándolo con un elemento de `lista2`, utilizando una comprensión de conjunto para crear un conjunto de tuplas. Aquí se describen los pasos clave:\n",
        "\n",
        "1. **Inicialización de las Listas**: Se definen dos listas, `lista1` con los elementos `[1, 2]` y `lista2` con `[3, 4]`.\n",
        "\n",
        "2. **Generación de Pares Ordenados**: La comprensión de conjunto `{(x, y) for x in lista1 for y in lista2}` crea un conjunto de tuplas `(x, y)`, donde `x` es cada elemento de `lista1` y `y` es cada elemento de `lista2`. Esto genera todos los pares ordenados posibles combinando cada elemento de `lista1` con cada elemento de `lista2`.\n",
        "\n",
        "3. **Resultado**: Al imprimir `pares_ordenados`, se muestra el conjunto de todas las tuplas posibles. En este caso, el conjunto será `{(1, 3), (1, 4), (2, 3), (2, 4)}`, representando todas las combinaciones posibles de elementos de `lista1` con elementos de `lista2`.\n",
        "\n",
        "Este ejercicio ilustra cómo usar comprensiones de conjunto para generar combinaciones o pares ordenados de elementos provenientes de dos listas distintas, una técnica útil para crear productos cartesianos de conjuntos de datos en Python."
      ]
    },
    {
      "attachments": {},
      "cell_type": "markdown",
      "id": "84a38e85",
      "metadata": {},
      "source": [
        "### Ejercicio 9: Conjunto de Elementos que No se Repiten en Listas\n",
        "\n",
        "Dadas dos listas, crea un conjunto con los elementos que aparecen en una lista pero no en la otra y viceversa."
      ]
    },
    {
      "cell_type": "code",
      "execution_count": 10,
      "id": "2eca90b3",
      "metadata": {},
      "outputs": [
        {
          "name": "stdout",
          "output_type": "stream",
          "text": [
            "{1, 2, 4, 5}\n"
          ]
        }
      ],
      "source": [
        "# Ejercicio\n",
        "lista1 = [1, 2, 3]\n",
        "lista2 = [3, 4, 5]\n",
        "elementos_no_repetidos = set(lista1).symmetric_difference(lista2)\n",
        "print(elementos_no_repetidos)\n"
      ]
    },
    {
      "attachments": {},
      "cell_type": "markdown",
      "id": "81032d48",
      "metadata": {},
      "source": [
        "Este ejercicio encuentra los elementos no repetidos entre dos listas, `lista1` y `lista2`, utilizando la operación de diferencia simétrica sobre conjuntos. La diferencia simétrica entre dos conjuntos devuelve un conjunto que contiene los elementos que están en uno de los conjuntos pero no en ambos. Aquí se detallan los pasos realizados en el código:\n",
        "\n",
        "1. **Conversión de Listas a Conjuntos**: Las listas `lista1` y `lista2` se convierten a conjuntos para poder aplicar operaciones de conjunto. Esto se hace mediante `set(lista1)` y directamente pasando `lista2` a la operación de diferencia simétrica.\n",
        "\n",
        "2. **Cálculo de la Diferencia Simétrica**: `set(lista1).symmetric_difference(lista2)` calcula la diferencia simétrica entre los conjuntos de `lista1` y `lista2`. Esto resulta en un conjunto que incluye elementos que están exclusivamente en `lista1` o en `lista2`, pero no en ambos.\n",
        "\n",
        "3. **Resultado**: Al imprimir `elementos_no_repetidos`, se muestra el conjunto de elementos no repetidos entre ambas listas. Dado `lista1 = [1, 2, 3]` y `lista2 = [3, 4, 5]`, los elementos no repetidos son `{1, 2, 4, 5}`, ya que el `3` es común a ambas listas y, por lo tanto, no se incluye en el resultado de la diferencia simétrica.\n",
        "\n",
        "Este ejercicio demuestra cómo identificar elementos únicos entre dos colecciones, excluyendo aquellos que aparecen en ambas, utilizando operaciones de conjunto en Python para lograrlo de manera eficiente."
      ]
    },
    {
      "attachments": {},
      "cell_type": "markdown",
      "id": "5cbc1806",
      "metadata": {},
      "source": [
        "### Ejercicio 10: Conjunto de Elementos No Compartidos en Múltiples Listas\n",
        "\n",
        "Dada una lista de listas, encuentra los elementos que son únicos en cada sublista."
      ]
    },
    {
      "cell_type": "code",
      "execution_count": 11,
      "id": "c5ecf905",
      "metadata": {},
      "outputs": [
        {
          "name": "stdout",
          "output_type": "stream",
          "text": [
            "{3, 5}\n"
          ]
        }
      ],
      "source": [
        "# Ejercicio\n",
        "listas = [[1, 2], [2, 3, 4], [1, 4, 5]]\n",
        "elementos_unicos = set().union(*[set(sublista) - set().union(*[otra for otra in listas if otra != sublista]) for sublista in listas])\n",
        "print(elementos_unicos)\n"
      ]
    },
    {
      "attachments": {},
      "cell_type": "markdown",
      "id": "6a000e76",
      "metadata": {},
      "source": [
        "Este ejercicio calcula los elementos únicos en una lista de listas, `listas`, eliminando aquellos elementos que aparecen en más de una sublista. El proceso involucra varios pasos utilizando operaciones de conjunto:\n",
        "\n",
        "1. **Conversión de Sublistas a Conjuntos y Eliminación de Elementos Repetidos**: Para cada `sublista` en `listas`, se convierte esa `sublista` a un conjunto y se le sustraen los elementos presentes en las otras sublistas. Esto se logra mediante `set(sublista) - set().union(*[otra for otra in listas if otra != sublista])`. Aquí, `[otra for otra in listas if otra != sublista]` genera una lista de todas las sublistas excepto `sublista`, `set().union(*)` convierte esta lista de listas en un conjunto único de elementos presentes en las sublistas 'otras', y finalmente, se sustraen estos elementos del conjunto creado a partir de `sublista`.\n",
        "\n",
        "2. **Unión de Conjuntos de Elementos Únicos**: Los conjuntos resultantes, que representan los elementos únicos de cada `sublista` (es decir, los elementos que no aparecen en ninguna otra sublista), se unen en un conjunto global `elementos_unicos` mediante `set().union(*)`. Esto asegura que `elementos_unicos` contenga todos los elementos que son únicos en el contexto de todas las sublistas.\n",
        "\n",
        "3. **Resultado**: Al imprimir `elementos_unicos`, se muestra el conjunto de todos los elementos que son únicos en todas las sublistas de `listas`. En este caso específico, dado `listas = [[1, 2], [2, 3, 4], [1, 4, 5]]`, `elementos_unicos` contendrá `{3, 5}`, ya que estos son los únicos elementos que no se repiten en otras sublistas.\n",
        "\n",
        "Este enfoque combina comprensiones de lista, operaciones de conjunto, y la capacidad de desempaquetar listas (`*`) para calcular eficientemente los elementos únicos en una estructura de datos más compleja como lo es una lista de listas."
      ]
    },
    {
      "attachments": {},
      "cell_type": "markdown",
      "id": "c4244aca",
      "metadata": {},
      "source": [
        "Estos cinco ejercicios adicionales desafían tu comprensión y habilidad para manipular conjuntos en Python en situaciones más complejas. Practicar con estos problemas ayuda a desarrollar una comprensión más profunda de las aplicaciones avanzadas de conjuntos y su uso eficiente en escenarios de programación desafiantes."
      ]
    }
  ],
  "metadata": {
    "kernelspec": {
      "display_name": "Python 3",
      "language": "python",
      "name": "python3"
    },
    "language_info": {
      "codemirror_mode": {
        "name": "ipython",
        "version": 3
      },
      "file_extension": ".py",
      "mimetype": "text/x-python",
      "name": "python",
      "nbconvert_exporter": "python",
      "pygments_lexer": "ipython3",
      "version": "3.8.10"
    }
  },
  "nbformat": 4,
  "nbformat_minor": 5
}
