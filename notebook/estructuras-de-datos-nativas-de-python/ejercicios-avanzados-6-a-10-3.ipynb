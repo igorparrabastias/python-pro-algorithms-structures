{
  "cells": [
    {
      "cell_type": "markdown",
      "id": "f7112143",
      "metadata": {},
      "source": [
        "# Ejercicios Avanzados 6 a 10\n",
        "\n",
        "### Ejercicio 6: Conjunto de Elementos Comunes en Listas Anidadas\n",
        "\n",
        "Dada una lista de listas, encuentra los elementos comunes a todas las sublistas."
      ]
    },
    {
      "cell_type": "code",
      "execution_count": null,
      "id": "2c2dd68c",
      "metadata": {},
      "outputs": [],
      "source": [
        "# Ejercicio\n",
        "listas_anidadas = [[1, 2, 3], [2, 3, 4], [3, 4, 5]]\n",
        "elementos_comunes = set(listas_anidadas[0]).intersection(*listas_anidadas[1:])\n",
        "\n",
        "# Soluci\u00f3n\n",
        "# elementos_comunes = {3}"
      ]
    },
    {
      "cell_type": "markdown",
      "id": "c62b45e4",
      "metadata": {},
      "source": [
        "### Ejercicio 7: Eliminar Subconjuntos de un Conjunto de Conjuntos\n",
        "\n",
        "Dado un conjunto de conjuntos, elimina todos los subconjuntos que est\u00e9n contenidos en otro conjunto del mismo conjunto de conjuntos."
      ]
    },
    {
      "cell_type": "code",
      "execution_count": null,
      "id": "2a09bdaf",
      "metadata": {},
      "outputs": [],
      "source": [
        "# Ejercicio\n",
        "conjunto_conjuntos = {frozenset({1, 2}), frozenset({1, 2, 3}), frozenset({2, 3})}\n",
        "conjunto_sin_subconjuntos = {s for s in conjunto_conjuntos if not any(s < otro for otro in conjunto_conjuntos if s != otro)}\n",
        "\n",
        "# Soluci\u00f3n\n",
        "# conjunto_sin_subconjuntos = {frozenset({1, 2, 3}), frozenset({2, 3})}"
      ]
    },
    {
      "cell_type": "markdown",
      "id": "8a8497a2",
      "metadata": {},
      "source": [
        "### Ejercicio 8: Crear un Conjunto de Pares Ordenados\n",
        "\n",
        "Dadas dos listas, crea un conjunto que contenga todos los pares ordenados posibles (como tuplas) tomando un elemento de cada lista."
      ]
    },
    {
      "cell_type": "code",
      "execution_count": null,
      "id": "dcc334be",
      "metadata": {},
      "outputs": [],
      "source": [
        "# Ejercicio\n",
        "lista1 = [1, 2]\n",
        "lista2 = [3, 4]\n",
        "pares_ordenados = {(x, y) for x in lista1 for y in lista2}\n",
        "\n",
        "# Soluci\u00f3n\n",
        "# pares_ordenados = {(1, 3), (1, 4), (2, 3), (2, 4)}"
      ]
    },
    {
      "cell_type": "markdown",
      "id": "84a38e85",
      "metadata": {},
      "source": [
        "### Ejercicio 9: Conjunto de Elementos que No se Repiten en Listas\n",
        "\n",
        "Dadas dos listas, crea un conjunto con los elementos que aparecen en una lista pero no en la otra y viceversa."
      ]
    },
    {
      "cell_type": "code",
      "execution_count": null,
      "id": "2eca90b3",
      "metadata": {},
      "outputs": [],
      "source": [
        "# Ejercicio\n",
        "lista1 = [1, 2, 3]\n",
        "lista2 = [3, 4, 5]\n",
        "elementos_no_repetidos = set(lista1).symmetric_difference(lista2)\n",
        "\n",
        "# Soluci\u00f3n\n",
        "# elementos_no_repetidos = {1, 2, 4, 5}"
      ]
    },
    {
      "cell_type": "markdown",
      "id": "5cbc1806",
      "metadata": {},
      "source": [
        "### Ejercicio 10: Conjunto de Elementos No Compartidos en M\u00faltiples Listas\n",
        "\n",
        "Dada una lista de listas, encuentra los elementos que son \u00fanicos en cada sublista."
      ]
    },
    {
      "cell_type": "code",
      "execution_count": null,
      "id": "c5ecf905",
      "metadata": {},
      "outputs": [],
      "source": [
        "# Ejercicio\n",
        "listas = [[1, 2], [2, 3, 4], [1, 4, 5]]\n",
        "elementos_unicos = set().union(*[set(sublista) - set().union(*[otra for otra in listas if otra != sublista]) for sublista in listas])\n",
        "\n",
        "# Soluci\u00f3n\n",
        "# elementos_unicos = {3, 5}"
      ]
    },
    {
      "cell_type": "markdown",
      "id": "c4244aca",
      "metadata": {},
      "source": [
        "Estos cinco ejercicios adicionales desaf\u00edan tu comprensi\u00f3n y habilidad para manipular conjuntos en Python en situaciones m\u00e1s complejas. Practicar con estos problemas ayuda a desarrollar una comprensi\u00f3n m\u00e1s profunda de las aplicaciones avanzadas de conjuntos y su uso eficiente en escenarios de programaci\u00f3n desafiantes."
      ]
    }
  ],
  "metadata": {},
  "nbformat": 4,
  "nbformat_minor": 5
}