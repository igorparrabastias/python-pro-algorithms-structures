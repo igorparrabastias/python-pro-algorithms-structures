{
 "cells": [
  {
   "cell_type": "markdown",
   "id": "ee3611d5",
   "metadata": {},
   "source": [
    "# Cuestionario de sección\n",
    "\n",
    "### Pregunta 1: ¿Qué hace el siguiente código en Python?"
   ]
  },
  {
   "cell_type": "code",
   "execution_count": null,
   "id": "d9916d2b",
   "metadata": {},
   "outputs": [],
   "source": [
    "for i in range(5):\n",
    "    print(i)"
   ]
  },
  {
   "cell_type": "markdown",
   "id": "60778d59",
   "metadata": {},
   "source": [
    "a) Imprime los números del 0 al 4.\n",
    "\n",
    "b) Imprime los números del 1 al 5.\n",
    "\n",
    "c) Genera un error.\n",
    "\n",
    "d) Imprime el número 5 cinco veces.\n",
    "\n",
    "### Pregunta 2: ¿Cuál es la salida del siguiente código?"
   ]
  },
  {
   "cell_type": "code",
   "execution_count": null,
   "id": "b9223123",
   "metadata": {},
   "outputs": [],
   "source": [
    "s = \"Python\"\n",
    "print(s[1])"
   ]
  },
  {
   "cell_type": "markdown",
   "id": "62967e3e",
   "metadata": {},
   "source": [
    "a) P\n",
    "\n",
    "b) y\n",
    "\n",
    "c) t\n",
    "\n",
    "d) h\n",
    "\n",
    "### Pregunta 3: ¿Cómo se puede obtener la subcadena \"yth\" de la cadena \"Python\" usando slicing?\n",
    "\n",
    "a) `\"Python\"[1:4]`\n",
    "\n",
    "b) `\"Python\"[2:5]`\n",
    "\n",
    "c) `\"Python\"[1:3]`\n",
    "\n",
    "d) `\"Python\"[2:4]`\n",
    "\n",
    "### Pregunta 4: ¿Qué operación NO es posible realizar directamente en un string en Python?\n",
    "\n",
    "a) Concatenación\n",
    "\n",
    "b) Modificar un carácter específico\n",
    "\n",
    "c) Acceder a un carácter específico\n",
    "\n",
    "d) Convertir a mayúsculas\n",
    "\n",
    "### Pregunta 5: ¿Cuál es el resultado de ejecutar el siguiente código?"
   ]
  },
  {
   "cell_type": "code",
   "execution_count": null,
   "id": "77df9504",
   "metadata": {},
   "outputs": [],
   "source": [
    "mi_lista = [1, 2, 3]\n",
    "mi_lista[1] = 4\n",
    "print(mi_lista)"
   ]
  },
  {
   "cell_type": "markdown",
   "id": "61a72068",
   "metadata": {},
   "source": [
    "a) `[1, 4, 3]`\n",
    "\n",
    "b) `[1, 2, 4]`\n",
    "\n",
    "c) `[4, 2, 3]`\n",
    "\n",
    "d) Error\n",
    "\n",
    "### Pregunta 6: ¿Qué hace la siguiente comprensión de lista?"
   ]
  },
  {
   "cell_type": "code",
   "execution_count": null,
   "id": "8b93f6d8",
   "metadata": {},
   "outputs": [],
   "source": [
    "[x * 2 for x in range(5)]"
   ]
  },
  {
   "cell_type": "markdown",
   "id": "77f53555",
   "metadata": {},
   "source": [
    "a) Duplica el tamaño de la lista.\n",
    "\n",
    "b) Crea una lista con los números del 0 al 4.\n",
    "\n",
    "c) Crea una lista con los números del 0 al 9.\n",
    "\n",
    "d) Crea una lista con los números pares del 0 al 8.\n",
    "\n",
    "### Pregunta 7: ¿Cuál de los siguientes es un ejemplo de rebinding?\n",
    "\n",
    "a) `x = [1, 2, 3]; x.append(4)`\n",
    "\n",
    "b) `x = 5; x = 'Hola'`\n",
    "\n",
    "c) `x = \"Python\"; x.upper()`\n",
    "\n",
    "d) `x = (1, 2, 3); x[1] = 4`\n",
    "\n",
    "### Pregunta 8: ¿Qué hace el siguiente código?"
   ]
  },
  {
   "cell_type": "code",
   "execution_count": null,
   "id": "5df21970",
   "metadata": {},
   "outputs": [],
   "source": [
    "for i in \"Python\":\n",
    "    print(i)"
   ]
  },
  {
   "cell_type": "markdown",
   "id": "c00dbfa7",
   "metadata": {},
   "source": [
    "a) Imprime cada carácter de la palabra \"Python\".\n",
    "\n",
    "b) Genera un error.\n",
    "\n",
    "c) Imprime \"Python\" una vez.\n",
    "\n",
    "d) Imprime \"Python\" seis veces.\n",
    "\n",
    "### Pregunta 9: Considerando la lista `mi_lista = ['a', 'b', 'c', 'd']`, ¿qué devuelve `mi_lista[1:-1]`?\n",
    "\n",
    "a) `['b', 'c', 'd']`\n",
    "\n",
    "b) `['a', 'b', 'c']`\n",
    "\n",
    "c) `['b', 'c']`\n",
    "\n",
    "d) `['a', 'd']`\n",
    "\n",
    "### Pregunta 10: ¿Cuál es la salida del siguiente código?"
   ]
  },
  {
   "cell_type": "code",
   "execution_count": null,
   "id": "e312a692",
   "metadata": {},
   "outputs": [],
   "source": [
    "s = \"Python\"\n",
    "s = \"J\" + s[1:]\n",
    "print(s)"
   ]
  },
  {
   "cell_type": "markdown",
   "id": "10a6c26b",
   "metadata": {},
   "source": [
    "a) PyJhon\n",
    "\n",
    "b) Jython\n",
    "\n",
    "c) Python\n",
    "\n",
    "d) JPthon\n",
    "\n",
    "<aside>\n",
    "🤡 \n",
    "¿Por qué la lista de Python se negó a alinearse con las otras estructuras de datos?\n",
    "Porque no quería ser \"ordenada\" como un array!\n",
    "\n",
    "</aside>\n",
    "\n",
    "### Pregunta 11: ¿Qué sucede cuando ejecutas el siguiente código?"
   ]
  },
  {
   "cell_type": "code",
   "execution_count": null,
   "id": "e27cf238",
   "metadata": {},
   "outputs": [],
   "source": [
    "for i in range(3, 8, 2):\n",
    "    print(i)"
   ]
  },
  {
   "cell_type": "markdown",
   "id": "651b3956",
   "metadata": {},
   "source": [
    "a) Imprime los números del 3 al 8.\n",
    "\n",
    "b) Imprime los números 3, 5, y 7.\n",
    "\n",
    "c) Genera un error.\n",
    "\n",
    "d) Imprime los números del 3 al 7.\n",
    "\n",
    "### Pregunta 12: Al ejecutar `s = \"Python\"`, ¿qué valor retorna `s[-1]`?\n",
    "\n",
    "a) P\n",
    "\n",
    "b) y\n",
    "\n",
    "c) n\n",
    "\n",
    "d) h\n",
    "\n",
    "### Pregunta 13: ¿Qué resultado se obtiene al ejecutar `\"Python\"[::-1]`?\n",
    "\n",
    "a) \"nohtyP\"\n",
    "\n",
    "b) \"Python\"\n",
    "\n",
    "c) \"Pto\"\n",
    "\n",
    "d) \"nhy\"\n",
    "\n",
    "### Pregunta 14: ¿Qué hace el método `replace` en un string de Python?\n",
    "\n",
    "a) Reemplaza un carácter con otro.\n",
    "\n",
    "b) Invierte el string.\n",
    "\n",
    "c) Cambia todas las letras a mayúsculas.\n",
    "\n",
    "d) Divide el string en una lista de substrings.\n",
    "\n",
    "### Pregunta 15: ¿Qué sucede al ejecutar el siguiente código?"
   ]
  },
  {
   "cell_type": "code",
   "execution_count": null,
   "id": "cef4237f",
   "metadata": {},
   "outputs": [],
   "source": [
    "mi_lista = [1, 2, 3]\n",
    "mi_lista = [4, 5, 6]\n",
    "print(mi_lista)"
   ]
  },
  {
   "cell_type": "markdown",
   "id": "95d9f88b",
   "metadata": {},
   "source": [
    "a) Imprime `[1, 2, 3, 4, 5, 6]`\n",
    "\n",
    "b) Imprime `[4, 5, 6]`\n",
    "\n",
    "c) Genera un error\n",
    "\n",
    "d) Imprime `[1, 2, 3]`\n",
    "\n",
    "### Pregunta 16: ¿Cuál de estas opciones NO es una comprensión de lista válida en Python?\n",
    "\n",
    "a) `[x for x in range(5)]`\n",
    "\n",
    "b) `[for x in range(5): x]`\n",
    "\n",
    "c) `[x*2 for x in range(5)]`\n",
    "\n",
    "d) `[x for x in range(10) if x < 5]`\n",
    "\n",
    "### Pregunta 17: ¿Cuál es un ejemplo correcto de rebinding en Python?\n",
    "\n",
    "a) `x = [1, 2, 3]; x[0] = 4`\n",
    "\n",
    "b) `x = 5; x += 2`\n",
    "\n",
    "c) `x = \"Hola\"; x = x.upper()`\n",
    "\n",
    "d) `x = (1, 2); x = (3, 4)`\n",
    "\n",
    "### Pregunta 18: ¿Qué imprime el siguiente fragmento de código?"
   ]
  },
  {
   "cell_type": "code",
   "execution_count": null,
   "id": "793614ba",
   "metadata": {},
   "outputs": [],
   "source": [
    "nombre = \"Python\"\n",
    "for letra in nombre:\n",
    "    if letra == \"t\":\n",
    "        break\n",
    "    print(letra)"
   ]
  },
  {
   "cell_type": "markdown",
   "id": "c4622279",
   "metadata": {},
   "source": [
    "a) Python\n",
    "\n",
    "b) Pyt\n",
    "\n",
    "c) Py\n",
    "\n",
    "d) P\n",
    "\n",
    "### Pregunta 19: Dada la lista `mi_lista = [1, 2, 3, 4, 5]`, ¿qué devuelve `mi_lista[:3]`?\n",
    "\n",
    "a) `[1, 2, 3, 4]`\n",
    "\n",
    "b) `[2, 3, 4]`\n",
    "\n",
    "c) `[1, 2, 3]`\n",
    "\n",
    "d) `[1, 2, 3, 4, 5]`\n",
    "\n",
    "### Pregunta 20: ¿Cuál es la salida del siguiente código?"
   ]
  },
  {
   "cell_type": "code",
   "execution_count": null,
   "id": "e5219074",
   "metadata": {},
   "outputs": [],
   "source": [
    "s = \"Python\"\n",
    "nuevo_s = s[:2] + s[3:]\n",
    "print(nuevo_s)"
   ]
  },
  {
   "cell_type": "markdown",
   "id": "cfd514d2",
   "metadata": {},
   "source": [
    "a) Pyton\n",
    "\n",
    "b) Pthon\n",
    "\n",
    "c) Python\n",
    "\n",
    "d) Pyhon"
   ]
  }
 ],
 "metadata": {},
 "nbformat": 4,
 "nbformat_minor": 5
}
