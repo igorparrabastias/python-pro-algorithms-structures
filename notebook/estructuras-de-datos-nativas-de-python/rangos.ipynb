{
  "cells": [
    {
      "attachments": {},
      "cell_type": "markdown",
      "id": "ffccbeb1",
      "metadata": {},
      "source": [
        "# Rangos\n",
        "\n",
        "### Introducción:\n",
        "\n",
        "Los rangos en Python son estructuras de datos inmutables y secuenciales, utilizados comúnmente para iterar un número específico de veces en bucles `for`. Son especialmente útiles en situaciones donde se necesita una secuencia de números enteros.\n",
        "\n",
        "### Fundamentos de Rangos:\n",
        "\n",
        "### Creación de Rangos:\n",
        "\n",
        "Un rango se puede crear usando la función incorporada `range()`, que puede ser llamada con uno, dos, o tres argumentos:\n",
        "\n",
        "1. `range(fin)`: Crea un rango desde 0 hasta `fin - 1`.\n",
        "2. `range(inicio, fin)`: Crea un rango desde `inicio` hasta `fin - 1`.\n",
        "3. `range(inicio, fin, paso)`: Crea un rango desde `inicio` hasta `fin - 1`, incrementando en `paso`."
      ]
    },
    {
      "cell_type": "code",
      "execution_count": 1,
      "id": "de747846",
      "metadata": {},
      "outputs": [],
      "source": [
        "rango_simple = range(5)        # Rango de 0 a 4\n",
        "rango_inicio_fin = range(1, 6) # Rango de 1 a 5\n",
        "rango_con_paso = range(0, 10, 2) # Rango de 0 a 8, de dos en dos"
      ]
    },
    {
      "attachments": {},
      "cell_type": "markdown",
      "id": "97a0d2a2",
      "metadata": {},
      "source": [
        "### Características:\n",
        "\n",
        "- **Inmutabilidad**: Una vez que un rango es creado, no se puede modificar.\n",
        "- **Eficiencia de Memoria**: Los rangos no almacenan todos los números que representan; en su lugar, calculan cada número en la secuencia según se necesite.\n",
        "\n",
        "### Iteración a Través de Rangos:\n",
        "\n",
        "Los rangos son comúnmente usados en bucles `for` para realizar una acción un número específico de veces."
      ]
    },
    {
      "cell_type": "code",
      "execution_count": 2,
      "id": "e4466a42",
      "metadata": {},
      "outputs": [
        {
          "name": "stdout",
          "output_type": "stream",
          "text": [
            "0\n",
            "1\n",
            "2\n",
            "3\n",
            "4\n"
          ]
        }
      ],
      "source": [
        "for i in range(5):\n",
        "    print(i)  # Imprime números de 0 a 4"
      ]
    },
    {
      "attachments": {},
      "cell_type": "markdown",
      "id": "18d4c562",
      "metadata": {},
      "source": [
        "### Conversión de Rangos a Listas:\n",
        "\n",
        "Aunque los rangos son útiles para la iteración, a veces es necesario convertirlos en listas, especialmente si se necesita una lista de números para manipular."
      ]
    },
    {
      "cell_type": "code",
      "execution_count": 3,
      "id": "cad539f8",
      "metadata": {},
      "outputs": [],
      "source": [
        "lista_desde_rango = list(range(5))  # Convierte el rango en una lista [0, 1, 2, 3, 4]"
      ]
    },
    {
      "attachments": {},
      "cell_type": "markdown",
      "id": "929dbb2f",
      "metadata": {},
      "source": [
        "### Tipos y Operaciones Comunes:\n",
        "\n",
        "1. **Comprobación de Pertenencia**: Se puede verificar si un número pertenece a un rango usando `in`."
      ]
    },
    {
      "cell_type": "code",
      "execution_count": 4,
      "id": "acc5c7d9",
      "metadata": {},
      "outputs": [
        {
          "data": {
            "text/plain": [
              "True"
            ]
          },
          "execution_count": 4,
          "metadata": {},
          "output_type": "execute_result"
        }
      ],
      "source": [
        "3 in range(5)  # True"
      ]
    },
    {
      "attachments": {},
      "cell_type": "markdown",
      "id": "c6f95806",
      "metadata": {},
      "source": [
        "2. **Longitud de un Rango**: Se puede obtener la cantidad de elementos en un rango con `len()`."
      ]
    },
    {
      "cell_type": "code",
      "execution_count": 5,
      "id": "94d12e69",
      "metadata": {},
      "outputs": [
        {
          "data": {
            "text/plain": [
              "5"
            ]
          },
          "execution_count": 5,
          "metadata": {},
          "output_type": "execute_result"
        }
      ],
      "source": [
        "len(range(0, 10, 2))  # 5"
      ]
    },
    {
      "attachments": {},
      "cell_type": "markdown",
      "id": "9699ee67",
      "metadata": {},
      "source": [
        "3. **Indexación**: Aunque los rangos no son listas, se puede acceder a elementos individuales por su índice."
      ]
    },
    {
      "cell_type": "code",
      "execution_count": 6,
      "id": "9f16f26f",
      "metadata": {},
      "outputs": [
        {
          "data": {
            "text/plain": [
              "3"
            ]
          },
          "execution_count": 6,
          "metadata": {},
          "output_type": "execute_result"
        }
      ],
      "source": [
        "range(10)[3]  # 3"
      ]
    },
    {
      "attachments": {},
      "cell_type": "markdown",
      "id": "b2a40312",
      "metadata": {},
      "source": [
        "### Conclusión:\n",
        "\n",
        "Los rangos en Python son una herramienta esencial para la iteración y la generación de secuencias numéricas de manera eficiente. Aunque son limitados en términos de funcionalidad en comparación con las listas, su eficiencia en el uso de la memoria y su simplicidad los hacen ideales para bucles y operaciones que requieren secuencias de números enteros. En la próxima clase, exploraremos casos prácticos y avanzados donde los rangos se utilizan para resolver problemas específicos de manera eficiente."
      ]
    }
  ],
  "metadata": {
    "kernelspec": {
      "display_name": "Python 3",
      "language": "python",
      "name": "python3"
    },
    "language_info": {
      "codemirror_mode": {
        "name": "ipython",
        "version": 3
      },
      "file_extension": ".py",
      "mimetype": "text/x-python",
      "name": "python",
      "nbconvert_exporter": "python",
      "pygments_lexer": "ipython3",
      "version": "3.8.10"
    }
  },
  "nbformat": 4,
  "nbformat_minor": 5
}
