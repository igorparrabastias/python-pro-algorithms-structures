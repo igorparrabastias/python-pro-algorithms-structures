{
  "cells": [
    {
      "cell_type": "markdown",
      "id": "d49cb46f",
      "metadata": {},
      "source": [
        "# Rangos\n",
        "\n",
        "### Introducci\u00f3n:\n",
        "\n",
        "Los rangos en Python son estructuras de datos inmutables y secuenciales, utilizados com\u00fanmente para iterar un n\u00famero espec\u00edfico de veces en bucles `for`. Son especialmente \u00fatiles en situaciones donde se necesita una secuencia de n\u00fameros enteros.\n",
        "\n",
        "### Fundamentos de Rangos:\n",
        "\n",
        "### Creaci\u00f3n de Rangos:\n",
        "\n",
        "Un rango se puede crear usando la funci\u00f3n incorporada `range()`, que puede ser llamada con uno, dos, o tres argumentos:\n",
        "\n",
        "1. `range(fin)`: Crea un rango desde 0 hasta `fin - 1`.\n",
        "2. `range(inicio, fin)`: Crea un rango desde `inicio` hasta `fin - 1`.\n",
        "3. `range(inicio, fin, paso)`: Crea un rango desde `inicio` hasta `fin - 1`, incrementando en `paso`."
      ]
    },
    {
      "cell_type": "code",
      "execution_count": null,
      "id": "8544e103",
      "metadata": {},
      "outputs": [],
      "source": [
        "rango_simple = range(5)        # Rango de 0 a 4\n",
        "rango_inicio_fin = range(1, 6) # Rango de 1 a 5\n",
        "rango_con_paso = range(0, 10, 2) # Rango de 0 a 8, de dos en dos"
      ]
    },
    {
      "cell_type": "markdown",
      "id": "62821ffe",
      "metadata": {},
      "source": [
        "### Caracter\u00edsticas:\n",
        "\n",
        "- **Inmutabilidad**: Una vez que un rango es creado, no se puede modificar.\n",
        "- **Eficiencia de Memoria**: Los rangos no almacenan todos los n\u00fameros que representan; en su lugar, calculan cada n\u00famero en la secuencia seg\u00fan se necesite.\n",
        "\n",
        "### Iteraci\u00f3n a Trav\u00e9s de Rangos:\n",
        "\n",
        "Los rangos son com\u00fanmente usados en bucles `for` para realizar una acci\u00f3n un n\u00famero espec\u00edfico de veces."
      ]
    },
    {
      "cell_type": "code",
      "execution_count": null,
      "id": "d8ab0eeb",
      "metadata": {},
      "outputs": [],
      "source": [
        "for i in range(5):\n",
        "    print(i)  # Imprime n\u00fameros de 0 a 4"
      ]
    },
    {
      "cell_type": "markdown",
      "id": "bead5228",
      "metadata": {},
      "source": [
        "### Conversi\u00f3n de Rangos a Listas:\n",
        "\n",
        "Aunque los rangos son \u00fatiles para la iteraci\u00f3n, a veces es necesario convertirlos en listas, especialmente si se necesita una lista de n\u00fameros para manipular."
      ]
    },
    {
      "cell_type": "code",
      "execution_count": null,
      "id": "018d63d5",
      "metadata": {},
      "outputs": [],
      "source": [
        "lista_desde_rango = list(range(5))  # Convierte el rango en una lista [0, 1, 2, 3, 4]"
      ]
    },
    {
      "cell_type": "markdown",
      "id": "25cce3a8",
      "metadata": {},
      "source": [
        "### Tipos y Operaciones Comunes:\n",
        "\n",
        "1. **Comprobaci\u00f3n de Pertenencia**: Se puede verificar si un n\u00famero pertenece a un rango usando `in`."
      ]
    },
    {
      "cell_type": "code",
      "execution_count": null,
      "id": "8812e94a",
      "metadata": {},
      "outputs": [],
      "source": [
        "3 in range(5)  # True"
      ]
    },
    {
      "cell_type": "markdown",
      "id": "821b9be6",
      "metadata": {},
      "source": [
        "2. **Longitud de un Rango**: Se puede obtener la cantidad de elementos en un rango con `len()`."
      ]
    },
    {
      "cell_type": "code",
      "execution_count": null,
      "id": "fe7cd18f",
      "metadata": {},
      "outputs": [],
      "source": [
        "len(range(0, 10, 2))  # 5"
      ]
    },
    {
      "cell_type": "markdown",
      "id": "98e3a246",
      "metadata": {},
      "source": [
        "3. **Indexaci\u00f3n**: Aunque los rangos no son listas, se puede acceder a elementos individuales por su \u00edndice."
      ]
    },
    {
      "cell_type": "code",
      "execution_count": null,
      "id": "02005439",
      "metadata": {},
      "outputs": [],
      "source": [
        "range(10)[3]  # 3"
      ]
    },
    {
      "cell_type": "markdown",
      "id": "e026bfd9",
      "metadata": {},
      "source": [
        "### Conclusi\u00f3n:\n",
        "\n",
        "Los rangos en Python son una herramienta esencial para la iteraci\u00f3n y la generaci\u00f3n de secuencias num\u00e9ricas de manera eficiente. Aunque son limitados en t\u00e9rminos de funcionalidad en comparaci\u00f3n con las listas, su eficiencia en el uso de la memoria y su simplicidad los hacen ideales para bucles y operaciones que requieren secuencias de n\u00fameros enteros. En la pr\u00f3xima clase, exploraremos casos pr\u00e1cticos y avanzados donde los rangos se utilizan para resolver problemas espec\u00edficos de manera eficiente."
      ]
    }
  ],
  "metadata": {},
  "nbformat": 4,
  "nbformat_minor": 5
}