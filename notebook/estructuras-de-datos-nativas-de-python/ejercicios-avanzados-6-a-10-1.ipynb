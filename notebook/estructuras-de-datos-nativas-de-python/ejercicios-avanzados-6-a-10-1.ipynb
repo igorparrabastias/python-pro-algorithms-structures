{
  "cells": [
    {
      "attachments": {},
      "cell_type": "markdown",
      "id": "5454ffb6",
      "metadata": {},
      "source": [
        "# Ejercicios avanzados 6 a 10\n",
        "\n",
        "### Ejercicio 6: Intersección de Listas\n",
        "\n",
        "Devolver los elementos comunes a dos listas sin duplicados."
      ]
    },
    {
      "cell_type": "code",
      "execution_count": 1,
      "id": "fcb68475",
      "metadata": {},
      "outputs": [
        {
          "data": {
            "text/plain": [
              "[2, 3]"
            ]
          },
          "execution_count": 1,
          "metadata": {},
          "output_type": "execute_result"
        }
      ],
      "source": [
        "# Ejercicio\n",
        "def interseccion_listas(lista1, lista2):\n",
        "    return list(set(lista1) & set(lista2))\n",
        "\n",
        "# Solución\n",
        "interseccion_listas([1, 2, 3, 4], [2, 3, 5, 6])  # [2, 3]"
      ]
    },
    {
      "attachments": {},
      "cell_type": "markdown",
      "id": "5b85e62a",
      "metadata": {},
      "source": [
        "### Ejercicio 7: Lista a Diccionario con Índices como Claves\n",
        "\n",
        "Convertir una lista en un diccionario donde los elementos de la lista son los valores y los índices son las claves."
      ]
    },
    {
      "cell_type": "code",
      "execution_count": 2,
      "id": "5d6eb0da",
      "metadata": {},
      "outputs": [
        {
          "data": {
            "text/plain": [
              "{0: 'a', 1: 'b', 2: 'c'}"
            ]
          },
          "execution_count": 2,
          "metadata": {},
          "output_type": "execute_result"
        }
      ],
      "source": [
        "# Ejercicio\n",
        "def lista_a_diccionario(lista):\n",
        "    return {i: lista[i] for i in range(len(lista))}\n",
        "\n",
        "# Solución\n",
        "lista_a_diccionario([\"a\", \"b\", \"c\"])  # {0: 'a', 1: 'b', 2: 'c'}"
      ]
    },
    {
      "attachments": {},
      "cell_type": "markdown",
      "id": "6f3c70ce",
      "metadata": {},
      "source": [
        "### Ejercicio 8: Filtrar Elementos Únicos en una Lista\n",
        "\n",
        "Devolver una nueva lista con solo los elementos únicos de la lista original."
      ]
    },
    {
      "cell_type": "code",
      "execution_count": 3,
      "id": "6ba8db76",
      "metadata": {},
      "outputs": [
        {
          "data": {
            "text/plain": [
              "[1, 3, 4]"
            ]
          },
          "execution_count": 3,
          "metadata": {},
          "output_type": "execute_result"
        }
      ],
      "source": [
        "# Ejercicio\n",
        "def unicos(lista):\n",
        "    return [x for x in lista if lista.count(x) == 1]\n",
        "\n",
        "# Solución\n",
        "unicos([1, 2, 2, 3, 4, 5, 5])  # [1, 3, 4]"
      ]
    },
    {
      "attachments": {},
      "cell_type": "markdown",
      "id": "b1d93842",
      "metadata": {},
      "source": [
        "### Ejercicio 9: Múltiples Listas a Una Lista de Tuplas\n",
        "\n",
        "Convertir múltiples listas en una lista de tuplas correspondientes elemento a elemento."
      ]
    },
    {
      "cell_type": "code",
      "execution_count": 4,
      "id": "8ed94387",
      "metadata": {},
      "outputs": [
        {
          "data": {
            "text/plain": [
              "[(1, 'a', True), (2, 'b', False), (3, 'c', True)]"
            ]
          },
          "execution_count": 4,
          "metadata": {},
          "output_type": "execute_result"
        }
      ],
      "source": [
        "# Ejercicio\n",
        "def listas_a_tuplas(lista1, lista2, lista3):\n",
        "    return list(zip(lista1, lista2, lista3))\n",
        "\n",
        "# Solución\n",
        "listas_a_tuplas([1, 2, 3], ['a', 'b', 'c'], [True, False, True])  # [(1, 'a', True), (2, 'b', False), (3, 'c', True)]"
      ]
    },
    {
      "attachments": {},
      "cell_type": "markdown",
      "id": "47fb6253",
      "metadata": {},
      "source": [
        "### Ejercicio 10: Listas Anidadas a Lista Plana\n",
        "\n",
        "Aplanar una lista que contiene otras listas anidadas."
      ]
    },
    {
      "cell_type": "code",
      "execution_count": 5,
      "id": "43a95de5",
      "metadata": {},
      "outputs": [
        {
          "data": {
            "text/plain": [
              "[1, 2, 3, 4, 5, 6]"
            ]
          },
          "execution_count": 5,
          "metadata": {},
          "output_type": "execute_result"
        }
      ],
      "source": [
        "# Ejercicio\n",
        "def aplanar_lista(lista):\n",
        "    return [elemento for sublista in lista for elemento in sublista]\n",
        "\n",
        "# Solución\n",
        "aplanar_lista([[1, 2, 3], [4, 5], [6]])  # [1, 2, 3, 4, 5, 6]"
      ]
    },
    {
      "attachments": {},
      "cell_type": "markdown",
      "id": "76732db3",
      "metadata": {},
      "source": [
        "Estos cinco ejercicios adicionales ofrecen retos más complejos, ayudando a fortalecer tus habilidades en el manejo de listas y en la implementación de algoritmos más sofisticados en Python. Practicar con estos problemas te preparará mejor para enfrentar desafíos de programación en el mundo real."
      ]
    }
  ],
  "metadata": {
    "kernelspec": {
      "display_name": "Python 3",
      "language": "python",
      "name": "python3"
    },
    "language_info": {
      "codemirror_mode": {
        "name": "ipython",
        "version": 3
      },
      "file_extension": ".py",
      "mimetype": "text/x-python",
      "name": "python",
      "nbconvert_exporter": "python",
      "pygments_lexer": "ipython3",
      "version": "3.8.10"
    }
  },
  "nbformat": 4,
  "nbformat_minor": 5
}
