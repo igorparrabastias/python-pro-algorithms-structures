{
  "cells": [
    {
      "cell_type": "markdown",
      "id": "5454ffb6",
      "metadata": {},
      "source": [
        "# Ejercicios avanzados 6 a 10\n",
        "\n",
        "### Ejercicio 6: Intersecci\u00f3n de Listas\n",
        "\n",
        "Devolver los elementos comunes a dos listas sin duplicados."
      ]
    },
    {
      "cell_type": "code",
      "execution_count": null,
      "id": "fcb68475",
      "metadata": {},
      "outputs": [],
      "source": [
        "# Ejercicio\n",
        "def interseccion_listas(lista1, lista2):\n",
        "    return list(set(lista1) & set(lista2))\n",
        "\n",
        "# Soluci\u00f3n\n",
        "interseccion_listas([1, 2, 3, 4], [2, 3, 5, 6])  # [2, 3]"
      ]
    },
    {
      "cell_type": "markdown",
      "id": "5b85e62a",
      "metadata": {},
      "source": [
        "### Ejercicio 7: Lista a Diccionario con \u00cdndices como Claves\n",
        "\n",
        "Convertir una lista en un diccionario donde los elementos de la lista son los valores y los \u00edndices son las claves."
      ]
    },
    {
      "cell_type": "code",
      "execution_count": null,
      "id": "5d6eb0da",
      "metadata": {},
      "outputs": [],
      "source": [
        "# Ejercicio\n",
        "def lista_a_diccionario(lista):\n",
        "    return {i: lista[i] for i in range(len(lista))}\n",
        "\n",
        "# Soluci\u00f3n\n",
        "lista_a_diccionario([\"a\", \"b\", \"c\"])  # {0: 'a', 1: 'b', 2: 'c'}"
      ]
    },
    {
      "cell_type": "markdown",
      "id": "6f3c70ce",
      "metadata": {},
      "source": [
        "### Ejercicio 8: Filtrar Elementos \u00danicos en una Lista\n",
        "\n",
        "Devolver una nueva lista con solo los elementos \u00fanicos de la lista original."
      ]
    },
    {
      "cell_type": "code",
      "execution_count": null,
      "id": "6ba8db76",
      "metadata": {},
      "outputs": [],
      "source": [
        "# Ejercicio\n",
        "def unicos(lista):\n",
        "    return [x for x in lista if lista.count(x) == 1]\n",
        "\n",
        "# Soluci\u00f3n\n",
        "unicos([1, 2, 2, 3, 4, 5, 5])  # [1, 3, 4]"
      ]
    },
    {
      "cell_type": "markdown",
      "id": "b1d93842",
      "metadata": {},
      "source": [
        "### Ejercicio 9: M\u00faltiples Listas a Una Lista de Tuplas\n",
        "\n",
        "Convertir m\u00faltiples listas en una lista de tuplas correspondientes elemento a elemento."
      ]
    },
    {
      "cell_type": "code",
      "execution_count": null,
      "id": "8ed94387",
      "metadata": {},
      "outputs": [],
      "source": [
        "# Ejercicio\n",
        "def listas_a_tuplas(lista1, lista2, lista3):\n",
        "    return list(zip(lista1, lista2, lista3))\n",
        "\n",
        "# Soluci\u00f3n\n",
        "listas_a_tuplas([1, 2, 3], ['a', 'b', 'c'], [True, False, True])  # [(1, 'a', True), (2, 'b', False), (3, 'c', True)]"
      ]
    },
    {
      "cell_type": "markdown",
      "id": "47fb6253",
      "metadata": {},
      "source": [
        "### Ejercicio 10: Listas Anidadas a Lista Plana\n",
        "\n",
        "Aplanar una lista que contiene otras listas anidadas."
      ]
    },
    {
      "cell_type": "code",
      "execution_count": null,
      "id": "43a95de5",
      "metadata": {},
      "outputs": [],
      "source": [
        "# Ejercicio\n",
        "def aplanar_lista(lista):\n",
        "    return [elemento for sublista in lista for elemento in sublista]\n",
        "\n",
        "# Soluci\u00f3n\n",
        "aplanar_lista([[1, 2, 3], [4, 5], [6]])  # [1, 2, 3, 4, 5, 6]"
      ]
    },
    {
      "cell_type": "markdown",
      "id": "76732db3",
      "metadata": {},
      "source": [
        "Estos cinco ejercicios adicionales ofrecen retos m\u00e1s complejos, ayudando a fortalecer tus habilidades en el manejo de listas y en la implementaci\u00f3n de algoritmos m\u00e1s sofisticados en Python. Practicar con estos problemas te preparar\u00e1 mejor para enfrentar desaf\u00edos de programaci\u00f3n en el mundo real."
      ]
    }
  ],
  "metadata": {},
  "nbformat": 4,
  "nbformat_minor": 5
}