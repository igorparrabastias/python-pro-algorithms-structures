{
  "cells": [
    {
      "attachments": {},
      "cell_type": "markdown",
      "id": "44e5cdbc",
      "metadata": {},
      "source": [
        "# Introducción\n",
        "\n",
        "En esta clase sobre las estructuras de datos nativas de Python, nos enfocaremos en entender qué significa que sean \"nativas\" y por qué son esenciales para el desarrollo de software eficiente. Las estructuras de datos son el núcleo sobre el que se construyen los programas, permitiéndonos organizar, almacenar y manejar datos de manera óptima. Python, como lenguaje de programación de alto nivel, proporciona una serie de estructuras de datos **incorporadas**, diseñadas para maximizar la eficiencia tanto en la escritura del código como en su ejecución.\n",
        "\n",
        "Esto es sólo un vistazo general, en lo que sigue de la sección profundizaremos en cada estructura.\n",
        "\n",
        "## Estructuras de Datos Nativas de Python:\n",
        "\n",
        "Ser \"nativas\" significa que estas estructuras de datos vienen integradas con el intérprete de Python, lo que elimina la necesidad de implementaciones adicionales o la importación de bibliotecas externas para su uso. Esta integración profunda con el lenguaje asegura una alta eficiencia y optimización, facilitando la realización de tareas comunes de programación de una manera intuitiva y accesible.\n",
        "\n",
        "### **Tipos de Estructuras de Datos Nativas Ordenados por Importancia:**\n",
        "\n",
        "1. **Strings (Cadenas):** Representan secuencias de caracteres y son fundamentales para el manejo de texto en Python. Los strings son inmutables, lo que significa que una vez creados, no se pueden modificar."
      ]
    },
    {
      "cell_type": "code",
      "execution_count": 1,
      "id": "f72cabf8",
      "metadata": {},
      "outputs": [],
      "source": [
        "saludo = \"Hola, Python\""
      ]
    },
    {
      "attachments": {},
      "cell_type": "markdown",
      "id": "a65aa704",
      "metadata": {},
      "source": [
        "2. **Listas:** Son colecciones ordenadas y modificables que pueden contener elementos de diferentes tipos, incluidas otras listas. Las listas son dinámicas y su tamaño puede cambiar."
      ]
    },
    {
      "cell_type": "code",
      "execution_count": 2,
      "id": "e266f3bd",
      "metadata": {},
      "outputs": [],
      "source": [
        "mi_lista = [1, \"a\", True, [2, \"b\"]]"
      ]
    },
    {
      "attachments": {},
      "cell_type": "markdown",
      "id": "09ff58f3",
      "metadata": {},
      "source": [
        "3. **Diccionarios:** Permiten almacenar datos en un formato de par clave-valor, facilitando el acceso y la modificación de datos. No están ordenados, pero en versiones recientes de Python, mantienen el orden de inserción."
      ]
    },
    {
      "cell_type": "code",
      "execution_count": 3,
      "id": "6e0c7838",
      "metadata": {},
      "outputs": [],
      "source": [
        "mi_diccionario = {\"nombre\": \"Python\", \"uso\": \"Programación\"}"
      ]
    },
    {
      "attachments": {},
      "cell_type": "markdown",
      "id": "0f0adf6d",
      "metadata": {},
      "source": [
        "4. **Tuplas:** Colecciones ordenadas e inmutables de elementos que pueden ser de diferentes tipos. Son ideales para datos que no deben cambiar a lo largo del tiempo."
      ]
    },
    {
      "cell_type": "code",
      "execution_count": 4,
      "id": "36e33e7e",
      "metadata": {},
      "outputs": [],
      "source": [
        "mi_tupla = (1, \"Python\", False)"
      ]
    },
    {
      "attachments": {},
      "cell_type": "markdown",
      "id": "138ab740",
      "metadata": {},
      "source": [
        "5. **Conjuntos (Sets):** Colecciones no ordenadas de elementos **únicos**. Son útiles para operaciones de conjuntos matemáticos como uniones, intersecciones y pruebas de pertenencia. Los sets en Python **no pueden contener elementos mutables** como listas, diccionarios o incluso otros sets. Pueden **contener tipos inmutables** como números, cadenas y tuplas."
      ]
    },
    {
      "cell_type": "code",
      "execution_count": 5,
      "id": "3945cbdd",
      "metadata": {},
      "outputs": [],
      "source": [
        "mi_conjunto = {1, 2, 3, 4}"
      ]
    },
    {
      "attachments": {},
      "cell_type": "markdown",
      "id": "55cbf388",
      "metadata": {},
      "source": [
        "6. **Sequences:** Es un término general para estructuras de datos ordenadas que incluyen listas y tuplas. Permiten indexación y slicing, facilitando el acceso a subconjuntos de datos."
      ]
    },
    {
      "cell_type": "code",
      "execution_count": 6,
      "id": "ec58f178",
      "metadata": {},
      "outputs": [],
      "source": [
        "mi_secuencia = [1, 2, 3]  # Lista como secuencia\n",
        "otra_secuencia = (4, 5, 6)  # Tupla como secuencia"
      ]
    },
    {
      "attachments": {},
      "cell_type": "markdown",
      "id": "57b53208",
      "metadata": {},
      "source": [
        "7. **Rangos:** Representan una secuencia inmutable de números y son comúnmente usados para bucles for para especificar el número de iteraciones."
      ]
    },
    {
      "cell_type": "code",
      "execution_count": 7,
      "id": "cac6acb2",
      "metadata": {},
      "outputs": [],
      "source": [
        "mi_rango = range(1, 10)"
      ]
    },
    {
      "attachments": {},
      "cell_type": "markdown",
      "id": "70dcfb6c",
      "metadata": {},
      "source": [
        "### **Profundizando en las Estructuras Nativas:**\n",
        "\n",
        "La razón principal detrás de la eficiencia de las estructuras de datos nativas en Python radica en su implementación directa en el lenguaje. Esto significa que están escritas en un nivel más bajo, como C, lo que las hace extremadamente rápidas. Además, al estar integradas en el núcleo del lenguaje, Python las optimiza continuamente para mejorar su rendimiento y funcionalidad con cada versión.\n",
        "\n",
        "Estas estructuras son fundamentales no solo para la manipulación de datos básicos sino también como base para implementaciones más complejas. Por ejemplo, aunque Python no tiene una estructura nativa para árboles, grafos, colas o pilas, las listas y diccionarios se pueden utilizar para construir estas estructuras de datos más avanzadas. La comprensión profunda de las estructuras de datos nativas es esencial para implementar y entender estructuras más complejas que veremos más adelante en este curso.\n",
        "\n",
        "## Conclusión:\n",
        "\n",
        "Las estructuras de datos nativas de Python son herramientas poderosas y flexibles que forman la base de la programación en Python. Al ser integradas directamente en el lenguaje, ofrecen una combinación óptima de facilidad de uso y rendimiento. A lo largo de este curso, construiremos sobre esta base para explorar estructuras de datos más avanzadas y algoritmos complejos, utilizando las capacidades que estas estructuras nativas nos ofrecen como punto de partida."
      ]
    }
  ],
  "metadata": {
    "kernelspec": {
      "display_name": "Python 3",
      "language": "python",
      "name": "python3"
    },
    "language_info": {
      "codemirror_mode": {
        "name": "ipython",
        "version": 3
      },
      "file_extension": ".py",
      "mimetype": "text/x-python",
      "name": "python",
      "nbconvert_exporter": "python",
      "pygments_lexer": "ipython3",
      "version": "3.8.10"
    }
  },
  "nbformat": 4,
  "nbformat_minor": 5
}
