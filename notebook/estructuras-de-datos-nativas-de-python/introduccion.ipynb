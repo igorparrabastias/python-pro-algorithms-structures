{
  "cells": [
    {
      "cell_type": "markdown",
      "id": "44e5cdbc",
      "metadata": {},
      "source": [
        "# Introducci\u00f3n\n",
        "\n",
        "En esta clase sobre las estructuras de datos nativas de Python, nos enfocaremos en entender qu\u00e9 significa que sean \"nativas\" y por qu\u00e9 son esenciales para el desarrollo de software eficiente. Las estructuras de datos son el n\u00facleo sobre el que se construyen los programas, permiti\u00e9ndonos organizar, almacenar y manejar datos de manera \u00f3ptima. Python, como lenguaje de programaci\u00f3n de alto nivel, proporciona una serie de estructuras de datos **incorporadas**, dise\u00f1adas para maximizar la eficiencia tanto en la escritura del c\u00f3digo como en su ejecuci\u00f3n.\n",
        "\n",
        "Esto es s\u00f3lo un vistazo general, en lo que sigue de la secci\u00f3n profundizaremos en cada estructura.\n",
        "\n",
        "## Estructuras de Datos Nativas de Python:\n",
        "\n",
        "Ser \"nativas\" significa que estas estructuras de datos vienen integradas con el int\u00e9rprete de Python, lo que elimina la necesidad de implementaciones adicionales o la importaci\u00f3n de bibliotecas externas para su uso. Esta integraci\u00f3n profunda con el lenguaje asegura una alta eficiencia y optimizaci\u00f3n, facilitando la realizaci\u00f3n de tareas comunes de programaci\u00f3n de una manera intuitiva y accesible.\n",
        "\n",
        "### **Tipos de Estructuras de Datos Nativas Ordenados por Importancia:**\n",
        "\n",
        "1. **Strings (Cadenas):** Representan secuencias de caracteres y son fundamentales para el manejo de texto en Python. Los strings son inmutables, lo que significa que una vez creados, no se pueden modificar."
      ]
    },
    {
      "cell_type": "code",
      "execution_count": null,
      "id": "f72cabf8",
      "metadata": {},
      "outputs": [],
      "source": [
        "saludo = \"Hola, Python\""
      ]
    },
    {
      "cell_type": "markdown",
      "id": "a65aa704",
      "metadata": {},
      "source": [
        "2. **Listas:** Son colecciones ordenadas y modificables que pueden contener elementos de diferentes tipos, incluidas otras listas. Las listas son din\u00e1micas y su tama\u00f1o puede cambiar."
      ]
    },
    {
      "cell_type": "code",
      "execution_count": null,
      "id": "e266f3bd",
      "metadata": {},
      "outputs": [],
      "source": [
        "mi_lista = [1, \"a\", True, [2, \"b\"]]"
      ]
    },
    {
      "cell_type": "markdown",
      "id": "09ff58f3",
      "metadata": {},
      "source": [
        "3. **Diccionarios:** Permiten almacenar datos en un formato de par clave-valor, facilitando el acceso y la modificaci\u00f3n de datos. No est\u00e1n ordenados, pero en versiones recientes de Python, mantienen el orden de inserci\u00f3n."
      ]
    },
    {
      "cell_type": "code",
      "execution_count": null,
      "id": "6e0c7838",
      "metadata": {},
      "outputs": [],
      "source": [
        "mi_diccionario = {\"nombre\": \"Python\", \"uso\": \"Programaci\u00f3n\"}"
      ]
    },
    {
      "cell_type": "markdown",
      "id": "0f0adf6d",
      "metadata": {},
      "source": [
        "4. **Tuplas:** Colecciones ordenadas e inmutables de elementos que pueden ser de diferentes tipos. Son ideales para datos que no deben cambiar a lo largo del tiempo."
      ]
    },
    {
      "cell_type": "code",
      "execution_count": null,
      "id": "36e33e7e",
      "metadata": {},
      "outputs": [],
      "source": [
        "mi_tupla = (1, \"Python\", False)"
      ]
    },
    {
      "cell_type": "markdown",
      "id": "138ab740",
      "metadata": {},
      "source": [
        "5. **Conjuntos (Sets):** Colecciones no ordenadas de elementos **\u00fanicos**. Son \u00fatiles para operaciones de conjuntos matem\u00e1ticos como uniones, intersecciones y pruebas de pertenencia. Los sets en Python **no pueden contener elementos mutables** como listas, diccionarios o incluso otros sets. Pueden **contener tipos inmutables** como n\u00fameros, cadenas y tuplas."
      ]
    },
    {
      "cell_type": "code",
      "execution_count": null,
      "id": "3945cbdd",
      "metadata": {},
      "outputs": [],
      "source": [
        "mi_conjunto = {1, 2, 3, 4}"
      ]
    },
    {
      "cell_type": "markdown",
      "id": "55cbf388",
      "metadata": {},
      "source": [
        "6. **Sequences:** Es un t\u00e9rmino general para estructuras de datos ordenadas que incluyen listas y tuplas. Permiten indexaci\u00f3n y slicing, facilitando el acceso a subconjuntos de datos."
      ]
    },
    {
      "cell_type": "code",
      "execution_count": null,
      "id": "ec58f178",
      "metadata": {},
      "outputs": [],
      "source": [
        "mi_secuencia = [1, 2, 3]  # Lista como secuencia\n",
        "otra_secuencia = (4, 5, 6)  # Tupla como secuencia"
      ]
    },
    {
      "cell_type": "markdown",
      "id": "57b53208",
      "metadata": {},
      "source": [
        "7. **Rangos:** Representan una secuencia inmutable de n\u00fameros y son com\u00fanmente usados para bucles for para especificar el n\u00famero de iteraciones."
      ]
    },
    {
      "cell_type": "code",
      "execution_count": null,
      "id": "cac6acb2",
      "metadata": {},
      "outputs": [],
      "source": [
        "mi_rango = range(1, 10)"
      ]
    },
    {
      "cell_type": "markdown",
      "id": "70dcfb6c",
      "metadata": {},
      "source": [
        "### **Profundizando en las Estructuras Nativas:**\n",
        "\n",
        "La raz\u00f3n principal detr\u00e1s de la eficiencia de las estructuras de datos nativas en Python radica en su implementaci\u00f3n directa en el lenguaje. Esto significa que est\u00e1n escritas en un nivel m\u00e1s bajo, como C, lo que las hace extremadamente r\u00e1pidas. Adem\u00e1s, al estar integradas en el n\u00facleo del lenguaje, Python las optimiza continuamente para mejorar su rendimiento y funcionalidad con cada versi\u00f3n.\n",
        "\n",
        "Estas estructuras son fundamentales no solo para la manipulaci\u00f3n de datos b\u00e1sicos sino tambi\u00e9n como base para implementaciones m\u00e1s complejas. Por ejemplo, aunque Python no tiene una estructura nativa para \u00e1rboles, grafos, colas o pilas, las listas y diccionarios se pueden utilizar para construir estas estructuras de datos m\u00e1s avanzadas. La comprensi\u00f3n profunda de las estructuras de datos nativas es esencial para implementar y entender estructuras m\u00e1s complejas que veremos m\u00e1s adelante en este curso.\n",
        "\n",
        "## Conclusi\u00f3n:\n",
        "\n",
        "Las estructuras de datos nativas de Python son herramientas poderosas y flexibles que forman la base de la programaci\u00f3n en Python. Al ser integradas directamente en el lenguaje, ofrecen una combinaci\u00f3n \u00f3ptima de facilidad de uso y rendimiento. A lo largo de este curso, construiremos sobre esta base para explorar estructuras de datos m\u00e1s avanzadas y algoritmos complejos, utilizando las capacidades que estas estructuras nativas nos ofrecen como punto de partida."
      ]
    }
  ],
  "metadata": {},
  "nbformat": 4,
  "nbformat_minor": 5
}