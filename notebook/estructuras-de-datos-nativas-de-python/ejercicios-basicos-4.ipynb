{
 "cells": [
  {
   "cell_type": "markdown",
   "id": "9e8f37bd",
   "metadata": {},
   "source": [
    "# Ejercicios Básicos con Diccionarios en Python\n",
    "\n",
    "## Ejercicio 1: Crear un Diccionario\n",
    "\n",
    "Crea un diccionario llamado `persona` que contenga las siguientes claves y valores:\n",
    "- `nombre`: tu nombre.\n",
    "- `ciudad`: tu ciudad.\n",
    "- `edad`: tu edad."
   ]
  },
  {
   "cell_type": "code",
   "execution_count": 11,
   "id": "7fe21344",
   "metadata": {},
   "outputs": [],
   "source": [
    "persona = {\n",
    "    'nombre': 'Tu Nombre',\n",
    "    'ciudad': 'Tu Ciudad',\n",
    "    'edad': 14\n",
    "}"
   ]
  },
  {
   "cell_type": "markdown",
   "id": "0e7f8edd",
   "metadata": {},
   "source": [
    "## Ejercicio 2: Acceder a Elementos\n",
    "\n",
    "Accede al valor de la ciudad en el diccionario `persona` e imprímelo."
   ]
  },
  {
   "cell_type": "code",
   "execution_count": 12,
   "id": "90af1760",
   "metadata": {},
   "outputs": [
    {
     "name": "stdout",
     "output_type": "stream",
     "text": [
      "Tu Ciudad\n"
     ]
    }
   ],
   "source": [
    "print(persona['ciudad'])"
   ]
  },
  {
   "cell_type": "markdown",
   "id": "0a988eb5",
   "metadata": {},
   "source": [
    "## Ejercicio 3: Modificar Elementos\n",
    "\n",
    "Modifica la edad en el diccionario `persona` sumándole 1."
   ]
  },
  {
   "cell_type": "code",
   "execution_count": 13,
   "id": "1b51b731",
   "metadata": {},
   "outputs": [
    {
     "name": "stdout",
     "output_type": "stream",
     "text": [
      "15\n"
     ]
    }
   ],
   "source": [
    "persona['edad'] += 1\n",
    "print(persona['edad'])"
   ]
  },
  {
   "cell_type": "markdown",
   "id": "f8652f1f",
   "metadata": {},
   "source": [
    "## Ejercicio 4: Agregar Nuevos Elementos\n",
    "\n",
    "Agrega una nueva clave `ocupacion` con el valor de tu ocupación al diccionario `persona`."
   ]
  },
  {
   "cell_type": "code",
   "execution_count": 14,
   "id": "692231a6",
   "metadata": {},
   "outputs": [
    {
     "name": "stdout",
     "output_type": "stream",
     "text": [
      "{'nombre': 'Tu Nombre', 'ciudad': 'Tu Ciudad', 'edad': 15, 'ocupacion': 'Tu Ocupación'}\n"
     ]
    }
   ],
   "source": [
    "persona['ocupacion'] = 'Tu Ocupación'\n",
    "print(persona)"
   ]
  },
  {
   "cell_type": "markdown",
   "id": "fda68da9",
   "metadata": {},
   "source": [
    "## Ejercicio 5: Eliminar Elementos\n",
    "\n",
    "Elimina la clave `ciudad` del diccionario `persona` usando el método `pop`."
   ]
  },
  {
   "cell_type": "code",
   "execution_count": 15,
   "id": "a99144ed",
   "metadata": {},
   "outputs": [
    {
     "name": "stdout",
     "output_type": "stream",
     "text": [
      "{'nombre': 'Tu Nombre', 'edad': 15, 'ocupacion': 'Tu Ocupación'}\n"
     ]
    }
   ],
   "source": [
    "persona.pop('ciudad', None)\n",
    "print(persona)"
   ]
  },
  {
   "cell_type": "markdown",
   "id": "c03d52b3",
   "metadata": {},
   "source": [
    "## Ejercicio 6: Claves y Valores\n",
    "\n",
    "Imprime todas las claves y todos los valores del diccionario `persona`."
   ]
  },
  {
   "cell_type": "code",
   "execution_count": 16,
   "id": "760531c7",
   "metadata": {},
   "outputs": [
    {
     "name": "stdout",
     "output_type": "stream",
     "text": [
      "Claves: dict_keys(['nombre', 'edad', 'ocupacion'])\n",
      "Valores: dict_values(['Tu Nombre', 15, 'Tu Ocupación'])\n"
     ]
    }
   ],
   "source": [
    "print(\"Claves:\", persona.keys())\n",
    "print(\"Valores:\", persona.values())"
   ]
  },
  {
   "cell_type": "markdown",
   "id": "524e2d25",
   "metadata": {},
   "source": [
    "## Ejercicio 7: Iterar en un Diccionario\n",
    "\n",
    "Itera sobre el diccionario `persona`, imprimiendo todas las claves y sus respectivos valores."
   ]
  },
  {
   "cell_type": "code",
   "execution_count": 17,
   "id": "e205e6f7",
   "metadata": {},
   "outputs": [
    {
     "name": "stdout",
     "output_type": "stream",
     "text": [
      "nombre: Tu Nombre\n",
      "edad: 15\n",
      "ocupacion: Tu Ocupación\n"
     ]
    }
   ],
   "source": [
    "for clave, valor in persona.items():\n",
    "    print(f\"{clave}: {valor}\")"
   ]
  },
  {
   "cell_type": "markdown",
   "id": "ae4c0ab9",
   "metadata": {},
   "source": [
    "## Ejercicio 8: Diccionario de Cuadrados\n",
    "\n",
    "Usa una comprensión de diccionarios para crear un diccionario donde las claves sean los números del 1 al 10 y los valores sean el cuadrado de las claves."
   ]
  },
  {
   "cell_type": "code",
   "execution_count": 18,
   "id": "e582feef",
   "metadata": {},
   "outputs": [
    {
     "name": "stdout",
     "output_type": "stream",
     "text": [
      "{1: 1, 2: 4, 3: 9, 4: 16, 5: 25, 6: 36, 7: 49, 8: 64, 9: 81, 10: 100}\n"
     ]
    }
   ],
   "source": [
    "cuadrados = {x: x ** 2 for x in range(1, 11)}\n",
    "print(cuadrados)"
   ]
  },
  {
   "cell_type": "markdown",
   "id": "2f37bf03",
   "metadata": {},
   "source": [
    "## Ejercicio 9: Filtrar Diccionario\n",
    "\n",
    "Crea un nuevo diccionario a partir del diccionario `cuadrados` que incluya solo los items donde el valor es mayor que 50."
   ]
  },
  {
   "cell_type": "code",
   "execution_count": 19,
   "id": "c1e4b44a",
   "metadata": {},
   "outputs": [
    {
     "name": "stdout",
     "output_type": "stream",
     "text": [
      "{8: 64, 9: 81, 10: 100}\n"
     ]
    }
   ],
   "source": [
    "filtrados = {clave: valor for clave, valor in cuadrados.items() if valor > 50}\n",
    "print(filtrados)"
   ]
  },
  {
   "cell_type": "markdown",
   "id": "bd712aea",
   "metadata": {},
   "source": [
    "## Ejercicio 10: Combinar Diccionarios\n",
    "\n",
    "Dado otro diccionario `adicional = {'hobby': 'fotografía', 'mascota': 'perro'}`, combina este diccionario con `persona` para expandir su información."
   ]
  },
  {
   "cell_type": "code",
   "execution_count": 20,
   "id": "c25d1d7e",
   "metadata": {},
   "outputs": [
    {
     "name": "stdout",
     "output_type": "stream",
     "text": [
      "{'nombre': 'Tu Nombre', 'edad': 15, 'ocupacion': 'Tu Ocupación', 'hobby': 'fotografía', 'mascota': 'perro'}\n"
     ]
    }
   ],
   "source": [
    "adicional = {'hobby': 'fotografía', 'mascota': 'perro'}\n",
    "persona.update(adicional)\n",
    "print(persona)"
   ]
  },
  {
   "cell_type": "markdown",
   "id": "8c684850",
   "metadata": {},
   "source": [
    "## Ejercicio 11: Contar Ocurrencias\n",
    "\n",
    "Dado una lista de palabras, crea un diccionario que cuente la cantidad de veces que cada palabra aparece en la lista."
   ]
  },
  {
   "cell_type": "code",
   "execution_count": 21,
   "id": "4beda709",
   "metadata": {},
   "outputs": [
    {
     "name": "stdout",
     "output_type": "stream",
     "text": [
      "{'manzana': 3, 'banana': 1, 'cereza': 2, 'durazno': 1}\n"
     ]
    }
   ],
   "source": [
    "palabras = ['manzana', 'banana', 'cereza', 'manzana', 'durazno', 'cereza', 'manzana']\n",
    "conteo = {}\n",
    "for palabra in palabras:\n",
    "    if palabra in conteo:\n",
    "        conteo[palabra] += 1\n",
    "    else:\n",
    "        conteo[palabra] = 1\n",
    "print(conteo)"
   ]
  },
  {
   "cell_type": "markdown",
   "id": "437298da",
   "metadata": {},
   "source": [
    "## Ejercicio 12: Invertir un Diccionario\n",
    "\n",
    "Crea un diccionario invertido donde las claves y los valores del diccionario original se intercambien."
   ]
  },
  {
   "cell_type": "code",
   "execution_count": 22,
   "id": "8cccb062",
   "metadata": {},
   "outputs": [
    {
     "name": "stdout",
     "output_type": "stream",
     "text": [
      "{1: 'a', 2: 'b', 3: 'c'}\n"
     ]
    }
   ],
   "source": [
    "original = {'a': 1, 'b': 2, 'c': 3}\n",
    "invertido = {valor: clave for clave, valor in original.items()}\n",
    "print(invertido)"
   ]
  },
  {
   "cell_type": "markdown",
   "id": "21ff921c",
   "metadata": {},
   "source": [
    "## Ejercicio 13: Sub-diccionarios\n",
    "\n",
    "Dado un diccionario, crea sub-diccionarios basados en un conjunto específico de claves."
   ]
  },
  {
   "cell_type": "code",
   "execution_count": 23,
   "id": "e063b8f3",
   "metadata": {},
   "outputs": [
    {
     "name": "stdout",
     "output_type": "stream",
     "text": [
      "{'nombre': 'Juan', 'profesion': 'Ingeniero'}\n"
     ]
    }
   ],
   "source": [
    "dicc_total = {'nombre': 'Juan', 'edad': 25, 'ciudad': 'Santiago', 'profesion': 'Ingeniero'}\n",
    "claves_sub = ['nombre', 'profesion']\n",
    "sub_diccionario = {clave: dicc_total[clave] for clave in claves_sub}\n",
    "print(sub_diccionario)"
   ]
  },
  {
   "cell_type": "markdown",
   "id": "b2b49474",
   "metadata": {},
   "source": [
    "## Ejercicio 14: Diccionarios por Comprensión con Condicionales\n",
    "\n",
    "Usa una comprensión de diccionarios para crear un diccionario con solo los items que tienen claves como números impares."
   ]
  },
  {
   "cell_type": "code",
   "execution_count": 24,
   "id": "b8e60d38",
   "metadata": {},
   "outputs": [
    {
     "name": "stdout",
     "output_type": "stream",
     "text": [
      "{1: 'a', 3: 'c', 5: 'e'}\n"
     ]
    }
   ],
   "source": [
    "dicc = {1: 'a', 2: 'b', 3: 'c', 4: 'd', 5: 'e'}\n",
    "dicc_impares = {clave: valor for clave, valor in dicc.items() if clave % 2 != 0}\n",
    "print(dicc_impares)"
   ]
  },
  {
   "cell_type": "markdown",
   "id": "babf555e",
   "metadata": {},
   "source": [
    "## Ejercicio 15: Diccionario de Listas\n",
    "\n",
    "Crea un diccionario donde cada clave es una letra y cada valor es una lista de palabras que comienzan con esa letra."
   ]
  },
  {
   "cell_type": "code",
   "execution_count": 25,
   "id": "de597861",
   "metadata": {},
   "outputs": [
    {
     "name": "stdout",
     "output_type": "stream",
     "text": [
      "{'a': ['apple', 'apricot'], 'b': ['banana', 'blueberry'], 'c': ['cherry']}\n"
     ]
    }
   ],
   "source": [
    "palabras = ['apple', 'banana', 'cherry', 'apricot', 'blueberry']\n",
    "dicc_por_letra = {}\n",
    "for palabra in palabras:\n",
    "    letra = palabra[0]\n",
    "    if letra in dicc_por_letra:\n",
    "        dicc_por_letra[letra].append(palabra)\n",
    "    else:\n",
    "        dicc_por_letra[letra] = [palabra]\n",
    "print(dicc_por_letra)"
   ]
  },
  {
   "cell_type": "markdown",
   "id": "23fd9473",
   "metadata": {},
   "source": [
    "## Ejercicio 16: Unión de Diccionarios con Prioridad\n",
    "\n",
    "Dado dos diccionarios, une ambos pero da prioridad a los valores del segundo en caso de colisión de claves."
   ]
  },
  {
   "cell_type": "code",
   "execution_count": 26,
   "id": "778417ff",
   "metadata": {},
   "outputs": [
    {
     "name": "stdout",
     "output_type": "stream",
     "text": [
      "{'a': 1, 'b': 3, 'c': 4}\n"
     ]
    }
   ],
   "source": [
    "dicc1 = {'a': 1, 'b': 2}\n",
    "dicc2 = {'b': 3, 'c': 4}\n",
    "union = {**dicc1, **dicc2}\n",
    "print(union)"
   ]
  },
  {
   "cell_type": "markdown",
   "id": "2809acba",
   "metadata": {},
   "source": [
    "## Ejercicio 17: Diccionario de Frecuencias\n",
    "\n",
    "Dado un texto, crea un diccionario que mapee cada palabra a su frecuencia de aparición en el texto."
   ]
  },
  {
   "cell_type": "code",
   "execution_count": 27,
   "id": "a0a4983b",
   "metadata": {},
   "outputs": [
    {
     "name": "stdout",
     "output_type": "stream",
     "text": [
      "{'hola': 2, 'mundo': 1, 'todos': 1}\n"
     ]
    }
   ],
   "source": [
    "texto = \"hola mundo hola todos\"\n",
    "palabras = texto.split()\n",
    "frecuencias = {}\n",
    "for palabra in palabras:\n",
    "    frecuencias[palabra] = frecuencias.get(palabra, 0) + 1\n",
    "print(frecuencias)"
   ]
  },
  {
   "cell_type": "markdown",
   "id": "eda8c359",
   "metadata": {},
   "source": [
    "## Ejercicio 18: Diccionario de Máximos\n",
    "\n",
    "Crea un diccionario que contenga el valor máximo de cada lista asociada a cada clave."
   ]
  },
  {
   "cell_type": "code",
   "execution_count": 28,
   "id": "b2f9882c",
   "metadata": {},
   "outputs": [
    {
     "name": "stdout",
     "output_type": "stream",
     "text": [
      "{'a': 3, 'b': 7, 'c': 9}\n"
     ]
    }
   ],
   "source": [
    "dicc_listas = {'a': [1, 2, 3], 'b': [7, 6, 5], 'c': [9, 8]}\n",
    "maximos = {clave: max(valor) for clave, valor in dicc_listas.items()}\n",
    "print(maximos)"
   ]
  },
  {
   "cell_type": "markdown",
   "id": "4fcf7a8b",
   "metadata": {},
   "source": [
    "## Ejercicio 19: Filtrar Diccionario por Valor\n",
    "\n",
    "Crea un nuevo diccionario que contenga solo los items del diccionario original donde los valores sean mayores que 10."
   ]
  },
  {
   "cell_type": "code",
   "execution_count": 29,
   "id": "bc5f2865",
   "metadata": {},
   "outputs": [
    {
     "name": "stdout",
     "output_type": "stream",
     "text": [
      "{'b': 15, 'c': 20}\n"
     ]
    }
   ],
   "source": [
    "dicc_original = {'a': 5, 'b': 15, 'c': 20, 'd': 9}\n",
    "filtrado = {clave: valor for clave, valor in dicc_original.items() if valor >\n",
    "\n",
    "10}\n",
    "print(filtrado)"
   ]
  },
  {
   "cell_type": "markdown",
   "id": "f50fb4a9",
   "metadata": {},
   "source": [
    "## Ejercicio 20: Mapeo Reverso\n",
    "\n",
    "Dado un diccionario donde los valores son listas, crea un nuevo diccionario que asocie cada elemento de las listas a su clave original."
   ]
  },
  {
   "cell_type": "code",
   "execution_count": 30,
   "id": "1c1f37f6",
   "metadata": {},
   "outputs": [
    {
     "name": "stdout",
     "output_type": "stream",
     "text": [
      "{1: ['a'], 2: ['a', 'b'], 3: ['b']}\n"
     ]
    }
   ],
   "source": [
    "dicc = {'a': [1, 2], 'b': [2, 3]}\n",
    "mapeo_reverso = {}\n",
    "for clave, lista in dicc.items():\n",
    "    for elemento in lista:\n",
    "        if elemento in mapeo_reverso:\n",
    "            mapeo_reverso[elemento].append(clave)\n",
    "        else:\n",
    "            mapeo_reverso[elemento] = [clave]\n",
    "print(mapeo_reverso)"
   ]
  }
 ],
 "metadata": {
  "kernelspec": {
   "display_name": "Python 3",
   "language": "python",
   "name": "python3"
  },
  "language_info": {
   "codemirror_mode": {
    "name": "ipython",
    "version": 3
   },
   "file_extension": ".py",
   "mimetype": "text/x-python",
   "name": "python",
   "nbconvert_exporter": "python",
   "pygments_lexer": "ipython3",
   "version": "3.8.10"
  }
 },
 "nbformat": 4,
 "nbformat_minor": 5
}
