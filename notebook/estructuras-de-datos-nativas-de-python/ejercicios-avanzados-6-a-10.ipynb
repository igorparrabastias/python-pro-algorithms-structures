{
 "cells": [
  {
   "cell_type": "markdown",
   "id": "e5f13882",
   "metadata": {},
   "source": [
    "# Ejercicios Avanzados 6 a 10\n",
    "\n",
    "### Ejercicio 6: Conjunto de Elementos Comunes en Listas Anidadas\n",
    "\n",
    "Dada una lista de listas, encuentra los elementos comunes a todas las sublistas."
   ]
  },
  {
   "cell_type": "code",
   "execution_count": null,
   "id": "f6016b78",
   "metadata": {},
   "outputs": [],
   "source": [
    "# Ejercicio\n",
    "listas_anidadas = [[1, 2, 3], [2, 3, 4], [3, 4, 5]]\n",
    "elementos_comunes = set(listas_anidadas[0]).intersection(*listas_anidadas[1:])\n",
    "\n",
    "# Solución\n",
    "# elementos_comunes = {3}\n"
   ]
  },
  {
   "cell_type": "markdown",
   "id": "f43a64cb",
   "metadata": {},
   "source": [
    "### Ejercicio 7: Eliminar Subconjuntos de un Conjunto de Conjuntos\n",
    "\n",
    "Dado un conjunto de conjuntos, elimina todos los subconjuntos que estén contenidos en otro conjunto del mismo conjunto de conjuntos."
   ]
  },
  {
   "cell_type": "code",
   "execution_count": null,
   "id": "f7edd583",
   "metadata": {},
   "outputs": [],
   "source": [
    "# Ejercicio\n",
    "conjunto_conjuntos = {frozenset({1, 2}), frozenset({1, 2, 3}), frozenset({2, 3})}\n",
    "conjunto_sin_subconjuntos = {s for s in conjunto_conjuntos if not any(s < otro for otro in conjunto_conjuntos if s != otro)}\n",
    "\n",
    "# Solución\n",
    "# conjunto_sin_subconjuntos = {frozenset({1, 2, 3}), frozenset({2, 3})}\n"
   ]
  },
  {
   "cell_type": "markdown",
   "id": "1d4ca0a6",
   "metadata": {},
   "source": [
    "### Ejercicio 8: Crear un Conjunto de Pares Ordenados\n",
    "\n",
    "Dadas dos listas, crea un conjunto que contenga todos los pares ordenados posibles (como tuplas) tomando un elemento de cada lista."
   ]
  },
  {
   "cell_type": "code",
   "execution_count": null,
   "id": "eea1e8d0",
   "metadata": {},
   "outputs": [],
   "source": [
    "# Ejercicio\n",
    "lista1 = [1, 2]\n",
    "lista2 = [3, 4]\n",
    "pares_ordenados = {(x, y) for x in lista1 for y in lista2}\n",
    "\n",
    "# Solución\n",
    "# pares_ordenados = {(1, 3), (1, 4), (2, 3), (2, 4)}\n"
   ]
  },
  {
   "cell_type": "markdown",
   "id": "ca5a8fd5",
   "metadata": {},
   "source": [
    "### Ejercicio 9: Conjunto de Elementos que No se Repiten en Listas\n",
    "\n",
    "Dadas dos listas, crea un conjunto con los elementos que aparecen en una lista pero no en la otra y viceversa."
   ]
  },
  {
   "cell_type": "code",
   "execution_count": null,
   "id": "54997021",
   "metadata": {},
   "outputs": [],
   "source": [
    "# Ejercicio\n",
    "lista1 = [1, 2, 3]\n",
    "lista2 = [3, 4, 5]\n",
    "elementos_no_repetidos = set(lista1).symmetric_difference(lista2)\n",
    "\n",
    "# Solución\n",
    "# elementos_no_repetidos = {1, 2, 4, 5}\n"
   ]
  },
  {
   "cell_type": "markdown",
   "id": "8a942793",
   "metadata": {},
   "source": [
    "### Ejercicio 10: Conjunto de Elementos No Compartidos en Múltiples Listas\n",
    "\n",
    "Dada una lista de listas, encuentra los elementos que son únicos en cada sublista."
   ]
  },
  {
   "cell_type": "code",
   "execution_count": null,
   "id": "aadcebee",
   "metadata": {},
   "outputs": [],
   "source": [
    "# Ejercicio\n",
    "listas = [[1, 2], [2, 3, 4], [1, 4, 5]]\n",
    "elementos_unicos = set().union(*[set(sublista) - set().union(*[otra for otra in listas if otra != sublista]) for sublista in listas])\n",
    "\n",
    "# Solución\n",
    "# elementos_unicos = {3, 5}\n"
   ]
  },
  {
   "cell_type": "markdown",
   "id": "69369cae",
   "metadata": {},
   "source": [
    "Estos cinco ejercicios adicionales desafían tu comprensión y habilidad para manipular conjuntos en Python en situaciones más complejas. Practicar con estos problemas ayuda a desarrollar una comprensión más profunda de las aplicaciones avanzadas de conjuntos y su uso eficiente en escenarios de programación desafiantes."
   ]
  }
 ],
 "metadata": {},
 "nbformat": 4,
 "nbformat_minor": 5
}
