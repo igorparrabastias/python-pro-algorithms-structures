{
  "cells": [
    {
      "cell_type": "markdown",
      "id": "472faa20",
      "metadata": {},
      "source": [
        "# Ejercicios avanzados 6 a 10\n",
        "\n",
        "### Ejercicio 6: Extraer N\u00fameros de una Cadena\n",
        "\n",
        "Dada una cadena que contiene n\u00fameros y letras, extrae todos los n\u00fameros y col\u00f3calos en una lista."
      ]
    },
    {
      "cell_type": "code",
      "execution_count": null,
      "id": "d896fe21",
      "metadata": {},
      "outputs": [],
      "source": [
        "# Ejercicio\n",
        "cadena = \"Python 3, Java 8, C# 9\"\n",
        "numeros = [int(num) for num in cadena.split() if num.isdigit()]\n",
        "\n",
        "# Soluci\u00f3n\n",
        "# numeros = [3, 8, 9]"
      ]
    },
    {
      "cell_type": "markdown",
      "id": "0cb69b18",
      "metadata": {},
      "source": [
        "### Ejercicio 7: Encontrar Todas las Posiciones de una Subcadena\n",
        "\n",
        "Dada una cadena y una subcadena, encuentra todas las posiciones de inicio de la subcadena en la cadena."
      ]
    },
    {
      "cell_type": "code",
      "execution_count": null,
      "id": "13cad38c",
      "metadata": {},
      "outputs": [],
      "source": [
        "# Ejercicio\n",
        "cadena = \"lorem ipsum dolor sit ipsum\"\n",
        "subcadena = \"ipsum\"\n",
        "posiciones = [i for i in range(len(cadena)) if cadena.startswith(subcadena, i)]\n",
        "\n",
        "# Soluci\u00f3n\n",
        "# posiciones = [6, 18]"
      ]
    },
    {
      "cell_type": "markdown",
      "id": "a04ed320",
      "metadata": {},
      "source": [
        "### Ejercicio 8: Convertir una Cadena en un T\u00edtulo\n",
        "\n",
        "Dada una cadena, convi\u00e9rtela en un t\u00edtulo (cada palabra comienza con una letra may\u00fascula)."
      ]
    },
    {
      "cell_type": "code",
      "execution_count": null,
      "id": "38c90033",
      "metadata": {},
      "outputs": [],
      "source": [
        "# Ejercicio\n",
        "cadena = \"bienvenido al curso de python\"\n",
        "titulo = cadena.title()\n",
        "\n",
        "# Soluci\u00f3n\n",
        "# titulo = \"Bienvenido Al Curso De Python\""
      ]
    },
    {
      "cell_type": "markdown",
      "id": "e2d0dfcc",
      "metadata": {},
      "source": [
        "### Ejercicio 9: Combinar Lista de Cadenas con Separadores\n",
        "\n",
        "Dada una lista de cadenas, comb\u00ednalas en una sola cadena, separadas por un gui\u00f3n."
      ]
    },
    {
      "cell_type": "code",
      "execution_count": null,
      "id": "f053fabb",
      "metadata": {},
      "outputs": [],
      "source": [
        "# Ejercicio\n",
        "palabras = [\"Python\", \"Java\", \"C++\"]\n",
        "cadena_combinada = \"-\".join(palabras)\n",
        "\n",
        "# Soluci\u00f3n\n",
        "# cadena_combinada = \"Python-Java-C++\""
      ]
    },
    {
      "cell_type": "markdown",
      "id": "eef8a18e",
      "metadata": {},
      "source": [
        "### Ejercicio 10: Cifrado C\u00e9sar\n",
        "\n",
        "Implementa el cifrado C\u00e9sar, una t\u00e9cnica simple de encriptaci\u00f3n que desplaza cada letra un n\u00famero fijo de lugares en el alfabeto."
      ]
    },
    {
      "cell_type": "code",
      "execution_count": null,
      "id": "6563e94b",
      "metadata": {},
      "outputs": [],
      "source": [
        "# Ejercicio\n",
        "def cifrado_cesar(cadena, desplazamiento):\n",
        "    alfabeto = \"abcdefghijklmnopqrstuvwxyz\"\n",
        "    cifrado = \"\"\n",
        "    for char in cadena:\n",
        "        if char in alfabeto:\n",
        "            pos_nueva = (alfabeto.index(char) + desplazamiento) % 26\n",
        "            cifrado += alfabeto[pos_nueva]\n",
        "        else:\n",
        "            cifrado += char\n",
        "    return cifrado\n",
        "\n",
        "# Soluci\u00f3n\n",
        "# cifrado_cesar(\"abc\", 3)  # \"def\""
      ]
    },
    {
      "cell_type": "markdown",
      "id": "2681da78",
      "metadata": {},
      "source": [
        "Estos cinco ejercicios adicionales de cadenas desaf\u00edan tu habilidad para manipular y procesar cadenas de texto en Python, abordando desde algoritmos de encriptaci\u00f3n b\u00e1sicos hasta extracci\u00f3n y transformaci\u00f3n avanzadas de datos dentro de cadenas. Practicar con estos problemas ayudar\u00e1 a fortalecer tus habilidades y comprensi\u00f3n de las operaciones de cadenas en Python, una capacidad esencial en muchos aspectos de la programaci\u00f3n."
      ]
    }
  ],
  "metadata": {},
  "nbformat": 4,
  "nbformat_minor": 5
}