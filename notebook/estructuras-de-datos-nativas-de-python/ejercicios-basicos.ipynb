{
  "cells": [
    {
      "cell_type": "markdown",
      "id": "22c2ea93",
      "metadata": {},
      "source": [
        "# Ejercicios b\u00e1sicos\n",
        "\n",
        "### Ejercicio 1: Crear un Conjunto\n",
        "\n",
        "Crea un conjunto con los n\u00fameros del 1 al 5."
      ]
    },
    {
      "cell_type": "code",
      "execution_count": null,
      "id": "3506f9bf",
      "metadata": {},
      "outputs": [],
      "source": [
        "# Ejercicio\n",
        "mi_conjunto = {1, 2, 3, 4, 5}"
      ]
    },
    {
      "cell_type": "markdown",
      "id": "7c3f1dba",
      "metadata": {},
      "source": [
        "### Ejercicio 2: A\u00f1adir un Elemento\n",
        "\n",
        "A\u00f1ade el n\u00famero 6 al conjunto anterior."
      ]
    },
    {
      "cell_type": "code",
      "execution_count": null,
      "id": "8fbe848f",
      "metadata": {},
      "outputs": [],
      "source": [
        "# Ejercicio\n",
        "mi_conjunto.add(6)"
      ]
    },
    {
      "cell_type": "markdown",
      "id": "349a9445",
      "metadata": {},
      "source": [
        "### Ejercicio 3: Eliminar un Elemento\n",
        "\n",
        "Elimina el n\u00famero 3 del conjunto."
      ]
    },
    {
      "cell_type": "code",
      "execution_count": null,
      "id": "22e4a6a9",
      "metadata": {},
      "outputs": [],
      "source": [
        "# Ejercicio\n",
        "mi_conjunto.discard(3)"
      ]
    },
    {
      "cell_type": "markdown",
      "id": "55f3826f",
      "metadata": {},
      "source": [
        "### Ejercicio 4: Verificar Pertenencia\n",
        "\n",
        "Comprueba si el n\u00famero 4 est\u00e1 en el conjunto."
      ]
    },
    {
      "cell_type": "code",
      "execution_count": null,
      "id": "9e19c33f",
      "metadata": {},
      "outputs": [],
      "source": [
        "# Ejercicio\n",
        "4 in mi_conjunto  # True o False"
      ]
    },
    {
      "cell_type": "markdown",
      "id": "6363055c",
      "metadata": {},
      "source": [
        "### Ejercicio 5: Crear Conjunto desde Lista\n",
        "\n",
        "Crea un conjunto a partir de la siguiente lista: `[1, 2, 2, 3, 4, 4, 5]`."
      ]
    },
    {
      "cell_type": "code",
      "execution_count": null,
      "id": "cae52126",
      "metadata": {},
      "outputs": [],
      "source": [
        "# Ejercicio\n",
        "lista = [1, 2, 2, 3, 4, 4, 5]\n",
        "conjunto_desde_lista = set(lista)"
      ]
    },
    {
      "cell_type": "markdown",
      "id": "192dca74",
      "metadata": {},
      "source": [
        "### Ejercicio 6: Uni\u00f3n de Conjuntos\n",
        "\n",
        "Dados dos conjuntos, `{1, 2, 3}` y `{4, 5, 6}`, encuentra su uni\u00f3n."
      ]
    },
    {
      "cell_type": "code",
      "execution_count": null,
      "id": "0a270976",
      "metadata": {},
      "outputs": [],
      "source": [
        "# Ejercicio\n",
        "conjunto_a = {1, 2, 3}\n",
        "conjunto_b = {4, 5, 6}\n",
        "union = conjunto_a.union(conjunto_b)"
      ]
    },
    {
      "cell_type": "markdown",
      "id": "ceb4bde2",
      "metadata": {},
      "source": [
        "### Ejercicio 7: Intersecci\u00f3n de Conjuntos\n",
        "\n",
        "Encuentra la intersecci\u00f3n de los conjuntos `{1, 2, 3}` y `{2, 3, 4}`."
      ]
    },
    {
      "cell_type": "code",
      "execution_count": null,
      "id": "896afa0f",
      "metadata": {},
      "outputs": [],
      "source": [
        "# Ejercicio\n",
        "conjunto_a = {1, 2, 3}\n",
        "conjunto_b = {2, 3, 4}\n",
        "interseccion = conjunto_a.intersection(conjunto_b)"
      ]
    },
    {
      "cell_type": "markdown",
      "id": "9574c80b",
      "metadata": {},
      "source": [
        "### Ejercicio 8: Diferencia de Conjuntos\n",
        "\n",
        "Encuentra la diferencia entre `{1, 2, 3}` y `{2, 3, 4}`."
      ]
    },
    {
      "cell_type": "code",
      "execution_count": null,
      "id": "905951ff",
      "metadata": {},
      "outputs": [],
      "source": [
        "# Ejercicio\n",
        "conjunto_a = {1, 2, 3}\n",
        "conjunto_b = {2, 3, 4}\n",
        "diferencia = conjunto_a - conjunto_b"
      ]
    },
    {
      "cell_type": "markdown",
      "id": "f46d701a",
      "metadata": {},
      "source": [
        "### Ejercicio 9: Diferencia Sim\u00e9trica\n",
        "\n",
        "Encuentra la diferencia sim\u00e9trica entre `{1, 2, 3}` y `{2, 3, 4}`."
      ]
    },
    {
      "cell_type": "code",
      "execution_count": null,
      "id": "3bafc0f6",
      "metadata": {},
      "outputs": [],
      "source": [
        "# Ejercicio\n",
        "conjunto_a = {1, 2, 3}\n",
        "conjunto_b = {2, 3, 4}\n",
        "diferencia_simetrica = conjunto_a.symmetric_difference(conjunto_b)"
      ]
    },
    {
      "cell_type": "markdown",
      "id": "678a2a06",
      "metadata": {},
      "source": [
        "### Ejercicio 10: Subconjuntos\n",
        "\n",
        "Comprueba si `{1, 2}` es un subconjunto de `{1, 2, 3}`."
      ]
    },
    {
      "cell_type": "code",
      "execution_count": null,
      "id": "d693da94",
      "metadata": {},
      "outputs": [],
      "source": [
        "# Ejercicio\n",
        "subconjunto = {1, 2}\n",
        "conjunto = {1, 2, 3}\n",
        "es_subconjunto = subconjunto.issubset(conjunto)"
      ]
    },
    {
      "cell_type": "markdown",
      "id": "a701bfa8",
      "metadata": {},
      "source": [
        "### Ejercicio 11: Superconjuntos\n",
        "\n",
        "Comprueba si `{1, 2, 3}` es un superconjunto de `{1, 2}`."
      ]
    },
    {
      "cell_type": "code",
      "execution_count": null,
      "id": "f80dcfc7",
      "metadata": {},
      "outputs": [],
      "source": [
        "# Ejercicio\n",
        "superconjunto = {1, 2, 3}\n",
        "conjunto = {1, 2}\n",
        "es_superconjunto = superconjunto.issuperset(conjunto)"
      ]
    },
    {
      "cell_type": "markdown",
      "id": "20571926",
      "metadata": {},
      "source": [
        "### Ejercicio 12: Conjuntos Disjuntos\n",
        "\n",
        "Comprueba si los conjuntos `{1, 2, 3}` y `{4, 5, 6}` son disjuntos."
      ]
    },
    {
      "cell_type": "code",
      "execution_count": null,
      "id": "65312672",
      "metadata": {},
      "outputs": [],
      "source": [
        "# Ejercicio\n",
        "conjunto_a = {1, 2, 3}\n",
        "conjunto_b = {4, 5, 6}\n",
        "son_disjuntos = conjunto_a.isdisjoint(conjunto_b)"
      ]
    },
    {
      "cell_type": "markdown",
      "id": "b6ae9b2a",
      "metadata": {},
      "source": [
        "### Ejercicio 13: Tama\u00f1o del Conjunto\n",
        "\n",
        "Obt\u00e9n el n\u00famero de elementos en el conjunto `{1, 2, 3, 4, 5}`."
      ]
    },
    {
      "cell_type": "code",
      "execution_count": null,
      "id": "79c2b2d0",
      "metadata": {},
      "outputs": [],
      "source": [
        "# Ejercicio\n",
        "conjunto = {1, 2, 3, 4, 5}\n",
        "tama\u00f1o = len(conjunto)"
      ]
    },
    {
      "cell_type": "markdown",
      "id": "d82ab0cf",
      "metadata": {},
      "source": [
        "### Ejercicio 14: Eliminar Elementos\n",
        "\n",
        "Elimina todos los elementos del conjunto `{1, 2, 3, 4, 5}`."
      ]
    },
    {
      "cell_type": "code",
      "execution_count": null,
      "id": "3d11839a",
      "metadata": {},
      "outputs": [],
      "source": [
        "# Ejercicio\n",
        "conjunto = {1, 2, 3, 4, 5}\n",
        "conjunto.clear()"
      ]
    },
    {
      "cell_type": "markdown",
      "id": "534f2582",
      "metadata": {},
      "source": [
        "### Ejercicio 15: Copiar un Conjunto\n",
        "\n",
        "Crea una copia del conjunto `{1, 2, 3}`."
      ]
    },
    {
      "cell_type": "code",
      "execution_count": null,
      "id": "061d2db2",
      "metadata": {},
      "outputs": [],
      "source": [
        "# Ejercicio\n",
        "conjunto_original = {1, 2, 3}\n",
        "conjunto_copia = conjunto_original.copy()"
      ]
    },
    {
      "cell_type": "markdown",
      "id": "e057ce31",
      "metadata": {},
      "source": [
        "### Ejercicio 16: Crear un Frozenset\n",
        "\n",
        "Crea un `frozenset` a partir de la lista `[1, 2, 3, 4, 5]`."
      ]
    },
    {
      "cell_type": "code",
      "execution_count": null,
      "id": "37e12dc1",
      "metadata": {},
      "outputs": [],
      "source": [
        "# Ejercicio\n",
        "lista = [1, 2, 3, 4, 5]\n",
        "conjunto_inmutable = frozenset(lista)"
      ]
    },
    {
      "cell_type": "markdown",
      "id": "5be9896c",
      "metadata": {},
      "source": [
        "### Ejercicio 17: Pop en Conjuntos\n",
        "\n",
        "Utiliza `pop()` para eliminar y retornar un elemento del conjunto `{1, 2, 3}`."
      ]
    },
    {
      "cell_type": "code",
      "execution_count": null,
      "id": "ed7e21ba",
      "metadata": {},
      "outputs": [],
      "source": [
        "# Ejercicio\n",
        "conjunto = {1, 2, 3}\n",
        "elemento = conjunto.pop()"
      ]
    },
    {
      "cell_type": "markdown",
      "id": "a95db1dc",
      "metadata": {},
      "source": [
        "### Ejercicio 18: Convertir Conjunto en Lista\n",
        "\n",
        "Convierte el conjunto `{1, 2, 3, 4, 5}` en una lista."
      ]
    },
    {
      "cell_type": "code",
      "execution_count": null,
      "id": "903e9ee6",
      "metadata": {},
      "outputs": [],
      "source": [
        "# Ejercicio\n",
        "conjunto = {1, 2, 3, 4, 5}\n",
        "lista = list(conjunto)"
      ]
    },
    {
      "cell_type": "markdown",
      "id": "a9f3b08f",
      "metadata": {},
      "source": [
        "### Ejercicio 19: Intersecci\u00f3n de M\u00faltiples Conjuntos\n",
        "\n",
        "Encuentra la intersecci\u00f3n de los conjuntos `{1, 2, 3}`, `{2, 3, 4}` y `{3, 4, 5}`."
      ]
    },
    {
      "cell_type": "code",
      "execution_count": null,
      "id": "4efa933a",
      "metadata": {},
      "outputs": [],
      "source": [
        "# Ejercicio\n",
        "conjunto_a = {1, 2, 3}\n",
        "conjunto_b = {2, 3, 4}\n",
        "conjunto_c = {3, 4, 5}\n",
        "interseccion = conjunto_a.intersection(conjunto_b, conjunto_c)"
      ]
    },
    {
      "cell_type": "markdown",
      "id": "c028be26",
      "metadata": {},
      "source": [
        "### Ejercicio 20: Uni\u00f3n de Conjuntos con Comprensi\u00f3n\n",
        "\n",
        "Crea la uni\u00f3n de los conjuntos `{1, 2, 3}` y `{4, 5, 6}` utilizando una comprensi\u00f3n de conjunto."
      ]
    },
    {
      "cell_type": "code",
      "execution_count": null,
      "id": "0bece5e0",
      "metadata": {},
      "outputs": [],
      "source": [
        "# Ejercicio\n",
        "conjunto_a = {1, 2, 3}\n",
        "conjunto_b = {4, 5, 6}\n",
        "union = {x for x in conjunto_a}.union(conjunto_b)"
      ]
    },
    {
      "cell_type": "markdown",
      "id": "b37b0d1e",
      "metadata": {},
      "source": [
        "Estos ej\n",
        "\n",
        "ercicios cubren una gama de operaciones y aplicaciones pr\u00e1cticas de los conjuntos en Python, ofreciendo una comprensi\u00f3n profunda de c\u00f3mo y cu\u00e1ndo utilizar esta estructura de datos eficiente."
      ]
    }
  ],
  "metadata": {},
  "nbformat": 4,
  "nbformat_minor": 5
}