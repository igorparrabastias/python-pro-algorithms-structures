{
 "cells": [
  {
   "cell_type": "markdown",
   "id": "22c2ea93",
   "metadata": {},
   "source": [
    "# Ejercicios básicos\n",
    "\n",
    "### Ejercicio 1: Crear un Conjunto\n",
    "\n",
    "Crea un conjunto con los números del 1 al 5."
   ]
  },
  {
   "cell_type": "code",
   "execution_count": null,
   "id": "3506f9bf",
   "metadata": {},
   "outputs": [],
   "source": [
    "# Ejercicio\n",
    "mi_conjunto = {1, 2, 3, 4, 5}\n"
   ]
  },
  {
   "cell_type": "markdown",
   "id": "7c3f1dba",
   "metadata": {},
   "source": [
    "### Ejercicio 2: Añadir un Elemento\n",
    "\n",
    "Añade el número 6 al conjunto anterior."
   ]
  },
  {
   "cell_type": "code",
   "execution_count": null,
   "id": "8fbe848f",
   "metadata": {},
   "outputs": [],
   "source": [
    "# Ejercicio\n",
    "mi_conjunto.add(6)\n"
   ]
  },
  {
   "cell_type": "markdown",
   "id": "349a9445",
   "metadata": {},
   "source": [
    "### Ejercicio 3: Eliminar un Elemento\n",
    "\n",
    "Elimina el número 3 del conjunto."
   ]
  },
  {
   "cell_type": "code",
   "execution_count": null,
   "id": "22e4a6a9",
   "metadata": {},
   "outputs": [],
   "source": [
    "# Ejercicio\n",
    "mi_conjunto.discard(3)\n"
   ]
  },
  {
   "cell_type": "markdown",
   "id": "55f3826f",
   "metadata": {},
   "source": [
    "### Ejercicio 4: Verificar Pertenencia\n",
    "\n",
    "Comprueba si el número 4 está en el conjunto."
   ]
  },
  {
   "cell_type": "code",
   "execution_count": null,
   "id": "9e19c33f",
   "metadata": {},
   "outputs": [],
   "source": [
    "# Ejercicio\n",
    "4 in mi_conjunto  # True o False\n"
   ]
  },
  {
   "cell_type": "markdown",
   "id": "6363055c",
   "metadata": {},
   "source": [
    "### Ejercicio 5: Crear Conjunto desde Lista\n",
    "\n",
    "Crea un conjunto a partir de la siguiente lista: `[1, 2, 2, 3, 4, 4, 5]`."
   ]
  },
  {
   "cell_type": "code",
   "execution_count": null,
   "id": "cae52126",
   "metadata": {},
   "outputs": [],
   "source": [
    "# Ejercicio\n",
    "lista = [1, 2, 2, 3, 4, 4, 5]\n",
    "conjunto_desde_lista = set(lista)\n"
   ]
  },
  {
   "cell_type": "markdown",
   "id": "192dca74",
   "metadata": {},
   "source": [
    "### Ejercicio 6: Unión de Conjuntos\n",
    "\n",
    "Dados dos conjuntos, `{1, 2, 3}` y `{4, 5, 6}`, encuentra su unión."
   ]
  },
  {
   "cell_type": "code",
   "execution_count": null,
   "id": "0a270976",
   "metadata": {},
   "outputs": [],
   "source": [
    "# Ejercicio\n",
    "conjunto_a = {1, 2, 3}\n",
    "conjunto_b = {4, 5, 6}\n",
    "union = conjunto_a.union(conjunto_b)\n"
   ]
  },
  {
   "cell_type": "markdown",
   "id": "ceb4bde2",
   "metadata": {},
   "source": [
    "### Ejercicio 7: Intersección de Conjuntos\n",
    "\n",
    "Encuentra la intersección de los conjuntos `{1, 2, 3}` y `{2, 3, 4}`."
   ]
  },
  {
   "cell_type": "code",
   "execution_count": null,
   "id": "896afa0f",
   "metadata": {},
   "outputs": [],
   "source": [
    "# Ejercicio\n",
    "conjunto_a = {1, 2, 3}\n",
    "conjunto_b = {2, 3, 4}\n",
    "interseccion = conjunto_a.intersection(conjunto_b)\n"
   ]
  },
  {
   "cell_type": "markdown",
   "id": "9574c80b",
   "metadata": {},
   "source": [
    "### Ejercicio 8: Diferencia de Conjuntos\n",
    "\n",
    "Encuentra la diferencia entre `{1, 2, 3}` y `{2, 3, 4}`."
   ]
  },
  {
   "cell_type": "code",
   "execution_count": null,
   "id": "905951ff",
   "metadata": {},
   "outputs": [],
   "source": [
    "# Ejercicio\n",
    "conjunto_a = {1, 2, 3}\n",
    "conjunto_b = {2, 3, 4}\n",
    "diferencia = conjunto_a - conjunto_b\n"
   ]
  },
  {
   "cell_type": "markdown",
   "id": "f46d701a",
   "metadata": {},
   "source": [
    "### Ejercicio 9: Diferencia Simétrica\n",
    "\n",
    "Encuentra la diferencia simétrica entre `{1, 2, 3}` y `{2, 3, 4}`."
   ]
  },
  {
   "cell_type": "code",
   "execution_count": null,
   "id": "3bafc0f6",
   "metadata": {},
   "outputs": [],
   "source": [
    "# Ejercicio\n",
    "conjunto_a = {1, 2, 3}\n",
    "conjunto_b = {2, 3, 4}\n",
    "diferencia_simetrica = conjunto_a.symmetric_difference(conjunto_b)\n"
   ]
  },
  {
   "cell_type": "markdown",
   "id": "678a2a06",
   "metadata": {},
   "source": [
    "### Ejercicio 10: Subconjuntos\n",
    "\n",
    "Comprueba si `{1, 2}` es un subconjunto de `{1, 2, 3}`."
   ]
  },
  {
   "cell_type": "code",
   "execution_count": null,
   "id": "d693da94",
   "metadata": {},
   "outputs": [],
   "source": [
    "# Ejercicio\n",
    "subconjunto = {1, 2}\n",
    "conjunto = {1, 2, 3}\n",
    "es_subconjunto = subconjunto.issubset(conjunto)\n"
   ]
  },
  {
   "cell_type": "markdown",
   "id": "a701bfa8",
   "metadata": {},
   "source": [
    "### Ejercicio 11: Superconjuntos\n",
    "\n",
    "Comprueba si `{1, 2, 3}` es un superconjunto de `{1, 2}`."
   ]
  },
  {
   "cell_type": "code",
   "execution_count": null,
   "id": "f80dcfc7",
   "metadata": {},
   "outputs": [],
   "source": [
    "# Ejercicio\n",
    "superconjunto = {1, 2, 3}\n",
    "conjunto = {1, 2}\n",
    "es_superconjunto = superconjunto.issuperset(conjunto)\n"
   ]
  },
  {
   "cell_type": "markdown",
   "id": "20571926",
   "metadata": {},
   "source": [
    "### Ejercicio 12: Conjuntos Disjuntos\n",
    "\n",
    "Comprueba si los conjuntos `{1, 2, 3}` y `{4, 5, 6}` son disjuntos."
   ]
  },
  {
   "cell_type": "code",
   "execution_count": null,
   "id": "65312672",
   "metadata": {},
   "outputs": [],
   "source": [
    "# Ejercicio\n",
    "conjunto_a = {1, 2, 3}\n",
    "conjunto_b = {4, 5, 6}\n",
    "son_disjuntos = conjunto_a.isdisjoint(conjunto_b)\n"
   ]
  },
  {
   "cell_type": "markdown",
   "id": "b6ae9b2a",
   "metadata": {},
   "source": [
    "### Ejercicio 13: Tamaño del Conjunto\n",
    "\n",
    "Obtén el número de elementos en el conjunto `{1, 2, 3, 4, 5}`."
   ]
  },
  {
   "cell_type": "code",
   "execution_count": null,
   "id": "79c2b2d0",
   "metadata": {},
   "outputs": [],
   "source": [
    "# Ejercicio\n",
    "conjunto = {1, 2, 3, 4, 5}\n",
    "tamaño = len(conjunto)\n"
   ]
  },
  {
   "cell_type": "markdown",
   "id": "d82ab0cf",
   "metadata": {},
   "source": [
    "### Ejercicio 14: Eliminar Elementos\n",
    "\n",
    "Elimina todos los elementos del conjunto `{1, 2, 3, 4, 5}`."
   ]
  },
  {
   "cell_type": "code",
   "execution_count": null,
   "id": "3d11839a",
   "metadata": {},
   "outputs": [],
   "source": [
    "# Ejercicio\n",
    "conjunto = {1, 2, 3, 4, 5}\n",
    "conjunto.clear()\n"
   ]
  },
  {
   "cell_type": "markdown",
   "id": "534f2582",
   "metadata": {},
   "source": [
    "### Ejercicio 15: Copiar un Conjunto\n",
    "\n",
    "Crea una copia del conjunto `{1, 2, 3}`."
   ]
  },
  {
   "cell_type": "code",
   "execution_count": null,
   "id": "061d2db2",
   "metadata": {},
   "outputs": [],
   "source": [
    "# Ejercicio\n",
    "conjunto_original = {1, 2, 3}\n",
    "conjunto_copia = conjunto_original.copy()\n"
   ]
  },
  {
   "cell_type": "markdown",
   "id": "e057ce31",
   "metadata": {},
   "source": [
    "### Ejercicio 16: Crear un Frozenset\n",
    "\n",
    "Crea un `frozenset` a partir de la lista `[1, 2, 3, 4, 5]`."
   ]
  },
  {
   "cell_type": "code",
   "execution_count": null,
   "id": "37e12dc1",
   "metadata": {},
   "outputs": [],
   "source": [
    "# Ejercicio\n",
    "lista = [1, 2, 3, 4, 5]\n",
    "conjunto_inmutable = frozenset(lista)\n"
   ]
  },
  {
   "cell_type": "markdown",
   "id": "5be9896c",
   "metadata": {},
   "source": [
    "### Ejercicio 17: Pop en Conjuntos\n",
    "\n",
    "Utiliza `pop()` para eliminar y retornar un elemento del conjunto `{1, 2, 3}`."
   ]
  },
  {
   "cell_type": "code",
   "execution_count": null,
   "id": "ed7e21ba",
   "metadata": {},
   "outputs": [],
   "source": [
    "# Ejercicio\n",
    "conjunto = {1, 2, 3}\n",
    "elemento = conjunto.pop()\n"
   ]
  },
  {
   "cell_type": "markdown",
   "id": "a95db1dc",
   "metadata": {},
   "source": [
    "### Ejercicio 18: Convertir Conjunto en Lista\n",
    "\n",
    "Convierte el conjunto `{1, 2, 3, 4, 5}` en una lista."
   ]
  },
  {
   "cell_type": "code",
   "execution_count": null,
   "id": "903e9ee6",
   "metadata": {},
   "outputs": [],
   "source": [
    "# Ejercicio\n",
    "conjunto = {1, 2, 3, 4, 5}\n",
    "lista = list(conjunto)\n"
   ]
  },
  {
   "cell_type": "markdown",
   "id": "a9f3b08f",
   "metadata": {},
   "source": [
    "### Ejercicio 19: Intersección de Múltiples Conjuntos\n",
    "\n",
    "Encuentra la intersección de los conjuntos `{1, 2, 3}`, `{2, 3, 4}` y `{3, 4, 5}`."
   ]
  },
  {
   "cell_type": "code",
   "execution_count": null,
   "id": "4efa933a",
   "metadata": {},
   "outputs": [],
   "source": [
    "# Ejercicio\n",
    "conjunto_a = {1, 2, 3}\n",
    "conjunto_b = {2, 3, 4}\n",
    "conjunto_c = {3, 4, 5}\n",
    "interseccion = conjunto_a.intersection(conjunto_b, conjunto_c)\n"
   ]
  },
  {
   "cell_type": "markdown",
   "id": "c028be26",
   "metadata": {},
   "source": [
    "### Ejercicio 20: Unión de Conjuntos con Comprensión\n",
    "\n",
    "Crea la unión de los conjuntos `{1, 2, 3}` y `{4, 5, 6}` utilizando una comprensión de conjunto."
   ]
  },
  {
   "cell_type": "code",
   "execution_count": null,
   "id": "0bece5e0",
   "metadata": {},
   "outputs": [],
   "source": [
    "# Ejercicio\n",
    "conjunto_a = {1, 2, 3}\n",
    "conjunto_b = {4, 5, 6}\n",
    "union = {x for x in conjunto_a}.union(conjunto_b)\n"
   ]
  },
  {
   "cell_type": "markdown",
   "id": "b37b0d1e",
   "metadata": {},
   "source": [
    "Estos ej\n",
    "\n",
    "ercicios cubren una gama de operaciones y aplicaciones prácticas de los conjuntos en Python, ofreciendo una comprensión profunda de cómo y cuándo utilizar esta estructura de datos eficiente."
   ]
  }
 ],
 "metadata": {},
 "nbformat": 4,
 "nbformat_minor": 5
}
