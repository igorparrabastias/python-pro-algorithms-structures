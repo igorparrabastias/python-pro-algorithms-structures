{
  "cells": [
    {
      "attachments": {},
      "cell_type": "markdown",
      "id": "ad5cb25d",
      "metadata": {},
      "source": [
        "# Ejercicios básicos\n",
        "\n",
        "### Ejercicio 1: Concatenar Cadenas\n",
        "\n",
        "Concatena dos cadenas: `\"Hola\"` y `\" Mundo\"`."
      ]
    },
    {
      "cell_type": "code",
      "execution_count": 1,
      "id": "2757537a",
      "metadata": {},
      "outputs": [],
      "source": [
        "# Ejercicio\n",
        "cadena1 = \"Hola\"\n",
        "cadena2 = \" Mundo\"\n",
        "resultado = cadena1 + cadena2  # \"Hola Mundo\""
      ]
    },
    {
      "attachments": {},
      "cell_type": "markdown",
      "id": "4ecb3294",
      "metadata": {},
      "source": [
        "### Ejercicio 2: Acceder a un Carácter Específico\n",
        "\n",
        "Accede al tercer carácter de la cadena `\"Python\"`."
      ]
    },
    {
      "cell_type": "code",
      "execution_count": 2,
      "id": "df924bb2",
      "metadata": {},
      "outputs": [],
      "source": [
        "# Ejercicio\n",
        "cadena = \"Python\"\n",
        "caracter = cadena[2]  # 't'"
      ]
    },
    {
      "attachments": {},
      "cell_type": "markdown",
      "id": "358fbb68",
      "metadata": {},
      "source": [
        "### Ejercicio 3: Slicing de Cadenas\n",
        "\n",
        "Obtén los primeros cuatro caracteres de la cadena `\"Hola Mundo\"`."
      ]
    },
    {
      "cell_type": "code",
      "execution_count": 3,
      "id": "9532449b",
      "metadata": {},
      "outputs": [],
      "source": [
        "# Ejercicio\n",
        "cadena = \"Hola Mundo\"\n",
        "sliced = cadena[:4]  # 'Hola'"
      ]
    },
    {
      "attachments": {},
      "cell_type": "markdown",
      "id": "86433b57",
      "metadata": {},
      "source": [
        "### Ejercicio 4: Invertir una Cadena\n",
        "\n",
        "Invierte la cadena `\"Hola\"`."
      ]
    },
    {
      "cell_type": "code",
      "execution_count": 4,
      "id": "58e57b08",
      "metadata": {},
      "outputs": [],
      "source": [
        "# Ejercicio\n",
        "cadena = \"Hola\"\n",
        "invertida = cadena[::-1]  # 'aloH'"
      ]
    },
    {
      "attachments": {},
      "cell_type": "markdown",
      "id": "f4bcaa8c",
      "metadata": {},
      "source": [
        "### Ejercicio 5: Concatenación con Formato\n",
        "\n",
        "Usa `.format()` para concatenar las cadenas `\"Hola\"` y `\"Mundo\"` con un espacio en medio."
      ]
    },
    {
      "cell_type": "code",
      "execution_count": 5,
      "id": "4e119df1",
      "metadata": {},
      "outputs": [],
      "source": [
        "# Ejercicio\n",
        "cadena1 = \"Hola\"\n",
        "cadena2 = \"Mundo\"\n",
        "resultado = \"{} {}\".format(cadena1, cadena2)  # \"Hola Mundo\""
      ]
    },
    {
      "attachments": {},
      "cell_type": "markdown",
      "id": "72be1c70",
      "metadata": {},
      "source": [
        "### Ejercicio 6: Convertir a Mayúsculas\n",
        "\n",
        "Convierte la cadena `\"python\"` a mayúsculas."
      ]
    },
    {
      "cell_type": "code",
      "execution_count": 6,
      "id": "6b40f113",
      "metadata": {},
      "outputs": [],
      "source": [
        "# Ejercicio\n",
        "cadena = \"python\"\n",
        "mayusculas = cadena.upper()  # 'PYTHON'"
      ]
    },
    {
      "attachments": {},
      "cell_type": "markdown",
      "id": "2a8f0eb2",
      "metadata": {},
      "source": [
        "### Ejercicio 7: Convertir a Minúsculas\n",
        "\n",
        "Convierte la cadena `\"PYTHON\"` a minúsculas."
      ]
    },
    {
      "cell_type": "code",
      "execution_count": 7,
      "id": "883c2a2f",
      "metadata": {},
      "outputs": [],
      "source": [
        "# Ejercicio\n",
        "cadena = \"PYTHON\"\n",
        "minusculas = cadena.lower()  # 'python'"
      ]
    },
    {
      "attachments": {},
      "cell_type": "markdown",
      "id": "312626af",
      "metadata": {},
      "source": [
        "### Ejercicio 8: Comprobar si una Cadena es un Dígito\n",
        "\n",
        "Comprueba si la cadena `\"1234\"` está compuesta solo por dígitos."
      ]
    },
    {
      "cell_type": "code",
      "execution_count": 8,
      "id": "568092b6",
      "metadata": {},
      "outputs": [],
      "source": [
        "# Ejercicio\n",
        "cadena = \"1234\"\n",
        "es_digito = cadena.isdigit()  # True"
      ]
    },
    {
      "attachments": {},
      "cell_type": "markdown",
      "id": "2a64d350",
      "metadata": {},
      "source": [
        "### Ejercicio 9: Dividir una Cadena\n",
        "\n",
        "Divide la cadena `\"Hola Mundo\"` en palabras."
      ]
    },
    {
      "cell_type": "code",
      "execution_count": 9,
      "id": "c58100d5",
      "metadata": {},
      "outputs": [],
      "source": [
        "# Ejercicio\n",
        "cadena = \"Hola Mundo\"\n",
        "palabras = cadena.split()  # ['Hola', 'Mundo']"
      ]
    },
    {
      "attachments": {},
      "cell_type": "markdown",
      "id": "f2a0a10a",
      "metadata": {},
      "source": [
        "### Ejercicio 10: Reemplazar en una Cadena\n",
        "\n",
        "Reemplaza `\"Hola\"` por `\"Adiós\"` en la cadena `\"Hola Mundo\"`."
      ]
    },
    {
      "cell_type": "code",
      "execution_count": 10,
      "id": "9c44180a",
      "metadata": {},
      "outputs": [],
      "source": [
        "# Ejercicio\n",
        "cadena = \"Hola Mundo\"\n",
        "reemplazada = cadena.replace(\"Hola\", \"Adiós\")  # 'Adiós Mundo'"
      ]
    },
    {
      "attachments": {},
      "cell_type": "markdown",
      "id": "bc19b187",
      "metadata": {},
      "source": [
        "### Ejercicio 11: Verificar si una Cadena Empieza con un Substring\n",
        "\n",
        "Verifica si `\"Hola Mundo\"` empieza con `\"Hola\"`."
      ]
    },
    {
      "cell_type": "code",
      "execution_count": 11,
      "id": "a0183246",
      "metadata": {},
      "outputs": [],
      "source": [
        "# Ejercicio\n",
        "cadena = \"Hola Mundo\"\n",
        "empieza_con = cadena.startswith(\"Hola\")  # True"
      ]
    },
    {
      "attachments": {},
      "cell_type": "markdown",
      "id": "3fc221d0",
      "metadata": {},
      "source": [
        "### Ejercicio 12: Verificar si una Cadena Termina con un Substring\n",
        "\n",
        "Verifica si `\"Hola Mundo\"` termina con `\"Mundo\"`."
      ]
    },
    {
      "cell_type": "code",
      "execution_count": 12,
      "id": "2ef126ae",
      "metadata": {},
      "outputs": [],
      "source": [
        "# Ejercicio\n",
        "cadena = \"Hola Mundo\"\n",
        "termina_con = cadena.endswith(\"Mundo\")  # True"
      ]
    },
    {
      "attachments": {},
      "cell_type": "markdown",
      "id": "c6938795",
      "metadata": {},
      "source": [
        "### Ejercicio 13: Encuentra la Posición de un Substring\n",
        "\n",
        "Encuentra la posición de `\"Mundo\"` en la cadena `\"Hola Mundo\"`."
      ]
    },
    {
      "cell_type": "code",
      "execution_count": 13,
      "id": "46895392",
      "metadata": {},
      "outputs": [],
      "source": [
        "# Ejercicio\n",
        "cadena = \"Hola Mundo\"\n",
        "posicion = cadena.find(\"Mundo\")  # 5"
      ]
    },
    {
      "attachments": {},
      "cell_type": "markdown",
      "id": "fb55d8c5",
      "metadata": {},
      "source": [
        "### Ejercicio 14: Contar Ocurrencias de un Carácter\n",
        "\n",
        "Cuenta cuántas veces aparece la letra `'o'` en `\"Hola Mundo\"`."
      ]
    },
    {
      "cell_type": "code",
      "execution_count": 14,
      "id": "ac85f431",
      "metadata": {},
      "outputs": [],
      "source": [
        "# Ejercicio\n",
        "cadena = \"Hola Mundo\"\n",
        "conteo = cadena.count('o')  # 2"
      ]
    },
    {
      "attachments": {},
      "cell_type": "markdown",
      "id": "c4a9736f",
      "metadata": {},
      "source": [
        "### Ejercicio 15: Eliminar Espacios en Blanco\n",
        "\n",
        "Elimina los espacios en blanco al principio y al final de `\" Hola Mundo \"`."
      ]
    },
    {
      "cell_type": "code",
      "execution_count": 15,
      "id": "6112660c",
      "metadata": {},
      "outputs": [],
      "source": [
        "# Ejercicio\n",
        "cadena = \" Hola Mundo \"\n",
        "sin_espacios = cadena.strip()  # 'Hola Mundo'"
      ]
    },
    {
      "attachments": {},
      "cell_type": "markdown",
      "id": "db6c352a",
      "metadata": {},
      "source": [
        "### Ejercicio 16: Comprobar si una Cadena Contiene Solo Letras\n",
        "\n",
        "Comprueba si `\"HolaMundo\"` contiene solo letras."
      ]
    },
    {
      "cell_type": "code",
      "execution_count": 16,
      "id": "a699114f",
      "metadata": {},
      "outputs": [],
      "source": [
        "# Ejercicio\n",
        "cadena = \"HolaMundo\"\n",
        "solo_letras = cadena.isalpha()  # True"
      ]
    },
    {
      "attachments": {},
      "cell_type": "markdown",
      "id": "736da070",
      "metadata": {},
      "source": [
        "### Ejercicio 17: Unir una Lista de Cadenas\n",
        "\n",
        "Une una lista `[\"Hola\", \"Mundo\"]` en una sola cadena separada por espacios."
      ]
    },
    {
      "cell_type": "code",
      "execution_count": 17,
      "id": "0fd5f88e",
      "metadata": {},
      "outputs": [],
      "source": [
        "# Ejercicio\n",
        "lista = [\"Hola\", \"Mundo\"]\n",
        "unida = \" \".join(lista)  # 'Hola Mundo'"
      ]
    },
    {
      "attachments": {},
      "cell_type": "markdown",
      "id": "2795e2f4",
      "metadata": {},
      "source": [
        "### Ejercicio 18: Capitalizar una Cadena\n",
        "\n",
        "Capitaliza la cadena `\"hola mundo\"`."
      ]
    },
    {
      "cell_type": "code",
      "execution_count": 18,
      "id": "8f5ec747",
      "metadata": {},
      "outputs": [],
      "source": [
        "# Ejercicio\n",
        "cadena = \"hola mundo\"\n",
        "capitalizada = cadena.capitalize()  # 'Hola mundo'"
      ]
    },
    {
      "attachments": {},
      "cell_type": "markdown",
      "id": "1a2ceb57",
      "metadata": {},
      "source": [
        "### Ejercicio 19: Invertir el Orden de las Palabras\n",
        "\n",
        "Invierte el orden de las palabras en la cadena `\"Hola Mundo\"`."
      ]
    },
    {
      "cell_type": "code",
      "execution_count": 19,
      "id": "0a50165c",
      "metadata": {},
      "outputs": [],
      "source": [
        "# Ejercicio\n",
        "cadena = \"Hola Mundo\"\n",
        "invertida = \" \".join(cadena.split()[::-1])  # 'Mundo Hola'"
      ]
    },
    {
      "attachments": {},
      "cell_type": "markdown",
      "id": "73e931af",
      "metadata": {},
      "source": [
        "### Ejercicio 20: Crear una Cadena Repetida\n",
        "\n",
        "Crea una cadena que repita `\"Hola\"` 3 veces."
      ]
    },
    {
      "cell_type": "code",
      "execution_count": 20,
      "id": "0d5af7df",
      "metadata": {},
      "outputs": [],
      "source": [
        "# Ejercicio\n",
        "cadena = \"Hola\"\n",
        "repetida = cadena * 3  # 'HolaHolaHola'"
      ]
    },
    {
      "attachments": {},
      "cell_type": "markdown",
      "id": "775b25f2",
      "metadata": {},
      "source": [
        "Estos ejercicios cubren una amplia gama de operaciones comunes con cadenas en Python, desde manipulaciones básicas hasta tareas más complejas. Practicar con estos ejercicios te ayudará a fortalecer tus habilidades en el manejo de cadenas, una herramienta esencial en la programación en Python."
      ]
    }
  ],
  "metadata": {
    "kernelspec": {
      "display_name": "Python 3",
      "language": "python",
      "name": "python3"
    },
    "language_info": {
      "codemirror_mode": {
        "name": "ipython",
        "version": 3
      },
      "file_extension": ".py",
      "mimetype": "text/x-python",
      "name": "python",
      "nbconvert_exporter": "python",
      "pygments_lexer": "ipython3",
      "version": "3.8.10"
    }
  },
  "nbformat": 4,
  "nbformat_minor": 5
}
