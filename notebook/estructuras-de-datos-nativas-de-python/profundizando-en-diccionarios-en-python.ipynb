{
 "cells": [
  {
   "cell_type": "markdown",
   "id": "4bf5c68f",
   "metadata": {},
   "source": [
    "# Profundizando en Diccionarios en Python\n",
    "\n",
    "## Anidamiento de Diccionarios\n",
    "\n",
    "Es posible tener diccionarios dentro de otros diccionarios, lo que es útil para representar datos estructurados más complejos."
   ]
  },
  {
   "cell_type": "code",
   "execution_count": null,
   "id": "5dcac608",
   "metadata": {},
   "outputs": [],
   "source": [
    "diccionario_anidado = {\n",
    "    'clave1': {'subclave1': 1, 'subclave2': 2},\n",
    "    'clave2': {'subclave1': 10, 'subclave2': 20}\n",
    "}\n",
    "print(diccionario_anidado)"
   ]
  },
  {
   "cell_type": "markdown",
   "id": "592e9b50",
   "metadata": {},
   "source": [
    "## Comprehension de Diccionarios\n",
    "\n",
    "Python permite crear o transformar diccionarios usando la comprensión de diccionarios, similar a las listas."
   ]
  },
  {
   "cell_type": "code",
   "execution_count": null,
   "id": "ba0294c3",
   "metadata": {},
   "outputs": [],
   "source": [
    "cuadrados = {x: x*x for x in range(6)}\n",
    "print(cuadrados)"
   ]
  },
  {
   "cell_type": "markdown",
   "id": "7a556414",
   "metadata": {},
   "source": [
    "## Fusionar Diccionarios\n",
    "\n",
    "Podemos combinar diccionarios utilizando el método `update` o el operador `**` en versiones más recientes de Python."
   ]
  },
  {
   "cell_type": "code",
   "execution_count": null,
   "id": "7251cf95",
   "metadata": {},
   "outputs": [],
   "source": [
    "diccionario1 = {'a': 1, 'b': 2}\n",
    "diccionario2 = {'b': 3, 'c': 4}\n",
    "diccionario1.update(diccionario2)\n",
    "print(diccionario1)\n",
    "\n",
    "# Usando ** en Python 3.9+\n",
    "diccionario3 = {**diccionario1, **diccionario2}\n",
    "print(diccionario3)"
   ]
  },
  {
   "cell_type": "markdown",
   "id": "7a2d1099",
   "metadata": {},
   "source": [
    "## Diccionarios Ordenados\n",
    "\n",
    "A partir de Python 3.7, los diccionarios mantienen el orden de inserción. Para versiones anteriores, `collections.OrderedDict` puede ser utilizado para este propósito."
   ]
  },
  {
   "cell_type": "code",
   "execution_count": null,
   "id": "a12cc5b0",
   "metadata": {},
   "outputs": [],
   "source": [
    "from collections import OrderedDict\n",
    "\n",
    "ordenado = OrderedDict([('a', 1), ('b', 2), ('c', 3)])\n",
    "print(ordenado)"
   ]
  },
  {
   "cell_type": "markdown",
   "id": "a561ec65",
   "metadata": {},
   "source": [
    "## Filtrado de Diccionarios\n",
    "\n",
    "Filtrar diccionarios por ciertos criterios puede hacerse de manera eficiente con comprensiones de diccionario."
   ]
  },
  {
   "cell_type": "code",
   "execution_count": null,
   "id": "d988e1da",
   "metadata": {},
   "outputs": [],
   "source": [
    "filtrado = {k: v for k, v in cuadrados.items() if v > 10}\n",
    "print(filtrado)"
   ]
  },
  {
   "cell_type": "markdown",
   "id": "b254248f",
   "metadata": {},
   "source": [
    "## Diccionarios y Funciones\n",
    "\n",
    "Explorar cómo los diccionarios pueden ser utilizados con funciones para pasar argumentos con nombre de manera flexible."
   ]
  },
  {
   "cell_type": "code",
   "execution_count": null,
   "id": "30074b96",
   "metadata": {},
   "outputs": [],
   "source": [
    "def saludar(**kwargs):\n",
    "    nombre = kwargs.get('nombre', 'Invitado')\n",
    "    saludo = kwargs.get('saludo', 'Hola')\n",
    "    print(f'{saludo}, {nombre}!')\n",
    "\n",
    "saludar(nombre='Juan', saludo='Bienvenido')"
   ]
  },
  {
   "cell_type": "markdown",
   "id": "301e19de",
   "metadata": {},
   "source": [
    "## Serialización de Diccionarios\n",
    "\n",
    "Discutir cómo los diccionarios pueden ser serializados a JSON y viceversa, lo cual es útil para almacenar y transmitir datos."
   ]
  },
  {
   "cell_type": "code",
   "execution_count": null,
   "id": "e69dc25a",
   "metadata": {},
   "outputs": [],
   "source": [
    "import json\n",
    "\n",
    "diccionario_json = json.dumps(diccionario_con_datos)\n",
    "print(\"JSON:\", diccionario_json)\n",
    "\n",
    "diccionario_desde_json = json.loads(diccionario_json)\n",
    "print(\"Diccionario:\", diccionario_desde_json)"
   ]
  },
  {
   "cell_type": "markdown",
   "id": "0bee005c",
   "metadata": {},
   "source": [
    "## Conclusión\n",
    "\n",
    "Este módulo avanzado ofrece una visión más profunda de los diccionarios en Python, mostrando cómo pueden ser utilizados de maneras más complejas y eficientes. Con estos conocimientos, los programadores pueden manejar datos de forma más efectiva en sus aplicaciones."
   ]
  }
 ],
 "metadata": {},
 "nbformat": 4,
 "nbformat_minor": 5
}
