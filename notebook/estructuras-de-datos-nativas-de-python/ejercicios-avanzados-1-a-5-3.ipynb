{
  "cells": [
    {
      "cell_type": "markdown",
      "id": "aecb7021",
      "metadata": {},
      "source": [
        "# Ejercicios Avanzados 1 a 5\n",
        "\n",
        "### Ejercicio 1: Conjunto de Todos los Subconjuntos (Potencia de un Conjunto)\n",
        "\n",
        "Dado un conjunto, genera un nuevo conjunto que contenga todos los posibles subconjuntos (el conjunto de potencia)."
      ]
    },
    {
      "cell_type": "code",
      "execution_count": null,
      "id": "ae4dd843",
      "metadata": {},
      "outputs": [],
      "source": [
        "# Ejercicio\n",
        "mi_conjunto = {1, 2, 3}\n",
        "conjunto_potencia = {frozenset(subconjunto) for i in range(len(mi_conjunto) + 1) for subconjunto in combinations(mi_conjunto, i)}\n",
        "\n",
        "# Soluci\u00f3n\n",
        "# conjunto_potencia = {frozenset(), frozenset({1}), frozenset({2}), frozenset({3}), frozenset({1, 2}), frozenset({1, 3}), frozenset({2, 3}), frozenset({1, 2, 3})}"
      ]
    },
    {
      "cell_type": "markdown",
      "id": "660b5021",
      "metadata": {},
      "source": [
        "### Ejercicio 2: Diferencias Sucesivas en una Lista de Conjuntos\n",
        "\n",
        "Dada una lista de conjuntos, realiza la diferencia sucesiva de izquierda a derecha entre ellos."
      ]
    },
    {
      "cell_type": "code",
      "execution_count": null,
      "id": "89239808",
      "metadata": {},
      "outputs": [],
      "source": [
        "# Ejercicio\n",
        "lista_conjuntos = [{1, 2, 3}, {2, 3, 4}, {3, 4, 5}]\n",
        "diferencia_sucesiva = set(lista_conjuntos[0])\n",
        "for s in lista_conjuntos[1:]:\n",
        "    diferencia_sucesiva -= s\n",
        "\n",
        "# Soluci\u00f3n\n",
        "# diferencia_sucesiva = {1}"
      ]
    },
    {
      "cell_type": "markdown",
      "id": "86c7e4a0",
      "metadata": {},
      "source": [
        "### Ejercicio 3: Filtrar Elementos No \u00danicos entre Varios Conjuntos\n",
        "\n",
        "Dada una lista de conjuntos, crea un conjunto que contenga solo los elementos que son \u00fanicos en todos los conjuntos."
      ]
    },
    {
      "cell_type": "code",
      "execution_count": null,
      "id": "be53b9d6",
      "metadata": {},
      "outputs": [],
      "source": [
        "# Ejercicio\n",
        "lista_conjuntos = [{1, 2}, {2, 3, 4}, {4, 5, 6}]\n",
        "elementos_unicos = set().union(*lista_conjuntos) - set(x for s in lista_conjuntos for x in s if any(x in otro for otro in lista_conjuntos if otro != s))\n",
        "\n",
        "# Soluci\u00f3n\n",
        "# elementos_unicos = {1, 3, 5, 6}"
      ]
    },
    {
      "cell_type": "markdown",
      "id": "552c6458",
      "metadata": {},
      "source": [
        "### Ejercicio 4: Intersecci\u00f3n de Listas de Conjuntos\n",
        "\n",
        "Dadas dos listas de conjuntos, encuentra todos los pares de conjuntos (uno de cada lista) que tienen al menos un elemento en com\u00fan."
      ]
    },
    {
      "cell_type": "code",
      "execution_count": null,
      "id": "33f51707",
      "metadata": {},
      "outputs": [],
      "source": [
        "# Ejercicio\n",
        "lista_a = [{1, 2}, {3, 4}, {5}]\n",
        "lista_b = [{2, 3}, {4, 5}, {6}]\n",
        "pares_interseccion = [(a, b) for a in lista_a for b in lista_b if a.intersection(b)]\n",
        "\n",
        "# Soluci\u00f3n\n",
        "# pares_interseccion = [({1, 2}, {2, 3}), ({3, 4}, {2, 3}), ({3, 4}, {4, 5}), ({5}, {4, 5})]"
      ]
    },
    {
      "cell_type": "markdown",
      "id": "c30c666f",
      "metadata": {},
      "source": [
        "### Ejercicio 5: Conjunto con Elementos de M\u00e1xima Frecuencia\n",
        "\n",
        "Dada una lista de elementos, crea un conjunto con los elementos que aparecen con mayor frecuencia en la lista."
      ]
    },
    {
      "cell_type": "code",
      "execution_count": null,
      "id": "3ee4a147",
      "metadata": {},
      "outputs": [],
      "source": [
        "# Ejercicio\n",
        "lista = [1, 2, 2, 3, 3, 3, 4, 4, 4, 4]\n",
        "frecuencias = Counter(lista)\n",
        "max_frecuencia = max(frecuencias.values())\n",
        "conjunto_max_frecuencia = {x for x, frec in frecuencias.items() if frec == max_frecuencia}\n",
        "\n",
        "# Soluci\u00f3n\n",
        "# conjunto_max_frecuencia = {4}"
      ]
    },
    {
      "cell_type": "markdown",
      "id": "d1f02f02",
      "metadata": {},
      "source": [
        "Estos ejercicios avanzados ponen a prueba tus habilidades de manejo de conjuntos en Python, abordando problemas complejos que requieren pensamiento l\u00f3gico y aplicaciones innovadoras de los conjuntos. Practicar con estos problemas te ayudar\u00e1 a ganar una comprensi\u00f3n m\u00e1s profunda de c\u00f3mo los conjuntos pueden ser utilizados en escenarios de programaci\u00f3n desafiantes."
      ]
    }
  ],
  "metadata": {},
  "nbformat": 4,
  "nbformat_minor": 5
}