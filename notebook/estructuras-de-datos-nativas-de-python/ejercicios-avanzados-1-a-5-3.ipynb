{
  "cells": [
    {
      "attachments": {},
      "cell_type": "markdown",
      "id": "aecb7021",
      "metadata": {},
      "source": [
        "# Ejercicios Avanzados 1 a 5\n",
        "\n",
        "### Ejercicio 1: Conjunto de Todos los Subconjuntos (Potencia de un Conjunto)\n",
        "\n",
        "Dado un conjunto, genera un nuevo conjunto que contenga todos los posibles subconjuntos (el conjunto de potencia)."
      ]
    },
    {
      "cell_type": "code",
      "execution_count": null,
      "id": "ae4dd843",
      "metadata": {},
      "outputs": [],
      "source": [
        "from itertools import combinations\n",
        "\n",
        "# Ejercicio\n",
        "mi_conjunto = {1, 2, 3}\n",
        "conjunto_potencia = {frozenset(subconjunto) for i in range(\n",
        "    len(mi_conjunto) + 1) for subconjunto in combinations(mi_conjunto, i)}\n",
        "\n",
        "# Solución\n",
        "print(conjunto_potencia)"
      ]
    },
    {
      "attachments": {},
      "cell_type": "markdown",
      "id": "e73ad3ff",
      "metadata": {},
      "source": [
        "- Para completar el ejercicio de manera concisa y generar el conjunto potencia de mi_conjunto, es necesario importar la función combinations del módulo itertools. \n",
        "- Este código utiliza una comprensión de conjunto para generar el conjunto potencia de mi_conjunto. La función combinations se utiliza para generar todos los subconjuntos posibles de mi_conjunto de tamaño i, donde i varía de 0 a la longitud de mi_conjunto (inclusive).  \n",
        "Cada subconjunto se convierte en un frozenset para asegurar que sea inmutable y pueda ser un elemento de un conjunto. La solución imprime el conjunto potencia, que incluye desde el conjunto vacío hasta el conjunto completo, pasando por todos los subconjuntos posibles."
      ]
    },
    {
      "attachments": {},
      "cell_type": "markdown",
      "id": "660b5021",
      "metadata": {},
      "source": [
        "### Ejercicio 2: Diferencias Sucesivas en una Lista de Conjuntos\n",
        "\n",
        "Dada una lista de conjuntos, realiza la diferencia sucesiva de izquierda a derecha entre ellos."
      ]
    },
    {
      "cell_type": "code",
      "execution_count": null,
      "id": "89239808",
      "metadata": {},
      "outputs": [],
      "source": [
        "# Ejercicio\n",
        "lista_conjuntos = [{1, 2, 3}, {2, 3, 4}, {3, 4, 5}]\n",
        "diferencia_sucesiva = set(lista_conjuntos[0])\n",
        "for s in lista_conjuntos[1:]:\n",
        "    diferencia_sucesiva -= s\n",
        "\n",
        "print(diferencia_sucesiva)"
      ]
    },
    {
      "attachments": {},
      "cell_type": "markdown",
      "id": "b84ebd33",
      "metadata": {},
      "source": [
        "Este código calcula la diferencia sucesiva entre los conjuntos en una lista llamada `lista_conjuntos`. La diferencia sucesiva se realiza tomando el primer conjunto de la lista y sustrayendo todos los elementos de los conjuntos subsiguientes, uno por uno, en el orden en que aparecen en la lista. Aquí está el detalle paso a paso:\n",
        "\n",
        "1. **Inicialización de `diferencia_sucesiva`**: Se crea un conjunto `diferencia_sucesiva` inicializándolo con los elementos del primer conjunto de `lista_conjuntos` (`{1, 2, 3}`).\n",
        "\n",
        "2. **Iteración y Sustracción de Conjuntos**: Se itera sobre los conjuntos restantes en `lista_conjuntos` (es decir, desde el segundo conjunto en adelante, `{2, 3, 4}` y `{3, 4, 5}`), y se sustrae cada uno de estos conjuntos de `diferencia_sucesiva`. Esto significa que, para cada conjunto `s` en la iteración, se eliminan de `diferencia_sucesiva` los elementos que también están presentes en `s`.\n",
        "\n",
        "3. **Resultado**: Al final del bucle, `diferencia_sucesiva` contiene solo aquellos elementos del primer conjunto que no están presentes en ningún otro conjunto de la lista. En este caso específico, después de sustraer `{2, 3, 4}` y `{3, 4, 5}` de `{1, 2, 3}`, el resultado es un conjunto vacío (`set()`) porque todos los elementos del primer conjunto se encuentran en los conjuntos subsiguientes.\n",
        "\n",
        "4. **Impresión del Resultado**: Finalmente, se imprime el `diferencia_sucesiva`, que en este caso muestra el conjunto vacío, indicando que no hay elementos exclusivos en el primer conjunto que no se sustraigan mediante los conjuntos siguientes.\n",
        "\n",
        "Este proceso es útil para identificar elementos únicos en el primer conjunto que no se comparten con ningún otro conjunto en la lista. En este ejemplo particular, no quedan elementos únicos después de la operación de diferencia sucesiva."
      ]
    },
    {
      "attachments": {},
      "cell_type": "markdown",
      "id": "86c7e4a0",
      "metadata": {},
      "source": [
        "### Ejercicio 3: Filtrar Elementos No Únicos entre Varios Conjuntos\n",
        "\n",
        "Dada una lista de conjuntos, crea un conjunto que contenga solo los elementos que son únicos en todos los conjuntos."
      ]
    },
    {
      "cell_type": "code",
      "execution_count": null,
      "id": "be53b9d6",
      "metadata": {},
      "outputs": [],
      "source": [
        "# Ejercicio\n",
        "lista_conjuntos = [{1, 2}, {2, 3, 4}, {4, 5, 6}]\n",
        "elementos_unicos = set().union(*lista_conjuntos) - set(x for s in lista_conjuntos for x in s if any(x in otro for otro in lista_conjuntos if otro != s))\n",
        "print(elementos_unicos)\n"
      ]
    },
    {
      "attachments": {},
      "cell_type": "markdown",
      "id": "048c5010",
      "metadata": {},
      "source": [
        "Este ejercicio calcula los elementos únicos en una lista de conjuntos, `lista_conjuntos`, y los imprime. El proceso se realiza en dos partes principales:\n",
        "\n",
        "1. **Unión de Todos los Conjuntos**: `set().union(*lista_conjuntos)` crea un conjunto único que contiene todos los elementos de todos los conjuntos en `lista_conjuntos`. El operador `*` desempaqueta la lista de conjuntos, permitiendo que `union` tome múltiples argumentos.\n",
        "\n",
        "2. **Identificación y Sustracción de Elementos No Únicos**: La expresión `set(x for s in lista_conjuntos for x in s if any(x in otro for otro in lista_conjuntos if otro != s))` genera un conjunto de elementos que aparecen en más de un conjunto dentro de `lista_conjuntos`. Lo hace iterando sobre cada conjunto `s` y cada elemento `x` en `s`, incluyendo `x` en el resultado si `x` aparece en cualquier otro conjunto `otro` diferente de `s`.\n",
        "\n",
        "La diferencia entre el conjunto unión de todos los elementos y el conjunto de elementos no únicos (`-`) resulta en `elementos_unicos`, que contiene solo aquellos elementos que aparecen exactamente en un solo conjunto dentro de `lista_conjuntos`.\n",
        "\n",
        "Finalmente, `elementos_unicos` se imprime, mostrando los elementos que son únicos en la colección completa de conjuntos."
      ]
    },
    {
      "attachments": {},
      "cell_type": "markdown",
      "id": "552c6458",
      "metadata": {},
      "source": [
        "### Ejercicio 4: Intersección de Listas de Conjuntos\n",
        "\n",
        "Dadas dos listas de conjuntos, encuentra todos los pares de conjuntos (uno de cada lista) que tienen al menos un elemento en común."
      ]
    },
    {
      "cell_type": "code",
      "execution_count": null,
      "id": "33f51707",
      "metadata": {},
      "outputs": [],
      "source": [
        "# Ejercicio\n",
        "lista_a = [{1, 2}, {3, 4}, {5}]\n",
        "lista_b = [{2, 3}, {4, 5}, {6}]\n",
        "pares_interseccion = [(a, b) for a in lista_a for b in lista_b if a.intersection(b)]\n",
        "print(pares_interseccion)"
      ]
    },
    {
      "attachments": {},
      "cell_type": "markdown",
      "id": "348a1b33",
      "metadata": {},
      "source": [
        "Este código genera y muestra todos los pares de conjuntos, uno de `lista_a` y otro de `lista_b`, que tienen al menos un elemento en común. Lo hace mediante una comprensión de lista con dos bucles `for` anidados para iterar sobre todos los posibles pares de conjuntos entre `lista_a` y `lista_b`. Para cada par de conjuntos `(a, b)`, utiliza el método `intersection` para determinar si tienen elementos en común. Si la intersección no está vacía (lo que implica que `a.intersection(b)` devuelve un conjunto no vacío), el par `(a, b)` se incluye en la lista resultante, `pares_interseccion`.\n",
        "\n",
        "Al final, imprime `pares_interseccion`, que contiene todos los pares de conjuntos con intersección no vacía, es decir, aquellos pares de conjuntos entre `lista_a` y `lista_b` que comparten al menos un elemento."
      ]
    },
    {
      "attachments": {},
      "cell_type": "markdown",
      "id": "c30c666f",
      "metadata": {},
      "source": [
        "### Ejercicio 5: Conjunto con Elementos de Máxima Frecuencia\n",
        "\n",
        "Dada una lista de elementos, crea un conjunto con los elementos que aparecen con mayor frecuencia en la lista."
      ]
    },
    {
      "cell_type": "code",
      "execution_count": 8,
      "id": "3ee4a147",
      "metadata": {},
      "outputs": [
        {
          "name": "stdout",
          "output_type": "stream",
          "text": [
            "{4}\n"
          ]
        }
      ],
      "source": [
        "from collections import Counter\n",
        "\n",
        "# Ejercicio\n",
        "lista = [1, 2, 2, 3, 3, 3, 4, 4, 4, 4]\n",
        "# Cuenta la frecuencia de cada elemento en la lista\n",
        "frecuencias = Counter(lista)\n",
        "max_frecuencia = max(frecuencias.values())  # Encuentra la máxima frecuencia\n",
        "# Crea un conjunto con los elementos que tienen la máxima frecuencia\n",
        "conjunto_max_frecuencia = {\n",
        "    x for x, frec in frecuencias.items() if frec == max_frecuencia}\n",
        "\n",
        "print(conjunto_max_frecuencia)"
      ]
    },
    {
      "attachments": {},
      "cell_type": "markdown",
      "id": "8056cb8c",
      "metadata": {},
      "source": [
        "- Para completar el ejercicio correctamente, primero necesitas importar la clase Counter del módulo collections, que te permitirá contar la frecuencia de cada elemento en la lista. Luego, el ejercicio procede a calcular las frecuencias de cada elemento, identificar la máxima frecuencia, y finalmente crear un conjunto con los elementos que aparecen con esa máxima frecuencia.  \n",
        "- Este código primero cuenta la frecuencia de cada elemento en lista usando Counter. Luego, encuentra la frecuencia máxima de los elementos y crea un conjunto (conjunto_max_frecuencia) que contiene solo aquellos elementos cuya frecuencia coincide con esta frecuencia máxima. Al final, imprime este conjunto, mostrando los elementos que son más frecuentes en la lista original."
      ]
    },
    {
      "attachments": {},
      "cell_type": "markdown",
      "id": "d1f02f02",
      "metadata": {},
      "source": [
        "Estos ejercicios avanzados ponen a prueba tus habilidades de manejo de conjuntos en Python, abordando problemas complejos que requieren pensamiento lógico y aplicaciones innovadoras de los conjuntos. Practicar con estos problemas te ayudará a ganar una comprensión más profunda de cómo los conjuntos pueden ser utilizados en escenarios de programación desafiantes."
      ]
    }
  ],
  "metadata": {
    "kernelspec": {
      "display_name": "Python 3",
      "language": "python",
      "name": "python3"
    },
    "language_info": {
      "codemirror_mode": {
        "name": "ipython",
        "version": 3
      },
      "file_extension": ".py",
      "mimetype": "text/x-python",
      "name": "python",
      "nbconvert_exporter": "python",
      "pygments_lexer": "ipython3",
      "version": "3.8.10"
    }
  },
  "nbformat": 4,
  "nbformat_minor": 5
}
