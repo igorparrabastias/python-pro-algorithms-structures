{
 "cells": [
  {
   "attachments": {},
   "cell_type": "markdown",
   "id": "bd29cf82",
   "metadata": {},
   "source": [
    "# Conjuntos (Sets)\n",
    "\n",
    "### Introducción:\n",
    "\n",
    "Los conjuntos en Python, conocidos como `set`, son colecciones desordenadas de elementos únicos. Son particularmente útiles para operaciones que requieren elementos únicos, y para realizar operaciones matemáticas de conjuntos como unión, intersección y diferencia.\n",
    "\n",
    "### Fundamentos de los Conjuntos:\n",
    "\n",
    "### Creación de Conjuntos:\n",
    "\n",
    "Un conjunto se puede crear utilizando la función `set()` o mediante llaves `{}`."
   ]
  },
  {
   "cell_type": "code",
   "execution_count": null,
   "id": "7d74723c",
   "metadata": {},
   "outputs": [],
   "source": [
    "mi_conjunto = set([1, 2, 3])\n",
    "otro_conjunto = {4, 5, 6}"
   ]
  },
  {
   "attachments": {},
   "cell_type": "markdown",
   "id": "0190bed1",
   "metadata": {},
   "source": [
    "Los conjuntos automáticamente eliminan los elementos duplicados."
   ]
  },
  {
   "cell_type": "code",
   "execution_count": null,
   "id": "fa970a4c",
   "metadata": {},
   "outputs": [],
   "source": [
    "conjunto_con_duplicados = {1, 2, 2, 3}  # {1, 2, 3}"
   ]
  },
  {
   "attachments": {},
   "cell_type": "markdown",
   "id": "470de850",
   "metadata": {},
   "source": [
    "### Operaciones Básicas:\n",
    "\n",
    "- **Añadir Elementos**: Utiliza `add()` para añadir un elemento al conjunto."
   ]
  },
  {
   "cell_type": "code",
   "execution_count": null,
   "id": "4b202e8f",
   "metadata": {},
   "outputs": [],
   "source": [
    "mi_conjunto.add(4)"
   ]
  },
  {
   "attachments": {},
   "cell_type": "markdown",
   "id": "46a587e2",
   "metadata": {},
   "source": [
    "- **Eliminar Elementos**: Utiliza `remove()` o `discard()` para eliminar elementos."
   ]
  },
  {
   "cell_type": "code",
   "execution_count": null,
   "id": "03257f31",
   "metadata": {},
   "outputs": [],
   "source": [
    "mi_conjunto.remove(4)  # Lanza un KeyError si el elemento no existe\n",
    "mi_conjunto.discard(5) # No lanza un error si el elemento no existe"
   ]
  },
  {
   "attachments": {},
   "cell_type": "markdown",
   "id": "7cce2f79",
   "metadata": {},
   "source": [
    "- **Verificar Pertenencia**: Utiliza `in` para verificar si un elemento está en el conjunto."
   ]
  },
  {
   "cell_type": "code",
   "execution_count": null,
   "id": "081bd102",
   "metadata": {},
   "outputs": [],
   "source": [
    "3 in mi_conjunto  # True"
   ]
  },
  {
   "attachments": {},
   "cell_type": "markdown",
   "id": "567c0834",
   "metadata": {},
   "source": [
    "### Operaciones Matemáticas de Conjuntos:\n",
    "\n",
    "- **Unión**: Utiliza `|` o `union()` para combinar dos conjuntos."
   ]
  },
  {
   "cell_type": "code",
   "execution_count": null,
   "id": "325d757c",
   "metadata": {},
   "outputs": [],
   "source": [
    "union_conjuntos = mi_conjunto | otro_conjunto"
   ]
  },
  {
   "attachments": {},
   "cell_type": "markdown",
   "id": "4f3f6f85",
   "metadata": {},
   "source": [
    "- **Intersección**: Utiliza `&` o `intersection()` para obtener elementos comunes."
   ]
  },
  {
   "cell_type": "code",
   "execution_count": null,
   "id": "bab479b8",
   "metadata": {},
   "outputs": [],
   "source": [
    "interseccion_conjuntos = mi_conjunto & otro_conjunto"
   ]
  },
  {
   "attachments": {},
   "cell_type": "markdown",
   "id": "c63cf622",
   "metadata": {},
   "source": [
    "- **Diferencia**: Utiliza `` o `difference()` para obtener elementos de un conjunto que no están en otro."
   ]
  },
  {
   "cell_type": "code",
   "execution_count": null,
   "id": "bdf55a77",
   "metadata": {},
   "outputs": [],
   "source": [
    "diferencia_conjuntos = mi_conjunto - otro_conjunto"
   ]
  },
  {
   "attachments": {},
   "cell_type": "markdown",
   "id": "b9e3b72b",
   "metadata": {},
   "source": [
    "- **Diferencia Simétrica**: Usa `^` o `symmetric_difference()` para obtener elementos que están en uno de los conjuntos, pero no en ambos."
   ]
  },
  {
   "cell_type": "code",
   "execution_count": null,
   "id": "24e4aa78",
   "metadata": {},
   "outputs": [],
   "source": [
    "diferencia_simetrica = mi_conjunto ^ otro_conjunto"
   ]
  },
  {
   "attachments": {},
   "cell_type": "markdown",
   "id": "bbd6d4aa",
   "metadata": {},
   "source": [
    "### Casos Prácticos en los que los Conjuntos son Útiles:\n",
    "\n",
    "1. **Eliminar Duplicados de una Lista**: Convierte una lista en un conjunto para eliminar elementos duplicados."
   ]
  },
  {
   "cell_type": "code",
   "execution_count": null,
   "id": "e00f6150",
   "metadata": {},
   "outputs": [],
   "source": [
    "lista = [1, 2, 2, 3, 3, 4]\n",
    "sin_duplicados = list(set(lista))\n",
    "print(sin_duplicados)\n"
   ]
  },
  {
   "attachments": {},
   "cell_type": "markdown",
   "id": "2f224f9d",
   "metadata": {},
   "source": [
    "2. **Búsqueda Rápida de Elementos**: Los conjuntos ofrecen una búsqueda más rápida que las listas para determinar si un elemento está presente.\n",
    "3. **Operaciones de Conjuntos en Análisis de Datos**: Útiles para comparar grupos de datos, como encontrar elementos comunes o diferentes entre conjuntos de datos.\n",
    "4. **Aplicaciones en Matemáticas y Lógica**: Ideal para aplicaciones que involucran teoría de conjuntos y lógica matemática.\n",
    "\n",
    "### Conclusión:\n",
    "\n",
    "Los conjuntos en Python son herramientas poderosas y eficientes para manejar colecciones de elementos únicos y realizar operaciones de conjuntos. Su capacidad para eliminar duplicados automáticamente y realizar operaciones matemáticas de conjuntos de manera eficiente los hace indispensables en ciertas aplicaciones, especialmente aquellas relacionadas con el análisis de datos y la teoría de conjuntos. En la próxima clase, exploraremos en profundidad casos de estudio y ejemplos prácticos que demuestren la utilidad de los conjuntos en escenarios de programación reales.\n"
   ]
  }
 ],
 "metadata": {
  "kernelspec": {
   "display_name": "Python 3",
   "language": "python",
   "name": "python3"
  },
  "language_info": {
   "codemirror_mode": {
    "name": "ipython",
    "version": 3
   },
   "file_extension": ".py",
   "mimetype": "text/x-python",
   "name": "python",
   "nbconvert_exporter": "python",
   "pygments_lexer": "ipython3",
   "version": "3.8.10"
  }
 },
 "nbformat": 4,
 "nbformat_minor": 5
}
