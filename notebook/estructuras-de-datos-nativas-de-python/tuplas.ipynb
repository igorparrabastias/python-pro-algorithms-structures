{
 "cells": [
  {
   "cell_type": "markdown",
   "id": "ca089cf3",
   "metadata": {},
   "source": [
    "# Tuplas\n",
    "\n",
    "### Introducción:\n",
    "\n",
    "Las tuplas son una estructura de datos fundamental en Python, similares a las listas, pero con una característica clave: son inmutables. Esto significa que una vez definida, una tupla no puede ser modificada. A lo largo de esta clase, exploraremos los conceptos básicos de las tuplas, cómo operar con ellas y en qué situaciones son más ventajosas que las listas.\n",
    "\n",
    "### Fundamentos de Tuplas en Python:\n",
    "\n",
    "### Creación de Tuplas:\n",
    "\n",
    "Las tuplas se crean colocando una secuencia de valores entre paréntesis `()`, separados por comas. Por ejemplo:"
   ]
  },
  {
   "cell_type": "code",
   "execution_count": null,
   "id": "5a047741",
   "metadata": {},
   "outputs": [],
   "source": [
    "mi_tupla = (1, 2, 3, 4, 5)\n"
   ]
  },
  {
   "cell_type": "markdown",
   "id": "45dcc60d",
   "metadata": {},
   "source": [
    "También es posible crear una tupla sin paréntesis, simplemente separando los elementos con comas."
   ]
  },
  {
   "cell_type": "code",
   "execution_count": null,
   "id": "d512964e",
   "metadata": {},
   "outputs": [],
   "source": [
    "otra_tupla = 'a', 'b', 'c'\n"
   ]
  },
  {
   "cell_type": "markdown",
   "id": "8592ec6e",
   "metadata": {},
   "source": [
    "### Inmutabilidad:\n",
    "\n",
    "A diferencia de las listas, las tuplas no pueden ser modificadas después de su creación. Esto significa que no se pueden añadir, eliminar, o cambiar los elementos de una tupla. La inmutabilidad de las tuplas las hace ideales para representar datos que no deben cambiar a lo largo del tiempo.\n",
    "\n",
    "### Diferencias con las Listas:\n",
    "\n",
    "Mientras las listas son mutables y su contenido puede cambiar, las tuplas son inmutables. Las listas se definen con corchetes `[]`, mientras que las tuplas usan paréntesis `()`. Esta diferencia de mutabilidad lleva a que las tuplas y las listas tengan usos y optimizaciones diferentes en Python.\n",
    "\n",
    "### Operaciones Básicas en Tuplas:\n",
    "\n",
    "### Acceso a Elementos:\n",
    "\n",
    "El acceso a los elementos de una tupla es similar al de las listas, utilizando índices que comienzan desde cero."
   ]
  },
  {
   "cell_type": "code",
   "execution_count": null,
   "id": "b515ec55",
   "metadata": {},
   "outputs": [],
   "source": [
    "primer_elemento = mi_tupla[0]  # Accede al primer elemento\n",
    "ultimo_elemento = mi_tupla[-1] # Accede al último elemento\n"
   ]
  },
  {
   "cell_type": "markdown",
   "id": "3afb9f83",
   "metadata": {},
   "source": [
    "### Concatenación:\n",
    "\n",
    "Aunque las tuplas son inmutables, es posible \"concatenar\" dos o más tuplas, lo que resulta en una nueva tupla."
   ]
  },
  {
   "cell_type": "code",
   "execution_count": null,
   "id": "2911275d",
   "metadata": {},
   "outputs": [],
   "source": [
    "tupla_concatenada = mi_tupla + otra_tupla\n"
   ]
  },
  {
   "cell_type": "markdown",
   "id": "4ff410a3",
   "metadata": {},
   "source": [
    "### Ventajas de las Tuplas en Comparación con las Listas:\n",
    "\n",
    "1. **Eficiencia en el Uso de Memoria**: Debido a su inmutabilidad, las tuplas son generalmente más ligeras en términos de uso de memoria.\n",
    "2. **Seguridad de Datos**: Al ser inmutables, las tuplas aseguran que los datos no serán modificados accidentalmente, lo que es crucial para ciertos tipos de datos como las constantes en un programa.\n",
    "3. **Pueden ser Claves de Diccionario**: A diferencia de las listas, las tuplas pueden ser utilizadas como claves en diccionarios, gracias a su inmutabilidad.\n",
    "4. **Desempaquetado de Datos**: Las tuplas facilitan el desempaquetado de datos, lo cual es útil en múltiples asignaciones o en el retorno de más de un valor desde una función.\n",
    "\n",
    "### Conclusión:\n",
    "\n",
    "Las tuplas son una herramienta poderosa y flexible en Python, ideales para asegurar la integridad de los datos y para operaciones que requieren estructuras de datos inalterables. A pesar de su similitud con las listas, las tuplas tienen sus propias ventajas y casos de uso específicos, especialmente en situaciones donde la inmutabilidad y la eficiencia son cruciales. En la próxima clase, profundizaremos en conceptos avanzados relacionados con las tuplas, como el desempaquetado y el uso de tuplas en funciones y estructuras de datos más complejas."
   ]
  }
 ],
 "metadata": {},
 "nbformat": 4,
 "nbformat_minor": 5
}
