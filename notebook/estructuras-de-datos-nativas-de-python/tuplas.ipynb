{
  "cells": [
    {
      "cell_type": "markdown",
      "id": "abd12da4",
      "metadata": {},
      "source": [
        "# Tuplas\n",
        "\n",
        "### Introducci\u00f3n:\n",
        "\n",
        "Las tuplas son una estructura de datos fundamental en Python, similares a las listas, pero con una caracter\u00edstica clave: son inmutables. Esto significa que una vez definida, una tupla no puede ser modificada. A lo largo de esta clase, exploraremos los conceptos b\u00e1sicos de las tuplas, c\u00f3mo operar con ellas y en qu\u00e9 situaciones son m\u00e1s ventajosas que las listas.\n",
        "\n",
        "### Fundamentos de Tuplas en Python:\n",
        "\n",
        "### Creaci\u00f3n de Tuplas:\n",
        "\n",
        "Las tuplas se crean colocando una secuencia de valores entre par\u00e9ntesis `()`, separados por comas. Por ejemplo:"
      ]
    },
    {
      "cell_type": "code",
      "execution_count": null,
      "id": "a35f95cd",
      "metadata": {},
      "outputs": [],
      "source": [
        "mi_tupla = (1, 2, 3, 4, 5)"
      ]
    },
    {
      "cell_type": "markdown",
      "id": "78141bca",
      "metadata": {},
      "source": [
        "Tambi\u00e9n es posible crear una tupla sin par\u00e9ntesis, simplemente separando los elementos con comas."
      ]
    },
    {
      "cell_type": "code",
      "execution_count": null,
      "id": "77acf6e6",
      "metadata": {},
      "outputs": [],
      "source": [
        "otra_tupla = 'a', 'b', 'c'"
      ]
    },
    {
      "cell_type": "markdown",
      "id": "367c6d47",
      "metadata": {},
      "source": [
        "### Inmutabilidad:\n",
        "\n",
        "A diferencia de las listas, las tuplas no pueden ser modificadas despu\u00e9s de su creaci\u00f3n. Esto significa que no se pueden a\u00f1adir, eliminar, o cambiar los elementos de una tupla. La inmutabilidad de las tuplas las hace ideales para representar datos que no deben cambiar a lo largo del tiempo.\n",
        "\n",
        "### Diferencias con las Listas:\n",
        "\n",
        "Mientras las listas son mutables y su contenido puede cambiar, las tuplas son inmutables. Las listas se definen con corchetes `[]`, mientras que las tuplas usan par\u00e9ntesis `()`. Esta diferencia de mutabilidad lleva a que las tuplas y las listas tengan usos y optimizaciones diferentes en Python.\n",
        "\n",
        "### Operaciones B\u00e1sicas en Tuplas:\n",
        "\n",
        "### Acceso a Elementos:\n",
        "\n",
        "El acceso a los elementos de una tupla es similar al de las listas, utilizando \u00edndices que comienzan desde cero."
      ]
    },
    {
      "cell_type": "code",
      "execution_count": null,
      "id": "8755fbe0",
      "metadata": {},
      "outputs": [],
      "source": [
        "primer_elemento = mi_tupla[0]  # Accede al primer elemento\n",
        "ultimo_elemento = mi_tupla[-1] # Accede al \u00faltimo elemento"
      ]
    },
    {
      "cell_type": "markdown",
      "id": "451f7967",
      "metadata": {},
      "source": [
        "### Concatenaci\u00f3n:\n",
        "\n",
        "Aunque las tuplas son inmutables, es posible \"concatenar\" dos o m\u00e1s tuplas, lo que resulta en una nueva tupla."
      ]
    },
    {
      "cell_type": "code",
      "execution_count": null,
      "id": "bd72eef1",
      "metadata": {},
      "outputs": [],
      "source": [
        "tupla_concatenada = mi_tupla + otra_tupla"
      ]
    },
    {
      "cell_type": "markdown",
      "id": "75fb5298",
      "metadata": {},
      "source": [
        "### Ventajas de las Tuplas en Comparaci\u00f3n con las Listas:\n",
        "\n",
        "1. **Eficiencia en el Uso de Memoria**: Debido a su inmutabilidad, las tuplas son generalmente m\u00e1s ligeras en t\u00e9rminos de uso de memoria.\n",
        "2. **Seguridad de Datos**: Al ser inmutables, las tuplas aseguran que los datos no ser\u00e1n modificados accidentalmente, lo que es crucial para ciertos tipos de datos como las constantes en un programa.\n",
        "3. **Pueden ser Claves de Diccionario**: A diferencia de las listas, las tuplas pueden ser utilizadas como claves en diccionarios, gracias a su inmutabilidad.\n",
        "4. **Desempaquetado de Datos**: Las tuplas facilitan el desempaquetado de datos, lo cual es \u00fatil en m\u00faltiples asignaciones o en el retorno de m\u00e1s de un valor desde una funci\u00f3n.\n",
        "\n",
        "### Conclusi\u00f3n:\n",
        "\n",
        "Las tuplas son una herramienta poderosa y flexible en Python, ideales para asegurar la integridad de los datos y para operaciones que requieren estructuras de datos inalterables. A pesar de su similitud con las listas, las tuplas tienen sus propias ventajas y casos de uso espec\u00edficos, especialmente en situaciones donde la inmutabilidad y la eficiencia son cruciales. En la pr\u00f3xima clase, profundizaremos en conceptos avanzados relacionados con las tuplas, como el desempaquetado y el uso de tuplas en funciones y estructuras de datos m\u00e1s complejas."
      ]
    }
  ],
  "metadata": {},
  "nbformat": 4,
  "nbformat_minor": 5
}