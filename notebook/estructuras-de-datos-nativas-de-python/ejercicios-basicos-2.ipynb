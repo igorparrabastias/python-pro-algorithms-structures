{
  "cells": [
    {
      "attachments": {},
      "cell_type": "markdown",
      "id": "89c5ca31",
      "metadata": {},
      "source": [
        "# Ejercicios básicos\n",
        "\n",
        "### Ejercicio 1: Crear una Tupla\n",
        "\n",
        "Crea una tupla con números del 1 al 5."
      ]
    },
    {
      "cell_type": "code",
      "execution_count": 1,
      "id": "94493d51",
      "metadata": {},
      "outputs": [],
      "source": [
        "# Ejercicio\n",
        "tupla1 = (1, 2, 3, 4, 5)"
      ]
    },
    {
      "attachments": {},
      "cell_type": "markdown",
      "id": "b4d4b9ea",
      "metadata": {},
      "source": [
        "### Ejercicio 2: Acceder al Tercer Elemento\n",
        "\n",
        "Accede al tercer elemento de una tupla."
      ]
    },
    {
      "cell_type": "code",
      "execution_count": 2,
      "id": "fb3d4f61",
      "metadata": {},
      "outputs": [],
      "source": [
        "# Ejercicio\n",
        "tercer_elemento = tupla1[2]  # 3"
      ]
    },
    {
      "attachments": {},
      "cell_type": "markdown",
      "id": "d5d8dcb4",
      "metadata": {},
      "source": [
        "### Ejercicio 3: Tupla Unitaria\n",
        "\n",
        "Crea una tupla con un solo elemento."
      ]
    },
    {
      "cell_type": "code",
      "execution_count": 3,
      "id": "3cba8787",
      "metadata": {},
      "outputs": [],
      "source": [
        "# Ejercicio\n",
        "tupla_unitaria = (5,)"
      ]
    },
    {
      "attachments": {},
      "cell_type": "markdown",
      "id": "9eaf2a95",
      "metadata": {},
      "source": [
        "### Ejercicio 4: Concatenar Tuplas\n",
        "\n",
        "Concatena dos tuplas."
      ]
    },
    {
      "cell_type": "code",
      "execution_count": 4,
      "id": "3ac820b8",
      "metadata": {},
      "outputs": [],
      "source": [
        "# Ejercicio\n",
        "tupla2 = (6, 7)\n",
        "tupla_concatenada = tupla1 + tupla2  # (1, 2, 3, 4, 5, 6, 7)"
      ]
    },
    {
      "attachments": {},
      "cell_type": "markdown",
      "id": "7ee8af8d",
      "metadata": {},
      "source": [
        "### Ejercicio 5: Repetir Tupla\n",
        "\n",
        "Repite una tupla tres veces."
      ]
    },
    {
      "cell_type": "code",
      "execution_count": 5,
      "id": "4879fbcf",
      "metadata": {},
      "outputs": [],
      "source": [
        "# Ejercicio\n",
        "tupla_repetida = tupla1 * 3"
      ]
    },
    {
      "attachments": {},
      "cell_type": "markdown",
      "id": "509ef2c1",
      "metadata": {},
      "source": [
        "### Ejercicio 6: Verificar Si un Elemento Está en una Tupla\n",
        "\n",
        "Verifica si el número 4 está en la tupla."
      ]
    },
    {
      "cell_type": "code",
      "execution_count": 6,
      "id": "7a2df621",
      "metadata": {},
      "outputs": [],
      "source": [
        "# Ejercicio\n",
        "esta_4_en_tupla = 4 in tupla1  # True"
      ]
    },
    {
      "attachments": {},
      "cell_type": "markdown",
      "id": "73d67bd1",
      "metadata": {},
      "source": [
        "### Ejercicio 7: Longitud de una Tupla\n",
        "\n",
        "Encuentra la longitud de una tupla."
      ]
    },
    {
      "cell_type": "code",
      "execution_count": 7,
      "id": "4e592919",
      "metadata": {},
      "outputs": [],
      "source": [
        "# Ejercicio\n",
        "longitud = len(tupla1)  # 5"
      ]
    },
    {
      "attachments": {},
      "cell_type": "markdown",
      "id": "596a9e58",
      "metadata": {},
      "source": [
        "### Ejercicio 8: Máximo y Mínimo de una Tupla\n",
        "\n",
        "Encuentra el valor máximo y mínimo en una tupla de números."
      ]
    },
    {
      "cell_type": "code",
      "execution_count": 8,
      "id": "192bc851",
      "metadata": {},
      "outputs": [],
      "source": [
        "# Ejercicio\n",
        "maximo = max(tupla1)  # 5\n",
        "minimo = min(tupla1)  # 1"
      ]
    },
    {
      "attachments": {},
      "cell_type": "markdown",
      "id": "569b0f5c",
      "metadata": {},
      "source": [
        "### Ejercicio 9: Tupla a Lista\n",
        "\n",
        "Convierte una tupla en una lista."
      ]
    },
    {
      "cell_type": "code",
      "execution_count": 9,
      "id": "2ad58262",
      "metadata": {},
      "outputs": [],
      "source": [
        "# Ejercicio\n",
        "lista_desde_tupla = list(tupla1)"
      ]
    },
    {
      "attachments": {},
      "cell_type": "markdown",
      "id": "387ad53c",
      "metadata": {},
      "source": [
        "### Ejercicio 10: Último Elemento de una Tupla\n",
        "\n",
        "Accede al último elemento de una tupla."
      ]
    },
    {
      "cell_type": "code",
      "execution_count": 10,
      "id": "6d32665d",
      "metadata": {},
      "outputs": [],
      "source": [
        "# Ejercicio\n",
        "ultimo_elemento = tupla1[-1]  # 5"
      ]
    },
    {
      "attachments": {},
      "cell_type": "markdown",
      "id": "f9212c4b",
      "metadata": {},
      "source": [
        "### Ejercicio 11: Suma de Elementos de Tupla\n",
        "\n",
        "Calcula la suma de todos los elementos en una tupla."
      ]
    },
    {
      "cell_type": "code",
      "execution_count": 11,
      "id": "c2d51981",
      "metadata": {},
      "outputs": [],
      "source": [
        "# Ejercicio\n",
        "suma_tupla = sum(tupla1)  # 15"
      ]
    },
    {
      "attachments": {},
      "cell_type": "markdown",
      "id": "2483a1e4",
      "metadata": {},
      "source": [
        "### Ejercicio 12: Convertir Lista en Tupla\n",
        "\n",
        "Convierte una lista en una tupla."
      ]
    },
    {
      "cell_type": "code",
      "execution_count": 12,
      "id": "26672be1",
      "metadata": {},
      "outputs": [],
      "source": [
        "# Ejercicio\n",
        "lista = [1, 2, 3]\n",
        "tupla_desde_lista = tuple(lista)"
      ]
    },
    {
      "attachments": {},
      "cell_type": "markdown",
      "id": "a5e4429a",
      "metadata": {},
      "source": [
        "### Ejercicio 13: Tupla de Tuplas\n",
        "\n",
        "Crea una tupla de tuplas."
      ]
    },
    {
      "cell_type": "code",
      "execution_count": 13,
      "id": "f1ea6ac6",
      "metadata": {},
      "outputs": [],
      "source": [
        "# Ejercicio\n",
        "tupla_tuplas = ((1, 2), (3, 4), (5, 6))"
      ]
    },
    {
      "attachments": {},
      "cell_type": "markdown",
      "id": "5132c4d7",
      "metadata": {},
      "source": [
        "### Ejercicio 14: Index de un Elemento\n",
        "\n",
        "Encuentra el índice de un elemento en una tupla."
      ]
    },
    {
      "cell_type": "code",
      "execution_count": 14,
      "id": "2fbe54e9",
      "metadata": {},
      "outputs": [],
      "source": [
        "# Ejercicio\n",
        "indice = tupla1.index(3)  # 2"
      ]
    },
    {
      "attachments": {},
      "cell_type": "markdown",
      "id": "3729056a",
      "metadata": {},
      "source": [
        "### Ejercicio 15: Desempaquetado de Tuplas\n",
        "\n",
        "Desempaqueta los siguientes valores de una tupla en variables."
      ]
    },
    {
      "cell_type": "code",
      "execution_count": 15,
      "id": "ae75e93a",
      "metadata": {},
      "outputs": [],
      "source": [
        "# Ejercicio\n",
        "tupla3 = (1, \"Hola\", True)\n",
        "a, b, c = tupla3  # a = 1, b = \"Hola\", c = True"
      ]
    },
    {
      "attachments": {},
      "cell_type": "markdown",
      "id": "c64c0f60",
      "metadata": {},
      "source": [
        "### Ejercicio 16: Tupla de Caracteres a String\n",
        "\n",
        "Convierte una tupla de caracteres en un string."
      ]
    },
    {
      "cell_type": "code",
      "execution_count": 21,
      "id": "53c8b2cd",
      "metadata": {},
      "outputs": [
        {
          "name": "stdout",
          "output_type": "stream",
          "text": [
            "string='Python'\n"
          ]
        }
      ],
      "source": [
        "# Ejercicio\n",
        "tupla_caracteres = ('P', 'y', 't', 'h', 'o', 'n')\n",
        "string = ''.join(tupla_caracteres)  # \"Python\""
      ]
    },
    {
      "attachments": {},
      "cell_type": "markdown",
      "id": "16a4ca6e",
      "metadata": {},
      "source": [
        "### Ejercicio 17: Elemento Máximo en Tupla de Tuplas\n",
        "\n",
        "Encuentra el valor máximo en cada tupla interna de una tupla de tuplas."
      ]
    },
    {
      "cell_type": "code",
      "execution_count": 22,
      "id": "e4609be2",
      "metadata": {},
      "outputs": [
        {
          "name": "stdout",
          "output_type": "stream",
          "text": [
            "maximos=[2, 4, 6]\n"
          ]
        }
      ],
      "source": [
        "# Ejercicio\n",
        "maximos = [max(t) for t in tupla_tuplas]  # [2, 4, 6]"
      ]
    },
    {
      "attachments": {},
      "cell_type": "markdown",
      "id": "47402261",
      "metadata": {},
      "source": [
        "### Ejercicio 18: Combinar Tuplas en una Lista de Tuplas\n",
        "\n",
        "Combina dos tuplas en una lista de tuplas."
      ]
    },
    {
      "cell_type": "code",
      "execution_count": 23,
      "id": "80010ab0",
      "metadata": {},
      "outputs": [
        {
          "name": "stdout",
          "output_type": "stream",
          "text": [
            "tuplas_combinadas=[(1, 4), (2, 5), (3, 6)]\n"
          ]
        }
      ],
      "source": [
        "# Ejercicio\n",
        "tupla4 = (1, 2, 3)\n",
        "tupla5 = (4, 5, 6)\n",
        "tuplas_combinadas = list(zip(tupla4, tupla5))  # [(1, 4), (2, 5), (3, 6)]"
      ]
    },
    {
      "attachments": {},
      "cell_type": "markdown",
      "id": "aa30a3a5",
      "metadata": {},
      "source": [
        "### Ejercicio 19: Crear una Tupla con Rango\n",
        "\n",
        "Crea una tupla utilizando la función `range()`."
      ]
    },
    {
      "cell_type": "code",
      "execution_count": 19,
      "id": "86e8d08d",
      "metadata": {},
      "outputs": [],
      "source": [
        "# Ejercicio\n",
        "tupla_rango = tuple(range(5))  # (0, 1, 2, 3, 4)"
      ]
    },
    {
      "attachments": {},
      "cell_type": "markdown",
      "id": "bbea2735",
      "metadata": {},
      "source": [
        "### Ejercicio 20: Contar Elementos en Tupla\n",
        "\n",
        "Cuenta cuántas veces aparece el número 1 en una tupla."
      ]
    },
    {
      "cell_type": "code",
      "execution_count": 20,
      "id": "f7db7398",
      "metadata": {},
      "outputs": [],
      "source": [
        "# Ejercicio\n",
        "tupla6 = (1, 2, 1, 1, 3)\n",
        "conteo_1 = tupla6.count(1)  # 3"
      ]
    },
    {
      "attachments": {},
      "cell_type": "markdown",
      "id": "475ea874",
      "metadata": {},
      "source": [
        "Estos ejercicios cubren una variedad de operaciones fundamentales y avanzadas con tuplas en Python, ayudando a profundizar la comprensión de esta estructura de datos inmutable y versátil."
      ]
    }
  ],
  "metadata": {
    "kernelspec": {
      "display_name": "Python 3",
      "language": "python",
      "name": "python3"
    },
    "language_info": {
      "codemirror_mode": {
        "name": "ipython",
        "version": 3
      },
      "file_extension": ".py",
      "mimetype": "text/x-python",
      "name": "python",
      "nbconvert_exporter": "python",
      "pygments_lexer": "ipython3",
      "version": "3.8.10"
    }
  },
  "nbformat": 4,
  "nbformat_minor": 5
}
