{
  "cells": [
    {
      "cell_type": "markdown",
      "id": "89c5ca31",
      "metadata": {},
      "source": [
        "# Ejercicios b\u00e1sicos\n",
        "\n",
        "### Ejercicio 1: Crear una Tupla\n",
        "\n",
        "Crea una tupla con n\u00fameros del 1 al 5."
      ]
    },
    {
      "cell_type": "code",
      "execution_count": null,
      "id": "94493d51",
      "metadata": {},
      "outputs": [],
      "source": [
        "# Ejercicio\n",
        "tupla1 = (1, 2, 3, 4, 5)"
      ]
    },
    {
      "cell_type": "markdown",
      "id": "b4d4b9ea",
      "metadata": {},
      "source": [
        "### Ejercicio 2: Acceder al Tercer Elemento\n",
        "\n",
        "Accede al tercer elemento de una tupla."
      ]
    },
    {
      "cell_type": "code",
      "execution_count": null,
      "id": "fb3d4f61",
      "metadata": {},
      "outputs": [],
      "source": [
        "# Ejercicio\n",
        "tercer_elemento = tupla1[2]  # 3"
      ]
    },
    {
      "cell_type": "markdown",
      "id": "d5d8dcb4",
      "metadata": {},
      "source": [
        "### Ejercicio 3: Tupla Unitaria\n",
        "\n",
        "Crea una tupla con un solo elemento."
      ]
    },
    {
      "cell_type": "code",
      "execution_count": null,
      "id": "3cba8787",
      "metadata": {},
      "outputs": [],
      "source": [
        "# Ejercicio\n",
        "tupla_unitaria = (5,)"
      ]
    },
    {
      "cell_type": "markdown",
      "id": "9eaf2a95",
      "metadata": {},
      "source": [
        "### Ejercicio 4: Concatenar Tuplas\n",
        "\n",
        "Concatena dos tuplas."
      ]
    },
    {
      "cell_type": "code",
      "execution_count": null,
      "id": "3ac820b8",
      "metadata": {},
      "outputs": [],
      "source": [
        "# Ejercicio\n",
        "tupla2 = (6, 7)\n",
        "tupla_concatenada = tupla1 + tupla2  # (1, 2, 3, 4, 5, 6, 7)"
      ]
    },
    {
      "cell_type": "markdown",
      "id": "7ee8af8d",
      "metadata": {},
      "source": [
        "### Ejercicio 5: Repetir Tupla\n",
        "\n",
        "Repite una tupla tres veces."
      ]
    },
    {
      "cell_type": "code",
      "execution_count": null,
      "id": "4879fbcf",
      "metadata": {},
      "outputs": [],
      "source": [
        "# Ejercicio\n",
        "tupla_repetida = tupla1 * 3"
      ]
    },
    {
      "cell_type": "markdown",
      "id": "509ef2c1",
      "metadata": {},
      "source": [
        "### Ejercicio 6: Verificar Si un Elemento Est\u00e1 en una Tupla\n",
        "\n",
        "Verifica si el n\u00famero 4 est\u00e1 en la tupla."
      ]
    },
    {
      "cell_type": "code",
      "execution_count": null,
      "id": "7a2df621",
      "metadata": {},
      "outputs": [],
      "source": [
        "# Ejercicio\n",
        "esta_4_en_tupla = 4 in tupla1  # True"
      ]
    },
    {
      "cell_type": "markdown",
      "id": "73d67bd1",
      "metadata": {},
      "source": [
        "### Ejercicio 7: Longitud de una Tupla\n",
        "\n",
        "Encuentra la longitud de una tupla."
      ]
    },
    {
      "cell_type": "code",
      "execution_count": null,
      "id": "4e592919",
      "metadata": {},
      "outputs": [],
      "source": [
        "# Ejercicio\n",
        "longitud = len(tupla1)  # 5"
      ]
    },
    {
      "cell_type": "markdown",
      "id": "596a9e58",
      "metadata": {},
      "source": [
        "### Ejercicio 8: M\u00e1ximo y M\u00ednimo de una Tupla\n",
        "\n",
        "Encuentra el valor m\u00e1ximo y m\u00ednimo en una tupla de n\u00fameros."
      ]
    },
    {
      "cell_type": "code",
      "execution_count": null,
      "id": "192bc851",
      "metadata": {},
      "outputs": [],
      "source": [
        "# Ejercicio\n",
        "maximo = max(tupla1)  # 5\n",
        "minimo = min(tupla1)  # 1"
      ]
    },
    {
      "cell_type": "markdown",
      "id": "569b0f5c",
      "metadata": {},
      "source": [
        "### Ejercicio 9: Tupla a Lista\n",
        "\n",
        "Convierte una tupla en una lista."
      ]
    },
    {
      "cell_type": "code",
      "execution_count": null,
      "id": "2ad58262",
      "metadata": {},
      "outputs": [],
      "source": [
        "# Ejercicio\n",
        "lista_desde_tupla = list(tupla1)"
      ]
    },
    {
      "cell_type": "markdown",
      "id": "387ad53c",
      "metadata": {},
      "source": [
        "### Ejercicio 10: \u00daltimo Elemento de una Tupla\n",
        "\n",
        "Accede al \u00faltimo elemento de una tupla."
      ]
    },
    {
      "cell_type": "code",
      "execution_count": null,
      "id": "6d32665d",
      "metadata": {},
      "outputs": [],
      "source": [
        "# Ejercicio\n",
        "ultimo_elemento = tupla1[-1]  # 5"
      ]
    },
    {
      "cell_type": "markdown",
      "id": "f9212c4b",
      "metadata": {},
      "source": [
        "### Ejercicio 11: Suma de Elementos de Tupla\n",
        "\n",
        "Calcula la suma de todos los elementos en una tupla."
      ]
    },
    {
      "cell_type": "code",
      "execution_count": null,
      "id": "c2d51981",
      "metadata": {},
      "outputs": [],
      "source": [
        "# Ejercicio\n",
        "suma_tupla = sum(tupla1)  # 15"
      ]
    },
    {
      "cell_type": "markdown",
      "id": "2483a1e4",
      "metadata": {},
      "source": [
        "### Ejercicio 12: Convertir Lista en Tupla\n",
        "\n",
        "Convierte una lista en una tupla."
      ]
    },
    {
      "cell_type": "code",
      "execution_count": null,
      "id": "26672be1",
      "metadata": {},
      "outputs": [],
      "source": [
        "# Ejercicio\n",
        "lista = [1, 2, 3]\n",
        "tupla_desde_lista = tuple(lista)"
      ]
    },
    {
      "cell_type": "markdown",
      "id": "a5e4429a",
      "metadata": {},
      "source": [
        "### Ejercicio 13: Tupla de Tuplas\n",
        "\n",
        "Crea una tupla de tuplas."
      ]
    },
    {
      "cell_type": "code",
      "execution_count": null,
      "id": "f1ea6ac6",
      "metadata": {},
      "outputs": [],
      "source": [
        "# Ejercicio\n",
        "tupla_tuplas = ((1, 2), (3, 4), (5, 6))"
      ]
    },
    {
      "cell_type": "markdown",
      "id": "5132c4d7",
      "metadata": {},
      "source": [
        "### Ejercicio 14: Index de un Elemento\n",
        "\n",
        "Encuentra el \u00edndice de un elemento en una tupla."
      ]
    },
    {
      "cell_type": "code",
      "execution_count": null,
      "id": "2fbe54e9",
      "metadata": {},
      "outputs": [],
      "source": [
        "# Ejercicio\n",
        "indice = tupla1.index(3)  # 2"
      ]
    },
    {
      "cell_type": "markdown",
      "id": "3729056a",
      "metadata": {},
      "source": [
        "### Ejercicio 15: Desempaquetado de Tuplas\n",
        "\n",
        "Desempaqueta los siguientes valores de una tupla en variables."
      ]
    },
    {
      "cell_type": "code",
      "execution_count": null,
      "id": "ae75e93a",
      "metadata": {},
      "outputs": [],
      "source": [
        "# Ejercicio\n",
        "tupla3 = (1, \"Hola\", True)\n",
        "a, b, c = tupla3  # a = 1, b = \"Hola\", c = True"
      ]
    },
    {
      "cell_type": "markdown",
      "id": "c64c0f60",
      "metadata": {},
      "source": [
        "### Ejercicio 16: Tupla de Caracteres a String\n",
        "\n",
        "Convierte una tupla de caracteres en un string."
      ]
    },
    {
      "cell_type": "code",
      "execution_count": null,
      "id": "53c8b2cd",
      "metadata": {},
      "outputs": [],
      "source": [
        "# Ejercicio\n",
        "tupla_caracteres = ('P', 'y', 't', 'h', 'o', 'n')\n",
        "string = ''.join(tupla_caracteres)  # \"Python\""
      ]
    },
    {
      "cell_type": "markdown",
      "id": "16a4ca6e",
      "metadata": {},
      "source": [
        "### Ejercicio 17: Elemento M\u00e1ximo en Tupla de Tuplas\n",
        "\n",
        "Encuentra el valor m\u00e1ximo en cada tupla interna de una tupla de tuplas."
      ]
    },
    {
      "cell_type": "code",
      "execution_count": null,
      "id": "e4609be2",
      "metadata": {},
      "outputs": [],
      "source": [
        "# Ejercicio\n",
        "maximos = [max(t) for t in tupla_tuplas]  # [2, 4, 6]"
      ]
    },
    {
      "cell_type": "markdown",
      "id": "47402261",
      "metadata": {},
      "source": [
        "### Ejercicio 18: Combinar Tuplas en una Lista de Tuplas\n",
        "\n",
        "Combina dos tuplas en una lista de tuplas."
      ]
    },
    {
      "cell_type": "code",
      "execution_count": null,
      "id": "80010ab0",
      "metadata": {},
      "outputs": [],
      "source": [
        "# Ejercicio\n",
        "tupla4 = (1, 2, 3)\n",
        "tupla5 = (4, 5, 6)\n",
        "tuplas_combinadas = list(zip(tupla4, tupla5))  # [(1, 4), (2, 5), (3, 6)]"
      ]
    },
    {
      "cell_type": "markdown",
      "id": "aa30a3a5",
      "metadata": {},
      "source": [
        "### Ejercicio 19: Crear una Tupla con Rango\n",
        "\n",
        "Crea una tupla utilizando la funci\u00f3n `range()`."
      ]
    },
    {
      "cell_type": "code",
      "execution_count": null,
      "id": "86e8d08d",
      "metadata": {},
      "outputs": [],
      "source": [
        "# Ejercicio\n",
        "tupla_rango = tuple(range(5))  # (0, 1, 2, 3, 4)"
      ]
    },
    {
      "cell_type": "markdown",
      "id": "bbea2735",
      "metadata": {},
      "source": [
        "### Ejercicio 20: Contar Elementos en Tupla\n",
        "\n",
        "Cuenta cu\u00e1ntas veces aparece el n\u00famero 1 en una tupla."
      ]
    },
    {
      "cell_type": "code",
      "execution_count": null,
      "id": "f7db7398",
      "metadata": {},
      "outputs": [],
      "source": [
        "# Ejercicio\n",
        "tupla6 = (1, 2, 1, 1, 3)\n",
        "conteo_1 = tupla6.count(1)  # 3"
      ]
    },
    {
      "cell_type": "markdown",
      "id": "475ea874",
      "metadata": {},
      "source": [
        "Estos ejercicios cubren una variedad de operaciones fundamentales y avanzadas con tuplas en Python, ayudando a profundizar la comprensi\u00f3n de esta estructura de datos inmutable y vers\u00e1til."
      ]
    }
  ],
  "metadata": {},
  "nbformat": 4,
  "nbformat_minor": 5
}