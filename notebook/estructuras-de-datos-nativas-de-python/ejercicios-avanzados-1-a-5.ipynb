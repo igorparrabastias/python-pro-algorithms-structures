{
 "cells": [
  {
   "cell_type": "markdown",
   "id": "505ba247",
   "metadata": {},
   "source": [
    "# Ejercicios Avanzados 1 a 5\n",
    "\n",
    "### Ejercicio 1: Conjunto de Todos los Subconjuntos (Potencia de un Conjunto)\n",
    "\n",
    "Dado un conjunto, genera un nuevo conjunto que contenga todos los posibles subconjuntos (el conjunto de potencia)."
   ]
  },
  {
   "cell_type": "code",
   "execution_count": null,
   "id": "e45228cc",
   "metadata": {},
   "outputs": [],
   "source": [
    "# Ejercicio\n",
    "mi_conjunto = {1, 2, 3}\n",
    "conjunto_potencia = {frozenset(subconjunto) for i in range(len(mi_conjunto) + 1) for subconjunto in combinations(mi_conjunto, i)}\n",
    "\n",
    "# Solución\n",
    "# conjunto_potencia = {frozenset(), frozenset({1}), frozenset({2}), frozenset({3}), frozenset({1, 2}), frozenset({1, 3}), frozenset({2, 3}), frozenset({1, 2, 3})}\n"
   ]
  },
  {
   "cell_type": "markdown",
   "id": "05adc2dc",
   "metadata": {},
   "source": [
    "### Ejercicio 2: Diferencias Sucesivas en una Lista de Conjuntos\n",
    "\n",
    "Dada una lista de conjuntos, realiza la diferencia sucesiva de izquierda a derecha entre ellos."
   ]
  },
  {
   "cell_type": "code",
   "execution_count": null,
   "id": "0df06926",
   "metadata": {},
   "outputs": [],
   "source": [
    "# Ejercicio\n",
    "lista_conjuntos = [{1, 2, 3}, {2, 3, 4}, {3, 4, 5}]\n",
    "diferencia_sucesiva = set(lista_conjuntos[0])\n",
    "for s in lista_conjuntos[1:]:\n",
    "    diferencia_sucesiva -= s\n",
    "\n",
    "# Solución\n",
    "# diferencia_sucesiva = {1}\n"
   ]
  },
  {
   "cell_type": "markdown",
   "id": "d95aa7fc",
   "metadata": {},
   "source": [
    "### Ejercicio 3: Filtrar Elementos No Únicos entre Varios Conjuntos\n",
    "\n",
    "Dada una lista de conjuntos, crea un conjunto que contenga solo los elementos que son únicos en todos los conjuntos."
   ]
  },
  {
   "cell_type": "code",
   "execution_count": null,
   "id": "acd0b7f1",
   "metadata": {},
   "outputs": [],
   "source": [
    "# Ejercicio\n",
    "lista_conjuntos = [{1, 2}, {2, 3, 4}, {4, 5, 6}]\n",
    "elementos_unicos = set().union(*lista_conjuntos) - set(x for s in lista_conjuntos for x in s if any(x in otro for otro in lista_conjuntos if otro != s))\n",
    "\n",
    "# Solución\n",
    "# elementos_unicos = {1, 3, 5, 6}\n"
   ]
  },
  {
   "cell_type": "markdown",
   "id": "a1511d5d",
   "metadata": {},
   "source": [
    "### Ejercicio 4: Intersección de Listas de Conjuntos\n",
    "\n",
    "Dadas dos listas de conjuntos, encuentra todos los pares de conjuntos (uno de cada lista) que tienen al menos un elemento en común."
   ]
  },
  {
   "cell_type": "code",
   "execution_count": null,
   "id": "48e9327e",
   "metadata": {},
   "outputs": [],
   "source": [
    "# Ejercicio\n",
    "lista_a = [{1, 2}, {3, 4}, {5}]\n",
    "lista_b = [{2, 3}, {4, 5}, {6}]\n",
    "pares_interseccion = [(a, b) for a in lista_a for b in lista_b if a.intersection(b)]\n",
    "\n",
    "# Solución\n",
    "# pares_interseccion = [({1, 2}, {2, 3}), ({3, 4}, {2, 3}), ({3, 4}, {4, 5}), ({5}, {4, 5})]\n"
   ]
  },
  {
   "cell_type": "markdown",
   "id": "f8bbfa18",
   "metadata": {},
   "source": [
    "### Ejercicio 5: Conjunto con Elementos de Máxima Frecuencia\n",
    "\n",
    "Dada una lista de elementos, crea un conjunto con los elementos que aparecen con mayor frecuencia en la lista."
   ]
  },
  {
   "cell_type": "code",
   "execution_count": null,
   "id": "806247b1",
   "metadata": {},
   "outputs": [],
   "source": [
    "# Ejercicio\n",
    "lista = [1, 2, 2, 3, 3, 3, 4, 4, 4, 4]\n",
    "frecuencias = Counter(lista)\n",
    "max_frecuencia = max(frecuencias.values())\n",
    "conjunto_max_frecuencia = {x for x, frec in frecuencias.items() if frec == max_frecuencia}\n",
    "\n",
    "# Solución\n",
    "# conjunto_max_frecuencia = {4}\n"
   ]
  },
  {
   "cell_type": "markdown",
   "id": "5a4d3d31",
   "metadata": {},
   "source": [
    "Estos ejercicios avanzados ponen a prueba tus habilidades de manejo de conjuntos en Python, abordando problemas complejos que requieren pensamiento lógico y aplicaciones innovadoras de los conjuntos. Practicar con estos problemas te ayudará a ganar una comprensión más profunda de cómo los conjuntos pueden ser utilizados en escenarios de programación desafiantes."
   ]
  }
 ],
 "metadata": {},
 "nbformat": 4,
 "nbformat_minor": 5
}
