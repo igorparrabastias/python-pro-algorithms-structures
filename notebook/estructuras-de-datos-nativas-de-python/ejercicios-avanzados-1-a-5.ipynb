{
  "cells": [
    {
      "attachments": {},
      "cell_type": "markdown",
      "id": "e006686f",
      "metadata": {},
      "source": [
        "# Ejercicios avanzados 1 a 5\n",
        "\n",
        "### Ejercicio 1: Invertir el Orden de las Palabras en una Cadena\n",
        "\n",
        "Dada una cadena, invierte el orden de las palabras."
      ]
    },
    {
      "cell_type": "code",
      "execution_count": 1,
      "id": "213ab4d5",
      "metadata": {},
      "outputs": [],
      "source": [
        "# Ejercicio\n",
        "cadena = \"Bienvenidos al curso de Python\"\n",
        "invertida = ' '.join(cadena.split()[::-1])\n",
        "\n",
        "# Solución\n",
        "# invertida = \"Python de curso al Bienvenidos\""
      ]
    },
    {
      "attachments": {},
      "cell_type": "markdown",
      "id": "d64bb922",
      "metadata": {},
      "source": [
        "### Ejercicio 2: Verificar Palíndromos\n",
        "\n",
        "Escribe una función que verifique si una cadena es un palíndromo."
      ]
    },
    {
      "cell_type": "code",
      "execution_count": 2,
      "id": "9f3defaa",
      "metadata": {},
      "outputs": [],
      "source": [
        "# Ejercicio\n",
        "def es_palindromo(cadena):\n",
        "    cadena_limpia = ''.join(e for e in cadena if e.isalnum()).lower()\n",
        "    return cadena_limpia == cadena_limpia[::-1]\n",
        "\n",
        "# Solución\n",
        "# es_palindromo(\"Anita lava la tina\")  # True"
      ]
    },
    {
      "attachments": {},
      "cell_type": "markdown",
      "id": "cf60519d",
      "metadata": {},
      "source": [
        "### Ejercicio 3: Contar la Frecuencia de Cada Carácter\n",
        "\n",
        "Dada una cadena, cuenta la frecuencia de cada carácter."
      ]
    },
    {
      "cell_type": "code",
      "execution_count": 3,
      "id": "53fabf4c",
      "metadata": {},
      "outputs": [],
      "source": [
        "# Ejercicio\n",
        "cadena = \"frecuencia de caracteres\"\n",
        "frecuencia = {char: cadena.count(char) for char in set(cadena)}\n",
        "\n",
        "# Solución\n",
        "# frecuencia = {'a': 4, 'c': 4, 'e': 6, 'f': 1, 'n': 1, 'd': 1, 'i': 1, 'r': 3, 'u': 1, 's': 1, ' ': 2, 't': 1}"
      ]
    },
    {
      "attachments": {},
      "cell_type": "markdown",
      "id": "d846c8d1",
      "metadata": {},
      "source": [
        "### Ejercicio 4: Cadena con Mayor Longitud en una Lista\n",
        "\n",
        "Dada una lista de cadenas, encuentra la cadena con la mayor longitud."
      ]
    },
    {
      "cell_type": "code",
      "execution_count": 4,
      "id": "9247c525",
      "metadata": {},
      "outputs": [],
      "source": [
        "# Ejercicio\n",
        "lista_cadenas = [\"Python\", \"Java\", \"C++\", \"Javascript\"]\n",
        "cadena_mas_larga = max(lista_cadenas, key=len)\n",
        "\n",
        "# Solución\n",
        "# cadena_mas_larga = \"Javascript\""
      ]
    },
    {
      "attachments": {},
      "cell_type": "markdown",
      "id": "c38d882a",
      "metadata": {},
      "source": [
        "### Ejercicio 5: Formateo de Cadenas con Diccionario\n",
        "\n",
        "Dada una cadena con placeholders y un diccionario, reemplaza los placeholders con los valores del diccionario."
      ]
    },
    {
      "cell_type": "code",
      "execution_count": 5,
      "id": "0b8c0873",
      "metadata": {},
      "outputs": [],
      "source": [
        "# Ejercicio\n",
        "cadena = \"Hola, mi nombre es {nombre} y vivo en {ciudad}.\"\n",
        "valores = {\"nombre\": \"Ana\", \"ciudad\": \"Madrid\"}\n",
        "cadena_formateada = cadena.format(**valores)\n",
        "\n",
        "# Solución\n",
        "# cadena_formateada = \"Hola, mi nombre es Ana y vivo en Madrid.\""
      ]
    },
    {
      "attachments": {},
      "cell_type": "markdown",
      "id": "f915a77f",
      "metadata": {},
      "source": [
        "Estos ejercicios avanzados de cadenas en Python desafían tus habilidades de programación, abordando desde algoritmos clásicos hasta manipulaciones complejas de cadenas. Practicar con estos ejercicios te ayudará a profundizar tu comprensión y manejo de las cadenas en Python, una habilidad esencial en la programación moderna."
      ]
    }
  ],
  "metadata": {
    "kernelspec": {
      "display_name": "Python 3",
      "language": "python",
      "name": "python3"
    },
    "language_info": {
      "codemirror_mode": {
        "name": "ipython",
        "version": 3
      },
      "file_extension": ".py",
      "mimetype": "text/x-python",
      "name": "python",
      "nbconvert_exporter": "python",
      "pygments_lexer": "ipython3",
      "version": "3.8.10"
    }
  },
  "nbformat": 4,
  "nbformat_minor": 5
}
