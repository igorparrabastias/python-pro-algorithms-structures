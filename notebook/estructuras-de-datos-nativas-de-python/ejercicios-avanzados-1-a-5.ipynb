{
  "cells": [
    {
      "cell_type": "markdown",
      "id": "e006686f",
      "metadata": {},
      "source": [
        "# Ejercicios avanzados 1 a 5\n",
        "\n",
        "### Ejercicio 1: Invertir el Orden de las Palabras en una Cadena\n",
        "\n",
        "Dada una cadena, invierte el orden de las palabras."
      ]
    },
    {
      "cell_type": "code",
      "execution_count": null,
      "id": "213ab4d5",
      "metadata": {},
      "outputs": [],
      "source": [
        "# Ejercicio\n",
        "cadena = \"Bienvenidos al curso de Python\"\n",
        "invertida = ' '.join(cadena.split()[::-1])\n",
        "\n",
        "# Soluci\u00f3n\n",
        "# invertida = \"Python de curso al Bienvenidos\""
      ]
    },
    {
      "cell_type": "markdown",
      "id": "d64bb922",
      "metadata": {},
      "source": [
        "### Ejercicio 2: Verificar Pal\u00edndromos\n",
        "\n",
        "Escribe una funci\u00f3n que verifique si una cadena es un pal\u00edndromo."
      ]
    },
    {
      "cell_type": "code",
      "execution_count": null,
      "id": "9f3defaa",
      "metadata": {},
      "outputs": [],
      "source": [
        "# Ejercicio\n",
        "def es_palindromo(cadena):\n",
        "    cadena_limpia = ''.join(e for e in cadena if e.isalnum()).lower()\n",
        "    return cadena_limpia == cadena_limpia[::-1]\n",
        "\n",
        "# Soluci\u00f3n\n",
        "# es_palindromo(\"Anita lava la tina\")  # True"
      ]
    },
    {
      "cell_type": "markdown",
      "id": "cf60519d",
      "metadata": {},
      "source": [
        "### Ejercicio 3: Contar la Frecuencia de Cada Car\u00e1cter\n",
        "\n",
        "Dada una cadena, cuenta la frecuencia de cada car\u00e1cter."
      ]
    },
    {
      "cell_type": "code",
      "execution_count": null,
      "id": "53fabf4c",
      "metadata": {},
      "outputs": [],
      "source": [
        "# Ejercicio\n",
        "cadena = \"frecuencia de caracteres\"\n",
        "frecuencia = {char: cadena.count(char) for char in set(cadena)}\n",
        "\n",
        "# Soluci\u00f3n\n",
        "# frecuencia = {'a': 4, 'c': 4, 'e': 6, 'f': 1, 'n': 1, 'd': 1, 'i': 1, 'r': 3, 'u': 1, 's': 1, ' ': 2, 't': 1}"
      ]
    },
    {
      "cell_type": "markdown",
      "id": "d846c8d1",
      "metadata": {},
      "source": [
        "### Ejercicio 4: Cadena con Mayor Longitud en una Lista\n",
        "\n",
        "Dada una lista de cadenas, encuentra la cadena con la mayor longitud."
      ]
    },
    {
      "cell_type": "code",
      "execution_count": null,
      "id": "9247c525",
      "metadata": {},
      "outputs": [],
      "source": [
        "# Ejercicio\n",
        "lista_cadenas = [\"Python\", \"Java\", \"C++\", \"Javascript\"]\n",
        "cadena_mas_larga = max(lista_cadenas, key=len)\n",
        "\n",
        "# Soluci\u00f3n\n",
        "# cadena_mas_larga = \"Javascript\""
      ]
    },
    {
      "cell_type": "markdown",
      "id": "c38d882a",
      "metadata": {},
      "source": [
        "### Ejercicio 5: Formateo de Cadenas con Diccionario\n",
        "\n",
        "Dada una cadena con placeholders y un diccionario, reemplaza los placeholders con los valores del diccionario."
      ]
    },
    {
      "cell_type": "code",
      "execution_count": null,
      "id": "0b8c0873",
      "metadata": {},
      "outputs": [],
      "source": [
        "# Ejercicio\n",
        "cadena = \"Hola, mi nombre es {nombre} y vivo en {ciudad}.\"\n",
        "valores = {\"nombre\": \"Ana\", \"ciudad\": \"Madrid\"}\n",
        "cadena_formateada = cadena.format(**valores)\n",
        "\n",
        "# Soluci\u00f3n\n",
        "# cadena_formateada = \"Hola, mi nombre es Ana y vivo en Madrid.\""
      ]
    },
    {
      "cell_type": "markdown",
      "id": "f915a77f",
      "metadata": {},
      "source": [
        "Estos ejercicios avanzados de cadenas en Python desaf\u00edan tus habilidades de programaci\u00f3n, abordando desde algoritmos cl\u00e1sicos hasta manipulaciones complejas de cadenas. Practicar con estos ejercicios te ayudar\u00e1 a profundizar tu comprensi\u00f3n y manejo de las cadenas en Python, una habilidad esencial en la programaci\u00f3n moderna."
      ]
    }
  ],
  "metadata": {},
  "nbformat": 4,
  "nbformat_minor": 5
}