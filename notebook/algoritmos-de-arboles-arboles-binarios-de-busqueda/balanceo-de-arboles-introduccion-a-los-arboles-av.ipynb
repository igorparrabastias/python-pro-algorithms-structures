{
  "cells": [
    {
      "cell_type": "markdown",
      "id": "48ba4036",
      "metadata": {},
      "source": [
        "# Balanceo de \u00c1rboles: Introducci\u00f3n a los \u00c1rboles AV\n",
        "\n",
        "### Introducci\u00f3n\n",
        "\n",
        "El balanceo de \u00e1rboles es crucial para mantener las operaciones de b\u00fasqueda, inserci\u00f3n y eliminaci\u00f3n eficientes en estructuras de datos basadas en \u00e1rboles. Los \u00c1rboles AVL, nombrados por sus inventores Adelson-Velsky y Landis, son \u00e1rboles binarios de b\u00fasqueda autobalanceados donde la diferencia de altura entre los sub\u00e1rboles izquierdo y derecho de cualquier nodo es como m\u00e1ximo uno. Esta propiedad asegura que los \u00e1rboles se mantengan relativamente balanceados, optimizando el rendimiento de las operaciones.\n",
        "\n",
        "### Estructura de un \u00c1rbol AVL\n",
        "\n",
        "Cada nodo en un \u00c1rbol AVL almacena un factor de equilibrio, que es la diferencia entre la altura de su sub\u00e1rbol izquierdo y la altura de su sub\u00e1rbol derecho. Este factor puede ser -1, 0, o +1 para un \u00e1rbol balanceado. La estructura de cada nodo, por lo tanto, incluye su valor, enlaces a los nodos hijo izquierdo y derecho, y un valor adicional para el factor de equilibrio.\n",
        "\n",
        "### Operaciones B\u00e1sicas en \u00c1rboles AVL\n",
        "\n",
        "- **Inserci\u00f3n:** La inserci\u00f3n en un \u00c1rbol AVL sigue el procedimiento de inserci\u00f3n en un ABB normal, pero despu\u00e9s de insertar un nuevo nodo, el \u00e1rbol se rebalancea autom\u00e1ticamente mediante rotaciones si es necesario.\n",
        "- **Eliminaci\u00f3n:** Similar a la inserci\u00f3n, despu\u00e9s de eliminar un nodo, el \u00e1rbol se rebalancea para mantener su propiedad de balanceo.\n",
        "- **B\u00fasqueda:** La b\u00fasqueda en un \u00c1rbol AVL es id\u00e9ntica a la b\u00fasqueda en cualquier ABB, con la ventaja de que el \u00e1rbol est\u00e1 balanceado, lo que mejora el tiempo de b\u00fasqueda.\n",
        "\n",
        "### Implementaci\u00f3n en Python\n",
        "\n",
        "### Definici\u00f3n de la Clase Nodo"
      ]
    },
    {
      "cell_type": "code",
      "execution_count": null,
      "id": "d9230e9d",
      "metadata": {},
      "outputs": [],
      "source": [
        "class NodoAVL:\n",
        "    def __init__(self, valor):\n",
        "        self.valor = valor\n",
        "        self.izquierda = None\n",
        "        self.derecha = None\n",
        "        self.altura = 1  # Nueva propiedad para almacenar la altura del nodo"
      ]
    },
    {
      "cell_type": "markdown",
      "id": "48d42fe1",
      "metadata": {},
      "source": [
        "### Inserci\u00f3n\n",
        "\n",
        "La inserci\u00f3n requiere calcular la altura y el factor de equilibrio despu\u00e9s de cada inserci\u00f3n para decidir si es necesario realizar alguna rotaci\u00f3n para rebalancear el \u00e1rbol."
      ]
    },
    {
      "cell_type": "code",
      "execution_count": null,
      "id": "3ba55e1a",
      "metadata": {},
      "outputs": [],
      "source": [
        "def insertar(raiz, valor):\n",
        "    if not raiz:\n",
        "        return NodoAVL(valor)\n",
        "    elif valor < raiz.valor:\n",
        "        raiz.izquierda = insertar(raiz.izquierda, valor)\n",
        "    else:\n",
        "        raiz.derecha = insertar(raiz.derecha, valor)\n",
        "\n",
        "    raiz.altura = 1 + max(obtener_altura(raiz.izquierda), obtener_altura(raiz.derecha))\n",
        "    balance = obtener_balance(raiz)\n",
        "\n",
        "    # Casos de desbalance\n",
        "    # Izquierda Izquierda\n",
        "    if balance > 1 and valor < raiz.izquierda.valor:\n",
        "        return rotar_derecha(raiz)\n",
        "    # Derecha Derecha\n",
        "    if balance < -1 and valor > raiz.derecha.valor:\n",
        "        return rotar_izquierda(raiz)\n",
        "    # Izquierda Derecha\n",
        "    if balance > 1 and valor > raiz.izquierda.valor:\n",
        "        raiz.izquierda = rotar_izquierda(raiz.izquierda)\n",
        "        return rotar_derecha(raiz)\n",
        "    # Derecha Izquierda\n",
        "    if balance < -1 and valor < raiz.derecha.valor:\n",
        "        raiz.derecha = rotar_derecha(raiz.derecha)\n",
        "        return rotar_izquierda(raiz)\n",
        "\n",
        "    return raiz"
      ]
    },
    {
      "cell_type": "markdown",
      "id": "220ed2ea",
      "metadata": {},
      "source": [
        "Las funciones `obtener_altura`, `obtener_balance`, `rotar_izquierda` y `rotar_derecha` son auxiliares necesarias para implementar la l\u00f3gica de balanceo y rotaci\u00f3n.\n",
        "\n",
        "### Conclusi\u00f3n\n",
        "\n",
        "Los \u00c1rboles AVL son una herramienta poderosa para mantener las estructuras de datos balanceadas, asegurando que las operaciones de b\u00fasqueda, inserci\u00f3n y eliminaci\u00f3n se realicen en tiempo logar\u00edtmico. Comprender su implementaci\u00f3n y mantenimiento es esencial para cualquier desarrollador que trabaje con grandes vol\u00famenes de datos y requiera eficiencia en las operaciones de b\u00fasqueda y manipulaci\u00f3n de datos.\n",
        "\n",
        "### Ejercicios\n",
        "\n",
        "1. **Implementar Rotaciones:** Escribe las funciones `rotar_izquierda` y `rotar_derecha` para manejar los casos de desbalance en un \u00c1rbol AVL.\n",
        "2. **Calcular la Altura y el Balance:** Implementa las funciones `obtener_altura` y `obtener_balance` que se utilizan en el proceso de inserci\u00f3n para determinar si es necesario rebalancear el \u00e1rbol.\n",
        "3. **Eliminar un Nodo en un \u00c1rbol AVL:** Desarrolla la l\u00f3gica para eliminar un nodo en un \u00c1rbol AVL, asegur\u00e1ndote de rebalancear el \u00e1rbol si es necesario despu\u00e9s de la eliminaci\u00f3n.\n",
        "\n",
        "### Soluciones\n",
        "\n",
        "### Ejercicio 1: Implementar Rotaciones\n",
        "\n",
        "Las rotaciones son operaciones cr\u00edticas para mantener un \u00c1rbol AVL balanceado. Aqu\u00ed te muestro c\u00f3mo implementar las funciones de `rotar_izquierda` y `rotar_derecha`.\n",
        "\n",
        "### Rotar a la Derecha"
      ]
    },
    {
      "cell_type": "code",
      "execution_count": null,
      "id": "19d3550d",
      "metadata": {},
      "outputs": [],
      "source": [
        "def rotar_derecha(y):\n",
        "    x = y.izquierda\n",
        "    T2 = x.derecha\n",
        "\n",
        "    # Realizar rotaci\u00f3n\n",
        "    x.derecha = y\n",
        "    y.izquierda = T2\n",
        "\n",
        "    # Actualizar alturas\n",
        "    y.altura = 1 + max(obtener_altura(y.izquierda), obtener_altura(y.derecha))\n",
        "    x.altura = 1 + max(obtener_altura(x.izquierda), obtener_altura(x.derecha))\n",
        "\n",
        "    # Devolver la nueva ra\u00edz\n",
        "    return x"
      ]
    },
    {
      "cell_type": "markdown",
      "id": "fde62013",
      "metadata": {},
      "source": [
        "### Rotar a la Izquierda"
      ]
    },
    {
      "cell_type": "code",
      "execution_count": null,
      "id": "d8b2c052",
      "metadata": {},
      "outputs": [],
      "source": [
        "def rotar_izquierda(x):\n",
        "    y = x.derecha\n",
        "    T2 = y.izquierda\n",
        "\n",
        "    # Realizar rotaci\u00f3n\n",
        "    y.izquierda = x\n",
        "    x.derecha = T2\n",
        "\n",
        "    # Actualizar alturas\n",
        "    x.altura = 1 + max(obtener_altura(x.izquierda), obtener_altura(x.derecha))\n",
        "    y.altura = 1 + max(obtener_altura(y.izquierda), obtener_altura(y.derecha))\n",
        "\n",
        "    # Devolver la nueva ra\u00edz\n",
        "    return y"
      ]
    },
    {
      "cell_type": "markdown",
      "id": "ceb12378",
      "metadata": {},
      "source": [
        "### Ejercicio 2: Calcular la Altura y el Balance\n",
        "\n",
        "Para determinar si un \u00c1rbol AVL necesita ser rebalanceado despu\u00e9s de una inserci\u00f3n o eliminaci\u00f3n, necesitamos calcular la altura de los nodos y su factor de balance.\n",
        "\n",
        "### Obtener Altura"
      ]
    },
    {
      "cell_type": "code",
      "execution_count": null,
      "id": "5a54a236",
      "metadata": {},
      "outputs": [],
      "source": [
        "def obtener_altura(nodo):\n",
        "    if not nodo:\n",
        "        return 0\n",
        "    return nodo.altura"
      ]
    },
    {
      "cell_type": "markdown",
      "id": "3029250c",
      "metadata": {},
      "source": [
        "### Obtener Balance"
      ]
    },
    {
      "cell_type": "code",
      "execution_count": null,
      "id": "9416064f",
      "metadata": {},
      "outputs": [],
      "source": [
        "def obtener_balance(nodo):\n",
        "    if not nodo:\n",
        "        return 0\n",
        "    return obtener_altura(nodo.izquierda) - obtener_altura(nodo.derecha)"
      ]
    },
    {
      "cell_type": "markdown",
      "id": "b8d750df",
      "metadata": {},
      "source": [
        "### Ejercicio 3: Eliminar un Nodo en un \u00c1rbol AVL\n",
        "\n",
        "Eliminar un nodo en un \u00c1rbol AVL es m\u00e1s complejo debido a la necesidad de mantener el \u00e1rbol balanceado."
      ]
    },
    {
      "cell_type": "code",
      "execution_count": null,
      "id": "40120348",
      "metadata": {},
      "outputs": [],
      "source": [
        "def eliminar(raiz, valor):\n",
        "    # Paso 1: Realizar la eliminaci\u00f3n est\u00e1ndar de ABB\n",
        "    if not raiz:\n",
        "        return raiz\n",
        "\n",
        "    if valor < raiz.valor:\n",
        "        raiz.izquierda = eliminar(raiz.izquierda, valor)\n",
        "    elif valor > raiz.valor:\n",
        "        raiz.derecha = eliminar(raiz.derecha, valor)\n",
        "    else:\n",
        "        if raiz.izquierda is None:\n",
        "            temp = raiz.derecha\n",
        "            raiz = None\n",
        "            return temp\n",
        "        elif raiz.derecha is None:\n",
        "            temp = raiz.izquierda\n",
        "            raiz = None\n",
        "            return temp\n",
        "        temp = minValueNode(raiz.derecha)\n",
        "        raiz.valor = temp.valor\n",
        "        raiz.derecha = eliminar(raiz.derecha, temp.valor)\n",
        "\n",
        "    # Paso 2: Actualizar la altura del nodo actual\n",
        "    raiz.altura = 1 + max(obtener_altura(raiz.izquierda), obtener_altura(raiz.derecha))\n",
        "\n",
        "    # Paso 3: Obtener el factor de balance del nodo actual\n",
        "    balance = obtener_balance(raiz)\n",
        "\n",
        "    # Paso 4: Balancear el \u00e1rbol si es necesario\n",
        "    # Caso Izquierda Izquierda\n",
        "    if balance > 1 and obtener_balance(raiz.izquierda) >= 0:\n",
        "        return rotar_derecha(raiz)\n",
        "\n",
        "    # Caso Izquierda Derecha\n",
        "    if balance > 1 and obtener_balance(raiz.izquierda) < 0:\n",
        "        raiz.izquierda = rotar_izquierda(raiz.izquierda)\n",
        "        return rotar_derecha(raiz)\n",
        "\n",
        "    # Caso Derecha Derecha\n",
        "    if balance < -1 and obtener_balance(raiz.derecha) <= 0:\n",
        "        return rotar_izquierda(raiz)\n",
        "\n",
        "    # Caso Derecha Izquierda\n",
        "    if balance < -1 and obtener_balance(raiz.derecha) > 0:\n",
        "        raiz.derecha = rotar_derecha(raiz.derecha)\n",
        "        return rotar_izquierda(raiz)\n",
        "\n",
        "    return raiz\n",
        "\n",
        "def minValueNode(nodo):\n",
        "    current = nodo\n",
        "    while current.izquierda is not None:\n",
        "        current = current.izquierda\n",
        "    return current"
      ]
    },
    {
      "cell_type": "markdown",
      "id": "4db97e0d",
      "metadata": {},
      "source": [
        "Espero que estas soluciones te sean \u00fatiles para comprender c\u00f3mo implementar y manejar \u00c1rboles AVL en Python. La clave para trabajar con \u00c1rboles AVL es mantener el \u00e1rbol balanceado despu\u00e9s de cada operaci\u00f3n de inserci\u00f3n y eliminaci\u00f3n, asegurando que las operaciones se mantengan eficientes."
      ]
    }
  ],
  "metadata": {},
  "nbformat": 4,
  "nbformat_minor": 5
}