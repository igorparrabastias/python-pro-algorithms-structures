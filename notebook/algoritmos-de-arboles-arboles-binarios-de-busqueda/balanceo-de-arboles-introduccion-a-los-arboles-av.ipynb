{
 "cells": [
  {
   "cell_type": "markdown",
   "id": "b71d63ee",
   "metadata": {},
   "source": [
    "# Balanceo de Árboles: Introducción a los Árboles AV\n",
    "\n",
    "### Introducción\n",
    "\n",
    "El balanceo de árboles es crucial para mantener las operaciones de búsqueda, inserción y eliminación eficientes en estructuras de datos basadas en árboles. Los Árboles AVL, nombrados por sus inventores Adelson-Velsky y Landis, son árboles binarios de búsqueda autobalanceados donde la diferencia de altura entre los subárboles izquierdo y derecho de cualquier nodo es como máximo uno. Esta propiedad asegura que los árboles se mantengan relativamente balanceados, optimizando el rendimiento de las operaciones.\n",
    "\n",
    "### Estructura de un Árbol AVL\n",
    "\n",
    "Cada nodo en un Árbol AVL almacena un factor de equilibrio, que es la diferencia entre la altura de su subárbol izquierdo y la altura de su subárbol derecho. Este factor puede ser -1, 0, o +1 para un árbol balanceado. La estructura de cada nodo, por lo tanto, incluye su valor, enlaces a los nodos hijo izquierdo y derecho, y un valor adicional para el factor de equilibrio.\n",
    "\n",
    "### Operaciones Básicas en Árboles AVL\n",
    "\n",
    "- **Inserción:** La inserción en un Árbol AVL sigue el procedimiento de inserción en un ABB normal, pero después de insertar un nuevo nodo, el árbol se rebalancea automáticamente mediante rotaciones si es necesario.\n",
    "- **Eliminación:** Similar a la inserción, después de eliminar un nodo, el árbol se rebalancea para mantener su propiedad de balanceo.\n",
    "- **Búsqueda:** La búsqueda en un Árbol AVL es idéntica a la búsqueda en cualquier ABB, con la ventaja de que el árbol está balanceado, lo que mejora el tiempo de búsqueda.\n",
    "\n",
    "### Implementación en Python\n",
    "\n",
    "### Definición de la Clase Nodo"
   ]
  },
  {
   "cell_type": "code",
   "execution_count": null,
   "id": "999b2dd9",
   "metadata": {},
   "outputs": [],
   "source": [
    "class NodoAVL:\n",
    "    def __init__(self, valor):\n",
    "        self.valor = valor\n",
    "        self.izquierda = None\n",
    "        self.derecha = None\n",
    "        self.altura = 1  # Nueva propiedad para almacenar la altura del nodo"
   ]
  },
  {
   "cell_type": "markdown",
   "id": "1850a314",
   "metadata": {},
   "source": [
    "### Inserción\n",
    "\n",
    "La inserción requiere calcular la altura y el factor de equilibrio después de cada inserción para decidir si es necesario realizar alguna rotación para rebalancear el árbol."
   ]
  },
  {
   "cell_type": "code",
   "execution_count": null,
   "id": "a6368a6a",
   "metadata": {},
   "outputs": [],
   "source": [
    "def insertar(raiz, valor):\n",
    "    if not raiz:\n",
    "        return NodoAVL(valor)\n",
    "    elif valor < raiz.valor:\n",
    "        raiz.izquierda = insertar(raiz.izquierda, valor)\n",
    "    else:\n",
    "        raiz.derecha = insertar(raiz.derecha, valor)\n",
    "\n",
    "    raiz.altura = 1 + max(obtener_altura(raiz.izquierda), obtener_altura(raiz.derecha))\n",
    "    balance = obtener_balance(raiz)\n",
    "\n",
    "    # Casos de desbalance\n",
    "    # Izquierda Izquierda\n",
    "    if balance > 1 and valor < raiz.izquierda.valor:\n",
    "        return rotar_derecha(raiz)\n",
    "    # Derecha Derecha\n",
    "    if balance < -1 and valor > raiz.derecha.valor:\n",
    "        return rotar_izquierda(raiz)\n",
    "    # Izquierda Derecha\n",
    "    if balance > 1 and valor > raiz.izquierda.valor:\n",
    "        raiz.izquierda = rotar_izquierda(raiz.izquierda)\n",
    "        return rotar_derecha(raiz)\n",
    "    # Derecha Izquierda\n",
    "    if balance < -1 and valor < raiz.derecha.valor:\n",
    "        raiz.derecha = rotar_derecha(raiz.derecha)\n",
    "        return rotar_izquierda(raiz)\n",
    "\n",
    "    return raiz"
   ]
  },
  {
   "cell_type": "markdown",
   "id": "548bf0e8",
   "metadata": {},
   "source": [
    "Las funciones `obtener_altura`, `obtener_balance`, `rotar_izquierda` y `rotar_derecha` son auxiliares necesarias para implementar la lógica de balanceo y rotación.\n",
    "\n",
    "### Conclusión\n",
    "\n",
    "Los Árboles AVL son una herramienta poderosa para mantener las estructuras de datos balanceadas, asegurando que las operaciones de búsqueda, inserción y eliminación se realicen en tiempo logarítmico. Comprender su implementación y mantenimiento es esencial para cualquier desarrollador que trabaje con grandes volúmenes de datos y requiera eficiencia en las operaciones de búsqueda y manipulación de datos.\n",
    "\n",
    "### Ejercicios\n",
    "\n",
    "1. **Implementar Rotaciones:** Escribe las funciones `rotar_izquierda` y `rotar_derecha` para manejar los casos de desbalance en un Árbol AVL.\n",
    "2. **Calcular la Altura y el Balance:** Implementa las funciones `obtener_altura` y `obtener_balance` que se utilizan en el proceso de inserción para determinar si es necesario rebalancear el árbol.\n",
    "3. **Eliminar un Nodo en un Árbol AVL:** Desarrolla la lógica para eliminar un nodo en un Árbol AVL, asegurándote de rebalancear el árbol si es necesario después de la eliminación.\n",
    "\n",
    "### Soluciones\n",
    "\n",
    "### Ejercicio 1: Implementar Rotaciones\n",
    "\n",
    "Las rotaciones son operaciones críticas para mantener un Árbol AVL balanceado. Aquí te muestro cómo implementar las funciones de `rotar_izquierda` y `rotar_derecha`.\n",
    "\n",
    "### Rotar a la Derecha"
   ]
  },
  {
   "cell_type": "code",
   "execution_count": null,
   "id": "8650f989",
   "metadata": {},
   "outputs": [],
   "source": [
    "def rotar_derecha(y):\n",
    "    x = y.izquierda\n",
    "    T2 = x.derecha\n",
    "\n",
    "    # Realizar rotación\n",
    "    x.derecha = y\n",
    "    y.izquierda = T2\n",
    "\n",
    "    # Actualizar alturas\n",
    "    y.altura = 1 + max(obtener_altura(y.izquierda), obtener_altura(y.derecha))\n",
    "    x.altura = 1 + max(obtener_altura(x.izquierda), obtener_altura(x.derecha))\n",
    "\n",
    "    # Devolver la nueva raíz\n",
    "    return x\n"
   ]
  },
  {
   "cell_type": "markdown",
   "id": "52f56f4c",
   "metadata": {},
   "source": [
    "### Rotar a la Izquierda"
   ]
  },
  {
   "cell_type": "code",
   "execution_count": null,
   "id": "c07d1ab3",
   "metadata": {},
   "outputs": [],
   "source": [
    "def rotar_izquierda(x):\n",
    "    y = x.derecha\n",
    "    T2 = y.izquierda\n",
    "\n",
    "    # Realizar rotación\n",
    "    y.izquierda = x\n",
    "    x.derecha = T2\n",
    "\n",
    "    # Actualizar alturas\n",
    "    x.altura = 1 + max(obtener_altura(x.izquierda), obtener_altura(x.derecha))\n",
    "    y.altura = 1 + max(obtener_altura(y.izquierda), obtener_altura(y.derecha))\n",
    "\n",
    "    # Devolver la nueva raíz\n",
    "    return y\n"
   ]
  },
  {
   "cell_type": "markdown",
   "id": "1a8f05c7",
   "metadata": {},
   "source": [
    "### Ejercicio 2: Calcular la Altura y el Balance\n",
    "\n",
    "Para determinar si un Árbol AVL necesita ser rebalanceado después de una inserción o eliminación, necesitamos calcular la altura de los nodos y su factor de balance.\n",
    "\n",
    "### Obtener Altura"
   ]
  },
  {
   "cell_type": "code",
   "execution_count": null,
   "id": "e1779a70",
   "metadata": {},
   "outputs": [],
   "source": [
    "def obtener_altura(nodo):\n",
    "    if not nodo:\n",
    "        return 0\n",
    "    return nodo.altura\n"
   ]
  },
  {
   "cell_type": "markdown",
   "id": "bf762567",
   "metadata": {},
   "source": [
    "### Obtener Balance"
   ]
  },
  {
   "cell_type": "code",
   "execution_count": null,
   "id": "fa6e0d56",
   "metadata": {},
   "outputs": [],
   "source": [
    "def obtener_balance(nodo):\n",
    "    if not nodo:\n",
    "        return 0\n",
    "    return obtener_altura(nodo.izquierda) - obtener_altura(nodo.derecha)\n"
   ]
  },
  {
   "cell_type": "markdown",
   "id": "492ddb8c",
   "metadata": {},
   "source": [
    "### Ejercicio 3: Eliminar un Nodo en un Árbol AVL\n",
    "\n",
    "Eliminar un nodo en un Árbol AVL es más complejo debido a la necesidad de mantener el árbol balanceado."
   ]
  },
  {
   "cell_type": "code",
   "execution_count": null,
   "id": "e429264f",
   "metadata": {},
   "outputs": [],
   "source": [
    "def eliminar(raiz, valor):\n",
    "    # Paso 1: Realizar la eliminación estándar de ABB\n",
    "    if not raiz:\n",
    "        return raiz\n",
    "\n",
    "    if valor < raiz.valor:\n",
    "        raiz.izquierda = eliminar(raiz.izquierda, valor)\n",
    "    elif valor > raiz.valor:\n",
    "        raiz.derecha = eliminar(raiz.derecha, valor)\n",
    "    else:\n",
    "        if raiz.izquierda is None:\n",
    "            temp = raiz.derecha\n",
    "            raiz = None\n",
    "            return temp\n",
    "        elif raiz.derecha is None:\n",
    "            temp = raiz.izquierda\n",
    "            raiz = None\n",
    "            return temp\n",
    "        temp = minValueNode(raiz.derecha)\n",
    "        raiz.valor = temp.valor\n",
    "        raiz.derecha = eliminar(raiz.derecha, temp.valor)\n",
    "\n",
    "    # Paso 2: Actualizar la altura del nodo actual\n",
    "    raiz.altura = 1 + max(obtener_altura(raiz.izquierda), obtener_altura(raiz.derecha))\n",
    "\n",
    "    # Paso 3: Obtener el factor de balance del nodo actual\n",
    "    balance = obtener_balance(raiz)\n",
    "\n",
    "    # Paso 4: Balancear el árbol si es necesario\n",
    "    # Caso Izquierda Izquierda\n",
    "    if balance > 1 and obtener_balance(raiz.izquierda) >= 0:\n",
    "        return rotar_derecha(raiz)\n",
    "\n",
    "    # Caso Izquierda Derecha\n",
    "    if balance > 1 and obtener_balance(raiz.izquierda) < 0:\n",
    "        raiz.izquierda = rotar_izquierda(raiz.izquierda)\n",
    "        return rotar_derecha(raiz)\n",
    "\n",
    "    # Caso Derecha Derecha\n",
    "    if balance < -1 and obtener_balance(raiz.derecha) <= 0:\n",
    "        return rotar_izquierda(raiz)\n",
    "\n",
    "    # Caso Derecha Izquierda\n",
    "    if balance < -1 and obtener_balance(raiz.derecha) > 0:\n",
    "        raiz.derecha = rotar_derecha(raiz.derecha)\n",
    "        return rotar_izquierda(raiz)\n",
    "\n",
    "    return raiz\n",
    "\n",
    "def minValueNode(nodo):\n",
    "    current = nodo\n",
    "    while current.izquierda is not None:\n",
    "        current = current.izquierda\n",
    "    return current\n"
   ]
  },
  {
   "cell_type": "markdown",
   "id": "c3b76464",
   "metadata": {},
   "source": [
    "Espero que estas soluciones te sean útiles para comprender cómo implementar y manejar Árboles AVL en Python. La clave para trabajar con Árboles AVL es mantener el árbol balanceado después de cada operación de inserción y eliminación, asegurando que las operaciones se mantengan eficientes."
   ]
  }
 ],
 "metadata": {},
 "nbformat": 4,
 "nbformat_minor": 5
}
