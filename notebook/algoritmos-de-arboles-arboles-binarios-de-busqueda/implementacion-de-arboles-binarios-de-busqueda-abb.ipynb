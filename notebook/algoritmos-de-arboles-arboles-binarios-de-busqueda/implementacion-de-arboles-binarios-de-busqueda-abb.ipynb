{
  "cells": [
    {
      "attachments": {},
      "cell_type": "markdown",
      "id": "faa0afe9",
      "metadata": {},
      "source": [
        "# Implementación de Árboles Binarios de Búsqueda (ABB)\n",
        "\n",
        "### Introducción\n",
        "\n",
        "Los Árboles Binarios de Búsqueda (ABB) son una de las estructuras de datos más eficientes para la gestión de grandes conjuntos de datos ordenados. Permiten realizar operaciones de búsqueda, inserción y eliminación en tiempo logarítmico, en promedio, lo cual es significativamente más rápido que las operaciones lineales en listas o arrays. En esta clase, nos centraremos en cómo se implementan los ABB, explorando la lógica detrás de sus operaciones fundamentales.\n",
        "\n",
        "### Estructura de un ABB\n",
        "\n",
        "Un ABB es un árbol binario en el que cada nodo tiene un valor único y cumple con dos propiedades principales:\n",
        "\n",
        "- Todos los valores en el subárbol izquierdo de un nodo son menores que el valor del nodo.\n",
        "- Todos los valores en el subárbol derecho de un nodo son mayores que el valor del nodo.\n",
        "\n",
        "### Implementación en Python\n",
        "\n",
        "### Definición de la Clase Nodo\n",
        "\n",
        "Primero definimos una clase simple para los nodos del árbol, que contendrá el valor del nodo y enlaces a los nodos hijo izquierdo y derecho."
      ]
    },
    {
      "cell_type": "code",
      "execution_count": 1,
      "id": "c07d2d88",
      "metadata": {},
      "outputs": [],
      "source": [
        "class Nodo:\n",
        "    def __init__(self, valor):\n",
        "        self.valor = valor\n",
        "        self.izquierda = None\n",
        "        self.derecha = None"
      ]
    },
    {
      "attachments": {},
      "cell_type": "markdown",
      "id": "adaef0a2",
      "metadata": {},
      "source": [
        "### Inserción\n",
        "\n",
        "La inserción comienza desde la raíz y se mueve hacia abajo para encontrar el lugar correcto para el nuevo valor, manteniendo las propiedades del ABB."
      ]
    },
    {
      "cell_type": "code",
      "execution_count": 2,
      "id": "ddb43d2c",
      "metadata": {},
      "outputs": [],
      "source": [
        "def insertar(raiz, valor):\n",
        "    if raiz is None:\n",
        "        return Nodo(valor)\n",
        "    else:\n",
        "        if valor < raiz.valor:\n",
        "            raiz.izquierda = insertar(raiz.izquierda, valor)\n",
        "        else:\n",
        "            raiz.derecha = insertar(raiz.derecha, valor)\n",
        "    return raiz"
      ]
    },
    {
      "attachments": {},
      "cell_type": "markdown",
      "id": "1962f81f",
      "metadata": {},
      "source": [
        "### Búsqueda\n",
        "\n",
        "La búsqueda verifica el valor en cada nodo y se desplaza hacia la izquierda o derecha según sea necesario."
      ]
    },
    {
      "cell_type": "code",
      "execution_count": 3,
      "id": "2178002e",
      "metadata": {},
      "outputs": [],
      "source": [
        "def buscar(raiz, valor):\n",
        "    if raiz is None or raiz.valor == valor:\n",
        "        return raiz\n",
        "    if valor < raiz.valor:\n",
        "        return buscar(raiz.izquierda, valor)\n",
        "    else:\n",
        "        return buscar(raiz.derecha, valor)"
      ]
    },
    {
      "attachments": {},
      "cell_type": "markdown",
      "id": "316c2400",
      "metadata": {},
      "source": [
        "### Eliminación\n",
        "\n",
        "La eliminación puede ser más compleja, especialmente cuando se elimina un nodo con dos hijos. En este caso, se suele reemplazar el nodo a eliminar por su sucesor inorden (el nodo más pequeño en su subárbol derecho)."
      ]
    },
    {
      "cell_type": "code",
      "execution_count": 4,
      "id": "fb2342c8",
      "metadata": {},
      "outputs": [],
      "source": [
        "def eliminar(raiz, valor):\n",
        "    if raiz is None:\n",
        "        return raiz\n",
        "    if valor < raiz.valor:\n",
        "        raiz.izquierda = eliminar(raiz.izquierda, valor)\n",
        "    elif valor > raiz.valor:\n",
        "        raiz.derecha = eliminar(raiz.derecha, valor)\n",
        "    else:\n",
        "        if raiz.izquierda is None:\n",
        "            temp = raiz.derecha\n",
        "            raiz = None\n",
        "            return temp\n",
        "        elif raiz.derecha is None:\n",
        "            temp = raiz.izquierda\n",
        "            raiz = None\n",
        "            return temp\n",
        "        temp = minValueNode(raiz.derecha)\n",
        "        raiz.valor = temp.valor\n",
        "        raiz.derecha = eliminar(raiz.derecha, temp.valor)\n",
        "    return raiz\n",
        "\n",
        "def minValueNode(node):\n",
        "    current = node\n",
        "    while current.izquierda is not None:\n",
        "        current = current.izquierda\n",
        "    return current"
      ]
    },
    {
      "attachments": {},
      "cell_type": "markdown",
      "id": "c417a0fa",
      "metadata": {},
      "source": [
        "### Conclusión\n",
        "\n",
        "Los ABB son herramientas poderosas para manejar datos ordenados, ofreciendo operaciones eficientes para la inserción, búsqueda y eliminación de elementos. A través de la implementación y comprensión de estas estructuras, los programadores pueden manejar grandes volúmenes de datos de manera efectiva, optimizando el rendimiento de las aplicaciones. En clases futuras, exploraremos estructuras de datos más avanzadas y algoritmos que se construyen sobre los fundamentos de los ABB.\n",
        "\n",
        "### Ejercicios\n",
        "\n",
        "1. **Implementar un ABB y realizar inserciones:** Crea un ABB e inserta varios valores. Luego, imprime el árbol en orden para verificar que los valores estén correctamente ordenados.\n",
        "2. **Buscar un valor en el ABB:** Implementa una función de búsqueda y úsala para encontrar varios valores, tanto presentes como ausentes en el árbol.\n",
        "3. **Eliminar nodos del ABB:** Prueba la función de eliminación con casos que involucren la eliminación de nodos sin hijos, con un hijo y con dos hijos. Verifica que el árbol mantenga sus propiedades después de cada eliminación.\n",
        "4. **Altura del Árbol:** Escribe una función que calcule la altura de tu ABB y discute cómo la inserción y eliminación de nodos afecta la altura del árbol.\n",
        "\n",
        "### Soluciones\n",
        "\n",
        "### Ejercicio 1: Implementar un ABB y realizar inserciones\n",
        "\n",
        "Para este ejercicio, utilizaremos la función `insertar` definida anteriormente para crear un árbol binario de búsqueda y luego insertaremos varios valores. Finalmente, realizaremos un recorrido inorden para imprimir los valores y verificar su correcta inserción."
      ]
    },
    {
      "cell_type": "code",
      "execution_count": 5,
      "id": "9b2081b4",
      "metadata": {},
      "outputs": [
        {
          "name": "stdout",
          "output_type": "stream",
          "text": [
            "5 10 15 20 25 30 35 "
          ]
        }
      ],
      "source": [
        "# Suponiendo que las funciones de insertar y la clase Nodo ya están definidas.\n",
        "\n",
        "# Crear el ABB e insertar valores\n",
        "raiz = None\n",
        "valores = [20, 10, 30, 5, 15, 25, 35]\n",
        "for valor in valores:\n",
        "    raiz = insertar(raiz, valor)\n",
        "\n",
        "# Función para imprimir el árbol en orden (inorden)\n",
        "def imprimir_inorden(raiz):\n",
        "    if raiz:\n",
        "        imprimir_inorden(raiz.izquierda)\n",
        "        print(raiz.valor, end=' ')\n",
        "        imprimir_inorden(raiz.derecha)\n",
        "\n",
        "# Imprimir el ABB en orden\n",
        "imprimir_inorden(raiz)"
      ]
    },
    {
      "attachments": {},
      "cell_type": "markdown",
      "id": "4fb77372",
      "metadata": {},
      "source": [
        "### Ejercicio 2: Buscar un valor en el ABB\n",
        "\n",
        "Usando la función `buscar`, podemos buscar varios valores en el ABB. Ejemplo de cómo buscar un valor presente y uno ausente en el árbol:"
      ]
    },
    {
      "cell_type": "code",
      "execution_count": 6,
      "id": "6844e0bb",
      "metadata": {},
      "outputs": [
        {
          "name": "stdout",
          "output_type": "stream",
          "text": [
            "Valor 15 encontrado.\n",
            "Valor 40 no encontrado.\n"
          ]
        }
      ],
      "source": [
        "# Suponiendo que la función buscar ya está definida.\n",
        "\n",
        "# Buscar un valor presente\n",
        "valor_a_buscar = 15\n",
        "resultado = buscar(raiz, valor_a_buscar)\n",
        "if resultado:\n",
        "    print(f\"Valor {valor_a_buscar} encontrado.\")\n",
        "else:\n",
        "    print(f\"Valor {valor_a_buscar} no encontrado.\")\n",
        "\n",
        "# Buscar un valor ausente\n",
        "valor_a_buscar = 40\n",
        "resultado = buscar(raiz, valor_a_buscar)\n",
        "if resultado:\n",
        "    print(f\"Valor {valor_a_buscar} encontrado.\")\n",
        "else:\n",
        "    print(f\"Valor {valor_a_buscar} no encontrado.\")"
      ]
    },
    {
      "attachments": {},
      "cell_type": "markdown",
      "id": "e54f746b",
      "metadata": {},
      "source": [
        "### Ejercicio 3: Eliminar nodos del ABB\n",
        "\n",
        "Después de implementar la función `eliminar`, puedes probarla eliminando nodos en diferentes escenarios:"
      ]
    },
    {
      "cell_type": "code",
      "execution_count": 7,
      "id": "72246ef9",
      "metadata": {},
      "outputs": [
        {
          "name": "stdout",
          "output_type": "stream",
          "text": [
            "10 15 20 25 30 35 \n",
            "10 15 20 25 35 \n",
            "10 15 25 35 \n"
          ]
        }
      ],
      "source": [
        "# Suponiendo que la función eliminar ya está definida.\n",
        "\n",
        "# Eliminar un nodo sin hijos\n",
        "raiz = eliminar(raiz, 5)\n",
        "imprimir_inorden(raiz)\n",
        "print()\n",
        "\n",
        "# Eliminar un nodo con un hijo\n",
        "raiz = eliminar(raiz, 30)\n",
        "imprimir_inorden(raiz)\n",
        "print()\n",
        "\n",
        "# Eliminar un nodo con dos hijos\n",
        "raiz = eliminar(raiz, 20)\n",
        "imprimir_inorden(raiz)\n",
        "print()"
      ]
    },
    {
      "attachments": {},
      "cell_type": "markdown",
      "id": "bddbf068",
      "metadata": {},
      "source": [
        "### Ejercicio 4: Altura del Árbol\n",
        "\n",
        "Para calcular la altura de un ABB, puedes usar la siguiente función:"
      ]
    },
    {
      "cell_type": "code",
      "execution_count": 8,
      "id": "68f4c6a0",
      "metadata": {},
      "outputs": [
        {
          "name": "stdout",
          "output_type": "stream",
          "text": [
            "La altura del árbol es: 3\n"
          ]
        }
      ],
      "source": [
        "def altura(raiz):\n",
        "    if raiz is None:\n",
        "        return 0\n",
        "    else:\n",
        "        altura_izquierda = altura(raiz.izquierda)\n",
        "        altura_derecha = altura(raiz.derecha)\n",
        "        return 1 + max(altura_izquierda, altura_derecha)\n",
        "\n",
        "# Calcular y mostrar la altura del árbol\n",
        "print(f\"La altura del árbol es: {altura(raiz)}\")"
      ]
    },
    {
      "attachments": {},
      "cell_type": "markdown",
      "id": "e69ec6c1",
      "metadata": {},
      "source": [
        "Estos ejercicios y sus soluciones son fundamentales para entender la implementación y manipulación de árboles binarios de búsqueda, proporcionando una base sólida para trabajar con estas estructuras de datos."
      ]
    }
  ],
  "metadata": {
    "kernelspec": {
      "display_name": "Python 3",
      "language": "python",
      "name": "python3"
    },
    "language_info": {
      "codemirror_mode": {
        "name": "ipython",
        "version": 3
      },
      "file_extension": ".py",
      "mimetype": "text/x-python",
      "name": "python",
      "nbconvert_exporter": "python",
      "pygments_lexer": "ipython3",
      "version": "3.8.10"
    }
  },
  "nbformat": 4,
  "nbformat_minor": 5
}
