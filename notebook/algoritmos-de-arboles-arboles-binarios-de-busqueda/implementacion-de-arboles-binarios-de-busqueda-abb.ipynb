{
  "cells": [
    {
      "cell_type": "markdown",
      "id": "ff7de8c8",
      "metadata": {},
      "source": [
        "# Implementaci\u00f3n de \u00c1rboles Binarios de B\u00fasqueda (ABB)\n",
        "\n",
        "### Introducci\u00f3n\n",
        "\n",
        "Los \u00c1rboles Binarios de B\u00fasqueda (ABB) son una de las estructuras de datos m\u00e1s eficientes para la gesti\u00f3n de grandes conjuntos de datos ordenados. Permiten realizar operaciones de b\u00fasqueda, inserci\u00f3n y eliminaci\u00f3n en tiempo logar\u00edtmico, en promedio, lo cual es significativamente m\u00e1s r\u00e1pido que las operaciones lineales en listas o arrays. En esta clase, nos centraremos en c\u00f3mo se implementan los ABB, explorando la l\u00f3gica detr\u00e1s de sus operaciones fundamentales.\n",
        "\n",
        "### Estructura de un ABB\n",
        "\n",
        "Un ABB es un \u00e1rbol binario en el que cada nodo tiene un valor \u00fanico y cumple con dos propiedades principales:\n",
        "\n",
        "- Todos los valores en el sub\u00e1rbol izquierdo de un nodo son menores que el valor del nodo.\n",
        "- Todos los valores en el sub\u00e1rbol derecho de un nodo son mayores que el valor del nodo.\n",
        "\n",
        "### Implementaci\u00f3n en Python\n",
        "\n",
        "### Definici\u00f3n de la Clase Nodo\n",
        "\n",
        "Primero definimos una clase simple para los nodos del \u00e1rbol, que contendr\u00e1 el valor del nodo y enlaces a los nodos hijo izquierdo y derecho."
      ]
    },
    {
      "cell_type": "code",
      "execution_count": null,
      "id": "81400a7f",
      "metadata": {},
      "outputs": [],
      "source": [
        "class Nodo:\n",
        "    def __init__(self, valor):\n",
        "        self.valor = valor\n",
        "        self.izquierda = None\n",
        "        self.derecha = None"
      ]
    },
    {
      "cell_type": "markdown",
      "id": "8d5aee66",
      "metadata": {},
      "source": [
        "### Inserci\u00f3n\n",
        "\n",
        "La inserci\u00f3n comienza desde la ra\u00edz y se mueve hacia abajo para encontrar el lugar correcto para el nuevo valor, manteniendo las propiedades del ABB."
      ]
    },
    {
      "cell_type": "code",
      "execution_count": null,
      "id": "d64d3832",
      "metadata": {},
      "outputs": [],
      "source": [
        "def insertar(raiz, valor):\n",
        "    if raiz is None:\n",
        "        return Nodo(valor)\n",
        "    else:\n",
        "        if valor < raiz.valor:\n",
        "            raiz.izquierda = insertar(raiz.izquierda, valor)\n",
        "        else:\n",
        "            raiz.derecha = insertar(raiz.derecha, valor)\n",
        "    return raiz"
      ]
    },
    {
      "cell_type": "markdown",
      "id": "79b29f43",
      "metadata": {},
      "source": [
        "### B\u00fasqueda\n",
        "\n",
        "La b\u00fasqueda verifica el valor en cada nodo y se desplaza hacia la izquierda o derecha seg\u00fan sea necesario."
      ]
    },
    {
      "cell_type": "code",
      "execution_count": null,
      "id": "23164bf0",
      "metadata": {},
      "outputs": [],
      "source": [
        "def buscar(raiz, valor):\n",
        "    if raiz is None or raiz.valor == valor:\n",
        "        return raiz\n",
        "    if valor < raiz.valor:\n",
        "        return buscar(raiz.izquierda, valor)\n",
        "    else:\n",
        "        return buscar(raiz.derecha, valor)"
      ]
    },
    {
      "cell_type": "markdown",
      "id": "669b12be",
      "metadata": {},
      "source": [
        "### Eliminaci\u00f3n\n",
        "\n",
        "La eliminaci\u00f3n puede ser m\u00e1s compleja, especialmente cuando se elimina un nodo con dos hijos. En este caso, se suele reemplazar el nodo a eliminar por su sucesor inorden (el nodo m\u00e1s peque\u00f1o en su sub\u00e1rbol derecho)."
      ]
    },
    {
      "cell_type": "code",
      "execution_count": null,
      "id": "22f921ac",
      "metadata": {},
      "outputs": [],
      "source": [
        "def eliminar(raiz, valor):\n",
        "    if raiz is None:\n",
        "        return raiz\n",
        "    if valor < raiz.valor:\n",
        "        raiz.izquierda = eliminar(raiz.izquierda, valor)\n",
        "    elif valor > raiz.valor:\n",
        "        raiz.derecha = eliminar(raiz.derecha, valor)\n",
        "    else:\n",
        "        if raiz.izquierda is None:\n",
        "            temp = raiz.derecha\n",
        "            raiz = None\n",
        "            return temp\n",
        "        elif raiz.derecha is None:\n",
        "            temp = raiz.izquierda\n",
        "            raiz = None\n",
        "            return temp\n",
        "        temp = minValueNode(raiz.derecha)\n",
        "        raiz.valor = temp.valor\n",
        "        raiz.derecha = eliminar(raiz.derecha, temp.valor)\n",
        "    return raiz\n",
        "\n",
        "def minValueNode(node):\n",
        "    current = node\n",
        "    while current.izquierda is not None:\n",
        "        current = current.izquierda\n",
        "    return current"
      ]
    },
    {
      "cell_type": "markdown",
      "id": "d5a6efdc",
      "metadata": {},
      "source": [
        "### Conclusi\u00f3n\n",
        "\n",
        "Los ABB son herramientas poderosas para manejar datos ordenados, ofreciendo operaciones eficientes para la inserci\u00f3n, b\u00fasqueda y eliminaci\u00f3n de elementos. A trav\u00e9s de la implementaci\u00f3n y comprensi\u00f3n de estas estructuras, los programadores pueden manejar grandes vol\u00famenes de datos de manera efectiva, optimizando el rendimiento de las aplicaciones. En clases futuras, exploraremos estructuras de datos m\u00e1s avanzadas y algoritmos que se construyen sobre los fundamentos de los ABB.\n",
        "\n",
        "### Ejercicios\n",
        "\n",
        "1. **Implementar un ABB y realizar inserciones:** Crea un ABB e inserta varios valores. Luego, imprime el \u00e1rbol en orden para verificar que los valores est\u00e9n correctamente ordenados.\n",
        "2. **Buscar un valor en el ABB:** Implementa una funci\u00f3n de b\u00fasqueda y \u00fasala para encontrar varios valores, tanto presentes como ausentes en el \u00e1rbol.\n",
        "3. **Eliminar nodos del ABB:** Prueba la funci\u00f3n de eliminaci\u00f3n con casos que involucren la eliminaci\u00f3n de nodos sin hijos, con un hijo y con dos hijos. Verifica que el \u00e1rbol mantenga sus propiedades despu\u00e9s de cada eliminaci\u00f3n.\n",
        "4. **Altura del \u00c1rbol:** Escribe una funci\u00f3n que calcule la altura de tu ABB y discute c\u00f3mo la inserci\u00f3n y eliminaci\u00f3n de nodos afecta la altura del \u00e1rbol.\n",
        "\n",
        "### Soluciones\n",
        "\n",
        "### Ejercicio 1: Implementar un ABB y realizar inserciones\n",
        "\n",
        "Para este ejercicio, utilizaremos la funci\u00f3n `insertar` definida anteriormente para crear un \u00e1rbol binario de b\u00fasqueda y luego insertaremos varios valores. Finalmente, realizaremos un recorrido inorden para imprimir los valores y verificar su correcta inserci\u00f3n."
      ]
    },
    {
      "cell_type": "code",
      "execution_count": null,
      "id": "766cdf07",
      "metadata": {},
      "outputs": [],
      "source": [
        "# Suponiendo que las funciones de insertar y la clase Nodo ya est\u00e1n definidas.\n",
        "\n",
        "# Crear el ABB e insertar valores\n",
        "raiz = None\n",
        "valores = [20, 10, 30, 5, 15, 25, 35]\n",
        "for valor in valores:\n",
        "    raiz = insertar(raiz, valor)\n",
        "\n",
        "# Funci\u00f3n para imprimir el \u00e1rbol en orden (inorden)\n",
        "def imprimir_inorden(raiz):\n",
        "    if raiz:\n",
        "        imprimir_inorden(raiz.izquierda)\n",
        "        print(raiz.valor, end=' ')\n",
        "        imprimir_inorden(raiz.derecha)\n",
        "\n",
        "# Imprimir el ABB en orden\n",
        "imprimir_inorden(raiz)"
      ]
    },
    {
      "cell_type": "markdown",
      "id": "8bf18a83",
      "metadata": {},
      "source": [
        "### Ejercicio 2: Buscar un valor en el ABB\n",
        "\n",
        "Usando la funci\u00f3n `buscar`, podemos buscar varios valores en el ABB. Ejemplo de c\u00f3mo buscar un valor presente y uno ausente en el \u00e1rbol:"
      ]
    },
    {
      "cell_type": "code",
      "execution_count": null,
      "id": "a67f69ac",
      "metadata": {},
      "outputs": [],
      "source": [
        "# Suponiendo que la funci\u00f3n buscar ya est\u00e1 definida.\n",
        "\n",
        "# Buscar un valor presente\n",
        "valor_a_buscar = 15\n",
        "resultado = buscar(raiz, valor_a_buscar)\n",
        "if resultado:\n",
        "    print(f\"Valor {valor_a_buscar} encontrado.\")\n",
        "else:\n",
        "    print(f\"Valor {valor_a_buscar} no encontrado.\")\n",
        "\n",
        "# Buscar un valor ausente\n",
        "valor_a_buscar = 40\n",
        "resultado = buscar(raiz, valor_a_buscar)\n",
        "if resultado:\n",
        "    print(f\"Valor {valor_a_buscar} encontrado.\")\n",
        "else:\n",
        "    print(f\"Valor {valor_a_buscar} no encontrado.\")"
      ]
    },
    {
      "cell_type": "markdown",
      "id": "20715191",
      "metadata": {},
      "source": [
        "### Ejercicio 3: Eliminar nodos del ABB\n",
        "\n",
        "Despu\u00e9s de implementar la funci\u00f3n `eliminar`, puedes probarla eliminando nodos en diferentes escenarios:"
      ]
    },
    {
      "cell_type": "code",
      "execution_count": null,
      "id": "03858883",
      "metadata": {},
      "outputs": [],
      "source": [
        "# Suponiendo que la funci\u00f3n eliminar ya est\u00e1 definida.\n",
        "\n",
        "# Eliminar un nodo sin hijos\n",
        "raiz = eliminar(raiz, 5)\n",
        "imprimir_inorden(raiz)\n",
        "print()\n",
        "\n",
        "# Eliminar un nodo con un hijo\n",
        "raiz = eliminar(raiz, 30)\n",
        "imprimir_inorden(raiz)\n",
        "print()\n",
        "\n",
        "# Eliminar un nodo con dos hijos\n",
        "raiz = eliminar(raiz, 20)\n",
        "imprimir_inorden(raiz)\n",
        "print()"
      ]
    },
    {
      "cell_type": "markdown",
      "id": "3ef53998",
      "metadata": {},
      "source": [
        "### Ejercicio 4: Altura del \u00c1rbol\n",
        "\n",
        "Para calcular la altura de un ABB, puedes usar la siguiente funci\u00f3n:"
      ]
    },
    {
      "cell_type": "code",
      "execution_count": null,
      "id": "cd41f7b2",
      "metadata": {},
      "outputs": [],
      "source": [
        "def altura(raiz):\n",
        "    if raiz is None:\n",
        "        return 0\n",
        "    else:\n",
        "        altura_izquierda = altura(raiz.izquierda)\n",
        "        altura_derecha = altura(raiz.derecha)\n",
        "        return 1 + max(altura_izquierda, altura_derecha)\n",
        "\n",
        "# Calcular y mostrar la altura del \u00e1rbol\n",
        "print(f\"La altura del \u00e1rbol es: {altura(raiz)}\")"
      ]
    },
    {
      "cell_type": "markdown",
      "id": "c3d8bbfd",
      "metadata": {},
      "source": [
        "Estos ejercicios y sus soluciones son fundamentales para entender la implementaci\u00f3n y manipulaci\u00f3n de \u00e1rboles binarios de b\u00fasqueda, proporcionando una base s\u00f3lida para trabajar con estas estructuras de datos."
      ]
    }
  ],
  "metadata": {},
  "nbformat": 4,
  "nbformat_minor": 5
}