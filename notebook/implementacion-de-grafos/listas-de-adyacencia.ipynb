{
 "cells": [
  {
   "cell_type": "markdown",
   "id": "8e5bcc00",
   "metadata": {},
   "source": [
    "# Listas de Adyacencia\n",
    "\n",
    "La representación de un grafo mediante listas de adyacencia es una forma eficiente de almacenar grafos, especialmente cuando estos son dispersos (es decir, no todos los nodos están conectados entre sí). En este tipo de representación, para cada nodo del grafo mantenemos una lista de los nodos a los que está conectado.\n",
    "\n",
    "Veamos cómo implementar esto en Python:\n",
    "\n",
    "### Representación de Grafos con Listas de Adyacencia en Python\n",
    "\n",
    "**1. Definición de la Clase Grafo**"
   ]
  },
  {
   "cell_type": "code",
   "execution_count": null,
   "id": "fc44108e",
   "metadata": {},
   "outputs": [],
   "source": [
    "class Graph:\n",
    "    def __init__(self):\n",
    "        self.adjacency_list = {}\n",
    "\n",
    "    def add_vertex(self, vertex):\n",
    "        if vertex not in self.adjacency_list:\n",
    "            self.adjacency_list[vertex] = []\n",
    "\n",
    "    def add_edge(self, vertex1, vertex2):\n",
    "        # Asumiendo que es un grafo no dirigido\n",
    "        if vertex1 in self.adjacency_list and vertex2 in self.adjacency_list:\n",
    "            self.adjacency_list[vertex1].append(vertex2)\n",
    "            self.adjacency_list[vertex2].append(vertex1)\n",
    "        else:\n",
    "            print(\"Uno o ambos vértices no existen.\")\n",
    "\n",
    "    def remove_edge(self, vertex1, vertex2):\n",
    "        if vertex1 in self.adjacency_list and vertex2 in self.adjacency_list:\n",
    "            self.adjacency_list[vertex1].remove(vertex2)\n",
    "            self.adjacency_list[vertex2].remove(vertex1)\n",
    "\n",
    "    def remove_vertex(self, vertex):\n",
    "        while self.adjacency_list[vertex]:\n",
    "            adjacent_vertex = self.adjacency_list[vertex].pop()\n",
    "            self.adjacency_list[adjacent_vertex].remove(vertex)\n",
    "        del self.adjacency_list[vertex]\n",
    "\n",
    "    def display(self):\n",
    "        for vertex in self.adjacency_list:\n",
    "            print(vertex, ':', self.adjacency_list[vertex])\n"
   ]
  },
  {
   "cell_type": "markdown",
   "id": "26cfb451",
   "metadata": {},
   "source": [
    "**2. Uso de la Clase Grafo**"
   ]
  },
  {
   "cell_type": "code",
   "execution_count": null,
   "id": "e63d9848",
   "metadata": {},
   "outputs": [],
   "source": [
    "g = Graph()\n",
    "\n",
    "# Añadiendo vértices\n",
    "g.add_vertex('A')\n",
    "g.add_vertex('B')\n",
    "g.add_vertex('C')\n",
    "\n",
    "# Añadiendo aristas\n",
    "g.add_edge('A', 'B')\n",
    "g.add_edge('A', 'C')\n",
    "g.add_edge('B', 'C')\n",
    "\n",
    "# Mostrando el grafo\n",
    "g.display()\n",
    "\n",
    "# Eliminando una arista y un vértice\n",
    "g.remove_edge('A', 'B')\n",
    "g.remove_vertex('C')\n",
    "\n",
    "# Mostrando el grafo después de las eliminaciones\n",
    "g.display()\n"
   ]
  },
  {
   "cell_type": "markdown",
   "id": "fc0cbf46",
   "metadata": {},
   "source": [
    "En este ejemplo, la clase `Graph` usa un diccionario para almacenar las listas de adyacencia. Cada clave del diccionario es un vértice del grafo, y el valor asociado es una lista de los vértices a los que está conectado. Los métodos `add_vertex` y `add_edge` se utilizan para construir el grafo, mientras que `remove_edge` y `remove_vertex` permiten modificarlo. El método `display` es útil para visualizar el contenido del grafo.\n",
    "\n",
    "Esta implementación es para un grafo no dirigido. Para un grafo dirigido, deberías modificar el método `add_edge` para agregar la arista solo en la dirección deseada."
   ]
  }
 ],
 "metadata": {},
 "nbformat": 4,
 "nbformat_minor": 5
}
