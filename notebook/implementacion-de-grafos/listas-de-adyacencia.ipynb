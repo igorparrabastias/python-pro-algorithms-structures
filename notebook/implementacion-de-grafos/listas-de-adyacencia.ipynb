{
  "cells": [
    {
      "cell_type": "markdown",
      "id": "8e5bcc00",
      "metadata": {},
      "source": [
        "# Listas de Adyacencia\n",
        "\n",
        "La representaci\u00f3n de un grafo mediante listas de adyacencia es una forma eficiente de almacenar grafos, especialmente cuando estos son dispersos (es decir, no todos los nodos est\u00e1n conectados entre s\u00ed). En este tipo de representaci\u00f3n, para cada nodo del grafo mantenemos una lista de los nodos a los que est\u00e1 conectado.\n",
        "\n",
        "Veamos c\u00f3mo implementar esto en Python:\n",
        "\n",
        "### Representaci\u00f3n de Grafos con Listas de Adyacencia en Python\n",
        "\n",
        "**1. Definici\u00f3n de la Clase Grafo**"
      ]
    },
    {
      "cell_type": "code",
      "execution_count": null,
      "id": "fc44108e",
      "metadata": {},
      "outputs": [],
      "source": [
        "class Graph:\n",
        "    def __init__(self):\n",
        "        self.adjacency_list = {}\n",
        "\n",
        "    def add_vertex(self, vertex):\n",
        "        if vertex not in self.adjacency_list:\n",
        "            self.adjacency_list[vertex] = []\n",
        "\n",
        "    def add_edge(self, vertex1, vertex2):\n",
        "        # Asumiendo que es un grafo no dirigido\n",
        "        if vertex1 in self.adjacency_list and vertex2 in self.adjacency_list:\n",
        "            self.adjacency_list[vertex1].append(vertex2)\n",
        "            self.adjacency_list[vertex2].append(vertex1)\n",
        "        else:\n",
        "            print(\"Uno o ambos v\u00e9rtices no existen.\")\n",
        "\n",
        "    def remove_edge(self, vertex1, vertex2):\n",
        "        if vertex1 in self.adjacency_list and vertex2 in self.adjacency_list:\n",
        "            self.adjacency_list[vertex1].remove(vertex2)\n",
        "            self.adjacency_list[vertex2].remove(vertex1)\n",
        "\n",
        "    def remove_vertex(self, vertex):\n",
        "        while self.adjacency_list[vertex]:\n",
        "            adjacent_vertex = self.adjacency_list[vertex].pop()\n",
        "            self.adjacency_list[adjacent_vertex].remove(vertex)\n",
        "        del self.adjacency_list[vertex]\n",
        "\n",
        "    def display(self):\n",
        "        for vertex in self.adjacency_list:\n",
        "            print(vertex, ':', self.adjacency_list[vertex])"
      ]
    },
    {
      "cell_type": "markdown",
      "id": "26cfb451",
      "metadata": {},
      "source": [
        "**2. Uso de la Clase Grafo**"
      ]
    },
    {
      "cell_type": "code",
      "execution_count": null,
      "id": "e63d9848",
      "metadata": {},
      "outputs": [],
      "source": [
        "g = Graph()\n",
        "\n",
        "# A\u00f1adiendo v\u00e9rtices\n",
        "g.add_vertex('A')\n",
        "g.add_vertex('B')\n",
        "g.add_vertex('C')\n",
        "\n",
        "# A\u00f1adiendo aristas\n",
        "g.add_edge('A', 'B')\n",
        "g.add_edge('A', 'C')\n",
        "g.add_edge('B', 'C')\n",
        "\n",
        "# Mostrando el grafo\n",
        "g.display()\n",
        "\n",
        "# Eliminando una arista y un v\u00e9rtice\n",
        "g.remove_edge('A', 'B')\n",
        "g.remove_vertex('C')\n",
        "\n",
        "# Mostrando el grafo despu\u00e9s de las eliminaciones\n",
        "g.display()"
      ]
    },
    {
      "cell_type": "markdown",
      "id": "fc0cbf46",
      "metadata": {},
      "source": [
        "En este ejemplo, la clase `Graph` usa un diccionario para almacenar las listas de adyacencia. Cada clave del diccionario es un v\u00e9rtice del grafo, y el valor asociado es una lista de los v\u00e9rtices a los que est\u00e1 conectado. Los m\u00e9todos `add_vertex` y `add_edge` se utilizan para construir el grafo, mientras que `remove_edge` y `remove_vertex` permiten modificarlo. El m\u00e9todo `display` es \u00fatil para visualizar el contenido del grafo.\n",
        "\n",
        "Esta implementaci\u00f3n es para un grafo no dirigido. Para un grafo dirigido, deber\u00edas modificar el m\u00e9todo `add_edge` para agregar la arista solo en la direcci\u00f3n deseada."
      ]
    }
  ],
  "metadata": {},
  "nbformat": 4,
  "nbformat_minor": 5
}