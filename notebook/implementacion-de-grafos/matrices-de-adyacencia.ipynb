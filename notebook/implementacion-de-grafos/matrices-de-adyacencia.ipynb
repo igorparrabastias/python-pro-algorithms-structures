{
  "cells": [
    {
      "cell_type": "markdown",
      "id": "6c28f3cd",
      "metadata": {},
      "source": [
        "# Matrices de Adyacencia\n",
        "\n",
        "La representaci\u00f3n de un grafo mediante matrices de adyacencia es otra forma com\u00fan de almacenar informaci\u00f3n sobre las conexiones entre nodos en un grafo. En una matriz de adyacencia, cada fila y columna de la matriz representa un nodo del grafo, y el valor en la casilla (i, j) indica si existe una arista (o borde) entre los nodos i y j.\n",
        "\n",
        "Para grafos ponderados, el valor en la casilla (i, j) puede representar el peso de la arista. Si no hay una arista, el valor puede ser 0 o un valor especial que indique la ausencia de arista.\n",
        "\n",
        "A continuaci\u00f3n, te muestro c\u00f3mo implementar un grafo utilizando una matriz de adyacencia en Python:\n",
        "\n",
        "### Representaci\u00f3n de Grafos con Matrices de Adyacencia en Python\n",
        "\n",
        "**1. Definici\u00f3n de la Clase Grafo**"
      ]
    },
    {
      "cell_type": "code",
      "execution_count": null,
      "id": "e71b02e7",
      "metadata": {},
      "outputs": [],
      "source": [
        "class Graph:\n",
        "    def __init__(self, num_vertices):\n",
        "        self.num_vertices = num_vertices\n",
        "        self.adj_matrix = [[0] * num_vertices for _ in range(num_vertices)]\n",
        "\n",
        "    def add_edge(self, start_vertex, end_vertex, weight=1):\n",
        "        # Asumiendo que es un grafo no dirigido\n",
        "        if 0 <= start_vertex < self.num_vertices and 0 <= end_vertex < self.num_vertices:\n",
        "            self.adj_matrix[start_vertex][end_vertex] = weight\n",
        "            self.adj_matrix[end_vertex][start_vertex] = weight\n",
        "\n",
        "    def remove_edge(self, start_vertex, end_vertex):\n",
        "        if 0 <= start_vertex < self.num_vertices and 0 <= end_vertex < self.num_vertices:\n",
        "            self.adj_matrix[start_vertex][end_vertex] = 0\n",
        "            self.adj_matrix[end_vertex][start_vertex] = 0\n",
        "\n",
        "    def display(self):\n",
        "        for row in self.adj_matrix:\n",
        "            print(row)"
      ]
    },
    {
      "cell_type": "markdown",
      "id": "8eccb3b5",
      "metadata": {},
      "source": [
        "**2. Uso de la Clase Grafo**"
      ]
    },
    {
      "cell_type": "code",
      "execution_count": null,
      "id": "f38a2186",
      "metadata": {},
      "outputs": [],
      "source": [
        "# Crear un grafo con 4 v\u00e9rtices\n",
        "g = Graph(4)\n",
        "\n",
        "# A\u00f1adir aristas con pesos\n",
        "g.add_edge(0, 1, 2)\n",
        "g.add_edge(0, 2, 3)\n",
        "g.add_edge(1, 2, 1)\n",
        "g.add_edge(2, 3, 4)\n",
        "\n",
        "# Mostrar la matriz de adyacencia\n",
        "g.display()\n",
        "\n",
        "# Eliminar una arista\n",
        "g.remove_edge(1, 2)\n",
        "\n",
        "# Mostrar la matriz de adyacencia despu\u00e9s de la eliminaci\u00f3n\n",
        "g.display()"
      ]
    },
    {
      "cell_type": "markdown",
      "id": "720e31cb",
      "metadata": {},
      "source": [
        "En este ejemplo, la clase `Graph` utiliza una matriz bidimensional (`adj_matrix`) para representar el grafo. Cada fila y columna de la matriz representa un v\u00e9rtice, y los valores en la matriz indican la presencia de aristas y, opcionalmente, sus pesos.\n",
        "\n",
        "La funci\u00f3n `add_edge` se utiliza para agregar aristas entre v\u00e9rtices, y `remove_edge` se utiliza para eliminar aristas. El m\u00e9todo `display` permite visualizar la matriz de adyacencia para inspeccionar la estructura del grafo.\n",
        "\n",
        "Esta implementaci\u00f3n es para un grafo no dirigido. Para grafos dirigidos, la matriz de adyacencia es asim\u00e9trica, y las aristas solo se registran en una direcci\u00f3n. Tambi\u00e9n puedes adaptar esta implementaci\u00f3n para grafos ponderados asignando valores de peso apropiados en la matriz."
      ]
    }
  ],
  "metadata": {},
  "nbformat": 4,
  "nbformat_minor": 5
}