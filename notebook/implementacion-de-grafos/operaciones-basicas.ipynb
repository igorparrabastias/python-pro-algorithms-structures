{
  "cells": [
    {
      "cell_type": "markdown",
      "id": "c649c1a8",
      "metadata": {},
      "source": [
        "# Operaciones B\u00e1sicas\n",
        "\n",
        "Las operaciones b\u00e1sicas en un grafo incluyen agregar y eliminar nodos (v\u00e9rtices) y aristas (bordes). Tambi\u00e9n es importante poder verificar si dos nodos est\u00e1n conectados por una arista. A continuaci\u00f3n, te mostrar\u00e9 c\u00f3mo implementar estas operaciones en un grafo utilizando una matriz de adyacencia en Python:\n",
        "\n",
        "### Operaciones B\u00e1sicas en un Grafo con Matriz de Adyacencia\n",
        "\n",
        "**1. Agregar un Nodo (V\u00e9rtice)**"
      ]
    },
    {
      "cell_type": "code",
      "execution_count": null,
      "id": "f8c814a1",
      "metadata": {},
      "outputs": [],
      "source": [
        "def add_vertex(self):\n",
        "    \"\"\"\n",
        "    Agrega un nuevo nodo (v\u00e9rtice) al grafo.\n",
        "    \"\"\"\n",
        "    self.num_vertices += 1\n",
        "    # Agregar una nueva fila y columna a la matriz de adyacencia con valores iniciales en 0\n",
        "    for row in self.adj_matrix:\n",
        "        row.append(0)\n",
        "    self.adj_matrix.append([0] * self.num_vertices)"
      ]
    },
    {
      "cell_type": "markdown",
      "id": "b100081c",
      "metadata": {},
      "source": [
        "**2. Eliminar un Nodo (V\u00e9rtice)**"
      ]
    },
    {
      "cell_type": "code",
      "execution_count": null,
      "id": "9e065303",
      "metadata": {},
      "outputs": [],
      "source": [
        "def remove_vertex(self, vertex):\n",
        "    \"\"\"\n",
        "    Elimina un nodo (v\u00e9rtice) y todas sus aristas asociadas del grafo.\n",
        "    \"\"\"\n",
        "    if 0 <= vertex < self.num_vertices:\n",
        "        # Eliminar la fila correspondiente al v\u00e9rtice\n",
        "        del self.adj_matrix[vertex]\n",
        "        self.num_vertices -= 1\n",
        "        # Eliminar la columna correspondiente al v\u00e9rtice en todas las filas restantes\n",
        "        for row in self.adj_matrix:\n",
        "            del row[vertex]"
      ]
    },
    {
      "cell_type": "markdown",
      "id": "d55eb7d5",
      "metadata": {},
      "source": [
        "**3. Agregar una Arista (Borde)**"
      ]
    },
    {
      "cell_type": "code",
      "execution_count": null,
      "id": "05ae6c30",
      "metadata": {},
      "outputs": [],
      "source": [
        "def add_edge(self, start_vertex, end_vertex, weight=1):\n",
        "    \"\"\"\n",
        "    Agrega una arista (borde) entre dos nodos (v\u00e9rtices) con un peso opcional.\n",
        "    \"\"\"\n",
        "    if 0 <= start_vertex < self.num_vertices and 0 <= end_vertex < self.num_vertices:\n",
        "        self.adj_matrix[start_vertex][end_vertex] = weight\n",
        "        self.adj_matrix[end_vertex][start_vertex] = weight  # Si es un grafo no dirigido"
      ]
    },
    {
      "cell_type": "markdown",
      "id": "21a8251d",
      "metadata": {},
      "source": [
        "**4. Eliminar una Arista (Borde)**"
      ]
    },
    {
      "cell_type": "code",
      "execution_count": null,
      "id": "d0cc2876",
      "metadata": {},
      "outputs": [],
      "source": [
        "def remove_edge(self, start_vertex, end_vertex):\n",
        "    \"\"\"\n",
        "    Elimina una arista (borde) entre dos nodos (v\u00e9rtices).\n",
        "    \"\"\"\n",
        "    if 0 <= start_vertex < self.num_vertices and 0 <= end_vertex < self.num_vertices:\n",
        "        self.adj_matrix[start_vertex][end_vertex] = 0\n",
        "        self.adj_matrix[end_vertex][start_vertex] = 0  # Si es un grafo no dirigido"
      ]
    },
    {
      "cell_type": "markdown",
      "id": "6d456735",
      "metadata": {},
      "source": [
        "**5. Verificar Conexiones entre Nodos**"
      ]
    },
    {
      "cell_type": "code",
      "execution_count": null,
      "id": "20a22c81",
      "metadata": {},
      "outputs": [],
      "source": [
        "def are_connected(self, start_vertex, end_vertex):\n",
        "    \"\"\"\n",
        "    Verifica si dos nodos (v\u00e9rtices) est\u00e1n conectados por una arista.\n",
        "    \"\"\"\n",
        "    if 0 <= start_vertex < self.num_vertices and 0 <= end_vertex < self.num_vertices:\n",
        "        return self.adj_matrix[start_vertex][end_vertex] != 0\n",
        "    return False"
      ]
    },
    {
      "cell_type": "markdown",
      "id": "74c5744a",
      "metadata": {},
      "source": [
        "Estas son las operaciones b\u00e1sicas que puedes realizar en un grafo utilizando una matriz de adyacencia. Puedes adaptar estas funciones seg\u00fan tus necesidades espec\u00edficas. Es importante tener en cuenta que estas operaciones son para un grafo no dirigido; si trabajas con un grafo dirigido, la l\u00f3gica puede variar en algunos casos."
      ]
    }
  ],
  "metadata": {},
  "nbformat": 4,
  "nbformat_minor": 5
}