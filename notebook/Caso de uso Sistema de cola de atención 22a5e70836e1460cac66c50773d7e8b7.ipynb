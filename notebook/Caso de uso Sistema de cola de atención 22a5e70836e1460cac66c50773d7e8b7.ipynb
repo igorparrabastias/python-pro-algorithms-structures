{
 "cells": [
  {
   "cell_type": "markdown",
   "id": "4ea4a2d4",
   "metadata": {},
   "source": [
    "# Caso de uso: Sistema de cola de atención\n",
    "\n",
    "Otro caso de uso para heaps es la implementación de un sistema de cola de atención al cliente, donde los clientes con solicitudes más urgentes tienen prioridad sobre los que tienen solicitudes menos urgentes. Aquí se puede usar un Min-Heap para gestionar las solicitudes de manera eficiente, atendiendo primero a las más urgentes.\n",
    "\n",
    "Usaremos nuevamente el módulo `heapq` de Python:"
   ]
  },
  {
   "cell_type": "code",
   "execution_count": null,
   "id": "e34b065c",
   "metadata": {},
   "outputs": [],
   "source": [
    "import heapq\n",
    "\n",
    "# Cola de atención al cliente representada como un Min-Heap\n",
    "cola_cliente = []\n",
    "\n",
    "# Añadir solicitudes a la cola (prioridad, cliente)\n",
    "heapq.heappush(cola_cliente, (1, 'Cliente A - Urgente'))\n",
    "heapq.heappush(cola_cliente, (3, 'Cliente B - Normal'))\n",
    "heapq.heappush(cola_cliente, (2, 'Cliente C - Alta'))\n",
    "\n",
    "# Procesar solicitudes en orden de prioridad\n",
    "while cola_cliente:\n",
    "    prioridad, solicitud = heapq.heappop(cola_cliente)\n",
    "    print(f\"Atendiendo a: {solicitud} con prioridad {prioridad}\")\n"
   ]
  },
  {
   "cell_type": "markdown",
   "id": "527e5a91",
   "metadata": {},
   "source": [
    "Este código gestiona las solicitudes de atención al cliente según su urgencia, asegurando que las solicitudes más críticas se atiendan primero."
   ]
  }
 ],
 "metadata": {},
 "nbformat": 4,
 "nbformat_minor": 5
}
