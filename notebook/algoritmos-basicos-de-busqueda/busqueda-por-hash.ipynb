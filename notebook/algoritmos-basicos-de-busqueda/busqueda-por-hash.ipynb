{
 "cells": [
  {
   "cell_type": "markdown",
   "id": "d9ce39cf",
   "metadata": {},
   "source": [
    "# Búsqueda por Hash\n",
    "\n",
    "### Introducción:\n",
    "\n",
    "La búsqueda por hash es una técnica eficiente para encontrar rápidamente elementos dentro de un conjunto de datos, aprovechando una estructura conocida como tabla hash. Esta metodología se distingue por su capacidad de proporcionar tiempos de búsqueda muy rápidos, acercándose a O(1) en el mejor de los casos, lo cual es significativamente más eficiente que otras técnicas de búsqueda en escenarios adecuados.\n",
    "\n",
    "### Concepto de Búsqueda por Hash:\n",
    "\n",
    "La búsqueda por hash involucra el uso de una función hash que convierte las claves de búsqueda en índices de un arreglo, donde se almacenan los valores correspondientes. Esta función está diseñada para distribuir uniformemente las claves a través del arreglo, minimizando las colisiones donde dos claves distintas generan el mismo índice. En caso de colisiones, se emplean métodos como el encadenamiento o la exploración lineal o cuadrática para resolverlas.\n",
    "\n",
    "### Implementación en Python:"
   ]
  },
  {
   "cell_type": "code",
   "execution_count": null,
   "id": "21509b20",
   "metadata": {},
   "outputs": [],
   "source": [
    "class HashTable:\n",
    "    def __init__(self, size=10):\n",
    "        self.size = size\n",
    "        self.table = [None] * self.size\n",
    "\n",
    "    def hash_function(self, key):\n",
    "        return key % self.size\n",
    "\n",
    "    def insert(self, key, value):\n",
    "        index = self.hash_function(key)\n",
    "        if self.table[index] is None:\n",
    "            self.table[index] = [(key, value)]\n",
    "        else:\n",
    "            # Resolver colisiones por encadenamiento\n",
    "            self.table[index].append((key, value))\n",
    "\n",
    "    def search(self, key):\n",
    "        index = self.hash_function(key)\n",
    "        if self.table[index] is not None:\n",
    "            for pair in self.table[index]:\n",
    "                if pair[0] == key:\n",
    "                    return pair[1]\n",
    "        return None\n"
   ]
  },
  {
   "cell_type": "markdown",
   "id": "2d8c4c58",
   "metadata": {},
   "source": [
    "### Ejemplo de Uso:"
   ]
  },
  {
   "cell_type": "code",
   "execution_count": null,
   "id": "e996d403",
   "metadata": {},
   "outputs": [],
   "source": [
    "# Crear una tabla hash y añadir algunos elementos\n",
    "hash_table = HashTable()\n",
    "hash_table.insert(10, \"Apple\")\n",
    "hash_table.insert(20, \"Orange\")\n",
    "hash_table.insert(30, \"Banana\")\n",
    "\n",
    "# Buscar un elemento por su clave\n",
    "print(hash_table.search(10))  # Output: Apple\n",
    "print(hash_table.search(20))  # Output: Orange\n",
    "print(hash_table.search(25))  # Output: None (no encontrado)\n"
   ]
  },
  {
   "cell_type": "markdown",
   "id": "5a9a9873",
   "metadata": {},
   "source": [
    "### Complejidad del Algoritmo:\n",
    "\n",
    "- **Mejor caso**: O(1), cuando la clave buscada se encuentra en la primera posición del índice calculado o no hay colisiones.\n",
    "- **Peor caso y caso promedio**: Dependen de cómo se manejen las colisiones. En el peor de los casos, si todas las claves se acumulan en un solo índice, la búsqueda puede degradarse a O(n). Sin embargo, con una buena función hash y un manejo adecuado de las colisiones, el caso promedio se mantiene cercano a O(1).\n",
    "\n",
    "### Ventajas de la Búsqueda por Hash:\n",
    "\n",
    "- **Alta eficiencia**: Tiempos de búsqueda rápidos en el mejor de los casos.\n",
    "- **Fácil de implementar** y usar para almacenar pares clave-valor.\n",
    "- **Flexible**: Puede manejar una gran variedad de tipos de datos como claves.\n",
    "\n",
    "### Desventajas de la Búsqueda por Hash:\n",
    "\n",
    "- **Colisiones**: Requiere estrategias adicionales para manejar colisiones, lo cual puede complicar la implementación.\n",
    "- **Uso de memoria**: Una tabla hash grande puede consumir más memoria que otras estructuras de datos.\n",
    "- **Función hash**: La eficiencia depende en gran medida de la calidad de la función hash utilizada.\n",
    "\n",
    "### Conclusión:\n",
    "\n",
    "La búsqueda por hash es una técnica poderosa para la búsqueda rápida de elementos, especialmente en aplicaciones donde la eficiencia en tiempo de acceso es crítica. Sin embargo, su eficacia está fuertemente influenciada por el diseño de la función hash y las estrategias para manejar colisiones. Con una implementación cuidadosa, la búsqueda por hash puede ofrecer un rendimiento excepcional en una amplia gama de aplicaciones."
   ]
  }
 ],
 "metadata": {},
 "nbformat": 4,
 "nbformat_minor": 5
}
