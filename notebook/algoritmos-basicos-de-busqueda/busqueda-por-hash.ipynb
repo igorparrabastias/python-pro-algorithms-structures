{
  "cells": [
    {
      "cell_type": "markdown",
      "id": "5cd73a53",
      "metadata": {},
      "source": [
        "# B\u00fasqueda por Hash\n",
        "\n",
        "### Introducci\u00f3n:\n",
        "\n",
        "La b\u00fasqueda por hash es una t\u00e9cnica eficiente para encontrar r\u00e1pidamente elementos dentro de un conjunto de datos, aprovechando una estructura conocida como tabla hash. Esta metodolog\u00eda se distingue por su capacidad de proporcionar tiempos de b\u00fasqueda muy r\u00e1pidos, acerc\u00e1ndose a O(1) en el mejor de los casos, lo cual es significativamente m\u00e1s eficiente que otras t\u00e9cnicas de b\u00fasqueda en escenarios adecuados.\n",
        "\n",
        "### Concepto de B\u00fasqueda por Hash:\n",
        "\n",
        "La b\u00fasqueda por hash involucra el uso de una funci\u00f3n hash que convierte las claves de b\u00fasqueda en \u00edndices de un arreglo, donde se almacenan los valores correspondientes. Esta funci\u00f3n est\u00e1 dise\u00f1ada para distribuir uniformemente las claves a trav\u00e9s del arreglo, minimizando las colisiones donde dos claves distintas generan el mismo \u00edndice. En caso de colisiones, se emplean m\u00e9todos como el encadenamiento o la exploraci\u00f3n lineal o cuadr\u00e1tica para resolverlas.\n",
        "\n",
        "### Implementaci\u00f3n en Python:"
      ]
    },
    {
      "cell_type": "code",
      "execution_count": null,
      "id": "8a4376b5",
      "metadata": {},
      "outputs": [],
      "source": [
        "class HashTable:\n",
        "    def __init__(self, size=10):\n",
        "        self.size = size\n",
        "        self.table = [None] * self.size\n",
        "\n",
        "    def hash_function(self, key):\n",
        "        return key % self.size\n",
        "\n",
        "    def insert(self, key, value):\n",
        "        index = self.hash_function(key)\n",
        "        if self.table[index] is None:\n",
        "            self.table[index] = [(key, value)]\n",
        "        else:\n",
        "            # Resolver colisiones por encadenamiento\n",
        "            self.table[index].append((key, value))\n",
        "\n",
        "    def search(self, key):\n",
        "        index = self.hash_function(key)\n",
        "        if self.table[index] is not None:\n",
        "            for pair in self.table[index]:\n",
        "                if pair[0] == key:\n",
        "                    return pair[1]\n",
        "        return None"
      ]
    },
    {
      "cell_type": "markdown",
      "id": "c8fa1c88",
      "metadata": {},
      "source": [
        "### Ejemplo de Uso:"
      ]
    },
    {
      "cell_type": "code",
      "execution_count": null,
      "id": "1a8ddd65",
      "metadata": {},
      "outputs": [],
      "source": [
        "# Crear una tabla hash y a\u00f1adir algunos elementos\n",
        "hash_table = HashTable()\n",
        "hash_table.insert(10, \"Apple\")\n",
        "hash_table.insert(20, \"Orange\")\n",
        "hash_table.insert(30, \"Banana\")\n",
        "\n",
        "# Buscar un elemento por su clave\n",
        "print(hash_table.search(10))  # Output: Apple\n",
        "print(hash_table.search(20))  # Output: Orange\n",
        "print(hash_table.search(25))  # Output: None (no encontrado)"
      ]
    },
    {
      "cell_type": "markdown",
      "id": "84e5ca57",
      "metadata": {},
      "source": [
        "### Complejidad del Algoritmo:\n",
        "\n",
        "- **Mejor caso**: O(1), cuando la clave buscada se encuentra en la primera posici\u00f3n del \u00edndice calculado o no hay colisiones.\n",
        "- **Peor caso y caso promedio**: Dependen de c\u00f3mo se manejen las colisiones. En el peor de los casos, si todas las claves se acumulan en un solo \u00edndice, la b\u00fasqueda puede degradarse a O(n). Sin embargo, con una buena funci\u00f3n hash y un manejo adecuado de las colisiones, el caso promedio se mantiene cercano a O(1).\n",
        "\n",
        "### Ventajas de la B\u00fasqueda por Hash:\n",
        "\n",
        "- **Alta eficiencia**: Tiempos de b\u00fasqueda r\u00e1pidos en el mejor de los casos.\n",
        "- **F\u00e1cil de implementar** y usar para almacenar pares clave-valor.\n",
        "- **Flexible**: Puede manejar una gran variedad de tipos de datos como claves.\n",
        "\n",
        "### Desventajas de la B\u00fasqueda por Hash:\n",
        "\n",
        "- **Colisiones**: Requiere estrategias adicionales para manejar colisiones, lo cual puede complicar la implementaci\u00f3n.\n",
        "- **Uso de memoria**: Una tabla hash grande puede consumir m\u00e1s memoria que otras estructuras de datos.\n",
        "- **Funci\u00f3n hash**: La eficiencia depende en gran medida de la calidad de la funci\u00f3n hash utilizada.\n",
        "\n",
        "### Conclusi\u00f3n:\n",
        "\n",
        "La b\u00fasqueda por hash es una t\u00e9cnica poderosa para la b\u00fasqueda r\u00e1pida de elementos, especialmente en aplicaciones donde la eficiencia en tiempo de acceso es cr\u00edtica. Sin embargo, su eficacia est\u00e1 fuertemente influenciada por el dise\u00f1o de la funci\u00f3n hash y las estrategias para manejar colisiones. Con una implementaci\u00f3n cuidadosa, la b\u00fasqueda por hash puede ofrecer un rendimiento excepcional en una amplia gama de aplicaciones."
      ]
    }
  ],
  "metadata": {},
  "nbformat": 4,
  "nbformat_minor": 5
}