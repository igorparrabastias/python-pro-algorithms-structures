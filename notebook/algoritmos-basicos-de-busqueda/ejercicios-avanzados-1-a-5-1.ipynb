{
  "cells": [
    {
      "cell_type": "markdown",
      "id": "1d8f7c39",
      "metadata": {},
      "source": [
        "# Ejercicios Avanzados 1 a 5\n",
        "\n",
        "### Ejercicio 1: B\u00fasqueda Binaria en un Arreglo Rotado\n",
        "\n",
        "Dado un arreglo de n\u00fameros enteros rotado en un punto desconocido (por ejemplo, `[4, 5, 6, 7, 0, 1, 2]`), implementa una b\u00fasqueda binaria para encontrar un n\u00famero objetivo dado.\n",
        "\n",
        "**Soluci\u00f3n**:"
      ]
    },
    {
      "cell_type": "code",
      "execution_count": null,
      "id": "31435c1f",
      "metadata": {},
      "outputs": [],
      "source": [
        "def busqueda_binaria_rotada(arr, objetivo):\n",
        "    inicio, fin = 0, len(arr) - 1\n",
        "    while inicio <= fin:\n",
        "        medio = (inicio + fin) // 2\n",
        "        if arr[medio] == objetivo:\n",
        "            return medio\n",
        "        if arr[inicio] <= arr[medio]:\n",
        "            if arr[inicio] <= objetivo < arr[medio]:\n",
        "                fin = medio - 1\n",
        "            else:\n",
        "                inicio = medio + 1\n",
        "        else:\n",
        "            if arr[medio] < objetivo <= arr[fin]:\n",
        "                inicio = medio + 1\n",
        "            else:\n",
        "                fin = medio - 1\n",
        "    return -1\n",
        "\n",
        "arr = [4, 5, 6, 7, 0, 1, 2]\n",
        "objetivo = 1\n",
        "print(\"\u00cdndice del objetivo:\", busqueda_binaria_rotada(arr, objetivo))"
      ]
    },
    {
      "cell_type": "markdown",
      "id": "d2659b64",
      "metadata": {},
      "source": [
        "### Ejercicio 2: Encuentra el Punto de Rotaci\u00f3n\n",
        "\n",
        "Encuentra el \u00edndice del punto de rotaci\u00f3n en un arreglo rotado como `[3, 4, 5, 1, 2]`.\n",
        "\n",
        "**Soluci\u00f3n**:"
      ]
    },
    {
      "cell_type": "code",
      "execution_count": null,
      "id": "182e76db",
      "metadata": {},
      "outputs": [],
      "source": [
        "def encontrar_punto_rotacion(arr):\n",
        "    inicio, fin = 0, len(arr) - 1\n",
        "    while inicio < fin:\n",
        "        medio = (inicio + fin) // 2\n",
        "        if arr[medio] > arr[fin]:\n",
        "            inicio = medio + 1\n",
        "        else:\n",
        "            fin = medio\n",
        "    return inicio\n",
        "\n",
        "arr = [3, 4, 5, 1, 2]\n",
        "print(\"\u00cdndice del punto de rotaci\u00f3n:\", encontrar_punto_rotacion(arr))"
      ]
    },
    {
      "cell_type": "markdown",
      "id": "b586e4de",
      "metadata": {},
      "source": [
        "### Ejercicio 3: B\u00fasqueda Binaria en Arreglo Infinito\n",
        "\n",
        "Suponiendo que tienes acceso a un arreglo infinito ordenado, implementa una b\u00fasqueda binaria para encontrar un objetivo sin usar el tama\u00f1o del arreglo.\n",
        "\n",
        "**Soluci\u00f3n**:"
      ]
    },
    {
      "cell_type": "code",
      "execution_count": null,
      "id": "f11f1f57",
      "metadata": {},
      "outputs": [],
      "source": [
        "def busqueda_binaria_infinita(arr, objetivo):\n",
        "    inicio, fin = 0, 1\n",
        "    while arr[fin] < objetivo:\n",
        "        inicio = fin\n",
        "        fin *= 2\n",
        "    # Ahora, realiza una b\u00fasqueda binaria en el rango definido\n",
        "    while inicio <= fin:\n",
        "        medio = (inicio + fin) // 2\n",
        "        if arr[medio] == objetivo:\n",
        "            return medio\n",
        "        elif arr[medio] < objetivo:\n",
        "            inicio = medio + 1\n",
        "        else:\n",
        "            fin = medio - 1\n",
        "    return -1\n",
        "\n",
        "# Ejemplo te\u00f3rico, requiere una implementaci\u00f3n espec\u00edfica para manejar arreglos infinitos"
      ]
    },
    {
      "cell_type": "markdown",
      "id": "eed6d941",
      "metadata": {},
      "source": [
        "### Ejercicio 4: B\u00fasqueda de Ra\u00edz Cuadrada Entera\n",
        "\n",
        "Usa b\u00fasqueda binaria para encontrar la ra\u00edz cuadrada entera de un n\u00famero entero dado sin usar funciones incorporadas.\n",
        "\n",
        "**Soluci\u00f3n**:"
      ]
    },
    {
      "cell_type": "code",
      "execution_count": null,
      "id": "53a217da",
      "metadata": {},
      "outputs": [],
      "source": [
        "def raiz_cuadrada_entera(n):\n",
        "    if n < 2:\n",
        "        return n\n",
        "    inicio, fin = 2, n // 2\n",
        "    while inicio <= fin:\n",
        "        medio = (inicio + fin) // 2\n",
        "        cuadrado = medio * medio\n",
        "        if cuadrado == n:\n",
        "            return medio\n",
        "        elif cuadrado < n:\n",
        "            inicio = medio + 1\n",
        "        else:\n",
        "            fin = medio - 1\n",
        "    return fin\n",
        "\n",
        "n = 16\n",
        "print(\"Ra\u00edz cuadrada entera:\", raiz_cuadrada_entera(n))"
      ]
    },
    {
      "cell_type": "markdown",
      "id": "824f800c",
      "metadata": {},
      "source": [
        "### Ejercicio 5: M\u00ednimo en Arreglo Rotado\n",
        "\n",
        "Encuentra el valor m\u00ednimo en un arreglo rotado como `[4, 5, 6, 7, 0, 1, 2]`, asumiendo que no hay duplicados.\n",
        "\n",
        "**Soluci\u00f3n**:\n",
        "\n",
        "```python\n",
        "def encontrar_minimo_rotado(arr):\n",
        "    inicio, fin = 0, len(arr) - 1\n",
        "    while inicio < fin:\n",
        "        medio = (inicio + fin)\n",
        "```"
      ]
    }
  ],
  "metadata": {},
  "nbformat": 4,
  "nbformat_minor": 5
}