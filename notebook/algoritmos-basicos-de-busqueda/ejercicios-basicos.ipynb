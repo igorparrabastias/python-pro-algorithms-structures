{
  "cells": [
    {
      "cell_type": "markdown",
      "id": "4122caee",
      "metadata": {},
      "source": [
        "# Ejercicios B\u00e1sicos\n",
        "\n",
        "### Ejercicio 1: B\u00fasqueda de un Elemento en una Lista\n",
        "\n",
        "Dada la lista `[4, 2, 5, 1, 3]`, encuentra el \u00edndice del n\u00famero `5` utilizando la funci\u00f3n de b\u00fasqueda lineal."
      ]
    },
    {
      "cell_type": "code",
      "execution_count": null,
      "id": "c7f9a71a",
      "metadata": {},
      "outputs": [],
      "source": [
        "# Ejercicio\n",
        "lista = [4, 2, 5, 1, 3]\n",
        "objetivo = 5\n",
        "indice = busqueda_lineal(lista, objetivo)\n",
        "print(f\"\u00cdndice del objetivo {objetivo}: {indice}\")"
      ]
    },
    {
      "cell_type": "markdown",
      "id": "0e95bf00",
      "metadata": {},
      "source": [
        "### Ejercicio 2: B\u00fasqueda de un Car\u00e1cter en una Cadena\n",
        "\n",
        "Convierte una cadena en una lista de caracteres y encuentra el \u00edndice de la letra `'a'` en la cadena `\"ejemplo\"`."
      ]
    },
    {
      "cell_type": "code",
      "execution_count": null,
      "id": "8f3bb32e",
      "metadata": {},
      "outputs": [],
      "source": [
        "# Ejercicio\n",
        "cadena = \"ejemplo\"\n",
        "objetivo = 'a'\n",
        "lista = list(cadena)\n",
        "indice = busqueda_lineal(lista, objetivo)\n",
        "print(f\"\u00cdndice de '{objetivo}' en '{cadena}': {indice}\")"
      ]
    },
    {
      "cell_type": "markdown",
      "id": "5fde4aa0",
      "metadata": {},
      "source": [
        "### Ejercicio 3: Verificar la Existencia de un Elemento\n",
        "\n",
        "Verifica si el n\u00famero `7` est\u00e1 presente en la lista `[4, 2, 5, 1, 3]`."
      ]
    },
    {
      "cell_type": "code",
      "execution_count": null,
      "id": "476e9121",
      "metadata": {},
      "outputs": [],
      "source": [
        "# Ejercicio\n",
        "lista = [4, 2, 5, 1, 3]\n",
        "objetivo = 7\n",
        "indice = busqueda_lineal(lista, objetivo)\n",
        "existe = indice != -1\n",
        "print(f\"\u00bfEl n\u00famero {objetivo} est\u00e1 en la lista? {existe}\")"
      ]
    },
    {
      "cell_type": "markdown",
      "id": "39a01939",
      "metadata": {},
      "source": [
        "### Ejercicio 4: B\u00fasqueda de Elementos Duplicados\n",
        "\n",
        "Encuentra todos los \u00edndices del n\u00famero `2` en la lista `[1, 2, 4, 2, 2, 5]`."
      ]
    },
    {
      "cell_type": "code",
      "execution_count": null,
      "id": "dae77f3a",
      "metadata": {},
      "outputs": [],
      "source": [
        "# Ejercicio\n",
        "def busqueda_todos_indices(lista, objetivo):\n",
        "    indices = []\n",
        "    for i in range(len(lista)):\n",
        "        if lista[i] == objetivo:\n",
        "            indices.append(i)\n",
        "    return indices\n",
        "\n",
        "lista = [1, 2, 4, 2, 2, 5]\n",
        "objetivo = 2\n",
        "indices = busqueda_todos_indices(lista, objetivo)\n",
        "print(f\"\u00cdndices del objetivo {objetivo}: {indices}\")"
      ]
    },
    {
      "cell_type": "markdown",
      "id": "8bc45444",
      "metadata": {},
      "source": [
        "### Ejercicio 5: B\u00fasqueda de Elemento en Lista de Cadenas\n",
        "\n",
        "Busca la cadena `\"python\"` en la lista `[\"java\", \"c++\", \"python\", \"javascript\"]` y devuelve su \u00edndice."
      ]
    },
    {
      "cell_type": "code",
      "execution_count": null,
      "id": "e7ba6d2d",
      "metadata": {},
      "outputs": [],
      "source": [
        "# Ejercicio\n",
        "lista_cadenas = [\"java\", \"c++\", \"python\", \"javascript\"]\n",
        "objetivo = \"python\"\n",
        "indice = busqueda_lineal(lista_cadenas, objetivo)\n",
        "print(f\"\u00cdndice de '{objetivo}': {indice}\")"
      ]
    },
    {
      "cell_type": "markdown",
      "id": "a14d52ac",
      "metadata": {},
      "source": [
        "Estos ejercicios b\u00e1sicos te permitir\u00e1n practicar con la implementaci\u00f3n y aplicaci\u00f3n de la b\u00fasqueda lineal en Python, reforzando tu comprensi\u00f3n de este algoritmo fundamental a trav\u00e9s de varios contextos y tipos de datos."
      ]
    }
  ],
  "metadata": {},
  "nbformat": 4,
  "nbformat_minor": 5
}