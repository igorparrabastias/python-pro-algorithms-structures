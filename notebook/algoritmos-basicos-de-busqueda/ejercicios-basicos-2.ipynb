{
  "cells": [
    {
      "cell_type": "markdown",
      "id": "bfb46d34",
      "metadata": {},
      "source": [
        "# Ejercicios B\u00e1sicos\n",
        "\n",
        "### Ejercicio 1: B\u00fasqueda por Interpolaci\u00f3n Simple\n",
        "\n",
        "Realiza una b\u00fasqueda por interpolaci\u00f3n para encontrar el \u00edndice del n\u00famero `12` en la lista ordenada `[1, 2, 4, 6, 8, 10, 12, 14, 16, 18]`.\n",
        "\n",
        "**Soluci\u00f3n**:"
      ]
    },
    {
      "cell_type": "code",
      "execution_count": null,
      "id": "b7099c45",
      "metadata": {},
      "outputs": [],
      "source": [
        "lista = [1, 2, 4, 6, 8, 10, 12, 14, 16, 18]\n",
        "objetivo = 12\n",
        "print(\"\u00cdndice de 12:\", busqueda_por_interpolacion(lista, objetivo))"
      ]
    },
    {
      "cell_type": "markdown",
      "id": "a819cad5",
      "metadata": {},
      "source": [
        "### Ejercicio 2: Verificar la No Existencia de un Elemento\n",
        "\n",
        "Utiliza la b\u00fasqueda por interpolaci\u00f3n para verificar que el n\u00famero `15` no se encuentra en la lista `[3, 5, 7, 9, 11, 13, 17]`.\n",
        "\n",
        "**Soluci\u00f3n**:"
      ]
    },
    {
      "cell_type": "code",
      "execution_count": null,
      "id": "cd35caed",
      "metadata": {},
      "outputs": [],
      "source": [
        "lista = [3, 5, 7, 9, 11, 13, 17]\n",
        "objetivo = 15\n",
        "print(\"\u00cdndice de 15:\", busqueda_por_interpolacion(lista, objetivo))"
      ]
    },
    {
      "cell_type": "markdown",
      "id": "67c024e4",
      "metadata": {},
      "source": [
        "### Ejercicio 3: B\u00fasqueda por Interpolaci\u00f3n en una Lista Grande\n",
        "\n",
        "Implementa una b\u00fasqueda por interpolaci\u00f3n para encontrar el n\u00famero `237` en una lista ordenada de `1` a `500`.\n",
        "\n",
        "**Soluci\u00f3n**:"
      ]
    },
    {
      "cell_type": "code",
      "execution_count": null,
      "id": "efe70c57",
      "metadata": {},
      "outputs": [],
      "source": [
        "lista = list(range(1, 501))\n",
        "objetivo = 237\n",
        "print(\"\u00cdndice de 237:\", busqueda_por_interpolacion(lista, objetivo))"
      ]
    },
    {
      "cell_type": "markdown",
      "id": "4b589017",
      "metadata": {},
      "source": [
        "### Ejercicio 4: B\u00fasqueda de un Valor M\u00ednimo\n",
        "\n",
        "Aplica la b\u00fasqueda por interpolaci\u00f3n para encontrar el \u00edndice del n\u00famero `2` en la lista `[2, 4, 6, 8, 10, 12]`. Este ejercicio ayuda a entender c\u00f3mo la b\u00fasqueda por interpolaci\u00f3n se comporta al buscar el elemento m\u00e1s peque\u00f1o.\n",
        "\n",
        "**Soluci\u00f3n**:"
      ]
    },
    {
      "cell_type": "code",
      "execution_count": null,
      "id": "7079d4fd",
      "metadata": {},
      "outputs": [],
      "source": [
        "lista = [2, 4, 6, 8, 10, 12]\n",
        "objetivo = 2\n",
        "print(\"\u00cdndice de 2:\", busqueda_por_interpolacion(lista, objetivo))"
      ]
    },
    {
      "cell_type": "markdown",
      "id": "7ba997a0",
      "metadata": {},
      "source": [
        "### Ejercicio 5: B\u00fasqueda de un Valor M\u00e1ximo\n",
        "\n",
        "Encuentra el \u00edndice del n\u00famero m\u00e1s grande en la lista `[10, 20, 30, 40, 50]` usando la b\u00fasqueda por interpolaci\u00f3n. Este caso examina el comportamiento del algoritmo al buscar el \u00faltimo elemento.\n",
        "\n",
        "**Soluci\u00f3n**:"
      ]
    },
    {
      "cell_type": "code",
      "execution_count": null,
      "id": "de49ff99",
      "metadata": {},
      "outputs": [],
      "source": [
        "lista = [10, 20, 30, 40, 50]\n",
        "objetivo = 50\n",
        "print(\"\u00cdndice de 50:\", busqueda_por_interpolacion(lista, objetivo))"
      ]
    },
    {
      "cell_type": "markdown",
      "id": "c24fa635",
      "metadata": {},
      "source": [
        "### Nota sobre la Implementaci\u00f3n\n",
        "\n",
        "Para implementar correctamente la b\u00fasqueda por interpolaci\u00f3n y resolver estos ejercicios, es fundamental comprender c\u00f3mo el algoritmo calcula la posici\u00f3n probable del elemento objetivo bas\u00e1ndose en una aproximaci\u00f3n lineal. Esto lo hace especialmente eficaz para listas grandes con una distribuci\u00f3n uniforme de los elementos. Sin embargo, su rendimiento puede variar significativamente con listas peque\u00f1as o distribuciones no uniformes, como se puede observar en los ejercicios propuestos."
      ]
    }
  ],
  "metadata": {},
  "nbformat": 4,
  "nbformat_minor": 5
}