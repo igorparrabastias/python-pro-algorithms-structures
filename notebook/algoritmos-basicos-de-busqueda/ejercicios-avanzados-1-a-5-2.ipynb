{
  "cells": [
    {
      "cell_type": "markdown",
      "id": "1227d377",
      "metadata": {},
      "source": [
        "# Ejercicios Avanzados 1 a 5\n",
        "\n",
        "### Ejercicio 1: B\u00fasqueda por Interpolaci\u00f3n en Listas No Uniformemente Distribuidas\n",
        "\n",
        "Implementa una b\u00fasqueda por interpolaci\u00f3n en una lista donde los elementos no est\u00e1n distribuidos uniformemente. Observa c\u00f3mo afecta la distribuci\u00f3n no uniforme al rendimiento del algoritmo y considera ajustes para mejorar la eficiencia en tales casos."
      ]
    },
    {
      "cell_type": "code",
      "execution_count": null,
      "id": "a6a24eff",
      "metadata": {},
      "outputs": [],
      "source": [
        "def busqueda_por_interpolacion_no_uniforme(lista, objetivo):\n",
        "    inicio, fin = 0, len(lista) - 1\n",
        "    while inicio <= fin and objetivo >= lista[inicio] and objetivo <= lista[fin]:\n",
        "        pos = inicio + int(((float(fin - inicio) / (lista[fin] - lista[inicio]) * (objetivo - lista[inicio]))))\n",
        "        if lista[pos] == objetivo:\n",
        "            return pos\n",
        "        if lista[pos] < objetivo:\n",
        "            inicio = pos + 1\n",
        "        else:\n",
        "            fin = pos - 1\n",
        "    return -1"
      ]
    },
    {
      "cell_type": "markdown",
      "id": "2a38aca5",
      "metadata": {},
      "source": [
        "### Ejercicio 2: B\u00fasqueda por Interpolaci\u00f3n para Encontrar Todos los \u00cdndices de un Valor\n",
        "\n",
        "Modifica la b\u00fasqueda por interpolaci\u00f3n para que retorne todos los \u00edndices de un valor en una lista ordenada, en lugar de solo el primero. Esto es \u00fatil para datos con valores repetidos."
      ]
    },
    {
      "cell_type": "code",
      "execution_count": null,
      "id": "e1fdd07c",
      "metadata": {},
      "outputs": [],
      "source": [
        "def busqueda_por_interpolacion_todos_indices(lista, objetivo):\n",
        "    indices = []\n",
        "    # Implementaci\u00f3n similar a la b\u00fasqueda por interpolaci\u00f3n b\u00e1sica\n",
        "    # Agrega l\u00f3gica para recolectar todos los \u00edndices en lugar de retornar al encontrar el primero\n",
        "    return indices"
      ]
    },
    {
      "cell_type": "markdown",
      "id": "26a7ba1c",
      "metadata": {},
      "source": [
        "### Ejercicio 3: B\u00fasqueda por Interpolaci\u00f3n con Umbral de Cercan\u00eda\n",
        "\n",
        "Implementa una b\u00fasqueda por interpolaci\u00f3n que retorne el \u00edndice del elemento m\u00e1s cercano al valor objetivo si el objetivo no se encuentra exactamente, dentro de un umbral de cercan\u00eda definido."
      ]
    },
    {
      "cell_type": "code",
      "execution_count": null,
      "id": "09139b44",
      "metadata": {},
      "outputs": [],
      "source": [
        "def busqueda_por_interpolacion_cercania(lista, objetivo, umbral):\n",
        "    # Implementaci\u00f3n que considera el umbral para determinar el \"m\u00e1s cercano\"\n",
        "    return -1  # Modificar para retornar el \u00edndice del elemento m\u00e1s cercano"
      ]
    },
    {
      "cell_type": "markdown",
      "id": "d63308b2",
      "metadata": {},
      "source": [
        "### Ejercicio 4: Mejora de la B\u00fasqueda por Interpolaci\u00f3n con An\u00e1lisis de Varianza\n",
        "\n",
        "Antes de realizar la b\u00fasqueda por interpolaci\u00f3n, analiza la varianza de la lista para ajustar din\u00e1micamente el c\u00e1lculo de la posici\u00f3n. Esto puede ayudar a mejorar la predicci\u00f3n de la posici\u00f3n en listas con distribuci\u00f3n de datos variable."
      ]
    },
    {
      "cell_type": "code",
      "execution_count": null,
      "id": "2b907f15",
      "metadata": {},
      "outputs": [],
      "source": [
        "def busqueda_por_interpolacion_varianza(lista, objetivo):\n",
        "    # Calcula la varianza o un estad\u00edstico similar para ajustar la b\u00fasqueda\n",
        "    return -1  # Implementaci\u00f3n de b\u00fasqueda con ajustes basados en la varianza"
      ]
    },
    {
      "cell_type": "markdown",
      "id": "447927cd",
      "metadata": {},
      "source": [
        "### Ejercicio 5: B\u00fasqueda por Interpolaci\u00f3n en Datos Multidimensionales\n",
        "\n",
        "Extiende la b\u00fasqueda por interpolaci\u00f3n para trabajar con listas de tuplas, buscando un valor en una dimensi\u00f3n espec\u00edfica. Por ejemplo, busca en una lista de coordenadas geogr\u00e1ficas por latitud."
      ]
    },
    {
      "cell_type": "code",
      "execution_count": null,
      "id": "8fa254b0",
      "metadata": {},
      "outputs": [],
      "source": [
        "def busqueda_por_interpolacion_multidimensional(lista_tuplas, objetivo, dimension):\n",
        "    # Implementaci\u00f3n que se enfoca en una 'dimensi\u00f3n' espec\u00edfica dentro de la tupla para la interpolaci\u00f3n\n",
        "    return -1"
      ]
    },
    {
      "cell_type": "markdown",
      "id": "34ec9e85",
      "metadata": {},
      "source": [
        "Cada uno de estos ejercicios plantea desaf\u00edos \u00fanicos que requieren una comprensi\u00f3n profunda de la b\u00fasqueda por interpolaci\u00f3n y c\u00f3mo se puede adaptar o mejorar para cumplir con requisitos espec\u00edficos o manejar diferentes tipos de datos. La implementaci\u00f3n detallada depender\u00e1 de las caracter\u00edsticas espec\u00edficas de los datos y los objetivos de b\u00fasqueda, lo que puede requerir ajustes en las estrategias de interpolaci\u00f3n est\u00e1ndar."
      ]
    }
  ],
  "metadata": {},
  "nbformat": 4,
  "nbformat_minor": 5
}