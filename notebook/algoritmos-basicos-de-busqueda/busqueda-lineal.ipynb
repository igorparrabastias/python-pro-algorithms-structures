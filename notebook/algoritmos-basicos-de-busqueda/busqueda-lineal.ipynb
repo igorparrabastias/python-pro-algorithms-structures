{
  "cells": [
    {
      "cell_type": "markdown",
      "id": "fce469db",
      "metadata": {},
      "source": [
        "# B\u00fasqueda Lineal\n",
        "\n",
        "### Introducci\u00f3n:\n",
        "\n",
        "La b\u00fasqueda lineal, tambi\u00e9n conocida como b\u00fasqueda secuencial, es uno de los algoritmos de b\u00fasqueda m\u00e1s simples. Es un m\u00e9todo que revisa cada elemento de una lista, uno por uno, hasta encontrar el elemento objetivo o hasta que todos los elementos hayan sido comparados.\n",
        "\n",
        "### Concepto de B\u00fasqueda Lineal:\n",
        "\n",
        "En su forma m\u00e1s b\u00e1sica, la b\u00fasqueda lineal no requiere que los datos est\u00e9n ordenados. Empieza en el primer elemento de la lista y compara cada elemento con el valor buscado hasta que lo encuentra o hasta que llega al final de la lista.\n",
        "\n",
        "### Implementaci\u00f3n en Python:"
      ]
    },
    {
      "cell_type": "code",
      "execution_count": null,
      "id": "1c6de238",
      "metadata": {},
      "outputs": [],
      "source": [
        "def busqueda_lineal(lista, objetivo):\n",
        "    for i in range(len(lista)):\n",
        "        if lista[i] == objetivo:\n",
        "            return i  # Retorna el \u00edndice del objetivo si se encuentra\n",
        "    return -1  # Retorna -1 si el objetivo no se encuentra en la lista"
      ]
    },
    {
      "cell_type": "markdown",
      "id": "56870a25",
      "metadata": {},
      "source": [
        "### Ejemplo de Uso:"
      ]
    },
    {
      "cell_type": "code",
      "execution_count": null,
      "id": "a5da9e1e",
      "metadata": {},
      "outputs": [],
      "source": [
        "mi_lista = [5, 8, 15, 24, 26, 32]\n",
        "objetivo = 24\n",
        "\n",
        "indice = busqueda_lineal(mi_lista, objetivo)\n",
        "\n",
        "if indice != -1:\n",
        "    print(f\"El elemento {objetivo} se encontr\u00f3 en el \u00edndice {indice}.\")\n",
        "else:\n",
        "    print(f\"El elemento {objetivo} no se encontr\u00f3 en la lista.\")"
      ]
    },
    {
      "cell_type": "markdown",
      "id": "f1377290",
      "metadata": {},
      "source": [
        "### Complejidad del Algoritmo:\n",
        "\n",
        "- **Mejor caso**: O(1), ocurre cuando el elemento objetivo es el primer elemento de la lista.\n",
        "- **Peor caso y caso promedio**: O(n), donde n es el n\u00famero de elementos en la lista. Esto sucede cuando el elemento no est\u00e1 en la lista o est\u00e1 al final de ella.\n",
        "\n",
        "### Ventajas de la B\u00fasqueda Lineal:\n",
        "\n",
        "- **Simplicidad**: F\u00e1cil de entender e implementar.\n",
        "- **No requiere ordenamiento**: Funciona en listas ordenadas y desordenadas.\n",
        "- **Flexibilidad**: Se puede usar para buscar en listas donde los elementos est\u00e1n dispersos o no tienen una estructura ordenada.\n",
        "\n",
        "### Desventajas de la B\u00fasqueda Lineal:\n",
        "\n",
        "- **Ineficiencia con listas grandes**: Su rendimiento decrece a medida que el tama\u00f1o de la lista aumenta.\n",
        "\n",
        "### Conclusi\u00f3n:\n",
        "\n",
        "La b\u00fasqueda lineal es una herramienta \u00fatil para conjuntos de datos peque\u00f1os o cuando la lista no est\u00e1 ordenada y la eficiencia no es cr\u00edtica. Su simplicidad la hace ideal para introducir conceptos de b\u00fasqueda, aunque en la pr\u00e1ctica, para listas grandes o b\u00fasquedas frecuentes, se prefieren m\u00e9todos m\u00e1s eficientes como la b\u00fasqueda binaria o algoritmos de hashing."
      ]
    }
  ],
  "metadata": {},
  "nbformat": 4,
  "nbformat_minor": 5
}