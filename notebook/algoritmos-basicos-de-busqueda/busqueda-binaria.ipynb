{
  "cells": [
    {
      "cell_type": "markdown",
      "id": "86368530",
      "metadata": {},
      "source": [
        "# B\u00fasqueda Binaria\n",
        "\n",
        "### Introducci\u00f3n:\n",
        "\n",
        "La b\u00fasqueda binaria es un algoritmo de b\u00fasqueda eficiente que se aplica sobre un conjunto de datos ordenado. Utiliza un enfoque de \"divide y vencer\u00e1s\" para reducir significativamente el tiempo necesario para encontrar un elemento, comparado con la b\u00fasqueda secuencial.\n",
        "\n",
        "### Concepto de B\u00fasqueda Binaria:\n",
        "\n",
        "La esencia de la b\u00fasqueda binaria es comparar el elemento objetivo con el valor medio de la lista. Si el valor es igual al elemento medio, la b\u00fasqueda concluye. Si es menor, la b\u00fasqueda contin\u00faa en la mitad inferior de la lista; si es mayor, contin\u00faa en la mitad superior. Este proceso se repite hasta que se encuentra el elemento o hasta que el subconjunto de b\u00fasqueda se reduce a cero.\n",
        "\n",
        "### Implementaci\u00f3n en Python:"
      ]
    },
    {
      "cell_type": "code",
      "execution_count": null,
      "id": "7005bc3c",
      "metadata": {},
      "outputs": [],
      "source": [
        "def busqueda_binaria(lista, objetivo):\n",
        "    inicio, fin = 0, len(lista) - 1\n",
        "    while inicio <= fin:\n",
        "        medio = (inicio + fin) // 2\n",
        "        if lista[medio] == objetivo:\n",
        "            return medio\n",
        "        elif lista[medio] < objetivo:\n",
        "            inicio = medio + 1\n",
        "        else:\n",
        "            fin = medio - 1\n",
        "    return -1"
      ]
    },
    {
      "cell_type": "markdown",
      "id": "9198b8d4",
      "metadata": {},
      "source": [
        "### Ejemplo de Uso:\n",
        "\n",
        "Supongamos que queremos encontrar el \u00edndice del n\u00famero `23` en una lista ordenada."
      ]
    },
    {
      "cell_type": "code",
      "execution_count": null,
      "id": "bff5b674",
      "metadata": {},
      "outputs": [],
      "source": [
        "mi_lista = [3, 8, 15, 17, 23, 34, 42, 56]\n",
        "objetivo = 23\n",
        "resultado = busqueda_binaria(mi_lista, objetivo)\n",
        "print(f\"El n\u00famero {objetivo} se encontr\u00f3 en el \u00edndice: {resultado}\")"
      ]
    },
    {
      "cell_type": "markdown",
      "id": "bace43e5",
      "metadata": {},
      "source": [
        "### Complejidad del Algoritmo:\n",
        "\n",
        "- **Tiempo**: O(log n), donde n es el n\u00famero de elementos en la lista.\n",
        "- **Espacio**: O(1) en la implementaci\u00f3n iterativa.\n",
        "\n",
        "### Ventajas de la B\u00fasqueda Binaria:\n",
        "\n",
        "- **Eficiencia**: Es extremadamente eficiente para conjuntos de datos grandes debido a su complejidad logar\u00edtmica.\n",
        "- **Simpleza**: A pesar de su eficacia, es un algoritmo relativamente simple de implementar.\n",
        "\n",
        "### Desventajas de la B\u00fasqueda Binaria:\n",
        "\n",
        "- **Requiere Ordenamiento**: Solo funciona en listas ordenadas, lo que puede requerir un paso de preprocesamiento costoso si los datos originales no est\u00e1n ordenados.\n",
        "\n",
        "### Aplicaciones de la B\u00fasqueda Binaria:\n",
        "\n",
        "- B\u00fasqueda en bases de datos grandes y ordenadas.\n",
        "- Determinaci\u00f3n de un rango de valores.\n",
        "- Problemas de optimizaci\u00f3n que requieren encontrar un valor espec\u00edfico o el punto m\u00e1s cercano a \u00e9l en un conjunto ordenado.\n",
        "\n",
        "La b\u00fasqueda binaria es una herramienta fundamental en la ciencia de la computaci\u00f3n, con aplicaciones que van desde la resoluci\u00f3n de problemas algor\u00edtmicos hasta la optimizaci\u00f3n de b\u00fasquedas en aplicaciones del mundo real. Su eficiencia y simplicidad la convierten en una t\u00e9cnica esencial para cualquier programador."
      ]
    }
  ],
  "metadata": {},
  "nbformat": 4,
  "nbformat_minor": 5
}