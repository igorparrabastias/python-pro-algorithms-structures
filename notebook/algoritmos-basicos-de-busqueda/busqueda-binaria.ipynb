{
 "cells": [
  {
   "cell_type": "markdown",
   "id": "3ca7f808",
   "metadata": {},
   "source": [
    "# Búsqueda Binaria\n",
    "\n",
    "### Introducción:\n",
    "\n",
    "La búsqueda binaria es un algoritmo de búsqueda eficiente que se aplica sobre un conjunto de datos ordenado. Utiliza un enfoque de \"divide y vencerás\" para reducir significativamente el tiempo necesario para encontrar un elemento, comparado con la búsqueda secuencial.\n",
    "\n",
    "### Concepto de Búsqueda Binaria:\n",
    "\n",
    "La esencia de la búsqueda binaria es comparar el elemento objetivo con el valor medio de la lista. Si el valor es igual al elemento medio, la búsqueda concluye. Si es menor, la búsqueda continúa en la mitad inferior de la lista; si es mayor, continúa en la mitad superior. Este proceso se repite hasta que se encuentra el elemento o hasta que el subconjunto de búsqueda se reduce a cero.\n",
    "\n",
    "### Implementación en Python:"
   ]
  },
  {
   "cell_type": "code",
   "execution_count": null,
   "id": "3404de1d",
   "metadata": {},
   "outputs": [],
   "source": [
    "def busqueda_binaria(lista, objetivo):\n",
    "    inicio, fin = 0, len(lista) - 1\n",
    "    while inicio <= fin:\n",
    "        medio = (inicio + fin) // 2\n",
    "        if lista[medio] == objetivo:\n",
    "            return medio\n",
    "        elif lista[medio] < objetivo:\n",
    "            inicio = medio + 1\n",
    "        else:\n",
    "            fin = medio - 1\n",
    "    return -1\n"
   ]
  },
  {
   "cell_type": "markdown",
   "id": "1162a492",
   "metadata": {},
   "source": [
    "### Ejemplo de Uso:\n",
    "\n",
    "Supongamos que queremos encontrar el índice del número `23` en una lista ordenada."
   ]
  },
  {
   "cell_type": "code",
   "execution_count": null,
   "id": "5cbbe3a2",
   "metadata": {},
   "outputs": [],
   "source": [
    "mi_lista = [3, 8, 15, 17, 23, 34, 42, 56]\n",
    "objetivo = 23\n",
    "resultado = busqueda_binaria(mi_lista, objetivo)\n",
    "print(f\"El número {objetivo} se encontró en el índice: {resultado}\")\n"
   ]
  },
  {
   "cell_type": "markdown",
   "id": "181d2269",
   "metadata": {},
   "source": [
    "### Complejidad del Algoritmo:\n",
    "\n",
    "- **Tiempo**: O(log n), donde n es el número de elementos en la lista.\n",
    "- **Espacio**: O(1) en la implementación iterativa.\n",
    "\n",
    "### Ventajas de la Búsqueda Binaria:\n",
    "\n",
    "- **Eficiencia**: Es extremadamente eficiente para conjuntos de datos grandes debido a su complejidad logarítmica.\n",
    "- **Simpleza**: A pesar de su eficacia, es un algoritmo relativamente simple de implementar.\n",
    "\n",
    "### Desventajas de la Búsqueda Binaria:\n",
    "\n",
    "- **Requiere Ordenamiento**: Solo funciona en listas ordenadas, lo que puede requerir un paso de preprocesamiento costoso si los datos originales no están ordenados.\n",
    "\n",
    "### Aplicaciones de la Búsqueda Binaria:\n",
    "\n",
    "- Búsqueda en bases de datos grandes y ordenadas.\n",
    "- Determinación de un rango de valores.\n",
    "- Problemas de optimización que requieren encontrar un valor específico o el punto más cercano a él en un conjunto ordenado.\n",
    "\n",
    "La búsqueda binaria es una herramienta fundamental en la ciencia de la computación, con aplicaciones que van desde la resolución de problemas algorítmicos hasta la optimización de búsquedas en aplicaciones del mundo real. Su eficiencia y simplicidad la convierten en una técnica esencial para cualquier programador."
   ]
  }
 ],
 "metadata": {},
 "nbformat": 4,
 "nbformat_minor": 5
}
