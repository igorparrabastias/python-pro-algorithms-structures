{
  "cells": [
    {
      "cell_type": "markdown",
      "id": "7d10a5b4",
      "metadata": {},
      "source": [
        "# Ejercicios Avanzados 6 a 10\n",
        "\n",
        "### Ejercicio 6: Optimizaci\u00f3n de B\u00fasqueda por Interpolaci\u00f3n para Listas Grandes\n",
        "\n",
        "Implementa una versi\u00f3n optimizada de la b\u00fasqueda por interpolaci\u00f3n que reduzca el n\u00famero de comparaciones en listas grandes. La optimizaci\u00f3n debe enfocarse en ajustar el c\u00e1lculo de la posici\u00f3n para minimizar el rango de b\u00fasqueda."
      ]
    },
    {
      "cell_type": "code",
      "execution_count": null,
      "id": "6649bc8a",
      "metadata": {},
      "outputs": [],
      "source": [
        "def busqueda_interpolacion_optimizada(lista, objetivo):\n",
        "    izq, der = 0, len(lista) - 1\n",
        "    while izq <= der and objetivo >= lista[izq] and objetivo <= lista[der]:\n",
        "        # Ajuste para evitar la divisi\u00f3n por cero y optimizar el paso de b\u00fasqueda\n",
        "        if lista[izq] == lista[der]:\n",
        "            if lista[izq] == objetivo:\n",
        "                return izq\n",
        "            else:\n",
        "                return -1\n",
        "        # C\u00e1lculo de la posici\u00f3n con ajuste para optimizaci\u00f3n\n",
        "        pos = izq + ((objetivo - lista[izq]) * (der - izq)) // (lista[der] - lista[izq])\n",
        "        if lista[pos] == objetivo:\n",
        "            return pos\n",
        "        if lista[pos] < objetivo:\n",
        "            izq = pos + 1\n",
        "        else:\n",
        "            der = pos - 1\n",
        "    return -1\n",
        "\n",
        "# Lista de prueba y b\u00fasqueda\n",
        "lista = [10, 20, 30, 40, 50, 60, 70, 80, 90, 100]\n",
        "objetivo = 70\n",
        "indice = busqueda_interpolacion_optimizada(lista, objetivo)\n",
        "print(f\"\u00cdndice de {objetivo}: {indice}\")"
      ]
    },
    {
      "cell_type": "markdown",
      "id": "c939c36d",
      "metadata": {},
      "source": [
        "### Ejercicio 7: B\u00fasqueda por Interpolaci\u00f3n en Listas con Elementos Repetidos\n",
        "\n",
        "Modifica la b\u00fasqueda por interpolaci\u00f3n para manejar correctamente listas con elementos repetidos, asegurando que se retorne el \u00edndice del primer elemento coincidente."
      ]
    },
    {
      "cell_type": "code",
      "execution_count": null,
      "id": "f7b0c0c7",
      "metadata": {},
      "outputs": [],
      "source": [
        "def busqueda_interpolacion_con_repetidos(lista, objetivo):\n",
        "    izq, der = 0, len(lista) - 1\n",
        "    while izq <= der and objetivo >= lista[izq] and objetivo <= lista[der]:\n",
        "        if lista[izq] == lista[der] and lista[izq] != objetivo:\n",
        "            return -1\n",
        "        pos = izq + ((objetivo - lista[izq]) * (der - izq)) // (lista[der] - lista[izq])\n",
        "        # Buscar hacia atr\u00e1s para el primer coincidente si hay repetidos\n",
        "        if lista[pos] == objetivo:\n",
        "            while pos - 1 >= izq and lista[pos-1] == objetivo:\n",
        "                pos -= 1\n",
        "            return pos\n",
        "        if lista[pos] < objetivo:\n",
        "            izq = pos + 1\n",
        "        else:\n",
        "            der = pos - 1\n",
        "    return -1\n",
        "\n",
        "# Lista de prueba y b\u00fasqueda\n",
        "lista = [10, 20, 30, 30, 30, 40, 50]\n",
        "objetivo = 30\n",
        "indice = busqueda_interpolacion_con_repetidos(lista, objetivo)\n",
        "print(f\"\u00cdndice del primer {objetivo}: {indice}\")"
      ]
    },
    {
      "cell_type": "markdown",
      "id": "5260199c",
      "metadata": {},
      "source": [
        "### Ejercicio 8: B\u00fasqueda por Interpolaci\u00f3n en Strings\n",
        "\n",
        "Implementa una funci\u00f3n de b\u00fasqueda por interpolaci\u00f3n que funcione con listas de strings, adaptando la f\u00f3rmula para trabajar con el valor ASCII de las cadenas."
      ]
    },
    {
      "cell_type": "code",
      "execution_count": null,
      "id": "22577855",
      "metadata": {},
      "outputs": [],
      "source": [
        "def ascii_valor(cadena):\n",
        "    return sum(ord(c) for c in cadena)\n",
        "\n",
        "def busqueda_interpolacion_strings(lista, objetivo):\n",
        "    izq, der = 0, len(lista) - 1\n",
        "    while izq <= der:\n",
        "        valor_izq = ascii_valor(lista[izq])\n",
        "        valor_der = ascii_valor(lista[der])\n",
        "        valor_objetivo = ascii_valor(objetivo)\n",
        "        if valor_izq == valor_der:\n",
        "            return izq if lista[izq] == objetivo else -1\n",
        "        pos = izq + ((valor_objetivo - valor_izq) * (der - izq)) // (valor_der - valor_izq)\n",
        "        if pos >= 0 and pos < len(lista) and lista[pos] == objetivo:\n",
        "            return pos\n",
        "        if ascii_valor(lista[pos]) < valor_objetivo:\n",
        "            izq = pos + 1\n",
        "        else:\n",
        "            der = pos - 1\n",
        "    return -1\n",
        "\n",
        "# Lista de prueba y b\u00fasqueda\n",
        "lista = [\"apple\", \"banana\", \"cherry\", \"date\", \"fig\", \"grape\"]\n",
        "objetivo = \"fig\"\n",
        "indice = busqueda_interpolacion_strings(lista, objetivo)\n",
        "print(f\"\u00cdndice de '{objetivo}': {indice}\")"
      ]
    },
    {
      "cell_type": "markdown",
      "id": "9eda1bdb",
      "metadata": {},
      "source": [
        "### Ejercicio 9: B\u00fasqueda por Interpolaci\u00f3n en Datos Flotantes\n",
        "\n",
        "Adapta la b\u00fasqueda por interpolaci\u00f3n para trabajar eficientemente con listas de n\u00fameros flotantes, teniendo en cuenta la precisi\u00f3n de los c\u00e1lculos."
      ]
    },
    {
      "cell_type": "code",
      "execution_count": null,
      "id": "d2e2ce83",
      "metadata": {},
      "outputs": [],
      "source": [
        "def busqueda_interpolacion_flotantes(lista, objetivo):\n",
        "    izq, der = 0, len(lista) - 1\n",
        "    while izq <= der:\n",
        "        if lista[izq] == lista[der]:\n",
        "            return izq if lista[izq] == objetivo else -1\n",
        "        pos = izq + int(((objetivo - lista[izq]) * (der - izq)) / (lista[der] - lista[izq]))\n",
        "        if lista[pos] == objetivo or abs(lista[pos] - objetivo) < 0.001:  # Ajuste por precisi\u00f3n flotante\n",
        "            return pos\n",
        "        if lista[pos] < objetivo:\n",
        "            izq = pos + 1\n",
        "        else:\n",
        "            der = pos - 1\n",
        "    return -1\n",
        "\n",
        "# Lista de prueba y b\u00fasqueda\n",
        "lista = [1.02, 2.04, 3.06, 4.08, 5.10, 6.12]\n",
        "objetivo = 4.08\n",
        "indice = busqueda_interpolacion_flotantes(lista, objetivo)\n",
        "print(f\"\u00cdndice de {objetivo}: {indice}\")"
      ]
    },
    {
      "cell_type": "markdown",
      "id": "8b2b29e5",
      "metadata": {},
      "source": [
        "### Ejercicio 10: B\u00fasqueda por Interpolaci\u00f3n en Arrays Multidimensionales\n",
        "\n",
        "Desarrolla una funci\u00f3n de b\u00fasqueda por interpolaci\u00f3n que pueda aplicarse a arrays multidimensionales, adaptando la l\u00f3gica de interpolaci\u00f3n para ubicar elementos en estructuras de datos m\u00e1s complejas."
      ]
    },
    {
      "cell_type": "code",
      "execution_count": null,
      "id": "8418ac5f",
      "metadata": {},
      "outputs": [],
      "source": [
        "def busqueda_multidimensional(array, objetivo):\n",
        "    # Esta funci\u00f3n es conceptual y requerir\u00eda una implementaci\u00f3n espec\u00edfica basada en la estructura del array multidimensional.\n",
        "    return -1\n",
        "\n",
        "# Ejemplo conceptual, la implementaci\u00f3n detallada depende de la estructura espec\u00edfica del array"
      ]
    },
    {
      "cell_type": "markdown",
      "id": "878564ea",
      "metadata": {},
      "source": [
        "Estos ejercicios avanzados est\u00e1n dise\u00f1ados para profundizar en la comprensi\u00f3n y aplicaci\u00f3n de la b\u00fasqueda por interpolaci\u00f3n, adaptando este algoritmo a diferentes contextos y desaf\u00edos, desde listas grandes y con duplicados hasta estructuras de datos m\u00e1s complejas como strings, flotantes, y arrays multidimensionales."
      ]
    }
  ],
  "metadata": {},
  "nbformat": 4,
  "nbformat_minor": 5
}