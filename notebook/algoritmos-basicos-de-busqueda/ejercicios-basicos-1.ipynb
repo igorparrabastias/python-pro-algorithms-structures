{
  "cells": [
    {
      "cell_type": "markdown",
      "id": "ad924216",
      "metadata": {},
      "source": [
        "# Ejercicios B\u00e1sicos\n",
        "\n",
        "### Ejercicios B\u00e1sicos sobre B\u00fasqueda Binaria en Python\n",
        "\n",
        "### Ejercicio 1: Encontrar un N\u00famero en una Lista Ordenada\n",
        "\n",
        "Dada la lista ordenada `[3, 6, 8, 12, 14, 17, 20, 21, 24, 28]`, utiliza la funci\u00f3n de b\u00fasqueda binaria para encontrar el \u00edndice del n\u00famero `17`.\n",
        "\n",
        "**Soluci\u00f3n**:"
      ]
    },
    {
      "cell_type": "code",
      "execution_count": null,
      "id": "94a296a1",
      "metadata": {},
      "outputs": [],
      "source": [
        "lista = [3, 6, 8, 12, 14, 17, 20, 21, 24, 28]\n",
        "objetivo = 17\n",
        "print(\"\u00cdndice de 17:\", busqueda_binaria(lista, objetivo))"
      ]
    },
    {
      "cell_type": "markdown",
      "id": "59659f7b",
      "metadata": {},
      "source": [
        "### Ejercicio 2: Verificar la Ausencia de un Elemento\n",
        "\n",
        "Utiliza la b\u00fasqueda binaria para verificar que el n\u00famero `15` no est\u00e1 presente en la lista `[2, 5, 7, 12, 14, 18, 21]`.\n",
        "\n",
        "**Soluci\u00f3n**:"
      ]
    },
    {
      "cell_type": "code",
      "execution_count": null,
      "id": "e14be5d9",
      "metadata": {},
      "outputs": [],
      "source": [
        "lista = [2, 5, 7, 12, 14, 18, 21]\n",
        "objetivo = 15\n",
        "print(\"\u00cdndice de 15:\", busqueda_binaria(lista, objetivo))"
      ]
    },
    {
      "cell_type": "markdown",
      "id": "87579461",
      "metadata": {},
      "source": [
        "### Ejercicio 3: B\u00fasqueda en una Lista de Cadenas\n",
        "\n",
        "Aplica la b\u00fasqueda binaria para encontrar la posici\u00f3n de la palabra `\"naranja\"` en la lista ordenada `[\"manzana\", \"naranja\", \"pera\", \"uva\"]`.\n",
        "\n",
        "**Soluci\u00f3n**:"
      ]
    },
    {
      "cell_type": "code",
      "execution_count": null,
      "id": "cb40c530",
      "metadata": {},
      "outputs": [],
      "source": [
        "lista = [\"manzana\", \"naranja\", \"pera\", \"uva\"]\n",
        "objetivo = \"naranja\"\n",
        "print(\"\u00cdndice de 'naranja':\", busqueda_binaria(lista, objetivo))"
      ]
    },
    {
      "cell_type": "markdown",
      "id": "9b2e40fe",
      "metadata": {},
      "source": [
        "### Ejercicio 4: B\u00fasqueda Binaria para Determinar la Posibilidad de Inserci\u00f3n\n",
        "\n",
        "Determina la posici\u00f3n en la que se deber\u00eda insertar el n\u00famero `13` para mantener el orden en la lista `[10, 11, 12, 14, 15, 16]`.\n",
        "\n",
        "**Nota**: Este ejercicio requiere modificar la b\u00fasqueda binaria para devolver el \u00edndice de inserci\u00f3n en caso de que el objetivo no se encuentre.\n",
        "\n",
        "**Soluci\u00f3n**:"
      ]
    },
    {
      "cell_type": "code",
      "execution_count": null,
      "id": "370802fb",
      "metadata": {},
      "outputs": [],
      "source": [
        "def busqueda_binaria_insercion(lista, objetivo):\n",
        "    inicio, fin = 0, len(lista)\n",
        "    while inicio < fin:\n",
        "        medio = (inicio + fin) // 2\n",
        "        if lista[medio] < objetivo:\n",
        "            inicio = medio + 1\n",
        "        else:\n",
        "            fin = medio\n",
        "    return inicio\n",
        "\n",
        "lista = [10, 11, 12, 14, 15, 16]\n",
        "objetivo = 13\n",
        "print(\"Posici\u00f3n de inserci\u00f3n para 13:\", busqueda_binaria_insercion(lista, objetivo))"
      ]
    },
    {
      "cell_type": "markdown",
      "id": "db5e1662",
      "metadata": {},
      "source": [
        "### Ejercicio 5: Identificar el Elemento m\u00e1s Cercano\n",
        "\n",
        "Encuentra el n\u00famero m\u00e1s cercano a `9` en la lista `[2, 4, 6, 8, 10, 12]`.\n",
        "\n",
        "**Soluci\u00f3n**:\n",
        "Este ejercicio implica ajustar la b\u00fasqueda binaria para considerar los valores m\u00e1s cercanos al objetivo cuando no se encuentra una coincidencia exacta."
      ]
    },
    {
      "cell_type": "code",
      "execution_count": null,
      "id": "c7c862f4",
      "metadata": {},
      "outputs": [],
      "source": [
        "def busqueda_binaria_cercana(lista, objetivo):\n",
        "    inicio, fin = 0, len(lista) - 1\n",
        "    if len(lista) == 0:\n",
        "        return None\n",
        "    if len(lista) == 1:\n",
        "        return lista[0]\n",
        "\n",
        "    while inicio <= fin:\n",
        "        medio = (inicio + fin) // 2\n",
        "        if medio + 1 < len(lista) and abs(lista[medio] - objetivo) > abs(lista[medio + 1] - objetivo):\n",
        "            inicio = medio + 1\n",
        "        elif lista[medio] == objetivo:\n",
        "            return lista[medio]\n",
        "        else:\n",
        "            fin = medio - 1\n",
        "\n",
        "    return lista[(inicio + fin) // 2]\n",
        "\n",
        "lista = [2, 4, 6, 8, 10, 12]\n",
        "objetivo = 9\n",
        "print(\"N\u00famero m\u00e1s cercano a 9:\", busqueda_binaria_cercana(lista, objetivo))"
      ]
    },
    {
      "cell_type": "markdown",
      "id": "7d348ba4",
      "metadata": {},
      "source": [
        "Estos ejercicios b\u00e1sicos est\u00e1n dise\u00f1ados para ayudarte a entender y practicar la implementaci\u00f3n y aplicaciones de la b\u00fasqueda binaria en Python, abarcando desde la b\u00fasqueda de elementos en listas ordenadas hasta ajustes m\u00e1s sofisticados del algoritmo para casos de uso espec\u00edficos."
      ]
    }
  ],
  "metadata": {},
  "nbformat": 4,
  "nbformat_minor": 5
}