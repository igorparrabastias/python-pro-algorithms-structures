{
  "cells": [
    {
      "cell_type": "markdown",
      "id": "799e03b2",
      "metadata": {},
      "source": [
        "# B\u00fasqueda por Interpolaci\u00f3n\n",
        "\n",
        "## Clase sobre B\u00fasqueda por Interpolaci\u00f3n\n",
        "\n",
        "### Introducci\u00f3n:\n",
        "\n",
        "La b\u00fasqueda por interpolaci\u00f3n es un algoritmo de b\u00fasqueda que asume que los datos est\u00e1n ordenados y distribuidos uniformemente. Mejora la b\u00fasqueda binaria al utilizar una aproximaci\u00f3n para predecir d\u00f3nde podr\u00eda estar el elemento objetivo, lo que puede llevar a encontrar el elemento m\u00e1s r\u00e1pidamente en ciertos casos.\n",
        "\n",
        "### Concepto de B\u00fasqueda por Interpolaci\u00f3n:\n",
        "\n",
        "En lugar de dividir siempre la lista por la mitad como en la b\u00fasqueda binaria, la b\u00fasqueda por interpolaci\u00f3n calcula una posici\u00f3n probable del elemento objetivo usando la interpolaci\u00f3n lineal. La f\u00f3rmula utilizada es:\n",
        "\n",
        "$$\n",
        "pos=inicio+(lista[fin]\u2212lista[inicio](objetivo\u2212lista[inicio])\u00d7(fin\u2212inicio)\u200b)\n",
        "$$\n",
        "\n",
        "Donde:\n",
        "\n",
        "- `pos` es la posici\u00f3n estimada del elemento objetivo.\n",
        "- `inicio` y `fin` son los \u00edndices entre los cuales se busca.\n",
        "- `objetivo` es el valor que se est\u00e1 buscando.\n",
        "\n",
        "### Implementaci\u00f3n en Python:"
      ]
    },
    {
      "cell_type": "code",
      "execution_count": null,
      "id": "6514d77f",
      "metadata": {},
      "outputs": [],
      "source": [
        "def busqueda_por_interpolacion(lista, objetivo):\n",
        "    inicio, fin = 0, len(lista) - 1\n",
        "\n",
        "    while inicio <= fin and objetivo >= lista[inicio] and objetivo <= lista[fin]:\n",
        "        if inicio == fin:\n",
        "            if lista[inicio] == objetivo:\n",
        "                return inicio\n",
        "            else:\n",
        "                return -1\n",
        "\n",
        "        pos = inicio + int(((float(fin - inicio) / (lista[fin] - lista[inicio])) * (objetivo - lista[inicio])))\n",
        "\n",
        "        if lista[pos] == objetivo:\n",
        "            return pos\n",
        "        if lista[pos] < objetivo:\n",
        "            inicio = pos + 1\n",
        "        else:\n",
        "            fin = pos - 1\n",
        "\n",
        "    return -1"
      ]
    },
    {
      "cell_type": "markdown",
      "id": "692b53ce",
      "metadata": {},
      "source": [
        "### Ejemplo de Uso:"
      ]
    },
    {
      "cell_type": "code",
      "execution_count": null,
      "id": "12f33ef5",
      "metadata": {},
      "outputs": [],
      "source": [
        "mi_lista = [10, 12, 13, 16, 18, 19, 20, 21, 22, 23, 24, 33, 35, 42, 47]\n",
        "objetivo = 18\n",
        "resultado = busqueda_por_interpolacion(mi_lista, objetivo)\n",
        "print(f\"El n\u00famero {objetivo} se encontr\u00f3 en el \u00edndice: {resultado}\")"
      ]
    },
    {
      "cell_type": "markdown",
      "id": "98d582c6",
      "metadata": {},
      "source": [
        "### Complejidad del Algoritmo:\n",
        "\n",
        "- **Mejor caso**: O(1), cuando el elemento objetivo est\u00e1 muy cerca de la posici\u00f3n estimada inicial.\n",
        "- **Caso promedio**: O(log log n), bajo la suposici\u00f3n de una distribuci\u00f3n uniforme de los elementos.\n",
        "- **Peor caso**: O(n), similar a la b\u00fasqueda lineal, cuando los elementos no est\u00e1n uniformemente distribuidos.\n",
        "\n",
        "### Ventajas de la B\u00fasqueda por Interpolaci\u00f3n:\n",
        "\n",
        "- **Eficiencia**: Puede ser significativamente m\u00e1s r\u00e1pido que la b\u00fasqueda binaria para conjuntos de datos grandes y uniformemente distribuidos.\n",
        "- **Inteligente**: Aprovecha la distribuci\u00f3n de los datos para minimizar el n\u00famero de comparaciones.\n",
        "\n",
        "### Desventajas de la B\u00fasqueda por Interpolaci\u00f3n:\n",
        "\n",
        "- **Requiere Ordenamiento**: Al igual que la b\u00fasqueda binaria, necesita que los datos est\u00e9n ordenados previamente.\n",
        "- **Distribuci\u00f3n Uniforme**: Su eficacia se reduce si los datos no est\u00e1n uniformemente distribuidos.\n",
        "\n",
        "### Conclusi\u00f3n:\n",
        "\n",
        "La b\u00fasqueda por interpolaci\u00f3n es una poderosa t\u00e9cnica de b\u00fasqueda para datos ordenados y uniformemente distribuidos. Ofrece mejoras significativas en la eficiencia en comparaci\u00f3n con la b\u00fasqueda binaria bajo las condiciones adecuadas, aunque su rendimiento puede variar ampliamente dependiendo de la naturaleza de los datos."
      ]
    }
  ],
  "metadata": {},
  "nbformat": 4,
  "nbformat_minor": 5
}