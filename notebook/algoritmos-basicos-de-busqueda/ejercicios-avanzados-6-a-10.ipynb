{
  "cells": [
    {
      "cell_type": "markdown",
      "id": "4ebef9de",
      "metadata": {},
      "source": [
        "# Ejercicios Avanzados 6 a 10\n",
        "\n",
        "### Ejercicio 6: B\u00fasqueda Lineal con Funciones de Callback\n",
        "\n",
        "Implementa una b\u00fasqueda lineal que acepte una funci\u00f3n de callback como criterio de b\u00fasqueda, permitiendo una mayor flexibilidad en las condiciones de b\u00fasqueda."
      ]
    },
    {
      "cell_type": "code",
      "execution_count": null,
      "id": "b69c71a7",
      "metadata": {},
      "outputs": [],
      "source": [
        "# Ejercicio\n",
        "def busqueda_lineal_callback(lista, callback):\n",
        "    for i, valor in enumerate(lista):\n",
        "        if callback(valor):\n",
        "            return i\n",
        "    return -1\n",
        "\n",
        "# Ejemplo de uso: encontrar el primer n\u00famero impar en la lista\n",
        "lista = [4, 2, 6, 7, 10]\n",
        "resultado = busqueda_lineal_callback(lista, lambda x: x % 2 != 0)\n",
        "print(f\"\u00cdndice del primer n\u00famero impar: {resultado}\")"
      ]
    },
    {
      "cell_type": "markdown",
      "id": "d8ed0640",
      "metadata": {},
      "source": [
        "### Ejercicio 7: B\u00fasqueda Lineal en Diccionarios\n",
        "\n",
        "Realiza una b\u00fasqueda lineal en una lista de diccionarios, buscando por una clave y valor espec\u00edficos."
      ]
    },
    {
      "cell_type": "code",
      "execution_count": null,
      "id": "300f6744",
      "metadata": {},
      "outputs": [],
      "source": [
        "# Ejercicio\n",
        "def busqueda_lineal_diccionarios(lista_diccionarios, clave, valor_buscado):\n",
        "    for i, diccionario in enumerate(lista_diccionarios):\n",
        "        if diccionario.get(clave) == valor_buscado:\n",
        "            return i\n",
        "    return -1\n",
        "\n",
        "# Ejemplo de uso: buscar diccionario por nombre\n",
        "empleados = [{'nombre': 'Ana', 'edad': 28}, {'nombre': 'Luis', 'edad': 34}]\n",
        "indice = busqueda_lineal_diccionarios(empleados, 'nombre', 'Luis')\n",
        "print(f\"\u00cdndice del empleado buscado: {indice}\")"
      ]
    },
    {
      "cell_type": "markdown",
      "id": "24dca8ac",
      "metadata": {},
      "source": [
        "### Ejercicio 8: B\u00fasqueda Lineal y Conteo de Elementos\n",
        "\n",
        "Implementa una b\u00fasqueda lineal que cuente las ocurrencias de un elemento dado en la lista."
      ]
    },
    {
      "cell_type": "code",
      "execution_count": null,
      "id": "06b43071",
      "metadata": {},
      "outputs": [],
      "source": [
        "# Ejercicio\n",
        "def busqueda_lineal_conteo(lista, objetivo):\n",
        "    conteo = 0\n",
        "    for elemento in lista:\n",
        "        if elemento == objetivo:\n",
        "            conteo += 1\n",
        "    return conteo\n",
        "\n",
        "# Ejemplo de uso\n",
        "lista = [1, 4, 2, 7, 4, 4, 9]\n",
        "objetivo = 4\n",
        "conteo = busqueda_lineal_conteo(lista, objetivo)\n",
        "print(f\"El elemento {objetivo} aparece {conteo} veces en la lista.\")"
      ]
    },
    {
      "cell_type": "markdown",
      "id": "40b21f98",
      "metadata": {},
      "source": [
        "### Ejercicio 9: B\u00fasqueda Lineal para M\u00ednimo y M\u00e1ximo\n",
        "\n",
        "Encuentra los valores m\u00ednimo y m\u00e1ximo en una lista utilizando b\u00fasqueda lineal."
      ]
    },
    {
      "cell_type": "code",
      "execution_count": null,
      "id": "15e49a0d",
      "metadata": {},
      "outputs": [],
      "source": [
        "# Ejercicio\n",
        "def minimo_maximo(lista):\n",
        "    if not lista:\n",
        "        return None, None\n",
        "    minimo = maximo = lista[0]\n",
        "    for valor in lista[1:]:\n",
        "        if valor < minimo:\n",
        "            minimo = valor\n",
        "        elif valor > maximo:\n",
        "            maximo = valor\n",
        "    return minimo, maximo\n",
        "\n",
        "# Ejemplo de uso\n",
        "lista = [52, 29, 74, 12, 30, 85, 55]\n",
        "minimo, maximo = minimo_maximo(lista)\n",
        "print(f\"M\u00ednimo: {minimo}, M\u00e1ximo: {maximo}\")"
      ]
    },
    {
      "cell_type": "markdown",
      "id": "a3f9ae4f",
      "metadata": {},
      "source": [
        "### Ejercicio 10: B\u00fasqueda Lineal con Salida Temprana para Datos Ordenados\n",
        "\n",
        "Optimiza la b\u00fasqueda lineal para detenerse tempranamente si se pasa por un elemento mayor al objetivo en una lista ordenada."
      ]
    },
    {
      "cell_type": "code",
      "execution_count": null,
      "id": "b0831939",
      "metadata": {},
      "outputs": [],
      "source": [
        "# Ejercicio\n",
        "def busqueda_lineal_ordenada(lista, objetivo):\n",
        "    for i, valor in enumerate(lista):\n",
        "        if valor == objetivo:\n",
        "            return i\n",
        "        elif valor > objetivo:\n",
        "            break\n",
        "    return -1\n",
        "\n",
        "# Ejemplo de uso\n",
        "lista_ordenada = [1, 3, 5, 7, 9, 11, 13]\n",
        "objetivo = 7\n",
        "indice = busqueda_lineal_ordenada(lista_ordenada, objetivo)\n",
        "print(f\"\u00cdndice del objetivo {objetivo}: {indice}\")"
      ]
    },
    {
      "cell_type": "markdown",
      "id": "90954e54",
      "metadata": {},
      "source": [
        "Estos ejercicios avanzados proporcionan una oportunidad para explorar aplicaciones m\u00e1s complejas y optimizaciones de la b\u00fasqueda lineal, demostrando su versatilidad y c\u00f3mo puede ser adaptada para diferentes escenarios y estructuras de datos en Python."
      ]
    }
  ],
  "metadata": {},
  "nbformat": 4,
  "nbformat_minor": 5
}