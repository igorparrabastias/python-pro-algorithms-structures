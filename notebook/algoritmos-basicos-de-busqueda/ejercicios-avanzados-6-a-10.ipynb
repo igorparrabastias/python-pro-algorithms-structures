{
 "cells": [
  {
   "cell_type": "markdown",
   "id": "cf70e2c8",
   "metadata": {},
   "source": [
    "# Ejercicios Avanzados 6 a 10\n",
    "\n",
    "### Ejercicio 6: Implementación de Doble Hashing\n",
    "\n",
    "Modifica la clase `HashTable` para usar doble hashing como método de resolución de colisiones. Implementa una segunda función hash y modifica el método de inserción para utilizar doble hashing cuando se encuentre una colisión."
   ]
  },
  {
   "cell_type": "code",
   "execution_count": null,
   "id": "52e001ba",
   "metadata": {},
   "outputs": [],
   "source": [
    "class HashTable:\n",
    "    def __init__(self, size=10):\n",
    "        self.size = size\n",
    "        self.table = [None] * self.size\n",
    "\n",
    "    def primary_hash_function(self, key):\n",
    "        return key % self.size\n",
    "\n",
    "    def secondary_hash_function(self, key):\n",
    "        return 7 - (key % 7)\n",
    "\n",
    "    def insert(self, key, value):\n",
    "        index = self.primary_hash_function(key)\n",
    "        if self.table[index] is not None:\n",
    "            i = 1\n",
    "            while True:\n",
    "                new_index = (index + i * self.secondary_hash_function(key)) % self.size\n",
    "                if self.table[new_index] is None:\n",
    "                    self.table[new_index] = (key, value)\n",
    "                    break\n",
    "                i += 1\n",
    "        else:\n",
    "            self.table[index] = (key, value)\n",
    "\n",
    "    def search(self, key):\n",
    "        index = self.primary_hash_function(key)\n",
    "        if self.table[index] is None:\n",
    "            return None\n",
    "        elif self.table[index][0] == key:\n",
    "            return self.table[index][1]\n",
    "        else:\n",
    "            i = 1\n",
    "            while True:\n",
    "                new_index = (index + i * self.secondary_hash_function(key)) % self.size\n",
    "                if self.table[new_index] is None:\n",
    "                    return None\n",
    "                elif self.table[new_index][0] == key:\n",
    "                    return self.table[new_index][1]\n",
    "                i += 1\n"
   ]
  },
  {
   "cell_type": "markdown",
   "id": "86ed6ded",
   "metadata": {},
   "source": [
    "### Ejercicio 7: Serialización de una Tabla Hash\n",
    "\n",
    "Implementa métodos para serializar y deserializar la `HashTable` a y desde una cadena de texto. Esto permitirá guardar y cargar el estado de la tabla hash de una manera fácil de almacenar y transferir."
   ]
  },
  {
   "cell_type": "code",
   "execution_count": null,
   "id": "f3267560",
   "metadata": {},
   "outputs": [],
   "source": [
    "import json\n",
    "\n",
    "class HashTable:\n",
    "    # Constructor, hash_function, insert, search se mantienen igual\n",
    "\n",
    "    def serialize(self):\n",
    "        return json.dumps(self.table)\n",
    "\n",
    "    def deserialize(self, data):\n",
    "        self.table = json.loads(data)\n",
    "\n",
    "# Ejemplo de uso de serialización y deserialización\n",
    "hash_table = HashTable()\n",
    "hash_table.insert(1, \"Apple\")\n",
    "serialized_data = hash_table.serialize()\n",
    "new_hash_table = HashTable()\n",
    "new_hash_table.deserialize(serialized_data)\n",
    "print(new_hash_table.search(1))  # Output: Apple\n"
   ]
  },
  {
   "cell_type": "markdown",
   "id": "4551f873",
   "metadata": {},
   "source": [
    "### Ejercicio 8: HashTable con Soporte para Iteración\n",
    "\n",
    "Haz que la clase `HashTable` sea iterable. Implementa los métodos `__iter__` y `__next__` para permitir iterar sobre los elementos almacenados en la tabla hash."
   ]
  },
  {
   "cell_type": "code",
   "execution_count": null,
   "id": "350e811c",
   "metadata": {},
   "outputs": [],
   "source": [
    "class HashTable:\n",
    "    # Constructor, hash_function, insert, search se mantienen igual\n",
    "\n",
    "    def __iter__(self):\n",
    "        self.current = 0\n",
    "        self.iter_list = sum(self.table, [])\n",
    "        return self\n",
    "\n",
    "    def __next__(self):\n",
    "        if self.current < len(self.iter_list):\n",
    "            result = self.iter_list[self.current]\n",
    "            self.current += 1\n",
    "            return result\n",
    "        else:\n",
    "            raise StopIteration\n",
    "\n",
    "# Uso de la tabla hash como iterable\n"
   ]
  },
  {
   "cell_type": "markdown",
   "id": "ae43bb1f",
   "metadata": {},
   "source": [
    "### Ejercicio 9: Uso de Generadores para Manejar Colisiones\n",
    "\n",
    "Reescribe el método de inserción de la clase `HashTable` para que use un generador que calcule los índices de rehash en caso de colisiones, utilizando doble hashing o cualquier otro método de resolución de colisiones que prefieras."
   ]
  },
  {
   "cell_type": "code",
   "execution_count": null,
   "id": "8fd9f948",
   "metadata": {},
   "outputs": [],
   "source": [
    "class HashTable:\n",
    "    # Constructor, hash_function, y métodos auxiliares se mantienen igual\n",
    "\n",
    "    def rehash_generator(self, key):\n",
    "        i = 0\n",
    "        while True:\n",
    "            yield (self.primary_hash_function(key) + i * self.secondary_hash_function(key)) % self.size\n",
    "            i += 1\n",
    "\n",
    "    def insert(self, key, value):\n",
    "        gen = self.rehash_generator(key)\n",
    "        index = next(gen)\n",
    "        while self.table[index] is not None:\n",
    "            index = next(gen)\n",
    "        self.table[index] = (key, value)\n",
    "\n",
    "# Uso del generador para manejar colisiones en la inserción\n"
   ]
  },
  {
   "cell_type": "markdown",
   "id": "3e6cac2a",
   "metadata": {},
   "source": [
    "### Ejercicio 10: Análisis de Rendimiento de la Tabla Hash\n",
    "\n",
    "Escribe una función que analice el rendimiento de la tabla hash en términos de factor de carga, número de colisiones, y tiempo promedio de búsqueda. Utiliza esta función para evaluar diferentes tamaños de tablas y funciones hash.\n",
    "\n",
    "```python\n",
    "import time\n",
    "\n",
    "class HashTable:\n",
    "    # Constructor, hash_function, insert, search, y métodos auxiliares se mantienen igual"
   ]
  },
  {
   "cell_type": "code",
   "execution_count": null,
   "id": "cb54f2a8",
   "metadata": {},
   "outputs": [],
   "source": [
    "def analyze_performance(self):\n",
    "    start_time = time.time()\n",
    "    load_factor = self.count / self.size\n",
    "    search_times = []\n",
    "    for i in range(self.size):\n",
    "        if self.table[i] is not None:\n",
    "            start_search_time = time.time()\n",
    "            self.search(self.table[i][0])\n",
    "            search_times.append(time.time() - start_search_time)\n",
    "    average_search_time = sum(search_times) / len(search_times) if search_times else 0\n",
    "    end_time = time.time()\n",
    "    total_time = end_time - start_time\n",
    "    print(f\"Load Factor: {load_factor}, Collisions: {self.collisions}, Average Search Time: {average_search_time}, Total Time: {total_time}\")"
   ]
  },
  {
   "cell_type": "markdown",
   "id": "d6058249",
   "metadata": {},
   "source": [
    "# Uso de la función para analizar el rendimiento\n",
    "\n",
    "```"
   ]
  }
 ],
 "metadata": {},
 "nbformat": 4,
 "nbformat_minor": 5
}
