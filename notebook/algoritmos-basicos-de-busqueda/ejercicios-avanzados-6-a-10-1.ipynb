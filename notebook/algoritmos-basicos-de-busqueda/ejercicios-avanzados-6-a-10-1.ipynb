{
  "cells": [
    {
      "cell_type": "markdown",
      "id": "9c81a391",
      "metadata": {},
      "source": [
        "# Ejercicios Avanzados 6 a 10\n",
        "\n",
        "### Ejercicio 6: M\u00e1ximo en Arreglo Rotado\n",
        "\n",
        "Encuentra el valor m\u00e1ximo en un arreglo rotado como `[4, 5, 6, 7, 0, 1, 2]`, asumiendo que no hay duplicados.\n",
        "\n",
        "**Soluci\u00f3n**:"
      ]
    },
    {
      "cell_type": "code",
      "execution_count": null,
      "id": "e403f6ab",
      "metadata": {},
      "outputs": [],
      "source": [
        "def encontrar_maximo_rotado(arr):\n",
        "    inicio, fin = 0, len(arr) - 1\n",
        "    while inicio < fin:\n",
        "        medio = inicio + (fin - inicio) // 2\n",
        "        if arr[medio] > arr[fin]:\n",
        "            inicio = medio + 1\n",
        "        else:\n",
        "            fin = medio\n",
        "    return arr[inicio - 1]  # El m\u00e1ximo est\u00e1 justo antes del m\u00ednimo\n",
        "\n",
        "arr = [4, 5, 6, 7, 0, 1, 2]\n",
        "print(\"Valor m\u00e1ximo:\", encontrar_maximo_rotado(arr))"
      ]
    },
    {
      "cell_type": "markdown",
      "id": "9221fadc",
      "metadata": {},
      "source": [
        "### Ejercicio 7: B\u00fasqueda Binaria en Matriz Bidimensional\n",
        "\n",
        "Implementa una b\u00fasqueda binaria en una matriz bidimensional ordenada por filas y columnas para encontrar un valor objetivo.\n",
        "\n",
        "**Soluci\u00f3n**:"
      ]
    },
    {
      "cell_type": "code",
      "execution_count": null,
      "id": "24178eb4",
      "metadata": {},
      "outputs": [],
      "source": [
        "def busqueda_binaria_matriz(matriz, objetivo):\n",
        "    if not matriz:\n",
        "        return False\n",
        "    filas, columnas = len(matriz), len(matriz[0])\n",
        "    inicio, fin = 0, filas * columnas - 1\n",
        "\n",
        "    while inicio <= fin:\n",
        "        medio = (inicio + fin) // 2\n",
        "        num = matriz[medio // columnas][medio % columnas]\n",
        "\n",
        "        if num == objetivo:\n",
        "            return True\n",
        "        elif num < objetivo:\n",
        "            inicio = medio + 1\n",
        "        else:\n",
        "            fin = medio - 1\n",
        "    return False\n",
        "\n",
        "matriz = [\n",
        "    [1, 3, 5],\n",
        "    [7, 9, 11],\n",
        "    [13, 15, 17]\n",
        "]\n",
        "objetivo = 9\n",
        "print(\"Objetivo encontrado:\", busqueda_binaria_matriz(matriz, objetivo))"
      ]
    },
    {
      "cell_type": "markdown",
      "id": "5f92ad9a",
      "metadata": {},
      "source": [
        "### Ejercicio 8: B\u00fasqueda de Elemento Pico en Arreglo\n",
        "\n",
        "Encuentra un elemento pico en un arreglo donde cada elemento es distinto y un pico se define como un elemento que es mayor que sus vecinos.\n",
        "\n",
        "**Soluci\u00f3n**:"
      ]
    },
    {
      "cell_type": "code",
      "execution_count": null,
      "id": "bdd522e5",
      "metadata": {},
      "outputs": [],
      "source": [
        "def encontrar_pico(arr):\n",
        "    inicio, fin = 0, len(arr) - 1\n",
        "    while inicio < fin:\n",
        "        medio = (inicio + fin) // 2\n",
        "        if arr[medio] < arr[medio + 1]:\n",
        "            inicio = medio + 1\n",
        "        else:\n",
        "            fin = medio\n",
        "    return inicio\n",
        "\n",
        "arr = [1, 2, 1, 3, 5, 6, 4]\n",
        "print(\"\u00cdndice del elemento pico:\", encontrar_pico(arr))"
      ]
    },
    {
      "cell_type": "markdown",
      "id": "19970ea2",
      "metadata": {},
      "source": [
        "### Ejercicio 9: B\u00fasqueda Binaria para Aproximaci\u00f3n M\u00e1s Cercana\n",
        "\n",
        "Encuentra el n\u00famero m\u00e1s cercano a un objetivo dado en una lista ordenada, incluso si el objetivo no est\u00e1 presente en la lista.\n",
        "\n",
        "**Soluci\u00f3n**:"
      ]
    },
    {
      "cell_type": "code",
      "execution_count": null,
      "id": "53b23ae5",
      "metadata": {},
      "outputs": [],
      "source": [
        "def encontrar_mas_cercano(arr, objetivo):\n",
        "    if not arr:\n",
        "        return None\n",
        "    inicio, fin = 0, len(arr) - 1\n",
        "    while inicio <= fin:\n",
        "        medio = (inicio + fin) // 2\n",
        "        if arr[medio] == objetivo:\n",
        "            return arr[medio]\n",
        "\n",
        "        if medio + 1 < len(arr) and abs(arr[medio + 1] - objetivo) < abs(arr[medio] - objetivo):\n",
        "            inicio = medio + 1\n",
        "        elif medio - 1 >= 0 and abs(arr[medio - 1] - objetivo) < abs(arr[medio] - objetivo):\n",
        "            fin = medio - 1\n",
        "        else:\n",
        "            return arr[medio]\n",
        "    return arr[inicio] if inicio < len(arr) else arr[fin]\n",
        "\n",
        "arr = [2, 5, 6, 7, 8, 8, 9]\n",
        "objetivo = 4\n",
        "print(\"N\u00famero m\u00e1s cercano a\", objetivo, \":\", encontrar_mas_cercano(arr, objetivo))"
      ]
    },
    {
      "cell_type": "markdown",
      "id": "cb98fa53",
      "metadata": {},
      "source": [
        "### Ejercicio 10: B\u00fasqueda Binaria en Arreglos con Valores Repetidos\n",
        "\n",
        "Modifica la b\u00fasqueda binaria para manejar arreglos con valores repetidos, encontrando el primer \u00edndice de un valor objetivo.\n",
        "\n",
        "**Soluci\u00f3n**:"
      ]
    },
    {
      "cell_type": "code",
      "execution_count": null,
      "id": "4bba594b",
      "metadata": {},
      "outputs": [],
      "source": [
        "def busqueda_binaria_repetidos(arr, objetivo):\n",
        "    inicio, fin = 0, len(arr) - 1\n",
        "    resultado = -1\n",
        "    while inicio <= fin:\n",
        "        medio = (inicio + fin) // 2\n",
        "        if arr[medio] == objetivo:\n",
        "            resultado = medio  # Encuentra el objetivo pero sigue buscando a la izquierda\n",
        "            fin = medio - 1\n",
        "        elif arr[medio] < objetivo:\n",
        "            inicio = medio + 1\n",
        "        else:\n",
        "            fin = medio - 1\n",
        "    return resultado\n",
        "\n",
        "arr = [1, 2, 4, 4, 4, 5, 6]\n",
        "objetivo = 4\n",
        "print(\"Primer \u00edndice del objetivo:\", busqueda_binaria_repetidos(arr,\n",
        "\n",
        " objetivo))"
      ]
    },
    {
      "cell_type": "markdown",
      "id": "f69d2b68",
      "metadata": {},
      "source": [
        "Estos ejercicios avanzados est\u00e1n dise\u00f1ados para ampliar tu comprensi\u00f3n y habilidad en la implementaci\u00f3n de la b\u00fasqueda binaria, desafi\u00e1ndote a aplicar este algoritmo en escenarios m\u00e1s complejos y con requisitos adicionales."
      ]
    }
  ],
  "metadata": {},
  "nbformat": 4,
  "nbformat_minor": 5
}