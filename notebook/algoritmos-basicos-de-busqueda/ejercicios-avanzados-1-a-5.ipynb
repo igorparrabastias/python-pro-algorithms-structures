{
  "cells": [
    {
      "cell_type": "markdown",
      "id": "3dea48f7",
      "metadata": {},
      "source": [
        "# Ejercicios Avanzados 1 a 5\n",
        "\n",
        "### Ejercicio 1: B\u00fasqueda Lineal en Listas de Listas\n",
        "\n",
        "Implementa una funci\u00f3n de b\u00fasqueda lineal que pueda buscar un elemento dentro de listas anidadas. Por ejemplo, busca el n\u00famero `5` en la lista `[[1, 2], [3, 4], [5, 6]]`."
      ]
    },
    {
      "cell_type": "code",
      "execution_count": null,
      "id": "752af9cb",
      "metadata": {},
      "outputs": [],
      "source": [
        "# Ejercicio\n",
        "def busqueda_lineal_anidada(lista, objetivo):\n",
        "    for i, sublista in enumerate(lista):\n",
        "        if objetivo in sublista:\n",
        "            return (i, sublista.index(objetivo))\n",
        "    return -1\n",
        "\n",
        "lista_anidada = [[1, 2], [3, 4], [5, 6]]\n",
        "objetivo = 5\n",
        "resultado = busqueda_lineal_anidada(lista_anidada, objetivo)\n",
        "print(f\"\u00cdndice del objetivo {objetivo}: {resultado}\")"
      ]
    },
    {
      "cell_type": "markdown",
      "id": "04f35f77",
      "metadata": {},
      "source": [
        "### Ejercicio 2: B\u00fasqueda Lineal con M\u00faltiples Condiciones\n",
        "\n",
        "Crea una funci\u00f3n de b\u00fasqueda lineal para encontrar el primer n\u00famero par mayor que 10 en la lista `[9, 21, 12, 4, 15]`."
      ]
    },
    {
      "cell_type": "code",
      "execution_count": null,
      "id": "893ef584",
      "metadata": {},
      "outputs": [],
      "source": [
        "# Ejercicio\n",
        "def busqueda_par_mayor_que_diez(lista):\n",
        "    for i, num in enumerate(lista):\n",
        "        if num % 2 == 0 and num > 10:\n",
        "            return i\n",
        "    return -1\n",
        "\n",
        "lista = [9, 21, 12, 4, 15]\n",
        "indice = busqueda_par_mayor_que_diez(lista)\n",
        "print(f\"\u00cdndice del primer n\u00famero par mayor que 10: {indice}\")"
      ]
    },
    {
      "cell_type": "markdown",
      "id": "7c859784",
      "metadata": {},
      "source": [
        "### Ejercicio 3: B\u00fasqueda Lineal Inversa\n",
        "\n",
        "Implementa una b\u00fasqueda lineal que empiece desde el final de la lista y busque el primer elemento que cumpla con una condici\u00f3n espec\u00edfica."
      ]
    },
    {
      "cell_type": "code",
      "execution_count": null,
      "id": "eba47769",
      "metadata": {},
      "outputs": [],
      "source": [
        "# Ejercicio\n",
        "def busqueda_lineal_inversa(lista, objetivo):\n",
        "    for i in range(len(lista) - 1, -1, -1):\n",
        "        if lista[i] == objetivo:\n",
        "            return i\n",
        "    return -1\n",
        "\n",
        "lista = [5, 8, 1, 9, 3, 5, 1]\n",
        "objetivo = 5\n",
        "indice = busqueda_lineal_inversa(lista, objetivo)\n",
        "print(f\"\u00daltimo \u00edndice del objetivo {objetivo}: {indice}\")"
      ]
    },
    {
      "cell_type": "markdown",
      "id": "d6011389",
      "metadata": {},
      "source": [
        "### Ejercicio 4: B\u00fasqueda de Subcadena en Cadena\n",
        "\n",
        "Escribe una funci\u00f3n que implemente b\u00fasqueda lineal para encontrar la primera aparici\u00f3n de una subcadena dentro de una cadena m\u00e1s grande."
      ]
    },
    {
      "cell_type": "code",
      "execution_count": null,
      "id": "e01bcca0",
      "metadata": {},
      "outputs": [],
      "source": [
        "# Ejercicio\n",
        "def busqueda_subcadena(cadena, subcadena):\n",
        "    for i in range(len(cadena) - len(subcadena) + 1):\n",
        "        if cadena[i:i+len(subcadena)] == subcadena:\n",
        "            return i\n",
        "    return -1\n",
        "\n",
        "cadena = \"hola mundo\"\n",
        "subcadena = \"mundo\"\n",
        "indice = busqueda_subcadena(cadena, subcadena)\n",
        "print(f\"\u00cdndice de la subcadena '{subcadena}': {indice}\")"
      ]
    },
    {
      "cell_type": "markdown",
      "id": "45f7947a",
      "metadata": {},
      "source": [
        "### Ejercicio 5: B\u00fasqueda y Reemplazo Lineal\n",
        "\n",
        "Modifica una lista para reemplazar todas las ocurrencias de un elemento dado por otro. Por ejemplo, reemplaza todos los `2` por `200` en la lista `[1, 2, 3, 2, 4, 2]`."
      ]
    },
    {
      "cell_type": "code",
      "execution_count": null,
      "id": "2f88d08a",
      "metadata": {},
      "outputs": [],
      "source": [
        "# Ejercicio\n",
        "def reemplazo_lineal(lista, objetivo, nuevo_valor):\n",
        "    for i in range(len(lista)):\n",
        "        if lista[i] == objetivo:\n",
        "            lista[i] = nuevo_valor\n",
        "    return lista\n",
        "\n",
        "lista = [1, 2, 3, 2, 4, 2]\n",
        "objetivo = 2\n",
        "nuevo_valor = 200\n",
        "lista_modificada = reemplazo_lineal(lista, objetivo, nuevo_valor)\n",
        "print(\"Lista despu\u00e9s del reemplazo:\", lista_modificada)"
      ]
    },
    {
      "cell_type": "markdown",
      "id": "b93b4c96",
      "metadata": {},
      "source": [
        "Estos ejercicios avanzados sobre b\u00fasqueda lineal en Python te desaf\u00edan a aplicar y extender el algoritmo en contextos m\u00e1s complejos, mejorando tu comprensi\u00f3n de la b\u00fasqueda lineal y tus habilidades de programaci\u00f3n general."
      ]
    }
  ],
  "metadata": {},
  "nbformat": 4,
  "nbformat_minor": 5
}