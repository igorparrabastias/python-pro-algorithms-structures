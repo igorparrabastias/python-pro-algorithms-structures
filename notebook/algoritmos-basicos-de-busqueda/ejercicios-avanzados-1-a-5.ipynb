{
 "cells": [
  {
   "cell_type": "markdown",
   "id": "f323202c",
   "metadata": {},
   "source": [
    "# Ejercicios Avanzados 1 a 5\n",
    "\n",
    "### Ejercicio Avanzado 1: Expansión Dinámica de la Tabla Hash\n",
    "\n",
    "Implementa una versión de la clase `HashTable` que aumente automáticamente su tamaño cuando el factor de carga (número de elementos / tamaño de la tabla) supere un umbral, por ejemplo, 0.7. Asegúrate de rehash todos los elementos existentes a sus nuevos índices en la tabla ampliada."
   ]
  },
  {
   "cell_type": "code",
   "execution_count": null,
   "id": "9b4a7cca",
   "metadata": {},
   "outputs": [],
   "source": [
    "class HashTable:\n",
    "    def __init__(self, size=10):\n",
    "        self.size = size\n",
    "        self.count = 0\n",
    "        self.table = [[] for _ in range(self.size)]\n",
    "\n",
    "    def hash_function(self, key):\n",
    "        return key % self.size\n",
    "\n",
    "    def insert(self, key, value):\n",
    "        if self.count / self.size > 0.7:\n",
    "            self.resize()\n",
    "        index = self.hash_function(key)\n",
    "        self.table[index].append((key, value))\n",
    "        self.count += 1\n",
    "\n",
    "    def search(self, key):\n",
    "        index = self.hash_function(key)\n",
    "        for pair in self.table[index]:\n",
    "            if pair[0] == key:\n",
    "                return pair[1]\n",
    "        return None\n",
    "\n",
    "    def resize(self):\n",
    "        self.size *= 2\n",
    "        old_table = self.table\n",
    "        self.table = [[] for _ in range(self.size)]\n",
    "        self.count = 0\n",
    "        for bucket in old_table:\n",
    "            for key, value in bucket:\n",
    "                self.insert(key, value)\n",
    "\n",
    "# Uso de la tabla hash con expansión dinámica\n"
   ]
  },
  {
   "cell_type": "markdown",
   "id": "1eecb83f",
   "metadata": {},
   "source": [
    "### Ejercicio Avanzado 2: Hashing de Cadenas\n",
    "\n",
    "Modifica la función hash para que ahora pueda aceptar cadenas como claves, convirtiendo la cadena en un valor entero basado en los caracteres antes de aplicar el módulo. Implementa una función de hashing que sume los valores ordinales de los caracteres de la cadena."
   ]
  },
  {
   "cell_type": "code",
   "execution_count": null,
   "id": "d3f4309f",
   "metadata": {},
   "outputs": [],
   "source": [
    "class HashTable:\n",
    "    # Métodos __init__, insert, search, y resize se mantienen igual\n",
    "\n",
    "    def hash_function(self, key):\n",
    "        if isinstance(key, int):\n",
    "            return key % self.size\n",
    "        elif isinstance(key, str):\n",
    "            return sum(ord(c) for c in key) % self.size\n",
    "\n",
    "# Uso de la tabla hash con soporte para claves de cadena\n"
   ]
  },
  {
   "cell_type": "markdown",
   "id": "7388efa2",
   "metadata": {},
   "source": [
    "### Ejercicio Avanzado 3: Eliminación Segura de Elementos\n",
    "\n",
    "Implementa una función de eliminación en la clase `HashTable` que, en lugar de eliminar completamente el elemento, marca el espacio con un valor especial (por ejemplo, `\"<DELETED>\"`) para asegurar que las búsquedas de elementos que se encuentren después de un elemento eliminado en una secuencia de encadenamiento no se detengan prematuramente."
   ]
  },
  {
   "cell_type": "code",
   "execution_count": null,
   "id": "74b75f88",
   "metadata": {},
   "outputs": [],
   "source": [
    "class HashTable:\n",
    "    # Constructor, hash_function, insert, y resize se mantienen igual\n",
    "\n",
    "    def remove(self, key):\n",
    "        index = self.hash_function(key)\n",
    "        bucket = self.table[index]\n",
    "        for i, pair in enumerate(bucket):\n",
    "            if pair[0] == key:\n",
    "                bucket[i] = (\"<DELETED>\", None)\n",
    "                self.count -= 1\n",
    "                return True\n",
    "        return False\n",
    "\n",
    "# Uso de la tabla hash con eliminación segura\n"
   ]
  },
  {
   "cell_type": "markdown",
   "id": "6c3b9fbb",
   "metadata": {},
   "source": [
    "### Ejercicio Avanzado 4: Conteo de Colisiones\n",
    "\n",
    "Añade a la clase `HashTable` un método para contar el número total de colisiones que han ocurrido durante la inserción de elementos. Esto ayudará a evaluar la eficacia de la función hash."
   ]
  },
  {
   "cell_type": "code",
   "execution_count": null,
   "id": "5b6c3c1c",
   "metadata": {},
   "outputs": [],
   "source": [
    "class HashTable:\n",
    "    def __init__(self, size=10):\n",
    "        self.size = size\n",
    "        self.count = 0\n",
    "        self.collisions = 0\n",
    "        self.table = [[] for _ in range(self.size)]\n",
    "\n",
    "    # Métodos hash_function, insert, search, resize se mantienen igual\n",
    "\n",
    "    def insert(self, key, value):\n",
    "        index = self.hash_function(key)\n",
    "        if len(self.table[index]) > 0:\n",
    "            self.collisions += 1\n",
    "        super().insert(key, value)\n",
    "\n",
    "    def get_collisions(self):\n",
    "        return self.collisions\n",
    "\n",
    "# Uso de la tabla hash para contar colisiones\n"
   ]
  },
  {
   "cell_type": "markdown",
   "id": "ee06a227",
   "metadata": {},
   "source": [
    "### Ejercicio Avanzado 5: Búsqueda Eficiente con Caché\n",
    "\n",
    "Implementa un sistema de caché dentro de la clase `HashTable` para almacenar los resultados de las últimas búsquedas realizadas. Este caché debería almacenar un número limitado de pares clave-valor recientemente buscados para acelerar la recuperación de elementos que son consultados frecuentemente.\n",
    "\n",
    "```python\n",
    "class HashTable:\n",
    "    def __init__(self, size=10, cache_size=5):\n",
    "        self.size = size\n",
    "        self.table = [[] for _ in range(self.size)]\n",
    "        self.cache = {}\n",
    "        self.cache_size = cache_size"
   ]
  },
  {
   "cell_type": "code",
   "execution_count": null,
   "id": "9ba773e4",
   "metadata": {},
   "outputs": [],
   "source": [
    "# Métodos hash_function, insert, resize se mantienen igual\n",
    "\n",
    "def search(self, key):\n",
    "    if key in self.cache:\n",
    "        return self.cache[key]\n",
    "    index = self.hash_function(key)\n",
    "    for pair in self.table[index]:\n",
    "        if pair[0] == key:\n",
    "            if len(self.cache) >= self.cache_size:\n",
    "                self.cache.pop(next(iter(self.cache)))  # Elimina el primer elemento añadido\n",
    "            self.cache[key] = pair[1]\n",
    "            return pair[1]\n",
    "    return None"
   ]
  },
  {
   "cell_type": "markdown",
   "id": "0800a608",
   "metadata": {},
   "source": [
    "# Uso de la tabla hash con caché para búsquedas eficientes\n",
    "\n",
    "```"
   ]
  }
 ],
 "metadata": {},
 "nbformat": 4,
 "nbformat_minor": 5
}
