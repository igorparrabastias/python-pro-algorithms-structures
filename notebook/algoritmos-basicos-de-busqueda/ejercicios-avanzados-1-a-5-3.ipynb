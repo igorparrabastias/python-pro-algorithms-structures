{
  "cells": [
    {
      "cell_type": "markdown",
      "id": "829b4c26",
      "metadata": {},
      "source": [
        "# Ejercicios Avanzados 1 a 5\n",
        "\n",
        "### Ejercicio Avanzado 1: Expansi\u00f3n Din\u00e1mica de la Tabla Hash\n",
        "\n",
        "Implementa una versi\u00f3n de la clase `HashTable` que aumente autom\u00e1ticamente su tama\u00f1o cuando el factor de carga (n\u00famero de elementos / tama\u00f1o de la tabla) supere un umbral, por ejemplo, 0.7. Aseg\u00farate de rehash todos los elementos existentes a sus nuevos \u00edndices en la tabla ampliada."
      ]
    },
    {
      "cell_type": "code",
      "execution_count": null,
      "id": "910601b6",
      "metadata": {},
      "outputs": [],
      "source": [
        "class HashTable:\n",
        "    def __init__(self, size=10):\n",
        "        self.size = size\n",
        "        self.count = 0\n",
        "        self.table = [[] for _ in range(self.size)]\n",
        "\n",
        "    def hash_function(self, key):\n",
        "        return key % self.size\n",
        "\n",
        "    def insert(self, key, value):\n",
        "        if self.count / self.size > 0.7:\n",
        "            self.resize()\n",
        "        index = self.hash_function(key)\n",
        "        self.table[index].append((key, value))\n",
        "        self.count += 1\n",
        "\n",
        "    def search(self, key):\n",
        "        index = self.hash_function(key)\n",
        "        for pair in self.table[index]:\n",
        "            if pair[0] == key:\n",
        "                return pair[1]\n",
        "        return None\n",
        "\n",
        "    def resize(self):\n",
        "        self.size *= 2\n",
        "        old_table = self.table\n",
        "        self.table = [[] for _ in range(self.size)]\n",
        "        self.count = 0\n",
        "        for bucket in old_table:\n",
        "            for key, value in bucket:\n",
        "                self.insert(key, value)\n",
        "\n",
        "# Uso de la tabla hash con expansi\u00f3n din\u00e1mica"
      ]
    },
    {
      "cell_type": "markdown",
      "id": "160fe9e0",
      "metadata": {},
      "source": [
        "### Ejercicio Avanzado 2: Hashing de Cadenas\n",
        "\n",
        "Modifica la funci\u00f3n hash para que ahora pueda aceptar cadenas como claves, convirtiendo la cadena en un valor entero basado en los caracteres antes de aplicar el m\u00f3dulo. Implementa una funci\u00f3n de hashing que sume los valores ordinales de los caracteres de la cadena."
      ]
    },
    {
      "cell_type": "code",
      "execution_count": null,
      "id": "e53d7d6b",
      "metadata": {},
      "outputs": [],
      "source": [
        "class HashTable:\n",
        "    # M\u00e9todos __init__, insert, search, y resize se mantienen igual\n",
        "\n",
        "    def hash_function(self, key):\n",
        "        if isinstance(key, int):\n",
        "            return key % self.size\n",
        "        elif isinstance(key, str):\n",
        "            return sum(ord(c) for c in key) % self.size\n",
        "\n",
        "# Uso de la tabla hash con soporte para claves de cadena"
      ]
    },
    {
      "cell_type": "markdown",
      "id": "5078c1ff",
      "metadata": {},
      "source": [
        "### Ejercicio Avanzado 3: Eliminaci\u00f3n Segura de Elementos\n",
        "\n",
        "Implementa una funci\u00f3n de eliminaci\u00f3n en la clase `HashTable` que, en lugar de eliminar completamente el elemento, marca el espacio con un valor especial (por ejemplo, `\"<DELETED>\"`) para asegurar que las b\u00fasquedas de elementos que se encuentren despu\u00e9s de un elemento eliminado en una secuencia de encadenamiento no se detengan prematuramente."
      ]
    },
    {
      "cell_type": "code",
      "execution_count": null,
      "id": "86e09326",
      "metadata": {},
      "outputs": [],
      "source": [
        "class HashTable:\n",
        "    # Constructor, hash_function, insert, y resize se mantienen igual\n",
        "\n",
        "    def remove(self, key):\n",
        "        index = self.hash_function(key)\n",
        "        bucket = self.table[index]\n",
        "        for i, pair in enumerate(bucket):\n",
        "            if pair[0] == key:\n",
        "                bucket[i] = (\"<DELETED>\", None)\n",
        "                self.count -= 1\n",
        "                return True\n",
        "        return False\n",
        "\n",
        "# Uso de la tabla hash con eliminaci\u00f3n segura"
      ]
    },
    {
      "cell_type": "markdown",
      "id": "143a22a7",
      "metadata": {},
      "source": [
        "### Ejercicio Avanzado 4: Conteo de Colisiones\n",
        "\n",
        "A\u00f1ade a la clase `HashTable` un m\u00e9todo para contar el n\u00famero total de colisiones que han ocurrido durante la inserci\u00f3n de elementos. Esto ayudar\u00e1 a evaluar la eficacia de la funci\u00f3n hash."
      ]
    },
    {
      "cell_type": "code",
      "execution_count": null,
      "id": "daf92ec9",
      "metadata": {},
      "outputs": [],
      "source": [
        "class HashTable:\n",
        "    def __init__(self, size=10):\n",
        "        self.size = size\n",
        "        self.count = 0\n",
        "        self.collisions = 0\n",
        "        self.table = [[] for _ in range(self.size)]\n",
        "\n",
        "    # M\u00e9todos hash_function, insert, search, resize se mantienen igual\n",
        "\n",
        "    def insert(self, key, value):\n",
        "        index = self.hash_function(key)\n",
        "        if len(self.table[index]) > 0:\n",
        "            self.collisions += 1\n",
        "        super().insert(key, value)\n",
        "\n",
        "    def get_collisions(self):\n",
        "        return self.collisions\n",
        "\n",
        "# Uso de la tabla hash para contar colisiones"
      ]
    },
    {
      "cell_type": "markdown",
      "id": "aa1d84d2",
      "metadata": {},
      "source": [
        "### Ejercicio Avanzado 5: B\u00fasqueda Eficiente con Cach\u00e9\n",
        "\n",
        "Implementa un sistema de cach\u00e9 dentro de la clase `HashTable` para almacenar los resultados de las \u00faltimas b\u00fasquedas realizadas. Este cach\u00e9 deber\u00eda almacenar un n\u00famero limitado de pares clave-valor recientemente buscados para acelerar la recuperaci\u00f3n de elementos que son consultados frecuentemente.\n",
        "\n",
        "```python\n",
        "class HashTable:\n",
        "    def __init__(self, size=10, cache_size=5):\n",
        "        self.size = size\n",
        "        self.table = [[] for _ in range(self.size)]\n",
        "        self.cache = {}\n",
        "        self.cache_size = cache_size"
      ]
    },
    {
      "cell_type": "code",
      "execution_count": null,
      "id": "6fe31f35",
      "metadata": {},
      "outputs": [],
      "source": [
        "# M\u00e9todos hash_function, insert, resize se mantienen igual\n",
        "\n",
        "def search(self, key):\n",
        "    if key in self.cache:\n",
        "        return self.cache[key]\n",
        "    index = self.hash_function(key)\n",
        "    for pair in self.table[index]:\n",
        "        if pair[0] == key:\n",
        "            if len(self.cache) >= self.cache_size:\n",
        "                self.cache.pop(next(iter(self.cache)))  # Elimina el primer elemento a\u00f1adido\n",
        "            self.cache[key] = pair[1]\n",
        "            return pair[1]\n",
        "    return None"
      ]
    },
    {
      "cell_type": "markdown",
      "id": "0f071c9f",
      "metadata": {},
      "source": [
        "# Uso de la tabla hash con cach\u00e9 para b\u00fasquedas eficientes\n",
        "\n",
        "```"
      ]
    }
  ],
  "metadata": {},
  "nbformat": 4,
  "nbformat_minor": 5
}