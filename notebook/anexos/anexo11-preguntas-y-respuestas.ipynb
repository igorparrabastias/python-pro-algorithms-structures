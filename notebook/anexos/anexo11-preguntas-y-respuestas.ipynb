{
 "cells": [
  {
   "attachments": {},
   "cell_type": "markdown",
   "metadata": {},
   "source": [
    "# Preguntas y respuestas\n",
    "\n",
    "## Hay arrays con los cuales sea imposible construir un árbol binario?\n",
    "\n",
    "Sí, hay casos en los que, dados arrays `preorder` e `inorder`, puede ser imposible construir un árbol binario. Esto ocurre cuando los arrays no siguen las reglas fundamentales de la estructura de un árbol binario o cuando los arrays contienen errores en términos de la lógica de construcción de árboles. Aquí algunos ejemplos de situaciones donde sería imposible:\n",
    "\n",
    "1. ** Elementos incoherentes**: Si los arrays `preorder` e `inorder` tienen elementos que no coinciden, o si un elemento aparece en un array pero no en el otro, no se puede construir un árbol binario porque no hay consistencia en los nodos que deben construirse.\n",
    "\n",
    "2. ** Repeticiones de elementos**: Si un array contiene elementos duplicados, no se puede determinar de manera única la posición de esos nodos en el árbol, lo que hace imposible la construcción precisa del árbol binario.\n",
    "\n",
    "3. ** Violación de las propiedades del árbol binario**: Si la secuencia de los arrays no respeta las propiedades de un árbol binario, como la propiedad de que el `inorder` de un árbol binario de búsqueda(BST) debe estar en orden ascendente, entonces no es posible construir un árbol válido a partir de esos arrays.\n",
    "\n",
    "### Ejemplo 1\n",
    "Un ejemplo específico de arrays que harían imposible construir un árbol binario sería:\n",
    "\n",
    "- `preorder`: [1, 2, 3]\n",
    "- `inorder`: [3, 2, 1]\n",
    "\n",
    "Aunque a primera vista parece posible construir un árbol binario con estos arrays, estos arrays en realidad representan un árbol válido. Sin embargo, si alteramos ligeramente los arrays para que no coincidan:\n",
    "\n",
    "- `preorder`: [1, 2, 4]\n",
    "- `inorder`: [2, 3, 1]\n",
    "\n",
    "Aquí, el elemento `4` en el `preorder` y el elemento `3` en el `inorder` no coinciden entre sí, lo que hace imposible construir un árbol binario porque no hay una correspondencia uno a uno entre los elementos de los arrays.\n",
    "\n",
    "### Ejemplo 2\n",
    "\n",
    "Para ilustrar un caso donde es imposible construir un árbol binario dado un conjunto de arrays, incluyendo postorder, consideremos la siguiente combinación de arrays preorder, inorder, y postorder que no cumplen con las reglas para construir un árbol binario de manera coherente:\n",
    "\n",
    "- `preorder`: [1, 2, 4]\n",
    "- `inorder`: [2, 1, 3]\n",
    "- `postorder`: [2, 3, 1]\n",
    "\n",
    "En este ejemplo, el preorder y el inorder indican que 4 debería ser un nodo del árbol, pero el postorder sugiere que el nodo debería ser 3 en lugar de 4. Esta incoherencia entre los arrays hace imposible construir un árbol binario único y coherente, ya que no hay una forma clara de determinar la estructura exacta del árbol con estos datos contradictorios.\n"
   ]
  },
  {
   "attachments": {},
   "cell_type": "markdown",
   "metadata": {},
   "source": [
    "## Los set pueden contener cualquier tipo de elemento?\n",
    "\n",
    "No, los sets en Python no pueden contener elementos mutables como listas, diccionarios o incluso otros sets. Pueden contener tipos inmutables como números, cadenas y tuplas."
   ]
  },
  {
   "cell_type": "code",
   "execution_count": 1,
   "metadata": {},
   "outputs": [
    {
     "name": "stdout",
     "output_type": "stream",
     "text": [
      "{42, (1, 2, 3), 'Hola'}\n",
      "unhashable type: 'list'\n"
     ]
    }
   ],
   "source": [
    "# Creando un set con diferentes tipos de elementos inmutables\n",
    "mi_set = {42, \"Hola\", (1, 2, 3)}\n",
    "\n",
    "print(mi_set)  # Funciona bien\n",
    "\n",
    "# Intentando agregar un elemento mutable como una lista\n",
    "try:\n",
    "    mi_set.add([4, 5, 6])  # Esto generará un error\n",
    "except TypeError as e:\n",
    "    print(e)  # Muestra el error porque las listas no se pueden agregar a un set"
   ]
  }
 ],
 "metadata": {
  "kernelspec": {
   "display_name": "Python 3",
   "language": "python",
   "name": "python3"
  },
  "language_info": {
   "codemirror_mode": {
    "name": "ipython",
    "version": 3
   },
   "file_extension": ".py",
   "mimetype": "text/x-python",
   "name": "python",
   "nbconvert_exporter": "python",
   "pygments_lexer": "ipython3",
   "version": "3.8.10"
  },
  "orig_nbformat": 4
 },
 "nbformat": 4,
 "nbformat_minor": 2
}
