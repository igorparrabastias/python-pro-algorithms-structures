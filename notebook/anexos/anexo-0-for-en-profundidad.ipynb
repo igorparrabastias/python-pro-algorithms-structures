{
  "cells": [
    {
      "cell_type": "markdown",
      "id": "4161e360",
      "metadata": {},
      "source": [
        "# Anexo 0: For en profundidad\n",
        "\n",
        "En Python, el bucle `for` es una construcci\u00f3n vers\u00e1til que se utiliza para iterar sobre elementos de una secuencia (como listas, tuplas, diccionarios, conjuntos y cadenas) u otros objetos iterables. Esto contrasta con lenguajes como JavaScript o PHP, donde existen m\u00faltiples construcciones de iteraci\u00f3n especializadas y m\u00e9todos adaptados a diferentes casos de uso. Exploremos esta diferencia un poco m\u00e1s:\n",
        "\n",
        "### Iteraci\u00f3n en JavaScript\n",
        "\n",
        "En JavaScript, la iteraci\u00f3n se puede realizar de varias maneras, reflejando la flexibilidad del lenguaje y la evoluci\u00f3n de sus est\u00e1ndares:\n",
        "\n",
        "1. **for loop**: El bucle `for` tradicional, similar a otros lenguajes similares a C, que puede iterar sobre arrays u otros objetos iterables por \u00edndice."
      ]
    },
    {
      "cell_type": "code",
      "execution_count": null,
      "id": "e107d053",
      "metadata": {},
      "outputs": [],
      "source": [
        "```jsx\n",
        "for (let i = 0; i < array.length; i++) {\n",
        "    console.log(array[i]);\n",
        "}"
      ]
    },
    {
      "cell_type": "markdown",
      "id": "789d4ffd",
      "metadata": {},
      "source": [
        "2. **for...in loop**: Itera sobre las propiedades enumerables de un objeto."
      ]
    },
    {
      "cell_type": "code",
      "execution_count": null,
      "id": "25d19d3e",
      "metadata": {},
      "outputs": [],
      "source": [
        "```jsx\n",
        "for (let key in object) {\n",
        "    console.log(key, object[key]);\n",
        "}"
      ]
    },
    {
      "cell_type": "markdown",
      "id": "a6fc819b",
      "metadata": {},
      "source": [
        "3. **for...of loop**: Introducido en ES6, itera sobre los valores de un objeto iterable como arrays, strings, Mapas, NodeLists y m\u00e1s."
      ]
    },
    {
      "cell_type": "code",
      "execution_count": null,
      "id": "4160ff0d",
      "metadata": {},
      "outputs": [],
      "source": [
        "```jsx\n",
        "for (let value of array) {\n",
        "    console.log(value);\n",
        "}"
      ]
    },
    {
      "cell_type": "markdown",
      "id": "309524f8",
      "metadata": {},
      "source": [
        "4. **forEach()**: Un m\u00e9todo de array que ejecuta una funci\u00f3n proporcionada una vez por cada elemento del array."
      ]
    },
    {
      "cell_type": "code",
      "execution_count": null,
      "id": "0323e702",
      "metadata": {},
      "outputs": [],
      "source": [
        "```jsx\n",
        "array.forEach(element => console.log(element));"
      ]
    },
    {
      "cell_type": "markdown",
      "id": "5cb89042",
      "metadata": {},
      "source": [
        "5. **map(), filter(), reduce()**: Funciones de orden superior que devuelven un nuevo array basado en los resultados de la funci\u00f3n de callback."
      ]
    },
    {
      "cell_type": "code",
      "execution_count": null,
      "id": "5d448983",
      "metadata": {},
      "outputs": [],
      "source": [
        "```jsx\n",
        "let squared = array.map(x => x * x);"
      ]
    },
    {
      "cell_type": "markdown",
      "id": "9de6ed98",
      "metadata": {},
      "source": [
        "### Iteraci\u00f3n en PHP\n",
        "\n",
        "PHP, al igual que JavaScript, ofrece varios constructos para la iteraci\u00f3n:\n",
        "\n",
        "1. **for loop**: Similar a otros lenguajes similares a C, adecuado para la iteraci\u00f3n num\u00e9rica."
      ]
    },
    {
      "cell_type": "code",
      "execution_count": null,
      "id": "cff22c77",
      "metadata": {},
      "outputs": [],
      "source": [
        "```php\n",
        "for ($i = 0; $i < count($array); $i++) {\n",
        "    echo $array[$i];\n",
        "}"
      ]
    },
    {
      "cell_type": "markdown",
      "id": "99ee01be",
      "metadata": {},
      "source": [
        "2. **foreach loop**: Dise\u00f1ado espec\u00edficamente para iterar sobre arrays y objetos, facilitando el acceso a cada valor."
      ]
    },
    {
      "cell_type": "code",
      "execution_count": null,
      "id": "092ff34d",
      "metadata": {},
      "outputs": [],
      "source": [
        "```php\n",
        "foreach ($array as $value) {\n",
        "    echo $value;\n",
        "}"
      ]
    },
    {
      "cell_type": "markdown",
      "id": "6897de84",
      "metadata": {},
      "source": [
        "3. **while** y **do-while loops**: Usados para iterar bas\u00e1ndose en una condici\u00f3n en lugar de una secuencia.\n",
        "\n",
        "### Enfoque de Python\n",
        "\n",
        "El bucle `for` de Python, aunque parece simple, es incre\u00edblemente poderoso debido a su capacidad para iterar directamente sobre cualquier objeto iterable, sin necesidad de gestionar \u00edndices o claves (a menos que se desee, utilizando `enumerate()` o `items()` para diccionarios). Esta simplicidad y potencia hacen que el bucle `for` sea adecuado para una amplia gama de tareas, desde el procesamiento simple de listas hasta transformaciones de datos complejas.\n",
        "\n",
        "Adem\u00e1s, el \u00e9nfasis de Python en la legibilidad y simplicidad significa que el mismo constructo se puede usar en una variedad de contextos con un m\u00ednimo de sobrecarga sint\u00e1ctica, haciendo que el c\u00f3digo sea m\u00e1s f\u00e1cil de escribir, leer y mantener. Mientras que JavaScript y PHP ofrecen m\u00faltiples mecanismos de iteraci\u00f3n para proporcionar flexibilidad y atender a diferentes escenarios, el enfoque de Python demuestra la filosof\u00eda del lenguaje de \"**Deber\u00eda haber una --y preferiblemente solo una-- manera obvia de hacerlo**\".\n",
        "\n",
        "Este enfoque en un \u00fanico constructo de iteraci\u00f3n vers\u00e1til no limita la capacidad de Python; m\u00e1s bien, simplifica las pr\u00e1cticas de codificaci\u00f3n y fomenta la consistencia en diferentes tipos de proyectos."
      ]
    }
  ],
  "metadata": {},
  "nbformat": 4,
  "nbformat_minor": 5
}