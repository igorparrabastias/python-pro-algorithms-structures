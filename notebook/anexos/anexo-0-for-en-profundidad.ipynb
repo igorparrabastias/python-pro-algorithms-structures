{
  "cells": [
    {
      "attachments": {},
      "cell_type": "markdown",
      "id": "4161e360",
      "metadata": {},
      "source": [
        "# Anexo 0: For en profundidad\n",
        "\n",
        "En Python, el bucle `for` es una construcción versátil que se utiliza para iterar sobre elementos de una secuencia (como listas, tuplas, diccionarios, conjuntos y cadenas) u otros objetos iterables. Esto contrasta con lenguajes como JavaScript o PHP, donde existen múltiples construcciones de iteración especializadas y métodos adaptados a diferentes casos de uso. Exploremos esta diferencia un poco más:\n",
        "\n",
        "### Iteración en JavaScript\n",
        "\n",
        "En JavaScript, la iteración se puede realizar de varias maneras, reflejando la flexibilidad del lenguaje y la evolución de sus estándares:\n",
        "\n",
        "1. **for loop**: El bucle `for` tradicional, similar a otros lenguajes similares a C, que puede iterar sobre arrays u otros objetos iterables por índice."
      ]
    },
    {
      "cell_type": "code",
      "execution_count": null,
      "id": "e107d053",
      "metadata": {
        "vscode": {
          "languageId": "javascript"
        }
      },
      "outputs": [],
      "source": [
        "for (let i = 0; i < array.length; i++) {\n",
        "    console.log(array[i]);\n",
        "}"
      ]
    },
    {
      "attachments": {},
      "cell_type": "markdown",
      "id": "789d4ffd",
      "metadata": {},
      "source": [
        "2. **for...in loop**: Itera sobre las propiedades enumerables de un objeto."
      ]
    },
    {
      "cell_type": "code",
      "execution_count": null,
      "id": "25d19d3e",
      "metadata": {
        "vscode": {
          "languageId": "javascript"
        }
      },
      "outputs": [],
      "source": [
        "for (let key in object) {\n",
        "    console.log(key, object[key]);\n",
        "}"
      ]
    },
    {
      "attachments": {},
      "cell_type": "markdown",
      "id": "a6fc819b",
      "metadata": {},
      "source": [
        "3. **for...of loop**: Introducido en ES6, itera sobre los valores de un objeto iterable como arrays, strings, Mapas, NodeLists y más."
      ]
    },
    {
      "cell_type": "code",
      "execution_count": null,
      "id": "4160ff0d",
      "metadata": {
        "vscode": {
          "languageId": "javascript"
        }
      },
      "outputs": [],
      "source": [
        "for (let value of array) {\n",
        "    console.log(value);\n",
        "}"
      ]
    },
    {
      "attachments": {},
      "cell_type": "markdown",
      "id": "309524f8",
      "metadata": {},
      "source": [
        "4. **forEach()**: Un método de array que ejecuta una función proporcionada una vez por cada elemento del array."
      ]
    },
    {
      "cell_type": "code",
      "execution_count": null,
      "id": "0323e702",
      "metadata": {
        "vscode": {
          "languageId": "javascript"
        }
      },
      "outputs": [],
      "source": [
        "array.forEach(element => console.log(element));"
      ]
    },
    {
      "attachments": {},
      "cell_type": "markdown",
      "id": "5cb89042",
      "metadata": {},
      "source": [
        "5. **map(), filter(), reduce()**: Funciones de orden superior que devuelven un nuevo array basado en los resultados de la función de callback."
      ]
    },
    {
      "cell_type": "code",
      "execution_count": null,
      "id": "5d448983",
      "metadata": {
        "vscode": {
          "languageId": "javascript"
        }
      },
      "outputs": [],
      "source": [
        "let squared = array.map(x => x * x);"
      ]
    },
    {
      "attachments": {},
      "cell_type": "markdown",
      "id": "9de6ed98",
      "metadata": {},
      "source": [
        "### Iteración en PHP\n",
        "\n",
        "PHP, al igual que JavaScript, ofrece varios constructos para la iteración:\n",
        "\n",
        "1. **for loop**: Similar a otros lenguajes similares a C, adecuado para la iteración numérica."
      ]
    },
    {
      "cell_type": "code",
      "execution_count": null,
      "id": "cff22c77",
      "metadata": {
        "vscode": {
          "languageId": "php"
        }
      },
      "outputs": [],
      "source": [
        "for ($i = 0; $i < count($array); $i++) {\n",
        "    echo $array[$i];\n",
        "}"
      ]
    },
    {
      "attachments": {},
      "cell_type": "markdown",
      "id": "99ee01be",
      "metadata": {},
      "source": [
        "2. **foreach loop**: Diseñado específicamente para iterar sobre arrays y objetos, facilitando el acceso a cada valor."
      ]
    },
    {
      "cell_type": "code",
      "execution_count": null,
      "id": "092ff34d",
      "metadata": {
        "vscode": {
          "languageId": "php"
        }
      },
      "outputs": [],
      "source": [
        "foreach ($array as $value) {\n",
        "    echo $value;\n",
        "}"
      ]
    },
    {
      "attachments": {},
      "cell_type": "markdown",
      "id": "6897de84",
      "metadata": {},
      "source": [
        "3. **while** y **do-while loops**: Usados para iterar basándose en una condición en lugar de una secuencia.\n",
        "\n",
        "### Enfoque de Python\n",
        "\n",
        "El bucle `for` de Python, aunque parece simple, es increíblemente poderoso debido a su capacidad para iterar directamente sobre cualquier objeto iterable, sin necesidad de gestionar índices o claves (a menos que se desee, utilizando `enumerate()` o `items()` para diccionarios). Esta simplicidad y potencia hacen que el bucle `for` sea adecuado para una amplia gama de tareas, desde el procesamiento simple de listas hasta transformaciones de datos complejas.\n",
        "\n",
        "Además, el énfasis de Python en la legibilidad y simplicidad significa que el mismo constructo se puede usar en una variedad de contextos con un mínimo de sobrecarga sintáctica, haciendo que el código sea más fácil de escribir, leer y mantener. Mientras que JavaScript y PHP ofrecen múltiples mecanismos de iteración para proporcionar flexibilidad y atender a diferentes escenarios, el enfoque de Python demuestra la filosofía del lenguaje de \"**Debería haber una --y preferiblemente solo una-- manera obvia de hacerlo**\".\n",
        "\n",
        "Este enfoque en un único constructo de iteración versátil no limita la capacidad de Python; más bien, simplifica las prácticas de codificación y fomenta la consistencia en diferentes tipos de proyectos."
      ]
    }
  ],
  "metadata": {
    "language_info": {
      "name": "python"
    }
  },
  "nbformat": 4,
  "nbformat_minor": 5
}
