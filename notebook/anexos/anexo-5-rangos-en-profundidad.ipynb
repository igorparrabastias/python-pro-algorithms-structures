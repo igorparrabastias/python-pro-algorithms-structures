{
  "cells": [
    {
      "cell_type": "markdown",
      "id": "70471890",
      "metadata": {},
      "source": [
        "# Anexo 5: Rangos en Profundidad\n",
        "\n",
        "- An\u00e1lisis detallado sobre el uso y la aplicaci\u00f3n de rangos en estructuras de datos.\n",
        "\n",
        "### Profundizaci\u00f3n en el uso de rangos **`range`** en Python\n",
        "\n",
        "El uso de la funci\u00f3n **`range`** en Python va m\u00e1s all\u00e1 de simplemente generar secuencias num\u00e9ricas b\u00e1sicas. Para un manejo avanzado y eficiente, es importante comprender sus caracter\u00edsticas y aplicaciones m\u00e1s profundas.\n",
        "\n",
        "1. **Caracter\u00edsticas Avanzadas de `range`**:\n",
        "    - **Tres Par\u00e1metros**: **`range`** puede tomar hasta tres argumentos: **`range(start, stop, step)`**.\n",
        "        - **`start`**: El valor inicial de la secuencia.\n",
        "        - **`stop`**: El l\u00edmite de la secuencia, que no se incluye en el rango.\n",
        "        - **`step`**: La diferencia entre cada n\u00famero consecutivo en la secuencia.\n",
        "    - **Ejemplo Avanzado**: Crear una secuencia de n\u00fameros pares entre 2 y 10."
      ]
    },
    {
      "cell_type": "code",
      "execution_count": null,
      "id": "57da20f5",
      "metadata": {},
      "outputs": [],
      "source": [
        "for num in range(2, 11, 2):\n",
        "    print(num)  # Imprime 2, 4, 6, 8, 10"
      ]
    },
    {
      "cell_type": "markdown",
      "id": "141a26da",
      "metadata": {},
      "source": [
        "2. **Uso de `range` en Comprensiones de Listas**:\n",
        "    - Las comprensiones de listas con **`range`** ofrecen una manera compacta de generar listas basadas en rangos.\n",
        "    - **Ejemplo Avanzado**: Crear una lista de cuadrados de n\u00fameros del 1 al 10."
      ]
    },
    {
      "cell_type": "code",
      "execution_count": null,
      "id": "7f4418d8",
      "metadata": {},
      "outputs": [],
      "source": [
        "cuadrados = [x**2 for x in range(1, 11)]\n",
        "print(cuadrados)  # [1, 4, 9, 16, 25, 36, 49, 64, 81, 100]"
      ]
    },
    {
      "cell_type": "markdown",
      "id": "7540fa40",
      "metadata": {},
      "source": [
        "3. **Iteraci\u00f3n en Reversa con `range`**:\n",
        "    - Para iterar una secuencia en orden inverso, se puede utilizar un paso negativo.\n",
        "    - **Ejemplo Avanzado**: Contar hacia atr\u00e1s desde 10 hasta 1."
      ]
    },
    {
      "cell_type": "code",
      "execution_count": null,
      "id": "a1ee325c",
      "metadata": {},
      "outputs": [],
      "source": [
        "for num in range(10, 0, -1):\n",
        "    print(num)  # 10, 9, 8, ..., 1"
      ]
    },
    {
      "cell_type": "markdown",
      "id": "9cc39ee8",
      "metadata": {},
      "source": [
        "4. **Eficiencia de Memoria**:\n",
        "    - **`range`** en Python 3.x devuelve un objeto \"range\" que act\u00faa como una secuencia inmutable, pero no almacena todos los valores en memoria. Esto lo hace muy eficiente para grandes rangos.\n",
        "    - **Ejemplo de Eficiencia**: Uso de **`range`** para grandes secuencias."
      ]
    },
    {
      "cell_type": "code",
      "execution_count": null,
      "id": "f30524e4",
      "metadata": {},
      "outputs": [],
      "source": [
        "gran_rango = range(1, 1000000)\n",
        "print(gran_rango[999999])  # Acceso r\u00e1pido sin usar mucha memoria"
      ]
    },
    {
      "cell_type": "markdown",
      "id": "2e448dfb",
      "metadata": {},
      "source": [
        "5. **Uso en Condiciones y Bucles Anidados**:\n",
        "    - **`range`** puede ser utilizado eficazmente en condiciones y bucles anidados para crear estructuras de datos complejas o para realizar operaciones avanzadas.\n",
        "    - **Ejemplo de Bucle Anidado**: Crear una matriz (lista de listas) usando **`range`**."
      ]
    },
    {
      "cell_type": "code",
      "execution_count": null,
      "id": "335e0542",
      "metadata": {},
      "outputs": [],
      "source": [
        "matriz = [[x*y for x in range(1, 4)] for y in range(1, 4)]\n",
        "print(matriz)  # [[1, 2, 3], [2, 4, 6], [3, 6, 9]]"
      ]
    },
    {
      "cell_type": "markdown",
      "id": "52707e3c",
      "metadata": {},
      "source": [
        "El dominio de **`range`** y su integraci\u00f3n con otras estructuras y funciones en Python es un indicador del nivel de habilidad de un programador. Permite la creaci\u00f3n de c\u00f3digo m\u00e1s eficiente, legible y elegante, especialmente en situaciones que requieren iteraci\u00f3n o generaci\u00f3n de secuencias num\u00e9ricas."
      ]
    }
  ],
  "metadata": {},
  "nbformat": 4,
  "nbformat_minor": 5
}