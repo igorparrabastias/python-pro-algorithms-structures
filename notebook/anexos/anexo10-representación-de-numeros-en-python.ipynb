{
 "cells": [
  {
   "attachments": {},
   "cell_type": "markdown",
   "id": "99e01297",
   "metadata": {},
   "source": [
    "## Anexo 10: Representación de Números en Python\n",
    "\n",
    "### Introducción:\n",
    "La representación de números en Python y en computación en general es un tema crucial que afecta la precisión de los cálculos numéricos. Este anexo explora cómo Python maneja los números de punto flotante y ofrece alternativas para manejar la precisión decimal.\n",
    "\n",
    "### Representación de Punto Flotante:\n",
    "Python, al igual que muchos otros lenguajes de programación, sigue el estándar IEEE 754 para la representación de números de punto flotante. Este sistema representa números en una base binaria, lo que conduce a imprecisiones cuando se trabaja con fracciones que no pueden ser representadas exactamente en binario.\n",
    "\n",
    "- **Ejemplo de Imprecisión de Punto Flotante**:"
   ]
  },
  {
   "cell_type": "code",
   "execution_count": 5,
   "id": "77e77648",
   "metadata": {},
   "outputs": [
    {
     "name": "stdout",
     "output_type": "stream",
     "text": [
      "0.30000000000000004\n"
     ]
    }
   ],
   "source": [
    "print(0.1 + 0.2)  # Resultado: No exactamente 0.3"
   ]
  },
  {
   "attachments": {},
   "cell_type": "markdown",
   "id": "d786f47a",
   "metadata": {},
   "source": [
    "### El Módulo Decimal:\n",
    "Para superar las limitaciones de la aritmética de punto flotante, Python ofrece el módulo `decimal`, que permite realizar cálculos con precisión decimal fija.\n",
    "\n",
    "- **Uso del Módulo Decimal**:"
   ]
  },
  {
   "cell_type": "code",
   "execution_count": 6,
   "id": "3a55ab73",
   "metadata": {},
   "outputs": [
    {
     "name": "stdout",
     "output_type": "stream",
     "text": [
      "0.3\n"
     ]
    }
   ],
   "source": [
    "from decimal import Decimal\n",
    "\n",
    "resultado = Decimal('0.1') + Decimal('0.2')\n",
    "print(resultado)  # Resultado: Exactamente 0.3"
   ]
  },
  {
   "attachments": {},
   "cell_type": "markdown",
   "id": "7298cd80",
   "metadata": {},
   "source": [
    "### Comparación de Punto Flotante y Decimal:\n",
    "La elección entre usar números de punto flotante o `Decimal` depende del contexto de la aplicación:\n",
    "\n",
    "- **Punto Flotante**:\n",
    "  - Rápido y adecuado para aplicaciones científicas donde la precisión absoluta no es crítica.\n",
    "  - Puede llevar a imprecisiones en cálculos financieros y otros casos donde la precisión decimal es crucial.\n",
    "\n",
    "- **Decimal**:\n",
    "  - Proporciona precisión decimal fija, evitando las imprecisiones de los números de punto flotante.\n",
    "  - Es más lento y consume más memoria que los números de punto flotante, pero es indispensable para cálculos financieros precisos y otros casos donde la exactitud es primordial.\n",
    "\n",
    "### Conclusión:\n",
    "La representación de números en Python mediante números de punto flotante y el módulo `decimal` muestra la flexibilidad del lenguaje para adaptarse a diferentes necesidades de precisión numérica. Mientras que los números de punto flotante son adecuados para la mayoría de las aplicaciones científicas y de ingeniería, el módulo `decimal` es la elección correcta para aplicaciones que requieren precisión decimal exacta, como en el caso de los cálculos financieros.\n",
    "\n",
    "### Ejercicios:\n",
    "1. **Experimenta con Punto Flotante**:\n",
    "   Escribe un script que sume 0.1 y 0.2 usando números de punto flotante y muestra el resultado. Observa la imprecisión inherente.\n",
    "\n",
    "2. **Precisión con Decimal**:\n",
    "   Repite el cálculo anterior usando el módulo `decimal` y compara los resultados.\n",
    "\n",
    "3. **Medición de Rendimiento**:\n",
    "   Usa el módulo `timeit` para comparar el rendimiento de los cálculos realizados con números de punto flotante y con `Decimal`. Observa las diferencias en tiempo de ejecución.\n",
    "\n",
    "### Soluciones:\n",
    "1. **Experimenta con Punto Flotante**:"
   ]
  },
  {
   "cell_type": "code",
   "execution_count": 7,
   "id": "3de8145a",
   "metadata": {},
   "outputs": [
    {
     "name": "stdout",
     "output_type": "stream",
     "text": [
      "0.30000000000000004\n"
     ]
    }
   ],
   "source": [
    "print(0.1 + 0.2)  # Resultado aproximado, no exactamente 0.3"
   ]
  },
  {
   "attachments": {},
   "cell_type": "markdown",
   "id": "38e0c647",
   "metadata": {},
   "source": [
    "2. **Precisión con Decimal**:"
   ]
  },
  {
   "cell_type": "code",
   "execution_count": 8,
   "id": "ccbebcbf",
   "metadata": {},
   "outputs": [
    {
     "name": "stdout",
     "output_type": "stream",
     "text": [
      "0.3\n"
     ]
    }
   ],
   "source": [
    "from decimal import Decimal\n",
    "print(Decimal('0.1') + Decimal('0.2'))  # Resultado exacto: 0.3"
   ]
  },
  {
   "attachments": {},
   "cell_type": "markdown",
   "id": "66e948f2",
   "metadata": {},
   "source": [
    "3. **Medición de Rendimiento**:"
   ]
  },
  {
   "cell_type": "code",
   "execution_count": 9,
   "id": "edf14355",
   "metadata": {},
   "outputs": [
    {
     "name": "stdout",
     "output_type": "stream",
     "text": [
      "Punto flotante: 0.008696270000655204 segundos\n",
      "Decimal: 0.350937306007836 segundos\n"
     ]
    }
   ],
   "source": [
    "import timeit\n",
    "\n",
    "# Punto flotante\n",
    "punto_flotante_time = timeit.timeit('0.1 + 0.2', number=1000000)\n",
    "print(f\"Punto flotante: {punto_flotante_time} segundos\")\n",
    "\n",
    "# Decimal\n",
    "decimal_time = timeit.timeit(\"Decimal('0.1') + Decimal('0.2')\", setup=\"from decimal import Decimal\", number=1000000)\n",
    "print(f\"Decimal: {decimal_time} segundos\")"
   ]
  },
  {
   "attachments": {},
   "cell_type": "markdown",
   "id": "89e7ccc7",
   "metadata": {},
   "source": [
    "Este anexo proporciona una base sólida para comprender cómo se representan y manipulan los números en Python, equipando a los estudiantes con el conocimiento necesario para elegir la representación numérica más adecuada para sus aplicaciones."
   ]
  }
 ],
 "metadata": {
  "kernelspec": {
   "display_name": "Python 3",
   "language": "python",
   "name": "python3"
  },
  "language_info": {
   "codemirror_mode": {
    "name": "ipython",
    "version": 3
   },
   "file_extension": ".py",
   "mimetype": "text/x-python",
   "name": "python",
   "nbconvert_exporter": "python",
   "pygments_lexer": "ipython3",
   "version": "3.8.10"
  }
 },
 "nbformat": 4,
 "nbformat_minor": 5
}
