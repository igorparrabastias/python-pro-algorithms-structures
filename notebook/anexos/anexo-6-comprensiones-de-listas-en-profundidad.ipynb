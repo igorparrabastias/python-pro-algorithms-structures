{
  "cells": [
    {
      "cell_type": "markdown",
      "id": "e90614ea",
      "metadata": {},
      "source": [
        "# Anexo 6: Comprensiones de Listas en Profundidad\n",
        "\n",
        "- Estudio exhaustivo sobre las comprensiones de listas y su eficiencia en Python.\n",
        "\n",
        "### **Introducci\u00f3n**\n",
        "\n",
        "Las comprensiones de listas son una caracter\u00edstica poderosa y expresiva de Python, permitiendo la creaci\u00f3n de listas de manera concisa y eficiente a partir de iterables. No solo mejoran la legibilidad del c\u00f3digo sino que tambi\u00e9n, en muchos casos, ofrecen una mejora en la eficiencia en comparaci\u00f3n con los bucles tradicionales o la aplicaci\u00f3n de funciones como `map()` y `filter()`. Este anexo se dedica a explorar las comprensiones de listas, sus usos, ventajas y consideraciones de eficiencia.\n",
        "\n",
        "### **Sintaxis B\u00e1sica**\n",
        "\n",
        "La sintaxis b\u00e1sica de una comprensi\u00f3n de lista es:"
      ]
    },
    {
      "cell_type": "code",
      "execution_count": null,
      "id": "b5f5eaf7",
      "metadata": {},
      "outputs": [],
      "source": [
        "[expresion for item in iterable if condicion]"
      ]
    },
    {
      "cell_type": "markdown",
      "id": "6761cc06",
      "metadata": {},
      "source": [
        "Donde `expresion` es cualquier expresi\u00f3n v\u00e1lida de Python, `item` es el nombre de la variable que toma cada valor en el `iterable`, y `condicion` es una cl\u00e1usula opcional `if` que filtra los elementos del iterable.\n",
        "\n",
        "### **Ejemplos B\u00e1sicos**\n",
        "\n",
        "Crear una lista de los cuadrados de los primeros 10 n\u00fameros enteros:"
      ]
    },
    {
      "cell_type": "code",
      "execution_count": null,
      "id": "78c2e70a",
      "metadata": {},
      "outputs": [],
      "source": [
        "cuadrados = [x**2 for x in range(1, 11)]"
      ]
    },
    {
      "cell_type": "markdown",
      "id": "7a3ee74a",
      "metadata": {},
      "source": [
        "Filtrar los n\u00fameros pares de una lista:"
      ]
    },
    {
      "cell_type": "code",
      "execution_count": null,
      "id": "81c6ce5a",
      "metadata": {},
      "outputs": [],
      "source": [
        "pares = [x for x in range(1, 11) if x % 2 == 0]"
      ]
    },
    {
      "cell_type": "markdown",
      "id": "36b23fab",
      "metadata": {},
      "source": [
        "### **Ventajas sobre M\u00e9todos Tradicionales**\n",
        "\n",
        "- **Legibilidad**: Las comprensiones de listas son a menudo m\u00e1s legibles y concisas que los bucles `for` equivalentes.\n",
        "- **Eficiencia**: Internamente, Python optimiza la ejecuci\u00f3n de las comprensiones de listas, resultando en un c\u00f3digo que puede ser m\u00e1s r\u00e1pido que los bucles `for` tradicionales para la misma tarea.\n",
        "\n",
        "### **Comprensiones Anidadas**\n",
        "\n",
        "Las comprensiones de listas pueden anidarse para operar con listas de listas. Por ejemplo, para aplanar una lista de listas:"
      ]
    },
    {
      "cell_type": "code",
      "execution_count": null,
      "id": "e2e20d14",
      "metadata": {},
      "outputs": [],
      "source": [
        "lista_de_listas = [[1, 2, 3], [4, 5], [6, 7]]\n",
        "aplanada = [elemento for lista in lista_de_listas for elemento in lista]"
      ]
    },
    {
      "cell_type": "markdown",
      "id": "fffbfe70",
      "metadata": {},
      "source": [
        "### **Eficiencia de las Comprensiones de Listas**\n",
        "\n",
        "La eficiencia de las comprensiones de listas proviene de la implementaci\u00f3n interna en CPython, el int\u00e9rprete est\u00e1ndar de Python. Este mecanismo es m\u00e1s r\u00e1pido que ejecutar un bucle `for` a nivel de Python debido a la menor cantidad de llamadas a funciones y operaciones de asignaci\u00f3n.\n",
        "\n",
        "### **Consideraciones de Rendimiento**\n",
        "\n",
        "- **Uso de Memoria**: Las comprensiones de listas pueden llevar a un uso significativo de memoria cuando se crean listas muy grandes. En estos casos, las expresiones generadoras pueden ser una alternativa m\u00e1s eficiente en cuanto a memoria.\n",
        "- **Comprensiones Anidadas**: Aunque potentes, las comprensiones anidadas pueden ser menos eficientes y m\u00e1s dif\u00edciles de leer, especialmente si se anidan m\u00e1s de dos niveles.\n",
        "- **Legibilidad vs. Eficiencia**: Aunque las comprensiones de listas suelen ser eficientes, la legibilidad no debe sacrificarse por la eficiencia. Si una comprensi\u00f3n de lista se vuelve demasiado complicada, podr\u00eda ser mejor usar un bucle `for` tradicional o dividir la comprensi\u00f3n en partes m\u00e1s manejables.\n",
        "\n",
        "### Profundizaci\u00f3n en el uso de comprensiones de listas **`list comprehensions`** en Python\n",
        "\n",
        "Las comprensiones de listas (list comprehensions) en Python son una herramienta poderosa y expresiva para crear listas de manera concisa y eficiente. Adem\u00e1s de su uso con **`range`**, se pueden aplicar de muchas otras maneras interesantes y avanzadas.\n",
        "\n",
        "1. **Filtrado en Comprensiones de Listas**:\n",
        "    - Las comprensiones de listas pueden incluir una condici\u00f3n para filtrar los elementos que se incluir\u00e1n en la lista resultante.\n",
        "    - **Ejemplo Avanzado**: Crear una lista de n\u00fameros pares del 1 al 20."
      ]
    },
    {
      "cell_type": "code",
      "execution_count": null,
      "id": "26afba85",
      "metadata": {},
      "outputs": [],
      "source": [
        "pares = [x for x in range(1, 21) if x % 2 == 0]\n",
        "print(pares)  # [2, 4, 6, 8, 10, 12, 14, 16, 18, 20]"
      ]
    },
    {
      "cell_type": "markdown",
      "id": "d38553cb",
      "metadata": {},
      "source": [
        "2. **Comprensiones de Listas Anidadas**:\n",
        "    - Las comprensiones de listas se pueden anidar para crear estructuras m\u00e1s complejas, como listas de listas.\n",
        "    - **Ejemplo de Anidaci\u00f3n**: Crear una tabla de multiplicar en forma de lista de listas."
      ]
    },
    {
      "cell_type": "code",
      "execution_count": null,
      "id": "1937296c",
      "metadata": {},
      "outputs": [],
      "source": [
        "tabla_multiplicar = [[x*y for y in range(1, 11)] for x in range(1, 11)]\n",
        "print(tabla_multiplicar)"
      ]
    },
    {
      "cell_type": "markdown",
      "id": "bbde91ee",
      "metadata": {},
      "source": [
        "3. **Comprensiones de Listas con M\u00faltiples Bucles**:\n",
        "    - Puedes incluir varios bucles en una comprensi\u00f3n de lista para operaciones m\u00e1s complejas.\n",
        "    - **Ejemplo con M\u00faltiples Bucles**: Crear pares de n\u00fameros de dos listas diferentes."
      ]
    },
    {
      "cell_type": "code",
      "execution_count": null,
      "id": "7eb369fe",
      "metadata": {},
      "outputs": [],
      "source": [
        "lista1 = [1, 2, 3]\n",
        "lista2 = [4, 5, 6]\n",
        "pares = [(x, y) for x in lista1 for y in lista2]\n",
        "print(pares)  # [(1, 4), (1, 5), (1, 6), (2, 4), ..., (3, 6)]"
      ]
    },
    {
      "cell_type": "markdown",
      "id": "33b65a2b",
      "metadata": {},
      "source": [
        "4. **Uso de Funciones en Comprensiones de Listas**:\n",
        "    - Se pueden incorporar funciones dentro de las comprensiones de listas para realizar operaciones m\u00e1s complejas en cada elemento.\n",
        "    - **Ejemplo con Funciones**: Usar una funci\u00f3n para transformar los elementos de la lista."
      ]
    },
    {
      "cell_type": "code",
      "execution_count": null,
      "id": "70cf2bda",
      "metadata": {},
      "outputs": [],
      "source": [
        "def cuadrado(x):\n",
        "    return x * x\n",
        "\n",
        "cuadrados = [cuadrado(x) for x in range(1, 6)]\n",
        "print(cuadrados)  # [1, 4, 9, 16, 25]"
      ]
    },
    {
      "cell_type": "markdown",
      "id": "62db47dc",
      "metadata": {},
      "source": [
        "5. **Comprensiones de Diccionarios y Conjuntos**:\n",
        "    - Adem\u00e1s de las listas, Python permite comprensiones de diccionarios y conjuntos, siguiendo una l\u00f3gica similar.\n",
        "    - **Ejemplo de Comprensi\u00f3n de Diccionario**: Crear un diccionario con cuadrados de n\u00fameros."
      ]
    },
    {
      "cell_type": "code",
      "execution_count": null,
      "id": "70bee1ef",
      "metadata": {},
      "outputs": [],
      "source": [
        "cuadrados_dict = {x: x*x for x in range(1, 6)}\n",
        "print(cuadrados_dict)  # {1: 1, 2: 4, 3: 9, 4: 16, 5: 25}"
      ]
    },
    {
      "cell_type": "markdown",
      "id": "63cbdfe4",
      "metadata": {},
      "source": [
        "Las comprensiones de listas son una caracter\u00edstica elegante y poderosa de Python que permite escribir c\u00f3digo m\u00e1s limpio y eficiente, reduciendo la necesidad de bucles m\u00e1s largos y complejos. Dominarlas es una habilidad valiosa para cualquier programador de Python.\n",
        "\n",
        "### **Conclusiones**\n",
        "\n",
        "Las comprensiones de listas son una herramienta valiosa en Python que combina eficiencia con expresividad, permitiendo a los desarrolladores escribir c\u00f3digo m\u00e1s limpio y r\u00e1pido. Sin embargo, es importante utilizarlas con juicio, equilibrando la legibilidad y la eficiencia, especialmente en casos de comprensiones muy anidadas o cuando se trabaja con grandes vol\u00famenes de datos. Apreciar y entender las comprensiones de listas es un paso importante para escribir c\u00f3digo Python idiomatico y eficiente.\n",
        "\n",
        "> \ud83d\ude4b\u200d\u2642\ufe0f Comprensiones, asi como de comprender algo?\n",
        "> \n",
        "> \n",
        "> S\u00ed, exactamente. La palabra \"comprensiones\" en \"comprensiones de listas\" (list comprehensions) en cierto modo se relaciona con la idea de \"comprender\" o \"entender\" algo. En el contexto de la programaci\u00f3n, una \"comprensi\u00f3n de lista\" es una forma de construir una lista donde cada elemento es el resultado de alguna operaci\u00f3n expresada en un formato claro y conciso, similar a c\u00f3mo se \"comprende\" o se entiende una idea.\n",
        "> \n",
        "> En este caso, el t\u00e9rmino \"comprensi\u00f3n\" no se refiere a la acci\u00f3n de entender algo, sino m\u00e1s bien a la idea de que la lista se est\u00e1 construyendo (o \"componiendo\") de una manera que encapsula la l\u00f3gica de una manera compacta y f\u00e1cilmente entendible. Es una forma de expresar un proceso de construcci\u00f3n de una lista, donde cada elemento de la lista resultante es el producto de aplicar una expresi\u00f3n a cada elemento de otra secuencia o iterador.\n",
        ">"
      ]
    }
  ],
  "metadata": {},
  "nbformat": 4,
  "nbformat_minor": 5
}