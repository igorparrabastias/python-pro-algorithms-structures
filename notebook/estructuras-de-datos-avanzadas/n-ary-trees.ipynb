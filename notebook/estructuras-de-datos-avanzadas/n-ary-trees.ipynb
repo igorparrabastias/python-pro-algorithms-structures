{
 "cells": [
  {
   "attachments": {},
   "cell_type": "markdown",
   "id": "afa14da8",
   "metadata": {},
   "source": [
    "# Árboles N-arios\n",
    "\n",
    "### Definición y Uso:\n",
    "\n",
    "- Un árbol N-ario es un árbol en el que **cada nodo** puede tener de cero a N hijos.\n",
    "- Son útiles en aplicaciones donde las estructuras de datos no son estrictamente binarias, como sistemas de archivos, análisis sintáctico en lenguajes de programación, etc.\n",
    "\n",
    "Los árboles N-arios son una categoría general de árboles en ciencias de la computación y matemáticas, pero no necesariamente son lo que se podría considerar como los \"árboles comunes\" sin más contexto. La característica distintiva de un árbol N-ario es que cada nodo puede tener cualquier número de hijos, hasta un máximo de N. Esto los hace muy flexibles para representar diversas estructuras de datos jerárquicas.\n",
    "\n",
    "En contraste, los \"árboles comunes\" pueden referirse a varios tipos específicos de árboles, dependiendo del contexto:\n",
    "\n",
    "- **Árboles Binarios**: Son un tipo específico de árbol donde cada nodo tiene a lo mucho dos hijos. Son muy usados en algoritmos y estructuras de datos como árboles de búsqueda binaria, árboles AVL, árboles rojo-negro, etc.\n",
    "- **Árboles de Búsqueda**: Son árboles (usualmente binarios) que mantienen sus elementos en un orden específico para optimizar operaciones de búsqueda, inserción y eliminación.\n",
    "- **Árboles de Expresión**: Representan expresiones matemáticas con operadores como nodos y operandos como hojas o nodos sin hijos.\n",
    "\n",
    "Los árboles N-arios son una estructura de datos fundamental en la informática, con aplicaciones que van desde la representación de sistemas de archivos en sistemas operativos (donde un directorio puede contener cualquier número de archivos o subdirectorios) hasta la implementación de árboles de sintaxis abstracta en compiladores.\n",
    "\n",
    "### Implementación en Python:"
   ]
  },
  {
   "cell_type": "code",
   "execution_count": null,
   "id": "8f2e327b",
   "metadata": {},
   "outputs": [],
   "source": [
    "class NaryTreeNode:\n",
    "    def __init__(self, value):\n",
    "        self.value = value\n",
    "        self.children = []\n",
    "\n",
    "    def add_child(self, child_node):\n",
    "        self.children.append(child_node)\n",
    "        \n",
    "    # Funcion utilitaria\n",
    "    def print_tree(self, level=0):\n",
    "        print(' ' * level * 2 + self.value)\n",
    "        for child in self.children:\n",
    "            child.print_tree(level + 1)\n",
    "\n",
    "\n",
    "# Ejemplo de uso\n",
    "root = NaryTreeNode('root')\n",
    "child1 = NaryTreeNode('child1')\n",
    "child2 = NaryTreeNode('child2')\n",
    "grandchild1 = NaryTreeNode('grandchild1')\n",
    "grandchild2 = NaryTreeNode('grandchild2')\n",
    "grandchild3 = NaryTreeNode('grandchild3')\n",
    "\n",
    "# Construir la estructura del árbol\n",
    "root.add_child(child1)\n",
    "root.add_child(child2)\n",
    "child1.add_child(grandchild1)  # Añadir nieto al child1\n",
    "child2.add_child(grandchild2)  # Añadir nieto al child2\n",
    "child2.add_child(grandchild3)  # Añadir otro nieto al child2\n",
    "\n",
    "# Imprimir el árbol\n",
    "root.print_tree()"
   ]
  },
  {
   "attachments": {},
   "cell_type": "markdown",
   "id": "97cfeb64",
   "metadata": {},
   "source": [
    "<pre>\n",
    "            root\n",
    "           /     \\\n",
    "     child1      child2\n",
    "       |         /     \\\n",
    "grandchild1  grandchild2 grandchild3\n",
    "</pre>"
   ]
  }
 ],
 "metadata": {
  "kernelspec": {
   "display_name": "Python 3",
   "language": "python",
   "name": "python3"
  },
  "language_info": {
   "codemirror_mode": {
    "name": "ipython",
    "version": 3
   },
   "file_extension": ".py",
   "mimetype": "text/x-python",
   "name": "python",
   "nbconvert_exporter": "python",
   "pygments_lexer": "ipython3",
   "version": "3.8.10"
  }
 },
 "nbformat": 4,
 "nbformat_minor": 5
}
