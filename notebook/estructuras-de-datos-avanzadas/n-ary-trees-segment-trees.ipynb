{
  "cells": [
    {
      "cell_type": "markdown",
      "id": "8871a10a",
      "metadata": {},
      "source": [
        "# N-ary Trees, Segment Trees\n",
        "\n",
        "### Introducci\u00f3n:\n",
        "\n",
        "En esta clase, exploraremos dos estructuras de datos avanzadas: los \u00e1rboles N-arios y los \u00e1rboles de segmento. Estas estructuras son \u00fatiles en diversas aplicaciones que requieren manejar jerarqu\u00edas complejas y consultas de intervalos eficientes, respectivamente.\n",
        "\n",
        "### \u00c1rboles N-arios:\n",
        "\n",
        "### Definici\u00f3n y Uso:\n",
        "\n",
        "- Un \u00e1rbol N-ario es un \u00e1rbol en el que cada nodo puede tener de cero a N hijos.\n",
        "- Son \u00fatiles en aplicaciones donde las estructuras de datos no son estrictamente binarias, como sistemas de archivos, an\u00e1lisis sint\u00e1ctico en lenguajes de programaci\u00f3n, etc.\n",
        "\n",
        "### Implementaci\u00f3n en Python:"
      ]
    },
    {
      "cell_type": "code",
      "execution_count": null,
      "id": "b5c7863c",
      "metadata": {},
      "outputs": [],
      "source": [
        "class NaryTreeNode:\n",
        "    def __init__(self, value):\n",
        "        self.value = value\n",
        "        self.children = []\n",
        "\n",
        "    def add_child(self, child_node):\n",
        "        self.children.append(child_node)\n",
        "\n",
        "# Ejemplo de uso\n",
        "root = NaryTreeNode('root')\n",
        "child1 = NaryTreeNode('child1')\n",
        "child2 = NaryTreeNode('child2')\n",
        "\n",
        "root.add_child(child1)\n",
        "root.add_child(child2)"
      ]
    },
    {
      "cell_type": "markdown",
      "id": "62eb7481",
      "metadata": {},
      "source": [
        "### \u00c1rboles de Segmento:\n",
        "\n",
        "### Definici\u00f3n y Uso:\n",
        "\n",
        "- Un \u00e1rbol de segmento es una estructura de datos en \u00e1rbol que facilita las consultas de suma, m\u00ednimo, m\u00e1ximo (y otras operaciones) en un rango de un arreglo.\n",
        "- Ideal para escenarios como sistemas de bases de datos y gr\u00e1ficos computacionales, donde se realizan frecuentes consultas de rango y actualizaciones.\n",
        "\n",
        "### Implementaci\u00f3n en Python:"
      ]
    },
    {
      "cell_type": "code",
      "execution_count": null,
      "id": "af292770",
      "metadata": {},
      "outputs": [],
      "source": [
        "class SegmentTree:\n",
        "    def __init__(self, arr):\n",
        "        self.arr = arr\n",
        "        self.tree = [0] * (4 * len(arr))\n",
        "        self.build(0, 0, len(arr) - 1)\n",
        "\n",
        "    def build(self, node, start, end):\n",
        "        if start == end:\n",
        "            self.tree[node] = self.arr[start]\n",
        "        else:\n",
        "            mid = (start + end) // 2\n",
        "            self.build(2 * node + 1, start, mid)\n",
        "            self.build(2 * node + 2, mid + 1, end)\n",
        "            self.tree[node] = self.tree[2 * node + 1] + self.tree[2 * node + 2]\n",
        "\n",
        "# Ejemplo de uso\n",
        "arr = [1, 2, 3, 4, 5]\n",
        "seg_tree = SegmentTree(arr)"
      ]
    },
    {
      "cell_type": "markdown",
      "id": "423656ca",
      "metadata": {},
      "source": [
        "### Ejercicios:\n",
        "\n",
        "**Ejercicio 1: Construir y Recorrer un \u00c1rbol N-ario**\n",
        "\n",
        "- **Objetivo**: Implementa un \u00e1rbol N-ario y realiza un recorrido en profundidad (DFS).\n",
        "- **Soluci\u00f3n**:"
      ]
    },
    {
      "cell_type": "code",
      "execution_count": null,
      "id": "2c982db0",
      "metadata": {},
      "outputs": [],
      "source": [
        "def dfs(node):\n",
        "    if node is not None:\n",
        "        print(node.value, end=' ')\n",
        "        for child in node.children:\n",
        "            dfs(child)\n",
        "\n",
        "# Usando el \u00e1rbol N-ario creado anteriormente\n",
        "dfs(root)"
      ]
    },
    {
      "cell_type": "markdown",
      "id": "dc838cf8",
      "metadata": {},
      "source": [
        "**Ejercicio 2: Consultas y Actualizaciones en un \u00c1rbol de Segmento**\n",
        "\n",
        "- **Objetivo**: Implementa consultas de suma de rango y actualizaciones en un \u00e1rbol de segmento.\n",
        "- **Soluci\u00f3n**:\n",
        "    - La implementaci\u00f3n debe incluir m\u00e9todos para actualizar un valor en el arreglo y para calcular la suma en un rango dado.\n",
        "    - Puedes seguir el esqueleto de la clase `SegmentTree` y a\u00f1adir los m\u00e9todos necesarios."
      ]
    },
    {
      "cell_type": "code",
      "execution_count": null,
      "id": "d4f8690d",
      "metadata": {},
      "outputs": [],
      "source": [
        "class SegmentTree:\n",
        "    def __init__(self, arr):\n",
        "        self.arr = arr\n",
        "        self.tree = [0] * (4 * len(arr))\n",
        "        self.build(1, 0, len(arr) - 1)\n",
        "\n",
        "    def build(self, node, left, right):\n",
        "        if left == right:\n",
        "            self.tree[node] = self.arr[left]\n",
        "            return\n",
        "\n",
        "        mid = (left + right) // 2\n",
        "        self.build(2 * node, left, mid)\n",
        "        self.build(2 * node + 1, mid + 1, right)\n",
        "        self.tree[node] = self.tree[2 * node] + self.tree[2 * node + 1]\n",
        "\n",
        "    def query(self, node, left, right, q_left, q_right):\n",
        "        if q_left > right or q_right < left:\n",
        "            return 0\n",
        "\n",
        "        if q_left <= left and q_right >= right:\n",
        "            return self.tree[node]\n",
        "\n",
        "        mid = (left + right) // 2\n",
        "        left_sum = self.query(2 * node, left, mid, q_left, q_right)\n",
        "        right_sum = self.query(2 * node + 1, mid + 1, right, q_left, q_right)\n",
        "\n",
        "        return left_sum + right_sum\n",
        "\n",
        "    def update(self, node, left, right, index, new_value):\n",
        "        if left == right:\n",
        "            self.arr[index] = new_value\n",
        "            self.tree[node] = new_value\n",
        "            return\n",
        "\n",
        "        mid = (left + right) // 2\n",
        "        if index <= mid:\n",
        "            self.update(2 * node, left, mid, index, new_value)\n",
        "        else:\n",
        "            self.update(2 * node + 1, mid + 1, right, index, new_value)\n",
        "\n",
        "        self.tree[node] = self.tree[2 * node] + self.tree[2 * node + 1]\n",
        "\n",
        "# Ejemplo de uso\n",
        "arr = [1, 3, 5, 7, 9, 11]\n",
        "seg_tree = SegmentTree(arr)\n",
        "print(seg_tree.query(1, 0, len(arr) - 1, 2, 5))  # Consulta en el rango [2, 5] => Salida: 32\n",
        "seg_tree.update(1, 0, len(arr) - 1, 3, 6)  # Actualizaci\u00f3n en el \u00edndice 3 a 6\n",
        "print(seg_tree.query(1, 0, len(arr) - 1, 2, 5))  # Consulta nuevamente => Salida: 34\n",
        "\n",
        "Esta implementaci\u00f3n te permite realizar consultas de suma en un rango dado y actualizar valores en el arreglo original. "
      ]
    },
    {
      "cell_type": "markdown",
      "id": "abb15b09",
      "metadata": {},
      "source": [
        "### Conclusi\u00f3n:\n",
        "\n",
        "Los \u00e1rboles N-arios y los \u00e1rboles de segmento son estructuras de datos avanzadas que proporcionan soluciones eficientes para problemas espec\u00edficos. Mientras que los \u00e1rboles N-arios son excelentes para representar jerarqu\u00edas complejas, los \u00e1rboles de segmento son ideales para realizar consultas y actualizaciones de intervalos de manera eficiente. Conocer estas estructuras y c\u00f3mo implementarlas ampl\u00eda significativamente tu caja de herramientas como desarrollador de software."
      ]
    }
  ],
  "metadata": {},
  "nbformat": 4,
  "nbformat_minor": 5
}