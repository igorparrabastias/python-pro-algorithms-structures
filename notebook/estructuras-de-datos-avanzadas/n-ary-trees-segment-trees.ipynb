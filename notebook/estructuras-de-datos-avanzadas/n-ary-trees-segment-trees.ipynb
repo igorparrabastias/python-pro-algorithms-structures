{
  "cells": [
    {
      "attachments": {},
      "cell_type": "markdown",
      "id": "8871a10a",
      "metadata": {},
      "source": [
        "# N-ary Trees, Segment Trees\n",
        "\n",
        "## Introducción:\n",
        "\n",
        "En esta clase, exploraremos dos estructuras de datos avanzadas: los árboles N-arios y los árboles de segmento. Estas estructuras son útiles en diversas aplicaciones que requieren manejar jerarquías complejas y consultas de intervalos eficientes, respectivamente.\n",
        "\n",
        "## Árboles N-arios:\n",
        "\n",
        "### Definición y Uso:\n",
        "\n",
        "- Un árbol N-ario es un árbol en el que cada nodo puede tener de cero a N hijos.\n",
        "- Son útiles en aplicaciones donde las estructuras de datos no son estrictamente binarias, como sistemas de archivos, análisis sintáctico en lenguajes de programación, etc.\n",
        "\n",
        "### Implementación en Python:"
      ]
    },
    {
      "cell_type": "code",
      "execution_count": 7,
      "id": "b5c7863c",
      "metadata": {},
      "outputs": [],
      "source": [
        "class NaryTreeNode:\n",
        "    def __init__(self, value):\n",
        "        self.value = value\n",
        "        self.children = []\n",
        "\n",
        "    def add_child(self, child_node):\n",
        "        self.children.append(child_node)\n",
        "\n",
        "# Ejemplo de uso\n",
        "root = NaryTreeNode('root')\n",
        "child1 = NaryTreeNode('child1')\n",
        "child2 = NaryTreeNode('child2')\n",
        "\n",
        "root.add_child(child1)\n",
        "root.add_child(child2)"
      ]
    },
    {
      "attachments": {},
      "cell_type": "markdown",
      "id": "62eb7481",
      "metadata": {},
      "source": [
        "## Árboles de Segmento:\n",
        "\n",
        "### Definición y Uso:\n",
        "\n",
        "- Un árbol de segmento es una estructura de datos en árbol que facilita las consultas de suma, mínimo, máximo (y otras operaciones) en un rango de un arreglo.\n",
        "- Ideal para escenarios como sistemas de bases de datos y gráficos computacionales, donde se realizan frecuentes consultas de rango y actualizaciones.\n",
        "\n",
        "### Implementación en Python:"
      ]
    },
    {
      "cell_type": "code",
      "execution_count": 8,
      "id": "af292770",
      "metadata": {},
      "outputs": [
        {
          "name": "stdout",
          "output_type": "stream",
          "text": [
            "[15, 6, 9, 3, 3, 4, 5, 1, 2, 0, 0, 0, 0, 0, 0, 0, 0, 0, 0, 0]\n"
          ]
        }
      ],
      "source": [
        "class SegmentTree:\n",
        "    def __init__(self, arr):\n",
        "        self.arr = arr\n",
        "        self.tree = [0] * (4 * len(arr))\n",
        "        self.build(0, 0, len(arr) - 1)\n",
        "\n",
        "    def build(self, node, start, end):\n",
        "        if start == end:\n",
        "            self.tree[node] = self.arr[start]\n",
        "        else:\n",
        "            mid = (start + end) // 2\n",
        "            self.build(2 * node + 1, start, mid)\n",
        "            self.build(2 * node + 2, mid + 1, end)\n",
        "            self.tree[node] = self.tree[2 * node + 1] + self.tree[2 * node + 2]\n",
        "\n",
        "# Ejemplo de uso\n",
        "arr = [1, 2, 3, 4, 5]\n",
        "seg_tree = SegmentTree(arr)\n",
        "print(seg_tree.tree)\n"
      ]
    },
    {
      "attachments": {},
      "cell_type": "markdown",
      "id": "80600267",
      "metadata": {},
      "source": [
        "Crear una representación ASCII de un árbol de segmentos es más complejo debido a su naturaleza jerárquica y la forma en que los nodos están organizados en memoria (en este caso, en una lista). Sin embargo, puedo mostrarte cómo conceptualizarlo de manera simplificada. Para el árbol de segmentos generado a partir de tu ejemplo, donde `arr = [1, 2, 3, 4, 5]`, la representación en lista del árbol es la suma de segmentos del arreglo. Aquí hay una forma simplificada de ver la estructura del árbol:\n",
        "\n",
        "```\n",
        "         [15]\n",
        "       /      \\\n",
        "     [3]      [12]\n",
        "    /   \\     /   \\\n",
        "  [1]   [2] [7]   [5]\n",
        "            / \\\n",
        "          [3] [4]\n",
        "```\n",
        "\n",
        "- El nodo raíz `[15]` representa la suma total de todos los elementos de `arr`.\n",
        "- Cada nivel subsiguiente divide el arreglo en segmentos más pequeños, con nodos que representan la suma de esos segmentos.\n",
        "- Las hojas del árbol `[1], [2], [3], [4], [5]` representan los elementos individuales de `arr`.\n",
        "\n",
        "Ten en cuenta que esta es una representación conceptual simplificada para ayudarte a visualizar cómo se estructura el árbol de segmentos internamente. La representación exacta de ASCII podría variar dependiendo de la implementación específica y el espacio disponible para la visualización."
      ]
    },
    {
      "attachments": {},
      "cell_type": "markdown",
      "id": "423656ca",
      "metadata": {},
      "source": [
        "### Ejercicios:\n",
        "\n",
        "**Ejercicio 1: Construir y Recorrer un Árbol N-ario**\n",
        "\n",
        "- **Objetivo**: Implementa un árbol N-ario y realiza un recorrido en profundidad (DFS).\n",
        "- **Solución**:"
      ]
    },
    {
      "cell_type": "code",
      "execution_count": 9,
      "id": "2c982db0",
      "metadata": {},
      "outputs": [
        {
          "name": "stdout",
          "output_type": "stream",
          "text": [
            "root child1 child2 "
          ]
        }
      ],
      "source": [
        "def dfs(node):\n",
        "    if node is not None:\n",
        "        print(node.value, end=' ')\n",
        "        for child in node.children:\n",
        "            dfs(child)\n",
        "\n",
        "# Usando el árbol N-ario creado anteriormente\n",
        "dfs(root)"
      ]
    },
    {
      "attachments": {},
      "cell_type": "markdown",
      "id": "dc838cf8",
      "metadata": {},
      "source": [
        "**Ejercicio 2: Consultas y Actualizaciones en un Árbol de Segmento**\n",
        "\n",
        "- **Objetivo**: Implementa consultas de suma de rango y actualizaciones en un árbol de segmento.\n",
        "- **Solución**:\n",
        "    - La implementación debe incluir métodos para actualizar un valor en el arreglo y para calcular la suma en un rango dado.\n",
        "    - Puedes seguir el esqueleto de la clase `SegmentTree` y añadir los métodos necesarios."
      ]
    },
    {
      "cell_type": "code",
      "execution_count": 10,
      "id": "d4f8690d",
      "metadata": {},
      "outputs": [
        {
          "name": "stdout",
          "output_type": "stream",
          "text": [
            "32\n",
            "31\n"
          ]
        }
      ],
      "source": [
        "class SegmentTree:\n",
        "    def __init__(self, arr):\n",
        "        self.arr = arr\n",
        "        self.tree = [0] * (4 * len(arr))\n",
        "        self.build(1, 0, len(arr) - 1)\n",
        "\n",
        "    def build(self, node, left, right):\n",
        "        if left == right:\n",
        "            self.tree[node] = self.arr[left]\n",
        "            return\n",
        "\n",
        "        mid = (left + right) // 2\n",
        "        self.build(2 * node, left, mid)\n",
        "        self.build(2 * node + 1, mid + 1, right)\n",
        "        self.tree[node] = self.tree[2 * node] + self.tree[2 * node + 1]\n",
        "\n",
        "    def query(self, node, left, right, q_left, q_right):\n",
        "        if q_left > right or q_right < left:\n",
        "            return 0\n",
        "\n",
        "        if q_left <= left and q_right >= right:\n",
        "            return self.tree[node]\n",
        "\n",
        "        mid = (left + right) // 2\n",
        "        left_sum = self.query(2 * node, left, mid, q_left, q_right)\n",
        "        right_sum = self.query(2 * node + 1, mid + 1, right, q_left, q_right)\n",
        "\n",
        "        return left_sum + right_sum\n",
        "\n",
        "    def update(self, node, left, right, index, new_value):\n",
        "        if left == right:\n",
        "            self.arr[index] = new_value\n",
        "            self.tree[node] = new_value\n",
        "            return\n",
        "\n",
        "        mid = (left + right) // 2\n",
        "        if index <= mid:\n",
        "            self.update(2 * node, left, mid, index, new_value)\n",
        "        else:\n",
        "            self.update(2 * node + 1, mid + 1, right, index, new_value)\n",
        "\n",
        "        self.tree[node] = self.tree[2 * node] + self.tree[2 * node + 1]\n",
        "\n",
        "# Ejemplo de uso\n",
        "arr = [1, 3, 5, 7, 9, 11]\n",
        "seg_tree = SegmentTree(arr)\n",
        "print(seg_tree.query(1, 0, len(arr) - 1, 2, 5))  # Consulta en el rango [2, 5] => Salida: 32\n",
        "seg_tree.update(1, 0, len(arr) - 1, 3, 6)  # Actualización en el índice 3 a 6\n",
        "print(seg_tree.query(1, 0, len(arr) - 1, 2, 5))  # Consulta nuevamente => Salida: 34"
      ]
    },
    {
      "attachments": {},
      "cell_type": "markdown",
      "id": "abb15b09",
      "metadata": {},
      "source": [
        "Esta implementación te permite realizar consultas de suma en un rango dado y actualizar valores en el arreglo original. \n",
        "\n",
        "### Conclusión:\n",
        "\n",
        "Los árboles N-arios y los árboles de segmento son estructuras de datos avanzadas que proporcionan soluciones eficientes para problemas específicos. Mientras que los árboles N-arios son excelentes para representar jerarquías complejas, los árboles de segmento son ideales para realizar consultas y actualizaciones de intervalos de manera eficiente. Conocer estas estructuras y cómo implementarlas amplía significativamente tu caja de herramientas como desarrollador de software."
      ]
    }
  ],
  "metadata": {
    "kernelspec": {
      "display_name": "Python 3",
      "language": "python",
      "name": "python3"
    },
    "language_info": {
      "codemirror_mode": {
        "name": "ipython",
        "version": 3
      },
      "file_extension": ".py",
      "mimetype": "text/x-python",
      "name": "python",
      "nbconvert_exporter": "python",
      "pygments_lexer": "ipython3",
      "version": "3.8.10"
    }
  },
  "nbformat": 4,
  "nbformat_minor": 5
}
