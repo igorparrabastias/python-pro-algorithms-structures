{
 "cells": [
  {
   "attachments": {},
   "cell_type": "markdown",
   "metadata": {},
   "source": [
    "# Encontrar palabras con un prefijo común\n",
    "\n",
    "Para profundizar en el Ejercicio 3, donde se busca encontrar todas las palabras con un prefijo dado en un Trie, vamos a detallar cómo se puede implementar y utilizar la funcionalidad de autocompletado para este propósito, considerando que ya tienes una clase `Trie` con la capacidad de autocompletar como se describió anteriormente.\n",
    "\n",
    "La función `find_words_with_prefix` aprovecha el método `autocomplete` de la clase `Trie` para buscar todas las palabras que comienzan con un prefijo específico. Aquí, el enfoque se centra en cómo navegar por el Trie para encontrar el nodo que representa el último carácter del prefijo y, a partir de ahí, recopilar todas las palabras posibles que extienden ese prefijo.\n"
   ]
  },
  {
   "cell_type": "code",
   "execution_count": 1,
   "metadata": {},
   "outputs": [],
   "source": [
    "class TrieNode:\n",
    "    def __init__(self):\n",
    "        self.children = {}\n",
    "        self.isEndOfWord = False\n",
    "\n",
    "class Trie:\n",
    "    def __init__(self):\n",
    "        self.root = TrieNode()\n",
    "\n",
    "    def insert(self, word):\n",
    "        node = self.root\n",
    "        for char in word:\n",
    "            if char not in node.children:\n",
    "                node.children[char] = TrieNode()\n",
    "            node = node.children[char]\n",
    "        node.isEndOfWord = True\n",
    "\n",
    "    def autocomplete(self, prefix):\n",
    "        node = self.root\n",
    "        for char in prefix:\n",
    "            if char not in node.children:\n",
    "                return []\n",
    "            node = node.children[char]\n",
    "        return self._find_words_from_node(node, prefix)\n",
    "\n",
    "    def _find_words_from_node(self, node, prefix):\n",
    "        words = []\n",
    "        if node.isEndOfWord:\n",
    "            words.append(prefix)\n",
    "        for char, next_node in node.children.items():\n",
    "            words.extend(self._find_words_from_node(next_node, prefix + char))\n",
    "        return words\n",
    "\n",
    "def find_words_with_prefix(trie, prefix):\n",
    "    return trie.autocomplete(prefix)"
   ]
  },
  {
   "attachments": {},
   "cell_type": "markdown",
   "metadata": {},
   "source": [
    "La implementación interna de `autocomplete` realiza dos tareas principales:\n",
    "\n",
    "1. ** Navegación hasta el Nodo del Prefijo**: Se recorre el Trie desde la raíz siguiendo los caracteres del prefijo. Si algún carácter del prefijo no está presente, significa que no hay palabras que comiencen con ese prefijo, y la función puede retornar una lista vacía inmediatamente.\n",
    "\n",
    "2. ** Recolección de Palabras**: Una vez encontrado el nodo que corresponde al último carácter del prefijo, se realiza una búsqueda en profundidad(DFS, por sus siglas en inglés) desde ese nodo para encontrar todas las terminaciones posibles que constituyen palabras completas. Esto se hace recursivamente visitando todos los nodos hijos y agregando el carácter de cada nodo al prefijo actual. Si se llega a un nodo que marca el fin de una palabra(`isEndOfWord` es `True`), esa palabra se agrega a la lista de resultados.\n",
    "\n",
    "### Ejemplo de Uso\n",
    "\n",
    "Supongamos que tienes un Trie con palabras como \"apple\", \"app\", \"apricot\", \"bat\", y \"batch\". Si quieres encontrar todas las palabras que comienzan con \"ap\", puedes hacer lo siguiente:"
   ]
  },
  {
   "cell_type": "code",
   "execution_count": 2,
   "metadata": {},
   "outputs": [
    {
     "name": "stdout",
     "output_type": "stream",
     "text": [
      "['app', 'apple', 'apricot']\n"
     ]
    }
   ],
   "source": [
    "trie = Trie()\n",
    "# Insertar palabras en el trie\n",
    "trie.insert(\"apple\")\n",
    "trie.insert(\"app\")\n",
    "trie.insert(\"apricot\")\n",
    "trie.insert(\"bat\")\n",
    "trie.insert(\"batch\")\n",
    "\n",
    "# Buscar palabras con el prefijo \"ap\"\n",
    "prefijo = \"ap\"\n",
    "palabras_con_prefijo = find_words_with_prefix(trie, prefijo)\n",
    "print(palabras_con_prefijo)\n"
   ]
  },
  {
   "attachments": {},
   "cell_type": "markdown",
   "metadata": {},
   "source": [
    "Esta implementación destaca la eficiencia de los Tries para realizar búsquedas basadas en prefijos, aprovechando su estructura para realizar consultas rápidas y eficientes que serían más complejas o menos eficientes con otras estructuras de datos como listas o árboles binarios de búsqueda.\n"
   ]
  }
 ],
 "metadata": {
  "kernelspec": {
   "display_name": "Python 3",
   "language": "python",
   "name": "python3"
  },
  "language_info": {
   "codemirror_mode": {
    "name": "ipython",
    "version": 3
   },
   "file_extension": ".py",
   "mimetype": "text/x-python",
   "name": "python",
   "nbconvert_exporter": "python",
   "pygments_lexer": "ipython3",
   "version": "3.8.10"
  },
  "orig_nbformat": 4
 },
 "nbformat": 4,
 "nbformat_minor": 2
}
