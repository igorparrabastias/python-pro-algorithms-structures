{
  "cells": [
    {
      "attachments": {},
      "cell_type": "markdown",
      "id": "7cff11fc",
      "metadata": {},
      "source": [
        "# Caso de uso: Verificación Ortográfica\n",
        "\n",
        "Para implementar un caso de uso de verificación ortográfica usando un Trie, la idea es construir un Trie que contenga un diccionario completo de palabras válidas. Luego, se puede buscar cualquier palabra ingresada en este Trie para verificar si es una palabra válida o no. Aquí está un ejemplo de cómo se podría implementar esto en Python:"
      ]
    },
    {
      "cell_type": "code",
      "execution_count": 8,
      "id": "2537e7f9",
      "metadata": {},
      "outputs": [
        {
          "name": "stdout",
          "output_type": "stream",
          "text": [
            "Diccionario usado:\n",
            "ejemplo\n",
            "computadora\n",
            "programacion\n",
            "algoritmo\n",
            "estructura\n",
            "datos\n",
            "python\n",
            "codigo\n",
            "\n",
            "\n",
            "La palabra 'piton' no es válida en el diccionario.\n",
            "La palabra 'codigo' es válida en el diccionario.\n",
            "La palabra 'algoritmo' es válida en el diccionario.\n"
          ]
        }
      ],
      "source": [
        "class TrieNode:\n",
        "    def __init__(self):\n",
        "        self.children = {}\n",
        "        self.is_end_of_word = False\n",
        "\n",
        "class Trie:\n",
        "    def __init__(self):\n",
        "        self.root = TrieNode()\n",
        "\n",
        "    def insert(self, word):\n",
        "        node = self.root\n",
        "        for char in word:\n",
        "            if char not in node.children:\n",
        "                node.children[char] = TrieNode()\n",
        "            node = node.children[char]\n",
        "        node.is_end_of_word = True\n",
        "\n",
        "    def search(self, word):\n",
        "        node = self.root\n",
        "        for char in word:\n",
        "            if char not in node.children:\n",
        "                return False\n",
        "            node = node.children[char]\n",
        "        return node.is_end_of_word\n",
        "\n",
        "# Carga de un diccionario en el Trie\n",
        "trie = Trie()\n",
        "with open(\"diccionario.txt\", \"r\") as file:  # Supone la existencia de un archivo diccionario.txt\n",
        "    for word in file:\n",
        "        trie.insert(word.strip())\n",
        "\n",
        "# Función de verificación ortográfica\n",
        "def verificar_ortografia(trie, word):\n",
        "    return trie.search(word.lower())\n",
        "\n",
        "\n",
        "# Ejemplo de uso\n",
        "palabras_para_verificar = [\"piton\", \"codigo\", \"algoritmo\"]\n",
        "\n",
        "print('Diccionario usado:')\n",
        "with open(\"diccionario.txt\", \"r\") as file:\n",
        "    for word in file:\n",
        "        # strip() elimina los espacios en blanco y saltos de línea\n",
        "        print(word.strip())\n",
        "print('\\n')\n",
        "\n",
        "for palabra in palabras_para_verificar:\n",
        "    es_correcta = verificar_ortografia(trie, palabra)\n",
        "    print(\n",
        "        f\"La palabra '{palabra}' {'es válida' if es_correcta else 'no es válida'} en el diccionario.\")\n"
      ]
    },
    {
      "attachments": {},
      "cell_type": "markdown",
      "id": "597e593e",
      "metadata": {},
      "source": [
        "En este ejemplo:\n",
        "\n",
        "1. Se define la estructura básica del Trie como en el ejemplo anterior.\n",
        "2. Se carga un diccionario de palabras en el Trie. Este diccionario debe estar en un archivo de texto donde cada línea es una palabra válida.\n",
        "3. Se implementa una función `verificar_ortografia` que busca una palabra en el Trie para determinar si está en el diccionario o no.\n",
        "\n",
        "Este sistema sería útil en aplicaciones de procesamiento de texto o editores, donde es fundamental verificar rápidamente la ortografía de las palabras ingresadas por los usuarios."
      ]
    }
  ],
  "metadata": {
    "kernelspec": {
      "display_name": "Python 3",
      "language": "python",
      "name": "python3"
    },
    "language_info": {
      "codemirror_mode": {
        "name": "ipython",
        "version": 3
      },
      "file_extension": ".py",
      "mimetype": "text/x-python",
      "name": "python",
      "nbconvert_exporter": "python",
      "pygments_lexer": "ipython3",
      "version": "3.8.10"
    }
  },
  "nbformat": 4,
  "nbformat_minor": 5
}
