{
  "cells": [
    {
      "cell_type": "markdown",
      "id": "7cff11fc",
      "metadata": {},
      "source": [
        "# Caso de uso: Verificaci\u00f3n Ortogr\u00e1fica\n",
        "\n",
        "Para implementar un caso de uso de verificaci\u00f3n ortogr\u00e1fica usando un Trie, la idea es construir un Trie que contenga un diccionario completo de palabras v\u00e1lidas. Luego, se puede buscar cualquier palabra ingresada en este Trie para verificar si es una palabra v\u00e1lida o no. Aqu\u00ed est\u00e1 un ejemplo de c\u00f3mo se podr\u00eda implementar esto en Python:"
      ]
    },
    {
      "cell_type": "code",
      "execution_count": null,
      "id": "2537e7f9",
      "metadata": {},
      "outputs": [],
      "source": [
        "class TrieNode:\n",
        "    def __init__(self):\n",
        "        self.children = {}\n",
        "        self.is_end_of_word = False\n",
        "\n",
        "class Trie:\n",
        "    def __init__(self):\n",
        "        self.root = TrieNode()\n",
        "\n",
        "    def insert(self, word):\n",
        "        node = self.root\n",
        "        for char in word:\n",
        "            if char not in node.children:\n",
        "                node.children[char] = TrieNode()\n",
        "            node = node.children[char]\n",
        "        node.is_end_of_word = True\n",
        "\n",
        "    def search(self, word):\n",
        "        node = self.root\n",
        "        for char in word:\n",
        "            if char not in node.children:\n",
        "                return False\n",
        "            node = node.children[char]\n",
        "        return node.is_end_of_word\n",
        "\n",
        "# Carga de un diccionario en el Trie\n",
        "trie = Trie()\n",
        "with open(\"diccionario.txt\", \"r\") as file:  # Supone la existencia de un archivo diccionario.txt\n",
        "    for word in file:\n",
        "        trie.insert(word.strip())\n",
        "\n",
        "# Funci\u00f3n de verificaci\u00f3n ortogr\u00e1fica\n",
        "def verificar_ortografia(trie, word):\n",
        "    return trie.search(word.lower())\n",
        "\n",
        "# Ejemplo de uso\n",
        "palabra = \"ejemplo\"\n",
        "es_correcta = verificar_ortografia(trie, palabra)\n",
        "print(f\"La palabra '{palabra}' {'es v\u00e1lida' if es_correcta else 'no es v\u00e1lida'} en el diccionario.\")"
      ]
    },
    {
      "cell_type": "markdown",
      "id": "597e593e",
      "metadata": {},
      "source": [
        "En este ejemplo:\n",
        "\n",
        "1. Se define la estructura b\u00e1sica del Trie como en el ejemplo anterior.\n",
        "2. Se carga un diccionario de palabras en el Trie. Este diccionario debe estar en un archivo de texto donde cada l\u00ednea es una palabra v\u00e1lida.\n",
        "3. Se implementa una funci\u00f3n `verificar_ortografia` que busca una palabra en el Trie para determinar si est\u00e1 en el diccionario o no.\n",
        "\n",
        "Este sistema ser\u00eda \u00fatil en aplicaciones de procesamiento de texto o editores, donde es fundamental verificar r\u00e1pidamente la ortograf\u00eda de las palabras ingresadas por los usuarios."
      ]
    }
  ],
  "metadata": {},
  "nbformat": 4,
  "nbformat_minor": 5
}