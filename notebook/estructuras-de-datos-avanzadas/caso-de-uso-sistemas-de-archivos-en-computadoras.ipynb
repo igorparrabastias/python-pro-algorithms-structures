{
 "cells": [
  {
   "attachments": {},
   "cell_type": "markdown",
   "id": "5bb0cccc",
   "metadata": {},
   "source": [
    "# Caso de Uso: Sistemas de Archivos en Computadoras\n",
    "\n",
    "### Introducción:\n",
    "Los sistemas de archivos son una parte esencial de los sistemas operativos, gestionando cómo se almacenan y recuperan los datos en los dispositivos de almacenamiento. Un sistema de archivos organiza estos datos en una estructura jerárquica, donde directorios y archivos se representan de manera que faciliten su acceso y gestión. Los árboles N-arios, donde cada nodo puede tener cualquier número de hijos, son ideales para modelar esta estructura jerárquica.\n",
    "\n",
    "### Estructuras de Datos Nativas de Python:\n",
    "Para representar un sistema de archivos usando árboles N-arios en Python, se puede emplear una clase que represente tanto los directorios (nodos) como los archivos (nodos hoja). Cada nodo en el árbol podría tener propiedades como nombre, tipo (directorio o archivo), y una lista de nodos hijos (para directorios)."
   ]
  },
  {
   "cell_type": "code",
   "execution_count": 11,
   "id": "ff4b9bbf",
   "metadata": {},
   "outputs": [],
   "source": [
    "class FileSystemNode:\n",
    "    def __init__(self, name, type=\"directory\"):\n",
    "        self.name = name\n",
    "        self.type = type  # \"directory\" o \"file\"\n",
    "        self.children = []  # Lista de FileSystemNode\n",
    "\n",
    "    def add_child(self, child):\n",
    "        self.children.append(child)"
   ]
  },
  {
   "attachments": {},
   "cell_type": "markdown",
   "id": "7da86247",
   "metadata": {},
   "source": [
    "### Implementación de Árboles Simples:\n",
    "Para construir un sistema de archivos, se crearían instancias de `FileSystemNode`, una para el directorio raíz y más para subdirectorios y archivos, reflejando la estructura jerárquica del sistema de archivos real."
   ]
  },
  {
   "cell_type": "code",
   "execution_count": 12,
   "id": "2a1fe3dc",
   "metadata": {},
   "outputs": [],
   "source": [
    "# Crear sistema de archivos\n",
    "root = FileSystemNode(\"root\")\n",
    "documents = FileSystemNode(\"documents\")\n",
    "root.add_child(documents)\n",
    "documents.add_child(FileSystemNode(\"resume.docx\", \"file\"))"
   ]
  },
  {
   "attachments": {},
   "cell_type": "markdown",
   "id": "a59a4a50",
   "metadata": {},
   "source": [
    "### Conclusión:\n",
    "Los árboles N-arios son fundamentales en la implementación de sistemas de archivos debido a su capacidad para representar eficientemente estructuras jerárquicas complejas. Al utilizar árboles N-arios, los sistemas operativos pueden gestionar de manera eficaz y eficiente el almacenamiento, la recuperación y la organización de archivos y directorios, permitiendo operaciones como la creación, búsqueda, y eliminación de archivos y directorios de manera intuitiva y acorde con la estructura jerárquica del sistema de archivos.\n",
    "\n",
    "### Ejercicios:\n",
    "1. **Implementar Función de Búsqueda**: Escribe una función que, dado un nombre de archivo, busque en el sistema de archivos y devuelva la ruta completa si el archivo existe.\n",
    "2. **Listar Directorio**: Implementa una función que liste todos los archivos y subdirectorios dentro de un directorio dado.\n",
    "\n",
    "### Soluciones:\n",
    "1. **Búsqueda de Archivo**:"
   ]
  },
  {
   "cell_type": "code",
   "execution_count": 13,
   "id": "23f22dfd",
   "metadata": {},
   "outputs": [
    {
     "name": "stdout",
     "output_type": "stream",
     "text": [
      "Archivo encontrado: /root/documents/resume.docx\n"
     ]
    }
   ],
   "source": [
    "def buscar_archivo(nodo, nombre_archivo, ruta=\"\"):\n",
    "    if nodo.type == \"file\" and nodo.name == nombre_archivo:\n",
    "        return ruta + \"/\" + nodo.name\n",
    "    for child in nodo.children:\n",
    "        resultado = buscar_archivo(child, nombre_archivo, ruta + \"/\" + nodo.name)\n",
    "        if resultado:\n",
    "            return resultado\n",
    "    return None\n",
    "\n",
    "\n",
    "nombre_archivo = \"resume.docx\"\n",
    "ruta = buscar_archivo(root, nombre_archivo)\n",
    "if ruta:\n",
    "    print(f\"Archivo encontrado: {ruta}\")\n",
    "else:\n",
    "    print(\"Archivo no encontrado.\")\n"
   ]
  },
  {
   "attachments": {},
   "cell_type": "markdown",
   "id": "63889b64",
   "metadata": {},
   "source": [
    "2. **Listar Directorio**:"
   ]
  },
  {
   "cell_type": "code",
   "execution_count": 14,
   "id": "94d25f76",
   "metadata": {},
   "outputs": [
    {
     "name": "stdout",
     "output_type": "stream",
     "text": [
      "Contenido del directorio 'root':\n",
      "Tipo: directory - Nombre: documents\n",
      "Tipo: file - Nombre: resume.docx\n"
     ]
    }
   ],
   "source": [
    "def listar_directorio(nodo):\n",
    "    for child in nodo.children:\n",
    "        print(\"Tipo:\", child.type, \"- Nombre:\", child.name)\n",
    "        if child.type == \"directory\":\n",
    "            listar_directorio(child)\n",
    "            \n",
    "\n",
    "print(\"Contenido del directorio 'root':\")\n",
    "listar_directorio(root)\n"
   ]
  }
 ],
 "metadata": {
  "kernelspec": {
   "display_name": "Python 3",
   "language": "python",
   "name": "python3"
  },
  "language_info": {
   "codemirror_mode": {
    "name": "ipython",
    "version": 3
   },
   "file_extension": ".py",
   "mimetype": "text/x-python",
   "name": "python",
   "nbconvert_exporter": "python",
   "pygments_lexer": "ipython3",
   "version": "3.8.10"
  }
 },
 "nbformat": 4,
 "nbformat_minor": 5
}
