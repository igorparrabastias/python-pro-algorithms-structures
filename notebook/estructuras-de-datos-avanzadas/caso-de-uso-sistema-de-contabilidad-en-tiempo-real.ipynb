{
  "cells": [
    {
      "attachments": {},
      "cell_type": "markdown",
      "id": "11c77cc6",
      "metadata": {},
      "source": [
        "# Caso de uso: Sistema de Contabilidad en Tiempo Real\n",
        "\n",
        "### Caso de Uso para Árbol de Segmento: Consultas de Rango y Actualizaciones en Arrays\n",
        "\n",
        "Los árboles de segmento son extremadamente útiles para manejar múltiples consultas de rango y actualizaciones en arrays. Un caso de uso común es el manejo eficiente de consultas de suma de rango y actualizaciones en un array. Estas estructuras son ideales en situaciones donde hay numerosas operaciones tanto de consulta como de actualización.\n",
        "\n",
        "### Ejemplo: Sistema de Contabilidad en Tiempo Real\n",
        "\n",
        "Imagina un sistema de contabilidad para una tienda en línea que necesita manejar dos tipos de operaciones frecuentes y en tiempo real sobre un conjunto de transacciones financieras (representadas en un array):\n",
        "\n",
        "1. **Actualizar**: Cambiar el valor de una transacción.\n",
        "2. **Consultar**: Calcular la suma total de las transacciones en un rango específico (por ejemplo, total diario, semanal, o mensual).\n",
        "\n",
        "El uso de un árbol de segmento en este escenario permite realizar ambas operaciones de manera eficiente.\n",
        "\n",
        "### Implementación en Python:"
      ]
    },
    {
      "cell_type": "code",
      "execution_count": 1,
      "id": "272884ce",
      "metadata": {},
      "outputs": [
        {
          "name": "stdout",
          "output_type": "stream",
          "text": [
            "500\n",
            "950\n"
          ]
        }
      ],
      "source": [
        "class SegmentTree:\n",
        "    def __init__(self, arr):\n",
        "        self.n = len(arr)\n",
        "        self.tree = [0] * (2 * self.n)\n",
        "        self.build(arr)\n",
        "\n",
        "    def build(self, arr):\n",
        "        for i in range(self.n, 2 * self.n):\n",
        "            self.tree[i] = arr[i - self.n]\n",
        "        for i in range(self.n - 1, 0, -1):\n",
        "            self.tree[i] = self.tree[i << 1] + self.tree[i << 1 | 1]\n",
        "\n",
        "    def update(self, idx, val):\n",
        "        idx += self.n\n",
        "        self.tree[idx] = val\n",
        "        while idx > 1:\n",
        "            self.tree[idx >> 1] = self.tree[idx] + self.tree[idx ^ 1]\n",
        "            idx >>= 1\n",
        "\n",
        "    def query(self, left, right):\n",
        "        res = 0\n",
        "        left += self.n\n",
        "        right += self.n\n",
        "        while left < right:\n",
        "            if left & 1:\n",
        "                res += self.tree[left]\n",
        "                left += 1\n",
        "            if right & 1:\n",
        "                right -= 1\n",
        "                res += self.tree[right]\n",
        "            left >>= 1\n",
        "            right >>= 1\n",
        "        return res\n",
        "\n",
        "# Ejemplo de uso\n",
        "transacciones = [100, 200, 300, 400, 500]\n",
        "seg_tree = SegmentTree(transacciones)\n",
        "print(seg_tree.query(1, 3))  # Suma de transacciones desde el índice 1 al 3\n",
        "seg_tree.update(2, 350)       # Actualizar la transacción en el índice 2\n",
        "print(seg_tree.query(1, 4))  # Nueva suma de transacciones desde el índice 1 al 4"
      ]
    },
    {
      "attachments": {},
      "cell_type": "markdown",
      "id": "7d3a1ceb",
      "metadata": {},
      "source": [
        "En este código:\n",
        "\n",
        "1. Se construye un árbol de segmento para el array de transacciones.\n",
        "2. Las funciones `update` y `query` permiten actualizar los valores de las transacciones y calcular sumas de rango, respectivamente.\n",
        "\n",
        "Esta implementación es ideal para sistemas que requieren un equilibrio entre eficiencia en consultas de rango y flexibilidad en actualizaciones frecuentes, como en sistemas de contabilidad, análisis de datos financieros, o incluso en juegos y aplicaciones de procesamiento de imágenes para cálculos rápidos en áreas específicas."
      ]
    }
  ],
  "metadata": {
    "kernelspec": {
      "display_name": "Python 3",
      "language": "python",
      "name": "python3"
    },
    "language_info": {
      "codemirror_mode": {
        "name": "ipython",
        "version": 3
      },
      "file_extension": ".py",
      "mimetype": "text/x-python",
      "name": "python",
      "nbconvert_exporter": "python",
      "pygments_lexer": "ipython3",
      "version": "3.8.10"
    }
  },
  "nbformat": 4,
  "nbformat_minor": 5
}
