{
 "cells": [
  {
   "attachments": {},
   "cell_type": "markdown",
   "id": "62eb7481",
   "metadata": {},
   "source": [
    "# Árboles de Segmento\n",
    "\n",
    "### Definición y Uso:\n",
    "\n",
    "- Un árbol de segmento es una estructura de datos en árbol que facilita las consultas de suma, mínimo, máximo (y otras operaciones) en un rango de un arreglo.\n",
    "- Ideal para escenarios como sistemas de bases de datos y gráficos computacionales, donde se realizan frecuentes consultas de rango y actualizaciones.\n",
    "\n",
    "Los árboles de segmento (Segment Trees) son una estructura de datos muy potente y flexible utilizada principalmente para resolver problemas de rangos, como consultas de suma de rangos, actualizaciones de rango, y otros tipos de consultas que involucran operaciones sobre subsegmentos de un arreglo. A diferencia de los árboles binarios de búsqueda y los árboles N-arios que pueden tener una variedad de aplicaciones, los árboles de segmento están especialmente diseñados para optimizar ciertas operaciones sobre arreglos.\n",
    "\n",
    "### Características Principales:\n",
    "\n",
    "- **Estructura de Árbol Binario**: Aunque se llaman \"árboles de segmento\", técnicamente son árboles binarios. Cada nodo del árbol representa un segmento (o rango) del arreglo, con el nodo raíz representando el arreglo completo.\n",
    "  \n",
    "- **Almacenamiento de Información de Rango**: Cada nodo del árbol almacena información sobre un rango específico del arreglo. Por ejemplo, en un árbol de segmento de suma, cada nodo almacenaría la suma de los elementos dentro de su rango correspondiente.\n",
    "\n",
    "- **División Recursiva**: La construcción del árbol divide el arreglo en dos mitades en cada nivel, hasta que los segmentos no se puedan dividir más (es decir, hasta que representen un solo elemento del arreglo).\n",
    "\n",
    "### Operaciones Comunes:\n",
    "\n",
    "- **Construcción**: Se construye el árbol a partir de un arreglo dado. La construcción tiene una complejidad de tiempo de \\(O(n)\\), donde \\(n\\) es la longitud del arreglo.\n",
    "\n",
    "- **Consulta**: Permite realizar consultas sobre rangos específicos dentro del arreglo, como encontrar la suma de elementos en un rango dado. Las consultas tienen una complejidad de tiempo de \\(O(\\log n)\\).\n",
    "\n",
    "- **Actualización**: Permite actualizar los valores del arreglo (por ejemplo, cambiar el valor de un elemento). Después de una actualización, el árbol se ajusta para reflejar este cambio. Las actualizaciones también tienen una complejidad de tiempo de \\(O(\\log n)\\).\n",
    "\n",
    "### Aplicaciones:\n",
    "\n",
    "- **Consultas de Rango**: Son ideales para problemas que requieren consultas de rango frecuentes, como la suma de rangos, el mínimo/ máximo de rango, y más.\n",
    "\n",
    "- **Problemas de Rango Dinámico**: Donde los elementos del arreglo pueden cambiar entre consultas, y es necesario reflejar rápidamente esos cambios en las respuestas a las consultas.\n",
    "\n",
    "- **Competencias de Programación**: Son una herramienta popular en competencias de programación debido a su eficiencia en la resolución de problemas complejos de rangos.\n",
    "\n",
    "### Implementación en Python:"
   ]
  },
  {
   "cell_type": "code",
   "execution_count": 26,
   "id": "af292770",
   "metadata": {},
   "outputs": [
    {
     "name": "stdout",
     "output_type": "stream",
     "text": [
      "[15, 6, 9, 3, 3, 4, 5, 1, 2, 0, 0, 0, 0, 0, 0, 0, 0, 0, 0, 0]\n"
     ]
    }
   ],
   "source": [
    "class SegmentTree:\n",
    "    def __init__(self, arr):\n",
    "        self.arr = arr\n",
    "        self.tree = [0] * (4 * len(arr))\n",
    "        self.build(0, 0, len(arr) - 1)\n",
    "\n",
    "    def build(self, node, start, end):\n",
    "        if start == end:\n",
    "            self.tree[node] = self.arr[start]\n",
    "        else:\n",
    "            mid = (start + end) // 2\n",
    "            self.build(2 * node + 1, start, mid)\n",
    "            self.build(2 * node + 2, mid + 1, end)\n",
    "            self.tree[node] = self.tree[2 * node + 1] + self.tree[2 * node + 2]\n",
    "\n",
    "# Ejemplo de uso\n",
    "arr = [1, 2, 3, 4, 5]\n",
    "seg_tree = SegmentTree(arr)\n",
    "print(seg_tree.tree)\n"
   ]
  },
  {
   "attachments": {},
   "cell_type": "markdown",
   "id": "80600267",
   "metadata": {},
   "source": [
    "Crear una representación ASCII de un árbol de segmentos es más complejo debido a su naturaleza jerárquica y la forma en que los nodos están organizados en memoria (en este caso, en una lista). Sin embargo, puedo mostrarte cómo conceptualizarlo de manera simplificada. Para el árbol de segmentos generado a partir de tu ejemplo, donde `arr = [1, 2, 3, 4, 5]`, la representación en lista del árbol es la suma de segmentos del arreglo. Aquí hay una forma simplificada de ver la estructura del árbol:\n",
    "\n",
    "```\n",
    "         [15]\n",
    "       /      \\\n",
    "     [3]      [12]\n",
    "    /   \\     /   \\\n",
    "  [1]   [2] [7]   [5]\n",
    "            / \\\n",
    "          [3] [4]\n",
    "```\n",
    "\n",
    "- El nodo raíz `[15]` representa la suma total de todos los elementos de `arr`.\n",
    "- Cada nivel subsiguiente divide el arreglo en segmentos más pequeños, con nodos que representan la suma de esos segmentos.\n",
    "- Cada nodo muestra la suma del rango que representa. Este diseño permite realizar consultas y actualizaciones eficientes.\n",
    "- Las hojas del árbol `[1], [2], [3], [4], [5]` representan los elementos individuales de `arr`.\n",
    "\n",
    "Los árboles de segmento son una herramienta avanzada en estructuras de datos, ofreciendo soluciones eficientes a problemas que de otro modo requerirían enfoques menos eficientes y más complejos."
   ]
  },
  {
   "attachments": {},
   "cell_type": "markdown",
   "id": "423656ca",
   "metadata": {},
   "source": [
    "### Ejercicios:\n",
    "\n",
    "**Ejercicio 1: Construir y Recorrer un Árbol N-ario**\n",
    "\n",
    "- **Objetivo**: Implementa un árbol N-ario y realiza un recorrido en profundidad (DFS).\n",
    "- **Solución**:"
   ]
  },
  {
   "cell_type": "code",
   "execution_count": 27,
   "id": "2c982db0",
   "metadata": {},
   "outputs": [
    {
     "name": "stdout",
     "output_type": "stream",
     "text": [
      "root child1 grandchild1 child2 grandchild2 grandchild3 "
     ]
    }
   ],
   "source": [
    "def dfs(node):\n",
    "    if node is not None:\n",
    "        print(node.value, end=' ')\n",
    "        for child in node.children:\n",
    "            dfs(child)\n",
    "\n",
    "# Usando el árbol N-ario creado anteriormente\n",
    "dfs(root)"
   ]
  },
  {
   "attachments": {},
   "cell_type": "markdown",
   "id": "dc838cf8",
   "metadata": {},
   "source": [
    "**Ejercicio 2: Consultas y Actualizaciones en un Árbol de Segmento**\n",
    "\n",
    "- **Objetivo**: Implementa consultas de suma de rango y actualizaciones en un árbol de segmento.\n",
    "- **Solución**:\n",
    "    - La implementación debe incluir métodos para actualizar un valor en el arreglo y para calcular la suma en un rango dado.\n",
    "    - Puedes seguir el esqueleto de la clase `SegmentTree` y añadir los métodos necesarios."
   ]
  },
  {
   "cell_type": "code",
   "execution_count": 28,
   "id": "d4f8690d",
   "metadata": {},
   "outputs": [
    {
     "name": "stdout",
     "output_type": "stream",
     "text": [
      "32\n",
      "31\n"
     ]
    }
   ],
   "source": [
    "class SegmentTree:\n",
    "    def __init__(self, arr):\n",
    "        self.arr = arr\n",
    "        self.tree = [0] * (4 * len(arr))\n",
    "        self.build(1, 0, len(arr) - 1)\n",
    "\n",
    "    def build(self, node, left, right):\n",
    "        if left == right:\n",
    "            self.tree[node] = self.arr[left]\n",
    "            return\n",
    "\n",
    "        mid = (left + right) // 2\n",
    "        self.build(2 * node, left, mid)\n",
    "        self.build(2 * node + 1, mid + 1, right)\n",
    "        self.tree[node] = self.tree[2 * node] + self.tree[2 * node + 1]\n",
    "\n",
    "    def query(self, node, left, right, q_left, q_right):\n",
    "        if q_left > right or q_right < left:\n",
    "            return 0\n",
    "\n",
    "        if q_left <= left and q_right >= right:\n",
    "            return self.tree[node]\n",
    "\n",
    "        mid = (left + right) // 2\n",
    "        left_sum = self.query(2 * node, left, mid, q_left, q_right)\n",
    "        right_sum = self.query(2 * node + 1, mid + 1, right, q_left, q_right)\n",
    "\n",
    "        return left_sum + right_sum\n",
    "\n",
    "    def update(self, node, left, right, index, new_value):\n",
    "        if left == right:\n",
    "            self.arr[index] = new_value\n",
    "            self.tree[node] = new_value\n",
    "            return\n",
    "\n",
    "        mid = (left + right) // 2\n",
    "        if index <= mid:\n",
    "            self.update(2 * node, left, mid, index, new_value)\n",
    "        else:\n",
    "            self.update(2 * node + 1, mid + 1, right, index, new_value)\n",
    "\n",
    "        self.tree[node] = self.tree[2 * node] + self.tree[2 * node + 1]\n",
    "\n",
    "# Ejemplo de uso\n",
    "arr = [1, 3, 5, 7, 9, 11]\n",
    "seg_tree = SegmentTree(arr)\n",
    "print(seg_tree.query(1, 0, len(arr) - 1, 2, 5))  # Consulta en el rango [2, 5] => Salida: 32\n",
    "seg_tree.update(1, 0, len(arr) - 1, 3, 6)  # Actualización en el índice 3 a 6\n",
    "print(seg_tree.query(1, 0, len(arr) - 1, 2, 5))  # Consulta nuevamente => Salida: 34"
   ]
  },
  {
   "attachments": {},
   "cell_type": "markdown",
   "id": "abb15b09",
   "metadata": {},
   "source": [
    "Esta implementación te permite realizar consultas de suma en un rango dado y actualizar valores en el arreglo original. \n",
    "\n",
    "### Conclusión:\n",
    "\n",
    "Los árboles N-arios y los árboles de segmento son estructuras de datos avanzadas que proporcionan soluciones eficientes para problemas específicos. Mientras que los árboles N-arios son excelentes para representar jerarquías complejas, los árboles de segmento son ideales para realizar consultas y actualizaciones de intervalos de manera eficiente. Conocer estas estructuras y cómo implementarlas amplía significativamente tu caja de herramientas como desarrollador de software."
   ]
  }
 ],
 "metadata": {
  "kernelspec": {
   "display_name": "Python 3",
   "language": "python",
   "name": "python3"
  },
  "language_info": {
   "name": "python",
   "version": "3.8.10"
  }
 },
 "nbformat": 4,
 "nbformat_minor": 5
}
