{
  "cells": [
    {
      "attachments": {},
      "cell_type": "markdown",
      "id": "e4746850",
      "metadata": {},
      "source": [
        "# Caso de uso: Autocompletado"
      ]
    },
    {
      "cell_type": "code",
      "execution_count": 3,
      "id": "c3f62dba",
      "metadata": {},
      "outputs": [
        {
          "name": "stdout",
          "output_type": "stream",
          "text": [
            "['app', 'apple', 'application']\n",
            "['hola', 'hogar', 'hoja', 'horno']\n"
          ]
        }
      ],
      "source": [
        "class TrieNode:\n",
        "    def __init__(self):\n",
        "        self.children = {}\n",
        "        self.is_end_of_word = False\n",
        "\n",
        "class Trie:\n",
        "    def __init__(self):\n",
        "        self.root = TrieNode()\n",
        "\n",
        "    def insert(self, word):\n",
        "        node = self.root\n",
        "        for char in word:\n",
        "            if char not in node.children:\n",
        "                node.children[char] = TrieNode()\n",
        "            node = node.children[char]\n",
        "        node.is_end_of_word = True\n",
        "\n",
        "    def _find_prefix_node(self, prefix):\n",
        "        \"\"\" Encuentra el nodo que corresponde al final del prefijo. \"\"\"\n",
        "        node = self.root\n",
        "        for char in prefix:\n",
        "            if char not in node.children:\n",
        "                return None\n",
        "            node = node.children[char]\n",
        "        return node\n",
        "\n",
        "    def _autocomplete_recursive(self, node, prefix, words):\n",
        "        \"\"\" Función recursiva para encontrar todas las palabras a partir de un nodo dado. \"\"\"\n",
        "        if node.is_end_of_word:\n",
        "            words.append(prefix)\n",
        "        for char, next_node in node.children.items():\n",
        "            self._autocomplete_recursive(next_node, prefix + char, words)\n",
        "\n",
        "    def autocomplete(self, prefix):\n",
        "        \"\"\" Devuelve todas las palabras en el trie que comienzan con el prefijo dado. \"\"\"\n",
        "        node = self._find_prefix_node(prefix)\n",
        "        if not node:\n",
        "            return []\n",
        "\n",
        "        words = []\n",
        "        self._autocomplete_recursive(node, prefix, words)\n",
        "        return words\n",
        "\n",
        "\n",
        "# Ejemplo de uso\n",
        "trie = Trie()\n",
        "# Insertar palabras\n",
        "trie.insert(\"apple\")\n",
        "trie.insert(\"app\")\n",
        "trie.insert(\"application\")\n",
        "trie.insert(\"apricot\")\n",
        "trie.insert(\"bat\")\n",
        "\n",
        "# Llamar al método de autocompletado\n",
        "sugerencias = trie.autocomplete(\"app\")\n",
        "print(sugerencias)\n",
        "\n",
        "# Imprimir sugerencias de au\n",
        "\n",
        "# Ejemplo de uso\n",
        "trie = Trie()\n",
        "trie.insert(\"hola\")\n",
        "trie.insert(\"hogar\")\n",
        "trie.insert(\"hoja\")\n",
        "trie.insert(\"horno\")\n",
        "\n",
        "print(trie.autocomplete(\"ho\"))  # Devuelve ['hola', 'hogar', 'hoja', 'horno']"
      ]
    },
    {
      "attachments": {},
      "cell_type": "markdown",
      "id": "63926128",
      "metadata": {},
      "source": [
        "En este código:\n",
        "\n",
        "1. Se define una clase `TrieNode` que representa cada nodo en el Trie, con un diccionario para los hijos y una marca para el final de la palabra.\n",
        "2. La clase `Trie` maneja las operaciones de inserción y autocompletado.\n",
        "3. El método `autocomplete` busca el nodo que corresponde al final del prefijo y luego usa una función recursiva `_autocomplete_recursive` para encontrar todas las palabras que se derivan de ese nodo.\n",
        "\n",
        "Este ejemplo es una base para implementar una funcionalidad de autocompletado, común en motores de búsqueda y teclados inteligentes, que sugiere palabras completas basándose en los caracteres iniciales ingresados por el usuario."
      ]
    }
  ],
  "metadata": {
    "kernelspec": {
      "display_name": "Python 3",
      "language": "python",
      "name": "python3"
    },
    "language_info": {
      "codemirror_mode": {
        "name": "ipython",
        "version": 3
      },
      "file_extension": ".py",
      "mimetype": "text/x-python",
      "name": "python",
      "nbconvert_exporter": "python",
      "pygments_lexer": "ipython3",
      "version": "3.8.10"
    }
  },
  "nbformat": 4,
  "nbformat_minor": 5
}
