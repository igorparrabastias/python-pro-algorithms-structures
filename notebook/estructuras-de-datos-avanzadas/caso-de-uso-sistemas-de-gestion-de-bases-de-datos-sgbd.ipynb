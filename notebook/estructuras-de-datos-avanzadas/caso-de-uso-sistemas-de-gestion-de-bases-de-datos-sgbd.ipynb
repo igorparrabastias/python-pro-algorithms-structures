{
 "cells": [
  {
   "attachments": {},
   "cell_type": "markdown",
   "metadata": {},
   "source": [
    "# Caso de uso: Sistemas de Gestión de Bases de Datos (SGBD)\n",
    "\n",
    "Los árboles N-arios son estructuras de datos fundamentales en los Sistemas de Gestión de Bases de Datos (SGBD) debido a su eficiencia y flexibilidad en la organización y recuperación de grandes volúmenes de datos. Un caso de uso destacado de los árboles N-arios en los SGBD es su aplicación en índices, específicamente en estructuras como los árboles B, B+ y B*.\n",
    "\n",
    "### Árboles B, B+ y B*\n",
    "\n",
    "Estas variantes de árboles N-arios están optimizadas para sistemas que leen y escriben grandes bloques de datos, como los SGBD. La principal característica que los distingue de los árboles binarios es que un nodo puede tener más de dos hijos, lo que los hace ideales para almacenar y acceder a datos de manera eficiente en discos.\n",
    "\n",
    "#### Características:\n",
    "\n",
    "- **Alto Factor de Ramificación**: Esto significa que cada nodo puede tener muchos hijos, lo que reduce la altura del árbol y, por lo tanto, el número de accesos a disco necesarios para llegar a un nodo hoja.\n",
    "- **Balanceo**: Los árboles B y sus variantes están bien balanceados, lo que garantiza que el tiempo de acceso, inserción y borrado se mantenga eficiente y predecible, incluso con grandes volúmenes de datos.\n",
    "- **Almacenamiento de Datos y Claves**: En un árbol B+, por ejemplo, las claves se almacenan tanto en los nodos internos para guiar la búsqueda como en los nodos hoja, donde se almacenan los datos o se hacen referencias a los datos. Esto permite recorridos eficientes y búsqueda de rangos.\n",
    "\n",
    "#### Aplicaciones en SGBD:\n",
    "\n",
    "1. **Índices**: Los árboles B y B+ son comúnmente utilizados para implementar índices en bases de datos. Los índices permiten búsquedas rápidas de registros sin necesidad de escanear toda la tabla, mejorando significativamente el rendimiento de las consultas.\n",
    "\n",
    "2. **Almacenamiento de Datos**: Algunos SGBD utilizan variantes de árboles N-arios para almacenar los propios datos, organizando los registros de manera que se optimice el acceso basado en claves.\n",
    "\n",
    "3. **Optimización de Consultas**: Los árboles N-arios permiten operaciones eficientes como la búsqueda por rango, búsquedas de mayor o menor cercano, y agregaciones rápidas, lo que es crucial para optimizar las consultas SQL.\n",
    "\n",
    "4. **Concurrencia y Recuperación**: Los SGBD utilizan técnicas avanzadas de bloqueo y versionado en árboles N-arios para manejar la concurrencia, permitiendo que múltiples transacciones operen de manera eficiente. También facilitan la recuperación ante fallos manteniendo la integridad de los datos.\n",
    "\n",
    "En resumen, los árboles N-arios, a través de sus variantes como los árboles B, B+ y B*, juegan un papel crucial en el rendimiento y la eficiencia de los SGBD, permitiendo la rápida recuperación y manejo de grandes conjuntos de datos, y son fundamentales para la implementación de índices y la organización del almacenamiento."
   ]
  },
  {
   "attachments": {},
   "cell_type": "markdown",
   "metadata": {},
   "source": [
    "## Ejemplo\n",
    "\n",
    "Para complementar la explicación sobre el uso de árboles N-arios en Sistemas de Gestión de Bases de Datos (SGBD), específicamente en la implementación de índices como los árboles B y B+, veamos un ejemplo simplificado de cómo podríamos representar y utilizar un árbol B+ para indexar datos. Este ejemplo no cubrirá todas las complejidades de un árbol B+ real utilizado en SGBD, pero te dará una idea de cómo se podrían estructurar y buscar datos.\n",
    "\n",
    "### Concepto Básico de un Árbol B+ para Índices en SGBD\n",
    "\n",
    "Un árbol B+ es una estructura de datos en forma de árbol que permite búsquedas, secuencias de acceso, inserciones y eliminaciones en tiempo logarítmico. Diferencia clave con el árbol B: todas las claves se almacenan en las hojas, y los nodos internos solo almacenan claves para guiar la búsqueda.\n",
    "\n",
    "Vamos a definir una estructura muy básica de un árbol B+ donde nos enfocaremos en la inserción y búsqueda de claves."
   ]
  },
  {
   "cell_type": "code",
   "execution_count": 12,
   "metadata": {},
   "outputs": [
    {
     "name": "stdout",
     "output_type": "stream",
     "text": [
      "Clave 20 encontrada en el árbol.\n",
      "Clave 55 no encontrada en el árbol.\n",
      "Clave 70 no encontrada en el árbol.\n",
      "Clave 85 no encontrada en el árbol.\n",
      "Clave 90 no encontrada en el árbol.\n"
     ]
    }
   ],
   "source": [
    "class BPlusTreeNode:\n",
    "    def __init__(self, is_leaf=False):\n",
    "        self.is_leaf = is_leaf\n",
    "        self.keys = []\n",
    "        self.children = []\n",
    "\n",
    "class BPlusTree:\n",
    "    def __init__(self, degree):\n",
    "        self.root = BPlusTreeNode(is_leaf=True)\n",
    "        self.degree = degree  # Grado mínimo del árbol: número mínimo de claves que un nodo puede tener\n",
    "\n",
    "    def insert(self, key):\n",
    "        root = self.root\n",
    "        if len(root.keys) < 2 * self.degree - 1:  # Condición simplificada para evitar división\n",
    "            self.insert_non_full(root, key)\n",
    "        else:\n",
    "            # En un escenario real, aquí se crearía un nuevo nodo y se dividiría el nodo raíz\n",
    "            pass  # Omitido para simplificar\n",
    "\n",
    "    def insert_non_full(self, node, key):\n",
    "        i = len(node.keys) - 1\n",
    "        if node.is_leaf:\n",
    "            node.keys.append(key)\n",
    "            node.keys.sort()  # Mantener las claves ordenadas simplificadamente\n",
    "        else:\n",
    "            # Este bloque se simplifica para ejemplos; en la práctica, se manejarían hijos\n",
    "            pass\n",
    "\n",
    "    def split_child(self, parent, i):\n",
    "        # Este es un método simplificado para dividir un nodo hijo lleno\n",
    "        # En una implementación completa, aquí redistribuirías las claves y los hijos\n",
    "        pass\n",
    "\n",
    "    def search(self, key, node=None):\n",
    "        if node is None:\n",
    "            node = self.root\n",
    "        i = 0\n",
    "        while i < len(node.keys) and key > node.keys[i]:\n",
    "            i += 1\n",
    "        if i < len(node.keys) and key == node.keys[i]:\n",
    "            return node  # Retorna el nodo donde la clave fue encontrada\n",
    "        if node.is_leaf:\n",
    "            return None  # La clave no está presente\n",
    "        return self.search(key, node.children[i])\n",
    "\n",
    "\n",
    "# Ejemplo de uso\n",
    "bptree = BPlusTree(degree=3)\n",
    "claves_para_insertar = [10, 20, 5, 15, 25, 35, 45, 5, 55, 65, 75, 85]\n",
    "for clave in claves_para_insertar:\n",
    "    bptree.insert(clave)\n",
    "\n",
    "# Realizando búsquedas en el árbol B+\n",
    "claves_para_buscar = [20, 55, 70, 85, 90]\n",
    "\n",
    "for clave in claves_para_buscar:\n",
    "    nodo_encontrado = bptree.search(clave)\n",
    "    print(\n",
    "        f\"Clave {clave} {'encontrada' if nodo_encontrado else 'no encontrada'} en el árbol.\")\n"
   ]
  },
  {
   "attachments": {},
   "cell_type": "markdown",
   "metadata": {},
   "source": [
    "- Este código es una representación muy básica y no incluye todas las funcionalidades ni optimizaciones de un árbol B+ real, como la división y fusión adecuadas de nodos o la gestión de claves duplicadas.\n",
    "- Sin embargo, ofrece una visión general de cómo se estructuran estos árboles y cómo se podrían implementar operaciones básicas de inserción y búsqueda.\n",
    "- En un SGBD real, la implementación de un árbol B+ sería mucho más compleja y estaría optimizada para manejar grandes volúmenes de datos con eficiencia, incluyendo aspectos como el almacenamiento en disco, el bloqueo para concurrencia y la transaccionalidad."
   ]
  },
  {
   "attachments": {},
   "cell_type": "markdown",
   "metadata": {},
   "source": [
    "## Representación del árbol B+\n",
    "Representación conceptual basada en las claves insertadas en el ejemplo simplificado, asumiendo que cada inserción se maneja sin división de nodos.\n",
    "\n",
    "Supongamos que insertamos las claves `[10, 20, 5, 15, 25, 35, 45, 55, 65, 75, 85]` en el árbol con un grado mínimo 3, pero **sin realizar la división de nodos** para simplificar:\n",
    "\n",
    "```\n",
    "         [5, 10, 15, 20, 25, 35, 45, 55, 65, 75, 85]\n",
    "```\n",
    "\n",
    "En un árbol B+ real, después de ciertas inserciones, el nodo se dividiría para mantener el árbol equilibrado y asegurar que cada nodo (excepto la raíz) tenga entre `degree-1` y `2*degree-1` claves. Sin embargo, para los fines de este ejemplo simplificado, todos los elementos se han insertado en un único nodo sin dividir.\n",
    "\n",
    "Para darte una idea de cómo podría verse un árbol B+ después de insertar esas claves con un manejo apropiado de las divisiones, aquí te muestro una representación ASCII muy simplificada y conceptual:\n",
    "\n",
    "<pre>\n",
    "                   [35]\n",
    "            /                  \\\n",
    "      [10, 20, 25]         [55, 65, 75, 85]\n",
    "     /     |    \\            /      |     \\\n",
    "   [5]  [10]  [15, 20]   [45]    [55]   [65, 75, 85]\n",
    "</pre>   \n",
    "\n",
    "Esta representación asume que el árbol se ha dividido adecuadamente durante las inserciones para mantener el balance y las propiedades del árbol B+. Cada nodo interno guía la búsqueda hacia los nodos hoja correspondientes, que finalmente contienen las claves. Recuerda, esta es una simplificación y la estructura exacta dependería del proceso de inserción y división de nodos específico del árbol B+.\n",
    "\n",
    "**Nota**: La representación exacta de tu árbol B+ variará dependiendo de la implementación de las operaciones de división de nodos y la inserción, que no se han detallado completamente en los ejemplos anteriores. La construcción y visualización de árboles B+ en la práctica requiere un manejo cuidadoso de la división de nodos para asegurar que el árbol permanezca balanceado y eficiente para operaciones de búsqueda, inserción y eliminación."
   ]
  }
 ],
 "metadata": {
  "kernelspec": {
   "display_name": "Python 3",
   "language": "python",
   "name": "python3"
  },
  "language_info": {
   "codemirror_mode": {
    "name": "ipython",
    "version": 3
   },
   "file_extension": ".py",
   "mimetype": "text/x-python",
   "name": "python",
   "nbconvert_exporter": "python",
   "pygments_lexer": "ipython3",
   "version": "3.8.10"
  },
  "orig_nbformat": 4
 },
 "nbformat": 4,
 "nbformat_minor": 2
}
