{
  "cells": [
    {
      "cell_type": "markdown",
      "id": "cbb1944a",
      "metadata": {},
      "source": [
        "# Caso de uso: Sistemas de Enrutamiento\n",
        "\n",
        "En el contexto de sistemas de enrutamiento, especialmente en redes de telecomunicaciones, los Tries pueden ser utilizados para gestionar y buscar de manera eficiente las rutas de red. Estas estructuras son particularmente \u00fatiles para almacenar y buscar prefijos de red, que son fundamentales en el enrutamiento de paquetes en redes IP. Aqu\u00ed hay un ejemplo de c\u00f3mo se podr\u00eda implementar un Trie para este prop\u00f3sito en Python:"
      ]
    },
    {
      "cell_type": "code",
      "execution_count": null,
      "id": "84fa9e0d",
      "metadata": {},
      "outputs": [],
      "source": [
        "class TrieNode:\n",
        "    def __init__(self):\n",
        "        self.children = {}\n",
        "        self.is_end_of_word = False\n",
        "        self.route_info = None  # Almacenar informaci\u00f3n adicional sobre la ruta\n",
        "\n",
        "class Trie:\n",
        "    def __init__(self):\n",
        "        self.root = TrieNode()\n",
        "\n",
        "    def insert(self, prefix, route_info):\n",
        "        node = self.root\n",
        "        for bit in prefix:\n",
        "            if bit not in node.children:\n",
        "                node.children[bit] = TrieNode()\n",
        "            node = node.children[bit]\n",
        "        node.is_end_of_word = True\n",
        "        node.route_info = route_info\n",
        "\n",
        "    def search(self, ip_address):\n",
        "        node = self.root\n",
        "        for bit in ip_address:\n",
        "            if bit not in node.children:\n",
        "                break\n",
        "            node = node.children[bit]\n",
        "        if node and node.is_end_of_word:\n",
        "            return node.route_info\n",
        "        return None\n",
        "\n",
        "# Ejemplo de uso\n",
        "trie = Trie()\n",
        "trie.insert(\"110\", \"Ruta 1\")  # Ejemplo: Prefijo de red 110\n",
        "trie.insert(\"1101\", \"Ruta 2\") # Ejemplo: Prefijo de red 1101\n",
        "\n",
        "# B\u00fasqueda de rutas\n",
        "ip_address = \"1101001\"\n",
        "route_info = trie.search(ip_address)\n",
        "print(f\"Ruta para la direcci\u00f3n IP {ip_address}: {route_info}\")"
      ]
    },
    {
      "cell_type": "markdown",
      "id": "b82615b4",
      "metadata": {},
      "source": [
        "En este ejemplo:\n",
        "\n",
        "1. Se modifica la clase `TrieNode` para almacenar informaci\u00f3n de la ruta en cada nodo terminal.\n",
        "2. La funci\u00f3n `insert` a\u00f1ade prefijos de red al Trie, asociando cada prefijo con informaci\u00f3n espec\u00edfica de la ruta.\n",
        "3. La funci\u00f3n `search` busca en el Trie para encontrar la ruta correspondiente a una direcci\u00f3n IP dada.\n",
        "\n",
        "Este tipo de implementaci\u00f3n es \u00fatil en sistemas de enrutamiento para identificar r\u00e1pidamente cu\u00e1l ruta seguir bas\u00e1ndose en los prefijos de las direcciones IP de destino. Los Tries ofrecen una manera eficiente de hacer coincidir estos prefijos, lo cual es crucial en entornos de redes de alta velocidad donde el tiempo de procesamiento de cada paquete es cr\u00edtico."
      ]
    }
  ],
  "metadata": {},
  "nbformat": 4,
  "nbformat_minor": 5
}