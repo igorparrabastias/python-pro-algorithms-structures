{
 "cells": [
  {
   "cell_type": "markdown",
   "id": "596beffa",
   "metadata": {},
   "source": [
    "# Caso de uso: Sistemas de Enrutamiento\n",
    "\n",
    "En el contexto de sistemas de enrutamiento, especialmente en redes de telecomunicaciones, los Tries pueden ser utilizados para gestionar y buscar de manera eficiente las rutas de red. Estas estructuras son particularmente útiles para almacenar y buscar prefijos de red, que son fundamentales en el enrutamiento de paquetes en redes IP. Aquí hay un ejemplo de cómo se podría implementar un Trie para este propósito en Python:"
   ]
  },
  {
   "cell_type": "code",
   "execution_count": null,
   "id": "27114970",
   "metadata": {},
   "outputs": [],
   "source": [
    "class TrieNode:\n",
    "    def __init__(self):\n",
    "        self.children = {}\n",
    "        self.is_end_of_word = False\n",
    "        self.route_info = None  # Almacenar información adicional sobre la ruta\n",
    "\n",
    "class Trie:\n",
    "    def __init__(self):\n",
    "        self.root = TrieNode()\n",
    "\n",
    "    def insert(self, prefix, route_info):\n",
    "        node = self.root\n",
    "        for bit in prefix:\n",
    "            if bit not in node.children:\n",
    "                node.children[bit] = TrieNode()\n",
    "            node = node.children[bit]\n",
    "        node.is_end_of_word = True\n",
    "        node.route_info = route_info\n",
    "\n",
    "    def search(self, ip_address):\n",
    "        node = self.root\n",
    "        for bit in ip_address:\n",
    "            if bit not in node.children:\n",
    "                break\n",
    "            node = node.children[bit]\n",
    "        if node and node.is_end_of_word:\n",
    "            return node.route_info\n",
    "        return None\n",
    "\n",
    "# Ejemplo de uso\n",
    "trie = Trie()\n",
    "trie.insert(\"110\", \"Ruta 1\")  # Ejemplo: Prefijo de red 110\n",
    "trie.insert(\"1101\", \"Ruta 2\") # Ejemplo: Prefijo de red 1101\n",
    "\n",
    "# Búsqueda de rutas\n",
    "ip_address = \"1101001\"\n",
    "route_info = trie.search(ip_address)\n",
    "print(f\"Ruta para la dirección IP {ip_address}: {route_info}\")\n"
   ]
  },
  {
   "cell_type": "markdown",
   "id": "0e45503a",
   "metadata": {},
   "source": [
    "En este ejemplo:\n",
    "\n",
    "1. Se modifica la clase `TrieNode` para almacenar información de la ruta en cada nodo terminal.\n",
    "2. La función `insert` añade prefijos de red al Trie, asociando cada prefijo con información específica de la ruta.\n",
    "3. La función `search` busca en el Trie para encontrar la ruta correspondiente a una dirección IP dada.\n",
    "\n",
    "Este tipo de implementación es útil en sistemas de enrutamiento para identificar rápidamente cuál ruta seguir basándose en los prefijos de las direcciones IP de destino. Los Tries ofrecen una manera eficiente de hacer coincidir estos prefijos, lo cual es crucial en entornos de redes de alta velocidad donde el tiempo de procesamiento de cada paquete es crítico."
   ]
  }
 ],
 "metadata": {},
 "nbformat": 4,
 "nbformat_minor": 5
}
