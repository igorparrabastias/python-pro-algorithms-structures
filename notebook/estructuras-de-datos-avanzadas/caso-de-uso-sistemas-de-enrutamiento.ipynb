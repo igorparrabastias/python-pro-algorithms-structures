{
  "cells": [
    {
      "attachments": {},
      "cell_type": "markdown",
      "id": "cbb1944a",
      "metadata": {},
      "source": [
        "# Caso de uso: Sistemas de Enrutamiento\n",
        "\n",
        "En el contexto de sistemas de enrutamiento, especialmente en redes de telecomunicaciones, los Tries pueden ser utilizados para gestionar y buscar de manera eficiente las rutas de red. Estas estructuras son particularmente útiles para almacenar y buscar prefijos de red, que son fundamentales en el enrutamiento de paquetes en redes IP. Aquí hay un ejemplo de cómo se podría implementar un Trie para este propósito en Python:"
      ]
    },
    {
      "cell_type": "code",
      "execution_count": 6,
      "id": "84fa9e0d",
      "metadata": {},
      "outputs": [
        {
          "name": "stdout",
          "output_type": "stream",
          "text": [
            "Ruta para la dirección IP 1101001: Ruta 2\n",
            "Ruta para la dirección IP 1110010: Ruta 3\n",
            "Ruta para la dirección IP 100011: None\n"
          ]
        }
      ],
      "source": [
        "class TrieNode:\n",
        "    def __init__(self):\n",
        "        self.children = {}\n",
        "        self.is_end_of_word = False\n",
        "        self.route_info = None  # Para almacenar información de la ruta\n",
        "\n",
        "\n",
        "class Trie:\n",
        "    def __init__(self):\n",
        "        self.root = TrieNode()\n",
        "\n",
        "    def insert(self, prefix, route_info):\n",
        "        node = self.root\n",
        "        for char in prefix:\n",
        "            if char not in node.children:\n",
        "                node.children[char] = TrieNode()\n",
        "            node = node.children[char]\n",
        "        node.is_end_of_word = True\n",
        "        node.route_info = route_info  # Asignar la información de la ruta al nodo final\n",
        "\n",
        "    def search(self, ip_address):\n",
        "        node = self.root\n",
        "        last_found_route = None\n",
        "        for char in ip_address:\n",
        "            if char in node.children:\n",
        "                node = node.children[char]\n",
        "                if node.is_end_of_word:\n",
        "                    last_found_route = node.route_info  # Actualizar la última ruta encontrada\n",
        "            else:\n",
        "                break  # Salir si no hay coincidencia\n",
        "        return last_found_route\n",
        "\n",
        "\n",
        "# Ejemplo de uso\n",
        "trie = Trie()\n",
        "# Insertar prefijos de red con su información de ruta correspondiente\n",
        "trie.insert(\"110\", \"Ruta 1\")\n",
        "trie.insert(\"1101\", \"Ruta 2\")\n",
        "trie.insert(\"111\", \"Ruta 3\")  # Agregamos otra ruta para mayor complejidad\n",
        "\n",
        "# Búsqueda de rutas para diferentes direcciones IP\n",
        "ip_addresses = [\"1101001\", \"1110010\", \"100011\"]  # Direcciones IP de ejemplo\n",
        "for ip_address in ip_addresses:\n",
        "    route_info = trie.search(ip_address)\n",
        "    print(f\"Ruta para la dirección IP {ip_address}: {route_info}\")\n"
      ]
    },
    {
      "attachments": {},
      "cell_type": "markdown",
      "id": "b82615b4",
      "metadata": {},
      "source": [
        "En este ejemplo:\n",
        "\n",
        "1. Se modifica la clase `TrieNode` para almacenar información de la ruta en cada nodo terminal.\n",
        "2. La función `insert` añade prefijos de red al Trie, asociando cada prefijo con información específica de la ruta.\n",
        "3. La función `search` busca en el Trie para encontrar la ruta correspondiente a una dirección IP dada.\n",
        "\n",
        "Este tipo de implementación es útil en sistemas de enrutamiento para identificar rápidamente cuál ruta seguir basándose en los prefijos de las direcciones IP de destino. Los Tries ofrecen una manera eficiente de hacer coincidir estos prefijos, lo cual es crucial en entornos de redes de alta velocidad donde el tiempo de procesamiento de cada paquete es crítico."
      ]
    }
  ],
  "metadata": {
    "kernelspec": {
      "display_name": "Python 3",
      "language": "python",
      "name": "python3"
    },
    "language_info": {
      "codemirror_mode": {
        "name": "ipython",
        "version": 3
      },
      "file_extension": ".py",
      "mimetype": "text/x-python",
      "name": "python",
      "nbconvert_exporter": "python",
      "pygments_lexer": "ipython3",
      "version": "3.8.10"
    }
  },
  "nbformat": 4,
  "nbformat_minor": 5
}
