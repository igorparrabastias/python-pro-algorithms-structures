{
  "cells": [
    {
      "attachments": {},
      "cell_type": "markdown",
      "id": "0cdae7c5",
      "metadata": {},
      "source": [
        "# Tries\n",
        "\n",
        "## Introducción:\n",
        "\n",
        "En esta clase, nos enfocaremos en los Tries, una estructura de datos esencial para manejar eficientemente conjuntos de cadenas (strings). Los Tries, también conocidos como árboles de prefijos, son particularmente útiles en situaciones donde se necesita buscar, insertar o eliminar cadenas de manera rápida y eficiente.\n",
        "\n",
        "### Estructuras para la Gestión de Conjuntos de Cadenas:\n",
        "\n",
        "Los Tries son árboles en los que `cada nodo representa un carácter de una cadena`. Estos árboles son ideales para manejar conjuntos de cadenas, especialmente cuando estas cadenas comparten prefijos comunes. Veamos sus características clave:\n",
        "\n",
        "- **Almacenamiento Eficiente**: Al compartir nodos comunes para prefijos comunes, los Tries reducen la cantidad de espacio de almacenamiento necesario en comparación con el almacenamiento individual de cada cadena.\n",
        "- **Búsqueda Rápida**: La búsqueda de una cadena en un Trie es eficiente, con un tiempo de complejidad proporcional a la longitud de la cadena, independientemente del número total de cadenas almacenadas.\n",
        "- **Inserciones y Eliminaciones Eficaces**: Similar a la búsqueda, las operaciones de inserción y eliminación son rápidas, haciéndolas ideales para aplicaciones donde el conjunto de cadenas cambia frecuentemente.\n",
        "\n",
        "### Implementación y Casos de Uso en Python:\n",
        "\n",
        "Implementar un Trie en Python implica crear una clase que represente los nodos del Trie y otra para el Trie en sí. Vamos a ver una implementación básica y algunos casos de uso.\n",
        "\n",
        "### Implementación Básica de un Trie:"
      ]
    },
    {
      "cell_type": "code",
      "execution_count": 1,
      "id": "44365a62",
      "metadata": {},
      "outputs": [],
      "source": [
        "class TrieNode:\n",
        "    def __init__(self):\n",
        "        self.children = {}\n",
        "        self.is_end_of_word = False\n",
        "\n",
        "\n",
        "class Trie:\n",
        "    def __init__(self):\n",
        "        self.root = TrieNode()\n",
        "\n",
        "    def insert(self, word):\n",
        "        node = self.root\n",
        "        for char in word:\n",
        "            # Usamos 'in' para verificar la existencia del caracter\n",
        "            if char in node.children:\n",
        "                node = node.children[char]\n",
        "            else:\n",
        "                # Solo creamos un nuevo nodo si el caracter no existe\n",
        "                node.children[char] = TrieNode()\n",
        "                node = node.children[char]\n",
        "        node.is_end_of_word = True\n",
        "\n",
        "    def search(self, word):\n",
        "        node = self.root\n",
        "        for char in word:\n",
        "            # Similarmente, usamos 'in' para la búsqueda\n",
        "            if char in node.children:\n",
        "                node = node.children[char]\n",
        "            else:\n",
        "                # Si el caracter no existe, retornamos False directamente\n",
        "                return False\n",
        "        return node.is_end_of_word\n",
        "\n",
        "    def delete(self, word):\n",
        "        def delete_rec(node, word, depth):\n",
        "            if node is None:\n",
        "                return False\n",
        "            if depth == len(word):\n",
        "                if not node.is_end_of_word:\n",
        "                    return False\n",
        "                node.is_end_of_word = False\n",
        "                return len(node.children) == 0\n",
        "            char = word[depth]\n",
        "            child_deleted = delete_rec(\n",
        "                node.children.get(char), word, depth + 1)\n",
        "            if child_deleted:\n",
        "                del node.children[char]\n",
        "                return len(node.children) == 0 and not node.is_end_of_word\n",
        "            return False\n",
        "\n",
        "        delete_rec(self.root, word, 0)\n"
      ]
    },
    {
      "attachments": {},
      "cell_type": "markdown",
      "id": "896dadcf",
      "metadata": {},
      "source": [
        "### Ejemplo de uso"
      ]
    },
    {
      "cell_type": "code",
      "execution_count": 2,
      "id": "758cb776",
      "metadata": {},
      "outputs": [
        {
          "name": "stdout",
          "output_type": "stream",
          "text": [
            "Existe 'hello'?  True\n",
            "Existe 'hello' después de eliminar?  False\n"
          ]
        }
      ],
      "source": [
        "trie = Trie()\n",
        "\n",
        "# Paso 1: Insertar palabras\n",
        "trie.insert(\"hello\")\n",
        "trie.insert(\"world\")\n",
        "\n",
        "# Paso 2: Verificar la existencia\n",
        "print(\"Existe 'hello'? \", trie.search(\"hello\"))  # Debería ser True\n",
        "\n",
        "# Paso 3: Eliminar la palabra\n",
        "trie.delete(\"hello\")\n",
        "\n",
        "# Paso 4: Verificar la existencia después de eliminar\n",
        "print(\"Existe 'hello' después de eliminar? \",\n",
        "      trie.search(\"hello\"))  # Debería ser False"
      ]
    },
    {
      "attachments": {},
      "cell_type": "markdown",
      "id": "f45187e8",
      "metadata": {},
      "source": [
        "\n",
        "\n",
        "\n",
        "## Pseudocódigos\n",
        "\n",
        "1. **Clase `TrieNode`**:\n",
        "   - Inicializa un diccionario `children` para almacenar nodos hijos y una bandera `is_end_of_word` para indicar si el nodo marca el fin de una palabra. Esta estructura es adecuada para representar cada nodo en el trie.\n",
        "\n",
        "2. **Clase `Trie`**:\n",
        "   - Inicializa un nodo raíz, que actúa como el punto de partida para todas las operaciones en el trie.\n",
        "\n",
        "3. **Método `insert`**:\n",
        "   - Empieza desde el nodo raíz y recorre cada caracter de la palabra a insertar.\n",
        "   - Para cada caracter, verifica si ya existe en el diccionario `children` del nodo actual:\n",
        "     - Si el caracter **existe**, avanza al nodo correspondiente.\n",
        "     - Si el caracter **no existe**, crea un nuevo `TrieNode` y lo asigna al caracter en el diccionario `children`, y luego avanza a este nuevo nodo.\n",
        "   - Al final del recorrido, marca el último nodo visitado como el fin de una palabra (`is_end_of_word = True`).\n",
        "   - Este proceso asegura que se construya correctamente el trie, creando nodos según sea necesario para cada caracter único en la palabra.\n",
        "\n",
        "4. **Método `search`**:\n",
        "   - Similar al método `insert`, comienza desde el nodo raíz y recorre cada caracter de la palabra buscada.\n",
        "   - Para cada caracter, verifica si existe en el diccionario `children` del nodo actual:\n",
        "     - Si el caracter **existe**, avanza al nodo correspondiente.\n",
        "     - Si el caracter **no existe**, retorna `False` inmediatamente, indicando que la palabra no se encuentra en el trie.\n",
        "   - Si llega al final de la palabra y el último nodo visitado está marcado como el fin de una palabra (`is_end_of_word = True`), entonces retorna `True`, indicando que la palabra completa existe en el trie.\n",
        "\n",
        "5. **Método `delete`**:\n",
        "   -Inicio: Comienza con la llamada inicial a delete_rec, proporcionando el nodo raíz, la palabra a eliminar y la profundidad inicial como 0.\n",
        "   - Verificación de Condiciones: Se realizan varias comprobaciones para determinar si se debe continuar con la eliminación:\n",
        "     - Si el nodo actual es None, se retorna Falso.\n",
        "     - Si se alcanza la profundidad igual a la longitud de la palabra, se verifica si el nodo marca el fin de una palabra. Si no es así, se retorna Falso. Si es el fin de una palabra, se desmarca y se verifica si el nodo ya no tiene hijos, en cuyo caso puede ser elegible para eliminación.\n",
        "   - Recursión y Eliminación de Nodos: La función se llama recursivamente para el nodo hijo correspondiente al siguiente caracter de la palabra. Si la eliminación del nodo hijo resulta en que el nodo hijo se elimine completamente, se verifica si el nodo actual puede ser eliminado (no tiene hijos y no marca el fin de una palabra).\n",
        "   - Fin: El proceso concluye una vez que se ha intentado la eliminación a través de todas las llamadas recursivas."
      ]
    },
    {
      "attachments": {},
      "cell_type": "markdown",
      "id": "951fe180",
      "metadata": {},
      "source": [
        "| | | |\n",
        "|:---:|:---:|:---:|\n",
        "| ![](../../img/trie-insert.png) | ![](../../img/trie-search.png) | ![](../../img/trie-delete.png) |\n"
      ]
    },
    {
      "attachments": {},
      "cell_type": "markdown",
      "id": "e01f3502",
      "metadata": {},
      "source": [
        "## Casos de Uso:\n",
        "\n",
        "- **Autocompletado**: Utilizado en motores de búsqueda y teclados inteligentes para sugerir completaciones de palabras basándose en los primeros caracteres ingresados.\n",
        "- **Verificación Ortográfica**: Los Tries permiten buscar rápidamente palabras en un diccionario, haciéndolos útiles en correctores ortográficos.\n",
        "- **Sistemas de Enrutamiento**: En redes de telecomunicaciones para la búsqueda rápida de rutas.\n",
        "\n",
        "## Conclusión:\n",
        "\n",
        "Los Tries son una herramienta poderosa para la gestión eficiente de conjuntos de cadenas, proporcionando un almacenamiento y acceso rápidos. Su implementación y uso en Python demuestran su versatilidad en diversas aplicaciones, desde autocompletado hasta sistemas de enrutamiento. En la próxima clase, exploraremos las aplicaciones avanzadas de los Tries en el procesamiento de texto y su optimización.\n"
      ]
    }
  ],
  "metadata": {
    "kernelspec": {
      "display_name": "Python 3",
      "language": "python",
      "name": "python3"
    },
    "language_info": {
      "codemirror_mode": {
        "name": "ipython",
        "version": 3
      },
      "file_extension": ".py",
      "mimetype": "text/x-python",
      "name": "python",
      "nbconvert_exporter": "python",
      "pygments_lexer": "ipython3",
      "version": "3.8.10"
    }
  },
  "nbformat": 4,
  "nbformat_minor": 5
}
