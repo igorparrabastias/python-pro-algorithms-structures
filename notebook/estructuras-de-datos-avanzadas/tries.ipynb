{
  "cells": [
    {
      "cell_type": "markdown",
      "id": "3ce1451c",
      "metadata": {},
      "source": [
        "# Tries\n",
        "\n",
        "### Introducci\u00f3n:\n",
        "\n",
        "En esta clase, nos enfocaremos en los Tries, una estructura de datos esencial para manejar eficientemente conjuntos de cadenas (strings). Los Tries, tambi\u00e9n conocidos como \u00e1rboles de prefijos, son particularmente \u00fatiles en situaciones donde se necesita buscar, insertar o eliminar cadenas de manera r\u00e1pida y eficiente.\n",
        "\n",
        "### Estructuras para la Gesti\u00f3n de Conjuntos de Cadenas:\n",
        "\n",
        "Los Tries son \u00e1rboles en los que cada nodo representa un car\u00e1cter de una cadena. Estos \u00e1rboles son ideales para manejar conjuntos de cadenas, especialmente cuando estas cadenas comparten prefijos comunes. Veamos sus caracter\u00edsticas clave:\n",
        "\n",
        "- **Almacenamiento Eficiente**: Al compartir nodos comunes para prefijos comunes, los Tries reducen la cantidad de espacio de almacenamiento necesario en comparaci\u00f3n con el almacenamiento individual de cada cadena.\n",
        "- **B\u00fasqueda R\u00e1pida**: La b\u00fasqueda de una cadena en un Trie es eficiente, con un tiempo de complejidad proporcional a la longitud de la cadena, independientemente del n\u00famero total de cadenas almacenadas.\n",
        "- **Inserciones y Eliminaciones Eficaces**: Similar a la b\u00fasqueda, las operaciones de inserci\u00f3n y eliminaci\u00f3n son r\u00e1pidas, haci\u00e9ndolas ideales para aplicaciones donde el conjunto de cadenas cambia frecuentemente.\n",
        "\n",
        "### Implementaci\u00f3n y Casos de Uso en Python:\n",
        "\n",
        "Implementar un Trie en Python implica crear una clase que represente los nodos del Trie y otra para el Trie en s\u00ed. Vamos a ver una implementaci\u00f3n b\u00e1sica y algunos casos de uso.\n",
        "\n",
        "### Implementaci\u00f3n B\u00e1sica de un Trie:"
      ]
    },
    {
      "cell_type": "code",
      "execution_count": null,
      "id": "be631968",
      "metadata": {},
      "outputs": [],
      "source": [
        "class TrieNode:\n",
        "    def __init__(self):\n",
        "        self.children = {}\n",
        "        self.is_end_of_word = False\n",
        "\n",
        "class Trie:\n",
        "    def __init__(self):\n",
        "        self.root = TrieNode()\n",
        "\n",
        "    def insert(self, word):\n",
        "        node = self.root\n",
        "        for char in word:\n",
        "            if char not in node.children:\n",
        "                node.children[char] = TrieNode()\n",
        "            node = node.children[char]\n",
        "        node.is_end_of_word = True\n",
        "\n",
        "    def search(self, word):\n",
        "        node = self.root\n",
        "        for char in word:\n",
        "            if char not in node.children:\n",
        "                return False\n",
        "            node = node.children[char]\n",
        "        return node.is_end_of_word"
      ]
    },
    {
      "cell_type": "markdown",
      "id": "54e0690a",
      "metadata": {},
      "source": [
        "### Casos de Uso:\n",
        "\n",
        "- **Autocompletado**: Utilizado en motores de b\u00fasqueda y teclados inteligentes para sugerir completaciones de palabras bas\u00e1ndose en los primeros caracteres ingresados.\n",
        "- **Verificaci\u00f3n Ortogr\u00e1fica**: Los Tries permiten buscar r\u00e1pidamente palabras en un diccionario, haci\u00e9ndolos \u00fatiles en correctores ortogr\u00e1ficos.\n",
        "- **Sistemas de Enrutamiento**: En redes de telecomunicaciones para la b\u00fasqueda r\u00e1pida de rutas.\n",
        "\n",
        "### Conclusi\u00f3n:\n",
        "\n",
        "Los Tries son una herramienta poderosa para la gesti\u00f3n eficiente de conjuntos de cadenas, proporcionando un almacenamiento y acceso r\u00e1pidos. Su implementaci\u00f3n y uso en Python demuestran su versatilidad en diversas aplicaciones, desde autocompletado hasta sistemas de enrutamiento. En la pr\u00f3xima clase, exploraremos las aplicaciones avanzadas de los Tries en el procesamiento de texto y su optimizaci\u00f3n.\n",
        "\n",
        "### Ejercicios:\n",
        "\n",
        "1. Implementa un m\u00e9todo `delete` en la clase `Trie` para eliminar una palabra.\n",
        "2. Modifica la clase `Trie` para que soporte autocompletado de palabras.\n",
        "3. Escribe una funci\u00f3n que utilice un Trie para encontrar todas las palabras en un conjunto que tienen un prefijo com\u00fan.\n",
        "\n",
        "### Soluciones:"
      ]
    },
    {
      "cell_type": "code",
      "execution_count": null,
      "id": "a5078467",
      "metadata": {},
      "outputs": [],
      "source": [
        "# Ejercicio 1: M\u00e9todo delete\n",
        "class Trie:\n",
        "    # ... (resto de la clase Trie)\n",
        "\n",
        "    def delete(self, word):\n",
        "        # Implementar l\u00f3gica para eliminar una palabra del Trie\n",
        "\n",
        "# Ejercicio 2: Autocompletado\n",
        "class Trie:\n",
        "    # ... (resto de la clase Trie)\n",
        "\n",
        "    def autocomplete(self, prefix):\n",
        "        # Implementar l\u00f3gica para sugerir completaciones basadas en un prefijo\n",
        "\n",
        "# Ejercicio 3: Encontrar palabras con un prefijo com\u00fan\n",
        "def find_words_with_prefix(trie, prefix):\n",
        "    # Implementar l\u00f3gica para encontrar todas las palabras con un prefijo dado en el Trie"
      ]
    },
    {
      "cell_type": "markdown",
      "id": "acd96cd3",
      "metadata": {},
      "source": [
        "Recuerda que estos son esquemas b\u00e1sicos, y se espera que desarrolles la l\u00f3gica interna de cada m\u00e9todo o funci\u00f3n como parte de los ejercicios pr\u00e1cticos."
      ]
    }
  ],
  "metadata": {},
  "nbformat": 4,
  "nbformat_minor": 5
}