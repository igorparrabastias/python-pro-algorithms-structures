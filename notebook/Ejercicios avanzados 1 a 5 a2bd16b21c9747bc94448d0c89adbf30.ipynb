{
 "cells": [
  {
   "cell_type": "markdown",
   "id": "d9b1c3ce",
   "metadata": {},
   "source": [
    "# Ejercicios avanzados 1 a 5\n",
    "\n",
    "### Ejercicio 1: Rotar una Lista\n",
    "\n",
    "Rotar los elementos de una lista `n` posiciones hacia la derecha."
   ]
  },
  {
   "cell_type": "code",
   "execution_count": null,
   "id": "b47f4d93",
   "metadata": {},
   "outputs": [],
   "source": [
    "# Ejercicio\n",
    "def rotar_lista(lista, n):\n",
    "    n = n % len(lista)\n",
    "    return lista[-n:] + lista[:-n]\n",
    "\n",
    "# Solución\n",
    "rotar_lista([1, 2, 3, 4, 5], 2)  # [4, 5, 1, 2, 3]\n"
   ]
  },
  {
   "cell_type": "markdown",
   "id": "e490806e",
   "metadata": {},
   "source": [
    "### Ejercicio 2: Listas Entrelazadas\n",
    "\n",
    "Crear una nueva lista entrelazando dos listas dadas de igual longitud."
   ]
  },
  {
   "cell_type": "code",
   "execution_count": null,
   "id": "97e6a0a8",
   "metadata": {},
   "outputs": [],
   "source": [
    "# Ejercicio\n",
    "def entrelazar_listas(lista1, lista2):\n",
    "    return [val for par in zip(lista1, lista2) for val in par]\n",
    "\n",
    "# Solución\n",
    "entrelazar_listas([1, 3, 5], [2, 4, 6])  # [1, 2, 3, 4, 5, 6]\n"
   ]
  },
  {
   "cell_type": "markdown",
   "id": "9dc80ac7",
   "metadata": {},
   "source": [
    "### Ejercicio 3: Encontrar Subconjuntos\n",
    "\n",
    "Encontrar todos los subconjuntos posibles de una lista."
   ]
  },
  {
   "cell_type": "code",
   "execution_count": null,
   "id": "3ed70397",
   "metadata": {},
   "outputs": [],
   "source": [
    "# Ejercicio\n",
    "def subconjuntos(lista):\n",
    "    subconj = [[]]\n",
    "    for elem in lista:\n",
    "        subconj += [s + [elem] for s in subconj]\n",
    "    return subconj\n",
    "\n",
    "# Solución\n",
    "subconjuntos([1, 2, 3])  # [[], [1], [2], [1, 2], [3], [1, 3], [2, 3], [1, 2, 3]]\n"
   ]
  },
  {
   "cell_type": "markdown",
   "id": "358ea87c",
   "metadata": {},
   "source": [
    "### Ejercicio 4: Combinar Listas Ordenadas\n",
    "\n",
    "Combinar dos listas ordenadas en una sola lista ordenada."
   ]
  },
  {
   "cell_type": "code",
   "execution_count": null,
   "id": "7c1e2ea6",
   "metadata": {},
   "outputs": [],
   "source": [
    "# Ejercicio\n",
    "def combinar_ordenadas(lista1, lista2):\n",
    "    i, j = 0, 0\n",
    "    resultado = []\n",
    "    while i < len(lista1) and j < len(lista2):\n",
    "        if lista1[i] < lista2[j]:\n",
    "            resultado.append(lista1[i])\n",
    "            i += 1\n",
    "        else:\n",
    "            resultado.append(lista2[j])\n",
    "            j += 1\n",
    "    resultado += lista1[i:] + lista2[j:]\n",
    "    return resultado\n",
    "\n",
    "# Solución\n",
    "combinar_ordenadas([1, 3, 5], [2, 4, 6])  # [1, 2, 3, 4, 5, 6]\n"
   ]
  },
  {
   "cell_type": "markdown",
   "id": "3d9b50db",
   "metadata": {},
   "source": [
    "### Ejercicio 5: Diferencia de Listas\n",
    "\n",
    "Crear una función que devuelva los elementos de la primera lista que no están en la segunda."
   ]
  },
  {
   "cell_type": "code",
   "execution_count": null,
   "id": "a68b4ca8",
   "metadata": {},
   "outputs": [],
   "source": [
    "# Ejercicio\n",
    "def diferencia_listas(lista1, lista2):\n",
    "    return [x for x in lista1 if x not in lista2]\n",
    "\n",
    "# Solución\n",
    "diferencia_listas([1, 2, 3, 4], [2, 4])  # [1, 3]\n"
   ]
  },
  {
   "cell_type": "markdown",
   "id": "e5970b6a",
   "metadata": {},
   "source": [
    "Estos ejercicios representan desafíos más avanzados en el trabajo con listas, ayudando a desarrollar una comprensión más profunda de las estructuras de datos y algoritmos en Python. Practicar con estos ejercicios puede mejorar significativamente tus habilidades de programación y tu capacidad para resolver problemas complejos."
   ]
  }
 ],
 "metadata": {},
 "nbformat": 4,
 "nbformat_minor": 5
}
