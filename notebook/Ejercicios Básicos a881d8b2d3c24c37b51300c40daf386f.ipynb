{
 "cells": [
  {
   "cell_type": "markdown",
   "id": "2c947720",
   "metadata": {},
   "source": [
    "# Ejercicios Básicos\n",
    "\n",
    "### Ejercicio 1: Implementar una Función Hash Simple\n",
    "\n",
    "Escribe una función hash simple para una tabla de tamaño 10. La función recibirá como clave un entero y devolverá el índice de la tabla hash."
   ]
  },
  {
   "cell_type": "code",
   "execution_count": null,
   "id": "039fb088",
   "metadata": {},
   "outputs": [],
   "source": [
    "def hash_function(key):\n",
    "    size = 10  # Tamaño de la tabla hash\n",
    "    return key % size"
   ]
  },
  {
   "cell_type": "markdown",
   "id": "c6926000",
   "metadata": {},
   "source": [
    "### Ejercicio 2: Insertar Elementos en la Tabla Hash\n",
    "\n",
    "Utilizando la clase `HashTable` proporcionada anteriormente, inserta los siguientes elementos en la tabla hash y luego imprime la tabla completa.\n",
    "\n",
    "- Clave: 1, Valor: \"Manzana\"\n",
    "- Clave: 12, Valor: \"Banana\"\n",
    "- Clave: 14, Valor: \"Cereza\""
   ]
  },
  {
   "cell_type": "code",
   "execution_count": null,
   "id": "f1fc5443",
   "metadata": {},
   "outputs": [],
   "source": [
    "hash_table = HashTable()\n",
    "hash_table.insert(1, \"Manzana\")\n",
    "hash_table.insert(12, \"Banana\")\n",
    "hash_table.insert(14, \"Cereza\")\n",
    "for index, value in enumerate(hash_table.table):\n",
    "    print(f\"Índice: {index}, Valor: {value}\")"
   ]
  },
  {
   "cell_type": "markdown",
   "id": "1b943cde",
   "metadata": {},
   "source": [
    "### Ejercicio 3: Búsqueda de Elementos\n",
    "\n",
    "Dado el siguiente arreglo de pares clave-valor, implementa una búsqueda para encontrar y mostrar el valor asociado a la clave `23`. Usa la clase `HashTable` para esto.\n",
    "\n",
    "- Claves y Valores: (23, \"Zanahoria\"), (11, \"Tomate\"), (24, \"Lechuga\")"
   ]
  },
  {
   "cell_type": "code",
   "execution_count": null,
   "id": "ab675b34",
   "metadata": {},
   "outputs": [],
   "source": [
    "hash_table = HashTable()\n",
    "hash_table.insert(23, \"Zanahoria\")\n",
    "hash_table.insert(11, \"Tomate\")\n",
    "hash_table.insert(24, \"Lechuga\")\n",
    "print(hash_table.search(23))  # Debería mostrar \"Zanahoria\""
   ]
  },
  {
   "cell_type": "markdown",
   "id": "54dd2e89",
   "metadata": {},
   "source": [
    "### Ejercicio 4: Manejo de Colisiones\n",
    "\n",
    "Modifica la clase `HashTable` para implementar el manejo de colisiones usando el método de encadenamiento. Asegúrate de que pueda insertar y buscar correctamente elementos que colisionen."
   ]
  },
  {
   "cell_type": "code",
   "execution_count": null,
   "id": "0feaffdf",
   "metadata": {},
   "outputs": [],
   "source": [
    "class HashTable:\n",
    "    def __init__(self, size=10):\n",
    "        self.size = size\n",
    "        self.table = [[] for _ in range(self.size)]\n",
    "\n",
    "    def hash_function(self, key):\n",
    "        return key % self.size\n",
    "\n",
    "    def insert(self, key, value):\n",
    "        index = self.hash_function(key)\n",
    "        self.table[index].append((key, value))\n",
    "\n",
    "    def search(self, key):\n",
    "        index = self.hash_function(key)\n",
    "        for pair in self.table[index]:\n",
    "            if pair[0] == key:\n",
    "                return pair[1]\n",
    "        return None\n",
    "\n",
    "# Uso de la tabla hash con manejo de colisiones por encadenamiento"
   ]
  },
  {
   "cell_type": "markdown",
   "id": "8ab7f26d",
   "metadata": {},
   "source": [
    "### Ejercicio 5: Eliminación de Elementos\n",
    "\n",
    "Amplía la clase `HashTable` para incluir una función que permita eliminar un elemento dado su clave. Asegúrate de que la tabla se actualice correctamente tras la eliminación.\n",
    "\n",
    "```python\n",
    "class HashTable:\n",
    "    # Constructor, hash_function, e insert se mantienen igual"
   ]
  },
  {
   "cell_type": "code",
   "execution_count": null,
   "id": "b8fe1f4c",
   "metadata": {},
   "outputs": [],
   "source": [
    "def remove(self, key):\n",
    "    index = self.hash_function(key)\n",
    "    bucket = self.table[index]\n",
    "    for i, pair in enumerate(bucket):\n",
    "        if pair[0] == key:\n",
    "            del bucket[i]\n",
    "            return True\n",
    "    return False"
   ]
  },
  {
   "cell_type": "markdown",
   "id": "78b02fae",
   "metadata": {},
   "source": [
    "# Prueba de eliminación\n",
    "hash_table = HashTable()\n",
    "hash_table.insert(10, \"Apple\")\n",
    "hash_table.insert(20, \"Orange\")\n",
    "hash_table.remove(10)\n",
    "print(hash_table.search(10))  # Debería mostrar None\n",
    "\n",
    "```"
   ]
  }
 ],
 "metadata": {},
 "nbformat": 4,
 "nbformat_minor": 5
}
