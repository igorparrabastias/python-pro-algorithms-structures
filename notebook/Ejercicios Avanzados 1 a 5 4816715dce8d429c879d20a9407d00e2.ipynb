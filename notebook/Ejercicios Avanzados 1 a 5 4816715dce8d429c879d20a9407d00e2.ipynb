{
 "cells": [
  {
   "cell_type": "markdown",
   "id": "0286508a",
   "metadata": {},
   "source": [
    "# Ejercicios Avanzados 1 a 5\n",
    "\n",
    "### Ejercicio 1: Ordenar Listas de Tuplas por el Segundo Elemento\n",
    "\n",
    "Modifica `merge_sort` para ordenar una lista de tuplas basándose en el segundo elemento de cada tupla."
   ]
  },
  {
   "cell_type": "code",
   "execution_count": null,
   "id": "82a533a5",
   "metadata": {},
   "outputs": [],
   "source": [
    "# Ejercicio\n",
    "def merge_sort_tuplas(lista):\n",
    "    if len(lista) > 1:\n",
    "        mid = len(lista) // 2\n",
    "        izquierda = merge_sort_tuplas(lista[:mid])\n",
    "        derecha = merge_sort_tuplas(lista[mid:])\n",
    "\n",
    "        lista = []\n",
    "        while izquierda and derecha:\n",
    "            if izquierda[0][1] < derecha[0][1]:\n",
    "                lista.append(izquierda.pop(0))\n",
    "            else:\n",
    "                lista.append(derecha.pop(0))\n",
    "        lista.extend(izquierda or derecha)\n",
    "    return lista\n",
    "\n",
    "lista_tuplas = [(1, 'pera'), (3, 'manzana'), (2, 'banana')]\n",
    "ordenada = merge_sort_tuplas(lista_tuplas)\n",
    "print(\"Tuplas ordenadas por segundo elemento:\", ordenada)\n"
   ]
  },
  {
   "cell_type": "markdown",
   "id": "08d9597d",
   "metadata": {},
   "source": [
    "### Ejercicio 2: Contar Inversiones en una Lista\n",
    "\n",
    "Modifica `merge_sort` para contar el número total de inversiones en una lista. Una inversión se cuenta cuando dos elementos están en el orden incorrecto."
   ]
  },
  {
   "cell_type": "code",
   "execution_count": null,
   "id": "d1180006",
   "metadata": {},
   "outputs": [],
   "source": [
    "# Ejercicio\n",
    "def merge_sort_inversiones(lista):\n",
    "    if len(lista) <= 1:\n",
    "        return lista, 0\n",
    "    else:\n",
    "        mid = len(lista) // 2\n",
    "        izquierda, inv_izq = merge_sort_inversiones(lista[:mid])\n",
    "        derecha, inv_der = merge_sort_inversiones(lista[mid:])\n",
    "\n",
    "        i = j = 0\n",
    "        mezcla, inv_mezcla = [], 0\n",
    "        while i < len(izquierda) and j < len(derecha):\n",
    "            if izquierda[i] <= derecha[j]:\n",
    "                mezcla.append(izquierda[i])\n",
    "                i += 1\n",
    "            else:\n",
    "                mezcla.append(derecha[j])\n",
    "                inv_mezcla += (len(izquierda) - i)\n",
    "                j += 1\n",
    "        mezcla += izquierda[i:] + derecha[j:]\n",
    "\n",
    "        return mezcla, inv_izq + inv_der + inv_mezcla\n",
    "\n",
    "lista = [2, 3, 8, 6, 1]\n",
    "_, inversiones = merge_sort_inversiones(lista)\n",
    "print(\"Número total de inversiones:\", inversiones)\n"
   ]
  },
  {
   "cell_type": "markdown",
   "id": "92a8b167",
   "metadata": {},
   "source": [
    "### Ejercicio 3: Merge Sort para Ordenar por Múltiples Claves\n",
    "\n",
    "Extiende `merge_sort` para ordenar objetos complejos por múltiples claves, por ejemplo, empleados por edad y luego por nombre."
   ]
  },
  {
   "cell_type": "code",
   "execution_count": null,
   "id": "ebe05c88",
   "metadata": {},
   "outputs": [],
   "source": [
    "# Ejercicio\n",
    "def comparar(a, b):\n",
    "    return a['edad'] < b['edad'] or (a['edad'] == b['edad'] and a['nombre'] < b['nombre'])\n",
    "\n",
    "def merge_sort_multi(lista, comparar):\n",
    "    if len(lista) > 1:\n",
    "        mid = len(lista) // 2\n",
    "        izquierda = merge_sort_multi(lista[:mid], comparar)\n",
    "        derecha = merge_sort_multi(lista[mid:], comparar)\n",
    "\n",
    "        lista = []\n",
    "        while izquierda and derecha:\n",
    "            if comparar(izquierda[0], derecha[0]):\n",
    "                lista.append(izquierda.pop(0))\n",
    "            else:\n",
    "                lista.append(derecha.pop(0))\n",
    "        lista.extend(izquierda or derecha)\n",
    "    return lista\n",
    "\n",
    "empleados = [{'nombre': 'Ana', 'edad': 30}, {'nombre': 'Carlos', 'edad': 25}, {'nombre': 'Ana', 'edad': 25}]\n",
    "ordenados = merge_sort_multi(empleados, comparar)\n",
    "print(\"Empleados ordenados por edad y nombre:\", ordenados)\n"
   ]
  },
  {
   "cell_type": "markdown",
   "id": "37980470",
   "metadata": {},
   "source": [
    "### Ejercicio 4: Ordenamiento Estable con Merge Sort\n",
    "\n",
    "Demuestra que `merge_sort` es un ordenamiento estable creando una lista de tuplas, donde el primer elemento es un número y el segundo es un identificador único. Después de ordenar, verifica que los elementos con valores numéricos idénticos mantienen su orden original basado en el identificador."
   ]
  },
  {
   "cell_type": "code",
   "execution_count": null,
   "id": "89cd19cb",
   "metadata": {},
   "outputs": [],
   "source": [
    "# Ejercicio\n",
    "def merge_sort_estable(lista):\n",
    "    # Implementación similar a merge_sort pero asegurando que el orden de elementos iguales se mantiene\n",
    "    # Se omite la implementación detallada por brevedad\n",
    "    pass\n",
    "\n",
    "lista = [(3, 'a'), (2, 'b'), (2, 'c'), (1, 'd'), (3, 'e')]\n",
    "ordenada = merge_sort_estable(lista)\n",
    "print(\"Lista ordenada de manera estable:\", ordenada)\n"
   ]
  },
  {
   "cell_type": "markdown",
   "id": "50e4726b",
   "metadata": {},
   "source": [
    "### Ejercicio 5: Mejorar la Eficiencia de Merge Sort con Slicing\n",
    "\n",
    "Investiga y mejora la eficiencia del algoritmo `merge_sort` evitando el uso excesivo de slicing, ya que crear sub-listas tiene un coste adicional. Implementa una versión que minimice este uso y compara su rendimiento con la versión original."
   ]
  },
  {
   "cell_type": "code",
   "execution_count": null,
   "id": "56614139",
   "metadata": {},
   "outputs": [],
   "source": [
    "# Ejercicio\n",
    "def merge_sort_eficiente(lista, inicio=0, fin=None):\n",
    "    if fin is None:\n",
    "        fin = len(lista)\n",
    "    # Implementación que minimiza el uso de slicing modificando la lista in situ\n",
    "    # Se omite la implementación detallada por brevedad\n",
    "\n",
    "# La solución requiere una implementación cuidadosa que maneje índices directamente en lugar de crear nuevas sublistas\n"
   ]
  },
  {
   "cell_type": "markdown",
   "id": "9e6dc228",
   "metadata": {},
   "source": [
    "Estos ejercicios avanzados desafían tu comprensión y habilidad para aplicar y adaptar el algoritmo Merge Sort en Python, abordando desde ordenamientos complejos hasta optimizaciones de eficiencia. Resolver estos problemas te ayudará a desarrollar una comprensión profunda del algoritmo y a mejorar tus habilidades de resolución de problemas y optimización de código."
   ]
  }
 ],
 "metadata": {},
 "nbformat": 4,
 "nbformat_minor": 5
}
