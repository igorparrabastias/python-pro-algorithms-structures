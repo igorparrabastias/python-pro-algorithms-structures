{
  "cells": [
    {
      "cell_type": "markdown",
      "id": "8425209b",
      "metadata": {},
      "source": [
        "# Balanceo del \u00c1rbol: En \u00e1rboles AVL, implementar rotaciones para mantener el \u00e1rbol balanceado.\n",
        "\n",
        "Implementar un \u00e1rbol AVL (Adelson-Velsky y Landis) implica agregar funcionalidades para realizar rotaciones de nodos para mantener el \u00e1rbol balanceado en todo momento. Un \u00e1rbol AVL es un tipo especial de \u00e1rbol binario de b\u00fasqueda que se auto-balancea, donde la diferencia entre las alturas de los sub\u00e1rboles izquierdo y derecho de cualquier nodo es como m\u00e1ximo uno.\n",
        "\n",
        "Para mantener esta propiedad, se realizan rotaciones de nodos en ciertos escenarios despu\u00e9s de inserciones o eliminaciones. Las rotaciones pueden ser simples (izquierda o derecha) o dobles (izquierda-derecha o derecha-izquierda).\n",
        "\n",
        "Aqu\u00ed te muestro c\u00f3mo podr\u00edas implementar las rotaciones en un \u00e1rbol AVL:\n",
        "\n",
        "**Clase Nodo para \u00c1rbol AVL**"
      ]
    },
    {
      "cell_type": "code",
      "execution_count": null,
      "id": "3ecccd98",
      "metadata": {},
      "outputs": [],
      "source": [
        "class AVLNode:\n",
        "    def __init__(self, data):\n",
        "        self.data = data\n",
        "        self.left = None\n",
        "        self.right = None\n",
        "        self.height = 1  # Altura inicial para un nodo reci\u00e9n creado"
      ]
    },
    {
      "cell_type": "markdown",
      "id": "a9145d23",
      "metadata": {},
      "source": [
        "**Clase \u00c1rbol AVL**"
      ]
    },
    {
      "cell_type": "code",
      "execution_count": null,
      "id": "4738f604",
      "metadata": {},
      "outputs": [],
      "source": [
        "class AVLTree:\n",
        "    def get_height(self, node):\n",
        "        if not node:\n",
        "            return 0\n",
        "        return node.height\n",
        "\n",
        "    def get_balance(self, node):\n",
        "        if not node:\n",
        "            return 0\n",
        "        return self.get_height(node.left) - self.get_height(node.right)\n",
        "\n",
        "    def right_rotate(self, y):\n",
        "        x = y.left\n",
        "        T2 = x.right\n",
        "\n",
        "        # Realizar rotaci\u00f3n\n",
        "        x.right = y\n",
        "        y.left = T2\n",
        "\n",
        "        # Actualizar alturas\n",
        "        y.height = 1 + max(self.get_height(y.left), self.get_height(y.right))\n",
        "        x.height = 1 + max(self.get_height(x.left), self.get_height(x.right))\n",
        "\n",
        "        # Retornar la nueva ra\u00edz\n",
        "        return x\n",
        "\n",
        "    def left_rotate(self, x):\n",
        "        y = x.right\n",
        "        T2 = y.left\n",
        "\n",
        "        # Realizar rotaci\u00f3n\n",
        "        y.left = x\n",
        "        x.right = T2\n",
        "\n",
        "        # Actualizar alturas\n",
        "        x.height = 1 + max(self.get_height(x.left), self.get_height(x.right))\n",
        "        y.height = 1 + max(self.get_height(y.left), self.get_height(y.right))\n",
        "\n",
        "        # Retornar la nueva ra\u00edz\n",
        "        return y\n",
        "\n",
        "    # M\u00e9todos para insertar, eliminar, etc., que incluir\u00edan llamadas a estas rotaciones seg\u00fan sea necesario."
      ]
    },
    {
      "cell_type": "markdown",
      "id": "23a050ed",
      "metadata": {},
      "source": [
        "**Consideraciones**\n",
        "\n",
        "1. **Altura de los Nodos**: Cada nodo en un \u00e1rbol AVL almacena su altura, que es la longitud del camino m\u00e1s largo desde ese nodo hasta una hoja.\n",
        "2. **Factor de Balance**: Es la diferencia entre las alturas de los sub\u00e1rboles izquierdo y derecho. Si este factor es m\u00e1s de 1 o menos de -1 en cualquier nodo, se realiza una rotaci\u00f3n para balancear el \u00e1rbol.\n",
        "3. **Rotaciones**:\n",
        "    - **Rotaci\u00f3n a la Derecha**: Se usa cuando el sub\u00e1rbol izquierdo es m\u00e1s pesado.\n",
        "    - **Rotaci\u00f3n a la Izquierda**: Se usa cuando el sub\u00e1rbol derecho es m\u00e1s pesado.\n",
        "    - **Rotaciones Dobles**: Combinaciones de rotaciones izquierda-derecha o derecha-izquierda se usan cuando el \u00e1rbol est\u00e1 \"pesado\" en el sub\u00e1rbol del sub\u00e1rbol contrario.\n",
        "\n",
        "Implementar un \u00e1rbol AVL completo con todas sus operaciones es un proceso bastante detallado, ya que requiere ajustar y verificar el balance despu\u00e9s de cada inserci\u00f3n o eliminaci\u00f3n, y realizar las rotaciones correspondientes. El c\u00f3digo anterior es un esqueleto b\u00e1sico que muestra c\u00f3mo podr\u00edan implementarse las rotaciones. Las operaciones de inserci\u00f3n y eliminaci\u00f3n deber\u00e1n llamar a estas rotaciones seg\u00fan sea necesario para mantener el \u00e1rbol balanceado."
      ]
    }
  ],
  "metadata": {},
  "nbformat": 4,
  "nbformat_minor": 5
}