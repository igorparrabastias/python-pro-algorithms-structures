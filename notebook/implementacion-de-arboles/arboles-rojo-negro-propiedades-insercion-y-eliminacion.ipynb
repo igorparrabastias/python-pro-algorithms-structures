{
 "cells": [
  {
   "cell_type": "markdown",
   "id": "3b7b4c9d",
   "metadata": {},
   "source": [
    "# Árboles Rojo-Negro: propiedades, inserción y eliminación."
   ]
  }
 ],
 "metadata": {},
 "nbformat": 4,
 "nbformat_minor": 5
}
