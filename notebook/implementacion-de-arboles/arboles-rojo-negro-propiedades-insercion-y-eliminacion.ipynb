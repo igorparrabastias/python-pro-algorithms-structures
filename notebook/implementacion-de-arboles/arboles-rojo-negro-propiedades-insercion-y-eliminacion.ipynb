{
 "cells": [
  {
   "cell_type": "markdown",
   "id": "767cf0bc",
   "metadata": {},
   "source": [
    "# Árboles Rojo-Negro: propiedades, inserción y eliminación."
   ]
  }
 ],
 "metadata": {},
 "nbformat": 4,
 "nbformat_minor": 5
}
