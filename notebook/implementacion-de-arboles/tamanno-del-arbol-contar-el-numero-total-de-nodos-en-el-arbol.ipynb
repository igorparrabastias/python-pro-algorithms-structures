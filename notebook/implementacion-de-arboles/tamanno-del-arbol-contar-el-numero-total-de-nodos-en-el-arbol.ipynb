{
  "cells": [
    {
      "cell_type": "markdown",
      "id": "7f2f3667",
      "metadata": {},
      "source": [
        "# Tama\u00f1o del \u00c1rbol: Contar el n\u00famero total de nodos en el \u00e1rbol.\n",
        "\n",
        "Para contar el n\u00famero total de nodos en un \u00e1rbol binario, podemos implementar un m\u00e9todo que recorra el \u00e1rbol y sume cada nodo que encuentra. Esto se puede hacer de manera recursiva, contando los nodos en cada sub\u00e1rbol y luego sum\u00e1ndolos.\n",
        "\n",
        "A continuaci\u00f3n, a\u00f1adir\u00e9 el m\u00e9todo `size` a la clase `BinaryTree` para contar el n\u00famero total de nodos.\n",
        "\n",
        "**Actualizaci\u00f3n de la Clase \u00c1rbol Binario**"
      ]
    },
    {
      "cell_type": "code",
      "execution_count": null,
      "id": "4f4230a3",
      "metadata": {},
      "outputs": [],
      "source": [
        "class BinaryTree:\n",
        "    # ... [otros m\u00e9todos existentes] ...\n",
        "\n",
        "    def size(self, node):\n",
        "        \"\"\" Cuenta el n\u00famero total de nodos en el \u00e1rbol. \"\"\"\n",
        "        if node is None:\n",
        "            return 0\n",
        "        else:\n",
        "            return 1 + self.size(node.left) + self.size(node.right)"
      ]
    },
    {
      "cell_type": "markdown",
      "id": "de2612d0",
      "metadata": {},
      "source": [
        "**Ejemplo de Uso**"
      ]
    },
    {
      "cell_type": "code",
      "execution_count": null,
      "id": "59ec1e19",
      "metadata": {},
      "outputs": [],
      "source": [
        "# Continuaci\u00f3n del ejemplo anterior...\n",
        "# ...\n",
        "\n",
        "# Contando el n\u00famero total de nodos en el \u00e1rbol\n",
        "total_nodes = bt.size(bt.root)\n",
        "print(f\"El n\u00famero total de nodos en el \u00e1rbol es: {total_nodes}\")"
      ]
    },
    {
      "cell_type": "markdown",
      "id": "424ac57e",
      "metadata": {},
      "source": [
        "En este c\u00f3digo, `size` es una funci\u00f3n recursiva que cuenta los nodos. Si el nodo actual es `None`, significa que hemos llegado al final de una rama y retornamos 0. De lo contrario, contamos el nodo actual (1) m\u00e1s el tama\u00f1o de los sub\u00e1rboles izquierdo y derecho. Este m\u00e9todo recorre todo el \u00e1rbol, asegurando que cada nodo se cuente una vez."
      ]
    }
  ],
  "metadata": {},
  "nbformat": 4,
  "nbformat_minor": 5
}