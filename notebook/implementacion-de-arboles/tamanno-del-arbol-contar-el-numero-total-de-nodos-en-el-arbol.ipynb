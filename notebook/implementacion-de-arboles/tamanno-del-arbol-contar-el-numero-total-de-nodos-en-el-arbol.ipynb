{
 "cells": [
  {
   "cell_type": "markdown",
   "id": "aa21b6bb",
   "metadata": {},
   "source": [
    "# Tamaño del Árbol: Contar el número total de nodos en el árbol.\n",
    "\n",
    "Para contar el número total de nodos en un árbol binario, podemos implementar un método que recorra el árbol y sume cada nodo que encuentra. Esto se puede hacer de manera recursiva, contando los nodos en cada subárbol y luego sumándolos.\n",
    "\n",
    "A continuación, añadiré el método `size` a la clase `BinaryTree` para contar el número total de nodos.\n",
    "\n",
    "**Actualización de la Clase Árbol Binario**"
   ]
  },
  {
   "cell_type": "code",
   "execution_count": null,
   "id": "c8144cd2",
   "metadata": {},
   "outputs": [],
   "source": [
    "class BinaryTree:\n",
    "    # ... [otros métodos existentes] ...\n",
    "\n",
    "    def size(self, node):\n",
    "        \"\"\" Cuenta el número total de nodos en el árbol. \"\"\"\n",
    "        if node is None:\n",
    "            return 0\n",
    "        else:\n",
    "            return 1 + self.size(node.left) + self.size(node.right)\n"
   ]
  },
  {
   "cell_type": "markdown",
   "id": "e43cb1d5",
   "metadata": {},
   "source": [
    "**Ejemplo de Uso**"
   ]
  },
  {
   "cell_type": "code",
   "execution_count": null,
   "id": "a01f3acf",
   "metadata": {},
   "outputs": [],
   "source": [
    "# Continuación del ejemplo anterior...\n",
    "# ...\n",
    "\n",
    "# Contando el número total de nodos en el árbol\n",
    "total_nodes = bt.size(bt.root)\n",
    "print(f\"El número total de nodos en el árbol es: {total_nodes}\")\n"
   ]
  },
  {
   "cell_type": "markdown",
   "id": "98ac78a8",
   "metadata": {},
   "source": [
    "En este código, `size` es una función recursiva que cuenta los nodos. Si el nodo actual es `None`, significa que hemos llegado al final de una rama y retornamos 0. De lo contrario, contamos el nodo actual (1) más el tamaño de los subárboles izquierdo y derecho. Este método recorre todo el árbol, asegurando que cada nodo se cuente una vez."
   ]
  }
 ],
 "metadata": {},
 "nbformat": 4,
 "nbformat_minor": 5
}
