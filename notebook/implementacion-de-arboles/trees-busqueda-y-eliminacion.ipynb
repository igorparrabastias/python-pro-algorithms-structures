{
 "cells": [
  {
   "cell_type": "markdown",
   "id": "20412415",
   "metadata": {},
   "source": [
    "# Trees: Búsqueda y Eliminación\n",
    "\n",
    "Agregar la eliminación de nodos y la búsqueda en un árbol binario aumenta su funcionalidad y complejidad. La eliminación en un árbol binario puede ser un poco complicada, especialmente en árboles binarios de búsqueda (BST), donde es importante mantener las propiedades del árbol. La búsqueda es más directa. Vamos a implementar ambos métodos.\n",
    "\n",
    "### Búsqueda en un Árbol Binario\n",
    "\n",
    "La búsqueda en un árbol binario implica recorrer el árbol hasta encontrar el nodo con el dato deseado."
   ]
  },
  {
   "cell_type": "code",
   "execution_count": null,
   "id": "be10cea9",
   "metadata": {},
   "outputs": [],
   "source": [
    "# Importamos la definición existente de BinaryTree desde otro notebook.\n",
    "%run './trees-metodos-basicos.ipynb'\n",
    "\n",
    "def search(self, node, key):\n",
    "    print(f\"node={node}\")  # Imprime el nodo actual para depuración\n",
    "    if node is None:\n",
    "        return None\n",
    "    if node.data == key:\n",
    "        return node\n",
    "    # Continúa la búsqueda en el subárbol izquierdo\n",
    "    left_result = self.search(node.left, key)\n",
    "    if left_result:\n",
    "        return left_result\n",
    "    # Continúa la búsqueda en el subárbol derecho si el nodo no se encontró en el izquierdo\n",
    "    return self.search(node.right, key)\n",
    "\n",
    "# Utilizando setattr para añadir nuevo método a la clase BinaryTree importada.\n",
    "setattr(BinaryTree, 'search', search)"
   ]
  },
  {
   "cell_type": "markdown",
   "id": "fefbb53c",
   "metadata": {},
   "source": [
    "### Eliminación en un Árbol Binario de Búsqueda\n",
    "\n",
    "Eliminar un nodo en un BST es más complejo y requiere considerar tres casos:\n",
    "\n",
    "1. **Nodo hoja (sin hijos)**: Simplemente elimínalo.\n",
    "2. **Nodo con un solo hijo**: Elimina el nodo y pon a su hijo en su lugar.\n",
    "3. **Nodo con dos hijos**: Encuentra el sucesor inorden (el nodo más pequeño en el subárbol derecho), cópialo en el nodo objetivo y luego elimina el sucesor inorden."
   ]
  },
  {
   "cell_type": "code",
   "execution_count": null,
   "id": "d8cae00c",
   "metadata": {},
   "outputs": [],
   "source": [
    "def delete(self, root, key):\n",
    "    \"\"\" Elimina un nodo del árbol. \"\"\"\n",
    "    if root is None:\n",
    "        return root\n",
    "\n",
    "    # Encontrar el nodo a eliminar\n",
    "    if key < root.data:\n",
    "        root.left = self.delete(root.left, key)\n",
    "    elif key > root.data:\n",
    "        root.right = self.delete(root.right, key)\n",
    "    else:\n",
    "        # Nodo con solo un hijo o sin hijos\n",
    "        if root.left is None:\n",
    "            return root.right\n",
    "        elif root.right is None:\n",
    "            return root.left\n",
    "\n",
    "        # Nodo con dos hijos, conseguir el sucesor inorden\n",
    "        # (el más pequeño en el subárbol derecho)\n",
    "        root.data = self.min_value_node(root.right)\n",
    "        # Eliminar el sucesor inorden\n",
    "        root.right = self.delete(root.right, root.data)\n",
    "\n",
    "    return root\n",
    "\n",
    "def min_value_node(self, node):\n",
    "    \"\"\" Encuentra el valor mínimo en un árbol binario. \"\"\"\n",
    "    current = node\n",
    "    while current.left is not None:\n",
    "        current = current.left\n",
    "    return current.data\n",
    "\n",
    "# Utilizando setattr para añadir nuevo método a la clase BinaryTree importada.\n",
    "setattr(BinaryTree, 'delete', delete)"
   ]
  },
  {
   "cell_type": "code",
   "execution_count": null,
   "id": "91f2bf9c",
   "metadata": {},
   "outputs": [],
   "source": [
    "# Creando el árbol binario y añadiendo elementos\n",
    "bt = BinaryTree(\"A\")\n",
    "bt.insert_left(bt.root, \"B\")\n",
    "bt.insert_right(bt.root, \"C\")\n",
    "bt.insert_left(bt.root.left, \"D\")\n",
    "bt.insert_right(bt.root.left, \"E\")\n",
    "\n",
    "bt.print_tree(bt.root)\n",
    "\n",
    "# Búsqueda de un nodo\n",
    "node = bt.search(bt.root, \"D\")\n",
    "if node:\n",
    "    print(\"Node found:\", node.data)\n",
    "else:\n",
    "    print(\"Node not found\")\n",
    "\n",
    "# Eliminación de un nodo\n",
    "bt.root = bt.delete(bt.root, \"D\")\n",
    "print(\"After deletion:\")\n",
    "print(\"In-order Traversal:\", bt.in_order_traversal(bt.root))\n",
    "\n",
    "bt.print_tree(bt.root)"
   ]
  },
  {
   "cell_type": "markdown",
   "id": "cf8322cd",
   "metadata": {},
   "source": [
    "Este código proporciona una funcionalidad básica para buscar y eliminar nodos en un árbol binario. La búsqueda es bastante directa, mientras que la eliminación requiere un manejo cuidadoso de diferentes casos. La complejidad de estas operaciones y su implementación puede variar significativamente en estructuras de árboles más complejas como árboles AVL o árboles rojo-negro."
   ]
  }
 ],
 "metadata": {
  "kernelspec": {
   "display_name": "Python 3",
   "language": "python",
   "name": "python3"
  },
  "language_info": {
   "codemirror_mode": {
    "name": "ipython",
    "version": 3
   },
   "file_extension": ".py",
   "mimetype": "text/x-python",
   "name": "python",
   "nbconvert_exporter": "python",
   "pygments_lexer": "ipython3",
   "version": "3.8.10"
  }
 },
 "nbformat": 4,
 "nbformat_minor": 5
}
