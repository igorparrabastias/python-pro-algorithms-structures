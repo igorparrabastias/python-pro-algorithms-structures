{
  "cells": [
    {
      "attachments": {},
      "cell_type": "markdown",
      "id": "1adb1845",
      "metadata": {},
      "source": [
        "# Árboles binarios: definición y recorridos (preorden, inorden, postorden).\n",
        "\n",
        "### Introducción:\n",
        "\n",
        "Los árboles binarios son una estructura de datos fundamental en la informática, utilizados en diversas aplicaciones como bases de datos, gráficos, algoritmos de búsqueda y más. Un árbol binario es un árbol en el que cada nodo tiene como máximo dos hijos, conocidos como hijo izquierdo y derecho. En esta clase, exploraremos la definición de árboles binarios y los tres tipos principales de recorridos: preorden, inorden y postorden.\n",
        "\n",
        "### Definición de Árboles Binarios:\n",
        "\n",
        "Un árbol binario es una estructura de datos jerárquica que consiste en nodos conectados. Las características clave de un árbol binario son:\n",
        "\n",
        "- Cada nodo tiene cero, uno o dos hijos.\n",
        "- Los hijos se denominan hijo izquierdo y hijo derecho.\n",
        "- No puede haber ciclos dentro de un árbol binario; es decir, solo puede ser un árbol dirigido.\n",
        "\n",
        "### Implementación Básica de un Árbol Binario:"
      ]
    },
    {
      "cell_type": "code",
      "execution_count": null,
      "id": "957da86d",
      "metadata": {},
      "outputs": [],
      "source": [
        "class Node:\n",
        "    def __init__(self, key):\n",
        "        self.left = None\n",
        "        self.right = None\n",
        "        self.value = key"
      ]
    },
    {
      "attachments": {},
      "cell_type": "markdown",
      "id": "39a4001f",
      "metadata": {},
      "source": [
        "### Recorridos de Árboles Binarios:\n",
        "\n",
        "### 1. Preorden (Root, Left, Right):\n",
        "\n",
        "- El recorrido preorder de un árbol binario es un método para visitar todos los nodos del árbol de tal manera que se visita primero el nodo actual, luego se recorre el subárbol izquierdo, y finalmente se recorre el subárbol derecho. Este enfoque se utiliza para explorar las raíces antes de inspeccionar las hojas, y es útil para crear una copia exacta del árbol o para obtener una expresión prefija de una expresión aritmética.\n",
        "- Visita primero la raíz, luego recorre el subárbol izquierdo en preorden y finalmente el subárbol derecho.\n",
        "- Aplicación: Copia de árboles, expresiones de prefijo en compiladores."
      ]
    },
    {
      "cell_type": "code",
      "execution_count": null,
      "id": "310cc6f5",
      "metadata": {},
      "outputs": [],
      "source": [
        "def preorder_traversal(root):\n",
        "    if root:\n",
        "        print(root.value, end=' ')\n",
        "        preorder_traversal(root.left)\n",
        "        preorder_traversal(root.right)"
      ]
    },
    {
      "attachments": {},
      "cell_type": "markdown",
      "id": "ef4dd867",
      "metadata": {},
      "source": [
        "### 2. Inorden (Left, Root, Right):\n",
        "\n",
        "- El recorrido inorder de un árbol binario es una forma de visitar todos los nodos del árbol de tal manera que para cada nodo, se visitan primero el subárbol izquierdo, luego el nodo mismo, y finalmente el subárbol derecho. Este método produce una secuencia de nodos en orden ascendente si el árbol es un árbol binario de búsqueda (BST), es decir, ordena los elementos de menor a mayor.\n",
        "- Recorre primero el subárbol izquierdo en inorden, luego visita la raíz y finalmente el subárbol derecho.\n",
        "- Aplicación: Obtener los elementos de un árbol binario de búsqueda en orden ascendente."
      ]
    },
    {
      "cell_type": "code",
      "execution_count": null,
      "id": "f69ff2d6",
      "metadata": {},
      "outputs": [],
      "source": [
        "def inorder_traversal(root):\n",
        "    if root:\n",
        "        inorder_traversal(root.left)\n",
        "        print(root.value, end=' ')\n",
        "        inorder_traversal(root.right)"
      ]
    },
    {
      "attachments": {},
      "cell_type": "markdown",
      "id": "8473607b",
      "metadata": {},
      "source": [
        "### 3. Postorden (Left, Right, Root):\n",
        "- El recorrido postorden de un árbol binario es un método para visitar todos los nodos del árbol de tal manera que se recorren primero los subárboles hijos, tanto el izquierdo como el derecho, y luego se visita el nodo actual. Este enfoque se utiliza para operaciones que requieren que se procesen los hijos antes que sus respectivos padres, como el cálculo de una expresión en notación postfija o la eliminación segura de todos los nodos de un árbol.\n",
        "- Recorre primero el subárbol izquierdo en postorden, luego el subárbol derecho y finalmente visita la raíz.\n",
        "- Aplicación: Eliminación de árboles, expresiones de postfijo en compiladores."
      ]
    },
    {
      "cell_type": "code",
      "execution_count": null,
      "id": "87bc8803",
      "metadata": {},
      "outputs": [],
      "source": [
        "def postorder_traversal(root):\n",
        "    if root:\n",
        "        postorder_traversal(root.left)\n",
        "        postorder_traversal(root.right)\n",
        "        print(root.value, end=' ')"
      ]
    },
    {
      "attachments": {},
      "cell_type": "markdown",
      "id": "a61d0d18",
      "metadata": {},
      "source": [
        "### Conclusión:\n",
        "\n",
        "Los recorridos de árboles binarios son una técnica fundamental en la informática, cada uno con aplicaciones específicas dependiendo de la tarea requerida. Comprender cómo implementar y utilizar estos recorridos es esencial para la manipulación eficiente de estructuras de datos basadas en árboles.\n",
        "\n",
        "### Ejercicios\n",
        "\n",
        "**Ejercicio 1: Implementación de un Árbol Binario y Recorrido en Preorden**\n",
        "\n",
        "- **Objetivo**: Implementa un árbol binario y realiza un recorrido en preorden.\n",
        "- **Solución**:"
      ]
    },
    {
      "cell_type": "code",
      "execution_count": null,
      "id": "b53bb1bb",
      "metadata": {},
      "outputs": [],
      "source": [
        "class Node:\n",
        "    def __init__(self, value):\n",
        "        self.left = None\n",
        "        self.right = None\n",
        "        self.value = value\n",
        "\n",
        "def preorder_traversal(node):\n",
        "    if node:\n",
        "        print(node.value, end=' ')\n",
        "        preorder_traversal(node.left)\n",
        "        preorder_traversal(node.right)\n",
        "\n",
        "# Creación del árbol\n",
        "root = Node(1)\n",
        "root.left = Node(2)\n",
        "root.right = Node(3)\n",
        "root.left.left = Node(4)\n",
        "root.left.right = Node(5)\n",
        "\n",
        "# Recorrido en preorden\n",
        "print(\"Recorrido en Preorden:\")\n",
        "preorder_traversal(root)"
      ]
    },
    {
      "attachments": {},
      "cell_type": "markdown",
      "id": "b9fb82fd",
      "metadata": {},
      "source": [
        "**Ejercicio 2: Recorrido Inorden en un Árbol Binario**\n",
        "\n",
        "- **Objetivo**: Realiza un recorrido inorden en el árbol binario creado anteriormente.\n",
        "- **Solución**:"
      ]
    },
    {
      "cell_type": "code",
      "execution_count": null,
      "id": "dc129128",
      "metadata": {},
      "outputs": [],
      "source": [
        "def inorder_traversal(node):\n",
        "    if node:\n",
        "        inorder_traversal(node.left)\n",
        "        print(node.value, end=' ')\n",
        "        inorder_traversal(node.right)\n",
        "\n",
        "# Recorrido inorden\n",
        "print(\"\\\\nRecorrido Inorden:\")\n",
        "inorder_traversal(root)"
      ]
    },
    {
      "attachments": {},
      "cell_type": "markdown",
      "id": "f86c15b1",
      "metadata": {},
      "source": [
        "**Ejercicio 3: Recorrido Postorden en un Árbol Binario**\n",
        "\n",
        "- **Objetivo**: Realiza un recorrido postorden en el mismo árbol binario.\n",
        "- **Solución**:"
      ]
    },
    {
      "cell_type": "code",
      "execution_count": null,
      "id": "a09ff83b",
      "metadata": {},
      "outputs": [],
      "source": [
        "def postorder_traversal(node):\n",
        "    if node:\n",
        "        postorder_traversal(node.left)\n",
        "        postorder_traversal(node.right)\n",
        "        print(node.value, end=' ')\n",
        "\n",
        "# Recorrido postorden\n",
        "print(\"\\\\nRecorrido Postorden:\")\n",
        "postorder_traversal(root)"
      ]
    },
    {
      "attachments": {},
      "cell_type": "markdown",
      "id": "94b9af56",
      "metadata": {},
      "source": [
        "**Ejercicio 4: Árbol Binario de Búsqueda (BST)**\n",
        "\n",
        "- **Objetivo**: Implementa un Árbol Binario de Búsqueda (BST) y agrega algunos nodos.\n",
        "- **Solución**:"
      ]
    },
    {
      "cell_type": "code",
      "execution_count": null,
      "id": "f3dadb14",
      "metadata": {},
      "outputs": [],
      "source": [
        "class BSTNode:\n",
        "    def __init__(self, key):\n",
        "        self.left = None\n",
        "        self.right = None\n",
        "        self.val = key\n",
        "\n",
        "def insert(root, key):\n",
        "    if root is None:\n",
        "        return BSTNode(key)\n",
        "    else:\n",
        "        if root.val < key:\n",
        "            root.right = insert(root.right, key)\n",
        "        else:\n",
        "            root.left = insert(root.left, key)\n",
        "    return root\n",
        "\n",
        "# Creación de un BST y adición de nodos\n",
        "r = BSTNode(50)\n",
        "r = insert(r, 30)\n",
        "r = insert(r, 20)\n",
        "r = insert(r, 40)\n",
        "r = insert(r, 70)\n",
        "r = insert(r, 60)\n",
        "r = insert(r, 80)\n",
        "\n",
        "# Realizar un recorrido inorden para verificar\n",
        "inorder_traversal(r)"
      ]
    },
    {
      "attachments": {},
      "cell_type": "markdown",
      "id": "1f120b51",
      "metadata": {},
      "source": [
        "Estos ejercicios abarcan la implementación y recorridos básicos de un árbol binario y un árbol binario de búsqueda, proporcionando una comprensión práctica de estas estructuras de datos fundamentales."
      ]
    },
    {
      "attachments": {},
      "cell_type": "markdown",
      "id": "595f05a5",
      "metadata": {},
      "source": [
        "## Preguntas y respuestas\n",
        "### Hay arrays con los cuales sea imposible construir un árbol binario?\n",
        "\n",
        "Sí, hay casos en los que, dados arrays `preorder` e `inorder`, puede ser imposible construir un árbol binario. Esto ocurre cuando los arrays no siguen las reglas fundamentales de la estructura de un árbol binario o cuando los arrays contienen errores en términos de la lógica de construcción de árboles. Aquí algunos ejemplos de situaciones donde sería imposible:\n",
        "\n",
        "1. **Elementos incoherentes**: Si los arrays `preorder` e `inorder` tienen elementos que no coinciden, o si un elemento aparece en un array pero no en el otro, no se puede construir un árbol binario porque no hay consistencia en los nodos que deben construirse.\n",
        "\n",
        "2. **Repeticiones de elementos**: Si un array contiene elementos duplicados, no se puede determinar de manera única la posición de esos nodos en el árbol, lo que hace imposible la construcción precisa del árbol binario.\n",
        "\n",
        "3. **Violación de las propiedades del árbol binario**: Si la secuencia de los arrays no respeta las propiedades de un árbol binario, como la propiedad de que el `inorder` de un árbol binario de búsqueda (BST) debe estar en orden ascendente, entonces no es posible construir un árbol válido a partir de esos arrays.\n",
        "\n",
        "#### Ejemplo 1\n",
        "Un ejemplo específico de arrays que harían imposible construir un árbol binario sería:\n",
        "\n",
        "- `preorder`: [1, 2, 3]\n",
        "- `inorder`: [3, 2, 1]\n",
        "\n",
        "Aunque a primera vista parece posible construir un árbol binario con estos arrays, estos arrays en realidad representan un árbol válido. Sin embargo, si alteramos ligeramente los arrays para que no coincidan:\n",
        "\n",
        "- `preorder`: [1, 2, 4]\n",
        "- `inorder`: [2, 3, 1]\n",
        "\n",
        "Aquí, el elemento `4` en el `preorder` y el elemento `3` en el `inorder` no coinciden entre sí, lo que hace imposible construir un árbol binario porque no hay una correspondencia uno a uno entre los elementos de los arrays.\n",
        "\n",
        "#### Ejemplo 2\n",
        "\n",
        "Para ilustrar un caso donde es imposible construir un árbol binario dado un conjunto de arrays, incluyendo postorder, consideremos la siguiente combinación de arrays preorder, inorder, y postorder que no cumplen con las reglas para construir un árbol binario de manera coherente:\n",
        "\n",
        "- `preorder`: [1, 2, 4]\n",
        "- `inorder`: [2, 1, 3]\n",
        "- `postorder`: [2, 3, 1]\n",
        "\n",
        "En este ejemplo, el preorder y el inorder indican que 4 debería ser un nodo del árbol, pero el postorder sugiere que el nodo debería ser 3 en lugar de 4. Esta incoherencia entre los arrays hace imposible construir un árbol binario único y coherente, ya que no hay una forma clara de determinar la estructura exacta del árbol con estos datos contradictorios."
      ]
    }
  ],
  "metadata": {
    "language_info": {
      "name": "python"
    }
  },
  "nbformat": 4,
  "nbformat_minor": 5
}
