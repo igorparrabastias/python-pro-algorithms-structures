{
  "cells": [
    {
      "cell_type": "markdown",
      "id": "3aad86d4",
      "metadata": {},
      "source": [
        "# \u00c1rboles binarios: definici\u00f3n y recorridos (preorden, inorden, postorden).\n",
        "\n",
        "### Introducci\u00f3n:\n",
        "\n",
        "Los \u00e1rboles binarios son una estructura de datos fundamental en la inform\u00e1tica, utilizados en diversas aplicaciones como bases de datos, gr\u00e1ficos, algoritmos de b\u00fasqueda y m\u00e1s. Un \u00e1rbol binario es un \u00e1rbol en el que cada nodo tiene como m\u00e1ximo dos hijos, conocidos como hijo izquierdo y derecho. En esta clase, exploraremos la definici\u00f3n de \u00e1rboles binarios y los tres tipos principales de recorridos: preorden, inorden y postorden.\n",
        "\n",
        "### Definici\u00f3n de \u00c1rboles Binarios:\n",
        "\n",
        "Un \u00e1rbol binario es una estructura de datos jer\u00e1rquica que consiste en nodos conectados. Las caracter\u00edsticas clave de un \u00e1rbol binario son:\n",
        "\n",
        "- Cada nodo tiene cero, uno o dos hijos.\n",
        "- Los hijos se denominan hijo izquierdo y hijo derecho.\n",
        "- No puede haber ciclos dentro de un \u00e1rbol binario; es decir, solo puede ser un \u00e1rbol dirigido.\n",
        "\n",
        "### Implementaci\u00f3n B\u00e1sica de un \u00c1rbol Binario:"
      ]
    },
    {
      "cell_type": "code",
      "execution_count": null,
      "id": "d7c4f6e7",
      "metadata": {},
      "outputs": [],
      "source": [
        "class Node:\n",
        "    def __init__(self, key):\n",
        "        self.left = None\n",
        "        self.right = None\n",
        "        self.value = key"
      ]
    },
    {
      "cell_type": "markdown",
      "id": "998c3480",
      "metadata": {},
      "source": [
        "### Recorridos de \u00c1rboles Binarios:\n",
        "\n",
        "### 1. Preorden (Root, Left, Right):\n",
        "\n",
        "- Visita primero la ra\u00edz, luego recorre el sub\u00e1rbol izquierdo en preorden y finalmente el sub\u00e1rbol derecho.\n",
        "- Aplicaci\u00f3n: Copia de \u00e1rboles, expresiones de prefijo en compiladores."
      ]
    },
    {
      "cell_type": "code",
      "execution_count": null,
      "id": "b90ea086",
      "metadata": {},
      "outputs": [],
      "source": [
        "def preorder_traversal(root):\n",
        "    if root:\n",
        "        print(root.value, end=' ')\n",
        "        preorder_traversal(root.left)\n",
        "        preorder_traversal(root.right)"
      ]
    },
    {
      "cell_type": "markdown",
      "id": "dc2f5f0d",
      "metadata": {},
      "source": [
        "### 2. Inorden (Left, Root, Right):\n",
        "\n",
        "- Recorre primero el sub\u00e1rbol izquierdo en inorden, luego visita la ra\u00edz y finalmente el sub\u00e1rbol derecho.\n",
        "- Aplicaci\u00f3n: Obtener los elementos de un \u00e1rbol binario de b\u00fasqueda en orden ascendente."
      ]
    },
    {
      "cell_type": "code",
      "execution_count": null,
      "id": "a8a6f02a",
      "metadata": {},
      "outputs": [],
      "source": [
        "def inorder_traversal(root):\n",
        "    if root:\n",
        "        inorder_traversal(root.left)\n",
        "        print(root.value, end=' ')\n",
        "        inorder_traversal(root.right)"
      ]
    },
    {
      "cell_type": "markdown",
      "id": "0c0ba44a",
      "metadata": {},
      "source": [
        "### 3. Postorden (Left, Right, Root):\n",
        "\n",
        "- Recorre primero el sub\u00e1rbol izquierdo en postorden, luego el sub\u00e1rbol derecho y finalmente visita la ra\u00edz.\n",
        "- Aplicaci\u00f3n: Eliminaci\u00f3n de \u00e1rboles, expresiones de postfijo en compiladores."
      ]
    },
    {
      "cell_type": "code",
      "execution_count": null,
      "id": "ac9cde0c",
      "metadata": {},
      "outputs": [],
      "source": [
        "def postorder_traversal(root):\n",
        "    if root:\n",
        "        postorder_traversal(root.left)\n",
        "        postorder_traversal(root.right)\n",
        "        print(root.value, end=' ')"
      ]
    },
    {
      "cell_type": "markdown",
      "id": "7e364e95",
      "metadata": {},
      "source": [
        "### Conclusi\u00f3n:\n",
        "\n",
        "Los recorridos de \u00e1rboles binarios son una t\u00e9cnica fundamental en la inform\u00e1tica, cada uno con aplicaciones espec\u00edficas dependiendo de la tarea requerida. Comprender c\u00f3mo implementar y utilizar estos recorridos es esencial para la manipulaci\u00f3n eficiente de estructuras de datos basadas en \u00e1rboles.\n",
        "\n",
        "### Ejercicios\n",
        "\n",
        "**Ejercicio 1: Implementaci\u00f3n de un \u00c1rbol Binario y Recorrido en Preorden**\n",
        "\n",
        "- **Objetivo**: Implementa un \u00e1rbol binario y realiza un recorrido en preorden.\n",
        "- **Soluci\u00f3n**:"
      ]
    },
    {
      "cell_type": "code",
      "execution_count": null,
      "id": "2ea47488",
      "metadata": {},
      "outputs": [],
      "source": [
        "class Node:\n",
        "    def __init__(self, value):\n",
        "        self.left = None\n",
        "        self.right = None\n",
        "        self.value = value\n",
        "\n",
        "def preorder_traversal(node):\n",
        "    if node:\n",
        "        print(node.value, end=' ')\n",
        "        preorder_traversal(node.left)\n",
        "        preorder_traversal(node.right)\n",
        "\n",
        "# Creaci\u00f3n del \u00e1rbol\n",
        "root = Node(1)\n",
        "root.left = Node(2)\n",
        "root.right = Node(3)\n",
        "root.left.left = Node(4)\n",
        "root.left.right = Node(5)\n",
        "\n",
        "# Recorrido en preorden\n",
        "print(\"Recorrido en Preorden:\")\n",
        "preorder_traversal(root)"
      ]
    },
    {
      "cell_type": "markdown",
      "id": "5149fbfb",
      "metadata": {},
      "source": [
        "**Ejercicio 2: Recorrido Inorden en un \u00c1rbol Binario**\n",
        "\n",
        "- **Objetivo**: Realiza un recorrido inorden en el \u00e1rbol binario creado anteriormente.\n",
        "- **Soluci\u00f3n**:"
      ]
    },
    {
      "cell_type": "code",
      "execution_count": null,
      "id": "270544c1",
      "metadata": {},
      "outputs": [],
      "source": [
        "def inorder_traversal(node):\n",
        "    if node:\n",
        "        inorder_traversal(node.left)\n",
        "        print(node.value, end=' ')\n",
        "        inorder_traversal(node.right)\n",
        "\n",
        "# Recorrido inorden\n",
        "print(\"\\\\nRecorrido Inorden:\")\n",
        "inorder_traversal(root)"
      ]
    },
    {
      "cell_type": "markdown",
      "id": "6af2eda5",
      "metadata": {},
      "source": [
        "**Ejercicio 3: Recorrido Postorden en un \u00c1rbol Binario**\n",
        "\n",
        "- **Objetivo**: Realiza un recorrido postorden en el mismo \u00e1rbol binario.\n",
        "- **Soluci\u00f3n**:"
      ]
    },
    {
      "cell_type": "code",
      "execution_count": null,
      "id": "734ec292",
      "metadata": {},
      "outputs": [],
      "source": [
        "def postorder_traversal(node):\n",
        "    if node:\n",
        "        postorder_traversal(node.left)\n",
        "        postorder_traversal(node.right)\n",
        "        print(node.value, end=' ')\n",
        "\n",
        "# Recorrido postorden\n",
        "print(\"\\\\nRecorrido Postorden:\")\n",
        "postorder_traversal(root)"
      ]
    },
    {
      "cell_type": "markdown",
      "id": "af9c9ad3",
      "metadata": {},
      "source": [
        "**Ejercicio 4: \u00c1rbol Binario de B\u00fasqueda (BST)**\n",
        "\n",
        "- **Objetivo**: Implementa un \u00c1rbol Binario de B\u00fasqueda (BST) y agrega algunos nodos.\n",
        "- **Soluci\u00f3n**:"
      ]
    },
    {
      "cell_type": "code",
      "execution_count": null,
      "id": "8360c5e7",
      "metadata": {},
      "outputs": [],
      "source": [
        "class BSTNode:\n",
        "    def __init__(self, key):\n",
        "        self.left = None\n",
        "        self.right = None\n",
        "        self.val = key\n",
        "\n",
        "def insert(root, key):\n",
        "    if root is None:\n",
        "        return BSTNode(key)\n",
        "    else:\n",
        "        if root.val < key:\n",
        "            root.right = insert(root.right, key)\n",
        "        else:\n",
        "            root.left = insert(root.left, key)\n",
        "    return root\n",
        "\n",
        "# Creaci\u00f3n de un BST y adici\u00f3n de nodos\n",
        "r = BSTNode(50)\n",
        "r = insert(r, 30)\n",
        "r = insert(r, 20)\n",
        "r = insert(r, 40)\n",
        "r = insert(r, 70)\n",
        "r = insert(r, 60)\n",
        "r = insert(r, 80)\n",
        "\n",
        "# Realizar un recorrido inorden para verificar\n",
        "inorder_traversal(r)"
      ]
    },
    {
      "cell_type": "markdown",
      "id": "46c9038a",
      "metadata": {},
      "source": [
        "Estos ejercicios abarcan la implementaci\u00f3n y recorridos b\u00e1sicos de un \u00e1rbol binario y un \u00e1rbol binario de b\u00fasqueda, proporcionando una comprensi\u00f3n pr\u00e1ctica de estas estructuras de datos fundamentales."
      ]
    }
  ],
  "metadata": {},
  "nbformat": 4,
  "nbformat_minor": 5
}