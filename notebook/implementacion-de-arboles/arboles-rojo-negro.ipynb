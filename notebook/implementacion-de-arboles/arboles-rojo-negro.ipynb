{
 "cells": [
  {
   "attachments": {},
   "cell_type": "markdown",
   "id": "cfcffedb",
   "metadata": {},
   "source": [
    "## Clase: Árboles Rojo-Negro\n",
    "\n",
    "### Introducción:\n",
    "\n",
    "Los árboles Rojo-Negro son una forma elegante de mantener los árboles binarios de búsqueda equilibrados. Este tipo de estructura de datos es fundamental para entender cómo ciertos contenedores en lenguajes de programación, como los mapas y sets en C++, mantienen su eficiencia en operaciones como inserción, borrado y búsqueda. La clave de su eficiencia radica en cómo se equilibran a sí mismos mediante reglas específicas y recoloreamiento de nodos.\n",
    "\n",
    "### Árboles Rojo-Negro:\n",
    "\n",
    "Los árboles Rojo-Negro son una categoría especial de árboles binarios de búsqueda que siguen ciertas reglas para asegurar el balanceo del árbol. Cada nodo en el árbol tiene un color asignado, rojo o negro, y el árbol debe cumplir con las siguientes propiedades:\n",
    "\n",
    "- **Propiedad 1**: Cada nodo es rojo o negro.\n",
    "- **Propiedad 2**: La raíz siempre es negra.\n",
    "- **Propiedad 3**: Todos los nodos hoja (NIL) son negros.\n",
    "- **Propiedad 4**: Si un nodo es rojo, entonces ambos hijos son negros (no pueden haber dos nodos rojos consecutivos en cualquier camino desde la raíz a una hoja).\n",
    "- **Propiedad 5**: Para cada nodo, todos los caminos desde el nodo a sus hojas descendientes contienen el mismo número de nodos negros.\n",
    "\n",
    "Estas reglas aseguran que el árbol permanezca aproximadamente balanceado, con la altura máxima siendo solo el doble del logaritmo en base dos del número de nodos, lo que garantiza operaciones de búsqueda, inserción y borrado en tiempo logarítmico.\n",
    "\n",
    "#### Ejemplos:\n",
    "- **Inserción**: Al insertar un nuevo nodo, este se colorea de rojo. Luego, se realizan ajustes en el árbol (rotaciones y recoloreo) para asegurar que se mantengan las propiedades de los árboles Rojo-Negro.\n",
    "- **Borrado**: El borrado puede ser más complejo ya que al remover un nodo, se pueden violar las propiedades del árbol. Se utilizan técnicas de recoloreo y rotación para restablecer el equilibrio.\n",
    "\n",
    "### Ejercicios:\n",
    "1. **Implementar la Inserción en un Árbol Rojo-Negro**: Escribe un algoritmo de inserción que inserte nodos manteniendo el árbol balanceado según las reglas de los árboles Rojo-Negro.\n",
    "2. **Búsqueda en un Árbol Rojo-Negro**: Implementa una función de búsqueda que eficientemente encuentre un valor dado en un árbol Rojo-Negro.\n",
    "3. **Eliminar un Nodo**: Desarrolla un algoritmo para eliminar un nodo en un árbol Rojo-Negro, asegurando que el árbol se reequilibre y mantenga sus propiedades.\n",
    "4. **Contar Nodos Negros**: Escribe una función que cuente el número de nodos negros en cualquier camino desde la raíz hasta las hojas.\n",
    "5. **Verificar Propiedades de Árbol Rojo-Negro**: Implementa una función que verifique si un árbol binario cumple con las propiedades de un árbol Rojo-Negro.\n",
    "\n",
    "### Conclusión:\n",
    "Los árboles Rojo-Negro son una herramienta poderosa para mantener estructuras de datos balanceadas. Al seguir sus reglas específicas, podemos asegurar que las operaciones de inserción, búsqueda y borrado se mantengan eficientes, lo cual es crucial para el rendimiento de muchas aplicaciones de software.\n",
    "\n",
    "### Soluciones:\n",
    "\n",
    "#### Ejercicio 1: Implementar la Inserción en un Árbol Rojo-Negro"
   ]
  },
  {
   "cell_type": "code",
   "execution_count": 2,
   "id": "b4109af5",
   "metadata": {},
   "outputs": [],
   "source": [
    "class NodoRN:\n",
    "    def __init__(self, valor, color=\"rojo\", izquierda=None, derecha=None, padre=None):\n",
    "        self.valor = valor\n",
    "        self.color = color\n",
    "        self.izquierda = izquierda\n",
    "        self.derecha = derecha\n",
    "        self.padre = padre\n",
    "\n",
    "# Supongamos que ya tenemos definida la clase ÁrbolRN con métodos para mantener las propiedades Rojo-Negro.\n",
    "\n",
    "def insertar(arbol, valor):\n",
    "    # Este es un pseudocódigo. La implementación completa requeriría manejar las rotaciones y recoloreo.\n",
    "    nuevo_nodo = NodoRN(valor)\n",
    "    if arbol.raiz is None:\n",
    "        arbol.raiz = nuevo_nodo\n",
    "    else:\n",
    "        # Insertar el nodo en el árbol como en un BST\n",
    "        # Luego, ajustar el árbol para mantener las propiedades Rojo-Negro\n",
    "        pass"
   ]
  },
  {
   "attachments": {},
   "cell_type": "markdown",
   "id": "d11ba47b",
   "metadata": {},
   "source": [
    "#### Ejercicio 2: Búsqueda en un Árbol Rojo-Negro"
   ]
  },
  {
   "cell_type": "code",
   "execution_count": 3,
   "id": "64509e01",
   "metadata": {},
   "outputs": [],
   "source": [
    "def buscar(arbol, valor):\n",
    "    return buscar_nodo(arbol.raiz, valor)\n",
    "\n",
    "def buscar_nodo(nodo, valor):\n",
    "    if nodo is None or valor == nodo.valor:\n",
    "        return nodo\n",
    "    if valor < nodo.valor:\n",
    "        return buscar_nodo(nodo.izquierda, valor)\n",
    "    else:\n",
    "        return buscar_nodo(nodo.derecha, valor)"
   ]
  },
  {
   "attachments": {},
   "cell_type": "markdown",
   "id": "d1c17518",
   "metadata": {},
   "source": [
    "#### Ejercicio 3: Eliminar un Nodo"
   ]
  },
  {
   "cell_type": "code",
   "execution_count": 4,
   "id": "a662307f",
   "metadata": {},
   "outputs": [],
   "source": [
    "# La eliminación en un árbol Rojo-Negro es más compleja debido a la necesidad de mantener el árbol balanceado.\n",
    "# Este pseudocódigo muestra un enfoque simplificado.\n",
    "def eliminar(arbol, valor):\n",
    "    # Encontrar el nodo a eliminar\n",
    "    # Reemplazar el nodo por su sucesor si es necesario\n",
    "    # Ajustar el árbol para mantener las propiedades Rojo-Negro\n",
    "    pass"
   ]
  },
  {
   "attachments": {},
   "cell_type": "markdown",
   "id": "364512b1",
   "metadata": {},
   "source": [
    "#### Ejercicio 4: Contar Nodos Negros"
   ]
  },
  {
   "cell_type": "code",
   "execution_count": 5,
   "id": "a545aeb2",
   "metadata": {},
   "outputs": [],
   "source": [
    "def contar_nodos_negros(nodo):\n",
    "    if nodo is None:\n",
    "        return 1  # Los nodos NIL se consideran negros\n",
    "    else:\n",
    "        izquierda = contar_nodos_negros(nodo.izquierda)\n",
    "        derecha = contar_nodos_negros(nodo.derecha)\n",
    "        return izquierda + (nodo.color == \"negro\")"
   ]
  },
  {
   "attachments": {},
   "cell_type": "markdown",
   "id": "5e6853cb",
   "metadata": {},
   "source": [
    "#### Ejercicio 5: Verificar Propiedades de Árbol Rojo-Negro"
   ]
  },
  {
   "cell_type": "code",
   "execution_count": 6,
   "id": "37130c5b",
   "metadata": {},
   "outputs": [
    {
     "name": "stdout",
     "output_type": "stream",
     "text": [
      "El árbol cumple con las propiedades Rojo-Negro: True\n"
     ]
    }
   ],
   "source": [
    "class NodoRN:\n",
    "    def __init__(self, valor, color=\"rojo\", izquierda=None, derecha=None, padre=None):\n",
    "        self.valor = valor\n",
    "        self.color = color\n",
    "        self.izquierda = izquierda\n",
    "        self.derecha = derecha\n",
    "        self.padre = padre\n",
    "\n",
    "\n",
    "def es_rojo(nodo):\n",
    "    return nodo is not None and nodo.color == \"rojo\"\n",
    "\n",
    "\n",
    "def es_negro(nodo):\n",
    "    return nodo is None or nodo.color == \"negro\"\n",
    "\n",
    "\n",
    "def verificar_propiedades_raiz_negra(raiz):\n",
    "    return es_negro(raiz)\n",
    "\n",
    "\n",
    "def verificar_propiedades_nodos_rojos(arbol):\n",
    "    if arbol is None:\n",
    "        return True\n",
    "    if es_rojo(arbol):\n",
    "        if not (es_negro(arbol.izquierda) and es_negro(arbol.derecha)):\n",
    "            return False\n",
    "    return verificar_propiedades_nodos_rojos(arbol.izquierda) and verificar_propiedades_nodos_rojos(arbol.derecha)\n",
    "\n",
    "\n",
    "def contar_nodos_negros_desde_nodo(nodo):\n",
    "    if nodo is None:\n",
    "        return 1\n",
    "    izquierda = contar_nodos_negros_desde_nodo(nodo.izquierda)\n",
    "    derecha = contar_nodos_negros_desde_nodo(nodo.derecha)\n",
    "    if izquierda != derecha or izquierda == -1:\n",
    "        return -1\n",
    "    return izquierda + (1 if es_negro(nodo) else 0)\n",
    "\n",
    "\n",
    "def verificar_cantidad_nodos_negros(raiz):\n",
    "    return contar_nodos_negros_desde_nodo(raiz) != -1\n",
    "\n",
    "\n",
    "def verificar_arbol_rojo_negro(raiz):\n",
    "    return (verificar_propiedades_raiz_negra(raiz) and\n",
    "            verificar_propiedades_nodos_rojos(raiz) and\n",
    "            verificar_cantidad_nodos_negros(raiz))\n",
    "\n",
    "\n",
    "# Uso de la función:\n",
    "raiz = NodoRN(10, \"negro\", NodoRN(5, \"rojo\"), NodoRN(15, \"rojo\"))\n",
    "print(\"El árbol cumple con las propiedades Rojo-Negro:\",\n",
    "      verificar_arbol_rojo_negro(raiz))"
   ]
  }
 ],
 "metadata": {
  "kernelspec": {
   "display_name": "Python 3",
   "language": "python",
   "name": "python3"
  },
  "language_info": {
   "codemirror_mode": {
    "name": "ipython",
    "version": 3
   },
   "file_extension": ".py",
   "mimetype": "text/x-python",
   "name": "python",
   "nbconvert_exporter": "python",
   "pygments_lexer": "ipython3",
   "version": "3.8.10"
  }
 },
 "nbformat": 4,
 "nbformat_minor": 5
}
