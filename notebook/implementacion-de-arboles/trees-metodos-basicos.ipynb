{
  "cells": [
    {
      "cell_type": "markdown",
      "id": "c48729de",
      "metadata": {},
      "source": [
        "# Trees: M\u00e9todos b\u00e1sicos\n",
        "\n",
        "Implementar un tree (\u00e1rbol) en Python requiere definir una estructura para los nodos del \u00e1rbol y luego construir el \u00e1rbol en s\u00ed. Vamos a implementar un \u00e1rbol binario simple, donde cada nodo tiene un valor, un hijo izquierdo y un hijo derecho. Aqu\u00ed est\u00e1 el c\u00f3digo con los m\u00e9todos b\u00e1sicos:\n",
        "\n",
        "1. **Definici\u00f3n de la Clase Nodo**"
      ]
    },
    {
      "cell_type": "code",
      "execution_count": null,
      "id": "3c566a57",
      "metadata": {},
      "outputs": [],
      "source": [
        "class TreeNode:\n",
        "    def __init__(self, data):\n",
        "        self.data = data\n",
        "        self.left = None\n",
        "        self.right = None"
      ]
    },
    {
      "cell_type": "markdown",
      "id": "677bdd11",
      "metadata": {},
      "source": [
        "1. **Definici\u00f3n de la Clase \u00c1rbol Binario**"
      ]
    },
    {
      "cell_type": "code",
      "execution_count": null,
      "id": "d34f7e3e",
      "metadata": {},
      "outputs": [],
      "source": [
        "class BinaryTree:\n",
        "    def __init__(self, root_data):\n",
        "        self.root = TreeNode(root_data)\n",
        "\n",
        "    def insert_left(self, current_node, new_data):\n",
        "        \"\"\" Inserta un nodo a la izquierda del nodo actual. \"\"\"\n",
        "        if current_node.left is None:\n",
        "            current_node.left = TreeNode(new_data)\n",
        "        else:\n",
        "            new_node = TreeNode(new_data)\n",
        "            new_node.left = current_node.left\n",
        "            current_node.left = new_node\n",
        "\n",
        "    def insert_right(self, current_node, new_data):\n",
        "        \"\"\" Inserta un nodo a la derecha del nodo actual. \"\"\"\n",
        "        if current_node.right is None:\n",
        "            current_node.right = TreeNode(new_data)\n",
        "        else:\n",
        "            new_node = TreeNode(new_data)\n",
        "            new_node.right = current_node.right\n",
        "            current_node.right = new_node\n",
        "\n",
        "    def in_order_traversal(self, node, result=None):\n",
        "        \"\"\" Recorrido en orden (izquierda, ra\u00edz, derecha). \"\"\"\n",
        "        if result is None:\n",
        "            result = []\n",
        "        if node:\n",
        "            self.in_order_traversal(node.left, result)\n",
        "            result.append(node.data)\n",
        "            self.in_order_traversal(node.right, result)\n",
        "        return result\n",
        "\n",
        "    def pre_order_traversal(self, node, result=None):\n",
        "        \"\"\" Recorrido en preorden (ra\u00edz, izquierda, derecha). \"\"\"\n",
        "        if result is None:\n",
        "            result = []\n",
        "        if node:\n",
        "            result.append(node.data)\n",
        "            self.pre_order_traversal(node.left, result)\n",
        "            self.pre_order_traversal(node.right, result)\n",
        "        return result\n",
        "\n",
        "    def post_order_traversal(self, node, result=None):\n",
        "        \"\"\" Recorrido en postorden (izquierda, derecha, ra\u00edz). \"\"\"\n",
        "        if result is None:\n",
        "            result = []\n",
        "        if node:\n",
        "            self.post_order_traversal(node.left, result)\n",
        "            self.post_order_traversal(node.right, result)\n",
        "            result.append(node.data)\n",
        "        return result"
      ]
    },
    {
      "cell_type": "markdown",
      "id": "9d44a460",
      "metadata": {},
      "source": [
        "1. **Uso del \u00c1rbol Binario**"
      ]
    },
    {
      "cell_type": "code",
      "execution_count": null,
      "id": "5d1cecc3",
      "metadata": {},
      "outputs": [],
      "source": [
        "# Creando el \u00e1rbol binario y a\u00f1adiendo elementos\n",
        "bt = BinaryTree(\"A\")\n",
        "bt.insert_left(bt.root, \"B\")\n",
        "bt.insert_right(bt.root, \"C\")\n",
        "bt.insert_left(bt.root.left, \"D\")\n",
        "bt.insert_right(bt.root.left, \"E\")\n",
        "\n",
        "# Recorridos del \u00e1rbol\n",
        "print(\"In-order Traversal:\", bt.in_order_traversal(bt.root))\n",
        "print(\"Pre-order Traversal:\", bt.pre_order_traversal(bt.root))\n",
        "print(\"Post-order Traversal:\", bt.post_order_traversal(bt.root))"
      ]
    },
    {
      "cell_type": "markdown",
      "id": "b967f9fb",
      "metadata": {},
      "source": [
        "Este c\u00f3digo define un \u00e1rbol binario simple con m\u00e9todos para insertar nodos y realizar recorridos en orden, preorden y postorden. Puedes expandir esta implementaci\u00f3n para incluir m\u00e1s funcionalidades como eliminaci\u00f3n de nodos, b\u00fasqueda, etc., seg\u00fan tus necesidades."
      ]
    }
  ],
  "metadata": {},
  "nbformat": 4,
  "nbformat_minor": 5
}