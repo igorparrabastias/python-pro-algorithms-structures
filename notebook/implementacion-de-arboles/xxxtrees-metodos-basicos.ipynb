{
  "cells": [
    {
      "cell_type": "markdown",
      "id": "c48729de",
      "metadata": {},
      "source": [
        "# Implementación básica\n",
        "\n",
        "Implementar un tree (árbol) en Python requiere definir una estructura para los nodos del árbol y luego construir el árbol en sí. Vamos a implementar un árbol binario simple, donde cada nodo tiene un valor, un hijo izquierdo y un hijo derecho. Aquí está el código con los métodos básicos:\n",
        "\n",
        "1. **Definición de la Clase Nodo**"
      ]
    },
    {
      "cell_type": "code",
      "execution_count": 1,
      "id": "3c566a57",
      "metadata": {},
      "outputs": [],
      "source": [
        "class TreeNode:\n",
        "    def __init__(self, data):\n",
        "        self.data = data\n",
        "        self.left = None\n",
        "        self.right = None"
      ]
    },
    {
      "cell_type": "markdown",
      "id": "677bdd11",
      "metadata": {},
      "source": [
        "1. **Definición de la Clase Árbol Binario**"
      ]
    },
    {
      "cell_type": "code",
      "execution_count": 2,
      "id": "d34f7e3e",
      "metadata": {},
      "outputs": [],
      "source": [
        "class BinaryTree:\n",
        "    def __init__(self, root_data):\n",
        "        print(f\"{root_data=}\")\n",
        "        self.root = TreeNode(root_data)\n",
        "\n",
        "    def insert_left(self, current_node, new_data):\n",
        "        \"\"\" Inserta un nodo a la izquierda del nodo actual. \"\"\"\n",
        "        if current_node.left is None:\n",
        "            current_node.left = TreeNode(new_data)\n",
        "        else:\n",
        "            new_node = TreeNode(new_data)\n",
        "            new_node.left = current_node.left\n",
        "            current_node.left = new_node\n",
        "\n",
        "    def insert_right(self, current_node, new_data):\n",
        "        \"\"\" Inserta un nodo a la derecha del nodo actual. \"\"\"\n",
        "        if current_node.right is None:\n",
        "            current_node.right = TreeNode(new_data)\n",
        "        else:\n",
        "            new_node = TreeNode(new_data)\n",
        "            new_node.right = current_node.right\n",
        "            current_node.right = new_node\n",
        "\n",
        "    def in_order_traversal(self, node, result=None):\n",
        "        \"\"\" Recorrido en orden (izquierda, raíz, derecha). \"\"\"\n",
        "        if result is None:\n",
        "            result = []\n",
        "        if node:\n",
        "            self.in_order_traversal(node.left, result)\n",
        "            result.append(node.data)\n",
        "            self.in_order_traversal(node.right, result)\n",
        "        return result\n",
        "\n",
        "    def pre_order_traversal(self, node, result=None):\n",
        "        \"\"\" Recorrido en preorden (raíz, izquierda, derecha). \"\"\"\n",
        "        if result is None:\n",
        "            result = []\n",
        "        if node:\n",
        "            result.append(node.data)\n",
        "            self.pre_order_traversal(node.left, result)\n",
        "            self.pre_order_traversal(node.right, result)\n",
        "        return result\n",
        "\n",
        "    def post_order_traversal(self, node, result=None):\n",
        "        \"\"\" Recorrido en postorden (izquierda, derecha, raíz). \"\"\"\n",
        "        if result is None:\n",
        "            result = []\n",
        "        if node:\n",
        "            self.post_order_traversal(node.left, result)\n",
        "            self.post_order_traversal(node.right, result)\n",
        "            result.append(node.data)\n",
        "        return result\n",
        "\n",
        "    def print_tree(self, node, indent=\"\"):\n",
        "        if node is not None:\n",
        "            # Primero, procesa el subárbol derecho\n",
        "            self.print_tree(node.right, indent + \"    \")\n",
        "\n",
        "            # Luego, imprime el nodo actual. La raíz estará más a la izquierda,\n",
        "            # y los nodos hijos se irán desplazando a la derecha.\n",
        "            print(indent + str(node.data))\n",
        "\n",
        "            # Finalmente, procesa el subárbol izquierdo\n",
        "            self.print_tree(node.left, indent + \"    \")\n"
      ]
    },
    {
      "cell_type": "markdown",
      "id": "9d44a460",
      "metadata": {},
      "source": [
        "1. **Uso del Árbol Binario**"
      ]
    },
    {
      "cell_type": "code",
      "execution_count": 3,
      "id": "5d1cecc3",
      "metadata": {},
      "outputs": [],
      "source": [
        "# Creando el árbol binario y añadiendo elementos\n",
        "def test():\n",
        "    bt = BinaryTree(\"A\")\n",
        "    bt.insert_left(bt.root, \"B\")\n",
        "    bt.insert_right(bt.root, \"C\")\n",
        "    bt.insert_left(bt.root.left, \"D\")\n",
        "    bt.insert_right(bt.root.left, \"E\")\n",
        "\n",
        "    # Recorridos del árbol\n",
        "    print(\"In-order Traversal:\", bt.in_order_traversal(bt.root))\n",
        "    print(\"Pre-order Traversal:\", bt.pre_order_traversal(bt.root))\n",
        "    print(\"Post-order Traversal:\", bt.post_order_traversal(bt.root))\n",
        "\n",
        "# test()"
      ]
    },
    {
      "cell_type": "markdown",
      "id": "b967f9fb",
      "metadata": {},
      "source": [
        "Este código define un árbol binario simple con métodos para insertar nodos y realizar recorridos en orden, preorden y postorden. Puedes expandir esta implementación para incluir más funcionalidades como eliminación de nodos, búsqueda, etc., según tus necesidades."
      ]
    }
  ],
  "metadata": {
    "kernelspec": {
      "display_name": "Python 3",
      "language": "python",
      "name": "python3"
    },
    "language_info": {
      "codemirror_mode": {
        "name": "ipython",
        "version": 3
      },
      "file_extension": ".py",
      "mimetype": "text/x-python",
      "name": "python",
      "nbconvert_exporter": "python",
      "pygments_lexer": "ipython3",
      "version": "3.8.10"
    }
  },
  "nbformat": 4,
  "nbformat_minor": 5
}
