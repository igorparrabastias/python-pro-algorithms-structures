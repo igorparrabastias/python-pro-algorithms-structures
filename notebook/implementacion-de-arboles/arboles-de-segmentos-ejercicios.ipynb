{
  "cells": [
    {
      "attachments": {},
      "cell_type": "markdown",
      "metadata": {},
      "source": [
        "# Árbol de Segmentos: Soluciones\n",
        "\n",
        "#### Ejercicio 1: Construir un Árbol de Segmentos"
      ]
    },
    {
      "cell_type": "code",
      "execution_count": 10,
      "id": "d8da3420",
      "metadata": {},
      "outputs": [
        {
          "name": "stdout",
          "output_type": "stream",
          "text": [
            "[36, 9, 27, 4, 5, 16, 11, 1, 3, 0, 0, 7, 9, 0, 0, 0, 0, 0, 0, 0, 0, 0, 0, 0]\n"
          ]
        }
      ],
      "source": [
        "def construir_segment_tree(arr, inicio, fin, segment_tree, indice):\n",
        "    if inicio == fin:\n",
        "        segment_tree[indice] = arr[inicio]\n",
        "        return arr[inicio]\n",
        "    mid = (inicio + fin) // 2\n",
        "    segment_tree[indice] = construir_segment_tree(arr, inicio, mid, segment_tree, 2 * indice + 1) + construir_segment_tree(arr, mid + 1, fin, segment_tree, 2 * indice + 2)\n",
        "    return segment_tree[indice]\n",
        "\n",
        "arr = [1, 3, 5, 7, 9, 11]\n",
        "n = len(arr)\n",
        "segment_tree = [0] * (4 * n)  # Tamaño suficiente para almacenar el árbol\n",
        "construir_segment_tree(arr, 0, n-1, segment_tree, 0)\n",
        "print(segment_tree)"
      ]
    },
    {
      "attachments": {},
      "cell_type": "markdown",
      "id": "c3e070bc",
      "metadata": {},
      "source": [
        "#### Ejercicio 2: Consulta de Suma de Rango"
      ]
    },
    {
      "cell_type": "code",
      "execution_count": 11,
      "id": "b697e2b1",
      "metadata": {},
      "outputs": [
        {
          "name": "stdout",
          "output_type": "stream",
          "text": [
            "32\n"
          ]
        }
      ],
      "source": [
        "def suma_rango(segment_tree, rango_inicio, rango_fin, inicio, fin, indice):\n",
        "    if rango_inicio <= inicio and rango_fin >= fin:\n",
        "        return segment_tree[indice]\n",
        "    if fin < rango_inicio or inicio > rango_fin:\n",
        "        return 0\n",
        "    mid = (inicio + fin) // 2\n",
        "    return suma_rango(segment_tree, rango_inicio, rango_fin, inicio, mid, 2 * indice + 1) + suma_rango(segment_tree, rango_inicio, rango_fin, mid + 1, fin, 2 * indice + 2)\n",
        "\n",
        "print(suma_rango(segment_tree, 2, 5, 0, n-1, 0))"
      ]
    },
    {
      "attachments": {},
      "cell_type": "markdown",
      "id": "e58a3010",
      "metadata": {},
      "source": [
        "#### Ejercicio 3: Actualizar un Elemento"
      ]
    },
    {
      "cell_type": "code",
      "execution_count": 12,
      "id": "abab0a03",
      "metadata": {},
      "outputs": [
        {
          "name": "stdout",
          "output_type": "stream",
          "text": [
            "[37, 9, 28, 4, 5, 17, 11, 1, 3, 0, 0, 7, 10, 0, 0, 0, 0, 0, 0, 0, 0, 0, 0, 0]\n"
          ]
        }
      ],
      "source": [
        "def actualizar_elemento(segment_tree, arr_index, nuevo_valor, inicio, fin, indice):\n",
        "    if inicio == fin:\n",
        "        segment_tree[indice] = nuevo_valor\n",
        "    else:\n",
        "        mid = (inicio + fin) // 2\n",
        "        if inicio <= arr_index <= mid:\n",
        "            actualizar_elemento(segment_tree, arr_index, nuevo_valor, inicio, mid, 2 * indice + 1)\n",
        "        else:\n",
        "            actualizar_elemento(segment_tree, arr_index, nuevo_valor, mid + 1, fin, 2 * indice + 2)\n",
        "        segment_tree[indice] = segment_tree[2 * indice + 1] + segment_tree[2 * indice + 2]\n",
        "\n",
        "actualizar_elemento(segment_tree, 4, 10, 0, n-1, 0)\n",
        "print(segment_tree)"
      ]
    },
    {
      "attachments": {},
      "cell_type": "markdown",
      "id": "25b9207c",
      "metadata": {},
      "source": [
        "#### Ejercicio 4: Consulta de Mínimo de Rango\n",
        "Para este ejercicio, se necesitaría modificar la función de construcción y consulta del árbol de segmentos para operar con el mínimo en lugar de la suma. Este ajuste implicaría cambiar la lógica de combinación de resultados en los nodos para seleccionar el mínimo de los hijos en lugar de sumarlos.\n",
        "\n",
        "#### Ejercicio 5: Optimización de Memoria\n",
        "Una estrategia para reducir el uso de memoria en un árbol de segmentos es utilizar una representación de árbol basada en un arreglo dinámico (como un `vector` en C++ o una lista en Python) en lugar de nodos de objeto explícitos. Además, se puede implementar el árbol de segmentos como un árbol implícito sin almacenar explícitamente los nodos hoja NIL, reduciendo aún más el uso de memoria."
      ]
    }
  ],
  "metadata": {
    "kernelspec": {
      "display_name": "Python 3",
      "language": "python",
      "name": "python3"
    },
    "language_info": {
      "codemirror_mode": {
        "name": "ipython",
        "version": 3
      },
      "file_extension": ".py",
      "mimetype": "text/x-python",
      "name": "python",
      "nbconvert_exporter": "python",
      "pygments_lexer": "ipython3",
      "version": "3.8.10"
    },
    "orig_nbformat": 4
  },
  "nbformat": 4,
  "nbformat_minor": 2
}
