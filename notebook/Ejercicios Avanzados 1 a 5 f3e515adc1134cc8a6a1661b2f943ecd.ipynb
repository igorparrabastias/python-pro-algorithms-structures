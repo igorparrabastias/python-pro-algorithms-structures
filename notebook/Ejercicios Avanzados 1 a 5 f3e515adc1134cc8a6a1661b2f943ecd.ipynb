{
 "cells": [
  {
   "cell_type": "markdown",
   "id": "618c98a1",
   "metadata": {},
   "source": [
    "# Ejercicios Avanzados 1 a 5\n",
    "\n",
    "### Ejercicio 1: Búsqueda Lineal en Listas de Listas\n",
    "\n",
    "Implementa una función de búsqueda lineal que pueda buscar un elemento dentro de listas anidadas. Por ejemplo, busca el número `5` en la lista `[[1, 2], [3, 4], [5, 6]]`."
   ]
  },
  {
   "cell_type": "code",
   "execution_count": null,
   "id": "13518671",
   "metadata": {},
   "outputs": [],
   "source": [
    "# Ejercicio\n",
    "def busqueda_lineal_anidada(lista, objetivo):\n",
    "    for i, sublista in enumerate(lista):\n",
    "        if objetivo in sublista:\n",
    "            return (i, sublista.index(objetivo))\n",
    "    return -1\n",
    "\n",
    "lista_anidada = [[1, 2], [3, 4], [5, 6]]\n",
    "objetivo = 5\n",
    "resultado = busqueda_lineal_anidada(lista_anidada, objetivo)\n",
    "print(f\"Índice del objetivo {objetivo}: {resultado}\")\n"
   ]
  },
  {
   "cell_type": "markdown",
   "id": "5d9f8122",
   "metadata": {},
   "source": [
    "### Ejercicio 2: Búsqueda Lineal con Múltiples Condiciones\n",
    "\n",
    "Crea una función de búsqueda lineal para encontrar el primer número par mayor que 10 en la lista `[9, 21, 12, 4, 15]`."
   ]
  },
  {
   "cell_type": "code",
   "execution_count": null,
   "id": "1fc83586",
   "metadata": {},
   "outputs": [],
   "source": [
    "# Ejercicio\n",
    "def busqueda_par_mayor_que_diez(lista):\n",
    "    for i, num in enumerate(lista):\n",
    "        if num % 2 == 0 and num > 10:\n",
    "            return i\n",
    "    return -1\n",
    "\n",
    "lista = [9, 21, 12, 4, 15]\n",
    "indice = busqueda_par_mayor_que_diez(lista)\n",
    "print(f\"Índice del primer número par mayor que 10: {indice}\")\n"
   ]
  },
  {
   "cell_type": "markdown",
   "id": "e7d1116b",
   "metadata": {},
   "source": [
    "### Ejercicio 3: Búsqueda Lineal Inversa\n",
    "\n",
    "Implementa una búsqueda lineal que empiece desde el final de la lista y busque el primer elemento que cumpla con una condición específica."
   ]
  },
  {
   "cell_type": "code",
   "execution_count": null,
   "id": "89d11d90",
   "metadata": {},
   "outputs": [],
   "source": [
    "# Ejercicio\n",
    "def busqueda_lineal_inversa(lista, objetivo):\n",
    "    for i in range(len(lista) - 1, -1, -1):\n",
    "        if lista[i] == objetivo:\n",
    "            return i\n",
    "    return -1\n",
    "\n",
    "lista = [5, 8, 1, 9, 3, 5, 1]\n",
    "objetivo = 5\n",
    "indice = busqueda_lineal_inversa(lista, objetivo)\n",
    "print(f\"Último índice del objetivo {objetivo}: {indice}\")\n"
   ]
  },
  {
   "cell_type": "markdown",
   "id": "fd6eacd3",
   "metadata": {},
   "source": [
    "### Ejercicio 4: Búsqueda de Subcadena en Cadena\n",
    "\n",
    "Escribe una función que implemente búsqueda lineal para encontrar la primera aparición de una subcadena dentro de una cadena más grande."
   ]
  },
  {
   "cell_type": "code",
   "execution_count": null,
   "id": "9720f007",
   "metadata": {},
   "outputs": [],
   "source": [
    "# Ejercicio\n",
    "def busqueda_subcadena(cadena, subcadena):\n",
    "    for i in range(len(cadena) - len(subcadena) + 1):\n",
    "        if cadena[i:i+len(subcadena)] == subcadena:\n",
    "            return i\n",
    "    return -1\n",
    "\n",
    "cadena = \"hola mundo\"\n",
    "subcadena = \"mundo\"\n",
    "indice = busqueda_subcadena(cadena, subcadena)\n",
    "print(f\"Índice de la subcadena '{subcadena}': {indice}\")\n"
   ]
  },
  {
   "cell_type": "markdown",
   "id": "ad3154f2",
   "metadata": {},
   "source": [
    "### Ejercicio 5: Búsqueda y Reemplazo Lineal\n",
    "\n",
    "Modifica una lista para reemplazar todas las ocurrencias de un elemento dado por otro. Por ejemplo, reemplaza todos los `2` por `200` en la lista `[1, 2, 3, 2, 4, 2]`."
   ]
  },
  {
   "cell_type": "code",
   "execution_count": null,
   "id": "fb1bed88",
   "metadata": {},
   "outputs": [],
   "source": [
    "# Ejercicio\n",
    "def reemplazo_lineal(lista, objetivo, nuevo_valor):\n",
    "    for i in range(len(lista)):\n",
    "        if lista[i] == objetivo:\n",
    "            lista[i] = nuevo_valor\n",
    "    return lista\n",
    "\n",
    "lista = [1, 2, 3, 2, 4, 2]\n",
    "objetivo = 2\n",
    "nuevo_valor = 200\n",
    "lista_modificada = reemplazo_lineal(lista, objetivo, nuevo_valor)\n",
    "print(\"Lista después del reemplazo:\", lista_modificada)\n"
   ]
  },
  {
   "cell_type": "markdown",
   "id": "64b09f83",
   "metadata": {},
   "source": [
    "Estos ejercicios avanzados sobre búsqueda lineal en Python te desafían a aplicar y extender el algoritmo en contextos más complejos, mejorando tu comprensión de la búsqueda lineal y tus habilidades de programación general."
   ]
  }
 ],
 "metadata": {},
 "nbformat": 4,
 "nbformat_minor": 5
}
