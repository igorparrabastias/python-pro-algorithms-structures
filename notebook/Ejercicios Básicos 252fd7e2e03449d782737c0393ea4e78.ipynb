{
 "cells": [
  {
   "cell_type": "markdown",
   "id": "d93a9d67",
   "metadata": {},
   "source": [
    "# Ejercicios Básicos\n",
    "\n",
    "### Ejercicios Básicos sobre Búsqueda Binaria en Python\n",
    "\n",
    "### Ejercicio 1: Encontrar un Número en una Lista Ordenada\n",
    "\n",
    "Dada la lista ordenada `[3, 6, 8, 12, 14, 17, 20, 21, 24, 28]`, utiliza la función de búsqueda binaria para encontrar el índice del número `17`.\n",
    "\n",
    "**Solución**:"
   ]
  },
  {
   "cell_type": "code",
   "execution_count": null,
   "id": "98a8a298",
   "metadata": {},
   "outputs": [],
   "source": [
    "lista = [3, 6, 8, 12, 14, 17, 20, 21, 24, 28]\n",
    "objetivo = 17\n",
    "print(\"Índice de 17:\", busqueda_binaria(lista, objetivo))\n"
   ]
  },
  {
   "cell_type": "markdown",
   "id": "a8b47f80",
   "metadata": {},
   "source": [
    "### Ejercicio 2: Verificar la Ausencia de un Elemento\n",
    "\n",
    "Utiliza la búsqueda binaria para verificar que el número `15` no está presente en la lista `[2, 5, 7, 12, 14, 18, 21]`.\n",
    "\n",
    "**Solución**:"
   ]
  },
  {
   "cell_type": "code",
   "execution_count": null,
   "id": "63ef7770",
   "metadata": {},
   "outputs": [],
   "source": [
    "lista = [2, 5, 7, 12, 14, 18, 21]\n",
    "objetivo = 15\n",
    "print(\"Índice de 15:\", busqueda_binaria(lista, objetivo))\n"
   ]
  },
  {
   "cell_type": "markdown",
   "id": "8387db98",
   "metadata": {},
   "source": [
    "### Ejercicio 3: Búsqueda en una Lista de Cadenas\n",
    "\n",
    "Aplica la búsqueda binaria para encontrar la posición de la palabra `\"naranja\"` en la lista ordenada `[\"manzana\", \"naranja\", \"pera\", \"uva\"]`.\n",
    "\n",
    "**Solución**:"
   ]
  },
  {
   "cell_type": "code",
   "execution_count": null,
   "id": "d50b0d46",
   "metadata": {},
   "outputs": [],
   "source": [
    "lista = [\"manzana\", \"naranja\", \"pera\", \"uva\"]\n",
    "objetivo = \"naranja\"\n",
    "print(\"Índice de 'naranja':\", busqueda_binaria(lista, objetivo))\n"
   ]
  },
  {
   "cell_type": "markdown",
   "id": "8a9c3113",
   "metadata": {},
   "source": [
    "### Ejercicio 4: Búsqueda Binaria para Determinar la Posibilidad de Inserción\n",
    "\n",
    "Determina la posición en la que se debería insertar el número `13` para mantener el orden en la lista `[10, 11, 12, 14, 15, 16]`.\n",
    "\n",
    "**Nota**: Este ejercicio requiere modificar la búsqueda binaria para devolver el índice de inserción en caso de que el objetivo no se encuentre.\n",
    "\n",
    "**Solución**:"
   ]
  },
  {
   "cell_type": "code",
   "execution_count": null,
   "id": "f7f30053",
   "metadata": {},
   "outputs": [],
   "source": [
    "def busqueda_binaria_insercion(lista, objetivo):\n",
    "    inicio, fin = 0, len(lista)\n",
    "    while inicio < fin:\n",
    "        medio = (inicio + fin) // 2\n",
    "        if lista[medio] < objetivo:\n",
    "            inicio = medio + 1\n",
    "        else:\n",
    "            fin = medio\n",
    "    return inicio\n",
    "\n",
    "lista = [10, 11, 12, 14, 15, 16]\n",
    "objetivo = 13\n",
    "print(\"Posición de inserción para 13:\", busqueda_binaria_insercion(lista, objetivo))\n"
   ]
  },
  {
   "cell_type": "markdown",
   "id": "32053555",
   "metadata": {},
   "source": [
    "### Ejercicio 5: Identificar el Elemento más Cercano\n",
    "\n",
    "Encuentra el número más cercano a `9` en la lista `[2, 4, 6, 8, 10, 12]`.\n",
    "\n",
    "**Solución**:\n",
    "Este ejercicio implica ajustar la búsqueda binaria para considerar los valores más cercanos al objetivo cuando no se encuentra una coincidencia exacta."
   ]
  },
  {
   "cell_type": "code",
   "execution_count": null,
   "id": "011f0cd7",
   "metadata": {},
   "outputs": [],
   "source": [
    "def busqueda_binaria_cercana(lista, objetivo):\n",
    "    inicio, fin = 0, len(lista) - 1\n",
    "    if len(lista) == 0:\n",
    "        return None\n",
    "    if len(lista) == 1:\n",
    "        return lista[0]\n",
    "\n",
    "    while inicio <= fin:\n",
    "        medio = (inicio + fin) // 2\n",
    "        if medio + 1 < len(lista) and abs(lista[medio] - objetivo) > abs(lista[medio + 1] - objetivo):\n",
    "            inicio = medio + 1\n",
    "        elif lista[medio] == objetivo:\n",
    "            return lista[medio]\n",
    "        else:\n",
    "            fin = medio - 1\n",
    "\n",
    "    return lista[(inicio + fin) // 2]\n",
    "\n",
    "lista = [2, 4, 6, 8, 10, 12]\n",
    "objetivo = 9\n",
    "print(\"Número más cercano a 9:\", busqueda_binaria_cercana(lista, objetivo))\n"
   ]
  },
  {
   "cell_type": "markdown",
   "id": "e9f755da",
   "metadata": {},
   "source": [
    "Estos ejercicios básicos están diseñados para ayudarte a entender y practicar la implementación y aplicaciones de la búsqueda binaria en Python, abarcando desde la búsqueda de elementos en listas ordenadas hasta ajustes más sofisticados del algoritmo para casos de uso específicos."
   ]
  }
 ],
 "metadata": {},
 "nbformat": 4,
 "nbformat_minor": 5
}
