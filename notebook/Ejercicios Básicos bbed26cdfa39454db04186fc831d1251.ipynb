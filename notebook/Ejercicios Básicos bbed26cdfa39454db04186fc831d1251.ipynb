{
 "cells": [
  {
   "cell_type": "markdown",
   "id": "ea31c4e1",
   "metadata": {},
   "source": [
    "# Ejercicios Básicos\n",
    "\n",
    "### Ejercicio 1: Búsqueda de un Elemento en una Lista\n",
    "\n",
    "Dada la lista `[4, 2, 5, 1, 3]`, encuentra el índice del número `5` utilizando la función de búsqueda lineal."
   ]
  },
  {
   "cell_type": "code",
   "execution_count": null,
   "id": "288f589a",
   "metadata": {},
   "outputs": [],
   "source": [
    "# Ejercicio\n",
    "lista = [4, 2, 5, 1, 3]\n",
    "objetivo = 5\n",
    "indice = busqueda_lineal(lista, objetivo)\n",
    "print(f\"Índice del objetivo {objetivo}: {indice}\")\n"
   ]
  },
  {
   "cell_type": "markdown",
   "id": "b27105a7",
   "metadata": {},
   "source": [
    "### Ejercicio 2: Búsqueda de un Carácter en una Cadena\n",
    "\n",
    "Convierte una cadena en una lista de caracteres y encuentra el índice de la letra `'a'` en la cadena `\"ejemplo\"`."
   ]
  },
  {
   "cell_type": "code",
   "execution_count": null,
   "id": "3840f34f",
   "metadata": {},
   "outputs": [],
   "source": [
    "# Ejercicio\n",
    "cadena = \"ejemplo\"\n",
    "objetivo = 'a'\n",
    "lista = list(cadena)\n",
    "indice = busqueda_lineal(lista, objetivo)\n",
    "print(f\"Índice de '{objetivo}' en '{cadena}': {indice}\")\n"
   ]
  },
  {
   "cell_type": "markdown",
   "id": "3329dbe1",
   "metadata": {},
   "source": [
    "### Ejercicio 3: Verificar la Existencia de un Elemento\n",
    "\n",
    "Verifica si el número `7` está presente en la lista `[4, 2, 5, 1, 3]`."
   ]
  },
  {
   "cell_type": "code",
   "execution_count": null,
   "id": "4a7fd241",
   "metadata": {},
   "outputs": [],
   "source": [
    "# Ejercicio\n",
    "lista = [4, 2, 5, 1, 3]\n",
    "objetivo = 7\n",
    "indice = busqueda_lineal(lista, objetivo)\n",
    "existe = indice != -1\n",
    "print(f\"¿El número {objetivo} está en la lista? {existe}\")\n"
   ]
  },
  {
   "cell_type": "markdown",
   "id": "b9858807",
   "metadata": {},
   "source": [
    "### Ejercicio 4: Búsqueda de Elementos Duplicados\n",
    "\n",
    "Encuentra todos los índices del número `2` en la lista `[1, 2, 4, 2, 2, 5]`."
   ]
  },
  {
   "cell_type": "code",
   "execution_count": null,
   "id": "4014b07d",
   "metadata": {},
   "outputs": [],
   "source": [
    "# Ejercicio\n",
    "def busqueda_todos_indices(lista, objetivo):\n",
    "    indices = []\n",
    "    for i in range(len(lista)):\n",
    "        if lista[i] == objetivo:\n",
    "            indices.append(i)\n",
    "    return indices\n",
    "\n",
    "lista = [1, 2, 4, 2, 2, 5]\n",
    "objetivo = 2\n",
    "indices = busqueda_todos_indices(lista, objetivo)\n",
    "print(f\"Índices del objetivo {objetivo}: {indices}\")\n"
   ]
  },
  {
   "cell_type": "markdown",
   "id": "e91e7d87",
   "metadata": {},
   "source": [
    "### Ejercicio 5: Búsqueda de Elemento en Lista de Cadenas\n",
    "\n",
    "Busca la cadena `\"python\"` en la lista `[\"java\", \"c++\", \"python\", \"javascript\"]` y devuelve su índice."
   ]
  },
  {
   "cell_type": "code",
   "execution_count": null,
   "id": "a4c7f473",
   "metadata": {},
   "outputs": [],
   "source": [
    "# Ejercicio\n",
    "lista_cadenas = [\"java\", \"c++\", \"python\", \"javascript\"]\n",
    "objetivo = \"python\"\n",
    "indice = busqueda_lineal(lista_cadenas, objetivo)\n",
    "print(f\"Índice de '{objetivo}': {indice}\")\n"
   ]
  },
  {
   "cell_type": "markdown",
   "id": "ea6819e0",
   "metadata": {},
   "source": [
    "Estos ejercicios básicos te permitirán practicar con la implementación y aplicación de la búsqueda lineal en Python, reforzando tu comprensión de este algoritmo fundamental a través de varios contextos y tipos de datos."
   ]
  }
 ],
 "metadata": {},
 "nbformat": 4,
 "nbformat_minor": 5
}
