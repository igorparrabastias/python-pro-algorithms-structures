{
 "cells": [
  {
   "cell_type": "markdown",
   "id": "d9708ce2",
   "metadata": {},
   "source": [
    "# Ejemplos de uso\n",
    "\n",
    "1. **Almacenamiento de preferencias de usuario**:\n",
    "Guarda configuraciones específicas para cada usuario por medio de su identificador único."
   ]
  },
  {
   "cell_type": "code",
   "execution_count": null,
   "id": "3c147d90",
   "metadata": {},
   "outputs": [],
   "source": [
    "```python\n",
    "preferencias_usuario = {'usuario1': {'tema': 'oscuro', 'idioma': 'es'}, 'usuario2': {'tema': 'claro', 'idioma': 'en'}}\n",
    "\n",
    "```"
   ]
  },
  {
   "cell_type": "markdown",
   "id": "af646dc1",
   "metadata": {},
   "source": [
    "2. **Caché de resultados de funciones (Memoización)**:\n",
    "Almacena los resultados de funciones costosas para evitar cálculos repetidos."
   ]
  },
  {
   "cell_type": "code",
   "execution_count": null,
   "id": "01d00f6d",
   "metadata": {},
   "outputs": [],
   "source": [
    "```python\n",
    "def factorial(n, cache={}):\n",
    "    if n in cache:\n",
    "        return cache[n]\n",
    "    else:\n",
    "        cache[n] = 1 if n == 0 else n * factorial(n - 1)\n",
    "        return cache[n]\n",
    "```"
   ]
  },
  {
   "cell_type": "markdown",
   "id": "0ac104a9",
   "metadata": {},
   "source": [
    "3. **Conteo de elementos**:\n",
    "Cuenta la frecuencia de cada elemento en una colección."
   ]
  },
  {
   "cell_type": "code",
   "execution_count": null,
   "id": "3e7d11ae",
   "metadata": {},
   "outputs": [],
   "source": [
    "```python\n",
    "elementos = ['manzana', 'banana', 'manzana', 'naranja', 'banana', 'manzana']\n",
    "conteo = {x: elementos.count(x) for x in elementos}\n",
    "```"
   ]
  },
  {
   "cell_type": "markdown",
   "id": "bb82074f",
   "metadata": {},
   "source": [
    "4. **Implementar tablas de símbolos en compiladores**:\n",
    "Mantiene un seguimiento de identificadores y atributos en un compilador."
   ]
  },
  {
   "cell_type": "code",
   "execution_count": null,
   "id": "f8f39a48",
   "metadata": {},
   "outputs": [],
   "source": [
    "```python\n",
    "tabla_simbolos = {'variable1': {'tipo': 'entero', 'valor': 10}, 'funcion1': {'tipo_retorno': 'void', 'parametros': None}}\n",
    "```"
   ]
  },
  {
   "cell_type": "markdown",
   "id": "287ba592",
   "metadata": {},
   "source": [
    "5. **Conjuntos de datos únicos**:\n",
    "Mantiene un registro de elementos sin duplicados y permite la verificación rápida de su existencia."
   ]
  },
  {
   "cell_type": "code",
   "execution_count": null,
   "id": "c851c6c4",
   "metadata": {},
   "outputs": [],
   "source": [
    "```python\n",
    "datos_unicos = set(['manzana', 'banana', 'naranja'])\n",
    "```\n"
   ]
  },
  {
   "cell_type": "markdown",
   "id": "32c2287b",
   "metadata": {},
   "source": [
    "Cada uno de estos códigos ilustra cómo se pueden utilizar los diccionarios y conjuntos de Python, que son implementaciones de tablas hash, para realizar diferentes tareas relacionadas con la gestión de datos."
   ]
  }
 ],
 "metadata": {},
 "nbformat": 4,
 "nbformat_minor": 5
}
