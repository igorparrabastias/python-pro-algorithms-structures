{
 "cells": [
  {
   "attachments": {},
   "cell_type": "markdown",
   "id": "90cf154d",
   "metadata": {},
   "source": [
    "# Listas Enlazadas (Linked Lists)\n",
    "\n",
    "Implementar una lista enlazada en Python es un excelente ejercicio para comprender mejor las estructuras de datos. Vamos a crear una lista enlazada simple, donde cada nodo tiene un valor y una referencia al siguiente nodo.\n",
    "\n",
    "### Lista enlazada simple\n",
    "Aquí tienes un diagrama que ilustra el concepto de una lista enlazada, donde cada elemento (nodo) contiene datos y una referencia al siguiente nodo en la lista:\n",
    "<pre>\n",
    "\n",
    "      [Cabeza]\n",
    "        |\n",
    "        v\n",
    "      +-----+    +-----+    +-----+    +-----+\n",
    "      |  1  | -> |  2  | -> |  3  | -> |  4  | -> [Null/None]\n",
    "      +-----+    +-----+    +-----+    +-----+\n",
    "      \n",
    "</pre>\n",
    "- Este diagrama representa una lista enlazada simple, donde la \"cabeza\" apunta al primer nodo de la lista y cada nodo apunta al siguiente\n",
    "- El último nodo apunta a `Null` (o `None` en Python), indicando el final de la lista.\n",
    "\n",
    "###  Lista doblemente enlazada\n",
    "\n",
    "<pre>\n",
    "\n",
    "    +-------+    +-------+    +-------+    +-------+\n",
    "<---|   1   |<-->|   2   |<-->|   3   |<-->|   4   |---> ...\n",
    "    +-------+    +-------+    +-------+    +-------+\n",
    "\n",
    "</pre>\n",
    "- En las listas enlazadas simples, cada nodo contiene datos y un enlace al siguiente nodo, permitiendo una secuencia unidireccional.\n",
    "- En las listas doblemente enlazadas, cada nodo tiene un enlace adicional al nodo anterior, facilitando la navegación bidireccional a través de la lista.\n",
    "\n",
    "## Implementación en Python\n",
    "\n",
    "Aquí está el código con los métodos básicos:\n",
    "\n",
    "1. **Definición de la Clase Nodo**"
   ]
  },
  {
   "cell_type": "code",
   "execution_count": 1,
   "id": "c06671af",
   "metadata": {},
   "outputs": [],
   "source": [
    "class Node:\n",
    "    def __init__(self, data):\n",
    "        self.data = data\n",
    "        self.next = None"
   ]
  },
  {
   "attachments": {},
   "cell_type": "markdown",
   "id": "9e9c510e",
   "metadata": {},
   "source": [
    "1. **Definición de la Clase Lista Enlazada**"
   ]
  },
  {
   "cell_type": "code",
   "execution_count": 2,
   "id": "39df97d4",
   "metadata": {},
   "outputs": [],
   "source": [
    "class LinkedList:\n",
    "    def __init__(self):\n",
    "        self.head = None\n",
    "\n",
    "    def append(self, data):\n",
    "        \"\"\" Agrega un nuevo nodo al final de la lista. \"\"\"\n",
    "        new_node = Node(data)\n",
    "        if self.head is None:\n",
    "            self.head = new_node\n",
    "            return\n",
    "        last_node = self.head\n",
    "        while last_node.next:\n",
    "            last_node = last_node.next\n",
    "        last_node.next = new_node\n",
    "\n",
    "    def prepend(self, data):\n",
    "        \"\"\" Agrega un nuevo nodo al inicio de la lista. \"\"\"\n",
    "        new_node = Node(data)\n",
    "        new_node.next = self.head\n",
    "        self.head = new_node\n",
    "\n",
    "    def insert_after_node(self, prev_node, data):\n",
    "        \"\"\" Inserta un nuevo nodo después de un nodo dado. \"\"\"\n",
    "        if not prev_node:\n",
    "            print(\"Previous node is not in the list\")\n",
    "            return\n",
    "        new_node = Node(data)\n",
    "        new_node.next = prev_node.next\n",
    "        prev_node.next = new_node\n",
    "\n",
    "    def delete_node(self, key):\n",
    "        \"\"\" Elimina el nodo con el valor 'key'. \"\"\"\n",
    "        curr_node = self.head\n",
    "\n",
    "        if curr_node and curr_node.data == key:\n",
    "            self.head = curr_node.next\n",
    "            curr_node = None\n",
    "            return\n",
    "\n",
    "        prev = None\n",
    "        while curr_node and curr_node.data != key:\n",
    "            prev = curr_node\n",
    "            curr_node = curr_node.next\n",
    "\n",
    "        if curr_node is None:\n",
    "            return\n",
    "\n",
    "        prev.next = curr_node.next\n",
    "        curr_node = None\n",
    "\n",
    "    def print_list(self):\n",
    "        \"\"\" Imprime todos los elementos de la lista. \"\"\"\n",
    "        curr_node = self.head\n",
    "        while curr_node:\n",
    "            print(curr_node.data, end=\" -> \")\n",
    "            curr_node = curr_node.next\n",
    "        print(\"None\")"
   ]
  },
  {
   "attachments": {},
   "cell_type": "markdown",
   "id": "6316af7b",
   "metadata": {},
   "source": [
    "1. **Uso de la Lista Enlazada**"
   ]
  },
  {
   "cell_type": "code",
   "execution_count": 3,
   "id": "d415c7e6",
   "metadata": {},
   "outputs": [
    {
     "name": "stdout",
     "output_type": "stream",
     "text": [
      "0 -> A -> C -> None\n"
     ]
    }
   ],
   "source": [
    "# Creando la lista enlazada y añadiendo elementos\n",
    "llist = LinkedList()\n",
    "llist.append(\"A\")\n",
    "llist.append(\"B\")\n",
    "llist.prepend(\"0\")\n",
    "llist.insert_after_node(llist.head.next, \"C\")\n",
    "\n",
    "# Eliminando un elemento\n",
    "llist.delete_node(\"B\")\n",
    "\n",
    "# Imprimiendo la lista\n",
    "llist.print_list()\n"
   ]
  },
  {
   "attachments": {},
   "cell_type": "markdown",
   "id": "7e44a217",
   "metadata": {},
   "source": [
    "Este código define una lista enlazada simple con métodos para agregar, insertar y eliminar nodos, así como para imprimir la lista. Puedes expandir esta implementación para incluir más funcionalidades según tus necesidades."
   ]
  }
 ],
 "metadata": {
  "kernelspec": {
   "display_name": "Python 3",
   "language": "python",
   "name": "python3"
  },
  "language_info": {
   "codemirror_mode": {
    "name": "ipython",
    "version": 3
   },
   "file_extension": ".py",
   "mimetype": "text/x-python",
   "name": "python",
   "nbconvert_exporter": "python",
   "pygments_lexer": "ipython3",
   "version": "3.8.10"
  }
 },
 "nbformat": 4,
 "nbformat_minor": 5
}
