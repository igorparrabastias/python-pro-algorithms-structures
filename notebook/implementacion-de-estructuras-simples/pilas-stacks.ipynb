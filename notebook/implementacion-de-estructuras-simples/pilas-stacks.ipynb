{
 "cells": [
  {
   "attachments": {},
   "cell_type": "markdown",
   "id": "56612092",
   "metadata": {},
   "source": [
    "# Pilas (Stacks)\n",
    "\n",
    "Una pila (stack) es una estructura de datos que sigue el principio de \"último en entrar, primero en salir\" (LIFO, Last In First Out). En Python, puedes implementar una pila utilizando listas, ya que estas proporcionan métodos para simular el comportamiento de una pila.\n",
    "\n",
    "Aquí tienes un diagrama que representa una pila (stack), enfatizando su comportamiento LIFO (Last In, First Out):\n",
    "<pre>\n",
    "\n",
    "    +-----+\n",
    "    |  4  |  <- Tope de la pila (último en entrar, primero en salir)\n",
    "    +-----+\n",
    "    |  3  |\n",
    "    +-----+\n",
    "    |  2  |\n",
    "    +-----+\n",
    "    |  1  |  <- Base de la pila (primero en entrar)\n",
    "    +-----+\n",
    "\n",
    "</pre>\n",
    "- Este diagrama muestra cómo los elementos se añaden al tope de la pila y también se retiran desde el tope, siguiendo el principio LIFO. La inserción (push) y la eliminación (pop) de elementos ocurren solo en el tope de la pila.\n",
    "\n",
    "## Implementación en Python\n",
    "\n",
    "A continuación, te muestro cómo implementar una pila con sus operaciones básicas:\n",
    "\n",
    "1. **Definición de la Clase Pila**"
   ]
  },
  {
   "cell_type": "code",
   "execution_count": 1,
   "id": "92ba2027",
   "metadata": {},
   "outputs": [],
   "source": [
    "class Stack:\n",
    "    def __init__(self):\n",
    "        self.items = []\n",
    "\n",
    "    def is_empty(self):\n",
    "        \"\"\" Verifica si la pila está vacía. \"\"\"\n",
    "        return len(self.items) == 0\n",
    "\n",
    "    def push(self, item):\n",
    "        \"\"\" Agrega un elemento al tope de la pila. \"\"\"\n",
    "        self.items.append(item)\n",
    "\n",
    "    def pop(self):\n",
    "        \"\"\" Remueve y retorna el elemento del tope de la pila. \"\"\"\n",
    "        if not self.is_empty():\n",
    "            return self.items.pop()\n",
    "        return None\n",
    "\n",
    "    def peek(self):\n",
    "        \"\"\" Retorna el elemento del tope sin removerlo. \"\"\"\n",
    "        if not self.is_empty():\n",
    "            return self.items[-1]\n",
    "        return None\n",
    "\n",
    "    def size(self):\n",
    "        \"\"\" Retorna el tamaño de la pila. \"\"\"\n",
    "        return len(self.items)\n",
    "\n",
    "    def print_stack(self):\n",
    "        \"\"\" Imprime los elementos de la pila. \"\"\"\n",
    "        for item in reversed(self.items):\n",
    "            print(item)"
   ]
  },
  {
   "attachments": {},
   "cell_type": "markdown",
   "id": "a2cd38f8",
   "metadata": {},
   "source": [
    "1. **Uso de la Pila**"
   ]
  },
  {
   "cell_type": "code",
   "execution_count": 2,
   "id": "72368f06",
   "metadata": {},
   "outputs": [
    {
     "name": "stdout",
     "output_type": "stream",
     "text": [
      "Cherry\n",
      "Banana\n",
      "Apple\n",
      "Top item: Cherry\n",
      "Popped: Cherry\n",
      "Popped: Banana\n",
      "Apple\n"
     ]
    }
   ],
   "source": [
    "# Creando una pila\n",
    "stack = Stack()\n",
    "\n",
    "# Agregando elementos\n",
    "stack.push(\"Apple\")\n",
    "stack.push(\"Banana\")\n",
    "stack.push(\"Cherry\")\n",
    "\n",
    "# Imprimiendo la pila\n",
    "stack.print_stack()\n",
    "\n",
    "# Verificando el elemento superior\n",
    "print(\"Top item:\", stack.peek())\n",
    "\n",
    "# Removiendo elementos\n",
    "print(\"Popped:\", stack.pop())\n",
    "print(\"Popped:\", stack.pop())\n",
    "\n",
    "# Imprimiendo la pila después de las eliminaciones\n",
    "stack.print_stack()\n"
   ]
  },
  {
   "attachments": {},
   "cell_type": "markdown",
   "id": "cd49b2a2",
   "metadata": {},
   "source": [
    "En este código,\n",
    "-  `push` agrega un elemento al final de la lista (el tope de la pila), \n",
    "-  `pop` elimina el último elemento y lo devuelve, \n",
    "-  `peek` devuelve el último elemento sin removerlo, y \n",
    "-  `is_empty` verifica si la pila está vacía. \n",
    "-  `print_stack` es un método auxiliar para visualizar los elementos de la pila.\n",
    "\n",
    "Esta es una manera sencilla y efectiva de implementar una pila en Python aprovechando las características de las listas."
   ]
  }
 ],
 "metadata": {
  "kernelspec": {
   "display_name": "Python 3",
   "language": "python",
   "name": "python3"
  },
  "language_info": {
   "codemirror_mode": {
    "name": "ipython",
    "version": 3
   },
   "file_extension": ".py",
   "mimetype": "text/x-python",
   "name": "python",
   "nbconvert_exporter": "python",
   "pygments_lexer": "ipython3",
   "version": "3.8.10"
  }
 },
 "nbformat": 4,
 "nbformat_minor": 5
}
