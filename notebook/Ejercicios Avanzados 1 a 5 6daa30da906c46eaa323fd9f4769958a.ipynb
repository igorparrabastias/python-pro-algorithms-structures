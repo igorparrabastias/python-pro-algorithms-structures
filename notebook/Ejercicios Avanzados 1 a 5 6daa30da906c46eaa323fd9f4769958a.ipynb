{
 "cells": [
  {
   "cell_type": "markdown",
   "id": "8de1d12b",
   "metadata": {},
   "source": [
    "# Ejercicios Avanzados 1 a 5\n",
    "\n",
    "### Ejercicio 1: Búsqueda Binaria en un Arreglo Rotado\n",
    "\n",
    "Dado un arreglo de números enteros rotado en un punto desconocido (por ejemplo, `[4, 5, 6, 7, 0, 1, 2]`), implementa una búsqueda binaria para encontrar un número objetivo dado.\n",
    "\n",
    "**Solución**:"
   ]
  },
  {
   "cell_type": "code",
   "execution_count": null,
   "id": "94ba55d9",
   "metadata": {},
   "outputs": [],
   "source": [
    "def busqueda_binaria_rotada(arr, objetivo):\n",
    "    inicio, fin = 0, len(arr) - 1\n",
    "    while inicio <= fin:\n",
    "        medio = (inicio + fin) // 2\n",
    "        if arr[medio] == objetivo:\n",
    "            return medio\n",
    "        if arr[inicio] <= arr[medio]:\n",
    "            if arr[inicio] <= objetivo < arr[medio]:\n",
    "                fin = medio - 1\n",
    "            else:\n",
    "                inicio = medio + 1\n",
    "        else:\n",
    "            if arr[medio] < objetivo <= arr[fin]:\n",
    "                inicio = medio + 1\n",
    "            else:\n",
    "                fin = medio - 1\n",
    "    return -1\n",
    "\n",
    "arr = [4, 5, 6, 7, 0, 1, 2]\n",
    "objetivo = 1\n",
    "print(\"Índice del objetivo:\", busqueda_binaria_rotada(arr, objetivo))\n"
   ]
  },
  {
   "cell_type": "markdown",
   "id": "7af55d5c",
   "metadata": {},
   "source": [
    "### Ejercicio 2: Encuentra el Punto de Rotación\n",
    "\n",
    "Encuentra el índice del punto de rotación en un arreglo rotado como `[3, 4, 5, 1, 2]`.\n",
    "\n",
    "**Solución**:"
   ]
  },
  {
   "cell_type": "code",
   "execution_count": null,
   "id": "7359bf7e",
   "metadata": {},
   "outputs": [],
   "source": [
    "def encontrar_punto_rotacion(arr):\n",
    "    inicio, fin = 0, len(arr) - 1\n",
    "    while inicio < fin:\n",
    "        medio = (inicio + fin) // 2\n",
    "        if arr[medio] > arr[fin]:\n",
    "            inicio = medio + 1\n",
    "        else:\n",
    "            fin = medio\n",
    "    return inicio\n",
    "\n",
    "arr = [3, 4, 5, 1, 2]\n",
    "print(\"Índice del punto de rotación:\", encontrar_punto_rotacion(arr))\n"
   ]
  },
  {
   "cell_type": "markdown",
   "id": "a3d850b3",
   "metadata": {},
   "source": [
    "### Ejercicio 3: Búsqueda Binaria en Arreglo Infinito\n",
    "\n",
    "Suponiendo que tienes acceso a un arreglo infinito ordenado, implementa una búsqueda binaria para encontrar un objetivo sin usar el tamaño del arreglo.\n",
    "\n",
    "**Solución**:"
   ]
  },
  {
   "cell_type": "code",
   "execution_count": null,
   "id": "634542ce",
   "metadata": {},
   "outputs": [],
   "source": [
    "def busqueda_binaria_infinita(arr, objetivo):\n",
    "    inicio, fin = 0, 1\n",
    "    while arr[fin] < objetivo:\n",
    "        inicio = fin\n",
    "        fin *= 2\n",
    "    # Ahora, realiza una búsqueda binaria en el rango definido\n",
    "    while inicio <= fin:\n",
    "        medio = (inicio + fin) // 2\n",
    "        if arr[medio] == objetivo:\n",
    "            return medio\n",
    "        elif arr[medio] < objetivo:\n",
    "            inicio = medio + 1\n",
    "        else:\n",
    "            fin = medio - 1\n",
    "    return -1\n",
    "\n",
    "# Ejemplo teórico, requiere una implementación específica para manejar arreglos infinitos\n"
   ]
  },
  {
   "cell_type": "markdown",
   "id": "f6bb974f",
   "metadata": {},
   "source": [
    "### Ejercicio 4: Búsqueda de Raíz Cuadrada Entera\n",
    "\n",
    "Usa búsqueda binaria para encontrar la raíz cuadrada entera de un número entero dado sin usar funciones incorporadas.\n",
    "\n",
    "**Solución**:"
   ]
  },
  {
   "cell_type": "code",
   "execution_count": null,
   "id": "d27b192c",
   "metadata": {},
   "outputs": [],
   "source": [
    "def raiz_cuadrada_entera(n):\n",
    "    if n < 2:\n",
    "        return n\n",
    "    inicio, fin = 2, n // 2\n",
    "    while inicio <= fin:\n",
    "        medio = (inicio + fin) // 2\n",
    "        cuadrado = medio * medio\n",
    "        if cuadrado == n:\n",
    "            return medio\n",
    "        elif cuadrado < n:\n",
    "            inicio = medio + 1\n",
    "        else:\n",
    "            fin = medio - 1\n",
    "    return fin\n",
    "\n",
    "n = 16\n",
    "print(\"Raíz cuadrada entera:\", raiz_cuadrada_entera(n))\n"
   ]
  },
  {
   "cell_type": "markdown",
   "id": "3c69433a",
   "metadata": {},
   "source": [
    "### Ejercicio 5: Mínimo en Arreglo Rotado\n",
    "\n",
    "Encuentra el valor mínimo en un arreglo rotado como `[4, 5, 6, 7, 0, 1, 2]`, asumiendo que no hay duplicados.\n",
    "\n",
    "**Solución**:\n",
    "\n",
    "```python\n",
    "def encontrar_minimo_rotado(arr):\n",
    "    inicio, fin = 0, len(arr) - 1\n",
    "    while inicio < fin:\n",
    "        medio = (inicio + fin)\n",
    "```"
   ]
  }
 ],
 "metadata": {},
 "nbformat": 4,
 "nbformat_minor": 5
}
