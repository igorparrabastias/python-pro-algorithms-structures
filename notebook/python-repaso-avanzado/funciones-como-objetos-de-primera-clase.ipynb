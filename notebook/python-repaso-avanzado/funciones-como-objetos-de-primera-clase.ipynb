{
  "cells": [
    {
      "cell_type": "markdown",
      "id": "ce1f3479",
      "metadata": {},
      "source": [
        "# Funciones como Objetos de Primera Clase\n",
        "\n",
        "### Introducci\u00f3n:\n",
        "\n",
        "En Python, las funciones son objetos de primera clase. Esto significa que pueden ser pasadas y utilizadas como argumentos, asignadas a variables, y definidas dentro de otras funciones. Esta caracter\u00edstica abre un abanico de posibilidades para un programador, incluyendo t\u00e9cnicas avanzadas como cierres (closures) y funciones de orden superior.\n",
        "\n",
        "### Funciones como Objetos de Primera Clase:\n",
        "\n",
        "- **Asignaci\u00f3n de Funciones a Variables**:\n",
        "    - Las funciones pueden ser asignadas a variables y tratadas como cualquier otro objeto en Python.\n",
        "    - Ejemplo:"
      ]
    },
    {
      "cell_type": "code",
      "execution_count": null,
      "id": "fd5120f5",
      "metadata": {},
      "outputs": [],
      "source": [
        "def saludar(nombre):\n",
        "    return f\"Hola, {nombre}\"\n",
        "\n",
        "saludo = saludar\n",
        "print(saludo(\"Mundo\"))"
      ]
    },
    {
      "cell_type": "markdown",
      "id": "43d66bec",
      "metadata": {},
      "source": [
        "- **Funciones como Argumentos**:\n",
        "    - Pasar funciones como argumentos a otras funciones.\n",
        "    - Ejemplo de una funci\u00f3n que toma otra funci\u00f3n y un valor como argumentos:"
      ]
    },
    {
      "cell_type": "code",
      "execution_count": null,
      "id": "0886ede9",
      "metadata": {},
      "outputs": [],
      "source": [
        "def ejecutar_funcion(func, valor):\n",
        "    return func(valor)\n",
        "\n",
        "def cuadrado(x):\n",
        "    return x * x\n",
        "\n",
        "resultado = ejecutar_funcion(cuadrado, 4)\n",
        "print(resultado)"
      ]
    },
    {
      "cell_type": "markdown",
      "id": "97ae15e6",
      "metadata": {},
      "source": [
        "- **Funciones Anidadas y Cierres (Closures)**:\n",
        "    - Un cierre es una t\u00e9cnica en la que una funci\u00f3n retorna otra funci\u00f3n, manteniendo el estado de las variables locales incluso despu\u00e9s de que la funci\u00f3n externa haya terminado su ejecuci\u00f3n.\n",
        "    - Ejemplo de cierre:"
      ]
    },
    {
      "cell_type": "code",
      "execution_count": null,
      "id": "1707f5c8",
      "metadata": {},
      "outputs": [],
      "source": [
        "def multiplicador(n):\n",
        "    def multiplicar_por(x):\n",
        "        return x * n\n",
        "    return multiplicar_por\n",
        "\n",
        "doble = multiplicador(2)\n",
        "triple = multiplicador(3)\n",
        "\n",
        "print(doble(5))  # Resultado: 10\n",
        "print(triple(5))  # Resultado: 15"
      ]
    },
    {
      "cell_type": "markdown",
      "id": "f8a1077b",
      "metadata": {},
      "source": [
        "### Ejercicios:\n",
        "\n",
        "1. **Funci\u00f3n de Alto Orden**: Escribe una funci\u00f3n que tome una lista de n\u00fameros y una funci\u00f3n, y aplique esa funci\u00f3n a cada elemento de la lista.\n",
        "2. **Cierre para Contador**: Crea un cierre que act\u00fae como contador, manteniendo el estado de cu\u00e1ntas veces ha sido llamado.\n",
        "3. **Funci\u00f3n de Filtrado**: Implementa una funci\u00f3n que filtre los elementos de una lista bas\u00e1ndose en una funci\u00f3n condicional pasada como argumento.\n",
        "\n",
        "### Conclusi\u00f3n:\n",
        "\n",
        "Las funciones como objetos de primera clase en Python permiten un alto nivel de abstracci\u00f3n y reutilizaci\u00f3n de c\u00f3digo. Entender estos conceptos es esencial para el desarrollo de software eficiente y mantenible. En la pr\u00f3xima clase, abordaremos el interesante tema de los decoradores en Python.\n",
        "\n",
        "### Soluciones:\n",
        "\n",
        "1. **Funci\u00f3n de Alto Orden**:"
      ]
    },
    {
      "cell_type": "code",
      "execution_count": null,
      "id": "fc798e24",
      "metadata": {},
      "outputs": [],
      "source": [
        "def aplicar_funcion(func, lista):\n",
        "    return [func(x) for x in lista]\n",
        "\n",
        "resultado = aplicar_funcion(cuadrado, [1, 2, 3, 4])\n",
        "print(resultado)  # [1, 4, 9, 16]"
      ]
    },
    {
      "cell_type": "markdown",
      "id": "81e8aa77",
      "metadata": {},
      "source": [
        "2. **Cierre para Contador**:"
      ]
    },
    {
      "cell_type": "code",
      "execution_count": null,
      "id": "893a00d7",
      "metadata": {},
      "outputs": [],
      "source": [
        "def crear_contador():\n",
        "    cuenta = 0\n",
        "    def contador():\n",
        "        nonlocal cuenta\n",
        "        cuenta += 1\n",
        "        return cuenta\n",
        "    return contador\n",
        "\n",
        "mi_contador = crear_contador()\n",
        "print(mi_contador())  # 1\n",
        "print(mi_contador())  # 2"
      ]
    },
    {
      "cell_type": "markdown",
      "id": "0abe7750",
      "metadata": {},
      "source": [
        "3. **Funci\u00f3n de Filtrado**:\n",
        "    \n",
        "    ```python\n",
        "    def filtrar_lista(func, lista):\n",
        "        return [x for x in lista if func(x)]\n",
        "    \n",
        "    def es_par(x):\n",
        "        return x % 2 == 0\n",
        "    \n",
        "    lista_filtrada = filtrar_lista(es_par, [1, 2, 3, 4, 5, 6])\n",
        "    print(lista_filtrada)  # [2, 4, 6]\n",
        "    \n",
        "    ```"
      ]
    }
  ],
  "metadata": {},
  "nbformat": 4,
  "nbformat_minor": 5
}