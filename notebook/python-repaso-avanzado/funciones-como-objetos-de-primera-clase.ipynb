{
  "cells": [
    {
      "attachments": {},
      "cell_type": "markdown",
      "id": "ce1f3479",
      "metadata": {},
      "source": [
        "# Funciones como Objetos de Primera Clase\n",
        "\n",
        "### Introducción:\n",
        "\n",
        "En Python, las funciones son objetos de primera clase. Esto significa que pueden ser pasadas y utilizadas como argumentos, asignadas a variables, y definidas dentro de otras funciones. Esta característica abre un abanico de posibilidades para un programador, incluyendo técnicas avanzadas como cierres (closures) y funciones de orden superior.\n",
        "\n",
        "### Funciones como Objetos de Primera Clase:\n",
        "\n",
        "- **Asignación de Funciones a Variables**:\n",
        "    - Las funciones pueden ser asignadas a variables y tratadas como cualquier otro objeto en Python.\n",
        "    - Ejemplo:"
      ]
    },
    {
      "cell_type": "code",
      "execution_count": 6,
      "id": "fd5120f5",
      "metadata": {},
      "outputs": [
        {
          "name": "stdout",
          "output_type": "stream",
          "text": [
            "Hola, Mundo\n"
          ]
        }
      ],
      "source": [
        "def saludar(nombre):\n",
        "    return f\"Hola, {nombre}\"\n",
        "\n",
        "saludo = saludar\n",
        "print(saludo(\"Mundo\"))"
      ]
    },
    {
      "attachments": {},
      "cell_type": "markdown",
      "id": "43d66bec",
      "metadata": {},
      "source": [
        "- **Funciones como Argumentos**:\n",
        "    - Pasar funciones como argumentos a otras funciones.\n",
        "    - Ejemplo de una función que toma otra función y un valor como argumentos:"
      ]
    },
    {
      "cell_type": "code",
      "execution_count": 7,
      "id": "0886ede9",
      "metadata": {},
      "outputs": [
        {
          "name": "stdout",
          "output_type": "stream",
          "text": [
            "16\n"
          ]
        }
      ],
      "source": [
        "def ejecutar_funcion(func, valor):\n",
        "    return func(valor)\n",
        "\n",
        "def cuadrado(x):\n",
        "    return x * x\n",
        "\n",
        "resultado = ejecutar_funcion(cuadrado, 4)\n",
        "print(resultado)"
      ]
    },
    {
      "attachments": {},
      "cell_type": "markdown",
      "id": "97ae15e6",
      "metadata": {},
      "source": [
        "- **Funciones Anidadas y Cierres (Closures)**:\n",
        "    - Un cierre es una técnica en la que una función retorna otra función, manteniendo el estado de las variables locales incluso después de que la función externa haya terminado su ejecución.\n",
        "    - Ejemplo de cierre:"
      ]
    },
    {
      "cell_type": "code",
      "execution_count": 8,
      "id": "1707f5c8",
      "metadata": {},
      "outputs": [
        {
          "name": "stdout",
          "output_type": "stream",
          "text": [
            "10\n",
            "15\n"
          ]
        }
      ],
      "source": [
        "def multiplicador(n):\n",
        "    def multiplicar_por(x):\n",
        "        return x * n\n",
        "    return multiplicar_por\n",
        "\n",
        "doble = multiplicador(2)\n",
        "triple = multiplicador(3)\n",
        "\n",
        "print(doble(5))  # Resultado: 10\n",
        "print(triple(5))  # Resultado: 15"
      ]
    },
    {
      "attachments": {},
      "cell_type": "markdown",
      "id": "f8a1077b",
      "metadata": {},
      "source": [
        "### Ejercicios:\n",
        "\n",
        "1. **Función de Alto Orden**: Escribe una función que tome una lista de números y una función, y aplique esa función a cada elemento de la lista.\n",
        "2. **Cierre para Contador**: Crea un cierre que actúe como contador, manteniendo el estado de cuántas veces ha sido llamado.\n",
        "3. **Función de Filtrado**: Implementa una función que filtre los elementos de una lista basándose en una función condicional pasada como argumento.\n",
        "\n",
        "### Conclusión:\n",
        "\n",
        "Las funciones como objetos de primera clase en Python permiten un alto nivel de abstracción y reutilización de código. Entender estos conceptos es esencial para el desarrollo de software eficiente y mantenible. En la próxima clase, abordaremos el interesante tema de los decoradores en Python.\n",
        "\n",
        "### Soluciones:\n",
        "\n",
        "1. **Función de Alto Orden**:"
      ]
    },
    {
      "cell_type": "code",
      "execution_count": 9,
      "id": "fc798e24",
      "metadata": {},
      "outputs": [
        {
          "name": "stdout",
          "output_type": "stream",
          "text": [
            "[1, 4, 9, 16]\n"
          ]
        }
      ],
      "source": [
        "def aplicar_funcion(func, lista):\n",
        "    return [func(x) for x in lista]\n",
        "\n",
        "resultado = aplicar_funcion(cuadrado, [1, 2, 3, 4])\n",
        "print(resultado)  # [1, 4, 9, 16]"
      ]
    },
    {
      "attachments": {},
      "cell_type": "markdown",
      "id": "81e8aa77",
      "metadata": {},
      "source": [
        "2. **Cierre para Contador**:"
      ]
    },
    {
      "cell_type": "code",
      "execution_count": 10,
      "id": "893a00d7",
      "metadata": {},
      "outputs": [
        {
          "name": "stdout",
          "output_type": "stream",
          "text": [
            "1\n",
            "2\n"
          ]
        }
      ],
      "source": [
        "def crear_contador():\n",
        "    cuenta = 0\n",
        "    def contador():\n",
        "        nonlocal cuenta\n",
        "        cuenta += 1\n",
        "        return cuenta\n",
        "    return contador\n",
        "\n",
        "mi_contador = crear_contador()\n",
        "print(mi_contador())  # 1\n",
        "print(mi_contador())  # 2"
      ]
    },
    {
      "attachments": {},
      "cell_type": "markdown",
      "id": "0abe7750",
      "metadata": {},
      "source": [
        "3. **Función de Filtrado**:"
      ]
    },
    {
      "cell_type": "code",
      "execution_count": 11,
      "id": "cf8af2c7",
      "metadata": {},
      "outputs": [
        {
          "name": "stdout",
          "output_type": "stream",
          "text": [
            "[2, 4, 6]\n"
          ]
        }
      ],
      "source": [
        "def filtrar_lista(func, lista):\n",
        "    return [x for x in lista if func(x)]\n",
        "\n",
        "def es_par(x):\n",
        "    return x % 2 == 0\n",
        "\n",
        "lista_filtrada = filtrar_lista(es_par, [1, 2, 3, 4, 5, 6])\n",
        "print(lista_filtrada)  # [2, 4, 6]"
      ]
    }
  ],
  "metadata": {
    "kernelspec": {
      "display_name": "Python 3",
      "language": "python",
      "name": "python3"
    },
    "language_info": {
      "codemirror_mode": {
        "name": "ipython",
        "version": 3
      },
      "file_extension": ".py",
      "mimetype": "text/x-python",
      "name": "python",
      "nbconvert_exporter": "python",
      "pygments_lexer": "ipython3",
      "version": "3.8.10"
    }
  },
  "nbformat": 4,
  "nbformat_minor": 5
}
