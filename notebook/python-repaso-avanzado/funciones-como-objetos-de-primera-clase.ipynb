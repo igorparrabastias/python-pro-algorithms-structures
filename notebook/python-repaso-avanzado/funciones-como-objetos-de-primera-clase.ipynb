{
 "cells": [
  {
   "cell_type": "markdown",
   "id": "36067c26",
   "metadata": {},
   "source": [
    "# Funciones como Objetos de Primera Clase\n",
    "\n",
    "### Introducción:\n",
    "\n",
    "En Python, las funciones son objetos de primera clase. Esto significa que pueden ser pasadas y utilizadas como argumentos, asignadas a variables, y definidas dentro de otras funciones. Esta característica abre un abanico de posibilidades para un programador, incluyendo técnicas avanzadas como cierres (closures) y funciones de orden superior.\n",
    "\n",
    "### Funciones como Objetos de Primera Clase:\n",
    "\n",
    "- **Asignación de Funciones a Variables**:\n",
    "    - Las funciones pueden ser asignadas a variables y tratadas como cualquier otro objeto en Python.\n",
    "    - Ejemplo:"
   ]
  },
  {
   "cell_type": "code",
   "execution_count": null,
   "id": "8f81303c",
   "metadata": {},
   "outputs": [],
   "source": [
    "```python\n",
    "def saludar(nombre):\n",
    "    return f\"Hola, {nombre}\"\n",
    "\n",
    "saludo = saludar\n",
    "print(saludo(\"Mundo\"))\n",
    "\n",
    "```"
   ]
  },
  {
   "cell_type": "markdown",
   "id": "fdeb55a0",
   "metadata": {},
   "source": [
    "- **Funciones como Argumentos**:\n",
    "    - Pasar funciones como argumentos a otras funciones.\n",
    "    - Ejemplo de una función que toma otra función y un valor como argumentos:"
   ]
  },
  {
   "cell_type": "code",
   "execution_count": null,
   "id": "7c009cb6",
   "metadata": {},
   "outputs": [],
   "source": [
    "```python\n",
    "def ejecutar_funcion(func, valor):\n",
    "    return func(valor)\n",
    "\n",
    "def cuadrado(x):\n",
    "    return x * x\n",
    "\n",
    "resultado = ejecutar_funcion(cuadrado, 4)\n",
    "print(resultado)\n",
    "\n",
    "```"
   ]
  },
  {
   "cell_type": "markdown",
   "id": "70930b76",
   "metadata": {},
   "source": [
    "- **Funciones Anidadas y Cierres (Closures)**:\n",
    "    - Un cierre es una técnica en la que una función retorna otra función, manteniendo el estado de las variables locales incluso después de que la función externa haya terminado su ejecución.\n",
    "    - Ejemplo de cierre:"
   ]
  },
  {
   "cell_type": "code",
   "execution_count": null,
   "id": "b6adf7d5",
   "metadata": {},
   "outputs": [],
   "source": [
    "```python\n",
    "def multiplicador(n):\n",
    "    def multiplicar_por(x):\n",
    "        return x * n\n",
    "    return multiplicar_por\n",
    "\n",
    "doble = multiplicador(2)\n",
    "triple = multiplicador(3)\n",
    "\n",
    "print(doble(5))  # Resultado: 10\n",
    "print(triple(5))  # Resultado: 15\n",
    "\n",
    "```\n"
   ]
  },
  {
   "cell_type": "markdown",
   "id": "b4a21658",
   "metadata": {},
   "source": [
    "### Ejercicios:\n",
    "\n",
    "1. **Función de Alto Orden**: Escribe una función que tome una lista de números y una función, y aplique esa función a cada elemento de la lista.\n",
    "2. **Cierre para Contador**: Crea un cierre que actúe como contador, manteniendo el estado de cuántas veces ha sido llamado.\n",
    "3. **Función de Filtrado**: Implementa una función que filtre los elementos de una lista basándose en una función condicional pasada como argumento.\n",
    "\n",
    "### Conclusión:\n",
    "\n",
    "Las funciones como objetos de primera clase en Python permiten un alto nivel de abstracción y reutilización de código. Entender estos conceptos es esencial para el desarrollo de software eficiente y mantenible. En la próxima clase, abordaremos el interesante tema de los decoradores en Python.\n",
    "\n",
    "### Soluciones:\n",
    "\n",
    "1. **Función de Alto Orden**:"
   ]
  },
  {
   "cell_type": "code",
   "execution_count": null,
   "id": "cc69e6b1",
   "metadata": {},
   "outputs": [],
   "source": [
    "```python\n",
    "def aplicar_funcion(func, lista):\n",
    "    return [func(x) for x in lista]\n",
    "\n",
    "resultado = aplicar_funcion(cuadrado, [1, 2, 3, 4])\n",
    "print(resultado)  # [1, 4, 9, 16]\n",
    "\n",
    "```"
   ]
  },
  {
   "cell_type": "markdown",
   "id": "cfa340f8",
   "metadata": {},
   "source": [
    "2. **Cierre para Contador**:"
   ]
  },
  {
   "cell_type": "code",
   "execution_count": null,
   "id": "d696ddb8",
   "metadata": {},
   "outputs": [],
   "source": [
    "```python\n",
    "def crear_contador():\n",
    "    cuenta = 0\n",
    "    def contador():\n",
    "        nonlocal cuenta\n",
    "        cuenta += 1\n",
    "        return cuenta\n",
    "    return contador\n",
    "\n",
    "mi_contador = crear_contador()\n",
    "print(mi_contador())  # 1\n",
    "print(mi_contador())  # 2\n",
    "\n",
    "```"
   ]
  },
  {
   "cell_type": "markdown",
   "id": "7168c6e8",
   "metadata": {},
   "source": [
    "3. **Función de Filtrado**:\n",
    "    \n",
    "    ```python\n",
    "    def filtrar_lista(func, lista):\n",
    "        return [x for x in lista if func(x)]\n",
    "    \n",
    "    def es_par(x):\n",
    "        return x % 2 == 0\n",
    "    \n",
    "    lista_filtrada = filtrar_lista(es_par, [1, 2, 3, 4, 5, 6])\n",
    "    print(lista_filtrada)  # [2, 4, 6]\n",
    "    \n",
    "    ```"
   ]
  }
 ],
 "metadata": {},
 "nbformat": 4,
 "nbformat_minor": 5
}
