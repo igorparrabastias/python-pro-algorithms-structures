{
  "cells": [
    {
      "attachments": {},
      "cell_type": "markdown",
      "id": "909e5ff5",
      "metadata": {},
      "source": [
        "# Lambdas y Funciones Anónimas\n",
        "\n",
        "### Introducción:\n",
        "\n",
        "Las funciones lambda, también conocidas como funciones anónimas, son una característica poderosa y expresiva de Python. Proporcionan una forma concisa de representar pequeñas funciones. En esta clase, aprenderemos sobre el uso y las aplicaciones de las funciones lambda y cómo se comparan con las funciones regulares.\n",
        "\n",
        "### Uso de Funciones Lambda:\n",
        "\n",
        "- **Sintaxis de Lambda**:\n",
        "    - Las funciones lambda se definen con la palabra clave `lambda` seguida de argumentos, dos puntos y la expresión que define lo que retorna la función.\n",
        "    - Ejemplo básico:"
      ]
    },
    {
      "cell_type": "code",
      "execution_count": 1,
      "id": "9b4cd384",
      "metadata": {},
      "outputs": [
        {
          "name": "stdout",
          "output_type": "stream",
          "text": [
            "8\n"
          ]
        }
      ],
      "source": [
        "sumar = lambda x, y: x + y\n",
        "print(sumar(5, 3))  # Resultado: 8"
      ]
    },
    {
      "attachments": {},
      "cell_type": "markdown",
      "id": "71c96167",
      "metadata": {},
      "source": [
        "- **Aplicaciones Comunes**:\n",
        "    - **Ordenación Personalizada**:\n",
        "        - Lambdas son útiles para definir cómo se deben ordenar los elementos en funciones como `sorted()` o el método `sort()`.\n",
        "        - Ejemplo de ordenar una lista de tuplas basado en el segundo elemento:"
      ]
    },
    {
      "cell_type": "code",
      "execution_count": 2,
      "id": "a60d4f2e",
      "metadata": {},
      "outputs": [
        {
          "name": "stdout",
          "output_type": "stream",
          "text": [
            "[(2, 'a'), (1, 'b'), (0, 'c')]\n"
          ]
        }
      ],
      "source": [
        "lista = [(1, 'b'), (2, 'a'), (0, 'c')]\n",
        "lista.sort(key=lambda x: x[1])\n",
        "print(lista)  # [(2, 'a'), (1, 'b'), (0, 'c')]"
      ]
    },
    {
      "attachments": {},
      "cell_type": "markdown",
      "id": "329fe66d",
      "metadata": {},
      "source": [
        "- **Uso con `filter()` y `map()`**:\n",
        "        - `filter()`: para filtrar elementos de una secuencia.\n",
        "        - `map()`: para aplicar una operación a cada elemento de una secuencia.\n",
        "        - Ejemplo con `map()` para elevar al cuadrado todos los elementos de una lista:"
      ]
    },
    {
      "cell_type": "code",
      "execution_count": 3,
      "id": "48cc42d1",
      "metadata": {},
      "outputs": [
        {
          "name": "stdout",
          "output_type": "stream",
          "text": [
            "[1, 4, 9, 16, 25]\n"
          ]
        }
      ],
      "source": [
        "numeros = [1, 2, 3, 4, 5]\n",
        "cuadrados = list(map(lambda x: x**2, numeros))\n",
        "print(cuadrados)  # [1, 4, 9, 16, 25]"
      ]
    },
    {
      "attachments": {},
      "cell_type": "markdown",
      "id": "39bcb9d2",
      "metadata": {},
      "source": [
        "### Comparación con Funciones Regulares:\n",
        "\n",
        "- **Verbosidad**:\n",
        "    - Las funciones regulares se definen con `def` y pueden consistir en múltiples expresiones y declaraciones.\n",
        "    - Las funciones lambda están limitadas a una sola expresión.\n",
        "- **Reusabilidad**:\n",
        "    - Las funciones regulares pueden ser referenciadas por su nombre y reutilizadas en diferentes partes del código.\n",
        "    - Las funciones lambda son anónimas y se utilizan cuando se necesitan funciones pequeñas y de un solo uso.\n",
        "- **Legibilidad**:\n",
        "    - Las funciones regulares son más legibles, especialmente para operaciones complejas.\n",
        "    - Las funciones lambda son ideales para operaciones cortas y sencillas que son fáciles de entender en una sola línea.\n",
        "\n",
        "### Ejercicios:\n",
        "\n",
        "1. **Lambda para Ordenar**: Usa una función lambda para ordenar una lista de cadenas por su longitud.\n",
        "2. **Filtrar con Lambda**: Utiliza `filter()` y una función lambda para filtrar los números impares de una lista.\n",
        "3. **Convertir a Mayúsculas**: Aplica una función lambda con `map()` para convertir todas las cadenas de una lista a mayúsculas.\n",
        "\n",
        "### Conclusión:\n",
        "\n",
        "Las funciones lambda son una herramienta valiosa en Python, especialmente para casos donde se requieren pequeñas funciones sin nombre para operaciones breves y específicas. Sin embargo, para funciones más complejas o que se requieren en varios lugares, es preferible utilizar funciones regulares por su claridad y facilidad de mantenimiento.\n",
        "\n",
        "### Ejercicio 1: Lambda para Ordenar\n",
        "\n",
        "Objetivo: Ordenar una lista de cadenas (`strings`) por su longitud utilizando una función lambda."
      ]
    },
    {
      "cell_type": "code",
      "execution_count": 4,
      "id": "cb06868b",
      "metadata": {},
      "outputs": [
        {
          "name": "stdout",
          "output_type": "stream",
          "text": [
            "['kiwi', 'apple', 'mango', 'banana', 'cherry']\n"
          ]
        }
      ],
      "source": [
        "# Lista de cadenas\n",
        "strings_list = [\"apple\", \"banana\", \"cherry\", \"kiwi\", \"mango\"]\n",
        "\n",
        "# Ordenar la lista por la longitud de cada cadena\n",
        "sorted_strings = sorted(strings_list, key=lambda x: len(x))\n",
        "\n",
        "print(sorted_strings)  # Resultado: ['kiwi', 'apple', 'mango', 'banana', 'cherry']"
      ]
    },
    {
      "attachments": {},
      "cell_type": "markdown",
      "id": "fed3b4d2",
      "metadata": {},
      "source": [
        "### Ejercicio 2: Filtrar con Lambda\n",
        "\n",
        "Objetivo: Utilizar `filter()` y una función lambda para filtrar los números impares de una lista."
      ]
    },
    {
      "cell_type": "code",
      "execution_count": 5,
      "id": "7adda38d",
      "metadata": {},
      "outputs": [
        {
          "name": "stdout",
          "output_type": "stream",
          "text": [
            "[1, 3, 5, 7, 9]\n"
          ]
        }
      ],
      "source": [
        "# Lista de números\n",
        "numbers_list = [1, 2, 3, 4, 5, 6, 7, 8, 9, 10]\n",
        "\n",
        "# Filtrar los números impares\n",
        "odd_numbers = list(filter(lambda x: x % 2 != 0, numbers_list))\n",
        "\n",
        "print(odd_numbers)  # Resultado: [1, 3, 5, 7, 9]"
      ]
    },
    {
      "attachments": {},
      "cell_type": "markdown",
      "id": "2cfe4499",
      "metadata": {},
      "source": [
        "### Ejercicio 3: Convertir a Mayúsculas\n",
        "\n",
        "Objetivo: Aplicar una función lambda con `map()` para convertir todas las cadenas de una lista a mayúsculas."
      ]
    },
    {
      "cell_type": "code",
      "execution_count": 6,
      "id": "bb974cd0",
      "metadata": {},
      "outputs": [
        {
          "name": "stdout",
          "output_type": "stream",
          "text": [
            "['APPLE', 'BANANA', 'CHERRY']\n"
          ]
        }
      ],
      "source": [
        "# Lista de cadenas\n",
        "fruits_list = [\"apple\", \"banana\", \"cherry\"]\n",
        "\n",
        "# Convertir todas las cadenas a mayúsculas\n",
        "uppercase_fruits = list(map(lambda x: x.upper(), fruits_list))\n",
        "\n",
        "print(uppercase_fruits)  # Resultado: ['APPLE', 'BANANA', 'CHERRY']"
      ]
    },
    {
      "attachments": {},
      "cell_type": "markdown",
      "id": "f3d10ed3",
      "metadata": {},
      "source": [
        "Cada uno de estos ejemplos demuestra el uso efectivo de las funciones lambda en Python para realizar tareas comunes de procesamiento de datos de manera concisa y eficiente."
      ]
    }
  ],
  "metadata": {
    "kernelspec": {
      "display_name": "Python 3",
      "language": "python",
      "name": "python3"
    },
    "language_info": {
      "codemirror_mode": {
        "name": "ipython",
        "version": 3
      },
      "file_extension": ".py",
      "mimetype": "text/x-python",
      "name": "python",
      "nbconvert_exporter": "python",
      "pygments_lexer": "ipython3",
      "version": "3.8.10"
    }
  },
  "nbformat": 4,
  "nbformat_minor": 5
}
