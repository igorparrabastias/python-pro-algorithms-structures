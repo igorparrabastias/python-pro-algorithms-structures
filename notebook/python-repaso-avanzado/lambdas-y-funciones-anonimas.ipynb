{
  "cells": [
    {
      "cell_type": "markdown",
      "id": "909e5ff5",
      "metadata": {},
      "source": [
        "# Lambdas y Funciones An\u00f3nimas\n",
        "\n",
        "### Introducci\u00f3n:\n",
        "\n",
        "Las funciones lambda, tambi\u00e9n conocidas como funciones an\u00f3nimas, son una caracter\u00edstica poderosa y expresiva de Python. Proporcionan una forma concisa de representar peque\u00f1as funciones. En esta clase, aprenderemos sobre el uso y las aplicaciones de las funciones lambda y c\u00f3mo se comparan con las funciones regulares.\n",
        "\n",
        "### Uso de Funciones Lambda:\n",
        "\n",
        "- **Sintaxis de Lambda**:\n",
        "    - Las funciones lambda se definen con la palabra clave `lambda` seguida de argumentos, dos puntos y la expresi\u00f3n que define lo que retorna la funci\u00f3n.\n",
        "    - Ejemplo b\u00e1sico:"
      ]
    },
    {
      "cell_type": "code",
      "execution_count": null,
      "id": "9b4cd384",
      "metadata": {},
      "outputs": [],
      "source": [
        "sumar = lambda x, y: x + y\n",
        "print(sumar(5, 3))  # Resultado: 8"
      ]
    },
    {
      "cell_type": "markdown",
      "id": "71c96167",
      "metadata": {},
      "source": [
        "- **Aplicaciones Comunes**:\n",
        "    - **Ordenaci\u00f3n Personalizada**:\n",
        "        - Lambdas son \u00fatiles para definir c\u00f3mo se deben ordenar los elementos en funciones como `sorted()` o el m\u00e9todo `sort()`.\n",
        "        - Ejemplo de ordenar una lista de tuplas basado en el segundo elemento:"
      ]
    },
    {
      "cell_type": "code",
      "execution_count": null,
      "id": "a60d4f2e",
      "metadata": {},
      "outputs": [],
      "source": [
        "lista = [(1, 'b'), (2, 'a'), (0, 'c')]\n",
        "lista.sort(key=lambda x: x[1])\n",
        "print(lista)  # [(2, 'a'), (1, 'b'), (0, 'c')]"
      ]
    },
    {
      "cell_type": "markdown",
      "id": "329fe66d",
      "metadata": {},
      "source": [
        "- **Uso con `filter()` y `map()`**:\n",
        "        - `filter()`: para filtrar elementos de una secuencia.\n",
        "        - `map()`: para aplicar una operaci\u00f3n a cada elemento de una secuencia.\n",
        "        - Ejemplo con `map()` para elevar al cuadrado todos los elementos de una lista:"
      ]
    },
    {
      "cell_type": "code",
      "execution_count": null,
      "id": "48cc42d1",
      "metadata": {},
      "outputs": [],
      "source": [
        "numeros = [1, 2, 3, 4, 5]\n",
        "cuadrados = list(map(lambda x: x**2, numeros))\n",
        "print(cuadrados)  # [1, 4, 9, 16, 25]"
      ]
    },
    {
      "cell_type": "markdown",
      "id": "39bcb9d2",
      "metadata": {},
      "source": [
        "### Comparaci\u00f3n con Funciones Regulares:\n",
        "\n",
        "- **Verbosidad**:\n",
        "    - Las funciones regulares se definen con `def` y pueden consistir en m\u00faltiples expresiones y declaraciones.\n",
        "    - Las funciones lambda est\u00e1n limitadas a una sola expresi\u00f3n.\n",
        "- **Reusabilidad**:\n",
        "    - Las funciones regulares pueden ser referenciadas por su nombre y reutilizadas en diferentes partes del c\u00f3digo.\n",
        "    - Las funciones lambda son an\u00f3nimas y se utilizan cuando se necesitan funciones peque\u00f1as y de un solo uso.\n",
        "- **Legibilidad**:\n",
        "    - Las funciones regulares son m\u00e1s legibles, especialmente para operaciones complejas.\n",
        "    - Las funciones lambda son ideales para operaciones cortas y sencillas que son f\u00e1ciles de entender en una sola l\u00ednea.\n",
        "\n",
        "### Ejercicios:\n",
        "\n",
        "1. **Lambda para Ordenar**: Usa una funci\u00f3n lambda para ordenar una lista de cadenas por su longitud.\n",
        "2. **Filtrar con Lambda**: Utiliza `filter()` y una funci\u00f3n lambda para filtrar los n\u00fameros impares de una lista.\n",
        "3. **Convertir a May\u00fasculas**: Aplica una funci\u00f3n lambda con `map()` para convertir todas las cadenas de una lista a may\u00fasculas.\n",
        "\n",
        "### Conclusi\u00f3n:\n",
        "\n",
        "Las funciones lambda son una herramienta valiosa en Python, especialmente para casos donde se requieren peque\u00f1as funciones sin nombre para operaciones breves y espec\u00edficas. Sin embargo, para funciones m\u00e1s complejas o que se requieren en varios lugares, es preferible utilizar funciones regulares por su claridad y facilidad de mantenimiento.\n",
        "\n",
        "### Ejercicio 1: Lambda para Ordenar\n",
        "\n",
        "Objetivo: Ordenar una lista de cadenas (`strings`) por su longitud utilizando una funci\u00f3n lambda."
      ]
    },
    {
      "cell_type": "code",
      "execution_count": null,
      "id": "cb06868b",
      "metadata": {},
      "outputs": [],
      "source": [
        "# Lista de cadenas\n",
        "strings_list = [\"apple\", \"banana\", \"cherry\", \"kiwi\", \"mango\"]\n",
        "\n",
        "# Ordenar la lista por la longitud de cada cadena\n",
        "sorted_strings = sorted(strings_list, key=lambda x: len(x))\n",
        "\n",
        "print(sorted_strings)  # Resultado: ['kiwi', 'apple', 'mango', 'banana', 'cherry']"
      ]
    },
    {
      "cell_type": "markdown",
      "id": "fed3b4d2",
      "metadata": {},
      "source": [
        "### Ejercicio 2: Filtrar con Lambda\n",
        "\n",
        "Objetivo: Utilizar `filter()` y una funci\u00f3n lambda para filtrar los n\u00fameros impares de una lista."
      ]
    },
    {
      "cell_type": "code",
      "execution_count": null,
      "id": "7adda38d",
      "metadata": {},
      "outputs": [],
      "source": [
        "# Lista de n\u00fameros\n",
        "numbers_list = [1, 2, 3, 4, 5, 6, 7, 8, 9, 10]\n",
        "\n",
        "# Filtrar los n\u00fameros impares\n",
        "odd_numbers = list(filter(lambda x: x % 2 != 0, numbers_list))\n",
        "\n",
        "print(odd_numbers)  # Resultado: [1, 3, 5, 7, 9]"
      ]
    },
    {
      "cell_type": "markdown",
      "id": "2cfe4499",
      "metadata": {},
      "source": [
        "### Ejercicio 3: Convertir a May\u00fasculas\n",
        "\n",
        "Objetivo: Aplicar una funci\u00f3n lambda con `map()` para convertir todas las cadenas de una lista a may\u00fasculas."
      ]
    },
    {
      "cell_type": "code",
      "execution_count": null,
      "id": "bb974cd0",
      "metadata": {},
      "outputs": [],
      "source": [
        "# Lista de cadenas\n",
        "fruits_list = [\"apple\", \"banana\", \"cherry\"]\n",
        "\n",
        "# Convertir todas las cadenas a may\u00fasculas\n",
        "uppercase_fruits = list(map(lambda x: x.upper(), fruits_list))\n",
        "\n",
        "print(uppercase_fruits)  # Resultado: ['APPLE', 'BANANA', 'CHERRY']"
      ]
    },
    {
      "cell_type": "markdown",
      "id": "f3d10ed3",
      "metadata": {},
      "source": [
        "Cada uno de estos ejemplos demuestra el uso efectivo de las funciones lambda en Python para realizar tareas comunes de procesamiento de datos de manera concisa y eficiente."
      ]
    }
  ],
  "metadata": {},
  "nbformat": 4,
  "nbformat_minor": 5
}