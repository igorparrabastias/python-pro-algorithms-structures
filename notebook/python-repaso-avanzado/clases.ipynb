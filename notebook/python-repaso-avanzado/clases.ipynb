{
  "cells": [
    {
      "attachments": {},
      "cell_type": "markdown",
      "id": "f25333ad",
      "metadata": {},
      "source": [
        "# Clases\n",
        "\n",
        "### Introducción:\n",
        "\n",
        "Las clases son un pilar fundamental de la programación orientada a objetos en Python. Permiten a los desarrolladores crear sus propios tipos de datos, encapsulando datos y funciones juntos. En esta clase, exploraremos cómo definir clases, instanciar objetos y utilizar la herencia para reutilizar y extender funcionalidades.\n",
        "\n",
        "### Definición y Uso de Clases:\n",
        "\n",
        "- **Creación de una Clase Simple**:\n",
        "    - Para definir una clase en Python, se utiliza la palabra clave `class`. Los nombres de clases suelen comenzar con una letra mayúscula.\n",
        "    - Ejemplo de una clase `Car` con algunos atributos y métodos:"
      ]
    },
    {
      "cell_type": "code",
      "execution_count": 1,
      "id": "1cdbaf60",
      "metadata": {},
      "outputs": [
        {
          "name": "stdout",
          "output_type": "stream",
          "text": [
            "2020 Toyota Corolla\n"
          ]
        }
      ],
      "source": [
        "class Car:\n",
        "    # Método inicializador o constructor\n",
        "    def __init__(self, brand, model, year):\n",
        "        self.brand = brand  # Marca del coche\n",
        "        self.model = model  # Modelo del coche\n",
        "        self.year = year    # Año del coche\n",
        "        self.odometer_reading = 0  # Lectura inicial del odómetro, por defecto 0\n",
        "\n",
        "    # Método para describir el coche\n",
        "    def describe_car(self):\n",
        "        return f\"{self.year} {self.brand} {self.model}\"\n",
        "\n",
        "    # Método para leer el odómetro\n",
        "    def read_odometer(self):\n",
        "        return f\"Este coche tiene {self.odometer_reading} kilómetros.\"\n",
        "\n",
        "    # Método para actualizar el odómetro\n",
        "    def update_odometer(self, km):\n",
        "        if km >= self.odometer_reading:\n",
        "            self.odometer_reading = km\n",
        "        else:\n",
        "            print(\"No se puede reducir la lectura del odómetro.\")\n",
        "\n",
        "# Instanciando un objeto de la clase Car\n",
        "my_car = Car('Toyota', 'Corolla', 2020)\n",
        "print(my_car.describe_car())"
      ]
    },
    {
      "attachments": {},
      "cell_type": "markdown",
      "id": "ec9c67a7",
      "metadata": {},
      "source": [
        "- **Encapsulación**:\n",
        "    - La encapsulación se refiere a restringir el acceso a los atributos y métodos internos de la clase.\n",
        "    - Esto se logra mediante el uso de atributos privados, utilizando el prefijo **`__`**."
      ]
    },
    {
      "cell_type": "code",
      "execution_count": 2,
      "id": "90cbd4b8",
      "metadata": {},
      "outputs": [
        {
          "name": "stdout",
          "output_type": "stream",
          "text": [
            "Agregados 100 a la cuenta\n",
            "Balance actual: 100\n"
          ]
        }
      ],
      "source": [
        "class Account:\n",
        "    def __init__(self, owner, balance=0):\n",
        "        self.owner = owner\n",
        "        self.__balance = balance  # Atributo privado\n",
        "\n",
        "    # Método para depositar dinero\n",
        "    def deposit(self, amount):\n",
        "        if amount > 0:\n",
        "            self.__balance += amount\n",
        "            print(f\"Agregados {amount} a la cuenta\")\n",
        "\n",
        "    # Método para consultar el balance\n",
        "    def show_balance(self):\n",
        "        print(f\"Balance actual: {self.__balance}\")\n",
        "\n",
        "my_account = Account(\"Juan\")\n",
        "my_account.deposit(100)\n",
        "my_account.show_balance()"
      ]
    },
    {
      "attachments": {},
      "cell_type": "markdown",
      "id": "e6ca1c4e",
      "metadata": {},
      "source": [
        "- **Herencia**:\n",
        "    - La herencia permite crear una nueva clase que tome las características de una clase existente.\n",
        "    - Ejemplo de una clase `ElectricCar` que hereda de `Car` y agrega un nuevo atributo:"
      ]
    },
    {
      "cell_type": "code",
      "execution_count": 3,
      "id": "dfaf8831",
      "metadata": {},
      "outputs": [
        {
          "name": "stdout",
          "output_type": "stream",
          "text": [
            "2019 Tesla Model S\n",
            "Este coche tiene una batería de 75-kWh.\n"
          ]
        }
      ],
      "source": [
        "class ElectricCar(Car):  # La clase ElectricCar hereda de la clase Car\n",
        "    def __init__(self, brand, model, year):\n",
        "        super().__init__(brand, model, year)  # Inicializa atributos de la clase padre\n",
        "        self.battery_size = 75  # Atributo específico de coches eléctricos\n",
        "\n",
        "    # Método específico para describir la batería\n",
        "    def describe_battery(self):\n",
        "        return f\"Este coche tiene una batería de {self.battery_size}-kWh.\"\n",
        "\n",
        "# Instanciando un objeto de la clase ElectricCar\n",
        "my_tesla = ElectricCar('Tesla', 'Model S', 2019)\n",
        "print(my_tesla.describe_car())\n",
        "print(my_tesla.describe_battery())"
      ]
    },
    {
      "attachments": {},
      "cell_type": "markdown",
      "id": "7e206098",
      "metadata": {},
      "source": [
        "### Ejercicios:\n",
        "\n",
        "1. **Clase `Bicycle`**: Define una clase `Bicycle` con atributos como `brand`, `model`, y `year`, y métodos para `describe_bicycle` y `update_year`.\n",
        "2. **Herencia en Bicicletas Eléctricas**: Crea una clase `ElectricBicycle` que herede de `Bicycle` y agregue un atributo `battery_size` y un método `describe_battery`.\n",
        "\n",
        "### Conclusión:\n",
        "\n",
        "Las clases en Python son herramientas poderosas para la modelación de datos y comportamientos en la programación. A través de la herencia, es posible extender las funcionalidades de clases existentes de manera eficiente, promoviendo la reutilización del código. La práctica y comprensión de estos conceptos son esenciales para avanzar en la programación orientada a objetos.\n",
        "\n",
        "### Soluciones:\n",
        "\n",
        "1. **Clase `Bicycle`**:"
      ]
    },
    {
      "cell_type": "code",
      "execution_count": 4,
      "id": "97b95048",
      "metadata": {},
      "outputs": [
        {
          "name": "stdout",
          "output_type": "stream",
          "text": [
            "2021 Trek Emonda\n",
            "2022 Trek Emonda\n"
          ]
        }
      ],
      "source": [
        "class Bicycle:\n",
        "    def __init__(self, brand, model, year):\n",
        "        self.brand = brand\n",
        "        self.model = model\n",
        "        self.year = year\n",
        "\n",
        "    def describe_bicycle(self):\n",
        "        return f\"{self.year} {self.brand} {self.model}\"\n",
        "\n",
        "    def update_year(self, year):\n",
        "        self.year = year\n",
        "\n",
        "my_bike = Bicycle('Trek', 'Emonda', 2021)\n",
        "print(my_bike.describe_bicycle())\n",
        "my_bike.update_year(2022)\n",
        "print(my_bike.describe_bicycle())"
      ]
    },
    {
      "attachments": {},
      "cell_type": "markdown",
      "id": "eef33a62",
      "metadata": {},
      "source": [
        "2. **Herencia en Bicicletas Eléctricas**:"
      ]
    },
    {
      "cell_type": "code",
      "execution_count": 5,
      "id": "bc79cf2e",
      "metadata": {},
      "outputs": [
        {
          "name": "stdout",
          "output_type": "stream",
          "text": [
            "2022 Specialized Turbo Levo\n",
            "Esta bicicleta tiene una batería de 500 Wh.\n"
          ]
        }
      ],
      "source": [
        "class ElectricBicycle(Bicycle):\n",
        "    def __init__(self, brand, model, year):\n",
        "        super().__init__(brand, model, year)\n",
        "        self.battery_size = 500  # Supongamos que es en Wh\n",
        "        \n",
        "    def describe_battery(self):\n",
        "        return f\"Esta bicicleta tiene una batería de {self.battery_size} Wh.\"\n",
        "\n",
        "my_ebike = ElectricBicycle('Specialized', 'Turbo Levo', 2022)\n",
        "print(my_ebike.describe_bicycle())\n",
        "print(my_ebike.describe_battery())"
      ]
    }
  ],
  "metadata": {
    "kernelspec": {
      "display_name": "Python 3",
      "language": "python",
      "name": "python3"
    },
    "language_info": {
      "codemirror_mode": {
        "name": "ipython",
        "version": 3
      },
      "file_extension": ".py",
      "mimetype": "text/x-python",
      "name": "python",
      "nbconvert_exporter": "python",
      "pygments_lexer": "ipython3",
      "version": "3.8.10"
    }
  },
  "nbformat": 4,
  "nbformat_minor": 5
}
