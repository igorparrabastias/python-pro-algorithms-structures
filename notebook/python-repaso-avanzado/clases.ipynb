{
  "cells": [
    {
      "cell_type": "markdown",
      "id": "f25333ad",
      "metadata": {},
      "source": [
        "# Clases\n",
        "\n",
        "### Introducci\u00f3n:\n",
        "\n",
        "Las clases son un pilar fundamental de la programaci\u00f3n orientada a objetos en Python. Permiten a los desarrolladores crear sus propios tipos de datos, encapsulando datos y funciones juntos. En esta clase, exploraremos c\u00f3mo definir clases, instanciar objetos y utilizar la herencia para reutilizar y extender funcionalidades.\n",
        "\n",
        "### Definici\u00f3n y Uso de Clases:\n",
        "\n",
        "- **Creaci\u00f3n de una Clase Simple**:\n",
        "    - Para definir una clase en Python, se utiliza la palabra clave `class`. Los nombres de clases suelen comenzar con una letra may\u00fascula.\n",
        "    - Ejemplo de una clase `Car` con algunos atributos y m\u00e9todos:"
      ]
    },
    {
      "cell_type": "code",
      "execution_count": null,
      "id": "1cdbaf60",
      "metadata": {},
      "outputs": [],
      "source": [
        "class Car:\n",
        "    # M\u00e9todo inicializador o constructor\n",
        "    def __init__(self, brand, model, year):\n",
        "        self.brand = brand  # Marca del coche\n",
        "        self.model = model  # Modelo del coche\n",
        "        self.year = year    # A\u00f1o del coche\n",
        "        self.odometer_reading = 0  # Lectura inicial del od\u00f3metro, por defecto 0\n",
        "\n",
        "    # M\u00e9todo para describir el coche\n",
        "    def describe_car(self):\n",
        "        return f\"{self.year} {self.brand} {self.model}\"\n",
        "\n",
        "    # M\u00e9todo para leer el od\u00f3metro\n",
        "    def read_odometer(self):\n",
        "        return f\"Este coche tiene {self.odometer_reading} kil\u00f3metros.\"\n",
        "\n",
        "    # M\u00e9todo para actualizar el od\u00f3metro\n",
        "    def update_odometer(self, km):\n",
        "        if km >= self.odometer_reading:\n",
        "            self.odometer_reading = km\n",
        "        else:\n",
        "            print(\"No se puede reducir la lectura del od\u00f3metro.\")\n",
        "\n",
        "# Instanciando un objeto de la clase Car\n",
        "my_car = Car('Toyota', 'Corolla', 2020)\n",
        "print(my_car.describe_car())"
      ]
    },
    {
      "cell_type": "markdown",
      "id": "ec9c67a7",
      "metadata": {},
      "source": [
        "- **Encapsulaci\u00f3n**:\n",
        "    - La encapsulaci\u00f3n se refiere a restringir el acceso a los atributos y m\u00e9todos internos de la clase.\n",
        "    - Esto se logra mediante el uso de atributos privados, utilizando el prefijo **`__`**."
      ]
    },
    {
      "cell_type": "code",
      "execution_count": null,
      "id": "90cbd4b8",
      "metadata": {},
      "outputs": [],
      "source": [
        "class Account:\n",
        "    def __init__(self, owner, balance=0):\n",
        "        self.owner = owner\n",
        "        self.__balance = balance  # Atributo privado\n",
        "\n",
        "    # M\u00e9todo para depositar dinero\n",
        "    def deposit(self, amount):\n",
        "        if amount > 0:\n",
        "            self.__balance += amount\n",
        "            print(f\"Agregados {amount} a la cuenta\")\n",
        "\n",
        "    # M\u00e9todo para consultar el balance\n",
        "    def show_balance(self):\n",
        "        print(f\"Balance actual: {self.__balance}\")\n",
        "\n",
        "my_account = Account(\"Juan\")\n",
        "my_account.deposit(100)\n",
        "my_account.show_balance()"
      ]
    },
    {
      "cell_type": "markdown",
      "id": "e6ca1c4e",
      "metadata": {},
      "source": [
        "- **Herencia**:\n",
        "    - La herencia permite crear una nueva clase que tome las caracter\u00edsticas de una clase existente.\n",
        "    - Ejemplo de una clase `ElectricCar` que hereda de `Car` y agrega un nuevo atributo:"
      ]
    },
    {
      "cell_type": "code",
      "execution_count": null,
      "id": "dfaf8831",
      "metadata": {},
      "outputs": [],
      "source": [
        "class ElectricCar(Car):  # La clase ElectricCar hereda de la clase Car\n",
        "    def __init__(self, brand, model, year):\n",
        "        super().__init__(brand, model, year)  # Inicializa atributos de la clase padre\n",
        "        self.battery_size = 75  # Atributo espec\u00edfico de coches el\u00e9ctricos\n",
        "\n",
        "    # M\u00e9todo espec\u00edfico para describir la bater\u00eda\n",
        "    def describe_battery(self):\n",
        "        return f\"Este coche tiene una bater\u00eda de {self.battery_size}-kWh.\"\n",
        "\n",
        "# Instanciando un objeto de la clase ElectricCar\n",
        "my_tesla = ElectricCar('Tesla', 'Model S', 2019)\n",
        "print(my_tesla.describe_car())\n",
        "print(my_tesla.describe_battery())"
      ]
    },
    {
      "cell_type": "markdown",
      "id": "7e206098",
      "metadata": {},
      "source": [
        "### Ejercicios:\n",
        "\n",
        "1. **Clase `Bicycle`**: Define una clase `Bicycle` con atributos como `brand`, `model`, y `year`, y m\u00e9todos para `describe_bicycle` y `update_year`.\n",
        "2. **Herencia en Bicicletas El\u00e9ctricas**: Crea una clase `ElectricBicycle` que herede de `Bicycle` y agregue un atributo `battery_size` y un m\u00e9todo `describe_battery`.\n",
        "\n",
        "### Conclusi\u00f3n:\n",
        "\n",
        "Las clases en Python son herramientas poderosas para la modelaci\u00f3n de datos y comportamientos en la programaci\u00f3n. A trav\u00e9s de la herencia, es posible extender las funcionalidades de clases existentes de manera eficiente, promoviendo la reutilizaci\u00f3n del c\u00f3digo. La pr\u00e1ctica y comprensi\u00f3n de estos conceptos son esenciales para avanzar en la programaci\u00f3n orientada a objetos.\n",
        "\n",
        "### Soluciones:\n",
        "\n",
        "1. **Clase `Bicycle`**:"
      ]
    },
    {
      "cell_type": "code",
      "execution_count": null,
      "id": "97b95048",
      "metadata": {},
      "outputs": [],
      "source": [
        "class Bicycle:\n",
        "    def __init__(self, brand, model, year):\n",
        "        self.brand = brand\n",
        "        self.model = model\n",
        "        self.year = year\n",
        "\n",
        "    def describe_bicycle(self):\n",
        "        return f\"{self.year} {self.brand} {self.model}\"\n",
        "\n",
        "    def update_year(self, year):\n",
        "        self.year = year\n",
        "\n",
        "my_bike = Bicycle('Trek', 'Emonda', 2021)\n",
        "print(my_bike.describe_bicycle())\n",
        "my_bike.update_year(2022)\n",
        "print(my_bike.describe_bicycle())"
      ]
    },
    {
      "cell_type": "markdown",
      "id": "eef33a62",
      "metadata": {},
      "source": [
        "2. **Herencia en Bicicletas El\u00e9ctricas**:\n",
        "    \n",
        "    ```python\n",
        "    class ElectricBicycle(Bicycle):\n",
        "        def __init__(self, brand, model, year):\n",
        "            super().__init__(brand, model, year)\n",
        "            self.battery_size = 500  # Supongamos que es en Wh"
      ]
    },
    {
      "cell_type": "code",
      "execution_count": null,
      "id": "bc79cf2e",
      "metadata": {},
      "outputs": [],
      "source": [
        "def describe_battery(self):\n",
        "    return f\"Esta bicicleta tiene una bater\u00eda de {self.battery_size} Wh.\""
      ]
    },
    {
      "cell_type": "markdown",
      "id": "ab63f6e9",
      "metadata": {},
      "source": [
        "my_ebike = ElectricBicycle('Specialized', 'Turbo Levo', 2022)\n",
        "    print(my_ebike.describe_bicycle())\n",
        "    print(my_ebike.describe_battery())\n",
        "    \n",
        "    ```"
      ]
    }
  ],
  "metadata": {},
  "nbformat": 4,
  "nbformat_minor": 5
}