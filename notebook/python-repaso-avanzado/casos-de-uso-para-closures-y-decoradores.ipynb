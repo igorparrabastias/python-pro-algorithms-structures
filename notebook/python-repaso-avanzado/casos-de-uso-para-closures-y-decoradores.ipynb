{
 "cells": [
  {
   "cell_type": "markdown",
   "id": "d03768f1",
   "metadata": {},
   "source": [
    "# Casos de uso para Closures y Decoradores\n",
    "\n",
    "Veamos un caso de uso para closures y decoradores utilizando funciones lambda en Python:\n",
    "\n",
    "1. **Closures y Decoradores**:\n",
    "    - **Closures**:\n",
    "        - Un closure ocurre cuando una función recuerda y tiene acceso a variables que estaban en su ámbito en el momento de su creación, incluso después de que el ámbito externo ha finalizado.\n",
    "        - Las funciones lambda pueden ser usadas para crear closures. Esto es útil cuando quieres que una función retorne otra función que no solo realiza una operación específica, sino que también mantiene cierta información o estado.\n",
    "    - **Ejemplo de Closure**:\n",
    "        - Imagina que quieres crear una función que genera multiplicadores. Podrías hacerlo retornando una función lambda que recuerda el factor de multiplicación."
   ]
  },
  {
   "cell_type": "code",
   "execution_count": null,
   "id": "c414a1f6",
   "metadata": {},
   "outputs": [],
   "source": [
    "```python\n",
    "def generador_multiplicador(n):\n",
    "    # La lambda recuerda el valor de n\n",
    "    return lambda x: x * n\n",
    "\n",
    "duplicar = generador_multiplicador(2)\n",
    "triplicar = generador_multiplicador(3)\n",
    "\n",
    "print(duplicar(5))  # Salida: 10\n",
    "print(triplicar(5)) # Salida: 15\n",
    "```\n",
    "\n",
    "- En este ejemplo, `duplicar` y `triplicar` son funciones lambda que recuerdan los valores `2` y `3`, respectivamente.\n",
    "    - **Decoradores**:\n",
    "- Un decorador es una función que toma otra función y extiende o cambia su comportamiento sin modificarla directamente.\n",
    "- Las funciones lambda pueden ser usadas en decoradores, aunque es más común usar funciones regulares debido a la complejidad que suelen tener los decoradores.\n",
    "    - **Ejemplo de Decorador con Lambda**:\n",
    "- Supongamos que tienes una función simple y quieres crear un decorador que ejecute esa función varias veces.\n",
    "\n",
    "```python\n",
    "def ejecutar_multiples_veces(veces):\n",
    "    def decorador(func):\n",
    "        return lambda *args, **kwargs: [func(*args, **kwargs) for _ in range(veces)]\n",
    "    return decorador\n",
    "\n",
    "@ejecutar_multiples_veces(3)\n",
    "def saludar(nombre):\n",
    "    print(f\"Hola, {nombre}\")\n",
    "\n",
    "saludar(\"Mundo\")\n",
    "```\n",
    "\n",
    "- Aquí, `ejecutar_multiples_veces` es un closure que recuerda el número de `veces` que una función debe ser ejecutada. El decorador `decorador` retorna una función lambda que ejecuta la función objetivo el número especificado de veces."
   ]
  },
  {
   "cell_type": "markdown",
   "id": "5e5a7245",
   "metadata": {},
   "source": [
    "En ambos casos, el uso de funciones lambda aporta una forma concisa y expresiva de manejar comportamientos que requieren mantener un estado o modificar el comportamiento de otras funciones. Sin embargo, es importante tener en cuenta que a medida que la lógica se vuelve más compleja, una función regular podría ser más adecuada para mantener la claridad y legibilidad del código."
   ]
  }
 ],
 "metadata": {},
 "nbformat": 4,
 "nbformat_minor": 5
}
