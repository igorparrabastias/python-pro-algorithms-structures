{
  "cells": [
    {
      "attachments": {},
      "cell_type": "markdown",
      "id": "c29a95e4",
      "metadata": {},
      "source": [
        "# Casos de uso para Closures y Decoradores\n",
        "\n",
        "Veamos un caso de uso para closures y decoradores utilizando funciones lambda en Python:\n",
        "\n",
        "1. **Closures y Decoradores**:\n",
        "    - **Closures**:\n",
        "        - Un closure ocurre cuando una función recuerda y tiene acceso a variables que estaban en su ámbito en el momento de su creación, incluso después de que el ámbito externo ha finalizado.\n",
        "        - Las funciones lambda pueden ser usadas para crear closures. Esto es útil cuando quieres que una función retorne otra función que no solo realiza una operación específica, sino que también mantiene cierta información o estado.\n",
        "    - **Ejemplo de Closure**:\n",
        "        - Imagina que quieres crear una función que genera multiplicadores. Podrías hacerlo retornando una función lambda que recuerda el factor de multiplicación."
      ]
    },
    {
      "cell_type": "code",
      "execution_count": 5,
      "id": "f525600f",
      "metadata": {},
      "outputs": [
        {
          "name": "stdout",
          "output_type": "stream",
          "text": [
            "10\n",
            "15\n"
          ]
        }
      ],
      "source": [
        "def generador_multiplicador(n):\n",
        "    # La lambda recuerda el valor de n\n",
        "    return lambda x: x * n\n",
        "\n",
        "duplicar = generador_multiplicador(2)\n",
        "triplicar = generador_multiplicador(3)\n",
        "\n",
        "print(duplicar(5))  # Salida: 10\n",
        "print(triplicar(5)) # Salida: 15"
      ]
    },
    {
      "attachments": {},
      "cell_type": "markdown",
      "id": "0660227c",
      "metadata": {},
      "source": [
        "- En este ejemplo, `duplicar` y `triplicar` son funciones lambda que recuerdan los valores `2` y `3`, respectivamente.\n",
        "    - **Decoradores**:\n",
        "- Un decorador es una función que toma otra función y extiende o cambia su comportamiento sin modificarla directamente.\n",
        "- Las funciones lambda pueden ser usadas en decoradores, aunque es más común usar funciones regulares debido a la complejidad que suelen tener los decoradores.\n",
        "    - **Ejemplo de Decorador con Lambda**:\n",
        "- Supongamos que tienes una función simple y quieres crear un decorador que ejecute esa función varias veces."
      ]
    },
    {
      "cell_type": "code",
      "execution_count": 6,
      "id": "2c8a5792",
      "metadata": {},
      "outputs": [
        {
          "name": "stdout",
          "output_type": "stream",
          "text": [
            "Hola, Mundo\n",
            "Hola, Mundo\n",
            "Hola, Mundo\n"
          ]
        },
        {
          "data": {
            "text/plain": [
              "[None, None, None]"
            ]
          },
          "execution_count": 6,
          "metadata": {},
          "output_type": "execute_result"
        }
      ],
      "source": [
        "def ejecutar_multiples_veces(veces):\n",
        "    def decorador(func):\n",
        "        return lambda *args, **kwargs: [func(*args, **kwargs) for _ in range(veces)]\n",
        "    return decorador\n",
        "\n",
        "@ejecutar_multiples_veces(3)\n",
        "def saludar(nombre):\n",
        "    print(f\"Hola, {nombre}\")\n",
        "\n",
        "saludar(\"Mundo\")"
      ]
    },
    {
      "attachments": {},
      "cell_type": "markdown",
      "id": "9ab12904",
      "metadata": {},
      "source": [
        "\n",
        "- Aquí, `ejecutar_multiples_veces` es un closure que recuerda el número de `veces` que una función debe ser ejecutada. El decorador `decorador` retorna una función lambda que ejecuta la función objetivo el número especificado de veces.\n",
        "\n",
        "En ambos casos, el uso de funciones lambda aporta una forma concisa y expresiva de manejar comportamientos que requieren mantener un estado o modificar el comportamiento de otras funciones. Sin embargo, es importante tener en cuenta que a medida que la lógica se vuelve más compleja, una función regular podría ser más adecuada para mantener la claridad y legibilidad del código."
      ]
    }
  ],
  "metadata": {
    "kernelspec": {
      "display_name": "Python 3",
      "language": "python",
      "name": "python3"
    },
    "language_info": {
      "codemirror_mode": {
        "name": "ipython",
        "version": 3
      },
      "file_extension": ".py",
      "mimetype": "text/x-python",
      "name": "python",
      "nbconvert_exporter": "python",
      "pygments_lexer": "ipython3",
      "version": "3.8.10"
    }
  },
  "nbformat": 4,
  "nbformat_minor": 5
}
