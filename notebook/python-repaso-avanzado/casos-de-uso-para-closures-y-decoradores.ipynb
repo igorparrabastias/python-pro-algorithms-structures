{
  "cells": [
    {
      "cell_type": "markdown",
      "id": "d03768f1",
      "metadata": {},
      "source": [
        "# Casos de uso para Closures y Decoradores\n",
        "\n",
        "Veamos un caso de uso para closures y decoradores utilizando funciones lambda en Python:\n",
        "\n",
        "1. **Closures y Decoradores**:\n",
        "    - **Closures**:\n",
        "        - Un closure ocurre cuando una funci\u00f3n recuerda y tiene acceso a variables que estaban en su \u00e1mbito en el momento de su creaci\u00f3n, incluso despu\u00e9s de que el \u00e1mbito externo ha finalizado.\n",
        "        - Las funciones lambda pueden ser usadas para crear closures. Esto es \u00fatil cuando quieres que una funci\u00f3n retorne otra funci\u00f3n que no solo realiza una operaci\u00f3n espec\u00edfica, sino que tambi\u00e9n mantiene cierta informaci\u00f3n o estado.\n",
        "    - **Ejemplo de Closure**:\n",
        "        - Imagina que quieres crear una funci\u00f3n que genera multiplicadores. Podr\u00edas hacerlo retornando una funci\u00f3n lambda que recuerda el factor de multiplicaci\u00f3n."
      ]
    },
    {
      "cell_type": "code",
      "execution_count": null,
      "id": "c414a1f6",
      "metadata": {},
      "outputs": [],
      "source": [
        "def generador_multiplicador(n):\n",
        "    # La lambda recuerda el valor de n\n",
        "    return lambda x: x * n\n",
        "\n",
        "duplicar = generador_multiplicador(2)\n",
        "triplicar = generador_multiplicador(3)\n",
        "\n",
        "print(duplicar(5))  # Salida: 10\n",
        "print(triplicar(5)) # Salida: 15\n",
        "\n",
        "- En este ejemplo, `duplicar` y `triplicar` son funciones lambda que recuerdan los valores `2` y `3`, respectivamente.\n",
        "    - **Decoradores**:\n",
        "- Un decorador es una funci\u00f3n que toma otra funci\u00f3n y extiende o cambia su comportamiento sin modificarla directamente.\n",
        "- Las funciones lambda pueden ser usadas en decoradores, aunque es m\u00e1s com\u00fan usar funciones regulares debido a la complejidad que suelen tener los decoradores.\n",
        "    - **Ejemplo de Decorador con Lambda**:\n",
        "- Supongamos que tienes una funci\u00f3n simple y quieres crear un decorador que ejecute esa funci\u00f3n varias veces.\n",
        "\n",
        "def ejecutar_multiples_veces(veces):\n",
        "    def decorador(func):\n",
        "        return lambda *args, **kwargs: [func(*args, **kwargs) for _ in range(veces)]\n",
        "    return decorador\n",
        "\n",
        "@ejecutar_multiples_veces(3)\n",
        "def saludar(nombre):\n",
        "    print(f\"Hola, {nombre}\")\n",
        "\n",
        "saludar(\"Mundo\")\n",
        "\n",
        "- Aqu\u00ed, `ejecutar_multiples_veces` es un closure que recuerda el n\u00famero de `veces` que una funci\u00f3n debe ser ejecutada. El decorador `decorador` retorna una funci\u00f3n lambda que ejecuta la funci\u00f3n objetivo el n\u00famero especificado de veces."
      ]
    },
    {
      "cell_type": "markdown",
      "id": "5e5a7245",
      "metadata": {},
      "source": [
        "En ambos casos, el uso de funciones lambda aporta una forma concisa y expresiva de manejar comportamientos que requieren mantener un estado o modificar el comportamiento de otras funciones. Sin embargo, es importante tener en cuenta que a medida que la l\u00f3gica se vuelve m\u00e1s compleja, una funci\u00f3n regular podr\u00eda ser m\u00e1s adecuada para mantener la claridad y legibilidad del c\u00f3digo."
      ]
    }
  ],
  "metadata": {},
  "nbformat": 4,
  "nbformat_minor": 5
}