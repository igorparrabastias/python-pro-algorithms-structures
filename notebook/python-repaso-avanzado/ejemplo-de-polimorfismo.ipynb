{
 "cells": [
  {
   "cell_type": "markdown",
   "id": "5b4ef385",
   "metadata": {},
   "source": [
    "# Ejemplo de polimorfismo\n",
    "\n",
    "Para completar el ejemplo anterior, primero definiremos las clases `Car` y `ElectricCar`, asegurándonos de que ambas tengan el método `display_info`. Luego, crearemos instancias de estas clases y las pasaremos a la función `display_vehicle_info`.\n",
    "\n",
    "### Definición de las Clases `Car` y `ElectricCar`"
   ]
  },
  {
   "cell_type": "code",
   "execution_count": null,
   "id": "1d9f5edd",
   "metadata": {},
   "outputs": [],
   "source": [
    "class Car:\n",
    "    def __init__(self, make, model):\n",
    "        self.make = make\n",
    "        self.model = model\n",
    "\n",
    "    def display_info(self):\n",
    "        print(f\"Carro: {self.make} {self.model}\")\n",
    "\n",
    "class ElectricCar(Car):\n",
    "    def __init__(self, make, model, battery_size):\n",
    "        super().__init__(make, model)\n",
    "        self.battery_size = battery_size\n",
    "\n",
    "    def display_info(self):\n",
    "        # Sobrescribiendo el método para incluir información de la batería\n",
    "        print(f\"Carro Eléctrico: {self.make} {self.model}, Batería: {self.battery_size} kWh\")\n",
    "\n",
    "# Función para mostrar la información del vehículo\n",
    "def display_vehicle_info(vehicle):\n",
    "    vehicle.display_info()"
   ]
  },
  {
   "cell_type": "markdown",
   "id": "33a0ee74",
   "metadata": {},
   "source": [
    "### Creación de Instancias y Demostración\n",
    "\n",
    "Ahora, crearemos instancias de `Car` y `ElectricCar` y las utilizaremos para demostrar el polimorfismo con la función `display_vehicle_info`."
   ]
  },
  {
   "cell_type": "code",
   "execution_count": null,
   "id": "0af1e0dc",
   "metadata": {},
   "outputs": [],
   "source": [
    "# Creando una instancia de Car\n",
    "my_car = Car(\"Toyota\", \"Corolla\")\n",
    "\n",
    "# Creando una instancia de ElectricCar\n",
    "my_tesla = ElectricCar(\"Tesla\", \"Model S\", 75)\n",
    "\n",
    "# Mostrando la información usando la misma función\n",
    "display_vehicle_info(my_car)  # Debería mostrar la información del Toyota Corolla\n",
    "display_vehicle_info(my_tesla)  # Debería mostrar la información del Tesla Model S, incluyendo la batería"
   ]
  },
  {
   "cell_type": "markdown",
   "id": "eb88befa",
   "metadata": {},
   "source": [
    "### Explicación\n",
    "\n",
    "En este ejemplo, `Car` es una clase que modela un automóvil genérico con atributos para la marca (`make`) y el modelo (`model`). `ElectricCar` es una subclase de `Car` que añade un atributo adicional para el tamaño de la batería (`battery_size`) y sobrescribe el método `display_info` para incluir información sobre la batería.\n",
    "\n",
    "La función `display_vehicle_info` acepta cualquier objeto `vehicle` que tenga un método `display_info`. Esta función es un ejemplo de polimorfismo, ya que puede trabajar con objetos de diferentes clases (en este caso, `Car` y `ElectricCar`) de manera indistinta. Ambas clases implementan el método `display_info`, pero `ElectricCar` lo hace de una manera que también incluye información sobre la batería, demostrando cómo se puede sobrescribir un método en una subclase para cambiar o extender su comportamiento."
   ]
  }
 ],
 "metadata": {},
 "nbformat": 4,
 "nbformat_minor": 5
}
