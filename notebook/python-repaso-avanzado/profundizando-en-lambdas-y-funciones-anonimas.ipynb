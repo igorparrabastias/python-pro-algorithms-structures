{
  "cells": [
    {
      "attachments": {},
      "cell_type": "markdown",
      "id": "b251aee4",
      "metadata": {},
      "source": [
        "# Profundizando en Lambdas y Funciones Anónimas\n",
        "\n",
        "### Introducción:\n",
        "\n",
        "Las funciones lambda y anónimas en Python son una herramienta versátil y potente, particularmente útil en situaciones donde se requiere una función simple y de corta duración. A continuación, profundizaremos en sus aplicaciones prácticas.\n",
        "\n",
        "### Casos de Uso de Lambdas:\n",
        "\n",
        "1. **Operaciones en Colecciones**:\n",
        "    - **Ordenación Personalizada**:\n",
        "        - Uso de lambdas para criterios de ordenación complejos, como ordenar objetos personalizados o estructuras de datos basadas en múltiples campos.\n",
        "        - Ejemplo: Ordenar una lista de diccionarios basado en un valor específico del diccionario."
      ]
    },
    {
      "cell_type": "code",
      "execution_count": 1,
      "id": "9736c956",
      "metadata": {},
      "outputs": [],
      "source": [
        "students = [\n",
        "    {\"name\": \"John\", \"grade\": 90},\n",
        "    {\"name\": \"Jane\", \"grade\": 85},\n",
        "    {\"name\": \"Dave\", \"grade\": 92}\n",
        "]\n",
        "sorted_students = sorted(students, key=lambda x: x['grade'], reverse=True)"
      ]
    },
    {
      "attachments": {},
      "cell_type": "markdown",
      "id": "a70657c5",
      "metadata": {},
      "source": [
        "2. **Funciones de Alto Orden**:\n",
        "    - **Con `map()` y `filter()`**:\n",
        "        - Uso con `map()` para transformaciones rápidas de datos.\n",
        "        - Uso con `filter()` para filtrar elementos de una colección basándose en una condición.\n",
        "        - Ejemplo con `map()`: Convertir todos los precios en una lista a precios con impuesto."
      ]
    },
    {
      "cell_type": "code",
      "execution_count": 2,
      "id": "5a26b747",
      "metadata": {},
      "outputs": [],
      "source": [
        "prices = [100, 200, 300]\n",
        "prices_with_tax = list(map(lambda price: price * 1.1, prices))"
      ]
    },
    {
      "attachments": {},
      "cell_type": "markdown",
      "id": "6abfa602",
      "metadata": {},
      "source": [
        "3. **Uso en Funciones Integradas**:\n",
        "    - **`sorted()`, `min()`, `max()`**:\n",
        "        - Lambdas como argumento para las funciones integradas para personalizar la lógica de comparación.\n",
        "        - Ejemplo: Encontrar el string más corto en una lista."
      ]
    },
    {
      "cell_type": "code",
      "execution_count": 3,
      "id": "18caad1b",
      "metadata": {},
      "outputs": [],
      "source": [
        "words = [\"Python\", \"is\", \"awesome\"]\n",
        "shortest_word = min(words, key=lambda x: len(x))"
      ]
    },
    {
      "attachments": {},
      "cell_type": "markdown",
      "id": "cbaa7362",
      "metadata": {},
      "source": [
        "4. **Programación Funcional**:\n",
        "    - **Reducción y Acumulación**:\n",
        "        - Uso con funciones como `functools.reduce()` para realizar cálculos acumulativos.\n",
        "        - Ejemplo: Calcular el producto de una lista de números."
      ]
    },
    {
      "cell_type": "code",
      "execution_count": 4,
      "id": "4717762b",
      "metadata": {},
      "outputs": [],
      "source": [
        "from functools import reduce\n",
        "numbers = [1, 2, 3, 4]\n",
        "product = reduce(lambda x, y: x * y, numbers)"
      ]
    },
    {
      "attachments": {},
      "cell_type": "markdown",
      "id": "346c7a89",
      "metadata": {},
      "source": [
        "5. **Callbacks y Handlers**:\n",
        "    - **Eventos y Handlers**:\n",
        "        - En GUIs o en programación de eventos, las lambdas son útiles como funciones callback rápidas y de un solo uso.\n",
        "        - Ejemplo: Asignar un lambda a un botón en una interfaz gráfica para manejar un clic.\n",
        "6. **Closures y Decoradores**:\n",
        "    - Las funciones lambda pueden ser retornadas por otras funciones, creando closures.\n",
        "    - Pueden ser usadas en decoradores para modificar el comportamiento de otras funciones.\n",
        "\n",
        "### Conclusión:\n",
        "\n",
        "Las funciones lambda ofrecen una forma compacta y expresiva de representar pequeñas unidades de comportamiento y lógica. Son ideales para operaciones que no requieren la complejidad de una función nombrada completa, permitiendo escribir código más limpio y legible. Su uso en Python es un reflejo de la influencia de la programación funcional y añade un nivel de expresividad y flexibilidad al lenguaje."
      ]
    }
  ],
  "metadata": {
    "kernelspec": {
      "display_name": "Python 3",
      "language": "python",
      "name": "python3"
    },
    "language_info": {
      "codemirror_mode": {
        "name": "ipython",
        "version": 3
      },
      "file_extension": ".py",
      "mimetype": "text/x-python",
      "name": "python",
      "nbconvert_exporter": "python",
      "pygments_lexer": "ipython3",
      "version": "3.8.10"
    }
  },
  "nbformat": 4,
  "nbformat_minor": 5
}
