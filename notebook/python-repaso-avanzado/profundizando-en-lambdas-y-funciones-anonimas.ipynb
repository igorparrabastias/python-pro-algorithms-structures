{
  "cells": [
    {
      "cell_type": "markdown",
      "id": "b251aee4",
      "metadata": {},
      "source": [
        "# Profundizando en Lambdas y Funciones An\u00f3nimas\n",
        "\n",
        "### Introducci\u00f3n:\n",
        "\n",
        "Las funciones lambda y an\u00f3nimas en Python son una herramienta vers\u00e1til y potente, particularmente \u00fatil en situaciones donde se requiere una funci\u00f3n simple y de corta duraci\u00f3n. A continuaci\u00f3n, profundizaremos en sus aplicaciones pr\u00e1cticas.\n",
        "\n",
        "### Casos de Uso de Lambdas:\n",
        "\n",
        "1. **Operaciones en Colecciones**:\n",
        "    - **Ordenaci\u00f3n Personalizada**:\n",
        "        - Uso de lambdas para criterios de ordenaci\u00f3n complejos, como ordenar objetos personalizados o estructuras de datos basadas en m\u00faltiples campos.\n",
        "        - Ejemplo: Ordenar una lista de diccionarios basado en un valor espec\u00edfico del diccionario."
      ]
    },
    {
      "cell_type": "code",
      "execution_count": null,
      "id": "9736c956",
      "metadata": {},
      "outputs": [],
      "source": [
        "students = [\n",
        "    {\"name\": \"John\", \"grade\": 90},\n",
        "    {\"name\": \"Jane\", \"grade\": 85},\n",
        "    {\"name\": \"Dave\", \"grade\": 92}\n",
        "]\n",
        "sorted_students = sorted(students, key=lambda x: x['grade'], reverse=True)"
      ]
    },
    {
      "cell_type": "markdown",
      "id": "a70657c5",
      "metadata": {},
      "source": [
        "2. **Funciones de Alto Orden**:\n",
        "    - **Con `map()` y `filter()`**:\n",
        "        - Uso con `map()` para transformaciones r\u00e1pidas de datos.\n",
        "        - Uso con `filter()` para filtrar elementos de una colecci\u00f3n bas\u00e1ndose en una condici\u00f3n.\n",
        "        - Ejemplo con `map()`: Convertir todos los precios en una lista a precios con impuesto."
      ]
    },
    {
      "cell_type": "code",
      "execution_count": null,
      "id": "5a26b747",
      "metadata": {},
      "outputs": [],
      "source": [
        "prices = [100, 200, 300]\n",
        "prices_with_tax = list(map(lambda price: price * 1.1, prices))"
      ]
    },
    {
      "cell_type": "markdown",
      "id": "6abfa602",
      "metadata": {},
      "source": [
        "3. **Uso en Funciones Integradas**:\n",
        "    - **`sorted()`, `min()`, `max()`**:\n",
        "        - Lambdas como argumento para las funciones integradas para personalizar la l\u00f3gica de comparaci\u00f3n.\n",
        "        - Ejemplo: Encontrar el string m\u00e1s corto en una lista."
      ]
    },
    {
      "cell_type": "code",
      "execution_count": null,
      "id": "18caad1b",
      "metadata": {},
      "outputs": [],
      "source": [
        "words = [\"Python\", \"is\", \"awesome\"]\n",
        "shortest_word = min(words, key=lambda x: len(x))"
      ]
    },
    {
      "cell_type": "markdown",
      "id": "cbaa7362",
      "metadata": {},
      "source": [
        "4. **Programaci\u00f3n Funcional**:\n",
        "    - **Reducci\u00f3n y Acumulaci\u00f3n**:\n",
        "        - Uso con funciones como `functools.reduce()` para realizar c\u00e1lculos acumulativos.\n",
        "        - Ejemplo: Calcular el producto de una lista de n\u00fameros."
      ]
    },
    {
      "cell_type": "code",
      "execution_count": null,
      "id": "4717762b",
      "metadata": {},
      "outputs": [],
      "source": [
        "from functools import reduce\n",
        "numbers = [1, 2, 3, 4]\n",
        "product = reduce(lambda x, y: x * y, numbers)"
      ]
    },
    {
      "cell_type": "markdown",
      "id": "346c7a89",
      "metadata": {},
      "source": [
        "5. **Callbacks y Handlers**:\n",
        "    - **Eventos y Handlers**:\n",
        "        - En GUIs o en programaci\u00f3n de eventos, las lambdas son \u00fatiles como funciones callback r\u00e1pidas y de un solo uso.\n",
        "        - Ejemplo: Asignar un lambda a un bot\u00f3n en una interfaz gr\u00e1fica para manejar un clic.\n",
        "6. **Closures y Decoradores**:\n",
        "    - Las funciones lambda pueden ser retornadas por otras funciones, creando closures.\n",
        "    - Pueden ser usadas en decoradores para modificar el comportamiento de otras funciones.\n",
        "\n",
        "### Conclusi\u00f3n:\n",
        "\n",
        "Las funciones lambda ofrecen una forma compacta y expresiva de representar peque\u00f1as unidades de comportamiento y l\u00f3gica. Son ideales para operaciones que no requieren la complejidad de una funci\u00f3n nombrada completa, permitiendo escribir c\u00f3digo m\u00e1s limpio y legible. Su uso en Python es un reflejo de la influencia de la programaci\u00f3n funcional y a\u00f1ade un nivel de expresividad y flexibilidad al lenguaje."
      ]
    }
  ],
  "metadata": {},
  "nbformat": 4,
  "nbformat_minor": 5
}