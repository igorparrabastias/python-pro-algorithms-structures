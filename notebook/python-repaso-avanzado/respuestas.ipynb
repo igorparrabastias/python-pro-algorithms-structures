{
 "cells": [
  {
   "cell_type": "markdown",
   "id": "089471af",
   "metadata": {},
   "source": [
    "# Respuestas\n",
    "\n",
    "1: c\n",
    "2: d\n",
    "3: c\n",
    "4: c\n",
    "5: b\n",
    "6: b\n",
    "7: b\n",
    "8: c\n",
    "9: b\n",
    "10: a\n",
    "11: a\n",
    "12: b\n",
    "13: c\n",
    "14: d\n",
    "15: a\n",
    "16: c\n",
    "17: b\n",
    "18: b\n",
    "19: c\n",
    "20: b"
   ]
  }
 ],
 "metadata": {},
 "nbformat": 4,
 "nbformat_minor": 5
}
