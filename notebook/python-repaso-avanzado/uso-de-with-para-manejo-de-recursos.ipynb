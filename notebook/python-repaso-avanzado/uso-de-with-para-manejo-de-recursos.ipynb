{
  "cells": [
    {
      "cell_type": "markdown",
      "id": "28e13933",
      "metadata": {},
      "source": [
        "# Uso de with para Manejo de Recursos\n",
        "\n",
        "### Introducci\u00f3n:\n",
        "\n",
        "El manejo de recursos es una tarea crucial en programaci\u00f3n, especialmente cuando se trabaja con archivos, conexiones de red o bases de datos. Python ofrece una forma elegante y eficiente de gestionar recursos a trav\u00e9s de los context managers, utilizando la declaraci\u00f3n `with`. Esta clase se enfoca en entender c\u00f3mo y por qu\u00e9 usar `with` para un manejo de recursos seguro y eficiente.\n",
        "\n",
        "### Context Managers y la Declaraci\u00f3n `with`:\n",
        "\n",
        "- **Concepto de Context Managers**:\n",
        "    - Un context manager en Python es un objeto que define el contexto de ejecuci\u00f3n, proporcionando m\u00e9todos para establecer y limpiar recursos.\n",
        "    - Se utilizan principalmente para garantizar que los recursos se liberen correctamente, incluso si ocurre un error.\n",
        "- **Uso de `with` en Manejo de Archivos**:\n",
        "    - Ejemplo cl\u00e1sico es la lectura o escritura de archivos.\n",
        "    - Automatiza la apertura y cierre de archivos, asegurando que el archivo se cierra correctamente.\n",
        "    - Ejemplo:"
      ]
    },
    {
      "cell_type": "code",
      "execution_count": null,
      "id": "33d0ca23",
      "metadata": {},
      "outputs": [],
      "source": [
        "with open(\"ejemplo.txt\", \"r\") as archivo:\n",
        "    contenido = archivo.read()\n",
        "# Aqu\u00ed el archivo ya est\u00e1 cerrado autom\u00e1ticamente"
      ]
    },
    {
      "cell_type": "markdown",
      "id": "44f74e17",
      "metadata": {},
      "source": [
        "- **Creaci\u00f3n de un Context Manager Personalizado**:\n",
        "    - Se pueden crear context managers usando clases con m\u00e9todos `__enter__` y `__exit__`.\n",
        "    - Ejemplo de un context manager para una base de datos ficticia:"
      ]
    },
    {
      "cell_type": "code",
      "execution_count": null,
      "id": "674a3d90",
      "metadata": {},
      "outputs": [],
      "source": [
        "class BaseDeDatos:\n",
        "    def __enter__(self):\n",
        "        # Establecer conexi\u00f3n a la base de datos\n",
        "        self.conexion = \"Conexi\u00f3n establecida\"\n",
        "        return self.conexion\n",
        "\n",
        "    def __exit__(self, exc_type, exc_value, traceback):\n",
        "        # Cerrar conexi\u00f3n a la base de datos\n",
        "        self.conexion = \"Conexi\u00f3n cerrada\"\n",
        "        print(self.conexion)\n",
        "\n",
        "with BaseDeDatos() as db:\n",
        "    # Interactuar con la base de datos\n",
        "    pass\n",
        "# La conexi\u00f3n se cierra autom\u00e1ticamente al salir del bloque with"
      ]
    },
    {
      "cell_type": "markdown",
      "id": "27cfdd51",
      "metadata": {},
      "source": [
        "### Ejercicios:\n",
        "\n",
        "1. **Context Manager para Medir Tiempo**: Crea un context manager que mida y muestre el tiempo que tarda en ejecutarse un bloque de c\u00f3digo.\n",
        "2. **Manejo de Archivos**: Utiliza la declaraci\u00f3n `with` para escribir en un archivo y luego leer su contenido.\n",
        "3. **Context Manager para Conexi\u00f3n a Base de Datos**: Escribe un context manager que simule la conexi\u00f3n y desconexi\u00f3n de una base de datos.\n",
        "\n",
        "### Conclusi\u00f3n:\n",
        "\n",
        "El uso de `with` y context managers en Python simplifica el manejo de recursos, asegurando una gesti\u00f3n segura y eficiente. Es una herramienta fundamental para evitar errores comunes como fugas de recursos. En la pr\u00f3xima clase, exploraremos los iteradores y generadores, conceptos clave para la programaci\u00f3n eficiente en Python.\n",
        "\n",
        "### Soluciones:\n",
        "\n",
        "1. **Context Manager para Medir Tiempo**:"
      ]
    },
    {
      "cell_type": "code",
      "execution_count": null,
      "id": "e6e5dd14",
      "metadata": {},
      "outputs": [],
      "source": [
        "import time\n",
        "\n",
        "class MedidorDeTiempo:\n",
        "    def __enter__(self):\n",
        "        self.inicio = time.time()\n",
        "\n",
        "    def __exit__(self, exc_type, exc_value, traceback):\n",
        "        self.fin = time.time()\n",
        "        print(f\"Tiempo transcurrido: {self.fin - self.inicio} segundos\")\n",
        "\n",
        "with MedidorDeTiempo():\n",
        "    time.sleep(2)  # Simula una tarea que toma tiempo"
      ]
    },
    {
      "cell_type": "markdown",
      "id": "6d6400dd",
      "metadata": {},
      "source": [
        "2. **Manejo de Archivos**:"
      ]
    },
    {
      "cell_type": "code",
      "execution_count": null,
      "id": "5e575e21",
      "metadata": {},
      "outputs": [],
      "source": [
        "with open(\"test.txt\", \"w\") as archivo:\n",
        "    archivo.write(\"Hola Mundo\")\n",
        "\n",
        "with open(\"test.txt\", \"r\") as archivo:\n",
        "    contenido = archivo.read()\n",
        "    print(contenido)"
      ]
    },
    {
      "cell_type": "markdown",
      "id": "2e1b02cc",
      "metadata": {},
      "source": [
        "3. **Context Manager para Conexi\u00f3n a Base de Datos**:\n",
        "    \n",
        "    ```python\n",
        "    class ConexionDB:\n",
        "        def __enter__(self):\n",
        "            print(\"Conectando a la base de datos...\")\n",
        "            return \"Conexi\u00f3n establecida\""
      ]
    },
    {
      "cell_type": "code",
      "execution_count": null,
      "id": "71b425a7",
      "metadata": {},
      "outputs": [],
      "source": [
        "def __exit__(self, exc_type, exc_value, traceback):\n",
        "    print(\"Desconectando de la base de datos...\")\n",
        "    print(\"Conexi\u00f3n cerrada\")"
      ]
    },
    {
      "cell_type": "markdown",
      "id": "bf7cabf7",
      "metadata": {},
      "source": [
        "with ConexionDB() as db:\n",
        "        print(db)\n",
        "    \n",
        "    ```"
      ]
    }
  ],
  "metadata": {},
  "nbformat": 4,
  "nbformat_minor": 5
}