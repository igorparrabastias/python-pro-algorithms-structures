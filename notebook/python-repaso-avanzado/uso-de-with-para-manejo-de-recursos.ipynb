{
  "cells": [
    {
      "attachments": {},
      "cell_type": "markdown",
      "id": "940703ee",
      "metadata": {},
      "source": [
        "# Uso de with para Manejo de Recursos\n",
        "\n",
        "### Introducción:\n",
        "\n",
        "El manejo de recursos es una tarea crucial en programación, especialmente cuando se trabaja con archivos, conexiones de red o bases de datos. Python ofrece una forma elegante y eficiente de gestionar recursos a través de los context managers, utilizando la declaración `with`. Esta clase se enfoca en entender cómo y por qué usar `with` para un manejo de recursos seguro y eficiente.\n",
        "\n",
        "### Context Managers y la Declaración `with`:\n",
        "\n",
        "- **Concepto de Context Managers**:\n",
        "    - Un context manager en Python es un objeto que define el contexto de ejecución, proporcionando métodos para establecer y limpiar recursos.\n",
        "    - Se utilizan principalmente para garantizar que los recursos se liberen correctamente, incluso si ocurre un error.\n",
        "- **Uso de `with` en Manejo de Archivos**:\n",
        "    - Ejemplo clásico es la lectura o escritura de archivos.\n",
        "    - Automatiza la apertura y cierre de archivos, asegurando que el archivo se cierra correctamente.\n",
        "    - Ejemplo:"
      ]
    },
    {
      "cell_type": "code",
      "execution_count": 10,
      "id": "1bcc7982",
      "metadata": {},
      "outputs": [
        {
          "name": "stdout",
          "output_type": "stream",
          "text": [
            "Algun contenido inicial\n"
          ]
        }
      ],
      "source": [
        "import os\n",
        "\n",
        "if not os.path.exists(\"ejemplo.txt\"):\n",
        "    with open(\"ejemplo.txt\", \"w\") as archivo:\n",
        "        archivo.write(\"Algun contenido inicial\")\n",
        "\n",
        "with open(\"ejemplo.txt\", \"r\") as archivo:\n",
        "    contenido = archivo.read()\n",
        "\n",
        "with open(\"ejemplo.txt\", \"r\") as archivo:\n",
        "    contenido = archivo.read()\n",
        "    print(contenido)  # Esta línea imprimirá el contenido del archivo\n",
        "# Aquí el archivo ya está cerrado automáticamente"
      ]
    },
    {
      "attachments": {},
      "cell_type": "markdown",
      "id": "79555726",
      "metadata": {},
      "source": [
        "- **Creación de un Context Manager Personalizado**:\n",
        "    - Se pueden crear context managers usando clases con métodos `__enter__` y `__exit__`.\n",
        "    - Ejemplo de un context manager para una base de datos ficticia:"
      ]
    },
    {
      "cell_type": "code",
      "execution_count": 11,
      "id": "a92993dd",
      "metadata": {},
      "outputs": [
        {
          "name": "stdout",
          "output_type": "stream",
          "text": [
            "Conexión cerrada\n"
          ]
        }
      ],
      "source": [
        "class BaseDeDatos:\n",
        "    def __enter__(self):\n",
        "        # Establecer conexión a la base de datos\n",
        "        self.conexion = \"Conexión establecida\"\n",
        "        return self.conexion\n",
        "\n",
        "    def __exit__(self, exc_type, exc_value, traceback):\n",
        "        # Cerrar conexión a la base de datos\n",
        "        self.conexion = \"Conexión cerrada\"\n",
        "        print(self.conexion)\n",
        "\n",
        "with BaseDeDatos() as db:\n",
        "    # Interactuar con la base de datos\n",
        "    pass\n",
        "# La conexión se cierra automáticamente al salir del bloque with"
      ]
    },
    {
      "attachments": {},
      "cell_type": "markdown",
      "id": "f47f6f5d",
      "metadata": {},
      "source": [
        "### Ejercicios:\n",
        "\n",
        "1. **Context Manager para Medir Tiempo**: Crea un context manager que mida y muestre el tiempo que tarda en ejecutarse un bloque de código.\n",
        "2. **Manejo de Archivos**: Utiliza la declaración `with` para escribir en un archivo y luego leer su contenido.\n",
        "3. **Context Manager para Conexión a Base de Datos**: Escribe un context manager que simule la conexión y desconexión de una base de datos.\n",
        "\n",
        "### Conclusión:\n",
        "\n",
        "El uso de `with` y context managers en Python simplifica el manejo de recursos, asegurando una gestión segura y eficiente. Es una herramienta fundamental para evitar errores comunes como fugas de recursos. En la próxima clase, exploraremos los iteradores y generadores, conceptos clave para la programación eficiente en Python.\n",
        "\n",
        "### Soluciones:\n",
        "\n",
        "1. **Context Manager para Medir Tiempo**:"
      ]
    },
    {
      "cell_type": "code",
      "execution_count": 12,
      "id": "6839435b",
      "metadata": {},
      "outputs": [
        {
          "name": "stdout",
          "output_type": "stream",
          "text": [
            "Tiempo transcurrido: 2.001707077026367 segundos\n"
          ]
        }
      ],
      "source": [
        "import time\n",
        "\n",
        "class MedidorDeTiempo:\n",
        "    def __enter__(self):\n",
        "        self.inicio = time.time()\n",
        "\n",
        "    def __exit__(self, exc_type, exc_value, traceback):\n",
        "        self.fin = time.time()\n",
        "        print(f\"Tiempo transcurrido: {self.fin - self.inicio} segundos\")\n",
        "\n",
        "with MedidorDeTiempo():\n",
        "    time.sleep(2)  # Simula una tarea que toma tiempo"
      ]
    },
    {
      "attachments": {},
      "cell_type": "markdown",
      "id": "14a44e66",
      "metadata": {},
      "source": [
        "2. **Manejo de Archivos**:"
      ]
    },
    {
      "cell_type": "code",
      "execution_count": 13,
      "id": "ad5b8f7f",
      "metadata": {},
      "outputs": [
        {
          "name": "stdout",
          "output_type": "stream",
          "text": [
            "Hola Mundo\n"
          ]
        }
      ],
      "source": [
        "with open(\"test.txt\", \"w\") as archivo:\n",
        "    archivo.write(\"Hola Mundo\")\n",
        "\n",
        "with open(\"test.txt\", \"r\") as archivo:\n",
        "    contenido = archivo.read()\n",
        "    print(contenido)"
      ]
    },
    {
      "attachments": {},
      "cell_type": "markdown",
      "id": "d8587ccd",
      "metadata": {},
      "source": [
        "3. **Context Manager para Conexión a Base de Datos**:"
      ]
    },
    {
      "cell_type": "code",
      "execution_count": 14,
      "id": "f10a1f3a",
      "metadata": {},
      "outputs": [
        {
          "name": "stdout",
          "output_type": "stream",
          "text": [
            "Conectando a la base de datos...\n",
            "Conexión establecida\n",
            "Desconectando de la base de datos...\n",
            "Conexión cerrada\n"
          ]
        }
      ],
      "source": [
        "class ConexionDB:\n",
        "    def __enter__(self):\n",
        "        print(\"Conectando a la base de datos...\")\n",
        "        return \"Conexión establecida\"\n",
        "    def __exit__(self, exc_type, exc_value, traceback):\n",
        "        print(\"Desconectando de la base de datos...\")\n",
        "        print(\"Conexión cerrada\")\n",
        "        \n",
        "with ConexionDB() as db:\n",
        "        print(db)           "
      ]
    }
  ],
  "metadata": {
    "kernelspec": {
      "display_name": "Python 3",
      "language": "python",
      "name": "python3"
    },
    "language_info": {
      "codemirror_mode": {
        "name": "ipython",
        "version": 3
      },
      "file_extension": ".py",
      "mimetype": "text/x-python",
      "name": "python",
      "nbconvert_exporter": "python",
      "pygments_lexer": "ipython3",
      "version": "3.8.10"
    }
  },
  "nbformat": 4,
  "nbformat_minor": 5
}
