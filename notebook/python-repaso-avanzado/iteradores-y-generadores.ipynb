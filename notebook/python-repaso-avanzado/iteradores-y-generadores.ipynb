{
  "cells": [
    {
      "cell_type": "markdown",
      "id": "a0f6aee6",
      "metadata": {},
      "source": [
        "# Iteradores y Generadores\n",
        "\n",
        "### Introducci\u00f3n:\n",
        "\n",
        "Los iteradores y generadores son conceptos fundamentales en Python para trabajar con secuencias de datos de manera eficiente. Los iteradores permiten recorrer colecciones de datos, mientras que los generadores facilitan la creaci\u00f3n de iteradores de una forma m\u00e1s sencilla y con menor uso de memoria. Esta clase aborda c\u00f3mo crear y utilizar ambos, con un enfoque especial en los generadores de expresi\u00f3n.\n",
        "\n",
        "### Iteradores en Python:\n",
        "\n",
        "- **Concepto de Iterador**:\n",
        "    - Un iterador es un objeto que implementa los m\u00e9todos `__iter__()` y `__next__()`, permitiendo recorrer los elementos de una colecci\u00f3n uno por uno.\n",
        "    - Ejemplo de uso de un iterador:"
      ]
    },
    {
      "cell_type": "code",
      "execution_count": null,
      "id": "09dbe7c6",
      "metadata": {},
      "outputs": [],
      "source": [
        "mi_lista = [1, 2, 3]\n",
        "iterador = iter(mi_lista)\n",
        "\n",
        "print(next(iterador))  # 1\n",
        "print(next(iterador))  # 2\n",
        "print(next(iterador))  # 3"
      ]
    },
    {
      "cell_type": "markdown",
      "id": "f8e60f72",
      "metadata": {},
      "source": [
        "- **Creaci\u00f3n de un Iterador Personalizado**:\n",
        "    - Se puede crear un iterador personalizado definiendo una clase con los m\u00e9todos mencionados.\n",
        "    - Ejemplo de un iterador para una secuencia de n\u00fameros:"
      ]
    },
    {
      "cell_type": "code",
      "execution_count": null,
      "id": "36ebbcdd",
      "metadata": {},
      "outputs": [],
      "source": [
        "class Contador:\n",
        "    def __init__(self, bajo, alto):\n",
        "        self.actual = bajo\n",
        "        self.alto = alto\n",
        "\n",
        "    def __iter__(self):\n",
        "        return self\n",
        "\n",
        "    def __next__(self):\n",
        "        if self.actual < self.alto:\n",
        "            numero = self.actual\n",
        "            self.actual += 1\n",
        "            return numero\n",
        "        raise StopIteration\n",
        "\n",
        "for numero in Contador(3, 6):\n",
        "    print(numero)"
      ]
    },
    {
      "cell_type": "markdown",
      "id": "b88bde13",
      "metadata": {},
      "source": [
        "### Generadores en Python:\n",
        "\n",
        "- **Concepto de Generador**:\n",
        "    - Un generador es una forma sencilla de crear un iterador. Se define como una funci\u00f3n, pero en lugar de retornar valores, utiliza la palabra clave `yield`.\n",
        "    - Ejemplo de un generador simple:"
      ]
    },
    {
      "cell_type": "code",
      "execution_count": null,
      "id": "47744cc2",
      "metadata": {},
      "outputs": [],
      "source": [
        "def contador(bajo, alto):\n",
        "    while bajo < alto:\n",
        "        yield bajo\n",
        "        bajo += 1\n",
        "\n",
        "for x in contador(3, 6):\n",
        "    print(x)"
      ]
    },
    {
      "cell_type": "markdown",
      "id": "922cb27e",
      "metadata": {},
      "source": [
        "- **Generadores de Expresi\u00f3n**:\n",
        "    - Los generadores de expresi\u00f3n son una forma compacta de crear generadores, similar a las comprensiones de listas.\n",
        "    - Ejemplo de un generador de expresi\u00f3n:"
      ]
    },
    {
      "cell_type": "code",
      "execution_count": null,
      "id": "e4537459",
      "metadata": {},
      "outputs": [],
      "source": [
        "cuadrados = (x*x for x in range(10))\n",
        "for x in cuadrados:\n",
        "    print(x)"
      ]
    },
    {
      "cell_type": "markdown",
      "id": "c862169f",
      "metadata": {},
      "source": [
        "### Ejercicios:\n",
        "\n",
        "1. **Generador de Fibonacci**: Escribe un generador que produzca la secuencia de Fibonacci.\n",
        "2. **Iterador de Pares e Impares**: Crea un iterador personalizado que devuelva alternativamente n\u00fameros pares e impares.\n",
        "3. **Generador de Expresi\u00f3n para Filtrar**: Utiliza un generador de expresi\u00f3n para filtrar y procesar datos de una lista.\n",
        "\n",
        "### Conclusi\u00f3n:\n",
        "\n",
        "La comprensi\u00f3n de iteradores y generadores es esencial para la manipulaci\u00f3n eficiente de datos en Python. Estos conceptos no solo hacen que el c\u00f3digo sea m\u00e1s eficiente en t\u00e9rminos de memoria, sino tambi\u00e9n m\u00e1s legible y conciso. En la pr\u00f3xima clase, nos centraremos en el manejo de excepciones y c\u00f3mo manejar los errores de manera elegante en Python.\n",
        "\n",
        "### Soluciones:\n",
        "\n",
        "1. **Generador de Fibonacci**:"
      ]
    },
    {
      "cell_type": "code",
      "execution_count": null,
      "id": "e495c6d2",
      "metadata": {},
      "outputs": [],
      "source": [
        "def fibonacci(n):\n",
        "    a, b = 0, 1\n",
        "    for _ in range(n):\n",
        "        yield a\n",
        "        a, b = b, a + b\n",
        "\n",
        "for numero in fibonacci(10):\n",
        "    print(numero)"
      ]
    },
    {
      "cell_type": "markdown",
      "id": "fcda2888",
      "metadata": {},
      "source": [
        "2. **Iterador de Pares e Impares**:"
      ]
    },
    {
      "cell_type": "code",
      "execution_count": null,
      "id": "5ec61b62",
      "metadata": {},
      "outputs": [],
      "source": [
        "class ParesImpares:\n",
        "    def __init__(self, maximo):\n",
        "        self.maximo = maximo\n",
        "\n",
        "    def __iter__(self):\n",
        "        self.numero = 0\n",
        "        return self\n",
        "\n",
        "    def __next__(self):\n",
        "        if self.numero < self.maximo:\n",
        "            resultado = self.numero\n",
        "            self.numero += 2\n",
        "            return resultado\n",
        "        else:\n",
        "            self.numero = 1\n",
        "            raise StopIteration\n",
        "\n",
        "pares = ParesImpares(10)\n",
        "impares = ParesImpares(11)\n",
        "print(list(pares))  # [0, 2, 4, 6, 8]\n",
        "print(list(impares))  # [1, 3, 5, 7, 9]"
      ]
    },
    {
      "cell_type": "markdown",
      "id": "d679d4bc",
      "metadata": {},
      "source": [
        "3. **Generador de Expresi\u00f3n para Filtrar**:\n",
        "    \n",
        "    ```python\n",
        "    numeros = [1, 2, 3, 4, 5, 6, 7, 8, 9, 10]\n",
        "    pares = (x for x in numeros if x % 2 == 0)\n",
        "    \n",
        "    for par in pares:\n",
        "        print(par)\n",
        "    \n",
        "    ```"
      ]
    }
  ],
  "metadata": {},
  "nbformat": 4,
  "nbformat_minor": 5
}