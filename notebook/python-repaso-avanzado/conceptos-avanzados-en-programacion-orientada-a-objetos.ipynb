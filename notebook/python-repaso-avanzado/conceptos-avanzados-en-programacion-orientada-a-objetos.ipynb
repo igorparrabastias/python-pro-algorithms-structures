{
  "cells": [
    {
      "cell_type": "markdown",
      "id": "1149688c",
      "metadata": {},
      "source": [
        "# Conceptos Avanzados en Programaci\u00f3n Orientada a Objetos\n",
        "\n",
        "### Introducci\u00f3n:\n",
        "\n",
        "La Programaci\u00f3n Orientada a Objetos (POO) en Python se enriquece con varios conceptos avanzados que permiten escribir c\u00f3digo m\u00e1s eficiente, legible y reutilizable. En esta clase, exploraremos m\u00e9todos dunder (o m\u00e1gicos), el uso de `self`, polimorfismo, abstracci\u00f3n, y otros conceptos importantes de la POO.\n",
        "\n",
        "### M\u00e9todos Dunder (M\u00e9todos M\u00e1gicos):\n",
        "\n",
        "- **Uso de M\u00e9todos Dunder**:\n",
        "    - Los m\u00e9todos dunder, tambi\u00e9n conocidos como m\u00e9todos m\u00e1gicos, son m\u00e9todos especiales con doble gui\u00f3n bajo (`__`) al inicio y al final de sus nombres. Permiten a las clases en Python emular el comportamiento de tipos incorporados.\n",
        "    - Ejemplo con `__str__` y `__repr__`:"
      ]
    },
    {
      "cell_type": "code",
      "execution_count": null,
      "id": "176a3650",
      "metadata": {},
      "outputs": [],
      "source": [
        "class Book:\n",
        "    def __init__(self, title, author):\n",
        "        self.title = title\n",
        "        self.author = author\n",
        "\n",
        "    def __str__(self):\n",
        "        return f\"'{self.title}' by {self.author}\"\n",
        "\n",
        "    def __repr__(self):\n",
        "        return f\"Book('{self.title}', '{self.author}')\"\n",
        "\n",
        "my_book = Book(\"Python Pro\", \"Juan P\u00e9rez\")\n",
        "print(my_book)  # Usa __str__\n",
        "my_book  # Usa __repr__ en el int\u00e9rprete interactivo"
      ]
    },
    {
      "cell_type": "markdown",
      "id": "4fd7a0d5",
      "metadata": {},
      "source": [
        "### El Uso de `self`:\n",
        "\n",
        "- **El Par\u00e1metro `self`**:\n",
        "    - `self` representa la instancia de la clase y se utiliza para acceder a sus atributos y m\u00e9todos desde dentro de la clase.\n",
        "    - Ejemplo de uso de `self` para modificar un atributo:"
      ]
    },
    {
      "cell_type": "code",
      "execution_count": null,
      "id": "91da0a62",
      "metadata": {},
      "outputs": [],
      "source": [
        "class Car:\n",
        "    def __init__(self, make, model):\n",
        "        self.make = make\n",
        "        self.model = model\n",
        "\n",
        "    def update_model(self, new_model):\n",
        "        self.model = new_model"
      ]
    },
    {
      "cell_type": "markdown",
      "id": "454ece50",
      "metadata": {},
      "source": [
        "### Polimorfismo:\n",
        "\n",
        "- **Concepto de Polimorfismo**:\n",
        "    - El polimorfismo permite que objetos de diferentes clases sean tratados como objetos de una clase com\u00fan. Esto es \u00fatil cuando diferentes clases tienen m\u00e9todos con el mismo nombre pero implementaciones distintas.\n",
        "    - Ejemplo de polimorfismo con una funci\u00f3n que utiliza el m\u00e9todo `display_info` de diferentes objetos:"
      ]
    },
    {
      "cell_type": "code",
      "execution_count": null,
      "id": "b9403e00",
      "metadata": {},
      "outputs": [],
      "source": [
        "def display_vehicle_info(vehicle):\n",
        "    vehicle.display_info()\n",
        "\n",
        "# Suponiendo que ElectricCar y Car tienen el m\u00e9todo display_info\n",
        "display_vehicle_info(my_car)\n",
        "display_vehicle_info(my_tesla)"
      ]
    },
    {
      "cell_type": "markdown",
      "id": "8d309d13",
      "metadata": {},
      "source": [
        "### Abstracci\u00f3n:\n",
        "\n",
        "- **Clases Abstractas y M\u00e9todos Abstractos**:\n",
        "    - La abstracci\u00f3n implica ocultar la complejidad y mostrar solo lo esencial al usuario. Python permite crear clases abstractas usando el m\u00f3dulo `abc`.\n",
        "    - Ejemplo de una clase abstracta `Vehicle` con un m\u00e9todo abstracto `display_info`:"
      ]
    },
    {
      "cell_type": "code",
      "execution_count": null,
      "id": "d5b8ba23",
      "metadata": {},
      "outputs": [],
      "source": [
        "from abc import ABC, abstractmethod\n",
        "\n",
        "class Vehicle(ABC):\n",
        "    @abstractmethod\n",
        "    def display_info(self):\n",
        "        pass"
      ]
    },
    {
      "cell_type": "markdown",
      "id": "77559a85",
      "metadata": {},
      "source": [
        "### Otros Conceptos Importantes:\n",
        "\n",
        "- **Herencia M\u00faltiple**:\n",
        "    - Python soporta herencia m\u00faltiple, permitiendo que una clase herede de m\u00e1s de una clase base.\n",
        "    - Uso cuidadoso para evitar problemas como el diamante de la herencia.\n",
        "- **Decoradores en Clases**:\n",
        "    - Los decoradores pueden ser utilizados para modificar el comportamiento de m\u00e9todos y atributos, como `@property` para crear propiedades gestionadas.\n",
        "- **Composici\u00f3n sobre Herencia**:\n",
        "    - Favorecer la composici\u00f3n sobre la herencia como un medio para reutilizar c\u00f3digo puede llevar a un dise\u00f1o m\u00e1s flexible y mantenible.\n",
        "\n",
        "### Conclusi\u00f3n:\n",
        "\n",
        "Los conceptos avanzados de POO en Python ofrecen un poderoso conjunto de herramientas para dise\u00f1ar y estructurar el c\u00f3digo de manera eficiente. Comprender y aplicar estos conceptos adecuadamente puede llevar la programaci\u00f3n en Python a un nivel superior, facilitando la creaci\u00f3n de aplicaciones complejas y robustas.\n",
        "\n",
        "### Ejercicios:\n",
        "\n",
        "1. **Implementar una Clase Abstracta `Animal`**: Define una clase abstracta `Animal` con un m\u00e9todo abstracto `hacer_sonido()`. Crea clases `Perro` y `Gato` que implementen este m\u00e9todo.\n",
        "2. **Uso de M\u00e9todos Dunder**: Crea una clase `Vector` con m\u00e9todos dunder para permitir operaciones matem\u00e1ticas b\u00e1sicas entre vectores.\n",
        "3. **Explorar Polimorfismo**: Define una funci\u00f3n que acepte diferentes tipos de objetos geom\u00e9tricos (como c\u00edrculos, rect\u00e1ngulos) y calcule su \u00e1rea, demostrando polimorfismo."
      ]
    }
  ],
  "metadata": {},
  "nbformat": 4,
  "nbformat_minor": 5
}