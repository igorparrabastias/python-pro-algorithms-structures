{
  "cells": [
    {
      "attachments": {},
      "cell_type": "markdown",
      "id": "1149688c",
      "metadata": {},
      "source": [
        "# Conceptos Avanzados en Programación Orientada a Objetos\n",
        "\n",
        "### Introducción:\n",
        "\n",
        "La Programación Orientada a Objetos (POO) en Python se enriquece con varios conceptos avanzados que permiten escribir código más eficiente, legible y reutilizable. En esta clase, exploraremos métodos dunder (o mágicos), el uso de `self`, polimorfismo, abstracción, y otros conceptos importantes de la POO.\n",
        "\n",
        "### Métodos Dunder (Métodos Mágicos):\n",
        "\n",
        "- **Uso de Métodos Dunder**:\n",
        "    - Los métodos dunder, también conocidos como métodos mágicos, son métodos especiales con doble guión bajo (`__`) al inicio y al final de sus nombres. Permiten a las clases en Python emular el comportamiento de tipos incorporados.\n",
        "    - Ejemplo con `__str__` y `__repr__`:"
      ]
    },
    {
      "cell_type": "code",
      "execution_count": 13,
      "id": "176a3650",
      "metadata": {},
      "outputs": [
        {
          "name": "stdout",
          "output_type": "stream",
          "text": [
            "'Python Pro' by Juan Pérez\n"
          ]
        },
        {
          "data": {
            "text/plain": [
              "Book('Python Pro', 'Juan Pérez')"
            ]
          },
          "execution_count": 13,
          "metadata": {},
          "output_type": "execute_result"
        }
      ],
      "source": [
        "class Book:\n",
        "    def __init__(self, title, author):\n",
        "        self.title = title\n",
        "        self.author = author\n",
        "\n",
        "    def __str__(self):\n",
        "        return f\"'{self.title}' by {self.author}\"\n",
        "\n",
        "    def __repr__(self):\n",
        "        return f\"Book('{self.title}', '{self.author}')\"\n",
        "\n",
        "my_book = Book(\"Python Pro\", \"Juan Pérez\")\n",
        "print(my_book)  # Usa __str__\n",
        "my_book  # Usa __repr__ en el intérprete interactivo"
      ]
    },
    {
      "attachments": {},
      "cell_type": "markdown",
      "id": "4fd7a0d5",
      "metadata": {},
      "source": [
        "### El Uso de `self`:\n",
        "\n",
        "- **El Parámetro `self`**:\n",
        "    - `self` representa la instancia de la clase y se utiliza para acceder a sus atributos y métodos desde dentro de la clase.\n",
        "    - Ejemplo de uso de `self` para modificar un atributo:"
      ]
    },
    {
      "cell_type": "code",
      "execution_count": 14,
      "id": "91da0a62",
      "metadata": {},
      "outputs": [],
      "source": [
        "class Car:\n",
        "    def __init__(self, make, model):\n",
        "        self.make = make\n",
        "        self.model = model\n",
        "\n",
        "    def update_model(self, new_model):\n",
        "        self.model = new_model"
      ]
    },
    {
      "attachments": {},
      "cell_type": "markdown",
      "id": "454ece50",
      "metadata": {},
      "source": [
        "### Polimorfismo:\n",
        "\n",
        "- **Concepto de Polimorfismo**:\n",
        "    - El polimorfismo permite que objetos de diferentes clases sean tratados como objetos de una clase común. Esto es útil cuando diferentes clases tienen métodos con el mismo nombre pero implementaciones distintas.\n",
        "    - Ejemplo de polimorfismo con una función que utiliza el método `display_info` de diferentes objetos:"
      ]
    },
    {
      "cell_type": "code",
      "execution_count": 15,
      "id": "b9403e00",
      "metadata": {},
      "outputs": [
        {
          "name": "stdout",
          "output_type": "stream",
          "text": [
            "Car Make: Toyota, Model: Corolla\n",
            "Electric Car Make: Tesla, Model: Model S, Battery Size: 100kWh\n"
          ]
        }
      ],
      "source": [
        "class Car:\n",
        "    def __init__(self, make, model):\n",
        "        self.make = make\n",
        "        self.model = model\n",
        "\n",
        "    def display_info(self):\n",
        "        print(f\"Car Make: {self.make}, Model: {self.model}\")\n",
        "\n",
        "class ElectricCar(Car):  # Supongamos que ElectricCar hereda de Car\n",
        "    def __init__(self, make, model, battery_size):\n",
        "        super().__init__(make, model)\n",
        "        self.battery_size = battery_size\n",
        "\n",
        "    def display_info(self):\n",
        "        print(f\"Electric Car Make: {self.make}, Model: {self.model}, Battery Size: {self.battery_size}\")\n",
        "\n",
        "# Instancias de Car y ElectricCar\n",
        "my_car = Car(\"Toyota\", \"Corolla\")\n",
        "my_tesla = ElectricCar(\"Tesla\", \"Model S\", \"100kWh\")\n",
        "\n",
        "def display_vehicle_info(vehicle):\n",
        "    vehicle.display_info()\n",
        "\n",
        "# Uso de la función display_vehicle_info con las instancias definidas\n",
        "display_vehicle_info(my_car)\n",
        "display_vehicle_info(my_tesla)"
      ]
    },
    {
      "attachments": {},
      "cell_type": "markdown",
      "id": "8d309d13",
      "metadata": {},
      "source": [
        "### Abstracción:\n",
        "\n",
        "- **Clases Abstractas y Métodos Abstractos**:\n",
        "    - La abstracción implica ocultar la complejidad y mostrar solo lo esencial al usuario. Python permite crear clases abstractas usando el módulo `abc`.\n",
        "    - Ejemplo de una clase abstracta `Vehicle` con un método abstracto `display_info`:"
      ]
    },
    {
      "cell_type": "code",
      "execution_count": 16,
      "id": "d5b8ba23",
      "metadata": {},
      "outputs": [],
      "source": [
        "from abc import ABC, abstractmethod\n",
        "\n",
        "class Vehicle(ABC):\n",
        "    @abstractmethod\n",
        "    def display_info(self):\n",
        "        pass"
      ]
    },
    {
      "attachments": {},
      "cell_type": "markdown",
      "id": "77559a85",
      "metadata": {},
      "source": [
        "### Otros Conceptos Importantes:\n",
        "\n",
        "- **Herencia Múltiple**:\n",
        "    - Python soporta herencia múltiple, permitiendo que una clase herede de más de una clase base.\n",
        "    - Uso cuidadoso para evitar problemas como el diamante de la herencia.\n",
        "- **Decoradores en Clases**:\n",
        "    - Los decoradores pueden ser utilizados para modificar el comportamiento de métodos y atributos, como `@property` para crear propiedades gestionadas.\n",
        "- **Composición sobre Herencia**:\n",
        "    - Favorecer la composición sobre la herencia como un medio para reutilizar código puede llevar a un diseño más flexible y mantenible.\n",
        "\n",
        "### Conclusión:\n",
        "\n",
        "Los conceptos avanzados de POO en Python ofrecen un poderoso conjunto de herramientas para diseñar y estructurar el código de manera eficiente. Comprender y aplicar estos conceptos adecuadamente puede llevar la programación en Python a un nivel superior, facilitando la creación de aplicaciones complejas y robustas.\n",
        "\n",
        "### Ejercicios:\n",
        "\n",
        "1. **Implementar una Clase Abstracta `Animal`**: Define una clase abstracta `Animal` con un método abstracto `hacer_sonido()`. Crea clases `Perro` y `Gato` que implementen este método.\n",
        "2. **Uso de Métodos Dunder**: Crea una clase `Vector` con métodos dunder para permitir operaciones matemáticas básicas entre vectores.\n",
        "3. **Explorar Polimorfismo**: Define una función que acepte diferentes tipos de objetos geométricos (como círculos, rectángulos) y calcule su área, demostrando polimorfismo."
      ]
    }
  ],
  "metadata": {
    "kernelspec": {
      "display_name": "Python 3",
      "language": "python",
      "name": "python3"
    },
    "language_info": {
      "codemirror_mode": {
        "name": "ipython",
        "version": 3
      },
      "file_extension": ".py",
      "mimetype": "text/x-python",
      "name": "python",
      "nbconvert_exporter": "python",
      "pygments_lexer": "ipython3",
      "version": "3.8.10"
    }
  },
  "nbformat": 4,
  "nbformat_minor": 5
}
