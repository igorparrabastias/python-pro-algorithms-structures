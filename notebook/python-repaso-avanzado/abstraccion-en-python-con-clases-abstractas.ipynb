{
  "cells": [
    {
      "cell_type": "markdown",
      "id": "458cc487",
      "metadata": {},
      "source": [
        "# Abstracci\u00f3n en Python con Clases Abstractas\n",
        "\n",
        "### Introducci\u00f3n:\n",
        "\n",
        "La abstracci\u00f3n es un principio fundamental de la programaci\u00f3n orientada a objetos. En Python, se puede lograr utilizando clases abstractas, que definen una especie de \"contrato\" para otras clases. Vamos a profundizar en c\u00f3mo implementar y utilizar clases abstractas para crear una jerarqu\u00eda de clases que sigan un patr\u00f3n com\u00fan.\n",
        "\n",
        "### Creaci\u00f3n de una Clase Abstracta `Vehicle`:\n",
        "\n",
        "En el c\u00f3digo proporcionado, `Vehicle` es una clase abstracta que define un m\u00e9todo abstracto `display_info`. Este m\u00e9todo deber\u00e1 ser implementado por cualquier subclase que herede de `Vehicle`."
      ]
    },
    {
      "cell_type": "code",
      "execution_count": null,
      "id": "57db57f6",
      "metadata": {},
      "outputs": [],
      "source": [
        "from abc import ABC, abstractmethod\n",
        "\n",
        "class Vehicle(ABC):\n",
        "    @abstractmethod\n",
        "    def display_info(self):\n",
        "        pass"
      ]
    },
    {
      "cell_type": "markdown",
      "id": "f59ed942",
      "metadata": {},
      "source": [
        "### Implementaci\u00f3n de Subclases:\n",
        "\n",
        "Vamos a crear subclases de `Vehicle`, como `Car` y `Motorcycle`, que implementen el m\u00e9todo `display_info`."
      ]
    },
    {
      "cell_type": "code",
      "execution_count": null,
      "id": "e6ee32f5",
      "metadata": {},
      "outputs": [],
      "source": [
        "class Car(Vehicle):\n",
        "    def __init__(self, make, model):\n",
        "        self.make = make\n",
        "        self.model = model\n",
        "\n",
        "    def display_info(self):\n",
        "        print(f\"Carro: Marca {self.make}, Modelo {self.model}\")\n",
        "\n",
        "class Motorcycle(Vehicle):\n",
        "    def __init__(self, make, model):\n",
        "        self.make = make\n",
        "        self.model = model\n",
        "\n",
        "    def display_info(self):\n",
        "        print(f\"Motocicleta: Marca {self.make}, Modelo {self.model}\")"
      ]
    },
    {
      "cell_type": "markdown",
      "id": "82588aa9",
      "metadata": {},
      "source": [
        "### Uso de las Subclases:\n",
        "\n",
        "Ahora podemos crear instancias de `Car` y `Motorcycle` y llamar al m\u00e9todo `display_info` en cada una de ellas."
      ]
    },
    {
      "cell_type": "code",
      "execution_count": null,
      "id": "06ad09b2",
      "metadata": {},
      "outputs": [],
      "source": [
        "mi_auto = Car(\"Toyota\", \"Corolla\")\n",
        "mi_moto = Motorcycle(\"Harley Davidson\", \"Street 750\")\n",
        "\n",
        "mi_auto.display_info()  # Muestra la informaci\u00f3n del carro\n",
        "mi_moto.display_info()  # Muestra la informaci\u00f3n de la motocicleta"
      ]
    },
    {
      "cell_type": "markdown",
      "id": "f0eca58e",
      "metadata": {},
      "source": [
        "### Conclusi\u00f3n:\n",
        "\n",
        "La abstracci\u00f3n en Python, a trav\u00e9s de clases abstractas, obliga a las subclases a implementar m\u00e9todos definidos en la clase base abstracta, asegurando as\u00ed una interfaz consistente. Este enfoque es \u00fatil en situaciones donde se requiere que diferentes tipos de objetos implementen un conjunto com\u00fan de m\u00e9todos, promoviendo la consistencia y la reutilizaci\u00f3n del c\u00f3digo.\n",
        "\n",
        "### Ejercicios:\n",
        "\n",
        "1. **Clase Abstracta `Shape`**: Define una clase abstracta `Shape` con un m\u00e9todo abstracto `calculate_area`. Implementa subclases como `Circle` y `Square` que calculen sus respectivas \u00e1reas.\n",
        "2. **Abstracci\u00f3n en Sistema de Gesti\u00f3n**: Crea una clase abstracta `Employee` con m\u00e9todos abstractos para `calculate_salary` y `display_details`. Implementa subclases para diferentes tipos de empleados.\n",
        "3. **Interfaz para Dispositivos Electr\u00f3nicos**: Dise\u00f1a una clase abstracta `ElectronicDevice` con m\u00e9todos abstractos `turn_on` y `turn_off`. Implementa subclases como `Television` y `Smartphone`."
      ]
    }
  ],
  "metadata": {},
  "nbformat": 4,
  "nbformat_minor": 5
}