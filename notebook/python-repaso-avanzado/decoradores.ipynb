{
  "cells": [
    {
      "cell_type": "markdown",
      "id": "bc50d568",
      "metadata": {},
      "source": [
        "# Decoradores\n",
        "\n",
        "### Introducci\u00f3n:\n",
        "\n",
        "Los decoradores en Python son una de las herramientas m\u00e1s potentes y \u00fatiles, permitiendo a los desarrolladores modificar o extender la funcionalidad de funciones y m\u00e9todos sin alterar su c\u00f3digo fuente. Este concepto, a menudo utilizado en frameworks y librer\u00edas, es fundamental para entender patrones de dise\u00f1o avanzados en Python.\n",
        "\n",
        "### Decoradores en Python:\n",
        "\n",
        "- **Concepto B\u00e1sico de Decoradores**:\n",
        "    - Un decorador es una funci\u00f3n que toma otra funci\u00f3n como argumento, a\u00f1ade alguna funcionalidad y retorna una funci\u00f3n.\n",
        "    - Se utilizan con el s\u00edmbolo `@` seguido del nombre del decorador.\n",
        "- **Creaci\u00f3n de un Decorador Simple**:\n",
        "    - Ejemplo de un decorador que imprime un mensaje antes y despu\u00e9s de la ejecuci\u00f3n de una funci\u00f3n."
      ]
    },
    {
      "cell_type": "code",
      "execution_count": null,
      "id": "a9d7c77e",
      "metadata": {},
      "outputs": [],
      "source": [
        "def my_decorator(func):\n",
        "    def wrapper():\n",
        "        print(\"Algo se est\u00e1 ejecutando antes de la funci\u00f3n.\")\n",
        "        func()\n",
        "        print(\"Algo se est\u00e1 ejecutando despu\u00e9s de la funci\u00f3n.\")\n",
        "    return wrapper\n",
        "\n",
        "@my_decorator\n",
        "def say_hello():\n",
        "    print(\"\u00a1Hola!\")\n",
        "\n",
        "say_hello()"
      ]
    },
    {
      "cell_type": "markdown",
      "id": "bea78b9a",
      "metadata": {},
      "source": [
        "- **Decoradores con Par\u00e1metros**:\n",
        "    - A veces, es necesario pasar argumentos adicionales a los decoradores. Esto se puede lograr utilizando otra funci\u00f3n envolvente."
      ]
    },
    {
      "cell_type": "code",
      "execution_count": null,
      "id": "77fa7ac5",
      "metadata": {},
      "outputs": [],
      "source": [
        "def decorator_with_args(argument):\n",
        "    def my_decorator(func):\n",
        "        def wrapper(*args, **kwargs):\n",
        "            print(f\"Argumento del decorador: {argument}\")\n",
        "            func(*args, **kwargs)\n",
        "        return wrapper\n",
        "    return my_decorator\n",
        "\n",
        "@decorator_with_args(\"ejemplo\")\n",
        "def say_hello(name):\n",
        "    print(f\"\u00a1Hola {name}!\")\n",
        "\n",
        "say_hello(\"Mundo\")"
      ]
    },
    {
      "cell_type": "markdown",
      "id": "7ceaae61",
      "metadata": {},
      "source": [
        "- **Decoradores en Clases**:\n",
        "    - Los decoradores tambi\u00e9n se pueden aplicar a m\u00e9todos dentro de una clase.\n",
        "    - Un uso com\u00fan es la modificaci\u00f3n del comportamiento de los m\u00e9todos, por ejemplo, para verificar permisos.\n",
        "- **Aplicaciones Pr\u00e1cticas**:\n",
        "    - Logging (registro de actividades).\n",
        "    - Control de acceso y autenticaci\u00f3n.\n",
        "    - Caching (almacenamiento en cach\u00e9).\n",
        "    - Validaci\u00f3n de datos.\n",
        "\n",
        "### Ejercicios:\n",
        "\n",
        "1. **Crear un Decorador de Timing**: Escribe un decorador que mida el tiempo de ejecuci\u00f3n de una funci\u00f3n.\n",
        "2. **Decorador de Logging**: Implementa un decorador que registre en un archivo cada vez que se llame a la funci\u00f3n decorada.\n",
        "3. **Decorador de Verificaci\u00f3n**: Dise\u00f1a un decorador que verifique si un argumento de la funci\u00f3n es de un tipo espec\u00edfico (por ejemplo, `int` o `str`).\n",
        "\n",
        "### Conclusi\u00f3n:\n",
        "\n",
        "Los decoradores son una herramienta poderosa que a\u00f1ade una gran flexibilidad y reutilizaci\u00f3n al c\u00f3digo en Python. Al comprender y aplicar decoradores, los desarrolladores pueden escribir c\u00f3digo m\u00e1s limpio, legible y eficiente. En la pr\u00f3xima clase, exploraremos los algoritmos b\u00e1sicos, comenzando con los algoritmos de ordenaci\u00f3n.\n",
        "\n",
        "### Soluciones:\n",
        "\n",
        "1. **Decorador de Timing**:"
      ]
    },
    {
      "cell_type": "code",
      "execution_count": null,
      "id": "29bcb50a",
      "metadata": {},
      "outputs": [],
      "source": [
        "import time\n",
        "\n",
        "def timing_decorator(func):\n",
        "    def wrapper(*args, **kwargs):\n",
        "        start_time = time.time()\n",
        "        result = func(*args, **kwargs)\n",
        "        end_time = time.time()\n",
        "        print(f\"{func.__name__} tom\u00f3 {end_time - start_time} segundos para ejecutarse.\")\n",
        "        return result\n",
        "    return wrapper\n",
        "\n",
        "@timing_decorator\n",
        "def ejemplo_funcion():\n",
        "    time.sleep(2)\n",
        "\n",
        "ejemplo_funcion()"
      ]
    },
    {
      "cell_type": "markdown",
      "id": "d47756d6",
      "metadata": {},
      "source": [
        "2. **Decorador de Logging**:"
      ]
    },
    {
      "cell_type": "code",
      "execution_count": null,
      "id": "94ed0083",
      "metadata": {},
      "outputs": [],
      "source": [
        "def logging_decorator(func):\n",
        "    def wrapper(*args, **kwargs):\n",
        "        result = func(*args, **kwargs)\n",
        "        with open(\"log.txt\", \"a\") as f:\n",
        "            f.write(f\"{func.__name__} fue llamada con {args}, {kwargs} y retorn\u00f3 {result}\\\\n\")\n",
        "        return result\n",
        "    return wrapper\n",
        "\n",
        "@logging_decorator\n",
        "def suma(a, b):\n",
        "    return a + b\n",
        "\n",
        "suma(3, 4)"
      ]
    },
    {
      "cell_type": "markdown",
      "id": "d2d740a9",
      "metadata": {},
      "source": [
        "3. **Decorador de Verificaci\u00f3n**:\n",
        "    \n",
        "    ```python\n",
        "    def type_check_decorator(correct_type):\n",
        "        def decorator(func):\n",
        "            def wrapper(argument):\n",
        "                if isinstance(argument, correct_type):\n",
        "                    return func(argument)\n",
        "                else:\n",
        "                    print(f\"Error: Argumento no es del tipo {correct_type}\")\n",
        "            return wrapper\n",
        "        return decorator\n",
        "    \n",
        "    @type_check_decorator(str)\n",
        "    def string_printer(text):\n",
        "        print(text)\n",
        "    \n",
        "    string_printer(\"Hola\")\n",
        "    string_printer(100)  # Muestra mensaje de error\n",
        "    \n",
        "    ```"
      ]
    }
  ],
  "metadata": {},
  "nbformat": 4,
  "nbformat_minor": 5
}