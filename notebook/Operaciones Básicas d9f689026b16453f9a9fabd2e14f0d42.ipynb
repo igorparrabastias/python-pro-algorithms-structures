{
 "cells": [
  {
   "cell_type": "markdown",
   "id": "1d49f691",
   "metadata": {},
   "source": [
    "# Operaciones Básicas\n",
    "\n",
    "Las operaciones básicas en un grafo incluyen agregar y eliminar nodos (vértices) y aristas (bordes). También es importante poder verificar si dos nodos están conectados por una arista. A continuación, te mostraré cómo implementar estas operaciones en un grafo utilizando una matriz de adyacencia en Python:\n",
    "\n",
    "### Operaciones Básicas en un Grafo con Matriz de Adyacencia\n",
    "\n",
    "**1. Agregar un Nodo (Vértice)**"
   ]
  },
  {
   "cell_type": "code",
   "execution_count": null,
   "id": "bd537ba8",
   "metadata": {},
   "outputs": [],
   "source": [
    "def add_vertex(self):\n",
    "    \"\"\"\n",
    "    Agrega un nuevo nodo (vértice) al grafo.\n",
    "    \"\"\"\n",
    "    self.num_vertices += 1\n",
    "    # Agregar una nueva fila y columna a la matriz de adyacencia con valores iniciales en 0\n",
    "    for row in self.adj_matrix:\n",
    "        row.append(0)\n",
    "    self.adj_matrix.append([0] * self.num_vertices)\n"
   ]
  },
  {
   "cell_type": "markdown",
   "id": "e5cb1b1c",
   "metadata": {},
   "source": [
    "**2. Eliminar un Nodo (Vértice)**"
   ]
  },
  {
   "cell_type": "code",
   "execution_count": null,
   "id": "7ebffc73",
   "metadata": {},
   "outputs": [],
   "source": [
    "def remove_vertex(self, vertex):\n",
    "    \"\"\"\n",
    "    Elimina un nodo (vértice) y todas sus aristas asociadas del grafo.\n",
    "    \"\"\"\n",
    "    if 0 <= vertex < self.num_vertices:\n",
    "        # Eliminar la fila correspondiente al vértice\n",
    "        del self.adj_matrix[vertex]\n",
    "        self.num_vertices -= 1\n",
    "        # Eliminar la columna correspondiente al vértice en todas las filas restantes\n",
    "        for row in self.adj_matrix:\n",
    "            del row[vertex]\n"
   ]
  },
  {
   "cell_type": "markdown",
   "id": "62acb7a1",
   "metadata": {},
   "source": [
    "**3. Agregar una Arista (Borde)**"
   ]
  },
  {
   "cell_type": "code",
   "execution_count": null,
   "id": "f5407f44",
   "metadata": {},
   "outputs": [],
   "source": [
    "def add_edge(self, start_vertex, end_vertex, weight=1):\n",
    "    \"\"\"\n",
    "    Agrega una arista (borde) entre dos nodos (vértices) con un peso opcional.\n",
    "    \"\"\"\n",
    "    if 0 <= start_vertex < self.num_vertices and 0 <= end_vertex < self.num_vertices:\n",
    "        self.adj_matrix[start_vertex][end_vertex] = weight\n",
    "        self.adj_matrix[end_vertex][start_vertex] = weight  # Si es un grafo no dirigido\n"
   ]
  },
  {
   "cell_type": "markdown",
   "id": "a3ccf9d2",
   "metadata": {},
   "source": [
    "**4. Eliminar una Arista (Borde)**"
   ]
  },
  {
   "cell_type": "code",
   "execution_count": null,
   "id": "e5c18a32",
   "metadata": {},
   "outputs": [],
   "source": [
    "def remove_edge(self, start_vertex, end_vertex):\n",
    "    \"\"\"\n",
    "    Elimina una arista (borde) entre dos nodos (vértices).\n",
    "    \"\"\"\n",
    "    if 0 <= start_vertex < self.num_vertices and 0 <= end_vertex < self.num_vertices:\n",
    "        self.adj_matrix[start_vertex][end_vertex] = 0\n",
    "        self.adj_matrix[end_vertex][start_vertex] = 0  # Si es un grafo no dirigido\n"
   ]
  },
  {
   "cell_type": "markdown",
   "id": "20d84030",
   "metadata": {},
   "source": [
    "**5. Verificar Conexiones entre Nodos**"
   ]
  },
  {
   "cell_type": "code",
   "execution_count": null,
   "id": "6eceeac8",
   "metadata": {},
   "outputs": [],
   "source": [
    "def are_connected(self, start_vertex, end_vertex):\n",
    "    \"\"\"\n",
    "    Verifica si dos nodos (vértices) están conectados por una arista.\n",
    "    \"\"\"\n",
    "    if 0 <= start_vertex < self.num_vertices and 0 <= end_vertex < self.num_vertices:\n",
    "        return self.adj_matrix[start_vertex][end_vertex] != 0\n",
    "    return False\n"
   ]
  },
  {
   "cell_type": "markdown",
   "id": "ad682e9d",
   "metadata": {},
   "source": [
    "Estas son las operaciones básicas que puedes realizar en un grafo utilizando una matriz de adyacencia. Puedes adaptar estas funciones según tus necesidades específicas. Es importante tener en cuenta que estas operaciones son para un grafo no dirigido; si trabajas con un grafo dirigido, la lógica puede variar en algunos casos."
   ]
  }
 ],
 "metadata": {},
 "nbformat": 4,
 "nbformat_minor": 5
}
