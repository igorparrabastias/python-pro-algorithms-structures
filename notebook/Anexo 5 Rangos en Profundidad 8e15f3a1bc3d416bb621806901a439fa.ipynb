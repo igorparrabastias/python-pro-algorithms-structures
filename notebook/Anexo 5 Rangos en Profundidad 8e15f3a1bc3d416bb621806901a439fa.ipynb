{
 "cells": [
  {
   "cell_type": "markdown",
   "id": "2ce0dfd3",
   "metadata": {},
   "source": [
    "# Anexo 5: Rangos en Profundidad\n",
    "\n",
    "- Análisis detallado sobre el uso y la aplicación de rangos en estructuras de datos.\n",
    "\n",
    "### Profundización en el uso de rangos **`range`** en Python\n",
    "\n",
    "El uso de la función **`range`** en Python va más allá de simplemente generar secuencias numéricas básicas. Para un manejo avanzado y eficiente, es importante comprender sus características y aplicaciones más profundas.\n",
    "\n",
    "1. **Características Avanzadas de `range`**:\n",
    "    - **Tres Parámetros**: **`range`** puede tomar hasta tres argumentos: **`range(start, stop, step)`**.\n",
    "        - **`start`**: El valor inicial de la secuencia.\n",
    "        - **`stop`**: El límite de la secuencia, que no se incluye en el rango.\n",
    "        - **`step`**: La diferencia entre cada número consecutivo en la secuencia.\n",
    "    - **Ejemplo Avanzado**: Crear una secuencia de números pares entre 2 y 10."
   ]
  },
  {
   "cell_type": "code",
   "execution_count": null,
   "id": "c96b75c1",
   "metadata": {},
   "outputs": [],
   "source": [
    "```python\n",
    "pythonCopy code\n",
    "for num in range(2, 11, 2):\n",
    "    print(num)  # Imprime 2, 4, 6, 8, 10\n",
    "\n",
    "```"
   ]
  },
  {
   "cell_type": "markdown",
   "id": "1477fd11",
   "metadata": {},
   "source": [
    "2. **Uso de `range` en Comprensiones de Listas**:\n",
    "    - Las comprensiones de listas con **`range`** ofrecen una manera compacta de generar listas basadas en rangos.\n",
    "    - **Ejemplo Avanzado**: Crear una lista de cuadrados de números del 1 al 10."
   ]
  },
  {
   "cell_type": "code",
   "execution_count": null,
   "id": "54f1fd34",
   "metadata": {},
   "outputs": [],
   "source": [
    "```python\n",
    "pythonCopy code\n",
    "cuadrados = [x**2 for x in range(1, 11)]\n",
    "print(cuadrados)  # [1, 4, 9, 16, 25, 36, 49, 64, 81, 100]\n",
    "\n",
    "```"
   ]
  },
  {
   "cell_type": "markdown",
   "id": "b7b05d26",
   "metadata": {},
   "source": [
    "3. **Iteración en Reversa con `range`**:\n",
    "    - Para iterar una secuencia en orden inverso, se puede utilizar un paso negativo.\n",
    "    - **Ejemplo Avanzado**: Contar hacia atrás desde 10 hasta 1."
   ]
  },
  {
   "cell_type": "code",
   "execution_count": null,
   "id": "a64f5a92",
   "metadata": {},
   "outputs": [],
   "source": [
    "```python\n",
    "pythonCopy code\n",
    "for num in range(10, 0, -1):\n",
    "    print(num)  # 10, 9, 8, ..., 1\n",
    "\n",
    "```"
   ]
  },
  {
   "cell_type": "markdown",
   "id": "f6305951",
   "metadata": {},
   "source": [
    "4. **Eficiencia de Memoria**:\n",
    "    - **`range`** en Python 3.x devuelve un objeto \"range\" que actúa como una secuencia inmutable, pero no almacena todos los valores en memoria. Esto lo hace muy eficiente para grandes rangos.\n",
    "    - **Ejemplo de Eficiencia**: Uso de **`range`** para grandes secuencias."
   ]
  },
  {
   "cell_type": "code",
   "execution_count": null,
   "id": "10cde4b9",
   "metadata": {},
   "outputs": [],
   "source": [
    "```python\n",
    "pythonCopy code\n",
    "gran_rango = range(1, 1000000)\n",
    "print(gran_rango[999999])  # Acceso rápido sin usar mucha memoria\n",
    "\n",
    "```"
   ]
  },
  {
   "cell_type": "markdown",
   "id": "35b7c547",
   "metadata": {},
   "source": [
    "5. **Uso en Condiciones y Bucles Anidados**:\n",
    "    - **`range`** puede ser utilizado eficazmente en condiciones y bucles anidados para crear estructuras de datos complejas o para realizar operaciones avanzadas.\n",
    "    - **Ejemplo de Bucle Anidado**: Crear una matriz (lista de listas) usando **`range`**."
   ]
  },
  {
   "cell_type": "code",
   "execution_count": null,
   "id": "b064aa23",
   "metadata": {},
   "outputs": [],
   "source": [
    "```python\n",
    "pythonCopy code\n",
    "matriz = [[x*y for x in range(1, 4)] for y in range(1, 4)]\n",
    "print(matriz)  # [[1, 2, 3], [2, 4, 6], [3, 6, 9]]\n",
    "\n",
    "```\n"
   ]
  },
  {
   "cell_type": "markdown",
   "id": "f3f6a638",
   "metadata": {},
   "source": [
    "El dominio de **`range`** y su integración con otras estructuras y funciones en Python es un indicador del nivel de habilidad de un programador. Permite la creación de código más eficiente, legible y elegante, especialmente en situaciones que requieren iteración o generación de secuencias numéricas."
   ]
  }
 ],
 "metadata": {},
 "nbformat": 4,
 "nbformat_minor": 5
}
