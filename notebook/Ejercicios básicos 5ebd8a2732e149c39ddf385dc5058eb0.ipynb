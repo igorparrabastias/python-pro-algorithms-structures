{
 "cells": [
  {
   "cell_type": "markdown",
   "id": "67a1182c",
   "metadata": {},
   "source": [
    "# Ejercicios básicos\n",
    "\n",
    "### Ejercicio 1: Crear una Tupla\n",
    "\n",
    "Crea una tupla con números del 1 al 5."
   ]
  },
  {
   "cell_type": "code",
   "execution_count": null,
   "id": "18432422",
   "metadata": {},
   "outputs": [],
   "source": [
    "# Ejercicio\n",
    "tupla1 = (1, 2, 3, 4, 5)\n"
   ]
  },
  {
   "cell_type": "markdown",
   "id": "eaf42ef5",
   "metadata": {},
   "source": [
    "### Ejercicio 2: Acceder al Tercer Elemento\n",
    "\n",
    "Accede al tercer elemento de una tupla."
   ]
  },
  {
   "cell_type": "code",
   "execution_count": null,
   "id": "96777a0c",
   "metadata": {},
   "outputs": [],
   "source": [
    "# Ejercicio\n",
    "tercer_elemento = tupla1[2]  # 3\n"
   ]
  },
  {
   "cell_type": "markdown",
   "id": "89e6c0ad",
   "metadata": {},
   "source": [
    "### Ejercicio 3: Tupla Unitaria\n",
    "\n",
    "Crea una tupla con un solo elemento."
   ]
  },
  {
   "cell_type": "code",
   "execution_count": null,
   "id": "161bcc9a",
   "metadata": {},
   "outputs": [],
   "source": [
    "# Ejercicio\n",
    "tupla_unitaria = (5,)\n"
   ]
  },
  {
   "cell_type": "markdown",
   "id": "9f92a426",
   "metadata": {},
   "source": [
    "### Ejercicio 4: Concatenar Tuplas\n",
    "\n",
    "Concatena dos tuplas."
   ]
  },
  {
   "cell_type": "code",
   "execution_count": null,
   "id": "5d7f94a7",
   "metadata": {},
   "outputs": [],
   "source": [
    "# Ejercicio\n",
    "tupla2 = (6, 7)\n",
    "tupla_concatenada = tupla1 + tupla2  # (1, 2, 3, 4, 5, 6, 7)\n"
   ]
  },
  {
   "cell_type": "markdown",
   "id": "4031e873",
   "metadata": {},
   "source": [
    "### Ejercicio 5: Repetir Tupla\n",
    "\n",
    "Repite una tupla tres veces."
   ]
  },
  {
   "cell_type": "code",
   "execution_count": null,
   "id": "377e6523",
   "metadata": {},
   "outputs": [],
   "source": [
    "# Ejercicio\n",
    "tupla_repetida = tupla1 * 3\n"
   ]
  },
  {
   "cell_type": "markdown",
   "id": "de2d3a92",
   "metadata": {},
   "source": [
    "### Ejercicio 6: Verificar Si un Elemento Está en una Tupla\n",
    "\n",
    "Verifica si el número 4 está en la tupla."
   ]
  },
  {
   "cell_type": "code",
   "execution_count": null,
   "id": "a65365ab",
   "metadata": {},
   "outputs": [],
   "source": [
    "# Ejercicio\n",
    "esta_4_en_tupla = 4 in tupla1  # True\n"
   ]
  },
  {
   "cell_type": "markdown",
   "id": "1440b493",
   "metadata": {},
   "source": [
    "### Ejercicio 7: Longitud de una Tupla\n",
    "\n",
    "Encuentra la longitud de una tupla."
   ]
  },
  {
   "cell_type": "code",
   "execution_count": null,
   "id": "af48f8e1",
   "metadata": {},
   "outputs": [],
   "source": [
    "# Ejercicio\n",
    "longitud = len(tupla1)  # 5\n"
   ]
  },
  {
   "cell_type": "markdown",
   "id": "5b99ff42",
   "metadata": {},
   "source": [
    "### Ejercicio 8: Máximo y Mínimo de una Tupla\n",
    "\n",
    "Encuentra el valor máximo y mínimo en una tupla de números."
   ]
  },
  {
   "cell_type": "code",
   "execution_count": null,
   "id": "0d69eed3",
   "metadata": {},
   "outputs": [],
   "source": [
    "# Ejercicio\n",
    "maximo = max(tupla1)  # 5\n",
    "minimo = min(tupla1)  # 1\n"
   ]
  },
  {
   "cell_type": "markdown",
   "id": "bb367a48",
   "metadata": {},
   "source": [
    "### Ejercicio 9: Tupla a Lista\n",
    "\n",
    "Convierte una tupla en una lista."
   ]
  },
  {
   "cell_type": "code",
   "execution_count": null,
   "id": "ab5b8ed4",
   "metadata": {},
   "outputs": [],
   "source": [
    "# Ejercicio\n",
    "lista_desde_tupla = list(tupla1)\n"
   ]
  },
  {
   "cell_type": "markdown",
   "id": "75ba3a28",
   "metadata": {},
   "source": [
    "### Ejercicio 10: Último Elemento de una Tupla\n",
    "\n",
    "Accede al último elemento de una tupla."
   ]
  },
  {
   "cell_type": "code",
   "execution_count": null,
   "id": "ff542827",
   "metadata": {},
   "outputs": [],
   "source": [
    "# Ejercicio\n",
    "ultimo_elemento = tupla1[-1]  # 5\n"
   ]
  },
  {
   "cell_type": "markdown",
   "id": "42088acf",
   "metadata": {},
   "source": [
    "### Ejercicio 11: Suma de Elementos de Tupla\n",
    "\n",
    "Calcula la suma de todos los elementos en una tupla."
   ]
  },
  {
   "cell_type": "code",
   "execution_count": null,
   "id": "927f2f5f",
   "metadata": {},
   "outputs": [],
   "source": [
    "# Ejercicio\n",
    "suma_tupla = sum(tupla1)  # 15\n"
   ]
  },
  {
   "cell_type": "markdown",
   "id": "de07f3b1",
   "metadata": {},
   "source": [
    "### Ejercicio 12: Convertir Lista en Tupla\n",
    "\n",
    "Convierte una lista en una tupla."
   ]
  },
  {
   "cell_type": "code",
   "execution_count": null,
   "id": "f20ca1f5",
   "metadata": {},
   "outputs": [],
   "source": [
    "# Ejercicio\n",
    "lista = [1, 2, 3]\n",
    "tupla_desde_lista = tuple(lista)\n"
   ]
  },
  {
   "cell_type": "markdown",
   "id": "f7bca156",
   "metadata": {},
   "source": [
    "### Ejercicio 13: Tupla de Tuplas\n",
    "\n",
    "Crea una tupla de tuplas."
   ]
  },
  {
   "cell_type": "code",
   "execution_count": null,
   "id": "f0c4f27f",
   "metadata": {},
   "outputs": [],
   "source": [
    "# Ejercicio\n",
    "tupla_tuplas = ((1, 2), (3, 4), (5, 6))\n"
   ]
  },
  {
   "cell_type": "markdown",
   "id": "7a64ca4a",
   "metadata": {},
   "source": [
    "### Ejercicio 14: Index de un Elemento\n",
    "\n",
    "Encuentra el índice de un elemento en una tupla."
   ]
  },
  {
   "cell_type": "code",
   "execution_count": null,
   "id": "dac62829",
   "metadata": {},
   "outputs": [],
   "source": [
    "# Ejercicio\n",
    "indice = tupla1.index(3)  # 2\n"
   ]
  },
  {
   "cell_type": "markdown",
   "id": "24741cc7",
   "metadata": {},
   "source": [
    "### Ejercicio 15: Desempaquetado de Tuplas\n",
    "\n",
    "Desempaqueta los siguientes valores de una tupla en variables."
   ]
  },
  {
   "cell_type": "code",
   "execution_count": null,
   "id": "216eda22",
   "metadata": {},
   "outputs": [],
   "source": [
    "# Ejercicio\n",
    "tupla3 = (1, \"Hola\", True)\n",
    "a, b, c = tupla3  # a = 1, b = \"Hola\", c = True\n"
   ]
  },
  {
   "cell_type": "markdown",
   "id": "89816c79",
   "metadata": {},
   "source": [
    "### Ejercicio 16: Tupla de Caracteres a String\n",
    "\n",
    "Convierte una tupla de caracteres en un string."
   ]
  },
  {
   "cell_type": "code",
   "execution_count": null,
   "id": "b3fc22ff",
   "metadata": {},
   "outputs": [],
   "source": [
    "# Ejercicio\n",
    "tupla_caracteres = ('P', 'y', 't', 'h', 'o', 'n')\n",
    "string = ''.join(tupla_caracteres)  # \"Python\"\n"
   ]
  },
  {
   "cell_type": "markdown",
   "id": "1723821e",
   "metadata": {},
   "source": [
    "### Ejercicio 17: Elemento Máximo en Tupla de Tuplas\n",
    "\n",
    "Encuentra el valor máximo en cada tupla interna de una tupla de tuplas."
   ]
  },
  {
   "cell_type": "code",
   "execution_count": null,
   "id": "4da38ee9",
   "metadata": {},
   "outputs": [],
   "source": [
    "# Ejercicio\n",
    "maximos = [max(t) for t in tupla_tuplas]  # [2, 4, 6]\n"
   ]
  },
  {
   "cell_type": "markdown",
   "id": "ab3c6283",
   "metadata": {},
   "source": [
    "### Ejercicio 18: Combinar Tuplas en una Lista de Tuplas\n",
    "\n",
    "Combina dos tuplas en una lista de tuplas."
   ]
  },
  {
   "cell_type": "code",
   "execution_count": null,
   "id": "4c8e8cd4",
   "metadata": {},
   "outputs": [],
   "source": [
    "# Ejercicio\n",
    "tupla4 = (1, 2, 3)\n",
    "tupla5 = (4, 5, 6)\n",
    "tuplas_combinadas = list(zip(tupla4, tupla5))  # [(1, 4), (2, 5), (3, 6)]\n"
   ]
  },
  {
   "cell_type": "markdown",
   "id": "d217c7eb",
   "metadata": {},
   "source": [
    "### Ejercicio 19: Crear una Tupla con Rango\n",
    "\n",
    "Crea una tupla utilizando la función `range()`."
   ]
  },
  {
   "cell_type": "code",
   "execution_count": null,
   "id": "a8bc8245",
   "metadata": {},
   "outputs": [],
   "source": [
    "# Ejercicio\n",
    "tupla_rango = tuple(range(5))  # (0, 1, 2, 3, 4)\n"
   ]
  },
  {
   "cell_type": "markdown",
   "id": "84dc1f72",
   "metadata": {},
   "source": [
    "### Ejercicio 20: Contar Elementos en Tupla\n",
    "\n",
    "Cuenta cuántas veces aparece el número 1 en una tupla."
   ]
  },
  {
   "cell_type": "code",
   "execution_count": null,
   "id": "04c259a5",
   "metadata": {},
   "outputs": [],
   "source": [
    "# Ejercicio\n",
    "tupla6 = (1, 2, 1, 1, 3)\n",
    "conteo_1 = tupla6.count(1)  # 3\n"
   ]
  },
  {
   "cell_type": "markdown",
   "id": "8a750270",
   "metadata": {},
   "source": [
    "Estos ejercicios cubren una variedad de operaciones fundamentales y avanzadas con tuplas en Python, ayudando a profundizar la comprensión de esta estructura de datos inmutable y versátil."
   ]
  }
 ],
 "metadata": {},
 "nbformat": 4,
 "nbformat_minor": 5
}
