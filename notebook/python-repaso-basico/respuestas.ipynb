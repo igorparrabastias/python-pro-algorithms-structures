{
 "cells": [
  {
   "cell_type": "markdown",
   "id": "f0a28395",
   "metadata": {},
   "source": [
    "# Respuestas\n",
    "\n",
    "1: a\n",
    "2: c\n",
    "3: b\n",
    "4: a\n",
    "5: c\n",
    "6: c\n",
    "7: b\n",
    "8: b\n",
    "9: a\n",
    "10: c\n",
    "11: a\n",
    "12: d\n",
    "13: b\n",
    "14: b\n",
    "15: c\n",
    "16: a\n",
    "17: c\n",
    "18: a\n",
    "19: a\n",
    "20: a"
   ]
  }
 ],
 "metadata": {},
 "nbformat": 4,
 "nbformat_minor": 5
}
