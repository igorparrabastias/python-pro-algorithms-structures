{
  "cells": [
    {
      "attachments": {},
      "cell_type": "markdown",
      "id": "c0e4b751",
      "metadata": {},
      "source": [
        "# El Versátil Iterador \"for\"\n",
        "\n",
        "## Introducción:\n",
        "\n",
        "Los bucles for son una herramienta fundamental en la programación en Python, permitiéndonos iterar sobre una secuencia de elementos de una manera eficiente y legible. En esta clase, nos centraremos en entender cómo utilizar los bucles for para manejar diferentes tipos de iteraciones, con especial atención en las funciones `range` y `enumerate`, que son esenciales para controlar y acceder a los índices durante la iteración.\n",
        "\n",
        "### Uso de Bucles For:\n",
        "\n",
        "- **Definición y Sintaxis Básica**:\n",
        "    - Un bucle for en Python itera sobre los elementos de cualquier secuencia (como una lista, una tupla o una cadena de texto) en el orden en que aparecen en la secuencia.\n",
        "    - Sintaxis básica: `for elemento in secuencia:` seguido de un bloque de código indentado que define lo que se debe realizar en cada iteración.\n",
        "- **Uso de `range`**:\n",
        "    - La función `range` se utiliza para generar una secuencia de números. Es comúnmente usada en bucles for para repetir un bloque de código un número específico de veces.\n",
        "    - Ejemplo: `for i in range(5):` ejecutará el bloque de código cinco veces, con `i` tomando valores de 0 a 4.\n",
        "- **Uso de `enumerate`**:\n",
        "    - `enumerate` es útil para obtener tanto el índice como el valor de los elementos en una secuencia.\n",
        "    - Sintaxis: `for indice, valor in enumerate(secuencia):`.\n",
        "    - Proporciona una forma conveniente de acceder al índice de cada elemento dentro del bucle.\n",
        "\n",
        "### Ejemplos:"
      ]
    },
    {
      "cell_type": "code",
      "execution_count": 28,
      "id": "4fb57152",
      "metadata": {},
      "outputs": [
        {
          "name": "stdout",
          "output_type": "stream",
          "text": [
            "0\n",
            "1\n",
            "2\n",
            "3\n",
            "4\n",
            "manzana\n",
            "banana\n",
            "cereza\n",
            "Índice: 0, Fruta: manzana\n",
            "Índice: 1, Fruta: banana\n",
            "Índice: 2, Fruta: cereza\n"
          ]
        }
      ],
      "source": [
        "# Ejemplo de bucle for con range\n",
        "for i in range(5):\n",
        "    print(i)\n",
        "\n",
        "# Ejemplo de bucle for iterando sobre una lista\n",
        "frutas = [\"manzana\", \"banana\", \"cereza\"]\n",
        "for fruta in frutas:\n",
        "    print(fruta)\n",
        "\n",
        "# Ejemplo usando enumerate para obtener índice y valor\n",
        "for indice, fruta in enumerate(frutas):\n",
        "    print(f\"Índice: {indice}, Fruta: {fruta}\")"
      ]
    },
    {
      "attachments": {},
      "cell_type": "markdown",
      "id": "fb212565",
      "metadata": {},
      "source": [
        "### Ejercicios:\n",
        "\n",
        "1. **Contar hacia atrás**:\n",
        "    - Escribe un bucle for que cuente hacia atrás desde 10 hasta 1 y luego imprima \"Despegue!\".\n",
        "2. **Sumar números**:\n",
        "    - Utiliza un bucle for y la función `range` para sumar los primeros 10 números enteros (1 a 10).\n",
        "3. **Índices y Elementos**:\n",
        "    - Dada una lista de nombres, utiliza `enumerate` para imprimir cada nombre con su correspondiente índice.\n",
        "\n",
        "## Iteración con `for`: Más allá de Listas y Tuplas\n",
        "\n",
        "La versatilidad de los bucles `for` en Python permite iterar sobre una amplia variedad de estructuras de datos, no solo listas y tuplas. Entender estas capacidades es fundamental para aprovechar plenamente el potencial de Python en la manipulación de datos y la implementación de algoritmos. A continuación, exploraremos algunas de las estructuras y tipos de datos adicionales sobre los cuales se puede iterar con `for`.\n",
        "\n",
        "### Diccionarios:\n",
        "Los diccionarios en Python son colecciones no ordenadas de pares clave-valor. Iterar sobre ellos puede realizarse de varias maneras:\n",
        "\n",
        "- **Iterar sobre las claves**:"
      ]
    },
    {
      "cell_type": "code",
      "execution_count": 29,
      "id": "d94346bd",
      "metadata": {},
      "outputs": [
        {
          "name": "stdout",
          "output_type": "stream",
          "text": [
            "nombre\n",
            "edad\n",
            "ciudad\n"
          ]
        }
      ],
      "source": [
        "mi_diccionario = {'nombre': 'Juan', 'edad': 30, 'ciudad': 'Madrid'}\n",
        "for clave in mi_diccionario:\n",
        "    print(clave)  # Imprime las claves del diccionario"
      ]
    },
    {
      "attachments": {},
      "cell_type": "markdown",
      "id": "bea4cece",
      "metadata": {},
      "source": [
        "- **Iterar sobre los valores**:"
      ]
    },
    {
      "cell_type": "code",
      "execution_count": 30,
      "id": "b5598d28",
      "metadata": {},
      "outputs": [
        {
          "name": "stdout",
          "output_type": "stream",
          "text": [
            "Juan\n",
            "30\n",
            "Madrid\n"
          ]
        }
      ],
      "source": [
        "for valor in mi_diccionario.values():\n",
        "    print(valor)  # Imprime los valores del diccionario"
      ]
    },
    {
      "attachments": {},
      "cell_type": "markdown",
      "id": "3ec414ab",
      "metadata": {},
      "source": [
        "- **Iterar sobre los pares clave-valor**:"
      ]
    },
    {
      "cell_type": "code",
      "execution_count": 31,
      "id": "2a333844",
      "metadata": {},
      "outputs": [
        {
          "name": "stdout",
          "output_type": "stream",
          "text": [
            "nombre Juan\n",
            "edad 30\n",
            "ciudad Madrid\n"
          ]
        }
      ],
      "source": [
        "for clave, valor in mi_diccionario.items():\n",
        "    print(clave, valor)  # Imprime los pares clave-valor"
      ]
    },
    {
      "attachments": {},
      "cell_type": "markdown",
      "id": "f02f4847",
      "metadata": {},
      "source": [
        "### Conjuntos (Sets):\n",
        "Los conjuntos son colecciones desordenadas de elementos únicos. Iterar sobre un conjunto es similar a iterar sobre una lista, pero sin un orden definido.\n",
        "\n",
        "- **Iteración sobre conjuntos**:"
      ]
    },
    {
      "cell_type": "code",
      "execution_count": 32,
      "id": "ab3915e7",
      "metadata": {},
      "outputs": [
        {
          "name": "stdout",
          "output_type": "stream",
          "text": [
            "1\n",
            "2\n",
            "3\n",
            "4\n",
            "5\n"
          ]
        }
      ],
      "source": [
        "mi_conjunto = {1, 2, 3, 4, 5}\n",
        "for elemento in mi_conjunto:\n",
        "    print(elemento)"
      ]
    },
    {
      "attachments": {},
      "cell_type": "markdown",
      "id": "66ad913f",
      "metadata": {},
      "source": [
        "### Cadenas de caracteres (Strings):\n",
        "Las cadenas de caracteres, aunque no son colecciones de datos como tal, se pueden iterar caracter por caracter utilizando un bucle `for`.\n",
        "\n",
        "- **Iteración sobre cadenas**:"
      ]
    },
    {
      "cell_type": "code",
      "execution_count": 33,
      "id": "85a82710",
      "metadata": {},
      "outputs": [
        {
          "name": "stdout",
          "output_type": "stream",
          "text": [
            "P\n",
            "y\n",
            "t\n",
            "h\n",
            "o\n",
            "n\n"
          ]
        }
      ],
      "source": [
        "mi_cadena = \"Python\"\n",
        "for caracter in mi_cadena:\n",
        "    print(caracter)"
      ]
    },
    {
      "attachments": {},
      "cell_type": "markdown",
      "id": "4136dcf7",
      "metadata": {},
      "source": [
        "### Archivos:\n",
        "Python permite iterar sobre las líneas de un archivo directamente utilizando un bucle `for`, lo que facilita la lectura de archivos grandes de manera eficiente.\n",
        "\n",
        "- **Iteración sobre líneas de un archivo**:"
      ]
    },
    {
      "cell_type": "code",
      "execution_count": 34,
      "id": "a1cb8f94",
      "metadata": {},
      "outputs": [
        {
          "name": "stdout",
          "output_type": "stream",
          "text": [
            "Algun contenido de texto\n",
            "Segunda línea de texto\n",
            "Tercera línea de texto\n"
          ]
        }
      ],
      "source": [
        "with open('ejemplo2.txt', 'r') as archivo:\n",
        "    for linea in archivo:\n",
        "        print(linea.strip())  # Imprime cada línea del archivo"
      ]
    },
    {
      "attachments": {},
      "cell_type": "markdown",
      "id": "7d18d5d0",
      "metadata": {},
      "source": [
        "### Generadores y Iteradores:\n",
        "Los generadores proporcionan una manera de crear iterables de manera eficiente, mientras que los iteradores son objetos que permiten iterar sobre colecciones. Ambos pueden ser usados con un bucle `for` para recorrer sus elementos.\n",
        "\n",
        "- **Uso de generadores**:"
      ]
    },
    {
      "cell_type": "code",
      "execution_count": 35,
      "id": "89f280ab",
      "metadata": {},
      "outputs": [
        {
          "name": "stdout",
          "output_type": "stream",
          "text": [
            "0\n",
            "2\n",
            "4\n",
            "6\n",
            "8\n",
            "10\n",
            "12\n",
            "14\n",
            "16\n",
            "18\n"
          ]
        }
      ],
      "source": [
        "generador = (x * 2 for x in range(10))\n",
        "for valor in generador:\n",
        "    print(valor)"
      ]
    },
    {
      "attachments": {},
      "cell_type": "markdown",
      "id": "623cfb03",
      "metadata": {},
      "source": [
        "## Conclusiones:\n",
        "La capacidad de iterar sobre múltiples estructuras de datos con `for` hace de Python una herramienta extremadamente flexible y poderosa para el manejo de datos. Desde estructuras de datos nativas como listas, diccionarios y conjuntos hasta estructuras más complejas como archivos y generadores, la iteración es un concepto clave en Python que facilita la implementación de soluciones eficientes y elegantes para una amplia gama de problemas de programación. En clases futuras, exploraremos cómo estas capacidades se aplican en contextos específicos y cómo pueden ser aprovechadas para crear algoritmos más sofisticados."
      ]
    },
    {
      "attachments": {},
      "cell_type": "markdown",
      "id": "b459ac4a",
      "metadata": {},
      "source": [
        "## Soluciones\n",
        "\n",
        "1. **Contar hacia atrás**:\n",
        "Este ejercicio implica usar un bucle for con `range` para contar hacia atrás. La función `range` puede tomar tres argumentos: inicio, fin, y paso. Usaremos el paso como -1 para contar hacia atrás."
      ]
    },
    {
      "cell_type": "code",
      "execution_count": 36,
      "id": "a340e34c",
      "metadata": {},
      "outputs": [
        {
          "name": "stdout",
          "output_type": "stream",
          "text": [
            "10\n",
            "9\n",
            "8\n",
            "7\n",
            "6\n",
            "5\n",
            "4\n",
            "3\n",
            "2\n",
            "1\n",
            "Despegue!\n"
          ]
        }
      ],
      "source": [
        "for i in range(10, 0, -1):\n",
        "    print(i)\n",
        "print(\"Despegue!\")"
      ]
    },
    {
      "attachments": {},
      "cell_type": "markdown",
      "id": "f3d7d687",
      "metadata": {},
      "source": [
        "2. **Sumar números**:\n",
        "Aquí, utilizaremos un bucle for para sumar los números del 1 al 10. Inicializaremos una variable `suma` en 0 y la iremos incrementando con cada número del rango."
      ]
    },
    {
      "cell_type": "code",
      "execution_count": 37,
      "id": "39cf9ec3",
      "metadata": {},
      "outputs": [
        {
          "name": "stdout",
          "output_type": "stream",
          "text": [
            "La suma de los primeros 10 números enteros es: 55\n"
          ]
        }
      ],
      "source": [
        "suma = 0\n",
        "for numero in range(1, 11):\n",
        "    suma += numero\n",
        "print(f\"La suma de los primeros 10 números enteros es: {suma}\")"
      ]
    },
    {
      "attachments": {},
      "cell_type": "markdown",
      "id": "3c7899be",
      "metadata": {},
      "source": [
        "3. **Índices y Elementos**:\n",
        "En este ejercicio, se utilizará `enumerate` para imprimir cada nombre de una lista junto con su índice. `enumerate` devuelve pares de índices y elementos que podemos usar en el bucle for."
      ]
    },
    {
      "cell_type": "code",
      "execution_count": 38,
      "id": "15e35127",
      "metadata": {},
      "outputs": [
        {
          "name": "stdout",
          "output_type": "stream",
          "text": [
            "Índice: 0, Nombre: Alice\n",
            "Índice: 1, Nombre: Bob\n",
            "Índice: 2, Nombre: Charlie\n"
          ]
        }
      ],
      "source": [
        "nombres = [\"Alice\", \"Bob\", \"Charlie\"]\n",
        "for indice, nombre in enumerate(nombres):\n",
        "    print(f\"Índice: {indice}, Nombre: {nombre}\")"
      ]
    },
    {
      "attachments": {},
      "cell_type": "markdown",
      "id": "690df0a5",
      "metadata": {},
      "source": [
        "Estos ejercicios ayudan a reforzar el entendimiento de cómo funcionan los bucles for en Python, así como el uso de funciones útiles como `range` y `enumerate`."
      ]
    }
  ],
  "metadata": {
    "kernelspec": {
      "display_name": "Python 3",
      "language": "python",
      "name": "python3"
    },
    "language_info": {
      "codemirror_mode": {
        "name": "ipython",
        "version": 3
      },
      "file_extension": ".py",
      "mimetype": "text/x-python",
      "name": "python",
      "nbconvert_exporter": "python",
      "pygments_lexer": "ipython3",
      "version": "3.8.10"
    }
  },
  "nbformat": 4,
  "nbformat_minor": 5
}
