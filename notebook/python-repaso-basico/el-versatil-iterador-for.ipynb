{
  "cells": [
    {
      "attachments": {},
      "cell_type": "markdown",
      "id": "c0e4b751",
      "metadata": {},
      "source": [
        "# El Versátil Iterador \"for”\"\n",
        "\n",
        "## Introducción:\n",
        "\n",
        "Los bucles for son una herramienta fundamental en la programación en Python, permitiéndonos iterar sobre una secuencia de elementos de una manera eficiente y legible. En esta clase, nos centraremos en entender cómo utilizar los bucles for para manejar diferentes tipos de iteraciones, con especial atención en las funciones `range` y `enumerate`, que son esenciales para controlar y acceder a los índices durante la iteración.\n",
        "\n",
        "### Uso de Bucles For:\n",
        "\n",
        "- **Definición y Sintaxis Básica**:\n",
        "    - Un bucle for en Python itera sobre los elementos de cualquier secuencia (como una lista, una tupla o una cadena de texto) en el orden en que aparecen en la secuencia.\n",
        "    - Sintaxis básica: `for elemento in secuencia:` seguido de un bloque de código indentado que define lo que se debe realizar en cada iteración.\n",
        "- **Uso de `range`**:\n",
        "    - La función `range` se utiliza para generar una secuencia de números. Es comúnmente usada en bucles for para repetir un bloque de código un número específico de veces.\n",
        "    - Ejemplo: `for i in range(5):` ejecutará el bloque de código cinco veces, con `i` tomando valores de 0 a 4.\n",
        "- **Uso de `enumerate`**:\n",
        "    - `enumerate` es útil para obtener tanto el índice como el valor de los elementos en una secuencia.\n",
        "    - Sintaxis: `for indice, valor in enumerate(secuencia):`.\n",
        "    - Proporciona una forma conveniente de acceder al índice de cada elemento dentro del bucle.\n",
        "\n",
        "### Ejemplos:"
      ]
    },
    {
      "cell_type": "code",
      "execution_count": 1,
      "id": "4fb57152",
      "metadata": {},
      "outputs": [
        {
          "name": "stdout",
          "output_type": "stream",
          "text": [
            "0\n",
            "1\n",
            "2\n",
            "3\n",
            "4\n",
            "manzana\n",
            "banana\n",
            "cereza\n",
            "Índice: 0, Fruta: manzana\n",
            "Índice: 1, Fruta: banana\n",
            "Índice: 2, Fruta: cereza\n"
          ]
        }
      ],
      "source": [
        "# Ejemplo de bucle for con range\n",
        "for i in range(5):\n",
        "    print(i)\n",
        "\n",
        "# Ejemplo de bucle for iterando sobre una lista\n",
        "frutas = [\"manzana\", \"banana\", \"cereza\"]\n",
        "for fruta in frutas:\n",
        "    print(fruta)\n",
        "\n",
        "# Ejemplo usando enumerate para obtener índice y valor\n",
        "for indice, fruta in enumerate(frutas):\n",
        "    print(f\"Índice: {indice}, Fruta: {fruta}\")"
      ]
    },
    {
      "attachments": {},
      "cell_type": "markdown",
      "id": "fb212565",
      "metadata": {},
      "source": [
        "### Ejercicios:\n",
        "\n",
        "1. **Contar hacia atrás**:\n",
        "    - Escribe un bucle for que cuente hacia atrás desde 10 hasta 1 y luego imprima \"Despegue!\".\n",
        "2. **Sumar números**:\n",
        "    - Utiliza un bucle for y la función `range` para sumar los primeros 10 números enteros (1 a 10).\n",
        "3. **Índices y Elementos**:\n",
        "    - Dada una lista de nombres, utiliza `enumerate` para imprimir cada nombre con su correspondiente índice.\n",
        "\n",
        "### Conclusión:\n",
        "\n",
        "En esta clase, hemos visto cómo los bucles for son una herramienta esencial para iterar sobre secuencias en Python. Hemos explorado el uso de `range` para iteraciones basadas en números y `enumerate` para acceder a los índices y valores al iterar. Estos conceptos son la base para muchas operaciones más complejas en Python. En la próxima clase, abordaremos el tema de las cadenas de texto y cómo manipularlas en Python.\n",
        "\n",
        "## Soluciones\n",
        "\n",
        "1. **Contar hacia atrás**:\n",
        "Este ejercicio implica usar un bucle for con `range` para contar hacia atrás. La función `range` puede tomar tres argumentos: inicio, fin, y paso. Usaremos el paso como -1 para contar hacia atrás."
      ]
    },
    {
      "cell_type": "code",
      "execution_count": 2,
      "id": "a340e34c",
      "metadata": {},
      "outputs": [
        {
          "name": "stdout",
          "output_type": "stream",
          "text": [
            "10\n",
            "9\n",
            "8\n",
            "7\n",
            "6\n",
            "5\n",
            "4\n",
            "3\n",
            "2\n",
            "1\n",
            "Despegue!\n"
          ]
        }
      ],
      "source": [
        "for i in range(10, 0, -1):\n",
        "    print(i)\n",
        "print(\"Despegue!\")"
      ]
    },
    {
      "attachments": {},
      "cell_type": "markdown",
      "id": "f3d7d687",
      "metadata": {},
      "source": [
        "2. **Sumar números**:\n",
        "Aquí, utilizaremos un bucle for para sumar los números del 1 al 10. Inicializaremos una variable `suma` en 0 y la iremos incrementando con cada número del rango."
      ]
    },
    {
      "cell_type": "code",
      "execution_count": 3,
      "id": "39cf9ec3",
      "metadata": {},
      "outputs": [
        {
          "name": "stdout",
          "output_type": "stream",
          "text": [
            "La suma de los primeros 10 números enteros es: 55\n"
          ]
        }
      ],
      "source": [
        "suma = 0\n",
        "for numero in range(1, 11):\n",
        "    suma += numero\n",
        "print(f\"La suma de los primeros 10 números enteros es: {suma}\")"
      ]
    },
    {
      "attachments": {},
      "cell_type": "markdown",
      "id": "3c7899be",
      "metadata": {},
      "source": [
        "3. **Índices y Elementos**:\n",
        "En este ejercicio, se utilizará `enumerate` para imprimir cada nombre de una lista junto con su índice. `enumerate` devuelve pares de índices y elementos que podemos usar en el bucle for."
      ]
    },
    {
      "cell_type": "code",
      "execution_count": 4,
      "id": "15e35127",
      "metadata": {},
      "outputs": [
        {
          "name": "stdout",
          "output_type": "stream",
          "text": [
            "Índice: 0, Nombre: Alice\n",
            "Índice: 1, Nombre: Bob\n",
            "Índice: 2, Nombre: Charlie\n"
          ]
        }
      ],
      "source": [
        "nombres = [\"Alice\", \"Bob\", \"Charlie\"]\n",
        "for indice, nombre in enumerate(nombres):\n",
        "    print(f\"Índice: {indice}, Nombre: {nombre}\")"
      ]
    },
    {
      "attachments": {},
      "cell_type": "markdown",
      "id": "690df0a5",
      "metadata": {},
      "source": [
        "Estos ejercicios ayudan a reforzar el entendimiento de cómo funcionan los bucles for en Python, así como el uso de funciones útiles como `range` y `enumerate`.\n",
        "\n",
        "## Introducción:\n",
        "\n",
        "Los bucles for son una herramienta fundamental en la programación en Python, permitiéndonos iterar sobre una secuencia de elementos de una manera eficiente y legible. En esta clase, nos centraremos en entender cómo utilizar los bucles for para manejar diferentes tipos de iteraciones, con especial atención en las funciones `range` y `enumerate`, que son esenciales para controlar y acceder a los índices durante la iteración.\n",
        "\n",
        "### Uso de Bucles For:\n",
        "\n",
        "- **Definición y Sintaxis Básica**:\n",
        "    - Un bucle for en Python itera sobre los elementos de cualquier secuencia (como una lista, una tupla o una cadena de texto) en el orden en que aparecen en la secuencia.\n",
        "    - Sintaxis básica: `for elemento in secuencia:` seguido de un bloque de código indentado que define lo que se debe realizar en cada iteración.\n",
        "- **Uso de `range`**:\n",
        "    - La función `range` se utiliza para generar una secuencia de números. Es comúnmente usada en bucles for para repetir un bloque de código un número específico de veces.\n",
        "    - Ejemplo: `for i in range(5):` ejecutará el bloque de código cinco veces, con `i` tomando valores de 0 a 4.\n",
        "- **Uso de `enumerate`**:\n",
        "    - `enumerate` es útil para obtener tanto el índice como el valor de los elementos en una secuencia.\n",
        "    - Sintaxis: `for indice, valor in enumerate(secuencia):`.\n",
        "    - Proporciona una forma conveniente de acceder al índice de cada elemento dentro del bucle.\n",
        "\n",
        "### Ejemplos:"
      ]
    },
    {
      "cell_type": "code",
      "execution_count": 5,
      "id": "d4eed54d",
      "metadata": {},
      "outputs": [
        {
          "name": "stdout",
          "output_type": "stream",
          "text": [
            "0\n",
            "1\n",
            "2\n",
            "3\n",
            "4\n",
            "manzana\n",
            "banana\n",
            "cereza\n",
            "Índice: 0, Fruta: manzana\n",
            "Índice: 1, Fruta: banana\n",
            "Índice: 2, Fruta: cereza\n"
          ]
        }
      ],
      "source": [
        "# Ejemplo de bucle for con range\n",
        "for i in range(5):\n",
        "    print(i)\n",
        "\n",
        "# Ejemplo de bucle for iterando sobre una lista\n",
        "frutas = [\"manzana\", \"banana\", \"cereza\"]\n",
        "for fruta in frutas:\n",
        "    print(fruta)\n",
        "\n",
        "# Ejemplo usando enumerate para obtener índice y valor\n",
        "for indice, fruta in enumerate(frutas):\n",
        "    print(f\"Índice: {indice}, Fruta: {fruta}\")"
      ]
    },
    {
      "attachments": {},
      "cell_type": "markdown",
      "id": "51957e77",
      "metadata": {},
      "source": [
        "### Ejercicios:\n",
        "\n",
        "1. **Contar hacia atrás**:\n",
        "    - Escribe un bucle for que cuente hacia atrás desde 10 hasta 1 y luego imprima \"Despegue!\".\n",
        "2. **Sumar números**:\n",
        "    - Utiliza un bucle for y la función `range` para sumar los primeros 10 números enteros (1 a 10).\n",
        "3. **Índices y Elementos**:\n",
        "    - Dada una lista de nombres, utiliza `enumerate` para imprimir cada nombre con su correspondiente índice.\n",
        "\n",
        "### Conclusión:\n",
        "\n",
        "En esta clase, hemos visto cómo los bucles for son una herramienta esencial para iterar sobre secuencias en Python. Hemos explorado el uso de `range` para iteraciones basadas en números y `enumerate` para acceder a los índices y valores al iterar. Estos conceptos son la base para muchas operaciones más complejas en Python. En la próxima clase, abordaremos el tema de las cadenas de texto y cómo manipularlas en Python.\n",
        "\n",
        "## Soluciones\n",
        "\n",
        "1. **Contar hacia atrás**:\n",
        "Este ejercicio implica usar un bucle for con `range` para contar hacia atrás. La función `range` puede tomar tres argumentos: inicio, fin, y paso. Usaremos el paso como -1 para contar hacia atrás."
      ]
    },
    {
      "cell_type": "code",
      "execution_count": 6,
      "id": "e6f87298",
      "metadata": {},
      "outputs": [
        {
          "name": "stdout",
          "output_type": "stream",
          "text": [
            "10\n",
            "9\n",
            "8\n",
            "7\n",
            "6\n",
            "5\n",
            "4\n",
            "3\n",
            "2\n",
            "1\n",
            "Despegue!\n"
          ]
        }
      ],
      "source": [
        "for i in range(10, 0, -1):\n",
        "    print(i)\n",
        "print(\"Despegue!\")"
      ]
    },
    {
      "attachments": {},
      "cell_type": "markdown",
      "id": "e90873a8",
      "metadata": {},
      "source": [
        "2. **Sumar números**:\n",
        "Aquí, utilizaremos un bucle for para sumar los números del 1 al 10. Inicializaremos una variable `suma` en 0 y la iremos incrementando con cada número del rango."
      ]
    },
    {
      "cell_type": "code",
      "execution_count": 7,
      "id": "b7cfb0e4",
      "metadata": {},
      "outputs": [
        {
          "name": "stdout",
          "output_type": "stream",
          "text": [
            "La suma de los primeros 10 números enteros es: 55\n"
          ]
        }
      ],
      "source": [
        "suma = 0\n",
        "for numero in range(1, 11):\n",
        "    suma += numero\n",
        "print(f\"La suma de los primeros 10 números enteros es: {suma}\")"
      ]
    },
    {
      "attachments": {},
      "cell_type": "markdown",
      "id": "67dc9fb0",
      "metadata": {},
      "source": [
        "3. **Índices y Elementos**:\n",
        "En este ejercicio, se utilizará `enumerate` para imprimir cada nombre de una lista junto con su índice. `enumerate` devuelve pares de índices y elementos que podemos usar en el bucle for."
      ]
    },
    {
      "cell_type": "code",
      "execution_count": 8,
      "id": "6fac9631",
      "metadata": {},
      "outputs": [
        {
          "name": "stdout",
          "output_type": "stream",
          "text": [
            "Índice: 0, Nombre: Alice\n",
            "Índice: 1, Nombre: Bob\n",
            "Índice: 2, Nombre: Charlie\n"
          ]
        }
      ],
      "source": [
        "nombres = [\"Alice\", \"Bob\", \"Charlie\"]\n",
        "for indice, nombre in enumerate(nombres):\n",
        "    print(f\"Índice: {indice}, Nombre: {nombre}\")"
      ]
    },
    {
      "attachments": {},
      "cell_type": "markdown",
      "id": "88f553f8",
      "metadata": {},
      "source": [
        "Estos ejercicios ayudan a reforzar el entendimiento de cómo funcionan los bucles for en Python, así como el uso de funciones útiles como `range` y `enumerate`."
      ]
    }
  ],
  "metadata": {
    "kernelspec": {
      "display_name": "Python 3",
      "language": "python",
      "name": "python3"
    },
    "language_info": {
      "codemirror_mode": {
        "name": "ipython",
        "version": 3
      },
      "file_extension": ".py",
      "mimetype": "text/x-python",
      "name": "python",
      "nbconvert_exporter": "python",
      "pygments_lexer": "ipython3",
      "version": "3.8.10"
    }
  },
  "nbformat": 4,
  "nbformat_minor": 5
}
