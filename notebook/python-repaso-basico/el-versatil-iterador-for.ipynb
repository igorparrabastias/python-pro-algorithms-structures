{
  "cells": [
    {
      "cell_type": "markdown",
      "id": "c0e4b751",
      "metadata": {},
      "source": [
        "# El Vers\u00e1til Iterador \u201cfor\u201d\n",
        "\n",
        "## Introducci\u00f3n:\n",
        "\n",
        "Los bucles for son una herramienta fundamental en la programaci\u00f3n en Python, permiti\u00e9ndonos iterar sobre una secuencia de elementos de una manera eficiente y legible. En esta clase, nos centraremos en entender c\u00f3mo utilizar los bucles for para manejar diferentes tipos de iteraciones, con especial atenci\u00f3n en las funciones `range` y `enumerate`, que son esenciales para controlar y acceder a los \u00edndices durante la iteraci\u00f3n.\n",
        "\n",
        "### Uso de Bucles For:\n",
        "\n",
        "- **Definici\u00f3n y Sintaxis B\u00e1sica**:\n",
        "    - Un bucle for en Python itera sobre los elementos de cualquier secuencia (como una lista, una tupla o una cadena de texto) en el orden en que aparecen en la secuencia.\n",
        "    - Sintaxis b\u00e1sica: `for elemento in secuencia:` seguido de un bloque de c\u00f3digo indentado que define lo que se debe realizar en cada iteraci\u00f3n.\n",
        "- **Uso de `range`**:\n",
        "    - La funci\u00f3n `range` se utiliza para generar una secuencia de n\u00fameros. Es com\u00fanmente usada en bucles for para repetir un bloque de c\u00f3digo un n\u00famero espec\u00edfico de veces.\n",
        "    - Ejemplo: `for i in range(5):` ejecutar\u00e1 el bloque de c\u00f3digo cinco veces, con `i` tomando valores de 0 a 4.\n",
        "- **Uso de `enumerate`**:\n",
        "    - `enumerate` es \u00fatil para obtener tanto el \u00edndice como el valor de los elementos en una secuencia.\n",
        "    - Sintaxis: `for indice, valor in enumerate(secuencia):`.\n",
        "    - Proporciona una forma conveniente de acceder al \u00edndice de cada elemento dentro del bucle.\n",
        "\n",
        "### Ejemplos:"
      ]
    },
    {
      "cell_type": "code",
      "execution_count": null,
      "id": "4fb57152",
      "metadata": {},
      "outputs": [],
      "source": [
        "# Ejemplo de bucle for con range\n",
        "for i in range(5):\n",
        "    print(i)\n",
        "\n",
        "# Ejemplo de bucle for iterando sobre una lista\n",
        "frutas = [\"manzana\", \"banana\", \"cereza\"]\n",
        "for fruta in frutas:\n",
        "    print(fruta)\n",
        "\n",
        "# Ejemplo usando enumerate para obtener \u00edndice y valor\n",
        "for indice, fruta in enumerate(frutas):\n",
        "    print(f\"\u00cdndice: {indice}, Fruta: {fruta}\")"
      ]
    },
    {
      "cell_type": "markdown",
      "id": "fb212565",
      "metadata": {},
      "source": [
        "### Ejercicios:\n",
        "\n",
        "1. **Contar hacia atr\u00e1s**:\n",
        "    - Escribe un bucle for que cuente hacia atr\u00e1s desde 10 hasta 1 y luego imprima \"Despegue!\".\n",
        "2. **Sumar n\u00fameros**:\n",
        "    - Utiliza un bucle for y la funci\u00f3n `range` para sumar los primeros 10 n\u00fameros enteros (1 a 10).\n",
        "3. **\u00cdndices y Elementos**:\n",
        "    - Dada una lista de nombres, utiliza `enumerate` para imprimir cada nombre con su correspondiente \u00edndice.\n",
        "\n",
        "### Conclusi\u00f3n:\n",
        "\n",
        "En esta clase, hemos visto c\u00f3mo los bucles for son una herramienta esencial para iterar sobre secuencias en Python. Hemos explorado el uso de `range` para iteraciones basadas en n\u00fameros y `enumerate` para acceder a los \u00edndices y valores al iterar. Estos conceptos son la base para muchas operaciones m\u00e1s complejas en Python. En la pr\u00f3xima clase, abordaremos el tema de las cadenas de texto y c\u00f3mo manipularlas en Python.\n",
        "\n",
        "## Soluciones\n",
        "\n",
        "1. **Contar hacia atr\u00e1s**:\n",
        "Este ejercicio implica usar un bucle for con `range` para contar hacia atr\u00e1s. La funci\u00f3n `range` puede tomar tres argumentos: inicio, fin, y paso. Usaremos el paso como -1 para contar hacia atr\u00e1s."
      ]
    },
    {
      "cell_type": "code",
      "execution_count": null,
      "id": "a340e34c",
      "metadata": {},
      "outputs": [],
      "source": [
        "for i in range(10, 0, -1):\n",
        "    print(i)\n",
        "print(\"Despegue!\")"
      ]
    },
    {
      "cell_type": "markdown",
      "id": "f3d7d687",
      "metadata": {},
      "source": [
        "2. **Sumar n\u00fameros**:\n",
        "Aqu\u00ed, utilizaremos un bucle for para sumar los n\u00fameros del 1 al 10. Inicializaremos una variable `suma` en 0 y la iremos incrementando con cada n\u00famero del rango."
      ]
    },
    {
      "cell_type": "code",
      "execution_count": null,
      "id": "39cf9ec3",
      "metadata": {},
      "outputs": [],
      "source": [
        "suma = 0\n",
        "for numero in range(1, 11):\n",
        "    suma += numero\n",
        "print(f\"La suma de los primeros 10 n\u00fameros enteros es: {suma}\")"
      ]
    },
    {
      "cell_type": "markdown",
      "id": "3c7899be",
      "metadata": {},
      "source": [
        "3. **\u00cdndices y Elementos**:\n",
        "En este ejercicio, se utilizar\u00e1 `enumerate` para imprimir cada nombre de una lista junto con su \u00edndice. `enumerate` devuelve pares de \u00edndices y elementos que podemos usar en el bucle for."
      ]
    },
    {
      "cell_type": "code",
      "execution_count": null,
      "id": "15e35127",
      "metadata": {},
      "outputs": [],
      "source": [
        "nombres = [\"Alice\", \"Bob\", \"Charlie\"]\n",
        "for indice, nombre in enumerate(nombres):\n",
        "    print(f\"\u00cdndice: {indice}, Nombre: {nombre}\")"
      ]
    },
    {
      "cell_type": "markdown",
      "id": "690df0a5",
      "metadata": {},
      "source": [
        "Estos ejercicios ayudan a reforzar el entendimiento de c\u00f3mo funcionan los bucles for en Python, as\u00ed como el uso de funciones \u00fatiles como `range` y `enumerate`.\n",
        "\n",
        "## Introducci\u00f3n:\n",
        "\n",
        "Los bucles for son una herramienta fundamental en la programaci\u00f3n en Python, permiti\u00e9ndonos iterar sobre una secuencia de elementos de una manera eficiente y legible. En esta clase, nos centraremos en entender c\u00f3mo utilizar los bucles for para manejar diferentes tipos de iteraciones, con especial atenci\u00f3n en las funciones `range` y `enumerate`, que son esenciales para controlar y acceder a los \u00edndices durante la iteraci\u00f3n.\n",
        "\n",
        "### Uso de Bucles For:\n",
        "\n",
        "- **Definici\u00f3n y Sintaxis B\u00e1sica**:\n",
        "    - Un bucle for en Python itera sobre los elementos de cualquier secuencia (como una lista, una tupla o una cadena de texto) en el orden en que aparecen en la secuencia.\n",
        "    - Sintaxis b\u00e1sica: `for elemento in secuencia:` seguido de un bloque de c\u00f3digo indentado que define lo que se debe realizar en cada iteraci\u00f3n.\n",
        "- **Uso de `range`**:\n",
        "    - La funci\u00f3n `range` se utiliza para generar una secuencia de n\u00fameros. Es com\u00fanmente usada en bucles for para repetir un bloque de c\u00f3digo un n\u00famero espec\u00edfico de veces.\n",
        "    - Ejemplo: `for i in range(5):` ejecutar\u00e1 el bloque de c\u00f3digo cinco veces, con `i` tomando valores de 0 a 4.\n",
        "- **Uso de `enumerate`**:\n",
        "    - `enumerate` es \u00fatil para obtener tanto el \u00edndice como el valor de los elementos en una secuencia.\n",
        "    - Sintaxis: `for indice, valor in enumerate(secuencia):`.\n",
        "    - Proporciona una forma conveniente de acceder al \u00edndice de cada elemento dentro del bucle.\n",
        "\n",
        "### Ejemplos:"
      ]
    },
    {
      "cell_type": "code",
      "execution_count": null,
      "id": "d4eed54d",
      "metadata": {},
      "outputs": [],
      "source": [
        "# Ejemplo de bucle for con range\n",
        "for i in range(5):\n",
        "    print(i)\n",
        "\n",
        "# Ejemplo de bucle for iterando sobre una lista\n",
        "frutas = [\"manzana\", \"banana\", \"cereza\"]\n",
        "for fruta in frutas:\n",
        "    print(fruta)\n",
        "\n",
        "# Ejemplo usando enumerate para obtener \u00edndice y valor\n",
        "for indice, fruta in enumerate(frutas):\n",
        "    print(f\"\u00cdndice: {indice}, Fruta: {fruta}\")"
      ]
    },
    {
      "cell_type": "markdown",
      "id": "51957e77",
      "metadata": {},
      "source": [
        "### Ejercicios:\n",
        "\n",
        "1. **Contar hacia atr\u00e1s**:\n",
        "    - Escribe un bucle for que cuente hacia atr\u00e1s desde 10 hasta 1 y luego imprima \"Despegue!\".\n",
        "2. **Sumar n\u00fameros**:\n",
        "    - Utiliza un bucle for y la funci\u00f3n `range` para sumar los primeros 10 n\u00fameros enteros (1 a 10).\n",
        "3. **\u00cdndices y Elementos**:\n",
        "    - Dada una lista de nombres, utiliza `enumerate` para imprimir cada nombre con su correspondiente \u00edndice.\n",
        "\n",
        "### Conclusi\u00f3n:\n",
        "\n",
        "En esta clase, hemos visto c\u00f3mo los bucles for son una herramienta esencial para iterar sobre secuencias en Python. Hemos explorado el uso de `range` para iteraciones basadas en n\u00fameros y `enumerate` para acceder a los \u00edndices y valores al iterar. Estos conceptos son la base para muchas operaciones m\u00e1s complejas en Python. En la pr\u00f3xima clase, abordaremos el tema de las cadenas de texto y c\u00f3mo manipularlas en Python.\n",
        "\n",
        "## Soluciones\n",
        "\n",
        "1. **Contar hacia atr\u00e1s**:\n",
        "Este ejercicio implica usar un bucle for con `range` para contar hacia atr\u00e1s. La funci\u00f3n `range` puede tomar tres argumentos: inicio, fin, y paso. Usaremos el paso como -1 para contar hacia atr\u00e1s."
      ]
    },
    {
      "cell_type": "code",
      "execution_count": null,
      "id": "e6f87298",
      "metadata": {},
      "outputs": [],
      "source": [
        "for i in range(10, 0, -1):\n",
        "    print(i)\n",
        "print(\"Despegue!\")"
      ]
    },
    {
      "cell_type": "markdown",
      "id": "e90873a8",
      "metadata": {},
      "source": [
        "2. **Sumar n\u00fameros**:\n",
        "Aqu\u00ed, utilizaremos un bucle for para sumar los n\u00fameros del 1 al 10. Inicializaremos una variable `suma` en 0 y la iremos incrementando con cada n\u00famero del rango."
      ]
    },
    {
      "cell_type": "code",
      "execution_count": null,
      "id": "b7cfb0e4",
      "metadata": {},
      "outputs": [],
      "source": [
        "suma = 0\n",
        "for numero in range(1, 11):\n",
        "    suma += numero\n",
        "print(f\"La suma de los primeros 10 n\u00fameros enteros es: {suma}\")"
      ]
    },
    {
      "cell_type": "markdown",
      "id": "67dc9fb0",
      "metadata": {},
      "source": [
        "3. **\u00cdndices y Elementos**:\n",
        "En este ejercicio, se utilizar\u00e1 `enumerate` para imprimir cada nombre de una lista junto con su \u00edndice. `enumerate` devuelve pares de \u00edndices y elementos que podemos usar en el bucle for."
      ]
    },
    {
      "cell_type": "code",
      "execution_count": null,
      "id": "6fac9631",
      "metadata": {},
      "outputs": [],
      "source": [
        "nombres = [\"Alice\", \"Bob\", \"Charlie\"]\n",
        "for indice, nombre in enumerate(nombres):\n",
        "    print(f\"\u00cdndice: {indice}, Nombre: {nombre}\")"
      ]
    },
    {
      "cell_type": "markdown",
      "id": "88f553f8",
      "metadata": {},
      "source": [
        "Estos ejercicios ayudan a reforzar el entendimiento de c\u00f3mo funcionan los bucles for en Python, as\u00ed como el uso de funciones \u00fatiles como `range` y `enumerate`."
      ]
    }
  ],
  "metadata": {},
  "nbformat": 4,
  "nbformat_minor": 5
}