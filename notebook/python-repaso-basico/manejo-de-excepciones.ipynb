{
  "cells": [
    {
      "cell_type": "markdown",
      "id": "a8f72948",
      "metadata": {},
      "source": [
        "# Manejo de Excepciones\n",
        "\n",
        "### Introducci\u00f3n:\n",
        "\n",
        "El manejo de excepciones es una parte esencial de la programaci\u00f3n en Python, especialmente en aplicaciones complejas y robustas. Permite a los desarrolladores anticiparse a errores y fallos, controlando el flujo del programa de manera segura y eficiente. En esta clase, exploraremos c\u00f3mo utilizar los bloques `try`, `except`, y `finally` para manejar adecuadamente las excepciones.\n",
        "\n",
        "### Uso de Bloques `try`, `except`, `finally`:\n",
        "\n",
        "- **Bloque `try`**:\n",
        "    - Se utiliza para envolver el c\u00f3digo que podr\u00eda generar una excepci\u00f3n.\n",
        "    - Ejemplo:"
      ]
    },
    {
      "cell_type": "code",
      "execution_count": null,
      "id": "0ed83949",
      "metadata": {},
      "outputs": [],
      "source": [
        "try:\n",
        "    resultado = 10 / 0\n",
        "except ZeroDivisionError:\n",
        "    print(\"No se puede dividir por cero.\")"
      ]
    },
    {
      "cell_type": "markdown",
      "id": "b0b79c48",
      "metadata": {},
      "source": [
        "- **Captura de Excepciones Espec\u00edficas (`except`)**:\n",
        "    - Se pueden capturar tipos espec\u00edficos de excepciones para manejar diferentes errores de manera adecuada.\n",
        "    - Ejemplo de captura de m\u00faltiples excepciones:"
      ]
    },
    {
      "cell_type": "code",
      "execution_count": null,
      "id": "208e1168",
      "metadata": {},
      "outputs": [],
      "source": [
        "try:\n",
        "    # C\u00f3digo que puede generar excepciones\n",
        "except TypeError:\n",
        "    # Manejo de TypeError\n",
        "except ValueError:\n",
        "    # Manejo de ValueError"
      ]
    },
    {
      "cell_type": "markdown",
      "id": "7a183cd0",
      "metadata": {},
      "source": [
        "- **Bloque `finally`**:\n",
        "    - Este bloque se ejecuta siempre, independientemente de si se ha generado una excepci\u00f3n o no.\n",
        "    - Es \u00fatil para liberar recursos externos, como cerrar archivos o conexiones a bases de datos.\n",
        "    - Ejemplo:"
      ]
    },
    {
      "cell_type": "code",
      "execution_count": null,
      "id": "3b378173",
      "metadata": {},
      "outputs": [],
      "source": [
        "try:\n",
        "    # C\u00f3digo que puede generar excepciones\n",
        "finally:\n",
        "    # C\u00f3digo que se ejecuta siempre"
      ]
    },
    {
      "cell_type": "markdown",
      "id": "2473e3f7",
      "metadata": {},
      "source": [
        "- **Uso de `else` en Manejo de Excepciones**:\n",
        "    - El bloque `else` se ejecuta si no se ha lanzado ninguna excepci\u00f3n en el bloque `try`.\n",
        "    - Permite separar claramente el c\u00f3digo que podr\u00eda generar una excepci\u00f3n del c\u00f3digo que se ejecuta solo si todo sali\u00f3 bien.\n",
        "    - Ejemplo:"
      ]
    },
    {
      "cell_type": "code",
      "execution_count": null,
      "id": "abeb1b9f",
      "metadata": {},
      "outputs": [],
      "source": [
        "try:\n",
        "    # C\u00f3digo que puede generar excepciones\n",
        "except Exception as e:\n",
        "    # Manejo de la excepci\u00f3n\n",
        "else:\n",
        "    # C\u00f3digo que se ejecuta si no hay excepci\u00f3n\n",
        "finally:\n",
        "    # C\u00f3digo que se ejecuta siempre"
      ]
    },
    {
      "cell_type": "markdown",
      "id": "4d8d23bb",
      "metadata": {},
      "source": [
        "### Ejercicios:\n",
        "\n",
        "1. **Manejo de Excepciones en Conversi\u00f3n de Tipos**: Escribe un bloque que intente convertir una entrada a entero y maneje la excepci\u00f3n `ValueError`.\n",
        "2. **Excepciones Personalizadas**: Crea una excepci\u00f3n personalizada y \u00fasala en un contexto pr\u00e1ctico.\n",
        "3. **Uso Combinado de `try`, `except`, `else`, `finally`**: Implementa un ejemplo que utilice todos estos bloques de manera coherente.\n",
        "\n",
        "### Conclusi\u00f3n:\n",
        "\n",
        "El manejo eficiente de excepciones es crucial para construir aplicaciones robustas y resistentes a errores. Aprender a utilizar los bloques `try`, `except`, y `finally` ayuda a prevenir fallos imprevistos y mejora la confiabilidad del c\u00f3digo. En la pr\u00f3xima clase, exploraremos el uso de `with` para el manejo eficiente de recursos.\n",
        "\n",
        "### Soluciones:\n",
        "\n",
        "1. **Manejo de Excepciones en Conversi\u00f3n de Tipos**:"
      ]
    },
    {
      "cell_type": "code",
      "execution_count": null,
      "id": "6587d267",
      "metadata": {},
      "outputs": [],
      "source": [
        "entrada = input(\"Introduce un n\u00famero: \")\n",
        "try:\n",
        "    numero = int(entrada)\n",
        "    print(f\"N\u00famero v\u00e1lido: {numero}\")\n",
        "except ValueError:\n",
        "    print(\"La entrada no es un n\u00famero v\u00e1lido.\")"
      ]
    },
    {
      "cell_type": "markdown",
      "id": "4eea5570",
      "metadata": {},
      "source": [
        "2. **Excepciones Personalizadas**:"
      ]
    },
    {
      "cell_type": "code",
      "execution_count": null,
      "id": "3fd243ec",
      "metadata": {},
      "outputs": [],
      "source": [
        "class ErrorDeRango(Exception):\n",
        "    pass\n",
        "\n",
        "def verificar_rango(numero):\n",
        "    if numero < 1 or numero > 10:\n",
        "        raise ErrorDeRango(\"El n\u00famero est\u00e1 fuera del rango permitido.\")\n",
        "    return f\"N\u00famero {numero} es v\u00e1lido.\"\n",
        "\n",
        "try:\n",
        "    resultado = verificar_rango(15)\n",
        "    print(resultado)\n",
        "except ErrorDeRango as e:\n",
        "    print(e)"
      ]
    },
    {
      "cell_type": "markdown",
      "id": "babe6f30",
      "metadata": {},
      "source": [
        "3. **Uso Combinado de `try`, `except`, `else`, `finally`**:\n",
        "    \n",
        "    ```python\n",
        "    try:\n",
        "        numero = int(input(\"Introduce un n\u00famero: \"))\n",
        "    except ValueError:\n",
        "        print(\"No es un n\u00famero v\u00e1lido.\")\n",
        "    else:\n",
        "        print(f\"Has introducido el n\u00famero {numero}.\")\n",
        "    finally:\n",
        "        print(\"Bloque finally ejecutado.\")\n",
        "    \n",
        "    ```"
      ]
    }
  ],
  "metadata": {},
  "nbformat": 4,
  "nbformat_minor": 5
}