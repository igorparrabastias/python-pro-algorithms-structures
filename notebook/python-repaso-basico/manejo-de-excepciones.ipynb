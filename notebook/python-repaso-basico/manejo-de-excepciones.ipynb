{
  "cells": [
    {
      "attachments": {},
      "cell_type": "markdown",
      "id": "380e5123",
      "metadata": {},
      "source": [
        "# Manejo de Excepciones\n",
        "\n",
        "### Introducción:\n",
        "\n",
        "El manejo de excepciones es una parte esencial de la programación en Python, especialmente en aplicaciones complejas y robustas. Permite a los desarrolladores anticiparse a errores y fallos, controlando el flujo del programa de manera segura y eficiente. En esta clase, exploraremos cómo utilizar los bloques `try`, `except`, y `finally` para manejar adecuadamente las excepciones.\n",
        "\n",
        "### Uso de Bloques `try`, `except`, `finally`:\n",
        "\n",
        "- **Bloque `try`**:\n",
        "    - Se utiliza para envolver el código que podría generar una excepción.\n",
        "    - Ejemplo:"
      ]
    },
    {
      "cell_type": "code",
      "execution_count": null,
      "id": "b23cf024",
      "metadata": {},
      "outputs": [],
      "source": [
        "try:\n",
        "    resultado = 10 / 0\n",
        "except ZeroDivisionError:\n",
        "    print(\"No se puede dividir por cero.\")"
      ]
    },
    {
      "attachments": {},
      "cell_type": "markdown",
      "id": "7991fcc9",
      "metadata": {},
      "source": [
        "- **Captura de Excepciones Específicas (`except`)**:\n",
        "    - Se pueden capturar tipos específicos de excepciones para manejar diferentes errores de manera adecuada.\n",
        "    - Ejemplo de captura de múltiples excepciones:"
      ]
    },
    {
      "cell_type": "code",
      "execution_count": null,
      "id": "08949073",
      "metadata": {},
      "outputs": [],
      "source": [
        "try:\n",
        "    # Código que puede generar excepciones\n",
        "    pass  # Placeholder for actual code that may raise exceptions\n",
        "except TypeError:\n",
        "    # Manejo de TypeError\n",
        "    print(\"Handling TypeError\")\n",
        "except ValueError:\n",
        "    # Manejo de ValueError\n",
        "    print(\"Handling ValueError\")"
      ]
    },
    {
      "attachments": {},
      "cell_type": "markdown",
      "id": "240a11b7",
      "metadata": {},
      "source": [
        "- **Bloque `finally`**:\n",
        "    - Este bloque se ejecuta siempre, independientemente de si se ha generado una excepción o no.\n",
        "    - Es útil para liberar recursos externos, como cerrar archivos o conexiones a bases de datos.\n",
        "    - Ejemplo:"
      ]
    },
    {
      "cell_type": "code",
      "execution_count": null,
      "id": "f633de08",
      "metadata": {},
      "outputs": [],
      "source": [
        "try:\n",
        "    # Código que puede generar excepciones\n",
        "    pass  # Placeholder for actual code that may raise exceptions\n",
        "except Exception as e:\n",
        "    # Manejo de una excepción específica\n",
        "    print(f\"Handling SpecificException: {e}\")\n",
        "finally:\n",
        "    # Código que se ejecuta siempre\n",
        "    print(\"Code that always runs\")"
      ]
    },
    {
      "attachments": {},
      "cell_type": "markdown",
      "id": "071ddb9b",
      "metadata": {},
      "source": [
        "- **Uso de `else` en Manejo de Excepciones**:\n",
        "    - El bloque `else` se ejecuta si no se ha lanzado ninguna excepción en el bloque `try`.\n",
        "    - Permite separar claramente el código que podría generar una excepción del código que se ejecuta solo si todo salió bien.\n",
        "    - Ejemplo:"
      ]
    },
    {
      "cell_type": "code",
      "execution_count": null,
      "id": "c7051e87",
      "metadata": {},
      "outputs": [],
      "source": [
        "try:\n",
        "    # Código que puede generar excepciones\n",
        "    pass  # Placeholder for actual code that may raise exceptions\n",
        "except Exception as e:\n",
        "    # Manejo de una excepción específica\n",
        "    print(f\"Handling SpecificException: {e}\")\n",
        "else:\n",
        "    # Código que se ejecuta si no hay excepción\n",
        "    print(\"Code executed if no exception occurs\")\n",
        "finally:\n",
        "    # Código que se ejecuta siempre\n",
        "    print(\"Code that always runs\")"
      ]
    },
    {
      "attachments": {},
      "cell_type": "markdown",
      "id": "2058199f",
      "metadata": {},
      "source": [
        "### Ejercicios:\n",
        "\n",
        "1. **Manejo de Excepciones en Conversión de Tipos**: Escribe un bloque que intente convertir una entrada a entero y maneje la excepción `ValueError`.\n",
        "2. **Excepciones Personalizadas**: Crea una excepción personalizada y úsala en un contexto práctico.\n",
        "3. **Uso Combinado de `try`, `except`, `else`, `finally`**: Implementa un ejemplo que utilice todos estos bloques de manera coherente.\n",
        "\n",
        "### Conclusión:\n",
        "\n",
        "El manejo eficiente de excepciones es crucial para construir aplicaciones robustas y resistentes a errores. Aprender a utilizar los bloques `try`, `except`, y `finally` ayuda a prevenir fallos imprevistos y mejora la confiabilidad del código. En la próxima clase, exploraremos el uso de `with` para el manejo eficiente de recursos.\n",
        "\n",
        "### Soluciones:\n",
        "\n",
        "1. **Manejo de Excepciones en Conversión de Tipos**:"
      ]
    },
    {
      "cell_type": "code",
      "execution_count": null,
      "id": "f7242133",
      "metadata": {},
      "outputs": [],
      "source": [
        "entrada = input(\"Introduce un número: \")\n",
        "try:\n",
        "    numero = int(entrada)\n",
        "    print(f\"Número válido: {numero}\")\n",
        "except ValueError:\n",
        "    print(\"La entrada no es un número válido.\")"
      ]
    },
    {
      "attachments": {},
      "cell_type": "markdown",
      "id": "f63d045f",
      "metadata": {},
      "source": [
        "2. **Excepciones Personalizadas**:"
      ]
    },
    {
      "cell_type": "code",
      "execution_count": null,
      "id": "c14dcdad",
      "metadata": {},
      "outputs": [],
      "source": [
        "class ErrorDeRango(Exception):\n",
        "    pass\n",
        "\n",
        "def verificar_rango(numero):\n",
        "    if numero < 1 or numero > 10:\n",
        "        raise ErrorDeRango(\"El número está fuera del rango permitido.\")\n",
        "    return f\"Número {numero} es válido.\"\n",
        "\n",
        "try:\n",
        "    resultado = verificar_rango(15)\n",
        "    print(resultado)\n",
        "except ErrorDeRango as e:\n",
        "    print(e)"
      ]
    },
    {
      "attachments": {},
      "cell_type": "markdown",
      "id": "ddab5c67",
      "metadata": {},
      "source": [
        "3. **Uso Combinado de `try`, `except`, `else`, `finally`**:"
      ]
    },
    {
      "cell_type": "code",
      "execution_count": null,
      "id": "9cc3350d",
      "metadata": {},
      "outputs": [],
      "source": [
        "try:\n",
        "    numero = int(input(\"Introduce un número: \"))\n",
        "except ValueError:\n",
        "    print(\"No es un número válido.\")\n",
        "else:\n",
        "    print(f\"Has introducido el número {numero}.\")\n",
        "finally:\n",
        "    print(\"Bloque finally ejecutado.\")"
      ]
    }
  ],
  "metadata": {
    "kernelspec": {
      "display_name": "Python 3",
      "language": "python",
      "name": "python3"
    },
    "language_info": {
      "codemirror_mode": {
        "name": "ipython",
        "version": 3
      },
      "file_extension": ".py",
      "mimetype": "text/x-python",
      "name": "python",
      "nbconvert_exporter": "python",
      "pygments_lexer": "ipython3",
      "version": "3.8.10"
    }
  },
  "nbformat": 4,
  "nbformat_minor": 5
}
