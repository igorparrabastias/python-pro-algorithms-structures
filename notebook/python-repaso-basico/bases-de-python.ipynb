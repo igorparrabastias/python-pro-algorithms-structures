{
 "cells": [
  {
   "cell_type": "markdown",
   "id": "7bd8e884",
   "metadata": {},
   "source": [
    "# Bases de Python\n",
    "\n",
    "Python es un lenguaje de programación poderoso y fácil de aprender. Se destaca por su sintaxis clara y legible, lo que facilita el desarrollo rápido de aplicaciones en diversas áreas como la ciencia de datos, desarrollo web, automatización, entre otros. A continuación, un repaso de los conceptos básicos de Python que mencionaste:\n",
    "\n",
    "### Variables y Tipos de Datos\n",
    "\n",
    "- **Variables**: Permiten almacenar datos que pueden ser utilizados y modificados en el programa. Por ejemplo: `nombre = \"Juan\"`, `edad = 30`.\n",
    "- **Tipos de Datos**: Python maneja diferentes tipos de datos, los más básicos son:\n",
    "    - **Strings (cadenas de caracteres)**: Se utilizan para almacenar texto, por ejemplo, `\"Hola Mundo\"`.\n",
    "    - **Integers (enteros)**: Números sin parte decimal, como `5` o `3`.\n",
    "    - **Floats (flotantes)**: Números con parte decimal, por ejemplo, `3.14`.\n",
    "\n",
    "### Condicionales\n",
    "\n",
    "- Permiten ejecutar bloques de código dependiendo de ciertas condiciones. La estructura básica incluye `if`, `elif` (else if), y `else`."
   ]
  },
  {
   "cell_type": "code",
   "execution_count": null,
   "id": "e9d42bc7",
   "metadata": {},
   "outputs": [],
   "source": [
    "```python\n",
    "edad = 18\n",
    "if edad >= 18:\n",
    "    print(\"Eres mayor de edad.\")\n",
    "else:\n",
    "    print(\"No eres mayor de edad.\")\n",
    "```\n"
   ]
  },
  {
   "cell_type": "markdown",
   "id": "31d85e1a",
   "metadata": {},
   "source": [
    "### Bucles\n",
    "\n",
    "- **For**: Se usa para iterar sobre una secuencia (como una lista, un diccionario, un conjunto o una cadena de texto)."
   ]
  },
  {
   "cell_type": "code",
   "execution_count": null,
   "id": "51d38330",
   "metadata": {},
   "outputs": [],
   "source": [
    "```python\n",
    "frutas = [\"manzana\", \"banana\", \"cereza\"]\n",
    "for fruta in frutas:\n",
    "    print(fruta)\n",
    "```"
   ]
  },
  {
   "cell_type": "markdown",
   "id": "eaa158b1",
   "metadata": {},
   "source": [
    "- **While**: Ejecuta un bloque de código mientras una condición sea verdadera."
   ]
  },
  {
   "cell_type": "code",
   "execution_count": null,
   "id": "7947c01a",
   "metadata": {},
   "outputs": [],
   "source": [
    "```python\n",
    "i = 1\n",
    "while i <= 5:\n",
    "    print(i)\n",
    "    i += 1\n",
    "```\n"
   ]
  },
  {
   "cell_type": "markdown",
   "id": "e7220516",
   "metadata": {},
   "source": [
    "### Funciones\n",
    "\n",
    "- Son bloques de código que se pueden llamar con algunos parámetros para realizar una tarea específica y opcionalmente retornar un valor."
   ]
  },
  {
   "cell_type": "code",
   "execution_count": null,
   "id": "671882f5",
   "metadata": {},
   "outputs": [],
   "source": [
    "```python\n",
    "def saludar(nombre):\n",
    "    return \"Hola, \" + nombre\n",
    "print(saludar(\"Juan\"))\n",
    "```\n"
   ]
  },
  {
   "cell_type": "markdown",
   "id": "c7c27339",
   "metadata": {},
   "source": [
    "Dominar estos fundamentos te permitirá enfocarte mejor en conceptos algorítmicos y resolver problemas más complejos."
   ]
  }
 ],
 "metadata": {},
 "nbformat": 4,
 "nbformat_minor": 5
}
