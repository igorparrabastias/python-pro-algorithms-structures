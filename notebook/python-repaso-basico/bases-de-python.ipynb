{
  "cells": [
    {
      "attachments": {},
      "cell_type": "markdown",
      "id": "4781a846",
      "metadata": {},
      "source": [
        "# Bases de Python\n",
        "\n",
        "Python es un lenguaje de programación poderoso y fácil de aprender. Se destaca por su sintaxis clara y legible, lo que facilita el desarrollo rápido de aplicaciones en diversas áreas como la ciencia de datos, desarrollo web, automatización, entre otros. A continuación, un repaso de los conceptos básicos de Python que mencionaste:\n",
        "\n",
        "### Variables y Tipos de Datos\n",
        "\n",
        "- **Variables**: Permiten almacenar datos que pueden ser utilizados y modificados en el programa. Por ejemplo: `nombre = \"Juan\"`, `edad = 30`.\n",
        "- **Tipos de Datos**: Python maneja diferentes tipos de datos, los más básicos son:\n",
        "    - **Strings (cadenas de caracteres)**: Se utilizan para almacenar texto, por ejemplo, `\"Hola Mundo\"`.\n",
        "    - **Integers (enteros)**: Números sin parte decimal, como `5` o `3`.\n",
        "    - **Floats (flotantes)**: Números con parte decimal, por ejemplo, `3.14`.\n",
        "\n",
        "### Condicionales\n",
        "\n",
        "- Permiten ejecutar bloques de código dependiendo de ciertas condiciones. La estructura básica incluye `if`, `elif` (else if), y `else`."
      ]
    },
    {
      "cell_type": "code",
      "execution_count": 1,
      "id": "0614335c",
      "metadata": {},
      "outputs": [
        {
          "name": "stdout",
          "output_type": "stream",
          "text": [
            "Eres mayor de edad.\n"
          ]
        }
      ],
      "source": [
        "edad = 18\n",
        "if edad >= 18:\n",
        "    print(\"Eres mayor de edad.\")\n",
        "else:\n",
        "    print(\"No eres mayor de edad.\")"
      ]
    },
    {
      "attachments": {},
      "cell_type": "markdown",
      "id": "ea150cbe",
      "metadata": {},
      "source": [
        "### Bucles\n",
        "\n",
        "- **For**: Se usa para iterar sobre una secuencia (como una lista, un diccionario, un conjunto o una cadena de texto)."
      ]
    },
    {
      "cell_type": "code",
      "execution_count": 2,
      "id": "3e29fb5a",
      "metadata": {},
      "outputs": [
        {
          "name": "stdout",
          "output_type": "stream",
          "text": [
            "manzana\n",
            "banana\n",
            "cereza\n"
          ]
        }
      ],
      "source": [
        "frutas = [\"manzana\", \"banana\", \"cereza\"]\n",
        "for fruta in frutas:\n",
        "    print(fruta)"
      ]
    },
    {
      "attachments": {},
      "cell_type": "markdown",
      "id": "c4e0482b",
      "metadata": {},
      "source": [
        "- **While**: Ejecuta un bloque de código mientras una condición sea verdadera."
      ]
    },
    {
      "cell_type": "code",
      "execution_count": 3,
      "id": "807f973f",
      "metadata": {},
      "outputs": [
        {
          "name": "stdout",
          "output_type": "stream",
          "text": [
            "1\n",
            "2\n",
            "3\n",
            "4\n",
            "5\n"
          ]
        }
      ],
      "source": [
        "i = 1\n",
        "while i <= 5:\n",
        "    print(i)\n",
        "    i += 1"
      ]
    },
    {
      "attachments": {},
      "cell_type": "markdown",
      "id": "6f6a7861",
      "metadata": {},
      "source": [
        "### Funciones\n",
        "\n",
        "- Son bloques de código que se pueden llamar con algunos parámetros para realizar una tarea específica y opcionalmente retornar un valor."
      ]
    },
    {
      "cell_type": "code",
      "execution_count": 4,
      "id": "380a9d0d",
      "metadata": {},
      "outputs": [
        {
          "name": "stdout",
          "output_type": "stream",
          "text": [
            "Hola, Juan\n"
          ]
        }
      ],
      "source": [
        "def saludar(nombre):\n",
        "    return \"Hola, \" + nombre\n",
        "print(saludar(\"Juan\"))"
      ]
    },
    {
      "attachments": {},
      "cell_type": "markdown",
      "id": "bb13087e",
      "metadata": {},
      "source": [
        "Dominar estos fundamentos te permitirá enfocarte mejor en conceptos algorítmicos y resolver problemas más complejos."
      ]
    }
  ],
  "metadata": {
    "kernelspec": {
      "display_name": "Python 3",
      "language": "python",
      "name": "python3"
    },
    "language_info": {
      "codemirror_mode": {
        "name": "ipython",
        "version": 3
      },
      "file_extension": ".py",
      "mimetype": "text/x-python",
      "name": "python",
      "nbconvert_exporter": "python",
      "pygments_lexer": "ipython3",
      "version": "3.8.10"
    }
  },
  "nbformat": 4,
  "nbformat_minor": 5
}
