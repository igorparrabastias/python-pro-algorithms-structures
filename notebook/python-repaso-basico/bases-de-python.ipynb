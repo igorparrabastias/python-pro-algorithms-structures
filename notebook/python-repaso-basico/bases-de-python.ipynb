{
  "cells": [
    {
      "cell_type": "markdown",
      "id": "4781a846",
      "metadata": {},
      "source": [
        "# Bases de Python\n",
        "\n",
        "Python es un lenguaje de programaci\u00f3n poderoso y f\u00e1cil de aprender. Se destaca por su sintaxis clara y legible, lo que facilita el desarrollo r\u00e1pido de aplicaciones en diversas \u00e1reas como la ciencia de datos, desarrollo web, automatizaci\u00f3n, entre otros. A continuaci\u00f3n, un repaso de los conceptos b\u00e1sicos de Python que mencionaste:\n",
        "\n",
        "### Variables y Tipos de Datos\n",
        "\n",
        "- **Variables**: Permiten almacenar datos que pueden ser utilizados y modificados en el programa. Por ejemplo: `nombre = \"Juan\"`, `edad = 30`.\n",
        "- **Tipos de Datos**: Python maneja diferentes tipos de datos, los m\u00e1s b\u00e1sicos son:\n",
        "    - **Strings (cadenas de caracteres)**: Se utilizan para almacenar texto, por ejemplo, `\"Hola Mundo\"`.\n",
        "    - **Integers (enteros)**: N\u00fameros sin parte decimal, como `5` o `3`.\n",
        "    - **Floats (flotantes)**: N\u00fameros con parte decimal, por ejemplo, `3.14`.\n",
        "\n",
        "### Condicionales\n",
        "\n",
        "- Permiten ejecutar bloques de c\u00f3digo dependiendo de ciertas condiciones. La estructura b\u00e1sica incluye `if`, `elif` (else if), y `else`."
      ]
    },
    {
      "cell_type": "code",
      "execution_count": null,
      "id": "0614335c",
      "metadata": {},
      "outputs": [],
      "source": [
        "edad = 18\n",
        "if edad >= 18:\n",
        "    print(\"Eres mayor de edad.\")\n",
        "else:\n",
        "    print(\"No eres mayor de edad.\")"
      ]
    },
    {
      "cell_type": "markdown",
      "id": "ea150cbe",
      "metadata": {},
      "source": [
        "### Bucles\n",
        "\n",
        "- **For**: Se usa para iterar sobre una secuencia (como una lista, un diccionario, un conjunto o una cadena de texto)."
      ]
    },
    {
      "cell_type": "code",
      "execution_count": null,
      "id": "3e29fb5a",
      "metadata": {},
      "outputs": [],
      "source": [
        "frutas = [\"manzana\", \"banana\", \"cereza\"]\n",
        "for fruta in frutas:\n",
        "    print(fruta)"
      ]
    },
    {
      "cell_type": "markdown",
      "id": "c4e0482b",
      "metadata": {},
      "source": [
        "- **While**: Ejecuta un bloque de c\u00f3digo mientras una condici\u00f3n sea verdadera."
      ]
    },
    {
      "cell_type": "code",
      "execution_count": null,
      "id": "807f973f",
      "metadata": {},
      "outputs": [],
      "source": [
        "i = 1\n",
        "while i <= 5:\n",
        "    print(i)\n",
        "    i += 1"
      ]
    },
    {
      "cell_type": "markdown",
      "id": "6f6a7861",
      "metadata": {},
      "source": [
        "### Funciones\n",
        "\n",
        "- Son bloques de c\u00f3digo que se pueden llamar con algunos par\u00e1metros para realizar una tarea espec\u00edfica y opcionalmente retornar un valor."
      ]
    },
    {
      "cell_type": "code",
      "execution_count": null,
      "id": "380a9d0d",
      "metadata": {},
      "outputs": [],
      "source": [
        "def saludar(nombre):\n",
        "    return \"Hola, \" + nombre\n",
        "print(saludar(\"Juan\"))"
      ]
    },
    {
      "cell_type": "markdown",
      "id": "bb13087e",
      "metadata": {},
      "source": [
        "Dominar estos fundamentos te permitir\u00e1 enfocarte mejor en conceptos algor\u00edtmicos y resolver problemas m\u00e1s complejos."
      ]
    }
  ],
  "metadata": {},
  "nbformat": 4,
  "nbformat_minor": 5
}