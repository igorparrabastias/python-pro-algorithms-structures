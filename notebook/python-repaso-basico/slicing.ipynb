{
  "cells": [
    {
      "cell_type": "markdown",
      "id": "3e2b63d5",
      "metadata": {},
      "source": [
        "# Slicing\n",
        "\n",
        "## Introducci\u00f3n\n",
        "\n",
        "El slicing es una t\u00e9cnica poderosa en Python que nos permite acceder a subsecuencias de datos dentro de estructuras como strings y listas. Esta t\u00e9cnica es fundamental para manipular y extraer porciones de datos de manera eficiente. Hoy nos enfocaremos en comprender la sintaxis del slicing y c\u00f3mo aplicarla en situaciones pr\u00e1cticas.\n",
        "\n",
        "### Uso de Slicing para Acceder a Subsecuencias\n",
        "\n",
        "El slicing se realiza utilizando corchetes `[]` junto con \u00edndices para indicar el inicio y el fin de la subsecuencia que queremos obtener.\n",
        "\n",
        "### Sintaxis\n",
        "\n",
        "La sintaxis general del slicing es: `[inicio:fin:pasos]`\n",
        "\n",
        "- **Inicio**: \u00cdndice donde comienza el slice (inclusive).\n",
        "- **Fin**: \u00cdndice donde termina el slice (exclusive).\n",
        "- **Pasos**: Intervalos para seleccionar elementos dentro del rango.\n",
        "\n",
        "### Ejemplos de Slicing\n",
        "\n",
        "- **Cadenas de caracteres**:"
      ]
    },
    {
      "cell_type": "code",
      "execution_count": null,
      "id": "4233514d",
      "metadata": {},
      "outputs": [],
      "source": [
        "texto = \"Hola Mundo\"\n",
        "print(texto[1:5])  # 'ola '\n",
        "\n",
        "Aqu\u00ed, se obtiene la subcadena desde el \u00edndice 1 al 4."
      ]
    },
    {
      "cell_type": "markdown",
      "id": "f46587ed",
      "metadata": {},
      "source": [
        "- **Listas**:"
      ]
    },
    {
      "cell_type": "code",
      "execution_count": null,
      "id": "3de5b482",
      "metadata": {},
      "outputs": [],
      "source": [
        "numeros = [0, 1, 2, 3, 4, 5, 6, 7, 8, 9]\n",
        "print(numeros[2:6])  # [2, 3, 4, 5]\n",
        "\n",
        "Esto extrae una sublista que contiene los elementos desde el \u00edndice 2 hasta el 5."
      ]
    },
    {
      "cell_type": "markdown",
      "id": "415ba9a8",
      "metadata": {},
      "source": [
        "- **Omitiendo el inicio y/o fin**:\n",
        "Si omites el `inicio`, el slice comienza desde el principio de la secuencia. Si omites el `fin`, el slice va hasta el final de la secuencia."
      ]
    },
    {
      "cell_type": "code",
      "execution_count": null,
      "id": "8f876f97",
      "metadata": {},
      "outputs": [],
      "source": [
        "print(texto[:5])  # 'Hola '\n",
        "print(texto[5:])  # 'Mundo'"
      ]
    },
    {
      "cell_type": "markdown",
      "id": "a75f40f3",
      "metadata": {},
      "source": [
        "- **Slicing con pasos**:\n",
        "Puedes especificar un tercer par\u00e1metro para determinar el \"paso\" del slicing, es decir, cu\u00e1ntos elementos saltar."
      ]
    },
    {
      "cell_type": "code",
      "execution_count": null,
      "id": "06da2816",
      "metadata": {},
      "outputs": [],
      "source": [
        "print(numeros[::2])  # [0, 2, 4, 6, 8]\n",
        "\n",
        "Este ejemplo selecciona elementos de la lista `numeros` desde el principio hasta el fin, con un paso de 2, obteniendo as\u00ed los n\u00fameros pares."
      ]
    },
    {
      "cell_type": "markdown",
      "id": "2767301f",
      "metadata": {},
      "source": [
        "- **Slicing negativo**:\n",
        "Tambi\u00e9n puedes usar \u00edndices negativos para hacer slicing desde el final de la secuencia hacia atr\u00e1s."
      ]
    },
    {
      "cell_type": "code",
      "execution_count": null,
      "id": "f9e59ea7",
      "metadata": {},
      "outputs": [],
      "source": [
        "print(texto[-5:])  # 'Mundo'"
      ]
    },
    {
      "cell_type": "markdown",
      "id": "36569abc",
      "metadata": {},
      "source": [
        "### Ejemplos Pr\u00e1cticos en Strings\n",
        "\n",
        "- Para obtener los primeros tres caracteres de un string: `mi_string[:3]`.\n",
        "- Para obtener los caracteres de un string desde el tercer caracter hasta el final: `mi_string[3:]`.\n",
        "- Para obtener caracteres en posiciones pares: `mi_string[::2]`.\n",
        "\n",
        "### Ejemplos Pr\u00e1cticos en Listas\n",
        "\n",
        "- Para invertir el orden de una lista: `mi_lista[::-1]`.\n",
        "- Para obtener una sublista desde el segundo hasta el cuarto elemento: `mi_lista[1:4]`.\n",
        "\n",
        "### Ejercicios\n",
        "\n",
        "1. Dado un string, utiliza slicing para obtener solo los caracteres en posiciones impares.\n",
        "2. Crea una lista y utiliza slicing para obtener una sublista con los \u00faltimos tres elementos.\n",
        "3. Usa slicing para crear una copia de una lista y modifica esta copia sin alterar la lista original.\n",
        "\n",
        "### Conclusi\u00f3n\n",
        "\n",
        "El slicing es una herramienta esencial en Python para el manejo eficiente de strings y listas. Nos permite extraer y manipular subsecuencias de datos de forma r\u00e1pida y sencilla. En la pr\u00f3xima clase, exploraremos m\u00e1s a fondo la reasignaci\u00f3n de variables y c\u00f3mo impacta en la manipulaci\u00f3n de datos.\n",
        "\n",
        "### Soluciones\n",
        "\n",
        "### Ejercicio 1"
      ]
    },
    {
      "cell_type": "code",
      "execution_count": null,
      "id": "cac9ad8a",
      "metadata": {},
      "outputs": [],
      "source": [
        "mi_string = \"Python Pro\"\n",
        "print(mi_string[1::2])  # Accede a caracteres en posiciones impares"
      ]
    },
    {
      "cell_type": "markdown",
      "id": "833087bb",
      "metadata": {},
      "source": [
        "### Ejercicio 2"
      ]
    },
    {
      "cell_type": "code",
      "execution_count": null,
      "id": "ccfd676e",
      "metadata": {},
      "outputs": [],
      "source": [
        "mi_lista = [1, 2, 3, 4, 5, 6]\n",
        "print(mi_lista[-3:])  # Obtiene los \u00faltimos tres elementos"
      ]
    },
    {
      "cell_type": "markdown",
      "id": "e6488b4f",
      "metadata": {},
      "source": [
        "### Ejercicio 3\n",
        "\n",
        "```python\n",
        "original = [1, 2, 3, 4, 5]\n",
        "copia = original[:]\n",
        "copia.append(6)  # Modifica la copia\n",
        "print(\"Original:\", original)\n",
        "print(\"Copia:\", copia)\n",
        "```"
      ]
    }
  ],
  "metadata": {},
  "nbformat": 4,
  "nbformat_minor": 5
}