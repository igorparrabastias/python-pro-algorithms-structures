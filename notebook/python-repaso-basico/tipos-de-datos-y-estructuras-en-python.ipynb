{
  "cells": [
    {
      "cell_type": "markdown",
      "id": "9e72b80d",
      "metadata": {},
      "source": [
        "# Tipos de Datos y Estructuras en Python\n",
        "\n",
        "Python ofrece una variedad de tipos de datos y estructuras incorporadas que permiten almacenar y manipular datos de manera eficiente. Comprender estas estructuras es fundamental para el desarrollo de algoritmos y programas efectivos. Aqu\u00ed te explico cada una de ellas:\n",
        "\n",
        "### Listas\n",
        "\n",
        "- **Listas**: Colecciones ordenadas y modificables que permiten almacenar elementos duplicados. Son muy vers\u00e1tiles y se utilizan para almacenar secuencias de datos."
      ]
    },
    {
      "cell_type": "code",
      "execution_count": null,
      "id": "4c17493b",
      "metadata": {},
      "outputs": [],
      "source": [
        "lista = [1, 2, 3, \"cuatro\", \"cinco\"]\n",
        "lista.append(6)  # A\u00f1ade un elemento al final\n",
        "print(lista)  # [1, 2, 3, 'cuatro', 'cinco', 6]"
      ]
    },
    {
      "cell_type": "markdown",
      "id": "12c2dadb",
      "metadata": {},
      "source": [
        "### Diccionarios\n",
        "\n",
        "- **Diccionarios**: Estructuras de datos que almacenan pares de clave-valor. Las claves deben ser \u00fanicas dentro de un mismo diccionario y permiten acceder r\u00e1pidamente a los valores asociados."
      ]
    },
    {
      "cell_type": "code",
      "execution_count": null,
      "id": "ee4d747f",
      "metadata": {},
      "outputs": [],
      "source": [
        "diccionario = {\"nombre\": \"Juan\", \"edad\": 30}\n",
        "diccionario[\"pais\"] = \"Chile\"  # A\u00f1ade un nuevo par clave-valor\n",
        "print(diccionario)  # {'nombre': 'Juan', 'edad': 30, 'pais': 'Chile'}"
      ]
    },
    {
      "cell_type": "markdown",
      "id": "bfc6f9f5",
      "metadata": {},
      "source": [
        "### Conjuntos\n",
        "\n",
        "- **Conjuntos (Sets)**: Colecciones no ordenadas de elementos \u00fanicos. Son ideales para realizar operaciones matem\u00e1ticas de conjuntos, como uniones, intersecciones y diferencias."
      ]
    },
    {
      "cell_type": "code",
      "execution_count": null,
      "id": "f0560c8d",
      "metadata": {},
      "outputs": [],
      "source": [
        "conjunto = {1, 2, 3, 4, 5}\n",
        "otro_conjunto = {4, 5, 6, 7}\n",
        "print(conjunto.union(otro_conjunto))  # {1, 2, 3, 4, 5, 6, 7}"
      ]
    },
    {
      "cell_type": "markdown",
      "id": "d912bdbd",
      "metadata": {},
      "source": [
        "### Tuplas\n",
        "\n",
        "- **Tuplas**: Colecciones ordenadas e inmutables. A diferencia de las listas, una vez creadas, no se pueden modificar, lo que las hace \u00fatiles para asegurar que los datos no cambien a lo largo del programa."
      ]
    },
    {
      "cell_type": "code",
      "execution_count": null,
      "id": "202632cf",
      "metadata": {},
      "outputs": [],
      "source": [
        "tupla = (1, 2, 3, \"cuatro\")\n",
        "print(tupla[2])  # 3"
      ]
    },
    {
      "cell_type": "markdown",
      "id": "3fd77ccc",
      "metadata": {},
      "source": [
        "### Caracter\u00edsticas Importantes y Usos\n",
        "\n",
        "- **Listas y Tuplas**: Ambas son ideales para almacenar colecciones de elementos, pero se prefieren las tuplas cuando los datos no deben modificarse.\n",
        "- **Diccionarios**: Son extremadamente \u00fatiles para almacenar y acceder a datos asociativos donde cada valor est\u00e1 vinculado a una clave \u00fanica.\n",
        "- **Conjuntos**: Son \u00fatiles para la manipulaci\u00f3n de grupos de elementos, especialmente para realizar operaciones de conjuntos y eliminar duplicados de una secuencia.\n",
        "\n",
        "Cada una de estas estructuras tiene m\u00e9todos y operaciones espec\u00edficas que permiten una manipulaci\u00f3n eficiente de los datos. La elecci\u00f3n entre ellas depende de la tarea espec\u00edfica que est\u00e9s realizando, como la necesidad de preservar el orden de los elementos, la rapidez de acceso a los datos, o la inmutabilidad de los datos almacenados. Familiarizarte con estas estructuras y sus operaciones te permitir\u00e1 implementar algoritmos de manera m\u00e1s eficiente y efectiva."
      ]
    }
  ],
  "metadata": {},
  "nbformat": 4,
  "nbformat_minor": 5
}