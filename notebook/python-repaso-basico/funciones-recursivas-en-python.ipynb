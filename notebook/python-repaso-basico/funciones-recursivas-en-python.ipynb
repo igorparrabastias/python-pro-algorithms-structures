{
 "cells": [
  {
   "attachments": {},
   "cell_type": "markdown",
   "id": "bcfef313",
   "metadata": {},
   "source": [
    "# Funciones Recursivas en Python\n",
    "\n",
    "Las funciones recursivas son aquellas que se llaman a sí mismas dentro de su definición, permitiendo resolver problemas complejos mediante la división del problema en subproblemas más pequeños de la misma naturaleza. Esta técnica es especialmente útil y potente cuando se trabaja con estructuras de datos como árboles y grafos, donde se requiere explorar o procesar múltiples niveles de nodos relacionados.\n",
    "\n",
    "## Conceptos Clave de la Recursión\n",
    "\n",
    "- **Caso Base**: Esencial para evitar que la función recursiva se ejecute indefinidamente. Define la condición bajo la cual la función debe dejar de llamarse a sí misma y retornar un valor.\n",
    "- **Caso Recursivo**: Es la condición bajo la cual la función se llama a sí misma con argumentos que se acercan al caso base.\n",
    "\n",
    "## Ejemplo Básico: Factorial de un Número\n",
    "\n",
    "La función factorial, denotada como (`n!`), es un ejemplo clásico de cómo se puede implementar un algoritmo simple usando recursión. Matemáticamente:\n",
    "\n",
    "$$\n",
    "n!=n×(n−1)×…×2×1, con 0!=10!=1\n",
    "$$"
   ]
  },
  {
   "cell_type": "code",
   "execution_count": null,
   "id": "de337077",
   "metadata": {},
   "outputs": [],
   "source": [
    "def factorial(n):\n",
    "    # Caso base\n",
    "    if n == 0:\n",
    "        return 1\n",
    "    # Caso recursivo\n",
    "    else:\n",
    "        return n * factorial(n-1)\n",
    "\n",
    "print(factorial(5))  # Output: 120"
   ]
  },
  {
   "attachments": {},
   "cell_type": "markdown",
   "id": "8d985949",
   "metadata": {},
   "source": [
    "Para visualizar cómo funciona la función `factorial(n)` con un valor de entrada de 5, podemos representar las llamadas recursivas y su resolución con un diagrama de texto que muestra cómo cada llamada a la función se descompone hasta llegar al caso base, y luego cómo cada resultado se combina para formar el resultado final. Aquí está la representación paso a paso:"
   ]
  },
  {
   "attachments": {},
   "cell_type": "markdown",
   "id": "eaf4a274",
   "metadata": {},
   "source": [
    "<pre>\n",
    "factorial(5)\n",
    "    |\n",
    "    |--> 5 * factorial(4)\n",
    "            |\n",
    "            |--> 4 * factorial(3)\n",
    "                    |\n",
    "                    |--> 3 * factorial(2)\n",
    "                            |\n",
    "                            |--> 2 * factorial(1)\n",
    "                                    |\n",
    "                                    |--> 1 * factorial(0)\n",
    "                                            |\n",
    "                                            |--> 1  (caso base alcanzado)"
   ]
  },
  {
   "attachments": {},
   "cell_type": "markdown",
   "id": "41ad49a3",
   "metadata": {},
   "source": [
    "En este diagrama, cada llamada a `factorial(n)` se muestra descendiendo hacia el caso base (`factorial(0)`), que devuelve 1. A partir de ahí, cada nivel de la recursión se resuelve multiplicando el número `n` por el resultado de `factorial(n-1)`, ascendiendo hasta llegar a `factorial(5)`.\n",
    "\n",
    "El cálculo se realiza así:\n",
    "\n",
    "- `factorial(0)` devuelve `1` (caso base).\n",
    "- `factorial(1)` devuelve `1 * 1 = 1`.\n",
    "- `factorial(2)` devuelve `2 * 1 = 2`.\n",
    "- `factorial(3)` devuelve `3 * 2 = 6`.\n",
    "- `factorial(4)` devuelve `4 * 6 = 24`.\n",
    "- `factorial(5)` devuelve `5 * 24 = 120`.\n",
    "\n",
    "Por lo tanto, `factorial(5)` resulta en `120`, como se muestra en el output. Este proceso ilustra la naturaleza de la recursión, donde un problema se resuelve en términos de una versión más pequeña de sí mismo, hasta que se alcanza un caso base simple.\n",
    "\n",
    "\n",
    "![](../../img/recursive-fact-120.gif)\n",
    "\n",
    "## Ejemplo en Estructuras de Datos: Recorrido de Árboles\n",
    "\n",
    "En el contexto de estructuras de datos como los árboles, la recursión permite realizar operaciones como recorridos de manera elegante y eficiente. Por ejemplo, para recorrer un árbol binario en orden (izquierda, raíz, derecha):"
   ]
  },
  {
   "cell_type": "code",
   "execution_count": null,
   "id": "8b279102",
   "metadata": {},
   "outputs": [],
   "source": [
    "class Nodo:\n",
    "    def __init__(self, valor):\n",
    "        self.izquierda = None\n",
    "        self.derecha = None\n",
    "        self.valor = valor\n",
    "\n",
    "def recorridoEnOrden(nodo):\n",
    "    if nodo:\n",
    "        # Primero recorre el lado izquierdo\n",
    "        recorridoEnOrden(nodo.izquierda)\n",
    "        # Luego visita el nodo raíz\n",
    "        print(nodo.valor, end=' ')\n",
    "        # Finalmente, recorre el lado derecho\n",
    "        recorridoEnOrden(nodo.derecha)\n",
    "\n",
    "# Ejemplo de uso\n",
    "raiz = Nodo(1)\n",
    "raiz.izquierda = Nodo(2)\n",
    "raiz.derecha = Nodo(3)\n",
    "raiz.izquierda.izquierda = Nodo(4)\n",
    "raiz.izquierda.derecha = Nodo(5)\n",
    "\n",
    "recorridoEnOrden(raiz)  # Output: 4 2 5 1 3"
   ]
  },
  {
   "attachments": {},
   "cell_type": "markdown",
   "id": "fa17f4ad",
   "metadata": {},
   "source": [
    "La estructura de árbol del ejemplo dado para el recorrido en orden puede representarse gráficamente con texto de la siguiente manera:"
   ]
  },
  {
   "attachments": {},
   "cell_type": "markdown",
   "id": "a088a729",
   "metadata": {},
   "source": [
    "<pre>\n",
    "        1\n",
    "       / \\\n",
    "      2   3\n",
    "     / \\\n",
    "    4   5"
   ]
  },
  {
   "attachments": {},
   "cell_type": "markdown",
   "id": "ffaf5508",
   "metadata": {},
   "source": [
    "Aquí, el nodo \"1\" es la raíz del árbol. Tiene dos hijos: el nodo \"2\" a la izquierda y el nodo \"3\" a la derecha. A su vez, el nodo \"2\" tiene dos hijos: el nodo \"4\" a la izquierda y el nodo \"5\" a la derecha. El nodo \"3\" no tiene hijos en este ejemplo.\n",
    "\n",
    "Durante el recorrido en orden (`recorridoEnOrden`), seguimos estos pasos:\n",
    "\n",
    "1. Visitar el subárbol izquierdo (4), imprimir su valor.\n",
    "2. Visitar la raíz del subárbol (2), imprimir su valor.\n",
    "3. Visitar el subárbol derecho (5), imprimir su valor.\n",
    "4. Subir al nodo raíz anterior (1), imprimir su valor.\n",
    "5. Finalmente, visitar el subárbol derecho (3), imprimir su valor.\n",
    "\n",
    "Siguiendo el recorrido en orden, los valores de los nodos se imprimirían en este orden: `4, 2, 5, 1, 3`.\n",
    "\n",
    "## Consejos para Trabajar con Recursión\n",
    "\n",
    "1. **Define claramente el caso base**: Es crucial para evitar llamadas recursivas infinitas y errores de desbordamiento de pila.\n",
    "2. **Asegura que cada llamada recursiva se acerque al caso base**: De lo contrario, la recursión no terminará.\n",
    "3. **Considera el uso de memorización o programación dinámica**: Para optimizar funciones recursivas que realizan cálculos repetidos.\n",
    "\n",
    "La recursión es una herramienta poderosa en la caja de herramientas de un programador, permitiendo expresar soluciones a problemas complejos de manera más natural y legible. Dominar la recursión en Python no solo mejora tu habilidad para trabajar con algoritmos y estructuras de datos complejas sino que también te prepara para abordar problemas de programación más avanzados de manera efectiva."
   ]
  }
 ],
 "metadata": {
  "kernelspec": {
   "display_name": "Python 3",
   "language": "python",
   "name": "python3"
  },
  "language_info": {
   "codemirror_mode": {
    "name": "ipython",
    "version": 3
   },
   "file_extension": ".py",
   "mimetype": "text/x-python",
   "name": "python",
   "nbconvert_exporter": "python",
   "pygments_lexer": "ipython3",
   "version": "3.8.10"
  }
 },
 "nbformat": 4,
 "nbformat_minor": 5
}
