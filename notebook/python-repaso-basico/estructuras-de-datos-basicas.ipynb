{
 "cells": [
  {
   "attachments": {},
   "cell_type": "markdown",
   "id": "a03a6499",
   "metadata": {},
   "source": [
    "# Estructuras de Datos Básicas\n",
    "\n",
    "## Introducción:\n",
    "En esta sección abordaremos los fundamentos de Python centrados en listas, tuplas, secuencias y el uso de la función `range()`. Estas estructuras de datos son esenciales para la manipulación de colecciones de valores en Python y son fundamentales para cualquier desarrollador que busque dominar el lenguaje.\n",
    "\n",
    "### Listas:\n",
    "Las listas en Python son estructuras de datos dinámicas que pueden contener elementos de diferentes tipos. Se definen entre corchetes `[]` y permiten almacenar, modificar y acceder a secuencias de datos de manera ordenada.\n",
    "\n",
    "**Definición y uso básico**:"
   ]
  },
  {
   "cell_type": "code",
   "execution_count": 1,
   "id": "4de3fd99",
   "metadata": {},
   "outputs": [
    {
     "name": "stdout",
     "output_type": "stream",
     "text": [
      "Python\n"
     ]
    }
   ],
   "source": [
    "mi_lista = [1, 2, 3, 'Python', True]\n",
    "print(mi_lista[3])  # Acceso al cuarto elemento: 'Python'"
   ]
  },
  {
   "attachments": {},
   "cell_type": "markdown",
   "id": "31bee9af",
   "metadata": {},
   "source": [
    "**Operaciones comunes**:\n",
    "- Añadir elementos: `mi_lista.append('nuevo elemento')`\n",
    "- Eliminar elementos: `mi_lista.remove(2)`\n",
    "- Acceder por índice: `elemento = mi_lista[0]`\n",
    "\n",
    "### Tuplas:\n",
    "Las tuplas son similares a las listas, pero son inmutables. Esto significa que una vez definida, no se pueden modificar sus elementos. Las tuplas se definen entre paréntesis `()`.\n",
    "\n",
    "**Definición y uso básico**:"
   ]
  },
  {
   "cell_type": "code",
   "execution_count": 2,
   "id": "12608394",
   "metadata": {},
   "outputs": [
    {
     "name": "stdout",
     "output_type": "stream",
     "text": [
      "Python\n"
     ]
    }
   ],
   "source": [
    "mi_tupla = (1, 2, 3, 'Python', True)\n",
    "print(mi_tupla[3])  # Acceso al cuarto elemento: 'Python'"
   ]
  },
  {
   "attachments": {},
   "cell_type": "markdown",
   "id": "7e80d1fd",
   "metadata": {},
   "source": [
    "**Características**:\n",
    "- Inmutables: no se pueden añadir o eliminar elementos después de su creación.\n",
    "- Útiles para datos fijos o para devolver múltiples valores desde funciones.\n",
    "\n",
    "### Secuencias:\n",
    "En Python, las secuencias son una colección ordenada de elementos. Las listas y tuplas son ejemplos de secuencias, lo que significa que comparten operaciones comunes como indexación, slicing (rebanado), y la iteración con bucles `for`.\n",
    "\n",
    "**Operaciones comunes en secuencias**:\n",
    "- Slicing: `mi_lista[1:3]` devuelve una lista que contiene desde el segundo hasta el tercer elemento.\n",
    "- Iteración: `for elemento in mi_lista:` para recorrer cada elemento en la lista.\n",
    "\n",
    "### Rango (`range()`):\n",
    "La función `range()` genera una secuencia inmutable de números enteros, útil para iterar en bucles `for`.\n",
    "\n",
    "**Uso básico**:"
   ]
  },
  {
   "cell_type": "code",
   "execution_count": 3,
   "id": "f64030c9",
   "metadata": {},
   "outputs": [
    {
     "name": "stdout",
     "output_type": "stream",
     "text": [
      "0\n",
      "1\n",
      "2\n",
      "3\n",
      "4\n"
     ]
    }
   ],
   "source": [
    "for i in range(5):  # Genera números de 0 a 4\n",
    "    print(i)"
   ]
  },
  {
   "attachments": {},
   "cell_type": "markdown",
   "id": "07d142e2",
   "metadata": {},
   "source": [
    "**Características**:\n",
    "- Útil para generar secuencias numéricas.\n",
    "- Puede especificar el inicio, fin y el paso: `range(inicio, fin, paso)`.\n",
    "\n",
    "\n",
    "\n",
    "### Diccionarios:\n",
    "Los diccionarios son estructuras de datos que almacenan pares de clave-valor, permitiendo una rápida búsqueda, inserción y eliminación de valores basados en la clave. Se definen entre llaves `{}`.\n",
    "\n",
    "**Definición y uso básico**:"
   ]
  },
  {
   "cell_type": "code",
   "execution_count": 4,
   "id": "999d9bfb",
   "metadata": {},
   "outputs": [
    {
     "name": "stdout",
     "output_type": "stream",
     "text": [
      "Ana\n"
     ]
    }
   ],
   "source": [
    "mi_diccionario = {'nombre': 'Ana', 'edad': 25, 'ciudad': 'Barcelona'}\n",
    "print(mi_diccionario['nombre'])  # Acceso al valor asociado a la clave 'nombre'"
   ]
  },
  {
   "attachments": {},
   "cell_type": "markdown",
   "id": "8f31ec94",
   "metadata": {},
   "source": [
    "**Operaciones comunes**:\n",
    "- Añadir o actualizar elementos: `mi_diccionario['profesión'] = 'Ingeniera'`\n",
    "- Eliminar elementos: `del mi_diccionario['edad']`\n",
    "- Iterar sobre el diccionario: `for clave, valor in mi_diccionario.items():`\n",
    "\n",
    "### Conjuntos (Sets):\n",
    "Los conjuntos son colecciones desordenadas de elementos únicos, útiles para operaciones de conjunto como uniones, intersecciones y diferencias. Se definen entre llaves `{}` o con el constructor `set()`.\n",
    "\n",
    "**Definición y uso básico**:"
   ]
  },
  {
   "cell_type": "code",
   "execution_count": 5,
   "id": "b398d07d",
   "metadata": {},
   "outputs": [
    {
     "name": "stdout",
     "output_type": "stream",
     "text": [
      "True\n"
     ]
    }
   ],
   "source": [
    "mi_conjunto = {1, 2, 3, 4, 5}\n",
    "print(3 in mi_conjunto)  # Verifica si el valor 3 está en el conjunto"
   ]
  },
  {
   "attachments": {},
   "cell_type": "markdown",
   "id": "a5f8dfc2",
   "metadata": {},
   "source": [
    "**Operaciones comunes**:\n",
    "- Añadir elementos: `mi_conjunto.add(6)`\n",
    "- Eliminar elementos: `mi_conjunto.remove(2)`\n",
    "- Operaciones de conjunto: `mi_conjunto.union(otro_conjunto)`\n",
    "\n",
    "### Cadenas de Caracteres (Strings):\n",
    "Las cadenas son secuencias de caracteres utilizadas para almacenar y manipular texto. Aunque no son una colección en el sentido tradicional, se pueden iterar, acceder por índice y aplicar operaciones de secuencia.\n",
    "\n",
    "**Definición y uso básico**:"
   ]
  },
  {
   "cell_type": "code",
   "execution_count": 6,
   "id": "3ccb7c48",
   "metadata": {},
   "outputs": [
    {
     "name": "stdout",
     "output_type": "stream",
     "text": [
      "u\n"
     ]
    }
   ],
   "source": [
    "mi_cadena = \"Hola, mundo\"\n",
    "print(mi_cadena[7])  # Accede al octavo carácter: 'm'"
   ]
  },
  {
   "attachments": {},
   "cell_type": "markdown",
   "id": "c7d51024",
   "metadata": {},
   "source": [
    "**Operaciones comunes**:\n",
    "- Concatenación: `nuevo_mensaje = mi_cadena + \"!\"  # \"Hola, mundo!\"`\n",
    "- Slicing: `subcadena = mi_cadena[0:4]  # \"Hola\"`\n",
    "- Iteración: `for caracter in mi_cadena:`\n",
    "\n",
    "## Conclusión:\n",
    "Las listas, tuplas, secuencias y la función `range()` constituyen la base sobre la cual se construye la manipulación de datos en Python. Entender estas estructuras es esencial para avanzar en la programación con Python, permitiendo al desarrollador manejar de forma eficiente colecciones de datos.  \n",
    "Los diccionarios y conjuntos añaden una dimensión de trabajo con colecciones de datos sin un orden inherente pero con acceso rápido basado en claves o valores únicos, mientras que las cadenas de caracteres abren la puerta a una amplia gama de operaciones de procesamiento de texto."
   ]
  }
 ],
 "metadata": {
  "kernelspec": {
   "display_name": "Python 3",
   "language": "python",
   "name": "python3"
  },
  "language_info": {
   "codemirror_mode": {
    "name": "ipython",
    "version": 3
   },
   "file_extension": ".py",
   "mimetype": "text/x-python",
   "name": "python",
   "nbconvert_exporter": "python",
   "pygments_lexer": "ipython3",
   "version": "3.8.10"
  }
 },
 "nbformat": 4,
 "nbformat_minor": 5
}
