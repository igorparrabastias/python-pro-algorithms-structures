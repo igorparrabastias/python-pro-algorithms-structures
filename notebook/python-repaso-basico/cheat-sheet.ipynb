{
 "cells": [
  {
   "cell_type": "markdown",
   "id": "d9fd917c",
   "metadata": {},
   "source": [
    "# Cheat sheet\n",
    "\n",
    "Rresumen conciso de los aspectos más importantes y útiles de Python, cubriendo desde sintaxis básica hasta conceptos avanzados. Esta guía servirá como un recurso rápido para recordar la sintaxis y los patrones comunes en Python.\n",
    "\n",
    "### Variables y Tipos de Datos"
   ]
  },
  {
   "cell_type": "code",
   "execution_count": null,
   "id": "72cbbe51",
   "metadata": {},
   "outputs": [],
   "source": [
    "# Asignación de Variables\n",
    "x = 10          # int\n",
    "y = 20.5        # float\n",
    "nombre = \"Juan\" # str\n",
    "es_verdad = True # bool\n",
    "\n",
    "# Listas\n",
    "lista = [1, 2, 3, \"cuatro\", [5, 6]]\n",
    "\n",
    "# Diccionarios\n",
    "diccionario = {\"clave\": \"valor\", \"numero\": 42}\n",
    "\n",
    "# Tuplas\n",
    "tupla = (1, 2, 3)\n",
    "\n",
    "# Conjuntos\n",
    "conjunto = {1, 2, 3}"
   ]
  },
  {
   "cell_type": "markdown",
   "id": "b1751dda",
   "metadata": {},
   "source": [
    "### Operaciones Básicas"
   ]
  },
  {
   "cell_type": "code",
   "execution_count": null,
   "id": "29ccb909",
   "metadata": {},
   "outputs": [],
   "source": [
    "# Aritmética\n",
    "suma = x + y\n",
    "resta = x - y\n",
    "multiplicacion = x * y\n",
    "division = x / y\n",
    "modulo = x % y # Resto de la división\n",
    "potencia = x ** y\n",
    "\n",
    "# Comparaciones\n",
    "igual = x == y\n",
    "diferente = x != y\n",
    "mayor_que = x > y\n",
    "menor_que = x < y\n",
    "mayor_o_igual_que = x >= y\n",
    "menor_o_igual_que = x <= y\n",
    "\n",
    "# Lógicas\n",
    "y_logico = True and False\n",
    "o_logico = True or False\n",
    "negacion = not True"
   ]
  },
  {
   "cell_type": "markdown",
   "id": "b788ff5d",
   "metadata": {},
   "source": [
    "### Control de Flujo"
   ]
  },
  {
   "cell_type": "code",
   "execution_count": null,
   "id": "92ea8f0f",
   "metadata": {},
   "outputs": [],
   "source": [
    "# If-Else\n",
    "if x > y:\n",
    "    print(\"x es mayor que y\")\n",
    "elif x < y:\n",
    "    print(\"x es menor que y\")\n",
    "else:\n",
    "    print(\"x es igual a y\")\n",
    "\n",
    "# Bucle For\n",
    "for elemento in lista:\n",
    "    print(elemento)\n",
    "\n",
    "# Bucle While\n",
    "while x < 20:\n",
    "    print(x)\n",
    "    x += 1"
   ]
  },
  {
   "cell_type": "markdown",
   "id": "7986eaf7",
   "metadata": {},
   "source": [
    "### Funciones"
   ]
  },
  {
   "cell_type": "code",
   "execution_count": null,
   "id": "4c2e677c",
   "metadata": {},
   "outputs": [],
   "source": [
    "def mi_funcion(param1, param2=2):\n",
    "    \"\"\"Esta es una función con un parámetro obligatorio y uno opcional.\"\"\"\n",
    "    return param1 * param2\n",
    "\n",
    "resultado = mi_funcion(5, param2=3)"
   ]
  },
  {
   "cell_type": "markdown",
   "id": "35f88951",
   "metadata": {},
   "source": [
    "### List Comprehension"
   ]
  },
  {
   "cell_type": "code",
   "execution_count": null,
   "id": "bd9c42a0",
   "metadata": {},
   "outputs": [],
   "source": [
    "cuadrados = [x**2 for x in range(10)]\n",
    "pares = [x for x in range(10) if x % 2 == 0]"
   ]
  },
  {
   "cell_type": "markdown",
   "id": "e9a734e6",
   "metadata": {},
   "source": [
    "### Manejo de Excepciones"
   ]
  },
  {
   "cell_type": "code",
   "execution_count": null,
   "id": "9f1ccc83",
   "metadata": {},
   "outputs": [],
   "source": [
    "try:\n",
    "    resultado = x / 0\n",
    "except ZeroDivisionError:\n",
    "    print(\"División por cero.\")\n",
    "finally:\n",
    "    print(\"Este bloque se ejecuta siempre.\")"
   ]
  },
  {
   "cell_type": "markdown",
   "id": "13ab1e80",
   "metadata": {},
   "source": [
    "### Trabajo con Archivos"
   ]
  },
  {
   "cell_type": "code",
   "execution_count": null,
   "id": "e78de3a0",
   "metadata": {},
   "outputs": [],
   "source": [
    "with open(\"archivo.txt\", \"r\") as archivo:\n",
    "    contenido = archivo.read()"
   ]
  },
  {
   "cell_type": "markdown",
   "id": "5ccf6e6f",
   "metadata": {},
   "source": [
    "### Módulos y Paquetes"
   ]
  },
  {
   "cell_type": "code",
   "execution_count": null,
   "id": "723ed8c5",
   "metadata": {},
   "outputs": [],
   "source": [
    "import math\n",
    "resultado = math.sqrt(25)  # Raíz cuadrada\n",
    "\n",
    "from math import sqrt\n",
    "resultado = sqrt(25)  # Raíz cuadrada sin necesidad de prefijo"
   ]
  },
  {
   "cell_type": "markdown",
   "id": "4144b1f1",
   "metadata": {},
   "source": [
    "### Clases y Objetos"
   ]
  },
  {
   "cell_type": "code",
   "execution_count": null,
   "id": "d86de3c8",
   "metadata": {},
   "outputs": [],
   "source": [
    "class MiClase:\n",
    "    def __init__(self, valor):\n",
    "        self.valor = valor\n",
    "\n",
    "    def mostrar_valor(self):\n",
    "        print(self.valor)\n",
    "\n",
    "objeto = MiClase(10)\n",
    "objeto.mostrar_valor()"
   ]
  },
  {
   "cell_type": "markdown",
   "id": "cb8dd91a",
   "metadata": {},
   "source": [
    "### Decoradores\n",
    "\n",
    "```python\n",
    "def mi_decorador(func):\n",
    "    def envoltura():\n",
    "        print(\"Algo antes de la función.\")\n",
    "        func()\n",
    "        print(\"Algo después de la función.\")\n",
    "    return envoltura\n",
    "\n",
    "@mi_decorador\n",
    "def decir_hola():\n",
    "    print(\"Hola!\")\n",
    "\n",
    "decir_hola()\n",
    "```"
   ]
  }
 ],
 "metadata": {},
 "nbformat": 4,
 "nbformat_minor": 5
}
