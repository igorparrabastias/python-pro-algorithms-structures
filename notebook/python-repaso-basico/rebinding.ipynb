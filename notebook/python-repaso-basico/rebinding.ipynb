{
  "cells": [
    {
      "attachments": {},
      "cell_type": "markdown",
      "id": "f965c113",
      "metadata": {},
      "source": [
        "# Rebinding\n",
        "\n",
        "### Introducción\n",
        "\n",
        "En Python, el concepto de rebinding o reasignación de variables es fundamental para entender cómo el lenguaje maneja la asignación de memoria y las referencias a objetos. Diferenciar entre modificar un objeto y reasignar una referencia es crucial para escribir código claro y eficiente. Hoy, profundizaremos en estos conceptos y veremos cómo aplicarlos en situaciones prácticas.\n",
        "\n",
        "### Rebinding en Python\n",
        "\n",
        "Rebinding se refiere al proceso de asignar una nueva referencia a una variable existente. En Python, las variables son etiquetas que apuntan a objetos en memoria. Cuando reasignamos una variable, simplemente estamos cambiando la referencia de la variable a un nuevo objeto.\n",
        "\n",
        "### Ejemplo de Rebinding"
      ]
    },
    {
      "cell_type": "code",
      "execution_count": 1,
      "id": "3630bdca",
      "metadata": {},
      "outputs": [],
      "source": [
        "x = 5\n",
        "x = 'Hola'"
      ]
    },
    {
      "attachments": {},
      "cell_type": "markdown",
      "id": "55c44d2d",
      "metadata": {},
      "source": [
        "Aquí, `x` inicialmente referencia al entero `5`. Luego, reasignamos `x` para que apunte al string `'Hola'`. Esto es un ejemplo de rebinding.\n",
        "\n",
        "### Modificar un Objeto vs. Reasignar una Referencia\n",
        "\n",
        "Es importante distinguir entre modificar el contenido de un objeto y reasignar una referencia a otro objeto.\n",
        "\n",
        "### Modificar un Objeto\n",
        "\n",
        "Cuando modificamos el contenido de un objeto, la referencia original no cambia. Esto es común con objetos mutables como listas."
      ]
    },
    {
      "cell_type": "code",
      "execution_count": 2,
      "id": "ee7de078",
      "metadata": {},
      "outputs": [],
      "source": [
        "lista = [1, 2, 3]\n",
        "lista.append(4)  # Modifica el contenido de la lista"
      ]
    },
    {
      "attachments": {},
      "cell_type": "markdown",
      "id": "e69c848f",
      "metadata": {},
      "source": [
        "### Reasignar una Referencia\n",
        "\n",
        "Reasignar una referencia significa que la variable ahora apunta a un objeto completamente diferente."
      ]
    },
    {
      "cell_type": "code",
      "execution_count": 3,
      "id": "f62fbc68",
      "metadata": {},
      "outputs": [],
      "source": [
        "lista = [1, 2, 3]\n",
        "lista = \"Nuevo string\"  # Reasigna la referencia a un objeto string"
      ]
    },
    {
      "attachments": {},
      "cell_type": "markdown",
      "id": "cd92258a",
      "metadata": {},
      "source": [
        "### Rebinding y Mutabilidad:\n",
        "\n",
        "1. **Variables con Objetos Mutables**: Si una variable está vinculada a un objeto mutable (como una lista), modificar el objeto no implica un rebinding."
      ]
    },
    {
      "cell_type": "code",
      "execution_count": 4,
      "id": "7bc34680",
      "metadata": {},
      "outputs": [],
      "source": [
        "lista = [1, 2, 3]\n",
        "lista.append(4)  # La lista se modifica, pero no se realiza rebinding"
      ]
    },
    {
      "attachments": {},
      "cell_type": "markdown",
      "id": "28ae6eaa",
      "metadata": {},
      "source": [
        "2. **Variables con Objetos Inmutables**: Para objetos inmutables (como enteros o tuplas), cualquier cambio crea un nuevo objeto y requiere un rebinding."
      ]
    },
    {
      "cell_type": "code",
      "execution_count": 5,
      "id": "5c1ece77",
      "metadata": {},
      "outputs": [],
      "source": [
        "a = 3\n",
        "a = a + 2  # Se crea un nuevo objeto y se reasigna a"
      ]
    },
    {
      "attachments": {},
      "cell_type": "markdown",
      "id": "61f4494d",
      "metadata": {},
      "source": [
        "### Implicaciones del Rebinding:\n",
        "\n",
        "1. **Identidad de los Objetos**: Cada vez que se realiza un rebinding, la identidad del objeto (su dirección en memoria) puede cambiar."
      ]
    },
    {
      "cell_type": "code",
      "execution_count": 6,
      "id": "bc4b338d",
      "metadata": {},
      "outputs": [
        {
          "name": "stdout",
          "output_type": "stream",
          "text": [
            "9793184\n",
            "9793344\n"
          ]
        }
      ],
      "source": [
        "a = 5\n",
        "print(id(a))  # Supongamos que imprime 140...\n",
        "a = 10\n",
        "print(id(a))  # Imprime una dirección diferente"
      ]
    },
    {
      "attachments": {},
      "cell_type": "markdown",
      "id": "df6a3af5",
      "metadata": {},
      "source": [
        "2. **Compartir Referencias**: Si dos variables se refieren al mismo objeto y una de ellas se reasigna, la otra no se ve afectada."
      ]
    },
    {
      "cell_type": "code",
      "execution_count": 7,
      "id": "051aea9c",
      "metadata": {},
      "outputs": [],
      "source": [
        "a = [1, 2, 3]\n",
        "b = a\n",
        "a = [4, 5, 6]  # Solo a se reasigna, b sigue apuntando a la lista original"
      ]
    },
    {
      "attachments": {},
      "cell_type": "markdown",
      "id": "634469b8",
      "metadata": {},
      "source": [
        "### Buenas Prácticas:\n",
        "\n",
        "1. **Cuidado con los Efectos Secundarios**: Al reasignar variables, especialmente en funciones o bucles, sé consciente de cómo esto puede afectar otras partes de tu código.\n",
        "2. **Claridad en el Código**: El rebinding puede hacer que el seguimiento del estado actual de un objeto sea más desafiante. Mantén tu código lo más claro y explícito posible.\n",
        "\n",
        "### Ejercicios\n",
        "\n",
        "1. Crea una lista y modifícala. Luego, reasigna la variable a un nuevo objeto y muestra cómo ha cambiado la referencia.\n",
        "2. Explora cómo el rebinding afecta a variables que inicialmente apuntaban al mismo objeto.\n",
        "3. Investiga el uso de la función `id()` para entender cómo cambia la identidad de un objeto con el rebinding.\n",
        "\n",
        "### Conclusión\n",
        "\n",
        "El rebinding es un aspecto poderoso de Python que nos permite gestionar cómo las variables se relacionan con los objetos en memoria. Comprender la diferencia entre modificar un objeto y reasignar una referencia es clave para el manejo eficiente de la memoria y para evitar errores comunes en la programación. En la próxima clase, abordaremos las secuencias y cómo manipularlas en Python.\n",
        "\n",
        "### Soluciones\n",
        "\n",
        "### Ejercicio 1"
      ]
    },
    {
      "cell_type": "code",
      "execution_count": 8,
      "id": "64aa5885",
      "metadata": {},
      "outputs": [
        {
          "name": "stdout",
          "output_type": "stream",
          "text": [
            "[1, 2, 3, 4]\n",
            "[5, 6, 7]\n"
          ]
        }
      ],
      "source": [
        "mi_lista = [1, 2, 3]\n",
        "mi_lista.append(4)\n",
        "print(mi_lista)  # Muestra [1, 2, 3, 4]\n",
        "mi_lista = [5, 6, 7]\n",
        "print(mi_lista)  # Muestra [5, 6, 7]"
      ]
    },
    {
      "attachments": {},
      "cell_type": "markdown",
      "id": "b371ef03",
      "metadata": {},
      "source": [
        "### Ejercicio 2"
      ]
    },
    {
      "cell_type": "code",
      "execution_count": 9,
      "id": "10adae8f",
      "metadata": {},
      "outputs": [
        {
          "name": "stdout",
          "output_type": "stream",
          "text": [
            "[1, 2, 3, 4]\n",
            "[1, 2, 3, 4]\n"
          ]
        }
      ],
      "source": [
        "a = [1, 2, 3]\n",
        "b = a\n",
        "b.append(4)\n",
        "print(a)  # Muestra [1, 2, 3, 4] porque a y b apuntan al mismo objeto\n",
        "b = \"Nuevo string\"\n",
        "print(a)  # Muestra [1, 2, 3, 4] ya que b ahora apunta a otro objeto"
      ]
    },
    {
      "attachments": {},
      "cell_type": "markdown",
      "id": "524c5c1f",
      "metadata": {},
      "source": [
        "### Ejercicio 3"
      ]
    },
    {
      "cell_type": "code",
      "execution_count": 10,
      "id": "9a9679a5",
      "metadata": {},
      "outputs": [
        {
          "name": "stdout",
          "output_type": "stream",
          "text": [
            "139949688725376\n",
            "139949688725376\n",
            "139949637918448\n"
          ]
        }
      ],
      "source": [
        "x = [1, 2, 3]\n",
        "print(id(x))  # Imprime la identidad del objeto x\n",
        "x.append(4)\n",
        "print(id(x))  # La identidad es la misma, el objeto es modificado\n",
        "x = \"Cambio\"\n",
        "print(id(x))  # La identidad ha cambiado, x ahora apunta a un nuevo objeto"
      ]
    }
  ],
  "metadata": {
    "kernelspec": {
      "display_name": "Python 3",
      "language": "python",
      "name": "python3"
    },
    "language_info": {
      "codemirror_mode": {
        "name": "ipython",
        "version": 3
      },
      "file_extension": ".py",
      "mimetype": "text/x-python",
      "name": "python",
      "nbconvert_exporter": "python",
      "pygments_lexer": "ipython3",
      "version": "3.8.10"
    }
  },
  "nbformat": 4,
  "nbformat_minor": 5
}
