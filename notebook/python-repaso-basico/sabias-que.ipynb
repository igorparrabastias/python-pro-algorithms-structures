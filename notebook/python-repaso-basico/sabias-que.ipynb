{
  "cells": [
    {
      "attachments": {},
      "cell_type": "markdown",
      "id": "3eb8b739",
      "metadata": {},
      "source": [
        "# Sabías que?\n",
        "\n",
        "## **El Origen del Nombre Python**:\n",
        "\n",
        "- **Python** no debe su nombre a la serpiente, sino al grupo de comedia **Monty Python**.\n",
        "    - Guido van Rossum, el creador de Python, es un gran fanático de la serie de comedia de la BBC \"Monty Python's Flying Circus\". Al buscar un nombre para su nuevo lenguaje de programación, deseaba algo breve, único y que evocara la idea de algo divertido y poco convencional.\n",
        "    - La influencia del humor de Monty Python no solo se refleja en el nombre del lenguaje. A menudo se encuentra en la documentación oficial y ejemplos de código, donde se hace referencia a chistes internos y sketches de la serie.\n",
        "    - Por ejemplo, la colección de guías y documentos para principiantes de Python se llama \"The Python Tutorial\", un guiño a \"The Spanish Inquisition\", uno de los sketches más famosos de Monty Python.\n",
        "    - Este sentido del humor se considera una parte integral de la cultura de Python y ha ayudado a formar una comunidad amigable y acogedora en torno al lenguaje.\n",
        "\n",
        "## **Duck Typing en Python**:\n",
        "\n",
        "- Python implementa un concepto conocido como **\"duck typing\"**, que es parte de la tipificación dinámica.\n",
        "    - \"Duck typing\" es un término informal para describir un estilo de tipificación dinámica en el que la semántica o el significado de una operación no depende de su forma (tipo), sino de su comportamiento (métodos o propiedades).\n",
        "    - Este enfoque permite una mayor flexibilidad y reutilización del código. Por ejemplo, puedes escribir una función que puede aceptar cualquier objeto, siempre y cuando el objeto soporte ciertos llamados o operaciones, sin necesidad de que estos objetos deriven de una clase común o implementen una interfaz específica.\n",
        "    - Esto fomenta el diseño de APIs que no se restringen a tipos específicos, lo que puede conducir a una menor acoplamiento y código más limpio y mantenible.\n",
        "    - Sin embargo, también impone una mayor responsabilidad en el programador para asegurarse de que los objetos pasados a las funciones soporten las operaciones requeridas, ya que los errores de tipo solo se detectarán en tiempo de ejecución.\n",
        "- Supongamos que necesitamos una función versátil para procesar datos de lectura. El origen de estos datos puede ser diverso: un archivo local, una respuesta de una solicitud web, o incluso una cadena de texto en memoria. Para nuestra función, el origen específico es irrelevante. Lo único que importa es que el objeto de entrada proporcione un método `.read()` para obtener los datos. En esencia, si el objeto \"se comporta\" como un lector de datos, nuestra función puede trabajar con él."
      ]
    },
    {
      "cell_type": "code",
      "execution_count": null,
      "id": "8852b1ce",
      "metadata": {},
      "outputs": [],
      "source": [
        "def leer_datos(fuente):\n",
        "    # La función espera que 'fuente' tenga un método 'read()' para obtener los datos.\n",
        "    return fuente.read()\n",
        "\n",
        "# Ejemplos de uso:\n",
        "\n",
        "# Usando un archivo:\n",
        "with open('datos.txt', 'r') as archivo:\n",
        "    print(leer_datos(archivo))\n",
        "\n",
        "# Usando una clase que simula una respuesta HTTP:\n",
        "class RespuestaHTTPSimulada:\n",
        "    def read(self):\n",
        "        return \"Datos recibidos de una petición HTTP\"\n",
        "\n",
        "respuesta = RespuestaHTTPSimulada()\n",
        "print(leer_datos(respuesta))\n",
        "\n",
        "# Usando StringIO para leer datos de una cadena de texto en memoria:\n",
        "from io import StringIO\n",
        "datos_de_string = StringIO(\"Datos almacenados en un objeto StringIO\")\n",
        "print(leer_datos(datos_de_string))"
      ]
    },
    {
      "attachments": {},
      "cell_type": "markdown",
      "id": "f1199c31",
      "metadata": {},
      "source": [
        "\n",
        "Con este enfoque, la función `leer_datos()` se adhiere al principio de duck typing: cualquier objeto que provea un método `.read()` puede ser utilizado, permitiendo así que la función sea aplicada en una variedad de contextos sin necesidad de saber el tipo exacto del objeto con el que trabaja.\n",
        "\n",
        "## **Flexibilidad de los For Loops**:\n",
        "\n",
        "- En Python, un `for` loop puede tener una cláusula `else`. La sección `else` se ejecuta después del bucle, pero **solo** si el bucle no terminó con un `break`. ¡Esto puede ser sorprendente para programadores acostumbrados a otros lenguajes!\n",
        "- En muchos lenguajes de programación, la palabra clave `else` está asociada casi exclusivamente con las instrucciones `if` para ejecutar un bloque de código cuando la condición `if` es falsa. Sin embargo, Python permite un uso más amplio de `else`; no solo se puede usar con `if`, sino también con los bucles `for` y `while`. Esta característica es única de Python y puede ser desconocida incluso para programadores experimentados que vienen de otros lenguajes.\n",
        "\n",
        "En el contexto de un bucle `for`, la cláusula `else` se ejecuta cuando el bucle se ha completado por completo, es decir, cuando el bucle ha iterado sobre todos los elementos en la secuencia a la que está aplicado. No se ejecutará si el bucle se termina prematuramente con una declaración `break`, que es una salida abrupta del bucle.\n",
        "\n",
        "Aquí hay un ejemplo práctico para ilustrar cómo funciona:"
      ]
    },
    {
      "cell_type": "code",
      "execution_count": null,
      "id": "f5dd5640",
      "metadata": {},
      "outputs": [],
      "source": [
        "for i in range(3):\n",
        "    respuesta = input(f\"Ingrese 'salir' para terminar el bucle en la iteración {i}: \")\n",
        "    if respuesta == 'salir':\n",
        "        print(\"Se ha solicitado la salida del bucle.\")\n",
        "        break\n",
        "else:\n",
        "    print(\"El bucle 'for' terminó sin interrupciones.\")"
      ]
    },
    {
      "attachments": {},
      "cell_type": "markdown",
      "id": "b6838ec2",
      "metadata": {},
      "source": [
        "\n",
        "En este ejemplo, el bucle `for` itera sobre el rango de 0 a 2. Si en alguna iteración el usuario escribe \"salir\", el bucle termina debido al `break` y se imprime el mensaje \"Se ha solicitado la salida del bucle.\" Si el bucle itera sobre todos sus elementos sin encontrar un `break`, entonces se ejecuta el bloque `else` y se imprime \"El bucle 'for' terminó sin interrupciones.\"\n",
        "\n",
        "Esto es útil en situaciones donde necesitas verificar si una operación se completó con éxito sin ser interrumpida, como cuando estás buscando un elemento en una colección: si lo encuentras, usas `break` para salir del bucle, y el bloque `else` puede contener código que solo se ejecuta si el elemento no se encontró."
      ]
    },
    {
      "attachments": {},
      "cell_type": "markdown",
      "id": "69d344dc",
      "metadata": {},
      "source": [
        "## **Cadenas Multilínea**:\n",
        "\n",
        "- **Las cadenas** en Python pueden extenderse a través de varias líneas utilizando tres comillas, ya sean simples (`'''`) o dobles (`\"\"\"`). Esto no solo es útil para **strings** largos, sino también para comentarios en el código que requieren explicaciones más extensas.\n",
        "\n",
        "## **Slicing y la Inversión de Strings**:\n",
        "\n",
        "- **¿Sabías que** puedes invertir un string en Python simplemente con `mi_string[::-1]`? Esto se debe a la poderosa característica de **slicing** que permite indicar un paso negativo, lo cual recorre la secuencia en orden inverso.\n",
        "\n",
        "## **Rebinding y Variables**:\n",
        "\n",
        "- **Python** permite el rebinding de una variable a objetos de **diferentes tipos** durante la ejecución. Así que puedes tener `x = 100` y luego `x = \"¡Cien!\"` sin problemas. Esto muestra la naturaleza dinámica de los tipos en Python, a diferencia de lenguajes estáticamente tipados donde el tipo de una variable no puede cambiar."
      ]
    }
  ],
  "metadata": {
    "kernelspec": {
      "display_name": "Python 3",
      "language": "python",
      "name": "python3"
    },
    "language_info": {
      "codemirror_mode": {
        "name": "ipython",
        "version": 3
      },
      "file_extension": ".py",
      "mimetype": "text/x-python",
      "name": "python",
      "nbconvert_exporter": "python",
      "pygments_lexer": "ipython3",
      "version": "3.8.10"
    }
  },
  "nbformat": 4,
  "nbformat_minor": 5
}
