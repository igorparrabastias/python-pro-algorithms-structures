{
 "cells": [
  {
   "attachments": {},
   "cell_type": "markdown",
   "id": "74e247b3",
   "metadata": {},
   "source": [
    "# Análisis de Complejidad\n",
    "\n",
    "El análisis de complejidad, incluyendo la complejidad de tiempo y la complejidad de espacio, es fundamental en el estudio de algoritmos y estructuras de datos. Este análisis te permite evaluar la eficiencia de un algoritmo, es decir, cuánto recurso consume un algoritmo en términos de tiempo y espacio a medida que aumenta el tamaño de la entrada. La notación más común para describir la complejidad de un algoritmo es la Notación Big O.\n",
    "\n",
    "### Complejidad de Tiempo\n",
    "\n",
    "La complejidad de tiempo se refiere a la cantidad de tiempo que toma un algoritmo para completarse en función del tamaño de la entrada. No mide el tiempo real, sino el número de operaciones elementales (como sumas, multiplicaciones, comparaciones) que realiza.\n",
    "\n",
    "- **O(1) - Tiempo Constante**: El tiempo de ejecución del algoritmo es constante, independientemente del tamaño de la entrada. Por ejemplo, acceder a cualquier elemento de un arreglo por su índice.\n",
    "- **O(n) - Tiempo Lineal**: El tiempo de ejecución aumenta linealmente con el tamaño de la entrada. Un ejemplo es un bucle que recorre todos los elementos de un arreglo.\n",
    "- **O(n^2) - Tiempo Cuadrático**: El tiempo de ejecución es proporcional al cuadrado del tamaño de la entrada. Un ejemplo clásico es el algoritmo de ordenamiento por burbuja (Bubble Sort).\n",
    "- **O(log n) - Tiempo Logarítmico**: El tiempo de ejecución crece logarítmicamente a medida que aumenta el tamaño de la entrada. Un ejemplo es la búsqueda binaria en un arreglo ordenado.\n",
    "- **O(n log n)**: Es común en algoritmos eficientes de ordenamiento como mergesort y heapsort.\n",
    "- **O(2^n) - Tiempo Exponencial**: El tiempo de ejecución crece de manera exponencial con el tamaño de la entrada. Es característico de algoritmos que generan todas las posibles combinaciones de un conjunto, como los algoritmos de búsqueda exhaustiva o \"backtracking\". Este tipo de complejidad hace que el algoritmo sea inviable para entradas relativamente pequeñas.\n",
    "- **O(n!) - Factorial**: El tiempo de ejecución aumenta factorialmente según el tamaño de la entrada. Un ejemplo clásico es el problema del viajante (Travelling Salesman Problem) resuelto mediante la generación de todas las posibles rutas y seleccionando la más corta. La complejidad factorial es aún más restrictiva que la exponencial, limitando el uso de algoritmos con esta complejidad a entradas muy pequeñas.\n",
    "\n",

    "![Alt text](../../img/big-o1.png)\n",
"<img src="https://github.com/igorparrabastias/tic-cursos-apuntes/blob/master/img/big-o1.png">\n",
    "\n",
    "### Complejidad de Espacio\n",
    "\n",
    "La complejidad de espacio se refiere a la cantidad de memoria que un algoritmo necesita para ejecutarse en función del tamaño de la entrada.\n",
    "\n",
    "- **O(1) - Espacio Constante**: El algoritmo necesita una cantidad fija de espacio, independientemente del tamaño de la entrada.\n",
    "- **O(n) - Espacio Lineal**: El espacio necesario aumenta linealmente con el tamaño de la entrada.\n",
    "\n",
    "### Importancia del Análisis de Complejidad\n",
    "\n",
    "Entender la complejidad de un algoritmo te permite hacer predicciones sobre su rendimiento en diferentes condiciones, lo cual es crucial para elegir o diseñar algoritmos adecuados para problemas específicos, especialmente en casos donde la eficiencia es crítica.\n",
    "\n",
    "Por ejemplo, si estás trabajando con datos que crecen exponencialmente, preferirías algoritmos con complejidad logarítmica (O(log n)) o lineal (O(n)) en lugar de aquellos con complejidad cuadrática (O(n^2)), ya que los últimos se vuelven inmanejables incluso con incrementos moderados en el tamaño de la entrada.\n",
    "\n",
    "El análisis de complejidad es una herramienta esencial no solo para la selección de algoritmos sino también para la optimización de código existente, permitiéndote identificar cuellos de botella y áreas para mejorar en términos de eficiencia tanto de tiempo como de espacio.\n",
    "\n",
    "### **Evaluación de la Viabilidad de Algoritmos: Entre la Tractabilidad y la Ineficiencia**\n",
    "\n",
    "En el análisis de complejidad, distinguir entre algoritmos \"**tratables**\" y aquellos para los cuales \"**no vale la pena intentarlo**\" es crucial para la toma de decisiones eficiente en la selección de estrategias de solución.\n",
    "\n",
    "![Alt text](../../img/big-o2.png)\n",
    "\n",
    "En términos más claros, los algoritmos con complejidades como **O(1)**, **O(log n)**, **O(n)**, y **O(n log n)** se consideran eficientes o tratables porque su tiempo de ejecución aumenta de manera controlada a medida que crece el tamaño de la entrada. Estos algoritmos son prácticos para una amplia gama de problemas y pueden manejar grandes volúmenes de datos sin degradar significativamente el rendimiento. Son la base de muchas aplicaciones y sistemas en uso hoy día debido a su escalabilidad y eficiencia.\n",
    "\n",
    "En contraste, los algoritmos con complejidades **O(n^2)**, **O(2^n)**, y **O(n!)** experimentan un crecimiento exponencial o incluso factorial en su tiempo de ejecución, lo que los hace inviables para entradas de tamaño considerable. Su uso se limita a problemas de pequeña escala donde el tamaño de la entrada es tan pequeño que el tiempo de ejecución no representa un problema. Para problemas más grandes, estos algoritmos consumen una cantidad impracticable de tiempo y recursos, haciendo necesario buscar alternativas más eficientes.\n",
    "\n",
    "Para enfrentar problemas que naturalmente conducen a soluciones con complejidades no tratables, es común recurrir a estrategias como la simplificación del problema, el uso de **algoritmos de aproximación o heurísticas**, y la implementación de soluciones parciales que pueden no ser óptimas pero son suficientemente buenas y ejecutables en un tiempo razonable. La clave está en reconocer la relación entre el tamaño de la entrada y el comportamiento del algoritmo para tomar decisiones informadas sobre qué enfoques son viables y cuáles no lo son, optimizando así el balance entre exactitud de la solución y recursos disponibles."
   ]
  }
 ],
 "metadata": {
  "language_info": {
   "name": "python"
  }
 },
 "nbformat": 4,
 "nbformat_minor": 5
}
