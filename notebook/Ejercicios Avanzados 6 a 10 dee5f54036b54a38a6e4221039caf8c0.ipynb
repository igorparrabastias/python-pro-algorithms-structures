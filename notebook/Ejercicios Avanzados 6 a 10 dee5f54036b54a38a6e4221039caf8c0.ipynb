{
 "cells": [
  {
   "cell_type": "markdown",
   "id": "5ee4e74e",
   "metadata": {},
   "source": [
    "# Ejercicios Avanzados 6 a 10\n",
    "\n",
    "### Ejercicio 6: Máximo en Arreglo Rotado\n",
    "\n",
    "Encuentra el valor máximo en un arreglo rotado como `[4, 5, 6, 7, 0, 1, 2]`, asumiendo que no hay duplicados.\n",
    "\n",
    "**Solución**:"
   ]
  },
  {
   "cell_type": "code",
   "execution_count": null,
   "id": "4941f7fc",
   "metadata": {},
   "outputs": [],
   "source": [
    "def encontrar_maximo_rotado(arr):\n",
    "    inicio, fin = 0, len(arr) - 1\n",
    "    while inicio < fin:\n",
    "        medio = inicio + (fin - inicio) // 2\n",
    "        if arr[medio] > arr[fin]:\n",
    "            inicio = medio + 1\n",
    "        else:\n",
    "            fin = medio\n",
    "    return arr[inicio - 1]  # El máximo está justo antes del mínimo\n",
    "\n",
    "arr = [4, 5, 6, 7, 0, 1, 2]\n",
    "print(\"Valor máximo:\", encontrar_maximo_rotado(arr))\n"
   ]
  },
  {
   "cell_type": "markdown",
   "id": "c9933b0a",
   "metadata": {},
   "source": [
    "### Ejercicio 7: Búsqueda Binaria en Matriz Bidimensional\n",
    "\n",
    "Implementa una búsqueda binaria en una matriz bidimensional ordenada por filas y columnas para encontrar un valor objetivo.\n",
    "\n",
    "**Solución**:"
   ]
  },
  {
   "cell_type": "code",
   "execution_count": null,
   "id": "7cdeb51a",
   "metadata": {},
   "outputs": [],
   "source": [
    "def busqueda_binaria_matriz(matriz, objetivo):\n",
    "    if not matriz:\n",
    "        return False\n",
    "    filas, columnas = len(matriz), len(matriz[0])\n",
    "    inicio, fin = 0, filas * columnas - 1\n",
    "\n",
    "    while inicio <= fin:\n",
    "        medio = (inicio + fin) // 2\n",
    "        num = matriz[medio // columnas][medio % columnas]\n",
    "\n",
    "        if num == objetivo:\n",
    "            return True\n",
    "        elif num < objetivo:\n",
    "            inicio = medio + 1\n",
    "        else:\n",
    "            fin = medio - 1\n",
    "    return False\n",
    "\n",
    "matriz = [\n",
    "    [1, 3, 5],\n",
    "    [7, 9, 11],\n",
    "    [13, 15, 17]\n",
    "]\n",
    "objetivo = 9\n",
    "print(\"Objetivo encontrado:\", busqueda_binaria_matriz(matriz, objetivo))\n"
   ]
  },
  {
   "cell_type": "markdown",
   "id": "cdcc2ff8",
   "metadata": {},
   "source": [
    "### Ejercicio 8: Búsqueda de Elemento Pico en Arreglo\n",
    "\n",
    "Encuentra un elemento pico en un arreglo donde cada elemento es distinto y un pico se define como un elemento que es mayor que sus vecinos.\n",
    "\n",
    "**Solución**:"
   ]
  },
  {
   "cell_type": "code",
   "execution_count": null,
   "id": "3e1916eb",
   "metadata": {},
   "outputs": [],
   "source": [
    "def encontrar_pico(arr):\n",
    "    inicio, fin = 0, len(arr) - 1\n",
    "    while inicio < fin:\n",
    "        medio = (inicio + fin) // 2\n",
    "        if arr[medio] < arr[medio + 1]:\n",
    "            inicio = medio + 1\n",
    "        else:\n",
    "            fin = medio\n",
    "    return inicio\n",
    "\n",
    "arr = [1, 2, 1, 3, 5, 6, 4]\n",
    "print(\"Índice del elemento pico:\", encontrar_pico(arr))\n"
   ]
  },
  {
   "cell_type": "markdown",
   "id": "5fecb7a6",
   "metadata": {},
   "source": [
    "### Ejercicio 9: Búsqueda Binaria para Aproximación Más Cercana\n",
    "\n",
    "Encuentra el número más cercano a un objetivo dado en una lista ordenada, incluso si el objetivo no está presente en la lista.\n",
    "\n",
    "**Solución**:"
   ]
  },
  {
   "cell_type": "code",
   "execution_count": null,
   "id": "b0cd2027",
   "metadata": {},
   "outputs": [],
   "source": [
    "def encontrar_mas_cercano(arr, objetivo):\n",
    "    if not arr:\n",
    "        return None\n",
    "    inicio, fin = 0, len(arr) - 1\n",
    "    while inicio <= fin:\n",
    "        medio = (inicio + fin) // 2\n",
    "        if arr[medio] == objetivo:\n",
    "            return arr[medio]\n",
    "\n",
    "        if medio + 1 < len(arr) and abs(arr[medio + 1] - objetivo) < abs(arr[medio] - objetivo):\n",
    "            inicio = medio + 1\n",
    "        elif medio - 1 >= 0 and abs(arr[medio - 1] - objetivo) < abs(arr[medio] - objetivo):\n",
    "            fin = medio - 1\n",
    "        else:\n",
    "            return arr[medio]\n",
    "    return arr[inicio] if inicio < len(arr) else arr[fin]\n",
    "\n",
    "arr = [2, 5, 6, 7, 8, 8, 9]\n",
    "objetivo = 4\n",
    "print(\"Número más cercano a\", objetivo, \":\", encontrar_mas_cercano(arr, objetivo))\n"
   ]
  },
  {
   "cell_type": "markdown",
   "id": "365fe469",
   "metadata": {},
   "source": [
    "### Ejercicio 10: Búsqueda Binaria en Arreglos con Valores Repetidos\n",
    "\n",
    "Modifica la búsqueda binaria para manejar arreglos con valores repetidos, encontrando el primer índice de un valor objetivo.\n",
    "\n",
    "**Solución**:"
   ]
  },
  {
   "cell_type": "code",
   "execution_count": null,
   "id": "a63eb56b",
   "metadata": {},
   "outputs": [],
   "source": [
    "def busqueda_binaria_repetidos(arr, objetivo):\n",
    "    inicio, fin = 0, len(arr) - 1\n",
    "    resultado = -1\n",
    "    while inicio <= fin:\n",
    "        medio = (inicio + fin) // 2\n",
    "        if arr[medio] == objetivo:\n",
    "            resultado = medio  # Encuentra el objetivo pero sigue buscando a la izquierda\n",
    "            fin = medio - 1\n",
    "        elif arr[medio] < objetivo:\n",
    "            inicio = medio + 1\n",
    "        else:\n",
    "            fin = medio - 1\n",
    "    return resultado\n",
    "\n",
    "arr = [1, 2, 4, 4, 4, 5, 6]\n",
    "objetivo = 4\n",
    "print(\"Primer índice del objetivo:\", busqueda_binaria_repetidos(arr,\n",
    "\n",
    " objetivo))\n"
   ]
  },
  {
   "cell_type": "markdown",
   "id": "d0bb4558",
   "metadata": {},
   "source": [
    "Estos ejercicios avanzados están diseñados para ampliar tu comprensión y habilidad en la implementación de la búsqueda binaria, desafiándote a aplicar este algoritmo en escenarios más complejos y con requisitos adicionales."
   ]
  }
 ],
 "metadata": {},
 "nbformat": 4,
 "nbformat_minor": 5
}
