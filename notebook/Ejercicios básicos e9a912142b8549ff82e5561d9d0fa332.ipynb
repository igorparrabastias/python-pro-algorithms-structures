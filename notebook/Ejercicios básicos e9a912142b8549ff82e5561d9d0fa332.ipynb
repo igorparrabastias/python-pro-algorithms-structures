{
 "cells": [
  {
   "cell_type": "markdown",
   "id": "f894022c",
   "metadata": {},
   "source": [
    "# Ejercicios básicos\n",
    "\n",
    "### Ejercicio 1: Concatenar Cadenas\n",
    "\n",
    "Concatena dos cadenas: `\"Hola\"` y `\" Mundo\"`."
   ]
  },
  {
   "cell_type": "code",
   "execution_count": null,
   "id": "2be7ea0f",
   "metadata": {},
   "outputs": [],
   "source": [
    "# Ejercicio\n",
    "cadena1 = \"Hola\"\n",
    "cadena2 = \" Mundo\"\n",
    "resultado = cadena1 + cadena2  # \"Hola Mundo\"\n"
   ]
  },
  {
   "cell_type": "markdown",
   "id": "34526061",
   "metadata": {},
   "source": [
    "### Ejercicio 2: Acceder a un Carácter Específico\n",
    "\n",
    "Accede al tercer carácter de la cadena `\"Python\"`."
   ]
  },
  {
   "cell_type": "code",
   "execution_count": null,
   "id": "f3f8d0f6",
   "metadata": {},
   "outputs": [],
   "source": [
    "# Ejercicio\n",
    "cadena = \"Python\"\n",
    "caracter = cadena[2]  # 't'\n"
   ]
  },
  {
   "cell_type": "markdown",
   "id": "3f4a438a",
   "metadata": {},
   "source": [
    "### Ejercicio 3: Slicing de Cadenas\n",
    "\n",
    "Obtén los primeros cuatro caracteres de la cadena `\"Hola Mundo\"`."
   ]
  },
  {
   "cell_type": "code",
   "execution_count": null,
   "id": "2e698fb7",
   "metadata": {},
   "outputs": [],
   "source": [
    "# Ejercicio\n",
    "cadena = \"Hola Mundo\"\n",
    "sliced = cadena[:4]  # 'Hola'\n"
   ]
  },
  {
   "cell_type": "markdown",
   "id": "5cecf3f1",
   "metadata": {},
   "source": [
    "### Ejercicio 4: Invertir una Cadena\n",
    "\n",
    "Invierte la cadena `\"Hola\"`."
   ]
  },
  {
   "cell_type": "code",
   "execution_count": null,
   "id": "8cd193d3",
   "metadata": {},
   "outputs": [],
   "source": [
    "# Ejercicio\n",
    "cadena = \"Hola\"\n",
    "invertida = cadena[::-1]  # 'aloH'\n"
   ]
  },
  {
   "cell_type": "markdown",
   "id": "f502ffce",
   "metadata": {},
   "source": [
    "### Ejercicio 5: Concatenación con Formato\n",
    "\n",
    "Usa `.format()` para concatenar las cadenas `\"Hola\"` y `\"Mundo\"` con un espacio en medio."
   ]
  },
  {
   "cell_type": "code",
   "execution_count": null,
   "id": "b9cef414",
   "metadata": {},
   "outputs": [],
   "source": [
    "# Ejercicio\n",
    "cadena1 = \"Hola\"\n",
    "cadena2 = \"Mundo\"\n",
    "resultado = \"{} {}\".format(cadena1, cadena2)  # \"Hola Mundo\"\n"
   ]
  },
  {
   "cell_type": "markdown",
   "id": "289715d3",
   "metadata": {},
   "source": [
    "### Ejercicio 6: Convertir a Mayúsculas\n",
    "\n",
    "Convierte la cadena `\"python\"` a mayúsculas."
   ]
  },
  {
   "cell_type": "code",
   "execution_count": null,
   "id": "26cce59d",
   "metadata": {},
   "outputs": [],
   "source": [
    "# Ejercicio\n",
    "cadena = \"python\"\n",
    "mayusculas = cadena.upper()  # 'PYTHON'\n"
   ]
  },
  {
   "cell_type": "markdown",
   "id": "b69039fc",
   "metadata": {},
   "source": [
    "### Ejercicio 7: Convertir a Minúsculas\n",
    "\n",
    "Convierte la cadena `\"PYTHON\"` a minúsculas."
   ]
  },
  {
   "cell_type": "code",
   "execution_count": null,
   "id": "5481207e",
   "metadata": {},
   "outputs": [],
   "source": [
    "# Ejercicio\n",
    "cadena = \"PYTHON\"\n",
    "minusculas = cadena.lower()  # 'python'\n"
   ]
  },
  {
   "cell_type": "markdown",
   "id": "0cb6c2eb",
   "metadata": {},
   "source": [
    "### Ejercicio 8: Comprobar si una Cadena es un Dígito\n",
    "\n",
    "Comprueba si la cadena `\"1234\"` está compuesta solo por dígitos."
   ]
  },
  {
   "cell_type": "code",
   "execution_count": null,
   "id": "1c6133f6",
   "metadata": {},
   "outputs": [],
   "source": [
    "# Ejercicio\n",
    "cadena = \"1234\"\n",
    "es_digito = cadena.isdigit()  # True\n"
   ]
  },
  {
   "cell_type": "markdown",
   "id": "3ec85ca1",
   "metadata": {},
   "source": [
    "### Ejercicio 9: Dividir una Cadena\n",
    "\n",
    "Divide la cadena `\"Hola Mundo\"` en palabras."
   ]
  },
  {
   "cell_type": "code",
   "execution_count": null,
   "id": "1e4106b7",
   "metadata": {},
   "outputs": [],
   "source": [
    "# Ejercicio\n",
    "cadena = \"Hola Mundo\"\n",
    "palabras = cadena.split()  # ['Hola', 'Mundo']\n"
   ]
  },
  {
   "cell_type": "markdown",
   "id": "920f83c5",
   "metadata": {},
   "source": [
    "### Ejercicio 10: Reemplazar en una Cadena\n",
    "\n",
    "Reemplaza `\"Hola\"` por `\"Adiós\"` en la cadena `\"Hola Mundo\"`."
   ]
  },
  {
   "cell_type": "code",
   "execution_count": null,
   "id": "4aabb014",
   "metadata": {},
   "outputs": [],
   "source": [
    "# Ejercicio\n",
    "cadena = \"Hola Mundo\"\n",
    "reemplazada = cadena.replace(\"Hola\", \"Adiós\")  # 'Adiós Mundo'\n"
   ]
  },
  {
   "cell_type": "markdown",
   "id": "7ccc69e0",
   "metadata": {},
   "source": [
    "### Ejercicio 11: Verificar si una Cadena Empieza con un Substring\n",
    "\n",
    "Verifica si `\"Hola Mundo\"` empieza con `\"Hola\"`."
   ]
  },
  {
   "cell_type": "code",
   "execution_count": null,
   "id": "0ef3b534",
   "metadata": {},
   "outputs": [],
   "source": [
    "# Ejercicio\n",
    "cadena = \"Hola Mundo\"\n",
    "empieza_con = cadena.startswith(\"Hola\")  # True\n"
   ]
  },
  {
   "cell_type": "markdown",
   "id": "04b005b8",
   "metadata": {},
   "source": [
    "### Ejercicio 12: Verificar si una Cadena Termina con un Substring\n",
    "\n",
    "Verifica si `\"Hola Mundo\"` termina con `\"Mundo\"`."
   ]
  },
  {
   "cell_type": "code",
   "execution_count": null,
   "id": "07f73585",
   "metadata": {},
   "outputs": [],
   "source": [
    "# Ejercicio\n",
    "cadena = \"Hola Mundo\"\n",
    "termina_con = cadena.endswith(\"Mundo\")  # True\n"
   ]
  },
  {
   "cell_type": "markdown",
   "id": "ba3c782d",
   "metadata": {},
   "source": [
    "### Ejercicio 13: Encuentra la Posición de un Substring\n",
    "\n",
    "Encuentra la posición de `\"Mundo\"` en la cadena `\"Hola Mundo\"`."
   ]
  },
  {
   "cell_type": "code",
   "execution_count": null,
   "id": "2d605030",
   "metadata": {},
   "outputs": [],
   "source": [
    "# Ejercicio\n",
    "cadena = \"Hola Mundo\"\n",
    "posicion = cadena.find(\"Mundo\")  # 5\n"
   ]
  },
  {
   "cell_type": "markdown",
   "id": "1c8dbdf2",
   "metadata": {},
   "source": [
    "### Ejercicio 14: Contar Ocurrencias de un Carácter\n",
    "\n",
    "Cuenta cuántas veces aparece la letra `'o'` en `\"Hola Mundo\"`."
   ]
  },
  {
   "cell_type": "code",
   "execution_count": null,
   "id": "c5976b9c",
   "metadata": {},
   "outputs": [],
   "source": [
    "# Ejercicio\n",
    "cadena = \"Hola Mundo\"\n",
    "conteo = cadena.count('o')  # 2\n"
   ]
  },
  {
   "cell_type": "markdown",
   "id": "2c11f48d",
   "metadata": {},
   "source": [
    "### Ejercicio 15: Eliminar Espacios en Blanco\n",
    "\n",
    "Elimina los espacios en blanco al principio y al final de `\" Hola Mundo \"`."
   ]
  },
  {
   "cell_type": "code",
   "execution_count": null,
   "id": "d07d008a",
   "metadata": {},
   "outputs": [],
   "source": [
    "# Ejercicio\n",
    "cadena = \" Hola Mundo \"\n",
    "sin_espacios = cadena.strip()  # 'Hola Mundo'\n"
   ]
  },
  {
   "cell_type": "markdown",
   "id": "628b93a4",
   "metadata": {},
   "source": [
    "### Ejercicio 16: Comprobar si una Cadena Contiene Solo Letras\n",
    "\n",
    "Comprueba si `\"HolaMundo\"` contiene solo letras."
   ]
  },
  {
   "cell_type": "code",
   "execution_count": null,
   "id": "77af3377",
   "metadata": {},
   "outputs": [],
   "source": [
    "# Ejercicio\n",
    "cadena = \"HolaMundo\"\n",
    "solo_letras = cadena.isalpha()  # True\n"
   ]
  },
  {
   "cell_type": "markdown",
   "id": "de8f59d7",
   "metadata": {},
   "source": [
    "### Ejercicio 17: Unir una Lista de Cadenas\n",
    "\n",
    "Une una lista `[\"Hola\", \"Mundo\"]` en una sola cadena separada por espacios."
   ]
  },
  {
   "cell_type": "code",
   "execution_count": null,
   "id": "3559f7f3",
   "metadata": {},
   "outputs": [],
   "source": [
    "# Ejercicio\n",
    "lista = [\"Hola\", \"Mundo\"]\n",
    "unida = \" \".join(lista)  # 'Hola Mundo'\n"
   ]
  },
  {
   "cell_type": "markdown",
   "id": "f0319977",
   "metadata": {},
   "source": [
    "### Ejercicio 18: Capitalizar una Cadena\n",
    "\n",
    "Capitaliza la cadena `\"hola mundo\"`."
   ]
  },
  {
   "cell_type": "code",
   "execution_count": null,
   "id": "8fa52253",
   "metadata": {},
   "outputs": [],
   "source": [
    "# Ejercicio\n",
    "cadena = \"hola mundo\"\n",
    "capitalizada = cadena.capitalize()  # 'Hola mundo'\n"
   ]
  },
  {
   "cell_type": "markdown",
   "id": "2035f0b8",
   "metadata": {},
   "source": [
    "### Ejercicio 19: Invertir el Orden de las Palabras\n",
    "\n",
    "Invierte el orden de las palabras en la cadena `\"Hola Mundo\"`."
   ]
  },
  {
   "cell_type": "code",
   "execution_count": null,
   "id": "8af59b07",
   "metadata": {},
   "outputs": [],
   "source": [
    "# Ejercicio\n",
    "cadena = \"Hola Mundo\"\n",
    "invertida = \" \".join(cadena.split()[::-1])  # 'Mundo Hola'\n"
   ]
  },
  {
   "cell_type": "markdown",
   "id": "3dfc55db",
   "metadata": {},
   "source": [
    "### Ejercicio 20: Crear una Cadena Repetida\n",
    "\n",
    "Crea una cadena que repita `\"Hola\"` 3 veces."
   ]
  },
  {
   "cell_type": "code",
   "execution_count": null,
   "id": "b22d4d1b",
   "metadata": {},
   "outputs": [],
   "source": [
    "# Ejercicio\n",
    "cadena = \"Hola\"\n",
    "repetida = cadena * 3  # 'HolaHolaHola'\n"
   ]
  },
  {
   "cell_type": "markdown",
   "id": "650ca1dc",
   "metadata": {},
   "source": [
    "Estos ejercicios cubren una amplia gama de operaciones comunes con cadenas en Python, desde manipulaciones básicas hasta tareas más complejas. Practicar con estos ejercicios te ayudará a fortalecer tus habilidades en el manejo de cadenas, una herramienta esencial en la programación en Python."
   ]
  }
 ],
 "metadata": {},
 "nbformat": 4,
 "nbformat_minor": 5
}
