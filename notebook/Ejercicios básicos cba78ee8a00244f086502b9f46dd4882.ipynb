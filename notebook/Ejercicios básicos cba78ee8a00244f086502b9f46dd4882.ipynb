{
 "cells": [
  {
   "cell_type": "markdown",
   "id": "8bacd494",
   "metadata": {},
   "source": [
    "# Ejercicios básicos\n",
    "\n",
    "### Ejercicio 1: Crear un Conjunto\n",
    "\n",
    "Crea un conjunto con los números del 1 al 5."
   ]
  },
  {
   "cell_type": "code",
   "execution_count": null,
   "id": "fdda512a",
   "metadata": {},
   "outputs": [],
   "source": [
    "# Ejercicio\n",
    "mi_conjunto = {1, 2, 3, 4, 5}\n"
   ]
  },
  {
   "cell_type": "markdown",
   "id": "42a4fd00",
   "metadata": {},
   "source": [
    "### Ejercicio 2: Añadir un Elemento\n",
    "\n",
    "Añade el número 6 al conjunto anterior."
   ]
  },
  {
   "cell_type": "code",
   "execution_count": null,
   "id": "988139b6",
   "metadata": {},
   "outputs": [],
   "source": [
    "# Ejercicio\n",
    "mi_conjunto.add(6)\n"
   ]
  },
  {
   "cell_type": "markdown",
   "id": "fd7b9458",
   "metadata": {},
   "source": [
    "### Ejercicio 3: Eliminar un Elemento\n",
    "\n",
    "Elimina el número 3 del conjunto."
   ]
  },
  {
   "cell_type": "code",
   "execution_count": null,
   "id": "d3b2d358",
   "metadata": {},
   "outputs": [],
   "source": [
    "# Ejercicio\n",
    "mi_conjunto.discard(3)\n"
   ]
  },
  {
   "cell_type": "markdown",
   "id": "299e27dc",
   "metadata": {},
   "source": [
    "### Ejercicio 4: Verificar Pertenencia\n",
    "\n",
    "Comprueba si el número 4 está en el conjunto."
   ]
  },
  {
   "cell_type": "code",
   "execution_count": null,
   "id": "7f3985ee",
   "metadata": {},
   "outputs": [],
   "source": [
    "# Ejercicio\n",
    "4 in mi_conjunto  # True o False\n"
   ]
  },
  {
   "cell_type": "markdown",
   "id": "c934101a",
   "metadata": {},
   "source": [
    "### Ejercicio 5: Crear Conjunto desde Lista\n",
    "\n",
    "Crea un conjunto a partir de la siguiente lista: `[1, 2, 2, 3, 4, 4, 5]`."
   ]
  },
  {
   "cell_type": "code",
   "execution_count": null,
   "id": "ec948b74",
   "metadata": {},
   "outputs": [],
   "source": [
    "# Ejercicio\n",
    "lista = [1, 2, 2, 3, 4, 4, 5]\n",
    "conjunto_desde_lista = set(lista)\n"
   ]
  },
  {
   "cell_type": "markdown",
   "id": "81acfecb",
   "metadata": {},
   "source": [
    "### Ejercicio 6: Unión de Conjuntos\n",
    "\n",
    "Dados dos conjuntos, `{1, 2, 3}` y `{4, 5, 6}`, encuentra su unión."
   ]
  },
  {
   "cell_type": "code",
   "execution_count": null,
   "id": "d25659c8",
   "metadata": {},
   "outputs": [],
   "source": [
    "# Ejercicio\n",
    "conjunto_a = {1, 2, 3}\n",
    "conjunto_b = {4, 5, 6}\n",
    "union = conjunto_a.union(conjunto_b)\n"
   ]
  },
  {
   "cell_type": "markdown",
   "id": "c3982381",
   "metadata": {},
   "source": [
    "### Ejercicio 7: Intersección de Conjuntos\n",
    "\n",
    "Encuentra la intersección de los conjuntos `{1, 2, 3}` y `{2, 3, 4}`."
   ]
  },
  {
   "cell_type": "code",
   "execution_count": null,
   "id": "a385cd04",
   "metadata": {},
   "outputs": [],
   "source": [
    "# Ejercicio\n",
    "conjunto_a = {1, 2, 3}\n",
    "conjunto_b = {2, 3, 4}\n",
    "interseccion = conjunto_a.intersection(conjunto_b)\n"
   ]
  },
  {
   "cell_type": "markdown",
   "id": "c2bf32be",
   "metadata": {},
   "source": [
    "### Ejercicio 8: Diferencia de Conjuntos\n",
    "\n",
    "Encuentra la diferencia entre `{1, 2, 3}` y `{2, 3, 4}`."
   ]
  },
  {
   "cell_type": "code",
   "execution_count": null,
   "id": "3a7589b3",
   "metadata": {},
   "outputs": [],
   "source": [
    "# Ejercicio\n",
    "conjunto_a = {1, 2, 3}\n",
    "conjunto_b = {2, 3, 4}\n",
    "diferencia = conjunto_a - conjunto_b\n"
   ]
  },
  {
   "cell_type": "markdown",
   "id": "c0223148",
   "metadata": {},
   "source": [
    "### Ejercicio 9: Diferencia Simétrica\n",
    "\n",
    "Encuentra la diferencia simétrica entre `{1, 2, 3}` y `{2, 3, 4}`."
   ]
  },
  {
   "cell_type": "code",
   "execution_count": null,
   "id": "571c5010",
   "metadata": {},
   "outputs": [],
   "source": [
    "# Ejercicio\n",
    "conjunto_a = {1, 2, 3}\n",
    "conjunto_b = {2, 3, 4}\n",
    "diferencia_simetrica = conjunto_a.symmetric_difference(conjunto_b)\n"
   ]
  },
  {
   "cell_type": "markdown",
   "id": "9c238993",
   "metadata": {},
   "source": [
    "### Ejercicio 10: Subconjuntos\n",
    "\n",
    "Comprueba si `{1, 2}` es un subconjunto de `{1, 2, 3}`."
   ]
  },
  {
   "cell_type": "code",
   "execution_count": null,
   "id": "78df1cd4",
   "metadata": {},
   "outputs": [],
   "source": [
    "# Ejercicio\n",
    "subconjunto = {1, 2}\n",
    "conjunto = {1, 2, 3}\n",
    "es_subconjunto = subconjunto.issubset(conjunto)\n"
   ]
  },
  {
   "cell_type": "markdown",
   "id": "3c5acb68",
   "metadata": {},
   "source": [
    "### Ejercicio 11: Superconjuntos\n",
    "\n",
    "Comprueba si `{1, 2, 3}` es un superconjunto de `{1, 2}`."
   ]
  },
  {
   "cell_type": "code",
   "execution_count": null,
   "id": "55b52b29",
   "metadata": {},
   "outputs": [],
   "source": [
    "# Ejercicio\n",
    "superconjunto = {1, 2, 3}\n",
    "conjunto = {1, 2}\n",
    "es_superconjunto = superconjunto.issuperset(conjunto)\n"
   ]
  },
  {
   "cell_type": "markdown",
   "id": "2930a509",
   "metadata": {},
   "source": [
    "### Ejercicio 12: Conjuntos Disjuntos\n",
    "\n",
    "Comprueba si los conjuntos `{1, 2, 3}` y `{4, 5, 6}` son disjuntos."
   ]
  },
  {
   "cell_type": "code",
   "execution_count": null,
   "id": "e10ff015",
   "metadata": {},
   "outputs": [],
   "source": [
    "# Ejercicio\n",
    "conjunto_a = {1, 2, 3}\n",
    "conjunto_b = {4, 5, 6}\n",
    "son_disjuntos = conjunto_a.isdisjoint(conjunto_b)\n"
   ]
  },
  {
   "cell_type": "markdown",
   "id": "01aa26e5",
   "metadata": {},
   "source": [
    "### Ejercicio 13: Tamaño del Conjunto\n",
    "\n",
    "Obtén el número de elementos en el conjunto `{1, 2, 3, 4, 5}`."
   ]
  },
  {
   "cell_type": "code",
   "execution_count": null,
   "id": "973b2e27",
   "metadata": {},
   "outputs": [],
   "source": [
    "# Ejercicio\n",
    "conjunto = {1, 2, 3, 4, 5}\n",
    "tamaño = len(conjunto)\n"
   ]
  },
  {
   "cell_type": "markdown",
   "id": "21fb4f07",
   "metadata": {},
   "source": [
    "### Ejercicio 14: Eliminar Elementos\n",
    "\n",
    "Elimina todos los elementos del conjunto `{1, 2, 3, 4, 5}`."
   ]
  },
  {
   "cell_type": "code",
   "execution_count": null,
   "id": "daf0580b",
   "metadata": {},
   "outputs": [],
   "source": [
    "# Ejercicio\n",
    "conjunto = {1, 2, 3, 4, 5}\n",
    "conjunto.clear()\n"
   ]
  },
  {
   "cell_type": "markdown",
   "id": "b13d1270",
   "metadata": {},
   "source": [
    "### Ejercicio 15: Copiar un Conjunto\n",
    "\n",
    "Crea una copia del conjunto `{1, 2, 3}`."
   ]
  },
  {
   "cell_type": "code",
   "execution_count": null,
   "id": "88e21222",
   "metadata": {},
   "outputs": [],
   "source": [
    "# Ejercicio\n",
    "conjunto_original = {1, 2, 3}\n",
    "conjunto_copia = conjunto_original.copy()\n"
   ]
  },
  {
   "cell_type": "markdown",
   "id": "72ba5a3c",
   "metadata": {},
   "source": [
    "### Ejercicio 16: Crear un Frozenset\n",
    "\n",
    "Crea un `frozenset` a partir de la lista `[1, 2, 3, 4, 5]`."
   ]
  },
  {
   "cell_type": "code",
   "execution_count": null,
   "id": "f6e8f743",
   "metadata": {},
   "outputs": [],
   "source": [
    "# Ejercicio\n",
    "lista = [1, 2, 3, 4, 5]\n",
    "conjunto_inmutable = frozenset(lista)\n"
   ]
  },
  {
   "cell_type": "markdown",
   "id": "95294ead",
   "metadata": {},
   "source": [
    "### Ejercicio 17: Pop en Conjuntos\n",
    "\n",
    "Utiliza `pop()` para eliminar y retornar un elemento del conjunto `{1, 2, 3}`."
   ]
  },
  {
   "cell_type": "code",
   "execution_count": null,
   "id": "a4a8e681",
   "metadata": {},
   "outputs": [],
   "source": [
    "# Ejercicio\n",
    "conjunto = {1, 2, 3}\n",
    "elemento = conjunto.pop()\n"
   ]
  },
  {
   "cell_type": "markdown",
   "id": "47cd0d91",
   "metadata": {},
   "source": [
    "### Ejercicio 18: Convertir Conjunto en Lista\n",
    "\n",
    "Convierte el conjunto `{1, 2, 3, 4, 5}` en una lista."
   ]
  },
  {
   "cell_type": "code",
   "execution_count": null,
   "id": "3964a538",
   "metadata": {},
   "outputs": [],
   "source": [
    "# Ejercicio\n",
    "conjunto = {1, 2, 3, 4, 5}\n",
    "lista = list(conjunto)\n"
   ]
  },
  {
   "cell_type": "markdown",
   "id": "065ec96f",
   "metadata": {},
   "source": [
    "### Ejercicio 19: Intersección de Múltiples Conjuntos\n",
    "\n",
    "Encuentra la intersección de los conjuntos `{1, 2, 3}`, `{2, 3, 4}` y `{3, 4, 5}`."
   ]
  },
  {
   "cell_type": "code",
   "execution_count": null,
   "id": "1dd276a8",
   "metadata": {},
   "outputs": [],
   "source": [
    "# Ejercicio\n",
    "conjunto_a = {1, 2, 3}\n",
    "conjunto_b = {2, 3, 4}\n",
    "conjunto_c = {3, 4, 5}\n",
    "interseccion = conjunto_a.intersection(conjunto_b, conjunto_c)\n"
   ]
  },
  {
   "cell_type": "markdown",
   "id": "dd9250d8",
   "metadata": {},
   "source": [
    "### Ejercicio 20: Unión de Conjuntos con Comprensión\n",
    "\n",
    "Crea la unión de los conjuntos `{1, 2, 3}` y `{4, 5, 6}` utilizando una comprensión de conjunto."
   ]
  },
  {
   "cell_type": "code",
   "execution_count": null,
   "id": "8a3b92c1",
   "metadata": {},
   "outputs": [],
   "source": [
    "# Ejercicio\n",
    "conjunto_a = {1, 2, 3}\n",
    "conjunto_b = {4, 5, 6}\n",
    "union = {x for x in conjunto_a}.union(conjunto_b)\n"
   ]
  },
  {
   "cell_type": "markdown",
   "id": "3a69e326",
   "metadata": {},
   "source": [
    "Estos ej\n",
    "\n",
    "ercicios cubren una gama de operaciones y aplicaciones prácticas de los conjuntos en Python, ofreciendo una comprensión profunda de cómo y cuándo utilizar esta estructura de datos eficiente."
   ]
  }
 ],
 "metadata": {},
 "nbformat": 4,
 "nbformat_minor": 5
}
