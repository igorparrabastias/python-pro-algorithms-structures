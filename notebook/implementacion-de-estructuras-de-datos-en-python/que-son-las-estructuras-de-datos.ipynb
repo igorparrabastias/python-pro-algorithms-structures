{
 "cells": [
  {
   "attachments": {},
   "cell_type": "markdown",
   "id": "b6a223c7",
   "metadata": {},
   "source": [
    "# Qué son las Estructuras de Datos\n",
    "\n",
    "## Introducción:\n",
    "\n",
    "Las estructuras de datos son fundamentales en la programación y la informática, actuando como esquemas para organizar y almacenar datos de manera eficiente. Estas estructuras aprovechan la capacidad de los ordenadores para acceder y manipular datos en cualquier punto de su memoria. Su elección y aplicación correctas son cruciales para el rendimiento y la eficacia de los algoritmos.\n",
    "\n",
    "### Tipos de Estructuras de Datos:\n",
    "\n",
    "#### **Por naturaleza de la estructura**\n",
    "\n",
    "Las estructuras de datos se clasifican en distintas categorías basadas en su naturaleza y el método utilizado para almacenar y recuperar información. Entre las principales categorías se encuentran:\n",
    "\n",
    "- Estructura de Datos Estática:\n",
    "\n",
    "  - **Características**: Tamaño y estructura fijos, definidos en el momento de la compilación.\n",
    "  - **Ejemplos**: Arreglos (arrays) y matrices.\n",
    "  - **Ventajas**: Rápido acceso a los elementos, eficiencia en la memoria para datos de tamaño conocido.\n",
    "  - **Desventajas**: Poca flexibilidad, no adecuada para datos de tamaño variable.\n",
    "\n",
    "- Estructura de Datos Dinámica:\n",
    "\n",
    "  - **Características**: Tamaño y estructura variables, pueden modificarse durante el tiempo de ejecución.\n",
    "  - **Ejemplos**: Listas enlazadas, árboles, grafos.\n",
    "  - **Ventajas**: Flexibilidad para manejar datos con tamaños desconocidos o cambiantes.\n",
    "  - **Desventajas**: Mayor complejidad en la gestión de memoria, acceso potencialmente más lento a los elementos.\n",
    "\n",
    "![](../../img/data-structures-tree2.png)\n",
    "\n",
    "#### **Por relación entre los elementos**\n",
    "\n",
    "Además, basándose en la relación entre los elementos y cómo se accede a ellos, las estructuras de datos se pueden clasificar en:\n",
    "\n",
    "- Estructura de Datos Lineal:\n",
    "\n",
    "  - **Características**: Los elementos están organizados en una secuencia lineal, donde cada elemento tiene un predecesor y un sucesor (excepto el primero y el último).\n",
    "  - **Ejemplos**: Pilas, colas, listas.\n",
    "  - **Aplicaciones**: Operaciones secuenciales, como navegación de historial, manejo de tareas.\n",
    "\n",
    "- Estructura de Datos No Lineal:\n",
    "\n",
    "  - **Características**: Los elementos no siguen una secuencia específica y pueden tener múltiples relaciones.\n",
    "  - **Ejemplos**: Árboles (como los árboles binarios), grafos.\n",
    "  - **Aplicaciones**: Modelado de jerarquías, redes (como redes sociales o redes de transporte).\n",
    "\n",
    "![](../../img/data-structures-tree.png)\n",
    "\n",
    "## Conclusión:\n",
    "\n",
    "Comprender las diferencias y aplicaciones de las estructuras de datos estáticas y dinámicas, así como lineales y no lineales, es esencial para el diseño efectivo de programas y sistemas. La elección adecuada de una estructura de datos puede mejorar significativamente la eficiencia y la eficacia de los algoritmos en la resolución de problemas complejos. En la próxima clase, exploraremos en detalle las estructuras de datos lineales, comenzando con las listas enlazadas.\n"
   ]
  }
 ],
 "metadata": {
  "language_info": {
   "name": "python"
  }
 },
 "nbformat": 4,
 "nbformat_minor": 5
}
