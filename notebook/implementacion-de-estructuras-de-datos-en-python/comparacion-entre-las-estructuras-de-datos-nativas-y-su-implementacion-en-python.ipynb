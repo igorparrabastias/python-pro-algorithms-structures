{
 "cells": [
  {
   "attachments": {},
   "cell_type": "markdown",
   "id": "0ea20817",
   "metadata": {},
   "source": [
    "# Comparación Entre las Estructuras de Datos Nativas y su Implementación en Python\n",
    "\n",
    "Las estructuras de datos son un concepto fundamental en ciencias de la computación y cada lenguaje de programación, como Python, implementa estas estructuras de diferentes maneras. Primero, hablemos de las estructuras de datos en términos generales de ciencias de la computación y luego cómo estas se aplican en Python.\n",
    "\n",
    "### Estructuras de Datos en Ciencias de la Computación\n",
    "\n",
    "Las estructuras de datos son maneras de organizar y almacenar datos de forma que podamos realizar operaciones sobre estos de manera eficiente. Algunas de las estructuras de datos más comunes son:\n",
    "\n",
    "1. **Arrays**: Colecciones de elementos del mismo tipo, almacenados en ubicaciones de memoria contiguas. Permiten un acceso rápido a los elementos a través de índices.\n",
    "2. **Listas Enlazadas**: Consisten en nodos que contienen un dato y una referencia al siguiente nodo en la lista. Son dinámicas pero el acceso a sus elementos es más lento.\n",
    "3. **Pilas (Stacks)**: Estructuras de datos tipo LIFO (Last In, First Out), donde el último elemento añadido es el primero en ser removido.\n",
    "4. **Colas (Queues)**: Operan bajo el principio FIFO (First In, First Out), donde el primer elemento añadido es el primero en ser removido.\n",
    "5. **Árboles**: Estructuras jerárquicas que comienzan con un nodo raíz, de donde se ramifican más nodos.\n",
    "6. **Grafos**: Conjuntos de nodos conectados por aristas, útiles para representar relaciones complejas.\n",
    "7. **Tablas Hash**: Permiten un acceso muy rápido a los datos mediante una función de hash que convierte las claves en índices de un array.\n",
    "8. **Heaps:** Estructuras de datos utilizadas para mantener el elemento mínimo (o máximo) en tiempo constante, comúnmente se usan en algoritmos de ordenamiento y búsqueda.\n",
    "\n",
    "![Alt text](../../img/data-structures-tree-cs.png)\n",
    "\n",
    "### Estructuras de Datos en Python\n",
    "\n",
    "Python es un lenguaje de alto nivel con una implementación específica para estas estructuras de datos:\n",
    "\n",
    "1. **Listas**: Son similares a los arrays pero pueden contener elementos de diferentes tipos. Son dinámicas y su tamaño puede cambiar.\n",
    "2. **Tuplas**: Son como las listas, pero inmutables. Una vez creadas, no puedes modificar sus elementos.\n",
    "3. **Diccionarios**: Implementación de una tabla hash. Permiten almacenar pares de clave-valor y son muy eficientes para buscar datos.\n",
    "4. **Sets**: Colecciones no ordenadas de elementos únicos. Son útiles para operaciones de conjunto como uniones e intersecciones.\n",
    "5. **Pilas y Colas**: Aunque Python `no tiene una implementación directa` de pilas o colas, se pueden simular usando listas. Las pilas se manejan con los métodos `append()` y `pop()`, mientras que las colas pueden implementarse con `collections.deque`.\n",
    "6. **Árboles y Grafos**: `No hay una implementación directa` en Python. Se implementan generalmente mediante clases y referencias.\n",
    "\n",
    "![Alt text](../../img/data-structures-tree-python.png)\n",
    "\n",
    "En resumen, las estructuras de datos en ciencias de la computación son conceptos abstractos que se implementan de diversas formas en distintos lenguajes de programación. Python ofrece su propia implementación para estas estructuras, enfocada en la facilidad de uso y la flexibilidad.\n",
    "\n",
    "Cada una tiene sus propias ventajas y desventajas, y su elección depende de las necesidades específicas del problema a resolver."
   ]
  }
 ],
 "metadata": {
  "language_info": {
   "name": "python"
  }
 },
 "nbformat": 4,
 "nbformat_minor": 5
}
