{
 "cells": [
  {
   "cell_type": "markdown",
   "id": "ab804a23",
   "metadata": {},
   "source": [
    "# Árboles de Expresión y su Aplicación en la Evaluación de Expresiones Matemáticas\n",
    "\n",
    "### Introducción\n",
    "\n",
    "Los árboles de expresión, también conocidos como árboles de análisis sintáctico, son estructuras de datos que se utilizan para representar expresiones matemáticas o lógicas. En estos árboles, los nodos internos representan operadores, mientras que los nodos hoja representan operandos. Los árboles de expresión permiten evaluar expresiones matemáticas de manera estructurada y son fundamentales en compiladores, calculadoras y algoritmos de procesamiento de lenguajes de programación.\n",
    "\n",
    "### Estructura de un Árbol de Expresión\n",
    "\n",
    "Un árbol de expresión binario puede representar cualquier expresión que involucre operaciones binarias, como suma, resta, multiplicación y división. Por ejemplo, la expresión matemática \\( (3 + 2) \\times (4 - 1) \\) se representa en un árbol de expresión como sigue:"
   ]
  },
  {
   "cell_type": "code",
   "execution_count": null,
   "id": "62d6b1d6",
   "metadata": {},
   "outputs": [],
   "source": [
    "        ×\n",
    "       / \\\\\n",
    "      +   -\n",
    "     / \\\\ / \\\\\n",
    "    3  2 4  1"
   ]
  },
  {
   "cell_type": "markdown",
   "id": "1a50af50",
   "metadata": {},
   "source": [
    "### Operaciones Básicas\n",
    "\n",
    "- **Construcción del Árbol:** La construcción de un árbol de expresión requiere el análisis de la expresión matemática, generalmente utilizando técnicas como el análisis sintáctico.\n",
    "- **Evaluación del Árbol:** La evaluación implica recorrer el árbol y calcular el resultado de la expresión representada por el árbol. Esto se puede hacer mediante un recorrido postorden del árbol.\n",
    "\n",
    "### Implementación en Python\n",
    "\n",
    "Para implementar y evaluar un árbol de expresión, primero definimos una clase básica para los nodos del árbol:"
   ]
  },
  {
   "cell_type": "code",
   "execution_count": null,
   "id": "b69bf9be",
   "metadata": {},
   "outputs": [],
   "source": [
    "class NodoExpresion:\n",
    "    def __init__(self, valor):\n",
    "        self.valor = valor\n",
    "        self.izquierda = None\n",
    "        self.derecha = None"
   ]
  },
  {
   "cell_type": "markdown",
   "id": "e5cef2ff",
   "metadata": {},
   "source": [
    "A continuación, implementamos una función para evaluar el árbol de expresión:"
   ]
  },
  {
   "cell_type": "code",
   "execution_count": null,
   "id": "f912fe81",
   "metadata": {},
   "outputs": [],
   "source": [
    "def evaluar_arbol(raiz):\n",
    "    if raiz.izquierda is None and raiz.derecha is None:\n",
    "        return int(raiz.valor)\n",
    "    else:\n",
    "        valor_izquierda = evaluar_arbol(raiz.izquierda)\n",
    "        valor_derecha = evaluar_arbol(raiz.derecha)\n",
    "\n",
    "        if raiz.valor == '+':\n",
    "            return valor_izquierda + valor_derecha\n",
    "        elif raiz.valor == '-':\n",
    "            return valor_izquierda - valor_derecha\n",
    "        elif raiz.valor == '*':\n",
    "            return valor_izquierda * valor_derecha\n",
    "        elif raiz.valor == '/':\n",
    "            return valor_izquierda / valor_derecha"
   ]
  },
  {
   "cell_type": "markdown",
   "id": "10c3b232",
   "metadata": {},
   "source": [
    "### Conclusión\n",
    "\n",
    "Los árboles de expresión son una herramienta poderosa para representar y evaluar expresiones matemáticas. Su estructura facilita la descomposición de expresiones complejas en subexpresiones más simples, permitiendo una evaluación eficiente. Estos árboles no solo son fundamentales en el ámbito de la programación y el análisis matemático, sino que también proporcionan una base sólida para el desarrollo de algoritmos más avanzados en el procesamiento de expresiones y lenguajes.\n",
    "\n",
    "### Ejercicios\n",
    "\n",
    "1. **Construir un Árbol de Expresión:** Dada la expresión matemática \\( 7 \\times (8 + 2) \\), construye un árbol de expresión que represente esta expresión.\n",
    "2. **Evaluar una Expresión:** Implementa una función que tome como entrada la raíz de un árbol de expresión para la expresión \\( (5 + 3) \\times (12 / 4) \\) y devuelva el resultado de evaluar la expresión.\n",
    "3. **Expresiones con Variables:** Discute cómo podrías extender la implementación de árboles de expresión para manejar expresiones que contienen variables, por ejemplo, \\( x + 3 \\).\n",
    "\n",
    "### Soluciones a los Ejercicios\n",
    "\n",
    "### Ejercicio 1: Construir un Árbol de Expresión\n",
    "\n",
    "Para la expresión matemática \\(7 \\times (8 + 2)\\), el árbol de expresión correspondiente sería:"
   ]
  },
  {
   "cell_type": "code",
   "execution_count": null,
   "id": "2198b5c3",
   "metadata": {},
   "outputs": [],
   "source": [
    "    ×\n",
    "   / \\\\\n",
    "  7   +\n",
    "     / \\\\\n",
    "    8   2"
   ]
  },
  {
   "cell_type": "markdown",
   "id": "0dccb7d0",
   "metadata": {},
   "source": [
    "Para construir este árbol en código, primero necesitaríamos definir los nodos y luego enlazarlos para formar la estructura correcta:"
   ]
  },
  {
   "cell_type": "code",
   "execution_count": null,
   "id": "9e4ffd22",
   "metadata": {},
   "outputs": [],
   "source": [
    "# Definición de los nodos\n",
    "nodo_7 = NodoExpresion(\"7\")\n",
    "nodo_8 = NodoExpresion(\"8\")\n",
    "nodo_2 = NodoExpresion(\"2\")\n",
    "nodo_suma = NodoExpresion(\"+\")\n",
    "nodo_multiplicacion = NodoExpresion(\"*\")\n",
    "\n",
    "# Construcción del árbol\n",
    "nodo_suma.izquierda = nodo_8\n",
    "nodo_suma.derecha = nodo_2\n",
    "nodo_multiplicacion.izquierda = nodo_7\n",
    "nodo_multiplicacion.derecha = nodo_suma"
   ]
  },
  {
   "cell_type": "markdown",
   "id": "f05ce891",
   "metadata": {},
   "source": [
    "### Ejercicio 2: Evaluar una Expresión\n",
    "\n",
    "Para evaluar la expresión \\( (5 + 3) \\times (12 / 4) \\), primero construimos el árbol de expresión correspondiente y luego aplicamos la función `evaluar_arbol`."
   ]
  },
  {
   "cell_type": "code",
   "execution_count": null,
   "id": "302029db",
   "metadata": {},
   "outputs": [],
   "source": [
    "# Construcción del árbol\n",
    "nodo_5 = NodoExpresion(\"5\")\n",
    "nodo_3 = NodoExpresion(\"3\")\n",
    "nodo_12 = NodoExpresion(\"12\")\n",
    "nodo_4 = NodoExpresion(\"4\")\n",
    "nodo_suma = NodoExpresion(\"+\")\n",
    "nodo_division = NodoExpresion(\"/\")\n",
    "nodo_multiplicacion = NodoExpresion(\"*\")\n",
    "\n",
    "nodo_suma.izquierda = nodo_5\n",
    "nodo_suma.derecha = nodo_3\n",
    "nodo_division.izquierda = nodo_12\n",
    "nodo_division.derecha = nodo_4\n",
    "nodo_multiplicacion.izquierda = nodo_suma\n",
    "nodo_multiplicacion.derecha = nodo_division\n",
    "\n",
    "# Evaluación del árbol\n",
    "resultado = evaluar_arbol(nodo_multiplicacion)\n",
    "print(f\"El resultado de la expresión es: {resultado}\")"
   ]
  },
  {
   "cell_type": "markdown",
   "id": "7a0d6af7",
   "metadata": {},
   "source": [
    "### Ejercicio 3: Expresiones con Variables\n",
    "\n",
    "Para manejar expresiones que contienen variables, como \\( x + 3 \\), podemos extender la implementación de los árboles de expresión para incluir un diccionario que mapee variables a sus valores. La función de evaluación necesitaría ajustarse para buscar el valor de una variable en este diccionario cuando se encuentre con un nodo que representa una variable."
   ]
  },
  {
   "cell_type": "code",
   "execution_count": null,
   "id": "06715eb6",
   "metadata": {},
   "outputs": [],
   "source": [
    "variables = {\"x\": 5}  # Ejemplo de diccionario con la variable x asignada al valor 5\n",
    "\n",
    "def evaluar_arbol_con_variables(raiz, variables):\n",
    "    if raiz.izquierda is None and raiz.derecha is None:\n",
    "        if raiz.valor in variables:  # Verificar si el nodo es una variable\n",
    "            return variables[raiz.valor]\n",
    "        return int(raiz.valor)\n",
    "    else:\n",
    "        valor_izquierda = evaluar_arbol_con_variables(raiz.izquierda, variables)\n",
    "        valor_derecha = evaluar_arbol_con_variables(raiz.derecha, variables)\n",
    "\n",
    "        # El resto de la implementación permanece igual\n",
    "        # ..."
   ]
  },
  {
   "cell_type": "markdown",
   "id": "79453129",
   "metadata": {},
   "source": [
    "Esta solución te permite evaluar expresiones que contienen tanto valores fijos como variables, ofreciendo una manera flexible de trabajar con árboles de expresión en una variedad de contextos."
   ]
  }
 ],
 "metadata": {},
 "nbformat": 4,
 "nbformat_minor": 5
}
