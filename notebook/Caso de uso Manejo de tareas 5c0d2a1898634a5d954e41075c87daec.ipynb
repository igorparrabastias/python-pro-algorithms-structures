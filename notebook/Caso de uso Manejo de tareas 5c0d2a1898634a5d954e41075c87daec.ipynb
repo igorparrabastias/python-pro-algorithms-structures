{
 "cells": [
  {
   "cell_type": "markdown",
   "id": "b217c8a3",
   "metadata": {},
   "source": [
    "# Caso de uso: Manejo de tareas\n",
    "\n",
    "Un caso de uso común para heaps es implementar un sistema de manejo de tareas donde las tareas tienen diferentes prioridades. Aquí, se puede utilizar un Min-Heap para asegurarse de que siempre se procese la tarea con la prioridad más alta (representada por el número más bajo).\n",
    "\n",
    "Vamos a usar el módulo `heapq` de Python para implementar esto:"
   ]
  },
  {
   "cell_type": "code",
   "execution_count": null,
   "id": "98b21d35",
   "metadata": {},
   "outputs": [],
   "source": [
    "import heapq\n",
    "\n",
    "# Inicializar una lista que actuará como un Min-Heap\n",
    "heap = []\n",
    "\n",
    "# Añadir tareas al heap. Cada tarea es una tupla (prioridad, descripción)\n",
    "heapq.heappush(heap, (2, 'Escribir reporte'))\n",
    "heapq.heappush(heap, (1, 'Preparar reunión'))\n",
    "heapq.heappush(heap, (3, 'Hacer llamada'))\n",
    "\n",
    "# Procesar tareas en orden de prioridad\n",
    "while heap:\n",
    "    prioridad, tarea = heapq.heappop(heap)\n",
    "    print(f\"Procesando tarea: {tarea} con prioridad {prioridad}\")\n"
   ]
  },
  {
   "cell_type": "markdown",
   "id": "35f5b594",
   "metadata": {},
   "source": [
    "Este código gestiona un conjunto de tareas con diferentes prioridades. Las tareas se procesan según su prioridad, asegurando que las tareas más importantes se manejen primero."
   ]
  }
 ],
 "metadata": {},
 "nbformat": 4,
 "nbformat_minor": 5
}
