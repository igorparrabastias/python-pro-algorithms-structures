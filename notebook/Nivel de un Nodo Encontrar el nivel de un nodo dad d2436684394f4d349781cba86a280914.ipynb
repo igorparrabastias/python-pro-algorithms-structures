{
 "cells": [
  {
   "cell_type": "markdown",
   "id": "2189fb6d",
   "metadata": {},
   "source": [
    "# Nivel de un Nodo: Encontrar el nivel de un nodo dado en el árbol.\n",
    "\n",
    "Para encontrar el nivel de un nodo dado en un árbol binario, podemos implementar un método que busque el nodo y rastree su nivel a medida que desciende por el árbol. El nivel de un nodo se define como la distancia desde la raíz hasta el nodo. La raíz se considera que está en el nivel 0, sus hijos directos en el nivel 1, y así sucesivamente.\n",
    "\n",
    "A continuación, agregaré el método `find_level` a nuestra clase `BinaryTree` para encontrar el nivel de un nodo específico.\n",
    "\n",
    "**Actualización de la Clase Árbol Binario**"
   ]
  },
  {
   "cell_type": "code",
   "execution_count": null,
   "id": "c2bef633",
   "metadata": {},
   "outputs": [],
   "source": [
    "class BinaryTree:\n",
    "    # ... [otros métodos existentes] ...\n",
    "\n",
    "    def find_level(self, node, key, level):\n",
    "        \"\"\" Encuentra el nivel de un nodo específico. \"\"\"\n",
    "        if node is None:\n",
    "            return -1  # Retorna -1 si el nodo no se encuentra\n",
    "\n",
    "        if node.data == key:\n",
    "            return level\n",
    "\n",
    "        # Busca en el subárbol izquierdo\n",
    "        left_level = self.find_level(node.left, key, level + 1)\n",
    "        if left_level != -1:\n",
    "            return left_level\n",
    "\n",
    "        # Busca en el subárbol derecho\n",
    "        right_level = self.find_level(node.right, key, level + 1)\n",
    "        return right_level"
   ]
  },
  {
   "cell_type": "markdown",
   "id": "38d829c0",
   "metadata": {},
   "source": [
    "**Ejemplo de Uso**"
   ]
  },
  {
   "cell_type": "code",
   "execution_count": null,
   "id": "3ec0096b",
   "metadata": {},
   "outputs": [],
   "source": [
    "# Continuación del ejemplo anterior...\n",
    "# ...\n",
    "\n",
    "# Encontrando el nivel de un nodo\n",
    "key = \"D\"\n",
    "level = bt.find_level(bt.root, key, 0)\n",
    "if level != -1:\n",
    "    print(f\"El nivel del nodo '{key}' es: {level}\")\n",
    "else:\n",
    "    print(f\"El nodo '{key}' no se encuentra en el árbol\")"
   ]
  },
  {
   "cell_type": "markdown",
   "id": "1e0205db",
   "metadata": {},
   "source": [
    "En este código, `find_level` es un método recursivo que busca el nodo con el valor `key` comenzando desde el nodo raíz. Si encuentra el nodo, devuelve el nivel en el que se encuentra el nodo. Si el nodo no está en el árbol, el método devuelve -1. El nivel se incrementa en cada llamada recursiva a medida que descendemos en el árbol."
   ]
  }
 ],
 "metadata": {},
 "nbformat": 4,
 "nbformat_minor": 5
}
