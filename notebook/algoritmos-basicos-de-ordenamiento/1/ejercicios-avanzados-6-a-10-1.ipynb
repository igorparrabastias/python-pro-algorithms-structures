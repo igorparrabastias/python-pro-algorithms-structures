{
  "cells": [
    {
      "cell_type": "markdown",
      "id": "c015cb8f",
      "metadata": {},
      "source": [
        "# Ejercicios Avanzados 6 a 10\n",
        "\n",
        "### Ejercicio 6: Ordenar una Lista de Diccionarios\n",
        "\n",
        "Ordena una lista de diccionarios por un valor espec\u00edfico de clave en cada diccionario, utilizando Merge Sort."
      ]
    },
    {
      "cell_type": "code",
      "execution_count": null,
      "id": "2aee1822",
      "metadata": {},
      "outputs": [],
      "source": [
        "def merge_sort_dict(lista, clave):\n",
        "    if len(lista) > 1:\n",
        "        mid = len(lista) // 2\n",
        "        izquierda = merge_sort_dict(lista[:mid], clave)\n",
        "        derecha = merge_sort_dict(lista[mid:], clave)\n",
        "\n",
        "        i = j = 0\n",
        "        mezcla = []\n",
        "        while i < len(izquierda) and j < len(derecha):\n",
        "            if izquierda[i][clave] < derecha[j][clave]:\n",
        "                mezcla.append(izquierda[i])\n",
        "                i += 1\n",
        "            else:\n",
        "                mezcla.append(derecha[j])\n",
        "                j += 1\n",
        "        mezcla += izquierda[i:] + derecha[j:]\n",
        "        return mezcla\n",
        "    return lista\n",
        "\n",
        "# Ejemplo de uso\n",
        "libros = [\n",
        "    {\"titulo\": \"Python para todos\", \"a\u00f1o\": 2015},\n",
        "    {\"titulo\": \"Aprendiendo JavaScript\", \"a\u00f1o\": 2018},\n",
        "    {\"titulo\": \"Data Science con Python\", \"a\u00f1o\": 2020}\n",
        "]\n",
        "libros_ordenados = merge_sort_dict(libros, \"a\u00f1o\")\n",
        "print(\"Libros ordenados por a\u00f1o:\", libros_ordenados)"
      ]
    },
    {
      "cell_type": "markdown",
      "id": "f935dc77",
      "metadata": {},
      "source": [
        "### Ejercicio 7: Merge Sort con Conteo de Comparaciones\n",
        "\n",
        "Modifica Merge Sort para que, adem\u00e1s de ordenar la lista, devuelva el n\u00famero total de comparaciones realizadas."
      ]
    },
    {
      "cell_type": "code",
      "execution_count": null,
      "id": "cfa508d6",
      "metadata": {},
      "outputs": [],
      "source": [
        "def merge_sort_con_comparaciones(lista):\n",
        "    if len(lista) > 1:\n",
        "        mid = len(lista) // 2\n",
        "        izquierda, comp_izq = merge_sort_con_comparaciones(lista[:mid])\n",
        "        derecha, comp_der = merge_sort_con_comparaciones(lista[mid:])\n",
        "\n",
        "        i = j = comparaciones = 0\n",
        "        mezcla = []\n",
        "        while i < len(izquierda) and j < len(derecha):\n",
        "            comparaciones += 1\n",
        "            if izquierda[i] < derecha[j]:\n",
        "                mezcla.append(izquierda[i])\n",
        "                i += 1\n",
        "            else:\n",
        "                mezcla.append(derecha[j])\n",
        "                j += 1\n",
        "        mezcla += izquierda[i:] + derecha[j:]\n",
        "        return mezcla, comparaciones + comp_izq + comp_der\n",
        "    return lista, 0\n",
        "\n",
        "# Ejemplo de uso\n",
        "mi_lista = [38, 27, 43, 3, 9, 82, 10]\n",
        "ordenada, comparaciones = merge_sort_con_comparaciones(mi_lista)\n",
        "print(\"Lista ordenada:\", ordenada, \"con\", comparaciones, \"comparaciones\")"
      ]
    },
    {
      "cell_type": "markdown",
      "id": "259ec1b9",
      "metadata": {},
      "source": [
        "### Ejercicio 8: Merge Sort para Listas de Listas\n",
        "\n",
        "Implementa Merge Sort para ordenar una lista de listas bas\u00e1ndose en el primer elemento de cada sublista."
      ]
    },
    {
      "cell_type": "code",
      "execution_count": null,
      "id": "c04a6506",
      "metadata": {},
      "outputs": [],
      "source": [
        "def merge_sort_listas(lista):\n",
        "    def merge(izquierda, derecha):\n",
        "        resultado = []\n",
        "        while izquierda and derecha:\n",
        "            if izquierda[0][0] < derecha[0][0]:\n",
        "                resultado.append(izquierda.pop(0))\n",
        "            else:\n",
        "                resultado.append(derecha.pop(0))\n",
        "        resultado.extend(izquierda or derecha)\n",
        "        return resultado\n",
        "\n",
        "    if len(lista) > 1:\n",
        "        mid = len(lista) // 2\n",
        "        izquierda = merge_sort_listas(lista[:mid])\n",
        "        derecha = merge_sort_listas(lista[mid:])\n",
        "        return merge(izquierda, derecha)\n",
        "    return lista\n",
        "\n",
        "# Ejemplo de uso\n",
        "datos = [[5, \"pera\"], [2, \"manzana\"], [4, \"banana\"]]\n",
        "ordenados = merge_sort_listas(datos)\n",
        "print(\"Datos ordenados por el primer elemento:\", ordenados)"
      ]
    },
    {
      "cell_type": "markdown",
      "id": "186f8fd3",
      "metadata": {},
      "source": [
        "### Ejercicio 9: Merge Sort Adaptativo\n",
        "\n",
        "Adapta Merge Sort para que utilice un algoritmo de ordenamiento diferente (como Insertion Sort) para sublistas peque\u00f1as, mejorando el rendimiento general."
      ]
    },
    {
      "cell_type": "code",
      "execution_count": null,
      "id": "c49539ec",
      "metadata": {},
      "outputs": [],
      "source": [
        "def insertion_sort(lista):\n",
        "    for i in range(1, len(lista)):\n",
        "        clave = lista[i]\n",
        "        j = i-1\n",
        "        while j >= 0 and clave < lista[j]:\n",
        "            lista[j + 1] = lista[j]\n",
        "            j -= 1\n",
        "        lista[j + 1] = clave\n",
        "    return lista\n",
        "\n",
        "def merge_sort_adaptativo(lista, umbral):\n",
        "    if len(lista) <= umbral:\n",
        "        return insertion_sort(lista)\n",
        "    mid = len(lista) // 2\n",
        "    izquierda = merge_sort_adaptativo(lista[:mid], umbral)\n",
        "    derecha = merge_sort_adaptativo(lista[mid:], umbral)\n",
        "\n",
        "    return merge(izquierda, derecha)  # Asume que la funci\u00f3n merge ya est\u00e1 definida\n",
        "\n",
        "# Ejemplo de uso\n",
        "mi_lista = [38, 27, 43, 3, 9, 82, 10]\n",
        "ordenada = merge_sort_adaptativo(mi_lista, 5)\n",
        "print(\"Lista ordenada de manera adaptativa:\", ordenada)"
      ]
    },
    {
      "cell_type": "markdown",
      "id": "f5555896",
      "metadata": {},
      "source": [
        "### Ejercicio 10: Visualizar el Proceso de Merge Sort\n",
        "\n",
        "Escribe un programa que visualice cada paso en el proceso de Merge Sort, mostrando c\u00f3mo se dividen y combinan las sublistas."
      ]
    },
    {
      "cell_type": "code",
      "execution_count": null,
      "id": "9bd6422d",
      "metadata": {},
      "outputs": [],
      "source": [
        "def merge_sort_visual(lista):\n",
        "    def merge(izquierda, derecha):\n",
        "        resultado, i, j = [], 0, 0\n",
        "        while i < len(izquierda) and j < len(derecha):\n",
        "            if izquierda[i] < derecha[j]:\n",
        "                resultado.append(izquierda[i])\n",
        "                i += 1\n",
        "            else:\n",
        "                resultado.append(derecha[j])\n",
        "                j += 1\n",
        "        resultado.extend(izquierda[i:])\n",
        "        resultado.extend(derecha[j:])\n",
        "        print(\"Mezclando:\", resultado)\n",
        "        return resultado\n",
        "\n",
        "    if len(lista) > 1:\n",
        "        mid = len(lista) // 2\n",
        "        izquierda = merge_sort_visual(lista[:mid])\n",
        "        derecha = merge_sort_visual(lista[mid:])\n",
        "        return merge(izquierda, derecha)\n",
        "    return lista\n",
        "\n",
        "# Ejemplo de uso\n",
        "mi_lista = [64, 34, 25, 12, 22, 11, 90]\n",
        "merge_sort_visual(mi_lista)"
      ]
    },
    {
      "cell_type": "markdown",
      "id": "9c18d58f",
      "metadata": {},
      "source": [
        "Estos ejercicios avanzados est\u00e1n dise\u00f1ados para explorar y expandir tu comprensi\u00f3n del algoritmo Merge Sort, desafi\u00e1ndote a implementar variaciones y mejoras espec\u00edficas, y a aplicar el algoritmo a diferentes tipos de datos y situaciones."
      ]
    }
  ],
  "metadata": {},
  "nbformat": 4,
  "nbformat_minor": 5
}