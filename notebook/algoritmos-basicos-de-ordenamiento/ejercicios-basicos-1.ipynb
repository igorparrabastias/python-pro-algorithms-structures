{
  "cells": [
    {
      "cell_type": "markdown",
      "id": "0057d9d6",
      "metadata": {},
      "source": [
        "# Ejercicios b\u00e1sicos\n",
        "\n",
        "### Ejercicio 1: Ordenar una Lista Num\u00e9rica\n",
        "\n",
        "Utiliza la funci\u00f3n `merge_sort` para ordenar la lista `[34, 7, 23, 32, 5, 62]`."
      ]
    },
    {
      "cell_type": "code",
      "execution_count": null,
      "id": "45cf9af9",
      "metadata": {},
      "outputs": [],
      "source": [
        "# Ejercicio\n",
        "mi_lista = [34, 7, 23, 32, 5, 62]\n",
        "ordenada = merge_sort(mi_lista)\n",
        "print(\"Lista ordenada:\", ordenada)"
      ]
    },
    {
      "cell_type": "markdown",
      "id": "c318e9c5",
      "metadata": {},
      "source": [
        "### Ejercicio 2: Ordenar una Lista de Cadenas\n",
        "\n",
        "Aplica `merge_sort` para ordenar alfab\u00e9ticamente la lista de cadenas `[\"manzana\", \"pera\", \"banana\", \"cereza\"]`."
      ]
    },
    {
      "cell_type": "code",
      "execution_count": null,
      "id": "1df5c2cc",
      "metadata": {},
      "outputs": [],
      "source": [
        "# Adaptaci\u00f3n de merge_sort para cadenas (Aseg\u00farate de ajustar la comparaci\u00f3n en el algoritmo para cadenas)\n",
        "mi_lista_cadenas = [\"manzana\", \"pera\", \"banana\", \"cereza\"]\n",
        "ordenada_cadenas = merge_sort(mi_lista_cadenas)\n",
        "print(\"Lista de cadenas ordenada:\", ordenada_cadenas)"
      ]
    },
    {
      "cell_type": "markdown",
      "id": "c1e64d0f",
      "metadata": {},
      "source": [
        "### Ejercicio 3: Ordenar en Orden Descendente\n",
        "\n",
        "Modifica `merge_sort` para ordenar la lista `[92, 17, 53, 7, 30, 19]` en orden descendente."
      ]
    },
    {
      "cell_type": "code",
      "execution_count": null,
      "id": "35a26e66",
      "metadata": {},
      "outputs": [],
      "source": [
        "# Consejo: Invierte la condici\u00f3n de comparaci\u00f3n en el algoritmo de merge_sort para ordenar en orden descendente\n",
        "mi_lista_desc = [92, 17, 53, 7, 30, 19]\n",
        "ordenada_desc = merge_sort_desc(mi_lista_desc)  # Aseg\u00farate de definir merge_sort_desc correctamente\n",
        "print(\"Lista ordenada en descendente:\", ordenada_desc)"
      ]
    },
    {
      "cell_type": "markdown",
      "id": "797f5476",
      "metadata": {},
      "source": [
        "### Ejercicio 4: Comprobar si la Lista Est\u00e1 Ordenada\n",
        "\n",
        "Usa `merge_sort` para ordenar `[5, 1, 4, 2, 8]` y luego verifica si la lista resultante est\u00e1 ordenada (sin utilizar `sorted` o m\u00e9todos similares)."
      ]
    },
    {
      "cell_type": "code",
      "execution_count": null,
      "id": "870fa219",
      "metadata": {},
      "outputs": [],
      "source": [
        "# Ejercicio\n",
        "mi_lista = [5, 1, 4, 2, 8]\n",
        "ordenada = merge_sort(mi_lista)\n",
        "esta_ordenada = all(ordenada[i] <= ordenada[i+1] for i in range(len(ordenada)-1))\n",
        "print(\"\u00bfLa lista est\u00e1 ordenada?\", esta_ordenada)"
      ]
    },
    {
      "cell_type": "markdown",
      "id": "7b1a6d9b",
      "metadata": {},
      "source": [
        "### Ejercicio 5: Encontrar el Elemento M\u00e1ximo Usando Merge Sort\n",
        "\n",
        "Utiliza `merge_sort` para encontrar el elemento m\u00e1ximo en la lista `[45, 21, 78, 89, 34, 51, 30]`."
      ]
    },
    {
      "cell_type": "code",
      "execution_count": null,
      "id": "72172a62",
      "metadata": {},
      "outputs": [],
      "source": [
        "# Ejercicio\n",
        "mi_lista = [45, 21, 78, 89, 34, 51, 30]\n",
        "ordenada = merge_sort(mi_lista)\n",
        "elemento_maximo = ordenada[-1]\n",
        "print(\"El elemento m\u00e1ximo es:\", elemento_maximo)"
      ]
    },
    {
      "cell_type": "markdown",
      "id": "dc92d9a5",
      "metadata": {},
      "source": [
        "Estos ejercicios b\u00e1sicos te permitir\u00e1n practicar y entender mejor la implementaci\u00f3n y las aplicaciones del algoritmo Merge Sort en Python, desde ordenar listas sencillas hasta realizar adaptaciones espec\u00edficas del algoritmo para diferentes casos de uso."
      ]
    }
  ],
  "metadata": {},
  "nbformat": 4,
  "nbformat_minor": 5
}