{
  "cells": [
    {
      "cell_type": "markdown",
      "id": "e914ed7f",
      "metadata": {},
      "source": [
        "# Quick sort: Ordenamiento r\u00e1pido\n",
        "\n",
        "### Introducci\u00f3n:\n",
        "\n",
        "Quick Sort, tambi\u00e9n conocido como ordenamiento r\u00e1pido, es un eficiente algoritmo de ordenamiento que utiliza el enfoque de dividir para conquistar. Es especialmente bueno para grandes conjuntos de datos y su rendimiento promedio es generalmente mejor que otros algoritmos de ordenamiento como el Bubble Sort o el Merge Sort. Su eficiencia radica en la elecci\u00f3n de un 'pivote' y la partici\u00f3n del conjunto de datos en subconjuntos que son ordenados de manera independiente.\n",
        "\n",
        "### Concepto de Quick Sort:\n",
        "\n",
        "El proceso de Quick Sort implica los siguientes pasos:\n",
        "\n",
        "1. **Elecci\u00f3n del Pivote**: Seleccionar un elemento como pivote. La elecci\u00f3n del pivote puede afectar significativamente el rendimiento del algoritmo.\n",
        "2. **Partici\u00f3n**: Reorganizar la lista de manera que todos los elementos menores que el pivote queden a su izquierda y todos los elementos mayores queden a su derecha.\n",
        "3. **Recursi\u00f3n**: Aplicar de manera recursiva el mismo proceso a los subconjuntos generados por la partici\u00f3n.\n",
        "\n",
        "### Implementaci\u00f3n en Python:"
      ]
    },
    {
      "cell_type": "code",
      "execution_count": null,
      "id": "c1cb30ba",
      "metadata": {},
      "outputs": [],
      "source": [
        "def quick_sort(lista):\n",
        "    if len(lista) <= 1:\n",
        "        return lista\n",
        "    else:\n",
        "        pivote = lista.pop()  # Toma el \u00faltimo elemento como pivote\n",
        "        menores = []  # Elementos menores que el pivote\n",
        "        mayores = []  # Elementos mayores que el pivote\n",
        "\n",
        "        for elemento in lista:\n",
        "            if elemento <= pivote:\n",
        "                menores.append(elemento)\n",
        "            else:\n",
        "                mayores.append(elemento)\n",
        "\n",
        "        return quick_sort(menores) + [pivote] + quick_sort(mayores)"
      ]
    },
    {
      "cell_type": "markdown",
      "id": "35235c69",
      "metadata": {},
      "source": [
        "### Ejemplo de Uso:"
      ]
    },
    {
      "cell_type": "code",
      "execution_count": null,
      "id": "33c95e21",
      "metadata": {},
      "outputs": [],
      "source": [
        "mi_lista = [99, 4, 6, 2, 12, 11, 13]\n",
        "lista_ordenada = quick_sort(mi_lista)\n",
        "print(\"Lista ordenada:\", lista_ordenada)"
      ]
    },
    {
      "cell_type": "markdown",
      "id": "f77993de",
      "metadata": {},
      "source": [
        "### Complejidad del Algoritmo:\n",
        "\n",
        "- **Mejor caso y caso promedio**: O(n log n), donde n es el n\u00famero de elementos en la lista.\n",
        "- **Peor caso**: O(n\u00b2), especialmente si el pivote es el menor o el mayor elemento en cada partici\u00f3n. Esto se puede mitigar mediante t\u00e9cnicas como la elecci\u00f3n de pivote aleatorio o la mediana de tres.\n",
        "\n",
        "### Ventajas de Quick Sort:\n",
        "\n",
        "- **Eficiencia**: Es uno de los algoritmos de ordenamiento m\u00e1s r\u00e1pidos en promedio.\n",
        "- **Espacio**: Quick Sort es un algoritmo in situ; aparte del espacio en la pila debido a la recursi\u00f3n, no requiere espacio adicional.\n",
        "\n",
        "### Desventajas de Quick Sort:\n",
        "\n",
        "- **Peor caso de rendimiento**: En casos espec\u00edficos, su rendimiento puede degradarse a O(n\u00b2).\n",
        "- **No Estable**: Quick Sort no es un algoritmo de ordenamiento estable, lo que significa que puede cambiar el orden relativo de elementos iguales.\n",
        "\n",
        "### Conclusi\u00f3n:\n",
        "\n",
        "Quick Sort es un algoritmo de ordenamiento muy eficiente y com\u00fanmente utilizado. Su rendimiento en el caso promedio lo hace preferible para la mayor\u00eda de las aplicaciones, aunque es importante ser consciente de su comportamiento en el peor de los casos y considerar el uso de algoritmos como Merge Sort en situaciones donde la estabilidad es una preocupaci\u00f3n."
      ]
    }
  ],
  "metadata": {},
  "nbformat": 4,
  "nbformat_minor": 5
}