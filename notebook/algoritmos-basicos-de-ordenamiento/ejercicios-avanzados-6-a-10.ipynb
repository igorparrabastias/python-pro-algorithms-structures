{
 "cells": [
  {
   "cell_type": "markdown",
   "id": "d0a7c0ae",
   "metadata": {},
   "source": [
    "# Ejercicios Avanzados 6 a 10\n",
    "\n",
    "### Ejercicio 6: Implementar Quick Sort Híbrido\n",
    "\n",
    "Combina Quick Sort con Insertion Sort para tratar subarreglos pequeños. Utiliza Insertion Sort para ordenar subarreglos de tamaño menor o igual a un umbral definido, aprovechando su eficiencia en listas pequeñas."
   ]
  },
  {
   "cell_type": "code",
   "execution_count": null,
   "id": "e56708f1",
   "metadata": {},
   "outputs": [],
   "source": [
    "def insertion_sort(lista, inicio, fin):\n",
    "    for i in range(inicio + 1, fin + 1):\n",
    "        key = lista[i]\n",
    "        j = i - 1\n",
    "        while j >= inicio and key < lista[j]:\n",
    "            lista[j + 1] = lista[j]\n",
    "            j -= 1\n",
    "        lista[j + 1] = key\n",
    "\n",
    "def hybrid_quick_sort(lista, inicio=0, fin=None, umbral=10):\n",
    "    if fin is None:\n",
    "        fin = len(lista) - 1\n",
    "\n",
    "    if inicio < fin:\n",
    "        if fin - inicio + 1 <= umbral:\n",
    "            insertion_sort(lista, inicio, fin)\n",
    "        else:\n",
    "            pivote = particion(lista, inicio, fin)\n",
    "            hybrid_quick_sort(lista, inicio, pivote - 1, umbral)\n",
    "            hybrid_quick_sort(lista, pivote + 1, fin, umbral)\n",
    "    return lista\n",
    "\n",
    "# Utiliza la función 'particion' de los ejercicios anteriores de Quick Sort\n"
   ]
  },
  {
   "cell_type": "markdown",
   "id": "3175dd87",
   "metadata": {},
   "source": [
    "### Ejercicio 7: Quick Sort con Pivote de Mediana de Tres\n",
    "\n",
    "Modifica Quick Sort para elegir el pivote como la mediana de tres elementos (primero, medio, último) del arreglo. Esto mejora el rendimiento en casos promedio al reducir la probabilidad de escoger un mal pivote."
   ]
  },
  {
   "cell_type": "code",
   "execution_count": null,
   "id": "6a8451f7",
   "metadata": {},
   "outputs": [],
   "source": [
    "def mediana_de_tres(lista, inicio, fin):\n",
    "    medio = (inicio + fin) // 2\n",
    "    pivote = sorted([(lista[inicio], inicio), (lista[medio], medio), (lista[fin], fin)])[1][1]\n",
    "    lista[pivote], lista[fin] = lista[fin], lista[pivote]\n",
    "    return particion(lista, inicio, fin)\n",
    "\n",
    "def quick_sort_mediana(lista, inicio=0, fin=None):\n",
    "    if fin is None:\n",
    "        fin = len(lista) - 1\n",
    "    if inicio < fin:\n",
    "        pivote = mediana_de_tres(lista, inicio, fin)\n",
    "        quick_sort_mediana(lista, inicio, pivote - 1)\n",
    "        quick_sort_mediana(lista, pivote + 1, fin)\n",
    "    return lista\n"
   ]
  },
  {
   "cell_type": "markdown",
   "id": "3ae2b303",
   "metadata": {},
   "source": [
    "### Ejercicio 8: Ordenar Listas de Objetos con Quick Sort\n",
    "\n",
    "Implementa Quick Sort para ordenar una lista de objetos personalizados, como instancias de una clase `Empleado`, por una propiedad específica, como `edad` o `nombre`."
   ]
  },
  {
   "cell_type": "code",
   "execution_count": null,
   "id": "e25f9885",
   "metadata": {},
   "outputs": [],
   "source": [
    "class Empleado:\n",
    "    def __init__(self, nombre, edad):\n",
    "        self.nombre = nombre\n",
    "        self.edad = edad\n",
    "\n",
    "def quick_sort_empleados(lista, propiedad, inicio=0, fin=None):\n",
    "    if fin is None:\n",
    "        fin = len(lista) - 1\n",
    "    if inicio < fin:\n",
    "        pivote = particion_empleados(lista, inicio, fin, propiedad)\n",
    "        quick_sort_empleados(lista, propiedad, inicio, pivote - 1)\n",
    "        quick_sort_empleados(lista, propiedad, pivote + 1, fin)\n",
    "    return lista\n",
    "\n",
    "def particion_empleados(lista, inicio, fin, propiedad):\n",
    "    # Similar a particion, pero comparando el atributo especificado de los objetos\n",
    "    pass\n"
   ]
  },
  {
   "cell_type": "markdown",
   "id": "76f9a56c",
   "metadata": {},
   "source": [
    "### Ejercicio 9: Quick Sort Paralelo\n",
    "\n",
    "Explora la implementación de Quick Sort de manera paralela utilizando módulos como `multiprocessing` para acelerar el ordenamiento de listas grandes."
   ]
  },
  {
   "cell_type": "code",
   "execution_count": null,
   "id": "b7c182e9",
   "metadata": {},
   "outputs": [],
   "source": [
    "from multiprocessing import Pool\n",
    "\n",
    "def quick_sort_paralelo(lista):\n",
    "    if len(lista) <= 1:\n",
    "        return lista\n",
    "    else:\n",
    "        pivote = lista[len(lista) // 2]\n",
    "        menores = [x for x in lista if x < pivote]\n",
    "        iguales = [x for x in lista if x == pivote]\n",
    "        mayores = [x for x in lista if x > pivote]\n",
    "\n",
    "        with Pool() as pool:\n",
    "            menores, mayores = pool.map(quick_sort_paralelo, [menores, mayores])\n",
    "\n",
    "        return menores + iguales + mayores\n"
   ]
  },
  {
   "cell_type": "markdown",
   "id": "afb467f1",
   "metadata": {},
   "source": [
    "### Ejercicio 10: Quick Sort con Conteo de Operaciones\n",
    "\n",
    "Modifica Quick Sort para contar el número de comparaciones y asignaciones (o swaps) realizadas durante el ordenamiento y devuelve estos contadores junto con la lista ordenada."
   ]
  },
  {
   "cell_type": "code",
   "execution_count": null,
   "id": "419de69a",
   "metadata": {},
   "outputs": [],
   "source": [
    "def quick_sort_conteo(lista, inicio=0, fin=None):\n",
    "    comparaciones = asignaciones = 0\n",
    "    if fin is None:\n",
    "        fin = len(lista) - 1\n",
    "    if inicio < fin:\n",
    "        pivote, comp_tmp, asig_tmp = particion_conteo(lista, inicio, fin)\n",
    "        comparaciones += comp_tmp\n",
    "        asignaciones += asig_tmp\n",
    "\n",
    "        _, comp_izq, asig_izq = quick_sort_conteo(lista, inicio, pivote - 1)\n",
    "        _, comp_der, asig_der\n",
    "\n",
    " = quick_sort_conteo(lista, pivote + 1, fin)\n",
    "\n",
    "        comparaciones += comp_izq + comp_der\n",
    "        asignaciones += asig_izq + asig_der\n",
    "\n",
    "    return lista, comparaciones, asignaciones\n",
    "\n",
    "def particion_conteo(lista, inicio, fin):\n",
    "    # Implementa la partición aquí, contando comparaciones y asignaciones\n",
    "    pass\n"
   ]
  },
  {
   "cell_type": "markdown",
   "id": "c22ad639",
   "metadata": {},
   "source": [
    "Estos ejercicios avanzados están diseñados para profundizar tu comprensión y habilidad con el algoritmo Quick Sort, explorando técnicas avanzadas y aplicaciones específicas que desafían y expanden tus habilidades de programación en Python."
   ]
  }
 ],
 "metadata": {},
 "nbformat": 4,
 "nbformat_minor": 5
}
