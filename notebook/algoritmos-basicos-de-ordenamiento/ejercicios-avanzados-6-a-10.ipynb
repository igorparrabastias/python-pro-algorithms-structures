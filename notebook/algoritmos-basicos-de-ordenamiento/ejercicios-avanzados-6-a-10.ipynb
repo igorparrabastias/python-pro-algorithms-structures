{
  "cells": [
    {
      "cell_type": "markdown",
      "id": "a5c11f6f",
      "metadata": {},
      "source": [
        "# Ejercicios Avanzados 6 a 10\n",
        "\n",
        "## Ejercicio 6: Ordenar una matriz de cadenas por su longitud\n",
        "\n",
        "Escribe una funci\u00f3n en Python que utilice el algoritmo de ordenamiento de burbuja para ordenar una matriz de cadenas por su longitud. Si dos cadenas tienen la misma longitud, deben quedar en el mismo orden en que aparecieron inicialmente."
      ]
    },
    {
      "cell_type": "code",
      "execution_count": null,
      "id": "30d766fc",
      "metadata": {},
      "outputs": [],
      "source": [
        "def bubble_sort_cadenas_por_longitud(arr):\n",
        "    n = len(arr)\n",
        "    for i in range(n):\n",
        "        for j in range(0, n-i-1):\n",
        "            if len(arr[j]) > len(arr[j+1]):\n",
        "                arr[j], arr[j+1] = arr[j+1], arr[j]\n",
        "    return arr\n",
        "\n",
        "# Ejemplo de uso\n",
        "cadenas = [\"pera\", \"manzana\", \"uva\", \"banana\", \"melocoton\"]\n",
        "print(bubble_sort_cadenas_por_longitud(cadenas))"
      ]
    },
    {
      "cell_type": "markdown",
      "id": "0a9040d9",
      "metadata": {},
      "source": [
        "## Ejercicio 7: Ordenamiento descendente\n",
        "\n",
        "Modifica el algoritmo de ordenamiento de burbuja para ordenar un array de n\u00fameros en orden descendente."
      ]
    },
    {
      "cell_type": "code",
      "execution_count": null,
      "id": "28828678",
      "metadata": {},
      "outputs": [],
      "source": [
        "def bubble_sort_descendente(arr):\n",
        "    n = len(arr)\n",
        "    for i in range(n):\n",
        "        for j in range(0, n-i-1):\n",
        "            if arr[j] < arr[j+1]:\n",
        "                arr[j], arr[j+1] = arr[j+1], arr[j]\n",
        "    return arr\n",
        "\n",
        "# Ejemplo de uso\n",
        "print(bubble_sort_descendente([64, 34, 25, 12, 22, 11, 90]))"
      ]
    },
    {
      "cell_type": "markdown",
      "id": "8944d794",
      "metadata": {},
      "source": [
        "## Ejercicio 8: Detectar Ordenamiento\n",
        "\n",
        "Escribe una funci\u00f3n que determine si un array est\u00e1 ordenado (ascendentemente) utilizando el algoritmo de burbuja, pero deteniendo la ejecuci\u00f3n tan pronto como se detecte que el array ya est\u00e1 ordenado."
      ]
    },
    {
      "cell_type": "code",
      "execution_count": null,
      "id": "5ceb09fb",
      "metadata": {},
      "outputs": [],
      "source": [
        "def esta_ordenado(arr):\n",
        "    n = len(arr)\n",
        "    for i in range(n-1):\n",
        "        intercambio = False\n",
        "        for j in range(n-i-1):\n",
        "            if arr[j] > arr[j+1]:\n",
        "                arr[j], arr[j+1] = arr[j+1], arr[j]\n",
        "                intercambio = True\n",
        "        if not intercambio:\n",
        "            return True\n",
        "    return False\n",
        "\n",
        "# Ejemplo de uso\n",
        "print(esta_ordenado([1, 2, 3, 4, 5]))\n",
        "print(esta_ordenado([5, 1, 4, 2, 8]))"
      ]
    },
    {
      "cell_type": "markdown",
      "id": "8e5130a9",
      "metadata": {},
      "source": [
        "## Ejercicio 9: Ordenar solo elementos impares\n",
        "\n",
        "Escribe una funci\u00f3n que ordene solo los elementos impares de un array en orden ascendente, dejando los elementos pares en sus posiciones originales."
      ]
    },
    {
      "cell_type": "code",
      "execution_count": null,
      "id": "67edf925",
      "metadata": {},
      "outputs": [],
      "source": [
        "def ordenar_impares(arr):\n",
        "    impares = sorted([arr[i] for i in range(len(arr)) if arr[i] % 2 != 0])\n",
        "    indice_impar = 0\n",
        "    for i in range(len(arr)):\n",
        "        if arr[i] % 2 != 0:\n",
        "            arr[i] = impares[indice_impar]\n",
        "            indice_impar += 1\n",
        "    return arr\n",
        "\n",
        "# Ejemplo de uso\n",
        "print(ordenar_impares([9, 4, 2, 7, 3, 2, 6]))"
      ]
    },
    {
      "cell_type": "markdown",
      "id": "87223bf4",
      "metadata": {},
      "source": [
        "## Ejercicio 10: Ordenamiento de burbuja bidireccional (Cocktail Sort)\n",
        "\n",
        "Implementa el ordenamiento de burbuja bidireccional, tambi\u00e9n conocido como Cocktail Sort, que es una variante del ordenamiento de burbuja que ordena el array en ambas direcciones en cada pasada.\n",
        "\n",
        "```python\n",
        "def cocktail_sort(arr):\n",
        "    n = len(arr)\n",
        "    swapped = True\n",
        "    start = 0\n",
        "    end = n-1\n",
        "    while swapped:\n",
        "        swapped = False\n",
        "        for i in range(start, end):\n",
        "            if arr[i] > arr[i+1]:\n",
        "                arr[i], arr[i+1] = arr[i+1], arr[i]\n",
        "                swapped = True\n",
        "        if not swapped:\n",
        "            break\n",
        "        swapped = False\n",
        "        end -= 1\n",
        "        for i in range(end-1, start-1, -1):\n",
        "            if arr[i] > arr[i+1]:\n",
        "                arr[i], arr[i+1] = arr[i+1], arr[i]\n",
        "                swapped = True\n",
        "        start += 1\n",
        "    return arr\n",
        "\n",
        "# Ejemplo de uso\n",
        "print(cocktail_sort([5, 1, 4, 2, 8, 0, 2]))\n",
        "\n",
        "```"
      ]
    }
  ],
  "metadata": {},
  "nbformat": 4,
  "nbformat_minor": 5
}