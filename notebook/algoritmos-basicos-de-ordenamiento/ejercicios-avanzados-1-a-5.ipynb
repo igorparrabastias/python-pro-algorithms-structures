{
  "cells": [
    {
      "cell_type": "markdown",
      "id": "627b3bf6",
      "metadata": {},
      "source": [
        "# Ejercicios Avanzados 1 a 5\n",
        "\n",
        "### Ejercicio 1: Ordenar Listas de Tuplas\n",
        "\n",
        "Dada una lista de tuplas donde cada tupla contiene dos elementos, el primero siendo el nombre de una persona y el segundo su edad, usa el algoritmo Bubble Sort para ordenar la lista por la edad de manera ascendente."
      ]
    },
    {
      "cell_type": "code",
      "execution_count": null,
      "id": "40303008",
      "metadata": {},
      "outputs": [],
      "source": [
        "# Ejercicio\n",
        "def bubble_sort_tuplas(lista):\n",
        "    n = len(lista)\n",
        "    for i in range(n):\n",
        "        for j in range(0, n-i-1):\n",
        "            if lista[j][1] > lista[j+1][1]:\n",
        "                lista[j], lista[j+1] = lista[j+1], lista[j]\n",
        "    return lista\n",
        "\n",
        "personas = [(\"John\", 35), (\"Anna\", 25), (\"Peter\", 50)]\n",
        "bubble_sort_tuplas(personas)\n",
        "print(personas)  # Deber\u00eda mostrar las tuplas ordenadas por edad"
      ]
    },
    {
      "cell_type": "markdown",
      "id": "15a5d2d6",
      "metadata": {},
      "source": [
        "### Ejercicio 2: Bubble Sort con M\u00faltiples Criterios\n",
        "\n",
        "Modifica el Bubble Sort para ordenar una lista de tuplas basada en dos criterios: primero por la longitud del primer elemento de cada tupla y luego por el segundo elemento de la tupla."
      ]
    },
    {
      "cell_type": "code",
      "execution_count": null,
      "id": "35f5a009",
      "metadata": {},
      "outputs": [],
      "source": [
        "# Ejercicio\n",
        "def bubble_sort_criterios(lista):\n",
        "    n = len(lista)\n",
        "    for i in range(n):\n",
        "        for j in range(0, n-i-1):\n",
        "            if len(lista[j][0]) > len(lista[j+1][0]) or (len(lista[j][0]) == len(lista[j+1][0]) and lista[j][1] > lista[j+1][1]):\n",
        "                lista[j], lista[j+1] = lista[j+1], lista[j]\n",
        "    return lista\n",
        "\n",
        "datos = [(\"rojo\", 2), (\"azul\", 1), (\"verde\", 1), (\"amarillo\", 3)]\n",
        "bubble_sort_criterios(datos)\n",
        "print(datos)  # Deber\u00eda mostrar las tuplas ordenadas por los criterios definidos"
      ]
    },
    {
      "cell_type": "markdown",
      "id": "1376e640",
      "metadata": {},
      "source": [
        "### Ejercicio 3: Optimizaci\u00f3n de Bubble Sort\n",
        "\n",
        "Implementa una versi\u00f3n optimizada de Bubble Sort que detecta si la lista ya est\u00e1 ordenada antes de completar todas las pasadas, reduciendo as\u00ed el n\u00famero total de iteraciones."
      ]
    },
    {
      "cell_type": "code",
      "execution_count": null,
      "id": "93baaba6",
      "metadata": {},
      "outputs": [],
      "source": [
        "# Ejercicio\n",
        "def bubble_sort_optimizado(lista):\n",
        "    n = len(lista)\n",
        "    for i in range(n):\n",
        "        intercambio = False\n",
        "        for j in range(0, n-i-1):\n",
        "            if lista[j] > lista[j+1]:\n",
        "                lista[j], lista[j+1] = lista[j+1], lista[j]\n",
        "                intercambio = True\n",
        "        if not intercambio:\n",
        "            break\n",
        "    return lista\n",
        "\n",
        "mi_lista = [5, 1, 4, 2, 8]\n",
        "bubble_sort_optimizado(mi_lista)\n",
        "print(mi_lista)  # Deber\u00eda mostrar la lista ordenada"
      ]
    },
    {
      "cell_type": "markdown",
      "id": "43f2a1a1",
      "metadata": {},
      "source": [
        "### Ejercicio 4: Bubble Sort Inverso\n",
        "\n",
        "Modifica Bubble Sort para ordenar una lista de n\u00fameros en orden descendente."
      ]
    },
    {
      "cell_type": "code",
      "execution_count": null,
      "id": "84fd8ce6",
      "metadata": {},
      "outputs": [],
      "source": [
        "# Ejercicio\n",
        "def bubble_sort_inverso(lista):\n",
        "    n = len(lista)\n",
        "    for i in range(n):\n",
        "        for j in range(0, n-i-1):\n",
        "            if lista[j] < lista[j+1]:\n",
        "                lista[j], lista[j+1] = lista[j+1], lista[j]\n",
        "    return lista\n",
        "\n",
        "mi_lista = [3, 1, 4, 1, 5, 9, 2, 6]\n",
        "bubble_sort_inverso(mi_lista)\n",
        "print(mi_lista)  # Deber\u00eda mostrar la lista ordenada en orden descendente"
      ]
    },
    {
      "cell_type": "markdown",
      "id": "62e00b44",
      "metadata": {},
      "source": [
        "### Ejercicio 5: Contar Intercambios en Bubble Sort\n",
        "\n",
        "Modifica el Bubble Sort para que, adem\u00e1s de ordenar la lista, devuelva el n\u00famero total de intercambios realizados."
      ]
    },
    {
      "cell_type": "code",
      "execution_count": null,
      "id": "237cb326",
      "metadata": {},
      "outputs": [],
      "source": [
        "# Ejercicio\n",
        "def bubble_sort_con_intercambios(lista):\n",
        "    n = len(lista)\n",
        "    total_intercambios = 0\n",
        "    for i in range(n):\n",
        "        for j in range(0, n-i-1):\n",
        "            if lista[j] > lista[j+1]:\n",
        "                lista[j], lista[j+1] = lista[j+1], lista[j]\n",
        "                total_intercambios += 1\n",
        "    return lista, total_intercambios\n",
        "\n",
        "mi_lista = [64, 34, 25, 12, 22, 11, 90]\n",
        "_, intercambios = bubble_sort_con_intercambios(mi_lista)\n",
        "print(\"Total de intercambios:\", intercambios)  # Deber\u00eda mostrar el n\u00famero de intercambios"
      ]
    },
    {
      "cell_type": "markdown",
      "id": "b7fa67af",
      "metadata": {},
      "source": [
        "Estos ejercicios avanzados sobre Bubble Sort desaf\u00edan tus habilidades de programaci\u00f3n al introducir requisitos m\u00e1s complejos, como ordenamiento basado en m\u00faltiples criterios, optimizaci\u00f3n y modificaci\u00f3n del algoritmo original para adaptarse a necesidades espec\u00edficas. Resolver estos problemas te ayudar\u00e1 a profundizar tu comprensi\u00f3n del algoritmo Bubble Sort y a mejorar tus habilidades de resoluci\u00f3n de problemas en Python."
      ]
    }
  ],
  "metadata": {},
  "nbformat": 4,
  "nbformat_minor": 5
}