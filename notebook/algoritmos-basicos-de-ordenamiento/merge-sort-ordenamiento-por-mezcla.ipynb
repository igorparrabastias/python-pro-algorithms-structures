{
  "cells": [
    {
      "cell_type": "markdown",
      "id": "cdb9d268",
      "metadata": {},
      "source": [
        "# Merge sort: Ordenamiento por mezcla\n",
        "\n",
        "### Introducci\u00f3n:\n",
        "\n",
        "Merge Sort, o \"ordenamiento por mezcla\", es un algoritmo de ordenamiento eficiente y uno de los mejores ejemplos de la t\u00e9cnica de dise\u00f1o de algoritmos \"divide y vencer\u00e1s\". Divide el conjunto de datos en mitades m\u00e1s peque\u00f1as, ordena esas mitades (recursivamente), y luego mezcla las mitades ordenadas en una sola lista ordenada.\n",
        "\n",
        "### Concepto de Merge Sort:\n",
        "\n",
        "El proceso de Merge Sort se puede dividir en dos partes principales: divisi\u00f3n y mezcla.\n",
        "\n",
        "1. **Divisi\u00f3n**: La lista se divide recursivamente en la mitad hasta que cada sublista contenga solo un elemento.\n",
        "2. **Mezcla**: Las sublistas se mezclan de manera ordenada para formar una nueva lista ordenada.\n",
        "\n",
        "### Implementaci\u00f3n en Python:"
      ]
    },
    {
      "cell_type": "code",
      "execution_count": null,
      "id": "9c54fab1",
      "metadata": {},
      "outputs": [],
      "source": [
        "def merge_sort(lista):\n",
        "    if len(lista) > 1:\n",
        "        mid = len(lista) // 2\n",
        "        izquierda = lista[:mid]\n",
        "        derecha = lista[mid:]\n",
        "\n",
        "        # Ordenamiento recursivo de las mitades\n",
        "        merge_sort(izquierda)\n",
        "        merge_sort(derecha)\n",
        "\n",
        "        # Mezclar las mitades ordenadas\n",
        "        i = j = k = 0\n",
        "        while i < len(izquierda) and j < len(derecha):\n",
        "            if izquierda[i] < derecha[j]:\n",
        "                lista[k] = izquierda[i]\n",
        "                i += 1\n",
        "            else:\n",
        "                lista[k] = derecha[j]\n",
        "                j += 1\n",
        "            k += 1\n",
        "\n",
        "        # Comprobaci\u00f3n de los elementos restantes\n",
        "        while i < len(izquierda):\n",
        "            lista[k] = izquierda[i]\n",
        "            i += 1\n",
        "            k += 1\n",
        "\n",
        "        while j < len(derecha):\n",
        "            lista[k] = derecha[j]\n",
        "            j += 1\n",
        "            k += 1\n",
        "\n",
        "    return lista"
      ]
    },
    {
      "cell_type": "markdown",
      "id": "fd179d6f",
      "metadata": {},
      "source": [
        "### Ejemplo de Uso:"
      ]
    },
    {
      "cell_type": "code",
      "execution_count": null,
      "id": "90fb202f",
      "metadata": {},
      "outputs": [],
      "source": [
        "mi_lista = [38, 27, 43, 3, 9, 82, 10]\n",
        "ordenada = merge_sort(mi_lista)\n",
        "print(\"Lista ordenada:\", ordenada)"
      ]
    },
    {
      "cell_type": "markdown",
      "id": "60685336",
      "metadata": {},
      "source": [
        "### Complejidad del Algoritmo:\n",
        "\n",
        "- **Mejor, peor y caso promedio**: O(n log n), donde n es el n\u00famero de elementos en la lista. Esta eficiencia se debe a que el algoritmo siempre divide la lista en mitades y luego realiza la mezcla en un tiempo logar\u00edtmico.\n",
        "\n",
        "### Ventajas de Merge Sort:\n",
        "\n",
        "- **Eficiencia**: Es muy eficiente en t\u00e9rminos de tiempo, especialmente para listas grandes.\n",
        "- **Estable**: Mantiene el orden de registros con claves id\u00e9nticas.\n",
        "- **Uso de Memoria**: Aunque usa memoria adicional para las sublistas, su uso de memoria es predecible.\n",
        "\n",
        "### Desventajas de Merge Sort:\n",
        "\n",
        "- **Espacio de Memoria**: A diferencia de algoritmos de ordenamiento in situ como el Bubble Sort o el Insertion Sort, Merge Sort requiere una cantidad significativa de espacio adicional.\n",
        "\n",
        "### Conclusi\u00f3n:\n",
        "\n",
        "Merge Sort es un algoritmo de ordenamiento poderoso y eficiente, especialmente adecuado para ordenar listas grandes. Su enfoque de divide y vencer\u00e1s asegura que pueda manejar grandes conjuntos de datos con una complejidad temporal \u00f3ptima. Sin embargo, su necesidad de espacio adicional puede ser una desventaja en entornos con memoria limitada."
      ]
    }
  ],
  "metadata": {},
  "nbformat": 4,
  "nbformat_minor": 5
}