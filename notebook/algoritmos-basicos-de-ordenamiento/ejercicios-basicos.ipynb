{
  "cells": [
    {
      "cell_type": "markdown",
      "id": "3fd07e09",
      "metadata": {},
      "source": [
        "# Ejercicios b\u00e1sicos\n",
        "\n",
        "### Ejercicio 1: Ordenar Lista Num\u00e9rica\n",
        "\n",
        "Utiliza la funci\u00f3n `quick_sort` para ordenar la lista `[10, 7, 8, 9, 1, 5]`."
      ]
    },
    {
      "cell_type": "code",
      "execution_count": null,
      "id": "c1038ee5",
      "metadata": {},
      "outputs": [],
      "source": [
        "# Ejercicio\n",
        "mi_lista = [10, 7, 8, 9, 1, 5]\n",
        "lista_ordenada = quick_sort(mi_lista)\n",
        "print(\"Lista ordenada:\", lista_ordenada)"
      ]
    },
    {
      "cell_type": "markdown",
      "id": "2a8bfe90",
      "metadata": {},
      "source": [
        "### Ejercicio 2: Ordenar Lista de Cadenas\n",
        "\n",
        "Aplica `quick_sort` para ordenar alfab\u00e9ticamente la lista de cadenas `[\"naranja\", \"manzana\", \"pera\", \"banana\"]`."
      ]
    },
    {
      "cell_type": "code",
      "execution_count": null,
      "id": "94e48c18",
      "metadata": {},
      "outputs": [],
      "source": [
        "# Adaptaci\u00f3n de quick_sort para cadenas (aseg\u00farate de que tu implementaci\u00f3n maneje cadenas correctamente)\n",
        "mi_lista_cadenas = [\"naranja\", \"manzana\", \"pera\", \"banana\"]\n",
        "ordenada_cadenas = quick_sort(mi_lista_cadenas)\n",
        "print(\"Lista de cadenas ordenada:\", ordenada_cadenas)"
      ]
    },
    {
      "cell_type": "markdown",
      "id": "d07edae1",
      "metadata": {},
      "source": [
        "### Ejercicio 3: Encontrar el Elemento Mediano\n",
        "\n",
        "Despu\u00e9s de ordenar la lista `[1, 2, 3, 4, 5]` con `quick_sort`, encuentra el elemento mediano."
      ]
    },
    {
      "cell_type": "code",
      "execution_count": null,
      "id": "c88fbc26",
      "metadata": {},
      "outputs": [],
      "source": [
        "# Ejercicio\n",
        "mi_lista = [1, 2, 3, 4, 5]\n",
        "lista_ordenada = quick_sort(mi_lista)\n",
        "mediano = lista_ordenada[len(lista_ordenada) // 2]\n",
        "print(\"Elemento mediano:\", mediano)"
      ]
    },
    {
      "cell_type": "markdown",
      "id": "91c9de37",
      "metadata": {},
      "source": [
        "### Ejercicio 4: Ordenar en Orden Descendente\n",
        "\n",
        "Modifica `quick_sort` para ordenar la lista `[92, 86, 70, 5, 12, 56, 73]` en orden descendente."
      ]
    },
    {
      "cell_type": "code",
      "execution_count": null,
      "id": "e01cf7cb",
      "metadata": {},
      "outputs": [],
      "source": [
        "# Consejo: Ajusta la condici\u00f3n en la partici\u00f3n para acomodar un orden descendente\n",
        "mi_lista_desc = [92, 86, 70, 5, 12, 56, 73]\n",
        "ordenada_desc = quick_sort_desc(mi_lista_desc)  # Aseg\u00farate de implementar quick_sort_desc correctamente\n",
        "print(\"Lista ordenada en descendente:\", ordenada_desc)"
      ]
    },
    {
      "cell_type": "markdown",
      "id": "c4f49ab6",
      "metadata": {},
      "source": [
        "### Ejercicio 5: Ordenar Lista de N\u00fameros Negativos\n",
        "\n",
        "Utiliza `quick_sort` para ordenar la lista que contiene n\u00fameros negativos `[0, -10, 5, -3, 8, -20, 1]`."
      ]
    },
    {
      "cell_type": "code",
      "execution_count": null,
      "id": "1ffad473",
      "metadata": {},
      "outputs": [],
      "source": [
        "# Ejercicio\n",
        "mi_lista_negativos = [0, -10, 5, -3, 8, -20, 1]\n",
        "lista_ordenada_negativos = quick_sort(mi_lista_negativos)\n",
        "print(\"Lista con n\u00fameros negativos ordenada:\", lista_ordenada_negativos)"
      ]
    },
    {
      "cell_type": "markdown",
      "id": "f0c9220e",
      "metadata": {},
      "source": [
        "Estos ejercicios b\u00e1sicos est\u00e1n dise\u00f1ados para ayudarte a familiarizarte con la implementaci\u00f3n y la aplicaci\u00f3n del algoritmo Quick Sort en Python, cubriendo desde la ordenaci\u00f3n de listas simples hasta la adaptaci\u00f3n del algoritmo para casos de uso espec\u00edficos como ordenaci\u00f3n descendente y manejo de n\u00fameros negativos."
      ]
    }
  ],
  "metadata": {},
  "nbformat": 4,
  "nbformat_minor": 5
}