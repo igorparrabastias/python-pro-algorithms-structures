{
  "cells": [
    {
      "cell_type": "markdown",
      "id": "1d58b5ae",
      "metadata": {},
      "source": [
        "# Ejercicios b\u00e1sicos\n",
        "\n",
        "### Ejercicio 1: Ordenar una Lista Peque\u00f1a\n",
        "\n",
        "Dada la lista `[29, 10, 14, 37, 13]`, utiliza la funci\u00f3n `bubble_sort` para ordenarla."
      ]
    },
    {
      "cell_type": "code",
      "execution_count": null,
      "id": "46079ac9",
      "metadata": {},
      "outputs": [],
      "source": [
        "# Ejercicio\n",
        "mi_lista = [29, 10, 14, 37, 13]\n",
        "bubble_sort(mi_lista)\n",
        "print(mi_lista)  # Deber\u00eda mostrar la lista ordenada"
      ]
    },
    {
      "cell_type": "markdown",
      "id": "7c9ddee6",
      "metadata": {},
      "source": [
        "### Ejercicio 2: Verificar si una Lista Est\u00e1 Ordenada\n",
        "\n",
        "Usa la funci\u00f3n `bubble_sort` para ordenar la lista `[5, 1, 4, 2, 8]` y luego verifica si la lista resultante est\u00e1 ordenada."
      ]
    },
    {
      "cell_type": "code",
      "execution_count": null,
      "id": "84ba6a5c",
      "metadata": {},
      "outputs": [],
      "source": [
        "# Ejercicio\n",
        "mi_lista = [5, 1, 4, 2, 8]\n",
        "bubble_sort(mi_lista)\n",
        "esta_ordenada = mi_lista == sorted(mi_lista)\n",
        "print(esta_ordenada)  # Deber\u00eda mostrar True"
      ]
    },
    {
      "cell_type": "markdown",
      "id": "9e074f66",
      "metadata": {},
      "source": [
        "### Ejercicio 3: Contar el N\u00famero de Intercambios\n",
        "\n",
        "Modifica la funci\u00f3n `bubble_sort` para que tambi\u00e9n devuelva el n\u00famero total de intercambios realizados durante el ordenamiento. Luego, ordena la lista `[64, 34, 25, 12, 22, 11, 90]` y muestra el n\u00famero de intercambios."
      ]
    },
    {
      "cell_type": "code",
      "execution_count": null,
      "id": "af4f56b6",
      "metadata": {},
      "outputs": [],
      "source": [
        "# Ejercicio\n",
        "def bubble_sort_con_intercambios(lista):\n",
        "    n = len(lista)\n",
        "    total_intercambios = 0\n",
        "    for i in range(n):\n",
        "        for j in range(0, n-i-1):\n",
        "            if lista[j] > lista[j+1]:\n",
        "                lista[j], lista[j+1] = lista[j+1], lista[j]\n",
        "                total_intercambios += 1\n",
        "    return lista, total_intercambios\n",
        "\n",
        "mi_lista = [64, 34, 25, 12, 22, 11, 90]\n",
        "_, intercambios = bubble_sort_con_intercambios(mi_lista)\n",
        "print(\"N\u00famero total de intercambios:\", intercambios)"
      ]
    },
    {
      "cell_type": "markdown",
      "id": "dfe1ab97",
      "metadata": {},
      "source": [
        "### Ejercicio 4: Ordenar en Orden Descendente\n",
        "\n",
        "Adapta la funci\u00f3n `bubble_sort` para ordenar una lista en orden descendente. Prueba tu funci\u00f3n con la lista `[3, 6, 1, 8, 4, 5]`."
      ]
    },
    {
      "cell_type": "code",
      "execution_count": null,
      "id": "3af52901",
      "metadata": {},
      "outputs": [],
      "source": [
        "# Ejercicio\n",
        "def bubble_sort_descendente(lista):\n",
        "    n = len(lista)\n",
        "    for i in range(n):\n",
        "        for j in range(0, n-i-1):\n",
        "            if lista[j] < lista[j+1]:\n",
        "                lista[j], lista[j+1] = lista[j+1], lista[j]\n",
        "    return lista\n",
        "\n",
        "mi_lista = [3, 6, 1, 8, 4, 5]\n",
        "bubble_sort_descendente(mi_lista)\n",
        "print(mi_lista)  # Deber\u00eda mostrar la lista ordenada en orden descendente"
      ]
    },
    {
      "cell_type": "markdown",
      "id": "0bd71850",
      "metadata": {},
      "source": [
        "### Ejercicio 5: Ordenar una Lista de Cadenas\n",
        "\n",
        "Utiliza la funci\u00f3n `bubble_sort` para ordenar la lista de cadenas `[\"banana\", \"cherry\", \"apple\"]` alfab\u00e9ticamente."
      ]
    },
    {
      "cell_type": "code",
      "execution_count": null,
      "id": "a7a70e1e",
      "metadata": {},
      "outputs": [],
      "source": [
        "# Ejercicio\n",
        "mi_lista = [\"banana\", \"cherry\", \"apple\"]\n",
        "bubble_sort(mi_lista)\n",
        "print(mi_lista)  # Deber\u00eda mostrar la lista de cadenas ordenada alfab\u00e9ticamente"
      ]
    },
    {
      "cell_type": "markdown",
      "id": "b88a04e5",
      "metadata": {},
      "source": [
        "Estos ejercicios te ayudar\u00e1n a comprender y aplicar el algoritmo de Bubble Sort en diferentes contextos, desde ordenar listas de n\u00fameros hasta trabajar con cadenas y ordenamientos personalizados."
      ]
    }
  ],
  "metadata": {},
  "nbformat": 4,
  "nbformat_minor": 5
}