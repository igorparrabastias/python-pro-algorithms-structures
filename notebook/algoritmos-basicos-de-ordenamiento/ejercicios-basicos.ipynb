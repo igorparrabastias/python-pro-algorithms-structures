{
 "cells": [
  {
   "cell_type": "markdown",
   "id": "3fd07e09",
   "metadata": {},
   "source": [
    "# Ejercicios básicos\n",
    "\n",
    "### Ejercicio 1: Ordenar Lista Numérica\n",
    "\n",
    "Utiliza la función `quick_sort` para ordenar la lista `[10, 7, 8, 9, 1, 5]`."
   ]
  },
  {
   "cell_type": "code",
   "execution_count": null,
   "id": "c1038ee5",
   "metadata": {},
   "outputs": [],
   "source": [
    "# Ejercicio\n",
    "mi_lista = [10, 7, 8, 9, 1, 5]\n",
    "lista_ordenada = quick_sort(mi_lista)\n",
    "print(\"Lista ordenada:\", lista_ordenada)\n"
   ]
  },
  {
   "cell_type": "markdown",
   "id": "2a8bfe90",
   "metadata": {},
   "source": [
    "### Ejercicio 2: Ordenar Lista de Cadenas\n",
    "\n",
    "Aplica `quick_sort` para ordenar alfabéticamente la lista de cadenas `[\"naranja\", \"manzana\", \"pera\", \"banana\"]`."
   ]
  },
  {
   "cell_type": "code",
   "execution_count": null,
   "id": "94e48c18",
   "metadata": {},
   "outputs": [],
   "source": [
    "# Adaptación de quick_sort para cadenas (asegúrate de que tu implementación maneje cadenas correctamente)\n",
    "mi_lista_cadenas = [\"naranja\", \"manzana\", \"pera\", \"banana\"]\n",
    "ordenada_cadenas = quick_sort(mi_lista_cadenas)\n",
    "print(\"Lista de cadenas ordenada:\", ordenada_cadenas)\n"
   ]
  },
  {
   "cell_type": "markdown",
   "id": "d07edae1",
   "metadata": {},
   "source": [
    "### Ejercicio 3: Encontrar el Elemento Mediano\n",
    "\n",
    "Después de ordenar la lista `[1, 2, 3, 4, 5]` con `quick_sort`, encuentra el elemento mediano."
   ]
  },
  {
   "cell_type": "code",
   "execution_count": null,
   "id": "c88fbc26",
   "metadata": {},
   "outputs": [],
   "source": [
    "# Ejercicio\n",
    "mi_lista = [1, 2, 3, 4, 5]\n",
    "lista_ordenada = quick_sort(mi_lista)\n",
    "mediano = lista_ordenada[len(lista_ordenada) // 2]\n",
    "print(\"Elemento mediano:\", mediano)\n"
   ]
  },
  {
   "cell_type": "markdown",
   "id": "91c9de37",
   "metadata": {},
   "source": [
    "### Ejercicio 4: Ordenar en Orden Descendente\n",
    "\n",
    "Modifica `quick_sort` para ordenar la lista `[92, 86, 70, 5, 12, 56, 73]` en orden descendente."
   ]
  },
  {
   "cell_type": "code",
   "execution_count": null,
   "id": "e01cf7cb",
   "metadata": {},
   "outputs": [],
   "source": [
    "# Consejo: Ajusta la condición en la partición para acomodar un orden descendente\n",
    "mi_lista_desc = [92, 86, 70, 5, 12, 56, 73]\n",
    "ordenada_desc = quick_sort_desc(mi_lista_desc)  # Asegúrate de implementar quick_sort_desc correctamente\n",
    "print(\"Lista ordenada en descendente:\", ordenada_desc)\n"
   ]
  },
  {
   "cell_type": "markdown",
   "id": "c4f49ab6",
   "metadata": {},
   "source": [
    "### Ejercicio 5: Ordenar Lista de Números Negativos\n",
    "\n",
    "Utiliza `quick_sort` para ordenar la lista que contiene números negativos `[0, -10, 5, -3, 8, -20, 1]`."
   ]
  },
  {
   "cell_type": "code",
   "execution_count": null,
   "id": "1ffad473",
   "metadata": {},
   "outputs": [],
   "source": [
    "# Ejercicio\n",
    "mi_lista_negativos = [0, -10, 5, -3, 8, -20, 1]\n",
    "lista_ordenada_negativos = quick_sort(mi_lista_negativos)\n",
    "print(\"Lista con números negativos ordenada:\", lista_ordenada_negativos)\n"
   ]
  },
  {
   "cell_type": "markdown",
   "id": "f0c9220e",
   "metadata": {},
   "source": [
    "Estos ejercicios básicos están diseñados para ayudarte a familiarizarte con la implementación y la aplicación del algoritmo Quick Sort en Python, cubriendo desde la ordenación de listas simples hasta la adaptación del algoritmo para casos de uso específicos como ordenación descendente y manejo de números negativos."
   ]
  }
 ],
 "metadata": {},
 "nbformat": 4,
 "nbformat_minor": 5
}
