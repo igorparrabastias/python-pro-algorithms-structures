{
 "cells": [
  {
   "cell_type": "markdown",
   "id": "e93962fd",
   "metadata": {},
   "source": [
    "# Conjuntos (Sets)\n",
    "\n",
    "### Introducción:\n",
    "\n",
    "Los conjuntos en Python, conocidos como `set`, son colecciones desordenadas de elementos únicos. Son particularmente útiles para operaciones que requieren elementos únicos, y para realizar operaciones matemáticas de conjuntos como unión, intersección y diferencia.\n",
    "\n",
    "### Fundamentos de los Conjuntos:\n",
    "\n",
    "### Creación de Conjuntos:\n",
    "\n",
    "Un conjunto se puede crear utilizando la función `set()` o mediante llaves `{}`."
   ]
  },
  {
   "cell_type": "code",
   "execution_count": null,
   "id": "3c817395",
   "metadata": {},
   "outputs": [],
   "source": [
    "mi_conjunto = set([1, 2, 3])\n",
    "otro_conjunto = {4, 5, 6}"
   ]
  },
  {
   "cell_type": "markdown",
   "id": "b7cd496e",
   "metadata": {},
   "source": [
    "Los conjuntos automáticamente eliminan los elementos duplicados."
   ]
  },
  {
   "cell_type": "code",
   "execution_count": null,
   "id": "4ac59b27",
   "metadata": {},
   "outputs": [],
   "source": [
    "conjunto_con_duplicados = {1, 2, 2, 3}  # {1, 2, 3}"
   ]
  },
  {
   "cell_type": "markdown",
   "id": "202ffca4",
   "metadata": {},
   "source": [
    "### Operaciones Básicas:\n",
    "\n",
    "- **Añadir Elementos**: Utiliza `add()` para añadir un elemento al conjunto."
   ]
  },
  {
   "cell_type": "code",
   "execution_count": null,
   "id": "b01b7c00",
   "metadata": {},
   "outputs": [],
   "source": [
    "```python\n",
    "mi_conjunto.add(4)\n",
    "```"
   ]
  },
  {
   "cell_type": "markdown",
   "id": "ef630769",
   "metadata": {},
   "source": [
    "- **Eliminar Elementos**: Utiliza `remove()` o `discard()` para eliminar elementos."
   ]
  },
  {
   "cell_type": "code",
   "execution_count": null,
   "id": "81513e54",
   "metadata": {},
   "outputs": [],
   "source": [
    "```python\n",
    "mi_conjunto.remove(4)  # Lanza un KeyError si el elemento no existe\n",
    "mi_conjunto.discard(5) # No lanza un error si el elemento no existe\n",
    "```"
   ]
  },
  {
   "cell_type": "markdown",
   "id": "6b692733",
   "metadata": {},
   "source": [
    "- **Verificar Pertenencia**: Utiliza `in` para verificar si un elemento está en el conjunto."
   ]
  },
  {
   "cell_type": "code",
   "execution_count": null,
   "id": "806919aa",
   "metadata": {},
   "outputs": [],
   "source": [
    "```python\n",
    "3 in mi_conjunto  # True\n",
    "```\n"
   ]
  },
  {
   "cell_type": "markdown",
   "id": "60b75e42",
   "metadata": {},
   "source": [
    "### Operaciones Matemáticas de Conjuntos:\n",
    "\n",
    "- **Unión**: Utiliza `|` o `union()` para combinar dos conjuntos."
   ]
  },
  {
   "cell_type": "code",
   "execution_count": null,
   "id": "82a80bfa",
   "metadata": {},
   "outputs": [],
   "source": [
    "```python\n",
    "union_conjuntos = mi_conjunto | otro_conjunto\n",
    "```"
   ]
  },
  {
   "cell_type": "markdown",
   "id": "df4e99ac",
   "metadata": {},
   "source": [
    "- **Intersección**: Utiliza `&` o `intersection()` para obtener elementos comunes."
   ]
  },
  {
   "cell_type": "code",
   "execution_count": null,
   "id": "c8e6903a",
   "metadata": {},
   "outputs": [],
   "source": [
    "```python\n",
    "interseccion_conjuntos = mi_conjunto & otro_conjunto\n",
    "```"
   ]
  },
  {
   "cell_type": "markdown",
   "id": "f692dd53",
   "metadata": {},
   "source": [
    "- **Diferencia**: Utiliza `` o `difference()` para obtener elementos de un conjunto que no están en otro."
   ]
  },
  {
   "cell_type": "code",
   "execution_count": null,
   "id": "5781b61e",
   "metadata": {},
   "outputs": [],
   "source": [
    "```python\n",
    "diferencia_conjuntos = mi_conjunto - otro_conjunto\n",
    "```"
   ]
  },
  {
   "cell_type": "markdown",
   "id": "a4495155",
   "metadata": {},
   "source": [
    "- **Diferencia Simétrica**: Usa `^` o `symmetric_difference()` para obtener elementos que están en uno de los conjuntos, pero no en ambos."
   ]
  },
  {
   "cell_type": "code",
   "execution_count": null,
   "id": "27d4d030",
   "metadata": {},
   "outputs": [],
   "source": [
    "```python\n",
    "diferencia_simetrica = mi_conjunto ^ otro_conjunto\n",
    "```\n"
   ]
  },
  {
   "cell_type": "markdown",
   "id": "8136aa8c",
   "metadata": {},
   "source": [
    "### Casos Prácticos en los que los Conjuntos son Útiles:\n",
    "\n",
    "1. **Eliminar Duplicados de una Lista**: Convierte una lista en un conjunto para eliminar elementos duplicados."
   ]
  },
  {
   "cell_type": "code",
   "execution_count": null,
   "id": "561c24c1",
   "metadata": {},
   "outputs": [],
   "source": [
    "```python\n",
    "lista = [1, 2, 2, 3, 3, 4]\n",
    "sin_duplicados = list(set(lista))\n",
    "```"
   ]
  },
  {
   "cell_type": "markdown",
   "id": "b6d23554",
   "metadata": {},
   "source": [
    "2. **Búsqueda Rápida de Elementos**: Los conjuntos ofrecen una búsqueda más rápida que las listas para determinar si un elemento está presente.\n",
    "3. **Operaciones de Conjuntos en Análisis de Datos**: Útiles para comparar grupos de datos, como encontrar elementos comunes o diferentes entre conjuntos de datos.\n",
    "4. **Aplicaciones en Matemáticas y Lógica**: Ideal para aplicaciones que involucran teoría de conjuntos y lógica matemática.\n",
    "\n",
    "### Conclusión:\n",
    "\n",
    "Los conjuntos en Python son herramientas poderosas y eficientes para manejar colecciones de elementos únicos y realizar operaciones de conjuntos. Su capacidad para eliminar duplicados automáticamente y realizar operaciones matemáticas de conjuntos de manera eficiente los hace indispensables en ciertas aplicaciones, especialmente aquellas relacionadas con el análisis de datos y la teoría de conjuntos. En la próxima clase, exploraremos en profundidad casos de estudio y ejemplos prácticos que demuestren la utilidad de los conjuntos en escenarios de programación reales.\n",
    "\n",
    "<aside>\n",
    "🙋‍♂️ Los set pueden contener cualquier tipo de elemento?\n",
    "No, los sets en Python no pueden contener elementos mutables como listas, diccionarios o incluso otros sets. Pueden contener tipos inmutables como números, cadenas y tuplas.\n",
    "\n",
    "</aside>\n",
    "\n",
    "```markdown\n",
    "# Creando un set con diferentes tipos de elementos inmutables\n",
    "mi_set = {42, \"Hola\", (1, 2, 3)}\n",
    "\n",
    "print(mi_set)  # Funciona bien\n",
    "\n",
    "# Intentando agregar un elemento mutable como una lista\n",
    "try:\n",
    "    mi_set.add([4, 5, 6])  # Esto generará un error\n",
    "except TypeError as e:\n",
    "    print(e)  # Muestra el error porque las listas no se pueden agregar a un set\n",
    "```"
   ]
  }
 ],
 "metadata": {},
 "nbformat": 4,
 "nbformat_minor": 5
}
