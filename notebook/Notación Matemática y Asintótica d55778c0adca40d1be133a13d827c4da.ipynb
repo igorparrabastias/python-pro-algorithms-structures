{
 "cells": [
  {
   "cell_type": "markdown",
   "id": "0b2840b0",
   "metadata": {},
   "source": [
    "# Notación Matemática y Asintótica\n",
    "\n",
    "- Introducción a la notación asintótica (Big O, Big Θ, Big Ω) para describir la eficiencia algorítmica.\n",
    "- Uso de la notación matemática para expresar la complejidad y el rendimiento de los algoritmos.\n",
    "\n",
    "## **Introducción**\n",
    "\n",
    "La notación matemática y asintótica son herramientas indispensables en el análisis de algoritmos, proporcionando un lenguaje común para describir su eficiencia y rendimiento. Esta clase se centra en la introducción a la notación asintótica—específicamente Big O, Big Theta (Θ), y Big Omega (Ω)—y cómo se utiliza para expresar la complejidad de los algoritmos de manera precisa y estandarizada.\n",
    "\n",
    "## **Notación Asintótica**\n",
    "\n",
    "La notación asintótica permite a los desarrolladores y teóricos de algoritmos describir el comportamiento límite de los algoritmos, es decir, su rendimiento y eficiencia en términos de tiempo de ejecución o espacio de memoria en función del tamaño de entrada. Las tres notaciones más comunes son:\n",
    "\n",
    "- **Big O (O)**: Describe el límite superior de la complejidad de tiempo o espacio de un algoritmo, proporcionando un peor caso de escenario. Por ejemplo, decir que un algoritmo tiene una complejidad de tiempo O(n^2) significa que el tiempo de ejecución crecerá a lo sumo proporcionalmente al cuadrado del tamaño de la entrada.\n",
    "- **Big Theta (Θ)**: Representa tanto el límite superior como el inferior de un algoritmo, indicando que el algoritmo tiene un comportamiento de crecimiento asintótico preciso. Un algoritmo con complejidad Θ(n log n) significa que su tiempo de ejecución crecerá proporcionalmente a n log n para valores grandes de n.\n",
    "- **Big Omega (Ω)**: Establece el límite inferior de la complejidad de un algoritmo, indicando el mejor caso posible o el crecimiento mínimo esperado. Un algoritmo con complejidad Ω(n) indica que, en el mejor de los casos, su tiempo de ejecución crecerá linealmente con el tamaño de la entrada.\n",
    "\n",
    "## **Uso de la Notación Matemática en Algoritmos**\n",
    "\n",
    "La notación matemática se emplea para expresar la complejidad y el rendimiento de los algoritmos de manera concisa. Esto es crucial para evaluar y comparar algoritmos, especialmente cuando se busca optimizar el rendimiento o cuando se trabaja con grandes volúmenes de datos. La notación asintótica, junto con otras herramientas matemáticas, permite a los ingenieros y científicos de la computación predecir el comportamiento de los algoritmos sin necesidad de implementarlos.\n",
    "\n",
    "## **Ejemplos y Ejercicios**\n",
    "\n",
    "### Ejemplo 1: Análisis de Complejidad\n",
    "\n",
    "Considere el siguiente fragmento de código y determine su complejidad en términos de tiempo utilizando la notación Big O."
   ]
  },
  {
   "cell_type": "code",
   "execution_count": null,
   "id": "05f7651c",
   "metadata": {},
   "outputs": [],
   "source": [
    "def ejemplo(lista):\n",
    "    suma = 0\n",
    "    for i in lista:\n",
    "        suma += i\n",
    "    return suma"
   ]
  },
  {
   "cell_type": "markdown",
   "id": "e942f5cc",
   "metadata": {},
   "source": [
    "### Ejercicio 1: Análisis de Complejidad\n",
    "\n",
    "Determine la complejidad de tiempo del siguiente algoritmo en notación Big O."
   ]
  },
  {
   "cell_type": "code",
   "execution_count": null,
   "id": "842e1ca3",
   "metadata": {},
   "outputs": [],
   "source": [
    "def encontrar_minimo(lista):\n",
    "    minimo = lista[0]\n",
    "    for numero in lista:\n",
    "        if numero < minimo:\n",
    "            minimo = numero\n",
    "    return minimo"
   ]
  },
  {
   "cell_type": "markdown",
   "id": "a7555e38",
   "metadata": {},
   "source": [
    "### Ejercicio 2: Notación Big Theta\n",
    "\n",
    "Explique qué significa si un algoritmo tiene complejidad Θ(n^2) y proporcione un ejemplo de tal algoritmo.\n",
    "\n",
    "### Ejercicio 3: Comparación de Notaciones\n",
    "\n",
    "Dada una función f(n) = 3n^3 + 15n^2 + 72n + 5, determine la notación Big O, Big Theta, y Big Omega.\n",
    "\n",
    "## **Conclusión**\n",
    "\n",
    "La notación asintótica y matemática son esenciales para el análisis y diseño de algoritmos eficientes. Al proporcionar un medio para describir la complejidad de los algoritmos, estos conceptos permiten a los desarrolladores tomar decisiones informadas sobre qué algoritmos utilizar o cómo mejorarlos. En la próxima clase, nos adentraremos en la teoría de grafos y estructuras de datos, explorando cómo estos conceptos se aplican en situaciones prácticas.\n",
    "\n",
    "## **Soluciones**\n",
    "\n",
    "### Solución Ejemplo 1\n",
    "\n",
    "La complejidad de tiempo del fragmento de código es O(n), ya que el tiempo de ejecución aumenta linealmente con el tamaño de la entrada.\n",
    "\n",
    "### Solución Ejercicio 1\n",
    "\n",
    "La complejidad de tiempo del algoritmo `encontrar_minimo` es O(n), porque recorre la lista una vez para encontrar el mínimo.\n",
    "\n",
    "### Solución Ejercicio 2\n",
    "\n",
    "Una complejidad Θ(n^2) significa que el tiempo de ejecución del algoritmo crece proporcionalmente al cuadrado del tamaño de la entrada para valores grandes de n. Un ejemplo de tal algoritmo es la ordenación por selección, donde cada elemento se compara con todos los demás elementos.\n",
    "\n",
    "### Solución Ejercicio 3\n",
    "\n",
    "Para la función f(n) = 3n^3 + 15n^2 + 72n + 5, la notación Big O es O(n^3), Big Theta es Θ(n^3), y Big Omega es Ω(n^3), ya que el término dominante en la función es n^3, lo que determina el crecimiento asintótico de la función."
   ]
  }
 ],
 "metadata": {},
 "nbformat": 4,
 "nbformat_minor": 5
}
