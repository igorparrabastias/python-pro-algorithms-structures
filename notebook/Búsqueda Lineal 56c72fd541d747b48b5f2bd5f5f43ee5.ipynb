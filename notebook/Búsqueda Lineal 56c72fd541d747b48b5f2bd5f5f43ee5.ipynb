{
 "cells": [
  {
   "cell_type": "markdown",
   "id": "2f98e825",
   "metadata": {},
   "source": [
    "# Búsqueda Lineal\n",
    "\n",
    "### Introducción:\n",
    "\n",
    "La búsqueda lineal, también conocida como búsqueda secuencial, es uno de los algoritmos de búsqueda más simples. Es un método que revisa cada elemento de una lista, uno por uno, hasta encontrar el elemento objetivo o hasta que todos los elementos hayan sido comparados.\n",
    "\n",
    "### Concepto de Búsqueda Lineal:\n",
    "\n",
    "En su forma más básica, la búsqueda lineal no requiere que los datos estén ordenados. Empieza en el primer elemento de la lista y compara cada elemento con el valor buscado hasta que lo encuentra o hasta que llega al final de la lista.\n",
    "\n",
    "### Implementación en Python:"
   ]
  },
  {
   "cell_type": "code",
   "execution_count": null,
   "id": "64be7ca2",
   "metadata": {},
   "outputs": [],
   "source": [
    "def busqueda_lineal(lista, objetivo):\n",
    "    for i in range(len(lista)):\n",
    "        if lista[i] == objetivo:\n",
    "            return i  # Retorna el índice del objetivo si se encuentra\n",
    "    return -1  # Retorna -1 si el objetivo no se encuentra en la lista\n"
   ]
  },
  {
   "cell_type": "markdown",
   "id": "d82ab4c7",
   "metadata": {},
   "source": [
    "### Ejemplo de Uso:"
   ]
  },
  {
   "cell_type": "code",
   "execution_count": null,
   "id": "0da0338f",
   "metadata": {},
   "outputs": [],
   "source": [
    "mi_lista = [5, 8, 15, 24, 26, 32]\n",
    "objetivo = 24\n",
    "\n",
    "indice = busqueda_lineal(mi_lista, objetivo)\n",
    "\n",
    "if indice != -1:\n",
    "    print(f\"El elemento {objetivo} se encontró en el índice {indice}.\")\n",
    "else:\n",
    "    print(f\"El elemento {objetivo} no se encontró en la lista.\")\n"
   ]
  },
  {
   "cell_type": "markdown",
   "id": "5320bc1b",
   "metadata": {},
   "source": [
    "### Complejidad del Algoritmo:\n",
    "\n",
    "- **Mejor caso**: O(1), ocurre cuando el elemento objetivo es el primer elemento de la lista.\n",
    "- **Peor caso y caso promedio**: O(n), donde n es el número de elementos en la lista. Esto sucede cuando el elemento no está en la lista o está al final de ella.\n",
    "\n",
    "### Ventajas de la Búsqueda Lineal:\n",
    "\n",
    "- **Simplicidad**: Fácil de entender e implementar.\n",
    "- **No requiere ordenamiento**: Funciona en listas ordenadas y desordenadas.\n",
    "- **Flexibilidad**: Se puede usar para buscar en listas donde los elementos están dispersos o no tienen una estructura ordenada.\n",
    "\n",
    "### Desventajas de la Búsqueda Lineal:\n",
    "\n",
    "- **Ineficiencia con listas grandes**: Su rendimiento decrece a medida que el tamaño de la lista aumenta.\n",
    "\n",
    "### Conclusión:\n",
    "\n",
    "La búsqueda lineal es una herramienta útil para conjuntos de datos pequeños o cuando la lista no está ordenada y la eficiencia no es crítica. Su simplicidad la hace ideal para introducir conceptos de búsqueda, aunque en la práctica, para listas grandes o búsquedas frecuentes, se prefieren métodos más eficientes como la búsqueda binaria o algoritmos de hashing."
   ]
  }
 ],
 "metadata": {},
 "nbformat": 4,
 "nbformat_minor": 5
}
