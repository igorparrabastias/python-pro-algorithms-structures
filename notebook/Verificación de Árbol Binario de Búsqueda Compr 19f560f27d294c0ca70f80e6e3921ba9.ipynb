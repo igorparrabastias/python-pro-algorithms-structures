{
 "cells": [
  {
   "cell_type": "markdown",
   "id": "4cd7a496",
   "metadata": {},
   "source": [
    "# Verificación de Árbol Binario de Búsqueda: Comprobar si un árbol binario cumple las propiedades de un BST.\n",
    "\n",
    "Para verificar si un árbol binario es un Árbol Binario de Búsqueda (BST), necesitamos asegurarnos de que para cada nodo, todos los elementos en su subárbol izquierdo son menores que el nodo y todos los elementos en su subárbol derecho son mayores. Esta propiedad debe cumplirse para cada nodo en el árbol.\n",
    "\n",
    "Vamos a implementar un método en nuestra clase `BinaryTree` que verifique si un árbol binario cumple con estas propiedades de un BST. Utilizaremos un enfoque de recorrido en profundidad (DFS) para comprobar esta condición en cada nodo.\n",
    "\n",
    "**Actualización de la Clase Árbol Binario**"
   ]
  },
  {
   "cell_type": "code",
   "execution_count": null,
   "id": "e3d4005e",
   "metadata": {},
   "outputs": [],
   "source": [
    "class BinaryTree:\n",
    "    # ... [otros métodos existentes] ...\n",
    "\n",
    "    def is_bst(self, node, min_val=float('-inf'), max_val=float('inf')):\n",
    "        \"\"\" Verifica si el árbol es un árbol binario de búsqueda. \"\"\"\n",
    "        if node is None:\n",
    "            return True\n",
    "\n",
    "        if node.data <= min_val or node.data >= max_val:\n",
    "            return False\n",
    "\n",
    "        # Comprobar los subárboles izquierdo y derecho\n",
    "        return (self.is_bst(node.left, min_val, node.data) and\n",
    "                self.is_bst(node.right, node.data, max_val))"
   ]
  },
  {
   "cell_type": "markdown",
   "id": "37dc1dc0",
   "metadata": {},
   "source": [
    "**Ejemplo de Uso**"
   ]
  },
  {
   "cell_type": "code",
   "execution_count": null,
   "id": "3e1fa934",
   "metadata": {},
   "outputs": [],
   "source": [
    "# Continuación del ejemplo anterior...\n",
    "# ...\n",
    "\n",
    "# Comprobando si el árbol es un BST\n",
    "if bt.is_bst(bt.root):\n",
    "    print(\"El árbol es un árbol binario de búsqueda (BST).\")\n",
    "else:\n",
    "    print(\"El árbol NO es un árbol binario de búsqueda (BST).\")"
   ]
  },
  {
   "cell_type": "markdown",
   "id": "cf83dfb6",
   "metadata": {},
   "source": [
    "Este método, `is_bst`, verifica si el árbol es un BST de manera recursiva. Comienza con los límites mínimo y máximo como infinito negativo y positivo, respectivamente. En cada llamada recursiva, actualiza estos límites para los subárboles izquierdo y derecho. Si encuentra algún nodo que viole la condición de BST, devuelve `False`. Si todas las verificaciones son exitosas, el árbol es un BST y el método devuelve `True`."
   ]
  }
 ],
 "metadata": {},
 "nbformat": 4,
 "nbformat_minor": 5
}
