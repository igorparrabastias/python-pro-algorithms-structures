{
 "cells": [
  {
   "cell_type": "markdown",
   "id": "25a354b1",
   "metadata": {},
   "source": [
    "# Bases de Python\n",
    "\n",
    "Python es un lenguaje de programación poderoso y fácil de aprender. Se destaca por su sintaxis clara y legible, lo que facilita el desarrollo rápido de aplicaciones en diversas áreas como la ciencia de datos, desarrollo web, automatización, entre otros. A continuación, un repaso de los conceptos básicos de Python que mencionaste:\n",
    "\n",
    "### Variables y Tipos de Datos\n",
    "\n",
    "- **Variables**: Permiten almacenar datos que pueden ser utilizados y modificados en el programa. Por ejemplo: `nombre = \"Juan\"`, `edad = 30`.\n",
    "- **Tipos de Datos**: Python maneja diferentes tipos de datos, los más básicos son:\n",
    "    - **Strings (cadenas de caracteres)**: Se utilizan para almacenar texto, por ejemplo, `\"Hola Mundo\"`.\n",
    "    - **Integers (enteros)**: Números sin parte decimal, como `5` o `3`.\n",
    "    - **Floats (flotantes)**: Números con parte decimal, por ejemplo, `3.14`.\n",
    "\n",
    "### Condicionales\n",
    "\n",
    "- Permiten ejecutar bloques de código dependiendo de ciertas condiciones. La estructura básica incluye `if`, `elif` (else if), y `else`."
   ]
  },
  {
   "cell_type": "code",
   "execution_count": null,
   "id": "a7b4089b",
   "metadata": {},
   "outputs": [],
   "source": [
    "```python\n",
    "edad = 18\n",
    "if edad >= 18:\n",
    "    print(\"Eres mayor de edad.\")\n",
    "else:\n",
    "    print(\"No eres mayor de edad.\")\n",
    "```\n"
   ]
  },
  {
   "cell_type": "markdown",
   "id": "5efa57c0",
   "metadata": {},
   "source": [
    "### Bucles\n",
    "\n",
    "- **For**: Se usa para iterar sobre una secuencia (como una lista, un diccionario, un conjunto o una cadena de texto)."
   ]
  },
  {
   "cell_type": "code",
   "execution_count": null,
   "id": "98fde7fb",
   "metadata": {},
   "outputs": [],
   "source": [
    "```python\n",
    "frutas = [\"manzana\", \"banana\", \"cereza\"]\n",
    "for fruta in frutas:\n",
    "    print(fruta)\n",
    "```"
   ]
  },
  {
   "cell_type": "markdown",
   "id": "83a2e02f",
   "metadata": {},
   "source": [
    "- **While**: Ejecuta un bloque de código mientras una condición sea verdadera."
   ]
  },
  {
   "cell_type": "code",
   "execution_count": null,
   "id": "bb67de2f",
   "metadata": {},
   "outputs": [],
   "source": [
    "```python\n",
    "i = 1\n",
    "while i <= 5:\n",
    "    print(i)\n",
    "    i += 1\n",
    "```\n"
   ]
  },
  {
   "cell_type": "markdown",
   "id": "d816fa56",
   "metadata": {},
   "source": [
    "### Funciones\n",
    "\n",
    "- Son bloques de código que se pueden llamar con algunos parámetros para realizar una tarea específica y opcionalmente retornar un valor."
   ]
  },
  {
   "cell_type": "code",
   "execution_count": null,
   "id": "02ae4452",
   "metadata": {},
   "outputs": [],
   "source": [
    "```python\n",
    "def saludar(nombre):\n",
    "    return \"Hola, \" + nombre\n",
    "print(saludar(\"Juan\"))\n",
    "```\n"
   ]
  },
  {
   "cell_type": "markdown",
   "id": "c496acc0",
   "metadata": {},
   "source": [
    "Dominar estos fundamentos te permitirá enfocarte mejor en conceptos algorítmicos y resolver problemas más complejos."
   ]
  }
 ],
 "metadata": {},
 "nbformat": 4,
 "nbformat_minor": 5
}
