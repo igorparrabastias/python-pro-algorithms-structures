{
 "cells": [
  {
   "cell_type": "markdown",
   "id": "4652bada",
   "metadata": {},
   "source": [
    "# Lambdas y Funciones Anónimas\n",
    "\n",
    "### Introducción:\n",
    "\n",
    "Las funciones lambda, también conocidas como funciones anónimas, son una característica poderosa y expresiva de Python. Proporcionan una forma concisa de representar pequeñas funciones. En esta clase, aprenderemos sobre el uso y las aplicaciones de las funciones lambda y cómo se comparan con las funciones regulares.\n",
    "\n",
    "### Uso de Funciones Lambda:\n",
    "\n",
    "- **Sintaxis de Lambda**:\n",
    "    - Las funciones lambda se definen con la palabra clave `lambda` seguida de argumentos, dos puntos y la expresión que define lo que retorna la función.\n",
    "    - Ejemplo básico:"
   ]
  },
  {
   "cell_type": "code",
   "execution_count": null,
   "id": "6419080b",
   "metadata": {},
   "outputs": [],
   "source": [
    "```python\n",
    "sumar = lambda x, y: x + y\n",
    "print(sumar(5, 3))  # Resultado: 8\n",
    "\n",
    "```"
   ]
  },
  {
   "cell_type": "markdown",
   "id": "803c0a01",
   "metadata": {},
   "source": [
    "- **Aplicaciones Comunes**:\n",
    "    - **Ordenación Personalizada**:\n",
    "        - Lambdas son útiles para definir cómo se deben ordenar los elementos en funciones como `sorted()` o el método `sort()`.\n",
    "        - Ejemplo de ordenar una lista de tuplas basado en el segundo elemento:"
   ]
  },
  {
   "cell_type": "code",
   "execution_count": null,
   "id": "4c10ba47",
   "metadata": {},
   "outputs": [],
   "source": [
    "```python\n",
    "lista = [(1, 'b'), (2, 'a'), (0, 'c')]\n",
    "lista.sort(key=lambda x: x[1])\n",
    "print(lista)  # [(2, 'a'), (1, 'b'), (0, 'c')]\n",
    "\n",
    "```"
   ]
  },
  {
   "cell_type": "markdown",
   "id": "dd53538d",
   "metadata": {},
   "source": [
    "- **Uso con `filter()` y `map()`**:\n",
    "        - `filter()`: para filtrar elementos de una secuencia.\n",
    "        - `map()`: para aplicar una operación a cada elemento de una secuencia.\n",
    "        - Ejemplo con `map()` para elevar al cuadrado todos los elementos de una lista:"
   ]
  },
  {
   "cell_type": "code",
   "execution_count": null,
   "id": "eaacb842",
   "metadata": {},
   "outputs": [],
   "source": [
    "```python\n",
    "numeros = [1, 2, 3, 4, 5]\n",
    "cuadrados = list(map(lambda x: x**2, numeros))\n",
    "print(cuadrados)  # [1, 4, 9, 16, 25]\n",
    "\n",
    "```\n"
   ]
  },
  {
   "cell_type": "markdown",
   "id": "19c8c82a",
   "metadata": {},
   "source": [
    "### Comparación con Funciones Regulares:\n",
    "\n",
    "- **Verbosidad**:\n",
    "    - Las funciones regulares se definen con `def` y pueden consistir en múltiples expresiones y declaraciones.\n",
    "    - Las funciones lambda están limitadas a una sola expresión.\n",
    "- **Reusabilidad**:\n",
    "    - Las funciones regulares pueden ser referenciadas por su nombre y reutilizadas en diferentes partes del código.\n",
    "    - Las funciones lambda son anónimas y se utilizan cuando se necesitan funciones pequeñas y de un solo uso.\n",
    "- **Legibilidad**:\n",
    "    - Las funciones regulares son más legibles, especialmente para operaciones complejas.\n",
    "    - Las funciones lambda son ideales para operaciones cortas y sencillas que son fáciles de entender en una sola línea.\n",
    "\n",
    "### Ejercicios:\n",
    "\n",
    "1. **Lambda para Ordenar**: Usa una función lambda para ordenar una lista de cadenas por su longitud.\n",
    "2. **Filtrar con Lambda**: Utiliza `filter()` y una función lambda para filtrar los números impares de una lista.\n",
    "3. **Convertir a Mayúsculas**: Aplica una función lambda con `map()` para convertir todas las cadenas de una lista a mayúsculas.\n",
    "\n",
    "### Conclusión:\n",
    "\n",
    "Las funciones lambda son una herramienta valiosa en Python, especialmente para casos donde se requieren pequeñas funciones sin nombre para operaciones breves y específicas. Sin embargo, para funciones más complejas o que se requieren en varios lugares, es preferible utilizar funciones regulares por su claridad y facilidad de mantenimiento.\n",
    "\n",
    "### Ejercicio 1: Lambda para Ordenar\n",
    "\n",
    "Objetivo: Ordenar una lista de cadenas (`strings`) por su longitud utilizando una función lambda."
   ]
  },
  {
   "cell_type": "code",
   "execution_count": null,
   "id": "512e9d3f",
   "metadata": {},
   "outputs": [],
   "source": [
    "# Lista de cadenas\n",
    "strings_list = [\"apple\", \"banana\", \"cherry\", \"kiwi\", \"mango\"]\n",
    "\n",
    "# Ordenar la lista por la longitud de cada cadena\n",
    "sorted_strings = sorted(strings_list, key=lambda x: len(x))\n",
    "\n",
    "print(sorted_strings)  # Resultado: ['kiwi', 'apple', 'mango', 'banana', 'cherry']\n"
   ]
  },
  {
   "cell_type": "markdown",
   "id": "8c24377e",
   "metadata": {},
   "source": [
    "### Ejercicio 2: Filtrar con Lambda\n",
    "\n",
    "Objetivo: Utilizar `filter()` y una función lambda para filtrar los números impares de una lista."
   ]
  },
  {
   "cell_type": "code",
   "execution_count": null,
   "id": "50a8714c",
   "metadata": {},
   "outputs": [],
   "source": [
    "# Lista de números\n",
    "numbers_list = [1, 2, 3, 4, 5, 6, 7, 8, 9, 10]\n",
    "\n",
    "# Filtrar los números impares\n",
    "odd_numbers = list(filter(lambda x: x % 2 != 0, numbers_list))\n",
    "\n",
    "print(odd_numbers)  # Resultado: [1, 3, 5, 7, 9]\n"
   ]
  },
  {
   "cell_type": "markdown",
   "id": "5a7b8745",
   "metadata": {},
   "source": [
    "### Ejercicio 3: Convertir a Mayúsculas\n",
    "\n",
    "Objetivo: Aplicar una función lambda con `map()` para convertir todas las cadenas de una lista a mayúsculas."
   ]
  },
  {
   "cell_type": "code",
   "execution_count": null,
   "id": "1b7650e0",
   "metadata": {},
   "outputs": [],
   "source": [
    "# Lista de cadenas\n",
    "fruits_list = [\"apple\", \"banana\", \"cherry\"]\n",
    "\n",
    "# Convertir todas las cadenas a mayúsculas\n",
    "uppercase_fruits = list(map(lambda x: x.upper(), fruits_list))\n",
    "\n",
    "print(uppercase_fruits)  # Resultado: ['APPLE', 'BANANA', 'CHERRY']\n"
   ]
  },
  {
   "cell_type": "markdown",
   "id": "593e5665",
   "metadata": {},
   "source": [
    "Cada uno de estos ejemplos demuestra el uso efectivo de las funciones lambda en Python para realizar tareas comunes de procesamiento de datos de manera concisa y eficiente."
   ]
  }
 ],
 "metadata": {},
 "nbformat": 4,
 "nbformat_minor": 5
}
