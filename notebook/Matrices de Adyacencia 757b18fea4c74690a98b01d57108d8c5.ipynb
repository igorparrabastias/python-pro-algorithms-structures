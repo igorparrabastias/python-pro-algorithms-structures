{
 "cells": [
  {
   "cell_type": "markdown",
   "id": "a68db012",
   "metadata": {},
   "source": [
    "# Matrices de Adyacencia\n",
    "\n",
    "La representación de un grafo mediante matrices de adyacencia es otra forma común de almacenar información sobre las conexiones entre nodos en un grafo. En una matriz de adyacencia, cada fila y columna de la matriz representa un nodo del grafo, y el valor en la casilla (i, j) indica si existe una arista (o borde) entre los nodos i y j.\n",
    "\n",
    "Para grafos ponderados, el valor en la casilla (i, j) puede representar el peso de la arista. Si no hay una arista, el valor puede ser 0 o un valor especial que indique la ausencia de arista.\n",
    "\n",
    "A continuación, te muestro cómo implementar un grafo utilizando una matriz de adyacencia en Python:\n",
    "\n",
    "### Representación de Grafos con Matrices de Adyacencia en Python\n",
    "\n",
    "**1. Definición de la Clase Grafo**"
   ]
  },
  {
   "cell_type": "code",
   "execution_count": null,
   "id": "e7bef593",
   "metadata": {},
   "outputs": [],
   "source": [
    "class Graph:\n",
    "    def __init__(self, num_vertices):\n",
    "        self.num_vertices = num_vertices\n",
    "        self.adj_matrix = [[0] * num_vertices for _ in range(num_vertices)]\n",
    "\n",
    "    def add_edge(self, start_vertex, end_vertex, weight=1):\n",
    "        # Asumiendo que es un grafo no dirigido\n",
    "        if 0 <= start_vertex < self.num_vertices and 0 <= end_vertex < self.num_vertices:\n",
    "            self.adj_matrix[start_vertex][end_vertex] = weight\n",
    "            self.adj_matrix[end_vertex][start_vertex] = weight\n",
    "\n",
    "    def remove_edge(self, start_vertex, end_vertex):\n",
    "        if 0 <= start_vertex < self.num_vertices and 0 <= end_vertex < self.num_vertices:\n",
    "            self.adj_matrix[start_vertex][end_vertex] = 0\n",
    "            self.adj_matrix[end_vertex][start_vertex] = 0\n",
    "\n",
    "    def display(self):\n",
    "        for row in self.adj_matrix:\n",
    "            print(row)\n"
   ]
  },
  {
   "cell_type": "markdown",
   "id": "584a1635",
   "metadata": {},
   "source": [
    "**2. Uso de la Clase Grafo**"
   ]
  },
  {
   "cell_type": "code",
   "execution_count": null,
   "id": "aae21530",
   "metadata": {},
   "outputs": [],
   "source": [
    "# Crear un grafo con 4 vértices\n",
    "g = Graph(4)\n",
    "\n",
    "# Añadir aristas con pesos\n",
    "g.add_edge(0, 1, 2)\n",
    "g.add_edge(0, 2, 3)\n",
    "g.add_edge(1, 2, 1)\n",
    "g.add_edge(2, 3, 4)\n",
    "\n",
    "# Mostrar la matriz de adyacencia\n",
    "g.display()\n",
    "\n",
    "# Eliminar una arista\n",
    "g.remove_edge(1, 2)\n",
    "\n",
    "# Mostrar la matriz de adyacencia después de la eliminación\n",
    "g.display()\n"
   ]
  },
  {
   "cell_type": "markdown",
   "id": "b5b39aff",
   "metadata": {},
   "source": [
    "En este ejemplo, la clase `Graph` utiliza una matriz bidimensional (`adj_matrix`) para representar el grafo. Cada fila y columna de la matriz representa un vértice, y los valores en la matriz indican la presencia de aristas y, opcionalmente, sus pesos.\n",
    "\n",
    "La función `add_edge` se utiliza para agregar aristas entre vértices, y `remove_edge` se utiliza para eliminar aristas. El método `display` permite visualizar la matriz de adyacencia para inspeccionar la estructura del grafo.\n",
    "\n",
    "Esta implementación es para un grafo no dirigido. Para grafos dirigidos, la matriz de adyacencia es asimétrica, y las aristas solo se registran en una dirección. También puedes adaptar esta implementación para grafos ponderados asignando valores de peso apropiados en la matriz."
   ]
  }
 ],
 "metadata": {},
 "nbformat": 4,
 "nbformat_minor": 5
}
