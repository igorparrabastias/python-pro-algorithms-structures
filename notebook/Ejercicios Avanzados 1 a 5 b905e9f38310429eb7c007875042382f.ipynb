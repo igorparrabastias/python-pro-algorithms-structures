{
 "cells": [
  {
   "cell_type": "markdown",
   "id": "470a83f1",
   "metadata": {},
   "source": [
    "# Ejercicios Avanzados 1 a 5\n",
    "\n",
    "### Ejercicio 1: Ordenar Listas de Tuplas\n",
    "\n",
    "Dada una lista de tuplas donde cada tupla contiene dos elementos, el primero siendo el nombre de una persona y el segundo su edad, usa el algoritmo Bubble Sort para ordenar la lista por la edad de manera ascendente."
   ]
  },
  {
   "cell_type": "code",
   "execution_count": null,
   "id": "b99ad04f",
   "metadata": {},
   "outputs": [],
   "source": [
    "# Ejercicio\n",
    "def bubble_sort_tuplas(lista):\n",
    "    n = len(lista)\n",
    "    for i in range(n):\n",
    "        for j in range(0, n-i-1):\n",
    "            if lista[j][1] > lista[j+1][1]:\n",
    "                lista[j], lista[j+1] = lista[j+1], lista[j]\n",
    "    return lista\n",
    "\n",
    "personas = [(\"John\", 35), (\"Anna\", 25), (\"Peter\", 50)]\n",
    "bubble_sort_tuplas(personas)\n",
    "print(personas)  # Debería mostrar las tuplas ordenadas por edad\n"
   ]
  },
  {
   "cell_type": "markdown",
   "id": "db709557",
   "metadata": {},
   "source": [
    "### Ejercicio 2: Bubble Sort con Múltiples Criterios\n",
    "\n",
    "Modifica el Bubble Sort para ordenar una lista de tuplas basada en dos criterios: primero por la longitud del primer elemento de cada tupla y luego por el segundo elemento de la tupla."
   ]
  },
  {
   "cell_type": "code",
   "execution_count": null,
   "id": "ec5bfc1a",
   "metadata": {},
   "outputs": [],
   "source": [
    "# Ejercicio\n",
    "def bubble_sort_criterios(lista):\n",
    "    n = len(lista)\n",
    "    for i in range(n):\n",
    "        for j in range(0, n-i-1):\n",
    "            if len(lista[j][0]) > len(lista[j+1][0]) or (len(lista[j][0]) == len(lista[j+1][0]) and lista[j][1] > lista[j+1][1]):\n",
    "                lista[j], lista[j+1] = lista[j+1], lista[j]\n",
    "    return lista\n",
    "\n",
    "datos = [(\"rojo\", 2), (\"azul\", 1), (\"verde\", 1), (\"amarillo\", 3)]\n",
    "bubble_sort_criterios(datos)\n",
    "print(datos)  # Debería mostrar las tuplas ordenadas por los criterios definidos\n"
   ]
  },
  {
   "cell_type": "markdown",
   "id": "d08885c7",
   "metadata": {},
   "source": [
    "### Ejercicio 3: Optimización de Bubble Sort\n",
    "\n",
    "Implementa una versión optimizada de Bubble Sort que detecta si la lista ya está ordenada antes de completar todas las pasadas, reduciendo así el número total de iteraciones."
   ]
  },
  {
   "cell_type": "code",
   "execution_count": null,
   "id": "54a9625c",
   "metadata": {},
   "outputs": [],
   "source": [
    "# Ejercicio\n",
    "def bubble_sort_optimizado(lista):\n",
    "    n = len(lista)\n",
    "    for i in range(n):\n",
    "        intercambio = False\n",
    "        for j in range(0, n-i-1):\n",
    "            if lista[j] > lista[j+1]:\n",
    "                lista[j], lista[j+1] = lista[j+1], lista[j]\n",
    "                intercambio = True\n",
    "        if not intercambio:\n",
    "            break\n",
    "    return lista\n",
    "\n",
    "mi_lista = [5, 1, 4, 2, 8]\n",
    "bubble_sort_optimizado(mi_lista)\n",
    "print(mi_lista)  # Debería mostrar la lista ordenada\n"
   ]
  },
  {
   "cell_type": "markdown",
   "id": "ad8e24f5",
   "metadata": {},
   "source": [
    "### Ejercicio 4: Bubble Sort Inverso\n",
    "\n",
    "Modifica Bubble Sort para ordenar una lista de números en orden descendente."
   ]
  },
  {
   "cell_type": "code",
   "execution_count": null,
   "id": "0003bfff",
   "metadata": {},
   "outputs": [],
   "source": [
    "# Ejercicio\n",
    "def bubble_sort_inverso(lista):\n",
    "    n = len(lista)\n",
    "    for i in range(n):\n",
    "        for j in range(0, n-i-1):\n",
    "            if lista[j] < lista[j+1]:\n",
    "                lista[j], lista[j+1] = lista[j+1], lista[j]\n",
    "    return lista\n",
    "\n",
    "mi_lista = [3, 1, 4, 1, 5, 9, 2, 6]\n",
    "bubble_sort_inverso(mi_lista)\n",
    "print(mi_lista)  # Debería mostrar la lista ordenada en orden descendente\n"
   ]
  },
  {
   "cell_type": "markdown",
   "id": "673054a3",
   "metadata": {},
   "source": [
    "### Ejercicio 5: Contar Intercambios en Bubble Sort\n",
    "\n",
    "Modifica el Bubble Sort para que, además de ordenar la lista, devuelva el número total de intercambios realizados."
   ]
  },
  {
   "cell_type": "code",
   "execution_count": null,
   "id": "2633c31c",
   "metadata": {},
   "outputs": [],
   "source": [
    "# Ejercicio\n",
    "def bubble_sort_con_intercambios(lista):\n",
    "    n = len(lista)\n",
    "    total_intercambios = 0\n",
    "    for i in range(n):\n",
    "        for j in range(0, n-i-1):\n",
    "            if lista[j] > lista[j+1]:\n",
    "                lista[j], lista[j+1] = lista[j+1], lista[j]\n",
    "                total_intercambios += 1\n",
    "    return lista, total_intercambios\n",
    "\n",
    "mi_lista = [64, 34, 25, 12, 22, 11, 90]\n",
    "_, intercambios = bubble_sort_con_intercambios(mi_lista)\n",
    "print(\"Total de intercambios:\", intercambios)  # Debería mostrar el número de intercambios\n"
   ]
  },
  {
   "cell_type": "markdown",
   "id": "4d9a01b3",
   "metadata": {},
   "source": [
    "Estos ejercicios avanzados sobre Bubble Sort desafían tus habilidades de programación al introducir requisitos más complejos, como ordenamiento basado en múltiples criterios, optimización y modificación del algoritmo original para adaptarse a necesidades específicas. Resolver estos problemas te ayudará a profundizar tu comprensión del algoritmo Bubble Sort y a mejorar tus habilidades de resolución de problemas en Python."
   ]
  }
 ],
 "metadata": {},
 "nbformat": 4,
 "nbformat_minor": 5
}
