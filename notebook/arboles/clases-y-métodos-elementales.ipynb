{
 "cells": [
  {
   "cell_type": "markdown",
   "metadata": {},
   "source": [
    "# TreeNode y BinaryTree\n",
    "\n",
    "Vamos a ir despacio .Deberíamos empezar definiendo y utilizando solo la estructura básica de la clase `TreeNode` y la clase `BinaryTree` sin profundizar en métodos avanzados.\n",
    "\n",
    "### Definición de la Clase TreeNode\n",
    "\n",
    "La clase `TreeNode` representa un nodo individual en un árbol binario:"
   ]
  },
  {
   "cell_type": "code",
   "execution_count": 7,
   "metadata": {},
   "outputs": [],
   "source": [
    "class TreeNode:\n",
    "    def __init__(self, data):\n",
    "        \"\"\"\n",
    "        Inicializa un nuevo nodo del árbol.\n",
    "\n",
    "        :param data: El valor almacenado en el nodo.\n",
    "        \"\"\"\n",
    "        self.data = data\n",
    "        self.left = None\n",
    "        self.right = None"
   ]
  },
  {
   "cell_type": "markdown",
   "metadata": {},
   "source": [
    "\n",
    "### Definición de la Clase BinaryTree\n",
    "\n",
    "La clase `BinaryTree` maneja el árbol en su totalidad:"
   ]
  },
  {
   "cell_type": "code",
   "execution_count": 8,
   "metadata": {},
   "outputs": [],
   "source": [
    "class BinaryTree:\n",
    "    def __init__(self):\n",
    "        \"\"\"\n",
    "        Inicializa un nuevo árbol binario vacío.\n",
    "        \"\"\"\n",
    "        self.root = None"
   ]
  },
  {
   "cell_type": "markdown",
   "metadata": {},
   "source": [
    "\n",
    "### Uso de la Clase BinaryTree\n",
    "\n",
    "Por el momento, podemos simplemente establecer la raíz del árbol directamente y acceder a sus nodos para ilustrar la estructura sin entrar en métodos como `insert`, `find`, y `delete`:"
   ]
  },
  {
   "cell_type": "code",
   "execution_count": 9,
   "metadata": {},
   "outputs": [
    {
     "name": "stdout",
     "output_type": "stream",
     "text": [
      "Raíz: 10\n",
      "Hijo izquierdo de la raíz: 5\n",
      "Hijo derecho de la raíz: 15\n"
     ]
    }
   ],
   "source": [
    "from tree_visualization import visualize\n",
    "\n",
    "# Crear el árbol y establecer manualmente los nodos y conexiones\n",
    "bt = BinaryTree()\n",
    "bt.root = TreeNode(10)\n",
    "bt.root.left = TreeNode(5)\n",
    "bt.root.right = TreeNode(15)\n",
    "\n",
    "# Acceso a los nodos del árbol\n",
    "print(\"Raíz:\", bt.root.data)\n",
    "print(\"Hijo izquierdo de la raíz:\", bt.root.left.data)\n",
    "print(\"Hijo derecho de la raíz:\", bt.root.right.data)\n",
    "\n",
    "# Visualizar el árbol\n",
    "dot = visualize(bt)\n",
    "dot\n"
   ]
  },
  {
   "cell_type": "markdown",
   "metadata": {},
   "source": [
    "Este ejemplo básico ilustra cómo crear un árbol y asignar valores a los nodos sin utilizar métodos de inserción o búsqueda, lo que proporciona una base simple para comenzar a explorar la estructura de los árboles binarios."
   ]
  }
 ],
 "metadata": {
  "kernelspec": {
   "display_name": "Python 3",
   "language": "python",
   "name": "python3"
  },
  "language_info": {
   "codemirror_mode": {
    "name": "ipython",
    "version": 3
   },
   "file_extension": ".py",
   "mimetype": "text/x-python",
   "name": "python",
   "nbconvert_exporter": "python",
   "pygments_lexer": "ipython3",
   "version": "3.8.10"
  }
 },
 "nbformat": 4,
 "nbformat_minor": 2
}
