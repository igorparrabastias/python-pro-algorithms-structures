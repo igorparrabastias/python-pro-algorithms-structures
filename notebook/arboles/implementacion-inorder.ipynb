{
 "cells": [
  {
   "cell_type": "markdown",
   "metadata": {},
   "source": [
    "# Recorrido Inorder en Árboles Binarios\n",
    "\n",
    "El recorrido Inorder en árboles binarios es una forma de atravesar el árbol que asegura visitar todos los nodos en un orden específico. El recorrido Inorder se define de la siguiente manera:\n",
    "\n",
    "- **Concepto de Recorrido Inorder:**\n",
    "  - Recorre el subárbol izquierdo en Inorder.\n",
    "  - Visita el nodo actual.\n",
    "  - Recorre el subárbol derecho en Inorder.\n",
    "\n",
    "Este método de recorrido es especialmente significativo porque, en el caso de árboles binarios de búsqueda, produce los valores en orden ascendente.\n",
    "\n",
    "- **Aplicaciones del Recorrido Inorder:**\n",
    "  - Obtención de los elementos de un árbol binario de búsqueda en orden ascendente.\n",
    "  - Implementación de algoritmos que necesitan procesar un árbol binario de manera ordenada.\n",
    "  - Ayuda en ciertas aplicaciones de gráficos computacionales y en la resolución de ecuaciones.\n",
    "\n",
    "- **Implementación en Python:**\n",
    "  - La implementación más común de Inorder utiliza la recursividad para visitar primero el subárbol izquierdo, luego el nodo actual y finalmente el subárbol derecho.\n",
    "\n",
    "## Implementación en Python\n",
    "\n",
    "Aquí te muestro cómo implementar este método en la clase [`BinaryTree`](src/BinaryTree.py): "
   ]
  },
  {
   "cell_type": "code",
   "execution_count": 39,
   "metadata": {},
   "outputs": [],
   "source": [
    "# Código utilitario\n",
    "from src.visualization import visualize_bt\n",
    "from src.BinaryTree import BinaryTree"
   ]
  },
  {
   "cell_type": "code",
   "execution_count": 40,
   "metadata": {},
   "outputs": [],
   "source": [
    "def inorder_traversal(self, node=None):\n",
    "    \"\"\"\n",
    "    Realiza el recorrido en orden (Inorder) del árbol binario o de un subárbol.\n",
    "\n",
    "    El recorrido comienza desde el nodo dado como argumento. Si no se\n",
    "    proporciona, el recorrido comienza desde la raíz del árbol.\n",
    "\n",
    "    Parámetros:\n",
    "        node: Nodo de la clase BinaryTree desde donde iniciar el recorrido\n",
    "        (opcional).\n",
    "\n",
    "    Retorna:\n",
    "        Una lista con los datos de los nodos visitados en el orden del recorrido\n",
    "        en orden (Inorder).\n",
    "    \"\"\"\n",
    "    # Inicia desde la raíz si no se proporciona un nodo específico.\n",
    "    if node is None:\n",
    "        node = self.root\n",
    "\n",
    "    # Lista para almacenar el recorrido.\n",
    "    result = []\n",
    "\n",
    "    # Función auxiliar para realizar el recorrido en orden (Inorder) de forma\n",
    "    # recursiva.\n",
    "    def _inorder(node):\n",
    "        \"\"\"\n",
    "        Función auxiliar recursiva para ejecutar el recorrido en orden (Inorder) sobre\n",
    "        el árbol.\n",
    "\n",
    "        Llama a sí misma primero en el hijo izquierdo del nodo actual si existe,\n",
    "        agrega los datos del nodo a la lista de resultados, y luego se llama a sí misma\n",
    "        en el hijo derecho del nodo actual si existe.\n",
    "\n",
    "        Parámetros:\n",
    "            node: Nodo actual que está siendo visitado por la función.\n",
    "        \"\"\"\n",
    "        if node:\n",
    "            # Recursividad en el subárbol izquierdo.\n",
    "            _inorder(node.left)\n",
    "            # Agrega el dato del nodo actual al resultado.\n",
    "            result.append(node.data)\n",
    "            # Recursividad en el subárbol derecho.\n",
    "            _inorder(node.right)\n",
    "\n",
    "    # Llamada inicial a la función auxiliar para iniciar el recorrido en orden.\n",
    "    _inorder(node)\n",
    "    # Devuelve la lista resultante con el recorrido Inorder.\n",
    "    return result\n",
    "\n",
    "# Extender la clase BinaryTree con el nuevo método inorder_traversal.\n",
    "BinaryTree.inorder_traversal = inorder_traversal\n"
   ]
  },
  {
   "cell_type": "markdown",
   "metadata": {},
   "source": [
    "## Pruebas de Recorrido Inorder\n",
    "Ahora utilizaremos el método insert de nuestra clase importada BinaryTree para añadir elementos al árbol, siguiendo un enfoque que automáticamente coloque los nodos en el primer lugar disponible siguiendo un recorrido por niveles. Esto es especialmente útil en árboles binarios completos o casi completos. A continuación, se muestra cómo puedes utilizar este método para construir el árbol y luego aplicar el recorrido Inorder:"
   ]
  },
  {
   "cell_type": "code",
   "execution_count": 41,
   "metadata": {},
   "outputs": [
    {
     "data": {
      "image/svg+xml": [
       "<?xml version=\"1.0\" encoding=\"UTF-8\" standalone=\"no\"?>\n",
       "<!DOCTYPE svg PUBLIC \"-//W3C//DTD SVG 1.1//EN\"\n",
       " \"http://www.w3.org/Graphics/SVG/1.1/DTD/svg11.dtd\">\n",
       "<!-- Generated by graphviz version 2.43.0 (0)\n",
       " -->\n",
       "<!-- Title: %3 Pages: 1 -->\n",
       "<svg width=\"170pt\" height=\"188pt\"\n",
       " viewBox=\"0.00 0.00 170.00 188.00\" xmlns=\"http://www.w3.org/2000/svg\" xmlns:xlink=\"http://www.w3.org/1999/xlink\">\n",
       "<g id=\"graph0\" class=\"graph\" transform=\"scale(1 1) rotate(0) translate(4 184)\">\n",
       "<title>%3</title>\n",
       "<polygon fill=\"white\" stroke=\"transparent\" points=\"-4,4 -4,-184 166,-184 166,4 -4,4\"/>\n",
       "<!-- A -->\n",
       "<g id=\"node1\" class=\"node\">\n",
       "<title>A</title>\n",
       "<ellipse fill=\"none\" stroke=\"black\" cx=\"99\" cy=\"-162\" rx=\"27\" ry=\"18\"/>\n",
       "<text text-anchor=\"middle\" x=\"99\" y=\"-158.3\" font-family=\"Times,serif\" font-size=\"14.00\">A</text>\n",
       "</g>\n",
       "<!-- B -->\n",
       "<g id=\"node2\" class=\"node\">\n",
       "<title>B</title>\n",
       "<ellipse fill=\"none\" stroke=\"black\" cx=\"63\" cy=\"-90\" rx=\"27\" ry=\"18\"/>\n",
       "<text text-anchor=\"middle\" x=\"63\" y=\"-86.3\" font-family=\"Times,serif\" font-size=\"14.00\">B</text>\n",
       "</g>\n",
       "<!-- A&#45;&gt;B -->\n",
       "<g id=\"edge1\" class=\"edge\">\n",
       "<title>A&#45;&gt;B</title>\n",
       "<path fill=\"none\" stroke=\"black\" d=\"M90.65,-144.76C86.29,-136.28 80.85,-125.71 75.96,-116.2\"/>\n",
       "<polygon fill=\"black\" stroke=\"black\" points=\"78.99,-114.44 71.3,-107.15 72.77,-117.64 78.99,-114.44\"/>\n",
       "</g>\n",
       "<!-- C -->\n",
       "<g id=\"node5\" class=\"node\">\n",
       "<title>C</title>\n",
       "<ellipse fill=\"none\" stroke=\"black\" cx=\"135\" cy=\"-90\" rx=\"27\" ry=\"18\"/>\n",
       "<text text-anchor=\"middle\" x=\"135\" y=\"-86.3\" font-family=\"Times,serif\" font-size=\"14.00\">C</text>\n",
       "</g>\n",
       "<!-- A&#45;&gt;C -->\n",
       "<g id=\"edge4\" class=\"edge\">\n",
       "<title>A&#45;&gt;C</title>\n",
       "<path fill=\"none\" stroke=\"black\" d=\"M107.35,-144.76C111.71,-136.28 117.15,-125.71 122.04,-116.2\"/>\n",
       "<polygon fill=\"black\" stroke=\"black\" points=\"125.23,-117.64 126.7,-107.15 119.01,-114.44 125.23,-117.64\"/>\n",
       "</g>\n",
       "<!-- D -->\n",
       "<g id=\"node3\" class=\"node\">\n",
       "<title>D</title>\n",
       "<ellipse fill=\"none\" stroke=\"black\" cx=\"27\" cy=\"-18\" rx=\"27\" ry=\"18\"/>\n",
       "<text text-anchor=\"middle\" x=\"27\" y=\"-14.3\" font-family=\"Times,serif\" font-size=\"14.00\">D</text>\n",
       "</g>\n",
       "<!-- B&#45;&gt;D -->\n",
       "<g id=\"edge2\" class=\"edge\">\n",
       "<title>B&#45;&gt;D</title>\n",
       "<path fill=\"none\" stroke=\"black\" d=\"M54.65,-72.76C50.29,-64.28 44.85,-53.71 39.96,-44.2\"/>\n",
       "<polygon fill=\"black\" stroke=\"black\" points=\"42.99,-42.44 35.3,-35.15 36.77,-45.64 42.99,-42.44\"/>\n",
       "</g>\n",
       "<!-- E -->\n",
       "<g id=\"node4\" class=\"node\">\n",
       "<title>E</title>\n",
       "<ellipse fill=\"none\" stroke=\"black\" cx=\"99\" cy=\"-18\" rx=\"27\" ry=\"18\"/>\n",
       "<text text-anchor=\"middle\" x=\"99\" y=\"-14.3\" font-family=\"Times,serif\" font-size=\"14.00\">E</text>\n",
       "</g>\n",
       "<!-- B&#45;&gt;E -->\n",
       "<g id=\"edge3\" class=\"edge\">\n",
       "<title>B&#45;&gt;E</title>\n",
       "<path fill=\"none\" stroke=\"black\" d=\"M71.35,-72.76C75.71,-64.28 81.15,-53.71 86.04,-44.2\"/>\n",
       "<polygon fill=\"black\" stroke=\"black\" points=\"89.23,-45.64 90.7,-35.15 83.01,-42.44 89.23,-45.64\"/>\n",
       "</g>\n",
       "</g>\n",
       "</svg>\n"
      ],
      "text/plain": [
       "<graphviz.graphs.Digraph at 0x7f840c4c17c0>"
      ]
     },
     "execution_count": 41,
     "metadata": {},
     "output_type": "execute_result"
    }
   ],
   "source": [
    "# Inicializar el árbol binario\n",
    "bt = BinaryTree()\n",
    "\n",
    "# Insertar elementos en el árbol. La inserción se realiza siguiendo un recorrido\n",
    "# por niveles, por lo que el orden de inserción define la estructura del árbol.\n",
    "bt.insert('A')  # Raíz\n",
    "bt.insert('B')\n",
    "bt.insert('C')\n",
    "bt.insert('D')\n",
    "bt.insert('E')\n",
    "\n",
    "# Visualizar el árbol\n",
    "dot = visualize_bt(bt)\n",
    "dot\n"
   ]
  },
  {
   "cell_type": "code",
   "execution_count": 42,
   "metadata": {},
   "outputs": [
    {
     "name": "stdout",
     "output_type": "stream",
     "text": [
      "Prueba de Recorrido Inorder:\n",
      "Resultado obtenido: ['D', 'B', 'E', 'A', 'C']\n",
      "Resultado esperado: ['D', 'B', 'E', 'A', 'C']\n",
      "La prueba del recorrido Inorder se ha completado con éxito.\n"
     ]
    }
   ],
   "source": [
    "# Define el resultado esperado del recorrido Inorder del árbol dado.\n",
    "# El recorrido Inorder para este árbol es: D, B, E, A, C\n",
    "expected_result = ['D', 'B', 'E', 'A', 'C']\n",
    "\n",
    "# Realiza el recorrido Inorder y almacena el resultado.\n",
    "inorder_result = bt.inorder_traversal()\n",
    "\n",
    "# Realiza la comprobación.\n",
    "print(\"Prueba de Recorrido Inorder:\")\n",
    "print(\"Resultado obtenido:\", inorder_result)\n",
    "print(\"Resultado esperado:\", expected_result)\n",
    "assert inorder_result == expected_result, \"El recorrido Inorder no coincide con el esperado.\"\n",
    "print(\"La prueba del recorrido Inorder se ha completado con éxito.\")"
   ]
  },
  {
   "cell_type": "markdown",
   "metadata": {},
   "source": [
    "## Complejidad del Algoritmo\n",
    "\n",
    "- **Complejidad Temporal:** O(N), donde N es el número de nodos en el árbol. Esto se debe a que cada nodo se visita exactamente una vez.\n",
    "- **Complejidad Espacial:** O(H), donde H es la altura del árbol. Esto se debe al uso del stack de llamadas durante la ejecución recursiva.\n",
    "\n",
    "## Ejercicios Prácticos\n",
    "\n",
    "1. Modificar el recorrido Inorder para que acumule los valores en una lista en lugar de imprimirlos.\n",
    "2. Implementar una función que utilice el recorrido Inorder para verificar si un árbol binario es un árbol binario de búsqueda.\n",
    "3. Escribir una función que utilice el recorrido Inorder para encontrar el k-ésimo elemento más pequeño en un árbol binario de búsqueda.\n",
    "4. Implementar el recorrido Inorder de manera iterativa usando una pila.\n",
    "\n",
    "## Soluciones a los Ejercicios\n",
    "\n",
    "1. **Modificar el recorrido Inorder para que acumule los valores en una lista en lugar de imprimirlos:**\n"
   ]
  },
  {
   "cell_type": "code",
   "execution_count": null,
   "metadata": {},
   "outputs": [],
   "source": [
    "def inorder_traversal_collect(self, node=None):\n",
    "    result = []\n",
    "    def _inorder(node):\n",
    "        if node:\n",
    "            _inorder(node.left)\n",
    "            result.append(node.data)\n",
    "            _inorder(node.right)\n",
    "    _inorder(self.root if node is None else node)\n",
    "    return result\n",
    "\n",
    "BinaryTree.inorder_traversal_collect = inorder_traversal_collect"
   ]
  },
  {
   "cell_type": "markdown",
   "metadata": {},
   "source": [
    "2. **Implementar una función que utilice el recorrido Inorder para verificar si un árbol binario es un árbol binario de búsqueda:**\n",
    "\n",
    "Para verificar si un árbol binario es un árbol binario de búsqueda (BST), podemos usar el recorrido Inorder y asegurarnos de que los elementos están en orden ascendente:\n",
    "\n"
   ]
  },
  {
   "cell_type": "code",
   "execution_count": null,
   "metadata": {},
   "outputs": [],
   "source": [
    "def is_bst(self):\n",
    "    result = self.inorder_traversal_collect()\n",
    "    return all(result[i] <= result[i + 1] for i in range(len(result) - 1))\n",
    "\n",
    "BinaryTree.is_bst = is_bst"
   ]
  },
  {
   "cell_type": "markdown",
   "metadata": {},
   "source": [
    "3. **Escribir una función que utilice el recorrido Inorder para encontrar el k-ésimo elemento más pequeño en un árbol binario de búsqueda:**\n"
   ]
  },
  {
   "cell_type": "code",
   "execution_count": null,
   "metadata": {},
   "outputs": [],
   "source": [
    "def kth_smallest(self, k, node=None):\n",
    "    # Utilizamos el recorrido Inorder y retornamos el k-ésimo elemento.\n",
    "    result = self.inorder_traversal_collect(node)\n",
    "    if k - 1 < len(result):\n",
    "        return result[k - 1]\n",
    "    return None  # Retornar None si k es mayor que el número de nodos.\n",
    "\n",
    "BinaryTree.kth_smallest = kth_smallest"
   ]
  },
  {
   "cell_type": "markdown",
   "metadata": {},
   "source": [
    "4. **Implementar el recorrido Inorder de manera iterativa usando una pila:**\n",
    "\n",
    "Para realizar el recorrido Inorder de manera iterativa, se puede utilizar una pila:\n"
   ]
  },
  {
   "cell_type": "code",
   "execution_count": null,
   "metadata": {},
   "outputs": [],
   "source": [
    "def inorder_traversal_iterative(self):\n",
    "    node = self.root\n",
    "    stack = []\n",
    "    result = []\n",
    "\n",
    "    while stack or node:\n",
    "        # Alcanzar el nodo más a la izquierda.\n",
    "        while node:\n",
    "            stack.append(node)\n",
    "            node = node.left\n",
    "        node = stack.pop()\n",
    "        result.append(node.data)\n",
    "        # Visitar el subárbol derecho.\n",
    "        node = node.right\n",
    "\n",
    "    return result\n",
    "\n",
    "BinaryTree.inorder_traversal_iterative = inorder_traversal_iterative"
   ]
  },
  {
   "cell_type": "markdown",
   "metadata": {},
   "source": [
    "Estos métodos extendidos ofrecen funcionalidades adicionales basadas en el recorrido Inorder para la clase `BinaryTree`, proporcionando herramientas útiles para la manipulación y análisis de árboles binarios."
   ]
  }
 ],
 "metadata": {
  "kernelspec": {
   "display_name": "Python 3",
   "language": "python",
   "name": "python3"
  },
  "language_info": {
   "codemirror_mode": {
    "name": "ipython",
    "version": 3
   },
   "file_extension": ".py",
   "mimetype": "text/x-python",
   "name": "python",
   "nbconvert_exporter": "python",
   "pygments_lexer": "ipython3",
   "version": "3.8.10"
  }
 },
 "nbformat": 4,
 "nbformat_minor": 2
}
