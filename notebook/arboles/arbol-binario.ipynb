{
 "cells": [
  {
   "cell_type": "markdown",
   "metadata": {},
   "source": [
    "# Árboles binarios\n",
    "\n",
    "- Cada nodo tiene hasta dos hijos.\n",
    "<pre >\n",
    "\n",
    "        5\n",
    "       / \\\n",
    "      3   7\n",
    "     / \\ / \\\n",
    "    2  4 6  8\n",
    "</pre>"
   ]
  }
 ],
 "metadata": {
  "language_info": {
   "name": "python"
  }
 },
 "nbformat": 4,
 "nbformat_minor": 2
}
