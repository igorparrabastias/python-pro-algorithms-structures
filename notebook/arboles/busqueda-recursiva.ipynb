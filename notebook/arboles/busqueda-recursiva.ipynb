{
 "cells": [
  {
   "cell_type": "markdown",
   "metadata": {},
   "source": [
    "# Búsqueda recursiva\n",
    "\n",
    "Para implementar una búsqueda en un árbol binario utilizando un método alternativo a los tradicionales DFS y BFS (*que implementaremos luego*), podemos crear un enfoque basado en una función recursiva que no siga estrictamente los patrones de recorrido en profundidad o en amplitud. Este método alternativo se centrará en la flexibilidad y la simplicidad, permitiendo buscar un nodo por su valor, sin necesidad de explorar sistemáticamente todos los nodos del árbol.\n",
    "\n",
    "La idea es realizar una búsqueda que, en cada paso, decida si continuar explorando basándose en algún criterio particular, diferente al orden estricto de DFS o BFS. En este caso, simplemente recorreremos el árbol de manera recursiva, explorando arbitrariamente los subárboles izquierdo y derecho sin seguir un orden predefinido de recorrido.\n",
    "\n",
    "Aquí te muestro cómo implementar este método en la clase `BinaryTree`:"
   ]
  },
  {
   "cell_type": "code",
   "execution_count": 1,
   "metadata": {},
   "outputs": [],
   "source": [
    "# %load src/BinaryTree.py\n",
    "class Node:\n",
    "    def __init__(self, key):\n",
    "        self.left = None\n",
    "        self.right = None\n",
    "        self.data = key\n",
    "\n",
    "class BinaryTree:\n",
    "    def __init__(self):\n",
    "        self.root = None\n",
    "\n",
    "    def insert(self, key):\n",
    "        new_node = Node(key)\n",
    "        if not self.root:\n",
    "            self.root = new_node\n",
    "            return\n",
    "\n",
    "        queue = [self.root]\n",
    "        while queue:\n",
    "            current = queue.pop(0)\n",
    "\n",
    "            # Si el nodo actual no tiene hijo izquierdo, lo insertamos aquí.\n",
    "            if not current.left:\n",
    "                current.left = new_node\n",
    "                return\n",
    "            else:\n",
    "                queue.append(current.left)\n",
    "\n",
    "            # Si el nodo actual no tiene hijo derecho, lo insertamos aquí.\n",
    "            if not current.right:\n",
    "                current.right = new_node\n",
    "                return\n",
    "            else:\n",
    "                queue.append(current.right)\n",
    "\n"
   ]
  },
  {
   "cell_type": "code",
   "execution_count": 2,
   "metadata": {},
   "outputs": [],
   "source": [
    "def search(self, key):\n",
    "    # Función interna para buscar de forma recursiva un nodo con el valor especificado.\n",
    "    def search_recursively(node, key):\n",
    "        # Caso base: El nodo es None o el valor del nodo es el que buscamos.\n",
    "        if not node or node.data == key:\n",
    "            return node\n",
    "\n",
    "        # Primero intentamos encontrar el valor en el subárbol izquierdo.\n",
    "        left_search = search_recursively(node.left, key)\n",
    "        if left_search:\n",
    "            return left_search\n",
    "\n",
    "        # Si no se encontró en el subárbol izquierdo, buscamos en el subárbol derecho.\n",
    "        return search_recursively(node.right, key)\n",
    "\n",
    "    # Llamada inicial a la función de búsqueda recursiva desde el nodo raíz.\n",
    "    return search_recursively(self.root, key)\n",
    "\n",
    "# Asigna el método search a la clase BinaryTree para habilitar la funcionalidad de búsqueda en la estructura del árbol binario.\n",
    "BinaryTree.search= search"
   ]
  },
  {
   "cell_type": "code",
   "execution_count": 3,
   "metadata": {},
   "outputs": [
    {
     "name": "stdout",
     "output_type": "stream",
     "text": [
      "Nodo encontrado: 12\n",
      "Nodo NO encontrado: 120\n"
     ]
    },
    {
     "ename": "NameError",
     "evalue": "name 'visualize_bt' is not defined",
     "output_type": "error",
     "traceback": [
      "\u001b[0;31m---------------------------------------------------------------------------\u001b[0m",
      "\u001b[0;31mNameError\u001b[0m                                 Traceback (most recent call last)",
      "Cell \u001b[0;32mIn[3], line 39\u001b[0m\n\u001b[1;32m     35\u001b[0m     \u001b[38;5;28mprint\u001b[39m(\u001b[38;5;124mf\u001b[39m\u001b[38;5;124m\"\u001b[39m\u001b[38;5;124mNodo NO encontrado: \u001b[39m\u001b[38;5;132;01m{\u001b[39;00mvalue\u001b[38;5;132;01m}\u001b[39;00m\u001b[38;5;124m\"\u001b[39m)\n\u001b[1;32m     38\u001b[0m \u001b[38;5;66;03m# Visualizar el árbol\u001b[39;00m\n\u001b[0;32m---> 39\u001b[0m dot \u001b[38;5;241m=\u001b[39m \u001b[43mvisualize_bt\u001b[49m(tree)\n\u001b[1;32m     40\u001b[0m dot\n",
      "\u001b[0;31mNameError\u001b[0m: name 'visualize_bt' is not defined"
     ]
    }
   ],
   "source": [
    "# Ejemplo de uso\n",
    "tree = BinaryTree()\n",
    "tree.insert(5)\n",
    "tree.insert(8)\n",
    "tree.insert(40)\n",
    "tree.insert(12)\n",
    "tree.insert(31)\n",
    "\n",
    "# Establece el valor a buscar como 12.\n",
    "value = 12\n",
    "\n",
    "# Busca el nodo que contiene el valor en la estructura del árbol y asigna el resultado a 'result_node'.\n",
    "result_node = tree.search(value)\n",
    "\n",
    "# Verifica si se encontró un nodo que contiene el valor.\n",
    "if result_node:\n",
    "    # Imprime un mensaje indicando que se encontró el nodo con el valor especificado.\n",
    "    print(f\"Nodo encontrado: {value}\")\n",
    "else:\n",
    "    # Imprime un mensaje indicando que no se encontró ningún nodo con el valor especificado.\n",
    "    print(f\"Nodo NO encontrado: {value}\")\n",
    "\n",
    "# Establece el valor a buscar como 120.\n",
    "value = 120\n",
    "\n",
    "# Busca el nodo que contiene el valor en la estructura del árbol y asigna el resultado a 'result_node'.\n",
    "result_node = tree.search(value)\n",
    "\n",
    "# Verifica si se encontró un nodo que contiene el valor.\n",
    "if result_node:\n",
    "    # Imprime un mensaje indicando que se encontró el nodo con el valor especificado.\n",
    "    print(f\"Nodo encontrado: {value}\")\n",
    "else:\n",
    "    # Imprime un mensaje indicando que no se encontró ningún nodo con el valor especificado.\n",
    "    print(f\"Nodo NO encontrado: {value}\")\n",
    "\n",
    "\n",
    "# Visualizar el árbol\n",
    "dot = visualize_bt(tree)\n",
    "dot"
   ]
  },
  {
   "cell_type": "markdown",
   "metadata": {},
   "source": [
    "En este método de búsqueda, `search_recursively` es una función interna que se llama a sí misma para explorar tanto el subárbol izquierdo como el derecho. La búsqueda comienza en la raíz y se mueve hacia abajo a través del árbol. Si encuentra el valor buscado en un nodo, devuelve ese nodo inmediatamente. Si no, continúa la búsqueda primero a través del subárbol izquierdo, y si el valor no se encuentra allí, procede con el subárbol derecho.\n",
    "\n",
    "Este enfoque no garantiza el mínimo número de visitas a nodos en comparación con DFS o BFS, especialmente en árboles muy desbalanceados, pero ofrece un ejemplo claro de cómo implementar una búsqueda sin apegarse estrictamente a esos métodos tradicionales."
   ]
  }
 ],
 "metadata": {
  "kernelspec": {
   "display_name": "Python 3",
   "language": "python",
   "name": "python3"
  },
  "language_info": {
   "codemirror_mode": {
    "name": "ipython",
    "version": 3
   },
   "file_extension": ".py",
   "mimetype": "text/x-python",
   "name": "python",
   "nbconvert_exporter": "python",
   "pygments_lexer": "ipython3",
   "version": "3.8.10"
  }
 },
 "nbformat": 4,
 "nbformat_minor": 2
}
