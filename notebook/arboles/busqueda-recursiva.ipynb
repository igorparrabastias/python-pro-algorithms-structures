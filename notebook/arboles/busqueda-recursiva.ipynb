{
 "cells": [
  {
   "cell_type": "markdown",
   "metadata": {},
   "source": [
    "# Búsqueda recursiva\n",
    "\n",
    "Para implementar una búsqueda en un árbol binario utilizando un método alternativo a los tradicionales DFS y BFS, podemos crear un enfoque basado en una función recursiva que no siga estrictamente los patrones de recorrido en profundidad o en amplitud. Este método alternativo se centrará en la flexibilidad y la simplicidad, permitiendo buscar un nodo por su valor, sin necesidad de explorar sistemáticamente todos los nodos del árbol.\n",
    "\n",
    "La idea es realizar una búsqueda que, en cada paso, decida si continuar explorando basándose en algún criterio particular, diferente al orden estricto de DFS o BFS. En este caso, simplemente recorreremos el árbol de manera recursiva, explorando arbitrariamente los subárboles izquierdo y derecho sin seguir un orden predefinido de recorrido.\n",
    "\n",
    "Aquí te muestro cómo implementar este método en la clase `BinaryTree`:"
   ]
  },
  {
   "cell_type": "code",
   "execution_count": 5,
   "metadata": {},
   "outputs": [],
   "source": [
    "# Código utilitario\n",
    "from binary_tree_visualization import visualize"
   ]
  },
  {
   "cell_type": "code",
   "execution_count": 6,
   "metadata": {},
   "outputs": [
    {
     "name": "stdout",
     "output_type": "stream",
     "text": [
      "Nodo no encontrado.\n"
     ]
    }
   ],
   "source": [
    "class BinaryTree:\n",
    "    def __init__(self):\n",
    "        self.root = None\n",
    "\n",
    "    def insert(self, key):\n",
    "        # Método de inserción como se definió anteriormente.\n",
    "        pass\n",
    "\n",
    "    def search(self, key):\n",
    "        def search_recursively(node, key):\n",
    "            # Caso base: El nodo es None o el valor del nodo es el que buscamos.\n",
    "            if not node or node.value == key:\n",
    "                return node\n",
    "\n",
    "            # Primero intentamos encontrar el valor en el subárbol izquierdo.\n",
    "            left_search = search_recursively(node.left, key)\n",
    "            if left_search:\n",
    "                return left_search\n",
    "\n",
    "            # Si no se encontró en el izquierdo, buscamos en el subárbol derecho.\n",
    "            return search_recursively(node.right, key)\n",
    "\n",
    "        return search_recursively(self.root, key)\n",
    "\n",
    "# Ejemplo de uso\n",
    "tree = BinaryTree()\n",
    "tree.insert(1)\n",
    "tree.insert(2)\n",
    "tree.insert(3)\n",
    "result_node = tree.search(2)\n",
    "if result_node:\n",
    "    print(f\"Nodo encontrado: {result_node.value}\")\n",
    "else:\n",
    "    print(\"Nodo no encontrado.\")"
   ]
  },
  {
   "cell_type": "markdown",
   "metadata": {},
   "source": [
    "En este método de búsqueda, `search_recursively` es una función interna que se llama a sí misma para explorar tanto el subárbol izquierdo como el derecho. La búsqueda comienza en la raíz y se mueve hacia abajo a través del árbol. Si encuentra el valor buscado en un nodo, devuelve ese nodo inmediatamente. Si no, continúa la búsqueda primero a través del subárbol izquierdo, y si el valor no se encuentra allí, procede con el subárbol derecho.\n",
    "\n",
    "Este enfoque no garantiza el mínimo número de visitas a nodos en comparación con DFS o BFS, especialmente en árboles muy desbalanceados, pero ofrece un ejemplo claro de cómo implementar una búsqueda sin apegarse estrictamente a esos métodos tradicionales."
   ]
  }
 ],
 "metadata": {
  "kernelspec": {
   "display_name": "Python 3",
   "language": "python",
   "name": "python3"
  },
  "language_info": {
   "codemirror_mode": {
    "name": "ipython",
    "version": 3
   },
   "file_extension": ".py",
   "mimetype": "text/x-python",
   "name": "python",
   "nbconvert_exporter": "python",
   "pygments_lexer": "ipython3",
   "version": "3.8.10"
  }
 },
 "nbformat": 4,
 "nbformat_minor": 2
}
