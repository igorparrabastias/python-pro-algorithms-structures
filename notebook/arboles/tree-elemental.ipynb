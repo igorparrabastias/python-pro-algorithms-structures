{
 "cells": [
  {
   "cell_type": "markdown",
   "metadata": {},
   "source": [
    "# TreeNode y Tree\n",
    "\n",
    "En el vasto mundo de las estructuras de datos, los árboles juegan un papel crucial en la organización de información de manera jerárquica y eficiente. En esta clase, exploraremos los conceptos fundamentales de TreeNode y Tree, centrándonos en árboles generales, no binarios, donde cada nodo puede tener múltiples hijos. Esta introducción sentará las bases para comprender estructuras más complejas y su aplicación en problemas reales.\n",
    "\n",
    "Bienvenidos a nuestra clase sobre árboles, una estructura de datos fundamental que nos permite representar información de forma jerárquica. Los árboles son omnipresentes en la tecnología, desde organizar archivos en sistemas operativos hasta facilitar búsquedas rápidas en bases de datos. En esta sesión, nos centraremos en entender y construir la base de cualquier estructura de árbol: los árboles generales.\n",
    "\n",
    "\n",
    "## TreeNode: La Unidad Básica de un Árbol\n",
    "Un TreeNode es la unidad fundamental de un árbol. Representa un nodo que contiene datos y enlaces a sus nodos hijos. En su forma más simple, un TreeNode puede definirse con los siguientes componentes:\n",
    "\n",
    "- Datos: El valor almacenado en el nodo.\n",
    "- Hijos: Una lista de referencias a sus nodos hijos.\n",
    "\n",
    "\n",
    "### Implementación en Python"
   ]
  },
  {
   "cell_type": "code",
   "execution_count": 3,
   "metadata": {},
   "outputs": [],
   "source": [
    "class TreeNode:\n",
    "    def __init__(self, data):\n",
    "        self.data = data\n",
    "        self.children = []"
   ]
  },
  {
   "cell_type": "markdown",
   "metadata": {},
   "source": [
    "### Tree: Una Estructura Jerárquica\n",
    "\n",
    "Un Tree es una estructura que consiste en nodos conectados de manera jerárquica. Un árbol tiene las siguientes características:\n",
    "\n",
    "- Raíz: El nodo superior que no tiene padres.\n",
    "- Nodos internos: Nodos con hijos.\n",
    "- Hojas: Nodos sin hijos.\n",
    "\n",
    "### Implementación en Python\n",
    "La implementación de un Tree implica crear y manipular TreeNodes para formar la estructura jerárquica."
   ]
  },
  {
   "cell_type": "code",
   "execution_count": 4,
   "metadata": {},
   "outputs": [],
   "source": [
    "class Tree:\n",
    "    def __init__(self):\n",
    "        self.root = None"
   ]
  },
  {
   "cell_type": "markdown",
   "metadata": {},
   "source": [
    "Esta estructura nos permite crear nodos que pueden conectarse para formar un árbol.\n",
    "\n",
    "### Construyendo un Árbol Simple\n",
    "\n",
    "Con nuestra definición de clase, podemos empezar a construir un árbol. Vamos a crear uno paso a paso:"
   ]
  },
  {
   "cell_type": "code",
   "execution_count": 5,
   "metadata": {},
   "outputs": [
    {
     "name": "stdout",
     "output_type": "stream",
     "text": [
      "Raíz del árbol: Raíz\n",
      "Hijo 1 de la raíz: Hijo 1\n",
      "Hijo 2 de la raíz: Hijo 2\n"
     ]
    }
   ],
   "source": [
    "# Creación e inicialización del árbol\n",
    "t = Tree()\n",
    "t.root = TreeNode(\"Raíz\")\n",
    "\n",
    "# Asignación directa de hijos\n",
    "t.root.children = [TreeNode(\"Hijo 1\"), TreeNode(\"Hijo 2\")]\n",
    "\n",
    "# Impresión para visualizar la estructura del árbol\n",
    "print(\"Raíz del árbol:\", t.root.data)\n",
    "for index, child in enumerate(t.root.children, start=1):\n",
    "    print(f\"Hijo {index} de la raíz:\", child.data)"
   ]
  },
  {
   "cell_type": "markdown",
   "metadata": {},
   "source": [
    "Este código configura un árbol simple y muestra su estructura básica.\n",
    "\n",
    "## Ejercicios\n",
    "\n",
    "### Ejercicio 1: Árbol en Forma de Asterisco\n",
    "\n",
    "Para este ejercicio, crearemos un árbol que tenga una estructura en forma de asterisco. La idea es que la raíz tenga varios hijos directos, representando las puntas del asterisco, sin que estos hijos tengan sus propios descendientes:"
   ]
  },
  {
   "cell_type": "code",
   "execution_count": 6,
   "metadata": {},
   "outputs": [
    {
     "name": "stdout",
     "output_type": "stream",
     "text": [
      "Centro del asterisco: Centro\n",
      "Punta 1 del asterisco: Punta 1\n",
      "Punta 2 del asterisco: Punta 2\n",
      "Punta 3 del asterisco: Punta 3\n",
      "Punta 4 del asterisco: Punta 4\n",
      "Punta 5 del asterisco: Punta 5\n"
     ]
    }
   ],
   "source": [
    "# Creación e inicialización del árbol\n",
    "asterisco = Tree()\n",
    "asterisco.root = TreeNode(\"Centro\")\n",
    "\n",
    "# Asignación directa de hijos para formar un asterisco de 5 puntas\n",
    "asterisco.root.children = [TreeNode(f\"Punta {i+1}\") for i in range(5)]\n",
    "\n",
    "# Impresión para visualizar la estructura del árbol asterisco\n",
    "print(\"Centro del asterisco:\", asterisco.root.data)\n",
    "for index, child in enumerate(asterisco.root.children, start=1):\n",
    "    print(f\"Punta {index} del asterisco:\", child.data)"
   ]
  },
  {
   "cell_type": "markdown",
   "metadata": {},
   "source": [
    "Este código genera un árbol con un nodo central y cinco nodos directamente conectados a este, simbolizando un asterisco.\n",
    "\n",
    "### Ejercicio 2: Árbol en Forma de Zigzag o Escalera\n",
    "\n",
    "Ahora, construiremos un árbol con una estructura en forma de zigzag (o escalera), donde cada nodo tiene un solo hijo que lo conecta al siguiente nivel, formando una secuencia lineal de nodos:"
   ]
  },
  {
   "cell_type": "code",
   "execution_count": 7,
   "metadata": {},
   "outputs": [
    {
     "name": "stdout",
     "output_type": "stream",
     "text": [
      "Nivel 0: Inicio\n",
      "Nivel 1: Peldaño 1\n",
      "Nivel 2: Peldaño 2\n",
      "Nivel 3: Peldaño 3\n",
      "Nivel 4: Peldaño 4\n"
     ]
    }
   ],
   "source": [
    "# Creación e inicialización del árbol\n",
    "zigzag = Tree()\n",
    "zigzag.root = TreeNode(\"Inicio\")\n",
    "\n",
    "# Construcción del zigzag con 4 \"peldaños\"\n",
    "nodo_actual = zigzag.root\n",
    "for i in range(1, 5):\n",
    "    nuevo_nodo = TreeNode(f\"Peldaño {i}\")\n",
    "    nodo_actual.children = [nuevo_nodo]  # Conectar el nodo actual al nuevo\n",
    "    nodo_actual = nuevo_nodo  # Avanzar al siguiente nodo\n",
    "\n",
    "# Impresión para visualizar la estructura del árbol zigzag\n",
    "nodo_actual = zigzag.root\n",
    "nivel = 0\n",
    "while nodo_actual.children:\n",
    "    print(f\"Nivel {nivel}: {nodo_actual.data}\")\n",
    "    nodo_actual = nodo_actual.children[0]\n",
    "    nivel += 1\n",
    "print(f\"Nivel {nivel}: {nodo_actual.data}\")  # Último nodo de la escalera"
   ]
  },
  {
   "cell_type": "markdown",
   "metadata": {},
   "source": [
    "Este código crea un árbol donde cada nodo está conectado linealmente al siguiente, formando una estructura en zigzag o escalera, ideal para visualizar una secuencia o una jerarquía lineal.\n",
    "\n",
    "\n",
    "### Ejercicio 3: Crear un Árbol de Intereses\n",
    "\n",
    "Este ejercicio busca modelar un árbol que represente tus intereses personales y cómo estos se subdividen en categorías más específicas:\n"
   ]
  },
  {
   "cell_type": "code",
   "execution_count": 8,
   "metadata": {},
   "outputs": [
    {
     "name": "stdout",
     "output_type": "stream",
     "text": [
      "Mis Intereses\n",
      "Categoría: Deportes\n",
      "  Subcategoría: Fútbol\n",
      "  Subcategoría: Baloncesto\n",
      "Categoría: Arte\n",
      "  Subcategoría: Pintura\n",
      "  Subcategoría: Escultura\n",
      "Categoría: Ciencia\n",
      "  Subcategoría: Física\n",
      "  Subcategoría: Biología\n"
     ]
    }
   ],
   "source": [
    "# Creación e inicialización del árbol de intereses\n",
    "intereses = Tree()\n",
    "intereses.root = TreeNode(\"Mis Intereses\")\n",
    "\n",
    "# Agregando categorías principales como hijos de la raíz\n",
    "intereses.root.children = [\n",
    "    TreeNode(\"Deportes\"),\n",
    "    TreeNode(\"Arte\"),\n",
    "    TreeNode(\"Ciencia\")\n",
    "]\n",
    "\n",
    "# Añadiendo subcategorías específicas a cada interés\n",
    "intereses.root.children[0].children = [TreeNode(\"Fútbol\"), TreeNode(\"Baloncesto\")]\n",
    "intereses.root.children[1].children = [TreeNode(\"Pintura\"), TreeNode(\"Escultura\")]\n",
    "intereses.root.children[2].children = [TreeNode(\"Física\"), TreeNode(\"Biología\")]\n",
    "\n",
    "# Impresión para visualizar la estructura del árbol de intereses\n",
    "print(intereses.root.data)\n",
    "for categoria in intereses.root.children:\n",
    "    print(f\"Categoría: {categoria.data}\")\n",
    "    for subcategoria in categoria.children:\n",
    "        print(f\"  Subcategoría: {subcategoria.data}\")"
   ]
  },
  {
   "cell_type": "markdown",
   "metadata": {},
   "source": [
    "### Ejercicio 4: Árbol Organizacional\n",
    "\n",
    "En este ejercicio, crearemos un árbol que represente la estructura organizativa de una empresa pequeña:\n"
   ]
  },
  {
   "cell_type": "code",
   "execution_count": 9,
   "metadata": {},
   "outputs": [
    {
     "name": "stdout",
     "output_type": "stream",
     "text": [
      "Posición: CEO\n",
      "Posición: Director Financiero\n",
      "  Posición: Gerente de Contabilidad\n",
      "  Posición: Gerente de Inversiones\n",
      "Posición: Director Técnico\n",
      "  Posición: Gerente de Desarrollo\n",
      "  Posición: Gerente de IT\n"
     ]
    }
   ],
   "source": [
    "# Creación e inicialización del árbol organizacional\n",
    "organizacion = Tree()\n",
    "organizacion.root = TreeNode(\"CEO\")\n",
    "\n",
    "# Agregando directores como hijos del CEO\n",
    "organizacion.root.children = [\n",
    "    TreeNode(\"Director Financiero\"),\n",
    "    TreeNode(\"Director Técnico\")\n",
    "]\n",
    "\n",
    "# Añadiendo gerentes como hijos de cada director\n",
    "organizacion.root.children[0].children = [TreeNode(\"Gerente de Contabilidad\"), TreeNode(\"Gerente de Inversiones\")]\n",
    "organizacion.root.children[1].children = [TreeNode(\"Gerente de Desarrollo\"), TreeNode(\"Gerente de IT\")]\n",
    "\n",
    "# Impresión para visualizar la estructura del árbol organizacional\n",
    "print(\"Posición:\", organizacion.root.data)\n",
    "for director in organizacion.root.children:\n",
    "    print(f\"Posición: {director.data}\")\n",
    "    for gerente in director.children:\n",
    "        print(f\"  Posición: {gerente.data}\")"
   ]
  },
  {
   "cell_type": "markdown",
   "metadata": {},
   "source": [
    "Estos ejercicios ilustran cómo se puede utilizar la estructura de un árbol para organizar y representar jerarquías y relaciones en distintos contextos, desde intereses personales hasta estructuras organizativas."
   ]
  },
  {
   "cell_type": "markdown",
   "metadata": {},
   "source": [
    "\n",
    "## Conclusión\n",
    "\n",
    "Al final de esta clase, habrás aprendido los fundamentos de los árboles generales, comprendiendo cómo se componen y cómo se pueden utilizar para estructurar información de manera jerárquica. Estos conceptos forman la base para entender estructuras más complejas y específicas, como los árboles binarios y los árboles de búsqueda, que estudiaremos en futuras clases.\n",
    "\n",
    "Recuerda que la práctica es clave para la comprensión, así que te animo a experimentar creando tus propios árboles y explorando las distintas maneras en que pueden ser utilizados para representar, organizar y manipular datos."
   ]
  }
 ],
 "metadata": {
  "kernelspec": {
   "display_name": "Python 3",
   "language": "python",
   "name": "python3"
  },
  "language_info": {
   "codemirror_mode": {
    "name": "ipython",
    "version": 3
   },
   "file_extension": ".py",
   "mimetype": "text/x-python",
   "name": "python",
   "nbconvert_exporter": "python",
   "pygments_lexer": "ipython3",
   "version": "3.8.10"
  }
 },
 "nbformat": 4,
 "nbformat_minor": 2
}
