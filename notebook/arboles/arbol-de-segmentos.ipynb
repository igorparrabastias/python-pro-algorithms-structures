{
 "cells": [
  {
   "cell_type": "markdown",
   "metadata": {},
   "source": [
    "# Árbol de Segmentos\n",
    "\n",
    "El árbol de segmentos es una estructura de datos binaria que permite responder consultas de rango y actualizar elementos en tiempo logarítmico. Cada nodo del árbol representa un intervalo o segmento del arreglo, y el árbol se construye de tal manera que cualquier segmento del arreglo puede ser representado como la unión de segmentos representados por nodos del árbol. Esto permite realizar operaciones como encontrar el mínimo, máximo, suma, o cualquier operación asociativa dentro de un rango dado con eficiencia, así como actualizar los valores del arreglo. El árbol de segmentos es particularmente útil en escenarios donde hay muchas consultas y actualizaciones, ya que ambas operaciones se pueden realizar en tiempo O(log n)."
   ]
  }
 ],
 "metadata": {
  "language_info": {
   "name": "python"
  }
 },
 "nbformat": 4,
 "nbformat_minor": 2
}
