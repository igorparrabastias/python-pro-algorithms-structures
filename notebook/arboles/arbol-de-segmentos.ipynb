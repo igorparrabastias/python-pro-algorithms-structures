{
 "cells": [
  {
   "cell_type": "markdown",
   "metadata": {},
   "source": [
    "# Árbol de Segmentos\n",
    "\n",
    "El árbol de segmentos es una estructura de datos binaria que permite responder consultas de rango y actualizar elementos en tiempo logarítmico. Cada nodo del árbol representa un intervalo o segmento del arreglo, y el árbol se construye de tal manera que cualquier segmento del arreglo puede ser representado como la unión de segmentos representados por nodos del árbol. Esto permite realizar operaciones como encontrar el mínimo, máximo, suma, o cualquier operación asociativa dentro de un rango dado con eficiencia, así como actualizar los valores del arreglo. El árbol de segmentos es particularmente útil en escenarios donde hay muchas consultas y actualizaciones, ya que ambas operaciones se pueden realizar en tiempo O(log n)."
   ]
  },
  {
   "cell_type": "markdown",
   "metadata": {},
   "source": [
    "## Árboles de Segmento:\n",
    "\n",
    "### Definición y Uso:\n",
    "\n",
    "- Un árbol de segmento es una estructura de datos en árbol que facilita las consultas de suma, mínimo, máximo (y otras operaciones) en un rango de un arreglo.\n",
    "- Ideal para escenarios como sistemas de bases de datos y gráficos computacionales, donde se realizan frecuentes consultas de rango y actualizaciones.\n",
    "\n",
    "Los árboles de segmento (Segment Trees) son una estructura de datos muy potente y flexible utilizada principalmente para resolver problemas de rangos, como consultas de suma de rangos, actualizaciones de rango, y otros tipos de consultas que involucran operaciones sobre subsegmentos de un arreglo. A diferencia de los árboles binarios de búsqueda y los árboles N-arios que pueden tener una variedad de aplicaciones, los árboles de segmento están especialmente diseñados para optimizar ciertas operaciones sobre arreglos.\n",
    "\n",
    "### Características Principales:\n",
    "\n",
    "- **Estructura de Árbol Binario**: Aunque se llaman \"árboles de segmento\", técnicamente son árboles binarios. Cada nodo del árbol representa un segmento (o rango) del arreglo, con el nodo raíz representando el arreglo completo.\n",
    "  \n",
    "- **Almacenamiento de Información de Rango**: Cada nodo del árbol almacena información sobre un rango específico del arreglo. Por ejemplo, en un árbol de segmento de suma, cada nodo almacenaría la suma de los elementos dentro de su rango correspondiente.\n",
    "\n",
    "- **División Recursiva**: La construcción del árbol divide el arreglo en dos mitades en cada nivel, hasta que los segmentos no se puedan dividir más (es decir, hasta que representen un solo elemento del arreglo).\n",
    "\n",
    "### Operaciones Comunes:\n",
    "\n",
    "- **Construcción**: Se construye el árbol a partir de un arreglo dado. La construcción tiene una complejidad de tiempo de \\(O(n)\\), donde \\(n\\) es la longitud del arreglo.\n",
    "\n",
    "- **Consulta**: Permite realizar consultas sobre rangos específicos dentro del arreglo, como encontrar la suma de elementos en un rango dado. Las consultas tienen una complejidad de tiempo de (O(log n)).\n",
    "\n",
    "- **Actualización**: Permite actualizar los valores del arreglo (por ejemplo, cambiar el valor de un elemento). Después de una actualización, el árbol se ajusta para reflejar este cambio. Las actualizaciones también tienen una complejidad de tiempo de (O(log n)).\n",
    "\n",
    "### Aplicaciones:\n",
    "\n",
    "- **Consultas de Rango**: Son ideales para problemas que requieren consultas de rango frecuentes, como la suma de rangos, el mínimo/ máximo de rango, y más.\n",
    "\n",
    "- **Problemas de Rango Dinámico**: Donde los elementos del arreglo pueden cambiar entre consultas, y es necesario reflejar rápidamente esos cambios en las respuestas a las consultas.\n",
    "\n",
    "- **Competencias de Programación**: Son una herramienta popular en competencias de programación debido a su eficiencia en la resolución de problemas complejos de rangos.\n",
    "\n",
    "### Implementación en Python:"
   ]
  },
  {
   "cell_type": "code",
   "execution_count": 1,
   "metadata": {},
   "outputs": [
    {
     "name": "stdout",
     "output_type": "stream",
     "text": [
      "[15, 6, 9, 3, 3, 4, 5, 1, 2, 0, 0, 0, 0, 0, 0, 0, 0, 0, 0, 0]\n"
     ]
    }
   ],
   "source": [
    "class SegmentTree:\n",
    "    def __init__(self, arr):\n",
    "        self.arr = arr\n",
    "        self.tree = [0] * (4 * len(arr))\n",
    "        self.build(0, 0, len(arr) - 1)\n",
    "\n",
    "    def build(self, node, start, end):\n",
    "        if start == end:\n",
    "            self.tree[node] = self.arr[start]\n",
    "        else:\n",
    "            mid = (start + end) // 2\n",
    "            self.build(2 * node + 1, start, mid)\n",
    "            self.build(2 * node + 2, mid + 1, end)\n",
    "            self.tree[node] = self.tree[2 * node + 1] + self.tree[2 * node + 2]\n",
    "\n",
    "# Ejemplo de uso\n",
    "arr = [1, 2, 3, 4, 5]\n",
    "seg_tree = SegmentTree(arr)\n",
    "print(seg_tree.tree)"
   ]
  },
  {
   "cell_type": "markdown",
   "metadata": {},
   "source": [
    "Crear una representación ASCII de un árbol de segmentos es más complejo debido a su naturaleza jerárquica y la forma en que los nodos están organizados en memoria (en este caso, en una lista). Sin embargo, puedo mostrarte cómo conceptualizarlo de manera simplificada. Para el árbol de segmentos generado a partir de tu ejemplo, donde `arr = [1, 2, 3, 4, 5]`, la representación en lista del árbol es la suma de segmentos del arreglo. Aquí hay una forma simplificada de ver la estructura del árbol:\n",
    "\n",
    "<pre>\n",
    "         [15]\n",
    "       /      \\\n",
    "     [3]      [12]\n",
    "    /   \\     /   \\\n",
    "  [1]   [2] [7]   [5]\n",
    "            / \\\n",
    "          [3] [4]\n",
    "</pre>\n",
    "\n",
    "- El nodo raíz `[15]` representa la suma total de todos los elementos de `arr`.\n",
    "- Cada nivel subsiguiente divide el arreglo en segmentos más pequeños, con nodos que representan la suma de esos segmentos.\n",
    "- Cada nodo muestra la suma del rango que representa. Este diseño permite realizar consultas y actualizaciones eficientes.\n",
    "- Las hojas del árbol `[1], [2], [3], [4], [5]` representan los elementos individuales de `arr`.\n",
    "\n",
    "Los árboles de segmento son una herramienta avanzada en estructuras de datos, ofreciendo soluciones eficientes a problemas que de otro modo requerirían enfoques menos eficientes y más complejos.\n",
    "\n",
    "## Ejercicios\n",
    "\n",
    "**Ejercicio 1: Consultas y Actualizaciones en un Árbol de Segmento**\n",
    "\n",
    "- **Objetivo**: Implementa consultas de suma de rango y actualizaciones en un árbol de segmento.\n",
    "- **Solución**:\n",
    "    - La implementación debe incluir métodos para actualizar un valor en el arreglo y para calcular la suma en un rango dado.\n",
    "    - Puedes seguir el esqueleto de la clase `SegmentTree` y añadir los métodos necesarios."
   ]
  },
  {
   "cell_type": "code",
   "execution_count": 2,
   "metadata": {},
   "outputs": [
    {
     "name": "stdout",
     "output_type": "stream",
     "text": [
      "32\n",
      "31\n"
     ]
    }
   ],
   "source": [
    "class SegmentTree:\n",
    "    def __init__(self, arr):\n",
    "        self.arr = arr\n",
    "        self.tree = [0] * (4 * len(arr))\n",
    "        self.build(1, 0, len(arr) - 1)\n",
    "\n",
    "    def build(self, node, left, right):\n",
    "        if left == right:\n",
    "            self.tree[node] = self.arr[left]\n",
    "            return\n",
    "\n",
    "        mid = (left + right) // 2\n",
    "        self.build(2 * node, left, mid)\n",
    "        self.build(2 * node + 1, mid + 1, right)\n",
    "        self.tree[node] = self.tree[2 * node] + self.tree[2 * node + 1]\n",
    "\n",
    "    def query(self, node, left, right, q_left, q_right):\n",
    "        if q_left > right or q_right < left:\n",
    "            return 0\n",
    "\n",
    "        if q_left <= left and q_right >= right:\n",
    "            return self.tree[node]\n",
    "\n",
    "        mid = (left + right) // 2\n",
    "        left_sum = self.query(2 * node, left, mid, q_left, q_right)\n",
    "        right_sum = self.query(2 * node + 1, mid + 1, right, q_left, q_right)\n",
    "\n",
    "        return left_sum + right_sum\n",
    "\n",
    "    def update(self, node, left, right, index, new_value):\n",
    "        if left == right:\n",
    "            self.arr[index] = new_value\n",
    "            self.tree[node] = new_value\n",
    "            return\n",
    "\n",
    "        mid = (left + right) // 2\n",
    "        if index <= mid:\n",
    "            self.update(2 * node, left, mid, index, new_value)\n",
    "        else:\n",
    "            self.update(2 * node + 1, mid + 1, right, index, new_value)\n",
    "\n",
    "        self.tree[node] = self.tree[2 * node] + self.tree[2 * node + 1]\n",
    "\n",
    "\n",
    "# Ejemplo de uso\n",
    "arr = [1, 3, 5, 7, 9, 11]\n",
    "seg_tree = SegmentTree(arr)\n",
    "# Consulta en el rango [2, 5] => Salida: 32\n",
    "print(seg_tree.query(1, 0, len(arr) - 1, 2, 5))\n",
    "seg_tree.update(1, 0, len(arr) - 1, 3, 6)  # Actualización en el índice 3 a 6\n",
    "# Consulta nuevamente => Salida: 34\n",
    "print(seg_tree.query(1, 0, len(arr) - 1, 2, 5))\n"
   ]
  }
 ],
 "metadata": {
  "kernelspec": {
   "display_name": "Python 3",
   "language": "python",
   "name": "python3"
  },
  "language_info": {
   "codemirror_mode": {
    "name": "ipython",
    "version": 3
   },
   "file_extension": ".py",
   "mimetype": "text/x-python",
   "name": "python",
   "nbconvert_exporter": "python",
   "pygments_lexer": "ipython3",
   "version": "3.8.10"
  }
 },
 "nbformat": 4,
 "nbformat_minor": 2
}
