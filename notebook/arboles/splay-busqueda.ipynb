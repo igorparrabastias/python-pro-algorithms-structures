{
 "cells": [
  {
   "cell_type": "markdown",
   "metadata": {},
   "source": [
    "# Búsqueda en Árboles Splay\n",
    "\n",
    "La operación de búsqueda en un árbol Splay es única comparada con otros árboles de búsqueda binaria debido a su característica de auto-ajuste. La búsqueda no solo implica encontrar un elemento en el árbol, sino que también reorganiza el árbol de tal manera que el nodo buscado se mueve a la raíz del árbol, aprovechando la operación de splay para optimizar accesos futuros.\n",
    "\n",
    "## Concepto de Búsqueda\n",
    "\n",
    "La búsqueda en un árbol Splay sigue estos pasos principales:\n",
    "\n",
    "1. **Búsqueda Estándar:** El proceso inicia como en cualquier árbol de búsqueda binaria, comparando el valor buscado con el valor del nodo actual para decidir si buscar en el subárbol izquierdo o derecho.\n",
    "\n",
    "2. **Operación de Splay:** Independientemente de si el elemento se encuentra o no, la operación de splay se ejecuta para el último nodo accedido antes de detener la búsqueda. Esto significa que este nodo se mueve a la raíz del árbol. Si el elemento se encuentra, es splayeado a la raíz. Si no se encuentra, el último nodo visitado (el más cercano al valor buscado) se splayea a la raíz.\n",
    "\n",
    "## Implementación en Python\n",
    "\n",
    "A continuación, se presenta cómo podría implementarse la búsqueda en un árbol Splay en Python, aprovechando la misma estructura de árbol y las operaciones de splay definidas previamente:\n",
    "\n",
    "\n",
    "Aquí te muestro cómo implementar este método en la clase [`SplayTree`](src/SplayTree.py): "
   ]
  },
  {
   "cell_type": "code",
   "execution_count": 16,
   "metadata": {},
   "outputs": [],
   "source": [
    "# Código utilitario\n",
    "from src.visualization import visualize_bt\n",
    "# ver src/SplayTree.py\n",
    "from src.SplayTree import SplayTree"
   ]
  },
  {
   "cell_type": "code",
   "execution_count": 17,
   "metadata": {},
   "outputs": [],
   "source": [
    "def search(self, data):\n",
    "    self.root = self.splay(self.root, data)\n",
    "    if self.root and self.root.data == data:\n",
    "        print(f\"Elemento {data} encontrado y splayeado a la raíz.\")\n",
    "        return True\n",
    "    else:\n",
    "        print(f\"Elemento {data} no encontrado. El nodo más cercano es splayeado a la raíz.\")\n",
    "        return False\n",
    "\n",
    "# Extender la clase SplayTree con el nuevo método\n",
    "SplayTree.search = search"
   ]
  },
  {
   "cell_type": "markdown",
   "metadata": {},
   "source": [
    "## Pruebas de Búsqueda\n",
    "\n",
    "Para probar la operación de búsqueda, puedes insertar varios elementos en el árbol y luego buscar tanto elementos que existan como algunos que no. Observa cómo después de cada búsqueda, el árbol se reorganiza, colocando el nodo buscado o el último nodo accedido en la búsqueda como la nueva raíz del árbol."
   ]
  },
  {
   "cell_type": "code",
   "execution_count": 18,
   "metadata": {},
   "outputs": [
    {
     "name": "stdout",
     "output_type": "stream",
     "text": [
      "Insertando dato 10 en el árbol\n",
      "Insertando dato 5 en el árbol\n",
      "Dato 5 insertado exitosamente\n",
      "Insertando dato 20 en el árbol\n",
      "Realizando rotación a la izquierda en el nodo con dato 5\n",
      "Dato 20 insertado exitosamente\n",
      "Insertando dato 9 en el árbol\n",
      "Realizando rotación a la derecha en el nodo con dato 20\n",
      "Realizando rotación a la derecha en el nodo con dato 10\n",
      "Dato 9 insertado exitosamente\n",
      "Insertando dato 18 en el árbol\n",
      "Realizando rotación a la izquierda en el nodo con dato 9\n",
      "Realizando rotación a la izquierda en el nodo con dato 10\n",
      "Dato 18 insertado exitosamente\n",
      "Insertando dato 3 en el árbol\n",
      "Realizando rotación a la derecha en el nodo con dato 9\n",
      "Realizando rotación a la derecha en el nodo con dato 18\n",
      "Realizando rotación a la derecha en el nodo con dato 10\n",
      "Dato 3 insertado exitosamente\n",
      "Insertando dato 7 en el árbol\n",
      "Realizando rotación a la derecha en el nodo con dato 10\n",
      "Realizando rotación a la izquierda en el nodo con dato 3\n",
      "Realizando rotación a la izquierda en el nodo con dato 5\n",
      "Dato 7 insertado exitosamente\n"
     ]
    }
   ],
   "source": [
    "# Insertar algunos elementos\n",
    "tree = SplayTree()\n",
    "for key in [10, 5, 20, 9, 18, 3, 7]:\n",
    "    tree.insert(key)"
   ]
  },
  {
   "cell_type": "code",
   "execution_count": 19,
   "metadata": {},
   "outputs": [
    {
     "name": "stdout",
     "output_type": "stream",
     "text": [
      "Realizando rotación a la izquierda en el nodo con dato 7\n",
      "Elemento 9 encontrado y splayeado a la raíz.\n"
     ]
    },
    {
     "data": {
      "text/plain": [
       "True"
      ]
     },
     "execution_count": 19,
     "metadata": {},
     "output_type": "execute_result"
    }
   ],
   "source": [
    "# Búsqueda de elementos\n",
    "tree.search(9)"
   ]
  },
  {
   "cell_type": "code",
   "execution_count": 20,
   "metadata": {},
   "outputs": [
    {
     "name": "stdout",
     "output_type": "stream",
     "text": [
      "Realizando rotación a la derecha en el nodo con dato 5\n",
      "Realizando rotación a la derecha en el nodo con dato 9\n",
      "Realizando rotación a la derecha en el nodo con dato 7\n",
      "Elemento 2 no encontrado. El nodo más cercano es splayeado a la raíz.\n"
     ]
    },
    {
     "data": {
      "text/plain": [
       "False"
      ]
     },
     "execution_count": 20,
     "metadata": {},
     "output_type": "execute_result"
    }
   ],
   "source": [
    "# Búsqueda de elementos\n",
    "tree.search(2)  # Este elemento no existe en el árbol"
   ]
  },
  {
   "cell_type": "markdown",
   "metadata": {},
   "source": [
    "\n",
    "## Complejidad del Algoritmo\n",
    "\n",
    "- **Complejidad de Tiempo:** La búsqueda en un árbol Splay tiene una complejidad de tiempo amortizada de O(log n), aunque en el peor caso puede ser O(n) para una operación individual, donde n es el número de nodos en el árbol.\n",
    "\n",
    "- **Complejidad de Espacio:** El espacio utilizado es O(1) para la operación de búsqueda en sí, más allá del espacio O(n) requerido para almacenar el árbol.\n",
    "\n",
    "## Ejercicios Prácticos\n",
    "\n",
    "1. Realiza una serie de búsquedas en tu árbol Splay implementado y visualiza cómo cambia la estructura del árbol después de cada búsqueda. Observa especialmente cómo los elementos buscados se mueven hacia la raíz.\n",
    "   \n",
    "2. Experimenta con la búsqueda de elementos que no existen en el árbol y nota cuál nodo termina siendo splayeado a la raíz. Reflexiona sobre cómo esto puede afectar el rendimiento de búsquedas futuras.\n",
    "\n",
    "Estos ejercicios te ayudarán a comprender mejor la dinámica de los árboles Splay y cómo la operación de búsqueda no solo encuentra elementos sino que optimiza el árbol para accesos futuros."
   ]
  }
 ],
 "metadata": {
  "kernelspec": {
   "display_name": "Python 3",
   "language": "python",
   "name": "python3"
  },
  "language_info": {
   "codemirror_mode": {
    "name": "ipython",
    "version": 3
   },
   "file_extension": ".py",
   "mimetype": "text/x-python",
   "name": "python",
   "nbconvert_exporter": "python",
   "pygments_lexer": "ipython3",
   "version": "3.8.10"
  }
 },
 "nbformat": 4,
 "nbformat_minor": 2
}
