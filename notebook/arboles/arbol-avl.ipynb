{
 "cells": [
  {
   "cell_type": "markdown",
   "metadata": {},
   "source": [
    "# Árboles AVL\n",
    "\n",
    "Los árboles AVL son una forma especializada de árboles binarios de búsqueda que mantienen un balance estricto después de cada operación de inserción o eliminación, garantizando que el árbol se mantenga lo más equilibrado posible. Esta característica hace que los árboles AVL sean muy eficientes para operaciones de búsqueda, inserción y eliminación, ya que minimizan la profundidad máxima del árbol. En esta clase, exploraremos los fundamentos de los árboles AVL, su balance y rotaciones, y cómo estas características contribuyen a su rendimiento.\n",
    "\n",
    "Los árboles AVL deben su nombre a sus inventores Adelson-Velsky y Landis. La clave para mantener la eficiencia de estos árboles es el balanceo, asegurando que para cada nodo, la altura de sus subárboles izquierdo y derecho difiere como máximo en uno. Esto se logra mediante operaciones específicas de rotación.\n",
    "\n",
    "### Balance y Altura:\n",
    "En un árbol AVL, el factor de balance de un nodo se define como la diferencia entre la altura de su subárbol derecho y la altura de su subárbol izquierdo. Matemáticamente, se expresa como `balance = altura(derecho) - altura(izquierdo)`. Para que un árbol sea considerado AVL, cada nodo debe tener un factor de balance de -1, 0 o +1.\n",
    "\n",
    "### Rotaciones para Mantener el Balance:\n",
    "Cuando las operaciones de inserción o eliminación desequilibran un árbol, se realizan rotaciones para restaurar el balance. Existen cuatro tipos principales de rotaciones:\n",
    "\n",
    "1. **Rotación simple a la derecha (LL):** Se utiliza cuando se añade un nodo al subárbol izquierdo del hijo izquierdo, causando un desbalance -2.\n",
    "2. **Rotación simple a la izquierda (RR):** Se aplica cuando se inserta un nodo en el subárbol derecho del hijo derecho, resultando en un desbalance +2.\n",
    "3. **Rotación doble izquierda-derecha (LR):** Necesaria cuando se inserta un nodo en el subárbol derecho del hijo izquierdo.\n",
    "4. **Rotación doble derecha-izquierda (RL):** Se realiza cuando un nodo se añade al subárbol izquierdo del hijo derecho.\n",
    "\n",
    "### Balance Dinámico:\n",
    "Una característica notable de los árboles AVL es su capacidad para autoequilibrarse después de cada inserción o eliminación. Este proceso dinámico de balance ayuda a mantener las operaciones en tiempo logarítmico, lo cual es crucial para la eficiencia de la estructura de datos."
   ]
  },
  {
   "cell_type": "markdown",
   "metadata": {},
   "source": [
    "## Un Enfoque en el Autoequilibrio y la Eficiencia\n",
    "\n",
    "### Árboles de Búsqueda Binario Autoequilibrados:\n",
    "Los árboles AVL, un tipo esencial de árboles de búsqueda binario, se destacan por su habilidad para autoequilibrarse. Cada nodo en un árbol AVL mantiene un control riguroso sobre la altura de sus subárboles, asegurando que la diferencia entre ellos no sea mayor a uno.\n",
    "\n",
    "### Concepto de Árbol Equilibrado:\n",
    "La definición de un árbol equilibrado es crucial: implica que para cualquier nodo, la disparidad en las alturas de sus subárboles izquierdo y derecho es, como máximo, de uno. Esta característica es vital para optimizar el rendimiento del árbol.\n",
    "\n",
    "### Altura en un Árbol AVL:\n",
    "La `altura` de un nodo se identifica como el trayecto más extenso desde dicho nodo hasta una hoja. La comprensión de cómo se calcula la altura es fundamental para entender y trabajar con árboles AVL.\n",
    "\n",
    "Visualización de la Altura en un Árbol Genérico:\n",
    "<pre>\n",
    "    Altura\n",
    "    3 |                [3] \n",
    "      |               /   \\\n",
    "    2 |             [1]   [2]\n",
    "      |               \\      \\\n",
    "    1 |               [0]    [1]\n",
    "      |                        \\\n",
    "    0 |                        [0 ]\n",
    "</pre>\n",
    "Este diagrama sirve para ilustrar la medición de alturas en un árbol, aunque el ejemplo específico no se ajusta a las reglas de un árbol AVL o BST.\n",
    "\n",
    "Ejemplo de un Árbol AVL:\n",
    "<pre>\n",
    "              ____________8______________\n",
    "            /                            \\\n",
    "         __4__                         __12__\n",
    "        /     \\                       /      \\\n",
    "       2       5                     9       13\n",
    "      / \\     / \\                   / \\      /  \n",
    "     1   3   0   6                 1  10   11  \n",
    "    /                                        \n",
    "   0                                        \n",
    "</pre>\n",
    "En este árbol AVL, cada nodo está diseñado para mantener el balance, facilitando operaciones eficientes.\n",
    "\n",
    "### Restauración del Balance mediante Rotaciones:\n",
    "Las operaciones de inserción o eliminación pueden alterar el equilibrio del árbol. Para corregir esto, se aplican rotaciones, que pueden ser simples o dobles, para restablecer la propiedad de balance.\n",
    "\n",
    "### Importancia de la Eficiencia:\n",
    "Mantener el árbol balanceado permite que las operaciones de búsqueda, inserción y eliminación se ejecuten en tiempo logarítmico O(log n), optimizando significativamente el rendimiento en comparación con estructuras desequilibradas.\n",
    "\n",
    "Comparación con Estructuras Desequilibradas:\n",
    "<pre>\n",
    "[N]\n",
    "  \\\n",
    "  [N]\n",
    "    \\\n",
    "    [N]\n",
    "      \\\n",
    "      [N]\n",
    "        \\\n",
    "        [N]\n",
    "</pre>\n",
    "Este esquema ilustra un árbol gravemente desequilibrado, similar a una lista enlazada. La ausencia de balance en esta estructura subraya la necesidad y eficacia de los árboles AVL para evitar tales degeneraciones y asegurar una operación eficiente."
   ]
  },
  {
   "cell_type": "markdown",
   "metadata": {},
   "source": [
    "\n",
    "## Conclusión:\n",
    "Los árboles AVL son fundamentales en el campo de las estructuras de datos debido a su capacidad para mantenerse balanceados, lo que garantiza tiempos de operación óptimos. Al asegurar que la profundidad del árbol permanezca logarítmica, los árboles AVL ofrecen una solución robusta y eficiente para muchos problemas de almacenamiento y búsqueda de datos. En la próxima clase, profundizaremos en la implementación de árboles AVL, abordando cómo se llevan a cabo las inserciones, eliminaciones y, en particular, las rotaciones para mantener el árbol balanceado."
   ]
  }
 ],
 "metadata": {
  "language_info": {
   "name": "python"
  }
 },
 "nbformat": 4,
 "nbformat_minor": 2
}
