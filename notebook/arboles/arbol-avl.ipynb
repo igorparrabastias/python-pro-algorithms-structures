{
 "cells": [
  {
   "cell_type": "markdown",
   "metadata": {},
   "source": [
    "# Árboles AVL\n",
    "\n",
    "- Un árbol AVL es un tipo de árbol de búsqueda binario autoequilibrado.\n",
    "- Arbol equilibrado: Un árbol equilibrado es aquel en el cual la diferencia de alturas entre los subárboles izquierdo y derecho de cualquier nodo no es más de uno. \n",
    "- Altura: La `altura` de un nodo en un árbol AVL, que es un tipo de árbol de búsqueda binario, se define como la longitud del camino más largo desde ese nodo hasta una hoja.\n",
    "\n",
    "En este árbol vemos las alturas como valor de cada nodo. No es AVL ni ABB, sólo es para poder reconocer como se miden las alturas:\n",
    "<pre>\n",
    "        Altura\n",
    "        3 |                [3] \n",
    "          |               /   \\\n",
    "        2 |             [1]   [2]\n",
    "          |               \\      \\\n",
    "        1 |               [0]    [1]\n",
    "          |                        \\\n",
    "        0 |                        [0 ]\n",
    "\n",
    "</pre>\n",
    "\n",
    "Este sí es un árbol AVL:\n",
    "<pre>\n",
    "                  ____________8______________\n",
    "                /                            \\\n",
    "             __4__                         __12__\n",
    "            /     \\                       /      \\\n",
    "           2       5                     9       13\n",
    "          / \\     / \\                   / \\      /  \n",
    "         1   3   0   6                 1  10   11  \n",
    "        /                                        \n",
    "       0                                        \n",
    "\n",
    "</pre>\n",
    "\n",
    "- Cuando las inserciones o eliminaciones de nodos provocan que esta propiedad se rompa, se realizan rotaciones para restaurar el balance. Estas rotaciones pueden ser simples (izquierda o derecha) o dobles (izquierda-derecha o derecha-izquierda).\n",
    "- El propósito de mantener el árbol equilibrado es asegurar que las operaciones de búsqueda, inserción y eliminación puedan realizarse en tiempo logarítmico O(log n), lo que hace que el árbol AVL sea eficiente para las estructuras de datos que requieren frecuentes operaciones de búsqueda y actualización.\n",
    "- En un árbol AVL, la propiedad de equilibrio se mantiene asegurándose de que la altura de los dos hijos de cualquier nodo no difiera en más de uno. Esto es crucial para mantener las operaciones del árbol eficientes, ya que un árbol desequilibrado puede degenerar en una estructura similar a una lista enlazada, lo que resultaría en operaciones con un tiempo de ejecución de O(n) en lugar de O(log n).\n",
    "\n",
    "<pre>\n",
    "    [N]\n",
    "      \\\n",
    "      [N]\n",
    "        \\\n",
    "        [N]\n",
    "          \\\n",
    "          [N]\n",
    "            \\\n",
    "            [N]\n",
    "</pre>\n",
    "- En este diagrama, cada [N] representa un nodo del árbol. Como puedes ver, debido al desequilibrio, todos los nodos están alineados en una sola dirección (en este caso, hacia la derecha), formando una estructura que se asemeja más a una lista enlazada que a un árbol binario balanceado. Este tipo de estructura es lo que los árboles balanceados, como los árboles AVL, buscan evitar para mantener operaciones eficientes."
   ]
  }
 ],
 "metadata": {
  "language_info": {
   "name": "python"
  }
 },
 "nbformat": 4,
 "nbformat_minor": 2
}
