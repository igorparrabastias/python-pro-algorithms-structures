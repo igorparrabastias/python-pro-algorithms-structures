{
 "cells": [
  {
   "cell_type": "markdown",
   "metadata": {},
   "source": [
    "# `is_tree` en Estructuras de Datos\n",
    "\n",
    "El método `is_tree` se emplea para determinar si una estructura de datos dada satisface los criterios específicos que definen a un árbol. Para que una estructura se considere un árbol, debe cumplir con las condiciones esenciales siguientes:\n",
    "\n",
    "1. **Ausencia de ciclos**: Un árbol no debe contener ciclos, lo que implica que no puede haber un camino que parta de un nodo y regrese a él mismo.\n",
    "2. **Conectividad**: Un árbol debe ser conexo, lo que significa que cada par de nodos debe estar conectado por exactamente un camino. Esto garantiza que todos los nodos sean accesibles entre sí y subraya la integridad estructural del árbol.\n",
    "3. **Relación parental única**: Con la excepción de la raíz, cada nodo debe estar conectado a exactamente un nodo precedente o padre.\n",
    "\n",
    "Estas reglas son intrínsecas en la definición de **árboles binarios**, donde cada nodo tiene a lo sumo dos descendientes y una clara estructura jerárquica. No obstante, cuando nos referimos a grafos o estructuras de datos más complejas y generales, verificar estas propiedades es crucial, ya que no están inherentemente aseguradas. El método `is_tree` resulta esencial en tales contextos para confirmar si la estructura cumple con la naturaleza conectiva y acíclica de un árbol, junto con la singularidad en las conexiones parentales, diferenciando así los árboles de otros tipos de grafos.\n",
    "\n",
    "## Implementación en Python de `is_tree`\n",
    "\n",
    "Para implementar `is_tree`, necesitamos realizar un recorrido por el grafo y verificar que se cumplen las condiciones mencionadas. A continuación, se muestra cómo podríamos implementarlo para un grafo representado como un diccionario de listas de adyacencia:\n"
   ]
  },
  {
   "cell_type": "code",
   "execution_count": 18,
   "metadata": {},
   "outputs": [
    {
     "name": "stdout",
     "output_type": "stream",
     "text": [
      "El grafo es un árbol: True\n"
     ]
    }
   ],
   "source": [
    "def is_tree(graph):\n",
    "    # Inicializa un conjunto de nodos visitados.\n",
    "    visited = set()\n",
    "\n",
    "    # Función interna para determinar si no hay ciclos en el grafo.\n",
    "    def has_no_cycles(node, parent):\n",
    "        # Marca el nodo actual como visitado.\n",
    "        visited.add(node)\n",
    "        # Itera sobre los vecinos del nodo.\n",
    "        for neighbor in graph.get(node, []):\n",
    "            # Si el vecino no ha sido visitado, realiza una llamada recursiva.\n",
    "            if neighbor not in visited:\n",
    "                if not has_no_cycles(neighbor, node):\n",
    "                    return False\n",
    "            # Si el vecino ya fue visitado y no es el padre, hay un ciclo.\n",
    "            elif parent != neighbor:\n",
    "                return False\n",
    "        return True\n",
    "\n",
    "    # Verifica si el grafo es conexo y acíclico.\n",
    "    root_nodes = 0\n",
    "    for node in graph:\n",
    "        if node not in visited:\n",
    "            if not has_no_cycles(node, None):\n",
    "                return False\n",
    "            root_nodes += 1\n",
    "\n",
    "    # Debe haber exactamente un nodo raíz (sin padres) para que sea un árbol.\n",
    "    return root_nodes == 1\n",
    "\n",
    "\n",
    "\n",
    "# Ejemplo de uso\n",
    "graph = {\n",
    "    0: [1, 2],\n",
    "    1: [0, 3],\n",
    "    2: [0],\n",
    "    3: [1]\n",
    "}\n",
    "\n",
    "print(\"El grafo es un árbol:\", is_tree(graph))"
   ]
  },
  {
   "cell_type": "markdown",
   "metadata": {},
   "source": [
    "## Pruebas `is_tree`\n",
    "\n",
    "Podemos probar `is_tree` con diferentes grafos para asegurarnos de que identifica correctamente los árboles y las estructuras que no lo son.\n"
   ]
  },
  {
   "cell_type": "code",
   "execution_count": 19,
   "metadata": {},
   "outputs": [
    {
     "name": "stdout",
     "output_type": "stream",
     "text": [
      "tree_graph es un árbol: True\n",
      "non_tree_graph es un árbol: False\n"
     ]
    }
   ],
   "source": [
    "# Grafo que sí es un árbol\n",
    "#      0\n",
    "#     / \\\n",
    "#    1   2\n",
    "#       / \\\n",
    "#      3   4\n",
    "tree_graph = {\n",
    "    0: [1, 2],\n",
    "    1: [],\n",
    "    2: [3, 4],\n",
    "    3: [],\n",
    "    4: []\n",
    "}\n",
    "\n",
    "# Grafo que no es un árbol (tiene un ciclo)\n",
    "#    0\n",
    "#  /   \\\n",
    "# 1 --- 2\n",
    "non_tree_graph = {\n",
    "    0: [1, 2],\n",
    "    1: [0, 2],\n",
    "    2: [0, 1]\n",
    "}\n",
    "\n",
    "print(\"tree_graph es un árbol:\", is_tree(tree_graph))\n",
    "print(\"non_tree_graph es un árbol:\", is_tree(non_tree_graph))"
   ]
  },
  {
   "cell_type": "markdown",
   "metadata": {},
   "source": [
    "## Complejidad del Algoritmo\n",
    "\n",
    "La complejidad temporal de `is_tree` es O(V + E), donde V es el número de vértices (nodos) y E el número de aristas (edges) en el grafo. Esto se debe a que cada vértice y cada arista se visita una vez en el peor caso.\n",
    "\n",
    "La complejidad espacial es O(V) debido al almacenamiento del conjunto `visited` y a la pila de llamadas de la recursión, que en el peor caso podría almacenar todos los vértices si el árbol (o grafo) es muy profundo.\n",
    "\n",
    "## Ejercicios Prácticos\n",
    "\n",
    "1. Modifica la función `is_tree` para que funcione con grafos dirigidos, teniendo en cuenta que en un árbol dirigido, cada nodo excepto la raíz debe tener exactamente una arista entrante.\n",
    "2. Escribe un programa que identifique si una lista de aristas dada forma un árbol o no, sin convertir las aristas en una estructura de grafo explícita.\n",
    "\n",
    "## Soluciones a los Ejercicios\n",
    "\n",
    "### Ejercicio 1: Modificación para Grafos Dirigidos\n",
    "\n",
    "Para adaptar la función `is_tree` a grafos dirigidos, necesitas modificar la manera en que se cuentan las aristas entrantes de cada nodo. En un árbol dirigido, todos los nodos excepto la raíz deben tener exactamente una arista entrante. Aquí está el enfoque modificado:"
   ]
  },
  {
   "cell_type": "code",
   "execution_count": 20,
   "metadata": {},
   "outputs": [
    {
     "name": "stdout",
     "output_type": "stream",
     "text": [
      "True\n"
     ]
    }
   ],
   "source": [
    "# Importamos la clase defaultdict desde collections para poder inicializar\n",
    "# diccionarios con valores por defecto\n",
    "from collections import defaultdict\n",
    "\n",
    "# Definimos la función is_directed_tree que determinará si una lista de aristas\n",
    "# representa un árbol dirigido\n",
    "def is_directed_tree(edges):\n",
    "\n",
    "    # Inicializamos los diccionarios para las aristas entrantes y salientes de\n",
    "    # cada nodo\n",
    "    in_degree = defaultdict(int)\n",
    "    out_degree = defaultdict(int)\n",
    "    # Declaramos un conjunto para mantener los nodos únicos que aparecen en el\n",
    "    # grafo\n",
    "    nodes = set()\n",
    "\n",
    "    # Iteramos sobre cada pareja de nodos (arista) en la lista de aristas\n",
    "    for src, dest in edges:\n",
    "        # Aumentamos el contador de aristas entrantes para el nodo destino\n",
    "        in_degree[dest] += 1\n",
    "        # Aumentamos el contador de aristas salientes para el nodo origen\n",
    "        out_degree[src] += 1\n",
    "        # Añadimos tanto el nodo origen como el nodo destino al conjunto de\n",
    "        # nodos\n",
    "        nodes.add(src)\n",
    "        nodes.add(dest)\n",
    "\n",
    "    # Buscamos nodos que no tienen aristas entrantes, lo cual podría indicar un\n",
    "    # posible nodo raíz\n",
    "    root_nodes = [node for node in nodes if in_degree[node] == 0]\n",
    "\n",
    "    # Nos aseguramos de que solo haya un único nodo raíz y que no tenga aristas\n",
    "    # entrantes\n",
    "    if len(root_nodes) != 1:\n",
    "        return False  # No es un árbol dirigido si existe más de un nodo raíz o ninguno\n",
    "\n",
    "    # Si hay un único nodo raíz, almacenamos ese nodo en la variable 'root'\n",
    "    root = root_nodes[0]\n",
    "\n",
    "    # Comprobamos que todos los nodos, exceptuando el nodo raíz, tengan\n",
    "    # exactamente una arista entrante Esto nos ayudará a verificar si cumplen la\n",
    "    # propiedad de tener un único padre en el árbol\n",
    "    return all(degree == 1 for node, degree in in_degree.items() if node != root)\n",
    "\n",
    "\n",
    "# Ejemplo de uso\n",
    "edges = [(1, 2), (1, 3), (2, 4), (3, 5)]\n",
    "# Debería devolver True o False dependiendo de la estructura\n",
    "print(is_directed_tree(edges))\n"
   ]
  },
  {
   "cell_type": "markdown",
   "metadata": {},
   "source": [
    "\n",
    "### Ejercicio 2: Identificación sin Estructura de Grafo\n",
    "\n",
    "Para verificar si una lista de aristas forma un árbol sin construir una estructura de grafo, puedes seguir la lógica de contar las aristas entrantes y asegurarte de que no hay ciclos. Esto significa que cada nodo, excepto la raíz, debe aparecer exactamente una vez como destino, y no debe haber destinos repetidos:"
   ]
  },
  {
   "cell_type": "code",
   "execution_count": 21,
   "metadata": {},
   "outputs": [
    {
     "name": "stdout",
     "output_type": "stream",
     "text": [
      "True\n"
     ]
    }
   ],
   "source": [
    "# Importamos Counter de collections para contar frecuencias de elementos\n",
    "from collections import Counter\n",
    "\n",
    "# Definimos la función is_tree_from_edges que comprueba si las aristas dadas\n",
    "# forman un árbol\n",
    "def is_tree_from_edges(edges):\n",
    "\n",
    "    # Contamos todas las apariciones de nodos como destino en las aristas, lo\n",
    "    # cual son las aristas entrantes\n",
    "    destination_counts = Counter(dest for _, dest in edges)\n",
    "\n",
    "    # Creamos un conjunto de nodos únicos a partir de las aristas\n",
    "    unique_nodes = set(sum(edges, ()))\n",
    "\n",
    "    # Calculamos el número de nodos raíz, los cuales no aparecen como destino en\n",
    "    # ninguna arista\n",
    "    root_nodes = len(unique_nodes) - len(destination_counts)\n",
    "\n",
    "    # Comprobamos que haya exactamente un nodo raíz y que cada uno de los demás\n",
    "    # nodos tenga una sola arista entrante\n",
    "    return root_nodes == 1 and all(count == 1 for count in destination_counts.values())\n",
    "\n",
    "\n",
    "# Ejemplo de uso\n",
    "edges = [(1, 2), (1, 3), (2, 4), (3, 5)]\n",
    "print(is_tree_from_edges(edges))  # Debería devolver True o False"
   ]
  },
  {
   "cell_type": "markdown",
   "metadata": {},
   "source": [
    "Estos ejercicios permiten comprender mejor cómo se puede evaluar la estructura de un árbol, tanto en su representación explícita como a través de sus aristas, aplicando conceptos fundamentales de teoría de grafos.\n"
   ]
  }
 ],
 "metadata": {
  "kernelspec": {
   "display_name": "Python 3",
   "language": "python",
   "name": "python3"
  },
  "language_info": {
   "codemirror_mode": {
    "name": "ipython",
    "version": 3
   },
   "file_extension": ".py",
   "mimetype": "text/x-python",
   "name": "python",
   "nbconvert_exporter": "python",
   "pygments_lexer": "ipython3",
   "version": "3.8.10"
  }
 },
 "nbformat": 4,
 "nbformat_minor": 2
}
