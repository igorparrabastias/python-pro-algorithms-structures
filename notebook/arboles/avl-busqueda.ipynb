{
 "cells": [
  {
   "cell_type": "markdown",
   "metadata": {},
   "source": [
    "# Búsqueda en Árboles AVL\n",
    "\n",
    "Los árboles AVL, una categoría de árboles binarios de búsqueda (BST), destacan por mantener un balance estricto en su estructura, lo que garantiza que las operaciones fundamentales, como la inserción, eliminación y búsqueda, se realicen en tiempo logarítmico, O(log n). Este comportamiento es crucial para entender la eficiencia inherente de la búsqueda en árboles AVL, diferenciándola significativamente del rendimiento que se podría esperar en BSTs no balanceados.\n",
    "\n",
    "- **Proceso de Búsqueda en AVL:**\n",
    "  - La búsqueda comienza en la raíz del árbol.\n",
    "  - En cada paso, el valor buscado se compara con el valor del nodo actual.\n",
    "    - Si el valor buscado es menor que el del nodo actual, la búsqueda continúa en el subárbol izquierdo.\n",
    "    - Si el valor buscado es mayor, se procede con el subárbol derecho.\n",
    "    - Si se encuentra una coincidencia, la búsqueda termina exitosamente.\n",
    "  - El proceso continúa recursivamente hasta que se encuentra el valor o se alcanza un nodo hoja, indicando que el valor no está presente en el árbol.\n",
    "\n",
    "- **Eficiencia de la Búsqueda:**\n",
    "  - La altura de un árbol AVL está siempre en el orden de O(log n), donde n es el número de nodos en el árbol. Esto garantiza que la búsqueda tenga una complejidad temporal de O(log n).\n",
    "  - En contraste, un BST no balanceado puede degenerar a una lista enlazada en el peor caso, donde la búsqueda tendría una complejidad de O(n).\n",
    "\n",
    "- **Ejemplo Ilustrativo:**\n",
    "  Imagina un árbol AVL con los siguientes valores: 30, 20, 40, 10, 25, 35, 50. Si deseamos buscar el valor 25:\n",
    "  1. Comenzamos en la raíz (30).\n",
    "  2. Como 25 es menor que 30, continuamos la búsqueda en el subárbol izquierdo.\n",
    "  3. Llegamos al nodo con valor 20. 25 es mayor que 20, así que nos movemos al subárbol derecho de este nodo.\n",
    "  4. Encontramos el nodo con valor 25, completando la búsqueda exitosamente.\n",
    "\n",
    "- **Ventajas de la Búsqueda en AVL:**\n",
    "  - **Rendimiento garantizado:** El balanceo de los árboles AVL asegura que las búsquedas sean rápidas y predecibles, un aspecto crucial para aplicaciones donde el tiempo de respuesta es crítico.\n",
    "  - **Robustez:** A diferencia de los BSTs comunes, donde el rendimiento puede variar ampliamente dependiendo de la secuencia de inserción y eliminación, los árboles AVL ofrecen una consistencia en el rendimiento de búsqueda.\n",
    "  - **Aplicaciones:** Esta eficiencia hace que los árboles AVL sean idóneos para estructuras de datos que requieren no solo inserciones y eliminaciones frecuentes, sino también búsquedas rápidas, como en bases de datos y sistemas de indexación.\n",
    "\n",
    "En resumen, la búsqueda en árboles AVL no solo hereda la eficiencia y simplicidad conceptual de la búsqueda en BSTs, sino que también la optimiza al evitar los casos peores, asegurando así un rendimiento óptimo y"
   ]
  },
  {
   "cell_type": "markdown",
   "metadata": {},
   "source": [
    "# Comparación de Búsqueda entre BST y AVL\n",
    "\n",
    "Para ilustrar la diferencia en la rapidez entre un árbol binario de búsqueda (BST) no balanceado y un árbol AVL, podemos considerar un ejemplo donde ambos árboles contienen una gran cantidad de nodos, pero el BST se ha degenerado en una estructura lineal (lo peor posible), mientras que el AVL mantiene su estructura balanceada.\n",
    "\n",
    "## Ejemplo Conceptual\n",
    "\n",
    "Supongamos que insertamos números en un orden creciente tanto en un BST como en un árbol AVL. En el caso del BST, esto resultará en un árbol degenerado que se asemeja a una lista enlazada. Por otro lado, el árbol AVL se reajustará a sí mismo para mantener el equilibrio.\n",
    "\n",
    "### Árbol BST Degenerado:\n",
    "\n",
    "Imagina que insertamos secuencialmente los números del 1 al 1,000,000 en un BST. Si los insertamos en orden ascendente, el árbol se vería así:\n",
    "\n",
    "<pre>\n",
    "1\n",
    " \\\n",
    "  2\n",
    "   \\\n",
    "    3\n",
    "     \\\n",
    "      ...\n",
    "         \\\n",
    "        999999\n",
    "           \\\n",
    "          1000000\n",
    "</pre>\n",
    "\n",
    "La búsqueda de \"1000000\" requeriría un millón de comparaciones, lo que equivale a una complejidad de búsqueda O(n).\n",
    "\n",
    "### Árbol AVL Balanceado:\n",
    "\n",
    "Al insertar los mismos números en un árbol AVL, el árbol se auto-balancearía para asegurar que la altura se mantenga alrededor de \\(O(\\log n)\\). La estructura sería mucho más compacta y profundamente balanceada comparada con la versión lineal del BST.\n",
    "\n",
    "En el árbol AVL, la búsqueda del número \"1000000\" se realizaría en O(log n) pasos, que serían aproximadamente 20 comparaciones para n = 1,000,000 (ya que log_2(1,000,000) approx 20).\n",
    "\n",
    "## Comparación Temporal\n",
    "\n",
    "- **BST Degenerado:** En un hardware típico, si cada comparación tomara 1 microsegundo, buscar en el BST degenerado tomaría aproximadamente 1,000,000 microsegundos, es decir, 1 segundo.\n",
    "  \n",
    "- **Árbol AVL:** Bajo las mismas condiciones, una búsqueda en el árbol AVL requeriría alrededor de 20 microsegundos.\n",
    "\n",
    "Mientras que un segundo puede no parecer mucho, la diferencia se vuelve más dramática con operaciones más complejas o bases de datos más grandes. En escenarios de tiempo real o con datasets más grandes, la diferencia de rendimiento entre ambos podría ser la comparación entre segundos y minutos o incluso horas, subrayando la importancia del balanceo en estructuras de datos grandes y en operaciones críticas.\n",
    "\n",
    "Este ejemplo conceptual muestra cómo la eficiencia puede variar dramáticamente entre un BST no balanceado y un árbol AVL, destacando la importancia del balanceo para asegurar tiempos de búsqueda rápidos y predecibles."
   ]
  },
  {
   "cell_type": "markdown",
   "metadata": {},
   "source": [
    "## Ejemplo en Python\n",
    "\n",
    " Construyamos un BST degenerado y un árbol AVL con los mismos elementos y luego compararemos los tiempos de búsqueda en ambos.\n",
    "\n",
    "Aquí tienes un script de ejemplo que puedes ejecutar en Python para comparar los tiempos de búsqueda:"
   ]
  },
  {
   "cell_type": "code",
   "execution_count": 2,
   "metadata": {},
   "outputs": [],
   "source": [
    "# Código utilitario\n",
    "from src.visualization import visualize_bt\n",
    "# ver src/AVLTree.py\n",
    "from src.AVLTree import AVLTree\n",
    "# ver src/BinaryTree.py\n",
    "from src.BST import BST"
   ]
  },
  {
   "cell_type": "code",
   "execution_count": 3,
   "metadata": {},
   "outputs": [
    {
     "ename": "RecursionError",
     "evalue": "maximum recursion depth exceeded",
     "output_type": "error",
     "traceback": [
      "\u001b[0;31m---------------------------------------------------------------------------\u001b[0m",
      "\u001b[0;31mRecursionError\u001b[0m                            Traceback (most recent call last)",
      "Cell \u001b[0;32mIn[3], line 11\u001b[0m\n\u001b[1;32m      9\u001b[0m tree \u001b[38;5;241m=\u001b[39m BST()\n\u001b[1;32m     10\u001b[0m \u001b[38;5;28;01mfor\u001b[39;00m i \u001b[38;5;129;01min\u001b[39;00m \u001b[38;5;28mrange\u001b[39m(n):\n\u001b[0;32m---> 11\u001b[0m     root \u001b[38;5;241m=\u001b[39m \u001b[43mtree\u001b[49m\u001b[38;5;241;43m.\u001b[39;49m\u001b[43minsert\u001b[49m\u001b[43m(\u001b[49m\u001b[43mi\u001b[49m\u001b[43m)\u001b[49m\n\u001b[1;32m     13\u001b[0m \u001b[38;5;66;03m# Visualizar el árbol BST\u001b[39;00m\n\u001b[1;32m     14\u001b[0m dot \u001b[38;5;241m=\u001b[39m visualize_bt(tree)\n",
      "File \u001b[0;32m~/Teaching/tic-cursos-apuntes/notebook/arboles/src/BST.py:22\u001b[0m, in \u001b[0;36mBST.insert\u001b[0;34m(self, data)\u001b[0m\n\u001b[1;32m     19\u001b[0m     \u001b[38;5;28mself\u001b[39m\u001b[38;5;241m.\u001b[39mroot \u001b[38;5;241m=\u001b[39m Node(data)\n\u001b[1;32m     20\u001b[0m \u001b[38;5;28;01melse\u001b[39;00m:\n\u001b[1;32m     21\u001b[0m     \u001b[38;5;66;03m# De lo contrario, se llama al método recursivo para insertar en la posición adecuada\u001b[39;00m\n\u001b[0;32m---> 22\u001b[0m     \u001b[38;5;28;43mself\u001b[39;49m\u001b[38;5;241;43m.\u001b[39;49m\u001b[43m_insert_recursive\u001b[49m\u001b[43m(\u001b[49m\u001b[38;5;28;43mself\u001b[39;49m\u001b[38;5;241;43m.\u001b[39;49m\u001b[43mroot\u001b[49m\u001b[43m,\u001b[49m\u001b[43m \u001b[49m\u001b[43mdata\u001b[49m\u001b[43m)\u001b[49m\n",
      "File \u001b[0;32m~/Teaching/tic-cursos-apuntes/notebook/arboles/src/BST.py:37\u001b[0m, in \u001b[0;36mBST._insert_recursive\u001b[0;34m(self, current_node, data)\u001b[0m\n\u001b[1;32m     34\u001b[0m     current_node\u001b[38;5;241m.\u001b[39mright \u001b[38;5;241m=\u001b[39m Node(data)\n\u001b[1;32m     35\u001b[0m \u001b[38;5;28;01melse\u001b[39;00m:\n\u001b[1;32m     36\u001b[0m     \u001b[38;5;66;03m# En caso contrario, hacer una llamada recursiva hacia la derecha\u001b[39;00m\n\u001b[0;32m---> 37\u001b[0m     \u001b[38;5;28;43mself\u001b[39;49m\u001b[38;5;241;43m.\u001b[39;49m\u001b[43m_insert_recursive\u001b[49m\u001b[43m(\u001b[49m\u001b[43mcurrent_node\u001b[49m\u001b[38;5;241;43m.\u001b[39;49m\u001b[43mright\u001b[49m\u001b[43m,\u001b[49m\u001b[43m \u001b[49m\u001b[43mdata\u001b[49m\u001b[43m)\u001b[49m\n",
      "File \u001b[0;32m~/Teaching/tic-cursos-apuntes/notebook/arboles/src/BST.py:37\u001b[0m, in \u001b[0;36mBST._insert_recursive\u001b[0;34m(self, current_node, data)\u001b[0m\n\u001b[1;32m     34\u001b[0m     current_node\u001b[38;5;241m.\u001b[39mright \u001b[38;5;241m=\u001b[39m Node(data)\n\u001b[1;32m     35\u001b[0m \u001b[38;5;28;01melse\u001b[39;00m:\n\u001b[1;32m     36\u001b[0m     \u001b[38;5;66;03m# En caso contrario, hacer una llamada recursiva hacia la derecha\u001b[39;00m\n\u001b[0;32m---> 37\u001b[0m     \u001b[38;5;28;43mself\u001b[39;49m\u001b[38;5;241;43m.\u001b[39;49m\u001b[43m_insert_recursive\u001b[49m\u001b[43m(\u001b[49m\u001b[43mcurrent_node\u001b[49m\u001b[38;5;241;43m.\u001b[39;49m\u001b[43mright\u001b[49m\u001b[43m,\u001b[49m\u001b[43m \u001b[49m\u001b[43mdata\u001b[49m\u001b[43m)\u001b[49m\n",
      "    \u001b[0;31m[... skipping similar frames: BST._insert_recursive at line 37 (2967 times)]\u001b[0m\n",
      "File \u001b[0;32m~/Teaching/tic-cursos-apuntes/notebook/arboles/src/BST.py:37\u001b[0m, in \u001b[0;36mBST._insert_recursive\u001b[0;34m(self, current_node, data)\u001b[0m\n\u001b[1;32m     34\u001b[0m     current_node\u001b[38;5;241m.\u001b[39mright \u001b[38;5;241m=\u001b[39m Node(data)\n\u001b[1;32m     35\u001b[0m \u001b[38;5;28;01melse\u001b[39;00m:\n\u001b[1;32m     36\u001b[0m     \u001b[38;5;66;03m# En caso contrario, hacer una llamada recursiva hacia la derecha\u001b[39;00m\n\u001b[0;32m---> 37\u001b[0m     \u001b[38;5;28;43mself\u001b[39;49m\u001b[38;5;241;43m.\u001b[39;49m\u001b[43m_insert_recursive\u001b[49m\u001b[43m(\u001b[49m\u001b[43mcurrent_node\u001b[49m\u001b[38;5;241;43m.\u001b[39;49m\u001b[43mright\u001b[49m\u001b[43m,\u001b[49m\u001b[43m \u001b[49m\u001b[43mdata\u001b[49m\u001b[43m)\u001b[49m\n",
      "File \u001b[0;32m~/Teaching/tic-cursos-apuntes/notebook/arboles/src/BST.py:34\u001b[0m, in \u001b[0;36mBST._insert_recursive\u001b[0;34m(self, current_node, data)\u001b[0m\n\u001b[1;32m     32\u001b[0m \u001b[38;5;28;01melse\u001b[39;00m:  \u001b[38;5;66;03m# Si la data es mayor o igual que la del nodo actual\u001b[39;00m\n\u001b[1;32m     33\u001b[0m     \u001b[38;5;28;01mif\u001b[39;00m current_node\u001b[38;5;241m.\u001b[39mright \u001b[38;5;129;01mis\u001b[39;00m \u001b[38;5;28;01mNone\u001b[39;00m:  \u001b[38;5;66;03m# Si no hay nodo derecho, inserta aquí\u001b[39;00m\n\u001b[0;32m---> 34\u001b[0m         current_node\u001b[38;5;241m.\u001b[39mright \u001b[38;5;241m=\u001b[39m \u001b[43mNode\u001b[49m\u001b[43m(\u001b[49m\u001b[43mdata\u001b[49m\u001b[43m)\u001b[49m\n\u001b[1;32m     35\u001b[0m     \u001b[38;5;28;01melse\u001b[39;00m:\n\u001b[1;32m     36\u001b[0m         \u001b[38;5;66;03m# En caso contrario, hacer una llamada recursiva hacia la derecha\u001b[39;00m\n\u001b[1;32m     37\u001b[0m         \u001b[38;5;28mself\u001b[39m\u001b[38;5;241m.\u001b[39m_insert_recursive(current_node\u001b[38;5;241m.\u001b[39mright, data)\n",
      "\u001b[0;31mRecursionError\u001b[0m: maximum recursion depth exceeded"
     ]
    }
   ],
   "source": [
    "import time\n",
    "\n",
    "# Crear BST y AVL con los mismos elementos\n",
    "n = 100  # Puedes ajustar este valor según la capacidad de tu máquina.\n",
    "bst_root = None\n",
    "avl_tree = AVLTree()\n",
    "\n",
    "# Crear un árbol BST y realizar inserciones\n",
    "tree = BST()\n",
    "for i in range(n):\n",
    "    root = tree.insert(i)\n",
    "\n",
    "# Visualizar el árbol BST\n",
    "dot = visualize_bt(tree)\n",
    "print(\"BST\")\n",
    "display(dot)\n",
    "\n",
    "# Crear un árbol AVL e insertar elementos\n",
    "avl_tree = AVLTree()\n",
    "for i in range(n):\n",
    "    root = avl_tree.insert(i)\n",
    "\n",
    "# Visualizar el árbol AVL\n",
    "dot = visualize_bt(avl_tree)\n",
    "print\n",
    "display(dot)\n",
    "\n",
    "# # Medir tiempos de búsqueda\n",
    "# key_to_search = n - 1  # Peor caso para BST\n",
    "\n",
    "# # Búsqueda en BST\n",
    "# start_time = time.time()\n",
    "# search(bst_root, key_to_search)\n",
    "# bst_duration = time.time() - start_time\n",
    "\n",
    "# # Búsqueda en AVL\n",
    "# start_time = time.time()\n",
    "# avl_tree.search(avl_tree.root, key_to_search)  # Asumiendo que AVLTree tiene un método de búsqueda.\n",
    "# avl_duration = time.time() - start_time\n",
    "\n",
    "# print(f\"Tiempo de búsqueda en BST: {bst_duration} segundos.\")\n",
    "# print(f\"Tiempo de búsqueda en AVL: {avl_duration} segundos.\")"
   ]
  },
  {
   "cell_type": "markdown",
   "metadata": {},
   "source": [
    "Este script compara el tiempo que se tarda en buscar el elemento más \"profundo\" en ambos árboles, ilustrando la diferencia de rendimiento. Asegúrate de que la implementación de `AVLTree` que utilices tenga un método de búsqueda (`search`), o puedes adaptar el script para que simplemente intente encontrar el elemento más a la derecha en el árbol AVL, de manera similar a cómo lo hace en el BST."
   ]
  },
  {
   "cell_type": "code",
   "execution_count": null,
   "metadata": {},
   "outputs": [],
   "source": [
    "class AVLTree:\n",
    "    # Asumimos que ya tienes definidas todas las demás partes necesarias de AVLTree aquí.\n",
    "\n",
    "    def search(self, root, key):\n",
    "        # Caso base: root es null o la llave está en root.\n",
    "        if root is None or root.key == key:\n",
    "            return root\n",
    "\n",
    "        # La llave es mayor que la llave de root, entonces\n",
    "        # la búsqueda se realiza en el subárbol derecho.\n",
    "        if root.key < key:\n",
    "            return self.search(root.right, key)\n",
    "\n",
    "        # La llave es menor que la llave de root, entonces\n",
    "        # la búsqueda se realiza en el subárbol izquierdo.\n",
    "        return self.search(root.left, key)\n",
    "\n",
    "# Ahora puedes usar este método para realizar búsquedas en un árbol AVL."
   ]
  }
 ],
 "metadata": {
  "kernelspec": {
   "display_name": "Python 3",
   "language": "python",
   "name": "python3"
  },
  "language_info": {
   "codemirror_mode": {
    "name": "ipython",
    "version": 3
   },
   "file_extension": ".py",
   "mimetype": "text/x-python",
   "name": "python",
   "nbconvert_exporter": "python",
   "pygments_lexer": "ipython3",
   "version": "3.8.10"
  }
 },
 "nbformat": 4,
 "nbformat_minor": 2
}
