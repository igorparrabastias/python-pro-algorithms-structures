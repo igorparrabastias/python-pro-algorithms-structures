{
 "cells": [
  {
   "cell_type": "markdown",
   "metadata": {},
   "source": [
    "# Clase base\n",
    "Métodos básicos en la clase principal para un árbol binario genérico (no necesariamente un árbol binario de búsqueda). La estructura de la clase y sus métodos son muy simples. Enfocándose en la manipulación básica de la estructura del árbol sin asumir un orden específico para los elementos."
   ]
  },
  {
   "cell_type": "code",
   "execution_count": 1,
   "metadata": {},
   "outputs": [],
   "source": [
    "class TreeNode:\n",
    "    def __init__(self, data):\n",
    "        \"\"\"\n",
    "        Constructor para inicializar un nuevo nodo de árbol.\n",
    "\n",
    "        :param data: El valor que se almacenará en el nodo.\n",
    "        \"\"\"\n",
    "        self.data = data\n",
    "        self.left = None\n",
    "        self.right = None\n",
    "\n",
    "    def add_child(self, data):\n",
    "        \"\"\"\n",
    "        Método para agregar un nuevo hijo al nodo actual. Este método es\n",
    "        genérico y no distingue entre izquierda o derecha.\n",
    "\n",
    "        :param data: El valor del nuevo nodo a agregar.\n",
    "        \"\"\"\n",
    "        if not self.left:\n",
    "            self.left = TreeNode(data)\n",
    "        elif not self.right:\n",
    "            self.right = TreeNode(data)\n",
    "        else:\n",
    "            # Aquí se podría lanzar una excepción o decidir cómo manejar\n",
    "            # nodos adicionales en un contexto más genérico que un BST.\n",
    "            print(\"El nodo ya tiene dos hijos.\")\n",
    "\n",
    "    def find(self, data):\n",
    "        \"\"\"\n",
    "        Método para encontrar un valor en el árbol, buscando recursivamente.\n",
    "\n",
    "        :param data: El valor a buscar en el árbol.\n",
    "        :return: True si el valor está en el árbol, False de lo contrario.\n",
    "        \"\"\"\n",
    "        if data == self.data:\n",
    "            return True\n",
    "        if self.left and self.left.find(data):\n",
    "            return True\n",
    "        if self.right and self.right.find(data):\n",
    "            return True\n",
    "        return False\n",
    "\n",
    "    def delete(self, data):\n",
    "        \"\"\"\n",
    "        Método para eliminar un nodo. Este es un esqueleto básico y necesita ser\n",
    "        completado dependiendo de la estructura específica y reglas del árbol.\n",
    "\n",
    "        :param data: El valor del nodo a eliminar.\n",
    "        \"\"\"\n",
    "        # La implementación específica dependerá del tipo de árbol y de\n",
    "        # las reglas de negocio. En muchos casos, necesitarás reestructurar\n",
    "        # el árbol y actualizar los enlaces entre los nodos.\n",
    "        pass"
   ]
  },
  {
   "cell_type": "markdown",
   "metadata": {},
   "source": [
    "\n",
    "Esta clase TreeNode define la estructura básica y los métodos esenciales para un árbol binario genérico. Los métodos add_child, find, y delete se han descrito de manera genérica sin asumir la organización ordenada de un árbol de búsqueda binario. "
   ]
  }
 ],
 "metadata": {
  "kernelspec": {
   "display_name": "Python 3",
   "language": "python",
   "name": "python3"
  },
  "language_info": {
   "codemirror_mode": {
    "name": "ipython",
    "version": 3
   },
   "file_extension": ".py",
   "mimetype": "text/x-python",
   "name": "python",
   "nbconvert_exporter": "python",
   "pygments_lexer": "ipython3",
   "version": "3.8.10"
  }
 },
 "nbformat": 4,
 "nbformat_minor": 2
}
