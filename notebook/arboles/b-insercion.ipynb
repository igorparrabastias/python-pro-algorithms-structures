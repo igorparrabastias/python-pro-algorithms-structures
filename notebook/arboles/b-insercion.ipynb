{
 "cells": [
  {
   "cell_type": "markdown",
   "metadata": {},
   "source": [
    "# Inserción en Árbol B\n",
    "\n",
    "La inserción en un árbol B es un proceso fundamental para mantener la estructura y las propiedades de estos árboles. Un árbol B es una estructura de datos de árbol autoequilibrada, diseñada para almacenar datos de manera eficiente para operaciones de búsqueda, inserción y eliminación en sistemas de almacenamiento basados en discos. Antes de detallar el proceso de inserción, es crucial entender el concepto de \"grado\" en un árbol B.\n",
    "\n",
    "El \"grado\" de un árbol B, denotado comúnmente como \\( t \\), se refiere al número mínimo de hijos que un nodo no raíz puede tener. Vale la pena mencionar que este grado también determina el número máximo de hijos que cualquier nodo puede tener, que es \\( 2t \\). Por lo tanto, el número de claves (valores) que un nodo puede contener varía entre \\( t-1 \\) y \\( 2t-1 \\), haciendo a los árboles B muy eficientes en términos de balance y minimización de la altura del árbol.\n",
    "\n",
    "## Proceso de Inserción\n",
    "\n",
    "La inserción en un árbol B sigue estos pasos esenciales para asegurar que el árbol se mantenga equilibrado y ordenado:\n",
    "\n",
    "1. **Localizar el Nodo Correcto:** El primer paso es encontrar el nodo hoja donde debería insertarse la nueva clave. Esto se hace descendiendo desde la raíz, eligiendo el hijo adecuado en cada paso basado en las comparaciones de la clave a insertar.\n",
    "\n",
    "2. **Inserción en el Nodo Hoja:** Si el nodo hoja encontrado tiene menos de \\( 2t-1 \\) claves, insertamos la nueva clave en la posición correcta para mantener el orden del nodo.\n",
    "\n",
    "3. **División de Nodos:** Si el nodo hoja está lleno (tiene \\( 2t-1 \\) claves), se divide en dos nodos, cada uno con \\( t-1 \\) claves, y la clave mediana se promueve al nodo padre. Si el nodo padre también está lleno, este proceso de división se repite hacia arriba hasta que se encuentre un nodo que no esté lleno o hasta que se cree una nueva raíz si es necesario.\n",
    "\n",
    "4. **Creación de una Nueva Raíz:** Si la raíz se divide, se crea una nueva raíz que tiene como hijos los dos nodos resultantes de la división de la antigua raíz."
   ]
  },
  {
   "cell_type": "markdown",
   "metadata": {},
   "source": [
    "## Implementación en Python"
   ]
  },
  {
   "cell_type": "code",
   "execution_count": 1,
   "metadata": {},
   "outputs": [],
   "source": [
    "# Definición de la clase para un Nodo del Árbol B\n",
    "class BTreeNode:\n",
    "    # Inicializador del nodo con opción de especificar si es hoja\n",
    "    def __init__(self, leaf=False):\n",
    "        # Determina si el nodo es una hoja\n",
    "        self.leaf = leaf\n",
    "        # Lista de llaves en el nodo\n",
    "        self.keys = []\n",
    "        # Hijos del nodo\n",
    "        self.children = []\n",
    "\n",
    "        print(\"Nodo BTree inicializado como hoja\" if leaf else \"Nodo BTree inicializado\")\n",
    "\n",
    "# Clase del árbol B que contiene las operaciones fundamentales\n",
    "class BTree:\n",
    "    # Constructor del árbol B que establece grado mínimo t y crea raíz\n",
    "    def __init__(self, t):\n",
    "        # La raíz del árbol inicialmente es una hoja hasta que se inserten más\n",
    "        # valores\n",
    "        self.root = BTreeNode(True)\n",
    "        # Grado mínimo del árbol (determina tamaño máximo y mínimo de cada nodo)\n",
    "        self.t = t\n",
    "\n",
    "        print(\"Árbol B inicializado con grado mínimo\", t)\n",
    "\n",
    "    # Función para insertar una nueva llave en el árbol\n",
    "    def insert(self, k):\n",
    "        root = self.root\n",
    "        # Si la raíz está llena, el árbol crece en altura\n",
    "        if len(root.keys) == (2*self.t) - 1:\n",
    "            temp = BTreeNode()\n",
    "            self.root = temp\n",
    "            # La antigua raíz ahora es hija de la nueva raíz\n",
    "            temp.children.insert(0, root)\n",
    "            # Se divide la antigua raíz ya que estaba llena\n",
    "            self.split_children(temp, 0)\n",
    "            # Insertamos la llave en el árbol no lleno\n",
    "            self.insert_non_full(temp, k)\n",
    "        else:\n",
    "            # Insertamos directamente si la raíz no está llena\n",
    "            self.insert_non_full(root, k)\n",
    "\n",
    "        print(\"Llave insertada:\", k)\n",
    "\n",
    "    # Inserta una llave en un nodo que asume no está lleno\n",
    "    def insert_non_full(self, x, k):\n",
    "        i = len(x.keys) - 1\n",
    "        if x.leaf:\n",
    "            # Agrega espacio para la nueva llave\n",
    "            x.keys.append((None, None))\n",
    "            # Encuentra la posición para la nueva llave\n",
    "            while i >= 0 and k < x.keys[i]:\n",
    "                x.keys[i+1] = x.keys[i]\n",
    "                i -= 1\n",
    "            # Inserta la nueva llave en su posición encontrada\n",
    "            x.keys[i+1] = k\n",
    "\n",
    "            print(\"Llave insertada en nodo hoja.\")\n",
    "        else:\n",
    "            # Si no es una hoja, encuentra el hijo correcto donde insertar la\n",
    "            # nueva llave\n",
    "            while i >= 0 and k < x.keys[i]:\n",
    "                i -= 1\n",
    "            i += 1\n",
    "            # Divide el hijo si está lleno antes de la inserción\n",
    "            if len(x.children[i].keys) == (2*self.t) - 1:\n",
    "                self.split_children(x, i)\n",
    "                if k > x.keys[i]:\n",
    "                    i += 1\n",
    "            # Hace llamada recursiva al hijo correcto\n",
    "            self.insert_non_full(x.children[i], k)\n",
    "\n",
    "            print(\"Navegando hacia hijo para continuar inserción.\")\n",
    "\n",
    "    # Divide el hijo del nodo x en la posición i\n",
    "    def split_children(self, x, i):\n",
    "        t = self.t\n",
    "        # Nodo a dividir\n",
    "        y = x.children[i]\n",
    "        # Nuevo nodo que contendrá las llaves [t, 2t-1] de y\n",
    "        z = BTreeNode(y.leaf)\n",
    "        # Añade el nuevo nodo como hijo\n",
    "        x.children.insert(i+1, z)\n",
    "        # Llave mediana se mueve al padre\n",
    "        x.keys.insert(i, y.keys[t-1])\n",
    "        # Reparte las llaves a los nodos nuevos\n",
    "        z.keys = y.keys[t:(2*t)-1]\n",
    "        y.keys = y.keys[0:(t-1)]\n",
    "        if not y.leaf:\n",
    "            # Si no son hojas, repartimos los hijos también\n",
    "            z.children = y.children[t:(2*t)]\n",
    "            y.children = y.children[0:t]\n",
    "\n",
    "        print(\"Nodo hijo dividido en dos nodos.\")"
   ]
  },
  {
   "cell_type": "markdown",
   "metadata": {},
   "source": [
    "Este código define una clase BTreeNode para los nodos del árbol B y una clase BTree para el árbol en sí. La clase BTree incluye métodos para insertar nuevos elementos y para dividir nodos que exceden el número máximo de claves permitidas. La inserción comienza verificando si el nodo raíz está lleno; si lo está, el árbol se reestructura antes de insertar el nuevo elemento. El proceso de inserción respeta las propiedades de los árboles B, asegurando que el árbol se mantenga balanceado.\n",
    "\n",
    "## Pruebas de Inserción\n",
    "\n",
    "Para probar la inserción en el árbol B, insertaremos varios elementos y luego visualizaremos el árbol para asegurarnos de que la estructura sea la esperada. Usaremos el módulo de visualización que tienes disponible para ver cómo los elementos se distribuyen a través del árbol después de sus inserciones."
   ]
  },
  {
   "cell_type": "markdown",
   "metadata": {},
   "source": [
    "Para probar el proceso de inserción en un árbol B, necesitamos verificar que el árbol mantenga sus propiedades esenciales después de cada inserción. Esto incluye asegurarse de que los nodos estén dentro del rango permitido de claves (entre \\(t-1\\) y \\(2t-1\\)), que el árbol se mantenga equilibrado, y que las claves estén en orden ascendente desde la izquierda hacia la derecha a través de cada nodo.\n",
    "\n",
    "Para realizar pruebas efectivas, primero vamos a definir una función auxiliar que nos ayude a verificar las propiedades del árbol B después de cada inserción."
   ]
  },
  {
   "cell_type": "code",
   "execution_count": 2,
   "metadata": {},
   "outputs": [],
   "source": [
    "def verify_tree_properties(node, t, min_key=None, max_key=None):\n",
    "    # Verificar que las claves dentro del nodo están en orden ascendente\n",
    "    if not all(node.keys[i] <= node.keys[i+1] for i in range(len(node.keys)-1)):\n",
    "        return False, \"Las claves no están en orden ascendente\"\n",
    "\n",
    "    # Verificar la cantidad de claves en el nodo (excepto la raíz)\n",
    "    if not node.leaf:  # No aplicar esta regla para la raíz\n",
    "        if not (t-1 <= len(node.keys) <= (2*t)-1):\n",
    "            return False, f\"El nodo tiene {len(node.keys)} claves\"\n",
    "\n",
    "    # Verificar que las claves están dentro de los límites permitidos\n",
    "    if min_key is not None and any(key < min_key for key in node.keys):\n",
    "        return False, \"Hay claves menores al mínimo permitido\"\n",
    "    if max_key is not None and any(key > max_key for key in node.keys):\n",
    "        return False, \"Hay claves mayores al máximo permitido\"\n",
    "\n",
    "    # Si todo es correcto\n",
    "    return True, \"El nodo cumple con todas las propiedades del árbol B\""
   ]
  },
  {
   "cell_type": "markdown",
   "metadata": {},
   "source": [
    "### Implementación de Pruebas de Inserción\n",
    "\n",
    "Ahora, vamos a realizar algunas inserciones y usar nuestra función de verificación para asegurar que el árbol B mantiene sus propiedades."
   ]
  },
  {
   "cell_type": "code",
   "execution_count": 3,
   "metadata": {},
   "outputs": [],
   "source": [
    "# Código utilitario\n",
    "from src.visualization import visualize_b_tree"
   ]
  },
  {
   "cell_type": "code",
   "execution_count": 4,
   "metadata": {},
   "outputs": [
    {
     "name": "stdout",
     "output_type": "stream",
     "text": [
      "Nodo BTree inicializado como hoja\n",
      "Árbol B inicializado con grado mínimo 3\n",
      "Llave insertada en nodo hoja.\n",
      "Llave insertada: 10\n"
     ]
    },
    {
     "data": {
      "image/svg+xml": [
       "<?xml version=\"1.0\" encoding=\"UTF-8\" standalone=\"no\"?>\n",
       "<!DOCTYPE svg PUBLIC \"-//W3C//DTD SVG 1.1//EN\"\n",
       " \"http://www.w3.org/Graphics/SVG/1.1/DTD/svg11.dtd\">\n",
       "<!-- Generated by graphviz version 2.43.0 (0)\n",
       " -->\n",
       "<!-- Title: %3 Pages: 1 -->\n",
       "<svg width=\"62pt\" height=\"44pt\"\n",
       " viewBox=\"0.00 0.00 62.00 44.00\" xmlns=\"http://www.w3.org/2000/svg\" xmlns:xlink=\"http://www.w3.org/1999/xlink\">\n",
       "<g id=\"graph0\" class=\"graph\" transform=\"scale(1 1) rotate(0) translate(4 40)\">\n",
       "<title>%3</title>\n",
       "<polygon fill=\"white\" stroke=\"transparent\" points=\"-4,4 -4,-40 58,-40 58,4 -4,4\"/>\n",
       "<!-- 8750835879991 -->\n",
       "<g id=\"node1\" class=\"node\">\n",
       "<title>8750835879991</title>\n",
       "<polygon fill=\"none\" stroke=\"black\" points=\"54,-36 0,-36 0,0 54,0 54,-36\"/>\n",
       "<text text-anchor=\"middle\" x=\"27\" y=\"-14.3\" font-family=\"Times,serif\" font-size=\"14.00\">10</text>\n",
       "</g>\n",
       "</g>\n",
       "</svg>\n"
      ],
      "text/plain": [
       "<graphviz.graphs.Digraph at 0x7f57676d0310>"
      ]
     },
     "metadata": {},
     "output_type": "display_data"
    },
    {
     "name": "stdout",
     "output_type": "stream",
     "text": [
      "Llave insertada en nodo hoja.\n",
      "Llave insertada: 20\n"
     ]
    },
    {
     "data": {
      "image/svg+xml": [
       "<?xml version=\"1.0\" encoding=\"UTF-8\" standalone=\"no\"?>\n",
       "<!DOCTYPE svg PUBLIC \"-//W3C//DTD SVG 1.1//EN\"\n",
       " \"http://www.w3.org/Graphics/SVG/1.1/DTD/svg11.dtd\">\n",
       "<!-- Generated by graphviz version 2.43.0 (0)\n",
       " -->\n",
       "<!-- Title: %3 Pages: 1 -->\n",
       "<svg width=\"74pt\" height=\"44pt\"\n",
       " viewBox=\"0.00 0.00 74.00 44.00\" xmlns=\"http://www.w3.org/2000/svg\" xmlns:xlink=\"http://www.w3.org/1999/xlink\">\n",
       "<g id=\"graph0\" class=\"graph\" transform=\"scale(1 1) rotate(0) translate(4 40)\">\n",
       "<title>%3</title>\n",
       "<polygon fill=\"white\" stroke=\"transparent\" points=\"-4,4 -4,-40 70,-40 70,4 -4,4\"/>\n",
       "<!-- 8750835879991 -->\n",
       "<g id=\"node1\" class=\"node\">\n",
       "<title>8750835879991</title>\n",
       "<polygon fill=\"none\" stroke=\"black\" points=\"66,-36 0,-36 0,0 66,0 66,-36\"/>\n",
       "<text text-anchor=\"middle\" x=\"33\" y=\"-14.3\" font-family=\"Times,serif\" font-size=\"14.00\">10 | 20</text>\n",
       "</g>\n",
       "</g>\n",
       "</svg>\n"
      ],
      "text/plain": [
       "<graphviz.graphs.Digraph at 0x7f57676d0550>"
      ]
     },
     "metadata": {},
     "output_type": "display_data"
    },
    {
     "name": "stdout",
     "output_type": "stream",
     "text": [
      "Llave insertada en nodo hoja.\n",
      "Llave insertada: 5\n"
     ]
    },
    {
     "data": {
      "image/svg+xml": [
       "<?xml version=\"1.0\" encoding=\"UTF-8\" standalone=\"no\"?>\n",
       "<!DOCTYPE svg PUBLIC \"-//W3C//DTD SVG 1.1//EN\"\n",
       " \"http://www.w3.org/Graphics/SVG/1.1/DTD/svg11.dtd\">\n",
       "<!-- Generated by graphviz version 2.43.0 (0)\n",
       " -->\n",
       "<!-- Title: %3 Pages: 1 -->\n",
       "<svg width=\"97pt\" height=\"44pt\"\n",
       " viewBox=\"0.00 0.00 97.00 44.00\" xmlns=\"http://www.w3.org/2000/svg\" xmlns:xlink=\"http://www.w3.org/1999/xlink\">\n",
       "<g id=\"graph0\" class=\"graph\" transform=\"scale(1 1) rotate(0) translate(4 40)\">\n",
       "<title>%3</title>\n",
       "<polygon fill=\"white\" stroke=\"transparent\" points=\"-4,4 -4,-40 93,-40 93,4 -4,4\"/>\n",
       "<!-- 8750835879991 -->\n",
       "<g id=\"node1\" class=\"node\">\n",
       "<title>8750835879991</title>\n",
       "<polygon fill=\"none\" stroke=\"black\" points=\"89,-36 0,-36 0,0 89,0 89,-36\"/>\n",
       "<text text-anchor=\"middle\" x=\"44.5\" y=\"-14.3\" font-family=\"Times,serif\" font-size=\"14.00\">5 | 10 | 20</text>\n",
       "</g>\n",
       "</g>\n",
       "</svg>\n"
      ],
      "text/plain": [
       "<graphviz.graphs.Digraph at 0x7f57676d0310>"
      ]
     },
     "metadata": {},
     "output_type": "display_data"
    },
    {
     "name": "stdout",
     "output_type": "stream",
     "text": [
      "Llave insertada en nodo hoja.\n",
      "Llave insertada: 6\n"
     ]
    },
    {
     "data": {
      "image/svg+xml": [
       "<?xml version=\"1.0\" encoding=\"UTF-8\" standalone=\"no\"?>\n",
       "<!DOCTYPE svg PUBLIC \"-//W3C//DTD SVG 1.1//EN\"\n",
       " \"http://www.w3.org/Graphics/SVG/1.1/DTD/svg11.dtd\">\n",
       "<!-- Generated by graphviz version 2.43.0 (0)\n",
       " -->\n",
       "<!-- Title: %3 Pages: 1 -->\n",
       "<svg width=\"119pt\" height=\"44pt\"\n",
       " viewBox=\"0.00 0.00 119.00 44.00\" xmlns=\"http://www.w3.org/2000/svg\" xmlns:xlink=\"http://www.w3.org/1999/xlink\">\n",
       "<g id=\"graph0\" class=\"graph\" transform=\"scale(1 1) rotate(0) translate(4 40)\">\n",
       "<title>%3</title>\n",
       "<polygon fill=\"white\" stroke=\"transparent\" points=\"-4,4 -4,-40 115,-40 115,4 -4,4\"/>\n",
       "<!-- 8750835879991 -->\n",
       "<g id=\"node1\" class=\"node\">\n",
       "<title>8750835879991</title>\n",
       "<polygon fill=\"none\" stroke=\"black\" points=\"111,-36 0,-36 0,0 111,0 111,-36\"/>\n",
       "<text text-anchor=\"middle\" x=\"55.5\" y=\"-14.3\" font-family=\"Times,serif\" font-size=\"14.00\">5 | 6 | 10 | 20</text>\n",
       "</g>\n",
       "</g>\n",
       "</svg>\n"
      ],
      "text/plain": [
       "<graphviz.graphs.Digraph at 0x7f57676d0550>"
      ]
     },
     "metadata": {},
     "output_type": "display_data"
    },
    {
     "name": "stdout",
     "output_type": "stream",
     "text": [
      "Llave insertada en nodo hoja.\n",
      "Llave insertada: 12\n"
     ]
    },
    {
     "data": {
      "image/svg+xml": [
       "<?xml version=\"1.0\" encoding=\"UTF-8\" standalone=\"no\"?>\n",
       "<!DOCTYPE svg PUBLIC \"-//W3C//DTD SVG 1.1//EN\"\n",
       " \"http://www.w3.org/Graphics/SVG/1.1/DTD/svg11.dtd\">\n",
       "<!-- Generated by graphviz version 2.43.0 (0)\n",
       " -->\n",
       "<!-- Title: %3 Pages: 1 -->\n",
       "<svg width=\"151pt\" height=\"44pt\"\n",
       " viewBox=\"0.00 0.00 151.00 44.00\" xmlns=\"http://www.w3.org/2000/svg\" xmlns:xlink=\"http://www.w3.org/1999/xlink\">\n",
       "<g id=\"graph0\" class=\"graph\" transform=\"scale(1 1) rotate(0) translate(4 40)\">\n",
       "<title>%3</title>\n",
       "<polygon fill=\"white\" stroke=\"transparent\" points=\"-4,4 -4,-40 147,-40 147,4 -4,4\"/>\n",
       "<!-- 8750835879991 -->\n",
       "<g id=\"node1\" class=\"node\">\n",
       "<title>8750835879991</title>\n",
       "<polygon fill=\"none\" stroke=\"black\" points=\"143,-36 0,-36 0,0 143,0 143,-36\"/>\n",
       "<text text-anchor=\"middle\" x=\"71.5\" y=\"-14.3\" font-family=\"Times,serif\" font-size=\"14.00\">5 | 6 | 10 | 12 | 20</text>\n",
       "</g>\n",
       "</g>\n",
       "</svg>\n"
      ],
      "text/plain": [
       "<graphviz.graphs.Digraph at 0x7f57676d0310>"
      ]
     },
     "metadata": {},
     "output_type": "display_data"
    },
    {
     "name": "stdout",
     "output_type": "stream",
     "text": [
      "Nodo BTree inicializado\n",
      "Nodo BTree inicializado como hoja\n",
      "Nodo hijo dividido en dos nodos.\n",
      "Llave insertada en nodo hoja.\n",
      "Navegando hacia hijo para continuar inserción.\n",
      "Llave insertada: 30\n"
     ]
    },
    {
     "data": {
      "image/svg+xml": [
       "<?xml version=\"1.0\" encoding=\"UTF-8\" standalone=\"no\"?>\n",
       "<!DOCTYPE svg PUBLIC \"-//W3C//DTD SVG 1.1//EN\"\n",
       " \"http://www.w3.org/Graphics/SVG/1.1/DTD/svg11.dtd\">\n",
       "<!-- Generated by graphviz version 2.43.0 (0)\n",
       " -->\n",
       "<!-- Title: %3 Pages: 1 -->\n",
       "<svg width=\"178pt\" height=\"116pt\"\n",
       " viewBox=\"0.00 0.00 178.00 116.00\" xmlns=\"http://www.w3.org/2000/svg\" xmlns:xlink=\"http://www.w3.org/1999/xlink\">\n",
       "<g id=\"graph0\" class=\"graph\" transform=\"scale(1 1) rotate(0) translate(4 112)\">\n",
       "<title>%3</title>\n",
       "<polygon fill=\"white\" stroke=\"transparent\" points=\"-4,4 -4,-112 174,-112 174,4 -4,4\"/>\n",
       "<!-- 8750835880168 -->\n",
       "<g id=\"node1\" class=\"node\">\n",
       "<title>8750835880168</title>\n",
       "<polygon fill=\"none\" stroke=\"black\" points=\"101,-108 47,-108 47,-72 101,-72 101,-108\"/>\n",
       "<text text-anchor=\"middle\" x=\"74\" y=\"-86.3\" font-family=\"Times,serif\" font-size=\"14.00\">10</text>\n",
       "</g>\n",
       "<!-- 8750835879991 -->\n",
       "<g id=\"node2\" class=\"node\">\n",
       "<title>8750835879991</title>\n",
       "<polygon fill=\"none\" stroke=\"black\" points=\"54,-36 0,-36 0,0 54,0 54,-36\"/>\n",
       "<text text-anchor=\"middle\" x=\"27\" y=\"-14.3\" font-family=\"Times,serif\" font-size=\"14.00\">5 | 6</text>\n",
       "</g>\n",
       "<!-- 8750835880168&#45;&gt;8750835879991 -->\n",
       "<g id=\"edge1\" class=\"edge\">\n",
       "<title>8750835880168&#45;&gt;8750835879991</title>\n",
       "<path fill=\"none\" stroke=\"black\" d=\"M62.38,-71.7C56.86,-63.47 50.15,-53.48 44.07,-44.42\"/>\n",
       "<polygon fill=\"black\" stroke=\"black\" points=\"46.96,-42.46 38.48,-36.1 41.15,-46.36 46.96,-42.46\"/>\n",
       "</g>\n",
       "<!-- 8750835880096 -->\n",
       "<g id=\"node3\" class=\"node\">\n",
       "<title>8750835880096</title>\n",
       "<polygon fill=\"none\" stroke=\"black\" points=\"170,-36 72,-36 72,0 170,0 170,-36\"/>\n",
       "<text text-anchor=\"middle\" x=\"121\" y=\"-14.3\" font-family=\"Times,serif\" font-size=\"14.00\">12 | 20 | 30</text>\n",
       "</g>\n",
       "<!-- 8750835880168&#45;&gt;8750835880096 -->\n",
       "<g id=\"edge2\" class=\"edge\">\n",
       "<title>8750835880168&#45;&gt;8750835880096</title>\n",
       "<path fill=\"none\" stroke=\"black\" d=\"M85.62,-71.7C91.14,-63.47 97.85,-53.48 103.93,-44.42\"/>\n",
       "<polygon fill=\"black\" stroke=\"black\" points=\"106.85,-46.36 109.52,-36.1 101.04,-42.46 106.85,-46.36\"/>\n",
       "</g>\n",
       "</g>\n",
       "</svg>\n"
      ],
      "text/plain": [
       "<graphviz.graphs.Digraph at 0x7f57676d08e0>"
      ]
     },
     "metadata": {},
     "output_type": "display_data"
    },
    {
     "name": "stdout",
     "output_type": "stream",
     "text": [
      "Llave insertada en nodo hoja.\n",
      "Navegando hacia hijo para continuar inserción.\n",
      "Llave insertada: 7\n"
     ]
    },
    {
     "data": {
      "image/svg+xml": [
       "<?xml version=\"1.0\" encoding=\"UTF-8\" standalone=\"no\"?>\n",
       "<!DOCTYPE svg PUBLIC \"-//W3C//DTD SVG 1.1//EN\"\n",
       " \"http://www.w3.org/Graphics/SVG/1.1/DTD/svg11.dtd\">\n",
       "<!-- Generated by graphviz version 2.43.0 (0)\n",
       " -->\n",
       "<!-- Title: %3 Pages: 1 -->\n",
       "<svg width=\"196pt\" height=\"116pt\"\n",
       " viewBox=\"0.00 0.00 195.50 116.00\" xmlns=\"http://www.w3.org/2000/svg\" xmlns:xlink=\"http://www.w3.org/1999/xlink\">\n",
       "<g id=\"graph0\" class=\"graph\" transform=\"scale(1 1) rotate(0) translate(4 112)\">\n",
       "<title>%3</title>\n",
       "<polygon fill=\"white\" stroke=\"transparent\" points=\"-4,4 -4,-112 191.5,-112 191.5,4 -4,4\"/>\n",
       "<!-- 8750835880168 -->\n",
       "<g id=\"node1\" class=\"node\">\n",
       "<title>8750835880168</title>\n",
       "<polygon fill=\"none\" stroke=\"black\" points=\"113.5,-108 59.5,-108 59.5,-72 113.5,-72 113.5,-108\"/>\n",
       "<text text-anchor=\"middle\" x=\"86.5\" y=\"-86.3\" font-family=\"Times,serif\" font-size=\"14.00\">10</text>\n",
       "</g>\n",
       "<!-- 8750835879991 -->\n",
       "<g id=\"node2\" class=\"node\">\n",
       "<title>8750835879991</title>\n",
       "<polygon fill=\"none\" stroke=\"black\" points=\"71,-36 0,-36 0,0 71,0 71,-36\"/>\n",
       "<text text-anchor=\"middle\" x=\"35.5\" y=\"-14.3\" font-family=\"Times,serif\" font-size=\"14.00\">5 | 6 | 7</text>\n",
       "</g>\n",
       "<!-- 8750835880168&#45;&gt;8750835879991 -->\n",
       "<g id=\"edge1\" class=\"edge\">\n",
       "<title>8750835880168&#45;&gt;8750835879991</title>\n",
       "<path fill=\"none\" stroke=\"black\" d=\"M73.89,-71.7C67.9,-63.47 60.62,-53.48 54.02,-44.42\"/>\n",
       "<polygon fill=\"black\" stroke=\"black\" points=\"56.68,-42.13 47.96,-36.1 51.02,-46.25 56.68,-42.13\"/>\n",
       "</g>\n",
       "<!-- 8750835880096 -->\n",
       "<g id=\"node3\" class=\"node\">\n",
       "<title>8750835880096</title>\n",
       "<polygon fill=\"none\" stroke=\"black\" points=\"187.5,-36 89.5,-36 89.5,0 187.5,0 187.5,-36\"/>\n",
       "<text text-anchor=\"middle\" x=\"138.5\" y=\"-14.3\" font-family=\"Times,serif\" font-size=\"14.00\">12 | 20 | 30</text>\n",
       "</g>\n",
       "<!-- 8750835880168&#45;&gt;8750835880096 -->\n",
       "<g id=\"edge2\" class=\"edge\">\n",
       "<title>8750835880168&#45;&gt;8750835880096</title>\n",
       "<path fill=\"none\" stroke=\"black\" d=\"M99.35,-71.7C105.53,-63.39 113.04,-53.28 119.82,-44.14\"/>\n",
       "<polygon fill=\"black\" stroke=\"black\" points=\"122.64,-46.22 125.79,-36.1 117.02,-42.04 122.64,-46.22\"/>\n",
       "</g>\n",
       "</g>\n",
       "</svg>\n"
      ],
      "text/plain": [
       "<graphviz.graphs.Digraph at 0x7f57676d0dc0>"
      ]
     },
     "metadata": {},
     "output_type": "display_data"
    },
    {
     "name": "stdout",
     "output_type": "stream",
     "text": [
      "Llave insertada en nodo hoja.\n",
      "Navegando hacia hijo para continuar inserción.\n",
      "Llave insertada: 17\n"
     ]
    },
    {
     "data": {
      "image/svg+xml": [
       "<?xml version=\"1.0\" encoding=\"UTF-8\" standalone=\"no\"?>\n",
       "<!DOCTYPE svg PUBLIC \"-//W3C//DTD SVG 1.1//EN\"\n",
       " \"http://www.w3.org/Graphics/SVG/1.1/DTD/svg11.dtd\">\n",
       "<!-- Generated by graphviz version 2.43.0 (0)\n",
       " -->\n",
       "<!-- Title: %3 Pages: 1 -->\n",
       "<svg width=\"226pt\" height=\"116pt\"\n",
       " viewBox=\"0.00 0.00 226.00 116.00\" xmlns=\"http://www.w3.org/2000/svg\" xmlns:xlink=\"http://www.w3.org/1999/xlink\">\n",
       "<g id=\"graph0\" class=\"graph\" transform=\"scale(1 1) rotate(0) translate(4 112)\">\n",
       "<title>%3</title>\n",
       "<polygon fill=\"white\" stroke=\"transparent\" points=\"-4,4 -4,-112 222,-112 222,4 -4,4\"/>\n",
       "<!-- 8750835880168 -->\n",
       "<g id=\"node1\" class=\"node\">\n",
       "<title>8750835880168</title>\n",
       "<polygon fill=\"none\" stroke=\"black\" points=\"121.5,-108 67.5,-108 67.5,-72 121.5,-72 121.5,-108\"/>\n",
       "<text text-anchor=\"middle\" x=\"94.5\" y=\"-86.3\" font-family=\"Times,serif\" font-size=\"14.00\">10</text>\n",
       "</g>\n",
       "<!-- 8750835879991 -->\n",
       "<g id=\"node2\" class=\"node\">\n",
       "<title>8750835879991</title>\n",
       "<polygon fill=\"none\" stroke=\"black\" points=\"71,-36 0,-36 0,0 71,0 71,-36\"/>\n",
       "<text text-anchor=\"middle\" x=\"35.5\" y=\"-14.3\" font-family=\"Times,serif\" font-size=\"14.00\">5 | 6 | 7</text>\n",
       "</g>\n",
       "<!-- 8750835880168&#45;&gt;8750835879991 -->\n",
       "<g id=\"edge1\" class=\"edge\">\n",
       "<title>8750835880168&#45;&gt;8750835879991</title>\n",
       "<path fill=\"none\" stroke=\"black\" d=\"M79.92,-71.7C72.84,-63.3 64.22,-53.07 56.45,-43.86\"/>\n",
       "<polygon fill=\"black\" stroke=\"black\" points=\"59.04,-41.49 49.92,-36.1 53.69,-46.01 59.04,-41.49\"/>\n",
       "</g>\n",
       "<!-- 8750835880096 -->\n",
       "<g id=\"node3\" class=\"node\">\n",
       "<title>8750835880096</title>\n",
       "<polygon fill=\"none\" stroke=\"black\" points=\"218,-36 89,-36 89,0 218,0 218,-36\"/>\n",
       "<text text-anchor=\"middle\" x=\"153.5\" y=\"-14.3\" font-family=\"Times,serif\" font-size=\"14.00\">12 | 17 | 20 | 30</text>\n",
       "</g>\n",
       "<!-- 8750835880168&#45;&gt;8750835880096 -->\n",
       "<g id=\"edge2\" class=\"edge\">\n",
       "<title>8750835880168&#45;&gt;8750835880096</title>\n",
       "<path fill=\"none\" stroke=\"black\" d=\"M109.08,-71.7C116.16,-63.3 124.78,-53.07 132.55,-43.86\"/>\n",
       "<polygon fill=\"black\" stroke=\"black\" points=\"135.31,-46.01 139.08,-36.1 129.96,-41.49 135.31,-46.01\"/>\n",
       "</g>\n",
       "</g>\n",
       "</svg>\n"
      ],
      "text/plain": [
       "<graphviz.graphs.Digraph at 0x7f57676d08e0>"
      ]
     },
     "metadata": {},
     "output_type": "display_data"
    },
    {
     "name": "stdout",
     "output_type": "stream",
     "text": [
      "Todas las inserciones pasaron la verificación del árbol B.\n"
     ]
    }
   ],
   "source": [
    "# Asumiendo que esta es la inicialización correcta para tu estructura de árbol B\n",
    "btree = BTree(t=3)\n",
    "keys_to_insert = [10, 20, 5, 6, 12, 30, 7, 17]\n",
    "\n",
    "for key in keys_to_insert:\n",
    "    btree.insert(key)\n",
    "    # Visualizar el árbol\n",
    "    dot = visualize_b_tree(btree.root)\n",
    "    display(dot)\n",
    "    assert verify_tree_properties(btree.root, btree.t), \"Fallo en \" + str(key)\n",
    "\n",
    "print(\"Todas las inserciones pasaron la verificación del árbol B.\")"
   ]
  },
  {
   "cell_type": "markdown",
   "metadata": {},
   "source": [
    "Este script inserta una serie de claves en el árbol B y verifica después de cada inserción que el árbol sigue cumpliendo con sus propiedades. Si alguna de las inserciones rompe la estructura del árbol B, la aserción fallará, indicando un problema en el proceso de inserción o en la lógica de división de nodos."
   ]
  },
  {
   "cell_type": "markdown",
   "metadata": {},
   "source": [
    "## Complejidad del Algoritmo\n",
    "\n",
    "- **Complejidad de Tiempo:** La inserción en un árbol B tiene una complejidad de tiempo de O(log n) , donde  `n` es el número de claves en el árbol. Esto se debe a que cada operación de inserción puede requerir un máximo de un descenso por el árbol desde la raíz hasta una hoja, y cada descenso implica atravesar a lo máximo log n nodos.\n",
    "- **Complejidad del Espacio:** La complejidad del espacio es O(t) debido a la necesidad de almacenar temporalmente nodos adicionales durante la división de nodos llenos. "
   ]
  }
 ],
 "metadata": {
  "kernelspec": {
   "display_name": "Python 3",
   "language": "python",
   "name": "python3"
  },
  "language_info": {
   "codemirror_mode": {
    "name": "ipython",
    "version": 3
   },
   "file_extension": ".py",
   "mimetype": "text/x-python",
   "name": "python",
   "nbconvert_exporter": "python",
   "pygments_lexer": "ipython3",
   "version": "3.8.10"
  }
 },
 "nbformat": 4,
 "nbformat_minor": 2
}
