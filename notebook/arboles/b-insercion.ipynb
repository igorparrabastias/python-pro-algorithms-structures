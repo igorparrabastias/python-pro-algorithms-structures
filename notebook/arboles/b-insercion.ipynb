{
 "cells": [
  {
   "cell_type": "markdown",
   "metadata": {},
   "source": [
    "# Inserción en Árbol B\n",
    "\n",
    "La inserción en un árbol B es una operación crítica que permite añadir nuevos elementos manteniendo el árbol balanceado y sus propiedades intactas. Este proceso se asegura de que el árbol se mantenga en su forma óptima, permitiendo búsquedas, inserciones y eliminaciones eficientes.\n",
    "\n",
    "- **Proceso de Inserción General:**\n",
    "  - Comienza en la raíz y busca el lugar adecuado para insertar el nuevo elemento.\n",
    "  - Si el nodo donde debe insertarse el elemento está lleno, se divide antes de proceder con la inserción.\n",
    "  - La inserción puede llevar a una cascada de divisiones hacia arriba si es necesario.\n",
    "- **Consideraciones Específicas:**\n",
    "  - **Elección del Nodo para División:** Al dividir un nodo, se elige un elemento medio para ascender y ayudar a dividir las claves entre los dos nuevos nodos resultantes.\n",
    "  - **Manejo de Nodos Hoja vs. Nodos Internos:** La inserción en los nodos hoja es directa una vez encontrado el lugar adecuado. Para los nodos internos, puede requerirse buscar el nodo hijo adecuado para insertar la nueva clave.\n",
    "\n",
    "## Implementación en Python"
   ]
  },
  {
   "cell_type": "code",
   "execution_count": 16,
   "metadata": {},
   "outputs": [],
   "source": [
    "# Código utilitario\n",
    "from src.visualization import visualize_b_tree"
   ]
  },
  {
   "cell_type": "code",
   "execution_count": 17,
   "metadata": {},
   "outputs": [],
   "source": [
    "class BTreeNode:\n",
    "    def __init__(self, leaf=False):\n",
    "        # Indica si el nodo es una hoja\n",
    "        self.leaf = leaf\n",
    "        # Lista para almacenar las claves del nodo\n",
    "        self.keys = []\n",
    "        # Lista para los punteros a los nodos hijos\n",
    "        self.children = []\n",
    "\n",
    "\n",
    "class BTree:\n",
    "    def __init__(self, t):\n",
    "        # Creación del nodo raíz como una hoja\n",
    "        self.root = BTreeNode(True)\n",
    "        # Grado mínimo del B-Tree\n",
    "        self.t = t\n",
    "\n",
    "    def print_tree(self, x, l=0):\n",
    "        # Imprimimos el nivel actual y la cantidad de claves en el nodo\n",
    "        print(\"Nivel\", l, \"con\", len(x.keys), \"claves:\", end=\" \")\n",
    "        for i in x.keys:\n",
    "            print(i, end=\" \")\n",
    "        print()  # Salto de línea después de imprimir todas las claves\n",
    "        l += 1\n",
    "        if len(x.children) > 0:\n",
    "            for i in x.children:\n",
    "                self.print_tree(i, l)\n",
    "\n",
    "    def insert(self, k):\n",
    "        root = self.root\n",
    "        if len(root.keys) == (2 * self.t) - 1:\n",
    "            # Si la raíz está llena, se crea un nuevo nodo y se divide la raíz\n",
    "            print(\"La raíz está llena, se procede a dividirla\")\n",
    "            temp = BTreeNode()\n",
    "            self.root = temp\n",
    "            temp.children.insert(0, root)\n",
    "            self.split_children(temp, 0)\n",
    "            self.insert_non_full(temp, k)\n",
    "        else:\n",
    "            self.insert_non_full(root, k)\n",
    "\n",
    "    def insert_non_full(self, x, k):\n",
    "        i = len(x.keys) - 1\n",
    "        if x.leaf:\n",
    "            print(\"Insertando en nodo hoja\")\n",
    "            x.keys.append((None, None))\n",
    "            while i >= 0 and k < x.keys[i][0]:\n",
    "                x.keys[i + 1] = x.keys[i]\n",
    "                i -= 1\n",
    "            x.keys[i + 1] = (k, None)\n",
    "        else:\n",
    "            print(\"Navegando a nodo interno para insertar\")\n",
    "            while i >= 0 and k < x.keys[i][0]:\n",
    "                i -= 1\n",
    "            i += 1\n",
    "            if len(x.children[i].keys) == (2 * self.t) - 1:\n",
    "                print(f\"Dividiendo hijo {i} del nodo interno\")\n",
    "                self.split_children(x, i)\n",
    "                if k > x.keys[i][0]:\n",
    "                    i += 1\n",
    "            self.insert_non_full(x.children[i], k)\n",
    "\n",
    "    def split_children(self, x, i):\n",
    "        print(f\"Dividiendo nodo hijo en la posición {i}\")\n",
    "        t = self.t\n",
    "        y = x.children[i]\n",
    "        z = BTreeNode(y.leaf)\n",
    "        x.children.insert(i + 1, z)\n",
    "        x.keys.insert(i, y.keys[t - 1])\n",
    "        z.keys = y.keys[t:(2 * t) - 1]\n",
    "        y.keys = y.keys[0:(t - 1)]\n",
    "        if not y.leaf:\n",
    "            z.children = y.children[t:(2 * t)]\n",
    "            y.children = y.children[0:t]"
   ]
  },
  {
   "cell_type": "markdown",
   "metadata": {},
   "source": [
    "Este código define una clase BTreeNode para los nodos del árbol B y una clase BTree para el árbol en sí. La clase BTree incluye métodos para insertar nuevos elementos y para dividir nodos que exceden el número máximo de claves permitidas. La inserción comienza verificando si el nodo raíz está lleno; si lo está, el árbol se reestructura antes de insertar el nuevo elemento. El proceso de inserción respeta las propiedades de los árboles B, asegurando que el árbol se mantenga balanceado.\n",
    "\n",
    "## Pruebas de Inserción\n",
    "\n",
    "Para probar la inserción en el árbol B, insertaremos varios elementos y luego visualizaremos el árbol para asegurarnos de que la estructura sea la esperada. Usaremos el módulo de visualización que tienes disponible para ver cómo los elementos se distribuyen a través del árbol después de sus inserciones."
   ]
  },
  {
   "cell_type": "code",
   "execution_count": 18,
   "metadata": {},
   "outputs": [
    {
     "name": "stdout",
     "output_type": "stream",
     "text": [
      "Insertando en nodo hoja\n",
      "Insertando en nodo hoja\n",
      "Insertando en nodo hoja\n",
      "Insertando en nodo hoja\n",
      "Insertando en nodo hoja\n",
      "Insertando en nodo hoja\n",
      "Insertando en nodo hoja\n",
      "Insertando en nodo hoja\n",
      "Insertando en nodo hoja\n",
      "La raíz está llena, se procede a dividirla\n",
      "Dividiendo nodo hijo en la posición 0\n",
      "Navegando a nodo interno para insertar\n",
      "Insertando en nodo hoja\n"
     ]
    },
    {
     "data": {
      "image/svg+xml": [
       "<?xml version=\"1.0\" encoding=\"UTF-8\" standalone=\"no\"?>\n",
       "<!DOCTYPE svg PUBLIC \"-//W3C//DTD SVG 1.1//EN\"\n",
       " \"http://www.w3.org/Graphics/SVG/1.1/DTD/svg11.dtd\">\n",
       "<!-- Generated by graphviz version 2.43.0 (0)\n",
       " -->\n",
       "<!-- Title: %3 Pages: 1 -->\n",
       "<svg width=\"208pt\" height=\"116pt\"\n",
       " viewBox=\"0.00 0.00 208.00 116.00\" xmlns=\"http://www.w3.org/2000/svg\" xmlns:xlink=\"http://www.w3.org/1999/xlink\">\n",
       "<g id=\"graph0\" class=\"graph\" transform=\"scale(1 1) rotate(0) translate(4 112)\">\n",
       "<title>%3</title>\n",
       "<polygon fill=\"white\" stroke=\"transparent\" points=\"-4,4 -4,-112 204,-112 204,4 -4,4\"/>\n",
       "<!-- 8746491498409 -->\n",
       "<g id=\"node1\" class=\"node\">\n",
       "<title>8746491498409</title>\n",
       "<polygon fill=\"none\" stroke=\"black\" points=\"121,-108 67,-108 67,-72 121,-72 121,-108\"/>\n",
       "<text text-anchor=\"middle\" x=\"94\" y=\"-86.3\" font-family=\"Times,serif\" font-size=\"14.00\">8</text>\n",
       "</g>\n",
       "<!-- 8746491498445 -->\n",
       "<g id=\"node2\" class=\"node\">\n",
       "<title>8746491498445</title>\n",
       "<polygon fill=\"none\" stroke=\"black\" points=\"80,-36 0,-36 0,0 80,0 80,-36\"/>\n",
       "<text text-anchor=\"middle\" x=\"40\" y=\"-14.3\" font-family=\"Times,serif\" font-size=\"14.00\">0|3|4|6|7</text>\n",
       "</g>\n",
       "<!-- 8746491498409&#45;&gt;8746491498445 -->\n",
       "<g id=\"edge1\" class=\"edge\">\n",
       "<title>8746491498409&#45;&gt;8746491498445</title>\n",
       "<path fill=\"none\" stroke=\"black\" d=\"M80.65,-71.7C74.24,-63.39 66.44,-53.28 59.39,-44.14\"/>\n",
       "<polygon fill=\"black\" stroke=\"black\" points=\"62.07,-41.88 53.19,-36.1 56.53,-46.16 62.07,-41.88\"/>\n",
       "</g>\n",
       "<!-- 8746491498457 -->\n",
       "<g id=\"node3\" class=\"node\">\n",
       "<title>8746491498457</title>\n",
       "<polygon fill=\"none\" stroke=\"black\" points=\"200,-36 98,-36 98,0 200,0 200,-36\"/>\n",
       "<text text-anchor=\"middle\" x=\"149\" y=\"-14.3\" font-family=\"Times,serif\" font-size=\"14.00\">11|12|50|90</text>\n",
       "</g>\n",
       "<!-- 8746491498409&#45;&gt;8746491498457 -->\n",
       "<g id=\"edge2\" class=\"edge\">\n",
       "<title>8746491498409&#45;&gt;8746491498457</title>\n",
       "<path fill=\"none\" stroke=\"black\" d=\"M107.6,-71.7C114.12,-63.39 122.07,-53.28 129.25,-44.14\"/>\n",
       "<polygon fill=\"black\" stroke=\"black\" points=\"132.13,-46.13 135.56,-36.1 126.63,-41.81 132.13,-46.13\"/>\n",
       "</g>\n",
       "</g>\n",
       "</svg>\n"
      ],
      "text/plain": [
       "<graphviz.graphs.Digraph at 0x7f47384cf520>"
      ]
     },
     "metadata": {},
     "output_type": "display_data"
    }
   ],
   "source": [
    "# Crear una instancia del árbol B con grado mínimo 3\n",
    "b_tree = BTree(4)\n",
    "\n",
    "# Insertar elementos en el árbol\n",
    "elements = [3, 7, 90, 11, 50, 12, 8, 4, 6, 0]\n",
    "for element in elements:\n",
    "    b_tree.insert(element)\n",
    "\n",
    "# Visualizar el árbol B después de cada insercion\n",
    "dot = visualize_b_tree(b_tree.root)\n",
    "display(dot)"
   ]
  },
  {
   "cell_type": "markdown",
   "metadata": {},
   "source": [
    "## Complejidad del Algoritmo\n",
    "\n",
    "La complejidad de la inserción en un árbol B depende de la altura del árbol. En el peor caso, puede ser necesario dividir los nodos en cada nivel desde la hoja hasta la raíz, lo que da una complejidad de tiempo O(log n), donde n es el número de claves en el árbol. La complejidad del espacio es O(1), ya que solo se requiere un espacio constante adicional durante la inserción, más allá del almacenamiento de los propios elementos del árbol.\n",
    "\n",
    "## Ejercicios Prácticos\n",
    "\n",
    "1. **Insertar y Eliminar:** Después de realizar una serie de inserciones, realiza varias eliminaciones, y luego visualiza el árbol para comprender cómo afectan las eliminaciones a su estructura.\n",
    "2. **Búsqueda de Elementos:** Implementa una función de búsqueda que verifique si un elemento está presente en el árbol B. Utiliza esta función para buscar varios elementos e imprime los resultados."
   ]
  }
 ],
 "metadata": {
  "kernelspec": {
   "display_name": "Python 3",
   "language": "python",
   "name": "python3"
  },
  "language_info": {
   "codemirror_mode": {
    "name": "ipython",
    "version": 3
   },
   "file_extension": ".py",
   "mimetype": "text/x-python",
   "name": "python",
   "nbconvert_exporter": "python",
   "pygments_lexer": "ipython3",
   "version": "3.8.10"
  }
 },
 "nbformat": 4,
 "nbformat_minor": 2
}
