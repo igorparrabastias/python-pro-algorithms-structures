{
 "cells": [
  {
   "cell_type": "markdown",
   "metadata": {},
   "source": [
    "## Recorrido Preorder en Árboles Binarios\n",
    "\n",
    "El recorrido Preorder es una técnica fundamental en el estudio de árboles binarios, proporcionando una forma sistemática de visitar todos los nodos en un orden específico: raíz, seguido del subárbol izquierdo, y luego el subárbol derecho. Esta sección profundiza en el método Preorder, ofreciendo una implementación detallada, ejemplos, ejercicios, y una visualización para reforzar el aprendizaje.\n",
    "\n",
    "- **Concepto de Recorrido Preorder:**\n",
    "  - Visita el nodo actual.\n",
    "  - Recorre el subárbol izquierdo en Preorder.\n",
    "  - Recorre el subárbol derecho en Preorder.\n",
    "\n",
    "- **Aplicaciones del Recorrido Preorder:**\n",
    "  - Creación de copias exactas de árboles.\n",
    "  - Serialización de árboles para almacenamiento o transmisión.\n",
    "  - Evaluación de expresiones matemáticas almacenadas en árboles binarios.\n",
    "### Implementación de Recorrido Preorder\n"
   ]
  },
  {
   "cell_type": "code",
   "execution_count": 1,
   "metadata": {},
   "outputs": [],
   "source": [
    "# Código utilitario\n",
    "from src.visualization import visualize_bt\n",
    "from src.BinaryTree import BinaryTree"
   ]
  },
  {
   "cell_type": "code",
   "execution_count": 2,
   "metadata": {},
   "outputs": [],
   "source": [
    "# Implementación del recorrido Preorder en la clase BinaryTree.\n",
    "def preorder_traversal(self, node, result=None):\n",
    "    if result is None:\n",
    "        result = []\n",
    "    if node:\n",
    "        result.append(node.data)  # Procesa el nodo actual.\n",
    "        self.preorder_traversal(node.left, result)  # Visita subárbol izquierdo.\n",
    "        self.preorder_traversal(node.right, result)  # Visita subárbol derecho.\n",
    "    return result\n",
    "\n",
    "BinaryTree.preorder_traversal = lambda self: preorder_traversal(self, self.root)"
   ]
  },
  {
   "cell_type": "markdown",
   "metadata": {},
   "source": [
    "### Ejemplo Detallado\n",
    "\n",
    "Consideremos un árbol binario con la siguiente estructura:\n",
    "\n",
    "<pre>\n",
    "    1\n",
    "   / \\\n",
    "  2   3\n",
    " / \\\n",
    "4   5\n",
    "</pre>\n",
    "\n",
    "El recorrido Preorder de este árbol sería: 1, 2, 4, 5, 3.\n",
    "\n",
    "### Ejercicios Prácticos\n",
    "\n",
    "1. Realice el recorrido Preorder en el siguiente árbol binario y liste los nodos en el orden visitado:\n",
    "\n",
    "<pre>\n",
    "    5\n",
    "   / \\\n",
    "  3   7\n",
    " / \\   \\\n",
    "1   4   9\n",
    "</pre>\n",
    "\n",
    "2. Implemente una función de recorrido Preorder que no utilice recursión, sino una pila para gestionar el proceso de recorrido.\n",
    "\n",
    "### Complejidad del Algoritmo\n",
    "\n",
    "- **Complejidad Temporal**: El recorrido Preorder visita cada nodo exactamente una vez, resultando en una complejidad temporal de O(n), donde n es el número de nodos en el árbol.\n",
    "  \n",
    "- **Complejidad Espacial**: En el peor de los casos, la profundidad de la pila de llamadas recursivas (para una implementación recursiva) es proporcional a la altura del árbol, lo que resulta en O(h) complejidad espacial, donde h es la altura del árbol. Para un árbol desequilibrado, esto podría ser O(n).\n",
    "\n",
    "### Soluciones a los Ejercicios\n",
    "\n",
    "1. Para el árbol dado, el recorrido Preorder sería: 5, 3, 1, 4, 7, 9.\n",
    "\n",
    "2. La solución al segundo ejercicio implicaría utilizar una pila para simular la recursividad:\n"
   ]
  },
  {
   "cell_type": "code",
   "execution_count": 3,
   "metadata": {},
   "outputs": [],
   "source": [
    "def preorder_traversal_iterative(self):\n",
    "    if self.root is None:\n",
    "        return []\n",
    "\n",
    "    stack, result = [self.root], []\n",
    "\n",
    "    while stack:\n",
    "        node = stack.pop()\n",
    "        if node:\n",
    "            result.append(node.data)\n",
    "            stack.append(node.right)  # Derecho se añade primero para que izquierdo se procese primero.\n",
    "            stack.append(node.left)\n",
    "\n",
    "    return result"
   ]
  },
  {
   "cell_type": "markdown",
   "metadata": {},
   "source": [
    "Al completar esta sección, los estudiantes deberían tener una comprensión sólida del recorrido Preorder, tanto teóricamente como en términos de su implementación y aplicación práctica."
   ]
  }
 ],
 "metadata": {
  "kernelspec": {
   "display_name": "Python 3",
   "language": "python",
   "name": "python3"
  },
  "language_info": {
   "codemirror_mode": {
    "name": "ipython",
    "version": 3
   },
   "file_extension": ".py",
   "mimetype": "text/x-python",
   "name": "python",
   "nbconvert_exporter": "python",
   "pygments_lexer": "ipython3",
   "version": "3.8.10"
  }
 },
 "nbformat": 4,
 "nbformat_minor": 2
}
