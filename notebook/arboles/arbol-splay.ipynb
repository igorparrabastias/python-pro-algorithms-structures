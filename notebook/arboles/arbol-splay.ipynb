{
 "cells": [
  {
   "cell_type": "markdown",
   "metadata": {},
   "source": [
    "# Introducción a los Árboles Splay\n",
    "\n",
    "Los árboles Splay son una forma sofisticada de árboles de búsqueda binaria que se autoajustan. Fueron introducidos por Daniel Sleator y Robert Tarjan en 1985. La idea principal detrás de los árboles Splay es que los elementos accedidos recientemente se mueven cerca de la raíz del árbol mediante una serie de rotaciones, con la expectativa de que serán accedidos nuevamente en un futuro cercano, lo que podría reducir el tiempo promedio de acceso. Esta característica los hace excepcionalmente útiles en aplicaciones donde ciertos elementos son accedidos con mayor frecuencia que otros, permitiendo que el árbol se ajuste dinámicamente a patrones de acceso.\n",
    "\n",
    "A diferencia de otros árboles de búsqueda binaria que requieren información adicional para equilibrarse, como los árboles AVL o Rojo-Negro, los árboles Splay no necesitan marcas o colores adicionales en sus nodos para mantener el árbol balanceado. En su lugar, utilizan una operación llamada \"splay\" para mover un nodo específico al tope del árbol cada vez que se accede a él. Esta operación implica realizar una serie de rotaciones específicas (zig, zig-zig, zig-zag) dependiendo de la posición del nodo en relación con su padre y abuelo.\n",
    "\n",
    "## Características Principales\n",
    "\n",
    "- **Autoajustables:** Cada operación de acceso a un nodo (ya sea búsqueda, inserción o eliminación) es seguida por un splay del nodo, moviéndolo a la raíz del árbol. Esto puede resultar en un árbol más balanceado con el tiempo.\n",
    "- **No requiere estructuras adicionales:** A diferencia de otros árboles balanceados, los árboles Splay no requieren información extra como factores de equilibrio o colores para mantener el árbol balanceado.\n",
    "- **Amortización:** Aunque las operaciones individuales pueden tener un coste alto en el peor de los casos, el coste amortizado (promedio) de las operaciones en un árbol Splay es sorprendentemente eficiente, con un orden de complejidad temporal promedio de O(log n) para las operaciones básicas."
   ]
  },
  {
   "cell_type": "markdown",
   "metadata": {},
   "source": [
    "## Ventajas Operacionales y Principios Teóricos\n",
    "\n",
    "Además de su habilidad para adaptarse dinámicamente a patrones de acceso, los árboles Splay ofrecen varias ventajas operacionales y teóricas que los hacen atractivos para un amplio rango de aplicaciones informáticas. Por ejemplo, la facilidad con la que se pueden implementar y la ausencia de necesidad de almacenar información adicional para el balanceo hacen de los árboles Splay una opción eficiente en términos de memoria. Esto contrasta notablemente con otras estructuras de árboles balanceados, que a menudo requieren nodos adicionales o marcadores para mantener el árbol en un estado equilibrado.\n",
    "\n",
    "Otra característica interesante de los árboles Splay es su capacidad de proporcionar un acceso secuencial rápido a sus elementos. A pesar de ser un árbol de búsqueda binaria, donde uno normalmente esperaría que las operaciones de acceso secuencial tengan un coste lineal, los árboles Splay pueden realizar estas operaciones en tiempo casi lineal, gracias a la reorganización que ocurre durante las operaciones de splay. Esto los hace particularmente útiles en escenarios donde se requiere tanto acceso aleatorio como secuencial eficiente.\n",
    "\n",
    "La teoría detrás de los árboles Splay también es fascinante; se basan en el principio de acceso secuencial y el teorema del potencial para garantizar que, a largo plazo, las operaciones se ejecuten en tiempo amortizado logarítmico. Esta propiedad amortizada significa que, aunque algunas operaciones individuales pueden ser costosas, el coste promedio de las operaciones a lo largo de una serie de accesos es bastante bajo.\n",
    "\n",
    "Finalmente, es importante mencionar que, aunque los árboles Splay tienen muchas ventajas, también poseen ciertas limitaciones. Por ejemplo, en el caso peor de una secuencia de operaciones, el rendimiento de un árbol Splay puede degradarse a un comportamiento lineal. Sin embargo, este comportamiento es raro y, en la práctica, los árboles Splay ofrecen un rendimiento robusto y eficiente para una amplia variedad de casos de uso. Esta combinación de eficiencia, simplicidad y rendimiento amortizado hace de los árboles Splay una herramienta poderosa y versátil en el arsenal de estructuras de datos."
   ]
  }
 ],
 "metadata": {
  "language_info": {
   "name": "python"
  }
 },
 "nbformat": 4,
 "nbformat_minor": 2
}
