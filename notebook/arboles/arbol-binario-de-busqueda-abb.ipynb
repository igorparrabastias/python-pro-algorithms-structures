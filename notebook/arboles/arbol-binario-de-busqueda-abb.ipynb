{
 "cells": [
  {
   "cell_type": "markdown",
   "metadata": {},
   "source": [
    "# Árboles binarios de búsqueda\n",
    "\n",
    "- Organizados de tal manera que la búsqueda es eficiente.\n",
    "- Aquí tienes un diagrama que ilustra un Árbol Binario de Búsqueda (ABB), donde cada nodo cumple la propiedad de que todos los nodos a su izquierda tienen valores menores y todos los nodos a su derecha tienen valores mayores\n",
    "<pre>\n",
    "\n",
    "        8\n",
    "       / \\\n",
    "      3   10\n",
    "     / \\    \\\n",
    "    1   6    14\n",
    "       / \\   /\n",
    "      4   7 13\n",
    "</pre>\n",
    "- El nodo 8 es la raíz. Todos los valores en el subárbol izquierdo de 8 (3, 1, 6, 4, 7) son menores que 8, y todos los valores en el subárbol derecho de 8 (10, 14, 13) son mayores.\n",
    "- El nodo 3, siendo hijo izquierdo de 8, tiene un valor menor que 8. Además, 3 tiene su propio subárbol, con 1 como hijo izquierdo y 6 como hijo derecho, cumpliendo con la propiedad de ordenamiento.\n",
    "- Similarmente, el nodo 10 es hijo derecho de 8, y tiene 14 como hijo derecho, el cual a su vez tiene 13 como hijo izquierdo, manteniendo la propiedad de que en un ABB, para cualquier nodo dado, todos los valores a la izquierda son menores y todos los valores a la derecha son mayores."
   ]
  }
 ],
 "metadata": {
  "language_info": {
   "name": "python"
  }
 },
 "nbformat": 4,
 "nbformat_minor": 2
}
