{
 "cells": [
  {
   "cell_type": "markdown",
   "metadata": {},
   "source": [
    "# Búsqueda en un BST\n",
    "\n",
    "La operación de búsqueda en un Árbol Binario de Búsqueda (BST) es una operación crítica que aprovecha la propiedad clave del BST: para cualquier nodo, todos los elementos en el subárbol izquierdo son menores que el nodo y todos los elementos en el subárbol derecho son mayores. Esta propiedad permite realizar búsquedas eficientes, reduciendo significativamente el número de comparaciones necesarias en comparación con una estructura de datos lineal.\n",
    "\n",
    "- **Concepto de Búsqueda en BST:**\n",
    "  - Comience en la raíz del árbol.\n",
    "  - Si el valor buscado es igual al valor del nodo actual, la búsqueda ha sido exitosa.\n",
    "  - Si el valor buscado es menor que el valor del nodo actual, continúe la búsqueda en el subárbol izquierdo.\n",
    "  - Si el valor buscado es mayor que el valor del nodo actual, continúe la búsqueda en el subárbol derecho.\n",
    "  - Si alcanza una hoja (nodo sin hijos) sin encontrar el valor, la búsqueda es infructuosa.\n",
    "\n",
    "- **Aplicaciones de la Búsqueda en BST:**\n",
    "  - Verificar si un elemento existe en un conjunto de datos.\n",
    "  - Recuperar información asociada a un elemento almacenado en un árbol.\n",
    "  - Implementación de operaciones de búsqueda en bases de datos y sistemas de archivos.\n",
    "\n",
    "## Implementación en Python\n",
    "\n",
    "Aquí te muestro cómo implementar este método en la clase [`BST`](src/BST.py): "
   ]
  },
  {
   "cell_type": "code",
   "execution_count": 1,
   "metadata": {},
   "outputs": [],
   "source": [
    "# Código utilitario\n",
    "from src.visualization import visualize_bt\n",
    "from src.BST import BST"
   ]
  },
  {
   "cell_type": "code",
   "execution_count": 2,
   "metadata": {},
   "outputs": [],
   "source": [
    "# Función pública para buscar una llave en el árbol\n",
    "def search(self, key):\n",
    "    return self._search_recursive(self.root, key)\n",
    "\n",
    "# Función recursiva privada para buscar un nodo\n",
    "def _search_recursive(self, current_node, key):\n",
    "    # Caso base: el valor no se encontró o se llegó a un nodo hoja.\n",
    "    if current_node is None:\n",
    "        return False\n",
    "\n",
    "    # Si el valor actual del nodo es el que buscamos, retorna True.\n",
    "    if current_node.data == key:\n",
    "        return True\n",
    "\n",
    "    # Decide si debe buscar en el subárbol izquierdo o derecho.\n",
    "    if key < current_node.data:\n",
    "        return self._search_recursive(current_node.left, key)\n",
    "    else:\n",
    "        return self._search_recursive(current_node.right, key)\n",
    "\n",
    "\n",
    "\n",
    "# Extender la clase BST con el nuevo método\n",
    "BST.search = search\n",
    "BST._search_recursive = _search_recursive"
   ]
  },
  {
   "cell_type": "markdown",
   "metadata": {},
   "source": [
    "## Pruebas de Búsqueda\n",
    "\n",
    "Para probar la función de búsqueda, utilizaremos el siguiente código:"
   ]
  },
  {
   "cell_type": "code",
   "execution_count": 3,
   "metadata": {},
   "outputs": [
    {
     "name": "stdout",
     "output_type": "stream",
     "text": [
      "True\n",
      "False\n"
     ]
    }
   ],
   "source": [
    "# Crear un árbol y realizar inserciones\n",
    "tree = BST()\n",
    "tree.insert(10)\n",
    "tree.insert(5)\n",
    "tree.insert(15)\n",
    "tree.insert(3)\n",
    "tree.insert(7)\n",
    "tree.insert(18)\n",
    "\n",
    "# Pruebas de búsqueda\n",
    "print(tree.search(7))  # Debería devolver True\n",
    "print(tree.search(19))  # Debería devolver False"
   ]
  },
  {
   "cell_type": "markdown",
   "metadata": {},
   "source": [
    "## Complejidad del Algoritmo\n",
    "\n",
    "- **Complejidad Temporal**: La complejidad temporal en el peor de los casos es O(n), similar a la inserción, donde n es el número de nodos en el árbol. En un árbol balanceado, es O(log n).\n",
    "\n",
    "- **Complejidad Espacial**: La complejidad espacial es O(h), donde h es la altura del árbol. Esto se debe al uso del stack de llamadas en la implementación recursiva."
   ]
  },
  {
   "cell_type": "markdown",
   "metadata": {},
   "source": [
    "## Ejercicios Prácticos\n",
    "\n",
    "1. **Búsqueda de Múltiples Valores**: Dada una lista de valores `[3, 6, 9, 12, 15, 18]`, realiza una búsqueda para cada uno en el BST y reporta si cada valor está presente o no.\n",
    "\n",
    "2. **Medición de Eficiencia**: Inserta elementos de un rango de 1 a 1000 en un BST y luego realiza búsquedas para 10 números aleatorios dentro y fuera del rango. Mide el tiempo que toma cada búsqueda e informa los resultados para evaluar la eficiencia.\n",
    "\n",
    "## Soluciones a los Ejercicios"
   ]
  },
  {
   "cell_type": "code",
   "execution_count": 4,
   "metadata": {},
   "outputs": [
    {
     "name": "stdout",
     "output_type": "stream",
     "text": [
      "El valor 3 está en el BST.\n",
      "El valor 6 no está en el BST.\n",
      "El valor 9 no está en el BST.\n",
      "El valor 12 no está en el BST.\n",
      "El valor 15 está en el BST.\n",
      "El valor 18 está en el BST.\n",
      "Búsqueda del número 1266: 0.0002090930938720703 segundos.\n",
      "Búsqueda del número 1163: 0.00021004676818847656 segundos.\n",
      "Búsqueda del número 1285: 0.00020074844360351562 segundos.\n",
      "Búsqueda del número 1532: 0.00020313262939453125 segundos.\n",
      "Búsqueda del número 1347: 0.0002071857452392578 segundos.\n",
      "Búsqueda del número 859: 0.00016736984252929688 segundos.\n",
      "Búsqueda del número 314: 5.650520324707031e-05 segundos.\n",
      "Búsqueda del número 1709: 0.00019669532775878906 segundos.\n",
      "Búsqueda del número 1906: 0.00019478797912597656 segundos.\n",
      "Búsqueda del número 1559: 0.0002124309539794922 segundos.\n"
     ]
    }
   ],
   "source": [
    "### Solución al Ejercicio 1\n",
    "\n",
    "values = [3, 6, 9, 12, 15, 18]\n",
    "for value in values:\n",
    "    print(f\"El valor {value} {'está' if tree.search(value) else 'no está'} en el BST.\")\n",
    "\n",
    "### Solución al Ejercicio 2\n",
    "\n",
    "import random\n",
    "import time\n",
    "\n",
    "# Insertar elementos en el BST\n",
    "for i in range(1, 1001):\n",
    "    tree.insert(i)\n",
    "\n",
    "# Realizar búsquedas y medir el tiempo\n",
    "for _ in range(10):\n",
    "    num = random.randint(0, 2000)  # Número dentro y fuera del rango\n",
    "    start_time = time.time()\n",
    "    tree.search(num)\n",
    "    end_time = time.time()\n",
    "    print(f\"Búsqueda del número {num}: {end_time - start_time} segundos.\")"
   ]
  }
 ],
 "metadata": {
  "kernelspec": {
   "display_name": "Python 3",
   "language": "python",
   "name": "python3"
  },
  "language_info": {
   "codemirror_mode": {
    "name": "ipython",
    "version": 3
   },
   "file_extension": ".py",
   "mimetype": "text/x-python",
   "name": "python",
   "nbconvert_exporter": "python",
   "pygments_lexer": "ipython3",
   "version": "3.8.10"
  }
 },
 "nbformat": 4,
 "nbformat_minor": 2
}
