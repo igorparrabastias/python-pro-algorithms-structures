{
 "cells": [
  {
   "cell_type": "markdown",
   "metadata": {},
   "source": [
    "#  Arboles rojo negro\n",
    "\n",
    "Los árboles Rojo-Negro son una forma de árbol binario de búsqueda balanceado donde cada nodo tiene un color adicional (rojo o negro) que sigue ciertas reglas para mantener el árbol equilibrado. Aquí te muestro un diagrama simple para ilustrar cómo podría verse un árbol Rojo-Negro:\n",
    "\n",
    "<pre>\n",
    "                (B)10\n",
    "                /      \\\n",
    "            (R)7      (R)15\n",
    "            /   \\      /    \\\n",
    "        (B)5   (B)8 (B)12  (B)17\n",
    "          / \\         /  \\\n",
    "        (R)3 (R)6   (R)11(R)13\n",
    "</pre>\n",
    "\n",
    "**Clave de colores y estructura:**\n",
    "- **(B: Black)**: Nodo Negro\n",
    "- **(R: Red)**: Nodo Rojo\n",
    "- **Numeros**: Valor del nodo\n",
    "\n",
    "**Reglas básicas de los árboles Rojo-Negro:**\n",
    "1. Cada nodo es rojo o negro.\n",
    "2. La raíz es siempre negra.\n",
    "3. Todos los nodos hoja (NIL) son negros.\n",
    "4. Si un nodo es rojo, entonces ambos hijos son negros (no pueden haber dos nodos rojos seguidos en cualquier camino).\n",
    "5. Todos los caminos desde un nodo a sus nodos hoja contienen el mismo número de nodos negros."
   ]
  }
 ],
 "metadata": {
  "language_info": {
   "name": "python"
  }
 },
 "nbformat": 4,
 "nbformat_minor": 2
}
