{
 "cells": [
  {
   "cell_type": "markdown",
   "metadata": {},
   "source": [
    "#  Arboles rojo negro\n",
    "\n",
    "Los árboles rojo-negro son una estructura de datos tipo **árbol binario de búsqueda** (BST) con propiedades adicionales que **equilibran el árbol**, asegurando que la **distancia desde la raíz hasta las hojas sea lo más corta posible**. Este equilibrio es crucial para mantener las operaciones de búsqueda, inserción y eliminación eficientes, con un tiempo de complejidad garantizado de O(log n), donde n es el número de nodos en el árbol.\n",
    "\n",
    "### Origen y Propósito\n",
    "\n",
    "El concepto de árboles rojo-negro fue introducido en 1972 por **Rudolf Bayer**, quien los llamó \"árboles simétricos binarios\", pero fue con **Leonidas J. Guibas y Robert Sedgewick** que adquirieron la estructura y nomenclatura actual. La idea era mejorar los árboles de búsqueda binarios regulares, donde la altura del árbol podría crecer proporcionalmente al número de nodos, degenerando en listas enlazadas en el peor de los casos. Los árboles rojo-negro mantienen un **equilibrio más estricto**, asegurando que el árbol permanezca más compacto y, por ende, más eficiente.\n",
    "\n",
    "### Propiedades\n",
    "\n",
    "Los árboles rojo-negro se rigen por cinco propiedades esenciales que garantizan el equilibrio y la eficiencia del árbol:\n",
    "\n",
    "1. **Coloración de nodos**: Cada nodo es coloreado de rojo o negro.\n",
    "2. **Raíz negra**: La raíz del árbol siempre es negra.\n",
    "3. **Hojas negras**: Todas las hojas (NIL o nodos externos) son negras.\n",
    "4. **Rojo no tiene hijos rojos**: Si un nodo es rojo, entonces ambos hijos deben ser negros.\n",
    "5. **Igual número de nodos negros**: Todos los caminos desde un nodo hasta sus hojas descendientes contienen el mismo número de nodos negros.\n",
    "\n",
    "Estas propiedades aseguran que** el camino más largo desde la raíz hasta la hoja sea como máximo el doble del más corto**, lo que significa que el árbol está razonablemente equilibrado.\n",
    "\n",
    "### Funcionamiento\n",
    "\n",
    "Para mantener estas propiedades, los árboles rojo-negro realizan rotaciones y recoloreo de nodos durante las operaciones de inserción y eliminación. \n",
    "\n",
    "- **Rotaciones**: Son operaciones que cambian la estructura del árbol pero mantienen las propiedades de búsqueda binaria. Hay dos tipos principales: rotación a la izquierda y rotación a la derecha. Las rotaciones se usan para reequilibrar el árbol después de insertar o eliminar nodos.\n",
    "- **Recoloreo**: Consiste en cambiar el color de los nodos para mantener el cumplimiento de las propiedades rojo-negro, especialmente después de inserciones o eliminaciones que perturben el equilibrio del árbol.\n",
    "\n",
    "### Importancia\n",
    "\n",
    "Los árboles rojo-negro son fundamentales en ciencias de la computación y se utilizan ampliamente en la implementación de varias estructuras de datos y algoritmos, tales como bibliotecas de colecciones en lenguajes de programación, sistemas de bases de datos, y algoritmos de programación concurrente. Su importancia radica en la capacidad de garantizar operaciones eficientes en términos de tiempo, lo cual es crítico en aplicaciones que manejan grandes volúmenes de datos o requieren alta velocidad de respuesta.\n",
    "\n",
    "En resumen, los árboles rojo-negro son una pieza esencial de la ingeniería de software y la ciencia de la computación, proporcionando una solución eficiente y equilibrada para el almacenamiento y la búsqueda de datos en una estructura de árbol."
   ]
  }
 ],
 "metadata": {
  "language_info": {
   "name": "python"
  }
 },
 "nbformat": 4,
 "nbformat_minor": 2
}
