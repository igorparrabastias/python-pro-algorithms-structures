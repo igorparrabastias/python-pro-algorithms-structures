{
  "cells": [
    {
      "attachments": {},
      "cell_type": "markdown",
      "id": "ad42a830",
      "metadata": {},
      "source": [
        "### Ejercicios\n",
        "\n",
        "1. **Dibuja un árbol binario simple** y etiqueta cada nodo con un valor único.\n",
        "2. **Implementa un recorrido en preorden** para el árbol binario que dibujaste, mostrando los pasos y el resultado final.\n",
        "3. **Escribe pseudocódigo para insertar un nodo** en un Árbol Binario de Búsqueda.\n",
        "4. **Describe el proceso de balanceo** en un Árbol AVL después de insertar un nodo que causa desbalance.\n",
        "5. **Compara los árboles AVL y Rojo-Negro** en términos de operaciones de inserción y balanceo.\n",
        "6. **Explica cómo se podría usar un árbol de expresión** para evaluar la expresión matemática `(3 + 2) * (4 - 1)`.\n",
        "\n",
        "### Soluciones\n",
        "\n",
        "1. Ejemplo de árbol binario:"
      ]
    },
    {
      "cell_type": "markdown",
      "id": "463987de",
      "metadata": {},
      "source": []
    },
    {
      "cell_type": "code",
      "execution_count": null,
      "id": "e6107add",
      "metadata": {},
      "outputs": [],
      "source": [
        "    1\n",
        "   / \\\\\n",
        "  2   3\n",
        " / \\\\\n",
        "4   5"
      ]
    },
    {
      "attachments": {},
      "cell_type": "markdown",
      "id": "e17c3586",
      "metadata": {},
      "source": [
        "2. Recorrido en preorden: 1, 2, 4, 5, 3.\n",
        "3. Pseudocódigo para inserción en ABB:"
      ]
    },
    {
      "cell_type": "code",
      "execution_count": null,
      "id": "fcf8f7a5",
      "metadata": {},
      "outputs": [],
      "source": [
        "función insertar(nodo, valor):\n",
        "    si nodo es None:\n",
        "        nodo = nuevo Nodo(valor)\n",
        "    sino si valor < nodo.valor:\n",
        "        nodo.izquierda = insertar(nodo.izquierda, valor)\n",
        "    sino:\n",
        "        nodo.derecha = insertar(nodo.derecha, valor)\n",
        "    retorno nodo"
      ]
    },
    {
      "attachments": {},
      "cell_type": "markdown",
      "id": "909bbc1d",
      "metadata": {},
      "source": [
        "4. Proceso de balanceo en AVL:\n",
        "    - Detectar el tipo de desbalance (izquierda-izquierda, derecha-derecha, izquierda-derecha, derecha-izquierda).\n",
        "    - Realizar la rotación apropiada (simple o doble) para restaurar el balance.\n",
        "5. Comparación AVL vs. Rojo-Negro:\n",
        "    - **AVL:** Proporciona un balanceo más estricto, lo que resulta en árboles más balanceados y puede ser mejor para búsquedas.\n",
        "    - **Rojo-Negro:** Menos estricto en el balanceo, lo que puede resultar en inserciones y eliminaciones más rápidas.\n",
        "6. Uso de árbol de expresión para evaluar `(3 + 2) * (4 - 1)`:\n",
        "    - Construir el árbol con `(+)` y `(*)` como nodos y los números como hojas.\n",
        "    - Evaluar primero las operaciones de suma y resta, seguido por la multiplicación, siguiendo la estructura del árbol."
      ]
    }
  ],
  "metadata": {
    "language_info": {
      "name": "python"
    }
  },
  "nbformat": 4,
  "nbformat_minor": 5
}
