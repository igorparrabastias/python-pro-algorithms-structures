{
  "cells": [
    {
      "attachments": {},
      "cell_type": "markdown",
      "id": "ad42a830",
      "metadata": {},
      "source": [
        "# Ejercicios (I)\n",
        "\n",
        "1. **Dibuja un árbol binario simple** y etiqueta cada nodo con un valor único.\n",
        "2. **Implementa un recorrido en preorden** para el árbol binario que dibujaste, mostrando los pasos y el resultado final.\n",
        "3. **Escribe pseudocódigo para insertar un nodo** en un Árbol Binario de Búsqueda.\n",
        "4. **Describe el proceso de balanceo** en un Árbol AVL después de insertar un nodo que causa desbalance.\n",
        "5. **Compara los árboles AVL y Rojo-Negro** en términos de operaciones de inserción y balanceo.\n",
        "6. **Explica cómo se podría usar un árbol de expresión** para evaluar la expresión matemática `(3 + 2) * (4 - 1)`.\n",
        "\n",
        "## Soluciones\n",
        "\n",
        "1. Ejemplo de árbol binario:"
      ]
    },
    {
      "cell_type": "code",
      "execution_count": null,
      "id": "e6107add",
      "metadata": {},
      "outputs": [],
      "source": [
        "    1\n",
        "   / \\\\\n",
        "  2   3\n",
        " / \\\\\n",
        "4   5"
      ]
    },
    {
      "attachments": {},
      "cell_type": "markdown",
      "id": "e17c3586",
      "metadata": {},
      "source": [
        "2. Recorrido en preorden: 1, 2, 4, 5, 3.\n",
        "3. Pseudocódigo para inserción en ABB:"
      ]
    },
    {
      "cell_type": "code",
      "execution_count": null,
      "id": "fcf8f7a5",
      "metadata": {},
      "outputs": [],
      "source": [
        "función insertar(nodo, valor):\n",
        "    si nodo es None:\n",
        "        nodo = nuevo Nodo(valor)\n",
        "    sino si valor < nodo.valor:\n",
        "        nodo.izquierda = insertar(nodo.izquierda, valor)\n",
        "    sino:\n",
        "        nodo.derecha = insertar(nodo.derecha, valor)\n",
        "    retorno nodo"
      ]
    },
    {
      "attachments": {},
      "cell_type": "markdown",
      "id": "909bbc1d",
      "metadata": {},
      "source": [
        "4. Proceso de balanceo en AVL:\n",
        "    - Detectar el tipo de desbalance (izquierda-izquierda, derecha-derecha, izquierda-derecha, derecha-izquierda).\n",
        "    - Realizar la rotación apropiada (simple o doble) para restaurar el balance.\n",
        "5. Comparación AVL vs. Rojo-Negro:\n",
        "    - **AVL:** Proporciona un balanceo más estricto, lo que resulta en árboles más balanceados y puede ser mejor para búsquedas.\n",
        "    - **Rojo-Negro:** Menos estricto en el balanceo, lo que puede resultar en inserciones y eliminaciones más rápidas.\n",
        "6. Uso de árbol de expresión para evaluar `(3 + 2) * (4 - 1)`:\n",
        "    - Construir el árbol con `(+)` y `(*)` como nodos y los números como hojas.\n",
        "    - Evaluar primero las operaciones de suma y resta, seguido por la multiplicación, siguiendo la estructura del árbol."
      ]
    },
    {
      "cell_type": "markdown",
      "id": "24996bd4",
      "metadata": {},
      "source": [
        "# Ejercicios (II)\n",
        "\n",
        "Los siguientes ejercicios están diseñados para consolidar tu comprensión de los conceptos básicos de los árboles y para ayudarte a reflexionar sobre cómo se aplican en diferentes áreas de la computación.\n",
        "\n",
        "1. **Identifica Terminología Básica:**\n",
        "   - Dado un diagrama de un árbol, identifica y etiqueta la raíz, los nodos internos, las hojas, la altura y la profundidad del árbol.\n",
        "   - Explica la importancia de cada término en el contexto de los árboles.\n",
        "\n",
        "2. **Clasificación de Tipos de Árboles:**\n",
        "   - Proporciona ejemplos simples dibujados de tres tipos de árboles distintos (por ejemplo, un árbol binario, un árbol n-ario y un árbol binario de búsqueda).\n",
        "   - Describe brevemente cómo se diferencia cada uno en términos de estructura y aplicación.\n",
        "\n",
        "3. **Operaciones Básicas en Árboles:**\n",
        "   - Escribe los pasos que seguirías para añadir un nodo a un árbol binario simple (no necesariamente un árbol binario de búsqueda).\n",
        "   - Describe cómo realizarías un recorrido en preorden en ese árbol.\n",
        "\n",
        "4. **Comparación entre Tipos de Árboles:**\n",
        "   - Dado un conjunto de características (como balanceo automático, orden de los nodos, número máximo de hijos por nodo), compara dos tipos de árboles y determina cuál tipo sería el más adecuado para cada característica.\n",
        "\n",
        "5. **Aplicaciones de Árboles:**\n",
        "   - Elige uno de los contextos que has estudiado (Sistemas de Recomendación, PLN o Bioinformática).\n",
        "   - Describe una situación hipotética en la que un árbol podría ser usado para organizar datos o realizar cálculos, y explica cómo la estructura del árbol facilitaría la tarea.\n",
        "\n",
        "## Soluciones\n",
        "\n",
        "Dado que los ejercicios son teóricos y dependen de ejemplos o situaciones hipotéticas, proporcionaré soluciones generales o explicaciones para cada uno:\n",
        "\n",
        "1. **Identifica Terminología Básica:**\n",
        "   - **Raíz:** El nodo en la parte superior del árbol, sin padres.\n",
        "   - **Nodos internos:** Nodos que tienen al menos un hijo.\n",
        "   - **Hojas:** Nodos sin hijos.\n",
        "   - **Altura:** La longitud del camino más largo desde la raíz hasta una hoja. En un árbol de un solo nivel con solo la raíz, la altura es 0.\n",
        "   - **Profundidad de un nodo:** La longitud del camino desde la raíz hasta ese nodo. La profundidad de la raíz es 0.\n",
        "   - La **importancia** de cada término radica en describir la estructura y las propiedades de los árboles, lo cual es crucial para entender su funcionamiento y optimizar algoritmos que los manipulan.\n",
        "\n",
        "2. **Clasificación de Tipos de Árboles:**\n",
        "   - **Árbol binario:** Cada nodo tiene hasta dos hijos. Utilizado en muchas estructuras de datos y algoritmos.\n",
        "   - **Árbol n-ario:** Cada nodo puede tener n hijos. Útil para representar situaciones más complejas que no se ajustan a la estructura binaria.\n",
        "   - **Árbol binario de búsqueda (ABB):** Un árbol binario en el que cada nodo tiene un valor, y todos los nodos en el subárbol izquierdo de un nodo tienen valores menores, mientras que todos en el subárbol derecho tienen valores mayores. Facilita la búsqueda eficiente.\n",
        "\n",
        "3. **Operaciones Básicas en Árboles:**\n",
        "   - **Añadir un nodo a un árbol binario simple:** Selecciona el primer nodo disponible que no tenga dos hijos y añade el nuevo nodo como hijo. Esto no sigue las reglas de un ABB, por lo que el lugar exacto depende de la aplicación específica.\n",
        "   - **Recorrido en preorden:** Visita primero la raíz, luego realiza un recorrido en preorden del subárbol izquierdo, seguido por un recorrido en preorden del subárbol derecho.\n",
        "\n",
        "4. **Comparación entre Tipos de Árboles:**\n",
        "   - **Balanceo automático:** Los árboles AVL y Rojo-Negro se balancean automáticamente, lo que los hace ideales para operaciones que requieren mantener el árbol balanceado, como las búsquedas eficientes.\n",
        "   - **Orden de los nodos:** Los árboles binarios de búsqueda mantienen un orden específico (menor a la izquierda, mayor a la derecha), ideal para búsquedas.\n",
        "   - **Número máximo de hijos por nodo:** Los árboles n-arios son útiles cuando se necesita que un nodo tenga más de dos hijos, como en el caso de árboles de sintaxis en PLN.\n",
        "\n",
        "5. **Aplicaciones de Árboles (ejemplo con Sistemas de Recomendación):**\n",
        "   - **Situación hipotética:** Un sistema de recomendación para una librería en línea que sugiere libros basados en las preferencias de lectura del usuario.\n",
        "   - **Uso del árbol:** Se podría utilizar un árbol para organizar los libros por género, subgénero, y temas. Los nodos podrían representar categorías, y las hojas, libros individuales. Al conocer las preferencias de un usuario, el sistema podría navegar por este árbol y seleccionar los libros más relevantes para recomendar.\n",
        "   - **Facilitación de la tarea:** La estructura del árbol permite filtrar eficientemente a través de grandes cantidades de datos (libros), haciendo las recomendaciones más pertinentes y personalizadas según las preferencias del usuario.\n",
        "\n",
        "Estas soluciones ofrecen un marco general para entender cómo abordar y resolver los ejercicios propuestos, aunque los detalles específicos podrían variar dependiendo de la implementación exacta y los datos concretos usados en cada situación."
      ]
    }
  ],
  "metadata": {
    "language_info": {
      "name": "python"
    }
  },
  "nbformat": 4,
  "nbformat_minor": 5
}
