{
 "cells": [
  {
   "cell_type": "markdown",
   "metadata": {},
   "source": [
    "# `convert_to_linked_list` en un Árbol General\n",
    "\n",
    "El objetivo de `convert_to_linked_list` en el contexto de un árbol general (no necesariamente un árbol binario o de búsqueda BST) es transformar el árbol en una lista enlazada. A diferencia del BST, un árbol general puede tener **cualquier número de hijos por nodo**, lo que complica mantener un orden específico (como el orden ascendente en un BST) durante la conversión. Para este caso, una estrategia común es realizar un recorrido en **preorden** o en **postorden** del árbol para crear la lista enlazada, asegurando que todos los nodos se visiten según la estructura jerárquica del árbol.\n",
    "\n",
    "## Estructuras de Datos Auxiliares\n",
    "\n",
    "Primero, definiremos las clases básicas para representar los nodos del árbol y de la lista enlazada:"
   ]
  },
  {
   "cell_type": "code",
   "execution_count": 23,
   "metadata": {},
   "outputs": [],
   "source": [
    "# Definimos la clase TreeNode para representar nodos de un árbol\n",
    "class TreeNode:\n",
    "    # El método inicializador para crear un nodo con datos y lista de hijos\n",
    "    # (inicialmente vacía)\n",
    "    def __init__(self, data):\n",
    "        self.data = data  # Almacenamos los datos pasados como parámetro\n",
    "        self.children = []  # Inicializamos la lista de nodos hijos\n",
    "\n",
    "# Definición de la clase ListNode para representar un nodo en una lista\n",
    "# enlazada.\n",
    "class ListNode:\n",
    "    # Constructor del nodo con dato y referencia al siguiente nodo, por defecto\n",
    "    # son cero y None respectivamente.\n",
    "    def __init__(self, data=0, next=None):\n",
    "        self.data = data\n",
    "        self.next = next\n",
    "\n"
   ]
  },
  {
   "cell_type": "markdown",
   "metadata": {},
   "source": [
    "## Implementación en Python de `convert_to_linked_list`\n",
    "\n",
    "Para la conversión, usaremos un recorrido en preorden del árbol, que visita primero la raíz, seguido de sus hijos de izquierda a derecha:"
   ]
  },
  {
   "cell_type": "code",
   "execution_count": 24,
   "metadata": {},
   "outputs": [],
   "source": [
    "# Definimos una función para convertir un árbol en una lista enlazada\n",
    "def convert_to_linked_list(root):\n",
    "    # Si la raíz es None, retornamos None ya que no hay elementos para\n",
    "    # convertir.\n",
    "    if not root:\n",
    "        return None\n",
    "\n",
    "    # Creamos nodo inicial de la lista enlazada, actuando como un nodo 'dummy'.\n",
    "    head = ListNode(None)\n",
    "    current = head\n",
    "\n",
    "    # Función interna que recorre el árbol\n",
    "    def traverse(node):\n",
    "        nonlocal current  # Permitimos el acceso a la variable externa 'current'\n",
    "        if not node:\n",
    "            return\n",
    "\n",
    "        # Creación y conexión del nuevo nodo en la lista en base al valor del\n",
    "        # nodo actual del árbol.\n",
    "        new_node = ListNode(node.data)\n",
    "        current.next = new_node\n",
    "        current = current.next\n",
    "\n",
    "        # Recorremos cada hijo del nodo actual a través de la misma función\n",
    "        # 'traverse' de manera recursiva.\n",
    "        for child in node.children:\n",
    "            traverse(child)\n",
    "\n",
    "    # Iniciamos el recorrido desde la raíz del árbol\n",
    "    traverse(root)\n",
    "    # Retornamos el siguiente del nodo 'dummy' como inicio de la lista enlazada.\n",
    "    return head.next\n"
   ]
  },
  {
   "cell_type": "markdown",
   "metadata": {},
   "source": [
    "## Ejemplo de Uso\n",
    "\n",
    "Veamos cómo usar `convert_to_linked_list` con un árbol general:\n"
   ]
  },
  {
   "cell_type": "code",
   "execution_count": 25,
   "metadata": {},
   "outputs": [
    {
     "name": "stdout",
     "output_type": "stream",
     "text": [
      "1 -> 2 -> 4 -> 5 -> 3 -> 6 -> "
     ]
    }
   ],
   "source": [
    "# Construir un árbol de ejemplo\n",
    "root = TreeNode(1)\n",
    "root.children.append(TreeNode(2))\n",
    "root.children.append(TreeNode(3))\n",
    "root.children[0].children.append(TreeNode(4))\n",
    "root.children[0].children.append(TreeNode(5))\n",
    "root.children[1].children.append(TreeNode(6))\n",
    "\n",
    "\n",
    "# Convertir el árbol en una lista enlazada\n",
    "linked_list = convert_to_linked_list(root)\n",
    "\n",
    "# Imprimir los elementos de la lista enlazada\n",
    "current = linked_list\n",
    "while current:\n",
    "    print(current.data, end=\" -> \")\n",
    "    current = current.next"
   ]
  },
  {
   "cell_type": "markdown",
   "metadata": {},
   "source": [
    "Este código creará y luego imprimirá los elementos del árbol en el orden en que son visitados por el recorrido en preorden, conectándolos en una lista enlazada.\n",
    "\n",
    "## Complejidad del Algoritmo\n",
    "\n",
    "La complejidad temporal de este algoritmo es O(n), donde n es el número total de nodos en el árbol. Esto se debe a que cada nodo se visita exactamente una vez durante el recorrido en preorden.\n",
    "\n",
    "La complejidad espacial es O(h) para el espacio de la pila de llamadas recursivas, donde h es la altura del árbol, más O(n) para la lista enlazada resultante, lo que resulta en una complejidad espacial total de O(n).\n",
    "\n",
    "## Ejercicios Prácticos\n",
    "\n",
    "1. Modifica la función `convert_to_linked_list` para que la lista enlazada resultante siga un recorrido en postorden del árbol.\n",
    "2. Implementa una función que convierta un árbol general en una lista enlazada circular doblemente enlazada usando un recorrido de tu elección.\n",
    "\n",
    "## Soluciones\n",
    "\n",
    "#### Estructuras Básicas\n",
    "Para los nodos del árbol, utilizaremos la clase TreeNode y ListNode ya definidas. Creamos DoublyListNode para la lista enlazada doblemente circular."
   ]
  },
  {
   "cell_type": "code",
   "execution_count": 26,
   "metadata": {},
   "outputs": [],
   "source": [
    "class TreeNode:\n",
    "    def __init__(self, data):\n",
    "        self.data = data\n",
    "        self.children = []\n",
    "\n",
    "class ListNode:\n",
    "    def __init__(self, data=0, next=None):\n",
    "        self.data = data\n",
    "        self.next = next\n",
    "\n",
    "class DoublyListNode:\n",
    "    def __init__(self, data=0, prev=None, next=None):\n",
    "        self.data = data\n",
    "        self.prev = prev\n",
    "        self.next = next"
   ]
  },
  {
   "cell_type": "markdown",
   "metadata": {},
   "source": [
    "#### Ejercicio 1: Conversión a Lista Enlazada en Postorden\n",
    "Para convertir un árbol en una lista enlazada siguiendo un recorrido en postorden, la estrategia es recorrer el árbol en postorden y agregar cada nodo visitado al final de la lista enlazada."
   ]
  },
  {
   "cell_type": "code",
   "execution_count": 27,
   "metadata": {},
   "outputs": [],
   "source": [
    "# Función para convertir un árbol en una lista enlazada utilizando recorrido\n",
    "# postorden.\n",
    "\n",
    "def convert_to_linked_list_postorder(root):\n",
    "    # Inicialización de nodo centinela.\n",
    "    head = ListNode(0)\n",
    "    current = head\n",
    "\n",
    "    # Función anidada para el recorrido postorden del árbol.\n",
    "    def postorder(node):\n",
    "        nonlocal current  # Referencia al objeto 'current' de un ámbito superior.\n",
    "        if not node:\n",
    "            return\n",
    "\n",
    "        # Recursivamente visita todos los nodos hijos antes de visitar al nodo\n",
    "        # actual.\n",
    "        for child in node.children:\n",
    "            postorder(child)\n",
    "\n",
    "        # Añade el valor actual a la lista enlazada.\n",
    "        current.next = ListNode(node.data)\n",
    "        current = current.next\n",
    "\n",
    "    # Llamado inicial a la función postorder con la raíz del árbol.\n",
    "    postorder(root)\n",
    "    # Retorna la lista enlazada omitiendo el nodo centinela.\n",
    "    return head.next\n"
   ]
  },
  {
   "cell_type": "markdown",
   "metadata": {},
   "source": [
    "#### Ejercicio 2: Árbol a Lista Enlazada Circular Doble\n",
    "Para este ejercicio, convertiremos el árbol en una lista enlazada circular doblemente enlazada. Puedes elegir el recorrido que prefieras; en este ejemplo, usaré un recorrido en preorden para la conversión."
   ]
  },
  {
   "cell_type": "code",
   "execution_count": 28,
   "metadata": {},
   "outputs": [],
   "source": [
    "# Función para convertir un árbol en una lista doblemente enlazada utilizando\n",
    "# recorrido preorden.\n",
    "\n",
    "def convert_to_doubly_linked_list(root):\n",
    "    # Inicialización de nodo centinela para simplificar la lógica de inserción.\n",
    "    head = DoublyListNode(0)\n",
    "    tail = head\n",
    "\n",
    "    # Función anidada para el recorrido preorden del árbol.\n",
    "    def preorden(node):\n",
    "        nonlocal tail  # Referencia al objeto 'tail' de un ámbito superior.\n",
    "        if not node:\n",
    "            return\n",
    "\n",
    "        # Crear nuevo nodo y añadirlo a la lista doblemente enlazada.\n",
    "        new_node = DoublyListNode(node.data)\n",
    "        tail.next = new_node\n",
    "        new_node.prev = tail\n",
    "        tail = new_node\n",
    "\n",
    "        # Continuar el recorrido preorden con los nodos hijos.\n",
    "        for child in node.children:\n",
    "            preorden(child)\n",
    "\n",
    "    # Llamado inicial a la función preorden con la raíz del árbol.\n",
    "    preorden(root)\n",
    "\n",
    "    # Conectar los nodos para hacer la lista circular, si existe al menos un\n",
    "    # elemento.\n",
    "    if head.next:\n",
    "        head.next.prev = tail\n",
    "        tail.next = head.next\n",
    "\n",
    "    # Retornar el primer elemento real, omitiendo el nodo centinela.\n",
    "    return head.next\n"
   ]
  },
  {
   "cell_type": "markdown",
   "metadata": {},
   "source": [
    "Asegúrate de ajustar las llamadas a estas funciones según sea necesario, basándote en cómo estás construyendo o proporcionando tu árbol.\n",
    "Ambas soluciones siguen una estrategia similar: realizar un recorrido específico por el árbol y construir la lista enlazada a medida que visitamos cada nodo. La principal diferencia en la segunda solución es que mantenemos referencias tanto al nodo anterior como al siguiente para formar una lista enlazada doblemente circular."
   ]
  }
 ],
 "metadata": {
  "kernelspec": {
   "display_name": "Python 3",
   "language": "python",
   "name": "python3"
  },
  "language_info": {
   "codemirror_mode": {
    "name": "ipython",
    "version": 3
   },
   "file_extension": ".py",
   "mimetype": "text/x-python",
   "name": "python",
   "nbconvert_exporter": "python",
   "pygments_lexer": "ipython3",
   "version": "3.8.10"
  }
 },
 "nbformat": 4,
 "nbformat_minor": 2
}
