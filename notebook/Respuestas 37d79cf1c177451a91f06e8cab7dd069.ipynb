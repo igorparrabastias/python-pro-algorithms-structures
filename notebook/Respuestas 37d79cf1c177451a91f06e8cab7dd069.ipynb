{
 "cells": [
  {
   "cell_type": "markdown",
   "id": "073ad4f0",
   "metadata": {},
   "source": [
    "# Respuestas\n",
    "\n",
    "1: a\n",
    "2: b\n",
    "3: a\n",
    "4: b\n",
    "5: a\n",
    "6: d\n",
    "7: b\n",
    "8: a\n",
    "9: c\n",
    "10: b\n",
    "11: b\n",
    "12: c\n",
    "13: a\n",
    "14: a\n",
    "15: b\n",
    "16: b\n",
    "17: d\n",
    "18: c\n",
    "19: c\n",
    "20: b"
   ]
  }
 ],
 "metadata": {},
 "nbformat": 4,
 "nbformat_minor": 5
}
