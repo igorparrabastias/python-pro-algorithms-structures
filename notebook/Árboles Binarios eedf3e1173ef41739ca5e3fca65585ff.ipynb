{
 "cells": [
  {
   "cell_type": "markdown",
   "id": "4c6785dc",
   "metadata": {},
   "source": [
    "# Árboles Binarios\n",
    "\n",
    "### Introducción\n",
    "\n",
    "Los árboles binarios son una de las estructuras de datos fundamentales en la informática, caracterizados por su estructura jerárquica y propiedades únicas que los hacen ideales para una amplia gama de aplicaciones, desde la implementación de algoritmos eficientes de búsqueda y clasificación hasta su uso en el procesamiento de datos y en la representación de decisiones. En esta clase, nos sumergiremos en los conceptos básicos de los árboles binarios, explorando su estructura, terminología y las operaciones básicas que se pueden realizar sobre ellos.\n",
    "\n",
    "### Estructura y Características\n",
    "\n",
    "Un árbol binario es una estructura de datos en la que cada nodo tiene como máximo dos hijos, conocidos como hijo izquierdo y hijo derecho. Esta definición lleva a algunas propiedades interesantes:\n",
    "\n",
    "- **Nodo Raíz:** Es el nodo superior desde donde se origina el árbol. Es el único nodo sin padre.\n",
    "- **Nodos Hoja:** Son nodos sin hijos, y representan los extremos del árbol.\n",
    "- **Altura del Árbol:** La altura de un árbol es la longitud del camino más largo desde la raíz hasta una hoja. En un árbol binario, la altura juega un papel crucial en su eficiencia.\n",
    "\n",
    "### Tipos de Árboles Binarios\n",
    "\n",
    "Existen varios tipos específicos de árboles binarios, cada uno con sus propias características y aplicaciones:\n",
    "\n",
    "- **Árbol Binario Completo:** Todos los niveles, excepto posiblemente el último, están completamente llenos y todos los nodos están tan a la izquierda como sea posible.\n",
    "- **Árbol Binario Balanceado:** Un árbol donde la diferencia de altura entre los subárboles izquierdo y derecho de cualquier nodo es como máximo uno.\n",
    "- **Árbol Binario de Búsqueda (ABB):** Un árbol binario en el que cada nodo tiene un valor, y todos los nodos en el subárbol izquierdo de un nodo tienen valores menores que el nodo, y todos los nodos en el subárbol derecho tienen valores mayores.\n",
    "\n",
    "### Operaciones Básicas\n",
    "\n",
    "Las operaciones fundamentales que se pueden realizar en un árbol binario incluyen:\n",
    "\n",
    "- **Inserción:** Agregar un nuevo nodo al árbol de manera que se mantengan las propiedades específicas del tipo de árbol binario.\n",
    "- **Búsqueda:** Encontrar un valor dentro del árbol, típicamente realizada de manera eficiente en árboles binarios de búsqueda.\n",
    "- **Eliminación:** Remover un nodo del árbol ajustando el árbol para que mantenga sus propiedades definitorias.\n",
    "- **Recorrido:** Visitar todos los nodos del árbol de manera sistemática. Los recorridos comunes incluyen inorden, preorden, y postorden.\n",
    "\n",
    "### Conclusión\n",
    "\n",
    "Los árboles binarios son una piedra angular en el mundo de las estructuras de datos, ofreciendo una forma eficiente de organizar y manipular datos jerárquicos. Entender su estructura y las operaciones básicas es fundamental para cualquier desarrollador o científico de datos, ya que estas nociones forman la base para comprender estructuras de datos más complejas y algoritmos avanzados. En la próxima clase, profundizaremos en los recorridos de árboles binarios, explorando cómo podemos visitar cada nodo de un árbol binario de manera eficiente para diferentes propósitos.\n",
    "\n",
    "### Ejercicios\n",
    "\n",
    "1. **Crear un Árbol Binario Simple:** Dibuja un árbol binario con al menos 3 niveles y etiqueta cada nodo con un número único.\n",
    "2. **Inserción en un Árbol Binario:** Escribe pseudocódigo para insertar un nodo en un árbol binario de búsqueda, asegurando que se mantenga la propiedad de orden del ABB.\n",
    "3. **Búsqueda en un Árbol Binario:** Dado el árbol binario que creaste, escribe pseudocódigo para buscar un valor dentro del árbol.\n",
    "4. **Altura de un Árbol Binario:** Escribe una función que calcule la altura de tu árbol binario.\n",
    "5. **Identificar Nodos Hoja:** En el árbol binario que dibujaste, identifica cuáles son los nodos hoja.\n",
    "\n",
    "### Soluciones\n",
    "\n",
    "1. Ejemplo de árbol binario:"
   ]
  },
  {
   "cell_type": "code",
   "execution_count": null,
   "id": "3e291da4",
   "metadata": {},
   "outputs": [],
   "source": [
    "```\n",
    "    1\n",
    "   / \\\\\n",
    "  2   3\n",
    "     / \\\\\n",
    "    4   5\n",
    "\n",
    "```"
   ]
  },
  {
   "cell_type": "markdown",
   "id": "7bae397d",
   "metadata": {},
   "source": [
    "2. Pseudocódigo para inserción en ABB:"
   ]
  },
  {
   "cell_type": "code",
   "execution_count": null,
   "id": "12805bb9",
   "metadata": {},
   "outputs": [],
   "source": [
    "```\n",
    "función insertar(nodo, valor):\n",
    "    si nodo es None:\n",
    "        nodo = nuevo Nodo(valor)\n",
    "    sino si valor < nodo.valor:\n",
    "        nodo.izquierda = insertar(nodo.izquierda, valor)\n",
    "    sino si valor > nodo.valor:\n",
    "        nodo.derecha = insertar(nodo.derecha, valor)\n",
    "    retorno nodo\n",
    "\n",
    "```"
   ]
  },
  {
   "cell_type": "markdown",
   "id": "42898cb0",
   "metadata": {},
   "source": [
    "3. Pseudocódigo para búsqueda en ABB:"
   ]
  },
  {
   "cell_type": "code",
   "execution_count": null,
   "id": "ad4d5b58",
   "metadata": {},
   "outputs": [],
   "source": [
    "```\n",
    "función buscar(nodo, valor):\n",
    "    si nodo es None o nodo.valor == valor:\n",
    "        retorno nodo\n",
    "    si valor < nodo.valor:\n",
    "        retorno buscar(nodo.izquierda, valor)\n",
    "    sino:\n",
    "        retorno buscar(nodo.derecha, valor)\n",
    "\n",
    "```"
   ]
  },
  {
   "cell_type": "markdown",
   "id": "0c988761",
   "metadata": {},
   "source": [
    "4. Función para calcular la altura:"
   ]
  },
  {
   "cell_type": "code",
   "execution_count": null,
   "id": "178bed7b",
   "metadata": {},
   "outputs": [],
   "source": [
    "```python\n",
    "def altura(nodo):\n",
    "    if nodo is None:\n",
    "        return 0\n",
    "    else:\n",
    "        altura_izquierda = altura(nodo.izquierda)\n",
    "        altura_derecha = altura(nodo.derecha)\n",
    "        return 1 + max(altura_izquierda, altura_derecha)\n",
    "\n",
    "```"
   ]
  },
  {
   "cell_type": "markdown",
   "id": "f463019e",
   "metadata": {},
   "source": [
    "5. Nodos hoja en el árbol ejemplo: 2, 4, 5."
   ]
  }
 ],
 "metadata": {},
 "nbformat": 4,
 "nbformat_minor": 5
}
