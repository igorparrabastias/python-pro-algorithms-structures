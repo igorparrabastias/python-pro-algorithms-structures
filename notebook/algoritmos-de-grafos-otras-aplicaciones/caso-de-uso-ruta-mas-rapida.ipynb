{
  "cells": [
    {
      "cell_type": "markdown",
      "id": "a944af29",
      "metadata": {},
      "source": [
        "# Caso de uso: Ruta m\u00e1s r\u00e1pida\n",
        "\n",
        "Otro caso interesante para grafos es el an\u00e1lisis de redes de transporte p\u00fablico, como el sistema de metro o buses. Aqu\u00ed, podemos usar grafos para optimizar rutas, encontrar el camino m\u00e1s r\u00e1pido o con menos trasbordos entre dos estaciones.\n",
        "\n",
        "Vamos a simular una red de metro sencilla:"
      ]
    },
    {
      "cell_type": "code",
      "execution_count": null,
      "id": "0f34ee34",
      "metadata": {},
      "outputs": [],
      "source": [
        "import networkx as nx\n",
        "\n",
        "# Crear un grafo para representar la red de metro\n",
        "metro = nx.Graph()\n",
        "\n",
        "# A\u00f1adir estaciones como nodos y rutas como aristas\n",
        "metro.add_edge('Estaci\u00f3n 1', 'Estaci\u00f3n 2', weight=2) # peso puede representar minutos entre estaciones\n",
        "metro.add_edge('Estaci\u00f3n 2', 'Estaci\u00f3n 3', weight=2)\n",
        "metro.add_edge('Estaci\u00f3n 1', 'Estaci\u00f3n 4', weight=1)\n",
        "metro.add_edge('Estaci\u00f3n 4', 'Estaci\u00f3n 3', weight=3)\n",
        "metro.add_edge('Estaci\u00f3n 3', 'Estaci\u00f3n 5', weight=4)\n",
        "\n",
        "# Encontrar el camino m\u00e1s r\u00e1pido (menor tiempo total)\n",
        "def camino_mas_rapido(graph, inicio, fin):\n",
        "    return nx.shortest_path(graph, inicio, fin, weight='weight')\n",
        "\n",
        "# Calcular el camino m\u00e1s r\u00e1pido de 'Estaci\u00f3n 1' a 'Estaci\u00f3n 5'\n",
        "ruta_rapida = camino_mas_rapido(metro, 'Estaci\u00f3n 1', 'Estaci\u00f3n 5')\n",
        "print(\"Ruta m\u00e1s r\u00e1pida:\", ruta_rapida)"
      ]
    },
    {
      "cell_type": "markdown",
      "id": "7e7a0ec2",
      "metadata": {},
      "source": [
        "Este c\u00f3digo crea un modelo simplificado de una red de metro y utiliza la funci\u00f3n `shortest_path` de NetworkX con el par\u00e1metro `weight` para encontrar el camino m\u00e1s r\u00e1pido basado en el tiempo total de viaje."
      ]
    }
  ],
  "metadata": {},
  "nbformat": 4,
  "nbformat_minor": 5
}