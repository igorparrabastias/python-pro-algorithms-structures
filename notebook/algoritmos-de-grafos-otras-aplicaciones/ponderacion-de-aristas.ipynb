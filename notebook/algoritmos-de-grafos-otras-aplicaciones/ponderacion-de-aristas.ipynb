{
 "cells": [
  {
   "cell_type": "markdown",
   "id": "1d5eedad",
   "metadata": {},
   "source": [
    "# Ponderación de Aristas\n",
    "\n",
    "La ponderación de aristas en grafos es un concepto utilizado para asignar valores a las conexiones (aristas) entre los nodos en un grafo. Estos valores pueden representar, por ejemplo, costos, distancias, tiempos, o cualquier otro tipo de métrica relevante en el contexto del problema que se esté abordando.\n",
    "\n",
    "Un grafo con aristas ponderadas se llama un \"grafo ponderado\". En un grafo ponderado, cada arista tiene un peso o valor asociado. Esto contrasta con un grafo no ponderado, donde todas las aristas tienen el mismo valor implícito.\n",
    "\n",
    "### Aplicaciones\n",
    "\n",
    "1. **Redes de Transporte:** En un mapa de rutas, las aristas pueden representar calles o caminos y las ponderaciones podrían ser las distancias o el tiempo estimado para recorrerlas.\n",
    "2. **Redes Sociales:** En un contexto de redes sociales, las ponderaciones podrían representar la fortaleza o frecuencia de la interacción entre individuos.\n",
    "3. **Optimización de Rutas:** En algoritmos como el de Dijkstra para encontrar la ruta más corta, las ponderaciones de las aristas se utilizan para determinar la ruta más eficiente entre dos puntos.\n",
    "\n",
    "### Representación en Programación\n",
    "\n",
    "En programación, un grafo ponderado puede ser representado de diversas maneras, como por ejemplo:\n",
    "\n",
    "- **Listas de Adyacencia:** Donde cada nodo tiene una lista de otros nodos a los que está conectado, junto con el peso de cada arista.\n",
    "- **Matrices de Adyacencia:** Donde las celdas de la matriz representan el peso de la arista entre dos nodos.\n",
    "\n",
    "### Ejemplo en Python\n",
    "\n",
    "Aquí tienes un ejemplo simple de cómo podrías implementar un grafo ponderado en Python usando una lista de adyacencia:"
   ]
  },
  {
   "cell_type": "code",
   "execution_count": null,
   "id": "3db78c7d",
   "metadata": {},
   "outputs": [],
   "source": [
    "class GrafoPonderado:\n",
    "    def __init__(self):\n",
    "        self.grafo = {}\n",
    "\n",
    "    def agregar_arista(self, origen, destino, peso):\n",
    "        if origen not in self.grafo:\n",
    "            self.grafo[origen] = []\n",
    "        self.grafo[origen].append((destino, peso))\n",
    "\n",
    "    def mostrar_grafo(self):\n",
    "        for origen in self.grafo:\n",
    "            for destino, peso in self.grafo[origen]:\n",
    "                print(f\"Origen: {origen}, Destino: {destino}, Peso: {peso}\")\n",
    "\n",
    "# Ejemplo de uso\n",
    "gp = GrafoPonderado()\n",
    "gp.agregar_arista('A', 'B', 3)\n",
    "gp.agregar_arista('A', 'C', 5)\n",
    "gp.agregar_arista('B', 'C', 1)\n",
    "gp.agregar_arista('C', 'A', 2)\n",
    "\n",
    "gp.mostrar_grafo()"
   ]
  },
  {
   "cell_type": "markdown",
   "id": "f27de35f",
   "metadata": {},
   "source": [
    "Este código crea una clase `GrafoPonderado` que permite agregar aristas con un peso específico y muestra el grafo con sus respectivas ponderaciones."
   ]
  }
 ],
 "metadata": {},
 "nbformat": 4,
 "nbformat_minor": 5
}
