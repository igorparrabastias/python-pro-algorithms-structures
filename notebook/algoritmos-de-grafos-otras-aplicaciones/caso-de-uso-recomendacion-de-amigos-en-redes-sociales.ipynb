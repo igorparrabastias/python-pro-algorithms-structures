{
 "cells": [
  {
   "cell_type": "markdown",
   "id": "950e1b11",
   "metadata": {},
   "source": [
    "# Caso de uso: Recomendación de amigos en redes sociales\n",
    "\n",
    "Un uso práctico y común de los grafos que involucra código es la recomendación de amigos en redes sociales. Este sistema puede ser implementado utilizando un grafo donde los nodos representan usuarios y las aristas representan las conexiones entre ellos (es decir, amistades). Podrías utilizar algoritmos como búsqueda en anchura (BFS) o búsqueda en profundidad (DFS) para explorar la red y encontrar amigos en común, sugiriendo nuevas conexiones."
   ]
  },
  {
   "cell_type": "code",
   "execution_count": null,
   "id": "41e8de8c",
   "metadata": {},
   "outputs": [],
   "source": [
    "import networkx as nx\n",
    "\n",
    "# Crear un grafo no dirigido para representar la red social\n",
    "G = nx.Graph()\n",
    "\n",
    "# Añadir nodos al grafo (representando usuarios)\n",
    "G.add_nodes_from(['Alice', 'Bob', 'Carlos', 'Diana', 'Eva'])\n",
    "\n",
    "# Añadir aristas entre nodos que representan las conexiones (amistades)\n",
    "G.add_edges_from([('Alice', 'Bob'), ('Alice', 'Carlos'), ('Bob', 'Diana'), ('Carlos', 'Diana'), ('Carlos', 'Eva')])\n",
    "\n",
    "# Función para recomendar amigos basados en amigos en común\n",
    "def recomendar_amigos(graph, usuario):\n",
    "    recomendaciones = []\n",
    "    amigos = set(graph[usuario])\n",
    "    for amigo in amigos:\n",
    "        amigos_de_amigo = set(graph[amigo])\n",
    "        recomendaciones_comunes = amigos_de_amigo - amigos - {usuario}\n",
    "        recomendaciones.extend(recomendaciones_comunes)\n",
    "    return set(recomendaciones)\n",
    "\n",
    "# Uso de la función para recomendar amigos para Alice\n",
    "recomendaciones_para_alice = recomendar_amigos(G, 'Alice')\n",
    "print(f\"Recomendaciones de amigos para Alice: {recomendaciones_para_alice}\")\n"
   ]
  },
  {
   "cell_type": "markdown",
   "id": "5dc3995a",
   "metadata": {},
   "source": [
    "Este código primero crea un grafo no dirigido y añade nodos y aristas para representar las amistades entre usuarios. Luego define una función `recomendar_amigos` que encuentra amigos potenciales al buscar usuarios que aún no están conectados directamente pero que tienen amigos en común. Finalmente, busca recomendaciones para el usuario 'Alice'.\n",
    "\n",
    "**NetworkX:** es una biblioteca de Python diseñada para el estudio de grafos y redes. Permite la creación, manipulación y estudio de la estructura, dinámica y funciones de redes complejas. Con NetworkX, puedes trabajar con muchos tipos de grafos, incluyendo grafos dirigidos, no dirigidos, y multigrafos. Ofrece numerosas herramientas incorporadas para el análisis de grafos, como algoritmos para calcular caminos más cortos, detectar comunidades, y medir la centralidad de los nodos, entre otros. Además, facilita la visualización de grafos con ayuda de bibliotecas de dibujo como Matplotlib."
   ]
  }
 ],
 "metadata": {},
 "nbformat": 4,
 "nbformat_minor": 5
}
