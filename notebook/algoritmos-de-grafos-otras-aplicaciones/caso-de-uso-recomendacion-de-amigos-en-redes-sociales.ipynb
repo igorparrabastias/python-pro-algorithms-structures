{
  "cells": [
    {
      "cell_type": "markdown",
      "id": "950e1b11",
      "metadata": {},
      "source": [
        "# Caso de uso: Recomendaci\u00f3n de amigos en redes sociales\n",
        "\n",
        "Un uso pr\u00e1ctico y com\u00fan de los grafos que involucra c\u00f3digo es la recomendaci\u00f3n de amigos en redes sociales. Este sistema puede ser implementado utilizando un grafo donde los nodos representan usuarios y las aristas representan las conexiones entre ellos (es decir, amistades). Podr\u00edas utilizar algoritmos como b\u00fasqueda en anchura (BFS) o b\u00fasqueda en profundidad (DFS) para explorar la red y encontrar amigos en com\u00fan, sugiriendo nuevas conexiones."
      ]
    },
    {
      "cell_type": "code",
      "execution_count": null,
      "id": "41e8de8c",
      "metadata": {},
      "outputs": [],
      "source": [
        "import networkx as nx\n",
        "\n",
        "# Crear un grafo no dirigido para representar la red social\n",
        "G = nx.Graph()\n",
        "\n",
        "# A\u00f1adir nodos al grafo (representando usuarios)\n",
        "G.add_nodes_from(['Alice', 'Bob', 'Carlos', 'Diana', 'Eva'])\n",
        "\n",
        "# A\u00f1adir aristas entre nodos que representan las conexiones (amistades)\n",
        "G.add_edges_from([('Alice', 'Bob'), ('Alice', 'Carlos'), ('Bob', 'Diana'), ('Carlos', 'Diana'), ('Carlos', 'Eva')])\n",
        "\n",
        "# Funci\u00f3n para recomendar amigos basados en amigos en com\u00fan\n",
        "def recomendar_amigos(graph, usuario):\n",
        "    recomendaciones = []\n",
        "    amigos = set(graph[usuario])\n",
        "    for amigo in amigos:\n",
        "        amigos_de_amigo = set(graph[amigo])\n",
        "        recomendaciones_comunes = amigos_de_amigo - amigos - {usuario}\n",
        "        recomendaciones.extend(recomendaciones_comunes)\n",
        "    return set(recomendaciones)\n",
        "\n",
        "# Uso de la funci\u00f3n para recomendar amigos para Alice\n",
        "recomendaciones_para_alice = recomendar_amigos(G, 'Alice')\n",
        "print(f\"Recomendaciones de amigos para Alice: {recomendaciones_para_alice}\")"
      ]
    },
    {
      "cell_type": "markdown",
      "id": "5dc3995a",
      "metadata": {},
      "source": [
        "Este c\u00f3digo primero crea un grafo no dirigido y a\u00f1ade nodos y aristas para representar las amistades entre usuarios. Luego define una funci\u00f3n `recomendar_amigos` que encuentra amigos potenciales al buscar usuarios que a\u00fan no est\u00e1n conectados directamente pero que tienen amigos en com\u00fan. Finalmente, busca recomendaciones para el usuario 'Alice'.\n",
        "\n",
        "**NetworkX:** es una biblioteca de Python dise\u00f1ada para el estudio de grafos y redes. Permite la creaci\u00f3n, manipulaci\u00f3n y estudio de la estructura, din\u00e1mica y funciones de redes complejas. Con NetworkX, puedes trabajar con muchos tipos de grafos, incluyendo grafos dirigidos, no dirigidos, y multigrafos. Ofrece numerosas herramientas incorporadas para el an\u00e1lisis de grafos, como algoritmos para calcular caminos m\u00e1s cortos, detectar comunidades, y medir la centralidad de los nodos, entre otros. Adem\u00e1s, facilita la visualizaci\u00f3n de grafos con ayuda de bibliotecas de dibujo como Matplotlib."
      ]
    }
  ],
  "metadata": {},
  "nbformat": 4,
  "nbformat_minor": 5
}