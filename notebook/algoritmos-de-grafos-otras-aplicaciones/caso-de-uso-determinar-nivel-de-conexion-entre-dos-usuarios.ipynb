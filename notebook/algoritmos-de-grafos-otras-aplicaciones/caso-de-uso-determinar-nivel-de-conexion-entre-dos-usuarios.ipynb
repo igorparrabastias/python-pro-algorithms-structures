{
 "cells": [
  {
   "cell_type": "markdown",
   "id": "c657f74c",
   "metadata": {},
   "source": [
    "# Caso de uso: Determinar nivel de conexión entre dos usuarios\n",
    "\n",
    "Un caso de uso interesante para la búsqueda en anchura (BFS) y búsqueda en profundidad (DFS) es la exploración de redes sociales para determinar el nivel de conexión entre dos usuarios. Supongamos que queremos saber si dos personas en una red social están conectadas a través de una cadena de amigos y cuál es el camino más corto entre ellas.\n",
    "\n",
    "Aquí hay un ejemplo de código en Python utilizando NetworkX para este propósito:"
   ]
  },
  {
   "cell_type": "code",
   "execution_count": null,
   "id": "090184dd",
   "metadata": {},
   "outputs": [],
   "source": [
    "import networkx as nx\n",
    "\n",
    "# Crear un grafo y añadir nodos y aristas que representen a los usuarios y sus conexiones\n",
    "G = nx.Graph()\n",
    "G.add_edges_from([('Alice', 'Bob'), ('Bob', 'Carlos'), ('Carlos', 'Diana'), ('Diana', 'Eva')])\n",
    "\n",
    "# Función de búsqueda en anchura (BFS) para encontrar el camino más corto\n",
    "def bfs_camino_corto(graph, inicio, objetivo):\n",
    "    try:\n",
    "        return nx.shortest_path(graph, inicio, objetivo, method='bfs')\n",
    "    except nx.NetworkXNoPath:\n",
    "        return None\n",
    "\n",
    "# Función de búsqueda en profundidad (DFS) para explorar conexiones\n",
    "def dfs_explorar_conexiones(graph, inicio, objetivo):\n",
    "    try:\n",
    "        return nx.shortest_path(graph, inicio, objetivo, method='dfs')\n",
    "    except nx.NetworkXNoPath:\n",
    "        return None\n",
    "\n",
    "# Uso de las funciones\n",
    "camino_bfs = bfs_camino_corto(G, 'Alice', 'Eva')\n",
    "print(\"Camino más corto (BFS):\", camino_bfs)\n",
    "\n",
    "camino_dfs = dfs_explorar_conexiones(G, 'Alice', 'Eva')\n",
    "print(\"Exploración de conexiones (DFS):\", camino_dfs)"
   ]
  },
  {
   "cell_type": "markdown",
   "id": "3e167640",
   "metadata": {},
   "source": [
    "Este código usa NetworkX para crear un grafo que representa una red social. Luego implementa funciones para realizar tanto BFS como DFS en este grafo. La función BFS busca el camino más corto entre dos nodos, mientras que DFS explora todas las conexiones posibles entre ellos."
   ]
  }
 ],
 "metadata": {},
 "nbformat": 4,
 "nbformat_minor": 5
}
