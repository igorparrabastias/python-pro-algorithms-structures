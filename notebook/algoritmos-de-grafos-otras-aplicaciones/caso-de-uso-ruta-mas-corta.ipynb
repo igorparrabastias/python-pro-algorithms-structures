{
  "cells": [
    {
      "cell_type": "markdown",
      "id": "e924c243",
      "metadata": {},
      "source": [
        "# Caso de uso: Ruta m\u00e1s corta\n",
        "\n",
        "Crear un sistema de planificaci\u00f3n de rutas para servicios de mapas es un poco m\u00e1s complejo, principalmente porque requiere datos geogr\u00e1ficos reales y consideraciones como la distancia y el tiempo. Sin embargo, podemos hacer una simplificaci\u00f3n y crear un ejemplo b\u00e1sico utilizando un grafo donde los nodos son lugares y las aristas son rutas entre esos lugares.\n",
        "\n",
        "Para este ejemplo, usaremos NetworkX y asumiremos que las distancias entre los nodos son conocidas. Utilizaremos el algoritmo de Dijkstra, que es ideal para encontrar la ruta m\u00e1s corta en grafos ponderados."
      ]
    },
    {
      "cell_type": "code",
      "execution_count": null,
      "id": "ddfd34fd",
      "metadata": {},
      "outputs": [],
      "source": [
        "import networkx as nx\n",
        "\n",
        "# Crear un grafo ponderado\n",
        "G = nx.Graph()\n",
        "\n",
        "# A\u00f1adir nodos y aristas con pesos (que representan distancias o tiempos)\n",
        "G.add_edge('Punto A', 'Punto B', weight=4)\n",
        "G.add_edge('Punto B', 'Punto C', weight=2)\n",
        "G.add_edge('Punto A', 'Punto C', weight=5)\n",
        "G.add_edge('Punto C', 'Punto D', weight=3)\n",
        "\n",
        "# Funci\u00f3n para encontrar la ruta m\u00e1s corta usando Dijkstra\n",
        "def encontrar_ruta_mas_corta(graph, inicio, fin):\n",
        "    try:\n",
        "        return nx.dijkstra_path(graph, inicio, fin)\n",
        "    except nx.NetworkXNoPath:\n",
        "        return None\n",
        "\n",
        "# Encontrar la ruta m\u00e1s corta desde el Punto A al Punto D\n",
        "ruta = encontrar_ruta_mas_corta(G, 'Punto A', 'Punto D')\n",
        "print(\"Ruta m\u00e1s corta:\", ruta)"
      ]
    },
    {
      "cell_type": "markdown",
      "id": "bf280aea",
      "metadata": {},
      "source": [
        "Este c\u00f3digo crea un grafo simple y usa el algoritmo de Dijkstra para encontrar la ruta m\u00e1s corta. En un caso de uso real, los datos del grafo ser\u00edan m\u00e1s complejos e incluir\u00edan informaci\u00f3n geogr\u00e1fica precisa."
      ]
    }
  ],
  "metadata": {},
  "nbformat": 4,
  "nbformat_minor": 5
}