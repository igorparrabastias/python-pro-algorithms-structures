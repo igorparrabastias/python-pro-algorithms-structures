{
 "cells": [
  {
   "cell_type": "markdown",
   "id": "e924c243",
   "metadata": {},
   "source": [
    "# Caso de uso: Ruta más corta\n",
    "\n",
    "Crear un sistema de planificación de rutas para servicios de mapas es un poco más complejo, principalmente porque requiere datos geográficos reales y consideraciones como la distancia y el tiempo. Sin embargo, podemos hacer una simplificación y crear un ejemplo básico utilizando un grafo donde los nodos son lugares y las aristas son rutas entre esos lugares.\n",
    "\n",
    "Para este ejemplo, usaremos NetworkX y asumiremos que las distancias entre los nodos son conocidas. Utilizaremos el algoritmo de Dijkstra, que es ideal para encontrar la ruta más corta en grafos ponderados."
   ]
  },
  {
   "cell_type": "code",
   "execution_count": null,
   "id": "ddfd34fd",
   "metadata": {},
   "outputs": [],
   "source": [
    "import networkx as nx\n",
    "\n",
    "# Crear un grafo ponderado\n",
    "G = nx.Graph()\n",
    "\n",
    "# Añadir nodos y aristas con pesos (que representan distancias o tiempos)\n",
    "G.add_edge('Punto A', 'Punto B', weight=4)\n",
    "G.add_edge('Punto B', 'Punto C', weight=2)\n",
    "G.add_edge('Punto A', 'Punto C', weight=5)\n",
    "G.add_edge('Punto C', 'Punto D', weight=3)\n",
    "\n",
    "# Función para encontrar la ruta más corta usando Dijkstra\n",
    "def encontrar_ruta_mas_corta(graph, inicio, fin):\n",
    "    try:\n",
    "        return nx.dijkstra_path(graph, inicio, fin)\n",
    "    except nx.NetworkXNoPath:\n",
    "        return None\n",
    "\n",
    "# Encontrar la ruta más corta desde el Punto A al Punto D\n",
    "ruta = encontrar_ruta_mas_corta(G, 'Punto A', 'Punto D')\n",
    "print(\"Ruta más corta:\", ruta)\n"
   ]
  },
  {
   "cell_type": "markdown",
   "id": "bf280aea",
   "metadata": {},
   "source": [
    "Este código crea un grafo simple y usa el algoritmo de Dijkstra para encontrar la ruta más corta. En un caso de uso real, los datos del grafo serían más complejos e incluirían información geográfica precisa."
   ]
  }
 ],
 "metadata": {},
 "nbformat": 4,
 "nbformat_minor": 5
}
