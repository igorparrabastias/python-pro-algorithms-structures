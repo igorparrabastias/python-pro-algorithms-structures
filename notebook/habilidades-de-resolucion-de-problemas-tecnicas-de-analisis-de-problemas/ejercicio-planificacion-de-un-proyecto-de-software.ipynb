{
 "cells": [
  {
   "cell_type": "markdown",
   "id": "3e04c5bb",
   "metadata": {},
   "source": [
    "# Ejercicio: Planificación de un Proyecto de Software\n",
    "\n",
    "- Diseño de Niveles: Creación de conceptos de niveles, diseño de puzzles, pruebas de dificultad y jugabilidad.\n",
    "- Programación del Motor del Juego: Desarrollo del motor de juego, integración de físicas, implementación de la lógica de juego.\n",
    "- Creación de Gráficos y Sonidos: Diseño de personajes y escenarios, creación de efectos de sonido, integración de gráficos y sonidos en el juego.\n",
    "    \n",
    "    ![Ejercicio%20Planificacio%CC%81n%20de%20un%20Proyecto%20de%20Softwar%20df0820843c854309b8be20b41696a6e5/Untitled.png](Ejercicio%20Planificacio%CC%81n%20de%20un%20Proyecto%20de%20Softwar%20df0820843c854309b8be20b41696a6e5/Untitled.png)"
   ]
  }
 ],
 "metadata": {},
 "nbformat": 4,
 "nbformat_minor": 5
}
