{
 "cells": [
  {
   "cell_type": "markdown",
   "id": "30467694",
   "metadata": {},
   "source": [
    "# Ejercicio: Partición de Equivalencia en un Sistema de Registro de Usuarios\n",
    "\n",
    "1. **Partición de Equivalencia en un Sistema de Registro de Usuarios**: Para un sistema que permite el registro de nuevos usuarios, utiliza la técnica de partición de equivalencia para identificar casos de prueba para la validación de campos de entrada como nombre de usuario, correo electrónico, y contraseña.\n",
    "\n",
    "![Ejercicio%20Particio%CC%81n%20de%20Equivalencia%20en%20un%20Sistema%20316349b84bdd44aa89d8578f7dbbcf70/Untitled.png](Ejercicio%20Particio%CC%81n%20de%20Equivalencia%20en%20un%20Sistema%20316349b84bdd44aa89d8578f7dbbcf70/Untitled.png)"
   ]
  }
 ],
 "metadata": {},
 "nbformat": 4,
 "nbformat_minor": 5
}
