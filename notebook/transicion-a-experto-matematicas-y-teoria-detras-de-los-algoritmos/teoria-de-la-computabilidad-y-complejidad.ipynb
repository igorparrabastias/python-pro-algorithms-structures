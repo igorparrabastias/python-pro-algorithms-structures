{
  "cells": [
    {
      "cell_type": "markdown",
      "id": "ca015d22",
      "metadata": {},
      "source": [
        "# Teor\u00eda de la Computabilidad y Complejidad\n",
        "\n",
        "- Conceptos de la teor\u00eda de la computabilidad: m\u00e1quinas de Turing y problemas decidibles.\n",
        "- Introducci\u00f3n a la teor\u00eda de la complejidad computacional y clases de complejidad como P, NP, NP-completo.\n",
        "\n",
        "### **Introducci\u00f3n**\n",
        "\n",
        "La teor\u00eda de la computabilidad y la complejidad son fundamentales en la ciencia de la computaci\u00f3n, proporcionando un marco para entender qu\u00e9 problemas pueden ser resueltos mediante algoritmos y cu\u00e1n eficientemente pueden ser resueltos. Esta clase explorar\u00e1 los conceptos b\u00e1sicos de la computabilidad, incluyendo m\u00e1quinas de Turing y problemas decidibles, as\u00ed como una introducci\u00f3n a la teor\u00eda de la complejidad computacional, enfoc\u00e1ndose en clases de complejidad como P, NP y NP-completo.\n",
        "\n",
        "### **Conceptos de la Teor\u00eda de la Computabilidad**\n",
        "\n",
        "### **M\u00e1quinas de Turing**\n",
        "\n",
        "- **Definici\u00f3n**: Una m\u00e1quina de Turing es un modelo matem\u00e1tico abstracto de una computadora, que consiste en una cinta infinita que act\u00faa como memoria, una cabeza lectora/escritora que puede leer y modificar la cinta, y un conjunto de estados que dirigen su operaci\u00f3n. Es capaz de simular cualquier algoritmo.\n",
        "- **Problemas Decidibles**: Un problema se considera decidible si existe una m\u00e1quina de Turing que puede resolver el problema para cualquier entrada en un n\u00famero finito de pasos.\n",
        "\n",
        "### **Problemas Indecidibles**\n",
        "\n",
        "- Ejemplos de problemas indecidibles incluyen el problema de la detenci\u00f3n, que pregunta si una m\u00e1quina de Turing arbitraria se detendr\u00e1 o continuar\u00e1 ejecut\u00e1ndose indefinidamente para una entrada dada. Este tipo de problemas demuestra los l\u00edmites de lo que es computable.\n",
        "\n",
        "### **Introducci\u00f3n a la Teor\u00eda de la Complejidad Computacional**\n",
        "\n",
        "### **Clases de Complejidad**\n",
        "\n",
        "- **P**: La clase P comprende todos los problemas de decisi\u00f3n que pueden ser resueltos por una m\u00e1quina de Turing determinista en tiempo polinomial respecto al tama\u00f1o de la entrada.\n",
        "- **NP**: La clase NP incluye aquellos problemas para los cuales, dada una soluci\u00f3n, esta puede ser verificada en tiempo polinomial por una m\u00e1quina de Turing determinista.\n",
        "- **NP-Completo**: Un problema NP-completo es un problema en NP que es al menos tan dif\u00edcil como los problemas m\u00e1s dif\u00edciles en NP. Si se encontrara una soluci\u00f3n en tiempo polinomial para cualquier problema NP-completo, entonces P = NP.\n",
        "\n",
        "### **P vs. NP Problema**\n",
        "\n",
        "- El problema P vs. NP es uno de los problemas abiertos m\u00e1s importantes en ciencias de la computaci\u00f3n. Pregunta si todos los problemas que pueden ser verificados r\u00e1pidamente (en tiempo polinomial) tambi\u00e9n pueden ser resueltos r\u00e1pidamente.\n",
        "\n",
        "### **Conclusi\u00f3n**\n",
        "\n",
        "La teor\u00eda de la computabilidad y la complejidad computacional nos proporcionan un entendimiento profundo de los fundamentos de la ciencia de la computaci\u00f3n, delineando no solo qu\u00e9 problemas son solubles mediante computaci\u00f3n, sino tambi\u00e9n la eficiencia con la que estos problemas pueden ser resueltos. Estos conceptos son esenciales para el desarrollo te\u00f3rico y pr\u00e1ctico en el campo, impulsando la investigaci\u00f3n hacia la resoluci\u00f3n de uno de los mayores enigmas: el problema P vs. NP, cuya soluci\u00f3n tendr\u00eda implicaciones profundas en matem\u00e1ticas, criptograf\u00eda, algoritmos, y m\u00e1s all\u00e1.\n",
        "\n",
        "Vamos a revisar y mejorar esos ejercicios para que sean m\u00e1s completos y desafiantes, respetando el formato y proporcionando una gu\u00eda clara para su implementaci\u00f3n.\n",
        "\n",
        "## **Ejercicios**\n",
        "\n",
        "### **Ejercicio 1: Implementaci\u00f3n de una M\u00e1quina de Turing**\n",
        "\n",
        "Implemente una m\u00e1quina de Turing en Python que realice la suma de dos n\u00fameros binarios. La cinta de entrada debe tener los n\u00fameros separados por un \"1\", actuando como delimitador. La m\u00e1quina debe sumar estos dos n\u00fameros y escribir el resultado en la cinta."
      ]
    },
    {
      "cell_type": "code",
      "execution_count": null,
      "id": "8795884e",
      "metadata": {},
      "outputs": [],
      "source": [
        "# Sugerencia de implementaci\u00f3n:\n",
        "# 1. Defina una lista que act\u00fae como cinta, inicializada con los n\u00fameros a sumar.\n",
        "# 2. Implemente funciones para mover la cabeza lectora/escritora a la izquierda o derecha.\n",
        "# 3. Escriba la l\u00f3gica para sumar los n\u00fameros binarios, actualizando la cinta con el resultado.\n",
        "\n",
        "# Pseudoc\u00f3digo:\n",
        "# Inicialice la cinta con los n\u00fameros binarios y el delimitador.\n",
        "# Mientras no se alcance el final de la suma:\n",
        "#     Lea el s\u00edmbolo actual bajo la cabeza lectora.\n",
        "#     Realice la operaci\u00f3n correspondiente seg\u00fan el estado actual de la m\u00e1quina.\n",
        "#     Mueva la cabeza lectora seg\u00fan sea necesario.\n",
        "#     Actualice el estado de la m\u00e1quina.\n",
        "# Escriba el resultado en la cinta."
      ]
    },
    {
      "cell_type": "markdown",
      "id": "61c33d2b",
      "metadata": {},
      "source": [
        "### **Ejercicio 2: Verificaci\u00f3n de Expresiones Regulares**\n",
        "\n",
        "Escriba una funci\u00f3n en Python que verifique si una cadena dada pertenece al lenguaje definido por una expresi\u00f3n regular dada. Proporcione ejemplos de entrada y explique el resultado."
      ]
    },
    {
      "cell_type": "code",
      "execution_count": null,
      "id": "1a82a2c7",
      "metadata": {},
      "outputs": [],
      "source": [
        "import re\n",
        "\n",
        "def verifica_cadena(cadena, expresion_regular):\n",
        "    return re.fullmatch(expresion_regular, cadena) is not None\n",
        "\n",
        "# Ejemplo de uso\n",
        "print(verifica_cadena(\"1010\", \"^1(0|1)*0$\"))"
      ]
    },
    {
      "cell_type": "markdown",
      "id": "09aaadc7",
      "metadata": {},
      "source": [
        "### **Ejercicio 3: An\u00e1lisis de Complejidad del Problema del Viajante (TSP)**\n",
        "\n",
        "Describa c\u00f3mo determinar\u00eda si el problema del viajante (TSP) es de la clase NP y discuta su NP-completitud. Proporcione un an\u00e1lisis detallado de por qu\u00e9 es f\u00e1cil verificar una soluci\u00f3n dada y c\u00f3mo se relaciona esto con la definici\u00f3n de NP."
      ]
    },
    {
      "cell_type": "code",
      "execution_count": null,
      "id": "26ad63f5",
      "metadata": {},
      "outputs": [],
      "source": [
        "# Sugerencia de an\u00e1lisis:\n",
        "# 1. Defina el problema del TSP y explique su importancia.\n",
        "# 2. Discuta c\u00f3mo se puede verificar una soluci\u00f3n dada para el TSP en tiempo polinomial.\n",
        "# 3. Explique por qu\u00e9 encontrar la soluci\u00f3n \u00f3ptima es computacionalmente desafiante.\n",
        "# 4. Relacione estos puntos con la definici\u00f3n de NP y NP-completitud."
      ]
    },
    {
      "cell_type": "markdown",
      "id": "1e33ff72",
      "metadata": {},
      "source": [
        "### **Ejercicio 4: Implementaci\u00f3n y An\u00e1lisis de B\u00fasqueda Binaria**\n",
        "\n",
        "Implemente el algoritmo de b\u00fasqueda binaria en Python y demuestre su eficiencia en tiempo polinomial. Analice el algoritmo en t\u00e9rminos de su complejidad de tiempo y explique por qu\u00e9 pertenece a la clase P."
      ]
    },
    {
      "cell_type": "code",
      "execution_count": null,
      "id": "7d439022",
      "metadata": {},
      "outputs": [],
      "source": [
        "def busqueda_binaria(lista, elemento):\n",
        "    inicio, fin = 0, len(lista) - 1\n",
        "    while inicio <= fin:\n",
        "        medio = (inicio + fin) // 2\n",
        "        if lista[medio] == elemento:\n",
        "            return medio\n",
        "        elif lista[medio] < elemento:\n",
        "            inicio = medio + 1\n",
        "        else:\n",
        "            fin = medio - 1\n",
        "    return -1\n",
        "\n",
        "# Ejemplo de uso y an\u00e1lisis de complejidad"
      ]
    },
    {
      "cell_type": "markdown",
      "id": "4609313f",
      "metadata": {},
      "source": [
        "### **Ejercicio 5: Reducci\u00f3n Polinomial de SAT a 3-SAT**\n",
        "\n",
        "Explique c\u00f3mo se puede reducir el problema de satisfacibilidad booleana (SAT) a 3-SAT para demostrar la NP-completitud de 3-SAT mediante reducci\u00f3n polinomial. Proporcione una descripci\u00f3n paso a paso de la reducci\u00f3n y discuta su significado en el contexto de la teor\u00eda de la complejidad."
      ]
    },
    {
      "cell_type": "code",
      "execution_count": null,
      "id": "f8d56c76",
      "metadata": {},
      "outputs": [],
      "source": [
        "# Sugerencia para el desarrollo:\n",
        "# 1. Describa el problema SAT y el problema 3-SAT.\n",
        "# 2. Explique el concepto de reducci\u00f3n polinomial.\n",
        "# 3. Detalle un m\u00e9todo para transformar cualquier instancia de SAT en una instancia de 3-SAT.\n",
        "# 4. Discuta c\u00f3mo esta reducci\u00f3n demuestra que 3-SAT es NP-completo."
      ]
    },
    {
      "cell_type": "markdown",
      "id": "54e3389d",
      "metadata": {},
      "source": [
        "Estos ejercicios est\u00e1n dise\u00f1ados para aplicar de manera pr\u00e1ctica los conceptos te\u00f3ricos discutidos en clase, reforzando su comprensi\u00f3n de la teor\u00eda de la computabilidad y la complejidad computacional a trav\u00e9s de la implementaci\u00f3n y el an\u00e1lisis cr\u00edtico.\n",
        "\n",
        "---\n",
        "\n",
        "Comenzemos con el Ejercicio 1 sobre la simulaci\u00f3n de una m\u00e1quina de Turing para sumar dos n\u00fameros binarios.\n",
        "\n",
        "### **Soluci\u00f3n Ejercicio 1: Implementaci\u00f3n de una M\u00e1quina de Turing**\n",
        "\n",
        "El siguiente c\u00f3digo en Python simula una m\u00e1quina de Turing simplificada que suma dos n\u00fameros binarios. Los n\u00fameros est\u00e1n separados por un \"1\", que act\u00faa como delimitador en la cinta, la cual es representada por una lista de Python. La m\u00e1quina de Turing realiza la suma binaria de derecha a izquierda, manejando el acarreo cuando es necesario."
      ]
    },
    {
      "cell_type": "code",
      "execution_count": null,
      "id": "9617b82d",
      "metadata": {},
      "outputs": [],
      "source": [
        "# Definici\u00f3n de la m\u00e1quina de Turing para sumar dos n\u00fameros binarios\n",
        "def suma_binaria_MT(cinta):\n",
        "    # Estado inicial\n",
        "    estado = 'buscar_inicio'\n",
        "    # Posici\u00f3n inicial de la cabeza lectora/escritora (comenzando por el final de la cinta)\n",
        "    cabeza = len(cinta) - 1\n",
        "    # Acarreo inicial\n",
        "    acarreo = 0\n",
        "\n",
        "    # Proceso de la m\u00e1quina de Turing\n",
        "    while estado != 'finalizado':\n",
        "        if estado == 'buscar_inicio':\n",
        "            if cinta[cabeza] == '1':\n",
        "                estado = 'sumar'\n",
        "            cabeza -= 1\n",
        "\n",
        "        elif estado == 'sumar':\n",
        "            if cabeza < 0 or cinta[cabeza] == '1':  # Si se alcanza el inicio de la cinta o el delimitador\n",
        "                if acarreo == 1:\n",
        "                    cinta.insert(0, '1')  # Inserta el acarreo al inicio si es necesario\n",
        "                estado = 'finalizado'\n",
        "            else:\n",
        "                suma = acarreo + int(cinta[cabeza])\n",
        "                cinta[cabeza] = str(suma % 2)\n",
        "                acarreo = suma // 2\n",
        "                cabeza -= 1\n",
        "\n",
        "    return cinta\n",
        "\n",
        "# Ejemplo de uso\n",
        "cinta_ejemplo = ['1', '0', '1', '1', '1', '0', '1', '1', '1']  # Representa la suma 011 + 011\n",
        "print(\"Cinta antes de la suma:\", ''.join(cinta_ejemplo))\n",
        "resultado = suma_binaria_MT(cinta_ejemplo)\n",
        "print(\"Resultado de la suma:\", ''.join(resultado))"
      ]
    },
    {
      "cell_type": "markdown",
      "id": "bac966e0",
      "metadata": {},
      "source": [
        "Este c\u00f3digo inicia buscando el inicio del segundo n\u00famero binario (estado 'buscar_inicio'), luego procede a sumar los d\u00edgitos binarios uno por uno, incluyendo el acarreo cuando es necesario (estado 'sumar'), y finalmente termina el proceso cuando se ha completado la suma (estado 'finalizado'). El resultado se muestra en la cinta, que ha sido modificada para reflejar la suma de los dos n\u00fameros binarios.\n",
        "\n",
        "Este ejercicio demuestra c\u00f3mo una m\u00e1quina de Turing, a pesar de ser un modelo te\u00f3rico simplificado de computaci\u00f3n, puede realizar operaciones complejas como la suma binaria mediante la manipulaci\u00f3n de s\u00edmbolos en una cinta seg\u00fan un conjunto de reglas definidas.\n",
        "\n",
        "---\n",
        "\n",
        "Gu\u00eda a trav\u00e9s de un enfoque detallado para el Ejercicio 2, ofreci\u00e9ndote una soluci\u00f3n conceptual y el c\u00f3digo correspondiente basado en los principios de Python y expresiones regulares, que deber\u00edas poder ejecutar en tu entorno de desarrollo local para probar su funcionalidad.\n",
        "\n",
        "### **Soluci\u00f3n Ejercicio 2: Verificaci\u00f3n de Expresiones Regulares**\n",
        "\n",
        "El objetivo es escribir una funci\u00f3n en Python que tome como entrada una cadena y una expresi\u00f3n regular, y determine si la cadena pertenece al lenguaje definido por esa expresi\u00f3n regular.\n",
        "\n",
        "### **C\u00f3digo Propuesto:**"
      ]
    },
    {
      "cell_type": "code",
      "execution_count": null,
      "id": "64dfaf9e",
      "metadata": {},
      "outputs": [],
      "source": [
        "import re\n",
        "\n",
        "def verifica_cadena(cadena, expresion_regular):\n",
        "    \"\"\"\n",
        "    Verifica si la cadena dada coincide con la expresi\u00f3n regular proporcionada.\n",
        "\n",
        "    Par\u00e1metros:\n",
        "    cadena (str): La cadena a verificar.\n",
        "    expresion_regular (str): La expresi\u00f3n regular que define el patr\u00f3n a buscar.\n",
        "\n",
        "    Retorna:\n",
        "    bool: True si la cadena coincide con el patr\u00f3n, False en caso contrario.\n",
        "    \"\"\"\n",
        "    # La funci\u00f3n fullmatch busca una coincidencia para toda la cadena\n",
        "    return re.fullmatch(expresion_regular, cadena) is not None\n",
        "\n",
        "# Ejemplo de uso\n",
        "cadena_ejemplo = \"1010\"\n",
        "expresion_regular_ejemplo = \"1(0|1)*0\"\n",
        "resultado = verifica_cadena(cadena_ejemplo, expresion_regular_ejemplo)\n",
        "print(f\"La cadena '{cadena_ejemplo}' {'pertenece' if resultado else 'no pertenece'} al lenguaje de la expresi\u00f3n regular '{expresion_regular_ejemplo}'.\")"
      ]
    },
    {
      "cell_type": "markdown",
      "id": "7a289e8e",
      "metadata": {},
      "source": [
        "### **Explicaci\u00f3n:**\n",
        "\n",
        "- **Importaci\u00f3n del M\u00f3dulo `re`**: Este m\u00f3dulo proporciona operaciones de coincidencia de expresiones regulares similares a las encontradas en Perl. Se utiliza para trabajar con expresiones regulares en Python.\n",
        "- **Funci\u00f3n `verifica_cadena`**: Esta funci\u00f3n toma dos argumentos: `cadena`, que es la cadena de texto a verificar, y `expresion_regular`, que es la expresi\u00f3n regular definida como una cadena de texto que representa el patr\u00f3n a buscar dentro de la cadena.\n",
        "- **Uso de `re.fullmatch`**: Esta funci\u00f3n intenta hacer coincidir la expresi\u00f3n regular completa con toda la cadena. Si la cadena completa coincide con la expresi\u00f3n regular, `fullmatch` retorna un objeto de coincidencia; de lo contrario, retorna `None`. La funci\u00f3n `verifica_cadena` entonces retorna `True` si hay una coincidencia, indicando que la cadena pertenece al lenguaje definido por la expresi\u00f3n regular, o `False` en caso contrario.\n",
        "\n",
        "### **Prueba y An\u00e1lisis:**\n",
        "\n",
        "- El ejemplo proporcionado verifica si la cadena `\"1010\"` pertenece al lenguaje definido por la expresi\u00f3n regular `\"1(0|1)*0\"`, que representa cadenas que comienzan y terminan con un `1` y pueden tener cualquier combinaci\u00f3n de `0` y `1` en medio.\n",
        "- La salida del ejemplo deber\u00eda indicar que la cadena `\"1010\"` pertenece al lenguaje de la expresi\u00f3n regular proporcionada, ya que coincide con el patr\u00f3n definido.\n",
        "\n",
        "Este ejercicio demuestra la aplicaci\u00f3n de expresiones regulares en Python para verificar la pertenencia de cadenas a lenguajes espec\u00edficos, una t\u00e9cnica \u00fatil en el procesamiento de texto, validaci\u00f3n de datos y m\u00e1s \u00e1mbitos dentro de la ciencia de la computaci\u00f3n.\n",
        "\n",
        "---\n",
        "\n",
        "Voy a desarrollar una explicaci\u00f3n detallada para el Ejercicio 3, el cual se enfoca en el an\u00e1lisis del problema del viajante (Traveling Salesman Problem, TSP) desde la perspectiva de la teor\u00eda de la NP-completitud. Aunque no implementaremos c\u00f3digo para este ejercicio, proporcionar\u00e9 una gu\u00eda clara sobre c\u00f3mo se analizar\u00eda este problema para determinar su clasificaci\u00f3n dentro de las clases de complejidad computacional.\n",
        "\n",
        "### **Ejercicio 3: An\u00e1lisis de Complejidad del Problema del Viajante (TSP)**\n",
        "\n",
        "### **Descripci\u00f3n del Problema del TSP**\n",
        "\n",
        "El problema del viajante (TSP) es un cl\u00e1sico de la optimizaci\u00f3n combinatoria en el cual, dado un conjunto de ciudades y las distancias entre cada par de ellas, se busca encontrar el camino m\u00e1s corto que visite todas las ciudades exactamente una vez y regrese a la ciudad de origen.\n",
        "\n",
        "### **\u00bfPor Qu\u00e9 el TSP es NP?**\n",
        "\n",
        "Un problema est\u00e1 en NP (Nondeterministic Polynomial time) si, dada una soluci\u00f3n candidata, podemos verificar si es una soluci\u00f3n v\u00e1lida en tiempo polinomial. Para el TSP, si se nos da un orden espec\u00edfico de visitas a las ciudades (una soluci\u00f3n candidata), podemos f\u00e1cilmente calcular la distancia total recorrida en este camino y verificar si este es el camino m\u00e1s corto posible. La verificaci\u00f3n de esta soluci\u00f3n candidata se puede hacer sumando las distancias entre las ciudades consecutivas en el orden dado y comparando esta suma con el criterio de optimalidad, todo ello en tiempo polinomial respecto al n\u00famero de ciudades.\n",
        "\n",
        "### **NP-Completitud del TSP**\n",
        "\n",
        "Un problema es NP-completo si est\u00e1 en NP y todos los problemas en NP pueden ser reducidos a \u00e9l en tiempo polinomial. El TSP es un problema NP-completo porque:\n",
        "\n",
        "1. **Est\u00e1 en NP**: Como se mencion\u00f3, dada una soluci\u00f3n candidata para el TSP, se puede verificar si es correcta en tiempo polinomial.\n",
        "2. **Todas las instancias de un problema NP pueden ser transformadas a una instancia del TSP**: Esto se demuestra mediante reducciones polinomiales de problemas conocidos como NP-completos al TSP. Por ejemplo, se puede transformar el problema de la satisfacibilidad booleana (SAT) a una instancia del TSP, donde cada variable o cl\u00e1usula se representa como una \"ciudad\" y las \"distancias\" entre ciudades se definen de tal manera que el camino m\u00e1s corto corresponde a una asignaci\u00f3n que satisface todas las cl\u00e1usulas.\n",
        "\n",
        "### **Implicaciones de la NP-Completitud del TSP**\n",
        "\n",
        "La NP-completitud del TSP significa que no se conoce ning\u00fan algoritmo que lo resuelva en tiempo polinomial (a menos que P = NP, una pregunta abierta en ciencias de la computaci\u00f3n). Esto tiene importantes implicaciones pr\u00e1cticas, ya que significa que para grandes n\u00fameros de ciudades, encontrar la soluci\u00f3n \u00f3ptima al TSP puede requerir un tiempo computacional impracticable. Por lo tanto, se utilizan aproximaciones y heur\u00edsticas para obtener soluciones \"suficientemente buenas\" en un tiempo razonable.\n",
        "\n",
        "Este an\u00e1lisis demuestra c\u00f3mo los conceptos de la teor\u00eda de la computabilidad y la complejidad computacional se aplican para entender la dificultad inherente de los problemas algor\u00edtmicos y la eficiencia de las soluciones propuestas.\n",
        "\n",
        "---\n",
        "\n",
        "Soluci\u00f3n detallada para el Ejercicio 4, que trata sobre la implementaci\u00f3n y an\u00e1lisis de la b\u00fasqueda binaria, un problema que claramente pertenece a la clase P debido a su eficiencia en tiempo polinomial. A continuaci\u00f3n, te proporciono una implementaci\u00f3n en Python junto con una explicaci\u00f3n de por qu\u00e9 este algoritmo es de tiempo polinomial y por lo tanto pertenece a la clase P.\n",
        "\n",
        "### **Ejercicio 4: Implementaci\u00f3n y An\u00e1lisis de B\u00fasqueda Binaria**\n",
        "\n",
        "La b\u00fasqueda binaria es un algoritmo eficiente para encontrar un elemento en una lista ordenada. Funciona reduciendo a la mitad el espacio de b\u00fasqueda en cada paso, comparando el elemento medio de la lista con el objetivo y descartando la mitad en la que se sabe que el elemento objetivo no puede estar.\n",
        "\n",
        "### **C\u00f3digo Propuesto:**"
      ]
    },
    {
      "cell_type": "code",
      "execution_count": null,
      "id": "6625c12c",
      "metadata": {},
      "outputs": [],
      "source": [
        "def busqueda_binaria(lista, elemento):\n",
        "    inicio, fin = 0, len(lista) - 1\n",
        "    while inicio <= fin:\n",
        "        medio = (inicio + fin) // 2\n",
        "        if lista[medio] == elemento:\n",
        "            return medio  # Elemento encontrado\n",
        "        elif lista[medio] < elemento:\n",
        "            inicio = medio + 1  # Descarta la mitad izquierda\n",
        "        else:\n",
        "            fin = medio - 1  # Descarta la mitad derecha\n",
        "    return -1  # Elemento no encontrado"
      ]
    },
    {
      "cell_type": "markdown",
      "id": "a4d7470b",
      "metadata": {},
      "source": [
        "### **An\u00e1lisis de Complejidad:**\n",
        "\n",
        "- **Complejidad Temporal**: La b\u00fasqueda binaria tiene una complejidad de tiempo O(log n), donde n es el n\u00famero de elementos en la lista. Esto se debe a que el algoritmo divide el espacio de b\u00fasqueda por la mitad en cada paso. La funci\u00f3n logar\u00edtmica log n crece muy lentamente a medida que n aumenta, lo que hace que la b\u00fasqueda binaria sea muy eficiente incluso para listas grandes.\n",
        "- **Pertinencia a la Clase P**: La clase P incluye aquellos problemas que pueden ser resueltos en tiempo polinomial respecto al tama\u00f1o de la entrada por una m\u00e1quina de Turing determinista. Aunque O(log n) es subpolinomial (es decir, crece m\u00e1s lentamente que cualquier polinomio), cualquier algoritmo que se ejecute en tiempo O(log n) tambi\u00e9n se considera eficiente y, por definici\u00f3n, pertenece a la clase P, ya que cumple con el criterio de ser resuelto en tiempo polinomial.\n",
        "\n",
        "### **Ejemplo de Uso:**"
      ]
    },
    {
      "cell_type": "code",
      "execution_count": null,
      "id": "2ec53150",
      "metadata": {},
      "outputs": [],
      "source": [
        "lista_ordenada = [1, 2, 4, 5, 7, 8, 10]\n",
        "elemento_a_buscar = 5\n",
        "\n",
        "indice = busqueda_binaria(lista_ordenada, elemento_a_buscar)\n",
        "if indice != -1:\n",
        "    print(f\"Elemento encontrado en el \u00edndice: {indice}\")\n",
        "else:\n",
        "    print(\"Elemento no encontrado.\")"
      ]
    },
    {
      "cell_type": "markdown",
      "id": "649ae434",
      "metadata": {},
      "source": [
        "Este ejercicio demuestra no solo c\u00f3mo implementar un algoritmo eficiente para un problema com\u00fan sino tambi\u00e9n c\u00f3mo analizar su complejidad para entender su clasificaci\u00f3n dentro de las clases de complejidad computacional. La b\u00fasqueda binaria es un ejemplo cl\u00e1sico de un algoritmo que es tanto pr\u00e1ctico como te\u00f3ricamente significativo, ilustrando los principios de la eficiencia algor\u00edtmica y la teor\u00eda de la complejidad."
      ]
    }
  ],
  "metadata": {},
  "nbformat": 4,
  "nbformat_minor": 5
}