{
 "cells": [
  {
   "cell_type": "markdown",
   "id": "59c119a9",
   "metadata": {},
   "source": [
    "# Teoría de la Computabilidad y Complejidad\n",
    "\n",
    "- Conceptos de la teoría de la computabilidad: máquinas de Turing y problemas decidibles.\n",
    "- Introducción a la teoría de la complejidad computacional y clases de complejidad como P, NP, NP-completo.\n",
    "\n",
    "### **Introducción**\n",
    "\n",
    "La teoría de la computabilidad y la complejidad son fundamentales en la ciencia de la computación, proporcionando un marco para entender qué problemas pueden ser resueltos mediante algoritmos y cuán eficientemente pueden ser resueltos. Esta clase explorará los conceptos básicos de la computabilidad, incluyendo máquinas de Turing y problemas decidibles, así como una introducción a la teoría de la complejidad computacional, enfocándose en clases de complejidad como P, NP y NP-completo.\n",
    "\n",
    "### **Conceptos de la Teoría de la Computabilidad**\n",
    "\n",
    "### **Máquinas de Turing**\n",
    "\n",
    "- **Definición**: Una máquina de Turing es un modelo matemático abstracto de una computadora, que consiste en una cinta infinita que actúa como memoria, una cabeza lectora/escritora que puede leer y modificar la cinta, y un conjunto de estados que dirigen su operación. Es capaz de simular cualquier algoritmo.\n",
    "- **Problemas Decidibles**: Un problema se considera decidible si existe una máquina de Turing que puede resolver el problema para cualquier entrada en un número finito de pasos.\n",
    "\n",
    "### **Problemas Indecidibles**\n",
    "\n",
    "- Ejemplos de problemas indecidibles incluyen el problema de la detención, que pregunta si una máquina de Turing arbitraria se detendrá o continuará ejecutándose indefinidamente para una entrada dada. Este tipo de problemas demuestra los límites de lo que es computable.\n",
    "\n",
    "### **Introducción a la Teoría de la Complejidad Computacional**\n",
    "\n",
    "### **Clases de Complejidad**\n",
    "\n",
    "- **P**: La clase P comprende todos los problemas de decisión que pueden ser resueltos por una máquina de Turing determinista en tiempo polinomial respecto al tamaño de la entrada.\n",
    "- **NP**: La clase NP incluye aquellos problemas para los cuales, dada una solución, esta puede ser verificada en tiempo polinomial por una máquina de Turing determinista.\n",
    "- **NP-Completo**: Un problema NP-completo es un problema en NP que es al menos tan difícil como los problemas más difíciles en NP. Si se encontrara una solución en tiempo polinomial para cualquier problema NP-completo, entonces P = NP.\n",
    "\n",
    "### **P vs. NP Problema**\n",
    "\n",
    "- El problema P vs. NP es uno de los problemas abiertos más importantes en ciencias de la computación. Pregunta si todos los problemas que pueden ser verificados rápidamente (en tiempo polinomial) también pueden ser resueltos rápidamente.\n",
    "\n",
    "### **Conclusión**\n",
    "\n",
    "La teoría de la computabilidad y la complejidad computacional nos proporcionan un entendimiento profundo de los fundamentos de la ciencia de la computación, delineando no solo qué problemas son solubles mediante computación, sino también la eficiencia con la que estos problemas pueden ser resueltos. Estos conceptos son esenciales para el desarrollo teórico y práctico en el campo, impulsando la investigación hacia la resolución de uno de los mayores enigmas: el problema P vs. NP, cuya solución tendría implicaciones profundas en matemáticas, criptografía, algoritmos, y más allá.\n",
    "\n",
    "Vamos a revisar y mejorar esos ejercicios para que sean más completos y desafiantes, respetando el formato y proporcionando una guía clara para su implementación.\n",
    "\n",
    "## **Ejercicios**\n",
    "\n",
    "### **Ejercicio 1: Implementación de una Máquina de Turing**\n",
    "\n",
    "Implemente una máquina de Turing en Python que realice la suma de dos números binarios. La cinta de entrada debe tener los números separados por un \"1\", actuando como delimitador. La máquina debe sumar estos dos números y escribir el resultado en la cinta."
   ]
  },
  {
   "cell_type": "code",
   "execution_count": null,
   "id": "0e43df58",
   "metadata": {},
   "outputs": [],
   "source": [
    "# Sugerencia de implementación:\n",
    "# 1. Defina una lista que actúe como cinta, inicializada con los números a sumar.\n",
    "# 2. Implemente funciones para mover la cabeza lectora/escritora a la izquierda o derecha.\n",
    "# 3. Escriba la lógica para sumar los números binarios, actualizando la cinta con el resultado.\n",
    "\n",
    "# Pseudocódigo:\n",
    "# Inicialice la cinta con los números binarios y el delimitador.\n",
    "# Mientras no se alcance el final de la suma:\n",
    "#     Lea el símbolo actual bajo la cabeza lectora.\n",
    "#     Realice la operación correspondiente según el estado actual de la máquina.\n",
    "#     Mueva la cabeza lectora según sea necesario.\n",
    "#     Actualice el estado de la máquina.\n",
    "# Escriba el resultado en la cinta.\n"
   ]
  },
  {
   "cell_type": "markdown",
   "id": "67b79611",
   "metadata": {},
   "source": [
    "### **Ejercicio 2: Verificación de Expresiones Regulares**\n",
    "\n",
    "Escriba una función en Python que verifique si una cadena dada pertenece al lenguaje definido por una expresión regular dada. Proporcione ejemplos de entrada y explique el resultado."
   ]
  },
  {
   "cell_type": "code",
   "execution_count": null,
   "id": "ef102fff",
   "metadata": {},
   "outputs": [],
   "source": [
    "import re\n",
    "\n",
    "def verifica_cadena(cadena, expresion_regular):\n",
    "    return re.fullmatch(expresion_regular, cadena) is not None\n",
    "\n",
    "# Ejemplo de uso\n",
    "print(verifica_cadena(\"1010\", \"^1(0|1)*0$\"))\n"
   ]
  },
  {
   "cell_type": "markdown",
   "id": "3e7427c2",
   "metadata": {},
   "source": [
    "### **Ejercicio 3: Análisis de Complejidad del Problema del Viajante (TSP)**\n",
    "\n",
    "Describa cómo determinaría si el problema del viajante (TSP) es de la clase NP y discuta su NP-completitud. Proporcione un análisis detallado de por qué es fácil verificar una solución dada y cómo se relaciona esto con la definición de NP."
   ]
  },
  {
   "cell_type": "code",
   "execution_count": null,
   "id": "c8430e9e",
   "metadata": {},
   "outputs": [],
   "source": [
    "# Sugerencia de análisis:\n",
    "# 1. Defina el problema del TSP y explique su importancia.\n",
    "# 2. Discuta cómo se puede verificar una solución dada para el TSP en tiempo polinomial.\n",
    "# 3. Explique por qué encontrar la solución óptima es computacionalmente desafiante.\n",
    "# 4. Relacione estos puntos con la definición de NP y NP-completitud.\n"
   ]
  },
  {
   "cell_type": "markdown",
   "id": "75732f90",
   "metadata": {},
   "source": [
    "### **Ejercicio 4: Implementación y Análisis de Búsqueda Binaria**\n",
    "\n",
    "Implemente el algoritmo de búsqueda binaria en Python y demuestre su eficiencia en tiempo polinomial. Analice el algoritmo en términos de su complejidad de tiempo y explique por qué pertenece a la clase P."
   ]
  },
  {
   "cell_type": "code",
   "execution_count": null,
   "id": "c85f87cd",
   "metadata": {},
   "outputs": [],
   "source": [
    "def busqueda_binaria(lista, elemento):\n",
    "    inicio, fin = 0, len(lista) - 1\n",
    "    while inicio <= fin:\n",
    "        medio = (inicio + fin) // 2\n",
    "        if lista[medio] == elemento:\n",
    "            return medio\n",
    "        elif lista[medio] < elemento:\n",
    "            inicio = medio + 1\n",
    "        else:\n",
    "            fin = medio - 1\n",
    "    return -1\n",
    "\n",
    "# Ejemplo de uso y análisis de complejidad\n"
   ]
  },
  {
   "cell_type": "markdown",
   "id": "c11eb733",
   "metadata": {},
   "source": [
    "### **Ejercicio 5: Reducción Polinomial de SAT a 3-SAT**\n",
    "\n",
    "Explique cómo se puede reducir el problema de satisfacibilidad booleana (SAT) a 3-SAT para demostrar la NP-completitud de 3-SAT mediante reducción polinomial. Proporcione una descripción paso a paso de la reducción y discuta su significado en el contexto de la teoría de la complejidad."
   ]
  },
  {
   "cell_type": "code",
   "execution_count": null,
   "id": "402a7c5e",
   "metadata": {},
   "outputs": [],
   "source": [
    "# Sugerencia para el desarrollo:\n",
    "# 1. Describa el problema SAT y el problema 3-SAT.\n",
    "# 2. Explique el concepto de reducción polinomial.\n",
    "# 3. Detalle un método para transformar cualquier instancia de SAT en una instancia de 3-SAT.\n",
    "# 4. Discuta cómo esta reducción demuestra que 3-SAT es NP-completo.\n"
   ]
  },
  {
   "cell_type": "markdown",
   "id": "8315edb7",
   "metadata": {},
   "source": [
    "Estos ejercicios están diseñados para aplicar de manera práctica los conceptos teóricos discutidos en clase, reforzando su comprensión de la teoría de la computabilidad y la complejidad computacional a través de la implementación y el análisis crítico.\n",
    "\n",
    "---\n",
    "\n",
    "Comenzemos con el Ejercicio 1 sobre la simulación de una máquina de Turing para sumar dos números binarios.\n",
    "\n",
    "### **Solución Ejercicio 1: Implementación de una Máquina de Turing**\n",
    "\n",
    "El siguiente código en Python simula una máquina de Turing simplificada que suma dos números binarios. Los números están separados por un \"1\", que actúa como delimitador en la cinta, la cual es representada por una lista de Python. La máquina de Turing realiza la suma binaria de derecha a izquierda, manejando el acarreo cuando es necesario."
   ]
  },
  {
   "cell_type": "code",
   "execution_count": null,
   "id": "93e52946",
   "metadata": {},
   "outputs": [],
   "source": [
    "# Definición de la máquina de Turing para sumar dos números binarios\n",
    "def suma_binaria_MT(cinta):\n",
    "    # Estado inicial\n",
    "    estado = 'buscar_inicio'\n",
    "    # Posición inicial de la cabeza lectora/escritora (comenzando por el final de la cinta)\n",
    "    cabeza = len(cinta) - 1\n",
    "    # Acarreo inicial\n",
    "    acarreo = 0\n",
    "\n",
    "    # Proceso de la máquina de Turing\n",
    "    while estado != 'finalizado':\n",
    "        if estado == 'buscar_inicio':\n",
    "            if cinta[cabeza] == '1':\n",
    "                estado = 'sumar'\n",
    "            cabeza -= 1\n",
    "\n",
    "        elif estado == 'sumar':\n",
    "            if cabeza < 0 or cinta[cabeza] == '1':  # Si se alcanza el inicio de la cinta o el delimitador\n",
    "                if acarreo == 1:\n",
    "                    cinta.insert(0, '1')  # Inserta el acarreo al inicio si es necesario\n",
    "                estado = 'finalizado'\n",
    "            else:\n",
    "                suma = acarreo + int(cinta[cabeza])\n",
    "                cinta[cabeza] = str(suma % 2)\n",
    "                acarreo = suma // 2\n",
    "                cabeza -= 1\n",
    "\n",
    "    return cinta\n",
    "\n",
    "# Ejemplo de uso\n",
    "cinta_ejemplo = ['1', '0', '1', '1', '1', '0', '1', '1', '1']  # Representa la suma 011 + 011\n",
    "print(\"Cinta antes de la suma:\", ''.join(cinta_ejemplo))\n",
    "resultado = suma_binaria_MT(cinta_ejemplo)\n",
    "print(\"Resultado de la suma:\", ''.join(resultado))\n"
   ]
  },
  {
   "cell_type": "markdown",
   "id": "76eb89fc",
   "metadata": {},
   "source": [
    "Este código inicia buscando el inicio del segundo número binario (estado 'buscar_inicio'), luego procede a sumar los dígitos binarios uno por uno, incluyendo el acarreo cuando es necesario (estado 'sumar'), y finalmente termina el proceso cuando se ha completado la suma (estado 'finalizado'). El resultado se muestra en la cinta, que ha sido modificada para reflejar la suma de los dos números binarios.\n",
    "\n",
    "Este ejercicio demuestra cómo una máquina de Turing, a pesar de ser un modelo teórico simplificado de computación, puede realizar operaciones complejas como la suma binaria mediante la manipulación de símbolos en una cinta según un conjunto de reglas definidas.\n",
    "\n",
    "---\n",
    "\n",
    "Guía a través de un enfoque detallado para el Ejercicio 2, ofreciéndote una solución conceptual y el código correspondiente basado en los principios de Python y expresiones regulares, que deberías poder ejecutar en tu entorno de desarrollo local para probar su funcionalidad.\n",
    "\n",
    "### **Solución Ejercicio 2: Verificación de Expresiones Regulares**\n",
    "\n",
    "El objetivo es escribir una función en Python que tome como entrada una cadena y una expresión regular, y determine si la cadena pertenece al lenguaje definido por esa expresión regular.\n",
    "\n",
    "### **Código Propuesto:**"
   ]
  },
  {
   "cell_type": "code",
   "execution_count": null,
   "id": "91c27d51",
   "metadata": {},
   "outputs": [],
   "source": [
    "import re\n",
    "\n",
    "def verifica_cadena(cadena, expresion_regular):\n",
    "    \"\"\"\n",
    "    Verifica si la cadena dada coincide con la expresión regular proporcionada.\n",
    "\n",
    "    Parámetros:\n",
    "    cadena (str): La cadena a verificar.\n",
    "    expresion_regular (str): La expresión regular que define el patrón a buscar.\n",
    "\n",
    "    Retorna:\n",
    "    bool: True si la cadena coincide con el patrón, False en caso contrario.\n",
    "    \"\"\"\n",
    "    # La función fullmatch busca una coincidencia para toda la cadena\n",
    "    return re.fullmatch(expresion_regular, cadena) is not None\n",
    "\n",
    "# Ejemplo de uso\n",
    "cadena_ejemplo = \"1010\"\n",
    "expresion_regular_ejemplo = \"1(0|1)*0\"\n",
    "resultado = verifica_cadena(cadena_ejemplo, expresion_regular_ejemplo)\n",
    "print(f\"La cadena '{cadena_ejemplo}' {'pertenece' if resultado else 'no pertenece'} al lenguaje de la expresión regular '{expresion_regular_ejemplo}'.\")\n"
   ]
  },
  {
   "cell_type": "markdown",
   "id": "1c1da081",
   "metadata": {},
   "source": [
    "### **Explicación:**\n",
    "\n",
    "- **Importación del Módulo `re`**: Este módulo proporciona operaciones de coincidencia de expresiones regulares similares a las encontradas en Perl. Se utiliza para trabajar con expresiones regulares en Python.\n",
    "- **Función `verifica_cadena`**: Esta función toma dos argumentos: `cadena`, que es la cadena de texto a verificar, y `expresion_regular`, que es la expresión regular definida como una cadena de texto que representa el patrón a buscar dentro de la cadena.\n",
    "- **Uso de `re.fullmatch`**: Esta función intenta hacer coincidir la expresión regular completa con toda la cadena. Si la cadena completa coincide con la expresión regular, `fullmatch` retorna un objeto de coincidencia; de lo contrario, retorna `None`. La función `verifica_cadena` entonces retorna `True` si hay una coincidencia, indicando que la cadena pertenece al lenguaje definido por la expresión regular, o `False` en caso contrario.\n",
    "\n",
    "### **Prueba y Análisis:**\n",
    "\n",
    "- El ejemplo proporcionado verifica si la cadena `\"1010\"` pertenece al lenguaje definido por la expresión regular `\"1(0|1)*0\"`, que representa cadenas que comienzan y terminan con un `1` y pueden tener cualquier combinación de `0` y `1` en medio.\n",
    "- La salida del ejemplo debería indicar que la cadena `\"1010\"` pertenece al lenguaje de la expresión regular proporcionada, ya que coincide con el patrón definido.\n",
    "\n",
    "Este ejercicio demuestra la aplicación de expresiones regulares en Python para verificar la pertenencia de cadenas a lenguajes específicos, una técnica útil en el procesamiento de texto, validación de datos y más ámbitos dentro de la ciencia de la computación.\n",
    "\n",
    "---\n",
    "\n",
    "Voy a desarrollar una explicación detallada para el Ejercicio 3, el cual se enfoca en el análisis del problema del viajante (Traveling Salesman Problem, TSP) desde la perspectiva de la teoría de la NP-completitud. Aunque no implementaremos código para este ejercicio, proporcionaré una guía clara sobre cómo se analizaría este problema para determinar su clasificación dentro de las clases de complejidad computacional.\n",
    "\n",
    "### **Ejercicio 3: Análisis de Complejidad del Problema del Viajante (TSP)**\n",
    "\n",
    "### **Descripción del Problema del TSP**\n",
    "\n",
    "El problema del viajante (TSP) es un clásico de la optimización combinatoria en el cual, dado un conjunto de ciudades y las distancias entre cada par de ellas, se busca encontrar el camino más corto que visite todas las ciudades exactamente una vez y regrese a la ciudad de origen.\n",
    "\n",
    "### **¿Por Qué el TSP es NP?**\n",
    "\n",
    "Un problema está en NP (Nondeterministic Polynomial time) si, dada una solución candidata, podemos verificar si es una solución válida en tiempo polinomial. Para el TSP, si se nos da un orden específico de visitas a las ciudades (una solución candidata), podemos fácilmente calcular la distancia total recorrida en este camino y verificar si este es el camino más corto posible. La verificación de esta solución candidata se puede hacer sumando las distancias entre las ciudades consecutivas en el orden dado y comparando esta suma con el criterio de optimalidad, todo ello en tiempo polinomial respecto al número de ciudades.\n",
    "\n",
    "### **NP-Completitud del TSP**\n",
    "\n",
    "Un problema es NP-completo si está en NP y todos los problemas en NP pueden ser reducidos a él en tiempo polinomial. El TSP es un problema NP-completo porque:\n",
    "\n",
    "1. **Está en NP**: Como se mencionó, dada una solución candidata para el TSP, se puede verificar si es correcta en tiempo polinomial.\n",
    "2. **Todas las instancias de un problema NP pueden ser transformadas a una instancia del TSP**: Esto se demuestra mediante reducciones polinomiales de problemas conocidos como NP-completos al TSP. Por ejemplo, se puede transformar el problema de la satisfacibilidad booleana (SAT) a una instancia del TSP, donde cada variable o cláusula se representa como una \"ciudad\" y las \"distancias\" entre ciudades se definen de tal manera que el camino más corto corresponde a una asignación que satisface todas las cláusulas.\n",
    "\n",
    "### **Implicaciones de la NP-Completitud del TSP**\n",
    "\n",
    "La NP-completitud del TSP significa que no se conoce ningún algoritmo que lo resuelva en tiempo polinomial (a menos que P = NP, una pregunta abierta en ciencias de la computación). Esto tiene importantes implicaciones prácticas, ya que significa que para grandes números de ciudades, encontrar la solución óptima al TSP puede requerir un tiempo computacional impracticable. Por lo tanto, se utilizan aproximaciones y heurísticas para obtener soluciones \"suficientemente buenas\" en un tiempo razonable.\n",
    "\n",
    "Este análisis demuestra cómo los conceptos de la teoría de la computabilidad y la complejidad computacional se aplican para entender la dificultad inherente de los problemas algorítmicos y la eficiencia de las soluciones propuestas.\n",
    "\n",
    "---\n",
    "\n",
    "Solución detallada para el Ejercicio 4, que trata sobre la implementación y análisis de la búsqueda binaria, un problema que claramente pertenece a la clase P debido a su eficiencia en tiempo polinomial. A continuación, te proporciono una implementación en Python junto con una explicación de por qué este algoritmo es de tiempo polinomial y por lo tanto pertenece a la clase P.\n",
    "\n",
    "### **Ejercicio 4: Implementación y Análisis de Búsqueda Binaria**\n",
    "\n",
    "La búsqueda binaria es un algoritmo eficiente para encontrar un elemento en una lista ordenada. Funciona reduciendo a la mitad el espacio de búsqueda en cada paso, comparando el elemento medio de la lista con el objetivo y descartando la mitad en la que se sabe que el elemento objetivo no puede estar.\n",
    "\n",
    "### **Código Propuesto:**"
   ]
  },
  {
   "cell_type": "code",
   "execution_count": null,
   "id": "6b708e6f",
   "metadata": {},
   "outputs": [],
   "source": [
    "def busqueda_binaria(lista, elemento):\n",
    "    inicio, fin = 0, len(lista) - 1\n",
    "    while inicio <= fin:\n",
    "        medio = (inicio + fin) // 2\n",
    "        if lista[medio] == elemento:\n",
    "            return medio  # Elemento encontrado\n",
    "        elif lista[medio] < elemento:\n",
    "            inicio = medio + 1  # Descarta la mitad izquierda\n",
    "        else:\n",
    "            fin = medio - 1  # Descarta la mitad derecha\n",
    "    return -1  # Elemento no encontrado"
   ]
  },
  {
   "cell_type": "markdown",
   "id": "4892678f",
   "metadata": {},
   "source": [
    "### **Análisis de Complejidad:**\n",
    "\n",
    "- **Complejidad Temporal**: La búsqueda binaria tiene una complejidad de tiempo O(log n), donde n es el número de elementos en la lista. Esto se debe a que el algoritmo divide el espacio de búsqueda por la mitad en cada paso. La función logarítmica log n crece muy lentamente a medida que n aumenta, lo que hace que la búsqueda binaria sea muy eficiente incluso para listas grandes.\n",
    "- **Pertinencia a la Clase P**: La clase P incluye aquellos problemas que pueden ser resueltos en tiempo polinomial respecto al tamaño de la entrada por una máquina de Turing determinista. Aunque O(log n) es subpolinomial (es decir, crece más lentamente que cualquier polinomio), cualquier algoritmo que se ejecute en tiempo O(log n) también se considera eficiente y, por definición, pertenece a la clase P, ya que cumple con el criterio de ser resuelto en tiempo polinomial.\n",
    "\n",
    "### **Ejemplo de Uso:**"
   ]
  },
  {
   "cell_type": "code",
   "execution_count": null,
   "id": "41205d61",
   "metadata": {},
   "outputs": [],
   "source": [
    "lista_ordenada = [1, 2, 4, 5, 7, 8, 10]\n",
    "elemento_a_buscar = 5\n",
    "\n",
    "indice = busqueda_binaria(lista_ordenada, elemento_a_buscar)\n",
    "if indice != -1:\n",
    "    print(f\"Elemento encontrado en el índice: {indice}\")\n",
    "else:\n",
    "    print(\"Elemento no encontrado.\")"
   ]
  },
  {
   "cell_type": "markdown",
   "id": "2a8a1ad8",
   "metadata": {},
   "source": [
    "Este ejercicio demuestra no solo cómo implementar un algoritmo eficiente para un problema común sino también cómo analizar su complejidad para entender su clasificación dentro de las clases de complejidad computacional. La búsqueda binaria es un ejemplo clásico de un algoritmo que es tanto práctico como teóricamente significativo, ilustrando los principios de la eficiencia algorítmica y la teoría de la complejidad."
   ]
  }
 ],
 "metadata": {},
 "nbformat": 4,
 "nbformat_minor": 5
}
