{
 "cells": [
  {
   "cell_type": "markdown",
   "id": "8c8451ea",
   "metadata": {},
   "source": [
    "# Ejercicio: Selección de Estructuras de Datos\n",
    "\n",
    "Para realizar una comparación efectiva sobre la complejidad algorítmica de las operaciones de inserción, búsqueda y eliminación en diferentes estructuras de datos, consideraremos cuatro estructuras comunes: arreglos (arrays), listas enlazadas, árboles de búsqueda binaria (BST, por sus siglas en inglés) y tablas hash.\n",
    "\n",
    "### **1. Arreglos (Arrays)**\n",
    "\n",
    "- **Inserción**: *O*(1) si es al final del arreglo (sin considerar redimensionamientos); *O*(*n*) si es en una posición específica, ya que puede requerir desplazar elementos.\n",
    "- **Búsqueda**: *O*(*n*) para búsqueda lineal; *O*(log*n*) para búsqueda binaria si el arreglo está ordenado.\n",
    "- **Eliminación**: *O*(*n*) para eliminar un elemento, ya que requiere desplazar elementos para llenar el espacio.\n",
    "\n",
    "### **2. Listas Enlazadas**\n",
    "\n",
    "- **Inserción**: *O*(1) al insertar al principio o al final (si se tiene una referencia al último nodo en listas enlazadas simples o en listas doblemente enlazadas).\n",
    "- **Búsqueda**: *O*(*n*), ya que puede requerir recorrer toda la lista para encontrar el elemento.\n",
    "- **Eliminación**: *O*(1) si tienes una referencia directa al nodo a eliminar; sin embargo, encontrar el nodo a eliminar típicamente requiere *O*(*n*).\n",
    "\n",
    "### **3. Árboles de Búsqueda Binaria (BST)**\n",
    "\n",
    "- **Inserción**: *O*(log*n*) en promedio; *O*(*n*) en el peor caso cuando el árbol se degenera en una lista enlazada.\n",
    "- **Búsqueda**: *O*(log*n*) en promedio; *O*(*n*) en el peor caso para árboles no balanceados.\n",
    "- **Eliminación**: *O*(log*n*) en promedio; *O*(*n*) en el peor caso para árboles no balanceados.\n",
    "\n",
    "### **4. Tablas Hash**\n",
    "\n",
    "- **Inserción**: *O*(1) en promedio; *O*(*n*) en el peor caso cuando todos los elementos colisionan en la misma posición, aunque esto es raro con una buena función hash.\n",
    "- **Búsqueda**: *O*(1) en promedio; *O*(*n*) en el peor caso por las mismas razones que la inserción.\n",
    "- **Eliminación**: *O*(1) en promedio; *O*(*n*) en el peor caso.\n",
    "\n",
    "### Discusión sobre la Adecuación en Diferentes Escenarios\n",
    "\n",
    "- **Para operaciones predominantemente de inserción y eliminación**: Las listas enlazadas son excelentes cuando las inserciones y eliminaciones son frecuentes y principalmente al inicio o al final de la lista, especialmente si el orden de los elementos no es un problema.\n",
    "- **Cuando se requiere acceso rápido a los elementos**: Las tablas hash son superiores en términos de velocidad de acceso, haciéndolas ideales para aplicaciones que requieren búsquedas rápidas, como cachés o bases de datos en memoria.\n",
    "- **Para conjuntos de datos ordenados que requieren búsquedas eficientes, inserciones y eliminaciones**: Los árboles de búsqueda binaria, especialmente las variantes auto-balanceadas como AVL o Red-Black, son adecuados ya que mantienen las operaciones en \\(O(log n)\\) y conservan el orden de los elementos.\n",
    "- **Operaciones en arreglos**: Son eficientes en términos de memoria y pueden ser muy rápidos para acceso aleatorio si el tamaño del conjunto de datos es estático o cambia raramente, lo que los hace adecuados para aplicaciones que no requieren inserciones o eliminaciones frecuentes.\n",
    "\n",
    "### Conclusión\n",
    "\n",
    "La elección de la estructura de datos depende en gran medida de las operaciones que se necesitan optimizar y las características específicas del problema. Mientras que las tablas hash ofrecen la mayor eficiencia en la mayoría de las operaciones de búsqueda, las listas enlazadas y los árboles de búsqueda binaria ofrecen ventajas en escenarios donde el orden de los elementos o las inserciones/eliminaciones son consideraciones importantes. Los arreglos son simples y eficientes para acceso aleatorio y conjuntos de datos estáticos o de tamaño raramente cambiante."
   ]
  }
 ],
 "metadata": {
  "language_info": {
   "name": "python"
  }
 },
 "nbformat": 4,
 "nbformat_minor": 5
}
