{
  "cells": [
    {
      "cell_type": "markdown",
      "id": "a23891b5",
      "metadata": {},
      "source": [
        "# Ejercicio: An\u00e1lisis de Complejidad\n",
        "\n",
        "Usaremos un ejemplo com\u00fan para este ejercicio: una funci\u00f3n de ordenamiento de burbuja en Python, la cual es conocida por su simplicidad pero tambi\u00e9n por su ineficiencia en conjuntos de datos grandes.\n",
        "\n",
        "### Fragmento de C\u00f3digo Original: Ordenamiento de Burbuja"
      ]
    },
    {
      "cell_type": "code",
      "execution_count": null,
      "id": "7faa6d55",
      "metadata": {},
      "outputs": [],
      "source": [
        "def bubbleSort(arr):\n",
        "    n = len(arr)\n",
        "    for i in range(n):\n",
        "        for j in range(0, n-i-1):\n",
        "            if arr[j] > arr[j+1]:\n",
        "                arr[j], arr[j+1] = arr[j+1], arr[j]"
      ]
    },
    {
      "cell_type": "markdown",
      "id": "231c8675",
      "metadata": {},
      "source": [
        "### An\u00e1lisis de Complejidad\n",
        "\n",
        "- **Complejidad de Tiempo**: La complejidad de tiempo de este algoritmo es \\(O(n^2)\\) en el caso promedio y peor caso, donde \\(n\\) es el n\u00famero de elementos en el arreglo. Esto se debe a que hay dos bucles anidados que recorren el arreglo, y en el peor de los casos, cada elemento se compara con cada otro elemento.\n",
        "- **Complejidad de Espacio**: La complejidad del espacio es \\(O(1)\\), ya que solo se utiliza un espacio adicional para realizar el intercambio de elementos en el arreglo. Esto significa que es un algoritmo de ordenamiento \"in-place\", sin necesidad de estructuras adicionales significativas para su ejecuci\u00f3n.\n",
        "\n",
        "### Propuestas de Mejora\n",
        "\n",
        "Para optimizar la eficiencia de este fragmento de c\u00f3digo, podemos considerar alternativas de algoritmos de ordenamiento que tienen mejor complejidad de tiempo en ciertos casos.\n",
        "\n",
        "1. **Ordenamiento por Fusi\u00f3n (Merge Sort)**: Este algoritmo tiene una complejidad de tiempo de \\(O(n \\log n)\\) en todos los casos, lo cual es significativamente mejor que \\(O(n^2)\\) para grandes vol\u00famenes de datos. Aunque su complejidad de espacio es \\(O(n)\\), debido al almacenamiento temporal necesario para la fusi\u00f3n, la mejora en el tiempo de ejecuci\u00f3n puede justificar el uso de memoria adicional."
      ]
    },
    {
      "cell_type": "code",
      "execution_count": null,
      "id": "04aecdbc",
      "metadata": {},
      "outputs": [],
      "source": [
        "def mergeSort(arr):\n",
        "    if len(arr) > 1:\n",
        "        mid = len(arr)//2\n",
        "        L = arr[:mid]\n",
        "        R = arr[mid:]\n",
        "\n",
        "        mergeSort(L)\n",
        "        mergeSort(R)\n",
        "\n",
        "        i = j = k = 0\n",
        "\n",
        "        while i < len(L) and j < len(R):\n",
        "            if L[i] < R[j]:\n",
        "                arr[k] = L[i]\n",
        "                i += 1\n",
        "            else:\n",
        "                arr[k] = R[j]\n",
        "                j += 1\n",
        "            k += 1\n",
        "\n",
        "        while i < len(L):\n",
        "            arr[k] = L[i]\n",
        "            i += 1\n",
        "            k += 1\n",
        "\n",
        "        while j < len(R):\n",
        "            arr[k] = R[j]\n",
        "            j += 1\n",
        "            k += 1"
      ]
    },
    {
      "cell_type": "markdown",
      "id": "39da8f90",
      "metadata": {},
      "source": [
        "1. **Optimizaci\u00f3n del Ordenamiento de Burbuja**: Aunque cambiar el algoritmo por completo es una buena estrategia, tambi\u00e9n podemos optimizar el ordenamiento de burbuja introduciendo una bandera para detectar si el arreglo ya est\u00e1 ordenado. Esto puede reducir la complejidad de tiempo en el mejor caso a \\(O(n)\\), aunque el caso promedio y peor caso permanecen en \\(O(n^2)\\)."
      ]
    },
    {
      "cell_type": "code",
      "execution_count": null,
      "id": "926d17f0",
      "metadata": {},
      "outputs": [],
      "source": [
        "def bubbleSortOptimized(arr):\n",
        "    n = len(arr)\n",
        "    for i in range(n):\n",
        "        swapped = False\n",
        "        for j in range(0, n-i-1):\n",
        "            if arr[j] > arr[j+1]:\n",
        "                arr[j], arr[j+1] = arr[j+1], arr[j]\n",
        "                swapped = True\n",
        "        if not swapped:\n",
        "            break"
      ]
    },
    {
      "cell_type": "markdown",
      "id": "45d96d94",
      "metadata": {},
      "source": [
        "### Conclusi\u00f3n\n",
        "\n",
        "El an\u00e1lisis de complejidad y la propuesta de mejoras permiten optimizar el rendimiento de los algoritmos. Elegir el algoritmo adecuado o implementar peque\u00f1as optimizaciones puede tener un impacto significativo en la eficiencia del c\u00f3digo, especialmente con grandes conjuntos de datos."
      ]
    }
  ],
  "metadata": {},
  "nbformat": 4,
  "nbformat_minor": 5
}