{
 "cells": [
  {
   "cell_type": "markdown",
   "id": "143b442c",
   "metadata": {},
   "source": [
    "# Ejercicio: Optimización de Algoritmos Existentes\n",
    "\n",
    "Vamos a considerar el algoritmo de ordenamiento de burbuja, que como discutimos anteriormente, tiene una complejidad de tiempo en el peor y caso promedio de *O*(*n*2), y veremos cómo podemos mejorar su eficiencia. El ordenamiento de burbuja es un algoritmo simple pero ineficiente para conjuntos de datos grandes debido a su necesidad de realizar numerosas comparaciones y swaps incluso cuando el arreglo ya está ordenado o casi ordenado.\n",
    "\n",
    "### **Mejora del Algoritmo de Ordenamiento de Burbuja**\n",
    "\n",
    "Una de las optimizaciones más comunes para el ordenamiento de burbuja es introducir una bandera que indique si se ha realizado algún intercambio durante una pasada completa a través del arreglo. Si no se han realizado intercambios, significa que el arreglo ya está ordenado, y no es necesario continuar con más pasadas. Esta mejora puede reducir significativamente la cantidad de pasadas necesarias para ordenar el arreglo, especialmente si el arreglo está ya ordenado o casi ordenado, mejorando el mejor caso a *O*(*n*).\n",
    "\n",
    "### **Implementación Mejorada**"
   ]
  },
  {
   "cell_type": "code",
   "execution_count": null,
   "id": "bf60e8ff",
   "metadata": {},
   "outputs": [],
   "source": [
    "def bubbleSortOptimized(arr):\n",
    "    n = len(arr)\n",
    "    for i in range(n):\n",
    "        swapped = False\n",
    "        for j in range(0, n-i-1):\n",
    "            if arr[j] > arr[j+1]:\n",
    "                arr[j], arr[j+1] = arr[j+1], arr[j]\n",
    "                swapped = True\n",
    "        if not swapped:\n",
    "            break"
   ]
  },
  {
   "cell_type": "markdown",
   "id": "7f330b81",
   "metadata": {},
   "source": [
    "### **Exploración de Estructuras de Datos Alternativas**\n",
    "\n",
    "Mientras que la mejora anterior reduce la cantidad de pasadas innecesarias, la complejidad algorítmica en el peor y caso promedio sigue siendo*O*(*n*2) debido a la naturaleza del algoritmo. Para conjuntos de datos grandes, podríamos considerar el uso de estructuras de datos más avanzadas que permiten ordenamientos más eficientes.\n",
    "\n",
    "### Árboles de Búsqueda Binaria (BST)\n",
    "\n",
    "Insertar todos los elementos en un BST y luego recorrer el árbol in-order nos da un conjunto ordenado. La inserción en un BST tiene una complejidad de tiempo de *O*(log*n*) en promedio, pero puede degradarse a *O*(*n*) si el árbol no está balanceado. Para evitar esto, se pueden usar árboles balanceados como AVL o Red-Black Trees, que mantienen la complejidad de inserción y búsqueda en *O*(log*n*), incluso en el peor caso.\n",
    "\n",
    "### Tablas Hash\n",
    "\n",
    "Aunque las tablas hash no son típicamente usadas para ordenamiento debido a su naturaleza no ordenada, podrían utilizarse en algoritmos de ordenamiento por conteo o radix sort, donde la complejidad puede ser mejor que *O*(*n*log*n*) para ciertos tipos de datos.\n",
    "\n",
    "### **Conclusión**\n",
    "\n",
    "La optimización del algoritmo de ordenamiento de burbuja mediante una bandera de intercambio puede mejorar significativamente el rendimiento en el mejor caso, reduciendo la complejidad a *O*(*n*) cuando el arreglo está ya ordenado. Para mejorar aún más la eficiencia en la clasificación de conjuntos de datos grandes, la elección de estructuras de datos como árboles de búsqueda binaria balanceados puede ser más adecuada, ofreciendo una complejidad de tiempo de ordenamiento de *O*(*n*log*n*) con la ventaja de mantener el orden durante las inserciones y eliminaciones."
   ]
  }
 ],
 "metadata": {},
 "nbformat": 4,
 "nbformat_minor": 5
}
