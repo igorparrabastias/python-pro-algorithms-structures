{
 "cells": [
  {
   "cell_type": "markdown",
   "id": "615ab31e",
   "metadata": {},
   "source": [
    "# Ejercicio: Refactorización de un Fragmento de Código\n",
    "\n",
    "Vamos a refactorizar un fragmento de código que simula una operación común en aplicaciones: el procesamiento de datos de usuarios, incluyendo la validación de entradas, actualización de un registro de base de datos simulada y registro de actividad. Este ejemplo ilustrará cómo descomponer una función grande en partes más pequeñas, mejorar la legibilidad y potencialmente el rendimiento.\n",
    "\n",
    "### Fragmento de Código Original\n",
    "\n",
    "Supongamos que tenemos la siguiente función que hace demasiado en un solo bloque de código, lo que dificulta su comprensión y mantenimiento:"
   ]
  },
  {
   "cell_type": "code",
   "execution_count": null,
   "id": "5df5d03f",
   "metadata": {},
   "outputs": [],
   "source": [
    "def processUserData(userId, userData):\n",
    "    # Valida los datos del usuario\n",
    "    if not userData or 'name' not in userData or 'email' not in userData:\n",
    "        print(\"Error: Datos del usuario incompletos.\")\n",
    "        return False\n",
    "\n",
    "    # Actualiza el registro del usuario en la \"base de datos\"\n",
    "    database = {}  # Simula una base de datos\n",
    "    if userId in database:\n",
    "        for key, value in userData.items():\n",
    "            database[userId][key] = value\n",
    "        print(\"Usuario actualizado con éxito.\")\n",
    "    else:\n",
    "        database[userId] = userData\n",
    "        print(\"Usuario creado con éxito.\")\n",
    "\n",
    "    # Registra la actividad del usuario\n",
    "    with open('userActivity.log', 'a') as logFile:\n",
    "        logFile.write(f\"Usuario {userId} procesado\\\\n\")\n",
    "\n",
    "    return True"
   ]
  },
  {
   "cell_type": "markdown",
   "id": "96a8f3a5",
   "metadata": {},
   "source": [
    "### Refactorización Propuesta\n",
    "\n",
    "1. **Descomponer en Funciones Más Pequeñas**: Dividiremos la función en partes más pequeñas, cada una responsable de una tarea específica.\n",
    "2. **Mejorar la Validación de Datos**: Usaremos una función dedicada para validar los datos del usuario.\n",
    "3. **Optimización del Manejo de la Base de Datos**: Simularemos una función más realista para interactuar con la base de datos.\n",
    "4. **Separar la Lógica de Registro de Actividad**: Usaremos una función para manejar el registro de actividad.\n",
    "\n",
    "### Fragmento de Código Refactorizado"
   ]
  },
  {
   "cell_type": "code",
   "execution_count": null,
   "id": "a8e3f455",
   "metadata": {},
   "outputs": [],
   "source": [
    "def validateUserData(userData):\n",
    "    return userData and 'name' in userData and 'email' in userData\n",
    "\n",
    "def updateUserRecord(userId, userData, database):\n",
    "    if userId in database:\n",
    "        database[userId].update(userData)\n",
    "        print(\"Usuario actualizado con éxito.\")\n",
    "    else:\n",
    "        database[userId] = userData\n",
    "        print(\"Usuario creado con éxito.\")\n",
    "\n",
    "def logUserActivity(userId):\n",
    "    with open('userActivity.log', 'a') as logFile:\n",
    "        logFile.write(f\"Usuario {userId} procesado\\\\n\")\n",
    "\n",
    "def processUserDataRefactored(userId, userData):\n",
    "    if not validateUserData(userData):\n",
    "        print(\"Error: Datos del usuario incompletos.\")\n",
    "        return False\n",
    "\n",
    "    database = {}  # Este debe ser accesible globalmente o pasarse como argumento\n",
    "    updateUserRecord(userId, userData, database)\n",
    "    logUserActivity(userId)\n",
    "\n",
    "    return True"
   ]
  },
  {
   "cell_type": "markdown",
   "id": "6bf6839e",
   "metadata": {},
   "source": [
    "### Análisis de la Refactorización\n",
    "\n",
    "- **Legibilidad Mejorada**: Al dividir la lógica en funciones más pequeñas y específicas, el código es mucho más fácil de leer y entender. Cada función tiene una sola responsabilidad, lo que sigue el principio SOLID de responsabilidad única.\n",
    "- **Mantenimiento Mejorado**: La actualización, corrección de errores o mejora de una parte específica del proceso (como la validación de datos) se simplifica, ya que el cambio está aislado en una función pequeña.\n",
    "- **Potencial Mejora en el Rendimiento**: Aunque el rendimiento no era el enfoque principal de esta refactorización, la organización mejorada puede llevar a optimizaciones más fáciles, como mejorar la validación de datos o la eficiencia de la escritura de logs.\n",
    "\n",
    "### Conclusión\n",
    "\n",
    "Esta refactorización demuestra cómo la descomposición de funciones grandes en tareas más pequeñas y enfocadas mejora significativamente la legibilidad y mantenibilidad del código. Adoptar este enfoque facilita la gestión del código a largo plazo y abre oportunidades para optimizaciones específicas que pueden mejorar el rendimiento general del software."
   ]
  }
 ],
 "metadata": {},
 "nbformat": 4,
 "nbformat_minor": 5
}
