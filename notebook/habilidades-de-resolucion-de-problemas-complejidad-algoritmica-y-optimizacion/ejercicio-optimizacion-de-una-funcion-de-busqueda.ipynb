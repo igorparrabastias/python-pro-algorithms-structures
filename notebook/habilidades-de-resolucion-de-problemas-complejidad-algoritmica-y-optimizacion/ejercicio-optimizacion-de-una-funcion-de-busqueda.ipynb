{
  "cells": [
    {
      "cell_type": "markdown",
      "id": "4d8b696f",
      "metadata": {},
      "source": [
        "# Ejercicio: Optimizaci\u00f3n de una Funci\u00f3n de B\u00fasqueda\n",
        "\n",
        "Para este ejercicio, comenzaremos con una simple funci\u00f3n de b\u00fasqueda lineal que recorre un arreglo para encontrar un elemento objetivo. Luego, exploraremos c\u00f3mo podemos optimizar esta b\u00fasqueda utilizando la b\u00fasqueda binaria y los hash maps como alternativas, dependiendo de las caracter\u00edsticas de los datos con los que estamos trabajando.\n",
        "\n",
        "### **Implementaci\u00f3n de la B\u00fasqueda Lineal**\n",
        "\n",
        "La b\u00fasqueda lineal es un algoritmo simple que recorre cada elemento del arreglo hasta encontrar el elemento objetivo o hasta que se hayan revisado todos los elementos sin encontrarlo."
      ]
    },
    {
      "cell_type": "code",
      "execution_count": null,
      "id": "9910f305",
      "metadata": {},
      "outputs": [],
      "source": [
        "def linear_search(arr, target):\n",
        "    for i in range(len(arr)):\n",
        "        if arr[i] == target:\n",
        "            return i  # Retorna el \u00edndice del elemento objetivo\n",
        "    return -1  # Retorna -1 si el elemento no se encuentra"
      ]
    },
    {
      "cell_type": "markdown",
      "id": "0f9ac92f",
      "metadata": {},
      "source": [
        "**Complejidad**:\n",
        "\n",
        "- Tiempo: *O*(*n*), donde *n* es el n\u00famero de elementos en el arreglo.\n",
        "- Espacio: *O*(1), no se usa espacio adicional significativo.\n",
        "\n",
        "### **Optimizaci\u00f3n con B\u00fasqueda Binaria**\n",
        "\n",
        "La b\u00fasqueda binaria es una t\u00e9cnica eficiente para encontrar un elemento en un arreglo ordenado, dividiendo continuamente a la mitad el rango de b\u00fasqueda hasta encontrar el elemento o hasta que el rango se reduzca a cero.\n",
        "\n",
        "Para aplicar b\u00fasqueda binaria, el arreglo **debe estar ordenado**."
      ]
    },
    {
      "cell_type": "code",
      "execution_count": null,
      "id": "4c2c2ffe",
      "metadata": {},
      "outputs": [],
      "source": [
        "def binary_search(arr, target):\n",
        "    low = 0\n",
        "    high = len(arr) - 1\n",
        "\n",
        "    while low <= high:\n",
        "        mid = (low + high) // 2\n",
        "        if arr[mid] == target:\n",
        "            return mid  # Retorna el \u00edndice del elemento objetivo\n",
        "        elif arr[mid] < target:\n",
        "            low = mid + 1\n",
        "        else:\n",
        "            high = mid - 1\n",
        "    return -1  # Retorna -1 si el elemento no se encuentra"
      ]
    },
    {
      "cell_type": "markdown",
      "id": "793624bc",
      "metadata": {},
      "source": [
        "**Complejidad**:\n",
        "\n",
        "- Tiempo: *O*(log*n*), donde *n* es el n\u00famero de elementos en el arreglo.\n",
        "- Espacio: *O*(1), no se usa espacio adicional significativo.\n",
        "\n",
        "### **Optimizaci\u00f3n con Hash Maps**\n",
        "\n",
        "Los hash maps (o tablas hash) permiten b\u00fasquedas de tiempo casi constante al almacenar elementos en ubicaciones basadas en una funci\u00f3n hash de sus claves. Son particularmente \u00fatiles cuando se realizan m\u00faltiples b\u00fasquedas.\n",
        "\n",
        "Para demostrar esta optimizaci\u00f3n, supongamos que queremos buscar m\u00faltiples elementos dentro del mismo conjunto de datos."
      ]
    },
    {
      "cell_type": "code",
      "execution_count": null,
      "id": "e425602d",
      "metadata": {},
      "outputs": [],
      "source": [
        "def create_hash_map(arr):\n",
        "    hash_map = {}\n",
        "    for i, value in enumerate(arr):\n",
        "        hash_map[value] = i  # Almacena el elemento como clave y su \u00edndice como valor\n",
        "    return hash_map\n",
        "\n",
        "def hash_map_search(hash_map, target):\n",
        "    return hash_map.get(target, -1)  # Retorna el \u00edndice del elemento objetivo o -1 si no se encuentra"
      ]
    },
    {
      "cell_type": "markdown",
      "id": "e347f3ea",
      "metadata": {},
      "source": [
        "**Complejidad**:\n",
        "\n",
        "- Tiempo de Creaci\u00f3n: *O*(*n*), donde *n* es el n\u00famero de elementos en el arreglo.\n",
        "- Tiempo de B\u00fasqueda: *O*(1) en promedio para cada b\u00fasqueda despu\u00e9s de la creaci\u00f3n del hash map.\n",
        "- Espacio: *O*(*n*), debido al almacenamiento adicional del hash map.\n",
        "\n",
        "### **Conclusi\u00f3n**\n",
        "\n",
        "Mientras que la b\u00fasqueda lineal es simple y no requiere que los datos est\u00e9n ordenados, su eficiencia es significativamente menor que la de la b\u00fasqueda binaria y el uso de hash maps para grandes conjuntos de datos. La b\u00fasqueda binaria es \u00f3ptima para arreglos ordenados con b\u00fasquedas \u00fanicas, ofreciendo una complejidad de tiempo logar\u00edtmica. Los hash maps son ideales para conjuntos de datos no ordenados o cuando se realizan m\u00faltiples b\u00fasquedas, proporcionando una r\u00e1pida recuperaci\u00f3n de datos a costa de un mayor uso del espacio. La elecci\u00f3n entre estas optimizaciones depender\u00e1 de las caracter\u00edsticas espec\u00edficas de los datos y los requisitos del problema."
      ]
    }
  ],
  "metadata": {},
  "nbformat": 4,
  "nbformat_minor": 5
}