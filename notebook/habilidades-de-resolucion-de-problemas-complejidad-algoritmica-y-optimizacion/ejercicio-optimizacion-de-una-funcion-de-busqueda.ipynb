{
 "cells": [
  {
   "cell_type": "markdown",
   "id": "4d8b696f",
   "metadata": {},
   "source": [
    "# Ejercicio: Optimización de una Función de Búsqueda\n",
    "\n",
    "Para este ejercicio, comenzaremos con una simple función de búsqueda lineal que recorre un arreglo para encontrar un elemento objetivo. Luego, exploraremos cómo podemos optimizar esta búsqueda utilizando la búsqueda binaria y los hash maps como alternativas, dependiendo de las características de los datos con los que estamos trabajando.\n",
    "\n",
    "### **Implementación de la Búsqueda Lineal**\n",
    "\n",
    "La búsqueda lineal es un algoritmo simple que recorre cada elemento del arreglo hasta encontrar el elemento objetivo o hasta que se hayan revisado todos los elementos sin encontrarlo."
   ]
  },
  {
   "cell_type": "code",
   "execution_count": null,
   "id": "9910f305",
   "metadata": {},
   "outputs": [],
   "source": [
    "def linear_search(arr, target):\n",
    "    for i in range(len(arr)):\n",
    "        if arr[i] == target:\n",
    "            return i  # Retorna el índice del elemento objetivo\n",
    "    return -1  # Retorna -1 si el elemento no se encuentra"
   ]
  },
  {
   "cell_type": "markdown",
   "id": "0f9ac92f",
   "metadata": {},
   "source": [
    "**Complejidad**:\n",
    "\n",
    "- Tiempo: *O*(*n*), donde *n* es el número de elementos en el arreglo.\n",
    "- Espacio: *O*(1), no se usa espacio adicional significativo.\n",
    "\n",
    "### **Optimización con Búsqueda Binaria**\n",
    "\n",
    "La búsqueda binaria es una técnica eficiente para encontrar un elemento en un arreglo ordenado, dividiendo continuamente a la mitad el rango de búsqueda hasta encontrar el elemento o hasta que el rango se reduzca a cero.\n",
    "\n",
    "Para aplicar búsqueda binaria, el arreglo **debe estar ordenado**."
   ]
  },
  {
   "cell_type": "code",
   "execution_count": null,
   "id": "4c2c2ffe",
   "metadata": {},
   "outputs": [],
   "source": [
    "def binary_search(arr, target):\n",
    "    low = 0\n",
    "    high = len(arr) - 1\n",
    "\n",
    "    while low <= high:\n",
    "        mid = (low + high) // 2\n",
    "        if arr[mid] == target:\n",
    "            return mid  # Retorna el índice del elemento objetivo\n",
    "        elif arr[mid] < target:\n",
    "            low = mid + 1\n",
    "        else:\n",
    "            high = mid - 1\n",
    "    return -1  # Retorna -1 si el elemento no se encuentra"
   ]
  },
  {
   "cell_type": "markdown",
   "id": "793624bc",
   "metadata": {},
   "source": [
    "**Complejidad**:\n",
    "\n",
    "- Tiempo: *O*(log*n*), donde *n* es el número de elementos en el arreglo.\n",
    "- Espacio: *O*(1), no se usa espacio adicional significativo.\n",
    "\n",
    "### **Optimización con Hash Maps**\n",
    "\n",
    "Los hash maps (o tablas hash) permiten búsquedas de tiempo casi constante al almacenar elementos en ubicaciones basadas en una función hash de sus claves. Son particularmente útiles cuando se realizan múltiples búsquedas.\n",
    "\n",
    "Para demostrar esta optimización, supongamos que queremos buscar múltiples elementos dentro del mismo conjunto de datos."
   ]
  },
  {
   "cell_type": "code",
   "execution_count": null,
   "id": "e425602d",
   "metadata": {},
   "outputs": [],
   "source": [
    "pythonCopy code\n",
    "def create_hash_map(arr):\n",
    "    hash_map = {}\n",
    "    for i, value in enumerate(arr):\n",
    "        hash_map[value] = i  # Almacena el elemento como clave y su índice como valor\n",
    "    return hash_map\n",
    "\n",
    "def hash_map_search(hash_map, target):\n",
    "    return hash_map.get(target, -1)  # Retorna el índice del elemento objetivo o -1 si no se encuentra"
   ]
  },
  {
   "cell_type": "markdown",
   "id": "e347f3ea",
   "metadata": {},
   "source": [
    "**Complejidad**:\n",
    "\n",
    "- Tiempo de Creación: *O*(*n*), donde *n* es el número de elementos en el arreglo.\n",
    "- Tiempo de Búsqueda: *O*(1) en promedio para cada búsqueda después de la creación del hash map.\n",
    "- Espacio: *O*(*n*), debido al almacenamiento adicional del hash map.\n",
    "\n",
    "### **Conclusión**\n",
    "\n",
    "Mientras que la búsqueda lineal es simple y no requiere que los datos estén ordenados, su eficiencia es significativamente menor que la de la búsqueda binaria y el uso de hash maps para grandes conjuntos de datos. La búsqueda binaria es óptima para arreglos ordenados con búsquedas únicas, ofreciendo una complejidad de tiempo logarítmica. Los hash maps son ideales para conjuntos de datos no ordenados o cuando se realizan múltiples búsquedas, proporcionando una rápida recuperación de datos a costa de un mayor uso del espacio. La elección entre estas optimizaciones dependerá de las características específicas de los datos y los requisitos del problema."
   ]
  }
 ],
 "metadata": {},
 "nbformat": 4,
 "nbformat_minor": 5
}
