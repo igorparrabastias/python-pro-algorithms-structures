{
 "cells": [
  {
   "cell_type": "markdown",
   "id": "6d0783a5",
   "metadata": {},
   "source": [
    "# Ejercicio: Refactorización de un Algoritmo de Ordenamiento\n",
    "\n",
    "Para este ejercicio, vamos a refactorizar el algoritmo de ordenamiento de burbuja, conocido por su simplicidad pero ineficiencia con complejidad *O*(*n*2) en el peor y caso promedio. La optimización propuesta buscará mejorar la eficiencia general sin alterar fundamentalmente el mecanismo subyacente del algoritmo, manteniendo la simplicidad y la facilidad de comprensión.\n",
    "\n",
    "### **Algoritmo de Ordenamiento de Burbuja Original**"
   ]
  },
  {
   "cell_type": "code",
   "execution_count": null,
   "id": "5bb2c3f6",
   "metadata": {},
   "outputs": [],
   "source": [
    "def bubbleSort(arr):\n",
    "    n = len(arr)\n",
    "    for i in range(n):\n",
    "        for j in range(0, n-i-1):\n",
    "            if arr[j] > arr[j+1]:\n",
    "                arr[j], arr[j+1] = arr[j+1], arr[j]"
   ]
  },
  {
   "cell_type": "markdown",
   "id": "68ae2d39",
   "metadata": {},
   "source": [
    "### **Refactorización Propuesta**\n",
    "\n",
    "La optimización más común y efectiva para el ordenamiento de burbuja es minimizar el número de pasadas innecesarias una vez que el arreglo ya está ordenado. Esto se logra introduciendo una bandera que verifique si se han realizado intercambios en una pasada completa; si no se han realizado intercambios, el arreglo ya está ordenado y el algoritmo puede terminar prematuramente.\n",
    "\n",
    "### **Algoritmo de Ordenamiento de Burbuja Optimizado**"
   ]
  },
  {
   "cell_type": "code",
   "execution_count": null,
   "id": "045d7d6d",
   "metadata": {},
   "outputs": [],
   "source": [
    "def bubbleSortOptimized(arr):\n",
    "    n = len(arr)\n",
    "    for i in range(n):\n",
    "        swapped = False  # Introduce una bandera para rastrear si se hace algún intercambio\n",
    "        for j in range(0, n-i-1):\n",
    "            if arr[j] > arr[j+1]:\n",
    "                arr[j], arr[j+1] = arr[j+1], arr[j]\n",
    "                swapped = True  # Marca la bandera si hay un intercambio\n",
    "        if not swapped:  # Si no hubo intercambios, el arreglo ya está ordenado\n",
    "            break"
   ]
  },
  {
   "cell_type": "markdown",
   "id": "ef187f6f",
   "metadata": {},
   "source": [
    "### **Análisis de la Optimización**\n",
    "\n",
    "- **Complejidad de Tiempo**: Con esta optimización, el mejor caso mejora a *O*(*n*) cuando el arreglo ya está ordenado, ya que solo se requiere una pasada para verificar que no se necesitan intercambios. El caso promedio y el peor caso permanecen en *O*(*n*2), pero el número real de comparaciones e intercambios necesarios se reduce en práctica para arreglos parcialmente ordenados.\n",
    "- **Complejidad de Espacio**: La complejidad del espacio sigue siendo*O*(1), ya que la optimización no introduce estructuras de datos adicionales significativas, manteniendo el algoritmo como un ordenamiento \"in-place\".\n",
    "\n",
    "### **Ventajas de la Refactorización**\n",
    "\n",
    "- **Eficiencia Mejorada**: En casos donde el arreglo está ya ordenado o casi ordenado, el algoritmo terminará mucho más rápido, reduciendo significativamente el tiempo de ejecución.\n",
    "- **Simplicidad Mantenida**: La optimización conserva la simplicidad inherente del ordenamiento de burbuja, lo que hace que el algoritmo siga siendo fácil de entender y de implementar.\n",
    "- **Adaptabilidad**: Esta versión optimizada del algoritmo se adapta mejor a diferentes conjuntos de datos, ofreciendo mejoras de rendimiento en escenarios comunes sin complicar su implementación.\n",
    "\n",
    "### **Conclusión**\n",
    "\n",
    "La refactorización del algoritmo de ordenamiento de burbuja mediante la introducción de una bandera de intercambio representa una mejora significativa en términos de eficiencia para ciertos conjuntos de datos, particularmente aquellos que ya están ordenados o requieren pocos intercambios para alcanzar el orden. Esta optimización demuestra cómo pequeñas modificaciones en la implementación de un algoritmo pueden tener un impacto sustancial en su rendimiento, sin sacrificar su claridad o aumentar su complejidad."
   ]
  }
 ],
 "metadata": {},
 "nbformat": 4,
 "nbformat_minor": 5
}
