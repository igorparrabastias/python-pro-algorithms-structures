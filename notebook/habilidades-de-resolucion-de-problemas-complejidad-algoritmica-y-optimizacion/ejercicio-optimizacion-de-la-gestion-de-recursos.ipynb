{
 "cells": [
  {
   "cell_type": "markdown",
   "id": "26f4c0ae",
   "metadata": {},
   "source": [
    "# Ejercicio: Optimización de la Gestión de Recursos\n",
    "\n",
    "Para ilustrar la optimización de la gestión de recursos, consideremos un escenario común donde se procesa una gran cantidad de datos, como el cálculo de estadísticas a partir de un gran conjunto de datos. Este tipo de operaciones puede consumir una cantidad significativa de memoria y tiempo de CPU, especialmente si no se manejan de manera eficiente.\n",
    "\n",
    "### Proceso Original: Cálculo de Estadísticas\n",
    "\n",
    "Supongamos que tenemos un proceso que calcula la media y la varianza de un gran conjunto de datos. La implementación inicial podría verse así:"
   ]
  },
  {
   "cell_type": "code",
   "execution_count": null,
   "id": "39faaecb",
   "metadata": {},
   "outputs": [],
   "source": [
    "def calculate_statistics(data):\n",
    "    # Cálculo de la media\n",
    "    mean = sum(data) / len(data)\n",
    "\n",
    "    # Cálculo de la varianza\n",
    "    variance = sum((x - mean) ** 2 for x in data) / len(data)\n",
    "\n",
    "    return mean, variance"
   ]
  },
  {
   "cell_type": "markdown",
   "id": "9ccb44a4",
   "metadata": {},
   "source": [
    "Esta función es simple y directa, pero si `data` es muy grande, puede ser ineficiente en términos de uso de memoria y tiempo de CPU por dos razones principales:\n",
    "\n",
    "1. **Cálculo Duplicado de la Suma**: La suma de los datos se calcula dos veces, una para la media y otra para la varianza.\n",
    "2. **Uso de Memoria en Comprensiones de Lista**: Para la varianza, se crea una lista temporal que contiene las diferencias al cuadrado de cada elemento con la media, lo que puede consumir una cantidad significativa de memoria para grandes conjuntos de datos.\n",
    "\n",
    "### Optimización Propuesta\n",
    "\n",
    "Para optimizar este proceso, podemos aplicar el algoritmo de varianza en línea de Welford para calcular la media y la varianza en una sola pasada, reduciendo tanto el tiempo de CPU como el uso de memoria."
   ]
  },
  {
   "cell_type": "code",
   "execution_count": null,
   "id": "61a457ac",
   "metadata": {},
   "outputs": [],
   "source": [
    "def calculate_statistics_optimized(data):\n",
    "    n = 0\n",
    "    mean = 0\n",
    "    M2 = 0\n",
    "\n",
    "    for x in data:\n",
    "        n += 1\n",
    "        delta = x - mean\n",
    "        mean += delta / n\n",
    "        delta2 = x - mean\n",
    "        M2 += delta * delta2\n",
    "\n",
    "    variance = M2 / n if n > 1 else 0\n",
    "\n",
    "    return mean, variance"
   ]
  },
  {
   "cell_type": "markdown",
   "id": "5a7cbdeb",
   "metadata": {},
   "source": [
    "### Análisis de la Optimización\n",
    "\n",
    "- **Eficiencia de Tiempo de CPU**: Al calcular la media y la varianza en una sola pasada a través de los datos, reducimos significativamente el tiempo de procesamiento necesario para grandes conjuntos de datos.\n",
    "- **Reducción del Uso de Memoria**: Al evitar la creación de listas temporales y calcular la varianza sin necesidad de almacenar datos intermedios en memoria, minimizamos el uso de memoria.\n",
    "- **Mejora en la Precisión**: El algoritmo de Welford es numéricamente más estable que el método de sumar todos los elementos primero, lo que puede mejorar la precisión de los cálculos de varianza para conjuntos de datos con gran variabilidad.\n",
    "\n",
    "### Conclusión\n",
    "\n",
    "La optimización de la gestión de recursos mediante la refactorización de procesos intensivos en recursos puede tener un impacto significativo en el rendimiento y la eficiencia de una aplicación. En este caso, al aplicar un algoritmo más eficiente, no solo mejoramos el rendimiento sino también la precisión y la eficiencia en el uso de recursos. Este enfoque se puede aplicar a muchos otros escenarios de procesamiento de datos para lograr mejoras similares."
   ]
  }
 ],
 "metadata": {},
 "nbformat": 4,
 "nbformat_minor": 5
}
