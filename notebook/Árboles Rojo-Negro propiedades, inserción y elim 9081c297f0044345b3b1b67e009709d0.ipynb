{
 "cells": [
  {
   "cell_type": "markdown",
   "id": "18fdf022",
   "metadata": {},
   "source": [
    "# Árboles Rojo-Negro: propiedades, inserción y eliminación."
   ]
  }
 ],
 "metadata": {},
 "nbformat": 4,
 "nbformat_minor": 5
}
