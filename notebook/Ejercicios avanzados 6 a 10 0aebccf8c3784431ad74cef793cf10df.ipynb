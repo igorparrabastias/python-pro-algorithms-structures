{
 "cells": [
  {
   "cell_type": "markdown",
   "id": "f9ad7d2f",
   "metadata": {},
   "source": [
    "# Ejercicios avanzados 6 a 10\n",
    "\n",
    "### Ejercicio 6: Intersección de Listas\n",
    "\n",
    "Devolver los elementos comunes a dos listas sin duplicados."
   ]
  },
  {
   "cell_type": "code",
   "execution_count": null,
   "id": "e998c121",
   "metadata": {},
   "outputs": [],
   "source": [
    "# Ejercicio\n",
    "def interseccion_listas(lista1, lista2):\n",
    "    return list(set(lista1) & set(lista2))\n",
    "\n",
    "# Solución\n",
    "interseccion_listas([1, 2, 3, 4], [2, 3, 5, 6])  # [2, 3]\n"
   ]
  },
  {
   "cell_type": "markdown",
   "id": "8eef873e",
   "metadata": {},
   "source": [
    "### Ejercicio 7: Lista a Diccionario con Índices como Claves\n",
    "\n",
    "Convertir una lista en un diccionario donde los elementos de la lista son los valores y los índices son las claves."
   ]
  },
  {
   "cell_type": "code",
   "execution_count": null,
   "id": "da2bcaf8",
   "metadata": {},
   "outputs": [],
   "source": [
    "# Ejercicio\n",
    "def lista_a_diccionario(lista):\n",
    "    return {i: lista[i] for i in range(len(lista))}\n",
    "\n",
    "# Solución\n",
    "lista_a_diccionario([\"a\", \"b\", \"c\"])  # {0: 'a', 1: 'b', 2: 'c'}\n"
   ]
  },
  {
   "cell_type": "markdown",
   "id": "e9b4b409",
   "metadata": {},
   "source": [
    "### Ejercicio 8: Filtrar Elementos Únicos en una Lista\n",
    "\n",
    "Devolver una nueva lista con solo los elementos únicos de la lista original."
   ]
  },
  {
   "cell_type": "code",
   "execution_count": null,
   "id": "fa6d34cd",
   "metadata": {},
   "outputs": [],
   "source": [
    "# Ejercicio\n",
    "def unicos(lista):\n",
    "    return [x for x in lista if lista.count(x) == 1]\n",
    "\n",
    "# Solución\n",
    "unicos([1, 2, 2, 3, 4, 5, 5])  # [1, 3, 4]\n"
   ]
  },
  {
   "cell_type": "markdown",
   "id": "1879703f",
   "metadata": {},
   "source": [
    "### Ejercicio 9: Múltiples Listas a Una Lista de Tuplas\n",
    "\n",
    "Convertir múltiples listas en una lista de tuplas correspondientes elemento a elemento."
   ]
  },
  {
   "cell_type": "code",
   "execution_count": null,
   "id": "7bbe9c8f",
   "metadata": {},
   "outputs": [],
   "source": [
    "# Ejercicio\n",
    "def listas_a_tuplas(lista1, lista2, lista3):\n",
    "    return list(zip(lista1, lista2, lista3))\n",
    "\n",
    "# Solución\n",
    "listas_a_tuplas([1, 2, 3], ['a', 'b', 'c'], [True, False, True])  # [(1, 'a', True), (2, 'b', False), (3, 'c', True)]\n"
   ]
  },
  {
   "cell_type": "markdown",
   "id": "f4463863",
   "metadata": {},
   "source": [
    "### Ejercicio 10: Listas Anidadas a Lista Plana\n",
    "\n",
    "Aplanar una lista que contiene otras listas anidadas."
   ]
  },
  {
   "cell_type": "code",
   "execution_count": null,
   "id": "b771d495",
   "metadata": {},
   "outputs": [],
   "source": [
    "# Ejercicio\n",
    "def aplanar_lista(lista):\n",
    "    return [elemento for sublista in lista for elemento in sublista]\n",
    "\n",
    "# Solución\n",
    "aplanar_lista([[1, 2, 3], [4, 5], [6]])  # [1, 2, 3, 4, 5, 6]\n"
   ]
  },
  {
   "cell_type": "markdown",
   "id": "8b329b18",
   "metadata": {},
   "source": [
    "Estos cinco ejercicios adicionales ofrecen retos más complejos, ayudando a fortalecer tus habilidades en el manejo de listas y en la implementación de algoritmos más sofisticados en Python. Practicar con estos problemas te preparará mejor para enfrentar desafíos de programación en el mundo real."
   ]
  }
 ],
 "metadata": {},
 "nbformat": 4,
 "nbformat_minor": 5
}
