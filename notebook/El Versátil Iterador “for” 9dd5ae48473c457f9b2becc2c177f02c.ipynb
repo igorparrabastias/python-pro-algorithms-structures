{
 "cells": [
  {
   "attachments": {},
   "cell_type": "markdown",
   "id": "5f00030f",
   "metadata": {},
   "source": [
    "# El Versátil Iterador “for”\n",
    "\n",
    "## Introducción:\n",
    "\n",
    "Los bucles for son una herramienta fundamental en la programación en Python, permitiéndonos iterar sobre una secuencia de elementos de una manera eficiente y legible. En esta clase, nos centraremos en entender cómo utilizar los bucles for para manejar diferentes tipos de iteraciones, con especial atención en las funciones `range` y `enumerate`, que son esenciales para controlar y acceder a los índices durante la iteración.\n",
    "\n",
    "### Uso de Bucles For:\n",
    "\n",
    "- **Definición y Sintaxis Básica**:\n",
    "    - Un bucle for en Python itera sobre los elementos de cualquier secuencia (como una lista, una tupla o una cadena de texto) en el orden en que aparecen en la secuencia.\n",
    "    - Sintaxis básica: `for elemento in secuencia:` seguido de un bloque de código indentado que define lo que se debe realizar en cada iteración.\n",
    "- **Uso de `range`**:\n",
    "    - La función `range` se utiliza para generar una secuencia de números. Es comúnmente usada en bucles for para repetir un bloque de código un número específico de veces.\n",
    "    - Ejemplo: `for i in range(5):` ejecutará el bloque de código cinco veces, con `i` tomando valores de 0 a 4.\n",
    "- **Uso de `enumerate`**:\n",
    "    - `enumerate` es útil para obtener tanto el índice como el valor de los elementos en una secuencia.\n",
    "    - Sintaxis: `for indice, valor in enumerate(secuencia):`.\n",
    "    - Proporciona una forma conveniente de acceder al índice de cada elemento dentro del bucle.\n",
    "\n",
    "### Ejemplos:"
   ]
  },
  {
   "cell_type": "code",
   "execution_count": null,
   "id": "13d5e5c1",
   "metadata": {},
   "outputs": [],
   "source": [
    "# Ejemplo de bucle for con range\n",
    "for i in range(5):\n",
    "    print(i)\n",
    "\n",
    "# Ejemplo de bucle for iterando sobre una lista\n",
    "frutas = [\"manzana\", \"banana\", \"cereza\"]\n",
    "for fruta in frutas:\n",
    "    print(fruta)\n",
    "\n",
    "# Ejemplo usando enumerate para obtener índice y valor\n",
    "for indice, fruta in enumerate(frutas):\n",
    "    print(f\"Índice: {indice}, Fruta: {fruta}\")"
   ]
  },
  {
   "attachments": {},
   "cell_type": "markdown",
   "id": "460ea003",
   "metadata": {},
   "source": [
    "### Ejercicios:\n",
    "\n",
    "1. **Contar hacia atrás**:\n",
    "    - Escribe un bucle for que cuente hacia atrás desde 10 hasta 1 y luego imprima \"Despegue!\".\n",
    "2. **Sumar números**:\n",
    "    - Utiliza un bucle for y la función `range` para sumar los primeros 10 números enteros (1 a 10).\n",
    "3. **Índices y Elementos**:\n",
    "    - Dada una lista de nombres, utiliza `enumerate` para imprimir cada nombre con su correspondiente índice.\n",
    "\n",
    "### Conclusión:\n",
    "\n",
    "En esta clase, hemos visto cómo los bucles for son una herramienta esencial para iterar sobre secuencias en Python. Hemos explorado el uso de `range` para iteraciones basadas en números y `enumerate` para acceder a los índices y valores al iterar. Estos conceptos son la base para muchas operaciones más complejas en Python. En la próxima clase, abordaremos el tema de las cadenas de texto y cómo manipularlas en Python.\n",
    "\n",
    "## Soluciones\n",
    "\n",
    "1. **Contar hacia atrás**:\n",
    "Este ejercicio implica usar un bucle for con `range` para contar hacia atrás. La función `range` puede tomar tres argumentos: inicio, fin, y paso. Usaremos el paso como -1 para contar hacia atrás."
   ]
  },
  {
   "cell_type": "code",
   "execution_count": null,
   "id": "19915d45",
   "metadata": {},
   "outputs": [],
   "source": [
    "for i in range(10, 0, -1):\n",
    "    print(i)\n",
    "print(\"Despegue!\")"
   ]
  },
  {
   "attachments": {},
   "cell_type": "markdown",
   "id": "2825143d",
   "metadata": {},
   "source": [
    "2. **Sumar números**:\n",
    "Aquí, utilizaremos un bucle for para sumar los números del 1 al 10. Inicializaremos una variable `suma` en 0 y la iremos incrementando con cada número del rango."
   ]
  },
  {
   "cell_type": "code",
   "execution_count": null,
   "id": "16ac120f",
   "metadata": {},
   "outputs": [],
   "source": [
    "suma = 0\n",
    "for numero in range(1, 11):\n",
    "    suma += numero\n",
    "print(f\"La suma de los primeros 10 números enteros es: {suma}\")"
   ]
  },
  {
   "attachments": {},
   "cell_type": "markdown",
   "id": "50f86433",
   "metadata": {},
   "source": [
    "3. **Índices y Elementos**:\n",
    "En este ejercicio, se utilizará `enumerate` para imprimir cada nombre de una lista junto con su índice. `enumerate` devuelve pares de índices y elementos que podemos usar en el bucle for."
   ]
  },
  {
   "cell_type": "code",
   "execution_count": null,
   "id": "7efc3635",
   "metadata": {},
   "outputs": [],
   "source": [
    "nombres = [\"Alice\", \"Bob\", \"Charlie\"]\n",
    "for indice, nombre in enumerate(nombres):\n",
    "    print(f\"Índice: {indice}, Nombre: {nombre}\")"
   ]
  },
  {
   "attachments": {},
   "cell_type": "markdown",
   "id": "1df08f52",
   "metadata": {},
   "source": [
    "Estos ejercicios ayudan a reforzar el entendimiento de cómo funcionan los bucles for en Python, así como el uso de funciones útiles como `range` y `enumerate`.\n",
    "\n",
    "## Introducción:\n",
    "\n",
    "Los bucles for son una herramienta fundamental en la programación en Python, permitiéndonos iterar sobre una secuencia de elementos de una manera eficiente y legible. En esta clase, nos centraremos en entender cómo utilizar los bucles for para manejar diferentes tipos de iteraciones, con especial atención en las funciones `range` y `enumerate`, que son esenciales para controlar y acceder a los índices durante la iteración.\n",
    "\n",
    "### Uso de Bucles For:\n",
    "\n",
    "- **Definición y Sintaxis Básica**:\n",
    "    - Un bucle for en Python itera sobre los elementos de cualquier secuencia (como una lista, una tupla o una cadena de texto) en el orden en que aparecen en la secuencia.\n",
    "    - Sintaxis básica: `for elemento in secuencia:` seguido de un bloque de código indentado que define lo que se debe realizar en cada iteración.\n",
    "- **Uso de `range`**:\n",
    "    - La función `range` se utiliza para generar una secuencia de números. Es comúnmente usada en bucles for para repetir un bloque de código un número específico de veces.\n",
    "    - Ejemplo: `for i in range(5):` ejecutará el bloque de código cinco veces, con `i` tomando valores de 0 a 4.\n",
    "- **Uso de `enumerate`**:\n",
    "    - `enumerate` es útil para obtener tanto el índice como el valor de los elementos en una secuencia.\n",
    "    - Sintaxis: `for indice, valor in enumerate(secuencia):`.\n",
    "    - Proporciona una forma conveniente de acceder al índice de cada elemento dentro del bucle.\n",
    "\n",
    "### Ejemplos:"
   ]
  },
  {
   "cell_type": "code",
   "execution_count": null,
   "id": "5b9bb8a6",
   "metadata": {},
   "outputs": [],
   "source": [
    "# Ejemplo de bucle for con range\n",
    "for i in range(5):\n",
    "    print(i)\n",
    "\n",
    "# Ejemplo de bucle for iterando sobre una lista\n",
    "frutas = [\"manzana\", \"banana\", \"cereza\"]\n",
    "for fruta in frutas:\n",
    "    print(fruta)\n",
    "\n",
    "# Ejemplo usando enumerate para obtener índice y valor\n",
    "for indice, fruta in enumerate(frutas):\n",
    "    print(f\"Índice: {indice}, Fruta: {fruta}\")"
   ]
  },
  {
   "attachments": {},
   "cell_type": "markdown",
   "id": "8848b7fb",
   "metadata": {},
   "source": [
    "### Ejercicios:\n",
    "\n",
    "1. **Contar hacia atrás**:\n",
    "    - Escribe un bucle for que cuente hacia atrás desde 10 hasta 1 y luego imprima \"Despegue!\".\n",
    "2. **Sumar números**:\n",
    "    - Utiliza un bucle for y la función `range` para sumar los primeros 10 números enteros (1 a 10).\n",
    "3. **Índices y Elementos**:\n",
    "    - Dada una lista de nombres, utiliza `enumerate` para imprimir cada nombre con su correspondiente índice.\n",
    "\n",
    "### Conclusión:\n",
    "\n",
    "En esta clase, hemos visto cómo los bucles for son una herramienta esencial para iterar sobre secuencias en Python. Hemos explorado el uso de `range` para iteraciones basadas en números y `enumerate` para acceder a los índices y valores al iterar. Estos conceptos son la base para muchas operaciones más complejas en Python. En la próxima clase, abordaremos el tema de las cadenas de texto y cómo manipularlas en Python.\n",
    "\n",
    "## Soluciones\n",
    "\n",
    "1. **Contar hacia atrás**:\n",
    "Este ejercicio implica usar un bucle for con `range` para contar hacia atrás. La función `range` puede tomar tres argumentos: inicio, fin, y paso. Usaremos el paso como -1 para contar hacia atrás."
   ]
  },
  {
   "cell_type": "code",
   "execution_count": null,
   "id": "3d0bb282",
   "metadata": {},
   "outputs": [],
   "source": [
    "for i in range(10, 0, -1):\n",
    "    print(i)\n",
    "print(\"Despegue!\")"
   ]
  },
  {
   "attachments": {},
   "cell_type": "markdown",
   "id": "1593e877",
   "metadata": {},
   "source": [
    "2. **Sumar números**:\n",
    "Aquí, utilizaremos un bucle for para sumar los números del 1 al 10. Inicializaremos una variable `suma` en 0 y la iremos incrementando con cada número del rango."
   ]
  },
  {
   "cell_type": "code",
   "execution_count": null,
   "id": "cf05e099",
   "metadata": {},
   "outputs": [],
   "source": [
    "suma = 0\n",
    "for numero in range(1, 11):\n",
    "    suma += numero\n",
    "print(f\"La suma de los primeros 10 números enteros es: {suma}\")"
   ]
  },
  {
   "attachments": {},
   "cell_type": "markdown",
   "id": "eb91dd14",
   "metadata": {},
   "source": [
    "3. **Índices y Elementos**:\n",
    "En este ejercicio, se utilizará `enumerate` para imprimir cada nombre de una lista junto con su índice. `enumerate` devuelve pares de índices y elementos que podemos usar en el bucle for."
   ]
  },
  {
   "cell_type": "code",
   "execution_count": null,
   "id": "b8cd5976",
   "metadata": {},
   "outputs": [],
   "source": [
    "nombres = [\"Alice\", \"Bob\", \"Charlie\"]\n",
    "for indice, nombre in enumerate(nombres):\n",
    "    print(f\"Índice: {indice}, Nombre: {nombre}\")"
   ]
  },
  {
   "attachments": {},
   "cell_type": "markdown",
   "id": "a970ed9b",
   "metadata": {},
   "source": [
    "Estos ejercicios ayudan a reforzar el entendimiento de cómo funcionan los bucles for en Python, así como el uso de funciones útiles como `range` y `enumerate`."
   ]
  }
 ],
 "metadata": {
  "language_info": {
   "name": "python"
  }
 },
 "nbformat": 4,
 "nbformat_minor": 5
}
