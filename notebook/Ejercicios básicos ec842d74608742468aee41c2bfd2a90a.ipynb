{
 "cells": [
  {
   "cell_type": "markdown",
   "id": "b19536dd",
   "metadata": {},
   "source": [
    "# Ejercicios básicos\n",
    "\n",
    "### Ejercicio 1: Ordenar una Lista Pequeña\n",
    "\n",
    "Dada la lista `[29, 10, 14, 37, 13]`, utiliza la función `bubble_sort` para ordenarla."
   ]
  },
  {
   "cell_type": "code",
   "execution_count": null,
   "id": "f55f5a1c",
   "metadata": {},
   "outputs": [],
   "source": [
    "# Ejercicio\n",
    "mi_lista = [29, 10, 14, 37, 13]\n",
    "bubble_sort(mi_lista)\n",
    "print(mi_lista)  # Debería mostrar la lista ordenada\n"
   ]
  },
  {
   "cell_type": "markdown",
   "id": "a3db3746",
   "metadata": {},
   "source": [
    "### Ejercicio 2: Verificar si una Lista Está Ordenada\n",
    "\n",
    "Usa la función `bubble_sort` para ordenar la lista `[5, 1, 4, 2, 8]` y luego verifica si la lista resultante está ordenada."
   ]
  },
  {
   "cell_type": "code",
   "execution_count": null,
   "id": "ce7da59f",
   "metadata": {},
   "outputs": [],
   "source": [
    "# Ejercicio\n",
    "mi_lista = [5, 1, 4, 2, 8]\n",
    "bubble_sort(mi_lista)\n",
    "esta_ordenada = mi_lista == sorted(mi_lista)\n",
    "print(esta_ordenada)  # Debería mostrar True\n"
   ]
  },
  {
   "cell_type": "markdown",
   "id": "7d15cf23",
   "metadata": {},
   "source": [
    "### Ejercicio 3: Contar el Número de Intercambios\n",
    "\n",
    "Modifica la función `bubble_sort` para que también devuelva el número total de intercambios realizados durante el ordenamiento. Luego, ordena la lista `[64, 34, 25, 12, 22, 11, 90]` y muestra el número de intercambios."
   ]
  },
  {
   "cell_type": "code",
   "execution_count": null,
   "id": "32ff4cc2",
   "metadata": {},
   "outputs": [],
   "source": [
    "# Ejercicio\n",
    "def bubble_sort_con_intercambios(lista):\n",
    "    n = len(lista)\n",
    "    total_intercambios = 0\n",
    "    for i in range(n):\n",
    "        for j in range(0, n-i-1):\n",
    "            if lista[j] > lista[j+1]:\n",
    "                lista[j], lista[j+1] = lista[j+1], lista[j]\n",
    "                total_intercambios += 1\n",
    "    return lista, total_intercambios\n",
    "\n",
    "mi_lista = [64, 34, 25, 12, 22, 11, 90]\n",
    "_, intercambios = bubble_sort_con_intercambios(mi_lista)\n",
    "print(\"Número total de intercambios:\", intercambios)\n"
   ]
  },
  {
   "cell_type": "markdown",
   "id": "b5fea744",
   "metadata": {},
   "source": [
    "### Ejercicio 4: Ordenar en Orden Descendente\n",
    "\n",
    "Adapta la función `bubble_sort` para ordenar una lista en orden descendente. Prueba tu función con la lista `[3, 6, 1, 8, 4, 5]`."
   ]
  },
  {
   "cell_type": "code",
   "execution_count": null,
   "id": "358c8baf",
   "metadata": {},
   "outputs": [],
   "source": [
    "# Ejercicio\n",
    "def bubble_sort_descendente(lista):\n",
    "    n = len(lista)\n",
    "    for i in range(n):\n",
    "        for j in range(0, n-i-1):\n",
    "            if lista[j] < lista[j+1]:\n",
    "                lista[j], lista[j+1] = lista[j+1], lista[j]\n",
    "    return lista\n",
    "\n",
    "mi_lista = [3, 6, 1, 8, 4, 5]\n",
    "bubble_sort_descendente(mi_lista)\n",
    "print(mi_lista)  # Debería mostrar la lista ordenada en orden descendente\n"
   ]
  },
  {
   "cell_type": "markdown",
   "id": "5208581c",
   "metadata": {},
   "source": [
    "### Ejercicio 5: Ordenar una Lista de Cadenas\n",
    "\n",
    "Utiliza la función `bubble_sort` para ordenar la lista de cadenas `[\"banana\", \"cherry\", \"apple\"]` alfabéticamente."
   ]
  },
  {
   "cell_type": "code",
   "execution_count": null,
   "id": "6768aa14",
   "metadata": {},
   "outputs": [],
   "source": [
    "# Ejercicio\n",
    "mi_lista = [\"banana\", \"cherry\", \"apple\"]\n",
    "bubble_sort(mi_lista)\n",
    "print(mi_lista)  # Debería mostrar la lista de cadenas ordenada alfabéticamente\n"
   ]
  },
  {
   "cell_type": "markdown",
   "id": "bef16cf9",
   "metadata": {},
   "source": [
    "Estos ejercicios te ayudarán a comprender y aplicar el algoritmo de Bubble Sort en diferentes contextos, desde ordenar listas de números hasta trabajar con cadenas y ordenamientos personalizados."
   ]
  }
 ],
 "metadata": {},
 "nbformat": 4,
 "nbformat_minor": 5
}
