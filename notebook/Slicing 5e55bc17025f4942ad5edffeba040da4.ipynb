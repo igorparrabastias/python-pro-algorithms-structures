{
 "cells": [
  {
   "cell_type": "markdown",
   "id": "68c8231c",
   "metadata": {},
   "source": [
    "# Slicing\n",
    "\n",
    "## Introducción\n",
    "\n",
    "El slicing es una técnica poderosa en Python que nos permite acceder a subsecuencias de datos dentro de estructuras como strings y listas. Esta técnica es fundamental para manipular y extraer porciones de datos de manera eficiente. Hoy nos enfocaremos en comprender la sintaxis del slicing y cómo aplicarla en situaciones prácticas.\n",
    "\n",
    "### Uso de Slicing para Acceder a Subsecuencias\n",
    "\n",
    "El slicing se realiza utilizando corchetes `[]` junto con índices para indicar el inicio y el fin de la subsecuencia que queremos obtener.\n",
    "\n",
    "### Sintaxis\n",
    "\n",
    "La sintaxis general del slicing es: `[inicio:fin:pasos]`\n",
    "\n",
    "- **Inicio**: Índice donde comienza el slice (inclusive).\n",
    "- **Fin**: Índice donde termina el slice (exclusive).\n",
    "- **Pasos**: Intervalos para seleccionar elementos dentro del rango.\n",
    "\n",
    "### Ejemplos de Slicing\n",
    "\n",
    "- **Cadenas de caracteres**:"
   ]
  },
  {
   "cell_type": "code",
   "execution_count": null,
   "id": "3a385d8b",
   "metadata": {},
   "outputs": [],
   "source": [
    "```python\n",
    "texto = \"Hola Mundo\"\n",
    "print(texto[1:5])  # 'ola '\n",
    "```\n",
    "\n",
    "Aquí, se obtiene la subcadena desde el índice 1 al 4."
   ]
  },
  {
   "cell_type": "markdown",
   "id": "d8eaf12a",
   "metadata": {},
   "source": [
    "- **Listas**:"
   ]
  },
  {
   "cell_type": "code",
   "execution_count": null,
   "id": "e9d00c25",
   "metadata": {},
   "outputs": [],
   "source": [
    "```python\n",
    "numeros = [0, 1, 2, 3, 4, 5, 6, 7, 8, 9]\n",
    "print(numeros[2:6])  # [2, 3, 4, 5]\n",
    "```\n",
    "\n",
    "Esto extrae una sublista que contiene los elementos desde el índice 2 hasta el 5."
   ]
  },
  {
   "cell_type": "markdown",
   "id": "4387f937",
   "metadata": {},
   "source": [
    "- **Omitiendo el inicio y/o fin**:\n",
    "Si omites el `inicio`, el slice comienza desde el principio de la secuencia. Si omites el `fin`, el slice va hasta el final de la secuencia."
   ]
  },
  {
   "cell_type": "code",
   "execution_count": null,
   "id": "26e5ded4",
   "metadata": {},
   "outputs": [],
   "source": [
    "```python\n",
    "print(texto[:5])  # 'Hola '\n",
    "print(texto[5:])  # 'Mundo'\n",
    "```"
   ]
  },
  {
   "cell_type": "markdown",
   "id": "8e9f0c39",
   "metadata": {},
   "source": [
    "- **Slicing con pasos**:\n",
    "Puedes especificar un tercer parámetro para determinar el \"paso\" del slicing, es decir, cuántos elementos saltar."
   ]
  },
  {
   "cell_type": "code",
   "execution_count": null,
   "id": "ad47334c",
   "metadata": {},
   "outputs": [],
   "source": [
    "```python\n",
    "print(numeros[::2])  # [0, 2, 4, 6, 8]\n",
    "```\n",
    "\n",
    "Este ejemplo selecciona elementos de la lista `numeros` desde el principio hasta el fin, con un paso de 2, obteniendo así los números pares."
   ]
  },
  {
   "cell_type": "markdown",
   "id": "0a05add3",
   "metadata": {},
   "source": [
    "- **Slicing negativo**:\n",
    "También puedes usar índices negativos para hacer slicing desde el final de la secuencia hacia atrás."
   ]
  },
  {
   "cell_type": "code",
   "execution_count": null,
   "id": "bc54143f",
   "metadata": {},
   "outputs": [],
   "source": [
    "```python\n",
    "print(texto[-5:])  # 'Mundo'\n",
    "```\n"
   ]
  },
  {
   "cell_type": "markdown",
   "id": "c502da2c",
   "metadata": {},
   "source": [
    "### Ejemplos Prácticos en Strings\n",
    "\n",
    "- Para obtener los primeros tres caracteres de un string: `mi_string[:3]`.\n",
    "- Para obtener los caracteres de un string desde el tercer caracter hasta el final: `mi_string[3:]`.\n",
    "- Para obtener caracteres en posiciones pares: `mi_string[::2]`.\n",
    "\n",
    "### Ejemplos Prácticos en Listas\n",
    "\n",
    "- Para invertir el orden de una lista: `mi_lista[::-1]`.\n",
    "- Para obtener una sublista desde el segundo hasta el cuarto elemento: `mi_lista[1:4]`.\n",
    "\n",
    "### Ejercicios\n",
    "\n",
    "1. Dado un string, utiliza slicing para obtener solo los caracteres en posiciones impares.\n",
    "2. Crea una lista y utiliza slicing para obtener una sublista con los últimos tres elementos.\n",
    "3. Usa slicing para crear una copia de una lista y modifica esta copia sin alterar la lista original.\n",
    "\n",
    "### Conclusión\n",
    "\n",
    "El slicing es una herramienta esencial en Python para el manejo eficiente de strings y listas. Nos permite extraer y manipular subsecuencias de datos de forma rápida y sencilla. En la próxima clase, exploraremos más a fondo la reasignación de variables y cómo impacta en la manipulación de datos.\n",
    "\n",
    "### Soluciones\n",
    "\n",
    "### Ejercicio 1"
   ]
  },
  {
   "cell_type": "code",
   "execution_count": null,
   "id": "55ddd9c0",
   "metadata": {},
   "outputs": [],
   "source": [
    "mi_string = \"Python Pro\"\n",
    "print(mi_string[1::2])  # Accede a caracteres en posiciones impares"
   ]
  },
  {
   "cell_type": "markdown",
   "id": "b016886d",
   "metadata": {},
   "source": [
    "### Ejercicio 2"
   ]
  },
  {
   "cell_type": "code",
   "execution_count": null,
   "id": "fce959cc",
   "metadata": {},
   "outputs": [],
   "source": [
    "mi_lista = [1, 2, 3, 4, 5, 6]\n",
    "print(mi_lista[-3:])  # Obtiene los últimos tres elementos"
   ]
  },
  {
   "cell_type": "markdown",
   "id": "76ad44d3",
   "metadata": {},
   "source": [
    "### Ejercicio 3\n",
    "\n",
    "```python\n",
    "original = [1, 2, 3, 4, 5]\n",
    "copia = original[:]\n",
    "copia.append(6)  # Modifica la copia\n",
    "print(\"Original:\", original)\n",
    "print(\"Copia:\", copia)\n",
    "```"
   ]
  }
 ],
 "metadata": {},
 "nbformat": 4,
 "nbformat_minor": 5
}
