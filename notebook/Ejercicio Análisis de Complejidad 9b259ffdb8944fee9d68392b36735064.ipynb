{
 "cells": [
  {
   "cell_type": "markdown",
   "id": "4e4fc11d",
   "metadata": {},
   "source": [
    "# Ejercicio: Análisis de Complejidad\n",
    "\n",
    "Usaremos un ejemplo común para este ejercicio: una función de ordenamiento de burbuja en Python, la cual es conocida por su simplicidad pero también por su ineficiencia en conjuntos de datos grandes.\n",
    "\n",
    "### Fragmento de Código Original: Ordenamiento de Burbuja"
   ]
  },
  {
   "cell_type": "code",
   "execution_count": null,
   "id": "ed36f7c7",
   "metadata": {},
   "outputs": [],
   "source": [
    "def bubbleSort(arr):\n",
    "    n = len(arr)\n",
    "    for i in range(n):\n",
    "        for j in range(0, n-i-1):\n",
    "            if arr[j] > arr[j+1]:\n",
    "                arr[j], arr[j+1] = arr[j+1], arr[j]\n"
   ]
  },
  {
   "cell_type": "markdown",
   "id": "5adc9258",
   "metadata": {},
   "source": [
    "### Análisis de Complejidad\n",
    "\n",
    "- **Complejidad de Tiempo**: La complejidad de tiempo de este algoritmo es \\(O(n^2)\\) en el caso promedio y peor caso, donde \\(n\\) es el número de elementos en el arreglo. Esto se debe a que hay dos bucles anidados que recorren el arreglo, y en el peor de los casos, cada elemento se compara con cada otro elemento.\n",
    "- **Complejidad de Espacio**: La complejidad del espacio es \\(O(1)\\), ya que solo se utiliza un espacio adicional para realizar el intercambio de elementos en el arreglo. Esto significa que es un algoritmo de ordenamiento \"in-place\", sin necesidad de estructuras adicionales significativas para su ejecución.\n",
    "\n",
    "### Propuestas de Mejora\n",
    "\n",
    "Para optimizar la eficiencia de este fragmento de código, podemos considerar alternativas de algoritmos de ordenamiento que tienen mejor complejidad de tiempo en ciertos casos.\n",
    "\n",
    "1. **Ordenamiento por Fusión (Merge Sort)**: Este algoritmo tiene una complejidad de tiempo de \\(O(n \\log n)\\) en todos los casos, lo cual es significativamente mejor que \\(O(n^2)\\) para grandes volúmenes de datos. Aunque su complejidad de espacio es \\(O(n)\\), debido al almacenamiento temporal necesario para la fusión, la mejora en el tiempo de ejecución puede justificar el uso de memoria adicional."
   ]
  },
  {
   "cell_type": "code",
   "execution_count": null,
   "id": "700a749b",
   "metadata": {},
   "outputs": [],
   "source": [
    "def mergeSort(arr):\n",
    "    if len(arr) > 1:\n",
    "        mid = len(arr)//2\n",
    "        L = arr[:mid]\n",
    "        R = arr[mid:]\n",
    "\n",
    "        mergeSort(L)\n",
    "        mergeSort(R)\n",
    "\n",
    "        i = j = k = 0\n",
    "\n",
    "        while i < len(L) and j < len(R):\n",
    "            if L[i] < R[j]:\n",
    "                arr[k] = L[i]\n",
    "                i += 1\n",
    "            else:\n",
    "                arr[k] = R[j]\n",
    "                j += 1\n",
    "            k += 1\n",
    "\n",
    "        while i < len(L):\n",
    "            arr[k] = L[i]\n",
    "            i += 1\n",
    "            k += 1\n",
    "\n",
    "        while j < len(R):\n",
    "            arr[k] = R[j]\n",
    "            j += 1\n",
    "            k += 1\n"
   ]
  },
  {
   "cell_type": "markdown",
   "id": "ad4329c6",
   "metadata": {},
   "source": [
    "1. **Optimización del Ordenamiento de Burbuja**: Aunque cambiar el algoritmo por completo es una buena estrategia, también podemos optimizar el ordenamiento de burbuja introduciendo una bandera para detectar si el arreglo ya está ordenado. Esto puede reducir la complejidad de tiempo en el mejor caso a \\(O(n)\\), aunque el caso promedio y peor caso permanecen en \\(O(n^2)\\)."
   ]
  },
  {
   "cell_type": "code",
   "execution_count": null,
   "id": "0bbc935c",
   "metadata": {},
   "outputs": [],
   "source": [
    "def bubbleSortOptimized(arr):\n",
    "    n = len(arr)\n",
    "    for i in range(n):\n",
    "        swapped = False\n",
    "        for j in range(0, n-i-1):\n",
    "            if arr[j] > arr[j+1]:\n",
    "                arr[j], arr[j+1] = arr[j+1], arr[j]\n",
    "                swapped = True\n",
    "        if not swapped:\n",
    "            break\n"
   ]
  },
  {
   "cell_type": "markdown",
   "id": "8a792409",
   "metadata": {},
   "source": [
    "### Conclusión\n",
    "\n",
    "El análisis de complejidad y la propuesta de mejoras permiten optimizar el rendimiento de los algoritmos. Elegir el algoritmo adecuado o implementar pequeñas optimizaciones puede tener un impacto significativo en la eficiencia del código, especialmente con grandes conjuntos de datos."
   ]
  }
 ],
 "metadata": {},
 "nbformat": 4,
 "nbformat_minor": 5
}
