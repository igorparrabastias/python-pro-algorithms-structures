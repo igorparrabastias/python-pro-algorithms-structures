{
 "cells": [
  {
   "cell_type": "markdown",
   "id": "4619cd26",
   "metadata": {},
   "source": [
    "# Dirección de las Aristas\n",
    "\n",
    "La dirección de las aristas en un grafo es un aspecto fundamental que determina el tipo de grafo con el que estamos trabajando: dirigido o no dirigido.\n",
    "\n",
    "### Grafos Dirigidos\n",
    "\n",
    "En un **grafo dirigido**, las aristas tienen una dirección definida, indicada generalmente por una flecha. Esto significa que la relación entre dos nodos no es simétrica. Por ejemplo, si en un grafo dirigido hay una arista del nodo A al nodo B, no implica necesariamente que haya una arista del nodo B al nodo A. Este tipo de grafos se utiliza para representar relaciones unidireccionales, como rutas en un sistema de navegación, donde la dirección es importante.\n",
    "\n",
    "Ejemplo de representación en Python:"
   ]
  },
  {
   "cell_type": "code",
   "execution_count": null,
   "id": "0f0e1adb",
   "metadata": {},
   "outputs": [],
   "source": [
    "class GrafoDirigido:\n",
    "    def __init__(self):\n",
    "        self.grafo = {}\n",
    "\n",
    "    def agregar_arista(self, origen, destino):\n",
    "        if origen not in self.grafo:\n",
    "            self.grafo[origen] = []\n",
    "        self.grafo[origen].append(destino)\n",
    "\n",
    "    def mostrar_grafo(self):\n",
    "        for origen in self.grafo:\n",
    "            for destino in self.grafo[origen]:\n",
    "                print(f\"De {origen} a {destino}\")\n",
    "\n",
    "# Ejemplo de uso\n",
    "gd = GrafoDirigido()\n",
    "gd.agregar_arista('A', 'B')\n",
    "gd.agregar_arista('B', 'C')\n",
    "gd.agregar_arista('A', 'C')\n",
    "\n",
    "gd.mostrar_grafo()\n"
   ]
  },
  {
   "cell_type": "markdown",
   "id": "37e8d985",
   "metadata": {},
   "source": [
    "### Grafos No Dirigidos\n",
    "\n",
    "En un **grafo no dirigido**, las aristas no tienen una dirección específica. Esto significa que la relación entre dos nodos es bidireccional o simétrica. Si existe una arista entre el nodo A y el nodo B, implica que puedes ir de A a B y de B a A indistintamente. Los grafos no dirigidos son útiles para representar relaciones simétricas, como amistades en una red social.\n",
    "\n",
    "Ejemplo de representación en Python:"
   ]
  },
  {
   "cell_type": "code",
   "execution_count": null,
   "id": "50e74ebb",
   "metadata": {},
   "outputs": [],
   "source": [
    "class GrafoNoDirigido:\n",
    "    def __init__(self):\n",
    "        self.grafo = {}\n",
    "\n",
    "    def agregar_arista(self, nodo1, nodo2):\n",
    "        if nodo1 not in self.grafo:\n",
    "            self.grafo[nodo1] = []\n",
    "        if nodo2 not in self.grafo:\n",
    "            self.grafo[nodo2] = []\n",
    "\n",
    "        self.grafo[nodo1].append(nodo2)\n",
    "        self.grafo[nodo2].append(nodo1)\n",
    "\n",
    "    def mostrar_grafo(self):\n",
    "        for nodo in self.grafo:\n",
    "            for vecino in self.grafo[nodo]:\n",
    "                print(f\"{nodo} -- {vecino}\")\n",
    "\n",
    "# Ejemplo de uso\n",
    "gnd = GrafoNoDirigido()\n",
    "gnd.agregar_arista('A', 'B')\n",
    "gnd.agregar_arista('B', 'C')\n",
    "gnd.agregar_arista('A', 'C')\n",
    "\n",
    "gnd.mostrar_grafo()\n"
   ]
  },
  {
   "cell_type": "markdown",
   "id": "d4209d7b",
   "metadata": {},
   "source": [
    "En este código, la clase `GrafoNoDirigido` permite agregar aristas entre nodos, y estas aristas no tienen una dirección específica, representando así un grafo no dirigido."
   ]
  }
 ],
 "metadata": {},
 "nbformat": 4,
 "nbformat_minor": 5
}
