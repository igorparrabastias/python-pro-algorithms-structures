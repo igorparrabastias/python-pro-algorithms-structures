{
 "cells": [
  {
   "cell_type": "markdown",
   "id": "4ea435ad",
   "metadata": {},
   "source": [
    "# Ejercicios básicos\n",
    "\n",
    "### Ejercicio 1: Ordenar una Lista Numérica\n",
    "\n",
    "Utiliza la función `merge_sort` para ordenar la lista `[34, 7, 23, 32, 5, 62]`."
   ]
  },
  {
   "cell_type": "code",
   "execution_count": null,
   "id": "80738f6f",
   "metadata": {},
   "outputs": [],
   "source": [
    "# Ejercicio\n",
    "mi_lista = [34, 7, 23, 32, 5, 62]\n",
    "ordenada = merge_sort(mi_lista)\n",
    "print(\"Lista ordenada:\", ordenada)\n"
   ]
  },
  {
   "cell_type": "markdown",
   "id": "e1327d5d",
   "metadata": {},
   "source": [
    "### Ejercicio 2: Ordenar una Lista de Cadenas\n",
    "\n",
    "Aplica `merge_sort` para ordenar alfabéticamente la lista de cadenas `[\"manzana\", \"pera\", \"banana\", \"cereza\"]`."
   ]
  },
  {
   "cell_type": "code",
   "execution_count": null,
   "id": "4e51cdff",
   "metadata": {},
   "outputs": [],
   "source": [
    "# Adaptación de merge_sort para cadenas (Asegúrate de ajustar la comparación en el algoritmo para cadenas)\n",
    "mi_lista_cadenas = [\"manzana\", \"pera\", \"banana\", \"cereza\"]\n",
    "ordenada_cadenas = merge_sort(mi_lista_cadenas)\n",
    "print(\"Lista de cadenas ordenada:\", ordenada_cadenas)\n"
   ]
  },
  {
   "cell_type": "markdown",
   "id": "ab96d946",
   "metadata": {},
   "source": [
    "### Ejercicio 3: Ordenar en Orden Descendente\n",
    "\n",
    "Modifica `merge_sort` para ordenar la lista `[92, 17, 53, 7, 30, 19]` en orden descendente."
   ]
  },
  {
   "cell_type": "code",
   "execution_count": null,
   "id": "1aa3312d",
   "metadata": {},
   "outputs": [],
   "source": [
    "# Consejo: Invierte la condición de comparación en el algoritmo de merge_sort para ordenar en orden descendente\n",
    "mi_lista_desc = [92, 17, 53, 7, 30, 19]\n",
    "ordenada_desc = merge_sort_desc(mi_lista_desc)  # Asegúrate de definir merge_sort_desc correctamente\n",
    "print(\"Lista ordenada en descendente:\", ordenada_desc)\n"
   ]
  },
  {
   "cell_type": "markdown",
   "id": "65f05d82",
   "metadata": {},
   "source": [
    "### Ejercicio 4: Comprobar si la Lista Está Ordenada\n",
    "\n",
    "Usa `merge_sort` para ordenar `[5, 1, 4, 2, 8]` y luego verifica si la lista resultante está ordenada (sin utilizar `sorted` o métodos similares)."
   ]
  },
  {
   "cell_type": "code",
   "execution_count": null,
   "id": "ac8255b6",
   "metadata": {},
   "outputs": [],
   "source": [
    "# Ejercicio\n",
    "mi_lista = [5, 1, 4, 2, 8]\n",
    "ordenada = merge_sort(mi_lista)\n",
    "esta_ordenada = all(ordenada[i] <= ordenada[i+1] for i in range(len(ordenada)-1))\n",
    "print(\"¿La lista está ordenada?\", esta_ordenada)\n"
   ]
  },
  {
   "cell_type": "markdown",
   "id": "1b6cea4f",
   "metadata": {},
   "source": [
    "### Ejercicio 5: Encontrar el Elemento Máximo Usando Merge Sort\n",
    "\n",
    "Utiliza `merge_sort` para encontrar el elemento máximo en la lista `[45, 21, 78, 89, 34, 51, 30]`."
   ]
  },
  {
   "cell_type": "code",
   "execution_count": null,
   "id": "97ba36b4",
   "metadata": {},
   "outputs": [],
   "source": [
    "# Ejercicio\n",
    "mi_lista = [45, 21, 78, 89, 34, 51, 30]\n",
    "ordenada = merge_sort(mi_lista)\n",
    "elemento_maximo = ordenada[-1]\n",
    "print(\"El elemento máximo es:\", elemento_maximo)\n"
   ]
  },
  {
   "cell_type": "markdown",
   "id": "c4df1307",
   "metadata": {},
   "source": [
    "Estos ejercicios básicos te permitirán practicar y entender mejor la implementación y las aplicaciones del algoritmo Merge Sort en Python, desde ordenar listas sencillas hasta realizar adaptaciones específicas del algoritmo para diferentes casos de uso."
   ]
  }
 ],
 "metadata": {},
 "nbformat": 4,
 "nbformat_minor": 5
}
