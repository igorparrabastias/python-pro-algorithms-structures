{
  "cells": [
    {
      "cell_type": "markdown",
      "id": "4b60c253",
      "metadata": {},
      "source": [
        "# Caso de uso: Sistema de cola de atenci\u00f3n\n",
        "\n",
        "Otro caso de uso para heaps es la implementaci\u00f3n de un sistema de cola de atenci\u00f3n al cliente, donde los clientes con solicitudes m\u00e1s urgentes tienen prioridad sobre los que tienen solicitudes menos urgentes. Aqu\u00ed se puede usar un Min-Heap para gestionar las solicitudes de manera eficiente, atendiendo primero a las m\u00e1s urgentes.\n",
        "\n",
        "Usaremos nuevamente el m\u00f3dulo `heapq` de Python:"
      ]
    },
    {
      "cell_type": "code",
      "execution_count": null,
      "id": "98f0bf2b",
      "metadata": {},
      "outputs": [],
      "source": [
        "import heapq\n",
        "\n",
        "# Cola de atenci\u00f3n al cliente representada como un Min-Heap\n",
        "cola_cliente = []\n",
        "\n",
        "# A\u00f1adir solicitudes a la cola (prioridad, cliente)\n",
        "heapq.heappush(cola_cliente, (1, 'Cliente A - Urgente'))\n",
        "heapq.heappush(cola_cliente, (3, 'Cliente B - Normal'))\n",
        "heapq.heappush(cola_cliente, (2, 'Cliente C - Alta'))\n",
        "\n",
        "# Procesar solicitudes en orden de prioridad\n",
        "while cola_cliente:\n",
        "    prioridad, solicitud = heapq.heappop(cola_cliente)\n",
        "    print(f\"Atendiendo a: {solicitud} con prioridad {prioridad}\")"
      ]
    },
    {
      "cell_type": "markdown",
      "id": "26dd8a7e",
      "metadata": {},
      "source": [
        "Este c\u00f3digo gestiona las solicitudes de atenci\u00f3n al cliente seg\u00fan su urgencia, asegurando que las solicitudes m\u00e1s cr\u00edticas se atiendan primero."
      ]
    }
  ],
  "metadata": {},
  "nbformat": 4,
  "nbformat_minor": 5
}