{
  "cells": [
    {
      "cell_type": "markdown",
      "id": "23e325bb",
      "metadata": {},
      "source": [
        "# Caso de uso: Manejo de tareas\n",
        "\n",
        "Un caso de uso com\u00fan para heaps es implementar un sistema de manejo de tareas donde las tareas tienen diferentes prioridades. Aqu\u00ed, se puede utilizar un Min-Heap para asegurarse de que siempre se procese la tarea con la prioridad m\u00e1s alta (representada por el n\u00famero m\u00e1s bajo).\n",
        "\n",
        "Vamos a usar el m\u00f3dulo `heapq` de Python para implementar esto:"
      ]
    },
    {
      "cell_type": "code",
      "execution_count": null,
      "id": "bc7fd034",
      "metadata": {},
      "outputs": [],
      "source": [
        "import heapq\n",
        "\n",
        "# Inicializar una lista que actuar\u00e1 como un Min-Heap\n",
        "heap = []\n",
        "\n",
        "# A\u00f1adir tareas al heap. Cada tarea es una tupla (prioridad, descripci\u00f3n)\n",
        "heapq.heappush(heap, (2, 'Escribir reporte'))\n",
        "heapq.heappush(heap, (1, 'Preparar reuni\u00f3n'))\n",
        "heapq.heappush(heap, (3, 'Hacer llamada'))\n",
        "\n",
        "# Procesar tareas en orden de prioridad\n",
        "while heap:\n",
        "    prioridad, tarea = heapq.heappop(heap)\n",
        "    print(f\"Procesando tarea: {tarea} con prioridad {prioridad}\")"
      ]
    },
    {
      "cell_type": "markdown",
      "id": "21dfee99",
      "metadata": {},
      "source": [
        "Este c\u00f3digo gestiona un conjunto de tareas con diferentes prioridades. Las tareas se procesan seg\u00fan su prioridad, asegurando que las tareas m\u00e1s importantes se manejen primero."
      ]
    }
  ],
  "metadata": {},
  "nbformat": 4,
  "nbformat_minor": 5
}