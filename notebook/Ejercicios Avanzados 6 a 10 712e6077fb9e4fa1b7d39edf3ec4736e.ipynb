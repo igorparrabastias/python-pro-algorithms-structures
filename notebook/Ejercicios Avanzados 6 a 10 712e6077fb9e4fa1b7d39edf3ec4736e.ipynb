{
 "cells": [
  {
   "cell_type": "markdown",
   "id": "32aba7fd",
   "metadata": {},
   "source": [
    "# Ejercicios Avanzados 6 a 10\n",
    "\n",
    "### Ejercicio 6: Ordenar una Lista de Diccionarios\n",
    "\n",
    "Ordena una lista de diccionarios por un valor específico de clave en cada diccionario, utilizando Merge Sort."
   ]
  },
  {
   "cell_type": "code",
   "execution_count": null,
   "id": "8fecd8be",
   "metadata": {},
   "outputs": [],
   "source": [
    "def merge_sort_dict(lista, clave):\n",
    "    if len(lista) > 1:\n",
    "        mid = len(lista) // 2\n",
    "        izquierda = merge_sort_dict(lista[:mid], clave)\n",
    "        derecha = merge_sort_dict(lista[mid:], clave)\n",
    "\n",
    "        i = j = 0\n",
    "        mezcla = []\n",
    "        while i < len(izquierda) and j < len(derecha):\n",
    "            if izquierda[i][clave] < derecha[j][clave]:\n",
    "                mezcla.append(izquierda[i])\n",
    "                i += 1\n",
    "            else:\n",
    "                mezcla.append(derecha[j])\n",
    "                j += 1\n",
    "        mezcla += izquierda[i:] + derecha[j:]\n",
    "        return mezcla\n",
    "    return lista\n",
    "\n",
    "# Ejemplo de uso\n",
    "libros = [\n",
    "    {\"titulo\": \"Python para todos\", \"año\": 2015},\n",
    "    {\"titulo\": \"Aprendiendo JavaScript\", \"año\": 2018},\n",
    "    {\"titulo\": \"Data Science con Python\", \"año\": 2020}\n",
    "]\n",
    "libros_ordenados = merge_sort_dict(libros, \"año\")\n",
    "print(\"Libros ordenados por año:\", libros_ordenados)\n"
   ]
  },
  {
   "cell_type": "markdown",
   "id": "76e4ee00",
   "metadata": {},
   "source": [
    "### Ejercicio 7: Merge Sort con Conteo de Comparaciones\n",
    "\n",
    "Modifica Merge Sort para que, además de ordenar la lista, devuelva el número total de comparaciones realizadas."
   ]
  },
  {
   "cell_type": "code",
   "execution_count": null,
   "id": "0e504c85",
   "metadata": {},
   "outputs": [],
   "source": [
    "def merge_sort_con_comparaciones(lista):\n",
    "    if len(lista) > 1:\n",
    "        mid = len(lista) // 2\n",
    "        izquierda, comp_izq = merge_sort_con_comparaciones(lista[:mid])\n",
    "        derecha, comp_der = merge_sort_con_comparaciones(lista[mid:])\n",
    "\n",
    "        i = j = comparaciones = 0\n",
    "        mezcla = []\n",
    "        while i < len(izquierda) and j < len(derecha):\n",
    "            comparaciones += 1\n",
    "            if izquierda[i] < derecha[j]:\n",
    "                mezcla.append(izquierda[i])\n",
    "                i += 1\n",
    "            else:\n",
    "                mezcla.append(derecha[j])\n",
    "                j += 1\n",
    "        mezcla += izquierda[i:] + derecha[j:]\n",
    "        return mezcla, comparaciones + comp_izq + comp_der\n",
    "    return lista, 0\n",
    "\n",
    "# Ejemplo de uso\n",
    "mi_lista = [38, 27, 43, 3, 9, 82, 10]\n",
    "ordenada, comparaciones = merge_sort_con_comparaciones(mi_lista)\n",
    "print(\"Lista ordenada:\", ordenada, \"con\", comparaciones, \"comparaciones\")\n"
   ]
  },
  {
   "cell_type": "markdown",
   "id": "641306fe",
   "metadata": {},
   "source": [
    "### Ejercicio 8: Merge Sort para Listas de Listas\n",
    "\n",
    "Implementa Merge Sort para ordenar una lista de listas basándose en el primer elemento de cada sublista."
   ]
  },
  {
   "cell_type": "code",
   "execution_count": null,
   "id": "335d1814",
   "metadata": {},
   "outputs": [],
   "source": [
    "def merge_sort_listas(lista):\n",
    "    def merge(izquierda, derecha):\n",
    "        resultado = []\n",
    "        while izquierda and derecha:\n",
    "            if izquierda[0][0] < derecha[0][0]:\n",
    "                resultado.append(izquierda.pop(0))\n",
    "            else:\n",
    "                resultado.append(derecha.pop(0))\n",
    "        resultado.extend(izquierda or derecha)\n",
    "        return resultado\n",
    "\n",
    "    if len(lista) > 1:\n",
    "        mid = len(lista) // 2\n",
    "        izquierda = merge_sort_listas(lista[:mid])\n",
    "        derecha = merge_sort_listas(lista[mid:])\n",
    "        return merge(izquierda, derecha)\n",
    "    return lista\n",
    "\n",
    "# Ejemplo de uso\n",
    "datos = [[5, \"pera\"], [2, \"manzana\"], [4, \"banana\"]]\n",
    "ordenados = merge_sort_listas(datos)\n",
    "print(\"Datos ordenados por el primer elemento:\", ordenados)\n"
   ]
  },
  {
   "cell_type": "markdown",
   "id": "36a20aff",
   "metadata": {},
   "source": [
    "### Ejercicio 9: Merge Sort Adaptativo\n",
    "\n",
    "Adapta Merge Sort para que utilice un algoritmo de ordenamiento diferente (como Insertion Sort) para sublistas pequeñas, mejorando el rendimiento general."
   ]
  },
  {
   "cell_type": "code",
   "execution_count": null,
   "id": "dcac0bb7",
   "metadata": {},
   "outputs": [],
   "source": [
    "def insertion_sort(lista):\n",
    "    for i in range(1, len(lista)):\n",
    "        clave = lista[i]\n",
    "        j = i-1\n",
    "        while j >= 0 and clave < lista[j]:\n",
    "            lista[j + 1] = lista[j]\n",
    "            j -= 1\n",
    "        lista[j + 1] = clave\n",
    "    return lista\n",
    "\n",
    "def merge_sort_adaptativo(lista, umbral):\n",
    "    if len(lista) <= umbral:\n",
    "        return insertion_sort(lista)\n",
    "    mid = len(lista) // 2\n",
    "    izquierda = merge_sort_adaptativo(lista[:mid], umbral)\n",
    "    derecha = merge_sort_adaptativo(lista[mid:], umbral)\n",
    "\n",
    "    return merge(izquierda, derecha)  # Asume que la función merge ya está definida\n",
    "\n",
    "# Ejemplo de uso\n",
    "mi_lista = [38, 27, 43, 3, 9, 82, 10]\n",
    "ordenada = merge_sort_adaptativo(mi_lista, 5)\n",
    "print(\"Lista ordenada de manera adaptativa:\", ordenada)\n"
   ]
  },
  {
   "cell_type": "markdown",
   "id": "1263d3b2",
   "metadata": {},
   "source": [
    "### Ejercicio 10: Visualizar el Proceso de Merge Sort\n",
    "\n",
    "Escribe un programa que visualice cada paso en el proceso de Merge Sort, mostrando cómo se dividen y combinan las sublistas."
   ]
  },
  {
   "cell_type": "code",
   "execution_count": null,
   "id": "adecb067",
   "metadata": {},
   "outputs": [],
   "source": [
    "def merge_sort_visual(lista):\n",
    "    def merge(izquierda, derecha):\n",
    "        resultado, i, j = [], 0, 0\n",
    "        while i < len(izquierda) and j < len(derecha):\n",
    "            if izquierda[i] < derecha[j]:\n",
    "                resultado.append(izquierda[i])\n",
    "                i += 1\n",
    "            else:\n",
    "                resultado.append(derecha[j])\n",
    "                j += 1\n",
    "        resultado.extend(izquierda[i:])\n",
    "        resultado.extend(derecha[j:])\n",
    "        print(\"Mezclando:\", resultado)\n",
    "        return resultado\n",
    "\n",
    "    if len(lista) > 1:\n",
    "        mid = len(lista) // 2\n",
    "        izquierda = merge_sort_visual(lista[:mid])\n",
    "        derecha = merge_sort_visual(lista[mid:])\n",
    "        return merge(izquierda, derecha)\n",
    "    return lista\n",
    "\n",
    "# Ejemplo de uso\n",
    "mi_lista = [64, 34, 25, 12, 22, 11, 90]\n",
    "merge_sort_visual(mi_lista)\n"
   ]
  },
  {
   "cell_type": "markdown",
   "id": "df4e3f5e",
   "metadata": {},
   "source": [
    "Estos ejercicios avanzados están diseñados para explorar y expandir tu comprensión del algoritmo Merge Sort, desafiándote a implementar variaciones y mejoras específicas, y a aplicar el algoritmo a diferentes tipos de datos y situaciones."
   ]
  }
 ],
 "metadata": {},
 "nbformat": 4,
 "nbformat_minor": 5
}
