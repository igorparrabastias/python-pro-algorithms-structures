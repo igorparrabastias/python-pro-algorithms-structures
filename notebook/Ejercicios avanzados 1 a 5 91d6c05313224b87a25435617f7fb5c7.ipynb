{
 "cells": [
  {
   "cell_type": "markdown",
   "id": "ead6daf8",
   "metadata": {},
   "source": [
    "# Ejercicios avanzados 1 a 5\n",
    "\n",
    "### Ejercicio 1: Tuplas Anidadas con List Comprehensions\n",
    "\n",
    "Dada una lista de números, crea una tupla de tuplas, donde cada tupla interna contiene el número y su cuadrado."
   ]
  },
  {
   "cell_type": "code",
   "execution_count": null,
   "id": "ebfb2870",
   "metadata": {},
   "outputs": [],
   "source": [
    "# Ejercicio\n",
    "numeros = [1, 2, 3, 4, 5]\n",
    "tupla_cuadrados = tuple((x, x**2) for x in numeros)\n",
    "\n",
    "# Solución\n",
    "# tupla_cuadrados = ((1, 1), (2, 4), (3, 9), (4, 16), (5, 25))\n"
   ]
  },
  {
   "cell_type": "markdown",
   "id": "8761f970",
   "metadata": {},
   "source": [
    "### Ejercicio 2: Filtrado Condicional en Tuplas\n",
    "\n",
    "Dada una tupla de números, crea una nueva tupla con solo los números que son mayores que 5."
   ]
  },
  {
   "cell_type": "code",
   "execution_count": null,
   "id": "deed0094",
   "metadata": {},
   "outputs": [],
   "source": [
    "# Ejercicio\n",
    "tupla_numeros = (3, 6, 9, 1, 8)\n",
    "tupla_filtrada = tuple(x for x in tupla_numeros if x > 5)\n",
    "\n",
    "# Solución\n",
    "# tupla_filtrada = (6, 9, 8)\n"
   ]
  },
  {
   "cell_type": "markdown",
   "id": "17bd41c5",
   "metadata": {},
   "source": [
    "### Ejercicio 3: Desempaquetado de Tuplas en Función\n",
    "\n",
    "Escribe una función que acepte una tupla de tres elementos y devuelva la suma de los elementos."
   ]
  },
  {
   "cell_type": "code",
   "execution_count": null,
   "id": "bd313563",
   "metadata": {},
   "outputs": [],
   "source": [
    "# Ejercicio\n",
    "def suma_tupla(tupla):\n",
    "    a, b, c = tupla\n",
    "    return a + b + c\n",
    "\n",
    "# Solución\n",
    "# suma_tupla((1, 2, 3))  # 6\n"
   ]
  },
  {
   "cell_type": "markdown",
   "id": "a31c62e5",
   "metadata": {},
   "source": [
    "### Ejercicio 4: Tuplas y Diccionarios\n",
    "\n",
    "Dada una lista de tuplas, donde cada tupla contiene un par clave-valor, convierte esta lista en un diccionario."
   ]
  },
  {
   "cell_type": "code",
   "execution_count": null,
   "id": "cab38321",
   "metadata": {},
   "outputs": [],
   "source": [
    "# Ejercicio\n",
    "lista_tuplas = [(\"a\", 1), (\"b\", 2), (\"c\", 3)]\n",
    "diccionario = dict(lista_tuplas)\n",
    "\n",
    "# Solución\n",
    "# diccionario = {'a': 1, 'b': 2, 'c': 3}\n"
   ]
  },
  {
   "cell_type": "markdown",
   "id": "0f9d5584",
   "metadata": {},
   "source": [
    "### Ejercicio 5: Ordenamiento de Tuplas por Elemento Específico\n",
    "\n",
    "Dada una lista de tuplas, ordena las tuplas por el segundo elemento de cada una."
   ]
  },
  {
   "cell_type": "code",
   "execution_count": null,
   "id": "7b29e162",
   "metadata": {},
   "outputs": [],
   "source": [
    "# Ejercicio\n",
    "lista_tuplas = [(1, 3), (3, 2), (2, 1)]\n",
    "lista_tuplas.sort(key=lambda x: x[1])\n",
    "\n",
    "# Solución\n",
    "# lista_tuplas = [(2, 1), (3, 2), (1, 3)]\n"
   ]
  },
  {
   "cell_type": "markdown",
   "id": "7c08d684",
   "metadata": {},
   "source": [
    "Estos ejercicios avanzados ofrecen una oportunidad para explorar la manipulación de tuplas en contextos más complejos, como en list comprehensions, operaciones condicionales, interacción con otras estructuras de datos y funciones. Practicar con estos problemas ayudará a profundizar la comprensión y habilidades en el uso de tuplas en Python."
   ]
  }
 ],
 "metadata": {},
 "nbformat": 4,
 "nbformat_minor": 5
}
