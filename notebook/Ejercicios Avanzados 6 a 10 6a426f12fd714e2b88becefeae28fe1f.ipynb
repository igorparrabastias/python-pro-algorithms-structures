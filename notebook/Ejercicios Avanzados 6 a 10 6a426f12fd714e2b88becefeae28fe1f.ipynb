{
 "cells": [
  {
   "cell_type": "markdown",
   "id": "1ffc96d3",
   "metadata": {},
   "source": [
    "# Ejercicios Avanzados 6 a 10\n",
    "\n",
    "### Ejercicio 6: Búsqueda Lineal con Funciones de Callback\n",
    "\n",
    "Implementa una búsqueda lineal que acepte una función de callback como criterio de búsqueda, permitiendo una mayor flexibilidad en las condiciones de búsqueda."
   ]
  },
  {
   "cell_type": "code",
   "execution_count": null,
   "id": "51a42d51",
   "metadata": {},
   "outputs": [],
   "source": [
    "# Ejercicio\n",
    "def busqueda_lineal_callback(lista, callback):\n",
    "    for i, valor in enumerate(lista):\n",
    "        if callback(valor):\n",
    "            return i\n",
    "    return -1\n",
    "\n",
    "# Ejemplo de uso: encontrar el primer número impar en la lista\n",
    "lista = [4, 2, 6, 7, 10]\n",
    "resultado = busqueda_lineal_callback(lista, lambda x: x % 2 != 0)\n",
    "print(f\"Índice del primer número impar: {resultado}\")\n"
   ]
  },
  {
   "cell_type": "markdown",
   "id": "ddd2d186",
   "metadata": {},
   "source": [
    "### Ejercicio 7: Búsqueda Lineal en Diccionarios\n",
    "\n",
    "Realiza una búsqueda lineal en una lista de diccionarios, buscando por una clave y valor específicos."
   ]
  },
  {
   "cell_type": "code",
   "execution_count": null,
   "id": "522f6239",
   "metadata": {},
   "outputs": [],
   "source": [
    "# Ejercicio\n",
    "def busqueda_lineal_diccionarios(lista_diccionarios, clave, valor_buscado):\n",
    "    for i, diccionario in enumerate(lista_diccionarios):\n",
    "        if diccionario.get(clave) == valor_buscado:\n",
    "            return i\n",
    "    return -1\n",
    "\n",
    "# Ejemplo de uso: buscar diccionario por nombre\n",
    "empleados = [{'nombre': 'Ana', 'edad': 28}, {'nombre': 'Luis', 'edad': 34}]\n",
    "indice = busqueda_lineal_diccionarios(empleados, 'nombre', 'Luis')\n",
    "print(f\"Índice del empleado buscado: {indice}\")\n"
   ]
  },
  {
   "cell_type": "markdown",
   "id": "6038978a",
   "metadata": {},
   "source": [
    "### Ejercicio 8: Búsqueda Lineal y Conteo de Elementos\n",
    "\n",
    "Implementa una búsqueda lineal que cuente las ocurrencias de un elemento dado en la lista."
   ]
  },
  {
   "cell_type": "code",
   "execution_count": null,
   "id": "c1eaff10",
   "metadata": {},
   "outputs": [],
   "source": [
    "# Ejercicio\n",
    "def busqueda_lineal_conteo(lista, objetivo):\n",
    "    conteo = 0\n",
    "    for elemento in lista:\n",
    "        if elemento == objetivo:\n",
    "            conteo += 1\n",
    "    return conteo\n",
    "\n",
    "# Ejemplo de uso\n",
    "lista = [1, 4, 2, 7, 4, 4, 9]\n",
    "objetivo = 4\n",
    "conteo = busqueda_lineal_conteo(lista, objetivo)\n",
    "print(f\"El elemento {objetivo} aparece {conteo} veces en la lista.\")\n"
   ]
  },
  {
   "cell_type": "markdown",
   "id": "5c715e4b",
   "metadata": {},
   "source": [
    "### Ejercicio 9: Búsqueda Lineal para Mínimo y Máximo\n",
    "\n",
    "Encuentra los valores mínimo y máximo en una lista utilizando búsqueda lineal."
   ]
  },
  {
   "cell_type": "code",
   "execution_count": null,
   "id": "cba05b56",
   "metadata": {},
   "outputs": [],
   "source": [
    "# Ejercicio\n",
    "def minimo_maximo(lista):\n",
    "    if not lista:\n",
    "        return None, None\n",
    "    minimo = maximo = lista[0]\n",
    "    for valor in lista[1:]:\n",
    "        if valor < minimo:\n",
    "            minimo = valor\n",
    "        elif valor > maximo:\n",
    "            maximo = valor\n",
    "    return minimo, maximo\n",
    "\n",
    "# Ejemplo de uso\n",
    "lista = [52, 29, 74, 12, 30, 85, 55]\n",
    "minimo, maximo = minimo_maximo(lista)\n",
    "print(f\"Mínimo: {minimo}, Máximo: {maximo}\")\n"
   ]
  },
  {
   "cell_type": "markdown",
   "id": "44e42656",
   "metadata": {},
   "source": [
    "### Ejercicio 10: Búsqueda Lineal con Salida Temprana para Datos Ordenados\n",
    "\n",
    "Optimiza la búsqueda lineal para detenerse tempranamente si se pasa por un elemento mayor al objetivo en una lista ordenada."
   ]
  },
  {
   "cell_type": "code",
   "execution_count": null,
   "id": "f57e9a07",
   "metadata": {},
   "outputs": [],
   "source": [
    "# Ejercicio\n",
    "def busqueda_lineal_ordenada(lista, objetivo):\n",
    "    for i, valor in enumerate(lista):\n",
    "        if valor == objetivo:\n",
    "            return i\n",
    "        elif valor > objetivo:\n",
    "            break\n",
    "    return -1\n",
    "\n",
    "# Ejemplo de uso\n",
    "lista_ordenada = [1, 3, 5, 7, 9, 11, 13]\n",
    "objetivo = 7\n",
    "indice = busqueda_lineal_ordenada(lista_ordenada, objetivo)\n",
    "print(f\"Índice del objetivo {objetivo}: {indice}\")\n"
   ]
  },
  {
   "cell_type": "markdown",
   "id": "204ff0c9",
   "metadata": {},
   "source": [
    "Estos ejercicios avanzados proporcionan una oportunidad para explorar aplicaciones más complejas y optimizaciones de la búsqueda lineal, demostrando su versatilidad y cómo puede ser adaptada para diferentes escenarios y estructuras de datos en Python."
   ]
  }
 ],
 "metadata": {},
 "nbformat": 4,
 "nbformat_minor": 5
}
