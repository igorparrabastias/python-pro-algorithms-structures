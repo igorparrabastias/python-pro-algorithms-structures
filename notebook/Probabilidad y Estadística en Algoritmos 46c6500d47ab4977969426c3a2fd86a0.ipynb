{
 "cells": [
  {
   "cell_type": "markdown",
   "id": "8215fafe",
   "metadata": {},
   "source": [
    "# Probabilidad y Estadística en Algoritmos\n",
    "\n",
    "- Elementos de probabilidad y estadística aplicados a algoritmos, especialmente en algoritmos de clasificación y aprendizaje automático.\n",
    "- Análisis de casos promedio versus peor caso en algoritmos.\n",
    "\n",
    "### **Introducción**\n",
    "\n",
    "La probabilidad y la estadística juegan roles fundamentales en el análisis y diseño de algoritmos, especialmente en áreas como la clasificación, el aprendizaje automático, y el análisis de rendimiento. Estas disciplinas matemáticas ofrecen herramientas para modelar incertidumbres, estimar comportamientos y evaluar la eficacia de los algoritmos bajo diversas condiciones. Este módulo explora cómo los elementos de probabilidad y estadística se aplican a los algoritmos, enfocándose en su utilidad para predecir rendimientos y tomar decisiones informadas durante el proceso de diseño.\n",
    "\n",
    "### **Elementos de Probabilidad y Estadística en Algoritmos**\n",
    "\n",
    "### **Modelado de Incertidumbre**\n",
    "\n",
    "La probabilidad permite modelar la incertidumbre en los datos de entrada y en el comportamiento de los algoritmos. En el aprendizaje automático, por ejemplo, la probabilidad se utiliza para estimar la confianza en las predicciones de los modelos y para manejar la variabilidad en los conjuntos de datos de entrenamiento.\n",
    "\n",
    "### **Estadísticas Descriptivas y Inferenciales**\n",
    "\n",
    "Las estadísticas descriptivas resumen las características principales de los conjuntos de datos, mientras que las inferenciales permiten sacar conclusiones y hacer predicciones a partir de los datos. Estos conceptos son esenciales en la evaluación de algoritmos de clasificación, donde se busca entender la distribución de las características y predecir el comportamiento futuro del modelo.\n",
    "\n",
    "### **Optimización Basada en Probabilidades**\n",
    "\n",
    "Algunos algoritmos, como los genéticos o los de optimización por enjambre de partículas, utilizan principios probabilísticos para explorar el espacio de soluciones de manera eficiente, equilibrando entre la exploración de nuevas áreas y la explotación de las conocidas para encontrar óptimos globales.\n",
    "\n",
    "### **Análisis de Casos Promedio Versus Peor Caso**\n",
    "\n",
    "### **Análisis de Casos Promedio**\n",
    "\n",
    "El análisis de casos promedio considera la eficiencia de un algoritmo bajo un modelo de probabilidad para la distribución de sus entradas. Este análisis es especialmente relevante en algoritmos cuyo rendimiento puede variar significativamente con diferentes tipos de datos, como el QuickSort, donde el tiempo de ejecución promedio es O(n log n), pero el peor caso es O(n^2).\n",
    "\n",
    "### **Análisis de Peor Caso**\n",
    "\n",
    "El análisis de peor caso proporciona una garantía sobre el rendimiento del algoritmo en las condiciones más desfavorables. Aunque este análisis es crucial para comprender los límites de los algoritmos, puede ser demasiado pesimista para algunas aplicaciones prácticas, donde los casos peores son raros o no representativos del uso típico.\n",
    "\n",
    "### **Aplicaciones en Clasificación y Aprendizaje Automático**\n",
    "\n",
    "En el aprendizaje automático, la probabilidad y la estadística son fundamentales para diseñar algoritmos de clasificación y regresión. Por ejemplo:\n",
    "\n",
    "- **Teoría Bayesiana**: Los clasificadores bayesianos utilizan el teorema de Bayes para predecir la categoría de nuevas observaciones, basándose en la probabilidad de que pertenezcan a cada clase.\n",
    "- **Estimación de Parámetros**: Métodos como la máxima verosimilitud y los bayesianos permiten estimar los parámetros de los modelos de manera que maximicen la probabilidad de los datos observados.\n",
    "\n",
    "### **Conclusión**\n",
    "\n",
    "La integración de la probabilidad y la estadística en el análisis de algoritmos enriquece significativamente nuestra capacidad para diseñar, analizar y optimizar algoritmos, especialmente en campos avanzados como el aprendizaje automático. Estas herramientas no solo facilitan una comprensión más profunda del comportamiento de los algoritmos en condiciones variadas sino que también mejoran la toma de decisiones durante el diseño algorítmico, asegurando soluciones más robustas y eficientes frente a la incertidumbre y la variabilidad de los datos.\n",
    "\n",
    "## Ejercicios\n",
    "\n",
    "### **Ejercicio 1: Análisis de Caso Promedio en QuickSort**\n",
    "\n",
    "Dado un arreglo de números enteros, implemente el algoritmo QuickSort. Calcule su tiempo de ejecución promedio asumiendo que cualquier elemento tiene la misma probabilidad de ser elegido como pivote. Analice cómo la elección del pivote afecta el rendimiento promedio del algoritmo."
   ]
  },
  {
   "cell_type": "code",
   "execution_count": null,
   "id": "e23b1c3f",
   "metadata": {},
   "outputs": [],
   "source": [
    "def quicksort(arr):\n",
    "    if len(arr) <= 1:\n",
    "        return arr\n",
    "    else:\n",
    "        pivot = arr[len(arr) // 2]\n",
    "        left = [x for x in arr if x < pivot]\n",
    "        middle = [x for x in arr if x == pivot]\n",
    "        right = [x for x in arr if x > pivot]\n",
    "        return quicksort(left) + middle + quicksort(right)\n",
    "\n",
    "# Implemente la función y realice el análisis aquí"
   ]
  },
  {
   "cell_type": "markdown",
   "id": "a710f4fa",
   "metadata": {},
   "source": [
    "### **Ejercicio 2: Clasificador Bayesiano Simple**\n",
    "\n",
    "Implemente un clasificador bayesiano simple para un conjunto de datos que contenga dos características y dos clases. Utilice la probabilidad condicional para clasificar un nuevo punto de datos. Asuma distribuciones gaussianas para las características."
   ]
  },
  {
   "cell_type": "code",
   "execution_count": null,
   "id": "aca26187",
   "metadata": {},
   "outputs": [],
   "source": [
    "import numpy as np\n",
    "\n",
    "# Función para calcular la probabilidad gaussiana de x\n",
    "def gaussian_probability(x, mean, std):\n",
    "    return (1 / (np.sqrt(2 * np.pi) * std)) * np.exp(-((x - mean)**2 / (2 * std**2)))\n",
    "\n",
    "# Implemente el clasificador aquí"
   ]
  },
  {
   "cell_type": "markdown",
   "id": "4d4bf7ac",
   "metadata": {},
   "source": [
    "### **Ejercicio 3: Simulación de Montecarlo para Estimar π**\n",
    "\n",
    "Utilice el método de Montecarlo para estimar el valor de π. Genere puntos aleatorios dentro de un cuadrado que inscribe un círculo y calcule la proporción de puntos que caen dentro del círculo. Utilice esta proporción para estimar π."
   ]
  },
  {
   "cell_type": "code",
   "execution_count": null,
   "id": "c794f4b1",
   "metadata": {},
   "outputs": [],
   "source": [
    "import random\n",
    "\n",
    "def estimate_pi(num_samples):\n",
    "    points_inside_circle = 0\n",
    "    for _ in range(num_samples):\n",
    "        x, y = random.random(), random.random()\n",
    "        if x**2 + y**2 <= 1:\n",
    "            points_inside_circle += 1\n",
    "    return 4 * points_inside_circle / num_samples\n",
    "\n",
    "# Llame a la función con diferentes números de muestras"
   ]
  },
  {
   "cell_type": "markdown",
   "id": "b502b6e5",
   "metadata": {},
   "source": [
    "### **Ejercicio 4: Estimación de Parámetros con Máxima Verosimilitud**\n",
    "\n",
    "Dado un conjunto de datos que sigue una distribución gaussiana, estime los parámetros (media y desviación estándar) utilizando el método de máxima verosimilitud."
   ]
  },
  {
   "cell_type": "code",
   "execution_count": null,
   "id": "4b7efbdc",
   "metadata": {},
   "outputs": [],
   "source": [
    "def estimate_parameters(data):\n",
    "    mean = sum(data) / len(data)\n",
    "    variance = sum((x - mean) ** 2 for x in data) / len(data)\n",
    "    std = variance ** 0.5\n",
    "    return mean, std\n",
    "\n",
    "# Use esta función para estimar los parámetros de su conjunto de datos"
   ]
  },
  {
   "cell_type": "markdown",
   "id": "88e2a404",
   "metadata": {},
   "source": [
    "### **Ejercicio 5: Análisis de Peor Caso en Algoritmos**\n",
    "\n",
    "Considere un algoritmo de búsqueda lineal en una lista. Analice el peor caso en términos de número de comparaciones realizadas. Luego, realice una simulación para calcular el número promedio de comparaciones en un conjunto de datos aleatorio."
   ]
  },
  {
   "cell_type": "code",
   "execution_count": null,
   "id": "b0fb3ccf",
   "metadata": {},
   "outputs": [],
   "source": [
    "def linear_search(arr, target):\n",
    "    for i, num in enumerate(arr):\n",
    "        if num == target:\n",
    "            return i\n",
    "    return -1\n",
    "\n",
    "# Realice el análisis de peor caso y luego simule para encontrar el promedio"
   ]
  },
  {
   "cell_type": "markdown",
   "id": "80b94b7c",
   "metadata": {},
   "source": [
    "Estos ejercicios están diseñados para fortalecer su comprensión de cómo la probabilidad y la estadística se aplican en el análisis y diseño de algoritmos, especialmente en contextos que requieren modelado de incertidumbre y decisiones basadas en datos."
   ]
  }
 ],
 "metadata": {},
 "nbformat": 4,
 "nbformat_minor": 5
}
