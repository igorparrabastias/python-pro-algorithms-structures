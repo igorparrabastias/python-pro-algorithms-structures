{
 "cells": [
  {
   "cell_type": "markdown",
   "id": "6327f75b",
   "metadata": {},
   "source": [
    "# Rebinding\n",
    "\n",
    "### Introducción\n",
    "\n",
    "En Python, el concepto de rebinding o reasignación de variables es fundamental para entender cómo el lenguaje maneja la asignación de memoria y las referencias a objetos. Diferenciar entre modificar un objeto y reasignar una referencia es crucial para escribir código claro y eficiente. Hoy, profundizaremos en estos conceptos y veremos cómo aplicarlos en situaciones prácticas.\n",
    "\n",
    "### Rebinding en Python\n",
    "\n",
    "Rebinding se refiere al proceso de asignar una nueva referencia a una variable existente. En Python, las variables son etiquetas que apuntan a objetos en memoria. Cuando reasignamos una variable, simplemente estamos cambiando la referencia de la variable a un nuevo objeto.\n",
    "\n",
    "### Ejemplo de Rebinding"
   ]
  },
  {
   "cell_type": "code",
   "execution_count": null,
   "id": "e6776d29",
   "metadata": {},
   "outputs": [],
   "source": [
    "x = 5\n",
    "x = 'Hola'"
   ]
  },
  {
   "cell_type": "markdown",
   "id": "745fb4b2",
   "metadata": {},
   "source": [
    "Aquí, `x` inicialmente referencia al entero `5`. Luego, reasignamos `x` para que apunte al string `'Hola'`. Esto es un ejemplo de rebinding.\n",
    "\n",
    "### Modificar un Objeto vs. Reasignar una Referencia\n",
    "\n",
    "Es importante distinguir entre modificar el contenido de un objeto y reasignar una referencia a otro objeto.\n",
    "\n",
    "### Modificar un Objeto\n",
    "\n",
    "Cuando modificamos el contenido de un objeto, la referencia original no cambia. Esto es común con objetos mutables como listas."
   ]
  },
  {
   "cell_type": "code",
   "execution_count": null,
   "id": "a39c8b74",
   "metadata": {},
   "outputs": [],
   "source": [
    "lista = [1, 2, 3]\n",
    "lista.append(4)  # Modifica el contenido de la lista"
   ]
  },
  {
   "cell_type": "markdown",
   "id": "cbefb780",
   "metadata": {},
   "source": [
    "### Reasignar una Referencia\n",
    "\n",
    "Reasignar una referencia significa que la variable ahora apunta a un objeto completamente diferente."
   ]
  },
  {
   "cell_type": "code",
   "execution_count": null,
   "id": "dcb15253",
   "metadata": {},
   "outputs": [],
   "source": [
    "lista = [1, 2, 3]\n",
    "lista = \"Nuevo string\"  # Reasigna la referencia a un objeto string"
   ]
  },
  {
   "cell_type": "markdown",
   "id": "6b57c97d",
   "metadata": {},
   "source": [
    "xxx\n",
    "\n",
    "### Rebinding y Mutabilidad:\n",
    "\n",
    "1. **Variables con Objetos Mutables**: Si una variable está vinculada a un objeto mutable (como una lista), modificar el objeto no implica un rebinding."
   ]
  },
  {
   "cell_type": "code",
   "execution_count": null,
   "id": "0d7f2d7e",
   "metadata": {},
   "outputs": [],
   "source": [
    "```python\n",
    "pythonCopy code\n",
    "lista = [1, 2, 3]\n",
    "lista.append(4)  # La lista se modifica, pero no se realiza rebinding\n",
    "\n",
    "```"
   ]
  },
  {
   "cell_type": "markdown",
   "id": "a6bd7936",
   "metadata": {},
   "source": [
    "2. **Variables con Objetos Inmutables**: Para objetos inmutables (como enteros o tuplas), cualquier cambio crea un nuevo objeto y requiere un rebinding."
   ]
  },
  {
   "cell_type": "code",
   "execution_count": null,
   "id": "c93c9951",
   "metadata": {},
   "outputs": [],
   "source": [
    "```python\n",
    "pythonCopy code\n",
    "a = 3\n",
    "a = a + 2  # Se crea un nuevo objeto y se reasigna a\n",
    "\n",
    "```\n"
   ]
  },
  {
   "cell_type": "markdown",
   "id": "51ffb1a8",
   "metadata": {},
   "source": [
    "### Implicaciones del Rebinding:\n",
    "\n",
    "1. **Identidad de los Objetos**: Cada vez que se realiza un rebinding, la identidad del objeto (su dirección en memoria) puede cambiar."
   ]
  },
  {
   "cell_type": "code",
   "execution_count": null,
   "id": "b1de0169",
   "metadata": {},
   "outputs": [],
   "source": [
    "```python\n",
    "pythonCopy code\n",
    "a = 5\n",
    "print(id(a))  # Supongamos que imprime 140...\n",
    "a = 10\n",
    "print(id(a))  # Imprime una dirección diferente\n",
    "\n",
    "```"
   ]
  },
  {
   "cell_type": "markdown",
   "id": "3768ed86",
   "metadata": {},
   "source": [
    "2. **Compartir Referencias**: Si dos variables se refieren al mismo objeto y una de ellas se reasigna, la otra no se ve afectada."
   ]
  },
  {
   "cell_type": "code",
   "execution_count": null,
   "id": "85c7ddf0",
   "metadata": {},
   "outputs": [],
   "source": [
    "```python\n",
    "pythonCopy code\n",
    "a = [1, 2, 3]\n",
    "b = a\n",
    "a = [4, 5, 6]  # Solo a se reasigna, b sigue apuntando a la lista original\n",
    "\n",
    "```\n"
   ]
  },
  {
   "cell_type": "markdown",
   "id": "b0adedfd",
   "metadata": {},
   "source": [
    "### Buenas Prácticas:\n",
    "\n",
    "1. **Cuidado con los Efectos Secundarios**: Al reasignar variables, especialmente en funciones o bucles, sé consciente de cómo esto puede afectar otras partes de tu código.\n",
    "2. **Claridad en el Código**: El rebinding puede hacer que el seguimiento del estado actual de un objeto sea más desafiante. Mantén tu código lo más claro y explícito posible.\n",
    "\n",
    "xxx\n",
    "\n",
    "### Ejercicios\n",
    "\n",
    "1. Crea una lista y modifícala. Luego, reasigna la variable a un nuevo objeto y muestra cómo ha cambiado la referencia.\n",
    "2. Explora cómo el rebinding afecta a variables que inicialmente apuntaban al mismo objeto.\n",
    "3. Investiga el uso de la función `id()` para entender cómo cambia la identidad de un objeto con el rebinding.\n",
    "\n",
    "### Conclusión\n",
    "\n",
    "El rebinding es un aspecto poderoso de Python que nos permite gestionar cómo las variables se relacionan con los objetos en memoria. Comprender la diferencia entre modificar un objeto y reasignar una referencia es clave para el manejo eficiente de la memoria y para evitar errores comunes en la programación. En la próxima clase, abordaremos las secuencias y cómo manipularlas en Python.\n",
    "\n",
    "### Soluciones\n",
    "\n",
    "### Ejercicio 1"
   ]
  },
  {
   "cell_type": "code",
   "execution_count": null,
   "id": "3021f02b",
   "metadata": {},
   "outputs": [],
   "source": [
    "mi_lista = [1, 2, 3]\n",
    "mi_lista.append(4)\n",
    "print(mi_lista)  # Muestra [1, 2, 3, 4]\n",
    "mi_lista = [5, 6, 7]\n",
    "print(mi_lista)  # Muestra [5, 6, 7]"
   ]
  },
  {
   "cell_type": "markdown",
   "id": "ba4521d6",
   "metadata": {},
   "source": [
    "### Ejercicio 2"
   ]
  },
  {
   "cell_type": "code",
   "execution_count": null,
   "id": "fb8ec13f",
   "metadata": {},
   "outputs": [],
   "source": [
    "a = [1, 2, 3]\n",
    "b = a\n",
    "b.append(4)\n",
    "print(a)  # Muestra [1, 2, 3, 4] porque a y b apuntan al mismo objeto\n",
    "b = \"Nuevo string\"\n",
    "print(a)  # Muestra [1, 2, 3, 4] ya que b ahora apunta a otro objeto"
   ]
  },
  {
   "cell_type": "markdown",
   "id": "0661976d",
   "metadata": {},
   "source": [
    "### Ejercicio 3\n",
    "\n",
    "```python\n",
    "x = [1, 2, 3]\n",
    "print(id(x))  # Imprime la identidad del objeto x\n",
    "x.append(4)\n",
    "print(id(x))  # La identidad es la misma, el objeto es modificado\n",
    "x = \"Cambio\"\n",
    "print(id(x))  # La identidad ha cambiado, x ahora apunta a un nuevo objeto\n",
    "```"
   ]
  }
 ],
 "metadata": {},
 "nbformat": 4,
 "nbformat_minor": 5
}
