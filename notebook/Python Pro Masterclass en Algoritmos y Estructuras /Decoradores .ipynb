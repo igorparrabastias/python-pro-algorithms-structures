{
 "cells": [
  {
   "cell_type": "markdown",
   "id": "71dad906",
   "metadata": {},
   "source": [
    "# Decoradores\n",
    "\n",
    "### Introducción:\n",
    "\n",
    "Los decoradores en Python son una de las herramientas más potentes y útiles, permitiendo a los desarrolladores modificar o extender la funcionalidad de funciones y métodos sin alterar su código fuente. Este concepto, a menudo utilizado en frameworks y librerías, es fundamental para entender patrones de diseño avanzados en Python.\n",
    "\n",
    "### Decoradores en Python:\n",
    "\n",
    "- **Concepto Básico de Decoradores**:\n",
    "    - Un decorador es una función que toma otra función como argumento, añade alguna funcionalidad y retorna una función.\n",
    "    - Se utilizan con el símbolo `@` seguido del nombre del decorador.\n",
    "- **Creación de un Decorador Simple**:\n",
    "    - Ejemplo de un decorador que imprime un mensaje antes y después de la ejecución de una función."
   ]
  },
  {
   "cell_type": "code",
   "execution_count": null,
   "id": "450de8c4",
   "metadata": {},
   "outputs": [],
   "source": [
    "```python\n",
    "def my_decorator(func):\n",
    "    def wrapper():\n",
    "        print(\"Algo se está ejecutando antes de la función.\")\n",
    "        func()\n",
    "        print(\"Algo se está ejecutando después de la función.\")\n",
    "    return wrapper\n",
    "\n",
    "@my_decorator\n",
    "def say_hello():\n",
    "    print(\"¡Hola!\")\n",
    "\n",
    "say_hello()\n",
    "\n",
    "```"
   ]
  },
  {
   "cell_type": "markdown",
   "id": "437afaf8",
   "metadata": {},
   "source": [
    "- **Decoradores con Parámetros**:\n",
    "    - A veces, es necesario pasar argumentos adicionales a los decoradores. Esto se puede lograr utilizando otra función envolvente."
   ]
  },
  {
   "cell_type": "code",
   "execution_count": null,
   "id": "5588c064",
   "metadata": {},
   "outputs": [],
   "source": [
    "```python\n",
    "def decorator_with_args(argument):\n",
    "    def my_decorator(func):\n",
    "        def wrapper(*args, **kwargs):\n",
    "            print(f\"Argumento del decorador: {argument}\")\n",
    "            func(*args, **kwargs)\n",
    "        return wrapper\n",
    "    return my_decorator\n",
    "\n",
    "@decorator_with_args(\"ejemplo\")\n",
    "def say_hello(name):\n",
    "    print(f\"¡Hola {name}!\")\n",
    "\n",
    "say_hello(\"Mundo\")\n",
    "\n",
    "```"
   ]
  },
  {
   "cell_type": "markdown",
   "id": "364db9ad",
   "metadata": {},
   "source": [
    "- **Decoradores en Clases**:\n",
    "    - Los decoradores también se pueden aplicar a métodos dentro de una clase.\n",
    "    - Un uso común es la modificación del comportamiento de los métodos, por ejemplo, para verificar permisos.\n",
    "- **Aplicaciones Prácticas**:\n",
    "    - Logging (registro de actividades).\n",
    "    - Control de acceso y autenticación.\n",
    "    - Caching (almacenamiento en caché).\n",
    "    - Validación de datos.\n",
    "\n",
    "### Ejercicios:\n",
    "\n",
    "1. **Crear un Decorador de Timing**: Escribe un decorador que mida el tiempo de ejecución de una función.\n",
    "2. **Decorador de Logging**: Implementa un decorador que registre en un archivo cada vez que se llame a la función decorada.\n",
    "3. **Decorador de Verificación**: Diseña un decorador que verifique si un argumento de la función es de un tipo específico (por ejemplo, `int` o `str`).\n",
    "\n",
    "### Conclusión:\n",
    "\n",
    "Los decoradores son una herramienta poderosa que añade una gran flexibilidad y reutilización al código en Python. Al comprender y aplicar decoradores, los desarrolladores pueden escribir código más limpio, legible y eficiente. En la próxima clase, exploraremos los algoritmos básicos, comenzando con los algoritmos de ordenación.\n",
    "\n",
    "### Soluciones:\n",
    "\n",
    "1. **Decorador de Timing**:"
   ]
  },
  {
   "cell_type": "code",
   "execution_count": null,
   "id": "eb382798",
   "metadata": {},
   "outputs": [],
   "source": [
    "```python\n",
    "import time\n",
    "\n",
    "def timing_decorator(func):\n",
    "    def wrapper(*args, **kwargs):\n",
    "        start_time = time.time()\n",
    "        result = func(*args, **kwargs)\n",
    "        end_time = time.time()\n",
    "        print(f\"{func.__name__} tomó {end_time - start_time} segundos para ejecutarse.\")\n",
    "        return result\n",
    "    return wrapper\n",
    "\n",
    "@timing_decorator\n",
    "def ejemplo_funcion():\n",
    "    time.sleep(2)\n",
    "\n",
    "ejemplo_funcion()\n",
    "\n",
    "```"
   ]
  },
  {
   "cell_type": "markdown",
   "id": "2059d7b1",
   "metadata": {},
   "source": [
    "2. **Decorador de Logging**:"
   ]
  },
  {
   "cell_type": "code",
   "execution_count": null,
   "id": "fa89d922",
   "metadata": {},
   "outputs": [],
   "source": [
    "```python\n",
    "def logging_decorator(func):\n",
    "    def wrapper(*args, **kwargs):\n",
    "        result = func(*args, **kwargs)\n",
    "        with open(\"log.txt\", \"a\") as f:\n",
    "            f.write(f\"{func.__name__} fue llamada con {args}, {kwargs} y retornó {result}\\\\n\")\n",
    "        return result\n",
    "    return wrapper\n",
    "\n",
    "@logging_decorator\n",
    "def suma(a, b):\n",
    "    return a + b\n",
    "\n",
    "suma(3, 4)\n",
    "\n",
    "```"
   ]
  },
  {
   "cell_type": "markdown",
   "id": "209cd2e3",
   "metadata": {},
   "source": [
    "3. **Decorador de Verificación**:\n",
    "    \n",
    "    ```python\n",
    "    def type_check_decorator(correct_type):\n",
    "        def decorator(func):\n",
    "            def wrapper(argument):\n",
    "                if isinstance(argument, correct_type):\n",
    "                    return func(argument)\n",
    "                else:\n",
    "                    print(f\"Error: Argumento no es del tipo {correct_type}\")\n",
    "            return wrapper\n",
    "        return decorator\n",
    "    \n",
    "    @type_check_decorator(str)\n",
    "    def string_printer(text):\n",
    "        print(text)\n",
    "    \n",
    "    string_printer(\"Hola\")\n",
    "    string_printer(100)  # Muestra mensaje de error\n",
    "    \n",
    "    ```"
   ]
  }
 ],
 "metadata": {},
 "nbformat": 4,
 "nbformat_minor": 5
}
