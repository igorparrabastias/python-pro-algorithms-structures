{
 "cells": [
  {
   "cell_type": "markdown",
   "id": "57bc0585",
   "metadata": {},
   "source": [
    "# Profundización Avanzada en Listas en Python\n",
    "\n",
    "Las listas en Python son más que simples contenedores para colecciones de elementos. Veamos cómo su flexibilidad y la variedad de métodos disponibles las hacen herramientas poderosas para la programación avanzada.\n",
    "\n",
    "### Métodos Avanzados y Propiedades de las Listas:\n",
    "\n",
    "1. **List Comprehensions**: Permiten la creación de listas de manera concisa y eficiente. Pueden incorporar condicionales y bucles."
   ]
  },
  {
   "cell_type": "code",
   "execution_count": null,
   "id": "597f4114",
   "metadata": {},
   "outputs": [],
   "source": [
    "```python\n",
    "cuadrados = [x**2 for x in range(10) if x % 2 == 0]\n",
    "\n",
    "```"
   ]
  },
  {
   "cell_type": "markdown",
   "id": "ba034267",
   "metadata": {},
   "source": [
    "2. **Funciones Integradas Aplicables a Listas**:\n",
    "    - `len(lista)`: Devuelve el número de elementos.\n",
    "    - `sorted(lista)`: Devuelve una nueva lista ordenada.\n",
    "    - `sum(lista)`: Suma los elementos de una lista numérica.\n",
    "3. **Métodos Específicos para Listas**:\n",
    "    - `lista.extend(otra_lista)`: Extiende una lista con otra.\n",
    "    - `lista.count(elemento)`: Cuenta las ocurrencias de un elemento.\n",
    "\n",
    "### Operaciones Avanzadas con Listas:\n",
    "\n",
    "1. **Slice Assignment**: Permite modificar una sección de la lista reemplazándola con otra lista, lo que puede cambiar el tamaño de la lista original."
   ]
  },
  {
   "cell_type": "code",
   "execution_count": null,
   "id": "373882c7",
   "metadata": {},
   "outputs": [],
   "source": [
    "```python\n",
    "lista = [1, 2, 3, 4, 5]\n",
    "lista[2:4] = [0, 0]  # Cambia parte de la lista\n",
    "\n",
    "```"
   ]
  },
  {
   "cell_type": "markdown",
   "id": "b0fadc01",
   "metadata": {},
   "source": [
    "2. **Listas Anidadas**: Son equivalentes a matrices en otros lenguajes de programación y pueden ser usadas para representar estructuras de datos más complejas."
   ]
  },
  {
   "cell_type": "code",
   "execution_count": null,
   "id": "c4b4a273",
   "metadata": {},
   "outputs": [],
   "source": [
    "```python\n",
    "matriz = [[1, 2, 3], [4, 5, 6], [7, 8, 9]]\n",
    "\n",
    "```"
   ]
  },
  {
   "cell_type": "markdown",
   "id": "84244c94",
   "metadata": {},
   "source": [
    "3. **Ordenamiento Personalizado**: Usando `sorted()` o `lista.sort()` con el argumento `key`, se puede definir una función personalizada para el ordenamiento."
   ]
  },
  {
   "cell_type": "code",
   "execution_count": null,
   "id": "f9ffa0c3",
   "metadata": {},
   "outputs": [],
   "source": [
    "```python\n",
    "lista.sort(key=lambda x: x.alguna_propiedad)\n",
    "\n",
    "```"
   ]
  },
  {
   "cell_type": "markdown",
   "id": "cf8fbc09",
   "metadata": {},
   "source": [
    "4. **Búsqueda Binaria**: Para listas grandes y ordenadas, la búsqueda binaria (`bisect` en Python) es una forma eficiente de encontrar elementos.\n",
    "\n",
    "### Aplicaciones Prácticas:\n",
    "\n",
    "1. **Manipulación de Datos**: Las listas son ideales para recopilar y manipular datos en aplicaciones como análisis de datos, aprendizaje automático y más.\n",
    "2. **Algoritmos de Programación**: Muchos algoritmos y estructuras de datos (como pilas y colas) pueden implementarse eficientemente con listas.\n",
    "3. **Funciones de Orden Superior**: Funciones como `map()`, `filter()` y `reduce()` trabajan bien con listas para realizar operaciones en cada elemento.\n",
    "\n",
    "### Optimizaciones y Buenas Prácticas:\n",
    "\n",
    "1. **Preferir List Comprehensions**: Son generalmente más eficientes que los bucles tradicionales.\n",
    "2. **Evitar Agregar al Principio**: Agregar elementos al principio de una lista es costoso. Es mejor agregar al final o usar una `collections.deque` si se necesita un comportamiento de cola.\n",
    "\n",
    "### Uso en Programación Funcional:\n",
    "\n",
    "En la programación funcional, aunque las listas son mutables, se prefieren patrones que no alteren la lista original, como list comprehensions, map/filter/reduce, etc.\n",
    "\n",
    "### Conclusión:\n",
    "\n",
    "Las listas en Python ofrecen una combinación única de flexibilidad, eficiencia y facilidad de uso, haciéndolas fundamentales en casi todos los aspectos de la programación en Python. Ya sea para manipulación de datos simples o para la implementación de algoritmos complejos, las listas proporcionan una solución eficaz. En la próxima clase, exploraremos casos de estudio donde las listas juegan un papel crucial en la resolución de problemas específicos y en el desarrollo de aplicaciones."
   ]
  }
 ],
 "metadata": {},
 "nbformat": 4,
 "nbformat_minor": 5
}
