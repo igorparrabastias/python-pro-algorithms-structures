{
 "cells": [
  {
   "cell_type": "markdown",
   "id": "930e7c59",
   "metadata": {},
   "source": [
    "# Queues (Colas)\n",
    "\n",
    "Las colas (queues) son estructuras de datos que siguen el principio FIFO (First In, First Out), donde el primer elemento añadido es el primero en ser removido. En Python, puedes implementar colas utilizando la clase `deque` del módulo `collections`, que es una implementación de una cola de doble extremo y ofrece un rendimiento óptimo para este propósito.\n",
    "\n",
    "A continuación, te muestro cómo implementar una cola con sus operaciones básicas:\n",
    "\n",
    "1. **Definición de la Clase Cola**"
   ]
  },
  {
   "cell_type": "code",
   "execution_count": null,
   "id": "a071cc45",
   "metadata": {},
   "outputs": [],
   "source": [
    "from collections import deque\n",
    "\n",
    "class Queue:\n",
    "    def __init__(self):\n",
    "        self.queue = deque()\n",
    "\n",
    "    def is_empty(self):\n",
    "        \"\"\" Verifica si la cola está vacía. \"\"\"\n",
    "        return len(self.queue) == 0\n",
    "\n",
    "    def enqueue(self, item):\n",
    "        \"\"\" Agrega un elemento al final de la cola. \"\"\"\n",
    "        self.queue.append(item)\n",
    "\n",
    "    def dequeue(self):\n",
    "        \"\"\" Remueve y retorna el primer elemento de la cola. \"\"\"\n",
    "        if not self.is_empty():\n",
    "            return self.queue.popleft()\n",
    "        return None\n",
    "\n",
    "    def size(self):\n",
    "        \"\"\" Retorna el tamaño de la cola. \"\"\"\n",
    "        return len(self.queue)\n",
    "\n",
    "    def front(self):\n",
    "        \"\"\" Retorna el primer elemento de la cola sin removerlo. \"\"\"\n",
    "        if not self.is_empty():\n",
    "            return self.queue[0]\n",
    "        return None\n",
    "\n",
    "    def print_queue(self):\n",
    "        \"\"\" Imprime los elementos de la cola. \"\"\"\n",
    "        for item in self.queue:\n",
    "            print(item, end=\" -> \")\n",
    "        print(\"None\")\n"
   ]
  },
  {
   "cell_type": "markdown",
   "id": "8e9d0299",
   "metadata": {},
   "source": [
    "1. **Uso de la Cola**"
   ]
  },
  {
   "cell_type": "code",
   "execution_count": null,
   "id": "7a203086",
   "metadata": {},
   "outputs": [],
   "source": [
    "# Creando una cola\n",
    "queue = Queue()\n",
    "\n",
    "# Agregando elementos\n",
    "queue.enqueue(\"Apple\")\n",
    "queue.enqueue(\"Banana\")\n",
    "queue.enqueue(\"Cherry\")\n",
    "\n",
    "# Imprimiendo la cola\n",
    "queue.print_queue()\n",
    "\n",
    "# Verificando el primer elemento\n",
    "print(\"Front item:\", queue.front())\n",
    "\n",
    "# Removiendo elementos\n",
    "print(\"Dequeued:\", queue.dequeue())\n",
    "print(\"Dequeued:\", queue.dequeue())\n",
    "\n",
    "# Imprimiendo la cola después de las eliminaciones\n",
    "queue.print_queue()\n"
   ]
  },
  {
   "cell_type": "markdown",
   "id": "a8a07798",
   "metadata": {},
   "source": [
    "En este código, `enqueue` agrega un elemento al final de la cola, `dequeue` elimina el primer elemento y lo devuelve, `front` devuelve el primer elemento sin removerlo, y `is_empty` verifica si la cola está vacía. `print_queue` es un método auxiliar para visualizar los elementos de la cola. Usando `deque` de `collections`, se logra una implementación eficiente de la cola en Python."
   ]
  }
 ],
 "metadata": {},
 "nbformat": 4,
 "nbformat_minor": 5
}
