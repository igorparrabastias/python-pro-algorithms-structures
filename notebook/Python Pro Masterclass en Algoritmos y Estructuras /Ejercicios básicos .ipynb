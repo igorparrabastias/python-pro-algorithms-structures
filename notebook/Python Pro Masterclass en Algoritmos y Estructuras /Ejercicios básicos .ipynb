{
 "cells": [
  {
   "cell_type": "markdown",
   "id": "ea79f9ec",
   "metadata": {},
   "source": [
    "# Ejercicios básicos\n",
    "\n",
    "### Ejercicio 1: Ordenar una Lista Numérica\n",
    "\n",
    "Utiliza la función `merge_sort` para ordenar la lista `[34, 7, 23, 32, 5, 62]`."
   ]
  },
  {
   "cell_type": "code",
   "execution_count": null,
   "id": "47980d6e",
   "metadata": {},
   "outputs": [],
   "source": [
    "# Ejercicio\n",
    "mi_lista = [34, 7, 23, 32, 5, 62]\n",
    "ordenada = merge_sort(mi_lista)\n",
    "print(\"Lista ordenada:\", ordenada)\n"
   ]
  },
  {
   "cell_type": "markdown",
   "id": "4b2a3304",
   "metadata": {},
   "source": [
    "### Ejercicio 2: Ordenar una Lista de Cadenas\n",
    "\n",
    "Aplica `merge_sort` para ordenar alfabéticamente la lista de cadenas `[\"manzana\", \"pera\", \"banana\", \"cereza\"]`."
   ]
  },
  {
   "cell_type": "code",
   "execution_count": null,
   "id": "945f1726",
   "metadata": {},
   "outputs": [],
   "source": [
    "# Adaptación de merge_sort para cadenas (Asegúrate de ajustar la comparación en el algoritmo para cadenas)\n",
    "mi_lista_cadenas = [\"manzana\", \"pera\", \"banana\", \"cereza\"]\n",
    "ordenada_cadenas = merge_sort(mi_lista_cadenas)\n",
    "print(\"Lista de cadenas ordenada:\", ordenada_cadenas)\n"
   ]
  },
  {
   "cell_type": "markdown",
   "id": "1403b696",
   "metadata": {},
   "source": [
    "### Ejercicio 3: Ordenar en Orden Descendente\n",
    "\n",
    "Modifica `merge_sort` para ordenar la lista `[92, 17, 53, 7, 30, 19]` en orden descendente."
   ]
  },
  {
   "cell_type": "code",
   "execution_count": null,
   "id": "ec177257",
   "metadata": {},
   "outputs": [],
   "source": [
    "# Consejo: Invierte la condición de comparación en el algoritmo de merge_sort para ordenar en orden descendente\n",
    "mi_lista_desc = [92, 17, 53, 7, 30, 19]\n",
    "ordenada_desc = merge_sort_desc(mi_lista_desc)  # Asegúrate de definir merge_sort_desc correctamente\n",
    "print(\"Lista ordenada en descendente:\", ordenada_desc)\n"
   ]
  },
  {
   "cell_type": "markdown",
   "id": "73ac9d93",
   "metadata": {},
   "source": [
    "### Ejercicio 4: Comprobar si la Lista Está Ordenada\n",
    "\n",
    "Usa `merge_sort` para ordenar `[5, 1, 4, 2, 8]` y luego verifica si la lista resultante está ordenada (sin utilizar `sorted` o métodos similares)."
   ]
  },
  {
   "cell_type": "code",
   "execution_count": null,
   "id": "c25e6bd9",
   "metadata": {},
   "outputs": [],
   "source": [
    "# Ejercicio\n",
    "mi_lista = [5, 1, 4, 2, 8]\n",
    "ordenada = merge_sort(mi_lista)\n",
    "esta_ordenada = all(ordenada[i] <= ordenada[i+1] for i in range(len(ordenada)-1))\n",
    "print(\"¿La lista está ordenada?\", esta_ordenada)\n"
   ]
  },
  {
   "cell_type": "markdown",
   "id": "5e60a5d7",
   "metadata": {},
   "source": [
    "### Ejercicio 5: Encontrar el Elemento Máximo Usando Merge Sort\n",
    "\n",
    "Utiliza `merge_sort` para encontrar el elemento máximo en la lista `[45, 21, 78, 89, 34, 51, 30]`."
   ]
  },
  {
   "cell_type": "code",
   "execution_count": null,
   "id": "765435a2",
   "metadata": {},
   "outputs": [],
   "source": [
    "# Ejercicio\n",
    "mi_lista = [45, 21, 78, 89, 34, 51, 30]\n",
    "ordenada = merge_sort(mi_lista)\n",
    "elemento_maximo = ordenada[-1]\n",
    "print(\"El elemento máximo es:\", elemento_maximo)\n"
   ]
  },
  {
   "cell_type": "markdown",
   "id": "b4769143",
   "metadata": {},
   "source": [
    "Estos ejercicios básicos te permitirán practicar y entender mejor la implementación y las aplicaciones del algoritmo Merge Sort en Python, desde ordenar listas sencillas hasta realizar adaptaciones específicas del algoritmo para diferentes casos de uso."
   ]
  }
 ],
 "metadata": {},
 "nbformat": 4,
 "nbformat_minor": 5
}
