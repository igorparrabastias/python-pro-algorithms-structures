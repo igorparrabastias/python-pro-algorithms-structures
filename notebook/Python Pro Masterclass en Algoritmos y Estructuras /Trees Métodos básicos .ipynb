{
 "cells": [
  {
   "cell_type": "markdown",
   "id": "db2139b2",
   "metadata": {},
   "source": [
    "# Trees: Métodos básicos\n",
    "\n",
    "Implementar un tree (árbol) en Python requiere definir una estructura para los nodos del árbol y luego construir el árbol en sí. Vamos a implementar un árbol binario simple, donde cada nodo tiene un valor, un hijo izquierdo y un hijo derecho. Aquí está el código con los métodos básicos:\n",
    "\n",
    "1. **Definición de la Clase Nodo**"
   ]
  },
  {
   "cell_type": "code",
   "execution_count": null,
   "id": "57dfbca1",
   "metadata": {},
   "outputs": [],
   "source": [
    "class TreeNode:\n",
    "    def __init__(self, data):\n",
    "        self.data = data\n",
    "        self.left = None\n",
    "        self.right = None\n"
   ]
  },
  {
   "cell_type": "markdown",
   "id": "8fc2150c",
   "metadata": {},
   "source": [
    "1. **Definición de la Clase Árbol Binario**"
   ]
  },
  {
   "cell_type": "code",
   "execution_count": null,
   "id": "acaea20a",
   "metadata": {},
   "outputs": [],
   "source": [
    "class BinaryTree:\n",
    "    def __init__(self, root_data):\n",
    "        self.root = TreeNode(root_data)\n",
    "\n",
    "    def insert_left(self, current_node, new_data):\n",
    "        \"\"\" Inserta un nodo a la izquierda del nodo actual. \"\"\"\n",
    "        if current_node.left is None:\n",
    "            current_node.left = TreeNode(new_data)\n",
    "        else:\n",
    "            new_node = TreeNode(new_data)\n",
    "            new_node.left = current_node.left\n",
    "            current_node.left = new_node\n",
    "\n",
    "    def insert_right(self, current_node, new_data):\n",
    "        \"\"\" Inserta un nodo a la derecha del nodo actual. \"\"\"\n",
    "        if current_node.right is None:\n",
    "            current_node.right = TreeNode(new_data)\n",
    "        else:\n",
    "            new_node = TreeNode(new_data)\n",
    "            new_node.right = current_node.right\n",
    "            current_node.right = new_node\n",
    "\n",
    "    def in_order_traversal(self, node, result=None):\n",
    "        \"\"\" Recorrido en orden (izquierda, raíz, derecha). \"\"\"\n",
    "        if result is None:\n",
    "            result = []\n",
    "        if node:\n",
    "            self.in_order_traversal(node.left, result)\n",
    "            result.append(node.data)\n",
    "            self.in_order_traversal(node.right, result)\n",
    "        return result\n",
    "\n",
    "    def pre_order_traversal(self, node, result=None):\n",
    "        \"\"\" Recorrido en preorden (raíz, izquierda, derecha). \"\"\"\n",
    "        if result is None:\n",
    "            result = []\n",
    "        if node:\n",
    "            result.append(node.data)\n",
    "            self.pre_order_traversal(node.left, result)\n",
    "            self.pre_order_traversal(node.right, result)\n",
    "        return result\n",
    "\n",
    "    def post_order_traversal(self, node, result=None):\n",
    "        \"\"\" Recorrido en postorden (izquierda, derecha, raíz). \"\"\"\n",
    "        if result is None:\n",
    "            result = []\n",
    "        if node:\n",
    "            self.post_order_traversal(node.left, result)\n",
    "            self.post_order_traversal(node.right, result)\n",
    "            result.append(node.data)\n",
    "        return result\n"
   ]
  },
  {
   "cell_type": "markdown",
   "id": "40dc9a3d",
   "metadata": {},
   "source": [
    "1. **Uso del Árbol Binario**"
   ]
  },
  {
   "cell_type": "code",
   "execution_count": null,
   "id": "c38da4f4",
   "metadata": {},
   "outputs": [],
   "source": [
    "# Creando el árbol binario y añadiendo elementos\n",
    "bt = BinaryTree(\"A\")\n",
    "bt.insert_left(bt.root, \"B\")\n",
    "bt.insert_right(bt.root, \"C\")\n",
    "bt.insert_left(bt.root.left, \"D\")\n",
    "bt.insert_right(bt.root.left, \"E\")\n",
    "\n",
    "# Recorridos del árbol\n",
    "print(\"In-order Traversal:\", bt.in_order_traversal(bt.root))\n",
    "print(\"Pre-order Traversal:\", bt.pre_order_traversal(bt.root))\n",
    "print(\"Post-order Traversal:\", bt.post_order_traversal(bt.root))\n"
   ]
  },
  {
   "cell_type": "markdown",
   "id": "dd06f000",
   "metadata": {},
   "source": [
    "Este código define un árbol binario simple con métodos para insertar nodos y realizar recorridos en orden, preorden y postorden. Puedes expandir esta implementación para incluir más funcionalidades como eliminación de nodos, búsqueda, etc., según tus necesidades."
   ]
  }
 ],
 "metadata": {},
 "nbformat": 4,
 "nbformat_minor": 5
}
