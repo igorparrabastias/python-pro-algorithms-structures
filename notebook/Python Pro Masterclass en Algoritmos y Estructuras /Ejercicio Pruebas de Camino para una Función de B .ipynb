{
 "cells": [
  {
   "cell_type": "markdown",
   "id": "01d4f3d1",
   "metadata": {},
   "source": [
    "# Ejercicio: Pruebas de Camino para una Función de Búsqueda\n",
    "\n",
    "1. **Pruebas de Camino para una Función de Búsqueda**: Considera una función de búsqueda que acepta una cadena de texto como entrada y devuelve resultados relevantes. Diseña casos de prueba para verificar todos los caminos posibles a través del código, incluyendo entradas vacías, cadenas largas, y cadenas que no coinciden con ningún resultado.\n",
    "\n",
    "![Ejercicio%20Pruebas%20de%20Camino%20para%20una%20Funcio%CC%81n%20de%20B%20c4820dc6367943e0a6dc755f461c165e/Untitled.png](Ejercicio%20Pruebas%20de%20Camino%20para%20una%20Funcio%CC%81n%20de%20B%20c4820dc6367943e0a6dc755f461c165e/Untitled.png)"
   ]
  }
 ],
 "metadata": {},
 "nbformat": 4,
 "nbformat_minor": 5
}
