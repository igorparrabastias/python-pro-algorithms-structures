{
 "cells": [
  {
   "cell_type": "markdown",
   "id": "67984e66",
   "metadata": {},
   "source": [
    "# Stacks (Pilas)\n",
    "\n",
    "Una pila (stack) es una estructura de datos que sigue el principio de \"último en entrar, primero en salir\" (LIFO, Last In First Out). En Python, puedes implementar una pila utilizando listas, ya que estas proporcionan métodos para simular el comportamiento de una pila. A continuación, te muestro cómo implementar una pila con sus operaciones básicas:\n",
    "\n",
    "1. **Definición de la Clase Pila**"
   ]
  },
  {
   "cell_type": "code",
   "execution_count": null,
   "id": "c5b78035",
   "metadata": {},
   "outputs": [],
   "source": [
    "class Stack:\n",
    "    def __init__(self):\n",
    "        self.items = []\n",
    "\n",
    "    def is_empty(self):\n",
    "        \"\"\" Verifica si la pila está vacía. \"\"\"\n",
    "        return len(self.items) == 0\n",
    "\n",
    "    def push(self, item):\n",
    "        \"\"\" Agrega un elemento al tope de la pila. \"\"\"\n",
    "        self.items.append(item)\n",
    "\n",
    "    def pop(self):\n",
    "        \"\"\" Remueve y retorna el elemento del tope de la pila. \"\"\"\n",
    "        if not self.is_empty():\n",
    "            return self.items.pop()\n",
    "        return None\n",
    "\n",
    "    def peek(self):\n",
    "        \"\"\" Retorna el elemento del tope sin removerlo. \"\"\"\n",
    "        if not self.is_empty():\n",
    "            return self.items[-1]\n",
    "        return None\n",
    "\n",
    "    def size(self):\n",
    "        \"\"\" Retorna el tamaño de la pila. \"\"\"\n",
    "        return len(self.items)\n",
    "\n",
    "    def print_stack(self):\n",
    "        \"\"\" Imprime los elementos de la pila. \"\"\"\n",
    "        for item in reversed(self.items):\n",
    "            print(item)"
   ]
  },
  {
   "cell_type": "markdown",
   "id": "eb9faf7c",
   "metadata": {},
   "source": [
    "1. **Uso de la Pila**"
   ]
  },
  {
   "cell_type": "code",
   "execution_count": null,
   "id": "736fceb4",
   "metadata": {},
   "outputs": [],
   "source": [
    "# Creando una pila\n",
    "stack = Stack()\n",
    "\n",
    "# Agregando elementos\n",
    "stack.push(\"Apple\")\n",
    "stack.push(\"Banana\")\n",
    "stack.push(\"Cherry\")\n",
    "\n",
    "# Imprimiendo la pila\n",
    "stack.print_stack()\n",
    "\n",
    "# Verificando el elemento superior\n",
    "print(\"Top item:\", stack.peek())\n",
    "\n",
    "# Removiendo elementos\n",
    "print(\"Popped:\", stack.pop())\n",
    "print(\"Popped:\", stack.pop())\n",
    "\n",
    "# Imprimiendo la pila después de las eliminaciones\n",
    "stack.print_stack()\n"
   ]
  },
  {
   "cell_type": "markdown",
   "id": "6838640c",
   "metadata": {},
   "source": [
    "En este código, `push` agrega un elemento al final de la lista (el tope de la pila), `pop` elimina el último elemento y lo devuelve, `peek` devuelve el último elemento sin removerlo, y `is_empty` verifica si la pila está vacía. `print_stack` es un método auxiliar para visualizar los elementos de la pila. Esta es una manera sencilla y efectiva de implementar una pila en Python aprovechando las características de las listas."
   ]
  }
 ],
 "metadata": {},
 "nbformat": 4,
 "nbformat_minor": 5
}
