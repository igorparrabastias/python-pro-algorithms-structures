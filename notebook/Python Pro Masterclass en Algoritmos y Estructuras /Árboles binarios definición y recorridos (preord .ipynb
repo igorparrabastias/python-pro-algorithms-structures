{
 "cells": [
  {
   "cell_type": "markdown",
   "id": "0d400b27",
   "metadata": {},
   "source": [
    "# Árboles binarios: definición y recorridos (preorden, inorden, postorden).\n",
    "\n",
    "### Introducción:\n",
    "\n",
    "Los árboles binarios son una estructura de datos fundamental en la informática, utilizados en diversas aplicaciones como bases de datos, gráficos, algoritmos de búsqueda y más. Un árbol binario es un árbol en el que cada nodo tiene como máximo dos hijos, conocidos como hijo izquierdo y derecho. En esta clase, exploraremos la definición de árboles binarios y los tres tipos principales de recorridos: preorden, inorden y postorden.\n",
    "\n",
    "### Definición de Árboles Binarios:\n",
    "\n",
    "Un árbol binario es una estructura de datos jerárquica que consiste en nodos conectados. Las características clave de un árbol binario son:\n",
    "\n",
    "- Cada nodo tiene cero, uno o dos hijos.\n",
    "- Los hijos se denominan hijo izquierdo y hijo derecho.\n",
    "- No puede haber ciclos dentro de un árbol binario; es decir, solo puede ser un árbol dirigido.\n",
    "\n",
    "### Implementación Básica de un Árbol Binario:"
   ]
  },
  {
   "cell_type": "code",
   "execution_count": null,
   "id": "ea1b99a9",
   "metadata": {},
   "outputs": [],
   "source": [
    "class Node:\n",
    "    def __init__(self, key):\n",
    "        self.left = None\n",
    "        self.right = None\n",
    "        self.value = key\n"
   ]
  },
  {
   "cell_type": "markdown",
   "id": "e50f36e6",
   "metadata": {},
   "source": [
    "### Recorridos de Árboles Binarios:\n",
    "\n",
    "### 1. Preorden (Root, Left, Right):\n",
    "\n",
    "- Visita primero la raíz, luego recorre el subárbol izquierdo en preorden y finalmente el subárbol derecho.\n",
    "- Aplicación: Copia de árboles, expresiones de prefijo en compiladores."
   ]
  },
  {
   "cell_type": "code",
   "execution_count": null,
   "id": "e7f1ad18",
   "metadata": {},
   "outputs": [],
   "source": [
    "def preorder_traversal(root):\n",
    "    if root:\n",
    "        print(root.value, end=' ')\n",
    "        preorder_traversal(root.left)\n",
    "        preorder_traversal(root.right)\n"
   ]
  },
  {
   "cell_type": "markdown",
   "id": "8ead52ba",
   "metadata": {},
   "source": [
    "### 2. Inorden (Left, Root, Right):\n",
    "\n",
    "- Recorre primero el subárbol izquierdo en inorden, luego visita la raíz y finalmente el subárbol derecho.\n",
    "- Aplicación: Obtener los elementos de un árbol binario de búsqueda en orden ascendente."
   ]
  },
  {
   "cell_type": "code",
   "execution_count": null,
   "id": "cfc148a5",
   "metadata": {},
   "outputs": [],
   "source": [
    "def inorder_traversal(root):\n",
    "    if root:\n",
    "        inorder_traversal(root.left)\n",
    "        print(root.value, end=' ')\n",
    "        inorder_traversal(root.right)\n"
   ]
  },
  {
   "cell_type": "markdown",
   "id": "97d92bd3",
   "metadata": {},
   "source": [
    "### 3. Postorden (Left, Right, Root):\n",
    "\n",
    "- Recorre primero el subárbol izquierdo en postorden, luego el subárbol derecho y finalmente visita la raíz.\n",
    "- Aplicación: Eliminación de árboles, expresiones de postfijo en compiladores."
   ]
  },
  {
   "cell_type": "code",
   "execution_count": null,
   "id": "6a5a5406",
   "metadata": {},
   "outputs": [],
   "source": [
    "def postorder_traversal(root):\n",
    "    if root:\n",
    "        postorder_traversal(root.left)\n",
    "        postorder_traversal(root.right)\n",
    "        print(root.value, end=' ')\n"
   ]
  },
  {
   "cell_type": "markdown",
   "id": "6ee65b2e",
   "metadata": {},
   "source": [
    "### Conclusión:\n",
    "\n",
    "Los recorridos de árboles binarios son una técnica fundamental en la informática, cada uno con aplicaciones específicas dependiendo de la tarea requerida. Comprender cómo implementar y utilizar estos recorridos es esencial para la manipulación eficiente de estructuras de datos basadas en árboles.\n",
    "\n",
    "### Ejercicios\n",
    "\n",
    "**Ejercicio 1: Implementación de un Árbol Binario y Recorrido en Preorden**\n",
    "\n",
    "- **Objetivo**: Implementa un árbol binario y realiza un recorrido en preorden.\n",
    "- **Solución**:"
   ]
  },
  {
   "cell_type": "code",
   "execution_count": null,
   "id": "f8377bd3",
   "metadata": {},
   "outputs": [],
   "source": [
    "```python\n",
    "class Node:\n",
    "    def __init__(self, value):\n",
    "        self.left = None\n",
    "        self.right = None\n",
    "        self.value = value\n",
    "\n",
    "def preorder_traversal(node):\n",
    "    if node:\n",
    "        print(node.value, end=' ')\n",
    "        preorder_traversal(node.left)\n",
    "        preorder_traversal(node.right)\n",
    "\n",
    "# Creación del árbol\n",
    "root = Node(1)\n",
    "root.left = Node(2)\n",
    "root.right = Node(3)\n",
    "root.left.left = Node(4)\n",
    "root.left.right = Node(5)\n",
    "\n",
    "# Recorrido en preorden\n",
    "print(\"Recorrido en Preorden:\")\n",
    "preorder_traversal(root)\n",
    "\n",
    "```\n"
   ]
  },
  {
   "cell_type": "markdown",
   "id": "338fdd8f",
   "metadata": {},
   "source": [
    "**Ejercicio 2: Recorrido Inorden en un Árbol Binario**\n",
    "\n",
    "- **Objetivo**: Realiza un recorrido inorden en el árbol binario creado anteriormente.\n",
    "- **Solución**:"
   ]
  },
  {
   "cell_type": "code",
   "execution_count": null,
   "id": "2541f94b",
   "metadata": {},
   "outputs": [],
   "source": [
    "```python\n",
    "def inorder_traversal(node):\n",
    "    if node:\n",
    "        inorder_traversal(node.left)\n",
    "        print(node.value, end=' ')\n",
    "        inorder_traversal(node.right)\n",
    "\n",
    "# Recorrido inorden\n",
    "print(\"\\\\nRecorrido Inorden:\")\n",
    "inorder_traversal(root)\n",
    "\n",
    "```\n"
   ]
  },
  {
   "cell_type": "markdown",
   "id": "4e80ec86",
   "metadata": {},
   "source": [
    "**Ejercicio 3: Recorrido Postorden en un Árbol Binario**\n",
    "\n",
    "- **Objetivo**: Realiza un recorrido postorden en el mismo árbol binario.\n",
    "- **Solución**:"
   ]
  },
  {
   "cell_type": "code",
   "execution_count": null,
   "id": "5fd516d3",
   "metadata": {},
   "outputs": [],
   "source": [
    "```python\n",
    "def postorder_traversal(node):\n",
    "    if node:\n",
    "        postorder_traversal(node.left)\n",
    "        postorder_traversal(node.right)\n",
    "        print(node.value, end=' ')\n",
    "\n",
    "# Recorrido postorden\n",
    "print(\"\\\\nRecorrido Postorden:\")\n",
    "postorder_traversal(root)\n",
    "\n",
    "```\n"
   ]
  },
  {
   "cell_type": "markdown",
   "id": "0d11849c",
   "metadata": {},
   "source": [
    "**Ejercicio 4: Árbol Binario de Búsqueda (BST)**\n",
    "\n",
    "- **Objetivo**: Implementa un Árbol Binario de Búsqueda (BST) y agrega algunos nodos.\n",
    "- **Solución**:"
   ]
  },
  {
   "cell_type": "code",
   "execution_count": null,
   "id": "8e9a67af",
   "metadata": {},
   "outputs": [],
   "source": [
    "```python\n",
    "class BSTNode:\n",
    "    def __init__(self, key):\n",
    "        self.left = None\n",
    "        self.right = None\n",
    "        self.val = key\n",
    "\n",
    "def insert(root, key):\n",
    "    if root is None:\n",
    "        return BSTNode(key)\n",
    "    else:\n",
    "        if root.val < key:\n",
    "            root.right = insert(root.right, key)\n",
    "        else:\n",
    "            root.left = insert(root.left, key)\n",
    "    return root\n",
    "\n",
    "# Creación de un BST y adición de nodos\n",
    "r = BSTNode(50)\n",
    "r = insert(r, 30)\n",
    "r = insert(r, 20)\n",
    "r = insert(r, 40)\n",
    "r = insert(r, 70)\n",
    "r = insert(r, 60)\n",
    "r = insert(r, 80)\n",
    "\n",
    "# Realizar un recorrido inorden para verificar\n",
    "inorder_traversal(r)\n",
    "\n",
    "```\n"
   ]
  },
  {
   "cell_type": "markdown",
   "id": "d38b4cc8",
   "metadata": {},
   "source": [
    "Estos ejercicios abarcan la implementación y recorridos básicos de un árbol binario y un árbol binario de búsqueda, proporcionando una comprensión práctica de estas estructuras de datos fundamentales."
   ]
  }
 ],
 "metadata": {},
 "nbformat": 4,
 "nbformat_minor": 5
}
