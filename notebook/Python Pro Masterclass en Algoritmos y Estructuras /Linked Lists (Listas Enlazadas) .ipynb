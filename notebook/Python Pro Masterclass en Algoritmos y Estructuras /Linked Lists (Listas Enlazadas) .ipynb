{
 "cells": [
  {
   "cell_type": "markdown",
   "id": "ce5d2ce4",
   "metadata": {},
   "source": [
    "# Linked Lists (Listas Enlazadas)\n",
    "\n",
    "Implementar una lista enlazada en Python es un excelente ejercicio para comprender mejor las estructuras de datos. Vamos a crear una lista enlazada simple, donde cada nodo tiene un valor y una referencia al siguiente nodo. Aquí está el código con los métodos básicos:\n",
    "\n",
    "1. **Definición de la Clase Nodo**"
   ]
  },
  {
   "cell_type": "code",
   "execution_count": null,
   "id": "073fab91",
   "metadata": {},
   "outputs": [],
   "source": [
    "class Node:\n",
    "    def __init__(self, data):\n",
    "        self.data = data\n",
    "        self.next = None"
   ]
  },
  {
   "cell_type": "markdown",
   "id": "874484f2",
   "metadata": {},
   "source": [
    "1. **Definición de la Clase Lista Enlazada**"
   ]
  },
  {
   "cell_type": "code",
   "execution_count": null,
   "id": "20eabc1b",
   "metadata": {},
   "outputs": [],
   "source": [
    "class LinkedList:\n",
    "    def __init__(self):\n",
    "        self.head = None\n",
    "\n",
    "    def append(self, data):\n",
    "        \"\"\" Agrega un nuevo nodo al final de la lista. \"\"\"\n",
    "        new_node = Node(data)\n",
    "        if self.head is None:\n",
    "            self.head = new_node\n",
    "            return\n",
    "        last_node = self.head\n",
    "        while last_node.next:\n",
    "            last_node = last_node.next\n",
    "        last_node.next = new_node\n",
    "\n",
    "    def prepend(self, data):\n",
    "        \"\"\" Agrega un nuevo nodo al inicio de la lista. \"\"\"\n",
    "        new_node = Node(data)\n",
    "        new_node.next = self.head\n",
    "        self.head = new_node\n",
    "\n",
    "    def insert_after_node(self, prev_node, data):\n",
    "        \"\"\" Inserta un nuevo nodo después de un nodo dado. \"\"\"\n",
    "        if not prev_node:\n",
    "            print(\"Previous node is not in the list\")\n",
    "            return\n",
    "        new_node = Node(data)\n",
    "        new_node.next = prev_node.next\n",
    "        prev_node.next = new_node\n",
    "\n",
    "    def delete_node(self, key):\n",
    "        \"\"\" Elimina el nodo con el valor 'key'. \"\"\"\n",
    "        curr_node = self.head\n",
    "\n",
    "        if curr_node and curr_node.data == key:\n",
    "            self.head = curr_node.next\n",
    "            curr_node = None\n",
    "            return\n",
    "\n",
    "        prev = None\n",
    "        while curr_node and curr_node.data != key:\n",
    "            prev = curr_node\n",
    "            curr_node = curr_node.next\n",
    "\n",
    "        if curr_node is None:\n",
    "            return\n",
    "\n",
    "        prev.next = curr_node.next\n",
    "        curr_node = None\n",
    "\n",
    "    def print_list(self):\n",
    "        \"\"\" Imprime todos los elementos de la lista. \"\"\"\n",
    "        curr_node = self.head\n",
    "        while curr_node:\n",
    "            print(curr_node.data, end=\" -> \")\n",
    "            curr_node = curr_node.next\n",
    "        print(\"None\")"
   ]
  },
  {
   "cell_type": "markdown",
   "id": "dd02b915",
   "metadata": {},
   "source": [
    "1. **Uso de la Lista Enlazada**"
   ]
  },
  {
   "cell_type": "code",
   "execution_count": null,
   "id": "557a43ac",
   "metadata": {},
   "outputs": [],
   "source": [
    "# Creando la lista enlazada y añadiendo elementos\n",
    "llist = LinkedList()\n",
    "llist.append(\"A\")\n",
    "llist.append(\"B\")\n",
    "llist.prepend(\"0\")\n",
    "llist.insert_after_node(llist.head.next, \"C\")\n",
    "\n",
    "# Eliminando un elemento\n",
    "llist.delete_node(\"B\")\n",
    "\n",
    "# Imprimiendo la lista\n",
    "llist.print_list()\n"
   ]
  },
  {
   "cell_type": "markdown",
   "id": "26e89f4f",
   "metadata": {},
   "source": [
    "Este código define una lista enlazada simple con métodos para agregar, insertar y eliminar nodos, así como para imprimir la lista. Puedes expandir esta implementación para incluir más funcionalidades según tus necesidades."
   ]
  }
 ],
 "metadata": {},
 "nbformat": 4,
 "nbformat_minor": 5
}
