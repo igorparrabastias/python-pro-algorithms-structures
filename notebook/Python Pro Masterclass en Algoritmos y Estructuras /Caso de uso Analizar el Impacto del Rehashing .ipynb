{
 "cells": [
  {
   "cell_type": "markdown",
   "id": "213cee30",
   "metadata": {},
   "source": [
    "# Caso de uso: Analizar el Impacto del Rehashing\n",
    "\n",
    "### Objetivo:\n",
    "\n",
    "Demostrar cómo el rehashing mejora el rendimiento de una tabla hash.\n",
    "\n",
    "### Solución:"
   ]
  },
  {
   "cell_type": "code",
   "execution_count": null,
   "id": "f852af52",
   "metadata": {},
   "outputs": [],
   "source": [
    "class RehashingHashTable(LinearProbingHashTable):\n",
    "    def __init__(self, size):\n",
    "        super().__init__(size)\n",
    "        self.count = 0\n",
    "\n",
    "    def rehash(self):\n",
    "        old_table = self.table\n",
    "        self.size *= 2\n",
    "        self.table = [None] * self.size\n",
    "        self.count = 0\n",
    "\n",
    "        for item in old_table:\n",
    "            if item is not None:\n",
    "                self.insert(*item)\n",
    "\n",
    "    def insert(self, key, value):\n",
    "        if self.count / self.size > 0.7:  # Factor de carga > 0.7\n",
    "            self.rehash()\n",
    "        super().insert(key, value)\n",
    "        self.count += 1\n",
    "\n",
    "# Prueba de la tabla hash con rehashing\n",
    "rehash_table = RehashingHashTable(5)\n",
    "for i in range(8):\n",
    "    rehash_table.insert(f\"clave{i}\", f\"valor{i}\")\n",
    "\n",
    "print(f\"Tamaño después del rehashing: {rehash_table.size}\")\n",
    "for i in range(8):\n",
    "    print(rehash_table.get(f\"clave{i}\"))"
   ]
  },
  {
   "cell_type": "markdown",
   "id": "7dea5cc2",
   "metadata": {},
   "source": [
    "### Análisis:\n",
    "\n",
    "- Inicialmente, la tabla hash tiene un tamaño pequeño.\n",
    "- A medida que insertamos elementos y el factor de carga supera un umbral (por ejemplo, 0.7), se realiza el rehashing, duplicando el tamaño de la tabla.\n",
    "- Esto reduce la probabilidad de colisiones y mejora el rendimiento general de la tabla hash."
   ]
  }
 ],
 "metadata": {},
 "nbformat": 4,
 "nbformat_minor": 5
}
