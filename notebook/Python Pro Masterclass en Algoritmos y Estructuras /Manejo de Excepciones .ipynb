{
 "cells": [
  {
   "cell_type": "markdown",
   "id": "3296f0ce",
   "metadata": {},
   "source": [
    "# Manejo de Excepciones\n",
    "\n",
    "### Introducción:\n",
    "\n",
    "El manejo de excepciones es una parte esencial de la programación en Python, especialmente en aplicaciones complejas y robustas. Permite a los desarrolladores anticiparse a errores y fallos, controlando el flujo del programa de manera segura y eficiente. En esta clase, exploraremos cómo utilizar los bloques `try`, `except`, y `finally` para manejar adecuadamente las excepciones.\n",
    "\n",
    "### Uso de Bloques `try`, `except`, `finally`:\n",
    "\n",
    "- **Bloque `try`**:\n",
    "    - Se utiliza para envolver el código que podría generar una excepción.\n",
    "    - Ejemplo:"
   ]
  },
  {
   "cell_type": "code",
   "execution_count": null,
   "id": "2852e1c4",
   "metadata": {},
   "outputs": [],
   "source": [
    "```python\n",
    "try:\n",
    "    resultado = 10 / 0\n",
    "except ZeroDivisionError:\n",
    "    print(\"No se puede dividir por cero.\")\n",
    "\n",
    "```"
   ]
  },
  {
   "cell_type": "markdown",
   "id": "48254919",
   "metadata": {},
   "source": [
    "- **Captura de Excepciones Específicas (`except`)**:\n",
    "    - Se pueden capturar tipos específicos de excepciones para manejar diferentes errores de manera adecuada.\n",
    "    - Ejemplo de captura de múltiples excepciones:"
   ]
  },
  {
   "cell_type": "code",
   "execution_count": null,
   "id": "0eeee720",
   "metadata": {},
   "outputs": [],
   "source": [
    "```python\n",
    "try:\n",
    "    # Código que puede generar excepciones\n",
    "except TypeError:\n",
    "    # Manejo de TypeError\n",
    "except ValueError:\n",
    "    # Manejo de ValueError\n",
    "\n",
    "```"
   ]
  },
  {
   "cell_type": "markdown",
   "id": "e153bbc5",
   "metadata": {},
   "source": [
    "- **Bloque `finally`**:\n",
    "    - Este bloque se ejecuta siempre, independientemente de si se ha generado una excepción o no.\n",
    "    - Es útil para liberar recursos externos, como cerrar archivos o conexiones a bases de datos.\n",
    "    - Ejemplo:"
   ]
  },
  {
   "cell_type": "code",
   "execution_count": null,
   "id": "3f51f2a4",
   "metadata": {},
   "outputs": [],
   "source": [
    "```python\n",
    "try:\n",
    "    # Código que puede generar excepciones\n",
    "finally:\n",
    "    # Código que se ejecuta siempre\n",
    "\n",
    "```"
   ]
  },
  {
   "cell_type": "markdown",
   "id": "cf43126c",
   "metadata": {},
   "source": [
    "- **Uso de `else` en Manejo de Excepciones**:\n",
    "    - El bloque `else` se ejecuta si no se ha lanzado ninguna excepción en el bloque `try`.\n",
    "    - Permite separar claramente el código que podría generar una excepción del código que se ejecuta solo si todo salió bien.\n",
    "    - Ejemplo:"
   ]
  },
  {
   "cell_type": "code",
   "execution_count": null,
   "id": "254f85b3",
   "metadata": {},
   "outputs": [],
   "source": [
    "```python\n",
    "try:\n",
    "    # Código que puede generar excepciones\n",
    "except Exception as e:\n",
    "    # Manejo de la excepción\n",
    "else:\n",
    "    # Código que se ejecuta si no hay excepción\n",
    "finally:\n",
    "    # Código que se ejecuta siempre\n",
    "\n",
    "```\n"
   ]
  },
  {
   "cell_type": "markdown",
   "id": "f3a09fc1",
   "metadata": {},
   "source": [
    "### Ejercicios:\n",
    "\n",
    "1. **Manejo de Excepciones en Conversión de Tipos**: Escribe un bloque que intente convertir una entrada a entero y maneje la excepción `ValueError`.\n",
    "2. **Excepciones Personalizadas**: Crea una excepción personalizada y úsala en un contexto práctico.\n",
    "3. **Uso Combinado de `try`, `except`, `else`, `finally`**: Implementa un ejemplo que utilice todos estos bloques de manera coherente.\n",
    "\n",
    "### Conclusión:\n",
    "\n",
    "El manejo eficiente de excepciones es crucial para construir aplicaciones robustas y resistentes a errores. Aprender a utilizar los bloques `try`, `except`, y `finally` ayuda a prevenir fallos imprevistos y mejora la confiabilidad del código. En la próxima clase, exploraremos el uso de `with` para el manejo eficiente de recursos.\n",
    "\n",
    "### Soluciones:\n",
    "\n",
    "1. **Manejo de Excepciones en Conversión de Tipos**:"
   ]
  },
  {
   "cell_type": "code",
   "execution_count": null,
   "id": "f688e595",
   "metadata": {},
   "outputs": [],
   "source": [
    "```python\n",
    "entrada = input(\"Introduce un número: \")\n",
    "try:\n",
    "    numero = int(entrada)\n",
    "    print(f\"Número válido: {numero}\")\n",
    "except ValueError:\n",
    "    print(\"La entrada no es un número válido.\")\n",
    "\n",
    "```"
   ]
  },
  {
   "cell_type": "markdown",
   "id": "c1d98fec",
   "metadata": {},
   "source": [
    "2. **Excepciones Personalizadas**:"
   ]
  },
  {
   "cell_type": "code",
   "execution_count": null,
   "id": "381826ed",
   "metadata": {},
   "outputs": [],
   "source": [
    "```python\n",
    "class ErrorDeRango(Exception):\n",
    "    pass\n",
    "\n",
    "def verificar_rango(numero):\n",
    "    if numero < 1 or numero > 10:\n",
    "        raise ErrorDeRango(\"El número está fuera del rango permitido.\")\n",
    "    return f\"Número {numero} es válido.\"\n",
    "\n",
    "try:\n",
    "    resultado = verificar_rango(15)\n",
    "    print(resultado)\n",
    "except ErrorDeRango as e:\n",
    "    print(e)\n",
    "\n",
    "```"
   ]
  },
  {
   "cell_type": "markdown",
   "id": "1c985ad9",
   "metadata": {},
   "source": [
    "3. **Uso Combinado de `try`, `except`, `else`, `finally`**:\n",
    "    \n",
    "    ```python\n",
    "    try:\n",
    "        numero = int(input(\"Introduce un número: \"))\n",
    "    except ValueError:\n",
    "        print(\"No es un número válido.\")\n",
    "    else:\n",
    "        print(f\"Has introducido el número {numero}.\")\n",
    "    finally:\n",
    "        print(\"Bloque finally ejecutado.\")\n",
    "    \n",
    "    ```"
   ]
  }
 ],
 "metadata": {},
 "nbformat": 4,
 "nbformat_minor": 5
}
