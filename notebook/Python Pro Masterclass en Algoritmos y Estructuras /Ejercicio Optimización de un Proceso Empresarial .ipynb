{
 "cells": [
  {
   "cell_type": "markdown",
   "id": "e9e61a46",
   "metadata": {},
   "source": [
    "# Ejercicio: Optimización de un Proceso Empresarial\n",
    "\n",
    "- Gestión de Inventarios: Análisis del flujo actual de inventarios, identificación de cuellos de botella, implementación de un sistema de gestión de inventarios automatizado.\n",
    "- Proceso de Ventas: Mapeo del proceso de ventas actual, identificación de etapas redundantes, introducción de un CRM para mejorar la gestión de relaciones con clientes.\n",
    "\n",
    "![Ejercicio%20Optimizacio%CC%81n%20de%20un%20Proceso%20Empresarial%2014b534ddc32a4e85b930333d3136d2b3/Untitled.png](Ejercicio%20Optimizacio%CC%81n%20de%20un%20Proceso%20Empresarial%2014b534ddc32a4e85b930333d3136d2b3/Untitled.png)"
   ]
  }
 ],
 "metadata": {},
 "nbformat": 4,
 "nbformat_minor": 5
}
