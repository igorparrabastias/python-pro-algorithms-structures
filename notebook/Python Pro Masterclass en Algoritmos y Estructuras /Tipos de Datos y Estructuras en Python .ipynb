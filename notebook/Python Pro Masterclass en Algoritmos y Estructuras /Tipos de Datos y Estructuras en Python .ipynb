{
 "cells": [
  {
   "cell_type": "markdown",
   "id": "c7f2f6c7",
   "metadata": {},
   "source": [
    "# Tipos de Datos y Estructuras en Python\n",
    "\n",
    "Python ofrece una variedad de tipos de datos y estructuras incorporadas que permiten almacenar y manipular datos de manera eficiente. Comprender estas estructuras es fundamental para el desarrollo de algoritmos y programas efectivos. Aquí te explico cada una de ellas:\n",
    "\n",
    "### Listas\n",
    "\n",
    "- **Listas**: Colecciones ordenadas y modificables que permiten almacenar elementos duplicados. Son muy versátiles y se utilizan para almacenar secuencias de datos."
   ]
  },
  {
   "cell_type": "code",
   "execution_count": null,
   "id": "d62571b2",
   "metadata": {},
   "outputs": [],
   "source": [
    "```python\n",
    "lista = [1, 2, 3, \"cuatro\", \"cinco\"]\n",
    "lista.append(6)  # Añade un elemento al final\n",
    "print(lista)  # [1, 2, 3, 'cuatro', 'cinco', 6]\n",
    "\n",
    "```\n"
   ]
  },
  {
   "cell_type": "markdown",
   "id": "d869607e",
   "metadata": {},
   "source": [
    "### Diccionarios\n",
    "\n",
    "- **Diccionarios**: Estructuras de datos que almacenan pares de clave-valor. Las claves deben ser únicas dentro de un mismo diccionario y permiten acceder rápidamente a los valores asociados."
   ]
  },
  {
   "cell_type": "code",
   "execution_count": null,
   "id": "2df79da2",
   "metadata": {},
   "outputs": [],
   "source": [
    "```python\n",
    "diccionario = {\"nombre\": \"Juan\", \"edad\": 30}\n",
    "diccionario[\"pais\"] = \"Chile\"  # Añade un nuevo par clave-valor\n",
    "print(diccionario)  # {'nombre': 'Juan', 'edad': 30, 'pais': 'Chile'}\n",
    "\n",
    "```\n"
   ]
  },
  {
   "cell_type": "markdown",
   "id": "3301d345",
   "metadata": {},
   "source": [
    "### Conjuntos\n",
    "\n",
    "- **Conjuntos (Sets)**: Colecciones no ordenadas de elementos únicos. Son ideales para realizar operaciones matemáticas de conjuntos, como uniones, intersecciones y diferencias."
   ]
  },
  {
   "cell_type": "code",
   "execution_count": null,
   "id": "0a1a847c",
   "metadata": {},
   "outputs": [],
   "source": [
    "```python\n",
    "conjunto = {1, 2, 3, 4, 5}\n",
    "otro_conjunto = {4, 5, 6, 7}\n",
    "print(conjunto.union(otro_conjunto))  # {1, 2, 3, 4, 5, 6, 7}\n",
    "\n",
    "```\n"
   ]
  },
  {
   "cell_type": "markdown",
   "id": "1bd7b775",
   "metadata": {},
   "source": [
    "### Tuplas\n",
    "\n",
    "- **Tuplas**: Colecciones ordenadas e inmutables. A diferencia de las listas, una vez creadas, no se pueden modificar, lo que las hace útiles para asegurar que los datos no cambien a lo largo del programa."
   ]
  },
  {
   "cell_type": "code",
   "execution_count": null,
   "id": "c04e8d9b",
   "metadata": {},
   "outputs": [],
   "source": [
    "```python\n",
    "tupla = (1, 2, 3, \"cuatro\")\n",
    "print(tupla[2])  # 3\n",
    "\n",
    "```\n"
   ]
  },
  {
   "cell_type": "markdown",
   "id": "d7dc2b80",
   "metadata": {},
   "source": [
    "### Características Importantes y Usos\n",
    "\n",
    "- **Listas y Tuplas**: Ambas son ideales para almacenar colecciones de elementos, pero se prefieren las tuplas cuando los datos no deben modificarse.\n",
    "- **Diccionarios**: Son extremadamente útiles para almacenar y acceder a datos asociativos donde cada valor está vinculado a una clave única.\n",
    "- **Conjuntos**: Son útiles para la manipulación de grupos de elementos, especialmente para realizar operaciones de conjuntos y eliminar duplicados de una secuencia.\n",
    "\n",
    "Cada una de estas estructuras tiene métodos y operaciones específicas que permiten una manipulación eficiente de los datos. La elección entre ellas depende de la tarea específica que estés realizando, como la necesidad de preservar el orden de los elementos, la rapidez de acceso a los datos, o la inmutabilidad de los datos almacenados. Familiarizarte con estas estructuras y sus operaciones te permitirá implementar algoritmos de manera más eficiente y efectiva."
   ]
  }
 ],
 "metadata": {},
 "nbformat": 4,
 "nbformat_minor": 5
}
