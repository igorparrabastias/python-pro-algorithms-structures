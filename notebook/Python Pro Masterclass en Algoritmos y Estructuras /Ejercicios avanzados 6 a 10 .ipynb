{
 "cells": [
  {
   "cell_type": "markdown",
   "id": "e9e269c4",
   "metadata": {},
   "source": [
    "# Ejercicios avanzados 6 a 10\n",
    "\n",
    "### Ejercicio 6: Extraer Números de una Cadena\n",
    "\n",
    "Dada una cadena que contiene números y letras, extrae todos los números y colócalos en una lista."
   ]
  },
  {
   "cell_type": "code",
   "execution_count": null,
   "id": "116f04b8",
   "metadata": {},
   "outputs": [],
   "source": [
    "# Ejercicio\n",
    "cadena = \"Python 3, Java 8, C# 9\"\n",
    "numeros = [int(num) for num in cadena.split() if num.isdigit()]\n",
    "\n",
    "# Solución\n",
    "# numeros = [3, 8, 9]\n"
   ]
  },
  {
   "cell_type": "markdown",
   "id": "e9eeecc8",
   "metadata": {},
   "source": [
    "### Ejercicio 7: Encontrar Todas las Posiciones de una Subcadena\n",
    "\n",
    "Dada una cadena y una subcadena, encuentra todas las posiciones de inicio de la subcadena en la cadena."
   ]
  },
  {
   "cell_type": "code",
   "execution_count": null,
   "id": "179c5ee5",
   "metadata": {},
   "outputs": [],
   "source": [
    "# Ejercicio\n",
    "cadena = \"lorem ipsum dolor sit ipsum\"\n",
    "subcadena = \"ipsum\"\n",
    "posiciones = [i for i in range(len(cadena)) if cadena.startswith(subcadena, i)]\n",
    "\n",
    "# Solución\n",
    "# posiciones = [6, 18]\n"
   ]
  },
  {
   "cell_type": "markdown",
   "id": "37260231",
   "metadata": {},
   "source": [
    "### Ejercicio 8: Convertir una Cadena en un Título\n",
    "\n",
    "Dada una cadena, conviértela en un título (cada palabra comienza con una letra mayúscula)."
   ]
  },
  {
   "cell_type": "code",
   "execution_count": null,
   "id": "fb461d8a",
   "metadata": {},
   "outputs": [],
   "source": [
    "# Ejercicio\n",
    "cadena = \"bienvenido al curso de python\"\n",
    "titulo = cadena.title()\n",
    "\n",
    "# Solución\n",
    "# titulo = \"Bienvenido Al Curso De Python\"\n"
   ]
  },
  {
   "cell_type": "markdown",
   "id": "32e22cd4",
   "metadata": {},
   "source": [
    "### Ejercicio 9: Combinar Lista de Cadenas con Separadores\n",
    "\n",
    "Dada una lista de cadenas, combínalas en una sola cadena, separadas por un guión."
   ]
  },
  {
   "cell_type": "code",
   "execution_count": null,
   "id": "f22e5afc",
   "metadata": {},
   "outputs": [],
   "source": [
    "# Ejercicio\n",
    "palabras = [\"Python\", \"Java\", \"C++\"]\n",
    "cadena_combinada = \"-\".join(palabras)\n",
    "\n",
    "# Solución\n",
    "# cadena_combinada = \"Python-Java-C++\"\n"
   ]
  },
  {
   "cell_type": "markdown",
   "id": "45b69bda",
   "metadata": {},
   "source": [
    "### Ejercicio 10: Cifrado César\n",
    "\n",
    "Implementa el cifrado César, una técnica simple de encriptación que desplaza cada letra un número fijo de lugares en el alfabeto."
   ]
  },
  {
   "cell_type": "code",
   "execution_count": null,
   "id": "4efd87d7",
   "metadata": {},
   "outputs": [],
   "source": [
    "# Ejercicio\n",
    "def cifrado_cesar(cadena, desplazamiento):\n",
    "    alfabeto = \"abcdefghijklmnopqrstuvwxyz\"\n",
    "    cifrado = \"\"\n",
    "    for char in cadena:\n",
    "        if char in alfabeto:\n",
    "            pos_nueva = (alfabeto.index(char) + desplazamiento) % 26\n",
    "            cifrado += alfabeto[pos_nueva]\n",
    "        else:\n",
    "            cifrado += char\n",
    "    return cifrado\n",
    "\n",
    "# Solución\n",
    "# cifrado_cesar(\"abc\", 3)  # \"def\"\n"
   ]
  },
  {
   "cell_type": "markdown",
   "id": "87f5a08e",
   "metadata": {},
   "source": [
    "Estos cinco ejercicios adicionales de cadenas desafían tu habilidad para manipular y procesar cadenas de texto en Python, abordando desde algoritmos de encriptación básicos hasta extracción y transformación avanzadas de datos dentro de cadenas. Practicar con estos problemas ayudará a fortalecer tus habilidades y comprensión de las operaciones de cadenas en Python, una capacidad esencial en muchos aspectos de la programación."
   ]
  }
 ],
 "metadata": {},
 "nbformat": 4,
 "nbformat_minor": 5
}
