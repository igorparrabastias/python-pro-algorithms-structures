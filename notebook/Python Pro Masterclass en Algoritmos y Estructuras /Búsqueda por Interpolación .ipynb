{
 "cells": [
  {
   "cell_type": "markdown",
   "id": "9e07cf02",
   "metadata": {},
   "source": [
    "# Búsqueda por Interpolación\n",
    "\n",
    "## Clase sobre Búsqueda por Interpolación\n",
    "\n",
    "### Introducción:\n",
    "\n",
    "La búsqueda por interpolación es un algoritmo de búsqueda que asume que los datos están ordenados y distribuidos uniformemente. Mejora la búsqueda binaria al utilizar una aproximación para predecir dónde podría estar el elemento objetivo, lo que puede llevar a encontrar el elemento más rápidamente en ciertos casos.\n",
    "\n",
    "### Concepto de Búsqueda por Interpolación:\n",
    "\n",
    "En lugar de dividir siempre la lista por la mitad como en la búsqueda binaria, la búsqueda por interpolación calcula una posición probable del elemento objetivo usando la interpolación lineal. La fórmula utilizada es:\n",
    "\n",
    "$$\n",
    "pos=inicio+(lista[fin]−lista[inicio](objetivo−lista[inicio])×(fin−inicio)​)\n",
    "$$\n",
    "\n",
    "Donde:\n",
    "\n",
    "- `pos` es la posición estimada del elemento objetivo.\n",
    "- `inicio` y `fin` son los índices entre los cuales se busca.\n",
    "- `objetivo` es el valor que se está buscando.\n",
    "\n",
    "### Implementación en Python:"
   ]
  },
  {
   "cell_type": "code",
   "execution_count": null,
   "id": "35a8dc44",
   "metadata": {},
   "outputs": [],
   "source": [
    "def busqueda_por_interpolacion(lista, objetivo):\n",
    "    inicio, fin = 0, len(lista) - 1\n",
    "\n",
    "    while inicio <= fin and objetivo >= lista[inicio] and objetivo <= lista[fin]:\n",
    "        if inicio == fin:\n",
    "            if lista[inicio] == objetivo:\n",
    "                return inicio\n",
    "            else:\n",
    "                return -1\n",
    "\n",
    "        pos = inicio + int(((float(fin - inicio) / (lista[fin] - lista[inicio])) * (objetivo - lista[inicio])))\n",
    "\n",
    "        if lista[pos] == objetivo:\n",
    "            return pos\n",
    "        if lista[pos] < objetivo:\n",
    "            inicio = pos + 1\n",
    "        else:\n",
    "            fin = pos - 1\n",
    "\n",
    "    return -1\n"
   ]
  },
  {
   "cell_type": "markdown",
   "id": "996839eb",
   "metadata": {},
   "source": [
    "### Ejemplo de Uso:"
   ]
  },
  {
   "cell_type": "code",
   "execution_count": null,
   "id": "e789c83a",
   "metadata": {},
   "outputs": [],
   "source": [
    "mi_lista = [10, 12, 13, 16, 18, 19, 20, 21, 22, 23, 24, 33, 35, 42, 47]\n",
    "objetivo = 18\n",
    "resultado = busqueda_por_interpolacion(mi_lista, objetivo)\n",
    "print(f\"El número {objetivo} se encontró en el índice: {resultado}\")\n"
   ]
  },
  {
   "cell_type": "markdown",
   "id": "41bdbc52",
   "metadata": {},
   "source": [
    "### Complejidad del Algoritmo:\n",
    "\n",
    "- **Mejor caso**: O(1), cuando el elemento objetivo está muy cerca de la posición estimada inicial.\n",
    "- **Caso promedio**: O(log log n), bajo la suposición de una distribución uniforme de los elementos.\n",
    "- **Peor caso**: O(n), similar a la búsqueda lineal, cuando los elementos no están uniformemente distribuidos.\n",
    "\n",
    "### Ventajas de la Búsqueda por Interpolación:\n",
    "\n",
    "- **Eficiencia**: Puede ser significativamente más rápido que la búsqueda binaria para conjuntos de datos grandes y uniformemente distribuidos.\n",
    "- **Inteligente**: Aprovecha la distribución de los datos para minimizar el número de comparaciones.\n",
    "\n",
    "### Desventajas de la Búsqueda por Interpolación:\n",
    "\n",
    "- **Requiere Ordenamiento**: Al igual que la búsqueda binaria, necesita que los datos estén ordenados previamente.\n",
    "- **Distribución Uniforme**: Su eficacia se reduce si los datos no están uniformemente distribuidos.\n",
    "\n",
    "### Conclusión:\n",
    "\n",
    "La búsqueda por interpolación es una poderosa técnica de búsqueda para datos ordenados y uniformemente distribuidos. Ofrece mejoras significativas en la eficiencia en comparación con la búsqueda binaria bajo las condiciones adecuadas, aunque su rendimiento puede variar ampliamente dependiendo de la naturaleza de los datos."
   ]
  }
 ],
 "metadata": {},
 "nbformat": 4,
 "nbformat_minor": 5
}
