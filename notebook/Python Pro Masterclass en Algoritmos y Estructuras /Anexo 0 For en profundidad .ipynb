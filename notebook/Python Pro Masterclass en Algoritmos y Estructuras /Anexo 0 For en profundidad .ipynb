{
 "cells": [
  {
   "cell_type": "markdown",
   "id": "9690faf8",
   "metadata": {},
   "source": [
    "# Anexo 0: For en profundidad\n",
    "\n",
    "En Python, el bucle `for` es una construcción versátil que se utiliza para iterar sobre elementos de una secuencia (como listas, tuplas, diccionarios, conjuntos y cadenas) u otros objetos iterables. Esto contrasta con lenguajes como JavaScript o PHP, donde existen múltiples construcciones de iteración especializadas y métodos adaptados a diferentes casos de uso. Exploremos esta diferencia un poco más:\n",
    "\n",
    "### Iteración en JavaScript\n",
    "\n",
    "En JavaScript, la iteración se puede realizar de varias maneras, reflejando la flexibilidad del lenguaje y la evolución de sus estándares:\n",
    "\n",
    "1. **for loop**: El bucle `for` tradicional, similar a otros lenguajes similares a C, que puede iterar sobre arrays u otros objetos iterables por índice."
   ]
  },
  {
   "cell_type": "code",
   "execution_count": null,
   "id": "534d5bfb",
   "metadata": {},
   "outputs": [],
   "source": [
    "```jsx\n",
    "for (let i = 0; i < array.length; i++) {\n",
    "    console.log(array[i]);\n",
    "}\n",
    "```"
   ]
  },
  {
   "cell_type": "markdown",
   "id": "4fbadb55",
   "metadata": {},
   "source": [
    "2. **for...in loop**: Itera sobre las propiedades enumerables de un objeto."
   ]
  },
  {
   "cell_type": "code",
   "execution_count": null,
   "id": "ca668c4c",
   "metadata": {},
   "outputs": [],
   "source": [
    "```jsx\n",
    "for (let key in object) {\n",
    "    console.log(key, object[key]);\n",
    "}\n",
    "```"
   ]
  },
  {
   "cell_type": "markdown",
   "id": "94c08fb1",
   "metadata": {},
   "source": [
    "3. **for...of loop**: Introducido en ES6, itera sobre los valores de un objeto iterable como arrays, strings, Mapas, NodeLists y más."
   ]
  },
  {
   "cell_type": "code",
   "execution_count": null,
   "id": "c801c2cf",
   "metadata": {},
   "outputs": [],
   "source": [
    "```jsx\n",
    "for (let value of array) {\n",
    "    console.log(value);\n",
    "}\n",
    "```"
   ]
  },
  {
   "cell_type": "markdown",
   "id": "20173dcb",
   "metadata": {},
   "source": [
    "4. **forEach()**: Un método de array que ejecuta una función proporcionada una vez por cada elemento del array."
   ]
  },
  {
   "cell_type": "code",
   "execution_count": null,
   "id": "52f0214a",
   "metadata": {},
   "outputs": [],
   "source": [
    "```jsx\n",
    "array.forEach(element => console.log(element));\n",
    "```"
   ]
  },
  {
   "cell_type": "markdown",
   "id": "dbdee683",
   "metadata": {},
   "source": [
    "5. **map(), filter(), reduce()**: Funciones de orden superior que devuelven un nuevo array basado en los resultados de la función de callback."
   ]
  },
  {
   "cell_type": "code",
   "execution_count": null,
   "id": "e9a8369a",
   "metadata": {},
   "outputs": [],
   "source": [
    "```jsx\n",
    "let squared = array.map(x => x * x);\n",
    "```\n"
   ]
  },
  {
   "cell_type": "markdown",
   "id": "9027361b",
   "metadata": {},
   "source": [
    "### Iteración en PHP\n",
    "\n",
    "PHP, al igual que JavaScript, ofrece varios constructos para la iteración:\n",
    "\n",
    "1. **for loop**: Similar a otros lenguajes similares a C, adecuado para la iteración numérica."
   ]
  },
  {
   "cell_type": "code",
   "execution_count": null,
   "id": "f999f89e",
   "metadata": {},
   "outputs": [],
   "source": [
    "```php\n",
    "for ($i = 0; $i < count($array); $i++) {\n",
    "    echo $array[$i];\n",
    "}\n",
    "```"
   ]
  },
  {
   "cell_type": "markdown",
   "id": "66113478",
   "metadata": {},
   "source": [
    "2. **foreach loop**: Diseñado específicamente para iterar sobre arrays y objetos, facilitando el acceso a cada valor."
   ]
  },
  {
   "cell_type": "code",
   "execution_count": null,
   "id": "255a133a",
   "metadata": {},
   "outputs": [],
   "source": [
    "```php\n",
    "foreach ($array as $value) {\n",
    "    echo $value;\n",
    "}\n",
    "```"
   ]
  },
  {
   "cell_type": "markdown",
   "id": "27f54474",
   "metadata": {},
   "source": [
    "3. **while** y **do-while loops**: Usados para iterar basándose en una condición en lugar de una secuencia.\n",
    "\n",
    "### Enfoque de Python\n",
    "\n",
    "El bucle `for` de Python, aunque parece simple, es increíblemente poderoso debido a su capacidad para iterar directamente sobre cualquier objeto iterable, sin necesidad de gestionar índices o claves (a menos que se desee, utilizando `enumerate()` o `items()` para diccionarios). Esta simplicidad y potencia hacen que el bucle `for` sea adecuado para una amplia gama de tareas, desde el procesamiento simple de listas hasta transformaciones de datos complejas.\n",
    "\n",
    "Además, el énfasis de Python en la legibilidad y simplicidad significa que el mismo constructo se puede usar en una variedad de contextos con un mínimo de sobrecarga sintáctica, haciendo que el código sea más fácil de escribir, leer y mantener. Mientras que JavaScript y PHP ofrecen múltiples mecanismos de iteración para proporcionar flexibilidad y atender a diferentes escenarios, el enfoque de Python demuestra la filosofía del lenguaje de \"**Debería haber una --y preferiblemente solo una-- manera obvia de hacerlo**\".\n",
    "\n",
    "Este enfoque en un único constructo de iteración versátil no limita la capacidad de Python; más bien, simplifica las prácticas de codificación y fomenta la consistencia en diferentes tipos de proyectos."
   ]
  }
 ],
 "metadata": {},
 "nbformat": 4,
 "nbformat_minor": 5
}
