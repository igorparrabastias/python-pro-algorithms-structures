{
 "cells": [
  {
   "cell_type": "markdown",
   "id": "82fd2636",
   "metadata": {},
   "source": [
    "# Recorridos en Árboles Binarios\n",
    "\n",
    "El recorrido de un árbol binario es un proceso fundamental que permite visitar todos los nodos de un árbol de forma sistemática. Esta operación es crucial para una amplia gama de aplicaciones, desde la impresión de todos los valores contenidos en un árbol hasta la construcción de representaciones lineales de la estructura. Existen varios métodos de recorrido, cada uno con su propio conjunto de características y aplicaciones. En esta clase, exploraremos los cuatro recorridos principales en árboles binarios: inorden, preorden, postorden y por niveles.\n",
    "\n",
    "### Tipos de Recorridos\n",
    "\n",
    "- **Inorden (Izquierda, Raíz, Derecha):**"
   ]
  },
  {
   "cell_type": "code",
   "execution_count": null,
   "id": "c8efc9e8",
   "metadata": {},
   "outputs": [],
   "source": [
    "Este recorrido primero visita recursivamente el subárbol izquierdo, luego la raíz, y finalmente el subárbol derecho. En los árboles binarios de búsqueda, el recorrido inorden produce los valores en orden ascendente."
   ]
  },
  {
   "cell_type": "markdown",
   "id": "47dab374",
   "metadata": {},
   "source": [
    "- **Preorden (Raíz, Izquierda, Derecha):**"
   ]
  },
  {
   "cell_type": "code",
   "execution_count": null,
   "id": "4c67fedd",
   "metadata": {},
   "outputs": [],
   "source": [
    "Preorden visita primero la raíz, seguido por el subárbol izquierdo de manera recursiva, y finalmente el subárbol derecho. Es útil para crear una copia del árbol o expresar el árbol en notación de prefijo."
   ]
  },
  {
   "cell_type": "markdown",
   "id": "7a3e292f",
   "metadata": {},
   "source": [
    "- **Postorden (Izquierda, Derecha, Raíz):**"
   ]
  },
  {
   "cell_type": "code",
   "execution_count": null,
   "id": "d3b412a5",
   "metadata": {},
   "outputs": [],
   "source": [
    "En postorden, primero se exploran los subárboles izquierdo y derecho de manera recursiva, y al final se visita la raíz. Este método es utilizado frecuentemente para eliminar o liberar los nodos del árbol de abajo hacia arriba."
   ]
  },
  {
   "cell_type": "markdown",
   "id": "331e263a",
   "metadata": {},
   "source": [
    "- **Por Niveles (también conocido como Recorrido en Amplitud):**"
   ]
  },
  {
   "cell_type": "code",
   "execution_count": null,
   "id": "6102ffc3",
   "metadata": {},
   "outputs": [],
   "source": [
    "Este recorrido visita los nodos nivel por nivel, de arriba hacia abajo y de izquierda a derecha. Es especialmente útil para visualizar la estructura del árbol y se implementa comúnmente utilizando una cola.\n"
   ]
  },
  {
   "cell_type": "markdown",
   "id": "2db36fdf",
   "metadata": {},
   "source": [
    "### Implementación en Python\n",
    "\n",
    "A continuación, se presentan ejemplos de implementación de estos recorridos en Python:\n",
    "\n",
    "### Inorden"
   ]
  },
  {
   "cell_type": "code",
   "execution_count": null,
   "id": "7fdb25c5",
   "metadata": {},
   "outputs": [],
   "source": [
    "def inorden(nodo):\n",
    "    if nodo:\n",
    "        inorden(nodo.izquierda)\n",
    "        print(nodo.valor)\n",
    "        inorden(nodo.derecha)\n"
   ]
  },
  {
   "cell_type": "markdown",
   "id": "b4645cd9",
   "metadata": {},
   "source": [
    "### Preorden"
   ]
  },
  {
   "cell_type": "code",
   "execution_count": null,
   "id": "791beb97",
   "metadata": {},
   "outputs": [],
   "source": [
    "def preorden(nodo):\n",
    "    if nodo:\n",
    "        print(nodo.valor)\n",
    "        preorden(nodo.izquierda)\n",
    "        preorden(nodo.derecha)\n"
   ]
  },
  {
   "cell_type": "markdown",
   "id": "5d653b84",
   "metadata": {},
   "source": [
    "### Postorden"
   ]
  },
  {
   "cell_type": "code",
   "execution_count": null,
   "id": "00a39895",
   "metadata": {},
   "outputs": [],
   "source": [
    "def postorden(nodo):\n",
    "    if nodo:\n",
    "        postorden(nodo.izquierda)\n",
    "        postorden(nodo.derecha)\n",
    "        print(nodo.valor)\n"
   ]
  },
  {
   "cell_type": "markdown",
   "id": "8f23a24f",
   "metadata": {},
   "source": [
    "### Por Niveles"
   ]
  },
  {
   "cell_type": "code",
   "execution_count": null,
   "id": "07a8164e",
   "metadata": {},
   "outputs": [],
   "source": [
    "from collections import deque\n",
    "\n",
    "def por_niveles(raiz):\n",
    "    if raiz:\n",
    "        cola = deque([raiz])\n",
    "        while cola:\n",
    "            nodo = cola.popleft()\n",
    "            print(nodo.valor)\n",
    "            if nodo.izquierda:\n",
    "                cola.append(nodo.izquierda)\n",
    "            if nodo.derecha:\n",
    "                cola.append(nodo.derecha)\n"
   ]
  },
  {
   "cell_type": "markdown",
   "id": "e18b5a4a",
   "metadata": {},
   "source": [
    "### Conclusión\n",
    "\n",
    "Los recorridos de árboles binarios son herramientas esenciales para trabajar con estas estructuras de datos, permitiendo la manipulación y el análisis de la información contenida en el árbol de manera eficaz. Cada tipo de recorrido tiene aplicaciones específicas y ventajas, dependiendo de la tarea que se necesite realizar. Comprender estos recorridos y saber cuándo aplicar cada uno es fundamental para cualquier desarrollador que trabaje con árboles binarios.\n",
    "\n",
    "### Ejercicios\n",
    "\n",
    "1. **Implementa el Recorrido Inorden:** Dado un árbol binario, implementa una función que realice un recorrido inorden y devuelva una lista con los valores de los nodos en el orden visitado.\n",
    "2. **Recorrido Preorden para Copia de Árboles:** Escribe una función que utilice el recorrido preorden para crear y devolver una copia exacta de un árbol binario dado.\n",
    "3. **Recorrido Postorden para Contar Nodos:** Implementa una función que use el recorrido postorden para contar y devolver el número total de nodos en un árbol binario.\n",
    "4. **Recorrido por Niveles y su Salida:** Para un árbol binario dado, utiliza el recorrido por niveles para imprimir cada nivel del árbol en líneas separadas.\n",
    "5. **Comparación de Recorridos:** Dado un árbol binario de búsqueda, realiza los recorridos inorden, preorden, y postorden. Compara los resultados y discute cómo cada recorrido refleja la estructura del árbol.\n",
    "\n",
    "### Soluciones\n",
    "\n",
    "1. **Implementación del Recorrido Inorden:**"
   ]
  },
  {
   "cell_type": "code",
   "execution_count": null,
   "id": "56feaefb",
   "metadata": {},
   "outputs": [],
   "source": [
    "```python\n",
    "def inorden_recursivo(nodo, resultado=None):\n",
    "    if resultado is None:\n",
    "        resultado = []\n",
    "    if nodo:\n",
    "        inorden_recursivo(nodo.izquierda, resultado)\n",
    "        resultado.append(nodo.valor)\n",
    "        inorden_recursivo(nodo.derecha, resultado)\n",
    "    return resultado\n",
    "\n",
    "```"
   ]
  },
  {
   "cell_type": "markdown",
   "id": "2d22e980",
   "metadata": {},
   "source": [
    "2. **Recorrido Preorden para Copia de Árboles:**"
   ]
  },
  {
   "cell_type": "code",
   "execution_count": null,
   "id": "01596771",
   "metadata": {},
   "outputs": [],
   "source": [
    "```python\n",
    "def copiar_con_preorden(nodo):\n",
    "    if nodo is None:\n",
    "        return None\n",
    "    nuevo_nodo = Nodo(nodo.valor)\n",
    "    nuevo_nodo.izquierda = copiar_con_preorden(nodo.izquierda)\n",
    "    nuevo_nodo.derecha = copiar_con_preorden(nodo.derecha)\n",
    "    return nuevo_nodo\n",
    "\n",
    "```"
   ]
  },
  {
   "cell_type": "markdown",
   "id": "f2fdcbfe",
   "metadata": {},
   "source": [
    "3. **Recorrido Postorden para Contar Nodos:**"
   ]
  },
  {
   "cell_type": "code",
   "execution_count": null,
   "id": "bf765a96",
   "metadata": {},
   "outputs": [],
   "source": [
    "```python\n",
    "def contar_nodos_postorden(nodo):\n",
    "    if nodo is None:\n",
    "        return 0\n",
    "    return 1 + contar_nodos_postorden(nodo.izquierda) + contar_nodos_postorden(nodo.derecha)\n",
    "\n",
    "```"
   ]
  },
  {
   "cell_type": "markdown",
   "id": "f716049a",
   "metadata": {},
   "source": [
    "4. **Recorrido por Niveles y su Salida:**"
   ]
  },
  {
   "cell_type": "code",
   "execution_count": null,
   "id": "e2920fe2",
   "metadata": {},
   "outputs": [],
   "source": [
    "```python\n",
    "def imprimir_por_niveles(raiz):\n",
    "    if raiz is None:\n",
    "        return\n",
    "    cola = deque([raiz])\n",
    "    while cola:\n",
    "        nivel_actual = len(cola)\n",
    "        for _ in range(nivel_actual):\n",
    "            nodo_actual = cola.popleft()\n",
    "            print(nodo_actual.valor, end=' ')\n",
    "            if nodo_actual.izquierda:\n",
    "                cola.append(nodo_actual.izquierda)\n",
    "            if nodo_actual.derecha:\n",
    "                cola.append(nodo_actual.derecha)\n",
    "        print()  # Nueva línea para separar los niveles\n",
    "\n",
    "```"
   ]
  },
  {
   "cell_type": "markdown",
   "id": "cef98723",
   "metadata": {},
   "source": [
    "5. **Comparación de Recorridos:** Para abordar el ejercicio de comparación de recorridos en un árbol binario de búsqueda (ABB), primero implementamos los recorridos inorden, preorden y postorden, y luego analizamos cómo cada uno refleja la estructura del árbol y sus posibles aplicaciones."
   ]
  },
  {
   "cell_type": "code",
   "execution_count": null,
   "id": "d75ae52c",
   "metadata": {},
   "outputs": [],
   "source": [
    "### Implementación de Recorridos\n",
    "\n",
    "### Inorden (Izquierda, Raíz, Derecha)\n",
    "\n",
    "El recorrido inorden en un ABB produce los valores del árbol en orden ascendente. Esto se debe a la propiedad intrínseca del ABB, donde para cualquier nodo dado, todos los valores en el subárbol izquierdo son menores que el valor del nodo, y todos los valores en el subárbol derecho son mayores.\n",
    "\n",
    "```python\n",
    "def inorden(nodo, resultado=[]):\n",
    "    if nodo:\n",
    "        inorden(nodo.izquierda, resultado)\n",
    "        resultado.append(nodo.valor)\n",
    "        inorden(nodo.derecha, resultado)\n",
    "    return resultado\n",
    "\n",
    "```\n",
    "\n",
    "### Preorden (Raíz, Izquierda, Derecha)\n",
    "\n",
    "El recorrido preorden visita primero la raíz, seguido por el subárbol izquierdo y luego el derecho. Este recorrido es útil para copiar el árbol o expresar su estructura de manera lineal, ya que comienza desde la raíz y sigue la estructura del árbol tan estrechamente como sea posible.\n",
    "\n",
    "```python\n",
    "def preorden(nodo, resultado=[]):\n",
    "    if nodo:\n",
    "        resultado.append(nodo.valor)\n",
    "        preorden(nodo.izquierda, resultado)\n",
    "        preorden(nodo.derecha, resultado)\n",
    "    return resultado\n",
    "\n",
    "```\n",
    "\n",
    "### Postorden (Izquierda, Derecha, Raíz)\n",
    "\n",
    "El recorrido postorden visita primero los subárboles izquierdo y derecho, y por último la raíz. Este método es ideal para procesos de eliminación o liberación de memoria, ya que asegura que los nodos sean procesados antes de procesar y eliminar el nodo padre.\n",
    "\n",
    "```python\n",
    "def postorden(nodo, resultado=[]):\n",
    "    if nodo:\n",
    "        postorden(nodo.izquierda, resultado)\n",
    "        postorden(nodo.derecha, resultado)\n",
    "        resultado.append(nodo.valor)\n",
    "    return resultado\n",
    "\n",
    "```\n",
    "\n",
    "### Comparación de los Recorridos y Reflexión sobre la Estructura del Árbol\n",
    "\n",
    "- **Inorden:** Muestra los valores del árbol de manera ordenada. Este recorrido refleja directamente la propiedad de ordenamiento del ABB, lo que lo hace ideal para operaciones que requieran procesar los valores del árbol en orden secuencial.\n",
    "- **Preorden:** Proporciona una visión de la estructura del árbol comenzando por la raíz. Es particularmente útil para reconstruir el árbol original o para operaciones que necesiten priorizar el procesamiento de nodos desde la raíz hacia las hojas, reflejando la jerarquía del árbol.\n",
    "- **Postorden:** Ofrece una manera de procesar primero las hojas y luego ascender hacia la raíz, lo cual es importante para operaciones de desmonte o evaluación de nodos en un contexto donde es crucial asegurar que los nodos hijos se procesen antes que el nodo padre.\n",
    "\n",
    "Cada uno de estos recorridos resalta diferentes aspectos de la estructura del ABB y tiene aplicaciones específicas que aprovechan esas características. El inorden es especial por reflejar el orden inherente del ABB, el preorden destaca por su utilidad en la reconstrucción y representación de la estructura del árbol, y el postorden es esencial para operaciones que requieren un desmonte ordenado o evaluaciones bottom-up del árbol.\n"
   ]
  },
  {
   "cell_type": "markdown",
   "id": "0ee6bc50",
   "metadata": {},
   "source": [
    "La habilidad para elegir el recorrido adecuado según el problema a resolver es una herramienta valiosa en la caja de herramientas de cualquier programador o científico de datos. Ya sea que necesites realizar una búsqueda eficiente, copiar la estructura de un árbol, contar sus elementos, o simplemente imprimir sus valores de manera ordenada, entender estos recorridos te permitirá abordar estos retos con confianza.\n",
    "\n",
    "En la próxima clase, profundizaremos en la implementación de Árboles Binarios de Búsqueda (ABB), explorando cómo se pueden utilizar para mejorar aún más la eficiencia de operaciones comunes como la búsqueda, inserción y eliminación de nodos en comparación con estructuras lineales como listas o arrays."
   ]
  }
 ],
 "metadata": {},
 "nbformat": 4,
 "nbformat_minor": 5
}
