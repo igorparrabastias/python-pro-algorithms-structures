{
 "cells": [
  {
   "cell_type": "markdown",
   "id": "b379107f",
   "metadata": {},
   "source": [
    "# Anexo 3: Análisis de Complejidad (Big O) en Estructuras de Control\n",
    "\n",
    "- Detalles sobre el análisis de la complejidad de algoritmos usando la notación Big O.\n",
    "\n",
    "### **Introducción**\n",
    "\n",
    "El análisis de complejidad en algoritmos, especialmente usando la notación Big O, es una herramienta esencial para comprender cómo el tiempo de ejecución o el espacio requerido por un algoritmo escala con el tamaño de la entrada. Este enfoque no solo permite comparar la eficiencia de diferentes algoritmos sino también optimizar el diseño de algoritmos para mejorar su rendimiento. Este anexo se centra en cómo la notación Big O se aplica al análisis de estructuras de control comunes en la programación, como bucles y decisiones condicionales.\n",
    "\n",
    "### **Notación Big O**\n",
    "\n",
    "La notación Big O describe el límite superior del crecimiento de una función, lo que ayuda a entender el peor escenario de complejidad de un algoritmo en términos de tiempo o espacio. No se enfoca en el rendimiento exacto sino en cómo el rendimiento cambia asintóticamente a medida que el tamaño de entrada aumenta.\n",
    "\n",
    "### **Estructuras de Control y su Complejidad**\n",
    "\n",
    "### **Bucles For y While**\n",
    "\n",
    "- **Bucles For**: Un bucle `for` que itera `n` veces tiene una complejidad de tiempo O(n). Si contiene bucles anidados, la complejidad se multiplica por cada nivel de anidamiento. Por ejemplo, un bucle for anidado dentro de otro bucle for resulta en una complejidad O(n²)."
   ]
  },
  {
   "cell_type": "code",
   "execution_count": null,
   "id": "4cfbd573",
   "metadata": {},
   "outputs": [],
   "source": [
    "# Ejemplo de bucle for con complejidad O(n)\n",
    "for i in range(n):\n",
    "    # Operación O(1)\n",
    "\n",
    "# Ejemplo de bucles anidados con complejidad O(n²)\n",
    "for i in range(n):\n",
    "    for j in range(n):\n",
    "        # Operación O(1)"
   ]
  },
  {
   "cell_type": "markdown",
   "id": "0d9542fb",
   "metadata": {},
   "source": [
    "- **Bucles While**: La complejidad de los bucles `while` depende de la condición para el bucle. Si el bucle se ejecuta `n` veces antes de que la condición se vuelva `False`, su complejidad es O(n)."
   ]
  },
  {
   "cell_type": "code",
   "execution_count": null,
   "id": "4ec7229b",
   "metadata": {},
   "outputs": [],
   "source": [
    "# Ejemplo de bucle while con complejidad O(n)\n",
    "i = 0\n",
    "while i < n:\n",
    "    # Operación O(1)\n",
    "    i += 1"
   ]
  },
  {
   "cell_type": "markdown",
   "id": "d6f90a7e",
   "metadata": {},
   "source": [
    "### **Decisiones Condicionales**\n",
    "\n",
    "- **If/Else**: Las estructuras condicionales `if/else` tienen una complejidad de O(1) porque ejecutan un número fijo de operaciones, independientemente del tamaño de la entrada. Sin embargo, el código dentro de un bloque `if` puede tener su propia complejidad."
   ]
  },
  {
   "cell_type": "code",
   "execution_count": null,
   "id": "2f56859c",
   "metadata": {},
   "outputs": [],
   "source": [
    "# Ejemplo de decisión condicional\n",
    "if condicion:\n",
    "    # Operación O(1) o mayor, dependiendo del código aquí\n",
    "else:\n",
    "    # Operación O(1) o mayor, dependiendo del código aquí"
   ]
  },
  {
   "cell_type": "markdown",
   "id": "e1df4339",
   "metadata": {},
   "source": [
    "### **Llamadas Recursivas**\n",
    "\n",
    "- La complejidad de las llamadas recursivas depende de cuántas veces se llama a la función y de la complejidad de cada llamada. Se analiza mediante la construcción de ecuaciones de recurrencia que representan estas llamadas y luego se resuelven utilizando métodos como el árbol de recurrencia o el Teorema Maestro."
   ]
  },
  {
   "cell_type": "code",
   "execution_count": null,
   "id": "f9e9ec20",
   "metadata": {},
   "outputs": [],
   "source": [
    "# Ejemplo de función recursiva\n",
    "def funcion_recursiva(n):\n",
    "    if n == 1:\n",
    "        return 1\n",
    "    else:\n",
    "        return funcion_recursiva(n-1) + 1  # T(n) = T(n-1) + O(1)"
   ]
  },
  {
   "cell_type": "markdown",
   "id": "76e266ba",
   "metadata": {},
   "source": [
    "### **Conclusión**\n",
    "\n",
    "El análisis de complejidad utilizando la notación Big O es crucial para predecir cómo el rendimiento de los algoritmos cambia con el tamaño de la entrada. Entender la complejidad asociada con diferentes estructuras de control permite a los programadores tomar decisiones informadas al diseñar algoritmos, asegurando que el código no solo funcione correctamente sino que también sea eficiente.\n",
    "\n",
    "---\n",
    "\n",
    "Vamos a profundizar aún más en el tema del análisis de complejidad de algoritmos usando la notación Big O, específicamente en relación con estructuras de control comunes en la programación.\n",
    "\n",
    "## **Análisis Detallado de la Complejidad de Algoritmos con Estructuras de Control**\n",
    "\n",
    "### **Bucles For**\n",
    "\n",
    "El análisis de la complejidad de los bucles `for` depende de la cantidad de iteraciones que el bucle realiza, que está directamente relacionada con el tamaño de la entrada `n`.\n",
    "\n",
    "- **Caso Simple (Un Bucle For)**: Un bucle `for` que recorre `n` elementos tiene una complejidad temporal de O(n) porque realiza una operación un número `n` de veces."
   ]
  },
  {
   "cell_type": "code",
   "execution_count": null,
   "id": "66e0fc47",
   "metadata": {},
   "outputs": [],
   "source": [
    "```python\n",
    "for i in range(n):\n",
    "    # Operación O(1)\n",
    "```"
   ]
  },
  {
   "cell_type": "markdown",
   "id": "0aec226b",
   "metadata": {},
   "source": [
    "- **Bucles Anidados**: Cuando tienes un bucle `for` dentro de otro, la complejidad se multiplica por cada nivel de anidación, ya que por cada iteración del bucle exterior, el bucle interior se ejecuta completamente."
   ]
  },
  {
   "cell_type": "code",
   "execution_count": null,
   "id": "05c6abd2",
   "metadata": {},
   "outputs": [],
   "source": [
    "```python\n",
    "for i in range(n):         # O(n)\n",
    "    for j in range(n):     # O(n) para cada i\n",
    "        # Operación O(1)\n",
    "# Complejidad Total: O(n^2)\n",
    "```\n"
   ]
  },
  {
   "cell_type": "markdown",
   "id": "2097ac08",
   "metadata": {},
   "source": [
    "### **Bucles While**\n",
    "\n",
    "La complejidad de un bucle `while` depende de su condición de terminación, la cual puede variar ampliamente. Un bucle `while` que ejecuta `n` operaciones tiene una complejidad de O(n), similar a un bucle `for`.\n",
    "\n",
    "- **Incremento Constante**: Si el incremento hacia la condición de terminación es constante, la complejidad es lineal."
   ]
  },
  {
   "cell_type": "code",
   "execution_count": null,
   "id": "51c5e5a7",
   "metadata": {},
   "outputs": [],
   "source": [
    "```python\n",
    "i = 0\n",
    "while i < n:\n",
    "    # Operación O(1)\n",
    "    i += 1\n",
    "# Complejidad: O(n)\n",
    "```"
   ]
  },
  {
   "cell_type": "markdown",
   "id": "de9f791f",
   "metadata": {},
   "source": [
    "- **Incremento Exponencial**: Si el incremento reduce el espacio de búsqueda de manera exponencial, la complejidad mejora significativamente."
   ]
  },
  {
   "cell_type": "code",
   "execution_count": null,
   "id": "d817d768",
   "metadata": {},
   "outputs": [],
   "source": [
    "```python\n",
    "i = 1\n",
    "while i < n:\n",
    "    # Operación O(1)\n",
    "    i *= 2\n",
    "# Complejidad: O(log n)\n",
    "```\n"
   ]
  },
  {
   "cell_type": "markdown",
   "id": "931b36aa",
   "metadata": {},
   "source": [
    "### **Decisiones Condicionales (If/Else)**\n",
    "\n",
    "Las decisiones condicionales por sí mismas tienen una complejidad de O(1), ya que no dependen del tamaño de la entrada para tomar una decisión. Sin embargo, la complejidad del código dentro de los bloques `if` puede variar."
   ]
  },
  {
   "cell_type": "code",
   "execution_count": null,
   "id": "ce776ba1",
   "metadata": {},
   "outputs": [],
   "source": [
    "if condicion:\n",
    "    # Complejidad dependiente del código aquí\n",
    "else:\n",
    "    # Complejidad dependiente del código aquí"
   ]
  },
  {
   "cell_type": "markdown",
   "id": "34788baa",
   "metadata": {},
   "source": [
    "### **Llamadas Recursivas**\n",
    "\n",
    "El análisis de complejidad de las llamadas recursivas requiere establecer una ecuación de recurrencia que refleje cómo se divide el problema y cómo se combinan las soluciones de los subproblemas.\n",
    "\n",
    "- **División Binaria**: Un algoritmo que divide el problema en dos subproblemas de igual tamaño en cada paso recursivo tiene una ecuación de la forma `T(n) = 2T(n/2) + f(n)`, donde `f(n)` es el trabajo realizado fuera de las llamadas recursivas. La solución de esta ecuación a menudo requiere métodos específicos como el Teorema Maestro o análisis directo."
   ]
  },
  {
   "cell_type": "code",
   "execution_count": null,
   "id": "befb9653",
   "metadata": {},
   "outputs": [],
   "source": [
    "def func_recursiva(n):\n",
    "    if n <= 1:\n",
    "        return\n",
    "    func_recursiva(n/2)  # Primer llamado recursivo\n",
    "    func_recursiva(n/2)  # Segundo llamado recursivo\n",
    "    # Operación de combinación O(n)"
   ]
  },
  {
   "cell_type": "markdown",
   "id": "d7748615",
   "metadata": {},
   "source": [
    "### **Consideraciones Importantes**\n",
    "\n",
    "- **Constantes Despreciables**: La notación Big O ignora constantes multiplicativas y términos de orden inferior, ya que no afectan el crecimiento asintótico del algoritmo.\n",
    "- **Peor Caso vs. Caso Promedio**: Algunos algoritmos, como QuickSort, tienen diferentes complejidades en el peor y el caso promedio. La notación Big O generalmente se aplica al peor caso, pero el análisis del caso promedio puede ser crucial para entender el rendimiento práctico del algoritmo.\n",
    "- **Espacio vs. Tiempo**: La notación Big O también se puede aplicar al análisis de la complejidad espacial de un algoritmo, es decir, cuánta memoria consume en función del tamaño de la entrada.\n",
    "\n",
    "Este análisis detallado de la complejidad de algoritmos usando la notación Big O en el contexto de estructuras de control es fundamental para el diseño de algoritmos eficientes y para la toma de decisiones informadas durante el desarrollo de software."
   ]
  }
 ],
 "metadata": {},
 "nbformat": 4,
 "nbformat_minor": 5
}
