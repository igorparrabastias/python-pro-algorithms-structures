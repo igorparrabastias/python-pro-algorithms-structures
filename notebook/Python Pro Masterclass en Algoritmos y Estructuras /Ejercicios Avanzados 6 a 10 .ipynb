{
 "cells": [
  {
   "cell_type": "markdown",
   "id": "0883af40",
   "metadata": {},
   "source": [
    "# Ejercicios Avanzados 6 a 10\n",
    "\n",
    "### Ejercicio 6: Optimización de Búsqueda por Interpolación para Listas Grandes\n",
    "\n",
    "Implementa una versión optimizada de la búsqueda por interpolación que reduzca el número de comparaciones en listas grandes. La optimización debe enfocarse en ajustar el cálculo de la posición para minimizar el rango de búsqueda."
   ]
  },
  {
   "cell_type": "code",
   "execution_count": null,
   "id": "c010f85b",
   "metadata": {},
   "outputs": [],
   "source": [
    "def busqueda_interpolacion_optimizada(lista, objetivo):\n",
    "    izq, der = 0, len(lista) - 1\n",
    "    while izq <= der and objetivo >= lista[izq] and objetivo <= lista[der]:\n",
    "        # Ajuste para evitar la división por cero y optimizar el paso de búsqueda\n",
    "        if lista[izq] == lista[der]:\n",
    "            if lista[izq] == objetivo:\n",
    "                return izq\n",
    "            else:\n",
    "                return -1\n",
    "        # Cálculo de la posición con ajuste para optimización\n",
    "        pos = izq + ((objetivo - lista[izq]) * (der - izq)) // (lista[der] - lista[izq])\n",
    "        if lista[pos] == objetivo:\n",
    "            return pos\n",
    "        if lista[pos] < objetivo:\n",
    "            izq = pos + 1\n",
    "        else:\n",
    "            der = pos - 1\n",
    "    return -1\n",
    "\n",
    "# Lista de prueba y búsqueda\n",
    "lista = [10, 20, 30, 40, 50, 60, 70, 80, 90, 100]\n",
    "objetivo = 70\n",
    "indice = busqueda_interpolacion_optimizada(lista, objetivo)\n",
    "print(f\"Índice de {objetivo}: {indice}\")\n"
   ]
  },
  {
   "cell_type": "markdown",
   "id": "81e17d7b",
   "metadata": {},
   "source": [
    "### Ejercicio 7: Búsqueda por Interpolación en Listas con Elementos Repetidos\n",
    "\n",
    "Modifica la búsqueda por interpolación para manejar correctamente listas con elementos repetidos, asegurando que se retorne el índice del primer elemento coincidente."
   ]
  },
  {
   "cell_type": "code",
   "execution_count": null,
   "id": "188fd8df",
   "metadata": {},
   "outputs": [],
   "source": [
    "def busqueda_interpolacion_con_repetidos(lista, objetivo):\n",
    "    izq, der = 0, len(lista) - 1\n",
    "    while izq <= der and objetivo >= lista[izq] and objetivo <= lista[der]:\n",
    "        if lista[izq] == lista[der] and lista[izq] != objetivo:\n",
    "            return -1\n",
    "        pos = izq + ((objetivo - lista[izq]) * (der - izq)) // (lista[der] - lista[izq])\n",
    "        # Buscar hacia atrás para el primer coincidente si hay repetidos\n",
    "        if lista[pos] == objetivo:\n",
    "            while pos - 1 >= izq and lista[pos-1] == objetivo:\n",
    "                pos -= 1\n",
    "            return pos\n",
    "        if lista[pos] < objetivo:\n",
    "            izq = pos + 1\n",
    "        else:\n",
    "            der = pos - 1\n",
    "    return -1\n",
    "\n",
    "# Lista de prueba y búsqueda\n",
    "lista = [10, 20, 30, 30, 30, 40, 50]\n",
    "objetivo = 30\n",
    "indice = busqueda_interpolacion_con_repetidos(lista, objetivo)\n",
    "print(f\"Índice del primer {objetivo}: {indice}\")\n"
   ]
  },
  {
   "cell_type": "markdown",
   "id": "4175c807",
   "metadata": {},
   "source": [
    "### Ejercicio 8: Búsqueda por Interpolación en Strings\n",
    "\n",
    "Implementa una función de búsqueda por interpolación que funcione con listas de strings, adaptando la fórmula para trabajar con el valor ASCII de las cadenas."
   ]
  },
  {
   "cell_type": "code",
   "execution_count": null,
   "id": "01385d59",
   "metadata": {},
   "outputs": [],
   "source": [
    "def ascii_valor(cadena):\n",
    "    return sum(ord(c) for c in cadena)\n",
    "\n",
    "def busqueda_interpolacion_strings(lista, objetivo):\n",
    "    izq, der = 0, len(lista) - 1\n",
    "    while izq <= der:\n",
    "        valor_izq = ascii_valor(lista[izq])\n",
    "        valor_der = ascii_valor(lista[der])\n",
    "        valor_objetivo = ascii_valor(objetivo)\n",
    "        if valor_izq == valor_der:\n",
    "            return izq if lista[izq] == objetivo else -1\n",
    "        pos = izq + ((valor_objetivo - valor_izq) * (der - izq)) // (valor_der - valor_izq)\n",
    "        if pos >= 0 and pos < len(lista) and lista[pos] == objetivo:\n",
    "            return pos\n",
    "        if ascii_valor(lista[pos]) < valor_objetivo:\n",
    "            izq = pos + 1\n",
    "        else:\n",
    "            der = pos - 1\n",
    "    return -1\n",
    "\n",
    "# Lista de prueba y búsqueda\n",
    "lista = [\"apple\", \"banana\", \"cherry\", \"date\", \"fig\", \"grape\"]\n",
    "objetivo = \"fig\"\n",
    "indice = busqueda_interpolacion_strings(lista, objetivo)\n",
    "print(f\"Índice de '{objetivo}': {indice}\")\n"
   ]
  },
  {
   "cell_type": "markdown",
   "id": "db7699c9",
   "metadata": {},
   "source": [
    "### Ejercicio 9: Búsqueda por Interpolación en Datos Flotantes\n",
    "\n",
    "Adapta la búsqueda por interpolación para trabajar eficientemente con listas de números flotantes, teniendo en cuenta la precisión de los cálculos."
   ]
  },
  {
   "cell_type": "code",
   "execution_count": null,
   "id": "c2fb5011",
   "metadata": {},
   "outputs": [],
   "source": [
    "def busqueda_interpolacion_flotantes(lista, objetivo):\n",
    "    izq, der = 0, len(lista) - 1\n",
    "    while izq <= der:\n",
    "        if lista[izq] == lista[der]:\n",
    "            return izq if lista[izq] == objetivo else -1\n",
    "        pos = izq + int(((objetivo - lista[izq]) * (der - izq)) / (lista[der] - lista[izq]))\n",
    "        if lista[pos] == objetivo or abs(lista[pos] - objetivo) < 0.001:  # Ajuste por precisión flotante\n",
    "            return pos\n",
    "        if lista[pos] < objetivo:\n",
    "            izq = pos + 1\n",
    "        else:\n",
    "            der = pos - 1\n",
    "    return -1\n",
    "\n",
    "# Lista de prueba y búsqueda\n",
    "lista = [1.02, 2.04, 3.06, 4.08, 5.10, 6.12]\n",
    "objetivo = 4.08\n",
    "indice = busqueda_interpolacion_flotantes(lista, objetivo)\n",
    "print(f\"Índice de {objetivo}: {indice}\")\n"
   ]
  },
  {
   "cell_type": "markdown",
   "id": "f610676b",
   "metadata": {},
   "source": [
    "### Ejercicio 10: Búsqueda por Interpolación en Arrays Multidimensionales\n",
    "\n",
    "Desarrolla una función de búsqueda por interpolación que pueda aplicarse a arrays multidimensionales, adaptando la lógica de interpolación para ubicar elementos en estructuras de datos más complejas."
   ]
  },
  {
   "cell_type": "code",
   "execution_count": null,
   "id": "f5fd6532",
   "metadata": {},
   "outputs": [],
   "source": [
    "def busqueda_multidimensional(array, objetivo):\n",
    "    # Esta función es conceptual y requeriría una implementación específica basada en la estructura del array multidimensional.\n",
    "    return -1\n",
    "\n",
    "# Ejemplo conceptual, la implementación detallada depende de la estructura específica del array\n"
   ]
  },
  {
   "cell_type": "markdown",
   "id": "afe10751",
   "metadata": {},
   "source": [
    "Estos ejercicios avanzados están diseñados para profundizar en la comprensión y aplicación de la búsqueda por interpolación, adaptando este algoritmo a diferentes contextos y desafíos, desde listas grandes y con duplicados hasta estructuras de datos más complejas como strings, flotantes, y arrays multidimensionales."
   ]
  }
 ],
 "metadata": {},
 "nbformat": 4,
 "nbformat_minor": 5
}
