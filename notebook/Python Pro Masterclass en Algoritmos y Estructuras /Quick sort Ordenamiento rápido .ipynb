{
 "cells": [
  {
   "cell_type": "markdown",
   "id": "3006aa9b",
   "metadata": {},
   "source": [
    "# Quick sort: Ordenamiento rápido\n",
    "\n",
    "### Introducción:\n",
    "\n",
    "Quick Sort, también conocido como ordenamiento rápido, es un eficiente algoritmo de ordenamiento que utiliza el enfoque de dividir para conquistar. Es especialmente bueno para grandes conjuntos de datos y su rendimiento promedio es generalmente mejor que otros algoritmos de ordenamiento como el Bubble Sort o el Merge Sort. Su eficiencia radica en la elección de un 'pivote' y la partición del conjunto de datos en subconjuntos que son ordenados de manera independiente.\n",
    "\n",
    "### Concepto de Quick Sort:\n",
    "\n",
    "El proceso de Quick Sort implica los siguientes pasos:\n",
    "\n",
    "1. **Elección del Pivote**: Seleccionar un elemento como pivote. La elección del pivote puede afectar significativamente el rendimiento del algoritmo.\n",
    "2. **Partición**: Reorganizar la lista de manera que todos los elementos menores que el pivote queden a su izquierda y todos los elementos mayores queden a su derecha.\n",
    "3. **Recursión**: Aplicar de manera recursiva el mismo proceso a los subconjuntos generados por la partición.\n",
    "\n",
    "### Implementación en Python:"
   ]
  },
  {
   "cell_type": "code",
   "execution_count": null,
   "id": "99805dfc",
   "metadata": {},
   "outputs": [],
   "source": [
    "def quick_sort(lista):\n",
    "    if len(lista) <= 1:\n",
    "        return lista\n",
    "    else:\n",
    "        pivote = lista.pop()  # Toma el último elemento como pivote\n",
    "        menores = []  # Elementos menores que el pivote\n",
    "        mayores = []  # Elementos mayores que el pivote\n",
    "\n",
    "        for elemento in lista:\n",
    "            if elemento <= pivote:\n",
    "                menores.append(elemento)\n",
    "            else:\n",
    "                mayores.append(elemento)\n",
    "\n",
    "        return quick_sort(menores) + [pivote] + quick_sort(mayores)\n"
   ]
  },
  {
   "cell_type": "markdown",
   "id": "f0830a3d",
   "metadata": {},
   "source": [
    "### Ejemplo de Uso:"
   ]
  },
  {
   "cell_type": "code",
   "execution_count": null,
   "id": "e6357145",
   "metadata": {},
   "outputs": [],
   "source": [
    "mi_lista = [99, 4, 6, 2, 12, 11, 13]\n",
    "lista_ordenada = quick_sort(mi_lista)\n",
    "print(\"Lista ordenada:\", lista_ordenada)\n"
   ]
  },
  {
   "cell_type": "markdown",
   "id": "b3276694",
   "metadata": {},
   "source": [
    "### Complejidad del Algoritmo:\n",
    "\n",
    "- **Mejor caso y caso promedio**: O(n log n), donde n es el número de elementos en la lista.\n",
    "- **Peor caso**: O(n²), especialmente si el pivote es el menor o el mayor elemento en cada partición. Esto se puede mitigar mediante técnicas como la elección de pivote aleatorio o la mediana de tres.\n",
    "\n",
    "### Ventajas de Quick Sort:\n",
    "\n",
    "- **Eficiencia**: Es uno de los algoritmos de ordenamiento más rápidos en promedio.\n",
    "- **Espacio**: Quick Sort es un algoritmo in situ; aparte del espacio en la pila debido a la recursión, no requiere espacio adicional.\n",
    "\n",
    "### Desventajas de Quick Sort:\n",
    "\n",
    "- **Peor caso de rendimiento**: En casos específicos, su rendimiento puede degradarse a O(n²).\n",
    "- **No Estable**: Quick Sort no es un algoritmo de ordenamiento estable, lo que significa que puede cambiar el orden relativo de elementos iguales.\n",
    "\n",
    "### Conclusión:\n",
    "\n",
    "Quick Sort es un algoritmo de ordenamiento muy eficiente y comúnmente utilizado. Su rendimiento en el caso promedio lo hace preferible para la mayoría de las aplicaciones, aunque es importante ser consciente de su comportamiento en el peor de los casos y considerar el uso de algoritmos como Merge Sort en situaciones donde la estabilidad es una preocupación."
   ]
  }
 ],
 "metadata": {},
 "nbformat": 4,
 "nbformat_minor": 5
}
