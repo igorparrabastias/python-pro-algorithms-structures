{
 "cells": [
  {
   "cell_type": "markdown",
   "id": "cc99aedc",
   "metadata": {},
   "source": [
    "# Iteradores y Generadores\n",
    "\n",
    "### Introducción:\n",
    "\n",
    "Los iteradores y generadores son conceptos fundamentales en Python para trabajar con secuencias de datos de manera eficiente. Los iteradores permiten recorrer colecciones de datos, mientras que los generadores facilitan la creación de iteradores de una forma más sencilla y con menor uso de memoria. Esta clase aborda cómo crear y utilizar ambos, con un enfoque especial en los generadores de expresión.\n",
    "\n",
    "### Iteradores en Python:\n",
    "\n",
    "- **Concepto de Iterador**:\n",
    "    - Un iterador es un objeto que implementa los métodos `__iter__()` y `__next__()`, permitiendo recorrer los elementos de una colección uno por uno.\n",
    "    - Ejemplo de uso de un iterador:"
   ]
  },
  {
   "cell_type": "code",
   "execution_count": null,
   "id": "b06fba1c",
   "metadata": {},
   "outputs": [],
   "source": [
    "```python\n",
    "mi_lista = [1, 2, 3]\n",
    "iterador = iter(mi_lista)\n",
    "\n",
    "print(next(iterador))  # 1\n",
    "print(next(iterador))  # 2\n",
    "print(next(iterador))  # 3\n",
    "\n",
    "```"
   ]
  },
  {
   "cell_type": "markdown",
   "id": "b16acca7",
   "metadata": {},
   "source": [
    "- **Creación de un Iterador Personalizado**:\n",
    "    - Se puede crear un iterador personalizado definiendo una clase con los métodos mencionados.\n",
    "    - Ejemplo de un iterador para una secuencia de números:"
   ]
  },
  {
   "cell_type": "code",
   "execution_count": null,
   "id": "744c5541",
   "metadata": {},
   "outputs": [],
   "source": [
    "```python\n",
    "class Contador:\n",
    "    def __init__(self, bajo, alto):\n",
    "        self.actual = bajo\n",
    "        self.alto = alto\n",
    "\n",
    "    def __iter__(self):\n",
    "        return self\n",
    "\n",
    "    def __next__(self):\n",
    "        if self.actual < self.alto:\n",
    "            numero = self.actual\n",
    "            self.actual += 1\n",
    "            return numero\n",
    "        raise StopIteration\n",
    "\n",
    "for numero in Contador(3, 6):\n",
    "    print(numero)\n",
    "\n",
    "```\n"
   ]
  },
  {
   "cell_type": "markdown",
   "id": "b68cc845",
   "metadata": {},
   "source": [
    "### Generadores en Python:\n",
    "\n",
    "- **Concepto de Generador**:\n",
    "    - Un generador es una forma sencilla de crear un iterador. Se define como una función, pero en lugar de retornar valores, utiliza la palabra clave `yield`.\n",
    "    - Ejemplo de un generador simple:"
   ]
  },
  {
   "cell_type": "code",
   "execution_count": null,
   "id": "687789ee",
   "metadata": {},
   "outputs": [],
   "source": [
    "```python\n",
    "def contador(bajo, alto):\n",
    "    while bajo < alto:\n",
    "        yield bajo\n",
    "        bajo += 1\n",
    "\n",
    "for x in contador(3, 6):\n",
    "    print(x)\n",
    "\n",
    "```"
   ]
  },
  {
   "cell_type": "markdown",
   "id": "c720805a",
   "metadata": {},
   "source": [
    "- **Generadores de Expresión**:\n",
    "    - Los generadores de expresión son una forma compacta de crear generadores, similar a las comprensiones de listas.\n",
    "    - Ejemplo de un generador de expresión:"
   ]
  },
  {
   "cell_type": "code",
   "execution_count": null,
   "id": "e7cb3e39",
   "metadata": {},
   "outputs": [],
   "source": [
    "```python\n",
    "cuadrados = (x*x for x in range(10))\n",
    "for x in cuadrados:\n",
    "    print(x)\n",
    "\n",
    "```\n"
   ]
  },
  {
   "cell_type": "markdown",
   "id": "fba3abc0",
   "metadata": {},
   "source": [
    "### Ejercicios:\n",
    "\n",
    "1. **Generador de Fibonacci**: Escribe un generador que produzca la secuencia de Fibonacci.\n",
    "2. **Iterador de Pares e Impares**: Crea un iterador personalizado que devuelva alternativamente números pares e impares.\n",
    "3. **Generador de Expresión para Filtrar**: Utiliza un generador de expresión para filtrar y procesar datos de una lista.\n",
    "\n",
    "### Conclusión:\n",
    "\n",
    "La comprensión de iteradores y generadores es esencial para la manipulación eficiente de datos en Python. Estos conceptos no solo hacen que el código sea más eficiente en términos de memoria, sino también más legible y conciso. En la próxima clase, nos centraremos en el manejo de excepciones y cómo manejar los errores de manera elegante en Python.\n",
    "\n",
    "### Soluciones:\n",
    "\n",
    "1. **Generador de Fibonacci**:"
   ]
  },
  {
   "cell_type": "code",
   "execution_count": null,
   "id": "4582acaa",
   "metadata": {},
   "outputs": [],
   "source": [
    "```python\n",
    "def fibonacci(n):\n",
    "    a, b = 0, 1\n",
    "    for _ in range(n):\n",
    "        yield a\n",
    "        a, b = b, a + b\n",
    "\n",
    "for numero in fibonacci(10):\n",
    "    print(numero)\n",
    "\n",
    "```"
   ]
  },
  {
   "cell_type": "markdown",
   "id": "82ec0212",
   "metadata": {},
   "source": [
    "2. **Iterador de Pares e Impares**:"
   ]
  },
  {
   "cell_type": "code",
   "execution_count": null,
   "id": "d7131434",
   "metadata": {},
   "outputs": [],
   "source": [
    "```python\n",
    "class ParesImpares:\n",
    "    def __init__(self, maximo):\n",
    "        self.maximo = maximo\n",
    "\n",
    "    def __iter__(self):\n",
    "        self.numero = 0\n",
    "        return self\n",
    "\n",
    "    def __next__(self):\n",
    "        if self.numero < self.maximo:\n",
    "            resultado = self.numero\n",
    "            self.numero += 2\n",
    "            return resultado\n",
    "        else:\n",
    "            self.numero = 1\n",
    "            raise StopIteration\n",
    "\n",
    "pares = ParesImpares(10)\n",
    "impares = ParesImpares(11)\n",
    "print(list(pares))  # [0, 2, 4, 6, 8]\n",
    "print(list(impares))  # [1, 3, 5, 7, 9]\n",
    "\n",
    "```"
   ]
  },
  {
   "cell_type": "markdown",
   "id": "40d44e1c",
   "metadata": {},
   "source": [
    "3. **Generador de Expresión para Filtrar**:\n",
    "    \n",
    "    ```python\n",
    "    numeros = [1, 2, 3, 4, 5, 6, 7, 8, 9, 10]\n",
    "    pares = (x for x in numeros if x % 2 == 0)\n",
    "    \n",
    "    for par in pares:\n",
    "        print(par)\n",
    "    \n",
    "    ```"
   ]
  }
 ],
 "metadata": {},
 "nbformat": 4,
 "nbformat_minor": 5
}
