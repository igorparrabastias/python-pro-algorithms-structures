{
 "cells": [
  {
   "cell_type": "markdown",
   "id": "9228976a",
   "metadata": {},
   "source": [
    "# Anexo 6: Comprensiones de Listas en Profundidad\n",
    "\n",
    "- Estudio exhaustivo sobre las comprensiones de listas y su eficiencia en Python.\n",
    "\n",
    "### **Introducción**\n",
    "\n",
    "Las comprensiones de listas son una característica poderosa y expresiva de Python, permitiendo la creación de listas de manera concisa y eficiente a partir de iterables. No solo mejoran la legibilidad del código sino que también, en muchos casos, ofrecen una mejora en la eficiencia en comparación con los bucles tradicionales o la aplicación de funciones como `map()` y `filter()`. Este anexo se dedica a explorar las comprensiones de listas, sus usos, ventajas y consideraciones de eficiencia.\n",
    "\n",
    "### **Sintaxis Básica**\n",
    "\n",
    "La sintaxis básica de una comprensión de lista es:"
   ]
  },
  {
   "cell_type": "code",
   "execution_count": null,
   "id": "81b5d679",
   "metadata": {},
   "outputs": [],
   "source": [
    "[expresion for item in iterable if condicion]"
   ]
  },
  {
   "cell_type": "markdown",
   "id": "ed36e531",
   "metadata": {},
   "source": [
    "Donde `expresion` es cualquier expresión válida de Python, `item` es el nombre de la variable que toma cada valor en el `iterable`, y `condicion` es una cláusula opcional `if` que filtra los elementos del iterable.\n",
    "\n",
    "### **Ejemplos Básicos**\n",
    "\n",
    "Crear una lista de los cuadrados de los primeros 10 números enteros:"
   ]
  },
  {
   "cell_type": "code",
   "execution_count": null,
   "id": "ecf2422b",
   "metadata": {},
   "outputs": [],
   "source": [
    "cuadrados = [x**2 for x in range(1, 11)]"
   ]
  },
  {
   "cell_type": "markdown",
   "id": "63968119",
   "metadata": {},
   "source": [
    "Filtrar los números pares de una lista:"
   ]
  },
  {
   "cell_type": "code",
   "execution_count": null,
   "id": "bc3cc984",
   "metadata": {},
   "outputs": [],
   "source": [
    "pares = [x for x in range(1, 11) if x % 2 == 0]"
   ]
  },
  {
   "cell_type": "markdown",
   "id": "139659a6",
   "metadata": {},
   "source": [
    "### **Ventajas sobre Métodos Tradicionales**\n",
    "\n",
    "- **Legibilidad**: Las comprensiones de listas son a menudo más legibles y concisas que los bucles `for` equivalentes.\n",
    "- **Eficiencia**: Internamente, Python optimiza la ejecución de las comprensiones de listas, resultando en un código que puede ser más rápido que los bucles `for` tradicionales para la misma tarea.\n",
    "\n",
    "### **Comprensiones Anidadas**\n",
    "\n",
    "Las comprensiones de listas pueden anidarse para operar con listas de listas. Por ejemplo, para aplanar una lista de listas:"
   ]
  },
  {
   "cell_type": "code",
   "execution_count": null,
   "id": "5ceb603e",
   "metadata": {},
   "outputs": [],
   "source": [
    "lista_de_listas = [[1, 2, 3], [4, 5], [6, 7]]\n",
    "aplanada = [elemento for lista in lista_de_listas for elemento in lista]"
   ]
  },
  {
   "cell_type": "markdown",
   "id": "c0f20077",
   "metadata": {},
   "source": [
    "### **Eficiencia de las Comprensiones de Listas**\n",
    "\n",
    "La eficiencia de las comprensiones de listas proviene de la implementación interna en CPython, el intérprete estándar de Python. Este mecanismo es más rápido que ejecutar un bucle `for` a nivel de Python debido a la menor cantidad de llamadas a funciones y operaciones de asignación.\n",
    "\n",
    "### **Consideraciones de Rendimiento**\n",
    "\n",
    "- **Uso de Memoria**: Las comprensiones de listas pueden llevar a un uso significativo de memoria cuando se crean listas muy grandes. En estos casos, las expresiones generadoras pueden ser una alternativa más eficiente en cuanto a memoria.\n",
    "- **Comprensiones Anidadas**: Aunque potentes, las comprensiones anidadas pueden ser menos eficientes y más difíciles de leer, especialmente si se anidan más de dos niveles.\n",
    "- **Legibilidad vs. Eficiencia**: Aunque las comprensiones de listas suelen ser eficientes, la legibilidad no debe sacrificarse por la eficiencia. Si una comprensión de lista se vuelve demasiado complicada, podría ser mejor usar un bucle `for` tradicional o dividir la comprensión en partes más manejables.\n",
    "\n",
    "### Profundización en el uso de comprensiones de listas **`list comprehensions`** en Python\n",
    "\n",
    "Las comprensiones de listas (list comprehensions) en Python son una herramienta poderosa y expresiva para crear listas de manera concisa y eficiente. Además de su uso con **`range`**, se pueden aplicar de muchas otras maneras interesantes y avanzadas.\n",
    "\n",
    "1. **Filtrado en Comprensiones de Listas**:\n",
    "    - Las comprensiones de listas pueden incluir una condición para filtrar los elementos que se incluirán en la lista resultante.\n",
    "    - **Ejemplo Avanzado**: Crear una lista de números pares del 1 al 20."
   ]
  },
  {
   "cell_type": "code",
   "execution_count": null,
   "id": "5a1cffc2",
   "metadata": {},
   "outputs": [],
   "source": [
    "```python\n",
    "pares = [x for x in range(1, 21) if x % 2 == 0]\n",
    "print(pares)  # [2, 4, 6, 8, 10, 12, 14, 16, 18, 20]\n",
    "```"
   ]
  },
  {
   "cell_type": "markdown",
   "id": "f7c80419",
   "metadata": {},
   "source": [
    "2. **Comprensiones de Listas Anidadas**:\n",
    "    - Las comprensiones de listas se pueden anidar para crear estructuras más complejas, como listas de listas.\n",
    "    - **Ejemplo de Anidación**: Crear una tabla de multiplicar en forma de lista de listas."
   ]
  },
  {
   "cell_type": "code",
   "execution_count": null,
   "id": "7d76cadf",
   "metadata": {},
   "outputs": [],
   "source": [
    "```python\n",
    "tabla_multiplicar = [[x*y for y in range(1, 11)] for x in range(1, 11)]\n",
    "print(tabla_multiplicar)\n",
    "```"
   ]
  },
  {
   "cell_type": "markdown",
   "id": "c05fdcd2",
   "metadata": {},
   "source": [
    "3. **Comprensiones de Listas con Múltiples Bucles**:\n",
    "    - Puedes incluir varios bucles en una comprensión de lista para operaciones más complejas.\n",
    "    - **Ejemplo con Múltiples Bucles**: Crear pares de números de dos listas diferentes."
   ]
  },
  {
   "cell_type": "code",
   "execution_count": null,
   "id": "fb46bf76",
   "metadata": {},
   "outputs": [],
   "source": [
    "```python\n",
    "lista1 = [1, 2, 3]\n",
    "lista2 = [4, 5, 6]\n",
    "pares = [(x, y) for x in lista1 for y in lista2]\n",
    "print(pares)  # [(1, 4), (1, 5), (1, 6), (2, 4), ..., (3, 6)]\n",
    "```"
   ]
  },
  {
   "cell_type": "markdown",
   "id": "1dcca03c",
   "metadata": {},
   "source": [
    "4. **Uso de Funciones en Comprensiones de Listas**:\n",
    "    - Se pueden incorporar funciones dentro de las comprensiones de listas para realizar operaciones más complejas en cada elemento.\n",
    "    - **Ejemplo con Funciones**: Usar una función para transformar los elementos de la lista."
   ]
  },
  {
   "cell_type": "code",
   "execution_count": null,
   "id": "2025253c",
   "metadata": {},
   "outputs": [],
   "source": [
    "```python\n",
    "def cuadrado(x):\n",
    "    return x * x\n",
    "\n",
    "cuadrados = [cuadrado(x) for x in range(1, 6)]\n",
    "print(cuadrados)  # [1, 4, 9, 16, 25]\n",
    "```"
   ]
  },
  {
   "cell_type": "markdown",
   "id": "00d1b816",
   "metadata": {},
   "source": [
    "5. **Comprensiones de Diccionarios y Conjuntos**:\n",
    "    - Además de las listas, Python permite comprensiones de diccionarios y conjuntos, siguiendo una lógica similar.\n",
    "    - **Ejemplo de Comprensión de Diccionario**: Crear un diccionario con cuadrados de números."
   ]
  },
  {
   "cell_type": "code",
   "execution_count": null,
   "id": "2c6ede35",
   "metadata": {},
   "outputs": [],
   "source": [
    "```python\n",
    "cuadrados_dict = {x: x*x for x in range(1, 6)}\n",
    "print(cuadrados_dict)  # {1: 1, 2: 4, 3: 9, 4: 16, 5: 25}\n",
    "```\n"
   ]
  },
  {
   "cell_type": "markdown",
   "id": "676737b6",
   "metadata": {},
   "source": [
    "Las comprensiones de listas son una característica elegante y poderosa de Python que permite escribir código más limpio y eficiente, reduciendo la necesidad de bucles más largos y complejos. Dominarlas es una habilidad valiosa para cualquier programador de Python.\n",
    "\n",
    "### **Conclusiones**\n",
    "\n",
    "Las comprensiones de listas son una herramienta valiosa en Python que combina eficiencia con expresividad, permitiendo a los desarrolladores escribir código más limpio y rápido. Sin embargo, es importante utilizarlas con juicio, equilibrando la legibilidad y la eficiencia, especialmente en casos de comprensiones muy anidadas o cuando se trabaja con grandes volúmenes de datos. Apreciar y entender las comprensiones de listas es un paso importante para escribir código Python idiomatico y eficiente.\n",
    "\n",
    "> 🙋‍♂️ Comprensiones, asi como de comprender algo?\n",
    "> \n",
    "> \n",
    "> Sí, exactamente. La palabra \"comprensiones\" en \"comprensiones de listas\" (list comprehensions) en cierto modo se relaciona con la idea de \"comprender\" o \"entender\" algo. En el contexto de la programación, una \"comprensión de lista\" es una forma de construir una lista donde cada elemento es el resultado de alguna operación expresada en un formato claro y conciso, similar a cómo se \"comprende\" o se entiende una idea.\n",
    "> \n",
    "> En este caso, el término \"comprensión\" no se refiere a la acción de entender algo, sino más bien a la idea de que la lista se está construyendo (o \"componiendo\") de una manera que encapsula la lógica de una manera compacta y fácilmente entendible. Es una forma de expresar un proceso de construcción de una lista, donde cada elemento de la lista resultante es el producto de aplicar una expresión a cada elemento de otra secuencia o iterador.\n",
    ">"
   ]
  }
 ],
 "metadata": {},
 "nbformat": 4,
 "nbformat_minor": 5
}
