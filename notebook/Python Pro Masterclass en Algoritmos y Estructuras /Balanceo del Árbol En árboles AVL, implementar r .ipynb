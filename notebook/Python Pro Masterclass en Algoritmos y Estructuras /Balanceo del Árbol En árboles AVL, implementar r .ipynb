{
 "cells": [
  {
   "cell_type": "markdown",
   "id": "21c8347c",
   "metadata": {},
   "source": [
    "# Balanceo del Árbol: En árboles AVL, implementar rotaciones para mantener el árbol balanceado.\n",
    "\n",
    "Implementar un árbol AVL (Adelson-Velsky y Landis) implica agregar funcionalidades para realizar rotaciones de nodos para mantener el árbol balanceado en todo momento. Un árbol AVL es un tipo especial de árbol binario de búsqueda que se auto-balancea, donde la diferencia entre las alturas de los subárboles izquierdo y derecho de cualquier nodo es como máximo uno.\n",
    "\n",
    "Para mantener esta propiedad, se realizan rotaciones de nodos en ciertos escenarios después de inserciones o eliminaciones. Las rotaciones pueden ser simples (izquierda o derecha) o dobles (izquierda-derecha o derecha-izquierda).\n",
    "\n",
    "Aquí te muestro cómo podrías implementar las rotaciones en un árbol AVL:\n",
    "\n",
    "**Clase Nodo para Árbol AVL**"
   ]
  },
  {
   "cell_type": "code",
   "execution_count": null,
   "id": "8c9b57bf",
   "metadata": {},
   "outputs": [],
   "source": [
    "class AVLNode:\n",
    "    def __init__(self, data):\n",
    "        self.data = data\n",
    "        self.left = None\n",
    "        self.right = None\n",
    "        self.height = 1  # Altura inicial para un nodo recién creado\n"
   ]
  },
  {
   "cell_type": "markdown",
   "id": "f60d12ef",
   "metadata": {},
   "source": [
    "**Clase Árbol AVL**"
   ]
  },
  {
   "cell_type": "code",
   "execution_count": null,
   "id": "8000fc08",
   "metadata": {},
   "outputs": [],
   "source": [
    "class AVLTree:\n",
    "    def get_height(self, node):\n",
    "        if not node:\n",
    "            return 0\n",
    "        return node.height\n",
    "\n",
    "    def get_balance(self, node):\n",
    "        if not node:\n",
    "            return 0\n",
    "        return self.get_height(node.left) - self.get_height(node.right)\n",
    "\n",
    "    def right_rotate(self, y):\n",
    "        x = y.left\n",
    "        T2 = x.right\n",
    "\n",
    "        # Realizar rotación\n",
    "        x.right = y\n",
    "        y.left = T2\n",
    "\n",
    "        # Actualizar alturas\n",
    "        y.height = 1 + max(self.get_height(y.left), self.get_height(y.right))\n",
    "        x.height = 1 + max(self.get_height(x.left), self.get_height(x.right))\n",
    "\n",
    "        # Retornar la nueva raíz\n",
    "        return x\n",
    "\n",
    "    def left_rotate(self, x):\n",
    "        y = x.right\n",
    "        T2 = y.left\n",
    "\n",
    "        # Realizar rotación\n",
    "        y.left = x\n",
    "        x.right = T2\n",
    "\n",
    "        # Actualizar alturas\n",
    "        x.height = 1 + max(self.get_height(x.left), self.get_height(x.right))\n",
    "        y.height = 1 + max(self.get_height(y.left), self.get_height(y.right))\n",
    "\n",
    "        # Retornar la nueva raíz\n",
    "        return y\n",
    "\n",
    "    # Métodos para insertar, eliminar, etc., que incluirían llamadas a estas rotaciones según sea necesario.\n"
   ]
  },
  {
   "cell_type": "markdown",
   "id": "f06175b9",
   "metadata": {},
   "source": [
    "**Consideraciones**\n",
    "\n",
    "1. **Altura de los Nodos**: Cada nodo en un árbol AVL almacena su altura, que es la longitud del camino más largo desde ese nodo hasta una hoja.\n",
    "2. **Factor de Balance**: Es la diferencia entre las alturas de los subárboles izquierdo y derecho. Si este factor es más de 1 o menos de -1 en cualquier nodo, se realiza una rotación para balancear el árbol.\n",
    "3. **Rotaciones**:\n",
    "    - **Rotación a la Derecha**: Se usa cuando el subárbol izquierdo es más pesado.\n",
    "    - **Rotación a la Izquierda**: Se usa cuando el subárbol derecho es más pesado.\n",
    "    - **Rotaciones Dobles**: Combinaciones de rotaciones izquierda-derecha o derecha-izquierda se usan cuando el árbol está \"pesado\" en el subárbol del subárbol contrario.\n",
    "\n",
    "Implementar un árbol AVL completo con todas sus operaciones es un proceso bastante detallado, ya que requiere ajustar y verificar el balance después de cada inserción o eliminación, y realizar las rotaciones correspondientes. El código anterior es un esqueleto básico que muestra cómo podrían implementarse las rotaciones. Las operaciones de inserción y eliminación deberán llamar a estas rotaciones según sea necesario para mantener el árbol balanceado."
   ]
  }
 ],
 "metadata": {},
 "nbformat": 4,
 "nbformat_minor": 5
}
