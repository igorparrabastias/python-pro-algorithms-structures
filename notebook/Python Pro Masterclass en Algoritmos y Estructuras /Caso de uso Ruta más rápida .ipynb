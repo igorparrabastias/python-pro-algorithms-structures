{
 "cells": [
  {
   "cell_type": "markdown",
   "id": "b7aee4f5",
   "metadata": {},
   "source": [
    "# Caso de uso: Ruta más rápida\n",
    "\n",
    "Otro caso interesante para grafos es el análisis de redes de transporte público, como el sistema de metro o buses. Aquí, podemos usar grafos para optimizar rutas, encontrar el camino más rápido o con menos trasbordos entre dos estaciones.\n",
    "\n",
    "Vamos a simular una red de metro sencilla:"
   ]
  },
  {
   "cell_type": "code",
   "execution_count": null,
   "id": "1c9a92b6",
   "metadata": {},
   "outputs": [],
   "source": [
    "import networkx as nx\n",
    "\n",
    "# Crear un grafo para representar la red de metro\n",
    "metro = nx.Graph()\n",
    "\n",
    "# Añadir estaciones como nodos y rutas como aristas\n",
    "metro.add_edge('Estación 1', 'Estación 2', weight=2) # peso puede representar minutos entre estaciones\n",
    "metro.add_edge('Estación 2', 'Estación 3', weight=2)\n",
    "metro.add_edge('Estación 1', 'Estación 4', weight=1)\n",
    "metro.add_edge('Estación 4', 'Estación 3', weight=3)\n",
    "metro.add_edge('Estación 3', 'Estación 5', weight=4)\n",
    "\n",
    "# Encontrar el camino más rápido (menor tiempo total)\n",
    "def camino_mas_rapido(graph, inicio, fin):\n",
    "    return nx.shortest_path(graph, inicio, fin, weight='weight')\n",
    "\n",
    "# Calcular el camino más rápido de 'Estación 1' a 'Estación 5'\n",
    "ruta_rapida = camino_mas_rapido(metro, 'Estación 1', 'Estación 5')\n",
    "print(\"Ruta más rápida:\", ruta_rapida)\n"
   ]
  },
  {
   "cell_type": "markdown",
   "id": "350122ec",
   "metadata": {},
   "source": [
    "Este código crea un modelo simplificado de una red de metro y utiliza la función `shortest_path` de NetworkX con el parámetro `weight` para encontrar el camino más rápido basado en el tiempo total de viaje."
   ]
  }
 ],
 "metadata": {},
 "nbformat": 4,
 "nbformat_minor": 5
}
