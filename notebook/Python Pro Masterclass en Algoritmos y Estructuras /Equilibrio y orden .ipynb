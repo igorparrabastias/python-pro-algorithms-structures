{
 "cells": [
  {
   "cell_type": "markdown",
   "id": "f16baa67",
   "metadata": {},
   "source": [
    "# Equilibrio y orden\n",
    "\n",
    "Una particularidad interesante de los heaps es la forma en que mantienen el equilibrio y la propiedad de orden mientras se añaden o eliminan elementos. Esto se logra mediante operaciones conocidas como \"heapify up\" y \"heapify down\":\n",
    "\n",
    "- **Heapify Up**: Se utiliza al insertar un nuevo elemento. El elemento se coloca inicialmente al final del heap, y luego se mueve hacia arriba en el árbol hasta que se restaura la propiedad del heap.\n",
    "- **Heapify Down**: Se utiliza al eliminar el elemento de la cima del heap. Después de remover la raíz, el último elemento se mueve temporalmente a la cima y luego se desplaza hacia abajo en el árbol para mantener la propiedad del heap.\n",
    "\n",
    "Estas operaciones son clave para la eficiencia de los heaps, permitiendo que las inserciones y eliminaciones se realicen en tiempo logarítmico, manteniendo al mismo tiempo la estructura y propiedades necesarias del heap."
   ]
  }
 ],
 "metadata": {},
 "nbformat": 4,
 "nbformat_minor": 5
}
