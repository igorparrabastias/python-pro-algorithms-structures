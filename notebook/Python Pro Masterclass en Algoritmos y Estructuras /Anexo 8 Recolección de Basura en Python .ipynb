{
 "cells": [
  {
   "cell_type": "markdown",
   "id": "6f35cee5",
   "metadata": {},
   "source": [
    "# Anexo 8: Recolección de Basura en Python\n",
    "\n",
    "- Una visión general de cómo funciona la recolección de basura en Python y su impacto en la gestión de memoria.\n",
    "\n",
    "### **Introducción**\n",
    "\n",
    "La gestión de memoria es un aspecto crítico de cualquier lenguaje de programación. En Python, la gestión de memoria se realiza principalmente a través de un proceso automático conocido como recolección de basura. Este mecanismo se encarga de liberar memoria que ya no es accesible por el programa, ayudando a prevenir fugas de memoria y maximizar la eficiencia del uso de recursos. Este anexo proporciona una visión general de cómo funciona la recolección de basura en Python y discute su impacto en la gestión de memoria.\n",
    "\n",
    "### **Conteo de Referencias**\n",
    "\n",
    "El componente principal del sistema de recolección de basura en Python es el conteo de referencias. Python lleva un registro de cuántas referencias apuntan a cada objeto en memoria. Cuando el conteo de referencias de un objeto cae a cero, significa que el objeto ya no es accesible y, por lo tanto, puede ser eliminado de manera segura.\n",
    "\n",
    "### **Ejemplo de Conteo de Referencias:**"
   ]
  },
  {
   "cell_type": "code",
   "execution_count": null,
   "id": "5556fbdd",
   "metadata": {},
   "outputs": [],
   "source": [
    "import sys\n",
    "\n",
    "a = []  # Se crea un nuevo objeto lista\n",
    "print(sys.getrefcount(a))  # Muestra el número de referencias al objeto\n",
    "\n",
    "b = a  # Se crea una nueva referencia al mismo objeto\n",
    "print(sys.getrefcount(a))  # El conteo de referencias aumenta\n",
    "\n",
    "del b  # Se elimina una referencia\n",
    "print(sys.getrefcount(a))  # El conteo de referencias disminuye\\"
   ]
  },
  {
   "cell_type": "markdown",
   "id": "fa2f3e54",
   "metadata": {},
   "source": [
    "### **Recolección de Basura y Ciclos de Referencia**\n",
    "\n",
    "Aunque el conteo de referencias es efectivo para la mayoría de los casos, tiene una limitación significativa: no puede manejar los \"ciclos de referencia\". Un ciclo de referencia ocurre cuando dos o más objetos se refieren entre sí, creando un bucle que impide que el conteo de referencias de cualquiera de los objetos llegue a cero.\n",
    "\n",
    "Para solucionar este problema, Python implementa un algoritmo de recolección de basura generacional, que periódicamente busca estos ciclos de referencia y los elimina.\n",
    "\n",
    "### **Generaciones y Umbral**\n",
    "\n",
    "Los objetos en Python se clasifican en tres \"generaciones\" según su longevidad en el programa. Los objetos recién creados entran en la generación más joven (generación 0), y a medida que sobreviven a más ciclos de recolección de basura, pueden ser promovidos a generaciones mayores (generación 1 y luego generación 2). Python puede ajustar la frecuencia de la recolección de basura basándose en la cantidad de objetos en cada generación y los umbrales configurados para cada una.\n",
    "\n",
    "### **Impacto en la Gestión de Memoria**\n",
    "\n",
    "La recolección de basura en Python ayuda a asegurar que la memoria se utilice de manera eficiente, liberando automáticamente la memoria ocupada por objetos que ya no son necesarios. Sin embargo, el proceso de recolección de basura también tiene un costo de rendimiento, especialmente cuando se buscan y eliminan ciclos de referencia.\n",
    "\n",
    "### **Optimización de la Recolección de Basura**\n",
    "\n",
    "Los desarrolladores pueden optimizar el uso de la recolección de basura mediante la gestión cuidadosa de referencias y, en casos específicos, ajustando manualmente los parámetros del recolector de basura utilizando el módulo `gc`. Por ejemplo, puede ser útil desactivar temporalmente la recolección de basura durante la ejecución de un bloque de código crítico para el rendimiento y volver a activarla después.\n",
    "\n",
    "### **Conclusión**\n",
    "\n",
    "La recolección de basura en Python es un mecanismo fundamental para la gestión automática de la memoria, asegurando que los recursos se utilicen de manera eficiente y ayudando a prevenir fugas de memoria. Entender cómo funciona este sistema y cómo puede impactar el rendimiento de las aplicaciones es crucial para los desarrolladores que buscan escribir código eficiente y optimizado en Python."
   ]
  }
 ],
 "metadata": {},
 "nbformat": 4,
 "nbformat_minor": 5
}
