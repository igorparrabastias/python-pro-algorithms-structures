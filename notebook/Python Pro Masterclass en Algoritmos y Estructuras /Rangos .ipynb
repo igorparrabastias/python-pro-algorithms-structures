{
 "cells": [
  {
   "cell_type": "markdown",
   "id": "bfe1c66a",
   "metadata": {},
   "source": [
    "# Rangos\n",
    "\n",
    "### Introducción:\n",
    "\n",
    "Los rangos en Python son estructuras de datos inmutables y secuenciales, utilizados comúnmente para iterar un número específico de veces en bucles `for`. Son especialmente útiles en situaciones donde se necesita una secuencia de números enteros.\n",
    "\n",
    "### Fundamentos de Rangos:\n",
    "\n",
    "### Creación de Rangos:\n",
    "\n",
    "Un rango se puede crear usando la función incorporada `range()`, que puede ser llamada con uno, dos, o tres argumentos:\n",
    "\n",
    "1. `range(fin)`: Crea un rango desde 0 hasta `fin - 1`.\n",
    "2. `range(inicio, fin)`: Crea un rango desde `inicio` hasta `fin - 1`.\n",
    "3. `range(inicio, fin, paso)`: Crea un rango desde `inicio` hasta `fin - 1`, incrementando en `paso`."
   ]
  },
  {
   "cell_type": "code",
   "execution_count": null,
   "id": "fec1bda4",
   "metadata": {},
   "outputs": [],
   "source": [
    "```python\n",
    "rango_simple = range(5)        # Rango de 0 a 4\n",
    "rango_inicio_fin = range(1, 6) # Rango de 1 a 5\n",
    "rango_con_paso = range(0, 10, 2) # Rango de 0 a 8, de dos en dos\n",
    "\n",
    "```\n"
   ]
  },
  {
   "cell_type": "markdown",
   "id": "13405eb7",
   "metadata": {},
   "source": [
    "### Características:\n",
    "\n",
    "- **Inmutabilidad**: Una vez que un rango es creado, no se puede modificar.\n",
    "- **Eficiencia de Memoria**: Los rangos no almacenan todos los números que representan; en su lugar, calculan cada número en la secuencia según se necesite.\n",
    "\n",
    "### Iteración a Través de Rangos:\n",
    "\n",
    "Los rangos son comúnmente usados en bucles `for` para realizar una acción un número específico de veces."
   ]
  },
  {
   "cell_type": "code",
   "execution_count": null,
   "id": "6327d1e5",
   "metadata": {},
   "outputs": [],
   "source": [
    "for i in range(5):\n",
    "    print(i)  # Imprime números de 0 a 4\n"
   ]
  },
  {
   "cell_type": "markdown",
   "id": "a6d30329",
   "metadata": {},
   "source": [
    "### Conversión de Rangos a Listas:\n",
    "\n",
    "Aunque los rangos son útiles para la iteración, a veces es necesario convertirlos en listas, especialmente si se necesita una lista de números para manipular."
   ]
  },
  {
   "cell_type": "code",
   "execution_count": null,
   "id": "294b7e09",
   "metadata": {},
   "outputs": [],
   "source": [
    "lista_desde_rango = list(range(5))  # Convierte el rango en una lista [0, 1, 2, 3, 4]\n"
   ]
  },
  {
   "cell_type": "markdown",
   "id": "e57d7a7c",
   "metadata": {},
   "source": [
    "### Tipos y Operaciones Comunes:\n",
    "\n",
    "1. **Comprobación de Pertenencia**: Se puede verificar si un número pertenece a un rango usando `in`."
   ]
  },
  {
   "cell_type": "code",
   "execution_count": null,
   "id": "edf2acd8",
   "metadata": {},
   "outputs": [],
   "source": [
    "```python\n",
    "3 in range(5)  # True\n",
    "\n",
    "```"
   ]
  },
  {
   "cell_type": "markdown",
   "id": "b580dae1",
   "metadata": {},
   "source": [
    "2. **Longitud de un Rango**: Se puede obtener la cantidad de elementos en un rango con `len()`."
   ]
  },
  {
   "cell_type": "code",
   "execution_count": null,
   "id": "2235e2bf",
   "metadata": {},
   "outputs": [],
   "source": [
    "```python\n",
    "len(range(0, 10, 2))  # 5\n",
    "\n",
    "```"
   ]
  },
  {
   "cell_type": "markdown",
   "id": "bb4db888",
   "metadata": {},
   "source": [
    "3. **Indexación**: Aunque los rangos no son listas, se puede acceder a elementos individuales por su índice."
   ]
  },
  {
   "cell_type": "code",
   "execution_count": null,
   "id": "eff13cfa",
   "metadata": {},
   "outputs": [],
   "source": [
    "```python\n",
    "range(10)[3]  # 3\n",
    "\n",
    "```\n"
   ]
  },
  {
   "cell_type": "markdown",
   "id": "bbfdd87d",
   "metadata": {},
   "source": [
    "### Conclusión:\n",
    "\n",
    "Los rangos en Python son una herramienta esencial para la iteración y la generación de secuencias numéricas de manera eficiente. Aunque son limitados en términos de funcionalidad en comparación con las listas, su eficiencia en el uso de la memoria y su simplicidad los hacen ideales para bucles y operaciones que requieren secuencias de números enteros. En la próxima clase, exploraremos casos prácticos y avanzados donde los rangos se utilizan para resolver problemas específicos de manera eficiente."
   ]
  }
 ],
 "metadata": {},
 "nbformat": 4,
 "nbformat_minor": 5
}
