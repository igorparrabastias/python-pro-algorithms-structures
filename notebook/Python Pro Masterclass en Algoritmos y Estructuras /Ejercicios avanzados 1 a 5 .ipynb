{
 "cells": [
  {
   "cell_type": "markdown",
   "id": "bcc0e28b",
   "metadata": {},
   "source": [
    "# Ejercicios avanzados 1 a 5\n",
    "\n",
    "### Ejercicio 1: Invertir el Orden de las Palabras en una Cadena\n",
    "\n",
    "Dada una cadena, invierte el orden de las palabras."
   ]
  },
  {
   "cell_type": "code",
   "execution_count": null,
   "id": "3450958d",
   "metadata": {},
   "outputs": [],
   "source": [
    "# Ejercicio\n",
    "cadena = \"Bienvenidos al curso de Python\"\n",
    "invertida = ' '.join(cadena.split()[::-1])\n",
    "\n",
    "# Solución\n",
    "# invertida = \"Python de curso al Bienvenidos\"\n"
   ]
  },
  {
   "cell_type": "markdown",
   "id": "09bbb961",
   "metadata": {},
   "source": [
    "### Ejercicio 2: Verificar Palíndromos\n",
    "\n",
    "Escribe una función que verifique si una cadena es un palíndromo."
   ]
  },
  {
   "cell_type": "code",
   "execution_count": null,
   "id": "208cca7b",
   "metadata": {},
   "outputs": [],
   "source": [
    "# Ejercicio\n",
    "def es_palindromo(cadena):\n",
    "    cadena_limpia = ''.join(e for e in cadena if e.isalnum()).lower()\n",
    "    return cadena_limpia == cadena_limpia[::-1]\n",
    "\n",
    "# Solución\n",
    "# es_palindromo(\"Anita lava la tina\")  # True\n"
   ]
  },
  {
   "cell_type": "markdown",
   "id": "f7745a39",
   "metadata": {},
   "source": [
    "### Ejercicio 3: Contar la Frecuencia de Cada Carácter\n",
    "\n",
    "Dada una cadena, cuenta la frecuencia de cada carácter."
   ]
  },
  {
   "cell_type": "code",
   "execution_count": null,
   "id": "2ebfff9b",
   "metadata": {},
   "outputs": [],
   "source": [
    "# Ejercicio\n",
    "cadena = \"frecuencia de caracteres\"\n",
    "frecuencia = {char: cadena.count(char) for char in set(cadena)}\n",
    "\n",
    "# Solución\n",
    "# frecuencia = {'a': 4, 'c': 4, 'e': 6, 'f': 1, 'n': 1, 'd': 1, 'i': 1, 'r': 3, 'u': 1, 's': 1, ' ': 2, 't': 1}\n"
   ]
  },
  {
   "cell_type": "markdown",
   "id": "c6b0754c",
   "metadata": {},
   "source": [
    "### Ejercicio 4: Cadena con Mayor Longitud en una Lista\n",
    "\n",
    "Dada una lista de cadenas, encuentra la cadena con la mayor longitud."
   ]
  },
  {
   "cell_type": "code",
   "execution_count": null,
   "id": "17d99480",
   "metadata": {},
   "outputs": [],
   "source": [
    "# Ejercicio\n",
    "lista_cadenas = [\"Python\", \"Java\", \"C++\", \"Javascript\"]\n",
    "cadena_mas_larga = max(lista_cadenas, key=len)\n",
    "\n",
    "# Solución\n",
    "# cadena_mas_larga = \"Javascript\"\n"
   ]
  },
  {
   "cell_type": "markdown",
   "id": "fb99fbad",
   "metadata": {},
   "source": [
    "### Ejercicio 5: Formateo de Cadenas con Diccionario\n",
    "\n",
    "Dada una cadena con placeholders y un diccionario, reemplaza los placeholders con los valores del diccionario."
   ]
  },
  {
   "cell_type": "code",
   "execution_count": null,
   "id": "f7937ab2",
   "metadata": {},
   "outputs": [],
   "source": [
    "# Ejercicio\n",
    "cadena = \"Hola, mi nombre es {nombre} y vivo en {ciudad}.\"\n",
    "valores = {\"nombre\": \"Ana\", \"ciudad\": \"Madrid\"}\n",
    "cadena_formateada = cadena.format(**valores)\n",
    "\n",
    "# Solución\n",
    "# cadena_formateada = \"Hola, mi nombre es Ana y vivo en Madrid.\"\n"
   ]
  },
  {
   "cell_type": "markdown",
   "id": "1072940a",
   "metadata": {},
   "source": [
    "Estos ejercicios avanzados de cadenas en Python desafían tus habilidades de programación, abordando desde algoritmos clásicos hasta manipulaciones complejas de cadenas. Practicar con estos ejercicios te ayudará a profundizar tu comprensión y manejo de las cadenas en Python, una habilidad esencial en la programación moderna."
   ]
  }
 ],
 "metadata": {},
 "nbformat": 4,
 "nbformat_minor": 5
}
