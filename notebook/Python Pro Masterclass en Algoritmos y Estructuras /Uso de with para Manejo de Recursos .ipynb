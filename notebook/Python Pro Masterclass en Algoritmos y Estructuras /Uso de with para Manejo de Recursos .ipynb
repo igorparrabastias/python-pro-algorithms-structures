{
 "cells": [
  {
   "cell_type": "markdown",
   "id": "dac74cb4",
   "metadata": {},
   "source": [
    "# Uso de with para Manejo de Recursos\n",
    "\n",
    "### Introducción:\n",
    "\n",
    "El manejo de recursos es una tarea crucial en programación, especialmente cuando se trabaja con archivos, conexiones de red o bases de datos. Python ofrece una forma elegante y eficiente de gestionar recursos a través de los context managers, utilizando la declaración `with`. Esta clase se enfoca en entender cómo y por qué usar `with` para un manejo de recursos seguro y eficiente.\n",
    "\n",
    "### Context Managers y la Declaración `with`:\n",
    "\n",
    "- **Concepto de Context Managers**:\n",
    "    - Un context manager en Python es un objeto que define el contexto de ejecución, proporcionando métodos para establecer y limpiar recursos.\n",
    "    - Se utilizan principalmente para garantizar que los recursos se liberen correctamente, incluso si ocurre un error.\n",
    "- **Uso de `with` en Manejo de Archivos**:\n",
    "    - Ejemplo clásico es la lectura o escritura de archivos.\n",
    "    - Automatiza la apertura y cierre de archivos, asegurando que el archivo se cierra correctamente.\n",
    "    - Ejemplo:"
   ]
  },
  {
   "cell_type": "code",
   "execution_count": null,
   "id": "1767e526",
   "metadata": {},
   "outputs": [],
   "source": [
    "```python\n",
    "with open(\"ejemplo.txt\", \"r\") as archivo:\n",
    "    contenido = archivo.read()\n",
    "# Aquí el archivo ya está cerrado automáticamente\n",
    "\n",
    "```"
   ]
  },
  {
   "cell_type": "markdown",
   "id": "e8418d09",
   "metadata": {},
   "source": [
    "- **Creación de un Context Manager Personalizado**:\n",
    "    - Se pueden crear context managers usando clases con métodos `__enter__` y `__exit__`.\n",
    "    - Ejemplo de un context manager para una base de datos ficticia:"
   ]
  },
  {
   "cell_type": "code",
   "execution_count": null,
   "id": "55b11208",
   "metadata": {},
   "outputs": [],
   "source": [
    "```python\n",
    "class BaseDeDatos:\n",
    "    def __enter__(self):\n",
    "        # Establecer conexión a la base de datos\n",
    "        self.conexion = \"Conexión establecida\"\n",
    "        return self.conexion\n",
    "\n",
    "    def __exit__(self, exc_type, exc_value, traceback):\n",
    "        # Cerrar conexión a la base de datos\n",
    "        self.conexion = \"Conexión cerrada\"\n",
    "        print(self.conexion)\n",
    "\n",
    "with BaseDeDatos() as db:\n",
    "    # Interactuar con la base de datos\n",
    "    pass\n",
    "# La conexión se cierra automáticamente al salir del bloque with\n",
    "\n",
    "```\n"
   ]
  },
  {
   "cell_type": "markdown",
   "id": "4bcbfdec",
   "metadata": {},
   "source": [
    "### Ejercicios:\n",
    "\n",
    "1. **Context Manager para Medir Tiempo**: Crea un context manager que mida y muestre el tiempo que tarda en ejecutarse un bloque de código.\n",
    "2. **Manejo de Archivos**: Utiliza la declaración `with` para escribir en un archivo y luego leer su contenido.\n",
    "3. **Context Manager para Conexión a Base de Datos**: Escribe un context manager que simule la conexión y desconexión de una base de datos.\n",
    "\n",
    "### Conclusión:\n",
    "\n",
    "El uso de `with` y context managers en Python simplifica el manejo de recursos, asegurando una gestión segura y eficiente. Es una herramienta fundamental para evitar errores comunes como fugas de recursos. En la próxima clase, exploraremos los iteradores y generadores, conceptos clave para la programación eficiente en Python.\n",
    "\n",
    "### Soluciones:\n",
    "\n",
    "1. **Context Manager para Medir Tiempo**:"
   ]
  },
  {
   "cell_type": "code",
   "execution_count": null,
   "id": "2a77b845",
   "metadata": {},
   "outputs": [],
   "source": [
    "```python\n",
    "import time\n",
    "\n",
    "class MedidorDeTiempo:\n",
    "    def __enter__(self):\n",
    "        self.inicio = time.time()\n",
    "\n",
    "    def __exit__(self, exc_type, exc_value, traceback):\n",
    "        self.fin = time.time()\n",
    "        print(f\"Tiempo transcurrido: {self.fin - self.inicio} segundos\")\n",
    "\n",
    "with MedidorDeTiempo():\n",
    "    time.sleep(2)  # Simula una tarea que toma tiempo\n",
    "\n",
    "```"
   ]
  },
  {
   "cell_type": "markdown",
   "id": "cf8fd0e8",
   "metadata": {},
   "source": [
    "2. **Manejo de Archivos**:"
   ]
  },
  {
   "cell_type": "code",
   "execution_count": null,
   "id": "a9b2bad2",
   "metadata": {},
   "outputs": [],
   "source": [
    "```python\n",
    "with open(\"test.txt\", \"w\") as archivo:\n",
    "    archivo.write(\"Hola Mundo\")\n",
    "\n",
    "with open(\"test.txt\", \"r\") as archivo:\n",
    "    contenido = archivo.read()\n",
    "    print(contenido)\n",
    "\n",
    "```"
   ]
  },
  {
   "cell_type": "markdown",
   "id": "683c2d31",
   "metadata": {},
   "source": [
    "3. **Context Manager para Conexión a Base de Datos**:\n",
    "    \n",
    "    ```python\n",
    "    class ConexionDB:\n",
    "        def __enter__(self):\n",
    "            print(\"Conectando a la base de datos...\")\n",
    "            return \"Conexión establecida\""
   ]
  },
  {
   "cell_type": "code",
   "execution_count": null,
   "id": "1d73c28e",
   "metadata": {},
   "outputs": [],
   "source": [
    "def __exit__(self, exc_type, exc_value, traceback):\n",
    "    print(\"Desconectando de la base de datos...\")\n",
    "    print(\"Conexión cerrada\")"
   ]
  },
  {
   "cell_type": "markdown",
   "id": "a8e2aecf",
   "metadata": {},
   "source": [
    "with ConexionDB() as db:\n",
    "        print(db)\n",
    "    \n",
    "    ```"
   ]
  }
 ],
 "metadata": {},
 "nbformat": 4,
 "nbformat_minor": 5
}
