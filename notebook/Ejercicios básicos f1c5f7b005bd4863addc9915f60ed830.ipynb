{
 "cells": [
  {
   "cell_type": "markdown",
   "id": "719f1f6d",
   "metadata": {},
   "source": [
    "# Ejercicios básicos\n",
    "\n",
    "### Ejercicio 1: Sumar Todos los Elementos"
   ]
  },
  {
   "cell_type": "code",
   "execution_count": null,
   "id": "ee3efcfe",
   "metadata": {},
   "outputs": [],
   "source": [
    "# Ejercicio\n",
    "def sumar_elementos(lista):\n",
    "    return sum(lista)\n",
    "\n",
    "# Solución\n",
    "sumar_elementos([1, 2, 3, 4])  # 10\n"
   ]
  },
  {
   "cell_type": "markdown",
   "id": "e0759289",
   "metadata": {},
   "source": [
    "### Ejercicio 2: Encontrar el Máximo"
   ]
  },
  {
   "cell_type": "code",
   "execution_count": null,
   "id": "49cccb0a",
   "metadata": {},
   "outputs": [],
   "source": [
    "# Ejercicio\n",
    "def maximo(lista):\n",
    "    return max(lista)\n",
    "\n",
    "# Solución\n",
    "maximo([1, 3, 5, 7, 9])  # 9\n"
   ]
  },
  {
   "cell_type": "markdown",
   "id": "be50a643",
   "metadata": {},
   "source": [
    "### Ejercicio 3: Contar Ocurrencias de un Elemento"
   ]
  },
  {
   "cell_type": "code",
   "execution_count": null,
   "id": "8a0c237b",
   "metadata": {},
   "outputs": [],
   "source": [
    "# Ejercicio\n",
    "def contar_ocurrencias(lista, elemento):\n",
    "    return lista.count(elemento)\n",
    "\n",
    "# Solución\n",
    "contar_ocurrencias([1, 3, 7, 8, 7], 7)  # 2\n"
   ]
  },
  {
   "cell_type": "markdown",
   "id": "061ac03c",
   "metadata": {},
   "source": [
    "### Ejercicio 4: Eliminar Elementos Duplicados"
   ]
  },
  {
   "cell_type": "code",
   "execution_count": null,
   "id": "09715546",
   "metadata": {},
   "outputs": [],
   "source": [
    "# Ejercicio\n",
    "def eliminar_duplicados(lista):\n",
    "    return list(set(lista))\n",
    "\n",
    "# Solución\n",
    "eliminar_duplicados([1, 2, 2, 3, 3, 3, 4])  # [1, 2, 3, 4]\n"
   ]
  },
  {
   "cell_type": "markdown",
   "id": "db3a618d",
   "metadata": {},
   "source": [
    "### Ejercicio 5: Comprobar si una Lista Está Vacía"
   ]
  },
  {
   "cell_type": "code",
   "execution_count": null,
   "id": "1524a6a8",
   "metadata": {},
   "outputs": [],
   "source": [
    "# Ejercicio\n",
    "def esta_vacia(lista):\n",
    "    return len(lista) == 0\n",
    "\n",
    "# Solución\n",
    "esta_vacia([])  # True\n"
   ]
  },
  {
   "cell_type": "markdown",
   "id": "492db598",
   "metadata": {},
   "source": [
    "### Ejercicio 6: Concatenar Dos Listas"
   ]
  },
  {
   "cell_type": "code",
   "execution_count": null,
   "id": "45457983",
   "metadata": {},
   "outputs": [],
   "source": [
    "# Ejercicio\n",
    "def concatenar_listas(lista1, lista2):\n",
    "    return lista1 + lista2\n",
    "\n",
    "# Solución\n",
    "concatenar_listas([1, 2, 3], [4, 5, 6])  # [1, 2, 3, 4, 5, 6]\n"
   ]
  },
  {
   "cell_type": "markdown",
   "id": "d642d72d",
   "metadata": {},
   "source": [
    "### Ejercicio 7: Encontrar el Menor Número"
   ]
  },
  {
   "cell_type": "code",
   "execution_count": null,
   "id": "52048907",
   "metadata": {},
   "outputs": [],
   "source": [
    "# Ejercicio\n",
    "def minimo(lista):\n",
    "    return min(lista)\n",
    "\n",
    "# Solución\n",
    "minimo([5, 4, 3, 2, 1])  # 1\n"
   ]
  },
  {
   "cell_type": "markdown",
   "id": "5c7d5a81",
   "metadata": {},
   "source": [
    "### Ejercicio 8: Copiar una Lista"
   ]
  },
  {
   "cell_type": "code",
   "execution_count": null,
   "id": "745be3fd",
   "metadata": {},
   "outputs": [],
   "source": [
    "# Ejercicio\n",
    "def copiar_lista(lista):\n",
    "    return lista.copy()\n",
    "\n",
    "# Solución\n",
    "copiar_lista([1, 2, 3])  # [1, 2, 3]\n"
   ]
  },
  {
   "cell_type": "markdown",
   "id": "47ff6309",
   "metadata": {},
   "source": [
    "### Ejercicio 9: Insertar un Elemento en una Posición Específica"
   ]
  },
  {
   "cell_type": "code",
   "execution_count": null,
   "id": "a2c458a8",
   "metadata": {},
   "outputs": [],
   "source": [
    "# Ejercicio\n",
    "def insertar_elemento(lista, indice, valor):\n",
    "    lista.insert(indice, valor)\n",
    "    return lista\n",
    "\n",
    "# Solución\n",
    "insertar_elemento([1, 2, 4, 5], 2, 3)  # [1, 2, 3, 4, 5]\n"
   ]
  },
  {
   "cell_type": "markdown",
   "id": "5ea2f97f",
   "metadata": {},
   "source": [
    "### Ejercicio 10: Invertir una Lista"
   ]
  },
  {
   "cell_type": "code",
   "execution_count": null,
   "id": "ffb150f5",
   "metadata": {},
   "outputs": [],
   "source": [
    "# Ejercicio\n",
    "def invertir_lista(lista):\n",
    "    return lista[::-1]\n",
    "\n",
    "# Solución\n",
    "invertir_lista([1, 2, 3, 4, 5])  # [5, 4, 3, 2, 1]\n"
   ]
  },
  {
   "cell_type": "markdown",
   "id": "58f7e61f",
   "metadata": {},
   "source": [
    "### Ejercicio 11: Encontrar la Suma de los Números Pares"
   ]
  },
  {
   "cell_type": "code",
   "execution_count": null,
   "id": "3dc55f5c",
   "metadata": {},
   "outputs": [],
   "source": [
    "# Ejercicio\n",
    "def suma_pares(lista):\n",
    "    return sum(x for x in lista if x % 2 == 0)\n",
    "\n",
    "# Solución\n",
    "suma_pares([1, 2, 3, 4, 5, 6])  # 12\n"
   ]
  },
  {
   "cell_type": "markdown",
   "id": "3170de24",
   "metadata": {},
   "source": [
    "### Ejercicio 12: Filtrar Números Mayores que un Valor Dado"
   ]
  },
  {
   "cell_type": "code",
   "execution_count": null,
   "id": "ed4ee41c",
   "metadata": {},
   "outputs": [],
   "source": [
    "# Ejercicio\n",
    "def filtrar_mayores(lista, valor):\n",
    "    return [x for x in lista if x > valor]\n",
    "\n",
    "# Solución\n",
    "filtrar_mayores([1, 2, 3, 4, 5], 3)  # [4, 5]\n"
   ]
  },
  {
   "cell_type": "markdown",
   "id": "11474e72",
   "metadata": {},
   "source": [
    "### Ejercicio 13: Contar el Número de Elementos en una Lista"
   ]
  },
  {
   "cell_type": "code",
   "execution_count": null,
   "id": "c65f61d0",
   "metadata": {},
   "outputs": [],
   "source": [
    "# Ejercicio\n",
    "def contar_elementos(lista):\n",
    "    return len(lista)\n",
    "\n",
    "# Solución\n",
    "contar_elementos([1, 2, 3, 4, 5])  # 5\n"
   ]
  },
  {
   "cell_type": "markdown",
   "id": "3c084507",
   "metadata": {},
   "source": [
    "### Ejercicio 14: Multiplicar Todos los Elementos"
   ]
  },
  {
   "cell_type": "code",
   "execution_count": null,
   "id": "8cd0b2e7",
   "metadata": {},
   "outputs": [],
   "source": [
    "# Ejercicio\n",
    "def multiplicar_elementos(lista):\n",
    "    resultado = 1\n",
    "    for x in lista:\n",
    "        resultado *= x\n",
    "    return resultado\n",
    "\n",
    "# Solución\n",
    "multiplicar_elementos([1, 2, 3, 4])  # 24\n"
   ]
  },
  {
   "cell_type": "markdown",
   "id": "6cae67d7",
   "metadata": {},
   "source": [
    "### Ejercicio 15: Encontrar la Media de los Elementos"
   ]
  },
  {
   "cell_type": "code",
   "execution_count": null,
   "id": "8a2a3e24",
   "metadata": {},
   "outputs": [],
   "source": [
    "# Ejercicio\n",
    "def media(lista):\n",
    "    return sum(lista) / len(lista)\n",
    "\n",
    "# Solución\n",
    "media([1, 2, 3, 4, 5])  # 3.0\n"
   ]
  },
  {
   "cell_type": "markdown",
   "id": "1e3bab91",
   "metadata": {},
   "source": [
    "### Ejercicio 16: Eliminar el Último Elemento"
   ]
  },
  {
   "cell_type": "code",
   "execution_count": null,
   "id": "debe2286",
   "metadata": {},
   "outputs": [],
   "source": [
    "# Ejercicio\n",
    "def eliminar_ultimo(lista):\n",
    "    lista.pop()\n",
    "    return lista\n",
    "\n",
    "# Solución\n",
    "eliminar_ultimo([1, 2, 3, 4, 5])  # [1, 2, 3, 4]\n"
   ]
  },
  {
   "cell_type": "markdown",
   "id": "3962db43",
   "metadata": {},
   "source": [
    "### Ejercicio 17: Verificar si un Elemento Existe"
   ]
  },
  {
   "cell_type": "code",
   "execution_count": null,
   "id": "544cf99b",
   "metadata": {},
   "outputs": [],
   "source": [
    "# Ejercicio\n",
    "def existe_elemento(lista, valor):\n",
    "    return valor in lista\n",
    "\n",
    "# Solución\n",
    "existe_elemento([1, 2, 3, 4, 5], 3)  # True\n"
   ]
  },
  {
   "cell_type": "markdown",
   "id": "076ab56c",
   "metadata": {},
   "source": [
    "### Ejercicio 18: Concatenar una Lista a Sí Misma"
   ]
  },
  {
   "cell_type": "code",
   "execution_count": null,
   "id": "f3c24404",
   "metadata": {},
   "outputs": [],
   "source": [
    "# Ejercicio\n",
    "def duplicar_lista(lista):\n",
    "    return lista * 2\n",
    "\n",
    "# Solución\n",
    "duplicar_lista([1, 2, 3])  # [1, 2, 3, 1, 2, 3]\n"
   ]
  },
  {
   "cell_type": "markdown",
   "id": "1eab5046",
   "metadata": {},
   "source": [
    "### Ejercicio 19: Encontrar el Segundo Mayor Número"
   ]
  },
  {
   "cell_type": "code",
   "execution_count": null,
   "id": "38b8698e",
   "metadata": {},
   "outputs": [],
   "source": [
    "# Ejercicio\n",
    "def segundo_mayor(lista):\n",
    "    lista.sort()\n",
    "    return lista[-2]\n",
    "\n",
    "# Solución\n",
    "segundo_mayor([1, 3, 5, 7, 9])  # 7\n"
   ]
  },
  {
   "cell_type": "markdown",
   "id": "67f8c818",
   "metadata": {},
   "source": [
    "### Ejercicio 20: Convertir una Lista en un String"
   ]
  },
  {
   "cell_type": "code",
   "execution_count": null,
   "id": "169ece4b",
   "metadata": {},
   "outputs": [],
   "source": [
    "# Ejercicio\n",
    "def lista_a_string(lista):\n",
    "    return ''.join(map(str, lista))\n",
    "\n",
    "# Solución\n",
    "lista_a_string([1, 2, 3, 4, 5])  # \"12345\"\n"
   ]
  },
  {
   "cell_type": "markdown",
   "id": "8c65ec80",
   "metadata": {},
   "source": [
    "[Exploración Profunda de las Listas en Python](Ejercicios%20ba%CC%81sicos%20f1c5f7b005bd4863addc9915f60ed830/Exploracio%CC%81n%20Profunda%20de%20las%20Listas%20en%20Python%20ccdd0b984f204216b958fbc25125c3b9.md)"
   ]
  }
 ],
 "metadata": {},
 "nbformat": 4,
 "nbformat_minor": 5
}
