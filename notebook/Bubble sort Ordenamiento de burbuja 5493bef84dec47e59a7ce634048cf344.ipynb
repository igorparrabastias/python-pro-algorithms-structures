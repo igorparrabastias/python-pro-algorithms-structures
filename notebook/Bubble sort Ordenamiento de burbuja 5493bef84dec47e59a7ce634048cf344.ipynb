{
 "cells": [
  {
   "cell_type": "markdown",
   "id": "c705e2d2",
   "metadata": {},
   "source": [
    "# Bubble sort: Ordenamiento de burbuja\n",
    "\n",
    "### Introducción:\n",
    "\n",
    "Bubble Sort, o \"ordenamiento de burbuja\", es uno de los algoritmos de ordenamiento más simples pero intuitivos. Funciona revisando repetidamente la lista a ordenar, comparando cada par de elementos adyacentes y cambiándolos de posición si están en el orden incorrecto. Este proceso se repite hasta que no se necesitan más intercambios, indicando que la lista está ordenada.\n",
    "\n",
    "### Concepto de Bubble Sort:\n",
    "\n",
    "El algoritmo recibe su nombre porque los elementos más grandes \"burbujean\" hasta el final de la lista a través de sucesivas iteraciones. A pesar de su simplicidad, no es el más eficiente para listas grandes o datos que están muy desordenados.\n",
    "\n",
    "### Cómo Funciona:\n",
    "\n",
    "1. Compara el primer y segundo elemento de la lista. Si el primero es mayor que el segundo, se intercambian.\n",
    "2. Mueve al siguiente par de elementos, compara sus valores y los intercambia si el primero es mayor que el segundo.\n",
    "3. Repite el proceso para cada par de elementos adyacentes en la lista.\n",
    "4. La primera pasada completa cuando el último par de la lista es evaluado, colocando correctamente el elemento más grande al final.\n",
    "5. Repite el proceso para toda la lista, menos el último elemento ya ordenado, y así sucesivamente hasta que no se necesiten más intercambios.\n",
    "\n",
    "### Implementación en Python:"
   ]
  },
  {
   "cell_type": "code",
   "execution_count": null,
   "id": "40e34393",
   "metadata": {},
   "outputs": [],
   "source": [
    "def bubble_sort(lista):\n",
    "    n = len(lista)\n",
    "    for i in range(n):\n",
    "        # Bandera para detectar si hubo algún intercambio en la pasada\n",
    "        intercambio = False\n",
    "        for j in range(0, n-i-1):\n",
    "            # Comparar el elemento actual con el siguiente\n",
    "            if lista[j] > lista[j+1]:\n",
    "                # Intercambiar elementos\n",
    "                lista[j], lista[j+1] = lista[j+1], lista[j]\n",
    "                intercambio = True\n",
    "        # Si no hubo intercambios, la lista ya está ordenada\n",
    "        if not intercambio:\n",
    "            break\n",
    "    return lista"
   ]
  },
  {
   "cell_type": "markdown",
   "id": "a290ccab",
   "metadata": {},
   "source": [
    "### Ejemplo de Uso:"
   ]
  },
  {
   "cell_type": "code",
   "execution_count": null,
   "id": "cec88828",
   "metadata": {},
   "outputs": [],
   "source": [
    "mi_lista = [64, 34, 25, 12, 22, 11, 90]\n",
    "bubble_sort(mi_lista)\n",
    "print(\"La lista ordenada es:\", mi_lista)"
   ]
  },
  {
   "cell_type": "markdown",
   "id": "a94bc728",
   "metadata": {},
   "source": [
    "### Complejidad del Algoritmo:\n",
    "\n",
    "- **Mejor caso**: O(n), ocurre cuando la lista ya está ordenada.\n",
    "- **Peor caso y caso promedio**: O(n²), debido a los dos bucles anidados.\n",
    "\n",
    "### Ventajas de Bubble Sort:\n",
    "\n",
    "- Simple de entender y fácil de implementar.\n",
    "- Funciona bien con listas pequeñas.\n",
    "\n",
    "### Desventajas de Bubble Sort:\n",
    "\n",
    "- Ineficiente con listas grandes.\n",
    "- Menos eficiente en comparación con otros algoritmos de ordenamiento como quicksort o mergesort.\n",
    "\n",
    "### Conclusión:\n",
    "\n",
    "Aunque el Bubble Sort no es el algoritmo de ordenamiento más eficiente, especialmente para conjuntos de datos grandes, su simplicidad lo convierte en un excelente algoritmo introductorio para entender los conceptos fundamentales del ordenamiento y las comparaciones en la informática."
   ]
  }
 ],
 "metadata": {},
 "nbformat": 4,
 "nbformat_minor": 5
}
