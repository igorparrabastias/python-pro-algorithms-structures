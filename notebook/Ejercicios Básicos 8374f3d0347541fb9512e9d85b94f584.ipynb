{
 "cells": [
  {
   "cell_type": "markdown",
   "id": "2367bd36",
   "metadata": {},
   "source": [
    "# Ejercicios Básicos\n",
    "\n",
    "### Ejercicio 1: Búsqueda por Interpolación Simple\n",
    "\n",
    "Realiza una búsqueda por interpolación para encontrar el índice del número `12` en la lista ordenada `[1, 2, 4, 6, 8, 10, 12, 14, 16, 18]`.\n",
    "\n",
    "**Solución**:"
   ]
  },
  {
   "cell_type": "code",
   "execution_count": null,
   "id": "c49885ee",
   "metadata": {},
   "outputs": [],
   "source": [
    "lista = [1, 2, 4, 6, 8, 10, 12, 14, 16, 18]\n",
    "objetivo = 12\n",
    "print(\"Índice de 12:\", busqueda_por_interpolacion(lista, objetivo))\n"
   ]
  },
  {
   "cell_type": "markdown",
   "id": "a636c21f",
   "metadata": {},
   "source": [
    "### Ejercicio 2: Verificar la No Existencia de un Elemento\n",
    "\n",
    "Utiliza la búsqueda por interpolación para verificar que el número `15` no se encuentra en la lista `[3, 5, 7, 9, 11, 13, 17]`.\n",
    "\n",
    "**Solución**:"
   ]
  },
  {
   "cell_type": "code",
   "execution_count": null,
   "id": "e830a4e5",
   "metadata": {},
   "outputs": [],
   "source": [
    "lista = [3, 5, 7, 9, 11, 13, 17]\n",
    "objetivo = 15\n",
    "print(\"Índice de 15:\", busqueda_por_interpolacion(lista, objetivo))\n"
   ]
  },
  {
   "cell_type": "markdown",
   "id": "021e7ee1",
   "metadata": {},
   "source": [
    "### Ejercicio 3: Búsqueda por Interpolación en una Lista Grande\n",
    "\n",
    "Implementa una búsqueda por interpolación para encontrar el número `237` en una lista ordenada de `1` a `500`.\n",
    "\n",
    "**Solución**:"
   ]
  },
  {
   "cell_type": "code",
   "execution_count": null,
   "id": "5c19366d",
   "metadata": {},
   "outputs": [],
   "source": [
    "lista = list(range(1, 501))\n",
    "objetivo = 237\n",
    "print(\"Índice de 237:\", busqueda_por_interpolacion(lista, objetivo))\n"
   ]
  },
  {
   "cell_type": "markdown",
   "id": "8ac441c1",
   "metadata": {},
   "source": [
    "### Ejercicio 4: Búsqueda de un Valor Mínimo\n",
    "\n",
    "Aplica la búsqueda por interpolación para encontrar el índice del número `2` en la lista `[2, 4, 6, 8, 10, 12]`. Este ejercicio ayuda a entender cómo la búsqueda por interpolación se comporta al buscar el elemento más pequeño.\n",
    "\n",
    "**Solución**:"
   ]
  },
  {
   "cell_type": "code",
   "execution_count": null,
   "id": "b45d7e4b",
   "metadata": {},
   "outputs": [],
   "source": [
    "lista = [2, 4, 6, 8, 10, 12]\n",
    "objetivo = 2\n",
    "print(\"Índice de 2:\", busqueda_por_interpolacion(lista, objetivo))\n"
   ]
  },
  {
   "cell_type": "markdown",
   "id": "b0765908",
   "metadata": {},
   "source": [
    "### Ejercicio 5: Búsqueda de un Valor Máximo\n",
    "\n",
    "Encuentra el índice del número más grande en la lista `[10, 20, 30, 40, 50]` usando la búsqueda por interpolación. Este caso examina el comportamiento del algoritmo al buscar el último elemento.\n",
    "\n",
    "**Solución**:"
   ]
  },
  {
   "cell_type": "code",
   "execution_count": null,
   "id": "bfc38070",
   "metadata": {},
   "outputs": [],
   "source": [
    "lista = [10, 20, 30, 40, 50]\n",
    "objetivo = 50\n",
    "print(\"Índice de 50:\", busqueda_por_interpolacion(lista, objetivo))\n"
   ]
  },
  {
   "cell_type": "markdown",
   "id": "b661586e",
   "metadata": {},
   "source": [
    "### Nota sobre la Implementación\n",
    "\n",
    "Para implementar correctamente la búsqueda por interpolación y resolver estos ejercicios, es fundamental comprender cómo el algoritmo calcula la posición probable del elemento objetivo basándose en una aproximación lineal. Esto lo hace especialmente eficaz para listas grandes con una distribución uniforme de los elementos. Sin embargo, su rendimiento puede variar significativamente con listas pequeñas o distribuciones no uniformes, como se puede observar en los ejercicios propuestos."
   ]
  }
 ],
 "metadata": {},
 "nbformat": 4,
 "nbformat_minor": 5
}
