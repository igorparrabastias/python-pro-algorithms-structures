{
 "cells": [
  {
   "cell_type": "markdown",
   "id": "5fb63f95",
   "metadata": {},
   "source": [
    "# Caso de uso: Modificar Heurística y Observar Cambios\n",
    "\n",
    "### Objetivo:\n",
    "\n",
    "El objetivo de este ejercicio es explorar cómo la modificación de los valores heurísticos de los nodos en un algoritmo A* afecta el camino encontrado. Vamos a modificar los valores heurísticos de los nodos en el grafo del ejercicio anterior y observar cómo cambia el resultado del camino más corto.\n",
    "\n",
    "### Solución:\n",
    "\n",
    "Primero, vamos a redefinir los nodos con diferentes valores heurísticos y luego volveremos a aplicar el algoritmo A* para encontrar el camino más corto. Observaremos cómo el cambio en la heurística afecta la selección del camino."
   ]
  },
  {
   "cell_type": "code",
   "execution_count": null,
   "id": "2b5edd56",
   "metadata": {},
   "outputs": [],
   "source": [
    "# Redefinición de nodos con nuevos valores heurísticos\n",
    "nodo_a.heuristic_value = 4\n",
    "nodo_b.heuristic_value = 3\n",
    "nodo_c.heuristic_value = 7\n",
    "nodo_d.heuristic_value = 2\n",
    "nodo_e.heuristic_value = 1\n",
    "nodo_f.heuristic_value = 6\n",
    "nodo_g.heuristic_value = 0  # Nodo objetivo\n",
    "\n",
    "# Limpiar los padres y valores g de los nodos\n",
    "for nodo in [nodo_a, nodo_b, nodo_c, nodo_d, nodo_e, nodo_f, nodo_g]:\n",
    "    nodo.parent = None\n",
    "    nodo.g = float('inf')\n",
    "\n",
    "# Aplicar A* nuevamente con los nuevos valores heurísticos\n",
    "calculate_shortest_path(nodo_a)\n",
    "get_shortest_path(nodo_e)"
   ]
  },
  {
   "cell_type": "markdown",
   "id": "1c4a3aff",
   "metadata": {},
   "source": [
    "### Observaciones:\n",
    "\n",
    "- Al cambiar los valores heurísticos, el algoritmo A* podría seleccionar un camino diferente para llegar al nodo objetivo.\n",
    "- Los valores heurísticos más bajos indican una supuesta proximidad más cercana al nodo objetivo, lo que puede llevar a que ciertos nodos sean priorizados sobre otros.\n",
    "- Si los valores heurísticos son sobreestimaciones significativas de la distancia real al objetivo, el algoritmo puede no encontrar el camino más corto óptimo.\n",
    "\n",
    "### Conclusión:\n",
    "\n",
    "Este ejercicio demuestra la importancia de una heurística adecuada en el algoritmo A*. Una heurística bien elegida puede mejorar significativamente la eficiencia del algoritmo, encontrando caminos óptimos de manera más rápida. Sin embargo, una heurística pobre o inexacta puede desviar el algoritmo del camino óptimo y aumentar el costo computacional de encontrar la solución."
   ]
  }
 ],
 "metadata": {},
 "nbformat": 4,
 "nbformat_minor": 5
}
