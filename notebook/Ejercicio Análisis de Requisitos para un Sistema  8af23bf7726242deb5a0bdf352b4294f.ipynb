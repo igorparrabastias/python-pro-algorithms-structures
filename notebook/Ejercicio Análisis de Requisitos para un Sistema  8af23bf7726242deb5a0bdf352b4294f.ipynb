{
 "cells": [
  {
   "cell_type": "markdown",
   "id": "853b6fcc",
   "metadata": {},
   "source": [
    "# Ejercicio: Análisis de Requisitos para un Sistema de E-commerce\n",
    "\n",
    "1. **Análisis de Requisitos para un Sistema de E-commerce**: Dado un conjunto de requisitos para un sistema de comercio electrónico, identifica casos de prueba para la funcionalidad de carrito de compras, incluyendo la adición y eliminación de productos, y la actualización de cantidades.\n",
    "\n",
    "![Ejercicio%20Ana%CC%81lisis%20de%20Requisitos%20para%20un%20Sistema%20%208af23bf7726242deb5a0bdf352b4294f/Untitled.png](Ejercicio%20Ana%CC%81lisis%20de%20Requisitos%20para%20un%20Sistema%20%208af23bf7726242deb5a0bdf352b4294f/Untitled.png)"
   ]
  }
 ],
 "metadata": {},
 "nbformat": 4,
 "nbformat_minor": 5
}
