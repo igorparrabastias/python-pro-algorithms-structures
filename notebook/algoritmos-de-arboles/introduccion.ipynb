{
  "cells": [
    {
      "attachments": {},
      "cell_type": "markdown",
      "id": "93296565",
      "metadata": {},
      "source": [
        "# Introducción\n",
        "\n",
        "Los árboles son estructuras de datos no lineales que simulan una jerarquía similar a la de un árbol invertido, donde cada elemento, llamado nodo, está conectado a uno o varios elementos. En el ámbito de la informática, los algoritmos de árboles son cruciales por su eficiencia en la organización y manipulación de datos, permitiendo operaciones de búsqueda, inserción y eliminación en tiempos logarítmicos bajo ciertas condiciones. Esta clase introductoria abarcará los fundamentos y conceptos básicos de los algoritmos de árboles, estableciendo las bases para explorar estructuras y algoritmos más complejos en futuras sesiones.\n",
        "\n",
        "### Fundamentos de Algoritmos de Árboles\n",
        "\n",
        "- **Introducción a los Árboles Binarios:**"
      ]
    },
    {
      "attachments": {},
      "cell_type": "markdown",
      "id": "8842719a",
      "metadata": {},
      "source": [
        "Los árboles binarios son una estructura de datos fundamental, donde cada nodo tiene hasta dos hijos. Este concepto es la base para entender estructuras más complejas y algoritmos de árboles."
      ]
    },
    {
      "attachments": {},
      "cell_type": "markdown",
      "id": "e51bc0c5",
      "metadata": {},
      "source": [
        "- **Recorridos en Árboles Binarios:**"
      ]
    },
    {
      "attachments": {},
      "cell_type": "markdown",
      "id": "4f56624b",
      "metadata": {},
      "source": [
        "Los recorridos (inorden, preorden, postorden y por niveles) permiten visitar todos los nodos de un árbol de manera sistemática, crucial para operaciones como búsqueda y eliminación."
      ]
    },
    {
      "attachments": {},
      "cell_type": "markdown",
      "id": "3539c096",
      "metadata": {},
      "source": [
        "- **Implementación de Árboles Binarios de Búsqueda (ABB):**"
      ]
    },
    {
      "attachments": {},
      "cell_type": "markdown",
      "id": "a2293b73",
      "metadata": {},
      "source": [
        "Los ABB son una mejora de los árboles binarios que facilitan la búsqueda eficiente, donde cada operación de inserción, búsqueda y eliminación se realiza de manera que se mantiene un orden específico."
      ]
    },
    {
      "attachments": {},
      "cell_type": "markdown",
      "id": "ebe71815",
      "metadata": {},
      "source": [
        "- **Balanceo de Árboles: Introducción a los Árboles AVL:**"
      ]
    },
    {
      "attachments": {},
      "cell_type": "markdown",
      "id": "67c2d765",
      "metadata": {},
      "source": [
        "Los árboles AVL introducen el concepto de balanceo para mantener operaciones eficientes, mediante rotaciones que aseguran que el árbol permanezca balanceado."
      ]
    },
    {
      "attachments": {},
      "cell_type": "markdown",
      "id": "b80467eb",
      "metadata": {},
      "source": [
        "- **Conceptos Básicos de Árboles Rojo-Negro:**"
      ]
    },
    {
      "attachments": {},
      "cell_type": "markdown",
      "id": "bdd49bbf",
      "metadata": {},
      "source": [
        "Similar a los AVL, los árboles Rojo-Negro son otra estructura de datos para mantener árboles balanceados, utilizando reglas de coloración específicas."
      ]
    },
    {
      "attachments": {},
      "cell_type": "markdown",
      "id": "26618f7b",
      "metadata": {},
      "source": [
        "- **Árboles de Expresión y su Aplicación en la Evaluación de Expresiones Matemáticas:**"
      ]
    },
    {
      "attachments": {},
      "cell_type": "markdown",
      "id": "b76f32e5",
      "metadata": {},
      "source": [
        "Los árboles de expresión muestran cómo se pueden usar los árboles binarios para representar y evaluar expresiones matemáticas, ilustrando una aplicación práctica de esta estructura."
      ]
    },
    {
      "attachments": {},
      "cell_type": "markdown",
      "id": "ad42a830",
      "metadata": {},
      "source": [
        "### Conclusión\n",
        "\n",
        "Hemos cubierto una visión general de los fundamentos de los algoritmos de árboles, desde la estructura básica de los árboles binarios hasta aplicaciones específicas como los árboles de expresión. Estos conceptos son esenciales para cualquier programador, ya que proporcionan las herramientas necesarias para trabajar con una amplia gama de estructuras de datos y resolver problemas complejos de manera eficiente. En las próximas clases, nos enfocaremos en cada uno de estos temas de manera detallada, comenzando con los árboles binarios y avanzando hacia estructuras más complejas y sus aplicaciones.\n",
        "\n",
        "### Ejercicios\n",
        "\n",
        "1. **Dibuja un árbol binario simple** y etiqueta cada nodo con un valor único.\n",
        "2. **Implementa un recorrido en preorden** para el árbol binario que dibujaste, mostrando los pasos y el resultado final.\n",
        "3. **Escribe pseudocódigo para insertar un nodo** en un Árbol Binario de Búsqueda.\n",
        "4. **Describe el proceso de balanceo** en un Árbol AVL después de insertar un nodo que causa desbalance.\n",
        "5. **Compara los árboles AVL y Rojo-Negro** en términos de operaciones de inserción y balanceo.\n",
        "6. **Explica cómo se podría usar un árbol de expresión** para evaluar la expresión matemática `(3 + 2) * (4 - 1)`.\n",
        "\n",
        "### Soluciones\n",
        "\n",
        "1. Ejemplo de árbol binario:"
      ]
    },
    {
      "cell_type": "code",
      "execution_count": null,
      "id": "e6107add",
      "metadata": {},
      "outputs": [],
      "source": [
        "    1\n",
        "   / \\\\\n",
        "  2   3\n",
        " / \\\\\n",
        "4   5"
      ]
    },
    {
      "attachments": {},
      "cell_type": "markdown",
      "id": "e17c3586",
      "metadata": {},
      "source": [
        "2. Recorrido en preorden: 1, 2, 4, 5, 3.\n",
        "3. Pseudocódigo para inserción en ABB:"
      ]
    },
    {
      "cell_type": "code",
      "execution_count": null,
      "id": "fcf8f7a5",
      "metadata": {},
      "outputs": [],
      "source": [
        "función insertar(nodo, valor):\n",
        "    si nodo es None:\n",
        "        nodo = nuevo Nodo(valor)\n",
        "    sino si valor < nodo.valor:\n",
        "        nodo.izquierda = insertar(nodo.izquierda, valor)\n",
        "    sino:\n",
        "        nodo.derecha = insertar(nodo.derecha, valor)\n",
        "    retorno nodo"
      ]
    },
    {
      "attachments": {},
      "cell_type": "markdown",
      "id": "909bbc1d",
      "metadata": {},
      "source": [
        "4. Proceso de balanceo en AVL:\n",
        "    - Detectar el tipo de desbalance (izquierda-izquierda, derecha-derecha, izquierda-derecha, derecha-izquierda).\n",
        "    - Realizar la rotación apropiada (simple o doble) para restaurar el balance.\n",
        "5. Comparación AVL vs. Rojo-Negro:\n",
        "    - **AVL:** Proporciona un balanceo más estricto, lo que resulta en árboles más balanceados y puede ser mejor para búsquedas.\n",
        "    - **Rojo-Negro:** Menos estricto en el balanceo, lo que puede resultar en inserciones y eliminaciones más rápidas.\n",
        "6. Uso de árbol de expresión para evaluar `(3 + 2) * (4 - 1)`:\n",
        "    - Construir el árbol con `(+)` y `(*)` como nodos y los números como hojas.\n",
        "    - Evaluar primero las operaciones de suma y resta, seguido por la multiplicación, siguiendo la estructura del árbol."
      ]
    }
  ],
  "metadata": {
    "language_info": {
      "name": "python"
    }
  },
  "nbformat": 4,
  "nbformat_minor": 5
}
