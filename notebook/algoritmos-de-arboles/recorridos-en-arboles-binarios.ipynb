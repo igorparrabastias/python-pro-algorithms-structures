{
  "cells": [
    {
      "cell_type": "markdown",
      "id": "75277c23",
      "metadata": {},
      "source": [
        "# Recorridos en \u00c1rboles Binarios\n",
        "\n",
        "El recorrido de un \u00e1rbol binario es un proceso fundamental que permite visitar todos los nodos de un \u00e1rbol de forma sistem\u00e1tica. Esta operaci\u00f3n es crucial para una amplia gama de aplicaciones, desde la impresi\u00f3n de todos los valores contenidos en un \u00e1rbol hasta la construcci\u00f3n de representaciones lineales de la estructura. Existen varios m\u00e9todos de recorrido, cada uno con su propio conjunto de caracter\u00edsticas y aplicaciones. En esta clase, exploraremos los cuatro recorridos principales en \u00e1rboles binarios: inorden, preorden, postorden y por niveles.\n",
        "\n",
        "### Tipos de Recorridos\n",
        "\n",
        "- **Inorden (Izquierda, Ra\u00edz, Derecha):**"
      ]
    },
    {
      "cell_type": "code",
      "execution_count": null,
      "id": "670f6a02",
      "metadata": {},
      "outputs": [],
      "source": [
        "Este recorrido primero visita recursivamente el sub\u00e1rbol izquierdo, luego la ra\u00edz, y finalmente el sub\u00e1rbol derecho. En los \u00e1rboles binarios de b\u00fasqueda, el recorrido inorden produce los valores en orden ascendente."
      ]
    },
    {
      "cell_type": "markdown",
      "id": "d1deb8a7",
      "metadata": {},
      "source": [
        "- **Preorden (Ra\u00edz, Izquierda, Derecha):**"
      ]
    },
    {
      "cell_type": "code",
      "execution_count": null,
      "id": "7eb46012",
      "metadata": {},
      "outputs": [],
      "source": [
        "Preorden visita primero la ra\u00edz, seguido por el sub\u00e1rbol izquierdo de manera recursiva, y finalmente el sub\u00e1rbol derecho. Es \u00fatil para crear una copia del \u00e1rbol o expresar el \u00e1rbol en notaci\u00f3n de prefijo."
      ]
    },
    {
      "cell_type": "markdown",
      "id": "7c155fd3",
      "metadata": {},
      "source": [
        "- **Postorden (Izquierda, Derecha, Ra\u00edz):**"
      ]
    },
    {
      "cell_type": "code",
      "execution_count": null,
      "id": "e07d5fc3",
      "metadata": {},
      "outputs": [],
      "source": [
        "En postorden, primero se exploran los sub\u00e1rboles izquierdo y derecho de manera recursiva, y al final se visita la ra\u00edz. Este m\u00e9todo es utilizado frecuentemente para eliminar o liberar los nodos del \u00e1rbol de abajo hacia arriba."
      ]
    },
    {
      "cell_type": "markdown",
      "id": "0fbdef8d",
      "metadata": {},
      "source": [
        "- **Por Niveles (tambi\u00e9n conocido como Recorrido en Amplitud):**"
      ]
    },
    {
      "cell_type": "code",
      "execution_count": null,
      "id": "78642e8a",
      "metadata": {},
      "outputs": [],
      "source": [
        "Este recorrido visita los nodos nivel por nivel, de arriba hacia abajo y de izquierda a derecha. Es especialmente \u00fatil para visualizar la estructura del \u00e1rbol y se implementa com\u00fanmente utilizando una cola."
      ]
    },
    {
      "cell_type": "markdown",
      "id": "61f7a2ce",
      "metadata": {},
      "source": [
        "### Implementaci\u00f3n en Python\n",
        "\n",
        "A continuaci\u00f3n, se presentan ejemplos de implementaci\u00f3n de estos recorridos en Python:\n",
        "\n",
        "### Inorden"
      ]
    },
    {
      "cell_type": "code",
      "execution_count": null,
      "id": "3fc0bdec",
      "metadata": {},
      "outputs": [],
      "source": [
        "def inorden(nodo):\n",
        "    if nodo:\n",
        "        inorden(nodo.izquierda)\n",
        "        print(nodo.valor)\n",
        "        inorden(nodo.derecha)"
      ]
    },
    {
      "cell_type": "markdown",
      "id": "70f2f09a",
      "metadata": {},
      "source": [
        "### Preorden"
      ]
    },
    {
      "cell_type": "code",
      "execution_count": null,
      "id": "2561286a",
      "metadata": {},
      "outputs": [],
      "source": [
        "def preorden(nodo):\n",
        "    if nodo:\n",
        "        print(nodo.valor)\n",
        "        preorden(nodo.izquierda)\n",
        "        preorden(nodo.derecha)"
      ]
    },
    {
      "cell_type": "markdown",
      "id": "53b7bb91",
      "metadata": {},
      "source": [
        "### Postorden"
      ]
    },
    {
      "cell_type": "code",
      "execution_count": null,
      "id": "0bc98ff3",
      "metadata": {},
      "outputs": [],
      "source": [
        "def postorden(nodo):\n",
        "    if nodo:\n",
        "        postorden(nodo.izquierda)\n",
        "        postorden(nodo.derecha)\n",
        "        print(nodo.valor)"
      ]
    },
    {
      "cell_type": "markdown",
      "id": "43c12087",
      "metadata": {},
      "source": [
        "### Por Niveles"
      ]
    },
    {
      "cell_type": "code",
      "execution_count": null,
      "id": "7e840129",
      "metadata": {},
      "outputs": [],
      "source": [
        "from collections import deque\n",
        "\n",
        "def por_niveles(raiz):\n",
        "    if raiz:\n",
        "        cola = deque([raiz])\n",
        "        while cola:\n",
        "            nodo = cola.popleft()\n",
        "            print(nodo.valor)\n",
        "            if nodo.izquierda:\n",
        "                cola.append(nodo.izquierda)\n",
        "            if nodo.derecha:\n",
        "                cola.append(nodo.derecha)"
      ]
    },
    {
      "cell_type": "markdown",
      "id": "0a77480f",
      "metadata": {},
      "source": [
        "### Conclusi\u00f3n\n",
        "\n",
        "Los recorridos de \u00e1rboles binarios son herramientas esenciales para trabajar con estas estructuras de datos, permitiendo la manipulaci\u00f3n y el an\u00e1lisis de la informaci\u00f3n contenida en el \u00e1rbol de manera eficaz. Cada tipo de recorrido tiene aplicaciones espec\u00edficas y ventajas, dependiendo de la tarea que se necesite realizar. Comprender estos recorridos y saber cu\u00e1ndo aplicar cada uno es fundamental para cualquier desarrollador que trabaje con \u00e1rboles binarios.\n",
        "\n",
        "### Ejercicios\n",
        "\n",
        "1. **Implementa el Recorrido Inorden:** Dado un \u00e1rbol binario, implementa una funci\u00f3n que realice un recorrido inorden y devuelva una lista con los valores de los nodos en el orden visitado.\n",
        "2. **Recorrido Preorden para Copia de \u00c1rboles:** Escribe una funci\u00f3n que utilice el recorrido preorden para crear y devolver una copia exacta de un \u00e1rbol binario dado.\n",
        "3. **Recorrido Postorden para Contar Nodos:** Implementa una funci\u00f3n que use el recorrido postorden para contar y devolver el n\u00famero total de nodos en un \u00e1rbol binario.\n",
        "4. **Recorrido por Niveles y su Salida:** Para un \u00e1rbol binario dado, utiliza el recorrido por niveles para imprimir cada nivel del \u00e1rbol en l\u00edneas separadas.\n",
        "5. **Comparaci\u00f3n de Recorridos:** Dado un \u00e1rbol binario de b\u00fasqueda, realiza los recorridos inorden, preorden, y postorden. Compara los resultados y discute c\u00f3mo cada recorrido refleja la estructura del \u00e1rbol.\n",
        "\n",
        "### Soluciones\n",
        "\n",
        "1. **Implementaci\u00f3n del Recorrido Inorden:**"
      ]
    },
    {
      "cell_type": "code",
      "execution_count": null,
      "id": "db458cfb",
      "metadata": {},
      "outputs": [],
      "source": [
        "def inorden_recursivo(nodo, resultado=None):\n",
        "    if resultado is None:\n",
        "        resultado = []\n",
        "    if nodo:\n",
        "        inorden_recursivo(nodo.izquierda, resultado)\n",
        "        resultado.append(nodo.valor)\n",
        "        inorden_recursivo(nodo.derecha, resultado)\n",
        "    return resultado"
      ]
    },
    {
      "cell_type": "markdown",
      "id": "34320ca7",
      "metadata": {},
      "source": [
        "2. **Recorrido Preorden para Copia de \u00c1rboles:**"
      ]
    },
    {
      "cell_type": "code",
      "execution_count": null,
      "id": "b73ab95d",
      "metadata": {},
      "outputs": [],
      "source": [
        "def copiar_con_preorden(nodo):\n",
        "    if nodo is None:\n",
        "        return None\n",
        "    nuevo_nodo = Nodo(nodo.valor)\n",
        "    nuevo_nodo.izquierda = copiar_con_preorden(nodo.izquierda)\n",
        "    nuevo_nodo.derecha = copiar_con_preorden(nodo.derecha)\n",
        "    return nuevo_nodo"
      ]
    },
    {
      "cell_type": "markdown",
      "id": "009a8d65",
      "metadata": {},
      "source": [
        "3. **Recorrido Postorden para Contar Nodos:**"
      ]
    },
    {
      "cell_type": "code",
      "execution_count": null,
      "id": "8b18b2c2",
      "metadata": {},
      "outputs": [],
      "source": [
        "def contar_nodos_postorden(nodo):\n",
        "    if nodo is None:\n",
        "        return 0\n",
        "    return 1 + contar_nodos_postorden(nodo.izquierda) + contar_nodos_postorden(nodo.derecha)"
      ]
    },
    {
      "cell_type": "markdown",
      "id": "4ca6afba",
      "metadata": {},
      "source": [
        "4. **Recorrido por Niveles y su Salida:**"
      ]
    },
    {
      "cell_type": "code",
      "execution_count": null,
      "id": "585ad5e1",
      "metadata": {},
      "outputs": [],
      "source": [
        "def imprimir_por_niveles(raiz):\n",
        "    if raiz is None:\n",
        "        return\n",
        "    cola = deque([raiz])\n",
        "    while cola:\n",
        "        nivel_actual = len(cola)\n",
        "        for _ in range(nivel_actual):\n",
        "            nodo_actual = cola.popleft()\n",
        "            print(nodo_actual.valor, end=' ')\n",
        "            if nodo_actual.izquierda:\n",
        "                cola.append(nodo_actual.izquierda)\n",
        "            if nodo_actual.derecha:\n",
        "                cola.append(nodo_actual.derecha)\n",
        "        print()  # Nueva l\u00ednea para separar los niveles"
      ]
    },
    {
      "cell_type": "markdown",
      "id": "4996305f",
      "metadata": {},
      "source": [
        "5. **Comparaci\u00f3n de Recorridos:** Para abordar el ejercicio de comparaci\u00f3n de recorridos en un \u00e1rbol binario de b\u00fasqueda (ABB), primero implementamos los recorridos inorden, preorden y postorden, y luego analizamos c\u00f3mo cada uno refleja la estructura del \u00e1rbol y sus posibles aplicaciones."
      ]
    },
    {
      "cell_type": "code",
      "execution_count": null,
      "id": "5ca81344",
      "metadata": {},
      "outputs": [],
      "source": [
        "### Implementaci\u00f3n de Recorridos\n",
        "\n",
        "### Inorden (Izquierda, Ra\u00edz, Derecha)\n",
        "\n",
        "El recorrido inorden en un ABB produce los valores del \u00e1rbol en orden ascendente. Esto se debe a la propiedad intr\u00ednseca del ABB, donde para cualquier nodo dado, todos los valores en el sub\u00e1rbol izquierdo son menores que el valor del nodo, y todos los valores en el sub\u00e1rbol derecho son mayores.\n",
        "\n",
        "def inorden(nodo, resultado=[]):\n",
        "    if nodo:\n",
        "        inorden(nodo.izquierda, resultado)\n",
        "        resultado.append(nodo.valor)\n",
        "        inorden(nodo.derecha, resultado)\n",
        "    return resultado\n",
        "\n",
        "\n",
        "### Preorden (Ra\u00edz, Izquierda, Derecha)\n",
        "\n",
        "El recorrido preorden visita primero la ra\u00edz, seguido por el sub\u00e1rbol izquierdo y luego el derecho. Este recorrido es \u00fatil para copiar el \u00e1rbol o expresar su estructura de manera lineal, ya que comienza desde la ra\u00edz y sigue la estructura del \u00e1rbol tan estrechamente como sea posible.\n",
        "\n",
        "def preorden(nodo, resultado=[]):\n",
        "    if nodo:\n",
        "        resultado.append(nodo.valor)\n",
        "        preorden(nodo.izquierda, resultado)\n",
        "        preorden(nodo.derecha, resultado)\n",
        "    return resultado\n",
        "\n",
        "\n",
        "### Postorden (Izquierda, Derecha, Ra\u00edz)\n",
        "\n",
        "El recorrido postorden visita primero los sub\u00e1rboles izquierdo y derecho, y por \u00faltimo la ra\u00edz. Este m\u00e9todo es ideal para procesos de eliminaci\u00f3n o liberaci\u00f3n de memoria, ya que asegura que los nodos sean procesados antes de procesar y eliminar el nodo padre.\n",
        "\n",
        "def postorden(nodo, resultado=[]):\n",
        "    if nodo:\n",
        "        postorden(nodo.izquierda, resultado)\n",
        "        postorden(nodo.derecha, resultado)\n",
        "        resultado.append(nodo.valor)\n",
        "    return resultado\n",
        "\n",
        "\n",
        "### Comparaci\u00f3n de los Recorridos y Reflexi\u00f3n sobre la Estructura del \u00c1rbol\n",
        "\n",
        "- **Inorden:** Muestra los valores del \u00e1rbol de manera ordenada. Este recorrido refleja directamente la propiedad de ordenamiento del ABB, lo que lo hace ideal para operaciones que requieran procesar los valores del \u00e1rbol en orden secuencial.\n",
        "- **Preorden:** Proporciona una visi\u00f3n de la estructura del \u00e1rbol comenzando por la ra\u00edz. Es particularmente \u00fatil para reconstruir el \u00e1rbol original o para operaciones que necesiten priorizar el procesamiento de nodos desde la ra\u00edz hacia las hojas, reflejando la jerarqu\u00eda del \u00e1rbol.\n",
        "- **Postorden:** Ofrece una manera de procesar primero las hojas y luego ascender hacia la ra\u00edz, lo cual es importante para operaciones de desmonte o evaluaci\u00f3n de nodos en un contexto donde es crucial asegurar que los nodos hijos se procesen antes que el nodo padre.\n",
        "\n",
        "Cada uno de estos recorridos resalta diferentes aspectos de la estructura del ABB y tiene aplicaciones espec\u00edficas que aprovechan esas caracter\u00edsticas. El inorden es especial por reflejar el orden inherente del ABB, el preorden destaca por su utilidad en la reconstrucci\u00f3n y representaci\u00f3n de la estructura del \u00e1rbol, y el postorden es esencial para operaciones que requieren un desmonte ordenado o evaluaciones bottom-up del \u00e1rbol."
      ]
    },
    {
      "cell_type": "markdown",
      "id": "467b48d4",
      "metadata": {},
      "source": [
        "La habilidad para elegir el recorrido adecuado seg\u00fan el problema a resolver es una herramienta valiosa en la caja de herramientas de cualquier programador o cient\u00edfico de datos. Ya sea que necesites realizar una b\u00fasqueda eficiente, copiar la estructura de un \u00e1rbol, contar sus elementos, o simplemente imprimir sus valores de manera ordenada, entender estos recorridos te permitir\u00e1 abordar estos retos con confianza.\n",
        "\n",
        "En la pr\u00f3xima clase, profundizaremos en la implementaci\u00f3n de \u00c1rboles Binarios de B\u00fasqueda (ABB), explorando c\u00f3mo se pueden utilizar para mejorar a\u00fan m\u00e1s la eficiencia de operaciones comunes como la b\u00fasqueda, inserci\u00f3n y eliminaci\u00f3n de nodos en comparaci\u00f3n con estructuras lineales como listas o arrays."
      ]
    }
  ],
  "metadata": {},
  "nbformat": 4,
  "nbformat_minor": 5
}