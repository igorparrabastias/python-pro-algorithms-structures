{
  "cells": [
    {
      "cell_type": "markdown",
      "id": "59a4b0e7",
      "metadata": {},
      "source": [
        "# \u00c1rboles Binarios\n",
        "\n",
        "### Introducci\u00f3n\n",
        "\n",
        "Los \u00e1rboles binarios son una de las estructuras de datos fundamentales en la inform\u00e1tica, caracterizados por su estructura jer\u00e1rquica y propiedades \u00fanicas que los hacen ideales para una amplia gama de aplicaciones, desde la implementaci\u00f3n de algoritmos eficientes de b\u00fasqueda y clasificaci\u00f3n hasta su uso en el procesamiento de datos y en la representaci\u00f3n de decisiones. En esta clase, nos sumergiremos en los conceptos b\u00e1sicos de los \u00e1rboles binarios, explorando su estructura, terminolog\u00eda y las operaciones b\u00e1sicas que se pueden realizar sobre ellos.\n",
        "\n",
        "### Estructura y Caracter\u00edsticas\n",
        "\n",
        "Un \u00e1rbol binario es una estructura de datos en la que cada nodo tiene como m\u00e1ximo dos hijos, conocidos como hijo izquierdo y hijo derecho. Esta definici\u00f3n lleva a algunas propiedades interesantes:\n",
        "\n",
        "- **Nodo Ra\u00edz:** Es el nodo superior desde donde se origina el \u00e1rbol. Es el \u00fanico nodo sin padre.\n",
        "- **Nodos Hoja:** Son nodos sin hijos, y representan los extremos del \u00e1rbol.\n",
        "- **Altura del \u00c1rbol:** La altura de un \u00e1rbol es la longitud del camino m\u00e1s largo desde la ra\u00edz hasta una hoja. En un \u00e1rbol binario, la altura juega un papel crucial en su eficiencia.\n",
        "\n",
        "### Tipos de \u00c1rboles Binarios\n",
        "\n",
        "Existen varios tipos espec\u00edficos de \u00e1rboles binarios, cada uno con sus propias caracter\u00edsticas y aplicaciones:\n",
        "\n",
        "- **\u00c1rbol Binario Completo:** Todos los niveles, excepto posiblemente el \u00faltimo, est\u00e1n completamente llenos y todos los nodos est\u00e1n tan a la izquierda como sea posible.\n",
        "- **\u00c1rbol Binario Balanceado:** Un \u00e1rbol donde la diferencia de altura entre los sub\u00e1rboles izquierdo y derecho de cualquier nodo es como m\u00e1ximo uno.\n",
        "- **\u00c1rbol Binario de B\u00fasqueda (ABB):** Un \u00e1rbol binario en el que cada nodo tiene un valor, y todos los nodos en el sub\u00e1rbol izquierdo de un nodo tienen valores menores que el nodo, y todos los nodos en el sub\u00e1rbol derecho tienen valores mayores.\n",
        "\n",
        "### Operaciones B\u00e1sicas\n",
        "\n",
        "Las operaciones fundamentales que se pueden realizar en un \u00e1rbol binario incluyen:\n",
        "\n",
        "- **Inserci\u00f3n:** Agregar un nuevo nodo al \u00e1rbol de manera que se mantengan las propiedades espec\u00edficas del tipo de \u00e1rbol binario.\n",
        "- **B\u00fasqueda:** Encontrar un valor dentro del \u00e1rbol, t\u00edpicamente realizada de manera eficiente en \u00e1rboles binarios de b\u00fasqueda.\n",
        "- **Eliminaci\u00f3n:** Remover un nodo del \u00e1rbol ajustando el \u00e1rbol para que mantenga sus propiedades definitorias.\n",
        "- **Recorrido:** Visitar todos los nodos del \u00e1rbol de manera sistem\u00e1tica. Los recorridos comunes incluyen inorden, preorden, y postorden.\n",
        "\n",
        "### Conclusi\u00f3n\n",
        "\n",
        "Los \u00e1rboles binarios son una piedra angular en el mundo de las estructuras de datos, ofreciendo una forma eficiente de organizar y manipular datos jer\u00e1rquicos. Entender su estructura y las operaciones b\u00e1sicas es fundamental para cualquier desarrollador o cient\u00edfico de datos, ya que estas nociones forman la base para comprender estructuras de datos m\u00e1s complejas y algoritmos avanzados. En la pr\u00f3xima clase, profundizaremos en los recorridos de \u00e1rboles binarios, explorando c\u00f3mo podemos visitar cada nodo de un \u00e1rbol binario de manera eficiente para diferentes prop\u00f3sitos.\n",
        "\n",
        "### Ejercicios\n",
        "\n",
        "1. **Crear un \u00c1rbol Binario Simple:** Dibuja un \u00e1rbol binario con al menos 3 niveles y etiqueta cada nodo con un n\u00famero \u00fanico.\n",
        "2. **Inserci\u00f3n en un \u00c1rbol Binario:** Escribe pseudoc\u00f3digo para insertar un nodo en un \u00e1rbol binario de b\u00fasqueda, asegurando que se mantenga la propiedad de orden del ABB.\n",
        "3. **B\u00fasqueda en un \u00c1rbol Binario:** Dado el \u00e1rbol binario que creaste, escribe pseudoc\u00f3digo para buscar un valor dentro del \u00e1rbol.\n",
        "4. **Altura de un \u00c1rbol Binario:** Escribe una funci\u00f3n que calcule la altura de tu \u00e1rbol binario.\n",
        "5. **Identificar Nodos Hoja:** En el \u00e1rbol binario que dibujaste, identifica cu\u00e1les son los nodos hoja.\n",
        "\n",
        "### Soluciones\n",
        "\n",
        "1. Ejemplo de \u00e1rbol binario:"
      ]
    },
    {
      "cell_type": "code",
      "execution_count": null,
      "id": "f1de45e4",
      "metadata": {},
      "outputs": [],
      "source": [
        "    1\n",
        "   / \\\\\n",
        "  2   3\n",
        "     / \\\\\n",
        "    4   5"
      ]
    },
    {
      "cell_type": "markdown",
      "id": "b897c9cc",
      "metadata": {},
      "source": [
        "2. Pseudoc\u00f3digo para inserci\u00f3n en ABB:"
      ]
    },
    {
      "cell_type": "code",
      "execution_count": null,
      "id": "0db020a2",
      "metadata": {},
      "outputs": [],
      "source": [
        "funci\u00f3n insertar(nodo, valor):\n",
        "    si nodo es None:\n",
        "        nodo = nuevo Nodo(valor)\n",
        "    sino si valor < nodo.valor:\n",
        "        nodo.izquierda = insertar(nodo.izquierda, valor)\n",
        "    sino si valor > nodo.valor:\n",
        "        nodo.derecha = insertar(nodo.derecha, valor)\n",
        "    retorno nodo"
      ]
    },
    {
      "cell_type": "markdown",
      "id": "a99cb7f0",
      "metadata": {},
      "source": [
        "3. Pseudoc\u00f3digo para b\u00fasqueda en ABB:"
      ]
    },
    {
      "cell_type": "code",
      "execution_count": null,
      "id": "10c76c70",
      "metadata": {},
      "outputs": [],
      "source": [
        "funci\u00f3n buscar(nodo, valor):\n",
        "    si nodo es None o nodo.valor == valor:\n",
        "        retorno nodo\n",
        "    si valor < nodo.valor:\n",
        "        retorno buscar(nodo.izquierda, valor)\n",
        "    sino:\n",
        "        retorno buscar(nodo.derecha, valor)"
      ]
    },
    {
      "cell_type": "markdown",
      "id": "c750fc31",
      "metadata": {},
      "source": [
        "4. Funci\u00f3n para calcular la altura:"
      ]
    },
    {
      "cell_type": "code",
      "execution_count": null,
      "id": "27b7e856",
      "metadata": {},
      "outputs": [],
      "source": [
        "def altura(nodo):\n",
        "    if nodo is None:\n",
        "        return 0\n",
        "    else:\n",
        "        altura_izquierda = altura(nodo.izquierda)\n",
        "        altura_derecha = altura(nodo.derecha)\n",
        "        return 1 + max(altura_izquierda, altura_derecha)"
      ]
    },
    {
      "cell_type": "markdown",
      "id": "e2e794ca",
      "metadata": {},
      "source": [
        "5. Nodos hoja en el \u00e1rbol ejemplo: 2, 4, 5."
      ]
    }
  ],
  "metadata": {},
  "nbformat": 4,
  "nbformat_minor": 5
}