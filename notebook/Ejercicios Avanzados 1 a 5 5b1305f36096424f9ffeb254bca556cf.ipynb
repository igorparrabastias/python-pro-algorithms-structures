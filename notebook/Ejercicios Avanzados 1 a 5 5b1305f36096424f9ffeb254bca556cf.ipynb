{
 "cells": [
  {
   "cell_type": "markdown",
   "id": "d5db68e9",
   "metadata": {},
   "source": [
    "# Ejercicios Avanzados 1 a 5\n",
    "\n",
    "### Ejercicio 1: Quick Sort con Elección de Pivote Aleatorio\n",
    "\n",
    "Modifica `quick_sort` para elegir un pivote aleatorio en cada paso. Esto puede ayudar a mejorar el rendimiento promedio al evitar el peor caso de complejidad temporal en listas ya ordenadas o casi ordenadas."
   ]
  },
  {
   "cell_type": "code",
   "execution_count": null,
   "id": "c5bdfc7e",
   "metadata": {},
   "outputs": [],
   "source": [
    "import random\n",
    "\n",
    "def quick_sort_aleatorio(lista):\n",
    "    if len(lista) <= 1:\n",
    "        return lista\n",
    "    else:\n",
    "        pivote = lista.pop(random.randint(0, len(lista) - 1))\n",
    "        menores, mayores = [], []\n",
    "        for elemento in lista:\n",
    "            if elemento <= pivote:\n",
    "                menores.append(elemento)\n",
    "            else:\n",
    "                mayores.append(elemento)\n",
    "        return quick_sort_aleatorio(menores) + [pivote] + quick_sort_aleatorio(mayores)\n",
    "\n",
    "# Ejemplo de uso\n",
    "mi_lista = [10, 7, 8, 9, 1, 5]\n",
    "lista_ordenada = quick_sort_aleatorio(mi_lista)\n",
    "print(\"Lista ordenada con pivote aleatorio:\", lista_ordenada)\n"
   ]
  },
  {
   "cell_type": "markdown",
   "id": "440915c4",
   "metadata": {},
   "source": [
    "### Ejercicio 2: Quick Sort In-Place\n",
    "\n",
    "Implementa una versión in-place de Quick Sort que no utilice listas adicionales para los elementos menores y mayores que el pivote, modificando la lista original."
   ]
  },
  {
   "cell_type": "code",
   "execution_count": null,
   "id": "55a34487",
   "metadata": {},
   "outputs": [],
   "source": [
    "def quick_sort_in_place(lista, inicio=0, fin=None):\n",
    "    if fin is None:\n",
    "        fin = len(lista) - 1\n",
    "    if inicio < fin:\n",
    "        pivote_index = particion(lista, inicio, fin)\n",
    "        quick_sort_in_place(lista, inicio, pivote_index - 1)\n",
    "        quick_sort_in_place(lista, pivote_index + 1, fin)\n",
    "    return lista\n",
    "\n",
    "def particion(lista, inicio, fin):\n",
    "    pivote = lista[fin]\n",
    "    i = inicio - 1\n",
    "    for j in range(inicio, fin):\n",
    "        if lista[j] <= pivote:\n",
    "            i += 1\n",
    "            lista[i], lista[j] = lista[j], lista[i]\n",
    "    lista[i + 1], lista[fin] = lista[fin], lista[i + 1]\n",
    "    return i + 1\n",
    "\n",
    "# Ejemplo de uso\n",
    "mi_lista = [10, 7, 8, 9, 1, 5]\n",
    "quick_sort_in_place(mi_lista)\n",
    "print(\"Lista ordenada in-place:\", mi_lista)\n"
   ]
  },
  {
   "cell_type": "markdown",
   "id": "7a4f2c58",
   "metadata": {},
   "source": [
    "### Ejercicio 3: Quick Sort para Ordenar Objetos Complejos\n",
    "\n",
    "Extiende `quick_sort` para ordenar una lista de objetos complejos (por ejemplo, empleados) por una clave específica, como la edad o el nombre."
   ]
  },
  {
   "cell_type": "code",
   "execution_count": null,
   "id": "a09fa349",
   "metadata": {},
   "outputs": [],
   "source": [
    "def quick_sort_objetos(lista, clave):\n",
    "    if len(lista) <= 1:\n",
    "        return lista\n",
    "    else:\n",
    "        pivote = lista.pop()\n",
    "        menores, mayores = [], []\n",
    "        for elemento in lista:\n",
    "            if elemento[clave] <= pivote[clave]:\n",
    "                menores.append(elemento)\n",
    "            else:\n",
    "                mayores.append(elemento)\n",
    "        return quick_sort_objetos(menores, clave) + [pivote] + quick_sort_objetos(mayores, clave)\n",
    "\n",
    "# Ejemplo de uso\n",
    "empleados = [{'nombre': 'Ana', 'edad': 30}, {'nombre': 'Luis', 'edad': 25}, {'nombre': 'Carlos', 'edad': 28}]\n",
    "empleados_ordenados = quick_sort_objetos(empleados, 'edad')\n",
    "print(\"Empleados ordenados por edad:\", empleados_ordenados)\n"
   ]
  },
  {
   "cell_type": "markdown",
   "id": "aa13f441",
   "metadata": {},
   "source": [
    "### Ejercicio 4: Medir el Tiempo de Ejecución\n",
    "\n",
    "Mide el tiempo de ejecución de `quick_sort` en una lista grande generada aleatoriamente y compara el rendimiento con y sin pivote aleatorio."
   ]
  },
  {
   "cell_type": "code",
   "execution_count": null,
   "id": "7d0a4f35",
   "metadata": {},
   "outputs": [],
   "source": [
    "import time\n",
    "\n",
    "def medir_tiempo(lista):\n",
    "    inicio = time.time()\n",
    "    quick_sort(lista)\n",
    "    fin = time.time()\n",
    "    return fin - inicio\n",
    "\n",
    "# Ejemplo de uso\n",
    "mi_lista = [random.randint(0, 1000) for _ in range(10000)]\n",
    "tiempo = medir_tiempo(mi_lista)\n",
    "print(\"Tiempo de ejecución:\", tiempo, \"segundos\")\n"
   ]
  },
  {
   "cell_type": "markdown",
   "id": "4821d646",
   "metadata": {},
   "source": [
    "### Ejercicio 5: Quick Sort con Tres Vías (3-Way Quick Sort)\n",
    "\n",
    "Implementa el Quick Sort con tres vías, que es eficiente para listas con muchos elementos duplicados, dividiendo la lista en tres partes: elementos menores que el pivote, iguales al pivote y mayores que el pivote."
   ]
  },
  {
   "cell_type": "code",
   "execution_count": null,
   "id": "dce7664a",
   "metadata": {},
   "outputs": [],
   "source": [
    "def quick_sort_tres_vias(lista, inicio=0, fin=None):\n",
    "    if fin is None:\n",
    "        fin = len(lista) - 1\n",
    "    if inicio < fin:\n",
    "        lt, gt = particion_tres_vias(lista, inicio, fin)\n",
    "        quick_sort_tres_vias(lista, inicio, lt - 1)\n",
    "        quick_sort_tres_vias(lista, gt + 1, fin)\n",
    "    return lista\n",
    "\n",
    "def particion_tres_vias\n",
    "\n",
    "(lista, inicio, fin):\n",
    "    pivote = lista[inicio]\n",
    "    lt = inicio\n",
    "    gt = fin\n",
    "    i = inicio\n",
    "    while i <= gt:\n",
    "        if lista[i] < pivote:\n",
    "            lista[lt], lista[i] = lista[i], lista[lt]\n",
    "            lt += 1\n",
    "            i += 1\n",
    "        elif lista[i] > pivote:\n",
    "            lista[gt], lista[i] = lista[i], lista[gt]\n",
    "            gt -= 1\n",
    "        else:\n",
    "            i += 1\n",
    "    return lt, gt\n",
    "\n",
    "# Ejemplo de uso\n",
    "mi_lista = [2, 3, 2, 1, 2, 2, 3, 1]\n",
    "quick_sort_tres_vias(mi_lista)\n",
    "print(\"Lista ordenada con Quick Sort de tres vías:\", mi_lista)\n"
   ]
  },
  {
   "cell_type": "markdown",
   "id": "a86697da",
   "metadata": {},
   "source": [
    "Estos ejercicios avanzados sobre Quick Sort te desafían a explorar variaciones y optimizaciones del algoritmo, aplicarlo a estructuras de datos complejas, y evaluar su rendimiento en diferentes contextos. Resolverlos profundizará tu comprensión de Quick Sort y te ayudará a desarrollar habilidades de programación más sofisticadas en Python."
   ]
  }
 ],
 "metadata": {},
 "nbformat": 4,
 "nbformat_minor": 5
}
